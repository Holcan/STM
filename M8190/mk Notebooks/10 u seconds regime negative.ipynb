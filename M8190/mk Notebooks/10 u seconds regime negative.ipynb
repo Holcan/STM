{
 "cells": [
  {
   "cell_type": "code",
   "execution_count": 1,
   "metadata": {},
   "outputs": [],
   "source": [
    "import numpy as np\n",
    "from numpy import loadtxt\n",
    "import pandas as pd\n",
    "import time\n",
    "import matplotlib\n",
    "import matplotlib.pyplot as plt\n",
    "import pyvisa as visa\n",
    "from matplotlib import animation\n",
    "from time import sleep\n",
    "from matplotlib.animation import FuncAnimation\n",
    "#Importing the functions from the module and the pulses dictionaries\n",
    "from Sweeping import *\n",
    "from Dictionaries import *\n",
    "from PulseFiles import *\n",
    "from Instrument import *\n",
    "import pyqtgraph as pg \n",
    "import nidaqmx\n",
    "import pickle"
   ]
  },
  {
   "cell_type": "markdown",
   "metadata": {},
   "source": [
    "# 10 micro"
   ]
  },
  {
   "cell_type": "code",
   "execution_count": null,
   "metadata": {},
   "outputs": [],
   "source": []
  },
  {
   "cell_type": "code",
   "execution_count": 6,
   "metadata": {},
   "outputs": [],
   "source": [
    "modulation = 93 #Hz\n",
    "loop_number = 75    \n",
    "res = 1/3002832000\n",
    "\n",
    "sam, sr , segment_length = Adj9(res,modulation,loop_number)"
   ]
  },
  {
   "cell_type": "code",
   "execution_count": 7,
   "metadata": {},
   "outputs": [
    {
     "data": {
      "text/plain": [
       "215280"
      ]
     },
     "execution_count": 7,
     "metadata": {},
     "output_type": "execute_result"
    }
   ],
   "source": [
    "sam"
   ]
  },
  {
   "cell_type": "code",
   "execution_count": 8,
   "metadata": {},
   "outputs": [
    {
     "data": {
      "text/plain": [
       "3003156000"
      ]
     },
     "execution_count": 8,
     "metadata": {},
     "output_type": "execute_result"
    }
   ],
   "source": [
    "sr"
   ]
  },
  {
   "cell_type": "code",
   "execution_count": 9,
   "metadata": {},
   "outputs": [
    {
     "data": {
      "text/plain": [
       "71.68458781362007"
      ]
     },
     "execution_count": 9,
     "metadata": {},
     "output_type": "execute_result"
    }
   ],
   "source": [
    "interval = segment_length*1e6 #micro\n",
    "interval"
   ]
  },
  {
   "cell_type": "markdown",
   "metadata": {},
   "source": [
    "# AWG and Pulse files setup"
   ]
  },
  {
   "cell_type": "code",
   "execution_count": 2,
   "metadata": {},
   "outputs": [],
   "source": [
    "AWG_Settings_10micro= {\n",
    "    'Visa Resource Name': 'TCPIP0::ibn3-036.ibn-net.kfa-juelich.de::hislip0::INSTR',\n",
    "    'Voltage Amplitude':150,\n",
    "    'Clock Sample Frecuency':3003156000,\n",
    "    'Output_Channel': 1,\n",
    "    'Mode': 'STS',\n",
    "    'Trigger In Threshold' : 1,\n",
    "    'Output Rout': 'DC', #DAC output rout only has the BNC outputs: Direct Out and (Averaged) Direct Out # DC\n",
    "    'Data Directory': r'D:\\Alejandro\\Pulses\\diode measurements\\Prepared Pulse Schemes CSV\\60,30\\neg\\10micro'\n",
    "}"
   ]
  },
  {
   "cell_type": "code",
   "execution_count": null,
   "metadata": {},
   "outputs": [],
   "source": [
    "M8190A = VisaR(AWG_Settings_10micro,60000)"
   ]
  },
  {
   "cell_type": "code",
   "execution_count": null,
   "metadata": {},
   "outputs": [
    {
     "data": {
      "text/plain": [
       "21"
      ]
     },
     "metadata": {},
     "output_type": "display_data"
    }
   ],
   "source": [
    "M8190A.write('FREQ:RAST {a}'.format(a = sr))"
   ]
  },
  {
   "cell_type": "code",
   "execution_count": null,
   "metadata": {},
   "outputs": [
    {
     "name": "stdout",
     "output_type": "stream",
     "text": [
      "Instruments Sampling Frecuency set to 1.25760000000000E+08Hz\n",
      "Instruments Direct Out DAC Output route Voltage set to 7.00000000000000E-01Volts\n",
      "AWG_Settings_Dict set to TRIGGERED Mode\n",
      "Trigger In threshold value set to 1.00000000000000E+00V\n"
     ]
    }
   ],
   "source": [
    "Initialization(M8190A,AWG_Settings_10micro)"
   ]
  },
  {
   "cell_type": "code",
   "execution_count": 10,
   "metadata": {},
   "outputs": [],
   "source": [
    "Pump_10micro = {\n",
    "    'Name':'Pump_10micro',\n",
    "    'Amplitude': -2*60,\n",
    "    'Start time':30,\n",
    "    'End time':2e-10,\n",
    "    'Start Duration':10,\n",
    "    'End Duration':60,\n",
    "    'Sweep time':0,\n",
    "    'Sweep Duration':0\n",
    "}"
   ]
  },
  {
   "cell_type": "code",
   "execution_count": 11,
   "metadata": {},
   "outputs": [],
   "source": [
    "ProbeA_10micro = {\n",
    "    'Name':'ProbeA_10micro',\n",
    "    'Amplitude':-2*30,\n",
    "    'Start time':10,\n",
    "    'End time':50,\n",
    "    'Start Duration':10,\n",
    "    'End Duration':60,\n",
    "    'Sweep time':1,\n",
    "    'Sweep Duration':0\n",
    "}"
   ]
  },
  {
   "cell_type": "code",
   "execution_count": 12,
   "metadata": {},
   "outputs": [],
   "source": [
    "ProbeB_10micro= {\n",
    "    'Name':'ProbeB_10micro',\n",
    "    'Amplitude':2*30,\n",
    "    'Start time':10,\n",
    "    'End time':50,\n",
    "    'Start Duration':10,\n",
    "    'End Duration':60,\n",
    "    'Sweep time':1,\n",
    "    'Sweep Duration':0\n",
    "}"
   ]
  },
  {
   "cell_type": "code",
   "execution_count": 13,
   "metadata": {},
   "outputs": [],
   "source": [
    "PulseScheme_A_10micro =  {\n",
    "    'Name' : 'PulseScheme_A_10micro',\n",
    "    'Pulse Scheme': [Pump_10micro,ProbeA_10micro],\n",
    "    'Number of repetitions': 1,\n",
    "    'Measurement file Path': r'D:\\Alejandro\\Pulses\\diode measurements\\Autocorrelation measurements\\60,30\\neg\\10micro'\n",
    "}"
   ]
  },
  {
   "cell_type": "code",
   "execution_count": 19,
   "metadata": {},
   "outputs": [],
   "source": [
    "PulseScheme_B_10micro =  {\n",
    "    'Name' : 'PulseScheme_B_10micro',\n",
    "    'Pulse Scheme': [Pump_10micro,ProbeB_10micro],\n",
    "    'Number of repetitions': 1,\n",
    "    'Measurement file Path': r'D:\\Alejandro\\Pulses\\diode measurements\\Autocorrelation measurements\\60,30\\neg\\10micro'\n",
    "}"
   ]
  },
  {
   "cell_type": "code",
   "execution_count": 15,
   "metadata": {},
   "outputs": [
    {
     "data": {
      "text/plain": [
       "'D:\\\\Alejandro\\\\Pulses\\\\diode measurements\\\\Autocorrelation measurements\\\\60,30\\\\neg\\\\10micro'"
      ]
     },
     "execution_count": 15,
     "metadata": {},
     "output_type": "execute_result"
    }
   ],
   "source": [
    "PulseScheme_A_10micro['Measurement file Path']"
   ]
  },
  {
   "cell_type": "code",
   "execution_count": null,
   "metadata": {},
   "outputs": [],
   "source": [
    "sweeping_run_a_10micro = Sweeping_Single_List_File_teil(PulseScheme_A_10micro,30,interval,sam,0,30,AWG_Settings_10micro,'A')[0]"
   ]
  },
  {
   "cell_type": "code",
   "execution_count": 29,
   "metadata": {
    "scrolled": true
   },
   "outputs": [
    {
     "data": {
      "image/png": "[encoded data removed]",
      "text/plain": [
       "<Figure size 432x288 with 1 Axes>"
      ]
     },
     "metadata": {
      "needs_background": "light"
     },
     "output_type": "display_data"
    }
   ],
   "source": [
    "step = 30\n",
    "pul1 = Sweep_teil(PulseScheme_A_10micro,30,step,interval,sam)\n",
    "\n",
    "\n",
    "#Plot\n",
    "fig,ax= plt.subplots()\n",
    "ax.grid(True)\n",
    "\n",
    "plt.plot(pul1[1],pul1[0]/2,label= '{b} samples'.format(b = sam),color='red')\n",
    "\n",
    "ax.set_ylabel('V  [mV]')\n",
    "ax.set_xlabel(r't [$\\mu$s]')\n",
    "ax.set_title('Cycle A at step {a}'.format(a = step )) #Voltage Offset = 3mV, Marker Ampl = 50mV \n",
    "#ax.legend(loc=0)\n",
    "#plt.legend(bbox_to_anchor=(2.05, 1), loc='upper left', borderaxespad=0.)\n",
    "plt.show()\n",
    "\n",
    "fig.savefig(r'{loc}\\Cycle A, Probe width 10u {mod} Hz ,{a} step, {loop}loop number.jpeg'.format(loc = PulseScheme_A_10micro['Measurement file Path'], a = step,mod = modulation, loop = loop_number))"
   ]
  },
  {
   "cell_type": "code",
   "execution_count": 31,
   "metadata": {
    "scrolled": true
   },
   "outputs": [
    {
     "data": {
      "image/png": "[encoded data removed]",
      "text/plain": [
       "<Figure size 432x288 with 1 Axes>"
      ]
     },
     "metadata": {
      "needs_background": "light"
     },
     "output_type": "display_data"
    }
   ],
   "source": [
    "step = 30\n",
    "pul1 = Sweep_teil(PulseScheme_B_10micro,30,step,interval,sam)\n",
    "\n",
    "\n",
    "#Plot\n",
    "fig,ax= plt.subplots()\n",
    "ax.grid(True)\n",
    "\n",
    "plt.plot(pul1[1],pul1[0]/2,label= '{b} samples'.format(b = sam),color='red')\n",
    "\n",
    "ax.set_ylabel('V  [mV]')\n",
    "ax.set_xlabel(r't [$\\mu$s]')\n",
    "ax.set_title('Cycle B at step {a}'.format(a = step )) #Voltage Offset = 3mV, Marker Ampl = 50mV \n",
    "#ax.legend(loc=0)\n",
    "#plt.legend(bbox_to_anchor=(2.05, 1), loc='upper left', borderaxespad=0.)\n",
    "plt.show()\n",
    "\n",
    "fig.savefig(r'{loc}\\Cycle A, Probe width 10u {mod} Hz ,{a} step, {loop}loop number.jpeg'.format(loc = PulseScheme_A_10micro['Measurement file Path'], a = step,mod = modulation, loop = loop_number))"
   ]
  },
  {
   "cell_type": "code",
   "execution_count": 21,
   "metadata": {
    "scrolled": true
   },
   "outputs": [
    {
     "data": {
      "image/png": "[encoded data removed]",
      "text/plain": [
       "<Figure size 432x288 with 1 Axes>"
      ]
     },
     "metadata": {
      "needs_background": "light"
     },
     "output_type": "display_data"
    }
   ],
   "source": [
    "step = 30\n",
    "pul1 = Sweep_teil(PulseScheme_B_10micro,30,step,interval,sam)\n",
    "\n",
    "\n",
    "#Plot\n",
    "fig,ax= plt.subplots()\n",
    "ax.grid(True)\n",
    "\n",
    "plt.plot(pul1[1],pul1[0]/2,label= '{b} samples'.format(b = sam),color='red')\n",
    "\n",
    "ax.set_ylabel('V  [mV]')\n",
    "ax.set_xlabel(r't [$\\mu$s]')\n",
    "ax.set_title('Cycle B at step {a}'.format(a = step )) #Voltage Offset = 3mV, Marker Ampl = 50mV \n",
    "#ax.legend(loc=0)\n",
    "#plt.legend(bbox_to_anchor=(2.05, 1), loc='upper left', borderaxespad=0.)\n",
    "plt.show()\n",
    "\n",
    "fig.savefig(r'{loc}\\Cycle B, Probe width 10micro {mod} Hz  ,{a} step, {loop}loop number.jpeg'.format(loc = PulseScheme_A_10micro['Measurement file Path'], a = step,mod = modulation, loop = loop_number))"
   ]
  },
  {
   "cell_type": "code",
   "execution_count": 24,
   "metadata": {},
   "outputs": [],
   "source": [
    "sweeping_run_a_10micro = Sweeping_Single_List_File_teil(PulseScheme_A_10micro,30,interval,sam,0,30,AWG_Settings_10micro,'A')[0]\n",
    "sweeping_run_b_10micro = Sweeping_Single_List_File_teil(PulseScheme_B_10micro,30,interval,sam,0,30,AWG_Settings_10micro,'B')[0]"
   ]
  },
  {
   "cell_type": "code",
   "execution_count": 26,
   "metadata": {},
   "outputs": [],
   "source": [
    "#Exporting pickle\n",
    "\n",
    "with open(r\"{dict}\\cycleA_31steps_93Hz_10micro_.p\".format(dict = PulseScheme_A_10micro['Measurement file Path']), \"wb\") as k:\n",
    "    pickle.dump(sweeping_run_a_10micro, k)\n",
    "\n",
    "\n",
    "with open(r\"{dict}\\cycleB_31steps_93Hz_10micro_.p\".format(dict = PulseScheme_B_10micro['Measurement file Path']), \"wb\") as h:\n",
    "    pickle.dump(sweeping_run_b_10micro, h)"
   ]
  },
  {
   "cell_type": "code",
   "execution_count": null,
   "metadata": {},
   "outputs": [],
   "source": [
    "#Importing Pickle\n",
    "\n",
    "with open(r\"{dict}\\cycleA_31steps_93Hz_10micro_.p\".format(dict = PulseScheme_A_10micro['Measurement file Path']), \"rb\") as j:\n",
    "    sweeping_runa_10micro = pickle.load(j)\n",
    "\n",
    "with open(r\"{dict}\\cycleB_31steps_93Hz_10micro_.p\".format(dict = PulseScheme_A_10micro['Measurement file Path']), \"rb\") as f:\n",
    "    sweeping_runb_10micro= pickle.load(f)"
   ]
  },
  {
   "cell_type": "code",
   "execution_count": null,
   "metadata": {},
   "outputs": [
    {
     "data": {
      "text/plain": [
       "'D:\\\\Alejandro\\\\Pulses\\\\diode measurements\\\\Prepared Pulse Schemes CSV\\\\50,20\\\\1mili\\\\SegmentA_672816_30.csv'"
      ]
     },
     "metadata": {},
     "output_type": "display_data"
    }
   ],
   "source": [
    "sweeping_run_a_10micro['Pulse File Location, at step 30']"
   ]
  },
  {
   "cell_type": "code",
   "execution_count": null,
   "metadata": {},
   "outputs": [
    {
     "data": {
      "text/plain": [
       "'D:\\\\Alejandro\\\\Pulses\\\\diode measurements\\\\Prepared Pulse Schemes CSV\\\\50,20\\\\1mili\\\\SegmentB_672816_30.csv'"
      ]
     },
     "metadata": {},
     "output_type": "display_data"
    }
   ],
   "source": [
    "sweeping_run_b_10micro['Pulse File Location, at step 30']"
   ]
  },
  {
   "cell_type": "code",
   "execution_count": null,
   "metadata": {},
   "outputs": [
    {
     "data": {
      "text/plain": [
       "75"
      ]
     },
     "metadata": {},
     "output_type": "display_data"
    }
   ],
   "source": [
    "loop_micro"
   ]
  },
  {
   "cell_type": "code",
   "execution_count": null,
   "metadata": {},
   "outputs": [
    {
     "name": "stdout",
     "output_type": "stream",
     "text": [
      "Sequence loaded with the following segment data \"1,8,0,1,0,1919999,2,8,0,1,0,1919999\" and the advancement method is COND\n"
     ]
    },
    {
     "data": {
      "text/plain": [
       "0"
      ]
     },
     "metadata": {},
     "output_type": "display_data"
    }
   ],
   "source": [
    "Sequence_File(M8190A,sweeping_runa_10micro['Pulse File Location, at step 30'],sweeping_runb_10micro['Pulse File Location, at step 30'],75)"
   ]
  },
  {
   "cell_type": "markdown",
   "metadata": {},
   "source": [
    "# Loading"
   ]
  },
  {
   "cell_type": "code",
   "execution_count": null,
   "metadata": {
    "scrolled": true
   },
   "outputs": [
    {
     "data": {
      "text/plain": [
       "12"
      ]
     },
     "metadata": {},
     "output_type": "display_data"
    }
   ],
   "source": [
    "M8190A.write('SEQ:DEL:ALL')"
   ]
  },
  {
   "cell_type": "code",
   "execution_count": null,
   "metadata": {},
   "outputs": [
    {
     "name": "stdout",
     "output_type": "stream",
     "text": [
      "Dummy File Loaded and playing\n",
      "Dummy File stopped and erased from AWGs memmory\n"
     ]
    }
   ],
   "source": [
    "Dummy_File(M8190A)"
   ]
  },
  {
   "cell_type": "code",
   "execution_count": null,
   "metadata": {},
   "outputs": [],
   "source": [
    "Lock_In_Settings = {\n",
    "'Time Constant' : '100ms',\n",
    "'Sensitivity' : '200 miliVolts',\n",
    "'Reserve' : 'Normal',\n",
    "'db' : 24,\n",
    "'Modulation': r'{mod}Hz'.format(mod=modulation)\n",
    "}"
   ]
  },
  {
   "cell_type": "code",
   "execution_count": null,
   "metadata": {},
   "outputs": [],
   "source": [
    "loop_number"
   ]
  },
  {
   "cell_type": "code",
   "execution_count": null,
   "metadata": {},
   "outputs": [
    {
     "name": "stdout",
     "output_type": "stream",
     "text": [
      "Sequence loaded with the following segment data \"1,75,0,1,0,222431,2,75,0,1,0,222431\" and the advancement method is COND\n",
      "Average Value for measurement at step 0 is -0.0058006285248500145 V\n",
      "Sequence loaded with the following segment data \"1,75,0,1,0,222431,2,75,0,1,0,222431\" and the advancement method is COND\n",
      "Average Value for measurement at step 1 is 0.23105345932950375 V\n",
      "Sequence loaded with the following segment data \"1,75,0,1,0,222431,2,75,0,1,0,222431\" and the advancement method is COND\n",
      "Average Value for measurement at step 2 is 0.23134240706036804 V\n",
      "Sequence loaded with the following segment data \"1,75,0,1,0,222431,2,75,0,1,0,222431\" and the advancement method is COND\n",
      "Average Value for measurement at step 3 is 0.233210681584823 V\n",
      "Sequence loaded with the following segment data \"1,75,0,1,0,222431,2,75,0,1,0,222431\" and the advancement method is COND\n",
      "Average Value for measurement at step 4 is 0.23416394210029293 V\n",
      "Sequence loaded with the following segment data \"1,75,0,1,0,222431,2,75,0,1,0,222431\" and the advancement method is COND\n",
      "Average Value for measurement at step 5 is 0.23537349475996228 V\n",
      "Sequence loaded with the following segment data \"1,75,0,1,0,222431,2,75,0,1,0,222431\" and the advancement method is COND\n",
      "Average Value for measurement at step 6 is 0.23661115675662087 V\n",
      "Sequence loaded with the following segment data \"1,75,0,1,0,222431,2,75,0,1,0,222431\" and the advancement method is COND\n",
      "Average Value for measurement at step 7 is 0.23711223033765755 V\n",
      "Sequence loaded with the following segment data \"1,75,0,1,0,222431,2,75,0,1,0,222431\" and the advancement method is COND\n",
      "Average Value for measurement at step 8 is 0.23902503873877126 V\n",
      "Sequence loaded with the following segment data \"1,75,0,1,0,222431,2,75,0,1,0,222431\" and the advancement method is COND\n",
      "Average Value for measurement at step 9 is 0.240238808772709 V\n",
      "Sequence loaded with the following segment data \"1,75,0,1,0,222431,2,75,0,1,0,222431\" and the advancement method is COND\n",
      "Average Value for measurement at step 10 is 0.2420019006269026 V\n",
      "Sequence loaded with the following segment data \"1,75,0,1,0,222431,2,75,0,1,0,222431\" and the advancement method is COND\n",
      "Average Value for measurement at step 11 is 0.24337430559792436 V\n",
      "Sequence loaded with the following segment data \"1,75,0,1,0,222431,2,75,0,1,0,222431\" and the advancement method is COND\n",
      "Average Value for measurement at step 12 is 0.2449992689921147 V\n",
      "Sequence loaded with the following segment data \"1,75,0,1,0,222431,2,75,0,1,0,222431\" and the advancement method is COND\n",
      "Average Value for measurement at step 13 is 0.2455208103534092 V\n",
      "Sequence loaded with the following segment data \"1,75,0,1,0,222431,2,75,0,1,0,222431\" and the advancement method is COND\n",
      "Average Value for measurement at step 14 is 0.2457181367341102 V\n",
      "Sequence loaded with the following segment data \"1,75,0,1,0,222431,2,75,0,1,0,222431\" and the advancement method is COND\n",
      "Average Value for measurement at step 15 is 0.24604277732137203 V\n",
      "Sequence loaded with the following segment data \"1,75,0,1,0,222431,2,75,0,1,0,222431\" and the advancement method is COND\n",
      "Average Value for measurement at step 16 is 0.24674609110289053 V\n",
      "Sequence loaded with the following segment data \"1,75,0,1,0,222431,2,75,0,1,0,222431\" and the advancement method is COND\n",
      "Average Value for measurement at step 17 is 0.24568706750185276 V\n",
      "Sequence loaded with the following segment data \"1,75,0,1,0,222431,2,75,0,1,0,222431\" and the advancement method is COND\n",
      "Average Value for measurement at step 18 is 0.24531648082116647 V\n",
      "Sequence loaded with the following segment data \"1,75,0,1,0,222431,2,75,0,1,0,222431\" and the advancement method is COND\n",
      "Average Value for measurement at step 19 is 0.24411420213994756 V\n",
      "Sequence loaded with the following segment data \"1,75,0,1,0,222431,2,75,0,1,0,222431\" and the advancement method is COND\n",
      "Average Value for measurement at step 20 is 0.24330526071056235 V\n",
      "Sequence loaded with the following segment data \"1,75,0,1,0,222431,2,75,0,1,0,222431\" and the advancement method is COND\n",
      "Average Value for measurement at step 21 is 0.2429703862365316 V\n",
      "Sequence loaded with the following segment data \"1,75,0,1,0,222431,2,75,0,1,0,222431\" and the advancement method is COND\n",
      "Average Value for measurement at step 22 is 0.2421515011065179 V\n",
      "Sequence loaded with the following segment data \"1,75,0,1,0,222431,2,75,0,1,0,222431\" and the advancement method is COND\n",
      "Average Value for measurement at step 23 is 0.2411098499716222 V\n",
      "Sequence loaded with the following segment data \"1,75,0,1,0,222431,2,75,0,1,0,222431\" and the advancement method is COND\n",
      "Average Value for measurement at step 24 is 0.24078927198812203 V\n",
      "Sequence loaded with the following segment data \"1,75,0,1,0,222431,2,75,0,1,0,222431\" and the advancement method is COND\n",
      "Average Value for measurement at step 25 is 0.23995769606520942 V\n",
      "Sequence loaded with the following segment data \"1,75,0,1,0,222431,2,75,0,1,0,222431\" and the advancement method is COND\n",
      "Average Value for measurement at step 26 is 0.23969018340147405 V\n",
      "Sequence loaded with the following segment data \"1,75,0,1,0,222431,2,75,0,1,0,222431\" and the advancement method is COND\n",
      "Average Value for measurement at step 27 is 0.23928342022079116 V\n",
      "Sequence loaded with the following segment data \"1,75,0,1,0,222431,2,75,0,1,0,222431\" and the advancement method is COND\n",
      "Average Value for measurement at step 28 is 0.2384011391588452 V\n",
      "Sequence loaded with the following segment data \"1,75,0,1,0,222431,2,75,0,1,0,222431\" and the advancement method is COND\n",
      "Average Value for measurement at step 29 is 0.23717146694357943 V\n",
      "Sequence loaded with the following segment data \"1,75,0,1,0,222431,2,75,0,1,0,222431\" and the advancement method is COND\n",
      "Average Value for measurement at step 30 is 0.23755987103110457 V\n"
     ]
    }
   ],
   "source": [
    "playingtime = 7\n",
    "\n",
    "data, averaged_data = Voltage_Autocorrelation_loop_cut(M8190A,DAQ_Settings1,playingtime,sweeping_run_a_10micro,sweeping_run_b_10micro,PulseScheme_A_10micro['Measurement file Path'],Lock_In_Settings,loop_number,2)"
   ]
  },
  {
   "cell_type": "code",
   "execution_count": null,
   "metadata": {},
   "outputs": [
    {
     "data": {
      "image/png": "[encoded data removed]",
      "text/plain": [
       "<Figure size 432x288 with 1 Axes>"
      ]
     },
     "metadata": {},
     "output_type": "display_data"
    }
   ],
   "source": [
    "fig,ax= plt.subplots()\n",
    "ax.grid(True)\n",
    "for i in range(0,len(data)):\n",
    "    plt.plot(data[i][1],data[i][0],label= 'Step {st}'.format(st = i ))\n",
    "\n",
    "ax.set_ylabel(r'V  [arb. U]')\n",
    "ax.set_xlabel('t  [s]')\n",
    "ax.set_title(r' STM Signal at Different Steps,  {b} Samples, 10$\\mu$s probe duration'.format(b = len(data[0][1]) ))\n",
    "#ax.legend(bbox_to_anchor=(1.05, 1), loc='upper left', borderaxespad=0.)\n",
    "#ax.legend(loc=0)\n",
    "plt.show()\n",
    "\n",
    "fig.savefig(r'{loc}\\STM Signal time cstant = {a}, sensitivity {b},{c} daqseconds, , probe duration 10micro ,{st} steps, {mod} Hz.jpeg'.format(mod = modulation ,loc = PulseScheme_A_10micro['Measurement file Path'],a = Lock_In_Settings['Time Constant'], b = Lock_In_Settings['Sensitivity'], c = playingtime, st = len (sweeping_run_a_10micro)),bbox_inches='tight')"
   ]
  },
  {
   "cell_type": "code",
   "execution_count": null,
   "metadata": {},
   "outputs": [],
   "source": [
    "time_delay = np.linspace(-20,20,31)"
   ]
  },
  {
   "cell_type": "code",
   "execution_count": null,
   "metadata": {},
   "outputs": [],
   "source": [
    "%matplotlib widget"
   ]
  },
  {
   "cell_type": "code",
   "execution_count": null,
   "metadata": {
    "scrolled": true
   },
   "outputs": [
    {
     "data": {
      "application/vnd.jupyter.widget-view+json": {
       "model_id": "13dafa6d1cc74462b31ad1f3aea66cef",
       "version_major": 2,
       "version_minor": 0
      },
      "text/plain": [
       "Canvas(toolbar=Toolbar(toolitems=[('Home', 'Reset original view', 'home', 'home'), ('Back', 'Back to previous …"
      ]
     },
     "metadata": {},
     "output_type": "display_data"
    }
   ],
   "source": [
    "fig,axes = plt.subplots()\n",
    "\n",
    "axes.grid(True)\n",
    "\n",
    "plt.plot(time_delay,averaged_data,label=r'10$\\mu$s Probe Width ',color='red')\n",
    "#plt.plot(tm,pul,label = '{a} samples'.format(a = len(pul)))\n",
    "\n",
    "axes.set_xlabel(r'time delay [$\\mu$s]')\n",
    "axes.set_ylabel(r'STM Signal [arb. units]')\n",
    "axes.set_title(r'Auto-Correlation {st} steps '.format(st = len (time_delay)))\n",
    "\n",
    "axes.legend(loc = 0)\n",
    "plt.show()\n",
    "\n",
    "\n",
    "fig.savefig(r'{loc}\\Measured Autocorrelation function {st} steps 10micro {mod} Hz length tc = {a}, sens {b}, {c}s DAQ, {loop} loop number .jpeg'.format(loc = PulseScheme_A_10micro['Measurement file Path'],a = Lock_In_Settings['Time Constant'], b = Lock_In_Settings['Sensitivity'], c = playingtime, loop =loop_number,st = len (time_delay), mod = modulation ))"
   ]
  },
  {
   "cell_type": "code",
   "execution_count": 16,
   "metadata": {},
   "outputs": [],
   "source": [
    "background_10u = Signal_to_Background(averaged_data,time_delay,8,8)\n",
    "background_10u"
   ]
  },
  {
   "cell_type": "code",
   "execution_count": 23,
   "metadata": {
    "scrolled": true
   },
   "outputs": [
    {
     "data": {
      "image/png": "[encoded data removed]",
      "text/plain": [
       "<Figure size 432x288 with 1 Axes>"
      ]
     },
     "metadata": {
      "needs_background": "light"
     },
     "output_type": "display_data"
    }
   ],
   "source": [
    "\n",
    "\n",
    "fig,axes = plt.subplots()\n",
    "\n",
    "axes.grid(True)\n",
    "\n",
    "plt.plot(time_delay,background_10u[0],'.-',label=r'10 $\\mu$s Pulse Width ',color='green')\n",
    "#plt.plot(tm,pul,label = '{a} samples'.format(a = len(pul)))\n",
    "\n",
    "axes.set_xlabel(r'time delay [$\\mu$s]')\n",
    "axes.set_ylabel(r'STM Signal [arb Units]')\n",
    "axes.set_title(r'Auto-Correlation {st} steps '.format(st = len (time_delay)))\n",
    "\n",
    "axes.legend(loc = 0)\n",
    "plt.show()\n",
    "\n",
    "fig.savefig(r'{loc}\\background corrected Autocorrelation function {st} steps 10micro {mod} Hz length tc = {a}, sens {b}, {c}s DAQ, {loop} loop number .jpeg'.format(loc = PulseScheme_A_10micro['Measurement file Path'],a = Lock_In_Settings['Time Constant'], b = Lock_In_Settings['Sensitivity'], c = playingtime, loop =loop_number,st = len (time_delay), mod = modulation ))"
   ]
  },
  {
   "cell_type": "code",
   "execution_count": 25,
   "metadata": {
    "scrolled": true
   },
   "outputs": [
    {
     "data": {
      "image/png": "[encoded data removed]",
      "text/plain": [
       "<Figure size 432x288 with 1 Axes>"
      ]
     },
     "metadata": {
      "needs_background": "light"
     },
     "output_type": "display_data"
    }
   ],
   "source": [
    "norm_10u=(background_10u[0]-1)/(np.amax(background_10u[0]-1))\n",
    "np.savetxt(r'Averaged\\Signal to background\\Normalized autocorrelation 10u.csv',norm_10u,delimiter=',')\n",
    "\n",
    "\n",
    "\n",
    "fig,axes = plt.subplots()\n",
    "\n",
    "axes.grid(True)\n",
    "\n",
    "\n",
    "plt.plot(time_delay,norm_10u,'.-',label=r'10 $\\mu$s Pulse Width ',color='green')\n",
    "\n",
    "\n",
    "axes.set_xlabel(r'time delay [$\\mu$s]')\n",
    "axes.set_ylabel(r'STM Signal [arb. units]')\n",
    "axes.set_title(r'Auto-Correlation {st} steps '.format(st = len (time_delay)))\n",
    "\n",
    "axes.legend(loc = 0)\n",
    "plt.show()\n",
    "\n",
    "fig.savefig(r'{loc}\\Normalized Autocorrelation function {st} steps 10micro {mod} Hz length tc = {a}, sens {b}, {c}s DAQ, {loop} loop number .jpeg'.format(loc = PulseScheme_A_10micro['Measurement file Path'],a = Lock_In_Settings['Time Constant'], b = Lock_In_Settings['Sensitivity'], c = playingtime, loop =loop_number,st = len (time_delay), mod = modulation ))"
   ]
  },
  {
   "cell_type": "code",
   "execution_count": null,
   "metadata": {},
   "outputs": [],
   "source": []
  }
 ],
 "metadata": {
  "interpreter": {
   "hash": "9a32f0bf53af15acd232504180dc0ef28b8a6ac1a49da0a6c374e1f45bb445b6"
  },
  "kernelspec": {
   "display_name": "Python 3.8.5 64-bit ('base': conda)",
   "name": "python3"
  },
  "language_info": {
   "codemirror_mode": {
    "name": "ipython",
    "version": 3
   },
   "file_extension": ".py",
   "mimetype": "text/x-python",
   "name": "python",
   "nbconvert_exporter": "python",
   "pygments_lexer": "ipython3",
   "version": "3.8.5"
  },
  "orig_nbformat": 4
 },
 "nbformat": 4,
 "nbformat_minor": 2
}
