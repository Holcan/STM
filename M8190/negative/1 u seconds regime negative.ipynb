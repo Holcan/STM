{
 "cells": [
  {
   "cell_type": "code",
   "execution_count": null,
   "source": [
    "import numpy as np\r\n",
    "from numpy import loadtxt\r\n",
    "import pandas as pd\r\n",
    "import time\r\n",
    "import matplotlib\r\n",
    "import matplotlib.pyplot as plt\r\n",
    "import pyvisa as visa\r\n",
    "from matplotlib import animation\r\n",
    "from time import sleep\r\n",
    "from matplotlib.animation import FuncAnimation\r\n",
    "#Importing the functions from the module and the pulses dictionaries\r\n",
    "from Sweeping import *\r\n",
    "from Dictionaries import *\r\n",
    "from PulseFiles import *\r\n",
    "from Instrument import *\r\n",
    "import pyqtgraph as pg \r\n",
    "import nidaqmx\r\n",
    "import pickle"
   ],
   "outputs": [],
   "metadata": {}
  },
  {
   "cell_type": "markdown",
   "source": [
    "# 1 micro"
   ],
   "metadata": {}
  },
  {
   "cell_type": "code",
   "execution_count": null,
   "source": [
    "Sr = 3000240000\r\n",
    "sam = 22224\r\n",
    "\r\n",
    "tim = sam/Sr"
   ],
   "outputs": [],
   "metadata": {}
  },
  {
   "cell_type": "code",
   "execution_count": null,
   "source": [
    "interval = tim*1e6 #micro"
   ],
   "outputs": [],
   "metadata": {}
  },
  {
   "cell_type": "code",
   "execution_count": null,
   "source": [
    "interval"
   ],
   "outputs": [
    {
     "output_type": "display_data",
     "data": {
      "text/plain": [
       "74.07407407407408"
      ]
     },
     "metadata": {}
    }
   ],
   "metadata": {}
  },
  {
   "cell_type": "code",
   "execution_count": null,
   "source": [
    "modulation = 93 #Hz\r\n",
    "loop_number = 750    \r\n",
    "res = 1/3000240000\r\n",
    "\r\n",
    "sam, sr , segment_length = Adj9(res,modulation,loop_number)"
   ],
   "outputs": [],
   "metadata": {}
  },
  {
   "cell_type": "code",
   "execution_count": null,
   "source": [
    "sam"
   ],
   "outputs": [
    {
     "output_type": "display_data",
     "data": {
      "text/plain": [
       "288"
      ]
     },
     "metadata": {}
    }
   ],
   "metadata": {}
  },
  {
   "cell_type": "code",
   "execution_count": null,
   "source": [
    "sr"
   ],
   "outputs": [
    {
     "output_type": "display_data",
     "data": {
      "text/plain": [
       "6149713536"
      ]
     },
     "metadata": {}
    }
   ],
   "metadata": {}
  },
  {
   "cell_type": "code",
   "execution_count": null,
   "source": [
    "interval = segment_length*1e6 #micro\r\n",
    "interval"
   ],
   "outputs": [
    {
     "output_type": "display_data",
     "data": {
      "text/plain": [
       "46.83144967876435"
      ]
     },
     "metadata": {}
    }
   ],
   "metadata": {}
  },
  {
   "cell_type": "code",
   "execution_count": 3,
   "source": [
    "150/1000"
   ],
   "outputs": [
    {
     "output_type": "execute_result",
     "data": {
      "text/plain": [
       "0.15"
      ]
     },
     "metadata": {},
     "execution_count": 3
    }
   ],
   "metadata": {}
  },
  {
   "cell_type": "markdown",
   "source": [
    "# AWG and Pulse files setup"
   ],
   "metadata": {}
  },
  {
   "cell_type": "code",
   "execution_count": null,
   "source": [
    "AWG_Settings_1micro= {\r\n",
    "    'Visa Resource Name': 'TCPIP0::ibn3-036.ibn-net.kfa-juelich.de::hislip0::INSTR',\r\n",
    "    'Voltage Amplitude':150,\r\n",
    "    'Clock Sample Frecuency':3072000000,\r\n",
    "    'Output_Channel': 1,\r\n",
    "    'Mode': 'STS',\r\n",
    "    'Trigger In Threshold' : 1,\r\n",
    "    'Output Rout': 'DAC', #DAC output rout only has the BNC outputs: Direct Out and (Averaged) Direct Out # DC\r\n",
    "    'Data Directory': r'D:\\Alejandro\\Pulses\\diode measurements\\Prepared Pulse Schemes CSV\\60,30\\neg\\1micro'\r\n",
    "}"
   ],
   "outputs": [],
   "metadata": {}
  },
  {
   "cell_type": "code",
   "execution_count": null,
   "source": [
    "M8190A = VisaR(AWG_Settings_1micro,60000)"
   ],
   "outputs": [],
   "metadata": {}
  },
  {
   "cell_type": "code",
   "execution_count": null,
   "source": [
    "Initialization(M8190A,AWG_Settings_1micro)"
   ],
   "outputs": [
    {
     "output_type": "stream",
     "name": "stdout",
     "text": [
      "Instruments Sampling Frecuency set to 1.25760000000000E+08Hz\n",
      "Instruments Direct Out DAC Output route Voltage set to 7.00000000000000E-01Volts\n",
      "AWG_Settings_Dict set to TRIGGERED Mode\n",
      "Trigger In threshold value set to 1.00000000000000E+00V\n"
     ]
    }
   ],
   "metadata": {}
  },
  {
   "cell_type": "code",
   "execution_count": null,
   "source": [
    "Pump_1micro = {\r\n",
    "    'Name':'Pump_1micro',\r\n",
    "    'Amplitude':-2*60,\r\n",
    "    'Start time':2,\r\n",
    "    'End time':2e-10,\r\n",
    "    'Start Duration':1,\r\n",
    "    'End Duration':60,\r\n",
    "    'Sweep time':0,\r\n",
    "    'Sweep Duration':0\r\n",
    "}"
   ],
   "outputs": [],
   "metadata": {}
  },
  {
   "cell_type": "code",
   "execution_count": null,
   "source": [
    "ProbeA_1micro = {\r\n",
    "    'Name':'ProbeA_1micro',\r\n",
    "    'Amplitude':-2*30,\r\n",
    "    'Start time':0,\r\n",
    "    'End time':4,\r\n",
    "    'Start Duration':1,\r\n",
    "    'End Duration':60,\r\n",
    "    'Sweep time':1,\r\n",
    "    'Sweep Duration':0\r\n",
    "}"
   ],
   "outputs": [],
   "metadata": {}
  },
  {
   "cell_type": "code",
   "execution_count": null,
   "source": [
    "ProbeB_1micro= {\r\n",
    "    'Name':'ProbeB_1micro',\r\n",
    "    'Amplitude':2*30,\r\n",
    "    'Start time':0,\r\n",
    "    'End time':4,\r\n",
    "    'Start Duration':1,\r\n",
    "    'End Duration':60,\r\n",
    "    'Sweep time':1,\r\n",
    "    'Sweep Duration':0\r\n",
    "}"
   ],
   "outputs": [],
   "metadata": {}
  },
  {
   "cell_type": "code",
   "execution_count": null,
   "source": [
    "PulseScheme_A_1micro =  {\r\n",
    "    'Name' : 'PulseScheme_A_1micro',\r\n",
    "    'Pulse Scheme': [Pump_1micro,ProbeA_1micro],\r\n",
    "    'Number of repetitions': 1,\r\n",
    "    'Measurement file Path': r'D:\\Alejandro\\Pulses\\diode measurements\\Autocorrelation measurements\\60,30\\neg\\1micro'\r\n",
    "}"
   ],
   "outputs": [],
   "metadata": {}
  },
  {
   "cell_type": "code",
   "execution_count": null,
   "source": [
    "PulseScheme_B_1micro =  {\r\n",
    "    'Name' : 'PulseScheme_B_1micro',\r\n",
    "    'Pulse Scheme': [Pump_1micro,ProbeB_1micro],\r\n",
    "    'Number of repetitions': 1,\r\n",
    "    'Measurement file Path': r'D:\\Alejandro\\Pulses\\diode measurements\\Autocorrelation measurements\\60,30\\neg\\1micro'\r\n",
    "}"
   ],
   "outputs": [],
   "metadata": {}
  },
  {
   "cell_type": "code",
   "execution_count": null,
   "source": [
    "93"
   ],
   "outputs": [],
   "metadata": {}
  },
  {
   "cell_type": "code",
   "execution_count": null,
   "source": [
    "step = 30\r\n",
    "pul1 = Sweep_teil(PulseScheme_A_1micro,30,step,interval,sam)\r\n",
    "\r\n",
    "\r\n",
    "#Plot\r\n",
    "fig,ax= plt.subplots()\r\n",
    "ax.grid(True)\r\n",
    "\r\n",
    "plt.plot(pul1[1],pul1[0],label= '{b} samples'.format(b = sam),color='orange')\r\n",
    "\r\n",
    "ax.set_ylabel('V  [mV]')\r\n",
    "ax.set_xlabel(r't [$\\mu$s]')\r\n",
    "ax.set_title('Cycle A at step {a}'.format(a = step )) #Voltage Offset = 3mV, Marker Ampl = 50mV \r\n",
    "#ax.legend(loc=0)\r\n",
    "#plt.legend(bbox_to_anchor=(2.05, 1), loc='upper left', borderaxespad=0.)\r\n",
    "plt.show()\r\n",
    "\r\n",
    "fig.savefig(r'{loc}\\Cycle A, Probe width 1micro 90Hz.jpeg'.format(loc = PulseScheme_A_1micro['Measurement file Path']),bbox_inches='tight')"
   ],
   "outputs": [
    {
     "output_type": "display_data",
     "data": {
      "image/png": "[encoded data removed]",
      "text/plain": [
       "<Figure size 432x288 with 1 Axes>"
      ]
     },
     "metadata": {}
    }
   ],
   "metadata": {}
  },
  {
   "cell_type": "code",
   "execution_count": null,
   "source": [
    "sweeping_run_a_1micro = Sweeping_Single_List_File_teil(PulseScheme_A_1micro,30,interval,sam,0,30,AWG_Settings_1micro,'A')[0]"
   ],
   "outputs": [],
   "metadata": {}
  },
  {
   "cell_type": "code",
   "execution_count": null,
   "source": [
    "sweeping_run_b_1micro = Sweeping_Single_List_File_teil(PulseScheme_B_1micro,30,interval,sam,0,30,AWG_Settings_1micro,'B')[0]"
   ],
   "outputs": [],
   "metadata": {}
  },
  {
   "cell_type": "code",
   "execution_count": null,
   "source": [
    "#Exporting pickle\r\n",
    "\r\n",
    "with open(r\"{dict}\\cycleA_31steps_90Hz_1micro_.p\".format(dict = PulseScheme_A_1micro['Measurement file Path']), \"wb\") as k:\r\n",
    "    pickle.dump(sweeping_run_a_1micro, k)\r\n",
    "\r\n",
    "\r\n",
    "with open(r\"{dict}\\cycleB_31steps_90Hz_1micro_.p\".format(dict = PulseScheme_B_1micro['Measurement file Path']), \"wb\") as h:\r\n",
    "    pickle.dump(sweeping_run_b_1micro, h)"
   ],
   "outputs": [],
   "metadata": {}
  },
  {
   "cell_type": "code",
   "execution_count": null,
   "source": [
    "#Importing Pickle\r\n",
    "\r\n",
    "with open(r\"{dict}\\cycleA_31steps_100Hz_1micro_3072000000.p\".format(dict = PulseScheme_A_1micro['Measurement file Path']), \"rb\") as j:\r\n",
    "    sweeping_runa_1micro = pickle.load(j)\r\n",
    "\r\n",
    "with open(r\"{dict}\\cycleB_31steps_100Hz_1micro_3072000000.p\".format(dict = PulseScheme_A_1micro['Measurement file Path']), \"rb\") as f:\r\n",
    "    sweeping_runb_1micro= pickle.load(f)"
   ],
   "outputs": [],
   "metadata": {}
  },
  {
   "cell_type": "code",
   "execution_count": null,
   "source": [
    "sweeping_run_a_1micro['Pulse File Location, at step 30']"
   ],
   "outputs": [
    {
     "output_type": "display_data",
     "data": {
      "text/plain": [
       "'D:\\\\Alejandro\\\\Pulses\\\\diode measurements\\\\Prepared Pulse Schemes CSV\\\\50,20\\\\1mili\\\\SegmentA_672816_30.csv'"
      ]
     },
     "metadata": {}
    }
   ],
   "metadata": {}
  },
  {
   "cell_type": "code",
   "execution_count": null,
   "source": [
    "sweeping_run_b_1micro['Pulse File Location, at step 30']"
   ],
   "outputs": [
    {
     "output_type": "display_data",
     "data": {
      "text/plain": [
       "'D:\\\\Alejandro\\\\Pulses\\\\diode measurements\\\\Prepared Pulse Schemes CSV\\\\50,20\\\\1mili\\\\SegmentB_672816_30.csv'"
      ]
     },
     "metadata": {}
    }
   ],
   "metadata": {}
  },
  {
   "cell_type": "code",
   "execution_count": null,
   "source": [
    "loop_1micro"
   ],
   "outputs": [
    {
     "output_type": "display_data",
     "data": {
      "text/plain": [
       "750"
      ]
     },
     "metadata": {}
    }
   ],
   "metadata": {}
  },
  {
   "cell_type": "code",
   "execution_count": null,
   "source": [
    "Sequence_File(M8190A,sweeping_runa_1micro['Pulse File Location, at step 30'],sweeping_runb_1micro['Pulse File Location, at step 30'],50)"
   ],
   "outputs": [
    {
     "output_type": "stream",
     "name": "stdout",
     "text": [
      "Sequence loaded with the following segment data \"1,8,0,1,0,1919999,2,8,0,1,0,1919999\" and the advancement method is COND\n"
     ]
    },
    {
     "output_type": "display_data",
     "data": {
      "text/plain": [
       "0"
      ]
     },
     "metadata": {}
    }
   ],
   "metadata": {}
  },
  {
   "cell_type": "markdown",
   "source": [
    "# Loading"
   ],
   "metadata": {}
  },
  {
   "cell_type": "code",
   "execution_count": null,
   "source": [
    "M8190A.write('SEQ:DEL:ALL')"
   ],
   "outputs": [
    {
     "output_type": "display_data",
     "data": {
      "text/plain": [
       "12"
      ]
     },
     "metadata": {}
    }
   ],
   "metadata": {}
  },
  {
   "cell_type": "code",
   "execution_count": null,
   "source": [
    "Dummy_File(M8190A)"
   ],
   "outputs": [
    {
     "output_type": "stream",
     "name": "stdout",
     "text": [
      "Dummy File Loaded and playing\n",
      "Dummy File stopped and erased from AWGs memmory\n"
     ]
    }
   ],
   "metadata": {}
  },
  {
   "cell_type": "code",
   "execution_count": null,
   "source": [
    "Lock_In_Settings = {\r\n",
    "'Time Constant' : '30ms',\r\n",
    "'Sensitivity' : '500 microVolts',\r\n",
    "'Reserve' : 'Normal',\r\n",
    "'db' : 24,\r\n",
    "'Modulation': '100Hz'\r\n",
    "}"
   ],
   "outputs": [],
   "metadata": {}
  },
  {
   "cell_type": "code",
   "execution_count": null,
   "source": [
    "playingtime = 10\r\n",
    "\r\n",
    "Diode_Signal, averaged_data = Voltage_Autocorrelation_loop(M8190A,DAQ_Settings1,playingtime,sweeping_run_a_1micro,sweeping_run_b_1micro,PulseScheme_A_1micro['Measurement file Path'],Lock_In_Settings,750)"
   ],
   "outputs": [
    {
     "output_type": "stream",
     "name": "stdout",
     "text": [
      "Sequence loaded with the following segment data \"1,750,0,1,0,22799,2,750,0,1,0,22799\" and the advancement method is COND\n",
      "Average Value for measurement at step 0 is 1.777102556560277 V\n",
      "Sequence loaded with the following segment data \"1,750,0,1,0,22799,2,750,0,1,0,22799\" and the advancement method is COND\n",
      "Average Value for measurement at step 1 is 1.7772173350183353 V\n",
      "Sequence loaded with the following segment data \"1,750,0,1,0,22799,2,750,0,1,0,22799\" and the advancement method is COND\n",
      "Average Value for measurement at step 2 is 1.7768625225284647 V\n",
      "Sequence loaded with the following segment data \"1,750,0,1,0,22799,2,750,0,1,0,22799\" and the advancement method is COND\n",
      "Average Value for measurement at step 3 is 1.7770204310002273 V\n",
      "Sequence loaded with the following segment data \"1,750,0,1,0,22799,2,750,0,1,0,22799\" and the advancement method is COND\n",
      "Average Value for measurement at step 4 is 1.7778581305080838 V\n",
      "Sequence loaded with the following segment data \"1,750,0,1,0,22799,2,750,0,1,0,22799\" and the advancement method is COND\n",
      "Average Value for measurement at step 5 is 1.778304042231762 V\n",
      "Sequence loaded with the following segment data \"1,750,0,1,0,22799,2,750,0,1,0,22799\" and the advancement method is COND\n",
      "Average Value for measurement at step 6 is 1.7786325444735875 V\n",
      "Sequence loaded with the following segment data \"1,750,0,1,0,22799,2,750,0,1,0,22799\" and the advancement method is COND\n",
      "Average Value for measurement at step 7 is 1.7792668563686584 V\n",
      "Sequence loaded with the following segment data \"1,750,0,1,0,22799,2,750,0,1,0,22799\" and the advancement method is COND\n",
      "Average Value for measurement at step 8 is 1.8244821006238392 V\n",
      "Sequence loaded with the following segment data \"1,750,0,1,0,22799,2,750,0,1,0,22799\" and the advancement method is COND\n",
      "Average Value for measurement at step 9 is 1.9567228411303252 V\n",
      "Sequence loaded with the following segment data \"1,750,0,1,0,22799,2,750,0,1,0,22799\" and the advancement method is COND\n",
      "Average Value for measurement at step 10 is 2.0918061134320878 V\n",
      "Sequence loaded with the following segment data \"1,750,0,1,0,22799,2,750,0,1,0,22799\" and the advancement method is COND\n",
      "Average Value for measurement at step 11 is 2.2275418259350475 V\n",
      "Sequence loaded with the following segment data \"1,750,0,1,0,22799,2,750,0,1,0,22799\" and the advancement method is COND\n",
      "Average Value for measurement at step 12 is 2.362958708317721 V\n",
      "Sequence loaded with the following segment data \"1,750,0,1,0,22799,2,750,0,1,0,22799\" and the advancement method is COND\n",
      "Average Value for measurement at step 13 is 2.4987478765217643 V\n",
      "Sequence loaded with the following segment data \"1,750,0,1,0,22799,2,750,0,1,0,22799\" and the advancement method is COND\n",
      "Average Value for measurement at step 14 is 2.63355547944743 V\n",
      "Sequence loaded with the following segment data \"1,750,0,1,0,22799,2,750,0,1,0,22799\" and the advancement method is COND\n",
      "Average Value for measurement at step 15 is 2.731128594247543 V\n",
      "Sequence loaded with the following segment data \"1,750,0,1,0,22799,2,750,0,1,0,22799\" and the advancement method is COND\n",
      "Average Value for measurement at step 16 is 2.6325217196458155 V\n",
      "Sequence loaded with the following segment data \"1,750,0,1,0,22799,2,750,0,1,0,22799\" and the advancement method is COND\n",
      "Average Value for measurement at step 17 is 2.497895705036783 V\n",
      "Sequence loaded with the following segment data \"1,750,0,1,0,22799,2,750,0,1,0,22799\" and the advancement method is COND\n",
      "Average Value for measurement at step 18 is 2.362344269286341 V\n",
      "Sequence loaded with the following segment data \"1,750,0,1,0,22799,2,750,0,1,0,22799\" and the advancement method is COND\n",
      "Average Value for measurement at step 19 is 2.2260532282685617 V\n",
      "Sequence loaded with the following segment data \"1,750,0,1,0,22799,2,750,0,1,0,22799\" and the advancement method is COND\n",
      "Average Value for measurement at step 20 is 2.090525461268762 V\n",
      "Sequence loaded with the following segment data \"1,750,0,1,0,22799,2,750,0,1,0,22799\" and the advancement method is COND\n",
      "Average Value for measurement at step 21 is 1.955156159248087 V\n",
      "Sequence loaded with the following segment data \"1,750,0,1,0,22799,2,750,0,1,0,22799\" and the advancement method is COND\n",
      "Average Value for measurement at step 22 is 1.82220762644141 V\n",
      "Sequence loaded with the following segment data \"1,750,0,1,0,22799,2,750,0,1,0,22799\" and the advancement method is COND\n",
      "Average Value for measurement at step 23 is 1.7766094273380886 V\n",
      "Sequence loaded with the following segment data \"1,750,0,1,0,22799,2,750,0,1,0,22799\" and the advancement method is COND\n",
      "Average Value for measurement at step 24 is 1.7759590004211543 V\n",
      "Sequence loaded with the following segment data \"1,750,0,1,0,22799,2,750,0,1,0,22799\" and the advancement method is COND\n",
      "Average Value for measurement at step 25 is 1.775176035627252 V\n",
      "Sequence loaded with the following segment data \"1,750,0,1,0,22799,2,750,0,1,0,22799\" and the advancement method is COND\n",
      "Average Value for measurement at step 26 is 1.775419076544501 V\n",
      "Sequence loaded with the following segment data \"1,750,0,1,0,22799,2,750,0,1,0,22799\" and the advancement method is COND\n",
      "Average Value for measurement at step 27 is 1.7758590214770567 V\n",
      "Sequence loaded with the following segment data \"1,750,0,1,0,22799,2,750,0,1,0,22799\" and the advancement method is COND\n",
      "Average Value for measurement at step 28 is 1.7758513633158848 V\n",
      "Sequence loaded with the following segment data \"1,750,0,1,0,22799,2,750,0,1,0,22799\" and the advancement method is COND\n",
      "Average Value for measurement at step 29 is 1.775505477519013 V\n",
      "Sequence loaded with the following segment data \"1,750,0,1,0,22799,2,750,0,1,0,22799\" and the advancement method is COND\n",
      "Average Value for measurement at step 30 is 1.775399249892882 V\n"
     ]
    }
   ],
   "metadata": {}
  },
  {
   "cell_type": "code",
   "execution_count": null,
   "source": [
    "fig,ax= plt.subplots()\r\n",
    "ax.grid(True)\r\n",
    "for i in range(0,len(Diode_Signal)):\r\n",
    "    plt.plot(Diode_Signal[i][1],Diode_Signal[i][0],label= 'Step {st}'.format(st = i ))\r\n",
    "\r\n",
    "ax.set_ylabel(r'V  [V]')\r\n",
    "ax.set_xlabel('t  [s]')\r\n",
    "ax.set_title(r' Diode Signal at Different Steps,  {b} Samples, 1$\\mu$s probe duration'.format(b = len(Diode_Signal[0][1]) ))\r\n",
    "#ax.legend(bbox_to_anchor=(1.05, 1), loc='upper left', borderaxespad=0.)\r\n",
    "#ax.legend(loc=0)\r\n",
    "plt.show()\r\n",
    "\r\n",
    "fig.savefig(r'{loc}\\Diode Signal time cstant = {a}, sensitivity {b},{c} daqseconds, , probe duration 1 micro,31 steps, no legend, .jpeg'.format(loc = PulseScheme_A_1micro['Measurement file Path'],a = Lock_In_Settings['Time Constant'], b = Lock_In_Settings['Sensitivity'], c = playingtime),bbox_inches='tight')"
   ],
   "outputs": [
    {
     "output_type": "display_data",
     "data": {
      "image/png": "[encoded data removed]",
      "text/plain": [
       "<Figure size 432x288 with 1 Axes>"
      ]
     },
     "metadata": {}
    }
   ],
   "metadata": {}
  },
  {
   "cell_type": "code",
   "execution_count": null,
   "source": [
    "time_delay = np.linspace(-2,2,31)"
   ],
   "outputs": [],
   "metadata": {}
  },
  {
   "cell_type": "code",
   "execution_count": null,
   "source": [
    "#change this to V regime\r\n",
    "fig,axes = plt.subplots()\r\n",
    "\r\n",
    "axes.grid(True)\r\n",
    "\r\n",
    "plt.plot(time_delay,averaged_data,label=r'1$\\mu$s Probe Width ',color='purple')\r\n",
    "#plt.plot(tm,pul,label = '{a} samples'.format(a = len(pul)))\r\n",
    "\r\n",
    "axes.set_xlabel(r'time delay [$\\mu$s]')\r\n",
    "axes.set_ylabel(r'Diode Signal [V]')\r\n",
    "axes.set_title('Auto-Correlation 31 steps ')\r\n",
    "\r\n",
    "axes.legend(loc = 0)\r\n",
    "plt.show()\r\n",
    "\r\n",
    "fig.savefig(r'{loc}\\Autocorrelation function 31 steps probes  length tc = {a}, sens {b}, {c}s DAQ .jpeg'.format(loc = PulseScheme_A_1micro['Measurement file Path'],a = Lock_In_Settings['Time Constant'], b = Lock_In_Settings['Sensitivity'], c = playingtime ))"
   ],
   "outputs": [
    {
     "output_type": "display_data",
     "data": {
      "image/png": "[encoded data removed]",
      "text/plain": [
       "<Figure size 432x288 with 1 Axes>"
      ]
     },
     "metadata": {}
    }
   ],
   "metadata": {}
  }
 ],
 "metadata": {
  "orig_nbformat": 4,
  "language_info": {
   "name": "python",
   "version": "3.7.7",
   "mimetype": "text/x-python",
   "codemirror_mode": {
    "name": "ipython",
    "version": 3
   },
   "pygments_lexer": "ipython3",
   "nbconvert_exporter": "python",
   "file_extension": ".py"
  },
  "kernelspec": {
   "name": "python3",
   "display_name": "Python 3.7.7 64-bit ('base': conda)"
  },
  "interpreter": {
   "hash": "61820e52d70a1c1faf512b5148b4e2ed69ab88faacfacc53ee3905e34b33b48e"
  }
 },
 "nbformat": 4,
 "nbformat_minor": 2
}