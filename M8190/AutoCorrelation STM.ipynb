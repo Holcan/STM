{
    "cells": [
        {
            "cell_type": "code",
            "execution_count": 59,
            "source": [
                "%matplotlib widget "
            ],
            "outputs": [],
            "metadata": {}
        },
        {
            "cell_type": "code",
            "execution_count": 8,
            "source": [
                "import numpy as np\r\n",
                "from numpy import loadtxt\r\n",
                "import pandas as pd\r\n",
                "import time\r\n",
                "import matplotlib\r\n",
                "import matplotlib.pyplot as plt\r\n",
                "import pyvisa as visa\r\n",
                "from matplotlib import animation\r\n",
                "from time import sleep\r\n",
                "from matplotlib.animation import FuncAnimation\r\n",
                "#Importing the functions from the module and the pulses dictionaries\r\n",
                "from Sweeping import *\r\n",
                "from Dictionaries import *\r\n",
                "from PulseFiles import *\r\n",
                "from Instrument import *\r\n",
                "import pyqtgraph as pg \r\n",
                "import nidaqmx\r\n",
                "import pickle"
            ],
            "outputs": [],
            "metadata": {}
        },
        {
            "cell_type": "markdown",
            "source": [
                "# Instrument settings and CSV file path Dictionary"
            ],
            "metadata": {}
        },
        {
            "cell_type": "code",
            "execution_count": 7,
            "source": [
                "AWG_Settings= {\r\n",
                "    'Visa Resource Name': 'TCPIP0::ibn3-036.ibn-net.kfa-juelich.de::hislip0::INSTR',\r\n",
                "    'Voltage Amplitude':700,\r\n",
                "    'Clock Sample Frecuency':6000000000,\r\n",
                "    'Output_Channel': 1,\r\n",
                "    'Mode': 'STS',\r\n",
                "    'Trigger In Threshold' : 1,\r\n",
                "    'Output Rout': 'DAC', #DAC output rout only has the BNC outputs: Direct Out and (Averaged) Direct Out\r\n",
                "    'Data Directory': r'D:\\Alejandro\\Pulses\\diode measurements\\Prepared Pulse Schemes CSV\\100micro'\r\n",
                "}"
            ],
            "outputs": [],
            "metadata": {}
        },
        {
            "cell_type": "code",
            "execution_count": 118,
            "source": [
                "AWG_Settings"
            ],
            "outputs": [
                {
                    "output_type": "execute_result",
                    "data": {
                        "text/plain": [
                            "{'Visa Resource Name': 'TCPIP0::ibn3-036.ibn-net.kfa-juelich.de::hislip0::INSTR',\n",
                            " 'Voltage Amplitude': 700,\n",
                            " 'Clock Sample Frecuency': 6000000000,\n",
                            " 'Output_Channel': 1,\n",
                            " 'Mode': 'STS',\n",
                            " 'Trigger In Threshold': 1,\n",
                            " 'Output Rout': 'DAC',\n",
                            " 'Data Directory': 'D:\\\\Alejandro\\\\Pulses\\\\diode measurements\\\\Prepared Pulse Schemes CSV\\\\10nano'}"
                        ]
                    },
                    "metadata": {},
                    "execution_count": 118
                }
            ],
            "metadata": {}
        },
        {
            "cell_type": "code",
            "execution_count": 8,
            "source": [
                "M8190A = VisaR(AWG_Settings,60000)"
            ],
            "outputs": [],
            "metadata": {}
        },
        {
            "cell_type": "code",
            "execution_count": 16,
            "source": [
                "M8190A.query('SYST:ERR?')"
            ],
            "outputs": [
                {
                    "output_type": "execute_result",
                    "data": {
                        "text/plain": [
                            "'0,\"No error\"'"
                        ]
                    },
                    "metadata": {},
                    "execution_count": 16
                }
            ],
            "metadata": {}
        },
        {
            "cell_type": "code",
            "execution_count": 4,
            "source": [
                "Initialization(M8190A,AWG_Settings)"
            ],
            "outputs": [
                {
                    "output_type": "stream",
                    "name": "stdout",
                    "text": [
                        "Instruments Sampling Frecuency set to 6.00000000000000E+09Hz\n",
                        "Instruments Direct Out DAC Output route Voltage set to 7.00000000000000E-01Volts\n",
                        "AWG_Settings_Dict set to TRIGGERED Mode\n",
                        "Trigger In threshold value set to 1.00000000000000E+00V\n"
                    ]
                }
            ],
            "metadata": {}
        },
        {
            "cell_type": "code",
            "execution_count": 17,
            "source": [
                "M8190A.write('SEQ:DEL:ALL')"
            ],
            "outputs": [
                {
                    "output_type": "execute_result",
                    "data": {
                        "text/plain": [
                            "12"
                        ]
                    },
                    "metadata": {},
                    "execution_count": 17
                }
            ],
            "metadata": {}
        },
        {
            "cell_type": "markdown",
            "source": [
                "# Pulses Dictionaries"
            ],
            "metadata": {}
        },
        {
            "cell_type": "markdown",
            "source": [
                "## 1mili"
            ],
            "metadata": {}
        },
        {
            "cell_type": "code",
            "execution_count": 7,
            "source": [
                "Pump_1mili = {\r\n",
                "    'Name':'Pump_1mili',\r\n",
                "    'Amplitude':35,\r\n",
                "    'Start time':2,\r\n",
                "    'End time':2e-10,\r\n",
                "    'Start Duration':1,\r\n",
                "    'End Duration':60,\r\n",
                "    'Sweep time':0,\r\n",
                "    'Sweep Duration':0\r\n",
                "}"
            ],
            "outputs": [],
            "metadata": {}
        },
        {
            "cell_type": "code",
            "execution_count": 8,
            "source": [
                "ProbeA_1mili = {\r\n",
                "    'Name':'ProbeA_1mili',\r\n",
                "    'Amplitude':20,\r\n",
                "    'Start time':0,\r\n",
                "    'End time':4,\r\n",
                "    'Start Duration':1,\r\n",
                "    'End Duration':60,\r\n",
                "    'Sweep time':1,\r\n",
                "    'Sweep Duration':0\r\n",
                "}"
            ],
            "outputs": [],
            "metadata": {}
        },
        {
            "cell_type": "code",
            "execution_count": 9,
            "source": [
                "ProbeB_1mili= {\r\n",
                "    'Name':'ProbeB_1mili',\r\n",
                "    'Amplitude':0,\r\n",
                "    'Start time':0,\r\n",
                "    'End time':12,\r\n",
                "    'Start Duration':1,\r\n",
                "    'End Duration':6,\r\n",
                "    'Sweep time':0,\r\n",
                "    'Sweep Duration':0\r\n",
                "}"
            ],
            "outputs": [],
            "metadata": {}
        },
        {
            "cell_type": "code",
            "execution_count": 10,
            "source": [
                "PulseScheme_A_1mili =  {\r\n",
                "    'Name' : 'PulseScheme_A_1mili',\r\n",
                "    'Pulse Scheme': [Pump_1mili,ProbeA_1mili],\r\n",
                "    'Number of repetitions': 1,\r\n",
                "    'Measurement file Path': r'D:\\Alejandro\\Pulses\\diode measurements\\Autocorrelation measurements\\1mili'\r\n",
                "}"
            ],
            "outputs": [],
            "metadata": {}
        },
        {
            "cell_type": "code",
            "execution_count": 11,
            "source": [
                "PulseScheme_B_1mili  = {\r\n",
                "    'Name' : 'PulseScheme_B_1mili',\r\n",
                "    'Pulse Scheme': [ProbeB_1mili,ProbeB_1mili],\r\n",
                "    'Number of repetitions' : 1,\r\n",
                "    'Measurement file Path': r'D:\\Alejandro\\Pulses\\diode measurements\\Autocorrelation measurements\\1mili'\r\n",
                "}"
            ],
            "outputs": [],
            "metadata": {}
        },
        {
            "cell_type": "code",
            "execution_count": 8,
            "source": [
                "sam = int(6e9*5e-3)\r\n",
                "\r\n",
                "#sam /480\r\n",
                "\r\n",
                "#M8190A.write('FREQ:RAST 6000000000')"
            ],
            "outputs": [],
            "metadata": {}
        },
        {
            "cell_type": "code",
            "execution_count": 8,
            "source": [
                "sweeping_run_a_1mili = Sweeping_Single_List_File_teil(PulseScheme_A_1mili,30,5,sam,0,30,AWG_Settings,'A')[0]"
            ],
            "outputs": [],
            "metadata": {}
        },
        {
            "cell_type": "code",
            "execution_count": 20,
            "source": [
                "sweeping_run_b_1mili = Sweeping_Single_List_File_teil(PulseScheme_B_1mili,30,5,sam,0,30,AWG_Settings,'B')[0]"
            ],
            "outputs": [],
            "metadata": {}
        },
        {
            "cell_type": "code",
            "execution_count": null,
            "source": [
                "test= pd.read_csv('{a}\\\\SegmentA_30000000_0.csv'.format(a = AWG_Settings['Data Directory']),usecols=['Y1'])"
            ],
            "outputs": [],
            "metadata": {}
        },
        {
            "cell_type": "code",
            "execution_count": null,
            "source": [
                "tim =np.linspace(0,5,sam)"
            ],
            "outputs": [],
            "metadata": {}
        },
        {
            "cell_type": "code",
            "execution_count": null,
            "source": [
                "\r\n",
                "#Plot\r\n",
                "fig,ax= plt.subplots()\r\n",
                "ax.grid(True)\r\n",
                "\r\n",
                "plt.plot(tim,test,label= '{b} samples'.format(b = sam),color='red')\r\n",
                "\r\n",
                "ax.set_ylabel('V  [mV]')\r\n",
                "ax.set_xlabel(r't [ns]')\r\n",
                "ax.set_title('Cycle A at step {a}'.format(a = 0)) #Voltage Offset = 3mV, Marker Ampl = 50mV \r\n",
                "#ax.legend(loc=0)\r\n",
                "#plt.legend(bbox_to_anchor=(2.05, 1), loc='upper left', borderaxespad=0.)\r\n",
                "plt.show()\r\n",
                "\r\n",
                "\r\n",
                "#fig.savefig(r'{loc}\\Cycle A, Probe width 10nano 100Hz step 30 .jpeg'.format( loc = PulseScheme_A_10nano['Measurement file Path'] ),bbox_inches='tight')"
            ],
            "outputs": [
                {
                    "output_type": "display_data",
                    "data": {
                        "application/vnd.jupyter.widget-view+json": {
                            "version_major": 2,
                            "version_minor": 0,
                            "model_id": "dcbbf0963d4a4daa9e3b0675ae754302"
                        },
                        "text/plain": [
                            "Canvas(toolbar=Toolbar(toolitems=[('Home', 'Reset original view', 'home', 'home'), ('Back', 'Back to previous …"
                        ]
                    },
                    "metadata": {}
                }
            ],
            "metadata": {}
        },
        {
            "cell_type": "code",
            "execution_count": 21,
            "source": [
                "#Exporting pickle\r\n",
                "\r\n",
                "with open(r\"{dict}\\cycleA_31steps_5ms_1mili_6GHz.p\".format(dict = PulseScheme_A_1mili['Measurement file Path']), \"wb\") as k:\r\n",
                "    pickle.dump(sweeping_run_a_1mili, k)\r\n",
                "\r\n",
                "\r\n",
                "#with open(r\"{dict}\\cycleB_31steps_5ms_1mili_6GHz.p\".format(dict = PulseScheme_A_1mili['Measurement file Path']), \"wb\") as h:\r\n",
                " #   pickle.dump(sweeping_run_b_1mili, h)"
            ],
            "outputs": [],
            "metadata": {}
        },
        {
            "cell_type": "code",
            "execution_count": 12,
            "source": [
                "#Importing Pickle\r\n",
                "\r\n",
                "with open(r\"{dict}\\cycleA_31steps_5ms_1mili_6GHz.p\".format(dict = PulseScheme_A_1mili['Measurement file Path']), \"rb\") as j:\r\n",
                "    sweeping_runa_1mili = pickle.load(j)\r\n",
                "\r\n",
                "with open(r\"{dict}\\cycleB_31steps_5ms_1mili_6GHz.p\".format(dict = PulseScheme_A_1mili['Measurement file Path']), \"rb\") as f:\r\n",
                "    sweeping_runb_1mili= pickle.load(f)"
            ],
            "outputs": [],
            "metadata": {}
        },
        {
            "cell_type": "code",
            "execution_count": 15,
            "source": [
                "sweeping_runb_1mili"
            ],
            "outputs": [
                {
                    "output_type": "execute_result",
                    "data": {
                        "text/plain": [
                            "{'Pulse File Location, at step 0': 'D:\\\\Alejandro\\\\Pulses\\\\diode measurements\\\\Prepared Pulse Schemes CSV\\\\1mili\\\\SegmentB_30000000_0.csv',\n",
                            " 'Pulse File Location, at step 1': 'D:\\\\Alejandro\\\\Pulses\\\\diode measurements\\\\Prepared Pulse Schemes CSV\\\\1mili\\\\SegmentB_30000000_1.csv',\n",
                            " 'Pulse File Location, at step 2': 'D:\\\\Alejandro\\\\Pulses\\\\diode measurements\\\\Prepared Pulse Schemes CSV\\\\1mili\\\\SegmentB_30000000_2.csv',\n",
                            " 'Pulse File Location, at step 3': 'D:\\\\Alejandro\\\\Pulses\\\\diode measurements\\\\Prepared Pulse Schemes CSV\\\\1mili\\\\SegmentB_30000000_3.csv',\n",
                            " 'Pulse File Location, at step 4': 'D:\\\\Alejandro\\\\Pulses\\\\diode measurements\\\\Prepared Pulse Schemes CSV\\\\1mili\\\\SegmentB_30000000_4.csv',\n",
                            " 'Pulse File Location, at step 5': 'D:\\\\Alejandro\\\\Pulses\\\\diode measurements\\\\Prepared Pulse Schemes CSV\\\\1mili\\\\SegmentB_30000000_5.csv',\n",
                            " 'Pulse File Location, at step 6': 'D:\\\\Alejandro\\\\Pulses\\\\diode measurements\\\\Prepared Pulse Schemes CSV\\\\1mili\\\\SegmentB_30000000_6.csv',\n",
                            " 'Pulse File Location, at step 7': 'D:\\\\Alejandro\\\\Pulses\\\\diode measurements\\\\Prepared Pulse Schemes CSV\\\\1mili\\\\SegmentB_30000000_7.csv',\n",
                            " 'Pulse File Location, at step 8': 'D:\\\\Alejandro\\\\Pulses\\\\diode measurements\\\\Prepared Pulse Schemes CSV\\\\1mili\\\\SegmentB_30000000_8.csv',\n",
                            " 'Pulse File Location, at step 9': 'D:\\\\Alejandro\\\\Pulses\\\\diode measurements\\\\Prepared Pulse Schemes CSV\\\\1mili\\\\SegmentB_30000000_9.csv',\n",
                            " 'Pulse File Location, at step 10': 'D:\\\\Alejandro\\\\Pulses\\\\diode measurements\\\\Prepared Pulse Schemes CSV\\\\1mili\\\\SegmentB_30000000_10.csv',\n",
                            " 'Pulse File Location, at step 11': 'D:\\\\Alejandro\\\\Pulses\\\\diode measurements\\\\Prepared Pulse Schemes CSV\\\\1mili\\\\SegmentB_30000000_11.csv',\n",
                            " 'Pulse File Location, at step 12': 'D:\\\\Alejandro\\\\Pulses\\\\diode measurements\\\\Prepared Pulse Schemes CSV\\\\1mili\\\\SegmentB_30000000_12.csv',\n",
                            " 'Pulse File Location, at step 13': 'D:\\\\Alejandro\\\\Pulses\\\\diode measurements\\\\Prepared Pulse Schemes CSV\\\\1mili\\\\SegmentB_30000000_13.csv',\n",
                            " 'Pulse File Location, at step 14': 'D:\\\\Alejandro\\\\Pulses\\\\diode measurements\\\\Prepared Pulse Schemes CSV\\\\1mili\\\\SegmentB_30000000_14.csv',\n",
                            " 'Pulse File Location, at step 15': 'D:\\\\Alejandro\\\\Pulses\\\\diode measurements\\\\Prepared Pulse Schemes CSV\\\\1mili\\\\SegmentB_30000000_15.csv',\n",
                            " 'Pulse File Location, at step 16': 'D:\\\\Alejandro\\\\Pulses\\\\diode measurements\\\\Prepared Pulse Schemes CSV\\\\1mili\\\\SegmentB_30000000_16.csv',\n",
                            " 'Pulse File Location, at step 17': 'D:\\\\Alejandro\\\\Pulses\\\\diode measurements\\\\Prepared Pulse Schemes CSV\\\\1mili\\\\SegmentB_30000000_17.csv',\n",
                            " 'Pulse File Location, at step 18': 'D:\\\\Alejandro\\\\Pulses\\\\diode measurements\\\\Prepared Pulse Schemes CSV\\\\1mili\\\\SegmentB_30000000_18.csv',\n",
                            " 'Pulse File Location, at step 19': 'D:\\\\Alejandro\\\\Pulses\\\\diode measurements\\\\Prepared Pulse Schemes CSV\\\\1mili\\\\SegmentB_30000000_19.csv',\n",
                            " 'Pulse File Location, at step 20': 'D:\\\\Alejandro\\\\Pulses\\\\diode measurements\\\\Prepared Pulse Schemes CSV\\\\1mili\\\\SegmentB_30000000_20.csv',\n",
                            " 'Pulse File Location, at step 21': 'D:\\\\Alejandro\\\\Pulses\\\\diode measurements\\\\Prepared Pulse Schemes CSV\\\\1mili\\\\SegmentB_30000000_21.csv',\n",
                            " 'Pulse File Location, at step 22': 'D:\\\\Alejandro\\\\Pulses\\\\diode measurements\\\\Prepared Pulse Schemes CSV\\\\1mili\\\\SegmentB_30000000_22.csv',\n",
                            " 'Pulse File Location, at step 23': 'D:\\\\Alejandro\\\\Pulses\\\\diode measurements\\\\Prepared Pulse Schemes CSV\\\\1mili\\\\SegmentB_30000000_23.csv',\n",
                            " 'Pulse File Location, at step 24': 'D:\\\\Alejandro\\\\Pulses\\\\diode measurements\\\\Prepared Pulse Schemes CSV\\\\1mili\\\\SegmentB_30000000_24.csv',\n",
                            " 'Pulse File Location, at step 25': 'D:\\\\Alejandro\\\\Pulses\\\\diode measurements\\\\Prepared Pulse Schemes CSV\\\\1mili\\\\SegmentB_30000000_25.csv',\n",
                            " 'Pulse File Location, at step 26': 'D:\\\\Alejandro\\\\Pulses\\\\diode measurements\\\\Prepared Pulse Schemes CSV\\\\1mili\\\\SegmentB_30000000_26.csv',\n",
                            " 'Pulse File Location, at step 27': 'D:\\\\Alejandro\\\\Pulses\\\\diode measurements\\\\Prepared Pulse Schemes CSV\\\\1mili\\\\SegmentB_30000000_27.csv',\n",
                            " 'Pulse File Location, at step 28': 'D:\\\\Alejandro\\\\Pulses\\\\diode measurements\\\\Prepared Pulse Schemes CSV\\\\1mili\\\\SegmentB_30000000_28.csv',\n",
                            " 'Pulse File Location, at step 29': 'D:\\\\Alejandro\\\\Pulses\\\\diode measurements\\\\Prepared Pulse Schemes CSV\\\\1mili\\\\SegmentB_30000000_29.csv',\n",
                            " 'Pulse File Location, at step 30': 'D:\\\\Alejandro\\\\Pulses\\\\diode measurements\\\\Prepared Pulse Schemes CSV\\\\1mili\\\\SegmentB_30000000_30.csv'}"
                        ]
                    },
                    "metadata": {},
                    "execution_count": 15
                }
            ],
            "metadata": {}
        },
        {
            "cell_type": "code",
            "execution_count": 16,
            "source": [
                "Dummy_File(M8190A)"
            ],
            "outputs": [
                {
                    "output_type": "stream",
                    "name": "stdout",
                    "text": [
                        "Dummy File Loaded and playing\n",
                        "Dummy File stopped and erased from AWGs memmory\n"
                    ]
                }
            ],
            "metadata": {}
        },
        {
            "cell_type": "code",
            "execution_count": 15,
            "source": [
                "M8190A.write('SEQ:DEL:ALL')"
            ],
            "outputs": [
                {
                    "output_type": "execute_result",
                    "data": {
                        "text/plain": [
                            "12"
                        ]
                    },
                    "metadata": {},
                    "execution_count": 15
                }
            ],
            "metadata": {}
        },
        {
            "cell_type": "code",
            "execution_count": 17,
            "source": [
                "Lock_In_Settings = {\r\n",
                "'Time Constant' : '100ms',\r\n",
                "'Sensitivity' : '500 microVolts',\r\n",
                "'Reserve' : 'Normal',\r\n",
                "'db' : 24,\r\n",
                "'Modulation': '100Hz'\r\n",
                "}"
            ],
            "outputs": [],
            "metadata": {}
        },
        {
            "cell_type": "code",
            "execution_count": 18,
            "source": [
                "playing_time = 10 #in seconds\r\n",
                "\r\n",
                "Diode_Signal, averaged_data = Measurement_Autocorrelation_voltage(M8190A,DAQ_Settings1,1000, playing_time ,sweeping_runa_1mili,sweeping_runb_1mili,PulseScheme_A_1mili['Measurement file Path'],Lock_In_Settings)"
            ],
            "outputs": [
                {
                    "output_type": "stream",
                    "name": "stdout",
                    "text": [
                        "Sequence loaded with the following segment data \"1,1,0,1,0,29999999,2,1,0,1,0,29999999\" and the advancement method is COND\n",
                        "Triggering Pulse Stoped\n",
                        "Data acquired for Step 0\n",
                        "Sequence loaded with the following segment data \"1,1,0,1,0,29999999,2,1,0,1,0,29999999\" and the advancement method is COND\n",
                        "Triggering Pulse Stoped\n",
                        "Data acquired for Step 1\n",
                        "Sequence loaded with the following segment data \"1,1,0,1,0,29999999,2,1,0,1,0,29999999\" and the advancement method is COND\n",
                        "Triggering Pulse Stoped\n",
                        "Data acquired for Step 2\n",
                        "Sequence loaded with the following segment data \"1,1,0,1,0,29999999,2,1,0,1,0,29999999\" and the advancement method is COND\n",
                        "Triggering Pulse Stoped\n",
                        "Data acquired for Step 3\n",
                        "Sequence loaded with the following segment data \"1,1,0,1,0,29999999,2,1,0,1,0,29999999\" and the advancement method is COND\n",
                        "Triggering Pulse Stoped\n",
                        "Data acquired for Step 4\n",
                        "Sequence loaded with the following segment data \"1,1,0,1,0,29999999,2,1,0,1,0,29999999\" and the advancement method is COND\n",
                        "Triggering Pulse Stoped\n",
                        "Data acquired for Step 5\n",
                        "Sequence loaded with the following segment data \"1,1,0,1,0,29999999,2,1,0,1,0,29999999\" and the advancement method is COND\n",
                        "Triggering Pulse Stoped\n",
                        "Data acquired for Step 6\n",
                        "Sequence loaded with the following segment data \"1,1,0,1,0,29999999,2,1,0,1,0,29999999\" and the advancement method is COND\n",
                        "Triggering Pulse Stoped\n",
                        "Data acquired for Step 7\n",
                        "Sequence loaded with the following segment data \"1,1,0,1,0,29999999,2,1,0,1,0,29999999\" and the advancement method is COND\n",
                        "Triggering Pulse Stoped\n",
                        "Data acquired for Step 8\n",
                        "Sequence loaded with the following segment data \"1,1,0,1,0,29999999,2,1,0,1,0,29999999\" and the advancement method is COND\n",
                        "Triggering Pulse Stoped\n",
                        "Data acquired for Step 9\n",
                        "Sequence loaded with the following segment data \"1,1,0,1,0,29999999,2,1,0,1,0,29999999\" and the advancement method is COND\n",
                        "Triggering Pulse Stoped\n",
                        "Data acquired for Step 10\n",
                        "Sequence loaded with the following segment data \"1,1,0,1,0,29999999,2,1,0,1,0,29999999\" and the advancement method is COND\n",
                        "Triggering Pulse Stoped\n",
                        "Data acquired for Step 11\n",
                        "Sequence loaded with the following segment data \"1,1,0,1,0,29999999,2,1,0,1,0,29999999\" and the advancement method is COND\n",
                        "Triggering Pulse Stoped\n",
                        "Data acquired for Step 12\n",
                        "Sequence loaded with the following segment data \"1,1,0,1,0,29999999,2,1,0,1,0,29999999\" and the advancement method is COND\n",
                        "Triggering Pulse Stoped\n",
                        "Data acquired for Step 13\n",
                        "Sequence loaded with the following segment data \"1,1,0,1,0,29999999,2,1,0,1,0,29999999\" and the advancement method is COND\n",
                        "Triggering Pulse Stoped\n",
                        "Data acquired for Step 14\n",
                        "Sequence loaded with the following segment data \"1,1,0,1,0,29999999,2,1,0,1,0,29999999\" and the advancement method is COND\n",
                        "Triggering Pulse Stoped\n",
                        "Data acquired for Step 15\n",
                        "Sequence loaded with the following segment data \"1,1,0,1,0,29999999,2,1,0,1,0,29999999\" and the advancement method is COND\n",
                        "Triggering Pulse Stoped\n",
                        "Data acquired for Step 16\n",
                        "Sequence loaded with the following segment data \"1,1,0,1,0,29999999,2,1,0,1,0,29999999\" and the advancement method is COND\n",
                        "Triggering Pulse Stoped\n",
                        "Data acquired for Step 17\n",
                        "Sequence loaded with the following segment data \"1,1,0,1,0,29999999,2,1,0,1,0,29999999\" and the advancement method is COND\n",
                        "Triggering Pulse Stoped\n",
                        "Data acquired for Step 18\n",
                        "Sequence loaded with the following segment data \"1,1,0,1,0,29999999,2,1,0,1,0,29999999\" and the advancement method is COND\n",
                        "Triggering Pulse Stoped\n",
                        "Data acquired for Step 19\n",
                        "Sequence loaded with the following segment data \"1,1,0,1,0,29999999,2,1,0,1,0,29999999\" and the advancement method is COND\n",
                        "Triggering Pulse Stoped\n",
                        "Data acquired for Step 20\n",
                        "Sequence loaded with the following segment data \"1,1,0,1,0,29999999,2,1,0,1,0,29999999\" and the advancement method is COND\n",
                        "Triggering Pulse Stoped\n",
                        "Data acquired for Step 21\n",
                        "Sequence loaded with the following segment data \"1,1,0,1,0,29999999,2,1,0,1,0,29999999\" and the advancement method is COND\n",
                        "Triggering Pulse Stoped\n",
                        "Data acquired for Step 22\n",
                        "Sequence loaded with the following segment data \"1,1,0,1,0,29999999,2,1,0,1,0,29999999\" and the advancement method is COND\n",
                        "Triggering Pulse Stoped\n",
                        "Data acquired for Step 23\n",
                        "Sequence loaded with the following segment data \"1,1,0,1,0,29999999,2,1,0,1,0,29999999\" and the advancement method is COND\n",
                        "Triggering Pulse Stoped\n",
                        "Data acquired for Step 24\n",
                        "Sequence loaded with the following segment data \"1,1,0,1,0,29999999,2,1,0,1,0,29999999\" and the advancement method is COND\n",
                        "Triggering Pulse Stoped\n",
                        "Data acquired for Step 25\n",
                        "Sequence loaded with the following segment data \"1,1,0,1,0,29999999,2,1,0,1,0,29999999\" and the advancement method is COND\n",
                        "Triggering Pulse Stoped\n",
                        "Data acquired for Step 26\n",
                        "Sequence loaded with the following segment data \"1,1,0,1,0,29999999,2,1,0,1,0,29999999\" and the advancement method is COND\n",
                        "Triggering Pulse Stoped\n",
                        "Data acquired for Step 27\n",
                        "Sequence loaded with the following segment data \"1,1,0,1,0,29999999,2,1,0,1,0,29999999\" and the advancement method is COND\n",
                        "Triggering Pulse Stoped\n",
                        "Data acquired for Step 28\n",
                        "Sequence loaded with the following segment data \"1,1,0,1,0,29999999,2,1,0,1,0,29999999\" and the advancement method is COND\n",
                        "Triggering Pulse Stoped\n",
                        "Data acquired for Step 29\n",
                        "Sequence loaded with the following segment data \"1,1,0,1,0,29999999,2,1,0,1,0,29999999\" and the advancement method is COND\n",
                        "Triggering Pulse Stoped\n",
                        "Data acquired for Step 30\n"
                    ]
                }
            ],
            "metadata": {}
        },
        {
            "cell_type": "code",
            "execution_count": 19,
            "source": [
                "fig,ax= plt.subplots()\r\n",
                "ax.grid(True)\r\n",
                "for i in range(0,len(Diode_Signal)):\r\n",
                "    plt.plot(Diode_Signal[i][1],Diode_Signal[i][0],label= 'Step {st}'.format(st = i ))\r\n",
                "\r\n",
                "ax.set_ylabel(r'V  [V]')\r\n",
                "ax.set_xlabel('t  [s]')\r\n",
                "ax.set_title(r' Diode Signal at Different Steps,  {b} Samples, 1mili probe duration'.format(b = len(Diode_Signal[0][1]) ))\r\n",
                "#ax.legend(bbox_to_anchor=(1.05, 1), loc='upper left', borderaxespad=0.)\r\n",
                "#ax.legend(loc=0)\r\n",
                "plt.show()\r\n",
                "\r\n",
                "#fig.savefig(r'{loc}\\Diode Signal time cstant = {a}, sensitivity {b},{c} daqseconds, 5ms scheme, probe duration 1mili,31 steps, no legend,6Ghz .jpeg'.format(loc = PulseScheme_A_1mili['Measurement file Path'],a = Lock_In_Settings['Time Constant'], b = Lock_In_Settings['Sensitivity'], c = playing_time),bbox_inches='tight')"
            ],
            "outputs": [
                {
                    "output_type": "display_data",
                    "data": {
                        "image/png": "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",
                        "text/plain": [
                            "<Figure size 432x288 with 1 Axes>"
                        ]
                    },
                    "metadata": {
                        "needs_background": "light"
                    }
                }
            ],
            "metadata": {}
        },
        {
            "cell_type": "code",
            "execution_count": 20,
            "source": [
                "time_delay = np.linspace(-2,2,31)"
            ],
            "outputs": [],
            "metadata": {}
        },
        {
            "cell_type": "code",
            "execution_count": 21,
            "source": [
                "\r\n",
                "fig,axes = plt.subplots()\r\n",
                "\r\n",
                "axes.grid(True)\r\n",
                "\r\n",
                "plt.plot(time_delay,averaged_data,label=r'1ms Probe Width ',color='blue')\r\n",
                "#plt.plot(tm,pul,label = '{a} samples'.format(a = len(pul)))\r\n",
                "\r\n",
                "axes.set_xlabel(r'time delay [ms]')\r\n",
                "axes.set_ylabel(r'Diode Signal [V]')\r\n",
                "axes.set_title('Auto-Correlation 31 steps ')\r\n",
                "\r\n",
                "axes.legend(loc = 0)\r\n",
                "plt.show()\r\n",
                "\r\n",
                "#fig.savefig(r'{loc}\\Autocorrelation function 31 steps probes 5ms length tc = {a}, sens {b}, {c}s DAQ 6Ghz.jpeg'.format(loc = PulseScheme_A_1mili['Measurement file Path'],a = Lock_In_Settings['Time Constant'], b = Lock_In_Settings['Sensitivity'], c = playing_time ))"
            ],
            "outputs": [
                {
                    "output_type": "display_data",
                    "data": {
                        "image/png": "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",
                        "text/plain": [
                            "<Figure size 432x288 with 1 Axes>"
                        ]
                    },
                    "metadata": {
                        "needs_background": "light"
                    }
                }
            ],
            "metadata": {}
        },
        {
            "cell_type": "markdown",
            "source": [
                "## 100 micro"
            ],
            "metadata": {}
        },
        {
            "cell_type": "code",
            "execution_count": 4,
            "source": [
                "Pump_100micro = {\r\n",
                "    'Name':'Pump_100micro',\r\n",
                "    'Amplitude':35,\r\n",
                "    'Start time':200,\r\n",
                "    'End time':2e-10,\r\n",
                "    'Start Duration':100,\r\n",
                "    'End Duration':60,\r\n",
                "    'Sweep time':0,\r\n",
                "    'Sweep Duration':0\r\n",
                "}"
            ],
            "outputs": [],
            "metadata": {}
        },
        {
            "cell_type": "code",
            "execution_count": 5,
            "source": [
                "ProbeA_100micro = {\r\n",
                "    'Name':'ProbeA_100micro',\r\n",
                "    'Amplitude':20,\r\n",
                "    'Start time':0,\r\n",
                "    'End time':400,\r\n",
                "    'Start Duration':100,\r\n",
                "    'End Duration':60,\r\n",
                "    'Sweep time':1,\r\n",
                "    'Sweep Duration':0\r\n",
                "}"
            ],
            "outputs": [],
            "metadata": {}
        },
        {
            "cell_type": "code",
            "execution_count": 6,
            "source": [
                "ProbeB_100micro = {\r\n",
                "    'Name':'ProbeB_100micro',\r\n",
                "    'Amplitude':0,\r\n",
                "    'Start time':0,\r\n",
                "    'End time':12,\r\n",
                "    'Start Duration':1,\r\n",
                "    'End Duration':6,\r\n",
                "    'Sweep time':0,\r\n",
                "    'Sweep Duration':0\r\n",
                "}"
            ],
            "outputs": [],
            "metadata": {}
        },
        {
            "cell_type": "code",
            "execution_count": 7,
            "source": [
                "PulseScheme_A_100micro =  {\r\n",
                "    'Name' : 'PulseScheme_A_100micro',\r\n",
                "    'Pulse Scheme': [Pump_100micro,ProbeA_100micro],\r\n",
                "    'Number of repetitions': 8,\r\n",
                "    'Measurement file Path': r'D:\\Alejandro\\Pulses\\diode measurements\\Autocorrelation measurements\\100micro'\r\n",
                "}"
            ],
            "outputs": [],
            "metadata": {}
        },
        {
            "cell_type": "code",
            "execution_count": 8,
            "source": [
                "PulseScheme_B_100micro  = {\r\n",
                "    'Name' : 'PulseScheme__100micro',\r\n",
                "    'Pulse Scheme': [ProbeB_100micro,ProbeB_100micro],\r\n",
                "    'Number of repetitions': 1,\r\n",
                "    'Measurement file Path': r'D:\\Alejandro\\Pulses\\diode measurements\\Autocorrelation measurements\\100micro'\r\n",
                "}"
            ],
            "outputs": [],
            "metadata": {}
        },
        {
            "cell_type": "code",
            "execution_count": 11,
            "source": [
                "sweeping_run_a_100micro = Sweeping_Single_List_File_teil(PulseScheme_A_100micro,30,5,sam,0,30,AWG_Settings,'A')[0]"
            ],
            "outputs": [],
            "metadata": {}
        },
        {
            "cell_type": "code",
            "execution_count": 27,
            "source": [
                "#Exporting pickle\r\n",
                "\r\n",
                "with open(r\"{dict}\\cycleA_31steps_5ms_100micro_6GHz.p\".format(dict = PulseScheme_A_100micro['Measurement file Path']), \"wb\") as k:\r\n",
                "    pickle.dump(sweeping_runa_100micro, k)\r\n",
                "\r\n",
                "\r\n",
                "#with open(r\"{dict}\\cycleB_31steps_5ms_1mili_6GHz.p\".format(dict = PulseScheme_A_1mili['Measurement file Path']), \"wb\") as h:\r\n",
                " #   pickle.dump(sweeping_run_b_1mili, h)"
            ],
            "outputs": [],
            "metadata": {}
        },
        {
            "cell_type": "code",
            "execution_count": 9,
            "source": [
                "#Importing Pickle\r\n",
                "\r\n",
                "with open(r\"{dict}\\cycleA_31steps_5ms_100micro_6GHz.p\".format(dict = PulseScheme_A_100micro['Measurement file Path']), \"rb\") as j:\r\n",
                "    sweeping_runa_100micro = pickle.load(j)\r\n",
                "\r\n",
                "with open(r\"{dict}\\cycleB_31steps_5ms_100micro_6GHz.p\".format(dict = PulseScheme_A_100micro['Measurement file Path']), \"rb\") as f:\r\n",
                "    sweeping_runb_100micro= pickle.load(f)"
            ],
            "outputs": [],
            "metadata": {}
        },
        {
            "cell_type": "code",
            "execution_count": 11,
            "source": [
                "sweeping_runa_100micro\r\n"
            ],
            "outputs": [
                {
                    "output_type": "execute_result",
                    "data": {
                        "text/plain": [
                            "{'Pulse File Location, at step 0': 'D:\\\\Alejandro\\\\Pulses\\\\diode measurements\\\\Prepared Pulse Schemes CSV\\\\100micro\\\\SegmentA_30000000_0.csv',\n",
                            " 'Pulse File Location, at step 1': 'D:\\\\Alejandro\\\\Pulses\\\\diode measurements\\\\Prepared Pulse Schemes CSV\\\\100micro\\\\SegmentA_30000000_1.csv',\n",
                            " 'Pulse File Location, at step 2': 'D:\\\\Alejandro\\\\Pulses\\\\diode measurements\\\\Prepared Pulse Schemes CSV\\\\100micro\\\\SegmentA_30000000_2.csv',\n",
                            " 'Pulse File Location, at step 3': 'D:\\\\Alejandro\\\\Pulses\\\\diode measurements\\\\Prepared Pulse Schemes CSV\\\\100micro\\\\SegmentA_30000000_3.csv',\n",
                            " 'Pulse File Location, at step 4': 'D:\\\\Alejandro\\\\Pulses\\\\diode measurements\\\\Prepared Pulse Schemes CSV\\\\100micro\\\\SegmentA_30000000_4.csv',\n",
                            " 'Pulse File Location, at step 5': 'D:\\\\Alejandro\\\\Pulses\\\\diode measurements\\\\Prepared Pulse Schemes CSV\\\\100micro\\\\SegmentA_30000000_5.csv',\n",
                            " 'Pulse File Location, at step 6': 'D:\\\\Alejandro\\\\Pulses\\\\diode measurements\\\\Prepared Pulse Schemes CSV\\\\100micro\\\\SegmentA_30000000_6.csv',\n",
                            " 'Pulse File Location, at step 7': 'D:\\\\Alejandro\\\\Pulses\\\\diode measurements\\\\Prepared Pulse Schemes CSV\\\\100micro\\\\SegmentA_30000000_7.csv',\n",
                            " 'Pulse File Location, at step 8': 'D:\\\\Alejandro\\\\Pulses\\\\diode measurements\\\\Prepared Pulse Schemes CSV\\\\100micro\\\\SegmentA_30000000_8.csv',\n",
                            " 'Pulse File Location, at step 9': 'D:\\\\Alejandro\\\\Pulses\\\\diode measurements\\\\Prepared Pulse Schemes CSV\\\\100micro\\\\SegmentA_30000000_9.csv',\n",
                            " 'Pulse File Location, at step 10': 'D:\\\\Alejandro\\\\Pulses\\\\diode measurements\\\\Prepared Pulse Schemes CSV\\\\100micro\\\\SegmentA_30000000_10.csv',\n",
                            " 'Pulse File Location, at step 11': 'D:\\\\Alejandro\\\\Pulses\\\\diode measurements\\\\Prepared Pulse Schemes CSV\\\\100micro\\\\SegmentA_30000000_11.csv',\n",
                            " 'Pulse File Location, at step 12': 'D:\\\\Alejandro\\\\Pulses\\\\diode measurements\\\\Prepared Pulse Schemes CSV\\\\100micro\\\\SegmentA_30000000_12.csv',\n",
                            " 'Pulse File Location, at step 13': 'D:\\\\Alejandro\\\\Pulses\\\\diode measurements\\\\Prepared Pulse Schemes CSV\\\\100micro\\\\SegmentA_30000000_13.csv',\n",
                            " 'Pulse File Location, at step 14': 'D:\\\\Alejandro\\\\Pulses\\\\diode measurements\\\\Prepared Pulse Schemes CSV\\\\100micro\\\\SegmentA_30000000_14.csv',\n",
                            " 'Pulse File Location, at step 15': 'D:\\\\Alejandro\\\\Pulses\\\\diode measurements\\\\Prepared Pulse Schemes CSV\\\\100micro\\\\SegmentA_30000000_15.csv',\n",
                            " 'Pulse File Location, at step 16': 'D:\\\\Alejandro\\\\Pulses\\\\diode measurements\\\\Prepared Pulse Schemes CSV\\\\100micro\\\\SegmentA_30000000_16.csv',\n",
                            " 'Pulse File Location, at step 17': 'D:\\\\Alejandro\\\\Pulses\\\\diode measurements\\\\Prepared Pulse Schemes CSV\\\\100micro\\\\SegmentA_30000000_17.csv',\n",
                            " 'Pulse File Location, at step 18': 'D:\\\\Alejandro\\\\Pulses\\\\diode measurements\\\\Prepared Pulse Schemes CSV\\\\100micro\\\\SegmentA_30000000_18.csv',\n",
                            " 'Pulse File Location, at step 19': 'D:\\\\Alejandro\\\\Pulses\\\\diode measurements\\\\Prepared Pulse Schemes CSV\\\\100micro\\\\SegmentA_30000000_19.csv',\n",
                            " 'Pulse File Location, at step 20': 'D:\\\\Alejandro\\\\Pulses\\\\diode measurements\\\\Prepared Pulse Schemes CSV\\\\100micro\\\\SegmentA_30000000_20.csv',\n",
                            " 'Pulse File Location, at step 21': 'D:\\\\Alejandro\\\\Pulses\\\\diode measurements\\\\Prepared Pulse Schemes CSV\\\\100micro\\\\SegmentA_30000000_21.csv',\n",
                            " 'Pulse File Location, at step 22': 'D:\\\\Alejandro\\\\Pulses\\\\diode measurements\\\\Prepared Pulse Schemes CSV\\\\100micro\\\\SegmentA_30000000_22.csv',\n",
                            " 'Pulse File Location, at step 23': 'D:\\\\Alejandro\\\\Pulses\\\\diode measurements\\\\Prepared Pulse Schemes CSV\\\\100micro\\\\SegmentA_30000000_23.csv',\n",
                            " 'Pulse File Location, at step 24': 'D:\\\\Alejandro\\\\Pulses\\\\diode measurements\\\\Prepared Pulse Schemes CSV\\\\100micro\\\\SegmentA_30000000_24.csv',\n",
                            " 'Pulse File Location, at step 25': 'D:\\\\Alejandro\\\\Pulses\\\\diode measurements\\\\Prepared Pulse Schemes CSV\\\\100micro\\\\SegmentA_30000000_25.csv',\n",
                            " 'Pulse File Location, at step 26': 'D:\\\\Alejandro\\\\Pulses\\\\diode measurements\\\\Prepared Pulse Schemes CSV\\\\100micro\\\\SegmentA_30000000_26.csv',\n",
                            " 'Pulse File Location, at step 27': 'D:\\\\Alejandro\\\\Pulses\\\\diode measurements\\\\Prepared Pulse Schemes CSV\\\\100micro\\\\SegmentA_30000000_27.csv',\n",
                            " 'Pulse File Location, at step 28': 'D:\\\\Alejandro\\\\Pulses\\\\diode measurements\\\\Prepared Pulse Schemes CSV\\\\100micro\\\\SegmentA_30000000_28.csv',\n",
                            " 'Pulse File Location, at step 29': 'D:\\\\Alejandro\\\\Pulses\\\\diode measurements\\\\Prepared Pulse Schemes CSV\\\\100micro\\\\SegmentA_30000000_29.csv',\n",
                            " 'Pulse File Location, at step 30': 'D:\\\\Alejandro\\\\Pulses\\\\diode measurements\\\\Prepared Pulse Schemes CSV\\\\100micro\\\\SegmentA_30000000_30.csv'}"
                        ]
                    },
                    "metadata": {},
                    "execution_count": 11
                }
            ],
            "metadata": {}
        },
        {
            "cell_type": "code",
            "execution_count": 13,
            "source": [
                "sweeping_runa_100micro = {\r\n",
                " 'Pulse File Location, at step 0': 'D:\\\\Alejandro\\\\Pulses\\\\diode measurements\\\\Prepared Pulse Schemes CSV\\\\100micro\\\\SegmentA_30000000_0.csv',\r\n",
                " 'Pulse File Location, at step 1': 'D:\\\\Alejandro\\\\Pulses\\\\diode measurements\\\\Prepared Pulse Schemes CSV\\\\100micro\\\\SegmentA_30000000_1.csv',\r\n",
                " 'Pulse File Location, at step 2': 'D:\\\\Alejandro\\\\Pulses\\\\diode measurements\\\\Prepared Pulse Schemes CSV\\\\100micro\\\\SegmentA_30000000_2.csv',\r\n",
                " 'Pulse File Location, at step 3': 'D:\\\\Alejandro\\\\Pulses\\\\diode measurements\\\\Prepared Pulse Schemes CSV\\\\100micro\\\\SegmentA_30000000_3.csv',\r\n",
                " 'Pulse File Location, at step 4': 'D:\\\\Alejandro\\\\Pulses\\\\diode measurements\\\\Prepared Pulse Schemes CSV\\\\100micro\\\\SegmentA_30000000_4.csv',\r\n",
                " 'Pulse File Location, at step 5': 'D:\\\\Alejandro\\\\Pulses\\\\diode measurements\\\\Prepared Pulse Schemes CSV\\\\100micro\\\\SegmentA_30000000_5.csv',\r\n",
                " 'Pulse File Location, at step 6': 'D:\\\\Alejandro\\\\Pulses\\\\diode measurements\\\\Prepared Pulse Schemes CSV\\\\100micro\\\\SegmentA_30000000_6.csv',\r\n",
                " 'Pulse File Location, at step 7': 'D:\\\\Alejandro\\\\Pulses\\\\diode measurements\\\\Prepared Pulse Schemes CSV\\\\100micro\\\\SegmentA_30000000_7.csv',\r\n",
                " 'Pulse File Location, at step 8': 'D:\\\\Alejandro\\\\Pulses\\\\diode measurements\\\\Prepared Pulse Schemes CSV\\\\100micro\\\\SegmentA_30000000_8.csv',\r\n",
                " 'Pulse File Location, at step 9': 'D:\\\\Alejandro\\\\Pulses\\\\diode measurements\\\\Prepared Pulse Schemes CSV\\\\100micro\\\\SegmentA_30000000_9.csv',\r\n",
                " 'Pulse File Location, at step 10': 'D:\\\\Alejandro\\\\Pulses\\\\diode measurements\\\\Prepared Pulse Schemes CSV\\\\100micro\\\\SegmentA_30000000_10.csv',\r\n",
                " 'Pulse File Location, at step 11': 'D:\\\\Alejandro\\\\Pulses\\\\diode measurements\\\\Prepared Pulse Schemes CSV\\\\100micro\\\\SegmentA_30000000_11.csv',\r\n",
                " 'Pulse File Location, at step 12': 'D:\\\\Alejandro\\\\Pulses\\\\diode measurements\\\\Prepared Pulse Schemes CSV\\\\100micro\\\\SegmentA_30000000_12.csv',\r\n",
                " 'Pulse File Location, at step 13': 'D:\\\\Alejandro\\\\Pulses\\\\diode measurements\\\\Prepared Pulse Schemes CSV\\\\100micro\\\\SegmentA_30000000_13.csv',\r\n",
                " 'Pulse File Location, at step 14': 'D:\\\\Alejandro\\\\Pulses\\\\diode measurements\\\\Prepared Pulse Schemes CSV\\\\100micro\\\\SegmentA_30000000_14.csv',\r\n",
                " 'Pulse File Location, at step 15': 'D:\\\\Alejandro\\\\Pulses\\\\diode measurements\\\\Prepared Pulse Schemes CSV\\\\100micro\\\\SegmentA_30000000_15.csv',\r\n",
                " 'Pulse File Location, at step 16': 'D:\\\\Alejandro\\\\Pulses\\\\diode measurements\\\\Prepared Pulse Schemes CSV\\\\100micro\\\\SegmentA_30000000_16.csv',\r\n",
                " 'Pulse File Location, at step 17': 'D:\\\\Alejandro\\\\Pulses\\\\diode measurements\\\\Prepared Pulse Schemes CSV\\\\100micro\\\\SegmentA_30000000_17.csv',\r\n",
                " 'Pulse File Location, at step 18': 'D:\\\\Alejandro\\\\Pulses\\\\diode measurements\\\\Prepared Pulse Schemes CSV\\\\100micro\\\\SegmentA_30000000_18.csv',\r\n",
                " 'Pulse File Location, at step 19': 'D:\\\\Alejandro\\\\Pulses\\\\diode measurements\\\\Prepared Pulse Schemes CSV\\\\100micro\\\\SegmentA_30000000_19.csv',\r\n",
                " 'Pulse File Location, at step 20': 'D:\\\\Alejandro\\\\Pulses\\\\diode measurements\\\\Prepared Pulse Schemes CSV\\\\100micro\\\\SegmentA_30000000_20.csv',\r\n",
                " 'Pulse File Location, at step 21': 'D:\\\\Alejandro\\\\Pulses\\\\diode measurements\\\\Prepared Pulse Schemes CSV\\\\100micro\\\\SegmentA_30000000_21.csv',\r\n",
                " 'Pulse File Location, at step 22': 'D:\\\\Alejandro\\\\Pulses\\\\diode measurements\\\\Prepared Pulse Schemes CSV\\\\100micro\\\\SegmentA_30000000_22.csv',\r\n",
                " 'Pulse File Location, at step 23': 'D:\\\\Alejandro\\\\Pulses\\\\diode measurements\\\\Prepared Pulse Schemes CSV\\\\100micro\\\\SegmentA_30000000_23.csv',\r\n",
                " 'Pulse File Location, at step 24': 'D:\\\\Alejandro\\\\Pulses\\\\diode measurements\\\\Prepared Pulse Schemes CSV\\\\100micro\\\\SegmentA_30000000_24.csv',\r\n",
                " 'Pulse File Location, at step 25': 'D:\\\\Alejandro\\\\Pulses\\\\diode measurements\\\\Prepared Pulse Schemes CSV\\\\100micro\\\\SegmentA_30000000_25.csv',\r\n",
                " 'Pulse File Location, at step 26': 'D:\\\\Alejandro\\\\Pulses\\\\diode measurements\\\\Prepared Pulse Schemes CSV\\\\100micro\\\\SegmentA_30000000_26.csv',\r\n",
                " 'Pulse File Location, at step 27': 'D:\\\\Alejandro\\\\Pulses\\\\diode measurements\\\\Prepared Pulse Schemes CSV\\\\100micro\\\\SegmentA_30000000_27.csv',\r\n",
                " 'Pulse File Location, at step 28': 'D:\\\\Alejandro\\\\Pulses\\\\diode measurements\\\\Prepared Pulse Schemes CSV\\\\100micro\\\\SegmentA_30000000_28.csv',\r\n",
                " 'Pulse File Location, at step 29': 'D:\\\\Alejandro\\\\Pulses\\\\diode measurements\\\\Prepared Pulse Schemes CSV\\\\100micro\\\\SegmentA_30000000_29.csv',\r\n",
                " 'Pulse File Location, at step 30': 'D:\\\\Alejandro\\\\Pulses\\\\diode measurements\\\\Prepared Pulse Schemes CSV\\\\100micro\\\\SegmentA_30000000_30.csv'}"
            ],
            "outputs": [],
            "metadata": {}
        },
        {
            "cell_type": "code",
            "execution_count": 12,
            "source": [
                "Dummy_File(M8190A)"
            ],
            "outputs": [
                {
                    "output_type": "stream",
                    "name": "stdout",
                    "text": [
                        "Dummy File Loaded and playing\n",
                        "Dummy File stopped and erased from AWGs memmory\n"
                    ]
                }
            ],
            "metadata": {}
        },
        {
            "cell_type": "code",
            "execution_count": 14,
            "source": [
                "sweeping_runa_100micro"
            ],
            "outputs": [
                {
                    "output_type": "execute_result",
                    "data": {
                        "text/plain": [
                            "{'Pulse File Location, at step 0': 'D:\\\\Alejandro\\\\Pulses\\\\diode measurements\\\\Prepared Pulse Schemes CSV\\\\100micro\\\\SegmentA_30000000_0.csv',\n",
                            " 'Pulse File Location, at step 1': 'D:\\\\Alejandro\\\\Pulses\\\\diode measurements\\\\Prepared Pulse Schemes CSV\\\\100micro\\\\SegmentA_30000000_1.csv',\n",
                            " 'Pulse File Location, at step 2': 'D:\\\\Alejandro\\\\Pulses\\\\diode measurements\\\\Prepared Pulse Schemes CSV\\\\100micro\\\\SegmentA_30000000_2.csv',\n",
                            " 'Pulse File Location, at step 3': 'D:\\\\Alejandro\\\\Pulses\\\\diode measurements\\\\Prepared Pulse Schemes CSV\\\\100micro\\\\SegmentA_30000000_3.csv',\n",
                            " 'Pulse File Location, at step 4': 'D:\\\\Alejandro\\\\Pulses\\\\diode measurements\\\\Prepared Pulse Schemes CSV\\\\100micro\\\\SegmentA_30000000_4.csv',\n",
                            " 'Pulse File Location, at step 5': 'D:\\\\Alejandro\\\\Pulses\\\\diode measurements\\\\Prepared Pulse Schemes CSV\\\\100micro\\\\SegmentA_30000000_5.csv',\n",
                            " 'Pulse File Location, at step 6': 'D:\\\\Alejandro\\\\Pulses\\\\diode measurements\\\\Prepared Pulse Schemes CSV\\\\100micro\\\\SegmentA_30000000_6.csv',\n",
                            " 'Pulse File Location, at step 7': 'D:\\\\Alejandro\\\\Pulses\\\\diode measurements\\\\Prepared Pulse Schemes CSV\\\\100micro\\\\SegmentA_30000000_7.csv',\n",
                            " 'Pulse File Location, at step 8': 'D:\\\\Alejandro\\\\Pulses\\\\diode measurements\\\\Prepared Pulse Schemes CSV\\\\100micro\\\\SegmentA_30000000_8.csv',\n",
                            " 'Pulse File Location, at step 9': 'D:\\\\Alejandro\\\\Pulses\\\\diode measurements\\\\Prepared Pulse Schemes CSV\\\\100micro\\\\SegmentA_30000000_9.csv',\n",
                            " 'Pulse File Location, at step 10': 'D:\\\\Alejandro\\\\Pulses\\\\diode measurements\\\\Prepared Pulse Schemes CSV\\\\100micro\\\\SegmentA_30000000_10.csv',\n",
                            " 'Pulse File Location, at step 11': 'D:\\\\Alejandro\\\\Pulses\\\\diode measurements\\\\Prepared Pulse Schemes CSV\\\\100micro\\\\SegmentA_30000000_11.csv',\n",
                            " 'Pulse File Location, at step 12': 'D:\\\\Alejandro\\\\Pulses\\\\diode measurements\\\\Prepared Pulse Schemes CSV\\\\100micro\\\\SegmentA_30000000_12.csv',\n",
                            " 'Pulse File Location, at step 13': 'D:\\\\Alejandro\\\\Pulses\\\\diode measurements\\\\Prepared Pulse Schemes CSV\\\\100micro\\\\SegmentA_30000000_13.csv',\n",
                            " 'Pulse File Location, at step 14': 'D:\\\\Alejandro\\\\Pulses\\\\diode measurements\\\\Prepared Pulse Schemes CSV\\\\100micro\\\\SegmentA_30000000_14.csv',\n",
                            " 'Pulse File Location, at step 15': 'D:\\\\Alejandro\\\\Pulses\\\\diode measurements\\\\Prepared Pulse Schemes CSV\\\\100micro\\\\SegmentA_30000000_15.csv',\n",
                            " 'Pulse File Location, at step 16': 'D:\\\\Alejandro\\\\Pulses\\\\diode measurements\\\\Prepared Pulse Schemes CSV\\\\100micro\\\\SegmentA_30000000_16.csv',\n",
                            " 'Pulse File Location, at step 17': 'D:\\\\Alejandro\\\\Pulses\\\\diode measurements\\\\Prepared Pulse Schemes CSV\\\\100micro\\\\SegmentA_30000000_17.csv',\n",
                            " 'Pulse File Location, at step 18': 'D:\\\\Alejandro\\\\Pulses\\\\diode measurements\\\\Prepared Pulse Schemes CSV\\\\100micro\\\\SegmentA_30000000_18.csv',\n",
                            " 'Pulse File Location, at step 19': 'D:\\\\Alejandro\\\\Pulses\\\\diode measurements\\\\Prepared Pulse Schemes CSV\\\\100micro\\\\SegmentA_30000000_19.csv',\n",
                            " 'Pulse File Location, at step 20': 'D:\\\\Alejandro\\\\Pulses\\\\diode measurements\\\\Prepared Pulse Schemes CSV\\\\100micro\\\\SegmentA_30000000_20.csv',\n",
                            " 'Pulse File Location, at step 21': 'D:\\\\Alejandro\\\\Pulses\\\\diode measurements\\\\Prepared Pulse Schemes CSV\\\\100micro\\\\SegmentA_30000000_21.csv',\n",
                            " 'Pulse File Location, at step 22': 'D:\\\\Alejandro\\\\Pulses\\\\diode measurements\\\\Prepared Pulse Schemes CSV\\\\100micro\\\\SegmentA_30000000_22.csv',\n",
                            " 'Pulse File Location, at step 23': 'D:\\\\Alejandro\\\\Pulses\\\\diode measurements\\\\Prepared Pulse Schemes CSV\\\\100micro\\\\SegmentA_30000000_23.csv',\n",
                            " 'Pulse File Location, at step 24': 'D:\\\\Alejandro\\\\Pulses\\\\diode measurements\\\\Prepared Pulse Schemes CSV\\\\100micro\\\\SegmentA_30000000_24.csv',\n",
                            " 'Pulse File Location, at step 25': 'D:\\\\Alejandro\\\\Pulses\\\\diode measurements\\\\Prepared Pulse Schemes CSV\\\\100micro\\\\SegmentA_30000000_25.csv',\n",
                            " 'Pulse File Location, at step 26': 'D:\\\\Alejandro\\\\Pulses\\\\diode measurements\\\\Prepared Pulse Schemes CSV\\\\100micro\\\\SegmentA_30000000_26.csv',\n",
                            " 'Pulse File Location, at step 27': 'D:\\\\Alejandro\\\\Pulses\\\\diode measurements\\\\Prepared Pulse Schemes CSV\\\\100micro\\\\SegmentA_30000000_27.csv',\n",
                            " 'Pulse File Location, at step 28': 'D:\\\\Alejandro\\\\Pulses\\\\diode measurements\\\\Prepared Pulse Schemes CSV\\\\100micro\\\\SegmentA_30000000_28.csv',\n",
                            " 'Pulse File Location, at step 29': 'D:\\\\Alejandro\\\\Pulses\\\\diode measurements\\\\Prepared Pulse Schemes CSV\\\\100micro\\\\SegmentA_30000000_29.csv',\n",
                            " 'Pulse File Location, at step 30': 'D:\\\\Alejandro\\\\Pulses\\\\diode measurements\\\\Prepared Pulse Schemes CSV\\\\100micro\\\\SegmentA_30000000_30.csv'}"
                        ]
                    },
                    "metadata": {},
                    "execution_count": 14
                }
            ],
            "metadata": {}
        },
        {
            "cell_type": "code",
            "execution_count": 15,
            "source": [
                "M8190A.write('SEQ:DEL:ALL')"
            ],
            "outputs": [
                {
                    "output_type": "execute_result",
                    "data": {
                        "text/plain": [
                            "12"
                        ]
                    },
                    "metadata": {},
                    "execution_count": 15
                }
            ],
            "metadata": {}
        },
        {
            "cell_type": "code",
            "execution_count": 16,
            "source": [
                "Lock_In_Settings = {\r\n",
                "'Time Constant' : '300ms',\r\n",
                "'Sensitivity' : '500 microVolts',\r\n",
                "'Reserve' : 'Normal',\r\n",
                "'db' : 24,\r\n",
                "'Modulation': '100Hz'\r\n",
                "}"
            ],
            "outputs": [],
            "metadata": {}
        },
        {
            "cell_type": "code",
            "execution_count": 17,
            "source": [
                "playing_time = 10 #in seconds\r\n",
                "\r\n",
                "Diode_Signal, averaged_data = Measurement_Autocorrelation_voltage(M8190A,DAQ_Settings1,1000, playing_time ,sweeping_runa_100micro,sweeping_runb_100micro,PulseScheme_A_100micro['Measurement file Path'],Lock_In_Settings)"
            ],
            "outputs": [
                {
                    "output_type": "stream",
                    "name": "stdout",
                    "text": [
                        "Sequence loaded with the following segment data \"1,1,0,1,0,29999999,2,1,0,1,0,29999999\" and the advancement method is COND\n",
                        "Triggering Pulse Stoped\n",
                        "Data acquired for Step 0\n",
                        "Sequence loaded with the following segment data \"1,1,0,1,0,29999999,2,1,0,1,0,29999999\" and the advancement method is COND\n",
                        "Triggering Pulse Stoped\n",
                        "Data acquired for Step 1\n",
                        "Sequence loaded with the following segment data \"1,1,0,1,0,29999999,2,1,0,1,0,29999999\" and the advancement method is COND\n",
                        "Triggering Pulse Stoped\n",
                        "Data acquired for Step 2\n",
                        "Sequence loaded with the following segment data \"1,1,0,1,0,29999999,2,1,0,1,0,29999999\" and the advancement method is COND\n",
                        "Triggering Pulse Stoped\n",
                        "Data acquired for Step 3\n",
                        "Sequence loaded with the following segment data \"1,1,0,1,0,29999999,2,1,0,1,0,29999999\" and the advancement method is COND\n",
                        "Triggering Pulse Stoped\n",
                        "Data acquired for Step 4\n",
                        "Sequence loaded with the following segment data \"1,1,0,1,0,29999999,2,1,0,1,0,29999999\" and the advancement method is COND\n",
                        "Triggering Pulse Stoped\n",
                        "Data acquired for Step 5\n",
                        "Sequence loaded with the following segment data \"1,1,0,1,0,29999999,2,1,0,1,0,29999999\" and the advancement method is COND\n",
                        "Triggering Pulse Stoped\n",
                        "Data acquired for Step 6\n",
                        "Sequence loaded with the following segment data \"1,1,0,1,0,29999999,2,1,0,1,0,29999999\" and the advancement method is COND\n",
                        "Triggering Pulse Stoped\n",
                        "Data acquired for Step 7\n",
                        "Sequence loaded with the following segment data \"1,1,0,1,0,29999999,2,1,0,1,0,29999999\" and the advancement method is COND\n",
                        "Triggering Pulse Stoped\n",
                        "Data acquired for Step 8\n",
                        "Sequence loaded with the following segment data \"1,1,0,1,0,29999999,2,1,0,1,0,29999999\" and the advancement method is COND\n",
                        "Triggering Pulse Stoped\n",
                        "Data acquired for Step 9\n",
                        "Sequence loaded with the following segment data \"1,1,0,1,0,29999999,2,1,0,1,0,29999999\" and the advancement method is COND\n",
                        "Triggering Pulse Stoped\n",
                        "Data acquired for Step 10\n",
                        "Sequence loaded with the following segment data \"1,1,0,1,0,29999999,2,1,0,1,0,29999999\" and the advancement method is COND\n",
                        "Triggering Pulse Stoped\n",
                        "Data acquired for Step 11\n",
                        "Sequence loaded with the following segment data \"1,1,0,1,0,29999999,2,1,0,1,0,29999999\" and the advancement method is COND\n",
                        "Triggering Pulse Stoped\n",
                        "Data acquired for Step 12\n",
                        "Sequence loaded with the following segment data \"1,1,0,1,0,29999999,2,1,0,1,0,29999999\" and the advancement method is COND\n",
                        "Triggering Pulse Stoped\n",
                        "Data acquired for Step 13\n",
                        "Sequence loaded with the following segment data \"1,1,0,1,0,29999999,2,1,0,1,0,29999999\" and the advancement method is COND\n",
                        "Triggering Pulse Stoped\n",
                        "Data acquired for Step 14\n",
                        "Sequence loaded with the following segment data \"1,1,0,1,0,29999999,2,1,0,1,0,29999999\" and the advancement method is COND\n",
                        "Triggering Pulse Stoped\n",
                        "Data acquired for Step 15\n",
                        "Sequence loaded with the following segment data \"1,1,0,1,0,29999999,2,1,0,1,0,29999999\" and the advancement method is COND\n",
                        "Triggering Pulse Stoped\n",
                        "Data acquired for Step 16\n",
                        "Sequence loaded with the following segment data \"1,1,0,1,0,29999999,2,1,0,1,0,29999999\" and the advancement method is COND\n",
                        "Triggering Pulse Stoped\n",
                        "Data acquired for Step 17\n",
                        "Sequence loaded with the following segment data \"1,1,0,1,0,29999999,2,1,0,1,0,29999999\" and the advancement method is COND\n",
                        "Triggering Pulse Stoped\n",
                        "Data acquired for Step 18\n",
                        "Sequence loaded with the following segment data \"1,1,0,1,0,29999999,2,1,0,1,0,29999999\" and the advancement method is COND\n",
                        "Triggering Pulse Stoped\n",
                        "Data acquired for Step 19\n",
                        "Sequence loaded with the following segment data \"1,1,0,1,0,29999999,2,1,0,1,0,29999999\" and the advancement method is COND\n",
                        "Triggering Pulse Stoped\n",
                        "Data acquired for Step 20\n",
                        "Sequence loaded with the following segment data \"1,1,0,1,0,29999999,2,1,0,1,0,29999999\" and the advancement method is COND\n",
                        "Triggering Pulse Stoped\n",
                        "Data acquired for Step 21\n",
                        "Sequence loaded with the following segment data \"1,1,0,1,0,29999999,2,1,0,1,0,29999999\" and the advancement method is COND\n",
                        "Triggering Pulse Stoped\n",
                        "Data acquired for Step 22\n",
                        "Sequence loaded with the following segment data \"1,1,0,1,0,29999999,2,1,0,1,0,29999999\" and the advancement method is COND\n",
                        "Triggering Pulse Stoped\n",
                        "Data acquired for Step 23\n",
                        "Sequence loaded with the following segment data \"1,1,0,1,0,29999999,2,1,0,1,0,29999999\" and the advancement method is COND\n",
                        "Triggering Pulse Stoped\n",
                        "Data acquired for Step 24\n",
                        "Sequence loaded with the following segment data \"1,1,0,1,0,29999999,2,1,0,1,0,29999999\" and the advancement method is COND\n",
                        "Triggering Pulse Stoped\n",
                        "Data acquired for Step 25\n",
                        "Sequence loaded with the following segment data \"1,1,0,1,0,29999999,2,1,0,1,0,29999999\" and the advancement method is COND\n",
                        "Triggering Pulse Stoped\n",
                        "Data acquired for Step 26\n",
                        "Sequence loaded with the following segment data \"1,1,0,1,0,29999999,2,1,0,1,0,29999999\" and the advancement method is COND\n",
                        "Triggering Pulse Stoped\n",
                        "Data acquired for Step 27\n",
                        "Sequence loaded with the following segment data \"1,1,0,1,0,29999999,2,1,0,1,0,29999999\" and the advancement method is COND\n",
                        "Triggering Pulse Stoped\n",
                        "Data acquired for Step 28\n",
                        "Sequence loaded with the following segment data \"1,1,0,1,0,29999999,2,1,0,1,0,29999999\" and the advancement method is COND\n",
                        "Triggering Pulse Stoped\n",
                        "Data acquired for Step 29\n",
                        "Sequence loaded with the following segment data \"1,1,0,1,0,29999999,2,1,0,1,0,29999999\" and the advancement method is COND\n",
                        "Triggering Pulse Stoped\n",
                        "Data acquired for Step 30\n"
                    ]
                }
            ],
            "metadata": {}
        },
        {
            "cell_type": "code",
            "execution_count": 18,
            "source": [
                "fig,ax= plt.subplots()\r\n",
                "ax.grid(True)\r\n",
                "for i in range(0,len(Diode_Signal)):\r\n",
                "    plt.plot(Diode_Signal[i][1],Diode_Signal[i][0],label= 'Step {st}'.format(st = i ))\r\n",
                "\r\n",
                "ax.set_ylabel(r'V  [V]')\r\n",
                "ax.set_xlabel('t  [s]')\r\n",
                "ax.set_title(r' Diode Signal at Different Steps,  {b} Samples, 100$\\mu$s probe duration'.format(b = len(Diode_Signal[0][1]) ))\r\n",
                "#ax.legend(bbox_to_anchor=(1.05, 1), loc='upper left', borderaxespad=0.)\r\n",
                "#ax.legend(loc=0)\r\n",
                "plt.show()\r\n",
                "\r\n",
                "fig.savefig(r'{loc}\\Diode Signal time cstant = {a}, sensitivity {b},{c} daqseconds, 5ms scheme, probe duration 100 micro,31 steps, no legend,6Ghz .jpeg'.format(loc = PulseScheme_A_100micro['Measurement file Path'],a = Lock_In_Settings['Time Constant'], b = Lock_In_Settings['Sensitivity'], c = playing_time),bbox_inches='tight')"
            ],
            "outputs": [
                {
                    "output_type": "display_data",
                    "data": {
                        "image/png": "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",
                        "text/plain": [
                            "<Figure size 432x288 with 1 Axes>"
                        ]
                    },
                    "metadata": {
                        "needs_background": "light"
                    }
                }
            ],
            "metadata": {}
        },
        {
            "cell_type": "code",
            "execution_count": 19,
            "source": [
                "time_delay = np.linspace(-200,200,31)"
            ],
            "outputs": [],
            "metadata": {}
        },
        {
            "cell_type": "code",
            "execution_count": 20,
            "source": [
                "#change this to V regime\r\n",
                "fig,axes = plt.subplots()\r\n",
                "\r\n",
                "axes.grid(True)\r\n",
                "\r\n",
                "plt.plot(time_delay,averaged_data,label=r'100$\\mu$s Probe Width ',color='green')\r\n",
                "#plt.plot(tm,pul,label = '{a} samples'.format(a = len(pul)))\r\n",
                "\r\n",
                "axes.set_xlabel(r'time delay [$\\mu$s]')\r\n",
                "axes.set_ylabel(r'Diode Signal [V]')\r\n",
                "axes.set_title('Auto-Correlation 31 steps ')\r\n",
                "\r\n",
                "axes.legend(loc = 0)\r\n",
                "plt.show()\r\n",
                "\r\n",
                "fig.savefig(r'{loc}\\Autocorrelation function 31 steps probes 5ms length tc = {a}, sens {b}, {c}s DAQ 6Ghz.jpeg'.format(loc = PulseScheme_A_100micro['Measurement file Path'],a = Lock_In_Settings['Time Constant'], b = Lock_In_Settings['Sensitivity'], c = playing_time ))"
            ],
            "outputs": [
                {
                    "output_type": "display_data",
                    "data": {
                        "image/png": "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",
                        "text/plain": [
                            "<Figure size 432x288 with 1 Axes>"
                        ]
                    },
                    "metadata": {
                        "needs_background": "light"
                    }
                }
            ],
            "metadata": {}
        },
        {
            "cell_type": "markdown",
            "source": [
                "## 10micro"
            ],
            "metadata": {}
        },
        {
            "cell_type": "code",
            "execution_count": 9,
            "source": [
                "Pump_10micro = {\r\n",
                "    'Name':'Pump_10micro',\r\n",
                "    'Amplitude':35,\r\n",
                "    'Start time':20,\r\n",
                "    'End time':2e-10,\r\n",
                "    'Start Duration':10,\r\n",
                "    'End Duration':60,\r\n",
                "    'Sweep time':0,\r\n",
                "    'Sweep Duration':0\r\n",
                "}"
            ],
            "outputs": [],
            "metadata": {}
        },
        {
            "cell_type": "code",
            "execution_count": 10,
            "source": [
                "ProbeA_10micro = {\r\n",
                "    'Name':'ProbeA_10micro',\r\n",
                "    'Amplitude':20,\r\n",
                "    'Start time':0,\r\n",
                "    'End time':40,\r\n",
                "    'Start Duration':10,\r\n",
                "    'End Duration':60,\r\n",
                "    'Sweep time':1,\r\n",
                "    'Sweep Duration':0\r\n",
                "}"
            ],
            "outputs": [],
            "metadata": {}
        },
        {
            "cell_type": "code",
            "execution_count": 11,
            "source": [
                "ProbeB_10micro = {\r\n",
                "    'Name':'ProbeB_10micro',\r\n",
                "    'Amplitude':0,\r\n",
                "    'Start time':0,\r\n",
                "    'End time':12,\r\n",
                "    'Start Duration':1,\r\n",
                "    'End Duration':6,\r\n",
                "    'Sweep time':0,\r\n",
                "    'Sweep Duration':0\r\n",
                "}"
            ],
            "outputs": [],
            "metadata": {}
        },
        {
            "cell_type": "code",
            "execution_count": 12,
            "source": [
                "PulseScheme_A_10micro =  {\r\n",
                "    'Name' : 'PulseScheme_A_10micro',\r\n",
                "    'Pulse Scheme': [Pump_10micro,ProbeA_10micro],\r\n",
                "    'Number of repetitions': 50,\r\n",
                "    'Measurement file Path': r'D:\\Alejandro\\Pulses\\diode measurements\\Autocorrelation measurements\\10micro'\r\n",
                "}"
            ],
            "outputs": [],
            "metadata": {}
        },
        {
            "cell_type": "code",
            "execution_count": 13,
            "source": [
                "PulseScheme_B_10micro  = {\r\n",
                "    'Name' : 'PulseScheme_B_10micro',\r\n",
                "    'Pulse Scheme': [ProbeB_10micro,ProbeB_10micro],\r\n",
                "    'Number of repetitions': 1,\r\n",
                "    'Measurement file Path': r'D:\\Alejandro\\Pulses\\diode measurements\\Autocorrelation measurements\\10micro'\r\n",
                "}"
            ],
            "outputs": [],
            "metadata": {}
        },
        {
            "cell_type": "code",
            "execution_count": 9,
            "source": [
                "sweeping_run_a_10micro = Sweeping_Single_List_File_teil(PulseScheme_A_10micro,30,5,sam,0,30,AWG_Settings,'A')[0]"
            ],
            "outputs": [
                {
                    "output_type": "error",
                    "ename": "KeyboardInterrupt",
                    "evalue": "",
                    "traceback": [
                        "\u001b[1;31m---------------------------------------------------------------------------\u001b[0m",
                        "\u001b[1;31mKeyboardInterrupt\u001b[0m                         Traceback (most recent call last)",
                        "\u001b[1;32m<ipython-input-9-2eeab48d2457>\u001b[0m in \u001b[0;36m<module>\u001b[1;34m\u001b[0m\n\u001b[1;32m----> 1\u001b[1;33m \u001b[0msweeping_run_a_10micro\u001b[0m \u001b[1;33m=\u001b[0m \u001b[0mSweeping_Single_List_File_teil\u001b[0m\u001b[1;33m(\u001b[0m\u001b[0mPulseScheme_A_10micro\u001b[0m\u001b[1;33m,\u001b[0m\u001b[1;36m30\u001b[0m\u001b[1;33m,\u001b[0m\u001b[1;36m5\u001b[0m\u001b[1;33m,\u001b[0m\u001b[0msam\u001b[0m\u001b[1;33m,\u001b[0m\u001b[1;36m0\u001b[0m\u001b[1;33m,\u001b[0m\u001b[1;36m30\u001b[0m\u001b[1;33m,\u001b[0m\u001b[0mAWG_Settings\u001b[0m\u001b[1;33m,\u001b[0m\u001b[1;34m'A'\u001b[0m\u001b[1;33m)\u001b[0m\u001b[1;33m[\u001b[0m\u001b[1;36m0\u001b[0m\u001b[1;33m]\u001b[0m\u001b[1;33m\u001b[0m\u001b[1;33m\u001b[0m\u001b[0m\n\u001b[0m",
                        "\u001b[1;32mc:\\Users\\a.hernandez.de.la.ve\\Documents\\GitHub\\STM\\M8190\\Instrument.py\u001b[0m in \u001b[0;36mSweeping_Single_List_File_teil\u001b[1;34m(PulseList, P, t, N, start, stop, AWG_Settings_Dict, cycle)\u001b[0m\n\u001b[0;32m    869\u001b[0m     \u001b[1;32mif\u001b[0m \u001b[0mcycle\u001b[0m \u001b[1;33m==\u001b[0m \u001b[1;34m'A'\u001b[0m\u001b[1;33m:\u001b[0m\u001b[1;33m\u001b[0m\u001b[1;33m\u001b[0m\u001b[0m\n\u001b[0;32m    870\u001b[0m         \u001b[1;31m#Markers for cycle A\u001b[0m\u001b[1;33m\u001b[0m\u001b[1;33m\u001b[0m\u001b[1;33m\u001b[0m\u001b[0m\n\u001b[1;32m--> 871\u001b[1;33m         \u001b[0mLoc1\u001b[0m\u001b[1;33m,\u001b[0m\u001b[0mDF1\u001b[0m\u001b[1;33m,\u001b[0m\u001b[0mtimm\u001b[0m \u001b[1;33m=\u001b[0m \u001b[0mSweep_Iteration_CSV_List_teil\u001b[0m\u001b[1;33m(\u001b[0m\u001b[0mPulseList\u001b[0m\u001b[1;33m,\u001b[0m\u001b[0mP\u001b[0m\u001b[1;33m,\u001b[0m\u001b[0mt\u001b[0m\u001b[1;33m,\u001b[0m\u001b[0mN\u001b[0m\u001b[1;33m,\u001b[0m\u001b[0mstart\u001b[0m\u001b[1;33m,\u001b[0m\u001b[0mstop\u001b[0m\u001b[1;33m,\u001b[0m\u001b[0mAWG_Settings_Dict\u001b[0m\u001b[1;33m,\u001b[0m\u001b[1;36m1\u001b[0m\u001b[1;33m)\u001b[0m\u001b[1;33m\u001b[0m\u001b[1;33m\u001b[0m\u001b[0m\n\u001b[0m\u001b[0;32m    872\u001b[0m \u001b[1;33m\u001b[0m\u001b[0m\n\u001b[0;32m    873\u001b[0m     \u001b[1;32mif\u001b[0m \u001b[0mcycle\u001b[0m \u001b[1;33m==\u001b[0m \u001b[1;34m'B'\u001b[0m\u001b[1;33m:\u001b[0m\u001b[1;33m\u001b[0m\u001b[1;33m\u001b[0m\u001b[0m\n",
                        "\u001b[1;32mc:\\Users\\a.hernandez.de.la.ve\\Documents\\GitHub\\STM\\M8190\\PulseFiles.py\u001b[0m in \u001b[0;36mSweep_Iteration_CSV_List_teil\u001b[1;34m(PulList, P, t, N, start, stop, AWG_Settings_Dict, marker)\u001b[0m\n\u001b[0;32m     92\u001b[0m     \"\"\"\n\u001b[0;32m     93\u001b[0m \u001b[1;33m\u001b[0m\u001b[0m\n\u001b[1;32m---> 94\u001b[1;33m     \u001b[0mpultau\u001b[0m\u001b[1;33m,\u001b[0m\u001b[0mtime\u001b[0m \u001b[1;33m=\u001b[0m \u001b[0mSweep_Iteration_teil\u001b[0m\u001b[1;33m(\u001b[0m\u001b[0mPulList\u001b[0m\u001b[1;33m,\u001b[0m\u001b[0mP\u001b[0m\u001b[1;33m,\u001b[0m\u001b[0mt\u001b[0m\u001b[1;33m,\u001b[0m\u001b[0mN\u001b[0m\u001b[1;33m,\u001b[0m\u001b[0mstart\u001b[0m\u001b[1;33m,\u001b[0m\u001b[0mstop\u001b[0m\u001b[1;33m)\u001b[0m\u001b[1;33m\u001b[0m\u001b[1;33m\u001b[0m\u001b[0m\n\u001b[0m\u001b[0;32m     95\u001b[0m     \u001b[0mStrngName\u001b[0m\u001b[1;33m,\u001b[0m \u001b[0mDataFrames\u001b[0m \u001b[1;33m=\u001b[0m \u001b[0mSweep_Iteration_CSV_Arrays\u001b[0m\u001b[1;33m(\u001b[0m\u001b[0mpultau\u001b[0m\u001b[1;33m,\u001b[0m\u001b[0mAWG_Settings_Dict\u001b[0m\u001b[1;33m,\u001b[0m\u001b[0mmarker\u001b[0m\u001b[1;33m,\u001b[0m\u001b[0mstart\u001b[0m\u001b[1;33m)\u001b[0m\u001b[1;33m\u001b[0m\u001b[1;33m\u001b[0m\u001b[0m\n\u001b[0;32m     96\u001b[0m \u001b[1;33m\u001b[0m\u001b[0m\n",
                        "\u001b[1;32mc:\\Users\\a.hernandez.de.la.ve\\Documents\\GitHub\\STM\\M8190\\Sweeping.py\u001b[0m in \u001b[0;36mSweep_Iteration_teil\u001b[1;34m(PulList, P, t, N, start, stop)\u001b[0m\n\u001b[0;32m    164\u001b[0m \u001b[1;33m\u001b[0m\u001b[0m\n\u001b[0;32m    165\u001b[0m     \u001b[1;32mfor\u001b[0m \u001b[0mp\u001b[0m \u001b[1;32min\u001b[0m \u001b[0mrange\u001b[0m\u001b[1;33m(\u001b[0m\u001b[1;36m0\u001b[0m\u001b[1;33m,\u001b[0m\u001b[0mL\u001b[0m\u001b[1;33m+\u001b[0m\u001b[1;36m1\u001b[0m\u001b[1;33m)\u001b[0m\u001b[1;33m:\u001b[0m\u001b[1;33m\u001b[0m\u001b[1;33m\u001b[0m\u001b[0m\n\u001b[1;32m--> 166\u001b[1;33m         \u001b[0mpultau\u001b[0m\u001b[1;33m[\u001b[0m\u001b[1;33m(\u001b[0m\u001b[0mp\u001b[0m\u001b[1;33m)\u001b[0m\u001b[1;33m]\u001b[0m\u001b[1;33m,\u001b[0m\u001b[0mtime\u001b[0m\u001b[1;33m=\u001b[0m \u001b[0mSweep_teil\u001b[0m\u001b[1;33m(\u001b[0m\u001b[0mPulList\u001b[0m\u001b[1;33m,\u001b[0m\u001b[0mP\u001b[0m\u001b[1;33m,\u001b[0m\u001b[0mp\u001b[0m\u001b[1;33m+\u001b[0m\u001b[0mstart\u001b[0m\u001b[1;33m,\u001b[0m\u001b[0mt\u001b[0m\u001b[1;33m,\u001b[0m\u001b[0mN\u001b[0m\u001b[1;33m)\u001b[0m\u001b[1;33m\u001b[0m\u001b[1;33m\u001b[0m\u001b[0m\n\u001b[0m\u001b[0;32m    167\u001b[0m \u001b[1;33m\u001b[0m\u001b[0m\n\u001b[0;32m    168\u001b[0m     \u001b[1;31m#this dictionary is for obtaining the proper name\u001b[0m\u001b[1;33m\u001b[0m\u001b[1;33m\u001b[0m\u001b[1;33m\u001b[0m\u001b[0m\n",
                        "\u001b[1;31mKeyboardInterrupt\u001b[0m: "
                    ]
                }
            ],
            "metadata": {}
        },
        {
            "cell_type": "code",
            "execution_count": 14,
            "source": [
                "#Importing Pickle\r\n",
                "\r\n",
                "with open(r\"{dict}\\cycleA_31steps_5ms_10micro_6GHz.p\".format(dict = PulseScheme_A_10micro['Measurement file Path']), \"rb\") as j:\r\n",
                "    sweeping_runa_10micro = pickle.load(j)\r\n",
                "\r\n",
                "with open(r\"{dict}\\cycleB_31steps_5ms_10micro_6GHz.p\".format(dict = PulseScheme_A_10micro['Measurement file Path']), \"rb\") as f:\r\n",
                "    sweeping_runb_10micro = pickle.load(f)"
            ],
            "outputs": [],
            "metadata": {}
        },
        {
            "cell_type": "code",
            "execution_count": 15,
            "source": [
                "Lock_In_Settings = {\r\n",
                "'Time Constant' : '30ms',\r\n",
                "'Sensitivity' : '500 microVolts',\r\n",
                "'Reserve' : 'Normal',\r\n",
                "'db' : 24,\r\n",
                "'Modulation': '100Hz'\r\n",
                "}"
            ],
            "outputs": [],
            "metadata": {}
        },
        {
            "cell_type": "code",
            "execution_count": 27,
            "source": [
                "M8190A.write('SEQ:DEL:ALL')"
            ],
            "outputs": [
                {
                    "output_type": "execute_result",
                    "data": {
                        "text/plain": [
                            "12"
                        ]
                    },
                    "metadata": {},
                    "execution_count": 27
                }
            ],
            "metadata": {}
        },
        {
            "cell_type": "code",
            "execution_count": null,
            "source": [
                "Dummy_File(M8190A)"
            ],
            "outputs": [
                {
                    "output_type": "stream",
                    "name": "stdout",
                    "text": [
                        "Dummy File Loaded and playing\n",
                        "Dummy File stopped and erased from AWGs memmory\n"
                    ]
                }
            ],
            "metadata": {}
        },
        {
            "cell_type": "code",
            "execution_count": 28,
            "source": [
                "playing_time = 10 #in seconds\r\n",
                "\r\n",
                "Diode_Signal, averaged_data = Voltage_Autocorrelation(M8190A,DAQ_Settings1, playing_time ,sweeping_runa_10micro,sweeping_runb_10micro,PulseScheme_A_10micro['Measurement file Path'],Lock_In_Settings)"
            ],
            "outputs": [
                {
                    "output_type": "stream",
                    "name": "stdout",
                    "text": [
                        "Sequence loaded with the following segment data \"1,1,0,1,0,29999999,2,1,0,1,0,29999999\" and the advancement method is COND\n",
                        "Triggering Pulse Stoped\n",
                        "Average Value for measurement at step 0 is 0.90320874335568 V\n",
                        "Sequence loaded with the following segment data \"1,1,0,1,0,29999999,2,1,0,1,0,29999999\" and the advancement method is COND\n",
                        "Triggering Pulse Stoped\n",
                        "Average Value for measurement at step 1 is 0.9031401019034458 V\n",
                        "Sequence loaded with the following segment data \"1,1,0,1,0,29999999,2,1,0,1,0,29999999\" and the advancement method is COND\n",
                        "Triggering Pulse Stoped\n",
                        "Average Value for measurement at step 2 is 0.9033445698021114 V\n",
                        "Sequence loaded with the following segment data \"1,1,0,1,0,29999999,2,1,0,1,0,29999999\" and the advancement method is COND\n",
                        "Triggering Pulse Stoped\n",
                        "Average Value for measurement at step 3 is 0.9032230730221296 V\n",
                        "Sequence loaded with the following segment data \"1,1,0,1,0,29999999,2,1,0,1,0,29999999\" and the advancement method is COND\n",
                        "Triggering Pulse Stoped\n",
                        "Average Value for measurement at step 4 is 0.9031298127332151 V\n",
                        "Sequence loaded with the following segment data \"1,1,0,1,0,29999999,2,1,0,1,0,29999999\" and the advancement method is COND\n",
                        "Triggering Pulse Stoped\n",
                        "Average Value for measurement at step 5 is 0.9027415962239888 V\n",
                        "Sequence loaded with the following segment data \"1,1,0,1,0,29999999,2,1,0,1,0,29999999\" and the advancement method is COND\n",
                        "Triggering Pulse Stoped\n",
                        "Average Value for measurement at step 6 is 0.9019378193849579 V\n",
                        "Sequence loaded with the following segment data \"1,1,0,1,0,29999999,2,1,0,1,0,29999999\" and the advancement method is COND\n",
                        "Triggering Pulse Stoped\n",
                        "Average Value for measurement at step 7 is 0.9025859901396147 V\n",
                        "Sequence loaded with the following segment data \"1,1,0,1,0,29999999,2,1,0,1,0,29999999\" and the advancement method is COND\n",
                        "Triggering Pulse Stoped\n",
                        "Average Value for measurement at step 8 is 0.9278039017359928 V\n",
                        "Sequence loaded with the following segment data \"1,1,0,1,0,29999999,2,1,0,1,0,29999999\" and the advancement method is COND\n",
                        "Triggering Pulse Stoped\n",
                        "Average Value for measurement at step 9 is 0.9886487050637832 V\n",
                        "Sequence loaded with the following segment data \"1,1,0,1,0,29999999,2,1,0,1,0,29999999\" and the advancement method is COND\n",
                        "Triggering Pulse Stoped\n",
                        "Average Value for measurement at step 10 is 1.045748255333845 V\n",
                        "Sequence loaded with the following segment data \"1,1,0,1,0,29999999,2,1,0,1,0,29999999\" and the advancement method is COND\n",
                        "Triggering Pulse Stoped\n",
                        "Average Value for measurement at step 11 is 1.112965686351445 V\n",
                        "Sequence loaded with the following segment data \"1,1,0,1,0,29999999,2,1,0,1,0,29999999\" and the advancement method is COND\n",
                        "Triggering Pulse Stoped\n",
                        "Average Value for measurement at step 12 is 1.183140581385943 V\n",
                        "Sequence loaded with the following segment data \"1,1,0,1,0,29999999,2,1,0,1,0,29999999\" and the advancement method is COND\n",
                        "Triggering Pulse Stoped\n",
                        "Average Value for measurement at step 13 is 1.2427760324836954 V\n",
                        "Sequence loaded with the following segment data \"1,1,0,1,0,29999999,2,1,0,1,0,29999999\" and the advancement method is COND\n",
                        "Triggering Pulse Stoped\n",
                        "Average Value for measurement at step 14 is 1.3045364161748398 V\n",
                        "Sequence loaded with the following segment data \"1,1,0,1,0,29999999,2,1,0,1,0,29999999\" and the advancement method is COND\n",
                        "Triggering Pulse Stoped\n",
                        "Average Value for measurement at step 15 is 1.3663941073844992 V\n",
                        "Sequence loaded with the following segment data \"1,1,0,1,0,29999999,2,1,0,1,0,29999999\" and the advancement method is COND\n",
                        "Triggering Pulse Stoped\n",
                        "Average Value for measurement at step 16 is 1.3033174540594263 V\n",
                        "Sequence loaded with the following segment data \"1,1,0,1,0,29999999,2,1,0,1,0,29999999\" and the advancement method is COND\n",
                        "Triggering Pulse Stoped\n",
                        "Average Value for measurement at step 17 is 1.2431422143954387 V\n",
                        "Sequence loaded with the following segment data \"1,1,0,1,0,29999999,2,1,0,1,0,29999999\" and the advancement method is COND\n",
                        "Triggering Pulse Stoped\n",
                        "Average Value for measurement at step 18 is 1.1831634148977868 V\n",
                        "Sequence loaded with the following segment data \"1,1,0,1,0,29999999,2,1,0,1,0,29999999\" and the advancement method is COND\n",
                        "Triggering Pulse Stoped\n",
                        "Average Value for measurement at step 19 is 1.1129717001151422 V\n",
                        "Sequence loaded with the following segment data \"1,1,0,1,0,29999999,2,1,0,1,0,29999999\" and the advancement method is COND\n",
                        "Triggering Pulse Stoped\n",
                        "Average Value for measurement at step 20 is 1.043608906099239 V\n",
                        "Sequence loaded with the following segment data \"1,1,0,1,0,29999999,2,1,0,1,0,29999999\" and the advancement method is COND\n",
                        "Triggering Pulse Stoped\n",
                        "Average Value for measurement at step 21 is 0.9802341358307671 V\n",
                        "Sequence loaded with the following segment data \"1,1,0,1,0,29999999,2,1,0,1,0,29999999\" and the advancement method is COND\n",
                        "Triggering Pulse Stoped\n",
                        "Average Value for measurement at step 22 is 0.9240230308087418 V\n",
                        "Sequence loaded with the following segment data \"1,1,0,1,0,29999999,2,1,0,1,0,29999999\" and the advancement method is COND\n",
                        "Triggering Pulse Stoped\n",
                        "Average Value for measurement at step 23 is 0.8933279449744246 V\n",
                        "Sequence loaded with the following segment data \"1,1,0,1,0,29999999,2,1,0,1,0,29999999\" and the advancement method is COND\n",
                        "Triggering Pulse Stoped\n",
                        "Average Value for measurement at step 24 is 0.8907243150638299 V\n",
                        "Sequence loaded with the following segment data \"1,1,0,1,0,29999999,2,1,0,1,0,29999999\" and the advancement method is COND\n",
                        "Triggering Pulse Stoped\n",
                        "Average Value for measurement at step 25 is 0.8911173707657144 V\n",
                        "Sequence loaded with the following segment data \"1,1,0,1,0,29999999,2,1,0,1,0,29999999\" and the advancement method is COND\n",
                        "Triggering Pulse Stoped\n",
                        "Average Value for measurement at step 26 is 0.88767820386314 V\n",
                        "Sequence loaded with the following segment data \"1,1,0,1,0,29999999,2,1,0,1,0,29999999\" and the advancement method is COND\n",
                        "Triggering Pulse Stoped\n",
                        "Average Value for measurement at step 27 is 0.8840457039399625 V\n",
                        "Sequence loaded with the following segment data \"1,1,0,1,0,29999999,2,1,0,1,0,29999999\" and the advancement method is COND\n",
                        "Triggering Pulse Stoped\n",
                        "Average Value for measurement at step 28 is 0.8820512493182631 V\n",
                        "Sequence loaded with the following segment data \"1,1,0,1,0,29999999,2,1,0,1,0,29999999\" and the advancement method is COND\n",
                        "Triggering Pulse Stoped\n",
                        "Average Value for measurement at step 29 is 0.8803148696415188 V\n",
                        "Sequence loaded with the following segment data \"1,1,0,1,0,29999999,2,1,0,1,0,29999999\" and the advancement method is COND\n",
                        "Triggering Pulse Stoped\n",
                        "Average Value for measurement at step 30 is 0.879609803086376 V\n"
                    ]
                }
            ],
            "metadata": {}
        },
        {
            "cell_type": "code",
            "execution_count": 29,
            "source": [
                "fig,ax= plt.subplots()\r\n",
                "ax.grid(True)\r\n",
                "for i in range(0,len(Diode_Signal)):\r\n",
                "    plt.plot(Diode_Signal[i][1],Diode_Signal[i][0],label= 'Step {st}'.format(st = i ))\r\n",
                "\r\n",
                "ax.set_ylabel(r'V  [V]')\r\n",
                "ax.set_xlabel('t  [s]')\r\n",
                "ax.set_title(r' Diode Signal at Different Steps,  {b} Samples, 10micro probe duration'.format(b = len(Diode_Signal[0][1]) ))\r\n",
                "#ax.legend(bbox_to_anchor=(1.05, 1), loc='upper left', borderaxespad=0.)\r\n",
                "#ax.legend(loc=0)\r\n",
                "plt.show()\r\n",
                "fig.savefig(r'{loc}\\Diode Signal time cstant = {a}, sensitivity {b},{c} daqseconds, 5ms scheme, probe duration 10 micro,31 steps, no legend,6Ghz .jpeg'.format(loc = PulseScheme_A_10micro['Measurement file Path'],a = Lock_In_Settings['Time Constant'], b = Lock_In_Settings['Sensitivity'], c = playing_time),bbox_inches='tight')"
            ],
            "outputs": [
                {
                    "output_type": "display_data",
                    "data": {
                        "image/png": "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",
                        "text/plain": [
                            "<Figure size 432x288 with 1 Axes>"
                        ]
                    },
                    "metadata": {
                        "needs_background": "light"
                    }
                }
            ],
            "metadata": {}
        },
        {
            "cell_type": "code",
            "execution_count": 30,
            "source": [
                "time_delay = np.linspace(-20,20,31)"
            ],
            "outputs": [],
            "metadata": {}
        },
        {
            "cell_type": "code",
            "execution_count": 31,
            "source": [
                "#change this to V regime\r\n",
                "fig,axes = plt.subplots()\r\n",
                "\r\n",
                "axes.grid(True)\r\n",
                "\r\n",
                "plt.plot(time_delay,averaged_data,label=r'10$\\mu$s Probe Width ',color='red')\r\n",
                "#plt.plot(tm,pul,label = '{a} samples'.format(a = len(pul)))\r\n",
                "\r\n",
                "axes.set_xlabel(r'time delay [$\\mu$s]')\r\n",
                "axes.set_ylabel(r'Diode Signal [V]')\r\n",
                "axes.set_title('Auto-Correlation 31 steps ')\r\n",
                "\r\n",
                "axes.legend(loc = 0)\r\n",
                "plt.show()\r\n",
                "\r\n",
                "fig.savefig(r'{loc}\\Autocorrelation function 31 steps probes 5ms length tc = {a}, sens {b}, {c}s DAQ 6Ghz.jpeg'.format(loc = PulseScheme_A_10micro['Measurement file Path'],a = Lock_In_Settings['Time Constant'], b = Lock_In_Settings['Sensitivity'], c = playing_time ))"
            ],
            "outputs": [
                {
                    "output_type": "display_data",
                    "data": {
                        "image/png": "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",
                        "text/plain": [
                            "<Figure size 432x288 with 1 Axes>"
                        ]
                    },
                    "metadata": {
                        "needs_background": "light"
                    }
                }
            ],
            "metadata": {}
        },
        {
            "cell_type": "markdown",
            "source": [
                "## 1micro"
            ],
            "metadata": {}
        },
        {
            "cell_type": "code",
            "execution_count": 24,
            "source": [
                "Pump_1micro = {\r\n",
                "    'Name':'Pump_1micro',\r\n",
                "    'Amplitude':35,\r\n",
                "    'Start time':2,\r\n",
                "    'End time':2e-10,\r\n",
                "    'Start Duration':1,\r\n",
                "    'End Duration':60,\r\n",
                "    'Sweep time':0,\r\n",
                "    'Sweep Duration':0\r\n",
                "}"
            ],
            "outputs": [],
            "metadata": {}
        },
        {
            "cell_type": "code",
            "execution_count": 25,
            "source": [
                "ProbeA_1micro = {\r\n",
                "    'Name':'ProbeA_1micro',\r\n",
                "    'Amplitude':20,\r\n",
                "    'Start time':0,\r\n",
                "    'End time':4,\r\n",
                "    'Start Duration':1,\r\n",
                "    'End Duration':60,\r\n",
                "    'Sweep time':1,\r\n",
                "    'Sweep Duration':0\r\n",
                "}"
            ],
            "outputs": [],
            "metadata": {}
        },
        {
            "cell_type": "code",
            "execution_count": 26,
            "source": [
                "ProbeB_1micro = {\r\n",
                "    'Name':'ProbeB_1micro',\r\n",
                "    'Amplitude':0,\r\n",
                "    'Start time':0,\r\n",
                "    'End time':12,\r\n",
                "    'Start Duration':1,\r\n",
                "    'End Duration':6,\r\n",
                "    'Sweep time':0,\r\n",
                "    'Sweep Duration':0\r\n",
                "}"
            ],
            "outputs": [],
            "metadata": {}
        },
        {
            "cell_type": "code",
            "execution_count": 27,
            "source": [
                "PulseScheme_A_1micro =  {\r\n",
                "    'Name' : 'PulseScheme_A_1micro',\r\n",
                "    'Pulse Scheme': [Pump_1micro,ProbeA_1micro],\r\n",
                "    'Number of repetitions': 200,\r\n",
                "    'Measurement file Path': r'D:\\Alejandro\\Pulses\\diode measurements\\Autocorrelation measurements\\1micro'\r\n",
                "}"
            ],
            "outputs": [],
            "metadata": {}
        },
        {
            "cell_type": "code",
            "execution_count": 28,
            "source": [
                "PulseScheme_B_1micro  = {\r\n",
                "    'Name' : 'PulseScheme_B_1micro',\r\n",
                "    'Pulse Scheme': [ProbeB_1micro,ProbeB_1micro],\r\n",
                "    'Number of repetitions': 1,\r\n",
                "    'Measurement file Path': r'D:\\Alejandro\\Pulses\\diode measurements\\Autocorrelation measurements\\1micro'\r\n",
                "}"
            ],
            "outputs": [],
            "metadata": {}
        },
        {
            "cell_type": "code",
            "execution_count": null,
            "source": [],
            "outputs": [],
            "metadata": {}
        },
        {
            "cell_type": "code",
            "execution_count": null,
            "source": [
                "#Exporting pickle\r\n",
                "\r\n",
                "with open(r\"{dict}\\cycleA_31steps_5ms_1micro_6GHz.p\".format(dict = PulseScheme_A_1micro['Measurement file Path']), \"wb\") as k:\r\n",
                "    pickle.dump(sweeping_run_a_1micro, k)\r\n",
                "\r\n",
                "\r\n",
                "with open(r\"{dict}\\cycleB_31steps_5ms_1micro_6GHz.p\".format(dict = PulseScheme_A_1micro['Measurement file Path']), \"wb\") as h:\r\n",
                "    pickle.dump(sweeping_run_b_1micro, h)"
            ],
            "outputs": [],
            "metadata": {}
        },
        {
            "cell_type": "code",
            "execution_count": 29,
            "source": [
                "#Importing Pickle\r\n",
                "\r\n",
                "with open(r\"{dict}\\cycleA_31steps_5ms_1micro_6GHz.p\".format(dict = PulseScheme_A_1micro['Measurement file Path']), \"rb\") as j:\r\n",
                "    sweeping_runa_1micro = pickle.load(j)\r\n",
                "\r\n",
                "with open(r\"{dict}\\cycleB_31steps_5ms_1micro_6GHz.p\".format(dict = PulseScheme_A_1micro['Measurement file Path']), \"rb\") as f:\r\n",
                "    sweeping_runb_1micro = pickle.load(f)"
            ],
            "outputs": [],
            "metadata": {}
        },
        {
            "cell_type": "code",
            "execution_count": 31,
            "source": [
                "sweeping_runb_1micro"
            ],
            "outputs": [
                {
                    "output_type": "execute_result",
                    "data": {
                        "text/plain": [
                            "{'Pulse File Location, at step 0': 'D:\\\\Alejandro\\\\Pulses\\\\diode measurements\\\\Prepared Pulse Schemes CSV\\\\1micro\\\\SegmentB_30000000_0.csv',\n",
                            " 'Pulse File Location, at step 1': 'D:\\\\Alejandro\\\\Pulses\\\\diode measurements\\\\Prepared Pulse Schemes CSV\\\\1micro\\\\SegmentB_30000000_1.csv',\n",
                            " 'Pulse File Location, at step 2': 'D:\\\\Alejandro\\\\Pulses\\\\diode measurements\\\\Prepared Pulse Schemes CSV\\\\1micro\\\\SegmentB_30000000_2.csv',\n",
                            " 'Pulse File Location, at step 3': 'D:\\\\Alejandro\\\\Pulses\\\\diode measurements\\\\Prepared Pulse Schemes CSV\\\\1micro\\\\SegmentB_30000000_3.csv',\n",
                            " 'Pulse File Location, at step 4': 'D:\\\\Alejandro\\\\Pulses\\\\diode measurements\\\\Prepared Pulse Schemes CSV\\\\1micro\\\\SegmentB_30000000_4.csv',\n",
                            " 'Pulse File Location, at step 5': 'D:\\\\Alejandro\\\\Pulses\\\\diode measurements\\\\Prepared Pulse Schemes CSV\\\\1micro\\\\SegmentB_30000000_5.csv',\n",
                            " 'Pulse File Location, at step 6': 'D:\\\\Alejandro\\\\Pulses\\\\diode measurements\\\\Prepared Pulse Schemes CSV\\\\1micro\\\\SegmentB_30000000_6.csv',\n",
                            " 'Pulse File Location, at step 7': 'D:\\\\Alejandro\\\\Pulses\\\\diode measurements\\\\Prepared Pulse Schemes CSV\\\\1micro\\\\SegmentB_30000000_7.csv',\n",
                            " 'Pulse File Location, at step 8': 'D:\\\\Alejandro\\\\Pulses\\\\diode measurements\\\\Prepared Pulse Schemes CSV\\\\1micro\\\\SegmentB_30000000_8.csv',\n",
                            " 'Pulse File Location, at step 9': 'D:\\\\Alejandro\\\\Pulses\\\\diode measurements\\\\Prepared Pulse Schemes CSV\\\\1micro\\\\SegmentB_30000000_9.csv',\n",
                            " 'Pulse File Location, at step 10': 'D:\\\\Alejandro\\\\Pulses\\\\diode measurements\\\\Prepared Pulse Schemes CSV\\\\1micro\\\\SegmentB_30000000_10.csv',\n",
                            " 'Pulse File Location, at step 11': 'D:\\\\Alejandro\\\\Pulses\\\\diode measurements\\\\Prepared Pulse Schemes CSV\\\\1micro\\\\SegmentB_30000000_11.csv',\n",
                            " 'Pulse File Location, at step 12': 'D:\\\\Alejandro\\\\Pulses\\\\diode measurements\\\\Prepared Pulse Schemes CSV\\\\1micro\\\\SegmentB_30000000_12.csv',\n",
                            " 'Pulse File Location, at step 13': 'D:\\\\Alejandro\\\\Pulses\\\\diode measurements\\\\Prepared Pulse Schemes CSV\\\\1micro\\\\SegmentB_30000000_13.csv',\n",
                            " 'Pulse File Location, at step 14': 'D:\\\\Alejandro\\\\Pulses\\\\diode measurements\\\\Prepared Pulse Schemes CSV\\\\1micro\\\\SegmentB_30000000_14.csv',\n",
                            " 'Pulse File Location, at step 15': 'D:\\\\Alejandro\\\\Pulses\\\\diode measurements\\\\Prepared Pulse Schemes CSV\\\\1micro\\\\SegmentB_30000000_15.csv',\n",
                            " 'Pulse File Location, at step 16': 'D:\\\\Alejandro\\\\Pulses\\\\diode measurements\\\\Prepared Pulse Schemes CSV\\\\1micro\\\\SegmentB_30000000_16.csv',\n",
                            " 'Pulse File Location, at step 17': 'D:\\\\Alejandro\\\\Pulses\\\\diode measurements\\\\Prepared Pulse Schemes CSV\\\\1micro\\\\SegmentB_30000000_17.csv',\n",
                            " 'Pulse File Location, at step 18': 'D:\\\\Alejandro\\\\Pulses\\\\diode measurements\\\\Prepared Pulse Schemes CSV\\\\1micro\\\\SegmentB_30000000_18.csv',\n",
                            " 'Pulse File Location, at step 19': 'D:\\\\Alejandro\\\\Pulses\\\\diode measurements\\\\Prepared Pulse Schemes CSV\\\\1micro\\\\SegmentB_30000000_19.csv',\n",
                            " 'Pulse File Location, at step 20': 'D:\\\\Alejandro\\\\Pulses\\\\diode measurements\\\\Prepared Pulse Schemes CSV\\\\1micro\\\\SegmentB_30000000_20.csv',\n",
                            " 'Pulse File Location, at step 21': 'D:\\\\Alejandro\\\\Pulses\\\\diode measurements\\\\Prepared Pulse Schemes CSV\\\\1micro\\\\SegmentB_30000000_21.csv',\n",
                            " 'Pulse File Location, at step 22': 'D:\\\\Alejandro\\\\Pulses\\\\diode measurements\\\\Prepared Pulse Schemes CSV\\\\1micro\\\\SegmentB_30000000_22.csv',\n",
                            " 'Pulse File Location, at step 23': 'D:\\\\Alejandro\\\\Pulses\\\\diode measurements\\\\Prepared Pulse Schemes CSV\\\\1micro\\\\SegmentB_30000000_23.csv',\n",
                            " 'Pulse File Location, at step 24': 'D:\\\\Alejandro\\\\Pulses\\\\diode measurements\\\\Prepared Pulse Schemes CSV\\\\1micro\\\\SegmentB_30000000_24.csv',\n",
                            " 'Pulse File Location, at step 25': 'D:\\\\Alejandro\\\\Pulses\\\\diode measurements\\\\Prepared Pulse Schemes CSV\\\\1micro\\\\SegmentB_30000000_25.csv',\n",
                            " 'Pulse File Location, at step 26': 'D:\\\\Alejandro\\\\Pulses\\\\diode measurements\\\\Prepared Pulse Schemes CSV\\\\1micro\\\\SegmentB_30000000_26.csv',\n",
                            " 'Pulse File Location, at step 27': 'D:\\\\Alejandro\\\\Pulses\\\\diode measurements\\\\Prepared Pulse Schemes CSV\\\\1micro\\\\SegmentB_30000000_27.csv',\n",
                            " 'Pulse File Location, at step 28': 'D:\\\\Alejandro\\\\Pulses\\\\diode measurements\\\\Prepared Pulse Schemes CSV\\\\1micro\\\\SegmentB_30000000_28.csv',\n",
                            " 'Pulse File Location, at step 29': 'D:\\\\Alejandro\\\\Pulses\\\\diode measurements\\\\Prepared Pulse Schemes CSV\\\\1micro\\\\SegmentB_30000000_29.csv',\n",
                            " 'Pulse File Location, at step 30': 'D:\\\\Alejandro\\\\Pulses\\\\diode measurements\\\\Prepared Pulse Schemes CSV\\\\1micro\\\\SegmentB_30000000_30.csv'}"
                        ]
                    },
                    "metadata": {},
                    "execution_count": 31
                }
            ],
            "metadata": {}
        },
        {
            "cell_type": "code",
            "execution_count": null,
            "source": [
                "M8190A.write('SEQ:DEL:ALL')"
            ],
            "outputs": [
                {
                    "output_type": "display_data",
                    "data": {
                        "text/plain": [
                            "12"
                        ]
                    },
                    "metadata": {}
                }
            ],
            "metadata": {}
        },
        {
            "cell_type": "code",
            "execution_count": null,
            "source": [
                "Lock_In_Settings = {\r\n",
                "'Time Constant' : '300ms',\r\n",
                "'Sensitivity' : '500 microVolts',\r\n",
                "'Reserve' : 'Normal',\r\n",
                "'db' : 24,\r\n",
                "'Modulation': '100Hz'\r\n",
                "}"
            ],
            "outputs": [],
            "metadata": {}
        },
        {
            "cell_type": "code",
            "execution_count": null,
            "source": [
                "playing_time = 10 #in seconds\r\n",
                "\r\n",
                "Diode_Signal, averaged_data = Measurement_Autocorrelation_voltage(M8190A,DAQ_Settings1,1000, playing_time ,sweeping_runa_1micro,sweeping_runb_1micro,PulseScheme_A_1micro['Measurement file Path'],Lock_In_Settings)"
            ],
            "outputs": [
                {
                    "output_type": "stream",
                    "name": "stdout",
                    "text": [
                        "Sequence loaded with the following segment data \"1,1,0,1,0,29999999,2,1,0,1,0,29999999\" and the advancement method is COND\n",
                        "Triggering Pulse Stoped\n",
                        "Data acquired for Step 0\n",
                        "Sequence loaded with the following segment data \"1,1,0,1,0,29999999,2,1,0,1,0,29999999\" and the advancement method is COND\n",
                        "Triggering Pulse Stoped\n",
                        "Data acquired for Step 1\n",
                        "Sequence loaded with the following segment data \"1,1,0,1,0,29999999,2,1,0,1,0,29999999\" and the advancement method is COND\n",
                        "Triggering Pulse Stoped\n",
                        "Data acquired for Step 2\n",
                        "Sequence loaded with the following segment data \"1,1,0,1,0,29999999,2,1,0,1,0,29999999\" and the advancement method is COND\n",
                        "Triggering Pulse Stoped\n",
                        "Data acquired for Step 3\n",
                        "Sequence loaded with the following segment data \"1,1,0,1,0,29999999,2,1,0,1,0,29999999\" and the advancement method is COND\n",
                        "Triggering Pulse Stoped\n",
                        "Data acquired for Step 4\n",
                        "Sequence loaded with the following segment data \"1,1,0,1,0,29999999,2,1,0,1,0,29999999\" and the advancement method is COND\n",
                        "Triggering Pulse Stoped\n",
                        "Data acquired for Step 5\n",
                        "Sequence loaded with the following segment data \"1,1,0,1,0,29999999,2,1,0,1,0,29999999\" and the advancement method is COND\n",
                        "Triggering Pulse Stoped\n",
                        "Data acquired for Step 6\n",
                        "Sequence loaded with the following segment data \"1,1,0,1,0,29999999,2,1,0,1,0,29999999\" and the advancement method is COND\n",
                        "Triggering Pulse Stoped\n",
                        "Data acquired for Step 7\n",
                        "Sequence loaded with the following segment data \"1,1,0,1,0,29999999,2,1,0,1,0,29999999\" and the advancement method is COND\n",
                        "Triggering Pulse Stoped\n",
                        "Data acquired for Step 8\n"
                    ]
                }
            ],
            "metadata": {}
        },
        {
            "cell_type": "code",
            "execution_count": null,
            "source": [
                "fig,ax= plt.subplots()\r\n",
                "ax.grid(True)\r\n",
                "for i in range(0,len(Diode_Signal)):\r\n",
                "    plt.plot(Diode_Signal[i][1],Diode_Signal[i][0],label= 'Step {st}'.format(st = i ))\r\n",
                "\r\n",
                "ax.set_ylabel(r'V  [V]')\r\n",
                "ax.set_xlabel('t  [s]')\r\n",
                "ax.set_title(r' Diode Signal at Different Steps,  {b} Samples, 1$\\mu$ probe duration'.format(b = len(Diode_Signal[0][1]) ))\r\n",
                "#ax.legend(bbox_to_anchor=(1.05, 1), loc='upper left', borderaxespad=0.)\r\n",
                "#ax.legend(loc=0)\r\n",
                "plt.show()\r\n",
                "\r\n",
                "fig.savefig(r'{loc}\\Diode Signal time cstant = {a}, sensitivity {b},{c} daqseconds, 5ms scheme, probe duration 1 micro,31 steps, no legend,6Ghz .jpeg'.format(loc = PulseScheme_A_1micro['Measurement file Path'],a = Lock_In_Settings['Time Constant'], b = Lock_In_Settings['Sensitivity'], c = playing_time),bbox_inches='tight')"
            ],
            "outputs": [
                {
                    "output_type": "display_data",
                    "data": {
                        "image/png": "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",
                        "text/plain": [
                            "<Figure size 432x288 with 1 Axes>"
                        ]
                    },
                    "metadata": {}
                }
            ],
            "metadata": {}
        },
        {
            "cell_type": "code",
            "execution_count": null,
            "source": [
                "time_delay = np.linspace(-2,2,31)"
            ],
            "outputs": [],
            "metadata": {}
        },
        {
            "cell_type": "code",
            "execution_count": null,
            "source": [
                "#change this to V regime\r\n",
                "fig,axes = plt.subplots()\r\n",
                "\r\n",
                "axes.grid(True)\r\n",
                "\r\n",
                "plt.plot(time_delay,averaged_data,label=r'1$\\mu$s Probe Width ',color='blue')\r\n",
                "#plt.plot(tm,pul,label = '{a} samples'.format(a = len(pul)))\r\n",
                "\r\n",
                "axes.set_xlabel(r'time delay [$\\mu$s]')\r\n",
                "axes.set_ylabel(r'Diode Signal [V]')\r\n",
                "axes.set_title('Auto-Correlation 31 steps ')\r\n",
                "\r\n",
                "axes.legend(loc = 0)\r\n",
                "plt.show()\r\n",
                "\r\n",
                "fig.savefig(r'{loc}\\Autocorrelation function 31 steps probes 5ms length tc = {a}, sens {b}, {c}s DAQ 6Ghz.jpeg'.format(loc = PulseScheme_A_1micro['Measurement file Path'],a = Lock_In_Settings['Time Constant'], b = Lock_In_Settings['Sensitivity'], c = playing_time ))"
            ],
            "outputs": [
                {
                    "output_type": "display_data",
                    "data": {
                        "image/png": "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",
                        "text/plain": [
                            "<Figure size 432x288 with 1 Axes>"
                        ]
                    },
                    "metadata": {}
                }
            ],
            "metadata": {}
        },
        {
            "cell_type": "markdown",
            "source": [
                "## 100nano"
            ],
            "metadata": {}
        },
        {
            "cell_type": "code",
            "execution_count": 21,
            "source": [
                "Pump_100nano = {\r\n",
                "    'Name':'Pump_100nano',\r\n",
                "    'Amplitude':35,\r\n",
                "    'Start time':200,\r\n",
                "    'End time':2e-10,\r\n",
                "    'Start Duration':100,\r\n",
                "    'End Duration':60,\r\n",
                "    'Sweep time':0,\r\n",
                "    'Sweep Duration':0\r\n",
                "}"
            ],
            "outputs": [],
            "metadata": {}
        },
        {
            "cell_type": "code",
            "execution_count": 22,
            "source": [
                "ProbeA_100nano = {\r\n",
                "    'Name':'ProbeA_100nano',\r\n",
                "    'Amplitude':20,\r\n",
                "    'Start time':0,\r\n",
                "    'End time':400,\r\n",
                "    'Start Duration':100,\r\n",
                "    'End Duration':60,\r\n",
                "    'Sweep time':1,\r\n",
                "    'Sweep Duration':0\r\n",
                "}"
            ],
            "outputs": [],
            "metadata": {}
        },
        {
            "cell_type": "code",
            "execution_count": 23,
            "source": [
                "ProbeB_100nano = {\r\n",
                "    'Name':'ProbeB_100nano',\r\n",
                "    'Amplitude':0,\r\n",
                "    'Start time':0,\r\n",
                "    'End time':12,\r\n",
                "    'Start Duration':1,\r\n",
                "    'End Duration':6,\r\n",
                "    'Sweep time':0,\r\n",
                "    'Sweep Duration':0\r\n",
                "}"
            ],
            "outputs": [],
            "metadata": {}
        },
        {
            "cell_type": "code",
            "execution_count": 24,
            "source": [
                "PulseScheme_A_100nano =  {\r\n",
                "    'Name' : 'PulseScheme_A_100nano',\r\n",
                "    'Pulse Scheme': [Pump_100nano,ProbeA_100nano],\r\n",
                "    'Number of repetitions': 2000,\r\n",
                "    'Measurement file Path': r'D:\\Alejandro\\Pulses\\diode measurements\\Autocorrelation measurements\\100nano'\r\n",
                "}"
            ],
            "outputs": [],
            "metadata": {}
        },
        {
            "cell_type": "code",
            "execution_count": 25,
            "source": [
                "PulseScheme_B_100nano  = {\r\n",
                "    'Name' : 'PulseScheme__100nano',\r\n",
                "    'Pulse Scheme': [ProbeB_100nano,ProbeB_100nano],\r\n",
                "    'Number of repetitions': 2000,\r\n",
                "    'Measurement file Path': r'D:\\Alejandro\\Pulses\\diode measurements\\Autocorrelation measurements\\100nano'\r\n",
                "}"
            ],
            "outputs": [],
            "metadata": {}
        },
        {
            "cell_type": "code",
            "execution_count": 28,
            "source": [
                "sam = int(6e9*5e-3)\r\n",
                "\r\n",
                "#sam /480\r\n",
                "\r\n",
                "#M8190A.write('FREQ:RAST 6000000000')"
            ],
            "outputs": [],
            "metadata": {}
        },
        {
            "cell_type": "code",
            "execution_count": null,
            "source": [
                "sweeping_run_a_100nano = Sweeping_Single_List_File_teil(PulseScheme_A_100nano,30,5000000,sam,0,30,AWG_Settings,'A')[0]"
            ],
            "outputs": [],
            "metadata": {}
        },
        {
            "cell_type": "code",
            "execution_count": null,
            "source": [
                "sweeping_run_b_100nano = Sweeping_Single_List_File_teil(PulseScheme_B_100nano,30,5000000,sam,0,30,AWG_Settings,'B')[0]"
            ],
            "outputs": [],
            "metadata": {}
        },
        {
            "cell_type": "code",
            "execution_count": null,
            "source": [
                "#Exporting pickle\r\n",
                "\r\n",
                "with open(r\"{dict}\\cycleA_31steps_5ms_100nano_6GHz.p\".format(dict = PulseScheme_A_100nano['Measurement file Path']), \"wb\") as k:\r\n",
                "    pickle.dump(sweeping_run_a_100nano, k)\r\n",
                "\r\n",
                "\r\n",
                "with open(r\"{dict}\\cycleB_31steps_5ms_100nano_6GHz.p\".format(dict = PulseScheme_A_100nano['Measurement file Path']), \"wb\") as h:\r\n",
                "    pickle.dump(sweeping_run_b_100nano, h)"
            ],
            "outputs": [],
            "metadata": {}
        },
        {
            "cell_type": "code",
            "execution_count": 26,
            "source": [
                "#Importing Pickle\r\n",
                "\r\n",
                "with open(r\"{dict}\\cycleA_31steps_5ms_100nano_6GHz.p\".format(dict = PulseScheme_A_100nano['Measurement file Path']), \"rb\") as j:\r\n",
                "    sweeping_runa_100nano = pickle.load(j)\r\n",
                "\r\n",
                "with open(r\"{dict}\\cycleB_31steps_5ms_100nano_6GHz.p\".format(dict = PulseScheme_A_100nano['Measurement file Path']), \"rb\") as f:\r\n",
                "    sweeping_runb_100nano = pickle.load(f)"
            ],
            "outputs": [],
            "metadata": {}
        },
        {
            "cell_type": "code",
            "execution_count": 37,
            "source": [
                "M8190A.write('SEQ:DEL:ALL')"
            ],
            "outputs": [
                {
                    "output_type": "execute_result",
                    "data": {
                        "text/plain": [
                            "12"
                        ]
                    },
                    "metadata": {},
                    "execution_count": 37
                }
            ],
            "metadata": {}
        },
        {
            "cell_type": "code",
            "execution_count": 36,
            "source": [
                "Lock_In_Settings = {\r\n",
                "'Time Constant' : '30ms',\r\n",
                "'Sensitivity' : '500 microVolts',\r\n",
                "'Reserve' : 'Normal',\r\n",
                "'db' : 24,\r\n",
                "'Modulation': '100Hz'\r\n",
                "}"
            ],
            "outputs": [],
            "metadata": {}
        },
        {
            "cell_type": "code",
            "execution_count": 38,
            "source": [
                "playing_time = 40 #in seconds\r\n",
                "\r\n",
                "Diode_Signal, averaged_data = Measurement_Autocorrelation_voltage(M8190A,DAQ_Settings1,1000, playing_time ,sweeping_runa_100nano,sweeping_runb_100nano,PulseScheme_A_100nano['Measurement file Path'],Lock_In_Settings)"
            ],
            "outputs": [
                {
                    "output_type": "stream",
                    "name": "stdout",
                    "text": [
                        "Sequence loaded with the following segment data \"1,1,0,1,0,29999999,2,1,0,1,0,29999999\" and the advancement method is COND\n",
                        "Triggering Pulse Stoped\n",
                        "Data acquired for Step 0\n",
                        "Sequence loaded with the following segment data \"1,1,0,1,0,29999999,2,1,0,1,0,29999999\" and the advancement method is COND\n",
                        "Triggering Pulse Stoped\n",
                        "Data acquired for Step 1\n",
                        "Sequence loaded with the following segment data \"1,1,0,1,0,29999999,2,1,0,1,0,29999999\" and the advancement method is COND\n",
                        "Triggering Pulse Stoped\n",
                        "Data acquired for Step 2\n",
                        "Sequence loaded with the following segment data \"1,1,0,1,0,29999999,2,1,0,1,0,29999999\" and the advancement method is COND\n",
                        "Triggering Pulse Stoped\n",
                        "Data acquired for Step 3\n",
                        "Sequence loaded with the following segment data \"1,1,0,1,0,29999999,2,1,0,1,0,29999999\" and the advancement method is COND\n",
                        "Triggering Pulse Stoped\n",
                        "Data acquired for Step 4\n",
                        "Sequence loaded with the following segment data \"1,1,0,1,0,29999999,2,1,0,1,0,29999999\" and the advancement method is COND\n",
                        "Triggering Pulse Stoped\n",
                        "Data acquired for Step 5\n",
                        "Sequence loaded with the following segment data \"1,1,0,1,0,29999999,2,1,0,1,0,29999999\" and the advancement method is COND\n",
                        "Triggering Pulse Stoped\n",
                        "Data acquired for Step 6\n",
                        "Sequence loaded with the following segment data \"1,1,0,1,0,29999999,2,1,0,1,0,29999999\" and the advancement method is COND\n",
                        "Triggering Pulse Stoped\n",
                        "Data acquired for Step 7\n",
                        "Sequence loaded with the following segment data \"1,1,0,1,0,29999999,2,1,0,1,0,29999999\" and the advancement method is COND\n",
                        "Triggering Pulse Stoped\n",
                        "Data acquired for Step 8\n",
                        "Sequence loaded with the following segment data \"1,1,0,1,0,29999999,2,1,0,1,0,29999999\" and the advancement method is COND\n",
                        "Triggering Pulse Stoped\n",
                        "Data acquired for Step 9\n",
                        "Sequence loaded with the following segment data \"1,1,0,1,0,29999999,2,1,0,1,0,29999999\" and the advancement method is COND\n",
                        "Triggering Pulse Stoped\n",
                        "Data acquired for Step 10\n",
                        "Sequence loaded with the following segment data \"1,1,0,1,0,29999999,2,1,0,1,0,29999999\" and the advancement method is COND\n",
                        "Triggering Pulse Stoped\n",
                        "Data acquired for Step 11\n",
                        "Sequence loaded with the following segment data \"1,1,0,1,0,29999999,2,1,0,1,0,29999999\" and the advancement method is COND\n",
                        "Triggering Pulse Stoped\n",
                        "Data acquired for Step 12\n",
                        "Sequence loaded with the following segment data \"1,1,0,1,0,29999999,2,1,0,1,0,29999999\" and the advancement method is COND\n",
                        "Triggering Pulse Stoped\n",
                        "Data acquired for Step 13\n",
                        "Sequence loaded with the following segment data \"1,1,0,1,0,29999999,2,1,0,1,0,29999999\" and the advancement method is COND\n",
                        "Triggering Pulse Stoped\n",
                        "Data acquired for Step 14\n",
                        "Sequence loaded with the following segment data \"1,1,0,1,0,29999999,2,1,0,1,0,29999999\" and the advancement method is COND\n",
                        "Triggering Pulse Stoped\n",
                        "Data acquired for Step 15\n",
                        "Sequence loaded with the following segment data \"1,1,0,1,0,29999999,2,1,0,1,0,29999999\" and the advancement method is COND\n",
                        "Triggering Pulse Stoped\n",
                        "Data acquired for Step 16\n",
                        "Sequence loaded with the following segment data \"1,1,0,1,0,29999999,2,1,0,1,0,29999999\" and the advancement method is COND\n",
                        "Triggering Pulse Stoped\n",
                        "Data acquired for Step 17\n",
                        "Sequence loaded with the following segment data \"1,1,0,1,0,29999999,2,1,0,1,0,29999999\" and the advancement method is COND\n",
                        "Triggering Pulse Stoped\n",
                        "Data acquired for Step 18\n",
                        "Sequence loaded with the following segment data \"1,1,0,1,0,29999999,2,1,0,1,0,29999999\" and the advancement method is COND\n",
                        "Triggering Pulse Stoped\n",
                        "Data acquired for Step 19\n",
                        "Sequence loaded with the following segment data \"1,1,0,1,0,29999999,2,1,0,1,0,29999999\" and the advancement method is COND\n",
                        "Triggering Pulse Stoped\n",
                        "Data acquired for Step 20\n",
                        "Sequence loaded with the following segment data \"1,1,0,1,0,29999999,2,1,0,1,0,29999999\" and the advancement method is COND\n",
                        "Triggering Pulse Stoped\n",
                        "Data acquired for Step 21\n",
                        "Sequence loaded with the following segment data \"1,1,0,1,0,29999999,2,1,0,1,0,29999999\" and the advancement method is COND\n",
                        "Triggering Pulse Stoped\n",
                        "Data acquired for Step 22\n",
                        "Sequence loaded with the following segment data \"1,1,0,1,0,29999999,2,1,0,1,0,29999999\" and the advancement method is COND\n",
                        "Triggering Pulse Stoped\n",
                        "Data acquired for Step 23\n",
                        "Sequence loaded with the following segment data \"1,1,0,1,0,29999999,2,1,0,1,0,29999999\" and the advancement method is COND\n",
                        "Triggering Pulse Stoped\n",
                        "Data acquired for Step 24\n",
                        "Sequence loaded with the following segment data \"1,1,0,1,0,29999999,2,1,0,1,0,29999999\" and the advancement method is COND\n",
                        "Triggering Pulse Stoped\n",
                        "Data acquired for Step 25\n",
                        "Sequence loaded with the following segment data \"1,1,0,1,0,29999999,2,1,0,1,0,29999999\" and the advancement method is COND\n",
                        "Triggering Pulse Stoped\n",
                        "Data acquired for Step 26\n",
                        "Sequence loaded with the following segment data \"1,1,0,1,0,29999999,2,1,0,1,0,29999999\" and the advancement method is COND\n",
                        "Triggering Pulse Stoped\n",
                        "Data acquired for Step 27\n",
                        "Sequence loaded with the following segment data \"1,1,0,1,0,29999999,2,1,0,1,0,29999999\" and the advancement method is COND\n",
                        "Triggering Pulse Stoped\n",
                        "Data acquired for Step 28\n",
                        "Sequence loaded with the following segment data \"1,1,0,1,0,29999999,2,1,0,1,0,29999999\" and the advancement method is COND\n",
                        "Triggering Pulse Stoped\n",
                        "Data acquired for Step 29\n",
                        "Sequence loaded with the following segment data \"1,1,0,1,0,29999999,2,1,0,1,0,29999999\" and the advancement method is COND\n",
                        "Triggering Pulse Stoped\n",
                        "Data acquired for Step 30\n"
                    ]
                }
            ],
            "metadata": {}
        },
        {
            "cell_type": "code",
            "execution_count": 41,
            "source": [
                "fig,ax= plt.subplots()\r\n",
                "ax.grid(True)\r\n",
                "for i in range(0,len(Diode_Signal)):\r\n",
                "    plt.plot(Diode_Signal[i][1],Diode_Signal[i][0],label= 'Step {st}'.format(st = i ))\r\n",
                "\r\n",
                "ax.set_ylabel(r'V  [V]')\r\n",
                "ax.set_xlabel('t  [s]')\r\n",
                "ax.set_title(r' Diode Signal at Different Steps,  {b} Samples, 100 nano seconds probe duration'.format(b = len(Diode_Signal[0][1]) ))\r\n",
                "#ax.legend(bbox_to_anchor=(1.05, 1), loc='upper left', borderaxespad=0.)\r\n",
                "#ax.legend(loc=0)\r\n",
                "plt.show()\r\n",
                "\r\n",
                "fig.savefig(r'{loc}\\Diode Signal time cstant = {a}, sensitivity {b},{c} daqseconds, 5ms scheme, probe duration 100 nano,31 steps, no legend,6Ghz .jpeg'.format(loc = PulseScheme_A_100nano['Measurement file Path'],a = Lock_In_Settings['Time Constant'], b = Lock_In_Settings['Sensitivity'], c = playing_time),bbox_inches='tight')"
            ],
            "outputs": [
                {
                    "output_type": "display_data",
                    "data": {
                        "image/png": "iVBORw0KGgoAAAANSUhEUgAAAggAAAEWCAYAAAADyG8VAAAAOXRFWHRTb2Z0d2FyZQBNYXRwbG90bGliIHZlcnNpb24zLjMuMiwgaHR0cHM6Ly9tYXRwbG90bGliLm9yZy8vihELAAAACXBIWXMAAAsTAAALEwEAmpwYAACEf0lEQVR4nOyddXxUx9qAn1nLxhWSECS4e3BJQqCltNTdvb1V6vq1tL3trbtw617aUqcCtCVIcXcLFiRA3LM23x/nZLOb7IYIEJI7z+8X2HNGzjtz5sx5zzvvzAgpJQqFQqFQKBSeGJpaAIVCoVAoFCcfSkFQKBQKhUJRA6UgKBQKhUKhqIFSEBQKhUKhUNRAKQgKhUKhUChqoBQEhUKhUCgUNTguCoIQ4nchxFUNTLtbCDH+ZJKpntf5WAjx7+N9naPIUCyE6KT/DhRC/CKEKBBCfKuf+7cQIlsIkdWUcir+dzlez7ni5EQIkSiEkEIIUxPLcdzanRAiXQhx/fHI28/1HhZCvH88r1FvBUG/ySX6SyhHCPGXEOIizzhSytOklJ8cOzHrLNvDQohdumz7hBBfN7VM9eFojVcIkSKEcOnlqyzjN0KIIZ7xpJQhUsqd+uH5QCwQLaW8QAjRDrgH6CWljDtuhfGD3n661BJuEUK8pJetWL+fr3iEn9QvFiHE43oZx3ucE0KI5/TnJUcI8bwQQniEJwoh5gohSoUQW6qXTwhxqRBij/7c/SiEiPIICxBCfCiEKBRCZAkh7j6KfH6fkZaGEOJdIcRW/Zm52kf4XXqdFeh1GOARFiWE+EGv8z1CiEtPqPAKhQd637/P85yU8hkp5XFVSBpqQegvpQwBugMfA28KIR4/ZlI1AN06cAUwXpctCfirKWU6ThzQyxcKDAe2AAuEEGl+4ncAtkkpHR7HOVLKw/W9sP6iO97DUg+h3buhaGVMBVYf52seE4QQndEUsoPVgm4Ezgb6A/2AM4CbPMK/QitjNPAIMEMI0UrPszfwX7S2HQuUAm97pJ0KdEW7r6nA/UKIiX7k+195RipZC9wCrKoeIIQ4FXgQSAMSgU7AEx5R3gJsaHV+GfCOfi8UJylNbZ1oKCeoX20YUsp6/QES6FLt3PlAOdpXKkA6cL3+2wA8CuwBDgOfAuEeaa/Qw3LQOsfdaB1YZdoHgQw9/Bsgyo9cbwKv1iK3p0xG4CUgG9gF3KaXy+QR9yngH6AImA3EeOT1LZAFFADzgd4eYR8D//YjQ2fgb70s2cAXQIQe9hngAsqAYuB+H+lTgH1+yr6i+j1C6/BsgF3P8yY9f5d+/LEefziwCMhH61RTqtXb03pdlOn59gDmALnAVuDCauV/C/hVr7ulQGc9bL4uW4l+/Yt8lGUmMMVP/fmsozrI/x9gmX6/fqpsQ4AV+Fy/H/nAciC2vs+Ex7V+Bybh0Yb184uAGz2OrwOW6L+7ARVAqEf4AuBm/fczwJfV2pCtMj6wHzjFI/wpYHoDn5FrgM36fdsJ3FS97QH3oz3HB9GUnknANr0tPOwRfyowA/haz28V2odFZbi7jqjlOT8W9whYCFxd7dyXwDMex2lAlv47WK/jbtXa3rN+8r9av8aLQB5an3JaPev1Ho96vcYjPBytzzyC1k8+Chj8yDEUWAEUAoeAlz3CantGooCPgAO6/D96hN0A7NDv789Am2r9zM3Adj3dW4DQw4x6fWTrZb4V7z72av18kV5fl/kpU13a0QPAOrTnyAScCWzUy5oO9KwW/yFgky7zR4DVI/wMYI2edhHQr5Z2NQHtA60A7dmaR9U7ZirwuUfcRGq+Y6r3qz7bCVp79Oy3i4E2Pq5xtHLfq9dTgV6fVn9lc6drQCfoS0EwAw70hwLvl/G1aA2sExACfA98pof10gs7FggAXtbzqew4pgBLgLZ6+H+Br/zIdTlaI74P7cvIWC3cU6ab9QbSFogE/vRx8zLQOu9A/fhZj7yuRfu6DQBeBdZ4hH2MfwWhi96oAoBWaC/MVz3Cd+PxYvGRPgXfCsI4vfEEV79HPhqRVx5AAlrnOwmto56gH7fyqIu9QG+0hy8cyERrzCZgEFon0Nuj/LlonZUJTQma7nG9Gu2nWlke1a93C9AXvcPxV0d1lH8/0AftQfuusj7QFKZfgCC0Dm0wEFbfZ0LP6wLgJz8yFgDDPI6TgCL99znA5mp5vQm8of/+CXigWnixLmukXp+xHmHnA+sb+IycjqaACCAZzVoxyKPdOIDH0J73G9BeWl+iPQu90T4SOnm0O7sujxmtc9oFmKvXEbU858fiHuFbQViLh4IKxOh1GQ0MBMqqxb8X+MVP/lfrZb1Bl/FfaC9bUY96fVKvp0l6eKQe/qneBkLRXjLbgOv8yLEYuEL/HQIMr+Mz8ivaCyNSlyHZo1/JRnvGA4A3gPnVnuWZQATQXm8PEz362C1AOzQFZK4e34T2HBYC3fW48Xh8ZFUrU13a0Rr9OoFofXaJXkYzmkK7A7B4xN/gIdc/6P21Xs7DwDD9Pl6lxw/wIVeMXoZKue7S72N9FATPftXM0dvJPh91U9mX1aXcy9AUiyg0ReTmoz47DegIfXbwaF/Ul3kUvrKi/gJu8YjXXb/hJrTOxvPlUam5V3Ycm4E0j/D4yrR+ZLsM7WVfgvYAPOgR5inT33hr8eN93LxHPcJvAf7wc80IPW24fvwxfhQEH2nPBlZ7HO+mYQpCD12GhOr3yEdD9coDTfv+rFp+s4CrPOriSY+wi4AF1eL/F3jco/zve4RNArYcrf14hBvRvjb+QfsiOFApi686qqP8nspdL72NGdEUvVq/Eup4H0PQvqI6+pHRCfTwOO6q14NAs6AtqZbf01RZd/6i2oOMpvCkoHVyEu8voAnA7lpk9fuM+Ij7I3CnR7spQ1cq0F5YEm/FZyVwtke7W+IRZkD7Oh5TvY6o5Tk/FvcI3wpCBvrLTD826+VJBMagWxM8wm8A0v3kfzWww+M4SM8rrh71avIIP4z2xW9EewZ6eYTdVIsc89GshjHVzvt9RvS6dqErJNXifAA8X62d24FEWfUsj/YI/6ayPaH1sTd7hJ2Ct4KQD5wHBB7l3tWlHV3rEf5/wDfV4u9Ht5jo8T3lmgRk6L/fAZ6qdv2t6ApTtfNXVpNLoFmC6qMgPHmUsldvJ7UpCHUp9+Ue4c8D04727ByTcQ8hhBntizjXR3AbNNNYJXvQGkmsHpZZGSClrOy0KukA/CCEyBdC5KN1JE49bQ2klF9IKcejvbRvBp7Uxxp9yZTpcZzpI46nh38p2sOBEMIohHhWCJEhhChEq3jQNMpaEUK0FkJMF0Ls19N+Xpd0dSABrfHlNyBtB+CCyjrW63k0WsdRSWa1+MOqxb8M8HR49Fl3dUFK6ZRSviWlHIV2H58GPhRC9DxG8u9BexnEoJmNZwHThRAHdOdBc11l9eAJtA54l5/wYiDM4zgMKJbak1o9rDK8yE9az/Bij2NfaWtQ2zMihDhNCLFECJGr1+MkvNtnjpTSqf8u0/8/5BFehve99ny2XWgdaBsfYtX2nB+re1QdX/cEquq1tnviC3ebl1KW6j8r+4y61KvD47jymYkBLNTsPxP8yHAd2pfkFiHEciHEGfr52p6RdkCulDLPR35efbeUshitf/a8vr9nvXof65lPCdqHxs3AQSHEr0KIHn7KBEdvR57XqS6zSw9P8BN/j0deHYB7qtVTO3y32ervLonv90hteMWvQzupjbqUu9798rFyjDgLzbyyzEfYAbSKr6S9HvcQmibYrjJACBGEZuKrJBNt2CLC488qpdxfmzBSSruU8lu08ZY+PqIcRDNnVtLORxx/XIpW3vFo5vbESvHrkPY/aC/yflLKMDSTr2c6WQ85PDkHWKU/ePUlE+3l5lnHwVLKZ/3IlQnMqxY/REr5rwbK7hcpZZmU8i20scJePmSpq/ye97c92ldQtt5OnpBS9gJGoo0/XtkAUdOAO3SP+Cz9et8IIR7QwzeiOShW0l8/VxnWSQgRWku4O63Qpq8GoDme5qG1ZX95+6X6M6J78H+HNm4cK6WMAH6jbu3aH57PtgHtmTvgI57f5/wY3qPq+Lonh6SUOWhmfJMQomu18KPWa3UaWa/ZaG21ev/ps/+TUm6XUl4CtAaeQ3N2Dab2ZyQTiBJCRPjI0qvv1vOK9nf9anj17brcnrLOklJOQFNStgDv1ZLX0dqRZ59QXWahp/eUubpclXllAk9Xq6cgKeVXRyufx3UqKUGzJFXia8aYW+46tJOjvRvqUu560ygFQZ8KdBmac8pz+sNVna+Au4QQHYUQIWhOV1/rGvMM4AwhxGghhAVtHM5TpmnA00KIDvr1WgkhzvIjy9VCiNOFEKFCCIMQ4jS08Z2lPqJ/A9wphEjQH4wHfMTxRyia2S8HrQE8U8+0xUC+ECIBbSzYk0NovhpHRfd8TdBnj1wPPFwPOTz5HJgshDhVt45Y9Sk1bf3Enwl0E0JcIYQw639DavnCr06tZRRCTNGvHyiEMOme96FUzWSonr4u8l8uhOilK6BPAjOklE4hRKoQoq8Qwog2nmhH+3JFCDFVCJFexzKloSmiA/S/A2im4Lf08E+Bu/X71QbNIe1jACnlNrQx1Md12c9Bm+nwnZ72C718Y/QO+kngeyllkUfejwohIvWvsBsq867OUZ4RC5ricQRw6GGn1LH8/hgshDhXaN7lU9CemyU+4vl9zhtzj4Q2ZdaK1sma9fqt7F8+Ba7T20Ukmu/Lx+D+wv0ezboSLIQYhfZR8FkD6qDB9apba75Bq5tQvX7uRmvzvsp7uRCilf71mK+fdlLLMyKlPIjmXPu23obMQoixetovgWuEEAP0F9gzwFIp5e46iP8NmtLcVq/fBz3kjBVCnKm35wq0PtHpJx+oezuqvO7pQog0oVma7tHjL/KIc6suVxRav1k51fc94GYhxDC9fw2ufF58XOdXoLeHXHfgrQSsAcYKIdoLIcLRHCNr42jt5BAQrefV0HLXm4YqCGuFEMVoThDXA3dJKR/zE/dDtAdrPppzSTlwO4CUciPaePOXaBpZHpr5qJLX0DxnZwshitAaxTA/1ylEu9l70R6O54F/SSkX+oj7HtrMhHVoL57f0KwatTXSSj5FM+XsR3N09NdQffEEmiNMAVoD+75a+H/QOvt8IcS9fvJoo9d9MZpHd1+0cabZ9ZDDjZQyE63zexitcWaiKS4+24b+YjoFuBjtRZiF9rUS4Cu+D6YCn+hlvNBHeBnaDJMstC+oW4HzZNW6Dl51VEf5P0Pr/LPQvOLv0M/HoSmphWhm7XlUdb7t0PwgjoqUMkdKmVX5h9aO8nSTLGg+Gr8A69EcpH7Vz1VyMZrTYB7wLHC+lPKInvdGNFPsF2hj06FoPjGVPI42nr5Hl/8FKeUffkT1+4zo9/UOtI4mD81S9nNdyl8LP6GZkvPQfC3OlVLafcSr7TlvzD2ajdaeRgLv6r/HAuh19Dya89we/e9xj7S3oDm9HUb7yPmXfi/qxTGo19vRvkZ3ovlSfInWp/piIrBR7x9eAy6WUpbX4Rm5Ak3x2oJW3im67H+hjW1/h9Y/d0Zrq3XhPbShobVoMw88+zoD2gvsANqwdDLebbo6dW1HSCm3ollm30DrPyYDk6WUNo9oX6K1jZ3637/1tCvQFOw39WvtQPMv8XWdbDTH5GfRPha74tEWpZRz0BSPdWi+OTNrKd9R24mUcgtaO9yp931tqqWvS7nrTaWX7f80urY2TUrZ4aiRFc0K/QvzcyllvVYcE0KsQXOc82UVUxwFIcRUNGfUy4/jNdag7lGL5kS0I4V/Ts7FGY4zuvl6km7CTkD7cvihqeVSnDxIKQeoF8/JjbpHCsXx5X9SQUAbk3wCzZSzGs106W+IRKFQKBSK/znUEINCoVAoFIoa/K9aEBQKhUKhUNRCs9zcorkTExMjExMTG5S2pKSE4ODgYyvQMUDJVT+UXPVDyVU/WqJcK1euzJZStjrGIilqQSkITUBiYiIrVqxoUNr09HRSUlKOrUDHACVX/VBy1Q8lV/1oiXIJIfYcPZbiWKKGGBQKhUKhUNRAKQi1IISYKITYKoTYIYR4sJZ4Q4QQTiHE+SdSPoVCoVAojhdKQfCDvrTrW8BpaPsAXCKE6OUn3nNoq4YpFAqFQtEiUAqCf4aibeG6U1+ucjracqXVuR1tKdLDJ1I4hUKhUCiOJ2odBD/owwUTpZTX68dXAMOklLd5xElAW9d7HNre6TOllDP85HcjcCNAbGzs4OnTpzdIruLiYkJC6rx78glDyVU/lFz1Q8lVP1qiXKmpqSullEnHWCRFLahZDP7xtR1rdW3qVeABfWfAWjOTUr6LtmEMSUlJsqGevC3RO/l4ouSqH0qu+qHkqh8nq1wK3ygFwT/78N7f29de9knAdF05iAEmCSEcUsofT4iECoVCoVAcJ5QPgn+WA12FEB2FEBa0bU69tmmVUnaUUiZKKRPRtqS95WRRDqTLxdGGj2zlZZQWFhw1n1rDpcRh97nzao14Lpf/3bSllJTk59Upr2NBcV4u9vLyE3It0MpX3+G82u7hrGmvkXdwv3f+R7lX9bluU1OXujoWZa7PfZEuV52v53Q46n2/Pdm9dhXblvjaqd77/kgpydmf2ahr+cu7KDfb/cx+95/H2bW6YWu3KJovygehFoQQk9CGEYzAh1LKp4UQNwNIKadVi/sxtfggeJKUlCSP90JJL110RoPyPxakXHk9nQYNAeDDKTfVCD/15juZNe21BuV9zoOPExQaTlyXbuxYsZSfXnjKHXbKTXeQlbGNfmkTWTTjSypKSti/ZSNXv/QOJouF92+/zmee93xdtVW7r3qbfNeDdBk6gm1L/qHHyLFIKXn54skABEdGcdnTL/PuLVe74/dJPYUD2zZz9Ytv4XI5efWyc9xhF/zf06R/8h5H9u72usbd039hwVefsPynGXQZMpy+aafyw7NP1KlOLnzsGb558mEAuo8cy67VK4jt2JnzHnmK9X/N4q8P32HKFz8CkvRPP2DMJVfyxtUXAjDu2ptZM+tX4rt0Z8ylVzHtpisA6J2cxsZ5f7mvEd46lgv+7xm2Ll7Agi8/9qq7n19+hu1LF3nJdMenM/j8wSmMvvhKlnz/NYd3Z/iU/Z6vZ9a7rd7z9UxW/voT6Z++5z43/NyLWD1rJslXXMfsaa9zzSvTWDP7V1KvupFvn3qEzI3ras0zIjae615/r4YsZ0x5kJmvPut17trX3iUyrg1/vP2KVx0BmCwBOGwV7uMJN9zGnPfePGqZeo0dx+aF6Y1WeKZ88SNGk4lv3nyFzAWabJNuv5ff3ngRgMT+gwiJiiGhRy9mvfNqg69z15c/YTAa3ce7167iu2e0/e6ufultPr7nlhppJtxwG7kma2MWSlI+CCcYpSA0AcdbQdgwd85RX8AGYcRqCKLUWdQgOY4HVmMw5c6So8YzCQsRllbk2rJwSf9WiZOFhKBulDjyybeduIkuZkMAUZY4DpUf+8XnTMKMQzbM0hNujiE+qDO7izcc9V7XtT0oqjAJM07pQNZwlzp58FTI64NSEE48ygehBTJr2mtc1PEBAFZk/0FG0VrGxJ5PXGAiBmE8Smpviuy5hJqjGiXPwdJdxAd1BOCbXc8TFRDP+DZX1Jpmfd58+kaOrfM1NuYtonfkSACWHP6F4a0nsyrnTwZFj3fHcUkXBqGNqm3JX0qPiGFeefx54DPybIe4IPFen9eYe3A6qfEXU+YoJtBU5Yldeb268O2uFwgwBnNm+5pfWJUyfrv7BSwGKyNan0VcYKLPeGtz08koWoPDZXO/DAwYuaDjvZQ6CgkyhdVIsz5vARZDAN3Dh7rPzdr/Ef0ik4kP6sTK7NnsKFoNQLApHJd00itiJOvz5mNzlRNhacWpCdfWyHdm5n+xGoPoEjqQxNA+AHy96zkiLXGcknCVu9486R+V4nU8P2sGxY48JrW9wXfFNYL5WTM4VLaLCzreV6f4s/Z/xKkJ13idm7H7JaID2pAaf0mN+OvzFrA5fwnWWu5rfcgs2cqiwz9iNQZzVvvbvMK+3/MqPcOH0zNiOABLj/zKsFan88Oe1zinw511vsam/MWEmaPJKttJUsxEvt71HAKB2RCAzVWOSVg4L/GuWvNYlzufflHez+iCQ99hFha6hScRFRDP4sM/M6L1me7wrLLddZZR0fQoC0ITcLwtCL/f9Ax9I8c0KH+FQqE4nrR9tmF9k7IgnHiUk2IL5H9BOQi6oW9Ti6BoIOaBathAoWgOqCGGFszBOU8QP+FxAEr+ehxXeQHYy8BoxhAYhas4CwCXEEghMLpcYAwAgwljRHucxYdwGA2YirMBCD/7bIJHj+bAvZoJ3twxFXvmInBU+Li6wBCZiCtvNwH9Lsa2Yw5IFwE9z8RlKyE/exWBWRk1FptwGgzQqhsRI+6mdPHruIoOAgbsFblIo5n8uPaYCw4R8WPV7AtjTA/MiWMoX/E+IjASQ3ArnPl7COh5FvbMpbjydwOCgN7nUbB7DkGGYL0uql5UhrC2GCMTsQ68kuI/7kPaisDlIjcqGpfBSExONpbuZ2DfsxDpKMcQEIarOAsREkvQyCkYg1dS+EPt/qkiKJrglEcQlhCKf7+PYqOdmWdO5pzvvseiz94wRHQgOOUR7Z7N/Ted/5iOKTKSzT16emdmDMDcfiTmxNEYw7XZuCWHtmAszMS+8Vt3NHPiWJz5e4m+/iJyP/kZpMSZtxNDYBTmjslYOqcBUPTLbQT0Pg9Lp1QAHFnrMEZ1omLLTIwR7TG3H4mULop/vhU8/D6EJRQpnWAvBXMw2EsI6Hshls7jKVv6Ds78PZgThmDb4bES+Y+VZbAgTAGY2g7DVXIYIQy4ig/hKjqIxPdCJJV0/PEHdp19To3zIjAKWZaHe8kSYcQQ2YGA7pMpW/GeJmctmNoOxZp0HQVzn6BU2AgqKSH63Kso316BM2cb9r2LQbrIjo0l8sgRjC4JwTGYB1yGa8eftH/vaXa/+SZHhg0j6t9PY5CSdu+9S+YNN2IIjcdVmgNOGyIwEumwebVBXWACR92NtJcijBYqNn2HMJbizM0FcyBhp99AyZJ0nFnrEAHhBI64nfyD64nueTrFsx7AECi0uLUgAqMIOfVZSuY+iTAHEzT6HneYbcdsLF1OAcAQmItj7y+ULl+LtBV752EJxZw4BtuudHedCms4hvB2yNIc/fkqxRDRAVf+XjyXkJFPrkVYLLXKqDg5UEMMTcDxHGKQUrL/IW161G85n5IdE8OkX38jPzKC9FSt879o+tcA/HTWmZQHBrrT9luzlnUD+vvNu/P2HWR07QLAOd99jxQCu8VMaWAQc9PGuc8bnU5+Ovss7PXoBPqsX8+OLl285GksY9PnEZ+lKUEVFgs/nlvzhVLJwFWr2NOhA7nR0fW+TmRuLoGlZZQFBpIXHUXK33OJPXwYCSwcM5o+6zeQFR/Huv5VdTtoxUpWJQ12H5874zt2durEmkEDSdy5iyHLl2Oo9mzazGaWjBjOwTZt3Ocq7+XOjh1ZPmwo1Tnv2xk4jUavsp/6+x+EFhXx09lnEZmXR+rcdH4/bSIhxcW037uXhH37+e6Cqn3HzvrhRyw2G2VBgZQGBvH3+LQ6102l8vP1xRd5nY8/cICu27YzPyWZC77+xl1Wh9Hode0Lvv6Gby+68KjXsZaV1a3tSAn6omZDly5l2TBvP5TQwkKKwmr6b1TWM8CcCeP9tpPUv/9m7rhx7uPOO3aQ0aWL+3jsvHnEH8xi4ahR7G/XFoDg4mJKQkIYvHwFnTMy+Eavq6icnDq3xxH/LGLxqJH0Wb+ertu288N557rDkpYtx2k00m37dtb17cvm3r2wlpVxxi8zmXHhBT7za7s3E2kQ7G/bttbrGpxOXEYjoxYspO3+/TXCXUJQFhRIcEkp27t0wW42c86Mb71mQNQVNcRw4lEKQhNwPBWEitJSjjy5kvetf/mNo1AoFE3F1KlTG5ROKQgnHuWD0MKwlZdSfBJNXWzuXHjh0b9eG0Pfvi3PlyI4OJjhw4c3tRiNYnDXrlx68cVHj+iHU2fNPobSKBRNg/JBaGFUlJRy2FQ1rnnWWWdRXl7Oasdq3tn5DuftOg8Ak8nEtddeSxvdXP3Fpi/oa+1L+7j2GKSBsGBvM6vL5eL999+nR48e/P333wCMHj2a0PBQ9h7eS0xQDEOHDuWFF14A4Nprr6V9+/ZeeeTm5mIwGIiIiPA6b7PZSE9PJykpiaiouk2pLC8vx2q1+g2XUvLEE94LDd3/8P1YzVb3VEfP6z/zzDMAPPbYYxgMWvhLK17iouUXse7xdfT7tB8AP47+kc8++4y77r6LwOBAykvK2bdvH927d6eouIhyQzmf//w5xdu1MduJEyfyxx9/AHD6TaczJH4Ihw8f5u2332bixIkMHz6c5ORkpm2cxoydM/jh3B/49y//pt2OdlRn/PjxhISEMGDAAMD7SywpKYmPbB+xrWgbf57zJ61CWpGbm8ubb2qL9Nx6761sK9hGJ0MnbC4bH733EQBjxozh0KFDXHDBBUgpWbhwIfPnzwfg8ccfZ9++fXzwwQcA3HTTTTgcDtq1a8e5P5/L8Pjh3D/kfgoqCrAYLQSaNBP/5B8mExYfxsUXX0zlpmTdunXj0ksvpaSkBCklL76oLdzTsWNHdu3a5S5Hrz69OGX8KURERPDuu+9y4MABbrnlFjZt2sTosaPZmruV3jG9vepl/fr1FDoLSeiYQFxAHIsOL2Js27HYym0UlxYTGRnJoM8HAdAuoB3fnfUdRouRwZ9rQzzrr1rvzmvWrFnEx8fTr592vx/5v0dYs2kNv373KwCt41pzOOswN9x4AwltEpg1axZDhgwhKioKl8tFWVkZgYGBGKZOpXtuLu+++y533nkngYGB7vsOcPtdtxMVFoUQgpXrVpJjyGHRDG2xqfvuuw+70c6v3/1Kt27dGDJkSI224ElOYQ4PTX+IV654hf++818KCwsZPHgwkydP5v3332ffvn1e8adOncrWrVv57bffuOKKK4iJiQG0Z2bq4qncNeguKIewsDD3swBQ4awg6fMk+kT34aszvuKHH39g7Zq1PP744zWetUrMZjOTJ0/m+++/RwjBiDEjai2L4uRCDTE0AcdziGH/6rWsnbGeZeYdLGu1jMyQTJ/xVl6+EovRgpTS/fKrzsPDHub8ruezr3gfbUPaujtZJCy4eAG/7vqVZ5dVrTI3NG4oy7KWAXD7wNt5Y/UbfDLxE6764you7XEpdyfdzdrDa/ls82d0jejKHYPuoNReyoMLHmTloZUU2grpEdWDbyd/i5SSRQcW0SGsA21D23L696ezt2gvSy9dSpA5iMOlh0n7tmos/LdzfuPy3y8nt1xz0Pp28rdc/uPltCprxb4Q7w4S4O8L/mZP4R4irZHcO+9eduTv8Aq/N+leXlzxos96WXTJIkZ+NdLr3G/n/MakHyb5jO/JuivX1ajvMzufyc8ZP/tJ4c2w+GEsPbiUHlE9eGPcG8QFx5Ffns+Yr71nrtwx8A5eX/06APMumkfy18l+83x8xOMMjh3Mjvwd3J1+t/t85Ytzd8FuWge1JsgcBGiK08cbP66TvEj4bvJ3fLTpI2burNsCOeuuXMfAzwbi9HCGfCrhKf5v///5jL/00qUM+3KYz7C6cuuAW3lrzVuNymPmOTP5deevvLP2HeZdNI8oaxRrj6zl8t8ud8cJrwjHYXBQYtaU+F/O/oXJP2praPSK7sXXZ3xN30+qrEpR1ijS2qfRJaILl/a8FIB9Rft4ZOEjPDbiMc7+6WwvGX4951dO/+H0qusFhFNQ4b2c+vyL5lPhrGDCjAnucxd3v5jpW713mH1h7AtM3zqd0QmjeW1V7QuvLbtsGcuzljO2rbYuwpbcLVzwywVc3vNyzuh8Bki4+FfNIrPuynUcbXM7X6ghhhOPUhCagOOpIOz+Yy7fLF5Cqajg97a/U2r277U9sPVAVh9e3SA5jgWTO03ml52/NNn1FQrFsefdCe9y45wb8DcPZdUVqzAbzPXOVykIJx7lg9DCsGcXUSq0aYflJu/NiD489UNA8mq7Up5sU+pWDixCEmI4Poriq+1KebVdKffGlrnPPdGmjFfblTJzZ92+mqvzRBstz4fiygjzkLvyWh0sTgYEOhDVlpvVjiUGP8vQVqbvF+jwOm9CEm6sWiM/wezi1XalBPmps9nnaePPCSEJAFzU3duDP9bk8lnfSy5dAkBa+zT+O/6/PvM+Viy82PdGQHWhrV5+AxIjkkTLybzctcRqDGDG5BleQwlHI0BIv/f3WFDZ1jyn/xmQPB5fRpzJ/34M/2pVzqvtSnk+wb/i39bsYnCQgwAhiTRWz0vWeC48ubHfjbXK/dGpH/kNizG56BrgpHTL5bzarkwvX00aohwomgZlQWgCjqcFYdM7X7JhfymbjPuY2XkG08feCs4S9ux5h7RxGaxZez05OXMBWFBkYkyo98twvWkMk9v259Chnykr28uj+wP5d0IZfxSYmBiuxS2LOJuf9q1hU8Ehvpv8NXERvbny2yu5YNAFDA01smHD7byWHcmdMXleeU/JDMJiMPJ8QpUT5YYyA2eNnkPGSm244Ps8M/OLzSSH2BkRP4y48qoX2SG74KVDVp5vW0ZdqeANQrqF0C8kiJWrql7UuQ5Bbux9vLnmTZ8dWVD3D+geFMDq1Zd7nX9gXyDPeVx/SmYQq69YTYWzgh37fyR752PusLRxGTidFRiNAThcDm79vg8XRlXtYTBq5AICAuLp92k/rutzHVMGT3GHrVt/K0eO/EGXLg+CdBEbO5nZ+5ZjNlo4reNpuKSLM344g8wibQhpzvlz2LbqTOz2HKZkBnFVfAyTO6QwI8/kNh1XDm/0iu7FV5O+wOUqxynMJH2ufZT9ef6fbF6+meTkZK9hkDiTiwfjy/kl38xfRWaf9dWj+9O0jjuPQ6WHaBtaNTXuqcVP8c22b/hk4icMih2ElJK/52rT/lJTNlNauhuzOYKAgNbk5Cxgzdqr+Sjbwtoyk/uF/tffnd11vfaK1eze/RatWp9KaEgPxk4fS15FHq2DWvNqyqt8sOEDXk191Std5b3wRX7+alauOp9lAefwwIhnMRhMbNp0HwezvgegX993OJKdzsGDX9Np0J90jOjolX7u3LmkpqZSai9l2JfDMCB5uZ3WPhYXG/k6L4D3T3mfYfHDWL/hDg4f/rWGDG8XD2BnwU5eTCh0nxs29Hc252wkPKw3matPc5e/et1nhFzEjUOfocJWwMKFg3yWsX//D4iJTsHpLCd9nua/8VWuhUuibACExF2OMWwUBdv+BcDIEXNZtDjVnX59qZG+QU6s1gRGjZzvPl95LwPCR0H0WVTsvN/n9e/O1HxT0s+ZztpV2WqzpmaEUhCagOOpIGx4+RPW5pZj7vcV0TG+/Q+OBwbxHu07rGX37tp3rjMag3A6a1+spoQggqk9zrEgbVyG10ukoXTt8jDbdzxT43zbtlewb99nWAPaMGrUAp/X6tvnLdZvuJU28RfSo8cz7pfn0WjX7hoyMz8iJGwAxYVr6ixr2rgMioo2sWy5Nu49auQCrFbNUbVSvpEj5hIY2J5t258jM/Ndr/Rt2lzEgQNf4wuzOYqkwd8SFJSIlE5KS3exZOmpXteub32npmxmbnrPWuMMHPApq9dcSVLS94SHVa014XktkykUh6PILQdATs481qz13lvCaAzB6fReFMiTtHEZlJXtpaLiMBERSaSnpzNoUBTLV5xDt67/x7btT3nFT0qaSXhYzxryVCd57BrmzR9Qazn9ER93rluhqU3uY9HWW7eeRN8+bwC1l8cfglGMG/dpg66tFIQTj1IQmoDjqSCs/c/7LCwrpEdK4xyuTnZ69HiGLVseblQe1ZWVyhf68WDggM9Yvab2DaqaimFDf8dqjXe/oKKjxjJgwEcNfqGMS91RZ0XnWDMudTv79n9BfNy5zJvv2/n2WMpnNHyA0+V7G/FKOne6h7Cw/qxec+UxuWZDSEneQPq8Psckr0oFy1/7sFha073bE6zf8K9a09cXpSCceJQPQgvDYDNgkd6zV4OCumA2R7qPg4O7un8P6P8xIOjcqeZOd0I0fhbsuNQdPjuEcak76NL5gTrlIYT3iowdE+8goc1F9O/3fo24KcmbSB67htSUrT7z8pTFUzlIG5dB925Ta8QPCupM2riMGmVo3973roMpyZsYOWJujfOeykFdO8iYmDR6dH+a4cPm1Cl+dXr3eqVO8ZYuO41t26q+fHNy55OXt7RB1wSaTDnQrt2VbdumupUDq7XmSoA7d9WlXurmZX805QAgY+dLbuUg0Nre3Z58tYNhw/7w23YrGZL0o982FB+nraBoEP/1iuOpHKQkV/lipKZs8nuddm2v9nne6SwjJ2eBz7C0cRmMGb2Y1q1PabAioDh5UApCC8PhtOEQVU5jaeMyGDF8FmPHrCAoqDMGg4Xhw/6gf/8PGDH8b6Kjx5A2bgeJiTfTtq32Euvb523SxmUwbGjN8dLqVO8ERo5IZ/gwbd39canb3dOZxqV6TyMUQtChg7dD1KCBX7p/9+1TZQFp1+4qUpI3EBzclaFDZtKpk7atbUxMqtf1oyJHYTQGYDKFYjCYSBuXgRA1na569fSevjh2zCr3b88O02yOYsTwmgveJCRcStcuD9Y4nzYuA6MxgMDA9jXCqvLf4jfMW6aV9O/3LgkJFxMc3IlRIzVfjNGjl/rseGNbn+GlMI0ds5K4uDNrxPMnx8Gs77yOV62+1Os4LGxAneSuC5XtAzTrhScjhv9Fjx7P0K2r95RGg3iW6nTt+igWS6tar9Wp4x3u323bXgXA7t1Ht64NHza7wS+4nj1qylrJkCE/eh1Xv0ZIcFd32/UkNWWz+3dYWF9dRm/FcUD/D+nV6wW93WvK/bBhf3jF6d3rFYzGILeCYjAEkJK8idSUze5zgVat/Xbt+og7XcfEqnpMn9eHNWuvdh+PHDFfv35NB8ZRo/6pWQmKZoNSEFoY0i6J71Nt6uDBtWAvZ8Tw2e6OJiY6haCgDl7RunebStq4DFq31saNg4O7uDuNhITLCAnuTudO99Ch/U1e6ZLHrkGIsxg3dguBhkh3OuGxIJHnvOf27a/3KXtk5DCGD5tFaspmWree6D7fNuFyjMZAhg/7g9DQntqGU88lglNzmhw9ahHR0akMGPBJjTwFVfsTdOx4J6z7hrj/Xu0+lzR4Bubs3fC5toCU1mFuJCpyFKNHLa7KqKKItPnZpI3dRI+NhyBjLl27VHWg1TGbInyeN+ge3AbxkPvc6FFLvOKkjcvAbPZOb7XGkzYugwCLtqjNgP4fu1+iY8espk/7B4gpC8Fs1haaqkxfef8qv0qDgrrQv9/7GAxm0sZlEBLSw28ZPBk08Av37+HDZpGS7P/LsxJNqTGQPHad1/ng4CoLQ0hIN1KS17tfyEFBiSS0uYiEBI+1A0yJCFGlCHTocDNp4zJo3+4axoxeUuuLPCJiKGnb4kmbn03XLg95hY0auYDu3Z5g6NBf6daxypo1Ym8CwUZtDwRNtpoWnDGjl/u9Znz8uYxL3UHS4BnExk72CjObw2vEHzliHgCdOt3tdb5v37fdvw0GC6kpW70Uu+DgTqSNy2Bc6g5SkjcSHV1zrYsQD2sh4FNpNBoDMBiqrHQjR851P79JSd8TGTmCTp3uZOiQmrOOhiT9SGBgAmnjMoiOHlsj3BoQhxBmWsVM0BRowwc14ihOXpQPQhNwPH0QVtz/NgUTXwKgfbvr6NrqcnjVYznfqR6LpkgJT0TUPN9QudLP0g7u2QahsTXiOBwl7Nv/OYkdboJ/XoM5jyEfz2fX7jfpmHgrAuElj5ROKioOY7XGe2c01aOTrU3umXfDig/gkUNgtnqlLbUayLviHRISLq7Kb9jNcNpzvvOaWrNj58w3KOwykOUrziZ57BpMLiOUZkNYAjwZhQswTC1wj9V27/Ykbdte5q6v5OQxCGGEv//NnrA8dhT+SGKHf9G58701r+WogMOboM3A2uX7vxwwmrw2JToabvm6P8X2bfG4pKbADRo0nciIaqv4OSq0P2uYe9bBuPnZlAUaCHogD5sthwULhzJ0yC+EhvbSlNPYPmAwIqUTKV0Yyosg/T9gK4Xxj0NIa59y7ch4gT17ppE2P5v5Y75hzLjxgAHx/Q2w/lu4dja01xZIcjorSJ/XC9DGwG22wwCkpWyHJ/XhtQczWbRyMmUV2sJZbsXip9tg9WcciA2gLNBI59360JMpEB7NcsuTm/sPJlMY+fnLad/+WlwuO3PTNQWrV8/n2bT5fkJD+zB0yE/+K7s0F6wRVTJVb78fTQIEXONhvcvJgKAoCIykrnj2EytXXUp+/lI6dZxCx46316ttVMfT72BA/w99KiV1lau+KB+EE49aarml4TElvWvXh2u+2EpyIFjfIe4VjyVrp4ZDaDwUHYTTXoBhN1adB3g8v/ZOxWPVO17qVtXxlWTDC53hjFcxJV1DYtRZ8GI3KD4EgNjyK5163q7F3fKbV5ZCGGsqB75If1Z74Qz7F5zyb+0FCZpyAPDfMXDbcvjlTneSoHIXQQnV1tpfOk1TEKSE/augzQAw1LLr3M+3E3bxV1Uvmsq6Ol8ztRoApNTCfXTK4s2hkLsLpJMOQIez34HO3qZ9AGY/CoveqDqesgFMVgjRv6o9lfyPToN9y6qO/SlQlbLeupy05K3wVDRYc9kh2pCWmgGZy+FgFkR4pJES/q2/zAdfTfTk10gbsxHmxxJU5oJl72H57V7SAEYnwuK3YVbVV7uI64fI8rYmsObzKhl/fxASR0FP7au7S+f76PLZvwFIWnEnovP7kDhaUw4APjwFHssFgxGjMcC3JWH151W/n23HSICz3oIBl2nlkRJWa46pbQ5V27bcUabV091bICyeqKhRQJWJ32AwYzR84H7hxcef57uuKzm8Gd6uZY8KlxP26Cb5yufU5YQ39OmL/u6llPDFBbBjDty9GcLaIFwOTfbWvRh8i4clrPK+n/EKdEqF1wdo7elV3Ufh7s2wd4l2D4ShRvtPi38VvtatO0ndaspRcgRe9LBamIOhyzjYrFk1xVjvoSzFyY2yIDQBx9OCsPyutymcrFkQ0uZnN+gaAFz5EySOrfrS8eTx/Kov/dpIHAO7PZyZphb4/hJ/LA8MBu+wa/6A3+/X9prP2aF9zT18oGa8+zI0BcSTlIc0haEhTHgS5r8IFfqc9Eey4Om4o6cb93/w91M1z4++CxbWdIqbP+Zbxi7wvdUu1/0JbZO0r82PJkL2Nt/xJj4HfxzF0dOtqOXAkrdhge/loytJT/6RlHlne5/sPgk6pWj343hwXwbMeVxTFgBOfwkGXA5GS8321ykFdqZXHac+Csn3wb4V8H7dt6FuMJNehN+qWXjMwSBdcOq/4dd7tHNTC+DjM7T2f8En0Pts322/55mw2c+CYY/lwhuDIW+X9/k2g+DGueC0Q/FheKVXo4tVK5ZQsBVB0rWw4kPfce7eAi8ffbjqQPwptLnp2waJoSwIJx6lIDQBx1NBWHbn2xSd9RL7cuK5aqPHynGNeWmeCMY/AX8+fmKuNeR6WF5zBkRLoMxgIdBla2oxmgSbMFFmsBJeyzoGTcY1f2jKnqLBw5lKQTjxKCfFFoZEX1q1WFu9jPj+2rh0Sk2ve08KWvXl5353NeK6MHvkU+wIbKcvaFw7065cR1zyPDYHd6LIGMS6JZ9Trk9njEueR1zyPJ/p8kyhWt4BPr7GfHAkRhujnjTwbeKS5yEfy9O+UIFyYaHEoPsmnD3N69rFxsCamV2kfeEembKNg3fvrvW616d8S46pdhltwkSRUdsAiceqVp08Yo5wy+Wui0FXaR1rWM1pe5WcNvhdOo6Zo8U/7XkA8k0hzI2s8iMYNvRL4pLnsSKsN3HJ81gaVr/tpksNAZRd4+20d8gSRVzyPD6JP5OCu7YTlzyPrZ4OsFMLKHjoMCvCvHdhlPds93mNWdEjiUuex7S2+lbb3U4jKzYFgI/jz+KV9lfA9X+541fWUfuxf9F99K/0HvGjOw+7MMKYe+CujTD4arhvJwC7rW3I6XMJAAXGELhkOvQ6m9lRI5jX9xa/L7HKa+0NiKtxLi55HrOiR2r5VcdTORh+K7QbRoExBJeP6ZQVwswBSyskkGsKqxHuk+QH4Gr/s47yTR4yhVSziPlZ+nh5WG++ij3N65znc+3AyOzokVodV3LZDHiw5gJtccnzuKyPPrvD5X8pacXJhbIgNAHH04Kw5J6XKDn9bS4TVWN90/t34uK1O7kvPogXDlbN/Q91FFNk8u7MhocH80XEITrvCeHLdfdxaT9t++ZzWkfwTu9EmBrOmKRP2B6ceFRZZ2d/TGLybewPSqDna50ocBk4b8i7bAhI8Jsm2FFKiUl7ad6cOZ1p7S72Ge/gyK50mb+Wqw/8yFvtL6Wn1cjm8rrtCbBhVB9CTQY6zNPGw7f0CMDYqhtdF9R9rf5KpvXqQPj0C0jOW8HoiYvYWeb7672vPYsvl9/EtcM/YLkhxitsXe9wSkLaMGLpZp9pK+kVbKVvaBAWg+CzAzm0KT9M24osloX7XhCoOo9nvMUTnW/1Gz5/+ZVc2O8lrjnwI//pqK3zsDnnHXpG+17w5ljRpvwwB6y+HRWPFVmpA5BSEp++tk7xQ40Gipwu+hZtY31ot6Mn8EH68qtIGaLNrHl228u83v5yv+XMGtMTTAEcqrDTf9HGGuFtDXY+yPqYU1vfQFrOYr7YUKXwVyrTUWYjPwzsSvKy2qfSbhjeg+ivzia+o/d0zKmd2zA140CdyvZF2RwuC5zgdS41dymvnH4NcVZN0Z+VXcBV63fVSJs1tk+Vn1A9UBaEE49SEJqA46kg/HP/c5x32ql+wxUKhaIpyUod0KB0SkE48aghhhZGZGibJrv2gx3j2JPcj5Uj6uY0dWl8lPv3ijqmaSgXx0UdPdJJysgIHyZrP1wQd/SpcG/21BbC6RlsbbBM1Ukf2v2Y5QXwcZ+OR4/kQVbqALJSB7A3uR8ZY/vS2mKiX4iPYSIP+vgIP71V3YauqrM3uR+Lh/Vk59i6WXP+VxnO/6Z/THNFWRCagONpQVj98nOcNlCzIGSlDiBu7hoAfhnUlcmrtrNiRC/OWLmd57u35cr1uziY0p+MsgpamU1kltsYv6LKYz7MZGD1iN4Em4y8s/cwT2QcINxk5M4OsdzS3ttUWl2uEoeTzgvWc25sJN8f0sbXh4YH88PALhg9pvvZXRKzQTveW1bBVwdzeaBTPOuKSjlFlyUrdQBOKXltzyHOj41k6BLNFH9lm2hCjEYe7RyPQ0osBm99V0rJnelLeH7sMKxGLez9fUf47UgBi/I1R7bL46P5/GAOoCk4UxK18dnndh4kOSqU4R4v5wPlNrJsdgaFBQOQbXOwpaSMOTmF5NodXBwXxajIUJ/3ZXdZBcN1uTPG9mXZ/AWkpqaws7SCkR5DC6/3bM+FfpSZxHlraRNgIdps4pfBXVlbUEJ7i4XIwNq3z600rYsSB8tH96JtRFCNOJXtZLrId9/HgxU2dpZWMDAsmCCjd93aXK4a9W13SQwC9/21uyQ2l4sXd2fRNzSIc2M15WVXaQVhJiNRZqPb5H8wpT97y22EmYxEmjXzc7nThcUgMAjBZ7/8zYCBg+nbtv4v8NWFpZy2sqpd+/qCdUqJQ0oC9DI9vG0fKVGhZNscXBAXhUlULfb1+5F8rtmwm3lDe3Bw+ZIaz6OUkoMVdv7KLeTy+Gje2HuYWdkFfN6vE2YhCDAYcEhJoF6nlXUPsHBYD3aUVHBqTJj7ehUul3s4bPuYvjWGwraP6YvVYKDdPK0u9yX3Z+H8eaSkpOCUEinBpD9jNpeL9vOqpppmpQ5geUEJJiHYU1bBWa0jsEmJU+J1zzcXl5G6fCt7kvtR7nSxuaScfqFBBBkNzM0ppG9oELvLKrhh424OVlTtWLpuZG/KXC46BAYAah2E5oZaB6GFkV2aC0C70j3sPNKF10OjuX/GOi6YtR8rsDA4ivxfdrOh1Mz8fp2ZvjyTh76v6nC+umYIqd2rXv5Hiiro/bS2XOuy+1JpHx1E+tbDJD5Y5RC1+9nTKXNILn1vCYsycugRF8qWrCLWPZJGq5AApraNZegzf7EOGDxzF/mlVR1ISIAJo0FwU3InRnaO4Z13V3HxfSn0jQpiwNpCtmQVkThrvzv+uFtHYdWPv2E/M24egc3hYm1mPhe9670i4S+3jWZkaRkb9+Vz3juLvcIqv503xBUy4/ReXP7BUl5lP68CFw9px3/O7cuzv29hbbCFYZ2iGdAugjZWC/EBZgrK7Py+/iBvzt3Bp9cOpXVmGbcObssni3fTaXgH4sO1L9PrPl7OX1u0BXtuSenMwVP7k11sI9hodC+JEOyQnL3fSVL3GP793Qbun7WfysmEM28fTevQAIY+U+WQdwB48fphlNmcnPWf9Br3f8Wj48kvtTF/WzZPztRWO5zQKxbrJm3didELD/HAxB4890fVOPV5g9piXaXV6dXAs0F7eVBvExnPTGLs83PZn++9xfaz5/YlKtjCkp25/LHhIAcKymvIUh3PdQITIgK5MKkdB9P6s2F/IR0f+o0HT+tB28hAggNMhASYcDglwzpGkfiQ3tb+WVgjzy1PTeTMNxfSNTaUCwa3pUdcGBaTgYhAM50e1tbV2PTkqWwe2ouIoCpF6khRBfvzyxjQLoIF248wJDGK3TkldGkVwtZDRRStPMLgya24ecZKHt6dx5TxXbljXFeEgD/n7mFa11YYS+w4XJLM3FKkhHZR2n0XQhBpMPL2J2vpdelAtv2zn43rDvKH08ry3bl8v2q/VxmswK7/TCKnxMaKnXnc/PlKANZPPQWnS2IxGZjTtSP/ZGQTZDCQlTrA6/kLTR1AfqmNM/baee3igRiATzZW8Nqmf2gfFcRPazS/gqtGdOCTxXuwAv93Ri+emrnJ/Wz98+A4znllEVP0PDc9eSp/bz/CrV+sJj7cyqy7xvKQM5juD2tLY/dNCGf9fs2R8/zBbUlM7UJSTDCrR/ZG6krJtZ8sZ+gs76XKX02t3aqjOLlQFoQm4HhaEGY8/zi3DTmHSZk/8fcmpWw3FXeN78Yrf/pZv0Ch+B9m97OnNyidsiCceJQPQgujMEAzClWUNWwpVcWxQSkHx54ZN49oahEUiv8plILQwigM0Myo/+wa3MSSKBTHlvOnLT56JMVJj8Op1kFoLigFoYWxJSwK447CphZDoVAofOJwqWHt5oJyUmxhmHBizigC4LLRiVyR1J6Jr2r7tZefmgBSIvJsyAgLGHwPQ5i2FeBMCEYGezQPKbHO1pydXOFmbENbudNXOg2Wp8RBgBFRYgeDQAbq6V0SQ14FrmgrqVGhzD1SgPXPg+6s7b0icCYEecljyCrDvCkfYde+Nson6NM3HS7eG9iZGzbuBuA/UTE88ZXmvR3VKpCDPcMwL8/GNrwVWIxgcyJKHMjIAL919mdSN6/ZG5WsHdyD2DDNnfFAuY1B/2wEpwSzpleb1+bijA8EkwFXsAkCvDe2MWSXY1mZQ3lyHFiN7Evuz+FSGxll5VywYZe7XoGaG2G5pNe1PBEFNoZZA5mW2oPPdh+mqzWAUfHhfH4gh+d2absPinwbAUuPYBsYhTGzBPvA6Kr6dbiwrMgm0gF5FqHdS4AyB9b5h3AkhrDykqFc/ckKzpvUhUczNQdHyp2YtxfgjA/CFRmAIaccV4xVy1dKTNsKMe0u5uIzu/PYsE4UOBwMXKQ5SooSB6e3jWL2T9swlFUtaOWMCsA+pGrhqG7L8yjERQ4SY24F9m5hyAAjliPlkKU5Sl49tiOPntoDo0Fw++a9zDiUx9ZRfejx+yoMhXacsYHe9SYlotiB8WAp0Q440ioAV7gZy/JsekUE88Hlg5m94whPzNAcMyuGt0KGmZnaJYEb2rUiu9jGwXIbEzdkIEodmFfnEDm4NQ8OaM+jW/ZQon9nvd87ERdw48bd3BUfw5t/bEMGmTh1ZDue6pJAXICZttOX4IqysHhUL/YfKiEmNICv8gv45MO1tAoLoKjMTrnDxS93jmbC2h3ggtn9unDWmwspGxsHFgOizMENraJ4t7Soqk3kVmDaX4ohuxxhc/HAECudk5O4cv0uDNnlrDttIGd/sZx9uwqoGNEKaTZwWlwEfcOCeP391VVt/rFTGPTTCkpirYgSBwH/HK5qkhEWbENjsM45gCvcgm2Y3m4qnFrblxLL4iPYhsSA2eDuF24+pyf/6teOhzP2MfdIHlZzLRugKU4qlJNiE3A8nRQf/PxVpm/QdlMrP9X/ioWKlssnGx7i2cTr2RxStYnV0IJ12IWZ1WE9m1AyhUItlNScUBaEWhBCTAReA4zA+1LKZ6uFnwU8BbgABzBFSllzLtYJpNxYpZ0HOcswSqd7OWWrs4IAl402FYfZHNyJ1rZcSoyBSAEujOxeeAoAV/V+mk82PuLOJ37sXMbnLGZleG9yzRH0Dw1kbVEZQrrYs2ACr7e/nBcTr6khy8M73+WOzC/cx4OHfcMRSyRhjmLOOfwXP7YexxFLNDG2PDYsPtsr7f6AVpzX/1WWLLuMniN/pk3FYUIcpewI6kCOJYIPNzzCpBzvqu4wZjYBLhuFJm0tgqx5VXvVdxw9i1BHCeuWnOs+d+qg/7ItKJFdC6tWnkwb/D67AttSagwkruIIa5ac7w7bFxBL0vBv+PeO17h+//cAtB8zh082PExq3nI6jf6D+IojfNkxkNQDwexceBq5pjB6jfqlRt2sWnw+bWxHKDQG03PUz1x54Bf+s+NVrzhTO93CRwlnE+Qsx4WBEmMg+xak8VTHm/i/Xf+tkeeVvZ/h040Pa2XLWQTA6ZOXc8nyqVyeVTUt7qdWqdiFiXmRSRwIaM3S8H64hOC+3R9x115t6+PTBk5jXWhXIu1FNe4NwG09HubPqBFsWTSZz+LPYI+1DY/ueheAbHMEX8VN4ulONzE+ZzGf68sCdx85kwKzdm+CnGUMLNzMvzNe5/SB71Cq730R6Cznq3X3Mrywauptl1G/4RRGjNKJ3WAiyl7A6iXaTphDhk1n+VJtOe6kYV+zzxrHxOwFDC3YQCt7Lr/GjOXjjY/WkP+0gdOOqiwFOcuQCHoV72B3YFvsBiNWp40SYyAlpiBa2XIYn7OE72In4MLAT2tuZ3DRJnf6pzvewAcJ52GQLopNwZyS/Q+fbnyYV9tfzisdrkQi2LtgApuCOzF5wFts/ecMTPp+7ZXLJwvp4uKs38kIakeWJYa9gVULoVW2bwdGUoZ8RKkhkFVLtXo5p/9rLI4YAGjPfWL5fn5efRthzhKGD/2C3YFtCXKWMXfFNXQor7LmtRn7Ny5hxOqs4INN/0da7lJ6jPyFDyNz+L8sB1ZnBSMK1vHorv8yesinJJQf5sqDP3F6trZra4+Rv/DK1uf4M3o4L22ruXNo3Nj0WutccXKhLAh+EEIYgW3ABGAfsBy4REq5ySNOCFAipZRCiH7AN1LKo+55ejwtCP/65i1+X5XIU4HvcYWc26BrKBQKxXHj/7LBWPviXr5QFoQTj3JS9M9QYIeUcqeU0gZMB87yjCClLJZVGlYwR9/E8LhTjpH+YodSDhQKxclJA5QDRdOghhj8kwB47lu6DxhWPZIQ4hzgP0BrwO8KIEKIG4EbAWJjY0lPT2+QUMXFxbWmLZNmfgp4wH18JNpCqxz/65/nRJrZ1T6IfpsKWdUvnJIgIwE2F1IIbBYD0bk2emwrZnf7QHrsKKmRPrONlehcG0Hl3lOXNnYLoTDMRGlg1ZBHRKGDrhklGFyS1f3CGbNEW/VxTe8w8sNNOE1V+mra/GwA9sVbaXuwnFV9w8iLMBNgczF6aR52k2D+yGh3/Lb7y+ie4S1fqdXA4qFRGJwSi92FwSUpDTQSXuigQ2YZrXK1evl7dDTSIDDZXUTl2em7RXP+Kgk0sql7CIVhZpCStAU5bpm2dg1h5NJcAitczBsRhRSQskgrT0aHIDrvKcUlwFCLyjh/eBQhpQ4GrdNmncwdFY0UYHBJrS6kZMjqfArCzBxqFcCA9QVs6xJCr23aMtF/ja1y7gsucTB8ZT7bOgWTmWAFIdx1CJA+MsqdZ+LeMkqDjOREmjG6wORwISSUVDqlSkmrHBsWm4v4QxUUhpooCjFhsbnY0y6QtAU5lAUYOBBn5XArCyNW5FNhESwcHq05s5a7GLW8avvqf4ZEYnZIhq7Od5/bF2/lSIyF4mATA9YXEFriJD/MRHaUhS67S5k7OhqXfk8iCu1EFDjIDzMRk2sjIauCvDAT2zuHYLG5KAoxYXK6GLFCy99mFiwYHgVCYHRK931wCZAGQUS+ncHrfG/n7IuN3UPIjbAQVObEZhH03lJMWLEDgMVJEYxYkY/TAKv6hWttBRAuSetsGyVBRoat0uRa3TeM/DAzkQV2BmzQ7vm8EVEkL9bazZLBEZQEm7zuG8DK/uEMXlvA+p6h9N1c5ZhYFmBg8dBIIvLthJY4QMLetoHudurJpq4hFIeY6LW1iJBS711P/xkSSXmgkS4ZxXTYX+4ul81iwGkQhBY7KAkyutv3X2Oiicmx0X9TEcsGRlBh0fqKiAIHg9cVsGRwBMNX5pPZxsq2zsGYHBKH2UBokZ0yqxHZwL5PceJRQwx+EEJcAJwqpbxeP74CGCqlvN1P/LHAY1LK8UfL+3gOMZz91cf8uPVOoOrF5wuz3YVdW2C+ztcOK7QTWuxgfxttvHjggM9YveaKugt/gggIiKeionJcNQzQOmOTKRyHo+rF0PpIBQn9Hmf1Qe9tb1u3nsThw7+dIGnrj0NCnkPQyqw9u8OHzWLJ0io/ipcPBbDXZuSKqAoGB9dtC+zjgdnmwm6uXxsD6Jh4B7t2v05MzHiys/9slAxCmJDS4T62S81saqwmUkzsuew7+D3WJrCpfpJtYXWZiUfiytz31OCUDNhQwNo+4TirC9tIDE6Jy0C978uxIm1cRoPSqSGGE48aYvDPPqCdx3FbtKXwfSKlnA90FkLE+ItzIjA4qvY5kAbBoIFfkDYug3ZtrwZgxPC/GJe6nX7DZzBy5HzGpe6gY+IcRo3cSNq4DNLGZZDQ5hKO2AXbyw24nN1om/AtmzbewcAzdtLj8gO8VdyfKZlBREQMZ1zqDlJTtmIQ7/NsbiemZAZxIG4qI4avp03/mSyYfwUL5l/GuNQdrFo1CZvNytwFFzElM4gpmUGsWH4WK5afxcABy+nfbykL5l/B8GHr3OEH8mIIDvqC/LbPY+72EWnjMujd6x8WzL+MstJXKGj3AoNGrmBtqZESJyywXsG/dhSQkrKNcak72Jp5gzuvYSMXMXTISnf9HG4VQFTPG0geu44B/T+kLPE1pmQGcenKdH5cOok+vd9ja7mB/dG3AJDY40Wk1GYmTskMYqtxCinJ29ib2dN9DYD9+y/gr4UXkZqyndjYye7rxcV/xJTMIB4+GEMFb/Abp7jTRUSMoNwFUZ2fZpkhmQ493gAgafC37vsydswqho9YwL37gng6K5DpuRZcEobPOIdNEVP4y3whUzKD2GvTrDaf5QYwJTOIboNmsq0ilM9yLO7rhbW7R2sjEswdXiQ88g46d7oXo+EDkseuYfCgr0kbl0Hy2K0sW3a2uwzxcRfwzpGB5Mc8T9q4DEaN3Mgs47lMyQzCJSEzrOreduzzBJGRn7Ng/hUEBIwBwKr/79DrMFN0cufdt8/3LPrnYj79NI+sg0/SreurmIwfYrNVOcx6Eh01lm1R97qv55RavknD55M2LoNePRcyf94ltIr5gbRxGTgS3+a+fUHcsy+IuQsuYf78yxnQfw6u2Ke4fMUfPLg/iIR+35E8djNHDj/Fig0eTq6JL7BwwWUUF71Mx8Q5LJh/BV36/s2UzCDeLOrnlmFKZhCdB//Fsznas+CQEBH7DX+Lixk6dCHxcZ/r7fdyZu/R6m11mWa5eTorkGEjl5KSvIGU8Rm82aMP6wInsCXqbpyd3nbnPyZ5M2njMoiO+o7Fiy7kb/15mnZoEL0GLuQ3MRmj4QO6dp3LgaKpREaOIsch6DngOwAGD/uRcXqbShuXQUXiG5RZXmbkiPWkjcvAIN5h/bo0Nm+6C7PpVRwdXuJ7OZGRYzcwJTOIgzaByRRBr54vABAa0tudV2BIXzaUGenV6yUAxoxeyrjU7UfptRQnK8qC4AchhAnNSTEN2I/mpHiplHKjR5wuQIbupDgI+AVoK49SqcfTgnDhh2/zzd6HeCWyP4POfYq/P/ibvSF7WdFqBe2L2xPoCKTQWshBa5Xnct+cvnQu7MyR0Ud4JeUVhn4xtEa+XfO7YsDA1oit9ZZ5ZNZILh56MX8s/IODQQdZHVM177pdcTsGZg8kKyiLZa2X1Sm/M/acQYmphLkJtftZBDoCKTN5bzLUuaAzGeEN+4JpCENih7D80PITdr1jwTcjvqFH1x488cQTSCS5AZppOb1Ner3yCZABtClqw66wXe5z5+06D4DvOn5X41wlpcZSNkduZnC2thro9rDtrIteR1xpHIeth3EZ6rYSX8fCjvTL7YdEkmPN4Z+4f+qUbtLeSfzW3tuCNGHfBOa0nVOn9LXRrrgdmSGZR4/YhJy36zxcuPih4w9HjRtdHk2OteaQRm2su3Kde6fK+qAsCCcepSDUghBiEvAq2jTHD6WUTwshbgaQUk4TQjwAXAnYgTLgvrpMczyeCsIV/32Zjw8+wYCO7RuU//Gif05/1kavbWox/idoU9KGPrl9mN1u9tEj+6FPbh82RG04hlJV0bqsNYcDD9c4H1UeRZfCLnVWFFsSww4PY2nrpU0txglh/VXrjx7JB0pBOPGoIYZakFL+JqXsJqXsLKV8Wj83TUo5Tf/9nJSyt5RygJRyRFOvgSClxOqo4J9A69EjHwd65PXgtL2n+QxriHLQsbBjg+QQ0vvr5GzDmfTIO+rsU5/0z+5fp3ijskbVO+/BRwZz3q7zGHtwLCaXZmYemD2Q3rm9a03Xtrgt5+4612fYebvOY8ThEYQ6Qjlv13mcknkKCSUJnFdwHn1z+tKqrBWDj9TcpyOmPNrruDbloGdezfUDkg9UmeNPzTy1RrgnvpQDgFxrboOUg7N2n8WQw0PqFPfUzFOJrlZW0KwGDeHcXecybv84xhwcw3m7zmPMwTG0KWnDubvOpVdeLwA6B3RizMExPtNP6/IGP+15k7SCoRhdNVcY7JPbh84FnWlV1opzdp3jV44RWbVvZGVxWupRquPH0eRUnFwoC0ITcLwsCNLp5I7XnkIGfs68IP/7rp++53SsLk2J8DT1jj44moXxmo5z7q5zCZQWLq8YS5koxyItGDEQfEM3XvvsHbICs1jZegWvb3+E/g+fwsqFy+mYbsSJCwOC2FsHYmkXSom9hOFfDq8hw++b3wagTJRze8dneTLzFhaJDOyTBDkZ+7l6/ekEnNueDkld6f9Zf27ufzPO+U7eC3/PncfMzW/woXUuAk0hcOHC4KHz3nfRbeR9shmAuH+PYP3cFfQZ2A+71YUlyEruoSPsf2s5RwLySL3pAp5++3l32uvL03jf+pdXHXUs7Og2l/827jfiE+I58PA/GDDwccBcHMLFA5fcgbVLJAsPLuSe2ffQP7s/caVxXFuehs1gw+AyYkCw35DLmKfPI/Oh+QgEZdj40qrVvUSyOWIzg4p6U+Z0YQ/L4ZS80Yyeej5ZB7N4//333fGyx2Tz4JAH+eDlD9yyX12egvXCRMpzS/l44TecfvrpDBo4gFcvO4cJ193O94sWI5F831Fb7GnNOSs4+Mwy3rf+xS/tf8FmrDnr5ZT8EeyMO8T3F/7oNg+7KhzY9hWz77eNfJ4zBxcu7rnoFoo+2Y4NO3MmbWHWpl853TSec868guTfU73y/Ou0v3jz7TdpHWjiv3HfeoVFOELJN1V57PfK68WmSG0Jkgv3XUi5o5yfE3+md25vehT04OFb78cUHsDi5UuYM2cODz/6MIO/qKkI/bb5LXJEMTEy1H2u9a0DMLUO4nDOYSbM0RYLW3X5KsxGM1JKFu5fyC1/3UKf0i48vfd2sszZtLfFA7B1go02reOp+HIXPwZoQ0m9He0IGhHH8uXLuS3lKsr/2IdEckQU8lSHt3lo/3VEV4QRfkoi5X9mecn3VOTnxJbF8sijj7Dn0QWYMWLGhLVXNAarkfDJnTiwM5M3vp/G7+1/d5cpX5SwJ3A/D3V4jZmb30QgiL87CVOrQBzSgdmgza6YOnUqAJeUj+Ir6z8UmAsIs4fRPjWeV3e/5SXLL5vfoP3U0RyYWrVJ1vvWv0ix9SbR1QojBj6w/u2V5vryNGzCzkfj/sLwj4mLK0bhwIlFGAlwmTFiJOHJURgs9V9uWVkQTjxKQWgCjpeC4LLZuGfqY/zZXVs176ttzxHiDOKF/l/wxNn/IfWbVKZl/B8dbPGsMGWwxrSbMyoGsyl0K5GOcLqXdiSIAOLuH4Ipysq+BxfUuIYIMCIr6uYZH5rWnvAJHej7SV/3uUrFwB/CYkTaqvJv+6z3l1d1mVxIPrT+zThbHzq5Yt0v9WvKUzF6KAtRl3Qn96va/SdsOPjUOo/R9h70cCbgwkW2KCJahrA6eAtJJVVf9saIAJz5FX7z8pTbVz1WxvEMq5Q90hXMebaaSlXMdX1wHCkjeEQ8s2bNIjU1FfuqHPJ/0nwqyrBhweRVbk825i+id8RIMg3ZrDHt5uIBZxB5btca8tmEnVkRixifP4xA6W2Niv+/4RiDzUi7i/3/VzWmH31tbwK7RfktK8CmwAzuSdSc1zzHoSvT/B22jBcSPubyI6dzWfbpWMfG4KQU+/xSdkx0kjwmGdv+Ig6/vYZiygklkGLKCaFKxsp6L9uUw27Tfj799b9cdPg0ru/2ON9sewGLrNscfM/7V7RgPwW/7vQZryJEEjO0PUV/a34FEolAYL4xnthOXWqtj8Zg7RFF2RZt7N/cOgjH4TKf8Wp7fpy4yDAcoosrDgMCa48ofj74K6+0+Yx3dj5K+/xAcFRgCI3zK8cBQy6/WTSfouvL07zCwk/rSMHvu2qkSXh6FMJYf+O1UhBOPEpBaAKOm4JQVsZ/XruPNVFz2BJgYea6l8FpwxCgLbUshAFn3m4Mwa3ApHeqQsCgEFhVjCzJpuRPbVnaTn//w+HX1iOEASlduAoPYAiKQhoDkBXFlMy6HxEQQsjEFwAB0gXCgPdaUYL4J4byz6q5vL/oJZ7JelBbJEW6kPYyhMEIRgs4HUiXHWEJ0dLb9c7OHAgOG+bOVsLO7EGZA0rf2aznLbG5wGSeB9kdMEQm4irNQzptGENaAQIpJbK8ABEYoRdVH3pwOcFgdJdNy86FK38v5SkdCFrt0tJZw3EJA0LLDZwOkE4wB7llqERWFOM8vBHHkS0EDLwSIQwIIbBe1o3S95eCwaLVj8mi1RcS64gYKpbkgNOOdDqYbvyLsqBALijsQ6ilFUiJq3A/Irw9OO0Ik/Zyi7q2B4bAHLLfPOwhhUAgKV/1MdYBl4PRgqs0FxEY4VFuB878TAyRHfUZbgKkE9vW3xCBkZg7jEKW5eHM34swWTC26uVOK512MBjBYSP8ii4UfLXXXceUHkEEhOIqy8MQFA1Gi3YegRBodRkQBo4KLuh2D5OKT+GaI2cT+8QwHHsK2PfBFoIMHvcrIAQQFP38L0AQ0OtsZGk21gFXULb0HRwHVxNy+qtIYUZWFGIIitLqyRxE4MA4yjeXgjAghPYSklJq900YwWkDgwlZUQTmYITRqJWjokBr46HxmqyA+fL2BIaGUvD6MoQxAAwmygeVYF0VDMKALC+gZNb9AIRMfouFR35iVKuzEEikvRSDNQJ3/yqd2v13Pydam8PpAKNJO+dyIoxmrU1KFzgqtDo3Wij+6WZEYCTBpzyLw+XAYS8jABAGI+mm30kR57nbuHQ5kOUFIIyY20bjyHawrXwFHTKzMVhCMXcYBdKJMJiq2r/Trj2T1nC3bMU//wuA4InPgyWUVvf25Mh/ViIsIciKIoQ5ECkMrIhcTtmeXMaGT3T3M1V1bnA/byD4pfAjbnnnIxqCUhBOPEpBaAKOl4LgLC7m7bfuYEfWKrqVvVxrPinz7gQkDpOVhaOerxE+Lv1WcqJ6sbbfrQD02PIZcYdWsG7c6wQbINOutZvBq14kvND7KyEvvAvbu15AcUhbpHQhndlEFReQH9HV53X+TnmrxvnuW78ktDiTFYOrFn0qz3sDhAlrxL8wOG24jFXjqom7f2d3om//B0+S59+J0eXgQNwItvS4HGvZEYLKjpAb1cstz962qezocr5XuspyVsrafu8c9rafQKedPwMuEvfOQQJzPcoSWriHpFXPe53zJGXeHaQnv+5X1jYHFnKgzegaMnhSGNKOFUkP1lrmYcueZOnQx2qNM2jVS0QUal/JLmFASEl2TD/W97mx1nSVJK18zuteedJj6xds6X4ZTvteBAa6717E9q4X1og3Lv1W9+8yazSLhz/pPu674V1isteytt+t7ntVSfu9s+my8yevcxKQwgRIrzpOTb+NkuB4lg2pmjrZc/MnbO55lft49D8PsHDUcwCMWPIYARX5Ne6Tp6zV2++oRQ9htpeSnvwabQ4soMe26T7r5XCrgZhtRUQW7PAZDlAU0pblSQ+RuPs3Ou3+lR2dzmFv+6qlVqo/P6nptzE35U1c9kyEMZoxi5/AYi+uIWPy/ClUWMIJsBWypFMrCoKtTFrrPbunNLAVhWGJbOp5tftcwv55dN/+DUuGPkZpUCxS2kGWIwyhxB/4h70RDozmzvTKSKdN1mL3fey16WPyIruRF9GVaz+6AGFQFoTmgFIQmoDjpiAUFPDZ2zdi33YRtoCIhguo43JmIwzR7q9Ie9lCzo/XxpF/ybdTfbJZUMlBBqx7k0UjngZAShcV+a8CYA4+DaOl4TsJludVKTwBEXc1aJoUgMleStyhZexrm1LvtF12zPBSHMrzXsZkHYUpcBip6beSPvZVpMHbhG0ty6Y80PfSGFI6kc4jGExx+rEdMNVatsoX09KkhykJqdqt01mxGYO5HcIQ4jetlBJ78XeYgychDEE1wpPn38nWbpeQFVdzeKOhSFcxjoq1mKwjqch/BYCAiFsRwvf225Xl83yh2Uv+xGlbhyXsSgxG33Xp+cKunv54MS79VkoDW7Nk2ONe5y0V+TWev9T0W6m8q9Vl81SuTPYSzPYSyoJak7TyeVYMvt/retXTpsy7nfTkN7zOSemgIl9TaKyRd9dQgDypKPgA6dIWDxuyq4j1gx5n7IK7mT/G/wdG1+3fsr2rtilU5XMZEDEFl2MP9uIf3Nf1p/zf8laybrmpH0pBOPEoBaEJOF4KgiM3l9/fuYy9mfcB0LV0M9uDerofYkvYVZwTHcfqvGXYLYMYGmzi53w7Ze6H/C6k8zC2oi/QJri4ACPWyDtpa8hmcFg85aG7CShqz9bdS9ka4f2sRhkFY0JN/JRvx+UswFb4AdUJN00kPLIbI0IC+a3Ajr0OzU+6yqkoqPJdEMY2IEsICL+uZlwp3S+iGMZTHNmvRhynfQ/OinW47NoCLpaQC7EVf4vB3AlLyFnu+rJG3u1XJm+F5U5cjn3Yi7/zm+5I3HxMpQYC9yzDEnoFBlMr7zzCb6Ki4L8+01d2+AZzN1z2bQCYQ87GaNYWGRKuQuyFn+KQNndak4BIoyCvfBunx2hf3F/ves6dpy8Zz4ows6zEwUG7xFb8I9JVTkDYxTXKbDT3xhxSc6aC07YFR/lyhDEGU8AgDKZYbHmvMTr2XBblzaLMYsBcnI/B3AVLyJleae1l/+AsX4o5aCLGAA8LgZSU6/cTwBQ4BkfZAswh52Iwtka6irG4DjA+JomfMr/CFNAbo9XbwmAr/gmXPYOAiNsBA/bSOQhDGMhyzEHjquQ3lIOQGJ2BSFcJUtoxGCNqlLM2SkJ2E1Aeg6G8ACkdGM0dAAgp3ENxWAePYlW+xC0ERNxERf4bGC29cdo2Ygm9CIMpASkltqIvsYRMRhjC6LL5HXb0/BdSyhpKpK14Ji77NqyRd+Oo2ICjVJviarD0xBw0Uf/K93ZcltJGRf6bPstRvX0YHEW4TKFe53pbDXSxGvlm1/OYQs51t38Ac8j5SMcBTIGasildRVQUfk5A+A3cOm2CWgehmaD2YmhBSIeDOFcOe4EgA3SL78PWnKrFH3uZMoE4BkZWLYR0ZoSZZfa+7C3ZzNmRFqAtsytiOSXhanecr3c9x+COD7B1/HVg0BwIe8z+mLW7nsMSdg3CEE6gEIwJ1b6ez4ows6TV60QO3Mv+mf0oPRSERDK53b/4NXsWw0L64UKSHO5idvZBXMLAfy7tzbiD23l+nfY1/U9hCa0tVmIMpURaQvm+0EJuj34Eh+RgWL0TnIKzIry/1l3SxaXtp3DOfO3L+pU2rbihDG3/AfkPe+0huAIGaF/RIXaMAWAvNmMr/kZLb8/A5djPme1uxWoK4c/8HP4KPcQ1p2lDMAsW3se0McO5f8YRTMLCeYl3UeEsIz3rK9oGdWOzMNExejg7DHsILLfjlKEIYzT5wTOBKBxBLiRgK/qMgPBbMAozJmHGIAyU6cqBBD4afBfXrHwF6Sri6la38N8dA3X5trnLWhS8EnvEXlrnd6X72VPpnP4qJlsEAH8f/JJx8Zdq+YVUTe8MMARR4SoFwGnbitHSvaptWIqAKIYGm/jhyFZcdm24QbpK6LN5Ort7X8hZHR/gl8x3KLVvxJnnXi/M/TKxlWiLCwnnEWy2zQSEX88FHe8FIC+qGwCGXZugfAfleS8TEH6DbgqPwFmurQFgL/2DNsG9OeTQNMfk+bczq5+mCBUHhbBsQAijVwbidMzCWFxCsCmc09vdDMCFHS7lm13PY7YvIjigB4cCurOtXTjd12YggIp87Uv7hZv/DcB90x7FGNCPc6LjceDkY6s2xTJk8wr3136ltao872XyzBGsjerPRNtgpKsIp20zjrKFBITfgnQVcMgahAzehzlkL6GbtQ8Ag56+MDgCob/YNSW2csjC5pbLadvIRR01S8KeChdW1z7S8w9RXvA+AtgQB86St5EmM8LlxBIwCRMROB1ZOO3bKO6ZRBHzsRzZT0Cp/kzYNlNhq/TbgbPLe7C+/enst0tsRdoL3WkNRjjsGBxVs1fK817DYOmKyToCl20Lm0IG0t0pKTBIYmw5CGMEXayaFeq8xHuYsbtqa2dnm64MDwwjqiKS3/a9jAsjpUYrQSYnJeJnhDgFRfNAWRCagONlQbBnZbHg7fPZfPhJzoww8lLQLn4sbcUHp9xB7Jp/EZDTG7vTxLhTWxFuc/Hn3GI+F6WcK60EU2XyOxQgeL2bmQc2l3DduFx2iS7MXbyBA8MfZzcdKZIhnDr/GnbyCwUd9rLAlcYPnU/l+uylnLuyGxacHDrlJnd+K1dM5uUhV2Odtd99To5rRYXZQt99O8g+EEFeXgXl4+OZPH8u0pjIzLGdOUP+wDkrxnLdkGhmLCxhZdjH9OlbNa3qMf5DhujGvIXboSQCgWBbziK2Fi7DbLBwWudr2DtuCs/JR1lnGMiyWYX85PqbgrAKRozUlIIF86/gFFt/5uX+TGSHQ1gMYbxZfCW5dkn5uHg+m7cWQ9q/+YZL+El4+CU4XGAULJ9dBMIJ0sivllVkGfIwGJy4XCbCdmdwatdRrGz/CwkJW1i44FJ2RLdjTu+h3DD/Zy4vG4FFCIQ0YsfFa9FrmJHk7Ql+/oq/6VTs5MKK4czPnc1uMjEKJznte/LpSG3u/lT5INHkYFn+CrHl0LZM8mHQ7/Qd8ithAcUEHB7EE8Z72L4yh7Ms67mqsB2TztJmZLxYUkjkzEX0ihoG5gLMFdGUY+eTvL/4LHIkFWNikUEmXl1ZSo/iMqLLzczJnsERUxmW8gLCQ0zIohD2U8DbVzwISFKO2HlxrQ2JZAxVUxWvCFxOrjWUX/N6kGbexipHAnkymFuLf4OiHAxI2kyuIHNXe0pLorzqoagghy/HX4U0Cag2Re6H2Zmck9KGhCIHF2zO5gzTflyBeZzS9xTQ9yL5Y/Z+pIS5YYE8P0LLO+FQJj+tiaCUCr4IWMgnFdpaCvc5P+KpSZqz7o3L1yFKdjK5Yijn6+6gswhldvFPlFTkYCovJcgQSnHbLrzt1KxVVwYvweD0ltG6bwcuaxDh5x7gKfFvhm9YwvCdmxjoGsZVZ/dmwsZldM4+gNFYQWDkYQb2SseOia304j9CG8L48u/1zLNsRTirvutalayg02k7MOHgyw338Huf4YxetJzniruw+5QbADg4I5Vc1156XriTzn9NY1faTVAeTtuFzyNdJqZb0wGIz9hDntnGj2HjyLLGMdi0l1vGvYgDIxs/6sLrCdowzrXZC1gY2511aQNACOb+WUioU/D1ruco7dAdZ5BmabimPJUyVyETdX+DCwJWESzsTJ1a5VtSH5QF4cSjFIQm4HgpCLZ9+5n/6nkE2Z/i3NOisKZ7z7F+Ifkx7pv3JOWpcRjybFjW5LrD3p9wB885HubIskBygmIRNiei1EHFyFgsK7KRViN9Bu9mtRyMdY5mlbB3DcPZMQTrbO3YlhSNZYU29apb5A625XUB4P9SXuTRiucIWHzEfT1HYgiO7prHtKfi4En5qQnucFeYmcHdN7A8J4nbu7zDK+IBLEuPYMi3UZ4Wj8ngYsThv/mHMbjiqq0B4XBhyijC0TVMe7EbBBgF5lU5GLMrqBgaQ3hECeWza04VKz81gaCMI5TFR4JTIoOMWP+sWqY6wFTOI0Nf5uNDV7Izoy0hUWUM6ruFeeuHUpHUCoQgYPZ+hIQeyftZY9WtNxXOGvcHoGJoDDLCUmMjnVsOP8eHqy8HoFPkbjYNHQUuiSGnAldMgBZfSve98MpzZGsCFlUtTjRp5Dy+D9UsDMbdxZi3eu9s6GgbhGlfaVX6Ya2QERbM6/MwHtDOXz7+R0bJBUxdfD+h4aVsjhqIeWN+VR7tgzHtrbn7Z21EjneRVRxLwJIjR49cR8qT48BqrFHfjo4hmHYV44wJwD44xqsNOjqFYtxbjLNdMKZdxX7ztg2Iwri/BOMR39NdbQOjsKzWnrFTO/+DM9zKn6sGUzE0hoBl2T7T1JB/Qhu3koNLIvJtGAptmLdqG5D1iNvOlizN+bd8XDzWv6vaZvuwTPYWtsPWLxJX60CMB0pxRVgwb8nHkOt/h1ev64+PB6OBTpvWciDTt/9HxRCtzaYsX0L3skMsSk7EmR/EpshuWJYdwZBXda1Hx7/EdWl/umeY1AelIJx4lILQBBw3BWHvXv587UKuPWOa35fuyYQzPhDjQd/zt+uLNAmEo2ZbLk+Lx/rXQR8pmg4pQKjHTvE/yq5nJiH87DJbG0pBOPGopZZbENLhxFYahiiyHz1yE1GeFu/+7Us5sPWLbFC+vpQDoEHKQXmq/4VhjgVNpRzYBtdcYrjW+AOijh6pDlSMbO11XJ5cVb8Vo2OPyTVcESdmKeGKYa1wdAj2GWbvGX5CZDgR2PtE1Bru6OB/tszRaIhyoGgalJNiC0I67BQ6Q7zMyff8K4nbO8SS+vp8dh0oIj4MDhZCUpyZhf1b0ysogJ0/VK0SV35KGwxHyknOn4XJZmfB/pGMDsoiw5rIwdxyAO5OaUfuku850OU0Zm/I5tsb+rBrawaLCiMZ1zOW8NZBXPXaP6Rd2IOLosO57sd1GA+WcWHPAFYYndj6u9i31ls3zXh6AgaDmfj0tfxreEcK1mbz5dK9Ncp43pB2fLc8kwFtjJTHBjEtbTApL6bXq57uHR/Di39qJt6NT5xK78dnucMuOz+MD4qMrLh/BA99M4M5u6umEs68fTQZR4pJiAgkKTGK9JxCLlm4hYDFR7ANjOKKnvF89+1mHHbNPwHn0TWBymGUIauPcPfEflzzqWZZig8t52BRtT01xoQzLzWJ0W8uxJirmbVvS+3Cm3Or5tFPPy+OW2flklNso3xsLIZSBzeWvc6YhKX8GfEiH8V0rGFdeiP1fixmB28bH2bAsi3sDhRc3vMbDELya5cJfL+jasvqD065g+tmV60JIAFnu2CeGtSB8/uHs3PHQ2Rn/8nmwm4UHIznkX99yHubf+WJ/cGY9pTw3oQ7EULy8Ckvsld05N14B8FBd/BK7hQ2rNCcEVc/lMjaQ0t4u6A3L8XvZMG2N4nhCMmj/iEgQFM2Fmw/wuguMQgh2LP3fXbs+A8Av2c9z4x1VpK6F9GvVT8+XLiL1oFHOFzWivuTXqNzxC7mZo4hKv5eLN2jyDxQxHe/bOO+sXvJsG7lm61n81S3TFI7jyZl2iZ6tQnl9ot70KXwK+LiTuVIwWYOGHvQO6wz936zlgOHs3n5ilH0jA9jd1kF7a0WDEJQUXGI2z54gWHxK9ne5ja+/qHm/igxk9uzz+bkGvlfxjObqM4LKbGZGdUlmvj0tT6tgLemtGXl1h949PKrGL82H1HmJDDESHqf7ox9QdvdtPyUNhhyKjCvyuGb+5N5Yfo6VuzJ44zecczcmIUr0IirtZUeBet5aOir9ExKZ/fhQM7buIuAxYepGNEKS7CZXgnhbJq1x33tUycs4kIxna9L3sHWPoGP/9WFOX914YY5r9XSwmH8RT04p+haYmLOYcueuu1tojhJkFKqvxP8N3jwYNlQ5s6d6zesZONG+dclU2SHB2bKDg/MlOV2R53yLLM55J7cEml3umqNl2+zS5ufOLXJ5QuH0yUPF5bLCrvT//VKbLLDAzPl9kOFR81v0Y5saXd451VZDx0emFkv2erD39kFMvbv1TL279VHjbsnu0RmF5VLl8tV7/pqDNk5C2RJyc5a49jtxVLKut1Hl8sli8vt9ZJhX1mFLHf6v9dSSplfavPbZo8mV3n5IWmz5fsNryzfseZ43senf90kOzwwUy7YdsRnuNPlkocrbDXOu1wu+enf8xp0zeI69hlHo8hP+2hMfQEr5EnQf/8v/SkLQgtCOhzkdD4F7NoSRgGmui1GYjUbaR9Zc+Gc6oSbj11zMRoErUJ9L5bjvl6Qmd3Pnl6n/EZ0rmk+3/3s6UfdHruxpEaHkZU6oE5x20cfvY6PB9FRo48ax2TybTb3hRCC4ID6tYUE69GHAMID67ZPgi8qLQv+qE/5ThYentSThyf5X1zMIAStLDXrTAhBO1F9GbO6EVzHPuNohNSzfShOTpQPQgvC5XBwADW+p1AoFIrGoxSEFoR02Mkza9PQkuI2NbE0CoVCoWjOKAWhBeFyOFgSqjtDnbwTGRQKhULRDFAKQgvC5XCS59BuaYQoOkpshUKhUCj8oxSEFoR02Ik3aqaDHoGHjxJboVAoFAr/KAWhBeFyuqjQ72iYqeEe4QqFQqFQKAWhBSEdNkr02U3BAWo2g0KhUCgajlIQWhAuhwubPs0xHGVBUCgUCkXDUQpCC8LlsHPoiKYgBAX53nlNoVAoFIq6oBSEFoR0OglvpSkI1vCIphVGoVAoFM0atR5mC0K6XEijC2EGk7n2ZYwVCoVCoagNZUFoQbgcTlw4MRgkFmvN3eMUCoVCoagrSkFoQUiHE5dLIAySoMDIphZHoVAoFM0YpSC0IOxOGy6nCWGQBATHNbU4CoVCoWjGKAWhBWGz2XC5wGCQmK1Ns7WwQqFQKFoGSkFoQdhs5UgJwiCxWJSCoFAoFIqGoxSEFkS5vcqCYLKoWQwKhUKhaDhKQWhB2B1OpAsMBhdmi6WpxVEoFApFM0YpCC0Ih8OOlJqCYDGrJS4UCoVC0XCUglALQoiJQoitQogdQogHfYRfJoRYp/8tEkL0bwo5K3G4JEgwCInBqBQEhUKhUDQcpSD4QQhhBN4CTgN6AZcIIXpVi7YLSJZS9gOeAt49sVJ643BKpBQYhAuDUW3WpFAoFIqGoxQE/wwFdkgpd0opbcB04CzPCFLKRVLKPP1wCdD2BMvohdMJUkoMBhfq1ioUCoWiMQgpZVPLcFIihDgfmCilvF4/vgIYJqW8zU/8e4EelfF9hN8I3AgQGxs7ePr06Q2Sq7i4mJCQEJ9h2TN/496QFFpH5fJ8vxOrq9QmV1Oi5KofSq76oeSqH42RKzU1daWUMukYi6SoBTVQ7R/h45xPbUoIkQpcB4z2l5mU8l30IYikpCSZkpLSIKHS09Pxl/anOXN1HwSX3zjHi9rkakqUXPVDyVU/lFz142SVS+EbpSD4Zx/QzuO4LXCgeiQhRD/gfeA0KWXOCZLNJ9IlwAVCKKuQQqFQKBqHGqj2z3KgqxCioxDCAlwM/OwZQQjRHvgeuEJKua0JZPRGok1zFK6mlkShUCgUzRxlQfCDlNIhhLgNmAUYgQ+llBuFEDfr4dOAx4Bo4G0hBICjycfIlIKgUCgUimOAUhBqQUr5G/BbtXPTPH5fD/h0SmwSpAApMSoFQaFQKBSNRA0xtCCk/o8BpSAoFAqFonE0awuCECKqDtFcUsr84y3LyYALI0INMSgUCoXiGNCsFQS0WQUH8D0lsRIj0P7EiNO0OHSDkFIQFAqFQtFYmruCsFlKObC2CEKI1SdKmKbGJYyAGmJQKBQKReNp7j4Iw+sQZ8Rxl+Ikwanrewbf6zkpFAqFQlFnmruC8J2+o2KwvwhSyvITKVBT4tRvp1E4m1gShUKhUDR3mruC8B5wBrBLCPG1EOJsfVGj/0mcQrcgKB8EhUKhUDSSZq0gSCl/klJeAnRAW9HwKmCvEOJDIcSEppXuxOMSugVBDTEoFAqFopE0awWhEillmZTyaynlOcApwEDgjyYW64TjEJWzGNQQg0KhUCgaR4tQEIQQsUKI24UQ/wA/ArOBwU0r1YnHoWYxKBQKheIY0aynOQohbgAuAbqjDTHcL6X8p2mlajqclRYEpSAoFAqFopE0awUBGAk8C/wppfyffys63D4I//NVoVAoFIpG0twVhIeklFm1RRBCxB0tTktBTXNUKBQKxbGiufsg/Hb0KHWK0yJQQwwKhUKhOFY0dwtCfyFEYS3hAqgtvEXhnsWAsiAoFAqFonE0awVBSmlsahlOJpzKB0GhUCgUx4jmPsSg8MC9m6OyICgUCoWikSgFoQXhEtqu18qCoFAoFIrGohSEFoRDVxCUBUGhUCgUjUUpCC2Iqr0YlIKgUCgUisahFIQWhNPtg6A2a1IoFApF41AKQgvCWTnEIJUFQaFQKBSNo1krCEKIN4UQI5tajpMFp3JSVCgUCsUxolkrCMB24CUhxG4hxHNCiAFNLVBT4lArKSoUCoXiGNGsFQQp5WtSyhFAMpALfCSE2CyEeEwI0a2JxTvhVKoFaohBoVAoFI2lWSsIlUgp90gpn5NSDgQuBc4BNjexWCecymmORqUgKBQKhaKRtAgFQQhhFkJMFkJ8AfwObAPOa2KxTjjuhZKEGmJQKBQKReNo1nsxCCEmAJcApwPLgOnAjVLKkiYVrImoVBAMLqUgKBQKhaJxNGsFAXgY+BK4V0qZ29TCNDXaLAaJQVkQFAqFQtFImrWCIKVMbWoZTiac6AqCVAqCQqFQKBpHi/BBUGi4tBEG5aSoUCgUikajFIQWhAPdB0GopZYVCoVC0TiUgtCCqLQgGKRSEBQKhULROJSCUAtCiIlCiK1CiB1CiAd9hPcQQiwWQlQIIe5tChk9cekWBNHEcigUCoWi+dOsnRSPJ0III/AWMAHYBywXQvwspdzkES0XuAM4+8RLWBOX0gwUCoVCcYxQFgT/DAV2SCl3SiltaGssnOUZQUp5WEq5HLA3hYDVUa6JCoVCoThWKAuCfxKATI/jfcCwhmYmhLgRuBEgNjaW9PT0BuVTXFzsN22l54FANDj/hlKbXE2Jkqt+KLnqh5Krfpyscil8oxQE//gy2DfY+09K+S7wLkBSUpJMSUlpUD7p6en4S/v0qj8ATfCG5t9QapOrKVFy1Q8lV/1QctWPk1UuhW/UEIN/9gHtPI7bAgeaSJY6IfWllpWXokKhUCgai1IQ/LMc6CqE6CiEsAAXAz83sUy14vIYZFAoFAqFojGoIQY/SCkdQojbgFmAEfhQSrlRCHGzHj5NCBEHrADCAJcQYgrQS0pZ2BQyu9dBUAqCQqFQKBqJUhBqQUr5G/BbtXPTPH5noQ09nBRUOUgoBUGhUCgUjUMNMbQgKrdoEkIpCAqFQqFoHEpBaEG4PRCkUhAUCoVC0TiUgtCCqFQQDELdVoVCoVA0DvUmaUG4hxiUD4JCoVAoGolSEFoQbguCUhAUCoVC0UiUgtCCkLqKIISanKJQKBSKxqEUhBaEC0BIhPJBUCgUCkUjUW+SFoR7FoMwNqkcCoVCoWj+KAWhBSEBBBjU+lcKhUKhaCRKQWhBuKS2hqLyQVAoFApFY1EKQgui0oKghhgUCoVC0ViUgtCCcA8xKAVBoVAoFI1EKQgtCAkIAQaDualFUSgUCkUzRykILQip/6sUBIVCoVA0FqUgtCAqhxiMwtLUoigUCoWimaMUhBaElJVDDGoWg0KhUCgah1IQWhwSo1BDDAqFQqFoHEpBaEY4XU4WFC3A7rT7DK90UjSaAk6sYAqFQqFocSgFoRnx1abP+Cb3Gz5Z847PcG2IQWJUQwwKhUKhaCRKQWhGlB9YDcDhbb/6DJf6Ns/CoJwUFQqFQtE4lILQjDAZtAWQzC5njTAppccQg/JBUCgUCkXjULboZoTDYaT3wTE4gsprBkr9T0hMRqUgKBQKhaJxKAtCM2LD4Rx6lLdmZ0lwzUCp6weAwaiGGBQKhULROJSC0IwwFVsBCHFYawZKWeWkaFJ7MSgUCoWicSgFoRkReFib3mgt9zHNUfdBQIBRDTEoFAqFopEoBaE54SwjLm4bFnNJjSDp0nZiEEhMah0EhUKhUDQS5aTYjAgJLaJrtw1ExUTXDHS6qoYYjOq2KhQKhaJxKAtCM0IIFwBmSwUu3WLgRp/6KITEZFZDDAqFQqFoHEpBaE4YtIWQTMJISUGRd5hLtyAAZrMaYlAoFApF41AKQjPCYNAsCEHBBZSVFnqFufT9GYSQmC1qmqNCoVAoGodSEJoRugEBgMOH93mFOex2ZOVCSWolRYVCoVA0EqUgNCMMhiq/gz1/L8CeVTWbwWnTVlcUSCwmZUFQKBQKReNQCkIzwiSqFISiwu1smPkILpeD0tJS8v7apc9iAHNgUBNKqVAoFIqWgFIQakEIMVEIsVUIsUMI8aCPcCGEeF0PXyeEGHQ85SlxhfH7rjSkhJyYcr4/VMHW/+vJDz9NYPTmIihwYhASk3JSVCgUCkUjURPm/SCEMAJvAROAfcByIcTPUspNHtFOA7rqf8OAd/T/jwszsidx5GA0w+OX88L+iwD4uM0FGNeWecSSGNUQg0KhUCgaibIg+GcosENKuVNKaQOmA2dVi3MW8KnUWAJECCHij5dAJc5AAIrtIe5zxgNlXnGEkJjNSu9TKBQKReMQUsqjx/ofRAhxPjBRSnm9fnwFMExKeZtHnJnAs1LKhfrxX8ADUsoVPvK7EbgRIDY2dvD06dPrJY/T6eS6OT62ea5GTKt8nukfh+UEb9hUXFxMSEjI0SOeYJRc9UPJVT+UXPWjMXKlpqaulFImHWORFLWgPjX9I3ycq65N1SWOdlLKd4F3AZKSkmRKSkq9hMkpKIQ5C44azyBcpCYnn3ArQnp6OvUt04lAyVU/lFz1Q8lVP05WuRS+UUMM/tkHtPM4bgscaECcY4KhuOYGTb4QQmIw+NJbFAqFQqGoO0pB8M9yoKsQoqMQwgJcDPxcLc7PwJX6bIbhQIGU8uDxECaiTRxDu0QdNZ5BuDAY1G1VKBQKReNQQwx+kFI6hBC3AbMAI/ChlHKjEOJmPXwa8BswCdgBlALXHC95hBAE18EwYBAuhFAWBIVCoVA0DqUg1IKU8jc0JcDz3DSP3xK49UTJY7HZvI5fT3uQO/56FleICVdrK6adxRj0HR8VCoVCoWgMyhbdjLCVH8LeORRXmJmK4a347p8beKTnW0zrcx8JZaUAGISalaJQKBSKxqMsCM0Ii70cZ5cwnF3CuPvnX+l/6hDss7sCpRgSK4cVlIKgUCgUisajFIRmhFXf0hkg5apzGDqgF0zUjp9+/Q9A26xJoVAoFIrGooYYmhGBrqqFkjp0bOsVJvQlGdQIg0KhUCiOBUpBaEYIp9P9OzLUezUyg1BDDAqFQqE4digFoRnhcFUtn2yuNpXRHaL0A4VCoVAcA5SC0IwodAYB0HW/rcZaBwa19oFCoVAojiFKQWhGaDtQg8GHlcCo+yCovbcUCoVCcSxQCkIzwh4QDEBWZM2dGoV73yhlSVAoFApF41EKQjOiNCgCgILgmgqCQWqKgUsqBUGhUCgUjUcpCM2IYZv/pssBG7dO+7RGmFH3QZDKgqBQKBSKY4BSEJoTbcJ476mrOJIQXiOocv0DqSwICoVCoTgGqJUUmxG7JpzCHW06sL5Ld16vFla1CoJSEBQKhULReJSC0Ix4YmhfetgEPwzsUiOs0hSkLAgKhUKhOBaoIYZmRITZxHSRz4iIkBphBvc0R6UgKBQKhaLxKAWhhVC5NoIaYlAoFArFsUApCC2EhDIXABZZ0cSSKBQKhaIloBSEFkLXPZkAmI44jxJToVAoFIqjoxSEFkLXnAUMLC2lX9m8phZFoVAoFC0ApSC0EMI6b+bGrJc50LldU4uiUCgUihaAmubYQvgw+kqs7EW0C2tqURQKhULRAlAWhBaCNTiAbydcQFRoYVOLolAoFIoWgFIQWgidC/MAaCf3NLEkCoVCoWgJqCGGFsLYA3uIlrcT7cpvalEUCoVC0QJQFoQWghCSNhxoajEUCoVC0UJQCkILwWjWll8OPtStiSVRKBQKRUtADTG0ENpddDXBv/Vlb465qUVRKBQKRQtAWRBaCJGDu7LqUCybyyObWhSFQqFQtACUBaEF0ffyHoRGWptaDIVCoVC0AJSC0ILoMTy+qUVQKBQKRQtBDTEoFAqFQqGogVIQFAqFQqFQ1EApCAqFQqFQKGqgFAQfCCGihBBzhBDb9f99Tg0QQnwohDgshNhwomVUKBQKheJ4ohQE3zwI/CWl7Ar8pR/74mNg4okSSqFQKBSKE4VSEHxzFvCJ/vsT4GxfkaSU84HcEySTQqFQKBQnDCGlbGoZTjqEEPlSygiP4zwppb9hhkRgppSyz1HyvBG4ESA2Nnbw9OnTGyRbcXExISEhDUp7PFFy1Q8lV/1QctWPlihXamrqSill0jEWSVEL/7PrIAgh/gTifAQ9cjyuJ6V8F3gXICkpSaakpDQon/T0dBqa9nii5KofSq76oeSqH0ouxbHgf1ZBkFKO9xcmhDgkhIiXUh4UQsQDh4/ltVeuXJkthNjTwOQxQPaxlOcYoeSqH0qu+qHkqh8tUa4Ox1IQxdH5n1UQjsLPwFXAs/r/Px3LzKWUrRqaVgix4mQ0sym56oeSq34oueqHkktxLFBOir55FpgghNgOTNCPEUK0EUL8VhlJCPEVsBjoLoTYJ4S4rkmkVSgUCoXiGKMsCD6QUuYAaT7OHwAmeRxfciLlUigUCoXiRKEsCM2Pd5taAD8oueqHkqt+KLnqh5JL0WjUNEeFQqFQKBQ1UBYEhUKhUCgUNVAKgkKhUCgUihooBaGZIISYKITYKoTYIYTwtzdEkyCE2C2EWC+EWCOEWNGEctTYPKuuG281gVxThRD79TpbI4SYVFsex0GmdkKIuUKIzUKIjUKIO/XzTVpftcjV1PVlFUIsE0Ks1eV6Qj9/MrQvf7I1aZ3pMhiFEKuFEDP14yavL0XdUT4IzQAhhBHYhjblch+wHLhESrmpSQXTEULsBpKklE26MIsQYixQDHxaufS1EOJ5IFdK+ayuWEVKKR84CeSaChRLKV88kbJ4yBQPxEspVwkhQoGVaHuOXE0T1lctcl1I09aXAIKllMVCCDOwELgTOJemb1/+ZJtIE9aZLtvdQBIQJqU842R4HhV1R1kQmgdDgR1Syp1SShswHW1DKYUHfjbPqtPGW8eTk3FTLynlQSnlKv13EbAZSKCJ66sWuZoUqVGsH5r1P8nJ0b78ydakCCHaAqcD73ucbvL6UtQdpSA0DxKATI/jfZwEnaYHEpgthFipb0p1MhErpTwI2ssHaN3E8nhymxBinT4E0WSmVn3DsYHAUk6i+qomFzRxfenm8jVoS6/PkVKeNPXlRzZo2jp7FbgfcHmcOynqS1E3lILQPBA+zjX5F4IHo6SUg4DTgFt1k7qidt4BOgMDgIPAS00hhBAiBPgOmCKlLGwKGXzhQ64mry8ppVNKOQBoCwwVQtS6g+uJxI9sTVZnQogzgMNSypUn6pqKY49SEJoH+4B2HsdtgQNNJEsN9BUmkVIeBn5AGxI5WTikj2tXjm8f0423GoqU8pDeqbuA92iCOtPHq78DvpBSfq+fbvL68iXXyVBflUgp84F0tDH+Jq8vTzxla+I6GwWcqfsnTQfGCSE+5ySrL0XtKAWhebAc6CqE6CiEsAAXo20o1eQIIYJ1ZzKEEMHAKcCG2lOdUCo33oLjsPFWQ6nsJHXO4QTXme7Y9gGwWUr5skdQk9aXP7lOgvpqJYSI0H8HAuOBLZwE7cufbE1ZZ1LKh6SUbaWUiWj91d9Syss5CepLUXfUXgzNACmlQwhxGzALMAIfSik3NrFYlcQCP2j9OibgSynlH00hiNA2z0oBYoQQ+4DH0Tba+kZoG2ntBS44SeRKEUIMQBsq2g3cdILFGgVcAazXx64BHqbp68ufXJc0cX3FA5/oM4oMwDdSyplCiMU0cfuqRbbPmrjOfNHU7UtRD9Q0R4VCoVAoFDVQQwwKhUKhUChqoBQEhUKhUCgUNVAKgkKhUCgUihooBUGhUCgUCkUNlIKgUCgUCoWiBkpBUCgUCoVCUQOlICgULRghRIQQ4pY6xnXq2wK3qSXOC0KILCHEvcdOSoVCcTKiFkpSKFo2EcAtwNt1iFumr+fvFynlfUKIkmMgl0KhOMlRFgSFomXzLNBZtwy8UNdE+u6AHwshNggh1gsh7vr/9u4YpcEgiqLwuQuws0tnHVBchWsQd2At6DpsBd2AtStwAYKt7kAE7WyeRUg1AaPkT8bhfP2DW17eDDMTZpTUITcI0tgugflPm4EVjoBZVc1hcVSx2ViSeucGQdIqr8BBkuskJ0A3X0FL2g4LgqRGVb0Dhyy+Dj4HbnYaSNLWecQgje0T2PvtUJJ94Kuq7pO8AHebDiapbxYEaWBV9ZbkMckz8FBVF2uOzoDbJMst49U0CSX1yoIgDa6qTv8w8wQcTxBH0j/hHQRJSx/rPJQEnAG+hSANLlW16wySJKkzbhAkSVLDgiBJkhoWBEmS1LAgSJKkxjdixlwTpWnFQQAAAABJRU5ErkJggg==",
                        "text/plain": [
                            "<Figure size 432x288 with 1 Axes>"
                        ]
                    },
                    "metadata": {
                        "needs_background": "light"
                    }
                }
            ],
            "metadata": {}
        },
        {
            "cell_type": "code",
            "execution_count": 31,
            "source": [
                "time_delay = np.linspace(-200,200,31)"
            ],
            "outputs": [],
            "metadata": {}
        },
        {
            "cell_type": "code",
            "execution_count": 43,
            "source": [
                "#change this to V regime\r\n",
                "fig,axes = plt.subplots()\r\n",
                "\r\n",
                "axes.grid(True)\r\n",
                "\r\n",
                "plt.plot(time_delay,averaged_data,label=r'100 ns Probe Width ',color='grey')\r\n",
                "#plt.plot(tm,pul,label = '{a} samples'.format(a = len(pul)))\r\n",
                "\r\n",
                "axes.set_xlabel(r'time delay [ns]')\r\n",
                "axes.set_ylabel(r'Diode Signal [V]')\r\n",
                "axes.set_title('Auto-Correlation 31 steps ')\r\n",
                "\r\n",
                "axes.legend(loc = 0)\r\n",
                "plt.show()\r\n",
                "\r\n",
                "fig.savefig(r'{loc}\\Autocorrelation function 31 steps probes 5ms length tc = {a}, sens {b}, {c}s DAQ 6Ghz.jpeg'.format(loc = PulseScheme_A_100nano['Measurement file Path'],a = Lock_In_Settings['Time Constant'], b = Lock_In_Settings['Sensitivity'], c = playing_time ))"
            ],
            "outputs": [
                {
                    "output_type": "display_data",
                    "data": {
                        "image/png": "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",
                        "text/plain": [
                            "<Figure size 432x288 with 1 Axes>"
                        ]
                    },
                    "metadata": {
                        "needs_background": "light"
                    }
                }
            ],
            "metadata": {}
        },
        {
            "cell_type": "code",
            "execution_count": null,
            "source": [
                "#Importing Pickle\r\n",
                "\r\n",
                "with open(r\"{dict}\\cycleA_31steps_5ms_100nano_6GHz.p\".format(dict = PulseScheme_A_100nano['Measurement file Path']), \"rb\") as j:\r\n",
                "    sweeping_runa_100nano = pickle.load(j)\r\n",
                "\r\n",
                "with open(r\"{dict}\\cycleB_31steps_5ms_100nano_6GHz.p\".format(dict = PulseScheme_A_100nano['Measurement file Path']), \"rb\") as f:\r\n",
                "    sweeping_runb_100nano = pickle.load(f)"
            ],
            "outputs": [],
            "metadata": {}
        },
        {
            "cell_type": "markdown",
            "source": [
                "## 10nano"
            ],
            "metadata": {}
        },
        {
            "cell_type": "code",
            "execution_count": 4,
            "source": [
                "Pump_10nano = {\r\n",
                "    'Name':'Pump_10nano',\r\n",
                "    'Amplitude':35,\r\n",
                "    'Start time':20,\r\n",
                "    'End time':2e-10,\r\n",
                "    'Start Duration':10,\r\n",
                "    'End Duration':60,\r\n",
                "    'Sweep time':0,\r\n",
                "    'Sweep Duration':0\r\n",
                "}"
            ],
            "outputs": [],
            "metadata": {}
        },
        {
            "cell_type": "code",
            "execution_count": 5,
            "source": [
                "ProbeA_10nano = {\r\n",
                "    'Name':'ProbeA_10nano',\r\n",
                "    'Amplitude':20,\r\n",
                "    'Start time':0,\r\n",
                "    'End time':40,\r\n",
                "    'Start Duration':10,\r\n",
                "    'End Duration':60,\r\n",
                "    'Sweep time':1,\r\n",
                "    'Sweep Duration':0\r\n",
                "}"
            ],
            "outputs": [],
            "metadata": {}
        },
        {
            "cell_type": "code",
            "execution_count": 6,
            "source": [
                "ProbeB_10nano = {\r\n",
                "    'Name':'ProbeB_10nano',\r\n",
                "    'Amplitude':0,\r\n",
                "    'Start time':0,\r\n",
                "    'End time':12,\r\n",
                "    'Start Duration':1,\r\n",
                "    'End Duration':6,\r\n",
                "    'Sweep time':0,\r\n",
                "    'Sweep Duration':0\r\n",
                "}"
            ],
            "outputs": [],
            "metadata": {}
        },
        {
            "cell_type": "code",
            "execution_count": 12,
            "source": [
                "PulseScheme_A_10nano =  {\r\n",
                "    'Name' : 'PulseScheme_A_10nano',\r\n",
                "    'Pulse Scheme': [Pump_10nano,ProbeA_10nano],\r\n",
                "    'Number of repetitions': 80000,\r\n",
                "    'Measurement file Path': r'D:\\Alejandro\\Pulses\\diode measurements\\Autocorrelation measurements\\10nano'\r\n",
                "}"
            ],
            "outputs": [],
            "metadata": {}
        },
        {
            "cell_type": "code",
            "execution_count": 8,
            "source": [
                "PulseScheme_B_10nano  = {\r\n",
                "    'Name' : 'PulseScheme_B_10nano',\r\n",
                "    'Pulse Scheme': [ProbeB_10nano,ProbeB_10nano],\r\n",
                "    'Number of repetitions': 1,\r\n",
                "    'Measurement file Path': r'D:\\Alejandro\\Pulses\\diode measurements\\Autocorrelation measurements\\10nano'\r\n",
                "}"
            ],
            "outputs": [],
            "metadata": {}
        },
        {
            "cell_type": "code",
            "execution_count": 14,
            "source": [
                "sam = int(AWG_Settings['Clock Sample Frecuency']*5e-3)\r\n",
                "sam"
            ],
            "outputs": [
                {
                    "output_type": "execute_result",
                    "data": {
                        "text/plain": [
                            "30000000"
                        ]
                    },
                    "metadata": {},
                    "execution_count": 14
                }
            ],
            "metadata": {}
        },
        {
            "cell_type": "code",
            "execution_count": 13,
            "source": [
                "sweeping_run_a_10nano = Sweeping_Single_List_File_teil(PulseScheme_A_10nano,30,5000000,sam,0,30,AWG_Settings,'A')[0]"
            ],
            "outputs": [],
            "metadata": {}
        },
        {
            "cell_type": "code",
            "execution_count": null,
            "source": [
                "sweeping_run_b_10nano = Sweeping_Single_List_File_teil(PulseScheme_B_10nano,30,5000000,sam,0,30,AWG_Settings,'B')[0]"
            ],
            "outputs": [],
            "metadata": {}
        },
        {
            "cell_type": "code",
            "execution_count": 44,
            "source": [
                "sweeping_run_a_10nano"
            ],
            "outputs": [
                {
                    "output_type": "execute_result",
                    "data": {
                        "text/plain": [
                            "{'Pulse File Location, at step 0': 'D:\\\\Alejandro\\\\Pulses\\\\diode measurements\\\\Prepared Pulse Schemes CSV\\\\10nano\\\\SegmentA_30000000_0.csv',\n",
                            " 'Pulse File Location, at step 1': 'D:\\\\Alejandro\\\\Pulses\\\\diode measurements\\\\Prepared Pulse Schemes CSV\\\\10nano\\\\SegmentA_30000000_1.csv',\n",
                            " 'Pulse File Location, at step 2': 'D:\\\\Alejandro\\\\Pulses\\\\diode measurements\\\\Prepared Pulse Schemes CSV\\\\10nano\\\\SegmentA_30000000_2.csv',\n",
                            " 'Pulse File Location, at step 3': 'D:\\\\Alejandro\\\\Pulses\\\\diode measurements\\\\Prepared Pulse Schemes CSV\\\\10nano\\\\SegmentA_30000000_3.csv',\n",
                            " 'Pulse File Location, at step 4': 'D:\\\\Alejandro\\\\Pulses\\\\diode measurements\\\\Prepared Pulse Schemes CSV\\\\10nano\\\\SegmentA_30000000_4.csv',\n",
                            " 'Pulse File Location, at step 5': 'D:\\\\Alejandro\\\\Pulses\\\\diode measurements\\\\Prepared Pulse Schemes CSV\\\\10nano\\\\SegmentA_30000000_5.csv',\n",
                            " 'Pulse File Location, at step 6': 'D:\\\\Alejandro\\\\Pulses\\\\diode measurements\\\\Prepared Pulse Schemes CSV\\\\10nano\\\\SegmentA_30000000_6.csv',\n",
                            " 'Pulse File Location, at step 7': 'D:\\\\Alejandro\\\\Pulses\\\\diode measurements\\\\Prepared Pulse Schemes CSV\\\\10nano\\\\SegmentA_30000000_7.csv',\n",
                            " 'Pulse File Location, at step 8': 'D:\\\\Alejandro\\\\Pulses\\\\diode measurements\\\\Prepared Pulse Schemes CSV\\\\10nano\\\\SegmentA_30000000_8.csv',\n",
                            " 'Pulse File Location, at step 9': 'D:\\\\Alejandro\\\\Pulses\\\\diode measurements\\\\Prepared Pulse Schemes CSV\\\\10nano\\\\SegmentA_30000000_9.csv',\n",
                            " 'Pulse File Location, at step 10': 'D:\\\\Alejandro\\\\Pulses\\\\diode measurements\\\\Prepared Pulse Schemes CSV\\\\10nano\\\\SegmentA_30000000_10.csv',\n",
                            " 'Pulse File Location, at step 11': 'D:\\\\Alejandro\\\\Pulses\\\\diode measurements\\\\Prepared Pulse Schemes CSV\\\\10nano\\\\SegmentA_30000000_11.csv',\n",
                            " 'Pulse File Location, at step 12': 'D:\\\\Alejandro\\\\Pulses\\\\diode measurements\\\\Prepared Pulse Schemes CSV\\\\10nano\\\\SegmentA_30000000_12.csv',\n",
                            " 'Pulse File Location, at step 13': 'D:\\\\Alejandro\\\\Pulses\\\\diode measurements\\\\Prepared Pulse Schemes CSV\\\\10nano\\\\SegmentA_30000000_13.csv',\n",
                            " 'Pulse File Location, at step 14': 'D:\\\\Alejandro\\\\Pulses\\\\diode measurements\\\\Prepared Pulse Schemes CSV\\\\10nano\\\\SegmentA_30000000_14.csv',\n",
                            " 'Pulse File Location, at step 15': 'D:\\\\Alejandro\\\\Pulses\\\\diode measurements\\\\Prepared Pulse Schemes CSV\\\\10nano\\\\SegmentA_30000000_15.csv',\n",
                            " 'Pulse File Location, at step 16': 'D:\\\\Alejandro\\\\Pulses\\\\diode measurements\\\\Prepared Pulse Schemes CSV\\\\10nano\\\\SegmentA_30000000_16.csv',\n",
                            " 'Pulse File Location, at step 17': 'D:\\\\Alejandro\\\\Pulses\\\\diode measurements\\\\Prepared Pulse Schemes CSV\\\\10nano\\\\SegmentA_30000000_17.csv',\n",
                            " 'Pulse File Location, at step 18': 'D:\\\\Alejandro\\\\Pulses\\\\diode measurements\\\\Prepared Pulse Schemes CSV\\\\10nano\\\\SegmentA_30000000_18.csv',\n",
                            " 'Pulse File Location, at step 19': 'D:\\\\Alejandro\\\\Pulses\\\\diode measurements\\\\Prepared Pulse Schemes CSV\\\\10nano\\\\SegmentA_30000000_19.csv',\n",
                            " 'Pulse File Location, at step 20': 'D:\\\\Alejandro\\\\Pulses\\\\diode measurements\\\\Prepared Pulse Schemes CSV\\\\10nano\\\\SegmentA_30000000_20.csv',\n",
                            " 'Pulse File Location, at step 21': 'D:\\\\Alejandro\\\\Pulses\\\\diode measurements\\\\Prepared Pulse Schemes CSV\\\\10nano\\\\SegmentA_30000000_21.csv',\n",
                            " 'Pulse File Location, at step 22': 'D:\\\\Alejandro\\\\Pulses\\\\diode measurements\\\\Prepared Pulse Schemes CSV\\\\10nano\\\\SegmentA_30000000_22.csv',\n",
                            " 'Pulse File Location, at step 23': 'D:\\\\Alejandro\\\\Pulses\\\\diode measurements\\\\Prepared Pulse Schemes CSV\\\\10nano\\\\SegmentA_30000000_23.csv',\n",
                            " 'Pulse File Location, at step 24': 'D:\\\\Alejandro\\\\Pulses\\\\diode measurements\\\\Prepared Pulse Schemes CSV\\\\10nano\\\\SegmentA_30000000_24.csv',\n",
                            " 'Pulse File Location, at step 25': 'D:\\\\Alejandro\\\\Pulses\\\\diode measurements\\\\Prepared Pulse Schemes CSV\\\\10nano\\\\SegmentA_30000000_25.csv',\n",
                            " 'Pulse File Location, at step 26': 'D:\\\\Alejandro\\\\Pulses\\\\diode measurements\\\\Prepared Pulse Schemes CSV\\\\10nano\\\\SegmentA_30000000_26.csv',\n",
                            " 'Pulse File Location, at step 27': 'D:\\\\Alejandro\\\\Pulses\\\\diode measurements\\\\Prepared Pulse Schemes CSV\\\\10nano\\\\SegmentA_30000000_27.csv',\n",
                            " 'Pulse File Location, at step 28': 'D:\\\\Alejandro\\\\Pulses\\\\diode measurements\\\\Prepared Pulse Schemes CSV\\\\10nano\\\\SegmentA_30000000_28.csv',\n",
                            " 'Pulse File Location, at step 29': 'D:\\\\Alejandro\\\\Pulses\\\\diode measurements\\\\Prepared Pulse Schemes CSV\\\\10nano\\\\SegmentA_30000000_29.csv',\n",
                            " 'Pulse File Location, at step 30': 'D:\\\\Alejandro\\\\Pulses\\\\diode measurements\\\\Prepared Pulse Schemes CSV\\\\10nano\\\\SegmentA_30000000_30.csv'}"
                        ]
                    },
                    "metadata": {},
                    "execution_count": 44
                }
            ],
            "metadata": {}
        },
        {
            "cell_type": "code",
            "execution_count": 45,
            "source": [
                "#Exporting pickle\r\n",
                "\r\n",
                "with open(r\"{dict}\\cycleA_31steps_5ms_10nano_6GHz.p\".format(dict = PulseScheme_A_10nano['Measurement file Path']), \"wb\") as k:\r\n",
                "    pickle.dump(sweeping_run_a_10nano, k)\r\n",
                "\r\n",
                "\r\n",
                "#with open(r\"{dict}\\cycleB_31steps_5ms_10nano_6GHz.p\".format(dict = PulseScheme_A_10nano['Measurement file Path']), \"wb\") as h:\r\n",
                "#    pickle.dump(sweeping_run_b_10nano, h)"
            ],
            "outputs": [],
            "metadata": {}
        },
        {
            "cell_type": "code",
            "execution_count": 15,
            "source": [
                "#Importing Pickle\r\n",
                "\r\n",
                "#with open(r\"{dict}\\cycleA_31steps_5ms_10nano_6GHz.p\".format(dict = PulseScheme_A_10nano['Measurement file Path']), \"rb\") as j:\r\n",
                "#    sweeping_runa_10nano = pickle.load(j)\r\n",
                "\r\n",
                "with open(r\"{dict}\\cycleB_31steps_5ms_10nano_6GHz.p\".format(dict = PulseScheme_A_10nano['Measurement file Path']), \"rb\") as f:\r\n",
                "    sweeping_runb_10nano = pickle.load(f)"
            ],
            "outputs": [],
            "metadata": {}
        },
        {
            "cell_type": "code",
            "execution_count": 16,
            "source": [
                "M8190A.write('SEQ:DEL:ALL')"
            ],
            "outputs": [
                {
                    "output_type": "execute_result",
                    "data": {
                        "text/plain": [
                            "12"
                        ]
                    },
                    "metadata": {},
                    "execution_count": 16
                }
            ],
            "metadata": {}
        },
        {
            "cell_type": "code",
            "execution_count": 17,
            "source": [
                "Lock_In_Settings = {\r\n",
                "'Time Constant' : '300ms',\r\n",
                "'Sensitivity' : '500 microVolts',\r\n",
                "'Reserve' : 'Normal',\r\n",
                "'db' : 24,\r\n",
                "'Modulation': '100Hz'\r\n",
                "}"
            ],
            "outputs": [],
            "metadata": {}
        },
        {
            "cell_type": "code",
            "execution_count": 18,
            "source": [
                "playing_time = 10 #in seconds\r\n",
                "\r\n",
                "Diode_Signal, averaged_data = Measurement_Autocorrelation_voltage(M8190A,DAQ_Settings1,1000, playing_time ,sweeping_run_a_10nano,sweeping_runb_10nano,PulseScheme_A_10nano['Measurement file Path'],Lock_In_Settings)"
            ],
            "outputs": [
                {
                    "output_type": "stream",
                    "name": "stdout",
                    "text": [
                        "Sequence loaded with the following segment data \"1,1,0,1,0,29999999,2,1,0,1,0,29999999\" and the advancement method is COND\n",
                        "Triggering Pulse Stoped\n",
                        "Data acquired for Step 0\n",
                        "Sequence loaded with the following segment data \"1,1,0,1,0,29999999,2,1,0,1,0,29999999\" and the advancement method is COND\n",
                        "Triggering Pulse Stoped\n",
                        "Data acquired for Step 1\n",
                        "Sequence loaded with the following segment data \"1,1,0,1,0,29999999,2,1,0,1,0,29999999\" and the advancement method is COND\n",
                        "Triggering Pulse Stoped\n",
                        "Data acquired for Step 2\n",
                        "Sequence loaded with the following segment data \"1,1,0,1,0,29999999,2,1,0,1,0,29999999\" and the advancement method is COND\n",
                        "Triggering Pulse Stoped\n",
                        "Data acquired for Step 3\n",
                        "Sequence loaded with the following segment data \"1,1,0,1,0,29999999,2,1,0,1,0,29999999\" and the advancement method is COND\n",
                        "Triggering Pulse Stoped\n",
                        "Data acquired for Step 4\n",
                        "Sequence loaded with the following segment data \"1,1,0,1,0,29999999,2,1,0,1,0,29999999\" and the advancement method is COND\n",
                        "Triggering Pulse Stoped\n",
                        "Data acquired for Step 5\n",
                        "Sequence loaded with the following segment data \"1,1,0,1,0,29999999,2,1,0,1,0,29999999\" and the advancement method is COND\n",
                        "Triggering Pulse Stoped\n",
                        "Data acquired for Step 6\n",
                        "Sequence loaded with the following segment data \"1,1,0,1,0,29999999,2,1,0,1,0,29999999\" and the advancement method is COND\n",
                        "Triggering Pulse Stoped\n",
                        "Data acquired for Step 7\n",
                        "Sequence loaded with the following segment data \"1,1,0,1,0,29999999,2,1,0,1,0,29999999\" and the advancement method is COND\n",
                        "Triggering Pulse Stoped\n",
                        "Data acquired for Step 8\n",
                        "Sequence loaded with the following segment data \"1,1,0,1,0,29999999,2,1,0,1,0,29999999\" and the advancement method is COND\n",
                        "Triggering Pulse Stoped\n",
                        "Data acquired for Step 9\n",
                        "Sequence loaded with the following segment data \"1,1,0,1,0,29999999,2,1,0,1,0,29999999\" and the advancement method is COND\n",
                        "Triggering Pulse Stoped\n",
                        "Data acquired for Step 10\n",
                        "Sequence loaded with the following segment data \"1,1,0,1,0,29999999,2,1,0,1,0,29999999\" and the advancement method is COND\n",
                        "Triggering Pulse Stoped\n",
                        "Data acquired for Step 11\n",
                        "Sequence loaded with the following segment data \"1,1,0,1,0,29999999,2,1,0,1,0,29999999\" and the advancement method is COND\n",
                        "Triggering Pulse Stoped\n",
                        "Data acquired for Step 12\n",
                        "Sequence loaded with the following segment data \"1,1,0,1,0,29999999,2,1,0,1,0,29999999\" and the advancement method is COND\n",
                        "Triggering Pulse Stoped\n",
                        "Data acquired for Step 13\n",
                        "Sequence loaded with the following segment data \"1,1,0,1,0,29999999,2,1,0,1,0,29999999\" and the advancement method is COND\n",
                        "Triggering Pulse Stoped\n",
                        "Data acquired for Step 14\n",
                        "Sequence loaded with the following segment data \"1,1,0,1,0,29999999,2,1,0,1,0,29999999\" and the advancement method is COND\n",
                        "Triggering Pulse Stoped\n",
                        "Data acquired for Step 15\n",
                        "Sequence loaded with the following segment data \"1,1,0,1,0,29999999,2,1,0,1,0,29999999\" and the advancement method is COND\n",
                        "Triggering Pulse Stoped\n",
                        "Data acquired for Step 16\n",
                        "Sequence loaded with the following segment data \"1,1,0,1,0,29999999,2,1,0,1,0,29999999\" and the advancement method is COND\n",
                        "Triggering Pulse Stoped\n",
                        "Data acquired for Step 17\n",
                        "Sequence loaded with the following segment data \"1,1,0,1,0,29999999,2,1,0,1,0,29999999\" and the advancement method is COND\n",
                        "Triggering Pulse Stoped\n",
                        "Data acquired for Step 18\n",
                        "Sequence loaded with the following segment data \"1,1,0,1,0,29999999,2,1,0,1,0,29999999\" and the advancement method is COND\n",
                        "Triggering Pulse Stoped\n",
                        "Data acquired for Step 19\n",
                        "Sequence loaded with the following segment data \"1,1,0,1,0,29999999,2,1,0,1,0,29999999\" and the advancement method is COND\n",
                        "Triggering Pulse Stoped\n",
                        "Data acquired for Step 20\n",
                        "Sequence loaded with the following segment data \"1,1,0,1,0,29999999,2,1,0,1,0,29999999\" and the advancement method is COND\n",
                        "Triggering Pulse Stoped\n",
                        "Data acquired for Step 21\n",
                        "Sequence loaded with the following segment data \"1,1,0,1,0,29999999,2,1,0,1,0,29999999\" and the advancement method is COND\n",
                        "Triggering Pulse Stoped\n",
                        "Data acquired for Step 22\n",
                        "Sequence loaded with the following segment data \"1,1,0,1,0,29999999,2,1,0,1,0,29999999\" and the advancement method is COND\n",
                        "Triggering Pulse Stoped\n",
                        "Data acquired for Step 23\n",
                        "Sequence loaded with the following segment data \"1,1,0,1,0,29999999,2,1,0,1,0,29999999\" and the advancement method is COND\n",
                        "Triggering Pulse Stoped\n",
                        "Data acquired for Step 24\n",
                        "Sequence loaded with the following segment data \"1,1,0,1,0,29999999,2,1,0,1,0,29999999\" and the advancement method is COND\n",
                        "Triggering Pulse Stoped\n",
                        "Data acquired for Step 25\n",
                        "Sequence loaded with the following segment data \"1,1,0,1,0,29999999,2,1,0,1,0,29999999\" and the advancement method is COND\n",
                        "Triggering Pulse Stoped\n",
                        "Data acquired for Step 26\n",
                        "Sequence loaded with the following segment data \"1,1,0,1,0,29999999,2,1,0,1,0,29999999\" and the advancement method is COND\n",
                        "Triggering Pulse Stoped\n",
                        "Data acquired for Step 27\n",
                        "Sequence loaded with the following segment data \"1,1,0,1,0,29999999,2,1,0,1,0,29999999\" and the advancement method is COND\n",
                        "Triggering Pulse Stoped\n",
                        "Data acquired for Step 28\n",
                        "Sequence loaded with the following segment data \"1,1,0,1,0,29999999,2,1,0,1,0,29999999\" and the advancement method is COND\n",
                        "Triggering Pulse Stoped\n",
                        "Data acquired for Step 29\n",
                        "Sequence loaded with the following segment data \"1,1,0,1,0,29999999,2,1,0,1,0,29999999\" and the advancement method is COND\n",
                        "Triggering Pulse Stoped\n",
                        "Data acquired for Step 30\n"
                    ]
                }
            ],
            "metadata": {}
        },
        {
            "cell_type": "code",
            "execution_count": 20,
            "source": [
                "fig,ax= plt.subplots()\r\n",
                "ax.grid(True)\r\n",
                "for i in range(0,len(Diode_Signal)):\r\n",
                "    plt.plot(Diode_Signal[i][1],Diode_Signal[i][0],label= 'Step {st}'.format(st = i ))\r\n",
                "\r\n",
                "ax.set_ylabel(r'V  [V]')\r\n",
                "ax.set_xlabel('t  [s]')\r\n",
                "ax.set_title(r' Diode Signal at Different Steps,  {b} Samples, 10 nano probe duration'.format(b = len(Diode_Signal[0][1]) ))\r\n",
                "#ax.legend(bbox_to_anchor=(1.05, 1), loc='upper left', borderaxespad=0.)\r\n",
                "#ax.legend(loc=0)\r\n",
                "plt.show()\r\n",
                "\r\n",
                "fig.savefig(r'{loc}\\Diode Signal time cstant = {a}, sensitivity {b},{c} daqseconds, 5ms scheme, probe duration 10 nano,31 steps, no legend,6Ghz .jpeg'.format(loc = PulseScheme_A_10nano['Measurement file Path'],a = Lock_In_Settings['Time Constant'], b = Lock_In_Settings['Sensitivity'], c = playing_time),bbox_inches='tight')"
            ],
            "outputs": [
                {
                    "output_type": "display_data",
                    "data": {
                        "image/png": "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",
                        "text/plain": [
                            "<Figure size 432x288 with 1 Axes>"
                        ]
                    },
                    "metadata": {
                        "needs_background": "light"
                    }
                }
            ],
            "metadata": {}
        },
        {
            "cell_type": "code",
            "execution_count": 21,
            "source": [
                "time_delay = np.linspace(-20,20,31)"
            ],
            "outputs": [],
            "metadata": {}
        },
        {
            "cell_type": "code",
            "execution_count": 47,
            "source": [
                "#change this to V regime\r\n",
                "fig,axes = plt.subplots()\r\n",
                "\r\n",
                "axes.grid(True)\r\n",
                "\r\n",
                "plt.plot(time_delay,averaged_data,label=r'10 ns Probe Width ',color='black')\r\n",
                "#plt.plot(tm,pul,label = '{a} samples'.format(a = len(pul)))\r\n",
                "\r\n",
                "axes.set_xlabel(r'time delay [ns]')\r\n",
                "axes.set_ylabel(r'Diode Signal [V]')\r\n",
                "axes.set_title('Auto-Correlation 31 steps ')\r\n",
                "\r\n",
                "axes.legend(loc = 0)\r\n",
                "plt.show()\r\n",
                "\r\n",
                "fig.savefig(r'{loc}\\Autocorrelation function 31 steps probes 5ms length tc = {a}, sens {b}, {c}s DAQ 6Ghz.jpeg'.format(loc = PulseScheme_A_10nano['Measurement file Path'],a = Lock_In_Settings['Time Constant'], b = Lock_In_Settings['Sensitivity'], c = playing_time ))"
            ],
            "outputs": [
                {
                    "output_type": "display_data",
                    "data": {
                        "image/png": "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",
                        "text/plain": [
                            "<Figure size 432x288 with 1 Axes>"
                        ]
                    },
                    "metadata": {
                        "needs_background": "light"
                    }
                }
            ],
            "metadata": {}
        },
        {
            "cell_type": "markdown",
            "source": [
                "## 1nano"
            ],
            "metadata": {}
        },
        {
            "cell_type": "code",
            "execution_count": 7,
            "source": [
                "Pump_1nano = {\r\n",
                "    'Name':'Pump_1nano',\r\n",
                "    'Amplitude':35,\r\n",
                "    'Start time':2,\r\n",
                "    'End time':2e-10,\r\n",
                "    'Start Duration':1,\r\n",
                "    'End Duration':60,\r\n",
                "    'Sweep time':0,\r\n",
                "    'Sweep Duration':0\r\n",
                "}"
            ],
            "outputs": [],
            "metadata": {}
        },
        {
            "cell_type": "code",
            "execution_count": 8,
            "source": [
                "ProbeA_1nano = {\r\n",
                "    'Name':'ProbeA_1nano',\r\n",
                "    'Amplitude':20,\r\n",
                "    'Start time':0,\r\n",
                "    'End time':4,\r\n",
                "    'Start Duration':1,\r\n",
                "    'End Duration':60,\r\n",
                "    'Sweep time':1,\r\n",
                "    'Sweep Duration':0\r\n",
                "}"
            ],
            "outputs": [],
            "metadata": {}
        },
        {
            "cell_type": "code",
            "execution_count": 9,
            "source": [
                "ProbeB_1nano = {\r\n",
                "    'Name':'ProbeB_1nano',\r\n",
                "    'Amplitude':0,\r\n",
                "    'Start time':0,\r\n",
                "    'End time':12,\r\n",
                "    'Start Duration':1,\r\n",
                "    'End Duration':6,\r\n",
                "    'Sweep time':0,\r\n",
                "    'Sweep Duration':0\r\n",
                "}"
            ],
            "outputs": [],
            "metadata": {}
        },
        {
            "cell_type": "code",
            "execution_count": 16,
            "source": [
                "PulseScheme_A_1nano =  {\r\n",
                "    'Name' : 'PulseScheme_A_1nano',\r\n",
                "    'Pulse Scheme': [Pump_1nano,ProbeA_1nano],\r\n",
                "    'Number of repetitions': 600000, #1 micro has 200 reps\r\n",
                "    'Measurement file Path': r'D:\\Alejandro\\Pulses\\diode measurements\\Autocorrelation measurements\\1nano'\r\n",
                "}"
            ],
            "outputs": [],
            "metadata": {}
        },
        {
            "cell_type": "code",
            "execution_count": 11,
            "source": [
                "PulseScheme_B_1nano  = {\r\n",
                "    'Name' : 'PulseScheme_B_1nano',\r\n",
                "    'Pulse Scheme': [ProbeB_1nano,ProbeB_1nano],\r\n",
                "    'Number of repetitions': 1,\r\n",
                "    'Measurement file Path': r'D:\\Alejandro\\Pulses\\diode measurements\\Autocorrelation measurements\\1nano'\r\n",
                "}"
            ],
            "outputs": [],
            "metadata": {}
        },
        {
            "cell_type": "code",
            "execution_count": 12,
            "source": [
                "AWG_Settings['Clock Sample Frecuency']"
            ],
            "outputs": [
                {
                    "output_type": "execute_result",
                    "data": {
                        "text/plain": [
                            "6000000000"
                        ]
                    },
                    "metadata": {},
                    "execution_count": 12
                }
            ],
            "metadata": {}
        },
        {
            "cell_type": "code",
            "execution_count": 13,
            "source": [
                "a = int(AWG_Settings['Clock Sample Frecuency']*5e-3)\r\n",
                "a"
            ],
            "outputs": [
                {
                    "output_type": "execute_result",
                    "data": {
                        "text/plain": [
                            "30000000"
                        ]
                    },
                    "metadata": {},
                    "execution_count": 13
                }
            ],
            "metadata": {}
        },
        {
            "cell_type": "code",
            "execution_count": 35,
            "source": [
                "#M8190A.write('FREQ:RAST 7500000000')"
            ],
            "outputs": [
                {
                    "output_type": "execute_result",
                    "data": {
                        "text/plain": [
                            "21"
                        ]
                    },
                    "metadata": {},
                    "execution_count": 35
                }
            ],
            "metadata": {}
        },
        {
            "cell_type": "code",
            "execution_count": 14,
            "source": [
                "a"
            ],
            "outputs": [
                {
                    "output_type": "execute_result",
                    "data": {
                        "text/plain": [
                            "30000000"
                        ]
                    },
                    "metadata": {},
                    "execution_count": 14
                }
            ],
            "metadata": {}
        },
        {
            "cell_type": "code",
            "execution_count": 33,
            "source": [
                "a/48"
            ],
            "outputs": [
                {
                    "output_type": "execute_result",
                    "data": {
                        "text/plain": [
                            "781250.0"
                        ]
                    },
                    "metadata": {},
                    "execution_count": 33
                }
            ],
            "metadata": {}
        },
        {
            "cell_type": "code",
            "execution_count": 17,
            "source": [
                "sweeping_run_a_1nano = Sweeping_Single_List_File_teil(PulseScheme_A_1nano,30,5000000,a,0,30,AWG_Settings,'A')[0]"
            ],
            "outputs": [],
            "metadata": {}
        },
        {
            "cell_type": "code",
            "execution_count": 48,
            "source": [
                "sweeping_run_b_1nano = Sweeping_Single_List_File_teil(PulseScheme_B_1nano,30,5000000,a,0,30,AWG_Settings,'B')[0]"
            ],
            "outputs": [],
            "metadata": {}
        },
        {
            "cell_type": "code",
            "execution_count": 19,
            "source": [
                "#Exporting pickle\r\n",
                "\r\n",
                "with open(r\"{dict}\\cycleA_31steps_5ms_1nano_6GHz.p\".format(dict = PulseScheme_A_1nano['Measurement file Path']), \"wb\") as k:\r\n",
                "    pickle.dump(sweeping_run_a_1nano, k)\r\n",
                "\r\n",
                "\r\n",
                "#with open(r\"{dict}\\cycleB_31steps_5ms_1nano_6GHz.p\".format(dict = PulseScheme_A_1nano['Measurement file Path']), \"wb\") as h:\r\n",
                "#    pickle.dump(sweeping_run_b_1nano, h)"
            ],
            "outputs": [],
            "metadata": {}
        },
        {
            "cell_type": "code",
            "execution_count": 18,
            "source": [
                "#Importing Pickle\r\n",
                "\r\n",
                "#with open(r\"{dict}\\cycleA_31steps_5ms_1nano_6GHz.p\".format(dict = PulseScheme_A_1nano['Measurement file Path']), \"rb\") as j:\r\n",
                "#    sweeping_runa_1nano = pickle.load(j)\r\n",
                "\r\n",
                "with open(r\"{dict}\\cycleB_31steps_5ms_1nano_6GHz.p\".format(dict = PulseScheme_A_1nano['Measurement file Path']), \"rb\") as f:\r\n",
                "    sweeping_runb_1nano = pickle.load(f)"
            ],
            "outputs": [],
            "metadata": {}
        },
        {
            "cell_type": "code",
            "execution_count": 29,
            "source": [
                "sweeping_runb_1nano"
            ],
            "outputs": [
                {
                    "output_type": "execute_result",
                    "data": {
                        "text/plain": [
                            "{'Pulse File Location, at step 0': 'D:\\\\Alejandro\\\\Pulses\\\\diode measurements\\\\Prepared Pulse Schemes CSV\\\\1nano\\\\SegmentB_30000000_0.csv',\n",
                            " 'Pulse File Location, at step 1': 'D:\\\\Alejandro\\\\Pulses\\\\diode measurements\\\\Prepared Pulse Schemes CSV\\\\1nano\\\\SegmentB_30000000_1.csv',\n",
                            " 'Pulse File Location, at step 2': 'D:\\\\Alejandro\\\\Pulses\\\\diode measurements\\\\Prepared Pulse Schemes CSV\\\\1nano\\\\SegmentB_30000000_2.csv',\n",
                            " 'Pulse File Location, at step 3': 'D:\\\\Alejandro\\\\Pulses\\\\diode measurements\\\\Prepared Pulse Schemes CSV\\\\1nano\\\\SegmentB_30000000_3.csv',\n",
                            " 'Pulse File Location, at step 4': 'D:\\\\Alejandro\\\\Pulses\\\\diode measurements\\\\Prepared Pulse Schemes CSV\\\\1nano\\\\SegmentB_30000000_4.csv',\n",
                            " 'Pulse File Location, at step 5': 'D:\\\\Alejandro\\\\Pulses\\\\diode measurements\\\\Prepared Pulse Schemes CSV\\\\1nano\\\\SegmentB_30000000_5.csv',\n",
                            " 'Pulse File Location, at step 6': 'D:\\\\Alejandro\\\\Pulses\\\\diode measurements\\\\Prepared Pulse Schemes CSV\\\\1nano\\\\SegmentB_30000000_6.csv',\n",
                            " 'Pulse File Location, at step 7': 'D:\\\\Alejandro\\\\Pulses\\\\diode measurements\\\\Prepared Pulse Schemes CSV\\\\1nano\\\\SegmentB_30000000_7.csv',\n",
                            " 'Pulse File Location, at step 8': 'D:\\\\Alejandro\\\\Pulses\\\\diode measurements\\\\Prepared Pulse Schemes CSV\\\\1nano\\\\SegmentB_30000000_8.csv',\n",
                            " 'Pulse File Location, at step 9': 'D:\\\\Alejandro\\\\Pulses\\\\diode measurements\\\\Prepared Pulse Schemes CSV\\\\1nano\\\\SegmentB_30000000_9.csv',\n",
                            " 'Pulse File Location, at step 10': 'D:\\\\Alejandro\\\\Pulses\\\\diode measurements\\\\Prepared Pulse Schemes CSV\\\\1nano\\\\SegmentB_30000000_10.csv',\n",
                            " 'Pulse File Location, at step 11': 'D:\\\\Alejandro\\\\Pulses\\\\diode measurements\\\\Prepared Pulse Schemes CSV\\\\1nano\\\\SegmentB_30000000_11.csv',\n",
                            " 'Pulse File Location, at step 12': 'D:\\\\Alejandro\\\\Pulses\\\\diode measurements\\\\Prepared Pulse Schemes CSV\\\\1nano\\\\SegmentB_30000000_12.csv',\n",
                            " 'Pulse File Location, at step 13': 'D:\\\\Alejandro\\\\Pulses\\\\diode measurements\\\\Prepared Pulse Schemes CSV\\\\1nano\\\\SegmentB_30000000_13.csv',\n",
                            " 'Pulse File Location, at step 14': 'D:\\\\Alejandro\\\\Pulses\\\\diode measurements\\\\Prepared Pulse Schemes CSV\\\\1nano\\\\SegmentB_30000000_14.csv',\n",
                            " 'Pulse File Location, at step 15': 'D:\\\\Alejandro\\\\Pulses\\\\diode measurements\\\\Prepared Pulse Schemes CSV\\\\1nano\\\\SegmentB_30000000_15.csv',\n",
                            " 'Pulse File Location, at step 16': 'D:\\\\Alejandro\\\\Pulses\\\\diode measurements\\\\Prepared Pulse Schemes CSV\\\\1nano\\\\SegmentB_30000000_16.csv',\n",
                            " 'Pulse File Location, at step 17': 'D:\\\\Alejandro\\\\Pulses\\\\diode measurements\\\\Prepared Pulse Schemes CSV\\\\1nano\\\\SegmentB_30000000_17.csv',\n",
                            " 'Pulse File Location, at step 18': 'D:\\\\Alejandro\\\\Pulses\\\\diode measurements\\\\Prepared Pulse Schemes CSV\\\\1nano\\\\SegmentB_30000000_18.csv',\n",
                            " 'Pulse File Location, at step 19': 'D:\\\\Alejandro\\\\Pulses\\\\diode measurements\\\\Prepared Pulse Schemes CSV\\\\1nano\\\\SegmentB_30000000_19.csv',\n",
                            " 'Pulse File Location, at step 20': 'D:\\\\Alejandro\\\\Pulses\\\\diode measurements\\\\Prepared Pulse Schemes CSV\\\\1nano\\\\SegmentB_30000000_20.csv',\n",
                            " 'Pulse File Location, at step 21': 'D:\\\\Alejandro\\\\Pulses\\\\diode measurements\\\\Prepared Pulse Schemes CSV\\\\1nano\\\\SegmentB_30000000_21.csv',\n",
                            " 'Pulse File Location, at step 22': 'D:\\\\Alejandro\\\\Pulses\\\\diode measurements\\\\Prepared Pulse Schemes CSV\\\\1nano\\\\SegmentB_30000000_22.csv',\n",
                            " 'Pulse File Location, at step 23': 'D:\\\\Alejandro\\\\Pulses\\\\diode measurements\\\\Prepared Pulse Schemes CSV\\\\1nano\\\\SegmentB_30000000_23.csv',\n",
                            " 'Pulse File Location, at step 24': 'D:\\\\Alejandro\\\\Pulses\\\\diode measurements\\\\Prepared Pulse Schemes CSV\\\\1nano\\\\SegmentB_30000000_24.csv',\n",
                            " 'Pulse File Location, at step 25': 'D:\\\\Alejandro\\\\Pulses\\\\diode measurements\\\\Prepared Pulse Schemes CSV\\\\1nano\\\\SegmentB_30000000_25.csv',\n",
                            " 'Pulse File Location, at step 26': 'D:\\\\Alejandro\\\\Pulses\\\\diode measurements\\\\Prepared Pulse Schemes CSV\\\\1nano\\\\SegmentB_30000000_26.csv',\n",
                            " 'Pulse File Location, at step 27': 'D:\\\\Alejandro\\\\Pulses\\\\diode measurements\\\\Prepared Pulse Schemes CSV\\\\1nano\\\\SegmentB_30000000_27.csv',\n",
                            " 'Pulse File Location, at step 28': 'D:\\\\Alejandro\\\\Pulses\\\\diode measurements\\\\Prepared Pulse Schemes CSV\\\\1nano\\\\SegmentB_30000000_28.csv',\n",
                            " 'Pulse File Location, at step 29': 'D:\\\\Alejandro\\\\Pulses\\\\diode measurements\\\\Prepared Pulse Schemes CSV\\\\1nano\\\\SegmentB_30000000_29.csv',\n",
                            " 'Pulse File Location, at step 30': 'D:\\\\Alejandro\\\\Pulses\\\\diode measurements\\\\Prepared Pulse Schemes CSV\\\\1nano\\\\SegmentB_30000000_30.csv'}"
                        ]
                    },
                    "metadata": {},
                    "execution_count": 29
                }
            ],
            "metadata": {}
        },
        {
            "cell_type": "code",
            "execution_count": null,
            "source": [
                "M8190A.write('SEQ:DEL:ALL')"
            ],
            "outputs": [
                {
                    "output_type": "display_data",
                    "data": {
                        "text/plain": [
                            "12"
                        ]
                    },
                    "metadata": {}
                }
            ],
            "metadata": {}
        },
        {
            "cell_type": "code",
            "execution_count": 30,
            "source": [
                "Lock_In_Settings = {\r\n",
                "'Time Constant' : '30ms',\r\n",
                "'Sensitivity' : '500 microVolts',\r\n",
                "'Reserve' : 'Normal',\r\n",
                "'db' : 24,\r\n",
                "'Modulation': '100Hz'\r\n",
                "}"
            ],
            "outputs": [],
            "metadata": {}
        },
        {
            "cell_type": "code",
            "execution_count": 36,
            "source": [
                "playing_time = 10 #in seconds\r\n",
                "\r\n",
                "Diode_Signal, averaged_data = Measurement_Autocorrelation_voltage(M8190A,DAQ_Settings1,1000, playing_time ,sweeping_run_a_1nano,sweeping_runb_1nano,PulseScheme_A_1nano['Measurement file Path'],Lock_In_Settings)"
            ],
            "outputs": [
                {
                    "output_type": "stream",
                    "name": "stdout",
                    "text": [
                        "Sequence loaded with the following segment data \"1,1,0,1,0,29999999,2,1,0,1,0,29999999\" and the advancement method is COND\n",
                        "Triggering Pulse Stoped\n",
                        "Data acquired for Step 0\n",
                        "Sequence loaded with the following segment data \"1,1,0,1,0,29999999,2,1,0,1,0,29999999\" and the advancement method is COND\n",
                        "Triggering Pulse Stoped\n",
                        "Data acquired for Step 1\n",
                        "Sequence loaded with the following segment data \"1,1,0,1,0,29999999,2,1,0,1,0,29999999\" and the advancement method is COND\n",
                        "Triggering Pulse Stoped\n",
                        "Data acquired for Step 2\n",
                        "Sequence loaded with the following segment data \"1,1,0,1,0,29999999,2,1,0,1,0,29999999\" and the advancement method is COND\n",
                        "Triggering Pulse Stoped\n",
                        "Data acquired for Step 3\n",
                        "Sequence loaded with the following segment data \"1,1,0,1,0,29999999,2,1,0,1,0,29999999\" and the advancement method is COND\n",
                        "Triggering Pulse Stoped\n",
                        "Data acquired for Step 4\n",
                        "Sequence loaded with the following segment data \"1,1,0,1,0,29999999,2,1,0,1,0,29999999\" and the advancement method is COND\n",
                        "Triggering Pulse Stoped\n",
                        "Data acquired for Step 5\n",
                        "Sequence loaded with the following segment data \"1,1,0,1,0,29999999,2,1,0,1,0,29999999\" and the advancement method is COND\n",
                        "Triggering Pulse Stoped\n",
                        "Data acquired for Step 6\n",
                        "Sequence loaded with the following segment data \"1,1,0,1,0,29999999,2,1,0,1,0,29999999\" and the advancement method is COND\n",
                        "Triggering Pulse Stoped\n",
                        "Data acquired for Step 7\n",
                        "Sequence loaded with the following segment data \"1,1,0,1,0,29999999,2,1,0,1,0,29999999\" and the advancement method is COND\n",
                        "Triggering Pulse Stoped\n",
                        "Data acquired for Step 8\n",
                        "Sequence loaded with the following segment data \"1,1,0,1,0,29999999,2,1,0,1,0,29999999\" and the advancement method is COND\n",
                        "Triggering Pulse Stoped\n",
                        "Data acquired for Step 9\n",
                        "Sequence loaded with the following segment data \"1,1,0,1,0,29999999,2,1,0,1,0,29999999\" and the advancement method is COND\n",
                        "Triggering Pulse Stoped\n",
                        "Data acquired for Step 10\n",
                        "Sequence loaded with the following segment data \"1,1,0,1,0,29999999,2,1,0,1,0,29999999\" and the advancement method is COND\n",
                        "Triggering Pulse Stoped\n",
                        "Data acquired for Step 11\n",
                        "Sequence loaded with the following segment data \"1,1,0,1,0,29999999,2,1,0,1,0,29999999\" and the advancement method is COND\n",
                        "Triggering Pulse Stoped\n",
                        "Data acquired for Step 12\n",
                        "Sequence loaded with the following segment data \"1,1,0,1,0,29999999,2,1,0,1,0,29999999\" and the advancement method is COND\n",
                        "Triggering Pulse Stoped\n",
                        "Data acquired for Step 13\n",
                        "Sequence loaded with the following segment data \"1,1,0,1,0,29999999,2,1,0,1,0,29999999\" and the advancement method is COND\n",
                        "Triggering Pulse Stoped\n",
                        "Data acquired for Step 14\n",
                        "Sequence loaded with the following segment data \"1,1,0,1,0,29999999,2,1,0,1,0,29999999\" and the advancement method is COND\n",
                        "Triggering Pulse Stoped\n",
                        "Data acquired for Step 15\n",
                        "Sequence loaded with the following segment data \"1,1,0,1,0,29999999,2,1,0,1,0,29999999\" and the advancement method is COND\n",
                        "Triggering Pulse Stoped\n",
                        "Data acquired for Step 16\n",
                        "Sequence loaded with the following segment data \"1,1,0,1,0,29999999,2,1,0,1,0,29999999\" and the advancement method is COND\n",
                        "Triggering Pulse Stoped\n",
                        "Data acquired for Step 17\n",
                        "Sequence loaded with the following segment data \"1,1,0,1,0,29999999,2,1,0,1,0,29999999\" and the advancement method is COND\n",
                        "Triggering Pulse Stoped\n",
                        "Data acquired for Step 18\n",
                        "Sequence loaded with the following segment data \"1,1,0,1,0,29999999,2,1,0,1,0,29999999\" and the advancement method is COND\n",
                        "Triggering Pulse Stoped\n",
                        "Data acquired for Step 19\n",
                        "Sequence loaded with the following segment data \"1,1,0,1,0,29999999,2,1,0,1,0,29999999\" and the advancement method is COND\n",
                        "Triggering Pulse Stoped\n",
                        "Data acquired for Step 20\n",
                        "Sequence loaded with the following segment data \"1,1,0,1,0,29999999,2,1,0,1,0,29999999\" and the advancement method is COND\n",
                        "Triggering Pulse Stoped\n",
                        "Data acquired for Step 21\n",
                        "Sequence loaded with the following segment data \"1,1,0,1,0,29999999,2,1,0,1,0,29999999\" and the advancement method is COND\n",
                        "Triggering Pulse Stoped\n",
                        "Data acquired for Step 22\n",
                        "Sequence loaded with the following segment data \"1,1,0,1,0,29999999,2,1,0,1,0,29999999\" and the advancement method is COND\n",
                        "Triggering Pulse Stoped\n",
                        "Data acquired for Step 23\n",
                        "Sequence loaded with the following segment data \"1,1,0,1,0,29999999,2,1,0,1,0,29999999\" and the advancement method is COND\n",
                        "Triggering Pulse Stoped\n",
                        "Data acquired for Step 24\n",
                        "Sequence loaded with the following segment data \"1,1,0,1,0,29999999,2,1,0,1,0,29999999\" and the advancement method is COND\n",
                        "Triggering Pulse Stoped\n",
                        "Data acquired for Step 25\n",
                        "Sequence loaded with the following segment data \"1,1,0,1,0,29999999,2,1,0,1,0,29999999\" and the advancement method is COND\n",
                        "Triggering Pulse Stoped\n",
                        "Data acquired for Step 26\n",
                        "Sequence loaded with the following segment data \"1,1,0,1,0,29999999,2,1,0,1,0,29999999\" and the advancement method is COND\n",
                        "Triggering Pulse Stoped\n",
                        "Data acquired for Step 27\n",
                        "Sequence loaded with the following segment data \"1,1,0,1,0,29999999,2,1,0,1,0,29999999\" and the advancement method is COND\n",
                        "Triggering Pulse Stoped\n",
                        "Data acquired for Step 28\n",
                        "Sequence loaded with the following segment data \"1,1,0,1,0,29999999,2,1,0,1,0,29999999\" and the advancement method is COND\n",
                        "Triggering Pulse Stoped\n",
                        "Data acquired for Step 29\n",
                        "Sequence loaded with the following segment data \"1,1,0,1,0,29999999,2,1,0,1,0,29999999\" and the advancement method is COND\n",
                        "Triggering Pulse Stoped\n",
                        "Data acquired for Step 30\n"
                    ]
                }
            ],
            "metadata": {}
        },
        {
            "cell_type": "code",
            "execution_count": 37,
            "source": [
                "fig,ax= plt.subplots()\r\n",
                "ax.grid(True)\r\n",
                "for i in range(0,len(Diode_Signal)):\r\n",
                "    plt.plot(Diode_Signal[i][1],Diode_Signal[i][0],label= 'Step {st}'.format(st = i ))\r\n",
                "\r\n",
                "ax.set_ylabel(r'V  [V]')\r\n",
                "ax.set_xlabel('t  [s]')\r\n",
                "ax.set_title(r' Diode Signal at Different Steps,  {b} Samples, 1 nano s probe duration'.format(b = len(Diode_Signal[0][1]) ))\r\n",
                "#ax.legend(bbox_to_anchor=(1.05, 1), loc='upper left', borderaxespad=0.)\r\n",
                "#ax.legend(loc=0)\r\n",
                "plt.show()\r\n",
                "#fig.savefig(r'{loc}\\Diode Signal time cstant = {a}, sensitivity {b},{c} daqseconds, 5ms scheme, probe duration 1 nano,31 steps, no legend,6Ghz .jpeg'.format(loc = PulseScheme_A_1nano['Measurement file Path'],a = Lock_In_Settings['Time Constant'], b = Lock_In_Settings['Sensitivity'], c = playing_time),bbox_inches='tight')"
            ],
            "outputs": [
                {
                    "output_type": "display_data",
                    "data": {
                        "image/png": "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",
                        "text/plain": [
                            "<Figure size 432x288 with 1 Axes>"
                        ]
                    },
                    "metadata": {
                        "needs_background": "light"
                    }
                }
            ],
            "metadata": {}
        },
        {
            "cell_type": "code",
            "execution_count": 33,
            "source": [
                "time_delay = np.linspace(-2,2,31)"
            ],
            "outputs": [],
            "metadata": {}
        },
        {
            "cell_type": "code",
            "execution_count": 38,
            "source": [
                "#change this to V regime\r\n",
                "fig,axes = plt.subplots()\r\n",
                "\r\n",
                "axes.grid(True)\r\n",
                "\r\n",
                "plt.plot(time_delay,averaged_data,label=r'1ns Probe Width ',color='orange')\r\n",
                "#plt.plot(tm,pul,label = '{a} samples'.format(a = len(pul)))\r\n",
                "\r\n",
                "axes.set_xlabel(r'time delay [ns]')\r\n",
                "axes.set_ylabel(r'Diode Signal [V]')\r\n",
                "axes.set_title('Auto-Correlation 31 steps ')\r\n",
                "\r\n",
                "axes.legend(loc = 0)\r\n",
                "plt.show()\r\n",
                "\r\n",
                "#fig.savefig(r'{loc}\\Autocorrelation function 31 steps probes 5ms length tc = {a}, sens {b}, {c}s DAQ 6Ghz.jpeg'.format(loc = PulseScheme_A_1nano['Measurement file Path'],a = Lock_In_Settings['Time Constant'], b = Lock_In_Settings['Sensitivity'], c = playing_time ))"
            ],
            "outputs": [
                {
                    "output_type": "display_data",
                    "data": {
                        "image/png": "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",
                        "text/plain": [
                            "<Figure size 432x288 with 1 Axes>"
                        ]
                    },
                    "metadata": {
                        "needs_background": "light"
                    }
                }
            ],
            "metadata": {}
        },
        {
            "cell_type": "code",
            "execution_count": 11,
            "source": [
                "location = PulseScheme_A_100micro['Measurement file Path']"
            ],
            "outputs": [],
            "metadata": {}
        },
        {
            "cell_type": "markdown",
            "source": [
                "# Number of Samples given the AWG Sampling rate and the Reference Signal Frequency\r\n",
                "## Sr = 3Ghz , t = 10ms "
            ],
            "metadata": {}
        },
        {
            "cell_type": "code",
            "execution_count": 103,
            "source": [
                "sam = int(6e9*5e-3)\r\n",
                "\r\n",
                "#sam /480\r\n",
                "\r\n",
                "#M8190A.write('FREQ:RAST 6000000000')"
            ],
            "outputs": [],
            "metadata": {}
        },
        {
            "cell_type": "code",
            "execution_count": 13,
            "source": [
                "sam"
            ],
            "outputs": [
                {
                    "output_type": "execute_result",
                    "data": {
                        "text/plain": [
                            "30000000"
                        ]
                    },
                    "metadata": {},
                    "execution_count": 13
                }
            ],
            "metadata": {}
        },
        {
            "cell_type": "code",
            "execution_count": 10,
            "source": [
                "pul2 = Sweep(PulseScheme_B['Pulse Scheme'],10,0,10,sam)"
            ],
            "outputs": [],
            "metadata": {}
        },
        {
            "cell_type": "code",
            "execution_count": 17,
            "source": [
                "%matplotlib inline"
            ],
            "outputs": [],
            "metadata": {}
        },
        {
            "cell_type": "code",
            "execution_count": 38,
            "source": [
                "%matplotlib widget "
            ],
            "outputs": [],
            "metadata": {}
        },
        {
            "cell_type": "code",
            "execution_count": 50,
            "source": [
                "step = 30\r\n",
                "pul1 = Sweep_teil(PulseScheme_A_1mili,30,step,5,sam)\r\n",
                "\r\n",
                "\r\n",
                "#Plot\r\n",
                "fig,ax= plt.subplots()\r\n",
                "ax.grid(True)\r\n",
                "\r\n",
                "plt.plot(pul1[1],pul1[0],label= '{b} samples'.format(b = sam),color='orange')\r\n",
                "\r\n",
                "ax.set_ylabel('V  [mV]')\r\n",
                "ax.set_xlabel(r't [ms]')\r\n",
                "ax.set_title('Cycle A at step {a}, {r} Pump-probe repetitions'.format(a = step, r = PulseScheme_A_1mili['Number of repetitions'])) #Voltage Offset = 3mV, Marker Ampl = 50mV \r\n",
                "#ax.legend(loc=0)\r\n",
                "#plt.legend(bbox_to_anchor=(2.05, 1), loc='upper left', borderaxespad=0.)\r\n",
                "plt.show()\r\n",
                "\r\n",
                "fig.savefig(r'{loc}\\Cycle A, Probe width 10nano 100Hz step 30 .jpeg'.format( loc = PulseScheme_A_1mili['Measurement file Path'] ),bbox_inches='tight')"
            ],
            "outputs": [
                {
                    "output_type": "display_data",
                    "data": {
                        "image/png": "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",
                        "text/plain": [
                            "<Figure size 432x288 with 1 Axes>"
                        ]
                    },
                    "metadata": {
                        "needs_background": "light"
                    }
                }
            ],
            "metadata": {}
        },
        {
            "cell_type": "code",
            "execution_count": 13,
            "source": [
                "step = 30\r\n",
                "\r\n",
                "#pul1 = Sweep_teil(PulseScheme_AutocorrelationA,30,step,5000,sam)\r\n",
                "\r\n",
                "\r\n",
                "fig,ax= plt.subplots(2)\r\n",
                "\r\n",
                "\r\n",
                "ax[0].grid(True)\r\n",
                "ax[1].grid(True)\r\n",
                "fig.suptitle('Cycles loaded into the AWG')\r\n",
                "\r\n",
                "\r\n",
                "ax[0].plot(pul1[1],pul1[0],label= 'Cycle A',color='blue')\r\n",
                "ax[1].plot(pul2[1],pul2[0],label= 'Cycle B',color='red')\r\n",
                "ax[0].set_ylabel('V  [mV]')\r\n",
                "ax[0].set_xlabel(r't  [$\\mu$s]')\r\n",
                "ax[1].set_ylabel('V  [mV]')\r\n",
                "ax[1].set_xlabel(r't  [ms]')\r\n",
                "\r\n",
                "#ax.set_title('Pulses Loaded into the AWG')\r\n",
                "\r\n",
                "fig.legend(bbox_to_anchor=(1.05, 1), loc='upper left', borderaxespad=0.)\r\n",
                "plt.show()\r\n",
                "\r\n",
                "fig.savefig('Pulse_scheme_20ms centered,2')"
            ],
            "outputs": [
                {
                    "output_type": "display_data",
                    "data": {
                        "image/png": "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",
                        "image/svg+xml": "<?xml version=\"1.0\" encoding=\"utf-8\" standalone=\"no\"?>\r\n<!DOCTYPE svg PUBLIC \"-//W3C//DTD SVG 1.1//EN\"\r\n  \"http://www.w3.org/Graphics/SVG/1.1/DTD/svg11.dtd\">\r\n<!-- Created with matplotlib (https://matplotlib.org/) -->\r\n<svg height=\"296.75625pt\" version=\"1.1\" viewBox=\"0 0 538.69375 296.75625\" width=\"538.69375pt\" xmlns=\"http://www.w3.org/2000/svg\" xmlns:xlink=\"http://www.w3.org/1999/xlink\">\r\n <metadata>\r\n  <rdf:RDF xmlns:cc=\"http://creativecommons.org/ns#\" xmlns:dc=\"http://purl.org/dc/elements/1.1/\" xmlns:rdf=\"http://www.w3.org/1999/02/22-rdf-syntax-ns#\">\r\n   <cc:Work>\r\n    <dc:type rdf:resource=\"http://purl.org/dc/dcmitype/StillImage\"/>\r\n    <dc:date>2021-08-31T18:18:51.442763</dc:date>\r\n    <dc:format>image/svg+xml</dc:format>\r\n    <dc:creator>\r\n     <cc:Agent>\r\n      <dc:title>Matplotlib v3.3.2, https://matplotlib.org/</dc:title>\r\n     </cc:Agent>\r\n    </dc:creator>\r\n   </cc:Work>\r\n  </rdf:RDF>\r\n </metadata>\r\n <defs>\r\n  <style type=\"text/css\">*{stroke-linecap:butt;stroke-linejoin:round;}</style>\r\n </defs>\r\n <g id=\"figure_1\">\r\n  <g id=\"patch_1\">\r\n   <path d=\"M 0 296.75625 \r\nL 538.69375 296.75625 \r\nL 538.69375 0 \r\nL 0 0 \r\nz\r\n\" style=\"fill:none;\"/>\r\n  </g>\r\n  <g id=\"axes_1\">\r\n   <g id=\"patch_2\">\r\n    <path d=\"M 58.523438 140.596364 \r\nL 393.323438 140.596364 \r\nL 393.323438 41.76 \r\nL 58.523438 41.76 \r\nz\r\n\" style=\"fill:#ffffff;\"/>\r\n   </g>\r\n   <g id=\"matplotlib.axis_1\">\r\n    <g id=\"xtick_1\">\r\n     <g id=\"line2d_1\">\r\n      <path clip-path=\"url(#pb706ac901c)\" d=\"M 73.741619 140.596364 \r\nL 73.741619 41.76 \r\n\" style=\"fill:none;stroke:#b0b0b0;stroke-linecap:square;stroke-width:0.8;\"/>\r\n     </g>\r\n     <g id=\"line2d_2\">\r\n      <defs>\r\n       <path d=\"M 0 0 \r\nL 0 3.5 \r\n\" id=\"md270d76bed\" style=\"stroke:#000000;stroke-width:0.8;\"/>\r\n      </defs>\r\n      <g>\r\n       <use style=\"stroke:#000000;stroke-width:0.8;\" x=\"73.741619\" xlink:href=\"#md270d76bed\" y=\"140.596364\"/>\r\n      </g>\r\n     </g>\r\n     <g id=\"text_1\">\r\n      <!-- 0 -->\r\n      <g transform=\"translate(70.560369 155.194801)scale(0.1 -0.1)\">\r\n       <defs>\r\n        <path d=\"M 31.78125 66.40625 \r\nQ 24.171875 66.40625 20.328125 58.90625 \r\nQ 16.5 51.421875 16.5 36.375 \r\nQ 16.5 21.390625 20.328125 13.890625 \r\nQ 24.171875 6.390625 31.78125 6.390625 \r\nQ 39.453125 6.390625 43.28125 13.890625 \r\nQ 47.125 21.390625 47.125 36.375 \r\nQ 47.125 51.421875 43.28125 58.90625 \r\nQ 39.453125 66.40625 31.78125 66.40625 \r\nz\r\nM 31.78125 74.21875 \r\nQ 44.046875 74.21875 50.515625 64.515625 \r\nQ 56.984375 54.828125 56.984375 36.375 \r\nQ 56.984375 17.96875 50.515625 8.265625 \r\nQ 44.046875 -1.421875 31.78125 -1.421875 \r\nQ 19.53125 -1.421875 13.0625 8.265625 \r\nQ 6.59375 17.96875 6.59375 36.375 \r\nQ 6.59375 54.828125 13.0625 64.515625 \r\nQ 19.53125 74.21875 31.78125 74.21875 \r\nz\r\n\" id=\"DejaVuSans-48\"/>\r\n       </defs>\r\n       <use xlink:href=\"#DejaVuSans-48\"/>\r\n      </g>\r\n     </g>\r\n    </g>\r\n    <g id=\"xtick_2\">\r\n     <g id=\"line2d_3\">\r\n      <path clip-path=\"url(#pb706ac901c)\" d=\"M 134.614347 140.596364 \r\nL 134.614347 41.76 \r\n\" style=\"fill:none;stroke:#b0b0b0;stroke-linecap:square;stroke-width:0.8;\"/>\r\n     </g>\r\n     <g id=\"line2d_4\">\r\n      <g>\r\n       <use style=\"stroke:#000000;stroke-width:0.8;\" x=\"134.614347\" xlink:href=\"#md270d76bed\" y=\"140.596364\"/>\r\n      </g>\r\n     </g>\r\n     <g id=\"text_2\">\r\n      <!-- 2 -->\r\n      <g transform=\"translate(131.433097 155.194801)scale(0.1 -0.1)\">\r\n       <defs>\r\n        <path d=\"M 19.1875 8.296875 \r\nL 53.609375 8.296875 \r\nL 53.609375 0 \r\nL 7.328125 0 \r\nL 7.328125 8.296875 \r\nQ 12.9375 14.109375 22.625 23.890625 \r\nQ 32.328125 33.6875 34.8125 36.53125 \r\nQ 39.546875 41.84375 41.421875 45.53125 \r\nQ 43.3125 49.21875 43.3125 52.78125 \r\nQ 43.3125 58.59375 39.234375 62.25 \r\nQ 35.15625 65.921875 28.609375 65.921875 \r\nQ 23.96875 65.921875 18.8125 64.3125 \r\nQ 13.671875 62.703125 7.8125 59.421875 \r\nL 7.8125 69.390625 \r\nQ 13.765625 71.78125 18.9375 73 \r\nQ 24.125 74.21875 28.421875 74.21875 \r\nQ 39.75 74.21875 46.484375 68.546875 \r\nQ 53.21875 62.890625 53.21875 53.421875 \r\nQ 53.21875 48.921875 51.53125 44.890625 \r\nQ 49.859375 40.875 45.40625 35.40625 \r\nQ 44.1875 33.984375 37.640625 27.21875 \r\nQ 31.109375 20.453125 19.1875 8.296875 \r\nz\r\n\" id=\"DejaVuSans-50\"/>\r\n       </defs>\r\n       <use xlink:href=\"#DejaVuSans-50\"/>\r\n      </g>\r\n     </g>\r\n    </g>\r\n    <g id=\"xtick_3\">\r\n     <g id=\"line2d_5\">\r\n      <path clip-path=\"url(#pb706ac901c)\" d=\"M 195.487074 140.596364 \r\nL 195.487074 41.76 \r\n\" style=\"fill:none;stroke:#b0b0b0;stroke-linecap:square;stroke-width:0.8;\"/>\r\n     </g>\r\n     <g id=\"line2d_6\">\r\n      <g>\r\n       <use style=\"stroke:#000000;stroke-width:0.8;\" x=\"195.487074\" xlink:href=\"#md270d76bed\" y=\"140.596364\"/>\r\n      </g>\r\n     </g>\r\n     <g id=\"text_3\">\r\n      <!-- 4 -->\r\n      <g transform=\"translate(192.305824 155.194801)scale(0.1 -0.1)\">\r\n       <defs>\r\n        <path d=\"M 37.796875 64.3125 \r\nL 12.890625 25.390625 \r\nL 37.796875 25.390625 \r\nz\r\nM 35.203125 72.90625 \r\nL 47.609375 72.90625 \r\nL 47.609375 25.390625 \r\nL 58.015625 25.390625 \r\nL 58.015625 17.1875 \r\nL 47.609375 17.1875 \r\nL 47.609375 0 \r\nL 37.796875 0 \r\nL 37.796875 17.1875 \r\nL 4.890625 17.1875 \r\nL 4.890625 26.703125 \r\nz\r\n\" id=\"DejaVuSans-52\"/>\r\n       </defs>\r\n       <use xlink:href=\"#DejaVuSans-52\"/>\r\n      </g>\r\n     </g>\r\n    </g>\r\n    <g id=\"xtick_4\">\r\n     <g id=\"line2d_7\">\r\n      <path clip-path=\"url(#pb706ac901c)\" d=\"M 256.359801 140.596364 \r\nL 256.359801 41.76 \r\n\" style=\"fill:none;stroke:#b0b0b0;stroke-linecap:square;stroke-width:0.8;\"/>\r\n     </g>\r\n     <g id=\"line2d_8\">\r\n      <g>\r\n       <use style=\"stroke:#000000;stroke-width:0.8;\" x=\"256.359801\" xlink:href=\"#md270d76bed\" y=\"140.596364\"/>\r\n      </g>\r\n     </g>\r\n     <g id=\"text_4\">\r\n      <!-- 6 -->\r\n      <g transform=\"translate(253.178551 155.194801)scale(0.1 -0.1)\">\r\n       <defs>\r\n        <path d=\"M 33.015625 40.375 \r\nQ 26.375 40.375 22.484375 35.828125 \r\nQ 18.609375 31.296875 18.609375 23.390625 \r\nQ 18.609375 15.53125 22.484375 10.953125 \r\nQ 26.375 6.390625 33.015625 6.390625 \r\nQ 39.65625 6.390625 43.53125 10.953125 \r\nQ 47.40625 15.53125 47.40625 23.390625 \r\nQ 47.40625 31.296875 43.53125 35.828125 \r\nQ 39.65625 40.375 33.015625 40.375 \r\nz\r\nM 52.59375 71.296875 \r\nL 52.59375 62.3125 \r\nQ 48.875 64.0625 45.09375 64.984375 \r\nQ 41.3125 65.921875 37.59375 65.921875 \r\nQ 27.828125 65.921875 22.671875 59.328125 \r\nQ 17.53125 52.734375 16.796875 39.40625 \r\nQ 19.671875 43.65625 24.015625 45.921875 \r\nQ 28.375 48.1875 33.59375 48.1875 \r\nQ 44.578125 48.1875 50.953125 41.515625 \r\nQ 57.328125 34.859375 57.328125 23.390625 \r\nQ 57.328125 12.15625 50.6875 5.359375 \r\nQ 44.046875 -1.421875 33.015625 -1.421875 \r\nQ 20.359375 -1.421875 13.671875 8.265625 \r\nQ 6.984375 17.96875 6.984375 36.375 \r\nQ 6.984375 53.65625 15.1875 63.9375 \r\nQ 23.390625 74.21875 37.203125 74.21875 \r\nQ 40.921875 74.21875 44.703125 73.484375 \r\nQ 48.484375 72.75 52.59375 71.296875 \r\nz\r\n\" id=\"DejaVuSans-54\"/>\r\n       </defs>\r\n       <use xlink:href=\"#DejaVuSans-54\"/>\r\n      </g>\r\n     </g>\r\n    </g>\r\n    <g id=\"xtick_5\">\r\n     <g id=\"line2d_9\">\r\n      <path clip-path=\"url(#pb706ac901c)\" d=\"M 317.232528 140.596364 \r\nL 317.232528 41.76 \r\n\" style=\"fill:none;stroke:#b0b0b0;stroke-linecap:square;stroke-width:0.8;\"/>\r\n     </g>\r\n     <g id=\"line2d_10\">\r\n      <g>\r\n       <use style=\"stroke:#000000;stroke-width:0.8;\" x=\"317.232528\" xlink:href=\"#md270d76bed\" y=\"140.596364\"/>\r\n      </g>\r\n     </g>\r\n     <g id=\"text_5\">\r\n      <!-- 8 -->\r\n      <g transform=\"translate(314.051278 155.194801)scale(0.1 -0.1)\">\r\n       <defs>\r\n        <path d=\"M 31.78125 34.625 \r\nQ 24.75 34.625 20.71875 30.859375 \r\nQ 16.703125 27.09375 16.703125 20.515625 \r\nQ 16.703125 13.921875 20.71875 10.15625 \r\nQ 24.75 6.390625 31.78125 6.390625 \r\nQ 38.8125 6.390625 42.859375 10.171875 \r\nQ 46.921875 13.96875 46.921875 20.515625 \r\nQ 46.921875 27.09375 42.890625 30.859375 \r\nQ 38.875 34.625 31.78125 34.625 \r\nz\r\nM 21.921875 38.8125 \r\nQ 15.578125 40.375 12.03125 44.71875 \r\nQ 8.5 49.078125 8.5 55.328125 \r\nQ 8.5 64.0625 14.71875 69.140625 \r\nQ 20.953125 74.21875 31.78125 74.21875 \r\nQ 42.671875 74.21875 48.875 69.140625 \r\nQ 55.078125 64.0625 55.078125 55.328125 \r\nQ 55.078125 49.078125 51.53125 44.71875 \r\nQ 48 40.375 41.703125 38.8125 \r\nQ 48.828125 37.15625 52.796875 32.3125 \r\nQ 56.78125 27.484375 56.78125 20.515625 \r\nQ 56.78125 9.90625 50.3125 4.234375 \r\nQ 43.84375 -1.421875 31.78125 -1.421875 \r\nQ 19.734375 -1.421875 13.25 4.234375 \r\nQ 6.78125 9.90625 6.78125 20.515625 \r\nQ 6.78125 27.484375 10.78125 32.3125 \r\nQ 14.796875 37.15625 21.921875 38.8125 \r\nz\r\nM 18.3125 54.390625 \r\nQ 18.3125 48.734375 21.84375 45.5625 \r\nQ 25.390625 42.390625 31.78125 42.390625 \r\nQ 38.140625 42.390625 41.71875 45.5625 \r\nQ 45.3125 48.734375 45.3125 54.390625 \r\nQ 45.3125 60.0625 41.71875 63.234375 \r\nQ 38.140625 66.40625 31.78125 66.40625 \r\nQ 25.390625 66.40625 21.84375 63.234375 \r\nQ 18.3125 60.0625 18.3125 54.390625 \r\nz\r\n\" id=\"DejaVuSans-56\"/>\r\n       </defs>\r\n       <use xlink:href=\"#DejaVuSans-56\"/>\r\n      </g>\r\n     </g>\r\n    </g>\r\n    <g id=\"xtick_6\">\r\n     <g id=\"line2d_11\">\r\n      <path clip-path=\"url(#pb706ac901c)\" d=\"M 378.105256 140.596364 \r\nL 378.105256 41.76 \r\n\" style=\"fill:none;stroke:#b0b0b0;stroke-linecap:square;stroke-width:0.8;\"/>\r\n     </g>\r\n     <g id=\"line2d_12\">\r\n      <g>\r\n       <use style=\"stroke:#000000;stroke-width:0.8;\" x=\"378.105256\" xlink:href=\"#md270d76bed\" y=\"140.596364\"/>\r\n      </g>\r\n     </g>\r\n     <g id=\"text_6\">\r\n      <!-- 10 -->\r\n      <g transform=\"translate(371.742756 155.194801)scale(0.1 -0.1)\">\r\n       <defs>\r\n        <path d=\"M 12.40625 8.296875 \r\nL 28.515625 8.296875 \r\nL 28.515625 63.921875 \r\nL 10.984375 60.40625 \r\nL 10.984375 69.390625 \r\nL 28.421875 72.90625 \r\nL 38.28125 72.90625 \r\nL 38.28125 8.296875 \r\nL 54.390625 8.296875 \r\nL 54.390625 0 \r\nL 12.40625 0 \r\nz\r\n\" id=\"DejaVuSans-49\"/>\r\n       </defs>\r\n       <use xlink:href=\"#DejaVuSans-49\"/>\r\n       <use x=\"63.623047\" xlink:href=\"#DejaVuSans-48\"/>\r\n      </g>\r\n     </g>\r\n    </g>\r\n    <g id=\"text_7\">\r\n     <!-- t  [$\\mu$s] -->\r\n     <g transform=\"translate(211.073438 168.874489)scale(0.1 -0.1)\">\r\n      <defs>\r\n       <path d=\"M 18.3125 70.21875 \r\nL 18.3125 54.6875 \r\nL 36.8125 54.6875 \r\nL 36.8125 47.703125 \r\nL 18.3125 47.703125 \r\nL 18.3125 18.015625 \r\nQ 18.3125 11.328125 20.140625 9.421875 \r\nQ 21.96875 7.515625 27.59375 7.515625 \r\nL 36.8125 7.515625 \r\nL 36.8125 0 \r\nL 27.59375 0 \r\nQ 17.1875 0 13.234375 3.875 \r\nQ 9.28125 7.765625 9.28125 18.015625 \r\nL 9.28125 47.703125 \r\nL 2.6875 47.703125 \r\nL 2.6875 54.6875 \r\nL 9.28125 54.6875 \r\nL 9.28125 70.21875 \r\nz\r\n\" id=\"DejaVuSans-116\"/>\r\n       <path id=\"DejaVuSans-32\"/>\r\n       <path d=\"M 8.59375 75.984375 \r\nL 29.296875 75.984375 \r\nL 29.296875 69 \r\nL 17.578125 69 \r\nL 17.578125 -6.203125 \r\nL 29.296875 -6.203125 \r\nL 29.296875 -13.1875 \r\nL 8.59375 -13.1875 \r\nz\r\n\" id=\"DejaVuSans-91\"/>\r\n       <path d=\"M -1.3125 -20.796875 \r\nL 13.375 54.6875 \r\nL 22.40625 54.6875 \r\nL 15.765625 20.65625 \r\nQ 15.578125 19.625 15.421875 18.359375 \r\nQ 15.28125 17.09375 15.28125 15.828125 \r\nQ 15.28125 11.28125 18.140625 8.828125 \r\nQ 21 6.390625 26.3125 6.390625 \r\nQ 33.546875 6.390625 37.984375 10.484375 \r\nQ 42.4375 14.59375 44 22.796875 \r\nL 50.203125 54.6875 \r\nL 59.1875 54.6875 \r\nL 51.03125 12.640625 \r\nQ 50.828125 11.71875 50.75 11.03125 \r\nQ 50.6875 10.359375 50.6875 9.8125 \r\nQ 50.6875 8.296875 51.296875 7.59375 \r\nQ 51.90625 6.890625 53.21875 6.890625 \r\nQ 53.71875 6.890625 54.5625 7.125 \r\nQ 55.421875 7.375 56.984375 8.015625 \r\nL 55.609375 0.78125 \r\nQ 53.46875 -0.296875 51.515625 -0.859375 \r\nQ 49.5625 -1.421875 47.703125 -1.421875 \r\nQ 44.484375 -1.421875 42.65625 0.625 \r\nQ 40.828125 2.6875 40.828125 6.296875 \r\nQ 38.09375 2.390625 34.296875 0.484375 \r\nQ 30.515625 -1.421875 25.390625 -1.421875 \r\nQ 20.84375 -1.421875 17.453125 0.671875 \r\nQ 14.0625 2.78125 12.984375 6.203125 \r\nL 7.71875 -20.796875 \r\nz\r\n\" id=\"DejaVuSans-Oblique-956\"/>\r\n       <path d=\"M 44.28125 53.078125 \r\nL 44.28125 44.578125 \r\nQ 40.484375 46.53125 36.375 47.5 \r\nQ 32.28125 48.484375 27.875 48.484375 \r\nQ 21.1875 48.484375 17.84375 46.4375 \r\nQ 14.5 44.390625 14.5 40.28125 \r\nQ 14.5 37.15625 16.890625 35.375 \r\nQ 19.28125 33.59375 26.515625 31.984375 \r\nL 29.59375 31.296875 \r\nQ 39.15625 29.25 43.1875 25.515625 \r\nQ 47.21875 21.78125 47.21875 15.09375 \r\nQ 47.21875 7.46875 41.1875 3.015625 \r\nQ 35.15625 -1.421875 24.609375 -1.421875 \r\nQ 20.21875 -1.421875 15.453125 -0.5625 \r\nQ 10.6875 0.296875 5.421875 2 \r\nL 5.421875 11.28125 \r\nQ 10.40625 8.6875 15.234375 7.390625 \r\nQ 20.0625 6.109375 24.8125 6.109375 \r\nQ 31.15625 6.109375 34.5625 8.28125 \r\nQ 37.984375 10.453125 37.984375 14.40625 \r\nQ 37.984375 18.0625 35.515625 20.015625 \r\nQ 33.0625 21.96875 24.703125 23.78125 \r\nL 21.578125 24.515625 \r\nQ 13.234375 26.265625 9.515625 29.90625 \r\nQ 5.8125 33.546875 5.8125 39.890625 \r\nQ 5.8125 47.609375 11.28125 51.796875 \r\nQ 16.75 56 26.8125 56 \r\nQ 31.78125 56 36.171875 55.265625 \r\nQ 40.578125 54.546875 44.28125 53.078125 \r\nz\r\n\" id=\"DejaVuSans-115\"/>\r\n       <path d=\"M 30.421875 75.984375 \r\nL 30.421875 -13.1875 \r\nL 9.71875 -13.1875 \r\nL 9.71875 -6.203125 \r\nL 21.390625 -6.203125 \r\nL 21.390625 69 \r\nL 9.71875 69 \r\nL 9.71875 75.984375 \r\nz\r\n\" id=\"DejaVuSans-93\"/>\r\n      </defs>\r\n      <use transform=\"translate(0 0.015625)\" xlink:href=\"#DejaVuSans-116\"/>\r\n      <use transform=\"translate(39.208984 0.015625)\" xlink:href=\"#DejaVuSans-32\"/>\r\n      <use transform=\"translate(70.996094 0.015625)\" xlink:href=\"#DejaVuSans-32\"/>\r\n      <use transform=\"translate(102.783203 0.015625)\" xlink:href=\"#DejaVuSans-91\"/>\r\n      <use transform=\"translate(141.796875 0.015625)\" xlink:href=\"#DejaVuSans-Oblique-956\"/>\r\n      <use transform=\"translate(205.419922 0.015625)\" xlink:href=\"#DejaVuSans-115\"/>\r\n      <use transform=\"translate(257.519531 0.015625)\" xlink:href=\"#DejaVuSans-93\"/>\r\n     </g>\r\n    </g>\r\n   </g>\r\n   <g id=\"matplotlib.axis_2\">\r\n    <g id=\"ytick_1\">\r\n     <g id=\"line2d_13\">\r\n      <path clip-path=\"url(#pb706ac901c)\" d=\"M 58.523438 136.103802 \r\nL 393.323438 136.103802 \r\n\" style=\"fill:none;stroke:#b0b0b0;stroke-linecap:square;stroke-width:0.8;\"/>\r\n     </g>\r\n     <g id=\"line2d_14\">\r\n      <defs>\r\n       <path d=\"M 0 0 \r\nL -3.5 0 \r\n\" id=\"m54877e8764\" style=\"stroke:#000000;stroke-width:0.8;\"/>\r\n      </defs>\r\n      <g>\r\n       <use style=\"stroke:#000000;stroke-width:0.8;\" x=\"58.523438\" xlink:href=\"#m54877e8764\" y=\"136.103802\"/>\r\n      </g>\r\n     </g>\r\n     <g id=\"text_8\">\r\n      <!-- 0 -->\r\n      <g transform=\"translate(45.160938 139.90302)scale(0.1 -0.1)\">\r\n       <use xlink:href=\"#DejaVuSans-48\"/>\r\n      </g>\r\n     </g>\r\n    </g>\r\n    <g id=\"ytick_2\">\r\n     <g id=\"line2d_15\">\r\n      <path clip-path=\"url(#pb706ac901c)\" d=\"M 58.523438 91.178182 \r\nL 393.323438 91.178182 \r\n\" style=\"fill:none;stroke:#b0b0b0;stroke-linecap:square;stroke-width:0.8;\"/>\r\n     </g>\r\n     <g id=\"line2d_16\">\r\n      <g>\r\n       <use style=\"stroke:#000000;stroke-width:0.8;\" x=\"58.523438\" xlink:href=\"#m54877e8764\" y=\"91.178182\"/>\r\n      </g>\r\n     </g>\r\n     <g id=\"text_9\">\r\n      <!-- 20 -->\r\n      <g transform=\"translate(38.798438 94.977401)scale(0.1 -0.1)\">\r\n       <use xlink:href=\"#DejaVuSans-50\"/>\r\n       <use x=\"63.623047\" xlink:href=\"#DejaVuSans-48\"/>\r\n      </g>\r\n     </g>\r\n    </g>\r\n    <g id=\"ytick_3\">\r\n     <g id=\"line2d_17\">\r\n      <path clip-path=\"url(#pb706ac901c)\" d=\"M 58.523438 46.252562 \r\nL 393.323438 46.252562 \r\n\" style=\"fill:none;stroke:#b0b0b0;stroke-linecap:square;stroke-width:0.8;\"/>\r\n     </g>\r\n     <g id=\"line2d_18\">\r\n      <g>\r\n       <use style=\"stroke:#000000;stroke-width:0.8;\" x=\"58.523438\" xlink:href=\"#m54877e8764\" y=\"46.252562\"/>\r\n      </g>\r\n     </g>\r\n     <g id=\"text_10\">\r\n      <!-- 40 -->\r\n      <g transform=\"translate(38.798438 50.051781)scale(0.1 -0.1)\">\r\n       <use xlink:href=\"#DejaVuSans-52\"/>\r\n       <use x=\"63.623047\" xlink:href=\"#DejaVuSans-48\"/>\r\n      </g>\r\n     </g>\r\n    </g>\r\n    <g id=\"text_11\">\r\n     <!-- V  [mV] -->\r\n     <g transform=\"translate(32.71875 109.968807)rotate(-90)scale(0.1 -0.1)\">\r\n      <defs>\r\n       <path d=\"M 28.609375 0 \r\nL 0.78125 72.90625 \r\nL 11.078125 72.90625 \r\nL 34.1875 11.53125 \r\nL 57.328125 72.90625 \r\nL 67.578125 72.90625 \r\nL 39.796875 0 \r\nz\r\n\" id=\"DejaVuSans-86\"/>\r\n       <path d=\"M 52 44.1875 \r\nQ 55.375 50.25 60.0625 53.125 \r\nQ 64.75 56 71.09375 56 \r\nQ 79.640625 56 84.28125 50.015625 \r\nQ 88.921875 44.046875 88.921875 33.015625 \r\nL 88.921875 0 \r\nL 79.890625 0 \r\nL 79.890625 32.71875 \r\nQ 79.890625 40.578125 77.09375 44.375 \r\nQ 74.3125 48.1875 68.609375 48.1875 \r\nQ 61.625 48.1875 57.5625 43.546875 \r\nQ 53.515625 38.921875 53.515625 30.90625 \r\nL 53.515625 0 \r\nL 44.484375 0 \r\nL 44.484375 32.71875 \r\nQ 44.484375 40.625 41.703125 44.40625 \r\nQ 38.921875 48.1875 33.109375 48.1875 \r\nQ 26.21875 48.1875 22.15625 43.53125 \r\nQ 18.109375 38.875 18.109375 30.90625 \r\nL 18.109375 0 \r\nL 9.078125 0 \r\nL 9.078125 54.6875 \r\nL 18.109375 54.6875 \r\nL 18.109375 46.1875 \r\nQ 21.1875 51.21875 25.484375 53.609375 \r\nQ 29.78125 56 35.6875 56 \r\nQ 41.65625 56 45.828125 52.96875 \r\nQ 50 49.953125 52 44.1875 \r\nz\r\n\" id=\"DejaVuSans-109\"/>\r\n      </defs>\r\n      <use xlink:href=\"#DejaVuSans-86\"/>\r\n      <use x=\"68.408203\" xlink:href=\"#DejaVuSans-32\"/>\r\n      <use x=\"100.195312\" xlink:href=\"#DejaVuSans-32\"/>\r\n      <use x=\"131.982422\" xlink:href=\"#DejaVuSans-91\"/>\r\n      <use x=\"170.996094\" xlink:href=\"#DejaVuSans-109\"/>\r\n      <use x=\"268.408203\" xlink:href=\"#DejaVuSans-86\"/>\r\n      <use x=\"336.816406\" xlink:href=\"#DejaVuSans-93\"/>\r\n     </g>\r\n    </g>\r\n   </g>\r\n   <g id=\"line2d_19\">\r\n    <path clip-path=\"url(#pb706ac901c)\" d=\"M 73.741619 136.103802 \r\nL 225.923432 136.103802 \r\nL 226.034545 46.252562 \r\nL 256.359797 46.252562 \r\nL 256.47091 136.103802 \r\nL 286.796162 136.103802 \r\nL 286.907275 79.946777 \r\nL 317.232526 79.946777 \r\nL 317.343639 136.103802 \r\nL 378.105256 136.103802 \r\nL 378.105256 136.103802 \r\n\" style=\"fill:none;stroke:#0000ff;stroke-linecap:square;stroke-width:1.5;\"/>\r\n   </g>\r\n   <g id=\"patch_3\">\r\n    <path d=\"M 58.523438 140.596364 \r\nL 58.523438 41.76 \r\n\" style=\"fill:none;stroke:#000000;stroke-linecap:square;stroke-linejoin:miter;stroke-width:0.8;\"/>\r\n   </g>\r\n   <g id=\"patch_4\">\r\n    <path d=\"M 393.323438 140.596364 \r\nL 393.323438 41.76 \r\n\" style=\"fill:none;stroke:#000000;stroke-linecap:square;stroke-linejoin:miter;stroke-width:0.8;\"/>\r\n   </g>\r\n   <g id=\"patch_5\">\r\n    <path d=\"M 58.523438 140.596364 \r\nL 393.323438 140.596364 \r\n\" style=\"fill:none;stroke:#000000;stroke-linecap:square;stroke-linejoin:miter;stroke-width:0.8;\"/>\r\n   </g>\r\n   <g id=\"patch_6\">\r\n    <path d=\"M 58.523438 41.76 \r\nL 393.323438 41.76 \r\n\" style=\"fill:none;stroke:#000000;stroke-linecap:square;stroke-linejoin:miter;stroke-width:0.8;\"/>\r\n   </g>\r\n  </g>\r\n  <g id=\"axes_2\">\r\n   <g id=\"patch_7\">\r\n    <path d=\"M 58.523438 259.2 \r\nL 393.323438 259.2 \r\nL 393.323438 160.363636 \r\nL 58.523438 160.363636 \r\nz\r\n\" style=\"fill:#ffffff;\"/>\r\n   </g>\r\n   <g id=\"matplotlib.axis_3\">\r\n    <g id=\"xtick_7\">\r\n     <g id=\"line2d_20\">\r\n      <path clip-path=\"url(#pac3f751158)\" d=\"M 73.741619 259.2 \r\nL 73.741619 160.363636 \r\n\" style=\"fill:none;stroke:#b0b0b0;stroke-linecap:square;stroke-width:0.8;\"/>\r\n     </g>\r\n     <g id=\"line2d_21\">\r\n      <g>\r\n       <use style=\"stroke:#000000;stroke-width:0.8;\" x=\"73.741619\" xlink:href=\"#md270d76bed\" y=\"259.2\"/>\r\n      </g>\r\n     </g>\r\n     <g id=\"text_12\">\r\n      <!-- 0 -->\r\n      <g transform=\"translate(70.560369 273.798437)scale(0.1 -0.1)\">\r\n       <use xlink:href=\"#DejaVuSans-48\"/>\r\n      </g>\r\n     </g>\r\n    </g>\r\n    <g id=\"xtick_8\">\r\n     <g id=\"line2d_22\">\r\n      <path clip-path=\"url(#pac3f751158)\" d=\"M 134.614347 259.2 \r\nL 134.614347 160.363636 \r\n\" style=\"fill:none;stroke:#b0b0b0;stroke-linecap:square;stroke-width:0.8;\"/>\r\n     </g>\r\n     <g id=\"line2d_23\">\r\n      <g>\r\n       <use style=\"stroke:#000000;stroke-width:0.8;\" x=\"134.614347\" xlink:href=\"#md270d76bed\" y=\"259.2\"/>\r\n      </g>\r\n     </g>\r\n     <g id=\"text_13\">\r\n      <!-- 2 -->\r\n      <g transform=\"translate(131.433097 273.798437)scale(0.1 -0.1)\">\r\n       <use xlink:href=\"#DejaVuSans-50\"/>\r\n      </g>\r\n     </g>\r\n    </g>\r\n    <g id=\"xtick_9\">\r\n     <g id=\"line2d_24\">\r\n      <path clip-path=\"url(#pac3f751158)\" d=\"M 195.487074 259.2 \r\nL 195.487074 160.363636 \r\n\" style=\"fill:none;stroke:#b0b0b0;stroke-linecap:square;stroke-width:0.8;\"/>\r\n     </g>\r\n     <g id=\"line2d_25\">\r\n      <g>\r\n       <use style=\"stroke:#000000;stroke-width:0.8;\" x=\"195.487074\" xlink:href=\"#md270d76bed\" y=\"259.2\"/>\r\n      </g>\r\n     </g>\r\n     <g id=\"text_14\">\r\n      <!-- 4 -->\r\n      <g transform=\"translate(192.305824 273.798437)scale(0.1 -0.1)\">\r\n       <use xlink:href=\"#DejaVuSans-52\"/>\r\n      </g>\r\n     </g>\r\n    </g>\r\n    <g id=\"xtick_10\">\r\n     <g id=\"line2d_26\">\r\n      <path clip-path=\"url(#pac3f751158)\" d=\"M 256.359801 259.2 \r\nL 256.359801 160.363636 \r\n\" style=\"fill:none;stroke:#b0b0b0;stroke-linecap:square;stroke-width:0.8;\"/>\r\n     </g>\r\n     <g id=\"line2d_27\">\r\n      <g>\r\n       <use style=\"stroke:#000000;stroke-width:0.8;\" x=\"256.359801\" xlink:href=\"#md270d76bed\" y=\"259.2\"/>\r\n      </g>\r\n     </g>\r\n     <g id=\"text_15\">\r\n      <!-- 6 -->\r\n      <g transform=\"translate(253.178551 273.798437)scale(0.1 -0.1)\">\r\n       <use xlink:href=\"#DejaVuSans-54\"/>\r\n      </g>\r\n     </g>\r\n    </g>\r\n    <g id=\"xtick_11\">\r\n     <g id=\"line2d_28\">\r\n      <path clip-path=\"url(#pac3f751158)\" d=\"M 317.232528 259.2 \r\nL 317.232528 160.363636 \r\n\" style=\"fill:none;stroke:#b0b0b0;stroke-linecap:square;stroke-width:0.8;\"/>\r\n     </g>\r\n     <g id=\"line2d_29\">\r\n      <g>\r\n       <use style=\"stroke:#000000;stroke-width:0.8;\" x=\"317.232528\" xlink:href=\"#md270d76bed\" y=\"259.2\"/>\r\n      </g>\r\n     </g>\r\n     <g id=\"text_16\">\r\n      <!-- 8 -->\r\n      <g transform=\"translate(314.051278 273.798437)scale(0.1 -0.1)\">\r\n       <use xlink:href=\"#DejaVuSans-56\"/>\r\n      </g>\r\n     </g>\r\n    </g>\r\n    <g id=\"xtick_12\">\r\n     <g id=\"line2d_30\">\r\n      <path clip-path=\"url(#pac3f751158)\" d=\"M 378.105256 259.2 \r\nL 378.105256 160.363636 \r\n\" style=\"fill:none;stroke:#b0b0b0;stroke-linecap:square;stroke-width:0.8;\"/>\r\n     </g>\r\n     <g id=\"line2d_31\">\r\n      <g>\r\n       <use style=\"stroke:#000000;stroke-width:0.8;\" x=\"378.105256\" xlink:href=\"#md270d76bed\" y=\"259.2\"/>\r\n      </g>\r\n     </g>\r\n     <g id=\"text_17\">\r\n      <!-- 10 -->\r\n      <g transform=\"translate(371.742756 273.798437)scale(0.1 -0.1)\">\r\n       <use xlink:href=\"#DejaVuSans-49\"/>\r\n       <use x=\"63.623047\" xlink:href=\"#DejaVuSans-48\"/>\r\n      </g>\r\n     </g>\r\n    </g>\r\n    <g id=\"text_18\">\r\n     <!-- t  [ms] -->\r\n     <g transform=\"translate(209.408594 287.476562)scale(0.1 -0.1)\">\r\n      <use xlink:href=\"#DejaVuSans-116\"/>\r\n      <use x=\"39.208984\" xlink:href=\"#DejaVuSans-32\"/>\r\n      <use x=\"70.996094\" xlink:href=\"#DejaVuSans-32\"/>\r\n      <use x=\"102.783203\" xlink:href=\"#DejaVuSans-91\"/>\r\n      <use x=\"141.796875\" xlink:href=\"#DejaVuSans-109\"/>\r\n      <use x=\"239.208984\" xlink:href=\"#DejaVuSans-115\"/>\r\n      <use x=\"291.308594\" xlink:href=\"#DejaVuSans-93\"/>\r\n     </g>\r\n    </g>\r\n   </g>\r\n   <g id=\"matplotlib.axis_4\">\r\n    <g id=\"ytick_4\">\r\n     <g id=\"line2d_32\">\r\n      <path clip-path=\"url(#pac3f751158)\" d=\"M 58.523438 254.707438 \r\nL 393.323438 254.707438 \r\n\" style=\"fill:none;stroke:#b0b0b0;stroke-linecap:square;stroke-width:0.8;\"/>\r\n     </g>\r\n     <g id=\"line2d_33\">\r\n      <g>\r\n       <use style=\"stroke:#000000;stroke-width:0.8;\" x=\"58.523438\" xlink:href=\"#m54877e8764\" y=\"254.707438\"/>\r\n      </g>\r\n     </g>\r\n     <g id=\"text_19\">\r\n      <!-- −0.05 -->\r\n      <g transform=\"translate(20.878125 258.506657)scale(0.1 -0.1)\">\r\n       <defs>\r\n        <path d=\"M 10.59375 35.5 \r\nL 73.1875 35.5 \r\nL 73.1875 27.203125 \r\nL 10.59375 27.203125 \r\nz\r\n\" id=\"DejaVuSans-8722\"/>\r\n        <path d=\"M 10.6875 12.40625 \r\nL 21 12.40625 \r\nL 21 0 \r\nL 10.6875 0 \r\nz\r\n\" id=\"DejaVuSans-46\"/>\r\n        <path d=\"M 10.796875 72.90625 \r\nL 49.515625 72.90625 \r\nL 49.515625 64.59375 \r\nL 19.828125 64.59375 \r\nL 19.828125 46.734375 \r\nQ 21.96875 47.46875 24.109375 47.828125 \r\nQ 26.265625 48.1875 28.421875 48.1875 \r\nQ 40.625 48.1875 47.75 41.5 \r\nQ 54.890625 34.8125 54.890625 23.390625 \r\nQ 54.890625 11.625 47.5625 5.09375 \r\nQ 40.234375 -1.421875 26.90625 -1.421875 \r\nQ 22.3125 -1.421875 17.546875 -0.640625 \r\nQ 12.796875 0.140625 7.71875 1.703125 \r\nL 7.71875 11.625 \r\nQ 12.109375 9.234375 16.796875 8.0625 \r\nQ 21.484375 6.890625 26.703125 6.890625 \r\nQ 35.15625 6.890625 40.078125 11.328125 \r\nQ 45.015625 15.765625 45.015625 23.390625 \r\nQ 45.015625 31 40.078125 35.4375 \r\nQ 35.15625 39.890625 26.703125 39.890625 \r\nQ 22.75 39.890625 18.8125 39.015625 \r\nQ 14.890625 38.140625 10.796875 36.28125 \r\nz\r\n\" id=\"DejaVuSans-53\"/>\r\n       </defs>\r\n       <use xlink:href=\"#DejaVuSans-8722\"/>\r\n       <use x=\"83.789062\" xlink:href=\"#DejaVuSans-48\"/>\r\n       <use x=\"147.412109\" xlink:href=\"#DejaVuSans-46\"/>\r\n       <use x=\"179.199219\" xlink:href=\"#DejaVuSans-48\"/>\r\n       <use x=\"242.822266\" xlink:href=\"#DejaVuSans-53\"/>\r\n      </g>\r\n     </g>\r\n    </g>\r\n    <g id=\"ytick_5\">\r\n     <g id=\"line2d_34\">\r\n      <path clip-path=\"url(#pac3f751158)\" d=\"M 58.523438 209.781818 \r\nL 393.323438 209.781818 \r\n\" style=\"fill:none;stroke:#b0b0b0;stroke-linecap:square;stroke-width:0.8;\"/>\r\n     </g>\r\n     <g id=\"line2d_35\">\r\n      <g>\r\n       <use style=\"stroke:#000000;stroke-width:0.8;\" x=\"58.523438\" xlink:href=\"#m54877e8764\" y=\"209.781818\"/>\r\n      </g>\r\n     </g>\r\n     <g id=\"text_20\">\r\n      <!-- 0.00 -->\r\n      <g transform=\"translate(29.257813 213.581037)scale(0.1 -0.1)\">\r\n       <use xlink:href=\"#DejaVuSans-48\"/>\r\n       <use x=\"63.623047\" xlink:href=\"#DejaVuSans-46\"/>\r\n       <use x=\"95.410156\" xlink:href=\"#DejaVuSans-48\"/>\r\n       <use x=\"159.033203\" xlink:href=\"#DejaVuSans-48\"/>\r\n      </g>\r\n     </g>\r\n    </g>\r\n    <g id=\"ytick_6\">\r\n     <g id=\"line2d_36\">\r\n      <path clip-path=\"url(#pac3f751158)\" d=\"M 58.523438 164.856198 \r\nL 393.323438 164.856198 \r\n\" style=\"fill:none;stroke:#b0b0b0;stroke-linecap:square;stroke-width:0.8;\"/>\r\n     </g>\r\n     <g id=\"line2d_37\">\r\n      <g>\r\n       <use style=\"stroke:#000000;stroke-width:0.8;\" x=\"58.523438\" xlink:href=\"#m54877e8764\" y=\"164.856198\"/>\r\n      </g>\r\n     </g>\r\n     <g id=\"text_21\">\r\n      <!-- 0.05 -->\r\n      <g transform=\"translate(29.257813 168.655417)scale(0.1 -0.1)\">\r\n       <use xlink:href=\"#DejaVuSans-48\"/>\r\n       <use x=\"63.623047\" xlink:href=\"#DejaVuSans-46\"/>\r\n       <use x=\"95.410156\" xlink:href=\"#DejaVuSans-48\"/>\r\n       <use x=\"159.033203\" xlink:href=\"#DejaVuSans-53\"/>\r\n      </g>\r\n     </g>\r\n    </g>\r\n    <g id=\"text_22\">\r\n     <!-- V  [mV] -->\r\n     <g transform=\"translate(14.798438 228.572443)rotate(-90)scale(0.1 -0.1)\">\r\n      <use xlink:href=\"#DejaVuSans-86\"/>\r\n      <use x=\"68.408203\" xlink:href=\"#DejaVuSans-32\"/>\r\n      <use x=\"100.195312\" xlink:href=\"#DejaVuSans-32\"/>\r\n      <use x=\"131.982422\" xlink:href=\"#DejaVuSans-91\"/>\r\n      <use x=\"170.996094\" xlink:href=\"#DejaVuSans-109\"/>\r\n      <use x=\"268.408203\" xlink:href=\"#DejaVuSans-86\"/>\r\n      <use x=\"336.816406\" xlink:href=\"#DejaVuSans-93\"/>\r\n     </g>\r\n    </g>\r\n   </g>\r\n   <g id=\"line2d_38\">\r\n    <path clip-path=\"url(#pac3f751158)\" d=\"M 73.741619 209.781818 \r\nL 378.105256 209.781818 \r\nL 378.105256 209.781818 \r\n\" style=\"fill:none;stroke:#ff0000;stroke-linecap:square;stroke-width:1.5;\"/>\r\n   </g>\r\n   <g id=\"patch_8\">\r\n    <path d=\"M 58.523438 259.2 \r\nL 58.523438 160.363636 \r\n\" style=\"fill:none;stroke:#000000;stroke-linecap:square;stroke-linejoin:miter;stroke-width:0.8;\"/>\r\n   </g>\r\n   <g id=\"patch_9\">\r\n    <path d=\"M 393.323438 259.2 \r\nL 393.323438 160.363636 \r\n\" style=\"fill:none;stroke:#000000;stroke-linecap:square;stroke-linejoin:miter;stroke-width:0.8;\"/>\r\n   </g>\r\n   <g id=\"patch_10\">\r\n    <path d=\"M 58.523438 259.2 \r\nL 393.323438 259.2 \r\n\" style=\"fill:none;stroke:#000000;stroke-linecap:square;stroke-linejoin:miter;stroke-width:0.8;\"/>\r\n   </g>\r\n   <g id=\"patch_11\">\r\n    <path d=\"M 58.523438 160.363636 \r\nL 393.323438 160.363636 \r\n\" style=\"fill:none;stroke:#000000;stroke-linecap:square;stroke-linejoin:miter;stroke-width:0.8;\"/>\r\n   </g>\r\n  </g>\r\n  <g id=\"text_23\">\r\n   <!-- Cycles loaded into the AWG -->\r\n   <g transform=\"translate(137.35125 22.078125)scale(0.12 -0.12)\">\r\n    <defs>\r\n     <path d=\"M 64.40625 67.28125 \r\nL 64.40625 56.890625 \r\nQ 59.421875 61.53125 53.78125 63.8125 \r\nQ 48.140625 66.109375 41.796875 66.109375 \r\nQ 29.296875 66.109375 22.65625 58.46875 \r\nQ 16.015625 50.828125 16.015625 36.375 \r\nQ 16.015625 21.96875 22.65625 14.328125 \r\nQ 29.296875 6.6875 41.796875 6.6875 \r\nQ 48.140625 6.6875 53.78125 8.984375 \r\nQ 59.421875 11.28125 64.40625 15.921875 \r\nL 64.40625 5.609375 \r\nQ 59.234375 2.09375 53.4375 0.328125 \r\nQ 47.65625 -1.421875 41.21875 -1.421875 \r\nQ 24.65625 -1.421875 15.125 8.703125 \r\nQ 5.609375 18.84375 5.609375 36.375 \r\nQ 5.609375 53.953125 15.125 64.078125 \r\nQ 24.65625 74.21875 41.21875 74.21875 \r\nQ 47.75 74.21875 53.53125 72.484375 \r\nQ 59.328125 70.75 64.40625 67.28125 \r\nz\r\n\" id=\"DejaVuSans-67\"/>\r\n     <path d=\"M 32.171875 -5.078125 \r\nQ 28.375 -14.84375 24.75 -17.8125 \r\nQ 21.140625 -20.796875 15.09375 -20.796875 \r\nL 7.90625 -20.796875 \r\nL 7.90625 -13.28125 \r\nL 13.1875 -13.28125 \r\nQ 16.890625 -13.28125 18.9375 -11.515625 \r\nQ 21 -9.765625 23.484375 -3.21875 \r\nL 25.09375 0.875 \r\nL 2.984375 54.6875 \r\nL 12.5 54.6875 \r\nL 29.59375 11.921875 \r\nL 46.6875 54.6875 \r\nL 56.203125 54.6875 \r\nz\r\n\" id=\"DejaVuSans-121\"/>\r\n     <path d=\"M 48.78125 52.59375 \r\nL 48.78125 44.1875 \r\nQ 44.96875 46.296875 41.140625 47.34375 \r\nQ 37.3125 48.390625 33.40625 48.390625 \r\nQ 24.65625 48.390625 19.8125 42.84375 \r\nQ 14.984375 37.3125 14.984375 27.296875 \r\nQ 14.984375 17.28125 19.8125 11.734375 \r\nQ 24.65625 6.203125 33.40625 6.203125 \r\nQ 37.3125 6.203125 41.140625 7.25 \r\nQ 44.96875 8.296875 48.78125 10.40625 \r\nL 48.78125 2.09375 \r\nQ 45.015625 0.34375 40.984375 -0.53125 \r\nQ 36.96875 -1.421875 32.421875 -1.421875 \r\nQ 20.0625 -1.421875 12.78125 6.34375 \r\nQ 5.515625 14.109375 5.515625 27.296875 \r\nQ 5.515625 40.671875 12.859375 48.328125 \r\nQ 20.21875 56 33.015625 56 \r\nQ 37.15625 56 41.109375 55.140625 \r\nQ 45.0625 54.296875 48.78125 52.59375 \r\nz\r\n\" id=\"DejaVuSans-99\"/>\r\n     <path d=\"M 9.421875 75.984375 \r\nL 18.40625 75.984375 \r\nL 18.40625 0 \r\nL 9.421875 0 \r\nz\r\n\" id=\"DejaVuSans-108\"/>\r\n     <path d=\"M 56.203125 29.59375 \r\nL 56.203125 25.203125 \r\nL 14.890625 25.203125 \r\nQ 15.484375 15.921875 20.484375 11.0625 \r\nQ 25.484375 6.203125 34.421875 6.203125 \r\nQ 39.59375 6.203125 44.453125 7.46875 \r\nQ 49.3125 8.734375 54.109375 11.28125 \r\nL 54.109375 2.78125 \r\nQ 49.265625 0.734375 44.1875 -0.34375 \r\nQ 39.109375 -1.421875 33.890625 -1.421875 \r\nQ 20.796875 -1.421875 13.15625 6.1875 \r\nQ 5.515625 13.8125 5.515625 26.8125 \r\nQ 5.515625 40.234375 12.765625 48.109375 \r\nQ 20.015625 56 32.328125 56 \r\nQ 43.359375 56 49.78125 48.890625 \r\nQ 56.203125 41.796875 56.203125 29.59375 \r\nz\r\nM 47.21875 32.234375 \r\nQ 47.125 39.59375 43.09375 43.984375 \r\nQ 39.0625 48.390625 32.421875 48.390625 \r\nQ 24.90625 48.390625 20.390625 44.140625 \r\nQ 15.875 39.890625 15.1875 32.171875 \r\nz\r\n\" id=\"DejaVuSans-101\"/>\r\n     <path d=\"M 30.609375 48.390625 \r\nQ 23.390625 48.390625 19.1875 42.75 \r\nQ 14.984375 37.109375 14.984375 27.296875 \r\nQ 14.984375 17.484375 19.15625 11.84375 \r\nQ 23.34375 6.203125 30.609375 6.203125 \r\nQ 37.796875 6.203125 41.984375 11.859375 \r\nQ 46.1875 17.53125 46.1875 27.296875 \r\nQ 46.1875 37.015625 41.984375 42.703125 \r\nQ 37.796875 48.390625 30.609375 48.390625 \r\nz\r\nM 30.609375 56 \r\nQ 42.328125 56 49.015625 48.375 \r\nQ 55.71875 40.765625 55.71875 27.296875 \r\nQ 55.71875 13.875 49.015625 6.21875 \r\nQ 42.328125 -1.421875 30.609375 -1.421875 \r\nQ 18.84375 -1.421875 12.171875 6.21875 \r\nQ 5.515625 13.875 5.515625 27.296875 \r\nQ 5.515625 40.765625 12.171875 48.375 \r\nQ 18.84375 56 30.609375 56 \r\nz\r\n\" id=\"DejaVuSans-111\"/>\r\n     <path d=\"M 34.28125 27.484375 \r\nQ 23.390625 27.484375 19.1875 25 \r\nQ 14.984375 22.515625 14.984375 16.5 \r\nQ 14.984375 11.71875 18.140625 8.90625 \r\nQ 21.296875 6.109375 26.703125 6.109375 \r\nQ 34.1875 6.109375 38.703125 11.40625 \r\nQ 43.21875 16.703125 43.21875 25.484375 \r\nL 43.21875 27.484375 \r\nz\r\nM 52.203125 31.203125 \r\nL 52.203125 0 \r\nL 43.21875 0 \r\nL 43.21875 8.296875 \r\nQ 40.140625 3.328125 35.546875 0.953125 \r\nQ 30.953125 -1.421875 24.3125 -1.421875 \r\nQ 15.921875 -1.421875 10.953125 3.296875 \r\nQ 6 8.015625 6 15.921875 \r\nQ 6 25.140625 12.171875 29.828125 \r\nQ 18.359375 34.515625 30.609375 34.515625 \r\nL 43.21875 34.515625 \r\nL 43.21875 35.40625 \r\nQ 43.21875 41.609375 39.140625 45 \r\nQ 35.0625 48.390625 27.6875 48.390625 \r\nQ 23 48.390625 18.546875 47.265625 \r\nQ 14.109375 46.140625 10.015625 43.890625 \r\nL 10.015625 52.203125 \r\nQ 14.9375 54.109375 19.578125 55.046875 \r\nQ 24.21875 56 28.609375 56 \r\nQ 40.484375 56 46.34375 49.84375 \r\nQ 52.203125 43.703125 52.203125 31.203125 \r\nz\r\n\" id=\"DejaVuSans-97\"/>\r\n     <path d=\"M 45.40625 46.390625 \r\nL 45.40625 75.984375 \r\nL 54.390625 75.984375 \r\nL 54.390625 0 \r\nL 45.40625 0 \r\nL 45.40625 8.203125 \r\nQ 42.578125 3.328125 38.25 0.953125 \r\nQ 33.9375 -1.421875 27.875 -1.421875 \r\nQ 17.96875 -1.421875 11.734375 6.484375 \r\nQ 5.515625 14.40625 5.515625 27.296875 \r\nQ 5.515625 40.1875 11.734375 48.09375 \r\nQ 17.96875 56 27.875 56 \r\nQ 33.9375 56 38.25 53.625 \r\nQ 42.578125 51.265625 45.40625 46.390625 \r\nz\r\nM 14.796875 27.296875 \r\nQ 14.796875 17.390625 18.875 11.75 \r\nQ 22.953125 6.109375 30.078125 6.109375 \r\nQ 37.203125 6.109375 41.296875 11.75 \r\nQ 45.40625 17.390625 45.40625 27.296875 \r\nQ 45.40625 37.203125 41.296875 42.84375 \r\nQ 37.203125 48.484375 30.078125 48.484375 \r\nQ 22.953125 48.484375 18.875 42.84375 \r\nQ 14.796875 37.203125 14.796875 27.296875 \r\nz\r\n\" id=\"DejaVuSans-100\"/>\r\n     <path d=\"M 9.421875 54.6875 \r\nL 18.40625 54.6875 \r\nL 18.40625 0 \r\nL 9.421875 0 \r\nz\r\nM 9.421875 75.984375 \r\nL 18.40625 75.984375 \r\nL 18.40625 64.59375 \r\nL 9.421875 64.59375 \r\nz\r\n\" id=\"DejaVuSans-105\"/>\r\n     <path d=\"M 54.890625 33.015625 \r\nL 54.890625 0 \r\nL 45.90625 0 \r\nL 45.90625 32.71875 \r\nQ 45.90625 40.484375 42.875 44.328125 \r\nQ 39.84375 48.1875 33.796875 48.1875 \r\nQ 26.515625 48.1875 22.3125 43.546875 \r\nQ 18.109375 38.921875 18.109375 30.90625 \r\nL 18.109375 0 \r\nL 9.078125 0 \r\nL 9.078125 54.6875 \r\nL 18.109375 54.6875 \r\nL 18.109375 46.1875 \r\nQ 21.34375 51.125 25.703125 53.5625 \r\nQ 30.078125 56 35.796875 56 \r\nQ 45.21875 56 50.046875 50.171875 \r\nQ 54.890625 44.34375 54.890625 33.015625 \r\nz\r\n\" id=\"DejaVuSans-110\"/>\r\n     <path d=\"M 54.890625 33.015625 \r\nL 54.890625 0 \r\nL 45.90625 0 \r\nL 45.90625 32.71875 \r\nQ 45.90625 40.484375 42.875 44.328125 \r\nQ 39.84375 48.1875 33.796875 48.1875 \r\nQ 26.515625 48.1875 22.3125 43.546875 \r\nQ 18.109375 38.921875 18.109375 30.90625 \r\nL 18.109375 0 \r\nL 9.078125 0 \r\nL 9.078125 75.984375 \r\nL 18.109375 75.984375 \r\nL 18.109375 46.1875 \r\nQ 21.34375 51.125 25.703125 53.5625 \r\nQ 30.078125 56 35.796875 56 \r\nQ 45.21875 56 50.046875 50.171875 \r\nQ 54.890625 44.34375 54.890625 33.015625 \r\nz\r\n\" id=\"DejaVuSans-104\"/>\r\n     <path d=\"M 34.1875 63.1875 \r\nL 20.796875 26.90625 \r\nL 47.609375 26.90625 \r\nz\r\nM 28.609375 72.90625 \r\nL 39.796875 72.90625 \r\nL 67.578125 0 \r\nL 57.328125 0 \r\nL 50.6875 18.703125 \r\nL 17.828125 18.703125 \r\nL 11.1875 0 \r\nL 0.78125 0 \r\nz\r\n\" id=\"DejaVuSans-65\"/>\r\n     <path d=\"M 3.328125 72.90625 \r\nL 13.28125 72.90625 \r\nL 28.609375 11.28125 \r\nL 43.890625 72.90625 \r\nL 54.984375 72.90625 \r\nL 70.3125 11.28125 \r\nL 85.59375 72.90625 \r\nL 95.609375 72.90625 \r\nL 77.296875 0 \r\nL 64.890625 0 \r\nL 49.515625 63.28125 \r\nL 33.984375 0 \r\nL 21.578125 0 \r\nz\r\n\" id=\"DejaVuSans-87\"/>\r\n     <path d=\"M 59.515625 10.40625 \r\nL 59.515625 29.984375 \r\nL 43.40625 29.984375 \r\nL 43.40625 38.09375 \r\nL 69.28125 38.09375 \r\nL 69.28125 6.78125 \r\nQ 63.578125 2.734375 56.6875 0.65625 \r\nQ 49.8125 -1.421875 42 -1.421875 \r\nQ 24.90625 -1.421875 15.25 8.5625 \r\nQ 5.609375 18.5625 5.609375 36.375 \r\nQ 5.609375 54.25 15.25 64.234375 \r\nQ 24.90625 74.21875 42 74.21875 \r\nQ 49.125 74.21875 55.546875 72.453125 \r\nQ 61.96875 70.703125 67.390625 67.28125 \r\nL 67.390625 56.78125 \r\nQ 61.921875 61.421875 55.765625 63.765625 \r\nQ 49.609375 66.109375 42.828125 66.109375 \r\nQ 29.4375 66.109375 22.71875 58.640625 \r\nQ 16.015625 51.171875 16.015625 36.375 \r\nQ 16.015625 21.625 22.71875 14.15625 \r\nQ 29.4375 6.6875 42.828125 6.6875 \r\nQ 48.046875 6.6875 52.140625 7.59375 \r\nQ 56.25 8.5 59.515625 10.40625 \r\nz\r\n\" id=\"DejaVuSans-71\"/>\r\n    </defs>\r\n    <use xlink:href=\"#DejaVuSans-67\"/>\r\n    <use x=\"69.824219\" xlink:href=\"#DejaVuSans-121\"/>\r\n    <use x=\"129.003906\" xlink:href=\"#DejaVuSans-99\"/>\r\n    <use x=\"183.984375\" xlink:href=\"#DejaVuSans-108\"/>\r\n    <use x=\"211.767578\" xlink:href=\"#DejaVuSans-101\"/>\r\n    <use x=\"273.291016\" xlink:href=\"#DejaVuSans-115\"/>\r\n    <use x=\"325.390625\" xlink:href=\"#DejaVuSans-32\"/>\r\n    <use x=\"357.177734\" xlink:href=\"#DejaVuSans-108\"/>\r\n    <use x=\"384.960938\" xlink:href=\"#DejaVuSans-111\"/>\r\n    <use x=\"446.142578\" xlink:href=\"#DejaVuSans-97\"/>\r\n    <use x=\"507.421875\" xlink:href=\"#DejaVuSans-100\"/>\r\n    <use x=\"570.898438\" xlink:href=\"#DejaVuSans-101\"/>\r\n    <use x=\"632.421875\" xlink:href=\"#DejaVuSans-100\"/>\r\n    <use x=\"695.898438\" xlink:href=\"#DejaVuSans-32\"/>\r\n    <use x=\"727.685547\" xlink:href=\"#DejaVuSans-105\"/>\r\n    <use x=\"755.46875\" xlink:href=\"#DejaVuSans-110\"/>\r\n    <use x=\"818.847656\" xlink:href=\"#DejaVuSans-116\"/>\r\n    <use x=\"858.056641\" xlink:href=\"#DejaVuSans-111\"/>\r\n    <use x=\"919.238281\" xlink:href=\"#DejaVuSans-32\"/>\r\n    <use x=\"951.025391\" xlink:href=\"#DejaVuSans-116\"/>\r\n    <use x=\"990.234375\" xlink:href=\"#DejaVuSans-104\"/>\r\n    <use x=\"1053.613281\" xlink:href=\"#DejaVuSans-101\"/>\r\n    <use x=\"1115.136719\" xlink:href=\"#DejaVuSans-32\"/>\r\n    <use x=\"1146.923828\" xlink:href=\"#DejaVuSans-65\"/>\r\n    <use x=\"1209.832031\" xlink:href=\"#DejaVuSans-87\"/>\r\n    <use x=\"1308.708984\" xlink:href=\"#DejaVuSans-71\"/>\r\n   </g>\r\n  </g>\r\n  <g id=\"legend_1\">\r\n   <g id=\"patch_12\">\r\n    <path d=\"M 460.123438 39.55625 \r\nL 529.49375 39.55625 \r\nQ 531.49375 39.55625 531.49375 37.55625 \r\nL 531.49375 9.2 \r\nQ 531.49375 7.2 529.49375 7.2 \r\nL 460.123438 7.2 \r\nQ 458.123438 7.2 458.123438 9.2 \r\nL 458.123438 37.55625 \r\nQ 458.123438 39.55625 460.123438 39.55625 \r\nz\r\n\" style=\"fill:#ffffff;opacity:0.8;stroke:#cccccc;stroke-linejoin:miter;\"/>\r\n   </g>\r\n   <g id=\"line2d_39\">\r\n    <path d=\"M 462.123438 15.298437 \r\nL 482.123438 15.298437 \r\n\" style=\"fill:none;stroke:#0000ff;stroke-linecap:square;stroke-width:1.5;\"/>\r\n   </g>\r\n   <g id=\"line2d_40\"/>\r\n   <g id=\"text_24\">\r\n    <!-- Cycle A -->\r\n    <g transform=\"translate(490.123438 18.798437)scale(0.1 -0.1)\">\r\n     <use xlink:href=\"#DejaVuSans-67\"/>\r\n     <use x=\"69.824219\" xlink:href=\"#DejaVuSans-121\"/>\r\n     <use x=\"129.003906\" xlink:href=\"#DejaVuSans-99\"/>\r\n     <use x=\"183.984375\" xlink:href=\"#DejaVuSans-108\"/>\r\n     <use x=\"211.767578\" xlink:href=\"#DejaVuSans-101\"/>\r\n     <use x=\"273.291016\" xlink:href=\"#DejaVuSans-32\"/>\r\n     <use x=\"305.078125\" xlink:href=\"#DejaVuSans-65\"/>\r\n    </g>\r\n   </g>\r\n   <g id=\"line2d_41\">\r\n    <path d=\"M 462.123438 29.976562 \r\nL 482.123438 29.976562 \r\n\" style=\"fill:none;stroke:#ff0000;stroke-linecap:square;stroke-width:1.5;\"/>\r\n   </g>\r\n   <g id=\"line2d_42\"/>\r\n   <g id=\"text_25\">\r\n    <!-- Cycle B -->\r\n    <g transform=\"translate(490.123438 33.476562)scale(0.1 -0.1)\">\r\n     <defs>\r\n      <path d=\"M 19.671875 34.8125 \r\nL 19.671875 8.109375 \r\nL 35.5 8.109375 \r\nQ 43.453125 8.109375 47.28125 11.40625 \r\nQ 51.125 14.703125 51.125 21.484375 \r\nQ 51.125 28.328125 47.28125 31.5625 \r\nQ 43.453125 34.8125 35.5 34.8125 \r\nz\r\nM 19.671875 64.796875 \r\nL 19.671875 42.828125 \r\nL 34.28125 42.828125 \r\nQ 41.5 42.828125 45.03125 45.53125 \r\nQ 48.578125 48.25 48.578125 53.8125 \r\nQ 48.578125 59.328125 45.03125 62.0625 \r\nQ 41.5 64.796875 34.28125 64.796875 \r\nz\r\nM 9.8125 72.90625 \r\nL 35.015625 72.90625 \r\nQ 46.296875 72.90625 52.390625 68.21875 \r\nQ 58.5 63.53125 58.5 54.890625 \r\nQ 58.5 48.1875 55.375 44.234375 \r\nQ 52.25 40.28125 46.1875 39.3125 \r\nQ 53.46875 37.75 57.5 32.78125 \r\nQ 61.53125 27.828125 61.53125 20.40625 \r\nQ 61.53125 10.640625 54.890625 5.3125 \r\nQ 48.25 0 35.984375 0 \r\nL 9.8125 0 \r\nz\r\n\" id=\"DejaVuSans-66\"/>\r\n     </defs>\r\n     <use xlink:href=\"#DejaVuSans-67\"/>\r\n     <use x=\"69.824219\" xlink:href=\"#DejaVuSans-121\"/>\r\n     <use x=\"129.003906\" xlink:href=\"#DejaVuSans-99\"/>\r\n     <use x=\"183.984375\" xlink:href=\"#DejaVuSans-108\"/>\r\n     <use x=\"211.767578\" xlink:href=\"#DejaVuSans-101\"/>\r\n     <use x=\"273.291016\" xlink:href=\"#DejaVuSans-32\"/>\r\n     <use x=\"305.078125\" xlink:href=\"#DejaVuSans-66\"/>\r\n    </g>\r\n   </g>\r\n  </g>\r\n </g>\r\n <defs>\r\n  <clipPath id=\"pb706ac901c\">\r\n   <rect height=\"98.836364\" width=\"334.8\" x=\"58.523438\" y=\"41.76\"/>\r\n  </clipPath>\r\n  <clipPath id=\"pac3f751158\">\r\n   <rect height=\"98.836364\" width=\"334.8\" x=\"58.523438\" y=\"160.363636\"/>\r\n  </clipPath>\r\n </defs>\r\n</svg>\r\n",
                        "text/plain": [
                            "<Figure size 432x288 with 2 Axes>"
                        ]
                    },
                    "metadata": {
                        "needs_background": "light"
                    }
                }
            ],
            "metadata": {}
        },
        {
            "cell_type": "markdown",
            "source": [
                "# Dummy File Loading"
            ],
            "metadata": {}
        },
        {
            "cell_type": "code",
            "execution_count": 15,
            "source": [
                "sam"
            ],
            "outputs": [
                {
                    "output_type": "execute_result",
                    "data": {
                        "text/plain": [
                            "30000000"
                        ]
                    },
                    "metadata": {},
                    "execution_count": 15
                }
            ],
            "metadata": {}
        },
        {
            "cell_type": "code",
            "execution_count": 50,
            "source": [
                "M8190A.write('FREQ:RAST 7500000000')"
            ],
            "outputs": [
                {
                    "output_type": "execute_result",
                    "data": {
                        "text/plain": [
                            "21"
                        ]
                    },
                    "metadata": {},
                    "execution_count": 50
                }
            ],
            "metadata": {}
        },
        {
            "cell_type": "code",
            "execution_count": 23,
            "source": [
                "Dummy_File(M8190A)"
            ],
            "outputs": [
                {
                    "output_type": "stream",
                    "name": "stdout",
                    "text": [
                        "Dummy File Loaded and playing\n",
                        "Dummy File stopped and erased from AWGs memmory\n"
                    ]
                }
            ],
            "metadata": {}
        },
        {
            "cell_type": "code",
            "execution_count": 53,
            "source": [
                "M8190A.write('TRAC:DEL:ALL')\r\n",
                "M8190A.write('SEQ:DEL:ALL')"
            ],
            "outputs": [
                {
                    "output_type": "execute_result",
                    "data": {
                        "text/plain": [
                            "12"
                        ]
                    },
                    "metadata": {},
                    "execution_count": 53
                }
            ],
            "metadata": {}
        },
        {
            "cell_type": "code",
            "execution_count": 104,
            "source": [
                "M8190A.write('SEQ:DEL:ALL')"
            ],
            "outputs": [
                {
                    "output_type": "execute_result",
                    "data": {
                        "text/plain": [
                            "12"
                        ]
                    },
                    "metadata": {},
                    "execution_count": 104
                }
            ],
            "metadata": {}
        },
        {
            "cell_type": "markdown",
            "source": [
                "## Exporting Pickle"
            ],
            "metadata": {}
        },
        {
            "cell_type": "code",
            "execution_count": null,
            "source": [
                "#Exporting pickle\r\n",
                "\r\n",
                "with open(r\"{dict}\\cycleA_31steps_5ms_1nano_6GHz.p\".format(dict = PulseScheme_A_1nano['Measurement file Path']), \"wb\") as k:\r\n",
                "    pickle.dump(sweeping_run_a_1nano, k)\r\n",
                "\r\n",
                "\r\n",
                "with open(r\"{dict}\\cycleB_31steps_5ms_1nano_6GHz.p\".format(dict = PulseScheme_A_1nano['Measurement file Path']), \"wb\") as h:\r\n",
                "    pickle.dump(sweeping_run_b_1nano, h)"
            ],
            "outputs": [],
            "metadata": {}
        },
        {
            "cell_type": "markdown",
            "source": [
                "\r\n",
                "## Importing Pickle"
            ],
            "metadata": {}
        },
        {
            "cell_type": "code",
            "execution_count": 12,
            "source": [
                "#Importing Pickle\r\n",
                "\r\n",
                "with open(r\"{dict}\\cycleA_31steps_5ms_100nano_6GHz.p\".format(dict = PulseScheme_A_100nano['Measurement file Path']), \"rb\") as j:\r\n",
                "    sweeping_runa_100nano = pickle.load(j)\r\n",
                "\r\n",
                "with open(r\"{dict}\\cycleB_31steps_5ms_100nano_6GHz.p\".format(dict = PulseScheme_A_100nano['Measurement file Path']), \"rb\") as f:\r\n",
                "    sweeping_runb_100nano = pickle.load(f)"
            ],
            "outputs": [],
            "metadata": {}
        },
        {
            "cell_type": "code",
            "execution_count": 11,
            "source": [
                "sweeping_runa_10nano"
            ],
            "outputs": [
                {
                    "output_type": "execute_result",
                    "data": {
                        "text/plain": [
                            "{'Pulse File Location, at step 0': 'D:\\\\Alejandro\\\\Pulses\\\\diode measurements\\\\Prepared Pulse Schemes CSV\\\\10nano\\\\SegmentA_30000000_0.csv',\n",
                            " 'Pulse File Location, at step 1': 'D:\\\\Alejandro\\\\Pulses\\\\diode measurements\\\\Prepared Pulse Schemes CSV\\\\10nano\\\\SegmentA_30000000_1.csv',\n",
                            " 'Pulse File Location, at step 2': 'D:\\\\Alejandro\\\\Pulses\\\\diode measurements\\\\Prepared Pulse Schemes CSV\\\\10nano\\\\SegmentA_30000000_2.csv',\n",
                            " 'Pulse File Location, at step 3': 'D:\\\\Alejandro\\\\Pulses\\\\diode measurements\\\\Prepared Pulse Schemes CSV\\\\10nano\\\\SegmentA_30000000_3.csv',\n",
                            " 'Pulse File Location, at step 4': 'D:\\\\Alejandro\\\\Pulses\\\\diode measurements\\\\Prepared Pulse Schemes CSV\\\\10nano\\\\SegmentA_30000000_4.csv',\n",
                            " 'Pulse File Location, at step 5': 'D:\\\\Alejandro\\\\Pulses\\\\diode measurements\\\\Prepared Pulse Schemes CSV\\\\10nano\\\\SegmentA_30000000_5.csv',\n",
                            " 'Pulse File Location, at step 6': 'D:\\\\Alejandro\\\\Pulses\\\\diode measurements\\\\Prepared Pulse Schemes CSV\\\\10nano\\\\SegmentA_30000000_6.csv',\n",
                            " 'Pulse File Location, at step 7': 'D:\\\\Alejandro\\\\Pulses\\\\diode measurements\\\\Prepared Pulse Schemes CSV\\\\10nano\\\\SegmentA_30000000_7.csv',\n",
                            " 'Pulse File Location, at step 8': 'D:\\\\Alejandro\\\\Pulses\\\\diode measurements\\\\Prepared Pulse Schemes CSV\\\\10nano\\\\SegmentA_30000000_8.csv',\n",
                            " 'Pulse File Location, at step 9': 'D:\\\\Alejandro\\\\Pulses\\\\diode measurements\\\\Prepared Pulse Schemes CSV\\\\10nano\\\\SegmentA_30000000_9.csv',\n",
                            " 'Pulse File Location, at step 10': 'D:\\\\Alejandro\\\\Pulses\\\\diode measurements\\\\Prepared Pulse Schemes CSV\\\\10nano\\\\SegmentA_30000000_10.csv',\n",
                            " 'Pulse File Location, at step 11': 'D:\\\\Alejandro\\\\Pulses\\\\diode measurements\\\\Prepared Pulse Schemes CSV\\\\10nano\\\\SegmentA_30000000_11.csv',\n",
                            " 'Pulse File Location, at step 12': 'D:\\\\Alejandro\\\\Pulses\\\\diode measurements\\\\Prepared Pulse Schemes CSV\\\\10nano\\\\SegmentA_30000000_12.csv',\n",
                            " 'Pulse File Location, at step 13': 'D:\\\\Alejandro\\\\Pulses\\\\diode measurements\\\\Prepared Pulse Schemes CSV\\\\10nano\\\\SegmentA_30000000_13.csv',\n",
                            " 'Pulse File Location, at step 14': 'D:\\\\Alejandro\\\\Pulses\\\\diode measurements\\\\Prepared Pulse Schemes CSV\\\\10nano\\\\SegmentA_30000000_14.csv',\n",
                            " 'Pulse File Location, at step 15': 'D:\\\\Alejandro\\\\Pulses\\\\diode measurements\\\\Prepared Pulse Schemes CSV\\\\10nano\\\\SegmentA_30000000_15.csv',\n",
                            " 'Pulse File Location, at step 16': 'D:\\\\Alejandro\\\\Pulses\\\\diode measurements\\\\Prepared Pulse Schemes CSV\\\\10nano\\\\SegmentA_30000000_16.csv',\n",
                            " 'Pulse File Location, at step 17': 'D:\\\\Alejandro\\\\Pulses\\\\diode measurements\\\\Prepared Pulse Schemes CSV\\\\10nano\\\\SegmentA_30000000_17.csv',\n",
                            " 'Pulse File Location, at step 18': 'D:\\\\Alejandro\\\\Pulses\\\\diode measurements\\\\Prepared Pulse Schemes CSV\\\\10nano\\\\SegmentA_30000000_18.csv',\n",
                            " 'Pulse File Location, at step 19': 'D:\\\\Alejandro\\\\Pulses\\\\diode measurements\\\\Prepared Pulse Schemes CSV\\\\10nano\\\\SegmentA_30000000_19.csv',\n",
                            " 'Pulse File Location, at step 20': 'D:\\\\Alejandro\\\\Pulses\\\\diode measurements\\\\Prepared Pulse Schemes CSV\\\\10nano\\\\SegmentA_30000000_20.csv',\n",
                            " 'Pulse File Location, at step 21': 'D:\\\\Alejandro\\\\Pulses\\\\diode measurements\\\\Prepared Pulse Schemes CSV\\\\10nano\\\\SegmentA_30000000_21.csv',\n",
                            " 'Pulse File Location, at step 22': 'D:\\\\Alejandro\\\\Pulses\\\\diode measurements\\\\Prepared Pulse Schemes CSV\\\\10nano\\\\SegmentA_30000000_22.csv',\n",
                            " 'Pulse File Location, at step 23': 'D:\\\\Alejandro\\\\Pulses\\\\diode measurements\\\\Prepared Pulse Schemes CSV\\\\10nano\\\\SegmentA_30000000_23.csv',\n",
                            " 'Pulse File Location, at step 24': 'D:\\\\Alejandro\\\\Pulses\\\\diode measurements\\\\Prepared Pulse Schemes CSV\\\\10nano\\\\SegmentA_30000000_24.csv',\n",
                            " 'Pulse File Location, at step 25': 'D:\\\\Alejandro\\\\Pulses\\\\diode measurements\\\\Prepared Pulse Schemes CSV\\\\10nano\\\\SegmentA_30000000_25.csv',\n",
                            " 'Pulse File Location, at step 26': 'D:\\\\Alejandro\\\\Pulses\\\\diode measurements\\\\Prepared Pulse Schemes CSV\\\\10nano\\\\SegmentA_30000000_26.csv',\n",
                            " 'Pulse File Location, at step 27': 'D:\\\\Alejandro\\\\Pulses\\\\diode measurements\\\\Prepared Pulse Schemes CSV\\\\10nano\\\\SegmentA_30000000_27.csv',\n",
                            " 'Pulse File Location, at step 28': 'D:\\\\Alejandro\\\\Pulses\\\\diode measurements\\\\Prepared Pulse Schemes CSV\\\\10nano\\\\SegmentA_30000000_28.csv',\n",
                            " 'Pulse File Location, at step 29': 'D:\\\\Alejandro\\\\Pulses\\\\diode measurements\\\\Prepared Pulse Schemes CSV\\\\10nano\\\\SegmentA_30000000_29.csv',\n",
                            " 'Pulse File Location, at step 30': 'D:\\\\Alejandro\\\\Pulses\\\\diode measurements\\\\Prepared Pulse Schemes CSV\\\\10nano\\\\SegmentA_30000000_30.csv'}"
                        ]
                    },
                    "metadata": {},
                    "execution_count": 11
                }
            ],
            "metadata": {}
        },
        {
            "cell_type": "code",
            "execution_count": 10,
            "source": [
                "sweeping_runb_10nano"
            ],
            "outputs": [
                {
                    "output_type": "execute_result",
                    "data": {
                        "text/plain": [
                            "{'Pulse File Location, at step 0': 'D:\\\\Alejandro\\\\Pulses\\\\diode measurements\\\\Prepared Pulse Schemes CSV\\\\10nano\\\\SegmentB_30000000_0.csv',\n",
                            " 'Pulse File Location, at step 1': 'D:\\\\Alejandro\\\\Pulses\\\\diode measurements\\\\Prepared Pulse Schemes CSV\\\\10nano\\\\SegmentB_30000000_1.csv',\n",
                            " 'Pulse File Location, at step 2': 'D:\\\\Alejandro\\\\Pulses\\\\diode measurements\\\\Prepared Pulse Schemes CSV\\\\10nano\\\\SegmentB_30000000_2.csv',\n",
                            " 'Pulse File Location, at step 3': 'D:\\\\Alejandro\\\\Pulses\\\\diode measurements\\\\Prepared Pulse Schemes CSV\\\\10nano\\\\SegmentB_30000000_3.csv',\n",
                            " 'Pulse File Location, at step 4': 'D:\\\\Alejandro\\\\Pulses\\\\diode measurements\\\\Prepared Pulse Schemes CSV\\\\10nano\\\\SegmentB_30000000_4.csv',\n",
                            " 'Pulse File Location, at step 5': 'D:\\\\Alejandro\\\\Pulses\\\\diode measurements\\\\Prepared Pulse Schemes CSV\\\\10nano\\\\SegmentB_30000000_5.csv',\n",
                            " 'Pulse File Location, at step 6': 'D:\\\\Alejandro\\\\Pulses\\\\diode measurements\\\\Prepared Pulse Schemes CSV\\\\10nano\\\\SegmentB_30000000_6.csv',\n",
                            " 'Pulse File Location, at step 7': 'D:\\\\Alejandro\\\\Pulses\\\\diode measurements\\\\Prepared Pulse Schemes CSV\\\\10nano\\\\SegmentB_30000000_7.csv',\n",
                            " 'Pulse File Location, at step 8': 'D:\\\\Alejandro\\\\Pulses\\\\diode measurements\\\\Prepared Pulse Schemes CSV\\\\10nano\\\\SegmentB_30000000_8.csv',\n",
                            " 'Pulse File Location, at step 9': 'D:\\\\Alejandro\\\\Pulses\\\\diode measurements\\\\Prepared Pulse Schemes CSV\\\\10nano\\\\SegmentB_30000000_9.csv',\n",
                            " 'Pulse File Location, at step 10': 'D:\\\\Alejandro\\\\Pulses\\\\diode measurements\\\\Prepared Pulse Schemes CSV\\\\10nano\\\\SegmentB_30000000_10.csv',\n",
                            " 'Pulse File Location, at step 11': 'D:\\\\Alejandro\\\\Pulses\\\\diode measurements\\\\Prepared Pulse Schemes CSV\\\\10nano\\\\SegmentB_30000000_11.csv',\n",
                            " 'Pulse File Location, at step 12': 'D:\\\\Alejandro\\\\Pulses\\\\diode measurements\\\\Prepared Pulse Schemes CSV\\\\10nano\\\\SegmentB_30000000_12.csv',\n",
                            " 'Pulse File Location, at step 13': 'D:\\\\Alejandro\\\\Pulses\\\\diode measurements\\\\Prepared Pulse Schemes CSV\\\\10nano\\\\SegmentB_30000000_13.csv',\n",
                            " 'Pulse File Location, at step 14': 'D:\\\\Alejandro\\\\Pulses\\\\diode measurements\\\\Prepared Pulse Schemes CSV\\\\10nano\\\\SegmentB_30000000_14.csv',\n",
                            " 'Pulse File Location, at step 15': 'D:\\\\Alejandro\\\\Pulses\\\\diode measurements\\\\Prepared Pulse Schemes CSV\\\\10nano\\\\SegmentB_30000000_15.csv',\n",
                            " 'Pulse File Location, at step 16': 'D:\\\\Alejandro\\\\Pulses\\\\diode measurements\\\\Prepared Pulse Schemes CSV\\\\10nano\\\\SegmentB_30000000_16.csv',\n",
                            " 'Pulse File Location, at step 17': 'D:\\\\Alejandro\\\\Pulses\\\\diode measurements\\\\Prepared Pulse Schemes CSV\\\\10nano\\\\SegmentB_30000000_17.csv',\n",
                            " 'Pulse File Location, at step 18': 'D:\\\\Alejandro\\\\Pulses\\\\diode measurements\\\\Prepared Pulse Schemes CSV\\\\10nano\\\\SegmentB_30000000_18.csv',\n",
                            " 'Pulse File Location, at step 19': 'D:\\\\Alejandro\\\\Pulses\\\\diode measurements\\\\Prepared Pulse Schemes CSV\\\\10nano\\\\SegmentB_30000000_19.csv',\n",
                            " 'Pulse File Location, at step 20': 'D:\\\\Alejandro\\\\Pulses\\\\diode measurements\\\\Prepared Pulse Schemes CSV\\\\10nano\\\\SegmentB_30000000_20.csv',\n",
                            " 'Pulse File Location, at step 21': 'D:\\\\Alejandro\\\\Pulses\\\\diode measurements\\\\Prepared Pulse Schemes CSV\\\\10nano\\\\SegmentB_30000000_21.csv',\n",
                            " 'Pulse File Location, at step 22': 'D:\\\\Alejandro\\\\Pulses\\\\diode measurements\\\\Prepared Pulse Schemes CSV\\\\10nano\\\\SegmentB_30000000_22.csv',\n",
                            " 'Pulse File Location, at step 23': 'D:\\\\Alejandro\\\\Pulses\\\\diode measurements\\\\Prepared Pulse Schemes CSV\\\\10nano\\\\SegmentB_30000000_23.csv',\n",
                            " 'Pulse File Location, at step 24': 'D:\\\\Alejandro\\\\Pulses\\\\diode measurements\\\\Prepared Pulse Schemes CSV\\\\10nano\\\\SegmentB_30000000_24.csv',\n",
                            " 'Pulse File Location, at step 25': 'D:\\\\Alejandro\\\\Pulses\\\\diode measurements\\\\Prepared Pulse Schemes CSV\\\\10nano\\\\SegmentB_30000000_25.csv',\n",
                            " 'Pulse File Location, at step 26': 'D:\\\\Alejandro\\\\Pulses\\\\diode measurements\\\\Prepared Pulse Schemes CSV\\\\10nano\\\\SegmentB_30000000_26.csv',\n",
                            " 'Pulse File Location, at step 27': 'D:\\\\Alejandro\\\\Pulses\\\\diode measurements\\\\Prepared Pulse Schemes CSV\\\\10nano\\\\SegmentB_30000000_27.csv',\n",
                            " 'Pulse File Location, at step 28': 'D:\\\\Alejandro\\\\Pulses\\\\diode measurements\\\\Prepared Pulse Schemes CSV\\\\10nano\\\\SegmentB_30000000_28.csv',\n",
                            " 'Pulse File Location, at step 29': 'D:\\\\Alejandro\\\\Pulses\\\\diode measurements\\\\Prepared Pulse Schemes CSV\\\\10nano\\\\SegmentB_30000000_29.csv',\n",
                            " 'Pulse File Location, at step 30': 'D:\\\\Alejandro\\\\Pulses\\\\diode measurements\\\\Prepared Pulse Schemes CSV\\\\10nano\\\\SegmentB_30000000_30.csv'}"
                        ]
                    },
                    "metadata": {},
                    "execution_count": 10
                }
            ],
            "metadata": {}
        },
        {
            "cell_type": "code",
            "execution_count": 105,
            "source": [
                "PulseScheme_A_1nano"
            ],
            "outputs": [
                {
                    "output_type": "execute_result",
                    "data": {
                        "text/plain": [
                            "{'Name': 'PulseScheme_A_1nano',\n",
                            " 'Pulse Scheme': [{'Name': 'Pump_1nano',\n",
                            "   'Amplitude': 35,\n",
                            "   'Start time': 2,\n",
                            "   'End time': 2e-10,\n",
                            "   'Start Duration': 1,\n",
                            "   'End Duration': 60,\n",
                            "   'Sweep time': 0,\n",
                            "   'Sweep Duration': 0},\n",
                            "  {'Name': 'ProbeA_1nano',\n",
                            "   'Amplitude': 20,\n",
                            "   'Start time': 0,\n",
                            "   'End time': 4,\n",
                            "   'Start Duration': 1,\n",
                            "   'End Duration': 60,\n",
                            "   'Sweep time': 1,\n",
                            "   'Sweep Duration': 0}],\n",
                            " 'Number of repetitions': 80000,\n",
                            " 'Measurement file Path': 'D:\\\\Alejandro\\\\Pulses\\\\diode measurements\\\\Autocorrelation measurements\\\\1nano'}"
                        ]
                    },
                    "metadata": {},
                    "execution_count": 105
                }
            ],
            "metadata": {}
        },
        {
            "cell_type": "code",
            "execution_count": 106,
            "source": [
                "M8190A.write('SEQ:DEL:ALL')"
            ],
            "outputs": [
                {
                    "output_type": "execute_result",
                    "data": {
                        "text/plain": [
                            "12"
                        ]
                    },
                    "metadata": {},
                    "execution_count": 106
                }
            ],
            "metadata": {}
        },
        {
            "cell_type": "markdown",
            "source": [
                "# Measurement"
            ],
            "metadata": {}
        },
        {
            "cell_type": "code",
            "execution_count": 107,
            "source": [
                "Lock_In_Settings = {\r\n",
                "'Time Constant' : '100ms',\r\n",
                "'Sensitivity' : '500 microVolts',\r\n",
                "'Reserve' : 'Normal',\r\n",
                "'db' : 24,\r\n",
                "'Modulation': '100Hz'\r\n",
                "}"
            ],
            "outputs": [],
            "metadata": {}
        },
        {
            "cell_type": "code",
            "execution_count": 54,
            "source": [
                "playing_time = 10 #in seconds\r\n",
                "\r\n",
                "Diode_Signal, averaged_data = Measurement_Autocorrelation_voltage(M8190A,DAQ_Settings1,1000, playing_time ,sweeping_runa_1nano,sweeping_runb_1nano,PulseScheme_A_1nano['Measurement file Path'],Lock_In_Settings)"
            ],
            "outputs": [
                {
                    "output_type": "error",
                    "ename": "NameError",
                    "evalue": "name 'sweeping_runa_1nano' is not defined",
                    "traceback": [
                        "\u001b[1;31m---------------------------------------------------------------------------\u001b[0m",
                        "\u001b[1;31mNameError\u001b[0m                                 Traceback (most recent call last)",
                        "\u001b[1;32m<ipython-input-54-ff87c410f162>\u001b[0m in \u001b[0;36m<module>\u001b[1;34m\u001b[0m\n\u001b[0;32m      1\u001b[0m \u001b[0mplaying_time\u001b[0m \u001b[1;33m=\u001b[0m \u001b[1;36m10\u001b[0m \u001b[1;31m#in seconds\u001b[0m\u001b[1;33m\u001b[0m\u001b[1;33m\u001b[0m\u001b[0m\n\u001b[0;32m      2\u001b[0m \u001b[1;33m\u001b[0m\u001b[0m\n\u001b[1;32m----> 3\u001b[1;33m \u001b[0mDiode_Signal\u001b[0m\u001b[1;33m,\u001b[0m \u001b[0maveraged_data\u001b[0m \u001b[1;33m=\u001b[0m \u001b[0mMeasurement_Autocorrelation_voltage\u001b[0m\u001b[1;33m(\u001b[0m\u001b[0mM8190A\u001b[0m\u001b[1;33m,\u001b[0m\u001b[0mDAQ_Settings1\u001b[0m\u001b[1;33m,\u001b[0m\u001b[1;36m1000\u001b[0m\u001b[1;33m,\u001b[0m \u001b[0mplaying_time\u001b[0m \u001b[1;33m,\u001b[0m\u001b[0msweeping_runa_1nano\u001b[0m\u001b[1;33m,\u001b[0m\u001b[0msweeping_runb_1nano\u001b[0m\u001b[1;33m,\u001b[0m\u001b[0mPulseScheme_A_1nano\u001b[0m\u001b[1;33m[\u001b[0m\u001b[1;34m'Measurement file Path'\u001b[0m\u001b[1;33m]\u001b[0m\u001b[1;33m,\u001b[0m\u001b[0mLock_In_Settings\u001b[0m\u001b[1;33m)\u001b[0m\u001b[1;33m\u001b[0m\u001b[1;33m\u001b[0m\u001b[0m\n\u001b[0m",
                        "\u001b[1;31mNameError\u001b[0m: name 'sweeping_runa_1nano' is not defined"
                    ]
                }
            ],
            "metadata": {}
        },
        {
            "cell_type": "code",
            "execution_count": 109,
            "source": [
                "fig,ax= plt.subplots()\r\n",
                "ax.grid(True)\r\n",
                "for i in range(0,len(Diode_Signal)):\r\n",
                "    plt.plot(Diode_Signal[i][1],Diode_Signal[i][0],label= 'Step {st}'.format(st = i ))\r\n",
                "\r\n",
                "ax.set_ylabel(r'V  [V]')\r\n",
                "ax.set_xlabel('t  [s]')\r\n",
                "ax.set_title(r' Diode Signal at Different Steps,  {b} Samples, 1 nano s probe duration'.format(b = len(Diode_Signal[0][1]) ))\r\n",
                "#ax.legend(bbox_to_anchor=(1.05, 1), loc='upper left', borderaxespad=0.)\r\n",
                "#ax.legend(loc=0)\r\n",
                "plt.show()\r\n",
                "fig.savefig(r'{loc}\\Diode Signal time cstant = {a}, sensitivity {b},{c} daqseconds, 5ms scheme, probe duration 1 nano,31 steps, no legend,6Ghz .jpeg'.format(loc = PulseScheme_A_1nano['Measurement file Path'],a = Lock_In_Settings['Time Constant'], b = Lock_In_Settings['Sensitivity'], c = playing_time),bbox_inches='tight')"
            ],
            "outputs": [
                {
                    "output_type": "display_data",
                    "data": {
                        "image/png": "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",
                        "text/plain": [
                            "<Figure size 432x288 with 1 Axes>"
                        ]
                    },
                    "metadata": {
                        "needs_background": "light"
                    }
                }
            ],
            "metadata": {}
        },
        {
            "cell_type": "code",
            "execution_count": 110,
            "source": [
                "time_delay = np.linspace(-2,2,31)"
            ],
            "outputs": [],
            "metadata": {}
        },
        {
            "cell_type": "code",
            "execution_count": 111,
            "source": [
                "#change this to V regime\r\n",
                "fig,axes = plt.subplots()\r\n",
                "\r\n",
                "axes.grid(True)\r\n",
                "\r\n",
                "plt.plot(time_delay,averaged_data,label=r'1ns Probe Width ',color='orange')\r\n",
                "#plt.plot(tm,pul,label = '{a} samples'.format(a = len(pul)))\r\n",
                "\r\n",
                "axes.set_xlabel(r'time delay [ns]')\r\n",
                "axes.set_ylabel(r'Diode Signal [V]')\r\n",
                "axes.set_title('Auto-Correlation 31 steps ')\r\n",
                "\r\n",
                "axes.legend(loc = 0)\r\n",
                "plt.show()\r\n",
                "\r\n",
                "fig.savefig(r'{loc}\\Autocorrelation function 31 steps probes 5ms length tc = {a}, sens {b}, {c}s DAQ 6Ghz.jpeg'.format(loc = PulseScheme_A_1nano['Measurement file Path'],a = Lock_In_Settings['Time Constant'], b = Lock_In_Settings['Sensitivity'], c = playing_time ))"
            ],
            "outputs": [
                {
                    "output_type": "display_data",
                    "data": {
                        "image/png": "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",
                        "text/plain": [
                            "<Figure size 432x288 with 1 Axes>"
                        ]
                    },
                    "metadata": {
                        "needs_background": "light"
                    }
                }
            ],
            "metadata": {}
        },
        {
            "cell_type": "markdown",
            "source": [
                "# Aux Settings Amp = 170 mv and offset = 10mV\r\n",
                "# main settings Amp = 700mv and Offset =  30mv ?\r\n",
                "trigged:  mrk ampl = 3.56V, off = -1.56V with;\r\n",
                "off: mrkr ampl = 0, offset = -1.52V\r\n",
                "\r\n"
            ],
            "metadata": {}
        },
        {
            "cell_type": "markdown",
            "source": [
                "# Aux Settings Amp = 40 mv and offset = 0 V\r\n",
                "\r\n",
                "# main settings Amp = 700mv and Offset =  0 V\r\n",
                "trigged:  mrk ampl = 1V, off = -500mV ;\r\n",
                "\r\n",
                "off: mrkr ampl = 0, offset = -500mV\r\n",
                "\r\n"
            ],
            "metadata": {}
        },
        {
            "cell_type": "markdown",
            "source": [
                "# Hephaestus Vault"
            ],
            "metadata": {}
        },
        {
            "cell_type": "markdown",
            "source": [
                "Opt. func receives Modulation Freq and number of repetitions, needs to then pick the best values for number of samples and sampling frec (within the range) which gives the desire modulation"
            ],
            "metadata": {}
        },
        {
            "cell_type": "code",
            "execution_count": 1,
            "source": [
                "def div(samples):\r\n",
                "    \"\"\" \r\n",
                "    Checks whether a number of samples is ddivisible by the granularity of 48\r\n",
                "    \r\n",
                "    samples: int, number of samples to be checked\r\n",
                "    \"\"\"\r\n",
                "    statement = samples % 48 == 0\r\n",
                "\r\n",
                "    return statement"
            ],
            "outputs": [],
            "metadata": {}
        },
        {
            "cell_type": "markdown",
            "source": [
                "Frequency Range = (125e6,8e9)"
            ],
            "metadata": {}
        },
        {
            "cell_type": "code",
            "execution_count": 15,
            "source": [
                "def div_test(sampling_frequency,time_int):\r\n",
                "    \"\"\" \r\n",
                "    \r\n",
                "    \r\n",
                "    \r\n",
                "    \"\"\"\r\n",
                "    samples = (sampling_frequency * time_int)\r\n",
                "    \r\n",
                "\r\n",
                "    statement = samples % 48 == 0\r\n",
                "\r\n",
                "    return statement,samples"
            ],
            "outputs": [],
            "metadata": {}
        },
        {
            "cell_type": "code",
            "execution_count": 30,
            "source": [
                "def div_test1(sampling_frequency,time_int):\r\n",
                "    \"\"\" \r\n",
                "    \r\n",
                "    \r\n",
                "    \r\n",
                "    \"\"\"\r\n",
                "    samples = (sampling_frequency * time_int)\r\n",
                "    \r\n",
                "    if div(samples) == True:\r\n",
                "\r\n",
                "        return samples\r\n",
                "\r\n",
                "    else:\r\n",
                "\r\n",
                "        sampless = Granularity(samples)\r\n",
                "\r\n",
                "        return sampless\r\n"
            ],
            "outputs": [],
            "metadata": {}
        },
        {
            "cell_type": "code",
            "execution_count": 34,
            "source": [
                "2972160000 * 0.005555555555555556"
            ],
            "outputs": [
                {
                    "output_type": "execute_result",
                    "data": {
                        "text/plain": [
                            "16512000.0"
                        ]
                    },
                    "metadata": {},
                    "execution_count": 34
                }
            ],
            "metadata": {}
        },
        {
            "cell_type": "code",
            "execution_count": 32,
            "source": [
                "div_test1(2972160000,0.005555555555555556)"
            ],
            "outputs": [
                {
                    "output_type": "execute_result",
                    "data": {
                        "text/plain": [
                            "16512000.0"
                        ]
                    },
                    "metadata": {},
                    "execution_count": 32
                }
            ],
            "metadata": {}
        },
        {
            "cell_type": "code",
            "execution_count": 35,
            "source": [
                "2064/2972160000"
            ],
            "outputs": [
                {
                    "output_type": "execute_result",
                    "data": {
                        "text/plain": [
                            "6.944444444444445e-07"
                        ]
                    },
                    "metadata": {},
                    "execution_count": 35
                }
            ],
            "metadata": {}
        },
        {
            "cell_type": "code",
            "execution_count": 17,
            "source": [
                "def div_test_mod(sampling_freq,modulation):\r\n",
                "    \"\"\"\r\n",
                "    \r\n",
                "    \r\n",
                "    \r\n",
                "    \"\"\"\r\n",
                "    cycle_length = cycle_time(modulation)\r\n",
                "\r\n",
                "    condition = div_test(sampling_freq,cycle_length)\r\n",
                "\r\n",
                "    return condition\r\n"
            ],
            "outputs": [],
            "metadata": {}
        },
        {
            "cell_type": "code",
            "execution_count": 27,
            "source": [
                "div_test_mod(2972160000,2064)"
            ],
            "outputs": [
                {
                    "output_type": "execute_result",
                    "data": {
                        "text/plain": [
                            "True"
                        ]
                    },
                    "metadata": {},
                    "execution_count": 27
                }
            ],
            "metadata": {}
        },
        {
            "cell_type": "code",
            "execution_count": 4,
            "source": [
                "def cycle_time(modulation):\r\n",
                "    \"\"\" given a modulation, calculates and returns it's correspondant cycle A time length in seconds\r\n",
                "    \r\n",
                "    \r\n",
                "        modulation: int, modulation in Herz\r\n",
                "    \"\"\"\r\n",
                "    complete_time_length = 1/modulation\r\n",
                "    cycle_time = complete_time_length/2\r\n",
                "\r\n",
                "    return cycle_time"
            ],
            "outputs": [],
            "metadata": {}
        },
        {
            "cell_type": "code",
            "execution_count": null,
            "source": [
                "def Sampling_Frequency()"
            ],
            "outputs": [],
            "metadata": {}
        },
        {
            "cell_type": "code",
            "execution_count": 22,
            "source": [
                "(cycle_time(45.45) * 1000002240) % 48 == 0\r\n"
            ],
            "outputs": [
                {
                    "output_type": "execute_result",
                    "data": {
                        "text/plain": [
                            "False"
                        ]
                    },
                    "metadata": {},
                    "execution_count": 22
                }
            ],
            "metadata": {}
        },
        {
            "cell_type": "code",
            "execution_count": 10,
            "source": [
                "Sr_range = np.arange(125e6,8e9+1,1,dtype=int)"
            ],
            "outputs": [],
            "metadata": {}
        },
        {
            "cell_type": "code",
            "execution_count": null,
            "source": [
                "np.arange(4,5)"
            ],
            "outputs": [],
            "metadata": {}
        },
        {
            "cell_type": "code",
            "execution_count": 7,
            "source": [
                "min(125e6,8e9)"
            ],
            "outputs": [
                {
                    "output_type": "execute_result",
                    "data": {
                        "text/plain": [
                            "125000000.0"
                        ]
                    },
                    "metadata": {},
                    "execution_count": 7
                }
            ],
            "metadata": {}
        },
        {
            "cell_type": "code",
            "execution_count": 26,
            "source": [
                "(cycle_time(45.45) * 1000002240) % 48 == 0"
            ],
            "outputs": [
                {
                    "output_type": "execute_result",
                    "data": {
                        "text/plain": [
                            "False"
                        ]
                    },
                    "metadata": {},
                    "execution_count": 26
                }
            ],
            "metadata": {}
        },
        {
            "cell_type": "code",
            "execution_count": 25,
            "source": [
                "min(i for i in range(125000000,8000000000) if div_test_mod(i,45.45) == True)"
            ],
            "outputs": [
                {
                    "output_type": "error",
                    "ename": "KeyboardInterrupt",
                    "evalue": "",
                    "traceback": [
                        "\u001b[1;31m---------------------------------------------------------------------------\u001b[0m",
                        "\u001b[1;31mKeyboardInterrupt\u001b[0m                         Traceback (most recent call last)",
                        "\u001b[1;32m<ipython-input-25-cf72f289f5b9>\u001b[0m in \u001b[0;36m<module>\u001b[1;34m\u001b[0m\n\u001b[1;32m----> 1\u001b[1;33m \u001b[0mmin\u001b[0m\u001b[1;33m(\u001b[0m\u001b[0mi\u001b[0m \u001b[1;32mfor\u001b[0m \u001b[0mi\u001b[0m \u001b[1;32min\u001b[0m \u001b[0mrange\u001b[0m\u001b[1;33m(\u001b[0m\u001b[1;36m125000000\u001b[0m\u001b[1;33m,\u001b[0m\u001b[1;36m8000000000\u001b[0m\u001b[1;33m)\u001b[0m \u001b[1;32mif\u001b[0m \u001b[0mdiv_test_mod\u001b[0m\u001b[1;33m(\u001b[0m\u001b[0mi\u001b[0m\u001b[1;33m,\u001b[0m\u001b[1;36m45.45\u001b[0m\u001b[1;33m)\u001b[0m \u001b[1;33m==\u001b[0m \u001b[1;32mTrue\u001b[0m\u001b[1;33m)\u001b[0m\u001b[1;33m\u001b[0m\u001b[1;33m\u001b[0m\u001b[0m\n\u001b[0m",
                        "\u001b[1;32m<ipython-input-25-cf72f289f5b9>\u001b[0m in \u001b[0;36m<genexpr>\u001b[1;34m(.0)\u001b[0m\n\u001b[1;32m----> 1\u001b[1;33m \u001b[0mmin\u001b[0m\u001b[1;33m(\u001b[0m\u001b[0mi\u001b[0m \u001b[1;32mfor\u001b[0m \u001b[0mi\u001b[0m \u001b[1;32min\u001b[0m \u001b[0mrange\u001b[0m\u001b[1;33m(\u001b[0m\u001b[1;36m125000000\u001b[0m\u001b[1;33m,\u001b[0m\u001b[1;36m8000000000\u001b[0m\u001b[1;33m)\u001b[0m \u001b[1;32mif\u001b[0m \u001b[0mdiv_test_mod\u001b[0m\u001b[1;33m(\u001b[0m\u001b[0mi\u001b[0m\u001b[1;33m,\u001b[0m\u001b[1;36m45.45\u001b[0m\u001b[1;33m)\u001b[0m \u001b[1;33m==\u001b[0m \u001b[1;32mTrue\u001b[0m\u001b[1;33m)\u001b[0m\u001b[1;33m\u001b[0m\u001b[1;33m\u001b[0m\u001b[0m\n\u001b[0m",
                        "\u001b[1;32m<ipython-input-17-e266341a30dd>\u001b[0m in \u001b[0;36mdiv_test_mod\u001b[1;34m(sampling_freq, modulation)\u001b[0m\n\u001b[0;32m      7\u001b[0m     \u001b[0mcycle_length\u001b[0m \u001b[1;33m=\u001b[0m \u001b[0mcycle_time\u001b[0m\u001b[1;33m(\u001b[0m\u001b[0mmodulation\u001b[0m\u001b[1;33m)\u001b[0m\u001b[1;33m\u001b[0m\u001b[1;33m\u001b[0m\u001b[0m\n\u001b[0;32m      8\u001b[0m \u001b[1;33m\u001b[0m\u001b[0m\n\u001b[1;32m----> 9\u001b[1;33m     \u001b[0mcondition\u001b[0m \u001b[1;33m=\u001b[0m \u001b[0mdiv_test\u001b[0m\u001b[1;33m(\u001b[0m\u001b[0msampling_freq\u001b[0m\u001b[1;33m,\u001b[0m\u001b[0mcycle_length\u001b[0m\u001b[1;33m)\u001b[0m\u001b[1;33m\u001b[0m\u001b[1;33m\u001b[0m\u001b[0m\n\u001b[0m\u001b[0;32m     10\u001b[0m \u001b[1;33m\u001b[0m\u001b[0m\n\u001b[0;32m     11\u001b[0m     \u001b[1;32mreturn\u001b[0m \u001b[0mcondition\u001b[0m\u001b[1;33m\u001b[0m\u001b[1;33m\u001b[0m\u001b[0m\n",
                        "\u001b[1;32m<ipython-input-15-ebaa7625e82e>\u001b[0m in \u001b[0;36mdiv_test\u001b[1;34m(sampling_frequency, time_int)\u001b[0m\n\u001b[0;32m      5\u001b[0m \u001b[1;33m\u001b[0m\u001b[0m\n\u001b[0;32m      6\u001b[0m     \"\"\"\n\u001b[1;32m----> 7\u001b[1;33m     \u001b[0msamples\u001b[0m \u001b[1;33m=\u001b[0m \u001b[0mint\u001b[0m\u001b[1;33m(\u001b[0m\u001b[0msampling_frequency\u001b[0m \u001b[1;33m*\u001b[0m \u001b[0mtime_int\u001b[0m\u001b[1;33m)\u001b[0m\u001b[1;33m\u001b[0m\u001b[1;33m\u001b[0m\u001b[0m\n\u001b[0m\u001b[0;32m      8\u001b[0m \u001b[1;33m\u001b[0m\u001b[0m\n\u001b[0;32m      9\u001b[0m     \u001b[0mstatement\u001b[0m \u001b[1;33m=\u001b[0m \u001b[0msamples\u001b[0m \u001b[1;33m%\u001b[0m \u001b[1;36m48\u001b[0m \u001b[1;33m==\u001b[0m \u001b[1;36m0\u001b[0m\u001b[1;33m\u001b[0m\u001b[1;33m\u001b[0m\u001b[0m\n",
                        "\u001b[1;31mKeyboardInterrupt\u001b[0m: "
                    ]
                }
            ],
            "metadata": {}
        },
        {
            "cell_type": "code",
            "execution_count": 36,
            "source": [
                "Sr = 2972160000\r\n",
                "sam = 2064\r\n",
                "\r\n",
                "tim = sam/Sr"
            ],
            "outputs": [],
            "metadata": {}
        },
        {
            "cell_type": "code",
            "execution_count": 37,
            "source": [
                "tim"
            ],
            "outputs": [
                {
                    "output_type": "execute_result",
                    "data": {
                        "text/plain": [
                            "6.944444444444445e-07"
                        ]
                    },
                    "metadata": {},
                    "execution_count": 37
                }
            ],
            "metadata": {}
        },
        {
            "cell_type": "code",
            "execution_count": 38,
            "source": [
                "full_cycle = 11e-3\r\n",
                "loop_number = 10\r\n",
                "part_cycle = full_cycle / loop_number\r\n",
                "part_cycle"
            ],
            "outputs": [
                {
                    "output_type": "execute_result",
                    "data": {
                        "text/plain": [
                            "0.0010999999999999998"
                        ]
                    },
                    "metadata": {},
                    "execution_count": 38
                }
            ],
            "metadata": {}
        },
        {
            "cell_type": "code",
            "execution_count": 39,
            "source": [
                "interval = part_cycle * 1e6 #micro\r\n",
                "interval"
            ],
            "outputs": [
                {
                    "output_type": "execute_result",
                    "data": {
                        "text/plain": [
                            "1099.9999999999998"
                        ]
                    },
                    "metadata": {},
                    "execution_count": 39
                }
            ],
            "metadata": {}
        },
        {
            "cell_type": "code",
            "execution_count": 44,
            "source": [
                "mod = 1/full_cycle\r\n",
                "mod"
            ],
            "outputs": [
                {
                    "output_type": "execute_result",
                    "data": {
                        "text/plain": [
                            "181.81818181818184"
                        ]
                    },
                    "metadata": {},
                    "execution_count": 44
                }
            ],
            "metadata": {}
        },
        {
            "cell_type": "code",
            "execution_count": 54,
            "source": [
                "#tilecycle \r\n",
                "def Tc(modulation,loop):\r\n",
                "    \"\"\"\r\n",
                "    \r\n",
                "    \r\n",
                "    \"\"\"\r\n",
                "\r\n",
                "    tiled_cycle = (1/2) * (1/ (loop * modulation) )\r\n",
                "\r\n",
                "    return tiled_cycle"
            ],
            "outputs": [],
            "metadata": {}
        },
        {
            "cell_type": "code",
            "execution_count": 76,
            "source": [
                "a = Tc(45,1)\r\n",
                "\r\n",
                "Param(a,1e-6)"
            ],
            "outputs": [
                {
                    "output_type": "execute_result",
                    "data": {
                        "text/plain": [
                            "(11111.111111111111, 1000000.0)"
                        ]
                    },
                    "metadata": {},
                    "execution_count": 76
                }
            ],
            "metadata": {}
        },
        {
            "cell_type": "code",
            "execution_count": 73,
            "source": [
                "Tc(45,1)"
            ],
            "outputs": [
                {
                    "output_type": "execute_result",
                    "data": {
                        "text/plain": [
                            "0.011111111111111112"
                        ]
                    },
                    "metadata": {},
                    "execution_count": 73
                }
            ],
            "metadata": {}
        },
        {
            "cell_type": "code",
            "execution_count": 69,
            "source": [
                "def t_arb(sampling_frequency):\r\n",
                "\r\n",
                "    \"test this\"\r\n",
                "\r\n",
                "    time = 2064 / sampling_frequency\r\n",
                "\r\n",
                "    return time"
            ],
            "outputs": [],
            "metadata": {}
        },
        {
            "cell_type": "code",
            "execution_count": 71,
            "source": [
                "Tc(90,8000)"
            ],
            "outputs": [
                {
                    "output_type": "execute_result",
                    "data": {
                        "text/plain": [
                            "6.944444444444445e-07"
                        ]
                    },
                    "metadata": {},
                    "execution_count": 71
                }
            ],
            "metadata": {}
        },
        {
            "cell_type": "code",
            "execution_count": 70,
            "source": [
                "t_arb(2972160000)"
            ],
            "outputs": [
                {
                    "output_type": "execute_result",
                    "data": {
                        "text/plain": [
                            "6.944444444444445e-07"
                        ]
                    },
                    "metadata": {},
                    "execution_count": 70
                }
            ],
            "metadata": {}
        },
        {
            "cell_type": "code",
            "execution_count": 59,
            "source": [
                "def div2(samples):\r\n",
                "    \"\"\" \r\n",
                "    Checks whether a number of samples is ddivisible by the granularity of 48\r\n",
                "    \r\n",
                "    samples: int, number of samples to be checked\r\n",
                "    \"\"\"\r\n",
                "    if samples % 48 == 0:\r\n",
                "\r\n",
                "        return True\r\n",
                "    \r\n",
                "    else:\r\n",
                "\r\n",
                "        return False"
            ],
            "outputs": [],
            "metadata": {}
        },
        {
            "cell_type": "code",
            "execution_count": 63,
            "source": [
                "div2(2064)"
            ],
            "outputs": [
                {
                    "output_type": "execute_result",
                    "data": {
                        "text/plain": [
                            "True"
                        ]
                    },
                    "metadata": {},
                    "execution_count": 63
                }
            ],
            "metadata": {}
        },
        {
            "cell_type": "code",
            "execution_count": 64,
            "source": [
                "test_freq = [2972160002,2972160000,2972160001]"
            ],
            "outputs": [],
            "metadata": {}
        },
        {
            "cell_type": "code",
            "execution_count": 86,
            "source": [
                "a"
            ],
            "outputs": [
                {
                    "output_type": "execute_result",
                    "data": {
                        "text/plain": [
                            "0.011111111111111112"
                        ]
                    },
                    "metadata": {},
                    "execution_count": 86
                }
            ],
            "metadata": {}
        },
        {
            "cell_type": "code",
            "execution_count": 80,
            "source": [
                "samps, freq1 = Param(a,10e-6)"
            ],
            "outputs": [],
            "metadata": {}
        },
        {
            "cell_type": "code",
            "execution_count": 84,
            "source": [
                "samps"
            ],
            "outputs": [
                {
                    "output_type": "execute_result",
                    "data": {
                        "text/plain": [
                            "1111.111111111111"
                        ]
                    },
                    "metadata": {},
                    "execution_count": 84
                }
            ],
            "metadata": {}
        },
        {
            "cell_type": "code",
            "execution_count": 82,
            "source": [
                "samps % 48 == 0 "
            ],
            "outputs": [
                {
                    "output_type": "execute_result",
                    "data": {
                        "text/plain": [
                            "False"
                        ]
                    },
                    "metadata": {},
                    "execution_count": 82
                }
            ],
            "metadata": {}
        },
        {
            "cell_type": "code",
            "execution_count": 85,
            "source": [
                "sams_gran = Granularity(samps)\r\n",
                "sams_gran"
            ],
            "outputs": [
                {
                    "output_type": "execute_result",
                    "data": {
                        "text/plain": [
                            "1152"
                        ]
                    },
                    "metadata": {},
                    "execution_count": 85
                }
            ],
            "metadata": {}
        },
        {
            "cell_type": "code",
            "execution_count": 87,
            "source": [
                "new_sr = sams_gran/a"
            ],
            "outputs": [],
            "metadata": {}
        },
        {
            "cell_type": "code",
            "execution_count": 88,
            "source": [
                "new_sr"
            ],
            "outputs": [
                {
                    "output_type": "execute_result",
                    "data": {
                        "text/plain": [
                            "103680.0"
                        ]
                    },
                    "metadata": {},
                    "execution_count": 88
                }
            ],
            "metadata": {}
        },
        {
            "cell_type": "code",
            "execution_count": 89,
            "source": [
                "freq1"
            ],
            "outputs": [
                {
                    "output_type": "execute_result",
                    "data": {
                        "text/plain": [
                            "99999.99999999999"
                        ]
                    },
                    "metadata": {},
                    "execution_count": 89
                }
            ],
            "metadata": {}
        },
        {
            "cell_type": "code",
            "execution_count": 78,
            "source": [
                "1/10e-6"
            ],
            "outputs": [
                {
                    "output_type": "execute_result",
                    "data": {
                        "text/plain": [
                            "99999.99999999999"
                        ]
                    },
                    "metadata": {},
                    "execution_count": 78
                }
            ],
            "metadata": {}
        },
        {
            "cell_type": "code",
            "execution_count": null,
            "source": [],
            "outputs": [],
            "metadata": {}
        },
        {
            "cell_type": "code",
            "execution_count": null,
            "source": [],
            "outputs": [],
            "metadata": {}
        },
        {
            "cell_type": "code",
            "execution_count": 90,
            "source": [
                "samps, freq1 = Param(a,10e-9)"
            ],
            "outputs": [],
            "metadata": {}
        },
        {
            "cell_type": "code",
            "execution_count": 91,
            "source": [
                "samps"
            ],
            "outputs": [
                {
                    "output_type": "execute_result",
                    "data": {
                        "text/plain": [
                            "1111111.1111111112"
                        ]
                    },
                    "metadata": {},
                    "execution_count": 91
                }
            ],
            "metadata": {}
        },
        {
            "cell_type": "code",
            "execution_count": 92,
            "source": [
                "samps % 48 == 0 "
            ],
            "outputs": [
                {
                    "output_type": "execute_result",
                    "data": {
                        "text/plain": [
                            "False"
                        ]
                    },
                    "metadata": {},
                    "execution_count": 92
                }
            ],
            "metadata": {}
        },
        {
            "cell_type": "code",
            "execution_count": 93,
            "source": [
                "sams_gran = Granularity(samps)\r\n",
                "sams_gran"
            ],
            "outputs": [
                {
                    "output_type": "execute_result",
                    "data": {
                        "text/plain": [
                            "1111152"
                        ]
                    },
                    "metadata": {},
                    "execution_count": 93
                }
            ],
            "metadata": {}
        },
        {
            "cell_type": "code",
            "execution_count": 95,
            "source": [
                "new_sr = sams_gran/a\r\n",
                "\r\n",
                "new_sr"
            ],
            "outputs": [
                {
                    "output_type": "execute_result",
                    "data": {
                        "text/plain": [
                            "100003680.0"
                        ]
                    },
                    "metadata": {},
                    "execution_count": 95
                }
            ],
            "metadata": {}
        },
        {
            "cell_type": "code",
            "execution_count": 96,
            "source": [
                "100003680"
            ],
            "outputs": [
                {
                    "output_type": "execute_result",
                    "data": {
                        "text/plain": [
                            "100003680"
                        ]
                    },
                    "metadata": {},
                    "execution_count": 96
                }
            ],
            "metadata": {}
        },
        {
            "cell_type": "code",
            "execution_count": null,
            "source": [
                "freq1"
            ],
            "outputs": [
                {
                    "data": {
                        "text/plain": [
                            "99999.99999999999"
                        ]
                    },
                    "metadata": {},
                    "output_type": "display_data"
                }
            ],
            "metadata": {}
        },
        {
            "cell_type": "code",
            "execution_count": null,
            "source": [
                "1/10e-6"
            ],
            "outputs": [
                {
                    "data": {
                        "text/plain": [
                            "99999.99999999999"
                        ]
                    },
                    "metadata": {},
                    "output_type": "display_data"
                }
            ],
            "metadata": {}
        },
        {
            "cell_type": "code",
            "execution_count": null,
            "source": [
                "def Granularity(samples):\r\n",
                "    \"\"\" This function takes the number of samples and converts it to the closest number that satisfies the granularity\r\n",
                "        of 48  \r\n",
                "    \"\"\"\r\n",
                "    \r\n",
                "    x = int((samples /48)+1)* 48\r\n",
                "    \r\n",
                "    return x"
            ],
            "outputs": [],
            "metadata": {}
        },
        {
            "cell_type": "code",
            "execution_count": null,
            "source": [
                "#tilecycle \r\n",
                "def Tc(modulation,loop):\r\n",
                "    \"\"\"\r\n",
                "    \r\n",
                "    \r\n",
                "    \"\"\"\r\n",
                "\r\n",
                "    tiled_cycle = (1/2) * (1/ (loop * modulation) )\r\n",
                "\r\n",
                "    return tiled_cycle"
            ],
            "outputs": [],
            "metadata": {}
        },
        {
            "cell_type": "code",
            "execution_count": null,
            "source": [
                "def div(samples):\r\n",
                "    \"\"\" \r\n",
                "    Checks whether a number of samples is ddivisible by the granularity of 48\r\n",
                "    \r\n",
                "    samples: int, number of samples to be checked\r\n",
                "    \"\"\"\r\n",
                "    statement = samples % 48 == 0\r\n",
                "\r\n",
                "    return statement"
            ],
            "outputs": [],
            "metadata": {}
        },
        {
            "cell_type": "code",
            "execution_count": 100,
            "source": [
                "def Adj(resolution,modulation,repetitions):\r\n",
                "    \"\"\"\r\n",
                "    \r\n",
                "    \"\"\"\r\n",
                "\r\n",
                "    time_length_segment = Tc(modulation,repetitions)\r\n",
                "\r\n",
                "    samples0,sampling_frequency0 = Param(time_length_segment,resolution)\r\n",
                "\r\n",
                "    if div(samples0) == True:\r\n",
                "        return samples0,sampling_frequency0\r\n",
                "\r\n",
                "    else:\r\n",
                "        adjusted_samples = Granularity(samples0)\r\n",
                "        adjusted_sr = int(adjusted_samples/time_length_segment)\r\n",
                "        return adjusted_samples, adjusted_sr\r\n",
                "        \r\n",
                "\r\n",
                "    "
            ],
            "outputs": [],
            "metadata": {}
        },
        {
            "cell_type": "code",
<<<<<<< Updated upstream
            "execution_count": 102,
            "source": [
                "Adj(1e-9,45,100000)"
=======
<<<<<<< HEAD
            "execution_count": 105,
            "source": [
                "Adj(100e-9,45,8)"
=======
            "execution_count": 102,
            "source": [
                "Adj(1e-9,45,100000)"
>>>>>>> 909631f9ecad18aa76ae77209ab2629304dbc0fc
>>>>>>> Stashed changes
            ],
            "outputs": [
                {
                    "output_type": "execute_result",
                    "data": {
                        "text/plain": [
<<<<<<< Updated upstream
=======
<<<<<<< HEAD
                            "(13920, 10022400)"
                        ]
                    },
                    "metadata": {},
                    "execution_count": 105
=======
>>>>>>> Stashed changes
                            "(144, 1296000000)"
                        ]
                    },
                    "metadata": {},
                    "execution_count": 102
<<<<<<< Updated upstream
=======
>>>>>>> 909631f9ecad18aa76ae77209ab2629304dbc0fc
>>>>>>> Stashed changes
                }
            ],
            "metadata": {}
        },
        {
            "cell_type": "code",
            "execution_count": 103,
            "source": [
                "110/2"
            ],
            "outputs": [
                {
                    "output_type": "execute_result",
                    "data": {
                        "text/plain": [
                            "55.0"
                        ]
                    },
                    "metadata": {},
                    "execution_count": 103
                }
            ],
            "metadata": {}
        },
        {
            "cell_type": "code",
            "execution_count": null,
            "source": [],
            "outputs": [],
            "metadata": {}
        }
    ],
    "metadata": {
        "orig_nbformat": 4,
        "language_info": {
            "name": "python",
            "version": "3.8.5",
            "mimetype": "text/x-python",
            "codemirror_mode": {
                "name": "ipython",
                "version": 3
            },
            "pygments_lexer": "ipython3",
            "nbconvert_exporter": "python",
            "file_extension": ".py"
        },
        "kernelspec": {
            "name": "python3",
            "display_name": "Python 3.8.5 64-bit ('base': conda)"
        },
        "interpreter": {
            "hash": "9a32f0bf53af15acd232504180dc0ef28b8a6ac1a49da0a6c374e1f45bb445b6"
        }
    },
    "nbformat": 4,
    "nbformat_minor": 2
}