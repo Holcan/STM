{
 "cells": [
  {
   "cell_type": "code",
   "execution_count": 1,
   "source": [
    "import numpy as np\r\n",
    "from numpy import loadtxt\r\n",
    "import pandas as pd\r\n",
    "import time\r\n",
    "import matplotlib\r\n",
    "import matplotlib.pyplot as plt\r\n",
    "import pyvisa as visa\r\n",
    "from matplotlib import animation\r\n",
    "from time import sleep\r\n",
    "from matplotlib.animation import FuncAnimation\r\n",
    "#Importing the functions from the module and the pulses dictionaries\r\n",
    "from Sweeping import *\r\n",
    "from Dictionaries import *\r\n",
    "from PulseFiles import *\r\n",
    "from Instrument import *\r\n",
    "import pyqtgraph as pg \r\n",
    "import nidaqmx\r\n",
    "import pickle"
   ],
   "outputs": [],
   "metadata": {}
  },
  {
   "cell_type": "markdown",
   "source": [
    "# 50nano"
   ],
   "metadata": {}
  },
  {
   "cell_type": "code",
   "execution_count": 2,
   "source": [
    "modulation = 93 #Hz\r\n",
    "loop_number = 16000    \r\n",
    "res = 1/2972160000\r\n",
    "\r\n",
    "sam, sr , segment_length = Adj9(res,modulation,loop_number)"
   ],
   "outputs": [],
   "metadata": {}
  },
  {
   "cell_type": "code",
   "execution_count": 3,
   "source": [
    "sam"
   ],
   "outputs": [
    {
     "output_type": "execute_result",
     "data": {
      "text/plain": [
       "1008"
      ]
     },
     "metadata": {},
     "execution_count": 3
    }
   ],
   "metadata": {}
  },
  {
   "cell_type": "code",
   "execution_count": 4,
   "source": [
    "sr"
   ],
   "outputs": [
    {
     "output_type": "execute_result",
     "data": {
      "text/plain": [
       "2999808000"
      ]
     },
     "metadata": {},
     "execution_count": 4
    }
   ],
   "metadata": {}
  },
  {
   "cell_type": "code",
   "execution_count": 5,
   "source": [
    "interval = segment_length*1e9 #nano\r\n",
    "interval"
   ],
   "outputs": [
    {
     "output_type": "execute_result",
     "data": {
      "text/plain": [
       "336.02150537634407"
      ]
     },
     "metadata": {},
     "execution_count": 5
    }
   ],
   "metadata": {}
  },
  {
   "cell_type": "markdown",
   "source": [
    "# AWG and Pulse files setup"
   ],
   "metadata": {}
  },
  {
   "cell_type": "code",
   "execution_count": null,
   "source": [
    "AWG_Settings_50nano= {\r\n",
    "    'Visa Resource Name': 'TCPIP0::ibn3-036.ibn-net.kfa-juelich.de::hislip0::INSTR',\r\n",
    "    'Voltage Amplitude':150,\r\n",
    "    'Clock Sample Frecuency':2999808000,\r\n",
    "    'Output_Channel': 1,\r\n",
    "    'Mode': 'STS',\r\n",
    "    'Trigger In Threshold' : 1,\r\n",
    "    'Output Rout': 'DC', #DAC output rout only has the BNC outputs: Direct Out and (Averaged) Direct Out # DC\r\n",
    "    'Data Directory': r'D:\\Alejandro\\Pulses\\diode measurements\\Prepared Pulse Schemes CSV\\60,30\\pos\\50nano'\r\n",
    "}"
   ],
   "outputs": [],
   "metadata": {}
  },
  {
   "cell_type": "code",
   "execution_count": 7,
   "source": [
    "M8190A = VisaR(AWG_Settings_50nano,60000)"
   ],
   "outputs": [],
   "metadata": {}
  },
  {
   "cell_type": "code",
   "execution_count": 8,
   "source": [
    "M8190A.write('FREQ:RAST {a}'.format(a = sr))"
   ],
   "outputs": [
    {
     "output_type": "execute_result",
     "data": {
      "text/plain": [
       "21"
      ]
     },
     "metadata": {},
     "execution_count": 8
    }
   ],
   "metadata": {}
  },
  {
   "cell_type": "code",
   "execution_count": 8,
   "source": [
    "Initialization(M8190A,AWG_Settings_50nano)"
   ],
   "outputs": [
    {
     "output_type": "stream",
     "name": "stdout",
     "text": [
      "Instruments Sampling Frecuency set to 2.99980800000000E+09Hz\n",
      "Instruments Direct Out DC Output route Voltage set to 6.75000000000000E-01Volts\n",
      "AWG_Settings_Dict set to TRIGGERED Mode\n",
      "Trigger In threshold value set to 1.00000000000000E+00V\n"
     ]
    }
   ],
   "metadata": {}
  },
  {
   "cell_type": "code",
   "execution_count": 9,
   "source": [
    "Pump_50nano = {\r\n",
    "    'Name':'Pump_50nano',\r\n",
    "    'Amplitude': 2*60,\r\n",
    "    'Start time':100,\r\n",
    "    'End time':2e-10,\r\n",
    "    'Start Duration':50,\r\n",
    "    'End Duration':60,\r\n",
    "    'Sweep time':0,\r\n",
    "    'Sweep Duration':0\r\n",
    "}"
   ],
   "outputs": [],
   "metadata": {}
  },
  {
   "cell_type": "code",
   "execution_count": 10,
   "source": [
    "ProbeA_50nano = {\r\n",
    "    'Name':'ProbeA_50nano',\r\n",
    "    'Amplitude':2*30,\r\n",
    "    'Start time':0,\r\n",
    "    'End time':200,\r\n",
    "    'Start Duration':50,\r\n",
    "    'End Duration':60,\r\n",
    "    'Sweep time':1,\r\n",
    "    'Sweep Duration':0\r\n",
    "}"
   ],
   "outputs": [],
   "metadata": {}
  },
  {
   "cell_type": "code",
   "execution_count": 11,
   "source": [
    "ProbeB_50nano= {\r\n",
    "    'Name':'ProbeB_50nano',\r\n",
    "    'Amplitude':-2*30,\r\n",
    "    'Start time':0,\r\n",
    "    'End time':200,\r\n",
    "    'Start Duration':50,\r\n",
    "    'End Duration':60,\r\n",
    "    'Sweep time':1,\r\n",
    "    'Sweep Duration':0\r\n",
    "}"
   ],
   "outputs": [],
   "metadata": {}
  },
  {
   "cell_type": "code",
   "execution_count": 12,
   "source": [
    "ProbeB_50nano_empty= {\r\n",
    "    'Name':'ProbeB_50nano_empty',\r\n",
    "    'Amplitude':0*50,\r\n",
    "    'Start time':56,\r\n",
    "    'End time':256,\r\n",
    "    'Start Duration':50,\r\n",
    "    'End Duration':60,\r\n",
    "    'Sweep time':1,\r\n",
    "    'Sweep Duration':0\r\n",
    "}"
   ],
   "outputs": [],
   "metadata": {}
  },
  {
   "cell_type": "code",
   "execution_count": 13,
   "source": [
    "PulseScheme_A_50nano =  {\r\n",
    "    'Name' : 'PulseScheme_A_50nano',\r\n",
    "    'Pulse Scheme': [Pump_50nano,ProbeA_50nano],\r\n",
    "    'Number of repetitions': 1,\r\n",
    "    'Measurement file Path': r'D:\\Alejandro\\Pulses\\diode measurements\\Autocorrelation measurements\\60,30\\pos\\50nano'\r\n",
    "}"
   ],
   "outputs": [],
   "metadata": {}
  },
  {
   "cell_type": "code",
   "execution_count": 14,
   "source": [
    "PulseScheme_B_50nano =  {\r\n",
    "    'Name' : 'PulseScheme_B_50nano',\r\n",
    "    'Pulse Scheme': [Pump_50nano,ProbeB_50nano],\r\n",
    "    'Number of repetitions': 1,\r\n",
    "    'Measurement file Path': r'D:\\Alejandro\\Pulses\\diode measurements\\Autocorrelation measurements\\60,30\\pos\\50nano'\r\n",
    "}"
   ],
   "outputs": [],
   "metadata": {}
  },
  {
   "cell_type": "code",
   "execution_count": 15,
   "source": [
    "PulseScheme_B_50nano_empty =  {\r\n",
    "    'Name' : 'PulseScheme_B_50nano',\r\n",
    "    'Pulse Scheme': [ProbeB_50nano_empty,ProbeB_50nano_empty],\r\n",
    "    'Number of repetitions': 1,\r\n",
    "    'Measurement file Path': r'D:\\Alejandro\\Pulses\\diode measurements\\Autocorrelation measurements\\60,30\\pos\\50nano'\r\n",
    "}"
   ],
   "outputs": [],
   "metadata": {}
  },
  {
   "cell_type": "code",
   "execution_count": null,
   "source": [
    "93"
   ],
   "outputs": [],
   "metadata": {}
  },
  {
   "cell_type": "code",
   "execution_count": 87,
   "source": [
    "step = 0\r\n",
    "pul1 = Sweep_teil(PulseScheme_A_50nano,70,step,interval,sam)\r\n",
    "\r\n",
    "\r\n",
    "#Plot\r\n",
    "fig,ax= plt.subplots()\r\n",
    "ax.grid(True)\r\n",
    "\r\n",
    "plt.plot(pul1[1],pul1[0]/2,label= '{b} samples'.format(b = sam),color='red')\r\n",
    "\r\n",
    "ax.set_ylabel('V  [mV]')\r\n",
    "ax.set_xlabel(r't [ns]')\r\n",
    "ax.set_title('Cycle A at step {a}'.format(a = step )) #Voltage Offset = 3mV, Marker Ampl = 50mV \r\n",
    "#ax.legend(loc=0)\r\n",
    "#plt.legend(bbox_to_anchor=(2.05, 1), loc='upper left', borderaxespad=0.)\r\n",
    "plt.show()\r\n",
    "\r\n",
    "#fig.savefig(r'{loc}\\Cycle A, Probe width 50 nano 93 Hz mod , {a} step.jpeg'.format(loc = PulseScheme_A_50nano['Measurement file Path'], a = step),bbox_inches='tight')"
   ],
   "outputs": [
    {
     "output_type": "display_data",
     "data": {
      "image/png": "[encoded data removed]",
      "text/plain": [
       "<Figure size 432x288 with 1 Axes>"
      ]
     },
     "metadata": {
      "needs_background": "light"
     }
    }
   ],
   "metadata": {}
  },
  {
   "cell_type": "code",
   "execution_count": 88,
   "source": [
    "step = 70\r\n",
    "pul1 = Sweep_teil(PulseScheme_A_50nano,70,step,interval,sam)\r\n",
    "\r\n",
    "\r\n",
    "#Plot\r\n",
    "fig,ax= plt.subplots()\r\n",
    "ax.grid(True)\r\n",
    "\r\n",
    "plt.plot(pul1[1],pul1[0]/2,label= '{b} samples'.format(b = sam),color='red')\r\n",
    "\r\n",
    "ax.set_ylabel('V  [mV]')\r\n",
    "ax.set_xlabel(r't [ns]')\r\n",
    "ax.set_title('Cycle A at step {a}'.format(a = step )) #Voltage Offset = 3mV, Marker Ampl = 50mV \r\n",
    "#ax.legend(loc=0)\r\n",
    "#plt.legend(bbox_to_anchor=(2.05, 1), loc='upper left', borderaxespad=0.)\r\n",
    "plt.show()\r\n",
    "\r\n",
    "#fig.savefig(r'{loc}\\Cycle A, Probe width 50 nano 93 Hz mod {a} step.jpeg'.format(loc = PulseScheme_A_50nano['Measurement file Path'], a = step),bbox_inches='tight')"
   ],
   "outputs": [
    {
     "output_type": "display_data",
     "data": {
      "image/png": "[encoded data removed]",
      "text/plain": [
       "<Figure size 432x288 with 1 Axes>"
      ]
     },
     "metadata": {
      "needs_background": "light"
     }
    }
   ],
   "metadata": {}
  },
  {
   "cell_type": "code",
   "execution_count": 89,
   "source": [
    "step = 0\r\n",
    "pul1 = Sweep_teil(PulseScheme_B_50nano,70,step,interval,sam)\r\n",
    "\r\n",
    "\r\n",
    "#Plot\r\n",
    "fig,ax= plt.subplots()\r\n",
    "ax.grid(True)\r\n",
    "\r\n",
    "plt.plot(pul1[1],pul1[0]/2,label= '{b} samples'.format(b = sam),color='red')\r\n",
    "\r\n",
    "ax.set_ylabel('V  [mV]')\r\n",
    "ax.set_xlabel(r't [ns]')\r\n",
    "ax.set_title('Cycle B at step {a}'.format(a = step )) #Voltage Offset = 3mV, Marker Ampl = 50mV \r\n",
    "#ax.legend(loc=0)\r\n",
    "#plt.legend(bbox_to_anchor=(2.05, 1), loc='upper left', borderaxespad=0.)\r\n",
    "plt.show()\r\n",
    "\r\n",
    "#fig.savefig(r'{loc}\\Cycle B, Probe width 50 nano 93 Hz mod {a} step.jpeg'.format(loc = PulseScheme_A_50nano['Measurement file Path'], a = step),bbox_inches='tight')"
   ],
   "outputs": [
    {
     "output_type": "display_data",
     "data": {
      "image/png": "[encoded data removed]",
      "text/plain": [
       "<Figure size 432x288 with 1 Axes>"
      ]
     },
     "metadata": {
      "needs_background": "light"
     }
    }
   ],
   "metadata": {}
  },
  {
   "cell_type": "code",
   "execution_count": 90,
   "source": [
    "step = 70\r\n",
    "pul1 = Sweep_teil(PulseScheme_B_50nano,70,step,interval,sam)\r\n",
    "\r\n",
    "\r\n",
    "#Plot\r\n",
    "fig,ax= plt.subplots()\r\n",
    "ax.grid(True)\r\n",
    "\r\n",
    "plt.plot(pul1[1],pul1[0]/2,label= '{b} samples'.format(b = sam),color='red')\r\n",
    "\r\n",
    "ax.set_ylabel('V  [mV]')\r\n",
    "ax.set_xlabel(r't [ns]')\r\n",
    "ax.set_title('Cycle B at step {a}'.format(a = step )) #Voltage Offset = 3mV, Marker Ampl = 50mV \r\n",
    "#ax.legend(loc=0)\r\n",
    "#plt.legend(bbox_to_anchor=(2.05, 1), loc='upper left', borderaxespad=0.)\r\n",
    "plt.show()\r\n",
    "\r\n",
    "#fig.savefig(r'{loc}\\Cycle B, Probe width 50 nano93 Hz mod {a} step.jpeg'.format(loc = PulseScheme_A_50nano['Measurement file Path'], a = step),bbox_inches='tight')"
   ],
   "outputs": [
    {
     "output_type": "display_data",
     "data": {
      "image/png": "[encoded data removed]",
      "text/plain": [
       "<Figure size 432x288 with 1 Axes>"
      ]
     },
     "metadata": {
      "needs_background": "light"
     }
    }
   ],
   "metadata": {}
  },
  {
   "cell_type": "code",
   "execution_count": 21,
   "source": [
    "step = 0\r\n",
    "pul1 = Sweep_teil(PulseScheme_B_50nano_empty,70,step,interval,sam)\r\n",
    "\r\n",
    "\r\n",
    "#Plot\r\n",
    "fig,ax= plt.subplots()\r\n",
    "ax.grid(True)\r\n",
    "\r\n",
    "plt.plot(pul1[1],pul1[0]/2,label= '{b} samples'.format(b = sam),color='red')\r\n",
    "\r\n",
    "ax.set_ylabel('V  [mV]')\r\n",
    "ax.set_xlabel(r't [ns]')\r\n",
    "ax.set_title('Cycle B at step {a}'.format(a = step )) #Voltage Offset = 3mV, Marker Ampl = 50mV \r\n",
    "#ax.legend(loc=0)\r\n",
    "#plt.legend(bbox_to_anchor=(2.05, 1), loc='upper left', borderaxespad=0.)\r\n",
    "plt.show()\r\n",
    "\r\n",
    "fig.savefig(r'{loc}\\Cycle B, Probe width 50 nano 93 Hz mod {a} step empty .jpeg'.format(loc = PulseScheme_A_50nano['Measurement file Path'], a = step),bbox_inches='tight')"
   ],
   "outputs": [
    {
     "output_type": "display_data",
     "data": {
      "image/png": "[encoded data removed]",
      "text/plain": [
       "<Figure size 432x288 with 1 Axes>"
      ]
     },
     "metadata": {
      "needs_background": "light"
     }
    }
   ],
   "metadata": {}
  },
  {
   "cell_type": "code",
   "execution_count": 91,
   "source": [
    "sweeping_run_a_50nano = Sweeping_Single_List_File_teil(PulseScheme_A_50nano,70,interval,sam,0,70,AWG_Settings_50nano,'A')[0]\r\n",
    "sweeping_run_b_50nano = Sweeping_Single_List_File_teil(PulseScheme_B_50nano,70,interval,sam,0,70,AWG_Settings_50nano,'B')[0]"
   ],
   "outputs": [],
   "metadata": {}
  },
  {
   "cell_type": "code",
   "execution_count": 72,
   "source": [],
   "outputs": [],
   "metadata": {}
  },
  {
   "cell_type": "code",
   "execution_count": 92,
   "source": [
    "#Exporting pickle\r\n",
    "\r\n",
    "with open(r\"{dict}\\cycleA_71steps_93Hz_50nano_.p\".format(dict = PulseScheme_A_50nano['Measurement file Path']), \"wb\") as k:\r\n",
    "    pickle.dump(sweeping_run_a_50nano, k)\r\n",
    "\r\n",
    "\r\n",
    "with open(r\"{dict}\\cycleB_71steps_93Hz_50nano_.p\".format(dict = PulseScheme_B_50nano['Measurement file Path']), \"wb\") as h:\r\n",
    "    pickle.dump(sweeping_run_b_50nano, h)"
   ],
   "outputs": [],
   "metadata": {}
  },
  {
   "cell_type": "code",
   "execution_count": 25,
   "source": [
    "AWG_Settings_50nano_empty= {\r\n",
    "    'Visa Resource Name': 'TCPIP0::ibn3-036.ibn-net.kfa-juelich.de::hislip0::INSTR',\r\n",
    "    'Voltage Amplitude':700,\r\n",
    "    'Clock Sample Frecuency':2999808000,\r\n",
    "    'Output_Channel': 1,\r\n",
    "    'Mode': 'STS',\r\n",
    "    'Trigger In Threshold' : 1,\r\n",
    "    'Output Rout': 'DC', #DAC output rout only has the SMA outputs: Direct Out and (Averaged) Direct Out # DC\r\n",
    "    'Data Directory': r'D:\\Alejandro\\Pulses\\diode measurements\\Prepared Pulse Schemes CSV\\60,30\\neg\\50nano\\empty B cycle'\r\n",
    "}"
   ],
   "outputs": [],
   "metadata": {}
  },
  {
   "cell_type": "code",
   "execution_count": 26,
   "source": [
    "sweeping_run_b_50nano_empty = Sweeping_Single_List_File_teil(PulseScheme_B_50nano_empty,70,interval,sam,0,70,AWG_Settings_50nano_empty,'B')[0]"
   ],
   "outputs": [],
   "metadata": {}
  },
  {
   "cell_type": "code",
   "execution_count": 27,
   "source": [
    "#Exporting pickle\r\n",
    "\r\n",
    "with open(r\"{dict}\\cycleB_71steps_93Hz_50nano_empty.p\".format(dict = PulseScheme_B_50nano['Measurement file Path']), \"wb\") as h:\r\n",
    "    pickle.dump(sweeping_run_b_50nano_empty, h)"
   ],
   "outputs": [],
   "metadata": {}
  },
  {
   "cell_type": "code",
   "execution_count": 16,
   "source": [
    "#Importing Pickle\r\n",
    "\r\n",
    "with open(r\"{dict}\\cycleA_71steps_93Hz_50nano_.p\".format(dict = PulseScheme_A_50nano['Measurement file Path']), \"rb\") as j:\r\n",
    "    sweeping_runa_50nano = pickle.load(j)\r\n",
    "\r\n",
    "with open(r\"{dict}\\cycleB_71steps_93Hz_50nano_.p\".format(dict = PulseScheme_A_50nano['Measurement file Path']), \"rb\") as f:\r\n",
    "    sweeping_runb_50nano= pickle.load(f)"
   ],
   "outputs": [],
   "metadata": {}
  },
  {
   "cell_type": "code",
   "execution_count": null,
   "source": [
    "sweeping_runa_100nano['Pulse File Location, at step 30']"
   ],
   "outputs": [
    {
     "output_type": "display_data",
     "data": {
      "text/plain": [
       "'D:\\\\Alejandro\\\\Pulses\\\\diode measurements\\\\Prepared Pulse Schemes CSV\\\\50,20\\\\100nano\\\\SegmentA_4128_30.csv'"
      ]
     },
     "metadata": {}
    }
   ],
   "metadata": {}
  },
  {
   "cell_type": "code",
   "execution_count": null,
   "source": [
    "sweeping_run_b_100nano['Pulse File Location, at step 30']"
   ],
   "outputs": [
    {
     "output_type": "display_data",
     "data": {
      "text/plain": [
       "'D:\\\\Alejandro\\\\Pulses\\\\diode measurements\\\\Prepared Pulse Schemes CSV\\\\50,20\\\\1mili\\\\SegmentB_672816_30.csv'"
      ]
     },
     "metadata": {}
    }
   ],
   "metadata": {}
  },
  {
   "cell_type": "code",
   "execution_count": null,
   "source": [
    "loop_100nano"
   ],
   "outputs": [
    {
     "output_type": "display_data",
     "data": {
      "text/plain": [
       "8000"
      ]
     },
     "metadata": {}
    }
   ],
   "metadata": {}
  },
  {
   "cell_type": "code",
   "execution_count": 21,
   "source": [
    "Sequence_File(M8190A,sweeping_runa_50nano['Pulse File Location, at step 70'],sweeping_runb_50nano['Pulse File Location, at step 70'],loop_number)"
   ],
   "outputs": [
    {
     "output_type": "stream",
     "name": "stdout",
     "text": [
      "Sequence loaded with the following segment data \"1,16000,0,1,0,1007,2,16000,0,1,0,1007\" and the advancement method is COND\n"
     ]
    },
    {
     "output_type": "execute_result",
     "data": {
      "text/plain": [
       "0"
      ]
     },
     "metadata": {},
     "execution_count": 21
    }
   ],
   "metadata": {
    "scrolled": true
   }
  },
  {
   "cell_type": "code",
   "execution_count": 19,
   "source": [
    "Trigger_Pulse('DAQBNC1','ao1',0.05,20)"
   ],
   "outputs": [
    {
     "output_type": "stream",
     "name": "stdout",
     "text": [
      "Triggering Pulse Stopped\n"
     ]
    }
   ],
   "metadata": {}
  },
  {
   "cell_type": "markdown",
   "source": [
    "# Loading"
   ],
   "metadata": {}
  },
  {
   "cell_type": "code",
   "execution_count": 20,
   "source": [
    "M8190A.write('SEQ:DEL:ALL')"
   ],
   "outputs": [
    {
     "output_type": "execute_result",
     "data": {
      "text/plain": [
       "12"
      ]
     },
     "metadata": {},
     "execution_count": 20
    }
   ],
   "metadata": {
    "scrolled": true
   }
  },
  {
   "cell_type": "code",
   "execution_count": null,
   "source": [
    "Dummy_File(M8190A)"
   ],
   "outputs": [
    {
     "output_type": "stream",
     "name": "stdout",
     "text": [
      "Dummy File Loaded and playing\n",
      "Dummy File stopped and erased from AWGs memmory\n"
     ]
    }
   ],
   "metadata": {
    "scrolled": false
   }
  },
  {
   "cell_type": "code",
   "execution_count": 45,
   "source": [
    "Lock_In_Settings = {\r\n",
    "'Time Constant' : '100ms',\r\n",
    "'Sensitivity' : '200 microVolts',\r\n",
    "'Reserve' : 'Normal',\r\n",
    "'db' : 24,\r\n",
    "'Modulation': '93Hz'\r\n",
    "}"
   ],
   "outputs": [],
   "metadata": {}
  },
  {
   "cell_type": "code",
   "execution_count": 44,
   "source": [
    "loop_number"
   ],
   "outputs": [
    {
     "output_type": "execute_result",
     "data": {
      "text/plain": [
       "16000"
      ]
     },
     "metadata": {},
     "execution_count": 44
    }
   ],
   "metadata": {}
  },
  {
   "cell_type": "code",
   "execution_count": 118,
   "source": [
    "list_cycleB_50nano"
   ],
   "outputs": [
    {
     "output_type": "execute_result",
     "data": {
      "text/plain": [
       "['D:\\\\Alejandro\\\\Pulses\\\\diode measurements\\\\Prepared Pulse Schemes CSV\\\\50,20\\\\50nano\\\\SegmentB_1008_0.csv',\n",
       " 'D:\\\\Alejandro\\\\Pulses\\\\diode measurements\\\\Prepared Pulse Schemes CSV\\\\50,20\\\\50nano\\\\SegmentB_1008_1.csv',\n",
       " 'D:\\\\Alejandro\\\\Pulses\\\\diode measurements\\\\Prepared Pulse Schemes CSV\\\\50,20\\\\50nano\\\\SegmentB_1008_2.csv',\n",
       " 'D:\\\\Alejandro\\\\Pulses\\\\diode measurements\\\\Prepared Pulse Schemes CSV\\\\50,20\\\\50nano\\\\SegmentB_1008_3.csv',\n",
       " 'D:\\\\Alejandro\\\\Pulses\\\\diode measurements\\\\Prepared Pulse Schemes CSV\\\\50,20\\\\50nano\\\\SegmentB_1008_4.csv',\n",
       " 'D:\\\\Alejandro\\\\Pulses\\\\diode measurements\\\\Prepared Pulse Schemes CSV\\\\50,20\\\\50nano\\\\SegmentB_1008_5.csv',\n",
       " 'D:\\\\Alejandro\\\\Pulses\\\\diode measurements\\\\Prepared Pulse Schemes CSV\\\\50,20\\\\50nano\\\\SegmentB_1008_6.csv',\n",
       " 'D:\\\\Alejandro\\\\Pulses\\\\diode measurements\\\\Prepared Pulse Schemes CSV\\\\50,20\\\\50nano\\\\SegmentB_1008_7.csv',\n",
       " 'D:\\\\Alejandro\\\\Pulses\\\\diode measurements\\\\Prepared Pulse Schemes CSV\\\\50,20\\\\50nano\\\\SegmentB_1008_8.csv',\n",
       " 'D:\\\\Alejandro\\\\Pulses\\\\diode measurements\\\\Prepared Pulse Schemes CSV\\\\50,20\\\\50nano\\\\SegmentB_1008_9.csv',\n",
       " 'D:\\\\Alejandro\\\\Pulses\\\\diode measurements\\\\Prepared Pulse Schemes CSV\\\\50,20\\\\50nano\\\\SegmentB_1008_10.csv',\n",
       " 'D:\\\\Alejandro\\\\Pulses\\\\diode measurements\\\\Prepared Pulse Schemes CSV\\\\50,20\\\\50nano\\\\SegmentB_1008_11.csv',\n",
       " 'D:\\\\Alejandro\\\\Pulses\\\\diode measurements\\\\Prepared Pulse Schemes CSV\\\\50,20\\\\50nano\\\\SegmentB_1008_12.csv',\n",
       " 'D:\\\\Alejandro\\\\Pulses\\\\diode measurements\\\\Prepared Pulse Schemes CSV\\\\50,20\\\\50nano\\\\SegmentB_1008_13.csv',\n",
       " 'D:\\\\Alejandro\\\\Pulses\\\\diode measurements\\\\Prepared Pulse Schemes CSV\\\\50,20\\\\50nano\\\\SegmentB_1008_14.csv',\n",
       " 'D:\\\\Alejandro\\\\Pulses\\\\diode measurements\\\\Prepared Pulse Schemes CSV\\\\50,20\\\\50nano\\\\SegmentB_1008_15.csv',\n",
       " 'D:\\\\Alejandro\\\\Pulses\\\\diode measurements\\\\Prepared Pulse Schemes CSV\\\\50,20\\\\50nano\\\\SegmentB_1008_16.csv',\n",
       " 'D:\\\\Alejandro\\\\Pulses\\\\diode measurements\\\\Prepared Pulse Schemes CSV\\\\50,20\\\\50nano\\\\SegmentB_1008_17.csv',\n",
       " 'D:\\\\Alejandro\\\\Pulses\\\\diode measurements\\\\Prepared Pulse Schemes CSV\\\\50,20\\\\50nano\\\\SegmentB_1008_18.csv',\n",
       " 'D:\\\\Alejandro\\\\Pulses\\\\diode measurements\\\\Prepared Pulse Schemes CSV\\\\50,20\\\\50nano\\\\SegmentB_1008_19.csv',\n",
       " 'D:\\\\Alejandro\\\\Pulses\\\\diode measurements\\\\Prepared Pulse Schemes CSV\\\\50,20\\\\50nano\\\\SegmentB_1008_20.csv',\n",
       " 'D:\\\\Alejandro\\\\Pulses\\\\diode measurements\\\\Prepared Pulse Schemes CSV\\\\50,20\\\\50nano\\\\SegmentB_1008_21.csv',\n",
       " 'D:\\\\Alejandro\\\\Pulses\\\\diode measurements\\\\Prepared Pulse Schemes CSV\\\\50,20\\\\50nano\\\\SegmentB_1008_22.csv',\n",
       " 'D:\\\\Alejandro\\\\Pulses\\\\diode measurements\\\\Prepared Pulse Schemes CSV\\\\50,20\\\\50nano\\\\SegmentB_1008_23.csv',\n",
       " 'D:\\\\Alejandro\\\\Pulses\\\\diode measurements\\\\Prepared Pulse Schemes CSV\\\\50,20\\\\50nano\\\\SegmentB_1008_24.csv',\n",
       " 'D:\\\\Alejandro\\\\Pulses\\\\diode measurements\\\\Prepared Pulse Schemes CSV\\\\50,20\\\\50nano\\\\SegmentB_1008_25.csv',\n",
       " 'D:\\\\Alejandro\\\\Pulses\\\\diode measurements\\\\Prepared Pulse Schemes CSV\\\\50,20\\\\50nano\\\\SegmentB_1008_26.csv',\n",
       " 'D:\\\\Alejandro\\\\Pulses\\\\diode measurements\\\\Prepared Pulse Schemes CSV\\\\50,20\\\\50nano\\\\SegmentB_1008_27.csv',\n",
       " 'D:\\\\Alejandro\\\\Pulses\\\\diode measurements\\\\Prepared Pulse Schemes CSV\\\\50,20\\\\50nano\\\\SegmentB_1008_28.csv',\n",
       " 'D:\\\\Alejandro\\\\Pulses\\\\diode measurements\\\\Prepared Pulse Schemes CSV\\\\50,20\\\\50nano\\\\SegmentB_1008_29.csv',\n",
       " 'D:\\\\Alejandro\\\\Pulses\\\\diode measurements\\\\Prepared Pulse Schemes CSV\\\\50,20\\\\50nano\\\\SegmentB_1008_30.csv',\n",
       " 'D:\\\\Alejandro\\\\Pulses\\\\diode measurements\\\\Prepared Pulse Schemes CSV\\\\50,20\\\\50nano\\\\SegmentB_1008_31.csv',\n",
       " 'D:\\\\Alejandro\\\\Pulses\\\\diode measurements\\\\Prepared Pulse Schemes CSV\\\\50,20\\\\50nano\\\\SegmentB_1008_32.csv',\n",
       " 'D:\\\\Alejandro\\\\Pulses\\\\diode measurements\\\\Prepared Pulse Schemes CSV\\\\50,20\\\\50nano\\\\SegmentB_1008_33.csv',\n",
       " 'D:\\\\Alejandro\\\\Pulses\\\\diode measurements\\\\Prepared Pulse Schemes CSV\\\\50,20\\\\50nano\\\\SegmentB_1008_34.csv',\n",
       " 'D:\\\\Alejandro\\\\Pulses\\\\diode measurements\\\\Prepared Pulse Schemes CSV\\\\50,20\\\\50nano\\\\SegmentB_1008_35.csv',\n",
       " 'D:\\\\Alejandro\\\\Pulses\\\\diode measurements\\\\Prepared Pulse Schemes CSV\\\\50,20\\\\50nano\\\\SegmentB_1008_36.csv',\n",
       " 'D:\\\\Alejandro\\\\Pulses\\\\diode measurements\\\\Prepared Pulse Schemes CSV\\\\50,20\\\\50nano\\\\SegmentB_1008_37.csv',\n",
       " 'D:\\\\Alejandro\\\\Pulses\\\\diode measurements\\\\Prepared Pulse Schemes CSV\\\\50,20\\\\50nano\\\\SegmentB_1008_38.csv',\n",
       " 'D:\\\\Alejandro\\\\Pulses\\\\diode measurements\\\\Prepared Pulse Schemes CSV\\\\50,20\\\\50nano\\\\SegmentB_1008_39.csv',\n",
       " 'D:\\\\Alejandro\\\\Pulses\\\\diode measurements\\\\Prepared Pulse Schemes CSV\\\\50,20\\\\50nano\\\\SegmentB_1008_40.csv',\n",
       " 'D:\\\\Alejandro\\\\Pulses\\\\diode measurements\\\\Prepared Pulse Schemes CSV\\\\50,20\\\\50nano\\\\SegmentB_1008_41.csv',\n",
       " 'D:\\\\Alejandro\\\\Pulses\\\\diode measurements\\\\Prepared Pulse Schemes CSV\\\\50,20\\\\50nano\\\\SegmentB_1008_42.csv',\n",
       " 'D:\\\\Alejandro\\\\Pulses\\\\diode measurements\\\\Prepared Pulse Schemes CSV\\\\50,20\\\\50nano\\\\SegmentB_1008_43.csv',\n",
       " 'D:\\\\Alejandro\\\\Pulses\\\\diode measurements\\\\Prepared Pulse Schemes CSV\\\\50,20\\\\50nano\\\\SegmentB_1008_44.csv',\n",
       " 'D:\\\\Alejandro\\\\Pulses\\\\diode measurements\\\\Prepared Pulse Schemes CSV\\\\50,20\\\\50nano\\\\SegmentB_1008_45.csv',\n",
       " 'D:\\\\Alejandro\\\\Pulses\\\\diode measurements\\\\Prepared Pulse Schemes CSV\\\\50,20\\\\50nano\\\\SegmentB_1008_46.csv',\n",
       " 'D:\\\\Alejandro\\\\Pulses\\\\diode measurements\\\\Prepared Pulse Schemes CSV\\\\50,20\\\\50nano\\\\SegmentB_1008_47.csv',\n",
       " 'D:\\\\Alejandro\\\\Pulses\\\\diode measurements\\\\Prepared Pulse Schemes CSV\\\\50,20\\\\50nano\\\\SegmentB_1008_48.csv',\n",
       " 'D:\\\\Alejandro\\\\Pulses\\\\diode measurements\\\\Prepared Pulse Schemes CSV\\\\50,20\\\\50nano\\\\SegmentB_1008_49.csv',\n",
       " 'D:\\\\Alejandro\\\\Pulses\\\\diode measurements\\\\Prepared Pulse Schemes CSV\\\\50,20\\\\50nano\\\\SegmentB_1008_50.csv',\n",
       " 'D:\\\\Alejandro\\\\Pulses\\\\diode measurements\\\\Prepared Pulse Schemes CSV\\\\50,20\\\\50nano\\\\SegmentB_1008_51.csv',\n",
       " 'D:\\\\Alejandro\\\\Pulses\\\\diode measurements\\\\Prepared Pulse Schemes CSV\\\\50,20\\\\50nano\\\\SegmentB_1008_52.csv',\n",
       " 'D:\\\\Alejandro\\\\Pulses\\\\diode measurements\\\\Prepared Pulse Schemes CSV\\\\50,20\\\\50nano\\\\SegmentB_1008_53.csv',\n",
       " 'D:\\\\Alejandro\\\\Pulses\\\\diode measurements\\\\Prepared Pulse Schemes CSV\\\\50,20\\\\50nano\\\\SegmentB_1008_54.csv',\n",
       " 'D:\\\\Alejandro\\\\Pulses\\\\diode measurements\\\\Prepared Pulse Schemes CSV\\\\50,20\\\\50nano\\\\SegmentB_1008_55.csv',\n",
       " 'D:\\\\Alejandro\\\\Pulses\\\\diode measurements\\\\Prepared Pulse Schemes CSV\\\\50,20\\\\50nano\\\\SegmentB_1008_56.csv',\n",
       " 'D:\\\\Alejandro\\\\Pulses\\\\diode measurements\\\\Prepared Pulse Schemes CSV\\\\50,20\\\\50nano\\\\SegmentB_1008_57.csv',\n",
       " 'D:\\\\Alejandro\\\\Pulses\\\\diode measurements\\\\Prepared Pulse Schemes CSV\\\\50,20\\\\50nano\\\\SegmentB_1008_58.csv',\n",
       " 'D:\\\\Alejandro\\\\Pulses\\\\diode measurements\\\\Prepared Pulse Schemes CSV\\\\50,20\\\\50nano\\\\SegmentB_1008_59.csv',\n",
       " 'D:\\\\Alejandro\\\\Pulses\\\\diode measurements\\\\Prepared Pulse Schemes CSV\\\\50,20\\\\50nano\\\\SegmentB_1008_60.csv',\n",
       " 'D:\\\\Alejandro\\\\Pulses\\\\diode measurements\\\\Prepared Pulse Schemes CSV\\\\50,20\\\\50nano\\\\SegmentB_1008_61.csv',\n",
       " 'D:\\\\Alejandro\\\\Pulses\\\\diode measurements\\\\Prepared Pulse Schemes CSV\\\\50,20\\\\50nano\\\\SegmentB_1008_62.csv',\n",
       " 'D:\\\\Alejandro\\\\Pulses\\\\diode measurements\\\\Prepared Pulse Schemes CSV\\\\50,20\\\\50nano\\\\SegmentB_1008_63.csv',\n",
       " 'D:\\\\Alejandro\\\\Pulses\\\\diode measurements\\\\Prepared Pulse Schemes CSV\\\\50,20\\\\50nano\\\\SegmentB_1008_64.csv',\n",
       " 'D:\\\\Alejandro\\\\Pulses\\\\diode measurements\\\\Prepared Pulse Schemes CSV\\\\50,20\\\\50nano\\\\SegmentB_1008_65.csv',\n",
       " 'D:\\\\Alejandro\\\\Pulses\\\\diode measurements\\\\Prepared Pulse Schemes CSV\\\\50,20\\\\50nano\\\\SegmentB_1008_66.csv',\n",
       " 'D:\\\\Alejandro\\\\Pulses\\\\diode measurements\\\\Prepared Pulse Schemes CSV\\\\50,20\\\\50nano\\\\SegmentB_1008_67.csv',\n",
       " 'D:\\\\Alejandro\\\\Pulses\\\\diode measurements\\\\Prepared Pulse Schemes CSV\\\\50,20\\\\50nano\\\\SegmentB_1008_68.csv',\n",
       " 'D:\\\\Alejandro\\\\Pulses\\\\diode measurements\\\\Prepared Pulse Schemes CSV\\\\50,20\\\\50nano\\\\SegmentB_1008_69.csv',\n",
       " 'D:\\\\Alejandro\\\\Pulses\\\\diode measurements\\\\Prepared Pulse Schemes CSV\\\\50,20\\\\50nano\\\\SegmentB_1008_70.csv']"
      ]
     },
     "metadata": {},
     "execution_count": 118
    }
   ],
   "metadata": {}
  },
  {
   "cell_type": "code",
   "execution_count": 135,
   "source": [
    "playingtime = 10\r\n",
    "\r\n",
    "Diode_Signal, averaged_data = Voltage_Autocorrelation_loopl(M8190A,DAQ_Settings1,playingtime,list_cycleA_50nano,list_cycleB_50nano,PulseScheme_A_50nano['Measurement file Path'],Lock_In_Settings,loop_number)"
   ],
   "outputs": [
    {
     "output_type": "stream",
     "name": "stdout",
     "text": [
      "Sequence loaded with the following segment data \"1,16000,0,1,0,1007,2,16000,0,1,0,1007\" and the advancement method is COND\n",
      "Average Value for measurement at step 0 is 0.4832974421047923 V\n",
      "Sequence loaded with the following segment data \"1,16000,0,1,0,1007,2,16000,0,1,0,1007\" and the advancement method is COND\n",
      "Average Value for measurement at step 1 is 0.46890741167388095 V\n",
      "Sequence loaded with the following segment data \"1,16000,0,1,0,1007,2,16000,0,1,0,1007\" and the advancement method is COND\n",
      "Average Value for measurement at step 2 is 0.12304395242937051 V\n",
      "Sequence loaded with the following segment data \"1,16000,0,1,0,1007,2,16000,0,1,0,1007\" and the advancement method is COND\n",
      "Average Value for measurement at step 3 is 0.06419686667209931 V\n",
      "Sequence loaded with the following segment data \"1,16000,0,1,0,1007,2,16000,0,1,0,1007\" and the advancement method is COND\n",
      "Average Value for measurement at step 4 is 0.48326817201633615 V\n",
      "Sequence loaded with the following segment data \"1,16000,0,1,0,1007,2,16000,0,1,0,1007\" and the advancement method is COND\n",
      "Average Value for measurement at step 5 is 0.20401635507735774 V\n",
      "Sequence loaded with the following segment data \"1,16000,0,1,0,1007,2,16000,0,1,0,1007\" and the advancement method is COND\n",
      "Average Value for measurement at step 6 is 0.46889721647472377 V\n",
      "Sequence loaded with the following segment data \"1,16000,0,1,0,1007,2,16000,0,1,0,1007\" and the advancement method is COND\n",
      "Average Value for measurement at step 7 is 0.26840376436865393 V\n",
      "Sequence loaded with the following segment data \"1,16000,0,1,0,1007,2,16000,0,1,0,1007\" and the advancement method is COND\n",
      "Average Value for measurement at step 8 is 0.40247023477487814 V\n",
      "Sequence loaded with the following segment data \"1,16000,0,1,0,1007,2,16000,0,1,0,1007\" and the advancement method is COND\n",
      "Average Value for measurement at step 9 is 0.4832922740313879 V\n",
      "Sequence loaded with the following segment data \"1,16000,0,1,0,1007,2,16000,0,1,0,1007\" and the advancement method is COND\n",
      "Average Value for measurement at step 10 is 0.3294909415593854 V\n",
      "Sequence loaded with the following segment data \"1,16000,0,1,0,1007,2,16000,0,1,0,1007\" and the advancement method is COND\n",
      "Average Value for measurement at step 11 is 0.17858018755850477 V\n",
      "Sequence loaded with the following segment data \"1,16000,0,1,0,1007,2,16000,0,1,0,1007\" and the advancement method is COND\n",
      "Average Value for measurement at step 12 is 0.45803571179705155 V\n",
      "Sequence loaded with the following segment data \"1,16000,0,1,0,1007,2,16000,0,1,0,1007\" and the advancement method is COND\n",
      "Average Value for measurement at step 13 is 0.4608878304720401 V\n",
      "Sequence loaded with the following segment data \"1,16000,0,1,0,1007,2,16000,0,1,0,1007\" and the advancement method is COND\n",
      "Average Value for measurement at step 14 is 0.48334902887385345 V\n",
      "Sequence loaded with the following segment data \"1,16000,0,1,0,1007,2,16000,0,1,0,1007\" and the advancement method is COND\n",
      "Average Value for measurement at step 15 is 0.2547543694977296 V\n",
      "Sequence loaded with the following segment data \"1,16000,0,1,0,1007,2,16000,0,1,0,1007\" and the advancement method is COND\n",
      "Average Value for measurement at step 16 is 0.4833210742949898 V\n",
      "Sequence loaded with the following segment data \"1,16000,0,1,0,1007,2,16000,0,1,0,1007\" and the advancement method is COND\n",
      "Average Value for measurement at step 17 is 0.48022389489309186 V\n",
      "Sequence loaded with the following segment data \"1,16000,0,1,0,1007,2,16000,0,1,0,1007\" and the advancement method is COND\n",
      "Average Value for measurement at step 18 is 0.48334578708235904 V\n",
      "Sequence loaded with the following segment data \"1,16000,0,1,0,1007,2,16000,0,1,0,1007\" and the advancement method is COND\n",
      "Average Value for measurement at step 19 is 0.47199359712847594 V\n",
      "Sequence loaded with the following segment data \"1,16000,0,1,0,1007,2,16000,0,1,0,1007\" and the advancement method is COND\n",
      "Average Value for measurement at step 20 is 0.42484465483873296 V\n",
      "Sequence loaded with the following segment data \"1,16000,0,1,0,1007,2,16000,0,1,0,1007\" and the advancement method is COND\n",
      "Average Value for measurement at step 21 is 0.4833208863650503 V\n",
      "Sequence loaded with the following segment data \"1,16000,0,1,0,1007,2,16000,0,1,0,1007\" and the advancement method is COND\n",
      "Average Value for measurement at step 22 is 0.4833130402899742 V\n",
      "Sequence loaded with the following segment data \"1,16000,0,1,0,1007,2,16000,0,1,0,1007\" and the advancement method is COND\n",
      "Average Value for measurement at step 23 is 0.48330077786126147 V\n",
      "Sequence loaded with the following segment data \"1,16000,0,1,0,1007,2,16000,0,1,0,1007\" and the advancement method is COND\n",
      "Average Value for measurement at step 24 is 0.1425878593324239 V\n",
      "Sequence loaded with the following segment data \"1,16000,0,1,0,1007,2,16000,0,1,0,1007\" and the advancement method is COND\n",
      "Average Value for measurement at step 25 is 0.47458111050010543 V\n",
      "Sequence loaded with the following segment data \"1,16000,0,1,0,1007,2,16000,0,1,0,1007\" and the advancement method is COND\n",
      "Average Value for measurement at step 26 is 0.19312149639144593 V\n",
      "Sequence loaded with the following segment data \"1,16000,0,1,0,1007,2,16000,0,1,0,1007\" and the advancement method is COND\n",
      "Average Value for measurement at step 27 is 0.480202001054944 V\n",
      "Sequence loaded with the following segment data \"1,16000,0,1,0,1007,2,16000,0,1,0,1007\" and the advancement method is COND\n",
      "Average Value for measurement at step 28 is 0.1703746995878065 V\n",
      "Sequence loaded with the following segment data \"1,16000,0,1,0,1007,2,16000,0,1,0,1007\" and the advancement method is COND\n",
      "Average Value for measurement at step 29 is 0.47244124624367556 V\n",
      "Sequence loaded with the following segment data \"1,16000,0,1,0,1007,2,16000,0,1,0,1007\" and the advancement method is COND\n",
      "Average Value for measurement at step 30 is 0.28242366324969737 V\n",
      "Sequence loaded with the following segment data \"1,16000,0,1,0,1007,2,16000,0,1,0,1007\" and the advancement method is COND\n",
      "Average Value for measurement at step 31 is 0.039499737246733946 V\n",
      "Sequence loaded with the following segment data \"1,16000,0,1,0,1007,2,16000,0,1,0,1007\" and the advancement method is COND\n",
      "Average Value for measurement at step 32 is 0.44736847984090133 V\n",
      "Sequence loaded with the following segment data \"1,16000,0,1,0,1007,2,16000,0,1,0,1007\" and the advancement method is COND\n",
      "Average Value for measurement at step 33 is 0.4662146105738025 V\n",
      "Sequence loaded with the following segment data \"1,16000,0,1,0,1007,2,16000,0,1,0,1007\" and the advancement method is COND\n",
      "Average Value for measurement at step 34 is 0.37750919495554525 V\n",
      "Sequence loaded with the following segment data \"1,16000,0,1,0,1007,2,16000,0,1,0,1007\" and the advancement method is COND\n",
      "Average Value for measurement at step 35 is 0.46885643567811763 V\n",
      "Sequence loaded with the following segment data \"1,16000,0,1,0,1007,2,16000,0,1,0,1007\" and the advancement method is COND\n",
      "Average Value for measurement at step 36 is 0.4832877637127798 V\n",
      "Sequence loaded with the following segment data \"1,16000,0,1,0,1007,2,16000,0,1,0,1007\" and the advancement method is COND\n",
      "Average Value for measurement at step 37 is 0.2929618791276027 V\n",
      "Sequence loaded with the following segment data \"1,16000,0,1,0,1007,2,16000,0,1,0,1007\" and the advancement method is COND\n",
      "Average Value for measurement at step 38 is 0.4755273377475544 V\n",
      "Sequence loaded with the following segment data \"1,16000,0,1,0,1007,2,16000,0,1,0,1007\" and the advancement method is COND\n",
      "Average Value for measurement at step 39 is 0.35773281329020024 V\n",
      "Sequence loaded with the following segment data \"1,16000,0,1,0,1007,2,16000,0,1,0,1007\" and the advancement method is COND\n",
      "Average Value for measurement at step 40 is 0.42752458259469156 V\n",
      "Sequence loaded with the following segment data \"1,16000,0,1,0,1007,2,16000,0,1,0,1007\" and the advancement method is COND\n",
      "Average Value for measurement at step 41 is 0.40250119622958586 V\n",
      "Sequence loaded with the following segment data \"1,16000,0,1,0,1007,2,16000,0,1,0,1007\" and the advancement method is COND\n",
      "Average Value for measurement at step 42 is 0.22004024316575221 V\n",
      "Sequence loaded with the following segment data \"1,16000,0,1,0,1007,2,16000,0,1,0,1007\" and the advancement method is COND\n",
      "Average Value for measurement at step 43 is 0.4833243630689712 V\n",
      "Sequence loaded with the following segment data \"1,16000,0,1,0,1007,2,16000,0,1,0,1007\" and the advancement method is COND\n",
      "Average Value for measurement at step 44 is 0.4698112137306558 V\n",
      "Sequence loaded with the following segment data \"1,16000,0,1,0,1007,2,16000,0,1,0,1007\" and the advancement method is COND\n",
      "Average Value for measurement at step 45 is 0.46402959617330247 V\n",
      "Sequence loaded with the following segment data \"1,16000,0,1,0,1007,2,16000,0,1,0,1007\" and the advancement method is COND\n",
      "Average Value for measurement at step 46 is 0.33792110128969793 V\n",
      "Sequence loaded with the following segment data \"1,16000,0,1,0,1007,2,16000,0,1,0,1007\" and the advancement method is COND\n",
      "Average Value for measurement at step 47 is 0.48333836384964657 V\n",
      "Sequence loaded with the following segment data \"1,16000,0,1,0,1007,2,16000,0,1,0,1007\" and the advancement method is COND\n",
      "Average Value for measurement at step 48 is 0.23181390930977744 V\n",
      "Sequence loaded with the following segment data \"1,16000,0,1,0,1007,2,16000,0,1,0,1007\" and the advancement method is COND\n",
      "Average Value for measurement at step 49 is 0.4724791611089234 V\n",
      "Sequence loaded with the following segment data \"1,16000,0,1,0,1007,2,16000,0,1,0,1007\" and the advancement method is COND\n",
      "Average Value for measurement at step 50 is 0.4719955234103525 V\n",
      "Sequence loaded with the following segment data \"1,16000,0,1,0,1007,2,16000,0,1,0,1007\" and the advancement method is COND\n",
      "Average Value for measurement at step 51 is 0.48023404310991674 V\n",
      "Sequence loaded with the following segment data \"1,16000,0,1,0,1007,2,16000,0,1,0,1007\" and the advancement method is COND\n",
      "Average Value for measurement at step 52 is 0.089733197519407 V\n",
      "Sequence loaded with the following segment data \"1,16000,0,1,0,1007,2,16000,0,1,0,1007\" and the advancement method is COND\n",
      "Average Value for measurement at step 53 is 0.15116074992965053 V\n",
      "Sequence loaded with the following segment data \"1,16000,0,1,0,1007,2,16000,0,1,0,1007\" and the advancement method is COND\n",
      "Average Value for measurement at step 54 is 0.4755333045231373 V\n",
      "Sequence loaded with the following segment data \"1,16000,0,1,0,1007,2,16000,0,1,0,1007\" and the advancement method is COND\n",
      "Average Value for measurement at step 55 is 0.3833170280957338 V\n",
      "Sequence loaded with the following segment data \"1,16000,0,1,0,1007,2,16000,0,1,0,1007\" and the advancement method is COND\n",
      "Average Value for measurement at step 56 is 0.48323988856007716 V\n",
      "Sequence loaded with the following segment data \"1,16000,0,1,0,1007,2,16000,0,1,0,1007\" and the advancement method is COND\n",
      "Average Value for measurement at step 57 is 0.24587472931147522 V\n",
      "Sequence loaded with the following segment data \"1,16000,0,1,0,1007,2,16000,0,1,0,1007\" and the advancement method is COND\n",
      "Average Value for measurement at step 58 is 0.4831939396892766 V\n",
      "Sequence loaded with the following segment data \"1,16000,0,1,0,1007,2,16000,0,1,0,1007\" and the advancement method is COND\n",
      "Average Value for measurement at step 59 is 0.44726615199231357 V\n",
      "Sequence loaded with the following segment data \"1,16000,0,1,0,1007,2,16000,0,1,0,1007\" and the advancement method is COND\n",
      "Average Value for measurement at step 60 is 0.06414255494623801 V\n",
      "Sequence loaded with the following segment data \"1,16000,0,1,0,1007,2,16000,0,1,0,1007\" and the advancement method is COND\n",
      "Average Value for measurement at step 61 is 0.4753689597906118 V\n",
      "Sequence loaded with the following segment data \"1,16000,0,1,0,1007,2,16000,0,1,0,1007\" and the advancement method is COND\n",
      "Average Value for measurement at step 62 is 0.09534304458270172 V\n",
      "Sequence loaded with the following segment data \"1,16000,0,1,0,1007,2,16000,0,1,0,1007\" and the advancement method is COND\n",
      "Average Value for measurement at step 63 is 0.48324914410971276 V\n",
      "Sequence loaded with the following segment data \"1,16000,0,1,0,1007,2,16000,0,1,0,1007\" and the advancement method is COND\n",
      "Average Value for measurement at step 64 is 0.471876187898996 V\n",
      "Sequence loaded with the following segment data \"1,16000,0,1,0,1007,2,16000,0,1,0,1007\" and the advancement method is COND\n",
      "Average Value for measurement at step 65 is 0.47448977654937113 V\n",
      "Sequence loaded with the following segment data \"1,16000,0,1,0,1007,2,16000,0,1,0,1007\" and the advancement method is COND\n",
      "Average Value for measurement at step 66 is 0.4639320605359024 V\n",
      "Sequence loaded with the following segment data \"1,16000,0,1,0,1007,2,16000,0,1,0,1007\" and the advancement method is COND\n",
      "Average Value for measurement at step 67 is 0.11729052678123714 V\n",
      "Sequence loaded with the following segment data \"1,16000,0,1,0,1007,2,16000,0,1,0,1007\" and the advancement method is COND\n",
      "Average Value for measurement at step 68 is 0.31520704734679084 V\n",
      "Sequence loaded with the following segment data \"1,16000,0,1,0,1007,2,16000,0,1,0,1007\" and the advancement method is COND\n",
      "Average Value for measurement at step 69 is 0.3046269228164896 V\n",
      "Sequence loaded with the following segment data \"1,16000,0,1,0,1007,2,16000,0,1,0,1007\" and the advancement method is COND\n",
      "Average Value for measurement at step 70 is 0.360232422067842 V\n"
     ]
    }
   ],
   "metadata": {}
  },
  {
   "cell_type": "code",
   "execution_count": 136,
   "source": [
    "fig,ax= plt.subplots()\r\n",
    "ax.grid(True)\r\n",
    "for i in range(0,len(Diode_Signal)):\r\n",
    "    plt.plot(Diode_Signal[i][1],Diode_Signal[i][0],label= 'Step {st}'.format(st = i ))\r\n",
    "\r\n",
    "ax.set_ylabel(r'V  [V]')\r\n",
    "ax.set_xlabel('t  [s]')\r\n",
    "ax.set_title(r' Diode Signal at Different Steps,  {b} Samples, 50nano s probe duration'.format(b = len(Diode_Signal[0][1]) ))\r\n",
    "#ax.legend(bbox_to_anchor=(1.05, 1), loc='upper left', borderaxespad=0.)\r\n",
    "#ax.legend(loc=0)\r\n",
    "plt.show()\r\n",
    "\r\n",
    "fig.savefig(r'{loc}\\Diode Signal time cstant = {a}, sensitivity {b},{c} daqseconds, , probe duration 50nano,71 steps, 93 Hz no legend, .jpeg'.format(loc = PulseScheme_A_50nano['Measurement file Path'],a = Lock_In_Settings['Time Constant'], b = Lock_In_Settings['Sensitivity'], c = playingtime),bbox_inches='tight')"
   ],
   "outputs": [
    {
     "output_type": "display_data",
     "data": {
      "image/png": "[encoded data removed]",
      "text/plain": [
       "<Figure size 432x288 with 1 Axes>"
      ]
     },
     "metadata": {
      "needs_background": "light"
     }
    }
   ],
   "metadata": {}
  },
  {
   "cell_type": "code",
   "execution_count": 137,
   "source": [
    "time_delay = np.linspace(0,71,71)"
   ],
   "outputs": [],
   "metadata": {}
  },
  {
   "cell_type": "code",
   "execution_count": null,
   "source": [
    "%matplotlib widget"
   ],
   "outputs": [],
   "metadata": {}
  },
  {
   "cell_type": "code",
   "execution_count": 148,
   "source": [
    "#change this to V regime\r\n",
    "fig,axes = plt.subplots()\r\n",
    "\r\n",
    "axes.grid(True)\r\n",
    "\r\n",
    "plt.plot(rand_time_delay,averaged_data,'.',label=r'50 ns Probe Width ',color='red')\r\n",
    "#plt.plot(tm,pul,label = '{a} samples'.format(a = len(pul)))\r\n",
    "\r\n",
    "axes.set_xlabel(r'time delay [ns]')\r\n",
    "axes.set_ylabel(r'Diode Signal [V]')\r\n",
    "axes.set_title('Auto-Correlation 71 steps ')\r\n",
    "\r\n",
    "axes.legend(loc = 0)\r\n",
    "plt.show()\r\n",
    "\r\n",
    "fig.savefig(r'{loc}\\Autocorrelation function 31 steps 50nano 93Hz length tc = {a}, sens {b}, {c}s DAQ .jpeg'.format(loc = PulseScheme_A_50nano['Measurement file Path'],a = Lock_In_Settings['Time Constant'], b = Lock_In_Settings['Sensitivity'], c = playingtime ))"
   ],
   "outputs": [
    {
     "output_type": "display_data",
     "data": {
      "image/png": "[encoded data removed]",
      "text/plain": [
       "<Figure size 432x288 with 1 Axes>"
      ]
     },
     "metadata": {
      "needs_background": "light"
     }
    }
   ],
   "metadata": {}
  },
  {
   "cell_type": "code",
   "execution_count": null,
   "source": [
    "100,\r\n",
    "50,\r\n",
    "25\r\n",
    "10"
   ],
   "outputs": [],
   "metadata": {}
  },
  {
   "cell_type": "code",
   "execution_count": 98,
   "source": [
    "import random"
   ],
   "outputs": [],
   "metadata": {}
  },
  {
   "cell_type": "code",
   "execution_count": 108,
   "source": [
    "items  =  sweeping_run_a_50nano.values()\r\n",
    "random.shuffle(items)\r\n",
    "OrderedDict(items)\r\n"
   ],
   "outputs": [
    {
     "output_type": "error",
     "ename": "TypeError",
     "evalue": "'dict_values' object is not subscriptable",
     "traceback": [
      "\u001b[1;31m---------------------------------------------------------------------------\u001b[0m",
      "\u001b[1;31mTypeError\u001b[0m                                 Traceback (most recent call last)",
      "\u001b[1;32m<ipython-input-108-9bae44825218>\u001b[0m in \u001b[0;36m<module>\u001b[1;34m\u001b[0m\n\u001b[0;32m      1\u001b[0m \u001b[0mitems\u001b[0m  \u001b[1;33m=\u001b[0m  \u001b[0msweeping_run_a_50nano\u001b[0m\u001b[1;33m.\u001b[0m\u001b[0mvalues\u001b[0m\u001b[1;33m(\u001b[0m\u001b[1;33m)\u001b[0m\u001b[1;33m\u001b[0m\u001b[1;33m\u001b[0m\u001b[0m\n\u001b[1;32m----> 2\u001b[1;33m \u001b[0mrandom\u001b[0m\u001b[1;33m.\u001b[0m\u001b[0mshuffle\u001b[0m\u001b[1;33m(\u001b[0m\u001b[0mitems\u001b[0m\u001b[1;33m)\u001b[0m\u001b[1;33m\u001b[0m\u001b[1;33m\u001b[0m\u001b[0m\n\u001b[0m\u001b[0;32m      3\u001b[0m \u001b[0mOrderedDict\u001b[0m\u001b[1;33m(\u001b[0m\u001b[0mitems\u001b[0m\u001b[1;33m)\u001b[0m\u001b[1;33m\u001b[0m\u001b[1;33m\u001b[0m\u001b[0m\n",
      "\u001b[1;32m~\\Anaconda3\\lib\\random.py\u001b[0m in \u001b[0;36mshuffle\u001b[1;34m(self, x, random)\u001b[0m\n\u001b[0;32m    305\u001b[0m                 \u001b[1;31m# pick an element in x[:i+1] with which to exchange x[i]\u001b[0m\u001b[1;33m\u001b[0m\u001b[1;33m\u001b[0m\u001b[1;33m\u001b[0m\u001b[0m\n\u001b[0;32m    306\u001b[0m                 \u001b[0mj\u001b[0m \u001b[1;33m=\u001b[0m \u001b[0mrandbelow\u001b[0m\u001b[1;33m(\u001b[0m\u001b[0mi\u001b[0m\u001b[1;33m+\u001b[0m\u001b[1;36m1\u001b[0m\u001b[1;33m)\u001b[0m\u001b[1;33m\u001b[0m\u001b[1;33m\u001b[0m\u001b[0m\n\u001b[1;32m--> 307\u001b[1;33m                 \u001b[0mx\u001b[0m\u001b[1;33m[\u001b[0m\u001b[0mi\u001b[0m\u001b[1;33m]\u001b[0m\u001b[1;33m,\u001b[0m \u001b[0mx\u001b[0m\u001b[1;33m[\u001b[0m\u001b[0mj\u001b[0m\u001b[1;33m]\u001b[0m \u001b[1;33m=\u001b[0m \u001b[0mx\u001b[0m\u001b[1;33m[\u001b[0m\u001b[0mj\u001b[0m\u001b[1;33m]\u001b[0m\u001b[1;33m,\u001b[0m \u001b[0mx\u001b[0m\u001b[1;33m[\u001b[0m\u001b[0mi\u001b[0m\u001b[1;33m]\u001b[0m\u001b[1;33m\u001b[0m\u001b[1;33m\u001b[0m\u001b[0m\n\u001b[0m\u001b[0;32m    308\u001b[0m         \u001b[1;32melse\u001b[0m\u001b[1;33m:\u001b[0m\u001b[1;33m\u001b[0m\u001b[1;33m\u001b[0m\u001b[0m\n\u001b[0;32m    309\u001b[0m             \u001b[0m_int\u001b[0m \u001b[1;33m=\u001b[0m \u001b[0mint\u001b[0m\u001b[1;33m\u001b[0m\u001b[1;33m\u001b[0m\u001b[0m\n",
      "\u001b[1;31mTypeError\u001b[0m: 'dict_values' object is not subscriptable"
     ]
    }
   ],
   "metadata": {}
  },
  {
   "cell_type": "code",
   "execution_count": 100,
   "source": [
    "sweeping_run_a_50nano.items()"
   ],
   "outputs": [
    {
     "output_type": "execute_result",
     "data": {
      "text/plain": [
       "dict_items([('Pulse File Location, at step 0', 'D:\\\\Alejandro\\\\Pulses\\\\diode measurements\\\\Prepared Pulse Schemes CSV\\\\50,20\\\\50nano\\\\SegmentA_1008_0.csv'), ('Pulse File Location, at step 1', 'D:\\\\Alejandro\\\\Pulses\\\\diode measurements\\\\Prepared Pulse Schemes CSV\\\\50,20\\\\50nano\\\\SegmentA_1008_1.csv'), ('Pulse File Location, at step 2', 'D:\\\\Alejandro\\\\Pulses\\\\diode measurements\\\\Prepared Pulse Schemes CSV\\\\50,20\\\\50nano\\\\SegmentA_1008_2.csv'), ('Pulse File Location, at step 3', 'D:\\\\Alejandro\\\\Pulses\\\\diode measurements\\\\Prepared Pulse Schemes CSV\\\\50,20\\\\50nano\\\\SegmentA_1008_3.csv'), ('Pulse File Location, at step 4', 'D:\\\\Alejandro\\\\Pulses\\\\diode measurements\\\\Prepared Pulse Schemes CSV\\\\50,20\\\\50nano\\\\SegmentA_1008_4.csv'), ('Pulse File Location, at step 5', 'D:\\\\Alejandro\\\\Pulses\\\\diode measurements\\\\Prepared Pulse Schemes CSV\\\\50,20\\\\50nano\\\\SegmentA_1008_5.csv'), ('Pulse File Location, at step 6', 'D:\\\\Alejandro\\\\Pulses\\\\diode measurements\\\\Prepared Pulse Schemes CSV\\\\50,20\\\\50nano\\\\SegmentA_1008_6.csv'), ('Pulse File Location, at step 7', 'D:\\\\Alejandro\\\\Pulses\\\\diode measurements\\\\Prepared Pulse Schemes CSV\\\\50,20\\\\50nano\\\\SegmentA_1008_7.csv'), ('Pulse File Location, at step 8', 'D:\\\\Alejandro\\\\Pulses\\\\diode measurements\\\\Prepared Pulse Schemes CSV\\\\50,20\\\\50nano\\\\SegmentA_1008_8.csv'), ('Pulse File Location, at step 9', 'D:\\\\Alejandro\\\\Pulses\\\\diode measurements\\\\Prepared Pulse Schemes CSV\\\\50,20\\\\50nano\\\\SegmentA_1008_9.csv'), ('Pulse File Location, at step 10', 'D:\\\\Alejandro\\\\Pulses\\\\diode measurements\\\\Prepared Pulse Schemes CSV\\\\50,20\\\\50nano\\\\SegmentA_1008_10.csv'), ('Pulse File Location, at step 11', 'D:\\\\Alejandro\\\\Pulses\\\\diode measurements\\\\Prepared Pulse Schemes CSV\\\\50,20\\\\50nano\\\\SegmentA_1008_11.csv'), ('Pulse File Location, at step 12', 'D:\\\\Alejandro\\\\Pulses\\\\diode measurements\\\\Prepared Pulse Schemes CSV\\\\50,20\\\\50nano\\\\SegmentA_1008_12.csv'), ('Pulse File Location, at step 13', 'D:\\\\Alejandro\\\\Pulses\\\\diode measurements\\\\Prepared Pulse Schemes CSV\\\\50,20\\\\50nano\\\\SegmentA_1008_13.csv'), ('Pulse File Location, at step 14', 'D:\\\\Alejandro\\\\Pulses\\\\diode measurements\\\\Prepared Pulse Schemes CSV\\\\50,20\\\\50nano\\\\SegmentA_1008_14.csv'), ('Pulse File Location, at step 15', 'D:\\\\Alejandro\\\\Pulses\\\\diode measurements\\\\Prepared Pulse Schemes CSV\\\\50,20\\\\50nano\\\\SegmentA_1008_15.csv'), ('Pulse File Location, at step 16', 'D:\\\\Alejandro\\\\Pulses\\\\diode measurements\\\\Prepared Pulse Schemes CSV\\\\50,20\\\\50nano\\\\SegmentA_1008_16.csv'), ('Pulse File Location, at step 17', 'D:\\\\Alejandro\\\\Pulses\\\\diode measurements\\\\Prepared Pulse Schemes CSV\\\\50,20\\\\50nano\\\\SegmentA_1008_17.csv'), ('Pulse File Location, at step 18', 'D:\\\\Alejandro\\\\Pulses\\\\diode measurements\\\\Prepared Pulse Schemes CSV\\\\50,20\\\\50nano\\\\SegmentA_1008_18.csv'), ('Pulse File Location, at step 19', 'D:\\\\Alejandro\\\\Pulses\\\\diode measurements\\\\Prepared Pulse Schemes CSV\\\\50,20\\\\50nano\\\\SegmentA_1008_19.csv'), ('Pulse File Location, at step 20', 'D:\\\\Alejandro\\\\Pulses\\\\diode measurements\\\\Prepared Pulse Schemes CSV\\\\50,20\\\\50nano\\\\SegmentA_1008_20.csv'), ('Pulse File Location, at step 21', 'D:\\\\Alejandro\\\\Pulses\\\\diode measurements\\\\Prepared Pulse Schemes CSV\\\\50,20\\\\50nano\\\\SegmentA_1008_21.csv'), ('Pulse File Location, at step 22', 'D:\\\\Alejandro\\\\Pulses\\\\diode measurements\\\\Prepared Pulse Schemes CSV\\\\50,20\\\\50nano\\\\SegmentA_1008_22.csv'), ('Pulse File Location, at step 23', 'D:\\\\Alejandro\\\\Pulses\\\\diode measurements\\\\Prepared Pulse Schemes CSV\\\\50,20\\\\50nano\\\\SegmentA_1008_23.csv'), ('Pulse File Location, at step 24', 'D:\\\\Alejandro\\\\Pulses\\\\diode measurements\\\\Prepared Pulse Schemes CSV\\\\50,20\\\\50nano\\\\SegmentA_1008_24.csv'), ('Pulse File Location, at step 25', 'D:\\\\Alejandro\\\\Pulses\\\\diode measurements\\\\Prepared Pulse Schemes CSV\\\\50,20\\\\50nano\\\\SegmentA_1008_25.csv'), ('Pulse File Location, at step 26', 'D:\\\\Alejandro\\\\Pulses\\\\diode measurements\\\\Prepared Pulse Schemes CSV\\\\50,20\\\\50nano\\\\SegmentA_1008_26.csv'), ('Pulse File Location, at step 27', 'D:\\\\Alejandro\\\\Pulses\\\\diode measurements\\\\Prepared Pulse Schemes CSV\\\\50,20\\\\50nano\\\\SegmentA_1008_27.csv'), ('Pulse File Location, at step 28', 'D:\\\\Alejandro\\\\Pulses\\\\diode measurements\\\\Prepared Pulse Schemes CSV\\\\50,20\\\\50nano\\\\SegmentA_1008_28.csv'), ('Pulse File Location, at step 29', 'D:\\\\Alejandro\\\\Pulses\\\\diode measurements\\\\Prepared Pulse Schemes CSV\\\\50,20\\\\50nano\\\\SegmentA_1008_29.csv'), ('Pulse File Location, at step 30', 'D:\\\\Alejandro\\\\Pulses\\\\diode measurements\\\\Prepared Pulse Schemes CSV\\\\50,20\\\\50nano\\\\SegmentA_1008_30.csv'), ('Pulse File Location, at step 31', 'D:\\\\Alejandro\\\\Pulses\\\\diode measurements\\\\Prepared Pulse Schemes CSV\\\\50,20\\\\50nano\\\\SegmentA_1008_31.csv'), ('Pulse File Location, at step 32', 'D:\\\\Alejandro\\\\Pulses\\\\diode measurements\\\\Prepared Pulse Schemes CSV\\\\50,20\\\\50nano\\\\SegmentA_1008_32.csv'), ('Pulse File Location, at step 33', 'D:\\\\Alejandro\\\\Pulses\\\\diode measurements\\\\Prepared Pulse Schemes CSV\\\\50,20\\\\50nano\\\\SegmentA_1008_33.csv'), ('Pulse File Location, at step 34', 'D:\\\\Alejandro\\\\Pulses\\\\diode measurements\\\\Prepared Pulse Schemes CSV\\\\50,20\\\\50nano\\\\SegmentA_1008_34.csv'), ('Pulse File Location, at step 35', 'D:\\\\Alejandro\\\\Pulses\\\\diode measurements\\\\Prepared Pulse Schemes CSV\\\\50,20\\\\50nano\\\\SegmentA_1008_35.csv'), ('Pulse File Location, at step 36', 'D:\\\\Alejandro\\\\Pulses\\\\diode measurements\\\\Prepared Pulse Schemes CSV\\\\50,20\\\\50nano\\\\SegmentA_1008_36.csv'), ('Pulse File Location, at step 37', 'D:\\\\Alejandro\\\\Pulses\\\\diode measurements\\\\Prepared Pulse Schemes CSV\\\\50,20\\\\50nano\\\\SegmentA_1008_37.csv'), ('Pulse File Location, at step 38', 'D:\\\\Alejandro\\\\Pulses\\\\diode measurements\\\\Prepared Pulse Schemes CSV\\\\50,20\\\\50nano\\\\SegmentA_1008_38.csv'), ('Pulse File Location, at step 39', 'D:\\\\Alejandro\\\\Pulses\\\\diode measurements\\\\Prepared Pulse Schemes CSV\\\\50,20\\\\50nano\\\\SegmentA_1008_39.csv'), ('Pulse File Location, at step 40', 'D:\\\\Alejandro\\\\Pulses\\\\diode measurements\\\\Prepared Pulse Schemes CSV\\\\50,20\\\\50nano\\\\SegmentA_1008_40.csv'), ('Pulse File Location, at step 41', 'D:\\\\Alejandro\\\\Pulses\\\\diode measurements\\\\Prepared Pulse Schemes CSV\\\\50,20\\\\50nano\\\\SegmentA_1008_41.csv'), ('Pulse File Location, at step 42', 'D:\\\\Alejandro\\\\Pulses\\\\diode measurements\\\\Prepared Pulse Schemes CSV\\\\50,20\\\\50nano\\\\SegmentA_1008_42.csv'), ('Pulse File Location, at step 43', 'D:\\\\Alejandro\\\\Pulses\\\\diode measurements\\\\Prepared Pulse Schemes CSV\\\\50,20\\\\50nano\\\\SegmentA_1008_43.csv'), ('Pulse File Location, at step 44', 'D:\\\\Alejandro\\\\Pulses\\\\diode measurements\\\\Prepared Pulse Schemes CSV\\\\50,20\\\\50nano\\\\SegmentA_1008_44.csv'), ('Pulse File Location, at step 45', 'D:\\\\Alejandro\\\\Pulses\\\\diode measurements\\\\Prepared Pulse Schemes CSV\\\\50,20\\\\50nano\\\\SegmentA_1008_45.csv'), ('Pulse File Location, at step 46', 'D:\\\\Alejandro\\\\Pulses\\\\diode measurements\\\\Prepared Pulse Schemes CSV\\\\50,20\\\\50nano\\\\SegmentA_1008_46.csv'), ('Pulse File Location, at step 47', 'D:\\\\Alejandro\\\\Pulses\\\\diode measurements\\\\Prepared Pulse Schemes CSV\\\\50,20\\\\50nano\\\\SegmentA_1008_47.csv'), ('Pulse File Location, at step 48', 'D:\\\\Alejandro\\\\Pulses\\\\diode measurements\\\\Prepared Pulse Schemes CSV\\\\50,20\\\\50nano\\\\SegmentA_1008_48.csv'), ('Pulse File Location, at step 49', 'D:\\\\Alejandro\\\\Pulses\\\\diode measurements\\\\Prepared Pulse Schemes CSV\\\\50,20\\\\50nano\\\\SegmentA_1008_49.csv'), ('Pulse File Location, at step 50', 'D:\\\\Alejandro\\\\Pulses\\\\diode measurements\\\\Prepared Pulse Schemes CSV\\\\50,20\\\\50nano\\\\SegmentA_1008_50.csv'), ('Pulse File Location, at step 51', 'D:\\\\Alejandro\\\\Pulses\\\\diode measurements\\\\Prepared Pulse Schemes CSV\\\\50,20\\\\50nano\\\\SegmentA_1008_51.csv'), ('Pulse File Location, at step 52', 'D:\\\\Alejandro\\\\Pulses\\\\diode measurements\\\\Prepared Pulse Schemes CSV\\\\50,20\\\\50nano\\\\SegmentA_1008_52.csv'), ('Pulse File Location, at step 53', 'D:\\\\Alejandro\\\\Pulses\\\\diode measurements\\\\Prepared Pulse Schemes CSV\\\\50,20\\\\50nano\\\\SegmentA_1008_53.csv'), ('Pulse File Location, at step 54', 'D:\\\\Alejandro\\\\Pulses\\\\diode measurements\\\\Prepared Pulse Schemes CSV\\\\50,20\\\\50nano\\\\SegmentA_1008_54.csv'), ('Pulse File Location, at step 55', 'D:\\\\Alejandro\\\\Pulses\\\\diode measurements\\\\Prepared Pulse Schemes CSV\\\\50,20\\\\50nano\\\\SegmentA_1008_55.csv'), ('Pulse File Location, at step 56', 'D:\\\\Alejandro\\\\Pulses\\\\diode measurements\\\\Prepared Pulse Schemes CSV\\\\50,20\\\\50nano\\\\SegmentA_1008_56.csv'), ('Pulse File Location, at step 57', 'D:\\\\Alejandro\\\\Pulses\\\\diode measurements\\\\Prepared Pulse Schemes CSV\\\\50,20\\\\50nano\\\\SegmentA_1008_57.csv'), ('Pulse File Location, at step 58', 'D:\\\\Alejandro\\\\Pulses\\\\diode measurements\\\\Prepared Pulse Schemes CSV\\\\50,20\\\\50nano\\\\SegmentA_1008_58.csv'), ('Pulse File Location, at step 59', 'D:\\\\Alejandro\\\\Pulses\\\\diode measurements\\\\Prepared Pulse Schemes CSV\\\\50,20\\\\50nano\\\\SegmentA_1008_59.csv'), ('Pulse File Location, at step 60', 'D:\\\\Alejandro\\\\Pulses\\\\diode measurements\\\\Prepared Pulse Schemes CSV\\\\50,20\\\\50nano\\\\SegmentA_1008_60.csv'), ('Pulse File Location, at step 61', 'D:\\\\Alejandro\\\\Pulses\\\\diode measurements\\\\Prepared Pulse Schemes CSV\\\\50,20\\\\50nano\\\\SegmentA_1008_61.csv'), ('Pulse File Location, at step 62', 'D:\\\\Alejandro\\\\Pulses\\\\diode measurements\\\\Prepared Pulse Schemes CSV\\\\50,20\\\\50nano\\\\SegmentA_1008_62.csv'), ('Pulse File Location, at step 63', 'D:\\\\Alejandro\\\\Pulses\\\\diode measurements\\\\Prepared Pulse Schemes CSV\\\\50,20\\\\50nano\\\\SegmentA_1008_63.csv'), ('Pulse File Location, at step 64', 'D:\\\\Alejandro\\\\Pulses\\\\diode measurements\\\\Prepared Pulse Schemes CSV\\\\50,20\\\\50nano\\\\SegmentA_1008_64.csv'), ('Pulse File Location, at step 65', 'D:\\\\Alejandro\\\\Pulses\\\\diode measurements\\\\Prepared Pulse Schemes CSV\\\\50,20\\\\50nano\\\\SegmentA_1008_65.csv'), ('Pulse File Location, at step 66', 'D:\\\\Alejandro\\\\Pulses\\\\diode measurements\\\\Prepared Pulse Schemes CSV\\\\50,20\\\\50nano\\\\SegmentA_1008_66.csv'), ('Pulse File Location, at step 67', 'D:\\\\Alejandro\\\\Pulses\\\\diode measurements\\\\Prepared Pulse Schemes CSV\\\\50,20\\\\50nano\\\\SegmentA_1008_67.csv'), ('Pulse File Location, at step 68', 'D:\\\\Alejandro\\\\Pulses\\\\diode measurements\\\\Prepared Pulse Schemes CSV\\\\50,20\\\\50nano\\\\SegmentA_1008_68.csv'), ('Pulse File Location, at step 69', 'D:\\\\Alejandro\\\\Pulses\\\\diode measurements\\\\Prepared Pulse Schemes CSV\\\\50,20\\\\50nano\\\\SegmentA_1008_69.csv'), ('Pulse File Location, at step 70', 'D:\\\\Alejandro\\\\Pulses\\\\diode measurements\\\\Prepared Pulse Schemes CSV\\\\50,20\\\\50nano\\\\SegmentA_1008_70.csv')])"
      ]
     },
     "metadata": {},
     "execution_count": 100
    }
   ],
   "metadata": {}
  },
  {
   "cell_type": "code",
   "execution_count": 130,
   "source": [
    "c = list(zip(list_cycleA_50nano,list_cycleB_50nano))\r\n",
    "random.shuffle(c)\r\n",
    "\r\n",
    "list_cycleA_50nano, list_cycleB_50nano = zip(*c)\r\n",
    "\r\n"
   ],
   "outputs": [],
   "metadata": {}
  },
  {
   "cell_type": "code",
   "execution_count": 134,
   "source": [
    "list_cycleA_50nano"
   ],
   "outputs": [
    {
     "output_type": "execute_result",
     "data": {
      "text/plain": [
       "('D:\\\\Alejandro\\\\Pulses\\\\diode measurements\\\\Prepared Pulse Schemes CSV\\\\50,20\\\\50nano\\\\SegmentA_1008_15.csv',\n",
       " 'D:\\\\Alejandro\\\\Pulses\\\\diode measurements\\\\Prepared Pulse Schemes CSV\\\\50,20\\\\50nano\\\\SegmentA_1008_59.csv',\n",
       " 'D:\\\\Alejandro\\\\Pulses\\\\diode measurements\\\\Prepared Pulse Schemes CSV\\\\50,20\\\\50nano\\\\SegmentA_1008_32.csv',\n",
       " 'D:\\\\Alejandro\\\\Pulses\\\\diode measurements\\\\Prepared Pulse Schemes CSV\\\\50,20\\\\50nano\\\\SegmentA_1008_36.csv',\n",
       " 'D:\\\\Alejandro\\\\Pulses\\\\diode measurements\\\\Prepared Pulse Schemes CSV\\\\50,20\\\\50nano\\\\SegmentA_1008_10.csv',\n",
       " 'D:\\\\Alejandro\\\\Pulses\\\\diode measurements\\\\Prepared Pulse Schemes CSV\\\\50,20\\\\50nano\\\\SegmentA_1008_29.csv',\n",
       " 'D:\\\\Alejandro\\\\Pulses\\\\diode measurements\\\\Prepared Pulse Schemes CSV\\\\50,20\\\\50nano\\\\SegmentA_1008_18.csv',\n",
       " 'D:\\\\Alejandro\\\\Pulses\\\\diode measurements\\\\Prepared Pulse Schemes CSV\\\\50,20\\\\50nano\\\\SegmentA_1008_44.csv',\n",
       " 'D:\\\\Alejandro\\\\Pulses\\\\diode measurements\\\\Prepared Pulse Schemes CSV\\\\50,20\\\\50nano\\\\SegmentA_1008_50.csv',\n",
       " 'D:\\\\Alejandro\\\\Pulses\\\\diode measurements\\\\Prepared Pulse Schemes CSV\\\\50,20\\\\50nano\\\\SegmentA_1008_12.csv',\n",
       " 'D:\\\\Alejandro\\\\Pulses\\\\diode measurements\\\\Prepared Pulse Schemes CSV\\\\50,20\\\\50nano\\\\SegmentA_1008_24.csv',\n",
       " 'D:\\\\Alejandro\\\\Pulses\\\\diode measurements\\\\Prepared Pulse Schemes CSV\\\\50,20\\\\50nano\\\\SegmentA_1008_30.csv',\n",
       " 'D:\\\\Alejandro\\\\Pulses\\\\diode measurements\\\\Prepared Pulse Schemes CSV\\\\50,20\\\\50nano\\\\SegmentA_1008_53.csv',\n",
       " 'D:\\\\Alejandro\\\\Pulses\\\\diode measurements\\\\Prepared Pulse Schemes CSV\\\\50,20\\\\50nano\\\\SegmentA_1008_54.csv',\n",
       " 'D:\\\\Alejandro\\\\Pulses\\\\diode measurements\\\\Prepared Pulse Schemes CSV\\\\50,20\\\\50nano\\\\SegmentA_1008_11.csv',\n",
       " 'D:\\\\Alejandro\\\\Pulses\\\\diode measurements\\\\Prepared Pulse Schemes CSV\\\\50,20\\\\50nano\\\\SegmentA_1008_27.csv',\n",
       " 'D:\\\\Alejandro\\\\Pulses\\\\diode measurements\\\\Prepared Pulse Schemes CSV\\\\50,20\\\\50nano\\\\SegmentA_1008_17.csv',\n",
       " 'D:\\\\Alejandro\\\\Pulses\\\\diode measurements\\\\Prepared Pulse Schemes CSV\\\\50,20\\\\50nano\\\\SegmentA_1008_9.csv',\n",
       " 'D:\\\\Alejandro\\\\Pulses\\\\diode measurements\\\\Prepared Pulse Schemes CSV\\\\50,20\\\\50nano\\\\SegmentA_1008_6.csv',\n",
       " 'D:\\\\Alejandro\\\\Pulses\\\\diode measurements\\\\Prepared Pulse Schemes CSV\\\\50,20\\\\50nano\\\\SegmentA_1008_66.csv',\n",
       " 'D:\\\\Alejandro\\\\Pulses\\\\diode measurements\\\\Prepared Pulse Schemes CSV\\\\50,20\\\\50nano\\\\SegmentA_1008_20.csv',\n",
       " 'D:\\\\Alejandro\\\\Pulses\\\\diode measurements\\\\Prepared Pulse Schemes CSV\\\\50,20\\\\50nano\\\\SegmentA_1008_4.csv',\n",
       " 'D:\\\\Alejandro\\\\Pulses\\\\diode measurements\\\\Prepared Pulse Schemes CSV\\\\50,20\\\\50nano\\\\SegmentA_1008_16.csv',\n",
       " 'D:\\\\Alejandro\\\\Pulses\\\\diode measurements\\\\Prepared Pulse Schemes CSV\\\\50,20\\\\50nano\\\\SegmentA_1008_13.csv',\n",
       " 'D:\\\\Alejandro\\\\Pulses\\\\diode measurements\\\\Prepared Pulse Schemes CSV\\\\50,20\\\\50nano\\\\SegmentA_1008_39.csv',\n",
       " 'D:\\\\Alejandro\\\\Pulses\\\\diode measurements\\\\Prepared Pulse Schemes CSV\\\\50,20\\\\50nano\\\\SegmentA_1008_67.csv',\n",
       " 'D:\\\\Alejandro\\\\Pulses\\\\diode measurements\\\\Prepared Pulse Schemes CSV\\\\50,20\\\\50nano\\\\SegmentA_1008_41.csv',\n",
       " 'D:\\\\Alejandro\\\\Pulses\\\\diode measurements\\\\Prepared Pulse Schemes CSV\\\\50,20\\\\50nano\\\\SegmentA_1008_2.csv',\n",
       " 'D:\\\\Alejandro\\\\Pulses\\\\diode measurements\\\\Prepared Pulse Schemes CSV\\\\50,20\\\\50nano\\\\SegmentA_1008_40.csv',\n",
       " 'D:\\\\Alejandro\\\\Pulses\\\\diode measurements\\\\Prepared Pulse Schemes CSV\\\\50,20\\\\50nano\\\\SegmentA_1008_64.csv',\n",
       " 'D:\\\\Alejandro\\\\Pulses\\\\diode measurements\\\\Prepared Pulse Schemes CSV\\\\50,20\\\\50nano\\\\SegmentA_1008_26.csv',\n",
       " 'D:\\\\Alejandro\\\\Pulses\\\\diode measurements\\\\Prepared Pulse Schemes CSV\\\\50,20\\\\50nano\\\\SegmentA_1008_35.csv',\n",
       " 'D:\\\\Alejandro\\\\Pulses\\\\diode measurements\\\\Prepared Pulse Schemes CSV\\\\50,20\\\\50nano\\\\SegmentA_1008_19.csv',\n",
       " 'D:\\\\Alejandro\\\\Pulses\\\\diode measurements\\\\Prepared Pulse Schemes CSV\\\\50,20\\\\50nano\\\\SegmentA_1008_56.csv',\n",
       " 'D:\\\\Alejandro\\\\Pulses\\\\diode measurements\\\\Prepared Pulse Schemes CSV\\\\50,20\\\\50nano\\\\SegmentA_1008_22.csv',\n",
       " 'D:\\\\Alejandro\\\\Pulses\\\\diode measurements\\\\Prepared Pulse Schemes CSV\\\\50,20\\\\50nano\\\\SegmentA_1008_58.csv',\n",
       " 'D:\\\\Alejandro\\\\Pulses\\\\diode measurements\\\\Prepared Pulse Schemes CSV\\\\50,20\\\\50nano\\\\SegmentA_1008_14.csv',\n",
       " 'D:\\\\Alejandro\\\\Pulses\\\\diode measurements\\\\Prepared Pulse Schemes CSV\\\\50,20\\\\50nano\\\\SegmentA_1008_45.csv',\n",
       " 'D:\\\\Alejandro\\\\Pulses\\\\diode measurements\\\\Prepared Pulse Schemes CSV\\\\50,20\\\\50nano\\\\SegmentA_1008_70.csv',\n",
       " 'D:\\\\Alejandro\\\\Pulses\\\\diode measurements\\\\Prepared Pulse Schemes CSV\\\\50,20\\\\50nano\\\\SegmentA_1008_23.csv',\n",
       " 'D:\\\\Alejandro\\\\Pulses\\\\diode measurements\\\\Prepared Pulse Schemes CSV\\\\50,20\\\\50nano\\\\SegmentA_1008_51.csv',\n",
       " 'D:\\\\Alejandro\\\\Pulses\\\\diode measurements\\\\Prepared Pulse Schemes CSV\\\\50,20\\\\50nano\\\\SegmentA_1008_21.csv',\n",
       " 'D:\\\\Alejandro\\\\Pulses\\\\diode measurements\\\\Prepared Pulse Schemes CSV\\\\50,20\\\\50nano\\\\SegmentA_1008_42.csv',\n",
       " 'D:\\\\Alejandro\\\\Pulses\\\\diode measurements\\\\Prepared Pulse Schemes CSV\\\\50,20\\\\50nano\\\\SegmentA_1008_3.csv',\n",
       " 'D:\\\\Alejandro\\\\Pulses\\\\diode measurements\\\\Prepared Pulse Schemes CSV\\\\50,20\\\\50nano\\\\SegmentA_1008_60.csv',\n",
       " 'D:\\\\Alejandro\\\\Pulses\\\\diode measurements\\\\Prepared Pulse Schemes CSV\\\\50,20\\\\50nano\\\\SegmentA_1008_57.csv',\n",
       " 'D:\\\\Alejandro\\\\Pulses\\\\diode measurements\\\\Prepared Pulse Schemes CSV\\\\50,20\\\\50nano\\\\SegmentA_1008_47.csv',\n",
       " 'D:\\\\Alejandro\\\\Pulses\\\\diode measurements\\\\Prepared Pulse Schemes CSV\\\\50,20\\\\50nano\\\\SegmentA_1008_7.csv',\n",
       " 'D:\\\\Alejandro\\\\Pulses\\\\diode measurements\\\\Prepared Pulse Schemes CSV\\\\50,20\\\\50nano\\\\SegmentA_1008_28.csv',\n",
       " 'D:\\\\Alejandro\\\\Pulses\\\\diode measurements\\\\Prepared Pulse Schemes CSV\\\\50,20\\\\50nano\\\\SegmentA_1008_63.csv',\n",
       " 'D:\\\\Alejandro\\\\Pulses\\\\diode measurements\\\\Prepared Pulse Schemes CSV\\\\50,20\\\\50nano\\\\SegmentA_1008_62.csv',\n",
       " 'D:\\\\Alejandro\\\\Pulses\\\\diode measurements\\\\Prepared Pulse Schemes CSV\\\\50,20\\\\50nano\\\\SegmentA_1008_0.csv',\n",
       " 'D:\\\\Alejandro\\\\Pulses\\\\diode measurements\\\\Prepared Pulse Schemes CSV\\\\50,20\\\\50nano\\\\SegmentA_1008_37.csv',\n",
       " 'D:\\\\Alejandro\\\\Pulses\\\\diode measurements\\\\Prepared Pulse Schemes CSV\\\\50,20\\\\50nano\\\\SegmentA_1008_31.csv',\n",
       " 'D:\\\\Alejandro\\\\Pulses\\\\diode measurements\\\\Prepared Pulse Schemes CSV\\\\50,20\\\\50nano\\\\SegmentA_1008_69.csv',\n",
       " 'D:\\\\Alejandro\\\\Pulses\\\\diode measurements\\\\Prepared Pulse Schemes CSV\\\\50,20\\\\50nano\\\\SegmentA_1008_49.csv',\n",
       " 'D:\\\\Alejandro\\\\Pulses\\\\diode measurements\\\\Prepared Pulse Schemes CSV\\\\50,20\\\\50nano\\\\SegmentA_1008_8.csv',\n",
       " 'D:\\\\Alejandro\\\\Pulses\\\\diode measurements\\\\Prepared Pulse Schemes CSV\\\\50,20\\\\50nano\\\\SegmentA_1008_43.csv',\n",
       " 'D:\\\\Alejandro\\\\Pulses\\\\diode measurements\\\\Prepared Pulse Schemes CSV\\\\50,20\\\\50nano\\\\SegmentA_1008_1.csv',\n",
       " 'D:\\\\Alejandro\\\\Pulses\\\\diode measurements\\\\Prepared Pulse Schemes CSV\\\\50,20\\\\50nano\\\\SegmentA_1008_52.csv',\n",
       " 'D:\\\\Alejandro\\\\Pulses\\\\diode measurements\\\\Prepared Pulse Schemes CSV\\\\50,20\\\\50nano\\\\SegmentA_1008_34.csv',\n",
       " 'D:\\\\Alejandro\\\\Pulses\\\\diode measurements\\\\Prepared Pulse Schemes CSV\\\\50,20\\\\50nano\\\\SegmentA_1008_68.csv',\n",
       " 'D:\\\\Alejandro\\\\Pulses\\\\diode measurements\\\\Prepared Pulse Schemes CSV\\\\50,20\\\\50nano\\\\SegmentA_1008_33.csv',\n",
       " 'D:\\\\Alejandro\\\\Pulses\\\\diode measurements\\\\Prepared Pulse Schemes CSV\\\\50,20\\\\50nano\\\\SegmentA_1008_5.csv',\n",
       " 'D:\\\\Alejandro\\\\Pulses\\\\diode measurements\\\\Prepared Pulse Schemes CSV\\\\50,20\\\\50nano\\\\SegmentA_1008_61.csv',\n",
       " 'D:\\\\Alejandro\\\\Pulses\\\\diode measurements\\\\Prepared Pulse Schemes CSV\\\\50,20\\\\50nano\\\\SegmentA_1008_65.csv',\n",
       " 'D:\\\\Alejandro\\\\Pulses\\\\diode measurements\\\\Prepared Pulse Schemes CSV\\\\50,20\\\\50nano\\\\SegmentA_1008_55.csv',\n",
       " 'D:\\\\Alejandro\\\\Pulses\\\\diode measurements\\\\Prepared Pulse Schemes CSV\\\\50,20\\\\50nano\\\\SegmentA_1008_38.csv',\n",
       " 'D:\\\\Alejandro\\\\Pulses\\\\diode measurements\\\\Prepared Pulse Schemes CSV\\\\50,20\\\\50nano\\\\SegmentA_1008_46.csv',\n",
       " 'D:\\\\Alejandro\\\\Pulses\\\\diode measurements\\\\Prepared Pulse Schemes CSV\\\\50,20\\\\50nano\\\\SegmentA_1008_25.csv',\n",
       " 'D:\\\\Alejandro\\\\Pulses\\\\diode measurements\\\\Prepared Pulse Schemes CSV\\\\50,20\\\\50nano\\\\SegmentA_1008_48.csv')"
      ]
     },
     "metadata": {},
     "execution_count": 134
    }
   ],
   "metadata": {}
  },
  {
   "cell_type": "code",
   "execution_count": 132,
   "source": [
    "list_cycleB_50nano"
   ],
   "outputs": [
    {
     "output_type": "execute_result",
     "data": {
      "text/plain": [
       "('D:\\\\Alejandro\\\\Pulses\\\\diode measurements\\\\Prepared Pulse Schemes CSV\\\\50,20\\\\50nano\\\\SegmentB_1008_15.csv',\n",
       " 'D:\\\\Alejandro\\\\Pulses\\\\diode measurements\\\\Prepared Pulse Schemes CSV\\\\50,20\\\\50nano\\\\SegmentB_1008_59.csv',\n",
       " 'D:\\\\Alejandro\\\\Pulses\\\\diode measurements\\\\Prepared Pulse Schemes CSV\\\\50,20\\\\50nano\\\\SegmentB_1008_32.csv',\n",
       " 'D:\\\\Alejandro\\\\Pulses\\\\diode measurements\\\\Prepared Pulse Schemes CSV\\\\50,20\\\\50nano\\\\SegmentB_1008_36.csv',\n",
       " 'D:\\\\Alejandro\\\\Pulses\\\\diode measurements\\\\Prepared Pulse Schemes CSV\\\\50,20\\\\50nano\\\\SegmentB_1008_10.csv',\n",
       " 'D:\\\\Alejandro\\\\Pulses\\\\diode measurements\\\\Prepared Pulse Schemes CSV\\\\50,20\\\\50nano\\\\SegmentB_1008_29.csv',\n",
       " 'D:\\\\Alejandro\\\\Pulses\\\\diode measurements\\\\Prepared Pulse Schemes CSV\\\\50,20\\\\50nano\\\\SegmentB_1008_18.csv',\n",
       " 'D:\\\\Alejandro\\\\Pulses\\\\diode measurements\\\\Prepared Pulse Schemes CSV\\\\50,20\\\\50nano\\\\SegmentB_1008_44.csv',\n",
       " 'D:\\\\Alejandro\\\\Pulses\\\\diode measurements\\\\Prepared Pulse Schemes CSV\\\\50,20\\\\50nano\\\\SegmentB_1008_50.csv',\n",
       " 'D:\\\\Alejandro\\\\Pulses\\\\diode measurements\\\\Prepared Pulse Schemes CSV\\\\50,20\\\\50nano\\\\SegmentB_1008_12.csv',\n",
       " 'D:\\\\Alejandro\\\\Pulses\\\\diode measurements\\\\Prepared Pulse Schemes CSV\\\\50,20\\\\50nano\\\\SegmentB_1008_24.csv',\n",
       " 'D:\\\\Alejandro\\\\Pulses\\\\diode measurements\\\\Prepared Pulse Schemes CSV\\\\50,20\\\\50nano\\\\SegmentB_1008_30.csv',\n",
       " 'D:\\\\Alejandro\\\\Pulses\\\\diode measurements\\\\Prepared Pulse Schemes CSV\\\\50,20\\\\50nano\\\\SegmentB_1008_53.csv',\n",
       " 'D:\\\\Alejandro\\\\Pulses\\\\diode measurements\\\\Prepared Pulse Schemes CSV\\\\50,20\\\\50nano\\\\SegmentB_1008_54.csv',\n",
       " 'D:\\\\Alejandro\\\\Pulses\\\\diode measurements\\\\Prepared Pulse Schemes CSV\\\\50,20\\\\50nano\\\\SegmentB_1008_11.csv',\n",
       " 'D:\\\\Alejandro\\\\Pulses\\\\diode measurements\\\\Prepared Pulse Schemes CSV\\\\50,20\\\\50nano\\\\SegmentB_1008_27.csv',\n",
       " 'D:\\\\Alejandro\\\\Pulses\\\\diode measurements\\\\Prepared Pulse Schemes CSV\\\\50,20\\\\50nano\\\\SegmentB_1008_17.csv',\n",
       " 'D:\\\\Alejandro\\\\Pulses\\\\diode measurements\\\\Prepared Pulse Schemes CSV\\\\50,20\\\\50nano\\\\SegmentB_1008_9.csv',\n",
       " 'D:\\\\Alejandro\\\\Pulses\\\\diode measurements\\\\Prepared Pulse Schemes CSV\\\\50,20\\\\50nano\\\\SegmentB_1008_6.csv',\n",
       " 'D:\\\\Alejandro\\\\Pulses\\\\diode measurements\\\\Prepared Pulse Schemes CSV\\\\50,20\\\\50nano\\\\SegmentB_1008_66.csv',\n",
       " 'D:\\\\Alejandro\\\\Pulses\\\\diode measurements\\\\Prepared Pulse Schemes CSV\\\\50,20\\\\50nano\\\\SegmentB_1008_20.csv',\n",
       " 'D:\\\\Alejandro\\\\Pulses\\\\diode measurements\\\\Prepared Pulse Schemes CSV\\\\50,20\\\\50nano\\\\SegmentB_1008_4.csv',\n",
       " 'D:\\\\Alejandro\\\\Pulses\\\\diode measurements\\\\Prepared Pulse Schemes CSV\\\\50,20\\\\50nano\\\\SegmentB_1008_16.csv',\n",
       " 'D:\\\\Alejandro\\\\Pulses\\\\diode measurements\\\\Prepared Pulse Schemes CSV\\\\50,20\\\\50nano\\\\SegmentB_1008_13.csv',\n",
       " 'D:\\\\Alejandro\\\\Pulses\\\\diode measurements\\\\Prepared Pulse Schemes CSV\\\\50,20\\\\50nano\\\\SegmentB_1008_39.csv',\n",
       " 'D:\\\\Alejandro\\\\Pulses\\\\diode measurements\\\\Prepared Pulse Schemes CSV\\\\50,20\\\\50nano\\\\SegmentB_1008_67.csv',\n",
       " 'D:\\\\Alejandro\\\\Pulses\\\\diode measurements\\\\Prepared Pulse Schemes CSV\\\\50,20\\\\50nano\\\\SegmentB_1008_41.csv',\n",
       " 'D:\\\\Alejandro\\\\Pulses\\\\diode measurements\\\\Prepared Pulse Schemes CSV\\\\50,20\\\\50nano\\\\SegmentB_1008_2.csv',\n",
       " 'D:\\\\Alejandro\\\\Pulses\\\\diode measurements\\\\Prepared Pulse Schemes CSV\\\\50,20\\\\50nano\\\\SegmentB_1008_40.csv',\n",
       " 'D:\\\\Alejandro\\\\Pulses\\\\diode measurements\\\\Prepared Pulse Schemes CSV\\\\50,20\\\\50nano\\\\SegmentB_1008_64.csv',\n",
       " 'D:\\\\Alejandro\\\\Pulses\\\\diode measurements\\\\Prepared Pulse Schemes CSV\\\\50,20\\\\50nano\\\\SegmentB_1008_26.csv',\n",
       " 'D:\\\\Alejandro\\\\Pulses\\\\diode measurements\\\\Prepared Pulse Schemes CSV\\\\50,20\\\\50nano\\\\SegmentB_1008_35.csv',\n",
       " 'D:\\\\Alejandro\\\\Pulses\\\\diode measurements\\\\Prepared Pulse Schemes CSV\\\\50,20\\\\50nano\\\\SegmentB_1008_19.csv',\n",
       " 'D:\\\\Alejandro\\\\Pulses\\\\diode measurements\\\\Prepared Pulse Schemes CSV\\\\50,20\\\\50nano\\\\SegmentB_1008_56.csv',\n",
       " 'D:\\\\Alejandro\\\\Pulses\\\\diode measurements\\\\Prepared Pulse Schemes CSV\\\\50,20\\\\50nano\\\\SegmentB_1008_22.csv',\n",
       " 'D:\\\\Alejandro\\\\Pulses\\\\diode measurements\\\\Prepared Pulse Schemes CSV\\\\50,20\\\\50nano\\\\SegmentB_1008_58.csv',\n",
       " 'D:\\\\Alejandro\\\\Pulses\\\\diode measurements\\\\Prepared Pulse Schemes CSV\\\\50,20\\\\50nano\\\\SegmentB_1008_14.csv',\n",
       " 'D:\\\\Alejandro\\\\Pulses\\\\diode measurements\\\\Prepared Pulse Schemes CSV\\\\50,20\\\\50nano\\\\SegmentB_1008_45.csv',\n",
       " 'D:\\\\Alejandro\\\\Pulses\\\\diode measurements\\\\Prepared Pulse Schemes CSV\\\\50,20\\\\50nano\\\\SegmentB_1008_70.csv',\n",
       " 'D:\\\\Alejandro\\\\Pulses\\\\diode measurements\\\\Prepared Pulse Schemes CSV\\\\50,20\\\\50nano\\\\SegmentB_1008_23.csv',\n",
       " 'D:\\\\Alejandro\\\\Pulses\\\\diode measurements\\\\Prepared Pulse Schemes CSV\\\\50,20\\\\50nano\\\\SegmentB_1008_51.csv',\n",
       " 'D:\\\\Alejandro\\\\Pulses\\\\diode measurements\\\\Prepared Pulse Schemes CSV\\\\50,20\\\\50nano\\\\SegmentB_1008_21.csv',\n",
       " 'D:\\\\Alejandro\\\\Pulses\\\\diode measurements\\\\Prepared Pulse Schemes CSV\\\\50,20\\\\50nano\\\\SegmentB_1008_42.csv',\n",
       " 'D:\\\\Alejandro\\\\Pulses\\\\diode measurements\\\\Prepared Pulse Schemes CSV\\\\50,20\\\\50nano\\\\SegmentB_1008_3.csv',\n",
       " 'D:\\\\Alejandro\\\\Pulses\\\\diode measurements\\\\Prepared Pulse Schemes CSV\\\\50,20\\\\50nano\\\\SegmentB_1008_60.csv',\n",
       " 'D:\\\\Alejandro\\\\Pulses\\\\diode measurements\\\\Prepared Pulse Schemes CSV\\\\50,20\\\\50nano\\\\SegmentB_1008_57.csv',\n",
       " 'D:\\\\Alejandro\\\\Pulses\\\\diode measurements\\\\Prepared Pulse Schemes CSV\\\\50,20\\\\50nano\\\\SegmentB_1008_47.csv',\n",
       " 'D:\\\\Alejandro\\\\Pulses\\\\diode measurements\\\\Prepared Pulse Schemes CSV\\\\50,20\\\\50nano\\\\SegmentB_1008_7.csv',\n",
       " 'D:\\\\Alejandro\\\\Pulses\\\\diode measurements\\\\Prepared Pulse Schemes CSV\\\\50,20\\\\50nano\\\\SegmentB_1008_28.csv',\n",
       " 'D:\\\\Alejandro\\\\Pulses\\\\diode measurements\\\\Prepared Pulse Schemes CSV\\\\50,20\\\\50nano\\\\SegmentB_1008_63.csv',\n",
       " 'D:\\\\Alejandro\\\\Pulses\\\\diode measurements\\\\Prepared Pulse Schemes CSV\\\\50,20\\\\50nano\\\\SegmentB_1008_62.csv',\n",
       " 'D:\\\\Alejandro\\\\Pulses\\\\diode measurements\\\\Prepared Pulse Schemes CSV\\\\50,20\\\\50nano\\\\SegmentB_1008_0.csv',\n",
       " 'D:\\\\Alejandro\\\\Pulses\\\\diode measurements\\\\Prepared Pulse Schemes CSV\\\\50,20\\\\50nano\\\\SegmentB_1008_37.csv',\n",
       " 'D:\\\\Alejandro\\\\Pulses\\\\diode measurements\\\\Prepared Pulse Schemes CSV\\\\50,20\\\\50nano\\\\SegmentB_1008_31.csv',\n",
       " 'D:\\\\Alejandro\\\\Pulses\\\\diode measurements\\\\Prepared Pulse Schemes CSV\\\\50,20\\\\50nano\\\\SegmentB_1008_69.csv',\n",
       " 'D:\\\\Alejandro\\\\Pulses\\\\diode measurements\\\\Prepared Pulse Schemes CSV\\\\50,20\\\\50nano\\\\SegmentB_1008_49.csv',\n",
       " 'D:\\\\Alejandro\\\\Pulses\\\\diode measurements\\\\Prepared Pulse Schemes CSV\\\\50,20\\\\50nano\\\\SegmentB_1008_8.csv',\n",
       " 'D:\\\\Alejandro\\\\Pulses\\\\diode measurements\\\\Prepared Pulse Schemes CSV\\\\50,20\\\\50nano\\\\SegmentB_1008_43.csv',\n",
       " 'D:\\\\Alejandro\\\\Pulses\\\\diode measurements\\\\Prepared Pulse Schemes CSV\\\\50,20\\\\50nano\\\\SegmentB_1008_1.csv',\n",
       " 'D:\\\\Alejandro\\\\Pulses\\\\diode measurements\\\\Prepared Pulse Schemes CSV\\\\50,20\\\\50nano\\\\SegmentB_1008_52.csv',\n",
       " 'D:\\\\Alejandro\\\\Pulses\\\\diode measurements\\\\Prepared Pulse Schemes CSV\\\\50,20\\\\50nano\\\\SegmentB_1008_34.csv',\n",
       " 'D:\\\\Alejandro\\\\Pulses\\\\diode measurements\\\\Prepared Pulse Schemes CSV\\\\50,20\\\\50nano\\\\SegmentB_1008_68.csv',\n",
       " 'D:\\\\Alejandro\\\\Pulses\\\\diode measurements\\\\Prepared Pulse Schemes CSV\\\\50,20\\\\50nano\\\\SegmentB_1008_33.csv',\n",
       " 'D:\\\\Alejandro\\\\Pulses\\\\diode measurements\\\\Prepared Pulse Schemes CSV\\\\50,20\\\\50nano\\\\SegmentB_1008_5.csv',\n",
       " 'D:\\\\Alejandro\\\\Pulses\\\\diode measurements\\\\Prepared Pulse Schemes CSV\\\\50,20\\\\50nano\\\\SegmentB_1008_61.csv',\n",
       " 'D:\\\\Alejandro\\\\Pulses\\\\diode measurements\\\\Prepared Pulse Schemes CSV\\\\50,20\\\\50nano\\\\SegmentB_1008_65.csv',\n",
       " 'D:\\\\Alejandro\\\\Pulses\\\\diode measurements\\\\Prepared Pulse Schemes CSV\\\\50,20\\\\50nano\\\\SegmentB_1008_55.csv',\n",
       " 'D:\\\\Alejandro\\\\Pulses\\\\diode measurements\\\\Prepared Pulse Schemes CSV\\\\50,20\\\\50nano\\\\SegmentB_1008_38.csv',\n",
       " 'D:\\\\Alejandro\\\\Pulses\\\\diode measurements\\\\Prepared Pulse Schemes CSV\\\\50,20\\\\50nano\\\\SegmentB_1008_46.csv',\n",
       " 'D:\\\\Alejandro\\\\Pulses\\\\diode measurements\\\\Prepared Pulse Schemes CSV\\\\50,20\\\\50nano\\\\SegmentB_1008_25.csv',\n",
       " 'D:\\\\Alejandro\\\\Pulses\\\\diode measurements\\\\Prepared Pulse Schemes CSV\\\\50,20\\\\50nano\\\\SegmentB_1008_48.csv')"
      ]
     },
     "metadata": {},
     "execution_count": 132
    }
   ],
   "metadata": {}
  },
  {
   "cell_type": "code",
   "execution_count": 123,
   "source": [
    "list_cycleA_50nano = list(sweeping_run_a_50nano.values())\r\n",
    "list_cycleA_50nano"
   ],
   "outputs": [
    {
     "output_type": "execute_result",
     "data": {
      "text/plain": [
       "['D:\\\\Alejandro\\\\Pulses\\\\diode measurements\\\\Prepared Pulse Schemes CSV\\\\50,20\\\\50nano\\\\SegmentA_1008_0.csv',\n",
       " 'D:\\\\Alejandro\\\\Pulses\\\\diode measurements\\\\Prepared Pulse Schemes CSV\\\\50,20\\\\50nano\\\\SegmentA_1008_1.csv',\n",
       " 'D:\\\\Alejandro\\\\Pulses\\\\diode measurements\\\\Prepared Pulse Schemes CSV\\\\50,20\\\\50nano\\\\SegmentA_1008_2.csv',\n",
       " 'D:\\\\Alejandro\\\\Pulses\\\\diode measurements\\\\Prepared Pulse Schemes CSV\\\\50,20\\\\50nano\\\\SegmentA_1008_3.csv',\n",
       " 'D:\\\\Alejandro\\\\Pulses\\\\diode measurements\\\\Prepared Pulse Schemes CSV\\\\50,20\\\\50nano\\\\SegmentA_1008_4.csv',\n",
       " 'D:\\\\Alejandro\\\\Pulses\\\\diode measurements\\\\Prepared Pulse Schemes CSV\\\\50,20\\\\50nano\\\\SegmentA_1008_5.csv',\n",
       " 'D:\\\\Alejandro\\\\Pulses\\\\diode measurements\\\\Prepared Pulse Schemes CSV\\\\50,20\\\\50nano\\\\SegmentA_1008_6.csv',\n",
       " 'D:\\\\Alejandro\\\\Pulses\\\\diode measurements\\\\Prepared Pulse Schemes CSV\\\\50,20\\\\50nano\\\\SegmentA_1008_7.csv',\n",
       " 'D:\\\\Alejandro\\\\Pulses\\\\diode measurements\\\\Prepared Pulse Schemes CSV\\\\50,20\\\\50nano\\\\SegmentA_1008_8.csv',\n",
       " 'D:\\\\Alejandro\\\\Pulses\\\\diode measurements\\\\Prepared Pulse Schemes CSV\\\\50,20\\\\50nano\\\\SegmentA_1008_9.csv',\n",
       " 'D:\\\\Alejandro\\\\Pulses\\\\diode measurements\\\\Prepared Pulse Schemes CSV\\\\50,20\\\\50nano\\\\SegmentA_1008_10.csv',\n",
       " 'D:\\\\Alejandro\\\\Pulses\\\\diode measurements\\\\Prepared Pulse Schemes CSV\\\\50,20\\\\50nano\\\\SegmentA_1008_11.csv',\n",
       " 'D:\\\\Alejandro\\\\Pulses\\\\diode measurements\\\\Prepared Pulse Schemes CSV\\\\50,20\\\\50nano\\\\SegmentA_1008_12.csv',\n",
       " 'D:\\\\Alejandro\\\\Pulses\\\\diode measurements\\\\Prepared Pulse Schemes CSV\\\\50,20\\\\50nano\\\\SegmentA_1008_13.csv',\n",
       " 'D:\\\\Alejandro\\\\Pulses\\\\diode measurements\\\\Prepared Pulse Schemes CSV\\\\50,20\\\\50nano\\\\SegmentA_1008_14.csv',\n",
       " 'D:\\\\Alejandro\\\\Pulses\\\\diode measurements\\\\Prepared Pulse Schemes CSV\\\\50,20\\\\50nano\\\\SegmentA_1008_15.csv',\n",
       " 'D:\\\\Alejandro\\\\Pulses\\\\diode measurements\\\\Prepared Pulse Schemes CSV\\\\50,20\\\\50nano\\\\SegmentA_1008_16.csv',\n",
       " 'D:\\\\Alejandro\\\\Pulses\\\\diode measurements\\\\Prepared Pulse Schemes CSV\\\\50,20\\\\50nano\\\\SegmentA_1008_17.csv',\n",
       " 'D:\\\\Alejandro\\\\Pulses\\\\diode measurements\\\\Prepared Pulse Schemes CSV\\\\50,20\\\\50nano\\\\SegmentA_1008_18.csv',\n",
       " 'D:\\\\Alejandro\\\\Pulses\\\\diode measurements\\\\Prepared Pulse Schemes CSV\\\\50,20\\\\50nano\\\\SegmentA_1008_19.csv',\n",
       " 'D:\\\\Alejandro\\\\Pulses\\\\diode measurements\\\\Prepared Pulse Schemes CSV\\\\50,20\\\\50nano\\\\SegmentA_1008_20.csv',\n",
       " 'D:\\\\Alejandro\\\\Pulses\\\\diode measurements\\\\Prepared Pulse Schemes CSV\\\\50,20\\\\50nano\\\\SegmentA_1008_21.csv',\n",
       " 'D:\\\\Alejandro\\\\Pulses\\\\diode measurements\\\\Prepared Pulse Schemes CSV\\\\50,20\\\\50nano\\\\SegmentA_1008_22.csv',\n",
       " 'D:\\\\Alejandro\\\\Pulses\\\\diode measurements\\\\Prepared Pulse Schemes CSV\\\\50,20\\\\50nano\\\\SegmentA_1008_23.csv',\n",
       " 'D:\\\\Alejandro\\\\Pulses\\\\diode measurements\\\\Prepared Pulse Schemes CSV\\\\50,20\\\\50nano\\\\SegmentA_1008_24.csv',\n",
       " 'D:\\\\Alejandro\\\\Pulses\\\\diode measurements\\\\Prepared Pulse Schemes CSV\\\\50,20\\\\50nano\\\\SegmentA_1008_25.csv',\n",
       " 'D:\\\\Alejandro\\\\Pulses\\\\diode measurements\\\\Prepared Pulse Schemes CSV\\\\50,20\\\\50nano\\\\SegmentA_1008_26.csv',\n",
       " 'D:\\\\Alejandro\\\\Pulses\\\\diode measurements\\\\Prepared Pulse Schemes CSV\\\\50,20\\\\50nano\\\\SegmentA_1008_27.csv',\n",
       " 'D:\\\\Alejandro\\\\Pulses\\\\diode measurements\\\\Prepared Pulse Schemes CSV\\\\50,20\\\\50nano\\\\SegmentA_1008_28.csv',\n",
       " 'D:\\\\Alejandro\\\\Pulses\\\\diode measurements\\\\Prepared Pulse Schemes CSV\\\\50,20\\\\50nano\\\\SegmentA_1008_29.csv',\n",
       " 'D:\\\\Alejandro\\\\Pulses\\\\diode measurements\\\\Prepared Pulse Schemes CSV\\\\50,20\\\\50nano\\\\SegmentA_1008_30.csv',\n",
       " 'D:\\\\Alejandro\\\\Pulses\\\\diode measurements\\\\Prepared Pulse Schemes CSV\\\\50,20\\\\50nano\\\\SegmentA_1008_31.csv',\n",
       " 'D:\\\\Alejandro\\\\Pulses\\\\diode measurements\\\\Prepared Pulse Schemes CSV\\\\50,20\\\\50nano\\\\SegmentA_1008_32.csv',\n",
       " 'D:\\\\Alejandro\\\\Pulses\\\\diode measurements\\\\Prepared Pulse Schemes CSV\\\\50,20\\\\50nano\\\\SegmentA_1008_33.csv',\n",
       " 'D:\\\\Alejandro\\\\Pulses\\\\diode measurements\\\\Prepared Pulse Schemes CSV\\\\50,20\\\\50nano\\\\SegmentA_1008_34.csv',\n",
       " 'D:\\\\Alejandro\\\\Pulses\\\\diode measurements\\\\Prepared Pulse Schemes CSV\\\\50,20\\\\50nano\\\\SegmentA_1008_35.csv',\n",
       " 'D:\\\\Alejandro\\\\Pulses\\\\diode measurements\\\\Prepared Pulse Schemes CSV\\\\50,20\\\\50nano\\\\SegmentA_1008_36.csv',\n",
       " 'D:\\\\Alejandro\\\\Pulses\\\\diode measurements\\\\Prepared Pulse Schemes CSV\\\\50,20\\\\50nano\\\\SegmentA_1008_37.csv',\n",
       " 'D:\\\\Alejandro\\\\Pulses\\\\diode measurements\\\\Prepared Pulse Schemes CSV\\\\50,20\\\\50nano\\\\SegmentA_1008_38.csv',\n",
       " 'D:\\\\Alejandro\\\\Pulses\\\\diode measurements\\\\Prepared Pulse Schemes CSV\\\\50,20\\\\50nano\\\\SegmentA_1008_39.csv',\n",
       " 'D:\\\\Alejandro\\\\Pulses\\\\diode measurements\\\\Prepared Pulse Schemes CSV\\\\50,20\\\\50nano\\\\SegmentA_1008_40.csv',\n",
       " 'D:\\\\Alejandro\\\\Pulses\\\\diode measurements\\\\Prepared Pulse Schemes CSV\\\\50,20\\\\50nano\\\\SegmentA_1008_41.csv',\n",
       " 'D:\\\\Alejandro\\\\Pulses\\\\diode measurements\\\\Prepared Pulse Schemes CSV\\\\50,20\\\\50nano\\\\SegmentA_1008_42.csv',\n",
       " 'D:\\\\Alejandro\\\\Pulses\\\\diode measurements\\\\Prepared Pulse Schemes CSV\\\\50,20\\\\50nano\\\\SegmentA_1008_43.csv',\n",
       " 'D:\\\\Alejandro\\\\Pulses\\\\diode measurements\\\\Prepared Pulse Schemes CSV\\\\50,20\\\\50nano\\\\SegmentA_1008_44.csv',\n",
       " 'D:\\\\Alejandro\\\\Pulses\\\\diode measurements\\\\Prepared Pulse Schemes CSV\\\\50,20\\\\50nano\\\\SegmentA_1008_45.csv',\n",
       " 'D:\\\\Alejandro\\\\Pulses\\\\diode measurements\\\\Prepared Pulse Schemes CSV\\\\50,20\\\\50nano\\\\SegmentA_1008_46.csv',\n",
       " 'D:\\\\Alejandro\\\\Pulses\\\\diode measurements\\\\Prepared Pulse Schemes CSV\\\\50,20\\\\50nano\\\\SegmentA_1008_47.csv',\n",
       " 'D:\\\\Alejandro\\\\Pulses\\\\diode measurements\\\\Prepared Pulse Schemes CSV\\\\50,20\\\\50nano\\\\SegmentA_1008_48.csv',\n",
       " 'D:\\\\Alejandro\\\\Pulses\\\\diode measurements\\\\Prepared Pulse Schemes CSV\\\\50,20\\\\50nano\\\\SegmentA_1008_49.csv',\n",
       " 'D:\\\\Alejandro\\\\Pulses\\\\diode measurements\\\\Prepared Pulse Schemes CSV\\\\50,20\\\\50nano\\\\SegmentA_1008_50.csv',\n",
       " 'D:\\\\Alejandro\\\\Pulses\\\\diode measurements\\\\Prepared Pulse Schemes CSV\\\\50,20\\\\50nano\\\\SegmentA_1008_51.csv',\n",
       " 'D:\\\\Alejandro\\\\Pulses\\\\diode measurements\\\\Prepared Pulse Schemes CSV\\\\50,20\\\\50nano\\\\SegmentA_1008_52.csv',\n",
       " 'D:\\\\Alejandro\\\\Pulses\\\\diode measurements\\\\Prepared Pulse Schemes CSV\\\\50,20\\\\50nano\\\\SegmentA_1008_53.csv',\n",
       " 'D:\\\\Alejandro\\\\Pulses\\\\diode measurements\\\\Prepared Pulse Schemes CSV\\\\50,20\\\\50nano\\\\SegmentA_1008_54.csv',\n",
       " 'D:\\\\Alejandro\\\\Pulses\\\\diode measurements\\\\Prepared Pulse Schemes CSV\\\\50,20\\\\50nano\\\\SegmentA_1008_55.csv',\n",
       " 'D:\\\\Alejandro\\\\Pulses\\\\diode measurements\\\\Prepared Pulse Schemes CSV\\\\50,20\\\\50nano\\\\SegmentA_1008_56.csv',\n",
       " 'D:\\\\Alejandro\\\\Pulses\\\\diode measurements\\\\Prepared Pulse Schemes CSV\\\\50,20\\\\50nano\\\\SegmentA_1008_57.csv',\n",
       " 'D:\\\\Alejandro\\\\Pulses\\\\diode measurements\\\\Prepared Pulse Schemes CSV\\\\50,20\\\\50nano\\\\SegmentA_1008_58.csv',\n",
       " 'D:\\\\Alejandro\\\\Pulses\\\\diode measurements\\\\Prepared Pulse Schemes CSV\\\\50,20\\\\50nano\\\\SegmentA_1008_59.csv',\n",
       " 'D:\\\\Alejandro\\\\Pulses\\\\diode measurements\\\\Prepared Pulse Schemes CSV\\\\50,20\\\\50nano\\\\SegmentA_1008_60.csv',\n",
       " 'D:\\\\Alejandro\\\\Pulses\\\\diode measurements\\\\Prepared Pulse Schemes CSV\\\\50,20\\\\50nano\\\\SegmentA_1008_61.csv',\n",
       " 'D:\\\\Alejandro\\\\Pulses\\\\diode measurements\\\\Prepared Pulse Schemes CSV\\\\50,20\\\\50nano\\\\SegmentA_1008_62.csv',\n",
       " 'D:\\\\Alejandro\\\\Pulses\\\\diode measurements\\\\Prepared Pulse Schemes CSV\\\\50,20\\\\50nano\\\\SegmentA_1008_63.csv',\n",
       " 'D:\\\\Alejandro\\\\Pulses\\\\diode measurements\\\\Prepared Pulse Schemes CSV\\\\50,20\\\\50nano\\\\SegmentA_1008_64.csv',\n",
       " 'D:\\\\Alejandro\\\\Pulses\\\\diode measurements\\\\Prepared Pulse Schemes CSV\\\\50,20\\\\50nano\\\\SegmentA_1008_65.csv',\n",
       " 'D:\\\\Alejandro\\\\Pulses\\\\diode measurements\\\\Prepared Pulse Schemes CSV\\\\50,20\\\\50nano\\\\SegmentA_1008_66.csv',\n",
       " 'D:\\\\Alejandro\\\\Pulses\\\\diode measurements\\\\Prepared Pulse Schemes CSV\\\\50,20\\\\50nano\\\\SegmentA_1008_67.csv',\n",
       " 'D:\\\\Alejandro\\\\Pulses\\\\diode measurements\\\\Prepared Pulse Schemes CSV\\\\50,20\\\\50nano\\\\SegmentA_1008_68.csv',\n",
       " 'D:\\\\Alejandro\\\\Pulses\\\\diode measurements\\\\Prepared Pulse Schemes CSV\\\\50,20\\\\50nano\\\\SegmentA_1008_69.csv',\n",
       " 'D:\\\\Alejandro\\\\Pulses\\\\diode measurements\\\\Prepared Pulse Schemes CSV\\\\50,20\\\\50nano\\\\SegmentA_1008_70.csv']"
      ]
     },
     "metadata": {},
     "execution_count": 123
    }
   ],
   "metadata": {}
  },
  {
   "cell_type": "code",
   "execution_count": 122,
   "source": [
    "random.shuffle(list_cycleA_50nano)\r\n",
    "list_cycleA_50nano"
   ],
   "outputs": [
    {
     "output_type": "execute_result",
     "data": {
      "text/plain": [
       "['D:\\\\Alejandro\\\\Pulses\\\\diode measurements\\\\Prepared Pulse Schemes CSV\\\\50,20\\\\50nano\\\\SegmentA_1008_36.csv',\n",
       " 'D:\\\\Alejandro\\\\Pulses\\\\diode measurements\\\\Prepared Pulse Schemes CSV\\\\50,20\\\\50nano\\\\SegmentA_1008_47.csv',\n",
       " 'D:\\\\Alejandro\\\\Pulses\\\\diode measurements\\\\Prepared Pulse Schemes CSV\\\\50,20\\\\50nano\\\\SegmentA_1008_28.csv',\n",
       " 'D:\\\\Alejandro\\\\Pulses\\\\diode measurements\\\\Prepared Pulse Schemes CSV\\\\50,20\\\\50nano\\\\SegmentA_1008_24.csv',\n",
       " 'D:\\\\Alejandro\\\\Pulses\\\\diode measurements\\\\Prepared Pulse Schemes CSV\\\\50,20\\\\50nano\\\\SegmentA_1008_32.csv',\n",
       " 'D:\\\\Alejandro\\\\Pulses\\\\diode measurements\\\\Prepared Pulse Schemes CSV\\\\50,20\\\\50nano\\\\SegmentA_1008_61.csv',\n",
       " 'D:\\\\Alejandro\\\\Pulses\\\\diode measurements\\\\Prepared Pulse Schemes CSV\\\\50,20\\\\50nano\\\\SegmentA_1008_35.csv',\n",
       " 'D:\\\\Alejandro\\\\Pulses\\\\diode measurements\\\\Prepared Pulse Schemes CSV\\\\50,20\\\\50nano\\\\SegmentA_1008_10.csv',\n",
       " 'D:\\\\Alejandro\\\\Pulses\\\\diode measurements\\\\Prepared Pulse Schemes CSV\\\\50,20\\\\50nano\\\\SegmentA_1008_68.csv',\n",
       " 'D:\\\\Alejandro\\\\Pulses\\\\diode measurements\\\\Prepared Pulse Schemes CSV\\\\50,20\\\\50nano\\\\SegmentA_1008_34.csv',\n",
       " 'D:\\\\Alejandro\\\\Pulses\\\\diode measurements\\\\Prepared Pulse Schemes CSV\\\\50,20\\\\50nano\\\\SegmentA_1008_44.csv',\n",
       " 'D:\\\\Alejandro\\\\Pulses\\\\diode measurements\\\\Prepared Pulse Schemes CSV\\\\50,20\\\\50nano\\\\SegmentA_1008_57.csv',\n",
       " 'D:\\\\Alejandro\\\\Pulses\\\\diode measurements\\\\Prepared Pulse Schemes CSV\\\\50,20\\\\50nano\\\\SegmentA_1008_23.csv',\n",
       " 'D:\\\\Alejandro\\\\Pulses\\\\diode measurements\\\\Prepared Pulse Schemes CSV\\\\50,20\\\\50nano\\\\SegmentA_1008_18.csv',\n",
       " 'D:\\\\Alejandro\\\\Pulses\\\\diode measurements\\\\Prepared Pulse Schemes CSV\\\\50,20\\\\50nano\\\\SegmentA_1008_3.csv',\n",
       " 'D:\\\\Alejandro\\\\Pulses\\\\diode measurements\\\\Prepared Pulse Schemes CSV\\\\50,20\\\\50nano\\\\SegmentA_1008_52.csv',\n",
       " 'D:\\\\Alejandro\\\\Pulses\\\\diode measurements\\\\Prepared Pulse Schemes CSV\\\\50,20\\\\50nano\\\\SegmentA_1008_66.csv',\n",
       " 'D:\\\\Alejandro\\\\Pulses\\\\diode measurements\\\\Prepared Pulse Schemes CSV\\\\50,20\\\\50nano\\\\SegmentA_1008_51.csv',\n",
       " 'D:\\\\Alejandro\\\\Pulses\\\\diode measurements\\\\Prepared Pulse Schemes CSV\\\\50,20\\\\50nano\\\\SegmentA_1008_59.csv',\n",
       " 'D:\\\\Alejandro\\\\Pulses\\\\diode measurements\\\\Prepared Pulse Schemes CSV\\\\50,20\\\\50nano\\\\SegmentA_1008_0.csv',\n",
       " 'D:\\\\Alejandro\\\\Pulses\\\\diode measurements\\\\Prepared Pulse Schemes CSV\\\\50,20\\\\50nano\\\\SegmentA_1008_41.csv',\n",
       " 'D:\\\\Alejandro\\\\Pulses\\\\diode measurements\\\\Prepared Pulse Schemes CSV\\\\50,20\\\\50nano\\\\SegmentA_1008_63.csv',\n",
       " 'D:\\\\Alejandro\\\\Pulses\\\\diode measurements\\\\Prepared Pulse Schemes CSV\\\\50,20\\\\50nano\\\\SegmentA_1008_14.csv',\n",
       " 'D:\\\\Alejandro\\\\Pulses\\\\diode measurements\\\\Prepared Pulse Schemes CSV\\\\50,20\\\\50nano\\\\SegmentA_1008_58.csv',\n",
       " 'D:\\\\Alejandro\\\\Pulses\\\\diode measurements\\\\Prepared Pulse Schemes CSV\\\\50,20\\\\50nano\\\\SegmentA_1008_42.csv',\n",
       " 'D:\\\\Alejandro\\\\Pulses\\\\diode measurements\\\\Prepared Pulse Schemes CSV\\\\50,20\\\\50nano\\\\SegmentA_1008_5.csv',\n",
       " 'D:\\\\Alejandro\\\\Pulses\\\\diode measurements\\\\Prepared Pulse Schemes CSV\\\\50,20\\\\50nano\\\\SegmentA_1008_67.csv',\n",
       " 'D:\\\\Alejandro\\\\Pulses\\\\diode measurements\\\\Prepared Pulse Schemes CSV\\\\50,20\\\\50nano\\\\SegmentA_1008_43.csv',\n",
       " 'D:\\\\Alejandro\\\\Pulses\\\\diode measurements\\\\Prepared Pulse Schemes CSV\\\\50,20\\\\50nano\\\\SegmentA_1008_26.csv',\n",
       " 'D:\\\\Alejandro\\\\Pulses\\\\diode measurements\\\\Prepared Pulse Schemes CSV\\\\50,20\\\\50nano\\\\SegmentA_1008_7.csv',\n",
       " 'D:\\\\Alejandro\\\\Pulses\\\\diode measurements\\\\Prepared Pulse Schemes CSV\\\\50,20\\\\50nano\\\\SegmentA_1008_19.csv',\n",
       " 'D:\\\\Alejandro\\\\Pulses\\\\diode measurements\\\\Prepared Pulse Schemes CSV\\\\50,20\\\\50nano\\\\SegmentA_1008_31.csv',\n",
       " 'D:\\\\Alejandro\\\\Pulses\\\\diode measurements\\\\Prepared Pulse Schemes CSV\\\\50,20\\\\50nano\\\\SegmentA_1008_45.csv',\n",
       " 'D:\\\\Alejandro\\\\Pulses\\\\diode measurements\\\\Prepared Pulse Schemes CSV\\\\50,20\\\\50nano\\\\SegmentA_1008_30.csv',\n",
       " 'D:\\\\Alejandro\\\\Pulses\\\\diode measurements\\\\Prepared Pulse Schemes CSV\\\\50,20\\\\50nano\\\\SegmentA_1008_64.csv',\n",
       " 'D:\\\\Alejandro\\\\Pulses\\\\diode measurements\\\\Prepared Pulse Schemes CSV\\\\50,20\\\\50nano\\\\SegmentA_1008_16.csv',\n",
       " 'D:\\\\Alejandro\\\\Pulses\\\\diode measurements\\\\Prepared Pulse Schemes CSV\\\\50,20\\\\50nano\\\\SegmentA_1008_8.csv',\n",
       " 'D:\\\\Alejandro\\\\Pulses\\\\diode measurements\\\\Prepared Pulse Schemes CSV\\\\50,20\\\\50nano\\\\SegmentA_1008_50.csv',\n",
       " 'D:\\\\Alejandro\\\\Pulses\\\\diode measurements\\\\Prepared Pulse Schemes CSV\\\\50,20\\\\50nano\\\\SegmentA_1008_11.csv',\n",
       " 'D:\\\\Alejandro\\\\Pulses\\\\diode measurements\\\\Prepared Pulse Schemes CSV\\\\50,20\\\\50nano\\\\SegmentA_1008_25.csv',\n",
       " 'D:\\\\Alejandro\\\\Pulses\\\\diode measurements\\\\Prepared Pulse Schemes CSV\\\\50,20\\\\50nano\\\\SegmentA_1008_54.csv',\n",
       " 'D:\\\\Alejandro\\\\Pulses\\\\diode measurements\\\\Prepared Pulse Schemes CSV\\\\50,20\\\\50nano\\\\SegmentA_1008_29.csv',\n",
       " 'D:\\\\Alejandro\\\\Pulses\\\\diode measurements\\\\Prepared Pulse Schemes CSV\\\\50,20\\\\50nano\\\\SegmentA_1008_9.csv',\n",
       " 'D:\\\\Alejandro\\\\Pulses\\\\diode measurements\\\\Prepared Pulse Schemes CSV\\\\50,20\\\\50nano\\\\SegmentA_1008_69.csv',\n",
       " 'D:\\\\Alejandro\\\\Pulses\\\\diode measurements\\\\Prepared Pulse Schemes CSV\\\\50,20\\\\50nano\\\\SegmentA_1008_39.csv',\n",
       " 'D:\\\\Alejandro\\\\Pulses\\\\diode measurements\\\\Prepared Pulse Schemes CSV\\\\50,20\\\\50nano\\\\SegmentA_1008_21.csv',\n",
       " 'D:\\\\Alejandro\\\\Pulses\\\\diode measurements\\\\Prepared Pulse Schemes CSV\\\\50,20\\\\50nano\\\\SegmentA_1008_70.csv',\n",
       " 'D:\\\\Alejandro\\\\Pulses\\\\diode measurements\\\\Prepared Pulse Schemes CSV\\\\50,20\\\\50nano\\\\SegmentA_1008_60.csv',\n",
       " 'D:\\\\Alejandro\\\\Pulses\\\\diode measurements\\\\Prepared Pulse Schemes CSV\\\\50,20\\\\50nano\\\\SegmentA_1008_22.csv',\n",
       " 'D:\\\\Alejandro\\\\Pulses\\\\diode measurements\\\\Prepared Pulse Schemes CSV\\\\50,20\\\\50nano\\\\SegmentA_1008_56.csv',\n",
       " 'D:\\\\Alejandro\\\\Pulses\\\\diode measurements\\\\Prepared Pulse Schemes CSV\\\\50,20\\\\50nano\\\\SegmentA_1008_46.csv',\n",
       " 'D:\\\\Alejandro\\\\Pulses\\\\diode measurements\\\\Prepared Pulse Schemes CSV\\\\50,20\\\\50nano\\\\SegmentA_1008_27.csv',\n",
       " 'D:\\\\Alejandro\\\\Pulses\\\\diode measurements\\\\Prepared Pulse Schemes CSV\\\\50,20\\\\50nano\\\\SegmentA_1008_48.csv',\n",
       " 'D:\\\\Alejandro\\\\Pulses\\\\diode measurements\\\\Prepared Pulse Schemes CSV\\\\50,20\\\\50nano\\\\SegmentA_1008_17.csv',\n",
       " 'D:\\\\Alejandro\\\\Pulses\\\\diode measurements\\\\Prepared Pulse Schemes CSV\\\\50,20\\\\50nano\\\\SegmentA_1008_38.csv',\n",
       " 'D:\\\\Alejandro\\\\Pulses\\\\diode measurements\\\\Prepared Pulse Schemes CSV\\\\50,20\\\\50nano\\\\SegmentA_1008_37.csv',\n",
       " 'D:\\\\Alejandro\\\\Pulses\\\\diode measurements\\\\Prepared Pulse Schemes CSV\\\\50,20\\\\50nano\\\\SegmentA_1008_40.csv',\n",
       " 'D:\\\\Alejandro\\\\Pulses\\\\diode measurements\\\\Prepared Pulse Schemes CSV\\\\50,20\\\\50nano\\\\SegmentA_1008_20.csv',\n",
       " 'D:\\\\Alejandro\\\\Pulses\\\\diode measurements\\\\Prepared Pulse Schemes CSV\\\\50,20\\\\50nano\\\\SegmentA_1008_15.csv',\n",
       " 'D:\\\\Alejandro\\\\Pulses\\\\diode measurements\\\\Prepared Pulse Schemes CSV\\\\50,20\\\\50nano\\\\SegmentA_1008_1.csv',\n",
       " 'D:\\\\Alejandro\\\\Pulses\\\\diode measurements\\\\Prepared Pulse Schemes CSV\\\\50,20\\\\50nano\\\\SegmentA_1008_65.csv',\n",
       " 'D:\\\\Alejandro\\\\Pulses\\\\diode measurements\\\\Prepared Pulse Schemes CSV\\\\50,20\\\\50nano\\\\SegmentA_1008_6.csv',\n",
       " 'D:\\\\Alejandro\\\\Pulses\\\\diode measurements\\\\Prepared Pulse Schemes CSV\\\\50,20\\\\50nano\\\\SegmentA_1008_12.csv',\n",
       " 'D:\\\\Alejandro\\\\Pulses\\\\diode measurements\\\\Prepared Pulse Schemes CSV\\\\50,20\\\\50nano\\\\SegmentA_1008_55.csv',\n",
       " 'D:\\\\Alejandro\\\\Pulses\\\\diode measurements\\\\Prepared Pulse Schemes CSV\\\\50,20\\\\50nano\\\\SegmentA_1008_4.csv',\n",
       " 'D:\\\\Alejandro\\\\Pulses\\\\diode measurements\\\\Prepared Pulse Schemes CSV\\\\50,20\\\\50nano\\\\SegmentA_1008_49.csv',\n",
       " 'D:\\\\Alejandro\\\\Pulses\\\\diode measurements\\\\Prepared Pulse Schemes CSV\\\\50,20\\\\50nano\\\\SegmentA_1008_33.csv',\n",
       " 'D:\\\\Alejandro\\\\Pulses\\\\diode measurements\\\\Prepared Pulse Schemes CSV\\\\50,20\\\\50nano\\\\SegmentA_1008_62.csv',\n",
       " 'D:\\\\Alejandro\\\\Pulses\\\\diode measurements\\\\Prepared Pulse Schemes CSV\\\\50,20\\\\50nano\\\\SegmentA_1008_53.csv',\n",
       " 'D:\\\\Alejandro\\\\Pulses\\\\diode measurements\\\\Prepared Pulse Schemes CSV\\\\50,20\\\\50nano\\\\SegmentA_1008_13.csv',\n",
       " 'D:\\\\Alejandro\\\\Pulses\\\\diode measurements\\\\Prepared Pulse Schemes CSV\\\\50,20\\\\50nano\\\\SegmentA_1008_2.csv']"
      ]
     },
     "metadata": {},
     "execution_count": 122
    }
   ],
   "metadata": {}
  },
  {
   "cell_type": "code",
   "execution_count": 124,
   "source": [
    "list_cycleB_50nano = list(sweeping_run_b_50nano.values())\r\n",
    "list_cycleB_50nano"
   ],
   "outputs": [
    {
     "output_type": "execute_result",
     "data": {
      "text/plain": [
       "['D:\\\\Alejandro\\\\Pulses\\\\diode measurements\\\\Prepared Pulse Schemes CSV\\\\50,20\\\\50nano\\\\SegmentB_1008_0.csv',\n",
       " 'D:\\\\Alejandro\\\\Pulses\\\\diode measurements\\\\Prepared Pulse Schemes CSV\\\\50,20\\\\50nano\\\\SegmentB_1008_1.csv',\n",
       " 'D:\\\\Alejandro\\\\Pulses\\\\diode measurements\\\\Prepared Pulse Schemes CSV\\\\50,20\\\\50nano\\\\SegmentB_1008_2.csv',\n",
       " 'D:\\\\Alejandro\\\\Pulses\\\\diode measurements\\\\Prepared Pulse Schemes CSV\\\\50,20\\\\50nano\\\\SegmentB_1008_3.csv',\n",
       " 'D:\\\\Alejandro\\\\Pulses\\\\diode measurements\\\\Prepared Pulse Schemes CSV\\\\50,20\\\\50nano\\\\SegmentB_1008_4.csv',\n",
       " 'D:\\\\Alejandro\\\\Pulses\\\\diode measurements\\\\Prepared Pulse Schemes CSV\\\\50,20\\\\50nano\\\\SegmentB_1008_5.csv',\n",
       " 'D:\\\\Alejandro\\\\Pulses\\\\diode measurements\\\\Prepared Pulse Schemes CSV\\\\50,20\\\\50nano\\\\SegmentB_1008_6.csv',\n",
       " 'D:\\\\Alejandro\\\\Pulses\\\\diode measurements\\\\Prepared Pulse Schemes CSV\\\\50,20\\\\50nano\\\\SegmentB_1008_7.csv',\n",
       " 'D:\\\\Alejandro\\\\Pulses\\\\diode measurements\\\\Prepared Pulse Schemes CSV\\\\50,20\\\\50nano\\\\SegmentB_1008_8.csv',\n",
       " 'D:\\\\Alejandro\\\\Pulses\\\\diode measurements\\\\Prepared Pulse Schemes CSV\\\\50,20\\\\50nano\\\\SegmentB_1008_9.csv',\n",
       " 'D:\\\\Alejandro\\\\Pulses\\\\diode measurements\\\\Prepared Pulse Schemes CSV\\\\50,20\\\\50nano\\\\SegmentB_1008_10.csv',\n",
       " 'D:\\\\Alejandro\\\\Pulses\\\\diode measurements\\\\Prepared Pulse Schemes CSV\\\\50,20\\\\50nano\\\\SegmentB_1008_11.csv',\n",
       " 'D:\\\\Alejandro\\\\Pulses\\\\diode measurements\\\\Prepared Pulse Schemes CSV\\\\50,20\\\\50nano\\\\SegmentB_1008_12.csv',\n",
       " 'D:\\\\Alejandro\\\\Pulses\\\\diode measurements\\\\Prepared Pulse Schemes CSV\\\\50,20\\\\50nano\\\\SegmentB_1008_13.csv',\n",
       " 'D:\\\\Alejandro\\\\Pulses\\\\diode measurements\\\\Prepared Pulse Schemes CSV\\\\50,20\\\\50nano\\\\SegmentB_1008_14.csv',\n",
       " 'D:\\\\Alejandro\\\\Pulses\\\\diode measurements\\\\Prepared Pulse Schemes CSV\\\\50,20\\\\50nano\\\\SegmentB_1008_15.csv',\n",
       " 'D:\\\\Alejandro\\\\Pulses\\\\diode measurements\\\\Prepared Pulse Schemes CSV\\\\50,20\\\\50nano\\\\SegmentB_1008_16.csv',\n",
       " 'D:\\\\Alejandro\\\\Pulses\\\\diode measurements\\\\Prepared Pulse Schemes CSV\\\\50,20\\\\50nano\\\\SegmentB_1008_17.csv',\n",
       " 'D:\\\\Alejandro\\\\Pulses\\\\diode measurements\\\\Prepared Pulse Schemes CSV\\\\50,20\\\\50nano\\\\SegmentB_1008_18.csv',\n",
       " 'D:\\\\Alejandro\\\\Pulses\\\\diode measurements\\\\Prepared Pulse Schemes CSV\\\\50,20\\\\50nano\\\\SegmentB_1008_19.csv',\n",
       " 'D:\\\\Alejandro\\\\Pulses\\\\diode measurements\\\\Prepared Pulse Schemes CSV\\\\50,20\\\\50nano\\\\SegmentB_1008_20.csv',\n",
       " 'D:\\\\Alejandro\\\\Pulses\\\\diode measurements\\\\Prepared Pulse Schemes CSV\\\\50,20\\\\50nano\\\\SegmentB_1008_21.csv',\n",
       " 'D:\\\\Alejandro\\\\Pulses\\\\diode measurements\\\\Prepared Pulse Schemes CSV\\\\50,20\\\\50nano\\\\SegmentB_1008_22.csv',\n",
       " 'D:\\\\Alejandro\\\\Pulses\\\\diode measurements\\\\Prepared Pulse Schemes CSV\\\\50,20\\\\50nano\\\\SegmentB_1008_23.csv',\n",
       " 'D:\\\\Alejandro\\\\Pulses\\\\diode measurements\\\\Prepared Pulse Schemes CSV\\\\50,20\\\\50nano\\\\SegmentB_1008_24.csv',\n",
       " 'D:\\\\Alejandro\\\\Pulses\\\\diode measurements\\\\Prepared Pulse Schemes CSV\\\\50,20\\\\50nano\\\\SegmentB_1008_25.csv',\n",
       " 'D:\\\\Alejandro\\\\Pulses\\\\diode measurements\\\\Prepared Pulse Schemes CSV\\\\50,20\\\\50nano\\\\SegmentB_1008_26.csv',\n",
       " 'D:\\\\Alejandro\\\\Pulses\\\\diode measurements\\\\Prepared Pulse Schemes CSV\\\\50,20\\\\50nano\\\\SegmentB_1008_27.csv',\n",
       " 'D:\\\\Alejandro\\\\Pulses\\\\diode measurements\\\\Prepared Pulse Schemes CSV\\\\50,20\\\\50nano\\\\SegmentB_1008_28.csv',\n",
       " 'D:\\\\Alejandro\\\\Pulses\\\\diode measurements\\\\Prepared Pulse Schemes CSV\\\\50,20\\\\50nano\\\\SegmentB_1008_29.csv',\n",
       " 'D:\\\\Alejandro\\\\Pulses\\\\diode measurements\\\\Prepared Pulse Schemes CSV\\\\50,20\\\\50nano\\\\SegmentB_1008_30.csv',\n",
       " 'D:\\\\Alejandro\\\\Pulses\\\\diode measurements\\\\Prepared Pulse Schemes CSV\\\\50,20\\\\50nano\\\\SegmentB_1008_31.csv',\n",
       " 'D:\\\\Alejandro\\\\Pulses\\\\diode measurements\\\\Prepared Pulse Schemes CSV\\\\50,20\\\\50nano\\\\SegmentB_1008_32.csv',\n",
       " 'D:\\\\Alejandro\\\\Pulses\\\\diode measurements\\\\Prepared Pulse Schemes CSV\\\\50,20\\\\50nano\\\\SegmentB_1008_33.csv',\n",
       " 'D:\\\\Alejandro\\\\Pulses\\\\diode measurements\\\\Prepared Pulse Schemes CSV\\\\50,20\\\\50nano\\\\SegmentB_1008_34.csv',\n",
       " 'D:\\\\Alejandro\\\\Pulses\\\\diode measurements\\\\Prepared Pulse Schemes CSV\\\\50,20\\\\50nano\\\\SegmentB_1008_35.csv',\n",
       " 'D:\\\\Alejandro\\\\Pulses\\\\diode measurements\\\\Prepared Pulse Schemes CSV\\\\50,20\\\\50nano\\\\SegmentB_1008_36.csv',\n",
       " 'D:\\\\Alejandro\\\\Pulses\\\\diode measurements\\\\Prepared Pulse Schemes CSV\\\\50,20\\\\50nano\\\\SegmentB_1008_37.csv',\n",
       " 'D:\\\\Alejandro\\\\Pulses\\\\diode measurements\\\\Prepared Pulse Schemes CSV\\\\50,20\\\\50nano\\\\SegmentB_1008_38.csv',\n",
       " 'D:\\\\Alejandro\\\\Pulses\\\\diode measurements\\\\Prepared Pulse Schemes CSV\\\\50,20\\\\50nano\\\\SegmentB_1008_39.csv',\n",
       " 'D:\\\\Alejandro\\\\Pulses\\\\diode measurements\\\\Prepared Pulse Schemes CSV\\\\50,20\\\\50nano\\\\SegmentB_1008_40.csv',\n",
       " 'D:\\\\Alejandro\\\\Pulses\\\\diode measurements\\\\Prepared Pulse Schemes CSV\\\\50,20\\\\50nano\\\\SegmentB_1008_41.csv',\n",
       " 'D:\\\\Alejandro\\\\Pulses\\\\diode measurements\\\\Prepared Pulse Schemes CSV\\\\50,20\\\\50nano\\\\SegmentB_1008_42.csv',\n",
       " 'D:\\\\Alejandro\\\\Pulses\\\\diode measurements\\\\Prepared Pulse Schemes CSV\\\\50,20\\\\50nano\\\\SegmentB_1008_43.csv',\n",
       " 'D:\\\\Alejandro\\\\Pulses\\\\diode measurements\\\\Prepared Pulse Schemes CSV\\\\50,20\\\\50nano\\\\SegmentB_1008_44.csv',\n",
       " 'D:\\\\Alejandro\\\\Pulses\\\\diode measurements\\\\Prepared Pulse Schemes CSV\\\\50,20\\\\50nano\\\\SegmentB_1008_45.csv',\n",
       " 'D:\\\\Alejandro\\\\Pulses\\\\diode measurements\\\\Prepared Pulse Schemes CSV\\\\50,20\\\\50nano\\\\SegmentB_1008_46.csv',\n",
       " 'D:\\\\Alejandro\\\\Pulses\\\\diode measurements\\\\Prepared Pulse Schemes CSV\\\\50,20\\\\50nano\\\\SegmentB_1008_47.csv',\n",
       " 'D:\\\\Alejandro\\\\Pulses\\\\diode measurements\\\\Prepared Pulse Schemes CSV\\\\50,20\\\\50nano\\\\SegmentB_1008_48.csv',\n",
       " 'D:\\\\Alejandro\\\\Pulses\\\\diode measurements\\\\Prepared Pulse Schemes CSV\\\\50,20\\\\50nano\\\\SegmentB_1008_49.csv',\n",
       " 'D:\\\\Alejandro\\\\Pulses\\\\diode measurements\\\\Prepared Pulse Schemes CSV\\\\50,20\\\\50nano\\\\SegmentB_1008_50.csv',\n",
       " 'D:\\\\Alejandro\\\\Pulses\\\\diode measurements\\\\Prepared Pulse Schemes CSV\\\\50,20\\\\50nano\\\\SegmentB_1008_51.csv',\n",
       " 'D:\\\\Alejandro\\\\Pulses\\\\diode measurements\\\\Prepared Pulse Schemes CSV\\\\50,20\\\\50nano\\\\SegmentB_1008_52.csv',\n",
       " 'D:\\\\Alejandro\\\\Pulses\\\\diode measurements\\\\Prepared Pulse Schemes CSV\\\\50,20\\\\50nano\\\\SegmentB_1008_53.csv',\n",
       " 'D:\\\\Alejandro\\\\Pulses\\\\diode measurements\\\\Prepared Pulse Schemes CSV\\\\50,20\\\\50nano\\\\SegmentB_1008_54.csv',\n",
       " 'D:\\\\Alejandro\\\\Pulses\\\\diode measurements\\\\Prepared Pulse Schemes CSV\\\\50,20\\\\50nano\\\\SegmentB_1008_55.csv',\n",
       " 'D:\\\\Alejandro\\\\Pulses\\\\diode measurements\\\\Prepared Pulse Schemes CSV\\\\50,20\\\\50nano\\\\SegmentB_1008_56.csv',\n",
       " 'D:\\\\Alejandro\\\\Pulses\\\\diode measurements\\\\Prepared Pulse Schemes CSV\\\\50,20\\\\50nano\\\\SegmentB_1008_57.csv',\n",
       " 'D:\\\\Alejandro\\\\Pulses\\\\diode measurements\\\\Prepared Pulse Schemes CSV\\\\50,20\\\\50nano\\\\SegmentB_1008_58.csv',\n",
       " 'D:\\\\Alejandro\\\\Pulses\\\\diode measurements\\\\Prepared Pulse Schemes CSV\\\\50,20\\\\50nano\\\\SegmentB_1008_59.csv',\n",
       " 'D:\\\\Alejandro\\\\Pulses\\\\diode measurements\\\\Prepared Pulse Schemes CSV\\\\50,20\\\\50nano\\\\SegmentB_1008_60.csv',\n",
       " 'D:\\\\Alejandro\\\\Pulses\\\\diode measurements\\\\Prepared Pulse Schemes CSV\\\\50,20\\\\50nano\\\\SegmentB_1008_61.csv',\n",
       " 'D:\\\\Alejandro\\\\Pulses\\\\diode measurements\\\\Prepared Pulse Schemes CSV\\\\50,20\\\\50nano\\\\SegmentB_1008_62.csv',\n",
       " 'D:\\\\Alejandro\\\\Pulses\\\\diode measurements\\\\Prepared Pulse Schemes CSV\\\\50,20\\\\50nano\\\\SegmentB_1008_63.csv',\n",
       " 'D:\\\\Alejandro\\\\Pulses\\\\diode measurements\\\\Prepared Pulse Schemes CSV\\\\50,20\\\\50nano\\\\SegmentB_1008_64.csv',\n",
       " 'D:\\\\Alejandro\\\\Pulses\\\\diode measurements\\\\Prepared Pulse Schemes CSV\\\\50,20\\\\50nano\\\\SegmentB_1008_65.csv',\n",
       " 'D:\\\\Alejandro\\\\Pulses\\\\diode measurements\\\\Prepared Pulse Schemes CSV\\\\50,20\\\\50nano\\\\SegmentB_1008_66.csv',\n",
       " 'D:\\\\Alejandro\\\\Pulses\\\\diode measurements\\\\Prepared Pulse Schemes CSV\\\\50,20\\\\50nano\\\\SegmentB_1008_67.csv',\n",
       " 'D:\\\\Alejandro\\\\Pulses\\\\diode measurements\\\\Prepared Pulse Schemes CSV\\\\50,20\\\\50nano\\\\SegmentB_1008_68.csv',\n",
       " 'D:\\\\Alejandro\\\\Pulses\\\\diode measurements\\\\Prepared Pulse Schemes CSV\\\\50,20\\\\50nano\\\\SegmentB_1008_69.csv',\n",
       " 'D:\\\\Alejandro\\\\Pulses\\\\diode measurements\\\\Prepared Pulse Schemes CSV\\\\50,20\\\\50nano\\\\SegmentB_1008_70.csv']"
      ]
     },
     "metadata": {},
     "execution_count": 124
    }
   ],
   "metadata": {}
  },
  {
   "cell_type": "code",
   "execution_count": null,
   "source": [],
   "outputs": [],
   "metadata": {}
  },
  {
   "cell_type": "code",
   "execution_count": 107,
   "source": [
    "sweeping_run_a_50nano.values()"
   ],
   "outputs": [
    {
     "output_type": "execute_result",
     "data": {
      "text/plain": [
       "dict_values(['D:\\\\Alejandro\\\\Pulses\\\\diode measurements\\\\Prepared Pulse Schemes CSV\\\\50,20\\\\50nano\\\\SegmentA_1008_0.csv', 'D:\\\\Alejandro\\\\Pulses\\\\diode measurements\\\\Prepared Pulse Schemes CSV\\\\50,20\\\\50nano\\\\SegmentA_1008_1.csv', 'D:\\\\Alejandro\\\\Pulses\\\\diode measurements\\\\Prepared Pulse Schemes CSV\\\\50,20\\\\50nano\\\\SegmentA_1008_2.csv', 'D:\\\\Alejandro\\\\Pulses\\\\diode measurements\\\\Prepared Pulse Schemes CSV\\\\50,20\\\\50nano\\\\SegmentA_1008_3.csv', 'D:\\\\Alejandro\\\\Pulses\\\\diode measurements\\\\Prepared Pulse Schemes CSV\\\\50,20\\\\50nano\\\\SegmentA_1008_4.csv', 'D:\\\\Alejandro\\\\Pulses\\\\diode measurements\\\\Prepared Pulse Schemes CSV\\\\50,20\\\\50nano\\\\SegmentA_1008_5.csv', 'D:\\\\Alejandro\\\\Pulses\\\\diode measurements\\\\Prepared Pulse Schemes CSV\\\\50,20\\\\50nano\\\\SegmentA_1008_6.csv', 'D:\\\\Alejandro\\\\Pulses\\\\diode measurements\\\\Prepared Pulse Schemes CSV\\\\50,20\\\\50nano\\\\SegmentA_1008_7.csv', 'D:\\\\Alejandro\\\\Pulses\\\\diode measurements\\\\Prepared Pulse Schemes CSV\\\\50,20\\\\50nano\\\\SegmentA_1008_8.csv', 'D:\\\\Alejandro\\\\Pulses\\\\diode measurements\\\\Prepared Pulse Schemes CSV\\\\50,20\\\\50nano\\\\SegmentA_1008_9.csv', 'D:\\\\Alejandro\\\\Pulses\\\\diode measurements\\\\Prepared Pulse Schemes CSV\\\\50,20\\\\50nano\\\\SegmentA_1008_10.csv', 'D:\\\\Alejandro\\\\Pulses\\\\diode measurements\\\\Prepared Pulse Schemes CSV\\\\50,20\\\\50nano\\\\SegmentA_1008_11.csv', 'D:\\\\Alejandro\\\\Pulses\\\\diode measurements\\\\Prepared Pulse Schemes CSV\\\\50,20\\\\50nano\\\\SegmentA_1008_12.csv', 'D:\\\\Alejandro\\\\Pulses\\\\diode measurements\\\\Prepared Pulse Schemes CSV\\\\50,20\\\\50nano\\\\SegmentA_1008_13.csv', 'D:\\\\Alejandro\\\\Pulses\\\\diode measurements\\\\Prepared Pulse Schemes CSV\\\\50,20\\\\50nano\\\\SegmentA_1008_14.csv', 'D:\\\\Alejandro\\\\Pulses\\\\diode measurements\\\\Prepared Pulse Schemes CSV\\\\50,20\\\\50nano\\\\SegmentA_1008_15.csv', 'D:\\\\Alejandro\\\\Pulses\\\\diode measurements\\\\Prepared Pulse Schemes CSV\\\\50,20\\\\50nano\\\\SegmentA_1008_16.csv', 'D:\\\\Alejandro\\\\Pulses\\\\diode measurements\\\\Prepared Pulse Schemes CSV\\\\50,20\\\\50nano\\\\SegmentA_1008_17.csv', 'D:\\\\Alejandro\\\\Pulses\\\\diode measurements\\\\Prepared Pulse Schemes CSV\\\\50,20\\\\50nano\\\\SegmentA_1008_18.csv', 'D:\\\\Alejandro\\\\Pulses\\\\diode measurements\\\\Prepared Pulse Schemes CSV\\\\50,20\\\\50nano\\\\SegmentA_1008_19.csv', 'D:\\\\Alejandro\\\\Pulses\\\\diode measurements\\\\Prepared Pulse Schemes CSV\\\\50,20\\\\50nano\\\\SegmentA_1008_20.csv', 'D:\\\\Alejandro\\\\Pulses\\\\diode measurements\\\\Prepared Pulse Schemes CSV\\\\50,20\\\\50nano\\\\SegmentA_1008_21.csv', 'D:\\\\Alejandro\\\\Pulses\\\\diode measurements\\\\Prepared Pulse Schemes CSV\\\\50,20\\\\50nano\\\\SegmentA_1008_22.csv', 'D:\\\\Alejandro\\\\Pulses\\\\diode measurements\\\\Prepared Pulse Schemes CSV\\\\50,20\\\\50nano\\\\SegmentA_1008_23.csv', 'D:\\\\Alejandro\\\\Pulses\\\\diode measurements\\\\Prepared Pulse Schemes CSV\\\\50,20\\\\50nano\\\\SegmentA_1008_24.csv', 'D:\\\\Alejandro\\\\Pulses\\\\diode measurements\\\\Prepared Pulse Schemes CSV\\\\50,20\\\\50nano\\\\SegmentA_1008_25.csv', 'D:\\\\Alejandro\\\\Pulses\\\\diode measurements\\\\Prepared Pulse Schemes CSV\\\\50,20\\\\50nano\\\\SegmentA_1008_26.csv', 'D:\\\\Alejandro\\\\Pulses\\\\diode measurements\\\\Prepared Pulse Schemes CSV\\\\50,20\\\\50nano\\\\SegmentA_1008_27.csv', 'D:\\\\Alejandro\\\\Pulses\\\\diode measurements\\\\Prepared Pulse Schemes CSV\\\\50,20\\\\50nano\\\\SegmentA_1008_28.csv', 'D:\\\\Alejandro\\\\Pulses\\\\diode measurements\\\\Prepared Pulse Schemes CSV\\\\50,20\\\\50nano\\\\SegmentA_1008_29.csv', 'D:\\\\Alejandro\\\\Pulses\\\\diode measurements\\\\Prepared Pulse Schemes CSV\\\\50,20\\\\50nano\\\\SegmentA_1008_30.csv', 'D:\\\\Alejandro\\\\Pulses\\\\diode measurements\\\\Prepared Pulse Schemes CSV\\\\50,20\\\\50nano\\\\SegmentA_1008_31.csv', 'D:\\\\Alejandro\\\\Pulses\\\\diode measurements\\\\Prepared Pulse Schemes CSV\\\\50,20\\\\50nano\\\\SegmentA_1008_32.csv', 'D:\\\\Alejandro\\\\Pulses\\\\diode measurements\\\\Prepared Pulse Schemes CSV\\\\50,20\\\\50nano\\\\SegmentA_1008_33.csv', 'D:\\\\Alejandro\\\\Pulses\\\\diode measurements\\\\Prepared Pulse Schemes CSV\\\\50,20\\\\50nano\\\\SegmentA_1008_34.csv', 'D:\\\\Alejandro\\\\Pulses\\\\diode measurements\\\\Prepared Pulse Schemes CSV\\\\50,20\\\\50nano\\\\SegmentA_1008_35.csv', 'D:\\\\Alejandro\\\\Pulses\\\\diode measurements\\\\Prepared Pulse Schemes CSV\\\\50,20\\\\50nano\\\\SegmentA_1008_36.csv', 'D:\\\\Alejandro\\\\Pulses\\\\diode measurements\\\\Prepared Pulse Schemes CSV\\\\50,20\\\\50nano\\\\SegmentA_1008_37.csv', 'D:\\\\Alejandro\\\\Pulses\\\\diode measurements\\\\Prepared Pulse Schemes CSV\\\\50,20\\\\50nano\\\\SegmentA_1008_38.csv', 'D:\\\\Alejandro\\\\Pulses\\\\diode measurements\\\\Prepared Pulse Schemes CSV\\\\50,20\\\\50nano\\\\SegmentA_1008_39.csv', 'D:\\\\Alejandro\\\\Pulses\\\\diode measurements\\\\Prepared Pulse Schemes CSV\\\\50,20\\\\50nano\\\\SegmentA_1008_40.csv', 'D:\\\\Alejandro\\\\Pulses\\\\diode measurements\\\\Prepared Pulse Schemes CSV\\\\50,20\\\\50nano\\\\SegmentA_1008_41.csv', 'D:\\\\Alejandro\\\\Pulses\\\\diode measurements\\\\Prepared Pulse Schemes CSV\\\\50,20\\\\50nano\\\\SegmentA_1008_42.csv', 'D:\\\\Alejandro\\\\Pulses\\\\diode measurements\\\\Prepared Pulse Schemes CSV\\\\50,20\\\\50nano\\\\SegmentA_1008_43.csv', 'D:\\\\Alejandro\\\\Pulses\\\\diode measurements\\\\Prepared Pulse Schemes CSV\\\\50,20\\\\50nano\\\\SegmentA_1008_44.csv', 'D:\\\\Alejandro\\\\Pulses\\\\diode measurements\\\\Prepared Pulse Schemes CSV\\\\50,20\\\\50nano\\\\SegmentA_1008_45.csv', 'D:\\\\Alejandro\\\\Pulses\\\\diode measurements\\\\Prepared Pulse Schemes CSV\\\\50,20\\\\50nano\\\\SegmentA_1008_46.csv', 'D:\\\\Alejandro\\\\Pulses\\\\diode measurements\\\\Prepared Pulse Schemes CSV\\\\50,20\\\\50nano\\\\SegmentA_1008_47.csv', 'D:\\\\Alejandro\\\\Pulses\\\\diode measurements\\\\Prepared Pulse Schemes CSV\\\\50,20\\\\50nano\\\\SegmentA_1008_48.csv', 'D:\\\\Alejandro\\\\Pulses\\\\diode measurements\\\\Prepared Pulse Schemes CSV\\\\50,20\\\\50nano\\\\SegmentA_1008_49.csv', 'D:\\\\Alejandro\\\\Pulses\\\\diode measurements\\\\Prepared Pulse Schemes CSV\\\\50,20\\\\50nano\\\\SegmentA_1008_50.csv', 'D:\\\\Alejandro\\\\Pulses\\\\diode measurements\\\\Prepared Pulse Schemes CSV\\\\50,20\\\\50nano\\\\SegmentA_1008_51.csv', 'D:\\\\Alejandro\\\\Pulses\\\\diode measurements\\\\Prepared Pulse Schemes CSV\\\\50,20\\\\50nano\\\\SegmentA_1008_52.csv', 'D:\\\\Alejandro\\\\Pulses\\\\diode measurements\\\\Prepared Pulse Schemes CSV\\\\50,20\\\\50nano\\\\SegmentA_1008_53.csv', 'D:\\\\Alejandro\\\\Pulses\\\\diode measurements\\\\Prepared Pulse Schemes CSV\\\\50,20\\\\50nano\\\\SegmentA_1008_54.csv', 'D:\\\\Alejandro\\\\Pulses\\\\diode measurements\\\\Prepared Pulse Schemes CSV\\\\50,20\\\\50nano\\\\SegmentA_1008_55.csv', 'D:\\\\Alejandro\\\\Pulses\\\\diode measurements\\\\Prepared Pulse Schemes CSV\\\\50,20\\\\50nano\\\\SegmentA_1008_56.csv', 'D:\\\\Alejandro\\\\Pulses\\\\diode measurements\\\\Prepared Pulse Schemes CSV\\\\50,20\\\\50nano\\\\SegmentA_1008_57.csv', 'D:\\\\Alejandro\\\\Pulses\\\\diode measurements\\\\Prepared Pulse Schemes CSV\\\\50,20\\\\50nano\\\\SegmentA_1008_58.csv', 'D:\\\\Alejandro\\\\Pulses\\\\diode measurements\\\\Prepared Pulse Schemes CSV\\\\50,20\\\\50nano\\\\SegmentA_1008_59.csv', 'D:\\\\Alejandro\\\\Pulses\\\\diode measurements\\\\Prepared Pulse Schemes CSV\\\\50,20\\\\50nano\\\\SegmentA_1008_60.csv', 'D:\\\\Alejandro\\\\Pulses\\\\diode measurements\\\\Prepared Pulse Schemes CSV\\\\50,20\\\\50nano\\\\SegmentA_1008_61.csv', 'D:\\\\Alejandro\\\\Pulses\\\\diode measurements\\\\Prepared Pulse Schemes CSV\\\\50,20\\\\50nano\\\\SegmentA_1008_62.csv', 'D:\\\\Alejandro\\\\Pulses\\\\diode measurements\\\\Prepared Pulse Schemes CSV\\\\50,20\\\\50nano\\\\SegmentA_1008_63.csv', 'D:\\\\Alejandro\\\\Pulses\\\\diode measurements\\\\Prepared Pulse Schemes CSV\\\\50,20\\\\50nano\\\\SegmentA_1008_64.csv', 'D:\\\\Alejandro\\\\Pulses\\\\diode measurements\\\\Prepared Pulse Schemes CSV\\\\50,20\\\\50nano\\\\SegmentA_1008_65.csv', 'D:\\\\Alejandro\\\\Pulses\\\\diode measurements\\\\Prepared Pulse Schemes CSV\\\\50,20\\\\50nano\\\\SegmentA_1008_66.csv', 'D:\\\\Alejandro\\\\Pulses\\\\diode measurements\\\\Prepared Pulse Schemes CSV\\\\50,20\\\\50nano\\\\SegmentA_1008_67.csv', 'D:\\\\Alejandro\\\\Pulses\\\\diode measurements\\\\Prepared Pulse Schemes CSV\\\\50,20\\\\50nano\\\\SegmentA_1008_68.csv', 'D:\\\\Alejandro\\\\Pulses\\\\diode measurements\\\\Prepared Pulse Schemes CSV\\\\50,20\\\\50nano\\\\SegmentA_1008_69.csv', 'D:\\\\Alejandro\\\\Pulses\\\\diode measurements\\\\Prepared Pulse Schemes CSV\\\\50,20\\\\50nano\\\\SegmentA_1008_70.csv'])"
      ]
     },
     "metadata": {},
     "execution_count": 107
    }
   ],
   "metadata": {}
  },
  {
   "cell_type": "code",
   "execution_count": 121,
   "source": [
    "def Voltage_Autocorrelation_loopl(instrument,DAQ_settings,playingtime,fileA,fileB,location,Lock_In,loop):\r\n",
    "    \r\n",
    "    \"\"\" This function loads a sweeping sequence into the AWG, plays it and triggers it with the DAQ, while also storing the DAQ values as csv files.\r\n",
    "      \r\n",
    "        Sequences are formed within the AWG by combining the csv files at the same step in fileA and fileB\r\n",
    "\r\n",
    "        instrument = object class given by Pyvisa API of the current connected device\r\n",
    "        DAQ_Settings = Dictionary, with the settings of the DAQ box\r\n",
    "        playingtime = int, total data collection time of the DAQ, given in seconds, maximum is 180s (given by the timeout time in the DAQ_Measuring function)\r\n",
    "        fileA = dictionary, with the file paths of the csv files to be loaded into the awg as first part of the sequence\r\n",
    "        fileB = dictionary, with the file paths of the csv files to be loaded into the awg as second part of the sequence\r\n",
    "        location = strng, file path were the data is going to be saved\r\n",
    "        Lock_In = dictionary, the keys are the Lock In Amplifier settings used to address them in the file name\r\n",
    "        loop = int, number of repetitions that each waveform will repeat itself per cycle\r\n",
    "    \"\"\"\r\n",
    "    #empty arrays where the data will be stored\r\n",
    "    measurement_data = np.zeros((len(fileA),2),  dtype=object)\r\n",
    "    average = np.zeros((len(fileA)))\r\n",
    "\r\n",
    "    for i,j,k in zip(range(0,len(fileA)), range(0,len(fileB)),range(0,len(fileA))):\r\n",
    "        Sequence_File(instrument,fileA[i],fileB[j],loop)\r\n",
    "        measurement_data[k][0], measurement_data[k][1] = DAQ_Measuring(DAQ_settings,DAQ_settings['Sampling Frequency'],playingtime,instrument)\r\n",
    "        np.savetxt(r'{loc}\\diode_signal_step{stp}_{f}sdaqtime_{mod}_{tc}_{sens}.csv'.format(loc = location ,stp = k,f = playingtime, mod = Lock_In['Modulation'] ,tc = Lock_In['Time Constant'], sens = Lock_In['Sensitivity']), measurement_data[k][0], delimiter=',')\r\n",
    "        average[k] = np.average(measurement_data[k][0][3000:])\r\n",
    "        print('Average Value for measurement at step {step} is'.format(step = k),average[k],'V')\r\n",
    "        np.savetxt(r'{loc}\\averaged signal_31steps_{dur}sdaqtime_{mod}_{tc}_{sens}.csv'.format(loc =location,dur = playingtime,  mod = Lock_In['Modulation'] , tc = Lock_In['Time Constant'], sens = Lock_In['Sensitivity']),average,delimiter=',')\r\n",
    "        \r\n",
    "    return measurement_data, average"
   ],
   "outputs": [],
   "metadata": {}
  },
  {
   "cell_type": "code",
   "execution_count": 142,
   "source": [
    "rand_time_delay =np.array([15,\r\n",
    "59,\r\n",
    "32,\r\n",
    "36,\r\n",
    "10,\r\n",
    "29,\r\n",
    "18,\r\n",
    "44,\r\n",
    "50,\r\n",
    "12,\r\n",
    "24,\r\n",
    "30,\r\n",
    "53,\r\n",
    "54,\r\n",
    "11,\r\n",
    "27,\r\n",
    "17,\r\n",
    "9.,\r\n",
    "6.,\r\n",
    "66,\r\n",
    "20,\r\n",
    "4.,\r\n",
    "16,\r\n",
    "13,\r\n",
    "39,\r\n",
    "67,\r\n",
    "41,\r\n",
    "2.,\r\n",
    "40,\r\n",
    "64,\r\n",
    "26,\r\n",
    "35,\r\n",
    "19,\r\n",
    "56,\r\n",
    "22,\r\n",
    "58,\r\n",
    "14,\r\n",
    "45,\r\n",
    "70,\r\n",
    "23,\r\n",
    "51,\r\n",
    "21,\r\n",
    "42,\r\n",
    "3.,\r\n",
    "60,\r\n",
    "57,\r\n",
    "47,\r\n",
    "7.,\r\n",
    "28,\r\n",
    "63,\r\n",
    "62,\r\n",
    "0.,\r\n",
    "37,\r\n",
    "31,\r\n",
    "69,\r\n",
    "49,\r\n",
    "8.,\r\n",
    "43,\r\n",
    "1.,\r\n",
    "52,\r\n",
    "34,\r\n",
    "68,\r\n",
    "33,\r\n",
    "5.,\r\n",
    "61,\r\n",
    "65,\r\n",
    "55,\r\n",
    "38,\r\n",
    "46,\r\n",
    "25,\r\n",
    "48])"
   ],
   "outputs": [],
   "metadata": {}
  },
  {
   "cell_type": "code",
   "execution_count": 143,
   "source": [
    "rand_time_delay.size"
   ],
   "outputs": [
    {
     "output_type": "execute_result",
     "data": {
      "text/plain": [
       "71"
      ]
     },
     "metadata": {},
     "execution_count": 143
    }
   ],
   "metadata": {}
  },
  {
   "cell_type": "code",
   "execution_count": null,
   "source": [
    "('D:\\\\Alejandro\\\\Pulses\\\\diode measurements\\\\Prepared Pulse Schemes CSV\\\\50,20\\\\50nano\\\\SegmentA_1008_15.csv',\r\n",
    " 'D:\\\\Alejandro\\\\Pulses\\\\diode measurements\\\\Prepared Pulse Schemes CSV\\\\50,20\\\\50nano\\\\SegmentA_1008_59.csv',\r\n",
    " 'D:\\\\Alejandro\\\\Pulses\\\\diode measurements\\\\Prepared Pulse Schemes CSV\\\\50,20\\\\50nano\\\\SegmentA_1008_32.csv',\r\n",
    " 'D:\\\\Alejandro\\\\Pulses\\\\diode measurements\\\\Prepared Pulse Schemes CSV\\\\50,20\\\\50nano\\\\SegmentA_1008_36.csv',\r\n",
    " 'D:\\\\Alejandro\\\\Pulses\\\\diode measurements\\\\Prepared Pulse Schemes CSV\\\\50,20\\\\50nano\\\\SegmentA_1008_10.csv',\r\n",
    " 'D:\\\\Alejandro\\\\Pulses\\\\diode measurements\\\\Prepared Pulse Schemes CSV\\\\50,20\\\\50nano\\\\SegmentA_1008_29.csv',\r\n",
    " 'D:\\\\Alejandro\\\\Pulses\\\\diode measurements\\\\Prepared Pulse Schemes CSV\\\\50,20\\\\50nano\\\\SegmentA_1008_18.csv',\r\n",
    " 'D:\\\\Alejandro\\\\Pulses\\\\diode measurements\\\\Prepared Pulse Schemes CSV\\\\50,20\\\\50nano\\\\SegmentA_1008_44.csv',\r\n",
    " 'D:\\\\Alejandro\\\\Pulses\\\\diode measurements\\\\Prepared Pulse Schemes CSV\\\\50,20\\\\50nano\\\\SegmentA_1008_50.csv',\r\n",
    " 'D:\\\\Alejandro\\\\Pulses\\\\diode measurements\\\\Prepared Pulse Schemes CSV\\\\50,20\\\\50nano\\\\SegmentA_1008_12.csv',\r\n",
    " 'D:\\\\Alejandro\\\\Pulses\\\\diode measurements\\\\Prepared Pulse Schemes CSV\\\\50,20\\\\50nano\\\\SegmentA_1008_24.csv',\r\n",
    " 'D:\\\\Alejandro\\\\Pulses\\\\diode measurements\\\\Prepared Pulse Schemes CSV\\\\50,20\\\\50nano\\\\SegmentA_1008_30.csv',\r\n",
    " 'D:\\\\Alejandro\\\\Pulses\\\\diode measurements\\\\Prepared Pulse Schemes CSV\\\\50,20\\\\50nano\\\\SegmentA_1008_53.csv',\r\n",
    " 'D:\\\\Alejandro\\\\Pulses\\\\diode measurements\\\\Prepared Pulse Schemes CSV\\\\50,20\\\\50nano\\\\SegmentA_1008_54.csv',\r\n",
    " 'D:\\\\Alejandro\\\\Pulses\\\\diode measurements\\\\Prepared Pulse Schemes CSV\\\\50,20\\\\50nano\\\\SegmentA_1008_11.csv',\r\n",
    " 'D:\\\\Alejandro\\\\Pulses\\\\diode measurements\\\\Prepared Pulse Schemes CSV\\\\50,20\\\\50nano\\\\SegmentA_1008_27.csv',\r\n",
    " 'D:\\\\Alejandro\\\\Pulses\\\\diode measurements\\\\Prepared Pulse Schemes CSV\\\\50,20\\\\50nano\\\\SegmentA_1008_17.csv',\r\n",
    " 'D:\\\\Alejandro\\\\Pulses\\\\diode measurements\\\\Prepared Pulse Schemes CSV\\\\50,20\\\\50nano\\\\SegmentA_1008_9.csv',\r\n",
    " 'D:\\\\Alejandro\\\\Pulses\\\\diode measurements\\\\Prepared Pulse Schemes CSV\\\\50,20\\\\50nano\\\\SegmentA_1008_6.csv',\r\n",
    " 'D:\\\\Alejandro\\\\Pulses\\\\diode measurements\\\\Prepared Pulse Schemes CSV\\\\50,20\\\\50nano\\\\SegmentA_1008_66.csv',\r\n",
    " 'D:\\\\Alejandro\\\\Pulses\\\\diode measurements\\\\Prepared Pulse Schemes CSV\\\\50,20\\\\50nano\\\\SegmentA_1008_20.csv',\r\n",
    " 'D:\\\\Alejandro\\\\Pulses\\\\diode measurements\\\\Prepared Pulse Schemes CSV\\\\50,20\\\\50nano\\\\SegmentA_1008_4.csv',\r\n",
    " 'D:\\\\Alejandro\\\\Pulses\\\\diode measurements\\\\Prepared Pulse Schemes CSV\\\\50,20\\\\50nano\\\\SegmentA_1008_16.csv',\r\n",
    " 'D:\\\\Alejandro\\\\Pulses\\\\diode measurements\\\\Prepared Pulse Schemes CSV\\\\50,20\\\\50nano\\\\SegmentA_1008_13.csv',\r\n",
    " 'D:\\\\Alejandro\\\\Pulses\\\\diode measurements\\\\Prepared Pulse Schemes CSV\\\\50,20\\\\50nano\\\\SegmentA_1008_39.csv',\r\n",
    " 'D:\\\\Alejandro\\\\Pulses\\\\diode measurements\\\\Prepared Pulse Schemes CSV\\\\50,20\\\\50nano\\\\SegmentA_1008_67.csv',\r\n",
    " 'D:\\\\Alejandro\\\\Pulses\\\\diode measurements\\\\Prepared Pulse Schemes CSV\\\\50,20\\\\50nano\\\\SegmentA_1008_41.csv',\r\n",
    " 'D:\\\\Alejandro\\\\Pulses\\\\diode measurements\\\\Prepared Pulse Schemes CSV\\\\50,20\\\\50nano\\\\SegmentA_1008_2.csv',\r\n",
    " 'D:\\\\Alejandro\\\\Pulses\\\\diode measurements\\\\Prepared Pulse Schemes CSV\\\\50,20\\\\50nano\\\\SegmentA_1008_40.csv',\r\n",
    " 'D:\\\\Alejandro\\\\Pulses\\\\diode measurements\\\\Prepared Pulse Schemes CSV\\\\50,20\\\\50nano\\\\SegmentA_1008_64.csv',\r\n",
    " 'D:\\\\Alejandro\\\\Pulses\\\\diode measurements\\\\Prepared Pulse Schemes CSV\\\\50,20\\\\50nano\\\\SegmentA_1008_26.csv',\r\n",
    " 'D:\\\\Alejandro\\\\Pulses\\\\diode measurements\\\\Prepared Pulse Schemes CSV\\\\50,20\\\\50nano\\\\SegmentA_1008_35.csv',\r\n",
    " 'D:\\\\Alejandro\\\\Pulses\\\\diode measurements\\\\Prepared Pulse Schemes CSV\\\\50,20\\\\50nano\\\\SegmentA_1008_19.csv',\r\n",
    " 'D:\\\\Alejandro\\\\Pulses\\\\diode measurements\\\\Prepared Pulse Schemes CSV\\\\50,20\\\\50nano\\\\SegmentA_1008_56.csv',\r\n",
    " 'D:\\\\Alejandro\\\\Pulses\\\\diode measurements\\\\Prepared Pulse Schemes CSV\\\\50,20\\\\50nano\\\\SegmentA_1008_22.csv',\r\n",
    " 'D:\\\\Alejandro\\\\Pulses\\\\diode measurements\\\\Prepared Pulse Schemes CSV\\\\50,20\\\\50nano\\\\SegmentA_1008_58.csv',\r\n",
    " 'D:\\\\Alejandro\\\\Pulses\\\\diode measurements\\\\Prepared Pulse Schemes CSV\\\\50,20\\\\50nano\\\\SegmentA_1008_14.csv',\r\n",
    " 'D:\\\\Alejandro\\\\Pulses\\\\diode measurements\\\\Prepared Pulse Schemes CSV\\\\50,20\\\\50nano\\\\SegmentA_1008_45.csv',\r\n",
    " 'D:\\\\Alejandro\\\\Pulses\\\\diode measurements\\\\Prepared Pulse Schemes CSV\\\\50,20\\\\50nano\\\\SegmentA_1008_70.csv',\r\n",
    " 'D:\\\\Alejandro\\\\Pulses\\\\diode measurements\\\\Prepared Pulse Schemes CSV\\\\50,20\\\\50nano\\\\SegmentA_1008_23.csv',\r\n",
    " 'D:\\\\Alejandro\\\\Pulses\\\\diode measurements\\\\Prepared Pulse Schemes CSV\\\\50,20\\\\50nano\\\\SegmentA_1008_51.csv',\r\n",
    " 'D:\\\\Alejandro\\\\Pulses\\\\diode measurements\\\\Prepared Pulse Schemes CSV\\\\50,20\\\\50nano\\\\SegmentA_1008_21.csv',\r\n",
    " 'D:\\\\Alejandro\\\\Pulses\\\\diode measurements\\\\Prepared Pulse Schemes CSV\\\\50,20\\\\50nano\\\\SegmentA_1008_42.csv',\r\n",
    " 'D:\\\\Alejandro\\\\Pulses\\\\diode measurements\\\\Prepared Pulse Schemes CSV\\\\50,20\\\\50nano\\\\SegmentA_1008_3.csv',\r\n",
    " 'D:\\\\Alejandro\\\\Pulses\\\\diode measurements\\\\Prepared Pulse Schemes CSV\\\\50,20\\\\50nano\\\\SegmentA_1008_60.csv',\r\n",
    " 'D:\\\\Alejandro\\\\Pulses\\\\diode measurements\\\\Prepared Pulse Schemes CSV\\\\50,20\\\\50nano\\\\SegmentA_1008_57.csv',\r\n",
    " 'D:\\\\Alejandro\\\\Pulses\\\\diode measurements\\\\Prepared Pulse Schemes CSV\\\\50,20\\\\50nano\\\\SegmentA_1008_47.csv',\r\n",
    " 'D:\\\\Alejandro\\\\Pulses\\\\diode measurements\\\\Prepared Pulse Schemes CSV\\\\50,20\\\\50nano\\\\SegmentA_1008_7.csv',\r\n",
    " 'D:\\\\Alejandro\\\\Pulses\\\\diode measurements\\\\Prepared Pulse Schemes CSV\\\\50,20\\\\50nano\\\\SegmentA_1008_28.csv',\r\n",
    " 'D:\\\\Alejandro\\\\Pulses\\\\diode measurements\\\\Prepared Pulse Schemes CSV\\\\50,20\\\\50nano\\\\SegmentA_1008_63.csv',\r\n",
    " 'D:\\\\Alejandro\\\\Pulses\\\\diode measurements\\\\Prepared Pulse Schemes CSV\\\\50,20\\\\50nano\\\\SegmentA_1008_62.csv',\r\n",
    " 'D:\\\\Alejandro\\\\Pulses\\\\diode measurements\\\\Prepared Pulse Schemes CSV\\\\50,20\\\\50nano\\\\SegmentA_1008_0.csv',\r\n",
    " 'D:\\\\Alejandro\\\\Pulses\\\\diode measurements\\\\Prepared Pulse Schemes CSV\\\\50,20\\\\50nano\\\\SegmentA_1008_37.csv',\r\n",
    " 'D:\\\\Alejandro\\\\Pulses\\\\diode measurements\\\\Prepared Pulse Schemes CSV\\\\50,20\\\\50nano\\\\SegmentA_1008_31.csv',\r\n",
    " 'D:\\\\Alejandro\\\\Pulses\\\\diode measurements\\\\Prepared Pulse Schemes CSV\\\\50,20\\\\50nano\\\\SegmentA_1008_69.csv',\r\n",
    " 'D:\\\\Alejandro\\\\Pulses\\\\diode measurements\\\\Prepared Pulse Schemes CSV\\\\50,20\\\\50nano\\\\SegmentA_1008_49.csv',\r\n",
    " 'D:\\\\Alejandro\\\\Pulses\\\\diode measurements\\\\Prepared Pulse Schemes CSV\\\\50,20\\\\50nano\\\\SegmentA_1008_8.csv',\r\n",
    " 'D:\\\\Alejandro\\\\Pulses\\\\diode measurements\\\\Prepared Pulse Schemes CSV\\\\50,20\\\\50nano\\\\SegmentA_1008_43.csv',\r\n",
    " 'D:\\\\Alejandro\\\\Pulses\\\\diode measurements\\\\Prepared Pulse Schemes CSV\\\\50,20\\\\50nano\\\\SegmentA_1008_1.csv',\r\n",
    " 'D:\\\\Alejandro\\\\Pulses\\\\diode measurements\\\\Prepared Pulse Schemes CSV\\\\50,20\\\\50nano\\\\SegmentA_1008_52.csv',\r\n",
    " 'D:\\\\Alejandro\\\\Pulses\\\\diode measurements\\\\Prepared Pulse Schemes CSV\\\\50,20\\\\50nano\\\\SegmentA_1008_34.csv',\r\n",
    " 'D:\\\\Alejandro\\\\Pulses\\\\diode measurements\\\\Prepared Pulse Schemes CSV\\\\50,20\\\\50nano\\\\SegmentA_1008_68.csv',\r\n",
    " 'D:\\\\Alejandro\\\\Pulses\\\\diode measurements\\\\Prepared Pulse Schemes CSV\\\\50,20\\\\50nano\\\\SegmentA_1008_33.csv',\r\n",
    " 'D:\\\\Alejandro\\\\Pulses\\\\diode measurements\\\\Prepared Pulse Schemes CSV\\\\50,20\\\\50nano\\\\SegmentA_1008_5.csv',\r\n",
    " 'D:\\\\Alejandro\\\\Pulses\\\\diode measurements\\\\Prepared Pulse Schemes CSV\\\\50,20\\\\50nano\\\\SegmentA_1008_61.csv',\r\n",
    " 'D:\\\\Alejandro\\\\Pulses\\\\diode measurements\\\\Prepared Pulse Schemes CSV\\\\50,20\\\\50nano\\\\SegmentA_1008_65.csv',\r\n",
    " 'D:\\\\Alejandro\\\\Pulses\\\\diode measurements\\\\Prepared Pulse Schemes CSV\\\\50,20\\\\50nano\\\\SegmentA_1008_55.csv',\r\n",
    " 'D:\\\\Alejandro\\\\Pulses\\\\diode measurements\\\\Prepared Pulse Schemes CSV\\\\50,20\\\\50nano\\\\SegmentA_1008_38.csv',\r\n",
    " 'D:\\\\Alejandro\\\\Pulses\\\\diode measurements\\\\Prepared Pulse Schemes CSV\\\\50,20\\\\50nano\\\\SegmentA_1008_46.csv',\r\n",
    " 'D:\\\\Alejandro\\\\Pulses\\\\diode measurements\\\\Prepared Pulse Schemes CSV\\\\50,20\\\\50nano\\\\SegmentA_1008_25.csv',\r\n",
    " 'D:\\\\Alejandro\\\\Pulses\\\\diode measurements\\\\Prepared Pulse Schemes CSV\\\\50,20\\\\50nano\\\\SegmentA_1008_48.csv')"
   ],
   "outputs": [],
   "metadata": {}
  }
 ],
 "metadata": {
  "orig_nbformat": 4,
  "language_info": {
   "name": "python",
   "version": "3.8.5",
   "mimetype": "text/x-python",
   "codemirror_mode": {
    "name": "ipython",
    "version": 3
   },
   "pygments_lexer": "ipython3",
   "nbconvert_exporter": "python",
   "file_extension": ".py"
  },
  "kernelspec": {
   "name": "python3",
   "display_name": "Python 3.8.5 64-bit ('base': conda)"
  },
  "interpreter": {
   "hash": "9a32f0bf53af15acd232504180dc0ef28b8a6ac1a49da0a6c374e1f45bb445b6"
  }
 },
 "nbformat": 4,
 "nbformat_minor": 2
}