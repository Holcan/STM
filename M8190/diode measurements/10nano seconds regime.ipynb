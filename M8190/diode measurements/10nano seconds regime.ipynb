{
 "cells": [
  {
   "cell_type": "code",
   "execution_count": 1,
   "source": [
    "import numpy as np\r\n",
    "from numpy import loadtxt\r\n",
    "import pandas as pd\r\n",
    "import time\r\n",
    "import matplotlib\r\n",
    "import matplotlib.pyplot as plt\r\n",
    "import pyvisa as visa\r\n",
    "from matplotlib import animation\r\n",
    "from time import sleep\r\n",
    "from matplotlib.animation import FuncAnimation\r\n",
    "#Importing the functions from the module and the pulses dictionaries\r\n",
    "from Sweeping import *\r\n",
    "from Dictionaries import *\r\n",
    "from PulseFiles import *\r\n",
    "from Instrument import *\r\n",
    "import pyqtgraph as pg \r\n",
    "import nidaqmx\r\n",
    "import pickle"
   ],
   "outputs": [],
   "metadata": {}
  },
  {
   "cell_type": "markdown",
   "source": [
    "#  10nano"
   ],
   "metadata": {}
  },
  {
   "cell_type": "code",
   "execution_count": 4,
   "source": [
    "modulation = 93 #Hz\r\n",
    "loop_number = 50000    \r\n",
    "res = 1/2972160000\r\n",
    "\r\n",
    "sam, sr , segment_length = Adj9(res,modulation,loop_number)"
   ],
   "outputs": [],
   "metadata": {}
  },
  {
   "cell_type": "code",
   "execution_count": 5,
   "source": [
    "sam"
   ],
   "outputs": [
    {
     "output_type": "execute_result",
     "data": {
      "text/plain": [
       "336"
      ]
     },
     "metadata": {},
     "execution_count": 5
    }
   ],
   "metadata": {}
  },
  {
   "cell_type": "code",
   "execution_count": 6,
   "source": [
    "sr"
   ],
   "outputs": [
    {
     "output_type": "execute_result",
     "data": {
      "text/plain": [
       "3124800000"
      ]
     },
     "metadata": {},
     "execution_count": 6
    }
   ],
   "metadata": {}
  },
  {
   "cell_type": "code",
   "execution_count": 7,
   "source": [
    "interval = segment_length*1e9 #nano\r\n",
    "interval"
   ],
   "outputs": [
    {
     "output_type": "execute_result",
     "data": {
      "text/plain": [
       "107.52688172043011"
      ]
     },
     "metadata": {},
     "execution_count": 7
    }
   ],
   "metadata": {}
  },
  {
   "cell_type": "markdown",
   "source": [
    "# AWG and Pulse files setup"
   ],
   "metadata": {}
  },
  {
   "cell_type": "code",
   "execution_count": 2,
   "source": [
    "AWG_Settings_10nano= {\r\n",
    "    'Visa Resource Name': 'TCPIP0::ibn3-036.ibn-net.kfa-juelich.de::hislip0::INSTR',\r\n",
    "    'Voltage Amplitude':700,\r\n",
    "    'Clock Sample Frecuency':3124800000,\r\n",
    "    'Output_Channel': 1,\r\n",
    "    'Mode': 'STS',\r\n",
    "    'Trigger In Threshold' : 1,\r\n",
    "    'Output Rout': 'DC', #DAC output rout only has the BNC outputs: Direct Out and (Averaged) Direct Out # DC\r\n",
    "    'Data Directory': r'D:\\Alejandro\\Pulses\\diode measurements\\Prepared Pulse Schemes CSV\\50,20\\10nano'\r\n",
    "}"
   ],
   "outputs": [],
   "metadata": {}
  },
  {
   "cell_type": "code",
   "execution_count": 3,
   "source": [
    "M8190A = VisaR(AWG_Settings_10nano,60000)"
   ],
   "outputs": [],
   "metadata": {}
  },
  {
   "cell_type": "code",
   "execution_count": 8,
   "source": [
    "M8190A.write('FREQ:RAST {a}'.format(a = sr))"
   ],
   "outputs": [
    {
     "output_type": "execute_result",
     "data": {
      "text/plain": [
       "21"
      ]
     },
     "metadata": {},
     "execution_count": 8
    }
   ],
   "metadata": {}
  },
  {
   "cell_type": "code",
   "execution_count": null,
   "source": [
    "Initialization(M8190A,AWG_Settings_10nano)"
   ],
   "outputs": [
    {
     "output_type": "stream",
     "name": "stdout",
     "text": [
      "Instruments Sampling Frecuency set to 1.25760000000000E+08Hz\n",
      "Instruments Direct Out DAC Output route Voltage set to 7.00000000000000E-01Volts\n",
      "AWG_Settings_Dict set to TRIGGERED Mode\n",
      "Trigger In threshold value set to 1.00000000000000E+00V\n"
     ]
    }
   ],
   "metadata": {}
  },
  {
   "cell_type": "code",
   "execution_count": 9,
   "source": [
    "Pump_10nano = {\r\n",
    "    'Name':'Pump_10nano',\r\n",
    "    'Amplitude': 2*150,\r\n",
    "    'Start time':50,\r\n",
    "    'End time':2e-10,\r\n",
    "    'Start Duration':10,\r\n",
    "    'End Duration':60,\r\n",
    "    'Sweep time':0,\r\n",
    "    'Sweep Duration':0\r\n",
    "}"
   ],
   "outputs": [],
   "metadata": {}
  },
  {
   "cell_type": "code",
   "execution_count": 10,
   "source": [
    "ProbeA_10nano = {\r\n",
    "    'Name':'ProbeA_10nano',\r\n",
    "    'Amplitude':2*50,\r\n",
    "    'Start time':30,\r\n",
    "    'End time':70,\r\n",
    "    'Start Duration':10,\r\n",
    "    'End Duration':60,\r\n",
    "    'Sweep time':1,\r\n",
    "    'Sweep Duration':0\r\n",
    "}"
   ],
   "outputs": [],
   "metadata": {}
  },
  {
   "cell_type": "code",
   "execution_count": 11,
   "source": [
    "ProbeB_10nano= {\r\n",
    "    'Name':'ProbeB_10nano',\r\n",
    "    'Amplitude':-2*50,\r\n",
    "    'Start time':30,\r\n",
    "    'End time':70,\r\n",
    "    'Start Duration':10,\r\n",
    "    'End Duration':60,\r\n",
    "    'Sweep time':1,\r\n",
    "    'Sweep Duration':0\r\n",
    "}"
   ],
   "outputs": [],
   "metadata": {}
  },
  {
   "cell_type": "code",
   "execution_count": 12,
   "source": [
    "ProbeB_10nano_empty= {\r\n",
    "    'Name':'ProbeB_10nano_empty',\r\n",
    "    'Amplitude':0*50,\r\n",
    "    'Start time':30,\r\n",
    "    'End time':70,\r\n",
    "    'Start Duration':10,\r\n",
    "    'End Duration':60,\r\n",
    "    'Sweep time':1,\r\n",
    "    'Sweep Duration':0\r\n",
    "}"
   ],
   "outputs": [],
   "metadata": {}
  },
  {
   "cell_type": "code",
   "execution_count": 13,
   "source": [
    "PulseScheme_A_10nano =  {\r\n",
    "    'Name' : 'PulseScheme_A_10nano',\r\n",
    "    'Pulse Scheme': [Pump_10nano,ProbeA_10nano],\r\n",
    "    'Number of repetitions': 1,\r\n",
    "    'Measurement file Path': r'D:\\Alejandro\\Pulses\\diode measurements\\Autocorrelation measurements\\50,20\\10nano'\r\n",
    "}"
   ],
   "outputs": [],
   "metadata": {}
  },
  {
   "cell_type": "code",
   "execution_count": 14,
   "source": [
    "PulseScheme_B_10nano =  {\r\n",
    "    'Name' : 'PulseScheme_B_10nano',\r\n",
    "    'Pulse Scheme': [Pump_10nano,ProbeB_10nano],\r\n",
    "    'Number of repetitions': 1,\r\n",
    "    'Measurement file Path': r'D:\\Alejandro\\Pulses\\diode measurements\\Autocorrelation measurements\\50,20\\10nano'\r\n",
    "}"
   ],
   "outputs": [],
   "metadata": {}
  },
  {
   "cell_type": "code",
   "execution_count": 15,
   "source": [
    "PulseScheme_B_10nano_empty =  {\r\n",
    "    'Name' : 'PulseScheme_B_10nano',\r\n",
    "    'Pulse Scheme': [ProbeB_10nano_empty,ProbeB_10nano_empty],\r\n",
    "    'Number of repetitions': 1,\r\n",
    "    'Measurement file Path': r'D:\\Alejandro\\Pulses\\diode measurements\\Autocorrelation measurements\\50,20\\10nano'\r\n",
    "}"
   ],
   "outputs": [],
   "metadata": {}
  },
  {
   "cell_type": "code",
   "execution_count": 76,
   "source": [
    "step = 0\r\n",
    "pul1 = Sweep_dir_noteil(PulseScheme_A_10nano,70,step,interval,sam)\r\n",
    "\r\n",
    "\r\n",
    "#Plot\r\n",
    "fig,ax= plt.subplots()\r\n",
    "ax.grid(True)\r\n",
    "\r\n",
    "plt.plot(pul1[1],pul1[0]/2,label= '{b} samples'.format(b = sam),color='red')\r\n",
    "\r\n",
    "ax.set_ylabel('V  [mV]')\r\n",
    "ax.set_xlabel(r't [ns]')\r\n",
    "ax.set_title('Cycle A at step {a}'.format(a = step )) #Voltage Offset = 3mV, Marker Ampl = 50mV \r\n",
    "#ax.legend(loc=0)\r\n",
    "#plt.legend(bbox_to_anchor=(2.05, 1), loc='upper left', borderaxespad=0.)\r\n",
    "plt.show()\r\n",
    "\r\n",
    "fig.savefig(r'{loc}\\Cycle A, Probe width 10nano 93 Hz mod ,{a} step.jpeg'.format(loc = PulseScheme_A_10nano['Measurement file Path'], a = step),bbox_inches='tight')"
   ],
   "outputs": [
    {
     "output_type": "display_data",
     "data": {
      "image/png": "[encoded data removed]",
      "text/plain": [
       "<Figure size 432x288 with 1 Axes>"
      ]
     },
     "metadata": {
      "needs_background": "light"
     }
    }
   ],
   "metadata": {}
  },
  {
   "cell_type": "code",
   "execution_count": 44,
   "source": [
    "step = 34\r\n",
    "pul1 = Sweep_dir_noteil(PulseScheme_A_10nano,70,step,interval,sam)\r\n",
    "\r\n",
    "\r\n",
    "#Plot\r\n",
    "fig,ax= plt.subplots()\r\n",
    "ax.grid(True)\r\n",
    "\r\n",
    "plt.plot(pul1[1],pul1[0]/2,label= '{b} samples'.format(b = sam),color='red')\r\n",
    "\r\n",
    "ax.set_ylabel('V  [mV]')\r\n",
    "ax.set_xlabel(r't [ns]')\r\n",
    "ax.set_title('Cycle A at step {a}'.format(a = step )) #Voltage Offset = 3mV, Marker Ampl = 50mV \r\n",
    "#ax.legend(loc=0)\r\n",
    "#plt.legend(bbox_to_anchor=(2.05, 1), loc='upper left', borderaxespad=0.)\r\n",
    "plt.show()\r\n",
    "\r\n",
    "fig.savefig(r'{loc}\\Cycle A, Probe width 10nano 93 Hz mod , {a} step.jpeg'.format(loc = PulseScheme_A_10nano['Measurement file Path'], a = step),bbox_inches='tight')"
   ],
   "outputs": [
    {
     "output_type": "display_data",
     "data": {
      "image/png": "[encoded data removed]",
      "text/plain": [
       "<Figure size 432x288 with 1 Axes>"
      ]
     },
     "metadata": {
      "needs_background": "light"
     }
    }
   ],
   "metadata": {}
  },
  {
   "cell_type": "code",
   "execution_count": 45,
   "source": [
    "step = 36\r\n",
    "pul1 = Sweep_dir_noteil(PulseScheme_A_10nano,70,step,interval,sam)\r\n",
    "\r\n",
    "\r\n",
    "#Plot\r\n",
    "fig,ax= plt.subplots()\r\n",
    "ax.grid(True)\r\n",
    "\r\n",
    "plt.plot(pul1[1],pul1[0]/2,label= '{b} samples'.format(b = sam),color='red')\r\n",
    "\r\n",
    "ax.set_ylabel('V  [mV]')\r\n",
    "ax.set_xlabel(r't [ns]')\r\n",
    "ax.set_title('Cycle A at step {a}'.format(a = step )) #Voltage Offset = 3mV, Marker Ampl = 50mV \r\n",
    "#ax.legend(loc=0)\r\n",
    "#plt.legend(bbox_to_anchor=(2.05, 1), loc='upper left', borderaxespad=0.)\r\n",
    "plt.show()\r\n",
    "\r\n",
    "fig.savefig(r'{loc}\\Cycle A, Probe width 10nano 93 Hz mod , {a} step.jpeg'.format(loc = PulseScheme_A_10nano['Measurement file Path'], a = step),bbox_inches='tight')"
   ],
   "outputs": [
    {
     "output_type": "display_data",
     "data": {
      "image/png": "[encoded data removed]",
      "text/plain": [
       "<Figure size 432x288 with 1 Axes>"
      ]
     },
     "metadata": {
      "needs_background": "light"
     }
    }
   ],
   "metadata": {}
  },
  {
   "cell_type": "code",
   "execution_count": 53,
   "source": [
    "step = 40\r\n",
    "pul1 = Sweep_dir_noteil(PulseScheme_A_10nano,70,step,interval,sam)\r\n",
    "\r\n",
    "\r\n",
    "#Plot\r\n",
    "fig,ax= plt.subplots()\r\n",
    "ax.grid(True)\r\n",
    "\r\n",
    "plt.plot(pul1[1],pul1[0]/2,label= '{b} samples'.format(b = sam),color='red')\r\n",
    "\r\n",
    "ax.set_ylabel('V  [mV]')\r\n",
    "ax.set_xlabel(r't [ns]')\r\n",
    "ax.set_title('Cycle A at step {a}'.format(a = step )) #Voltage Offset = 3mV, Marker Ampl = 50mV \r\n",
    "#ax.legend(loc=0)\r\n",
    "#plt.legend(bbox_to_anchor=(2.05, 1), loc='upper left', borderaxespad=0.)\r\n",
    "plt.show()\r\n",
    "\r\n",
    "fig.savefig(r'{loc}\\Cycle A, Probe width 10nano 93 Hz mod , {a} step.jpeg'.format(loc = PulseScheme_A_10nano['Measurement file Path'], a = step),bbox_inches='tight')"
   ],
   "outputs": [
    {
     "output_type": "display_data",
     "data": {
      "image/png": "[encoded data removed]",
      "text/plain": [
       "<Figure size 432x288 with 1 Axes>"
      ]
     },
     "metadata": {
      "needs_background": "light"
     }
    }
   ],
   "metadata": {}
  },
  {
   "cell_type": "code",
   "execution_count": 30,
   "source": [
    "step = 70\r\n",
    "pul1 = Sweep_dir_noteil(PulseScheme_A_10nano,70,step,interval,sam)\r\n",
    "\r\n",
    "\r\n",
    "#Plot\r\n",
    "fig,ax= plt.subplots()\r\n",
    "ax.grid(True)\r\n",
    "\r\n",
    "plt.plot(pul1[1],pul1[0]/2,label= '{b} samples'.format(b = sam),color='red')\r\n",
    "\r\n",
    "ax.set_ylabel('V  [mV]')\r\n",
    "ax.set_xlabel(r't [ns]')\r\n",
    "ax.set_title('Cycle A at step {a}'.format(a = step )) #Voltage Offset = 3mV, Marker Ampl = 50mV \r\n",
    "#ax.legend(loc=0)\r\n",
    "#plt.legend(bbox_to_anchor=(2.05, 1), loc='upper left', borderaxespad=0.)\r\n",
    "plt.show()\r\n",
    "\r\n",
    "fig.savefig(r'{loc}\\Cycle A, Probe width 10nano 93 Hz mod {a} step.jpeg'.format(loc = PulseScheme_A_10nano['Measurement file Path'], a = step),bbox_inches='tight')"
   ],
   "outputs": [
    {
     "output_type": "display_data",
     "data": {
      "image/png": "[encoded data removed]",
      "text/plain": [
       "<Figure size 432x288 with 1 Axes>"
      ]
     },
     "metadata": {
      "needs_background": "light"
     }
    }
   ],
   "metadata": {}
  },
  {
   "cell_type": "code",
   "execution_count": 31,
   "source": [
    "step = 0\r\n",
    "pul1 = Sweep_dir_noteil(PulseScheme_B_10nano,70,step,interval,sam)\r\n",
    "\r\n",
    "\r\n",
    "#Plot\r\n",
    "fig,ax= plt.subplots()\r\n",
    "ax.grid(True)\r\n",
    "\r\n",
    "plt.plot(pul1[1],pul1[0]/2,label= '{b} samples'.format(b = sam),color='red')\r\n",
    "\r\n",
    "ax.set_ylabel('V  [mV]')\r\n",
    "ax.set_xlabel(r't [ns]')\r\n",
    "ax.set_title('Cycle B at step {a}'.format(a = step )) #Voltage Offset = 3mV, Marker Ampl = 50mV \r\n",
    "#ax.legend(loc=0)\r\n",
    "#plt.legend(bbox_to_anchor=(2.05, 1), loc='upper left', borderaxespad=0.)\r\n",
    "plt.show()\r\n",
    "\r\n",
    "fig.savefig(r'{loc}\\Cycle B, Probe width 10nano 93 Hz mod {a} step.jpeg'.format(loc = PulseScheme_A_10nano['Measurement file Path'], a = step),bbox_inches='tight')"
   ],
   "outputs": [
    {
     "output_type": "display_data",
     "data": {
      "image/png": "[encoded data removed]",
      "text/plain": [
       "<Figure size 432x288 with 1 Axes>"
      ]
     },
     "metadata": {
      "needs_background": "light"
     }
    }
   ],
   "metadata": {}
  },
  {
   "cell_type": "code",
   "execution_count": 21,
   "source": [
    "step = 70\r\n",
    "pul1 = Sweep_dir_noteil(PulseScheme_B_10nano,70,step,interval,sam)\r\n",
    "\r\n",
    "\r\n",
    "#Plot\r\n",
    "fig,ax= plt.subplots()\r\n",
    "ax.grid(True)\r\n",
    "\r\n",
    "plt.plot(pul1[1],pul1[0]/2,label= '{b} samples'.format(b = sam),color='red')\r\n",
    "\r\n",
    "ax.set_ylabel('V  [mV]')\r\n",
    "ax.set_xlabel(r't [ns]')\r\n",
    "ax.set_title('Cycle B at step {a}'.format(a = step )) #Voltage Offset = 3mV, Marker Ampl = 50mV \r\n",
    "#ax.legend(loc=0)\r\n",
    "#plt.legend(bbox_to_anchor=(2.05, 1), loc='upper left', borderaxespad=0.)\r\n",
    "plt.show()\r\n",
    "\r\n",
    "#fig.savefig(r'{loc}\\Cycle B, Probe width 10nano 93 Hz mod {a} step.jpeg'.format(loc = PulseScheme_A_10nano['Measurement file Path'], a = step),bbox_inches='tight')"
   ],
   "outputs": [
    {
     "output_type": "display_data",
     "data": {
      "image/png": "[encoded data removed]",
      "text/plain": [
       "<Figure size 432x288 with 1 Axes>"
      ]
     },
     "metadata": {
      "needs_background": "light"
     }
    }
   ],
   "metadata": {}
  },
  {
   "cell_type": "code",
   "execution_count": 33,
   "source": [
    "step = 0\r\n",
    "pul1 = Sweep_dir_noteil(PulseScheme_B_10nano_empty,70,step,interval,sam)\r\n",
    "\r\n",
    "\r\n",
    "#Plot\r\n",
    "fig,ax= plt.subplots()\r\n",
    "ax.grid(True)\r\n",
    "\r\n",
    "plt.plot(pul1[1],pul1[0]/2,label= '{b} samples'.format(b = sam),color='red')\r\n",
    "\r\n",
    "ax.set_ylabel('V  [mV]')\r\n",
    "ax.set_xlabel(r't [ns]')\r\n",
    "ax.set_title('Cycle B at step {a}'.format(a = step )) #Voltage Offset = 3mV, Marker Ampl = 50mV \r\n",
    "#ax.legend(loc=0)\r\n",
    "#plt.legend(bbox_to_anchor=(2.05, 1), loc='upper left', borderaxespad=0.)\r\n",
    "plt.show()\r\n",
    "\r\n",
    "fig.savefig(r'{loc}\\Cycle B, Probe width 50 nano 93 Hz mod {a} step empty .jpeg'.format(loc = PulseScheme_A_10nano['Measurement file Path'], a = step),bbox_inches='tight')"
   ],
   "outputs": [
    {
     "output_type": "display_data",
     "data": {
      "image/png": "[encoded data removed]",
      "text/plain": [
       "<Figure size 432x288 with 1 Axes>"
      ]
     },
     "metadata": {
      "needs_background": "light"
     }
    }
   ],
   "metadata": {}
  },
  {
   "cell_type": "code",
   "execution_count": 21,
   "source": [
    "sweeping_run_a_10nano = Sweeping_Single_List_File_teil(PulseScheme_A_10nano,70,interval,sam,0,70,AWG_Settings_10nano,'A')[0]"
   ],
   "outputs": [],
   "metadata": {}
  },
  {
   "cell_type": "code",
   "execution_count": 22,
   "source": [
    "sweeping_run_b_10nano = Sweeping_Single_List_File_teil(PulseScheme_B_10nano,70,interval,sam,0,70,AWG_Settings_10nano,'B')[0]"
   ],
   "outputs": [],
   "metadata": {}
  },
  {
   "cell_type": "code",
   "execution_count": 23,
   "source": [
    "#Exporting pickle\r\n",
    "\r\n",
    "with open(r\"{dict}\\cycleA_71steps_93Hz_10nano_.p\".format(dict = PulseScheme_A_10nano['Measurement file Path']), \"wb\") as k:\r\n",
    "    pickle.dump(sweeping_run_a_10nano, k)\r\n",
    "\r\n",
    "\r\n",
    "with open(r\"{dict}\\cycleB_71steps_93Hz_10nano_.p\".format(dict = PulseScheme_B_10nano['Measurement file Path']), \"wb\") as h:\r\n",
    "    pickle.dump(sweeping_run_b_10nano, h)"
   ],
   "outputs": [],
   "metadata": {}
  },
  {
   "cell_type": "code",
   "execution_count": 53,
   "source": [
    "AWG_Settings_10nano_empty= {\r\n",
    "    'Visa Resource Name': 'TCPIP0::ibn3-036.ibn-net.kfa-juelich.de::hislip0::INSTR',\r\n",
    "    'Voltage Amplitude':700,\r\n",
    "    'Clock Sample Frecuency':2999808000,\r\n",
    "    'Output_Channel': 1,\r\n",
    "    'Mode': 'STS',\r\n",
    "    'Trigger In Threshold' : 1,\r\n",
    "    'Output Rout': 'DC', #DAC output rout only has the SMA outputs: Direct Out and (Averaged) Direct Out # DC\r\n",
    "    'Data Directory': r'D:\\Alejandro\\Pulses\\diode measurements\\Prepared Pulse Schemes CSV\\50,20\\10nano\\empty B cycle'\r\n",
    "}"
   ],
   "outputs": [],
   "metadata": {}
  },
  {
   "cell_type": "code",
   "execution_count": 54,
   "source": [
    "sweeping_run_b_10nano_empty = Sweeping_Single_List_File_teil(PulseScheme_B_10nano_empty,70,interval,sam,0,70,AWG_Settings_10nano_empty,'B')[0]"
   ],
   "outputs": [],
   "metadata": {}
  },
  {
   "cell_type": "code",
   "execution_count": 55,
   "source": [
    "#Exporting pickle\r\n",
    "\r\n",
    "with open(r\"{dict}\\cycleB_71steps_93Hz_10nano_empty.p\".format(dict = PulseScheme_B_10nano['Measurement file Path']), \"wb\") as h:\r\n",
    "    pickle.dump(sweeping_run_b_10nano_empty, h)"
   ],
   "outputs": [],
   "metadata": {}
  },
  {
   "cell_type": "code",
   "execution_count": 16,
   "source": [
    "#Importing Pickle\r\n",
    "\r\n",
    "with open(r\"{dict}\\cycleA_71steps_93Hz_10nano_.p\".format(dict = PulseScheme_A_10nano['Measurement file Path']), \"rb\") as j:\r\n",
    "    sweeping_runa_10nano = pickle.load(j)\r\n",
    "\r\n",
    "with open(r\"{dict}\\cycleB_71steps_93Hz_10nano_.p\".format(dict = PulseScheme_A_10nano['Measurement file Path']), \"rb\") as f:\r\n",
    "    sweeping_runb_10nano= pickle.load(f)"
   ],
   "outputs": [],
   "metadata": {}
  },
  {
   "cell_type": "code",
   "execution_count": 20,
   "source": [
    "sweeping_runa_10nano"
   ],
   "outputs": [
    {
     "output_type": "execute_result",
     "data": {
      "text/plain": [
       "{'Pulse File Location, at step 0': 'D:\\\\Alejandro\\\\Pulses\\\\diode measurements\\\\Prepared Pulse Schemes CSV\\\\50,20\\\\10nano\\\\SegmentA_336_0.csv',\n",
       " 'Pulse File Location, at step 1': 'D:\\\\Alejandro\\\\Pulses\\\\diode measurements\\\\Prepared Pulse Schemes CSV\\\\50,20\\\\10nano\\\\SegmentA_336_1.csv',\n",
       " 'Pulse File Location, at step 2': 'D:\\\\Alejandro\\\\Pulses\\\\diode measurements\\\\Prepared Pulse Schemes CSV\\\\50,20\\\\10nano\\\\SegmentA_336_2.csv',\n",
       " 'Pulse File Location, at step 3': 'D:\\\\Alejandro\\\\Pulses\\\\diode measurements\\\\Prepared Pulse Schemes CSV\\\\50,20\\\\10nano\\\\SegmentA_336_3.csv',\n",
       " 'Pulse File Location, at step 4': 'D:\\\\Alejandro\\\\Pulses\\\\diode measurements\\\\Prepared Pulse Schemes CSV\\\\50,20\\\\10nano\\\\SegmentA_336_4.csv',\n",
       " 'Pulse File Location, at step 5': 'D:\\\\Alejandro\\\\Pulses\\\\diode measurements\\\\Prepared Pulse Schemes CSV\\\\50,20\\\\10nano\\\\SegmentA_336_5.csv',\n",
       " 'Pulse File Location, at step 6': 'D:\\\\Alejandro\\\\Pulses\\\\diode measurements\\\\Prepared Pulse Schemes CSV\\\\50,20\\\\10nano\\\\SegmentA_336_6.csv',\n",
       " 'Pulse File Location, at step 7': 'D:\\\\Alejandro\\\\Pulses\\\\diode measurements\\\\Prepared Pulse Schemes CSV\\\\50,20\\\\10nano\\\\SegmentA_336_7.csv',\n",
       " 'Pulse File Location, at step 8': 'D:\\\\Alejandro\\\\Pulses\\\\diode measurements\\\\Prepared Pulse Schemes CSV\\\\50,20\\\\10nano\\\\SegmentA_336_8.csv',\n",
       " 'Pulse File Location, at step 9': 'D:\\\\Alejandro\\\\Pulses\\\\diode measurements\\\\Prepared Pulse Schemes CSV\\\\50,20\\\\10nano\\\\SegmentA_336_9.csv',\n",
       " 'Pulse File Location, at step 10': 'D:\\\\Alejandro\\\\Pulses\\\\diode measurements\\\\Prepared Pulse Schemes CSV\\\\50,20\\\\10nano\\\\SegmentA_336_10.csv',\n",
       " 'Pulse File Location, at step 11': 'D:\\\\Alejandro\\\\Pulses\\\\diode measurements\\\\Prepared Pulse Schemes CSV\\\\50,20\\\\10nano\\\\SegmentA_336_11.csv',\n",
       " 'Pulse File Location, at step 12': 'D:\\\\Alejandro\\\\Pulses\\\\diode measurements\\\\Prepared Pulse Schemes CSV\\\\50,20\\\\10nano\\\\SegmentA_336_12.csv',\n",
       " 'Pulse File Location, at step 13': 'D:\\\\Alejandro\\\\Pulses\\\\diode measurements\\\\Prepared Pulse Schemes CSV\\\\50,20\\\\10nano\\\\SegmentA_336_13.csv',\n",
       " 'Pulse File Location, at step 14': 'D:\\\\Alejandro\\\\Pulses\\\\diode measurements\\\\Prepared Pulse Schemes CSV\\\\50,20\\\\10nano\\\\SegmentA_336_14.csv',\n",
       " 'Pulse File Location, at step 15': 'D:\\\\Alejandro\\\\Pulses\\\\diode measurements\\\\Prepared Pulse Schemes CSV\\\\50,20\\\\10nano\\\\SegmentA_336_15.csv',\n",
       " 'Pulse File Location, at step 16': 'D:\\\\Alejandro\\\\Pulses\\\\diode measurements\\\\Prepared Pulse Schemes CSV\\\\50,20\\\\10nano\\\\SegmentA_336_16.csv',\n",
       " 'Pulse File Location, at step 17': 'D:\\\\Alejandro\\\\Pulses\\\\diode measurements\\\\Prepared Pulse Schemes CSV\\\\50,20\\\\10nano\\\\SegmentA_336_17.csv',\n",
       " 'Pulse File Location, at step 18': 'D:\\\\Alejandro\\\\Pulses\\\\diode measurements\\\\Prepared Pulse Schemes CSV\\\\50,20\\\\10nano\\\\SegmentA_336_18.csv',\n",
       " 'Pulse File Location, at step 19': 'D:\\\\Alejandro\\\\Pulses\\\\diode measurements\\\\Prepared Pulse Schemes CSV\\\\50,20\\\\10nano\\\\SegmentA_336_19.csv',\n",
       " 'Pulse File Location, at step 20': 'D:\\\\Alejandro\\\\Pulses\\\\diode measurements\\\\Prepared Pulse Schemes CSV\\\\50,20\\\\10nano\\\\SegmentA_336_20.csv',\n",
       " 'Pulse File Location, at step 21': 'D:\\\\Alejandro\\\\Pulses\\\\diode measurements\\\\Prepared Pulse Schemes CSV\\\\50,20\\\\10nano\\\\SegmentA_336_21.csv',\n",
       " 'Pulse File Location, at step 22': 'D:\\\\Alejandro\\\\Pulses\\\\diode measurements\\\\Prepared Pulse Schemes CSV\\\\50,20\\\\10nano\\\\SegmentA_336_22.csv',\n",
       " 'Pulse File Location, at step 23': 'D:\\\\Alejandro\\\\Pulses\\\\diode measurements\\\\Prepared Pulse Schemes CSV\\\\50,20\\\\10nano\\\\SegmentA_336_23.csv',\n",
       " 'Pulse File Location, at step 24': 'D:\\\\Alejandro\\\\Pulses\\\\diode measurements\\\\Prepared Pulse Schemes CSV\\\\50,20\\\\10nano\\\\SegmentA_336_24.csv',\n",
       " 'Pulse File Location, at step 25': 'D:\\\\Alejandro\\\\Pulses\\\\diode measurements\\\\Prepared Pulse Schemes CSV\\\\50,20\\\\10nano\\\\SegmentA_336_25.csv',\n",
       " 'Pulse File Location, at step 26': 'D:\\\\Alejandro\\\\Pulses\\\\diode measurements\\\\Prepared Pulse Schemes CSV\\\\50,20\\\\10nano\\\\SegmentA_336_26.csv',\n",
       " 'Pulse File Location, at step 27': 'D:\\\\Alejandro\\\\Pulses\\\\diode measurements\\\\Prepared Pulse Schemes CSV\\\\50,20\\\\10nano\\\\SegmentA_336_27.csv',\n",
       " 'Pulse File Location, at step 28': 'D:\\\\Alejandro\\\\Pulses\\\\diode measurements\\\\Prepared Pulse Schemes CSV\\\\50,20\\\\10nano\\\\SegmentA_336_28.csv',\n",
       " 'Pulse File Location, at step 29': 'D:\\\\Alejandro\\\\Pulses\\\\diode measurements\\\\Prepared Pulse Schemes CSV\\\\50,20\\\\10nano\\\\SegmentA_336_29.csv',\n",
       " 'Pulse File Location, at step 30': 'D:\\\\Alejandro\\\\Pulses\\\\diode measurements\\\\Prepared Pulse Schemes CSV\\\\50,20\\\\10nano\\\\SegmentA_336_30.csv',\n",
       " 'Pulse File Location, at step 31': 'D:\\\\Alejandro\\\\Pulses\\\\diode measurements\\\\Prepared Pulse Schemes CSV\\\\50,20\\\\10nano\\\\SegmentA_336_31.csv',\n",
       " 'Pulse File Location, at step 32': 'D:\\\\Alejandro\\\\Pulses\\\\diode measurements\\\\Prepared Pulse Schemes CSV\\\\50,20\\\\10nano\\\\SegmentA_336_32.csv',\n",
       " 'Pulse File Location, at step 33': 'D:\\\\Alejandro\\\\Pulses\\\\diode measurements\\\\Prepared Pulse Schemes CSV\\\\50,20\\\\10nano\\\\SegmentA_336_33.csv',\n",
       " 'Pulse File Location, at step 34': 'D:\\\\Alejandro\\\\Pulses\\\\diode measurements\\\\Prepared Pulse Schemes CSV\\\\50,20\\\\10nano\\\\SegmentA_336_34.csv',\n",
       " 'Pulse File Location, at step 35': 'D:\\\\Alejandro\\\\Pulses\\\\diode measurements\\\\Prepared Pulse Schemes CSV\\\\50,20\\\\10nano\\\\SegmentA_336_35.csv',\n",
       " 'Pulse File Location, at step 36': 'D:\\\\Alejandro\\\\Pulses\\\\diode measurements\\\\Prepared Pulse Schemes CSV\\\\50,20\\\\10nano\\\\SegmentA_336_36.csv',\n",
       " 'Pulse File Location, at step 37': 'D:\\\\Alejandro\\\\Pulses\\\\diode measurements\\\\Prepared Pulse Schemes CSV\\\\50,20\\\\10nano\\\\SegmentA_336_37.csv',\n",
       " 'Pulse File Location, at step 38': 'D:\\\\Alejandro\\\\Pulses\\\\diode measurements\\\\Prepared Pulse Schemes CSV\\\\50,20\\\\10nano\\\\SegmentA_336_38.csv',\n",
       " 'Pulse File Location, at step 39': 'D:\\\\Alejandro\\\\Pulses\\\\diode measurements\\\\Prepared Pulse Schemes CSV\\\\50,20\\\\10nano\\\\SegmentA_336_39.csv',\n",
       " 'Pulse File Location, at step 40': 'D:\\\\Alejandro\\\\Pulses\\\\diode measurements\\\\Prepared Pulse Schemes CSV\\\\50,20\\\\10nano\\\\SegmentA_336_40.csv'}"
      ]
     },
     "metadata": {},
     "execution_count": 20
    }
   ],
   "metadata": {}
  },
  {
   "cell_type": "code",
   "execution_count": null,
   "source": [
    "sweeping_run_b_10nano['Pulse File Location, at step 30']"
   ],
   "outputs": [
    {
     "output_type": "display_data",
     "data": {
      "text/plain": [
       "'D:\\\\Alejandro\\\\Pulses\\\\diode measurements\\\\Prepared Pulse Schemes CSV\\\\50,20\\\\1mili\\\\SegmentB_672816_30.csv'"
      ]
     },
     "metadata": {}
    }
   ],
   "metadata": {}
  },
  {
   "cell_type": "code",
   "execution_count": null,
   "source": [
    "loop_10nano"
   ],
   "outputs": [
    {
     "output_type": "display_data",
     "data": {
      "text/plain": [
       "8000"
      ]
     },
     "metadata": {}
    }
   ],
   "metadata": {}
  },
  {
   "cell_type": "code",
   "execution_count": 24,
   "source": [
    "Sequence_File(M8190A,sweeping_run_a_10nano['Pulse File Location, at step 70'],sweeping_run_b_10nano['Pulse File Location, at step 70'],loop_number)"
   ],
   "outputs": [
    {
     "output_type": "stream",
     "name": "stdout",
     "text": [
      "Sequence loaded with the following segment data \"1,50000,0,1,0,335,2,50000,0,1,0,335\" and the advancement method is COND\n"
     ]
    },
    {
     "output_type": "execute_result",
     "data": {
      "text/plain": [
       "0"
      ]
     },
     "metadata": {},
     "execution_count": 24
    }
   ],
   "metadata": {
    "scrolled": true
   }
  },
  {
   "cell_type": "code",
   "execution_count": null,
   "source": [],
   "outputs": [],
   "metadata": {}
  },
  {
   "cell_type": "markdown",
   "source": [
    "# Loading"
   ],
   "metadata": {}
  },
  {
   "cell_type": "code",
   "execution_count": 17,
   "source": [
    "M8190A.write('SEQ:DEL:ALL')"
   ],
   "outputs": [
    {
     "output_type": "execute_result",
     "data": {
      "text/plain": [
       "12"
      ]
     },
     "metadata": {},
     "execution_count": 17
    }
   ],
   "metadata": {
    "scrolled": true
   }
  },
  {
   "cell_type": "code",
   "execution_count": null,
   "source": [
    "Dummy_File(M8190A)"
   ],
   "outputs": [
    {
     "output_type": "stream",
     "name": "stdout",
     "text": [
      "Dummy File Loaded and playing\n",
      "Dummy File stopped and erased from AWGs memmory\n"
     ]
    }
   ],
   "metadata": {
    "scrolled": false
   }
  },
  {
   "cell_type": "code",
   "execution_count": 43,
   "source": [
    "Lock_In_Settings = {\r\n",
    "'Time Constant' : '100ms',\r\n",
    "'Sensitivity' : '50 miliVolts',\r\n",
    "'Reserve' : 'Normal',\r\n",
    "'db' : 24,\r\n",
    "'Modulation': '93Hz'\r\n",
    "}"
   ],
   "outputs": [],
   "metadata": {}
  },
  {
   "cell_type": "code",
   "execution_count": 44,
   "source": [
    "loop_number"
   ],
   "outputs": [
    {
     "output_type": "execute_result",
     "data": {
      "text/plain": [
       "50000"
      ]
     },
     "metadata": {},
     "execution_count": 44
    }
   ],
   "metadata": {}
  },
  {
   "cell_type": "code",
   "execution_count": 79,
   "source": [
    "playingtime = 10\r\n",
    "\r\n",
    "Diode_Signal, averaged_data = Voltage_Autocorrelation_loop(M8190A,DAQ_Settings1,playingtime,sweeping_run_a_10nano,sweeping_run_b_10nano,PulseScheme_A_10nano['Measurement file Path'],Lock_In_Settings,loop_number)"
   ],
   "outputs": [
    {
     "output_type": "stream",
     "name": "stdout",
     "text": [
      "Sequence loaded with the following segment data \"1,50000,0,1,0,335,2,50000,0,1,0,335\" and the advancement method is COND\n",
      "Average Value for measurement at step 0 is 1.191997493978081 V\n",
      "Sequence loaded with the following segment data \"1,50000,0,1,0,335,2,50000,0,1,0,335\" and the advancement method is COND\n",
      "Average Value for measurement at step 1 is 1.191979452684489 V\n",
      "Sequence loaded with the following segment data \"1,50000,0,1,0,335,2,50000,0,1,0,335\" and the advancement method is COND\n",
      "Average Value for measurement at step 2 is 1.1919349602234839 V\n",
      "Sequence loaded with the following segment data \"1,50000,0,1,0,335,2,50000,0,1,0,335\" and the advancement method is COND\n",
      "Average Value for measurement at step 3 is 1.1920181662936649 V\n",
      "Sequence loaded with the following segment data \"1,50000,0,1,0,335,2,50000,0,1,0,335\" and the advancement method is COND\n",
      "Average Value for measurement at step 4 is 1.1920032728299506 V\n",
      "Sequence loaded with the following segment data \"1,50000,0,1,0,335,2,50000,0,1,0,335\" and the advancement method is COND\n",
      "Average Value for measurement at step 5 is 1.1919477394731095 V\n",
      "Sequence loaded with the following segment data \"1,50000,0,1,0,335,2,50000,0,1,0,335\" and the advancement method is COND\n",
      "Average Value for measurement at step 6 is 1.1922756775701808 V\n",
      "Sequence loaded with the following segment data \"1,50000,0,1,0,335,2,50000,0,1,0,335\" and the advancement method is COND\n",
      "Average Value for measurement at step 7 is 1.227675562601101 V\n",
      "Sequence loaded with the following segment data \"1,50000,0,1,0,335,2,50000,0,1,0,335\" and the advancement method is COND\n",
      "Average Value for measurement at step 8 is 1.1920670751130167 V\n",
      "Sequence loaded with the following segment data \"1,50000,0,1,0,335,2,50000,0,1,0,335\" and the advancement method is COND\n",
      "Average Value for measurement at step 9 is 1.191934161520381 V\n",
      "Sequence loaded with the following segment data \"1,50000,0,1,0,335,2,50000,0,1,0,335\" and the advancement method is COND\n",
      "Average Value for measurement at step 10 is 1.1919611764782267 V\n",
      "Sequence loaded with the following segment data \"1,50000,0,1,0,335,2,50000,0,1,0,335\" and the advancement method is COND\n",
      "Average Value for measurement at step 11 is 1.1919719824613575 V\n",
      "Sequence loaded with the following segment data \"1,50000,0,1,0,335,2,50000,0,1,0,335\" and the advancement method is COND\n",
      "Average Value for measurement at step 12 is 1.1919701971250205 V\n",
      "Sequence loaded with the following segment data \"1,50000,0,1,0,335,2,50000,0,1,0,335\" and the advancement method is COND\n",
      "Average Value for measurement at step 13 is 1.1919566661548326 V\n",
      "Sequence loaded with the following segment data \"1,50000,0,1,0,335,2,50000,0,1,0,335\" and the advancement method is COND\n",
      "Average Value for measurement at step 14 is 1.1919329869569957 V\n",
      "Sequence loaded with the following segment data \"1,50000,0,1,0,335,2,50000,0,1,0,335\" and the advancement method is COND\n",
      "Average Value for measurement at step 15 is 1.1910761194774808 V\n",
      "Sequence loaded with the following segment data \"1,50000,0,1,0,335,2,50000,0,1,0,335\" and the advancement method is COND\n",
      "Average Value for measurement at step 16 is 1.224139421872172 V\n",
      "Sequence loaded with the following segment data \"1,50000,0,1,0,335,2,50000,0,1,0,335\" and the advancement method is COND\n",
      "Average Value for measurement at step 17 is 1.1904691051217415 V\n",
      "Sequence loaded with the following segment data \"1,50000,0,1,0,335,2,50000,0,1,0,335\" and the advancement method is COND\n",
      "Average Value for measurement at step 18 is 1.1566988584334839 V\n",
      "Sequence loaded with the following segment data \"1,50000,0,1,0,335,2,50000,0,1,0,335\" and the advancement method is COND\n",
      "Average Value for measurement at step 19 is 1.0929267453066087 V\n",
      "Sequence loaded with the following segment data \"1,50000,0,1,0,335,2,50000,0,1,0,335\" and the advancement method is COND\n",
      "Average Value for measurement at step 20 is 1.0265706940364563 V\n",
      "Sequence loaded with the following segment data \"1,50000,0,1,0,335,2,50000,0,1,0,335\" and the advancement method is COND\n",
      "Average Value for measurement at step 21 is 0.9971223314402996 V\n",
      "Sequence loaded with the following segment data \"1,50000,0,1,0,335,2,50000,0,1,0,335\" and the advancement method is COND\n",
      "Average Value for measurement at step 22 is 0.9270745921496325 V\n",
      "Sequence loaded with the following segment data \"1,50000,0,1,0,335,2,50000,0,1,0,335\" and the advancement method is COND\n",
      "Average Value for measurement at step 23 is 0.8603092465479765 V\n",
      "Sequence loaded with the following segment data \"1,50000,0,1,0,335,2,50000,0,1,0,335\" and the advancement method is COND\n",
      "Average Value for measurement at step 24 is 0.7931544227069639 V\n",
      "Sequence loaded with the following segment data \"1,50000,0,1,0,335,2,50000,0,1,0,335\" and the advancement method is COND\n",
      "Average Value for measurement at step 25 is 0.7645735085876035 V\n",
      "Sequence loaded with the following segment data \"1,50000,0,1,0,335,2,50000,0,1,0,335\" and the advancement method is COND\n",
      "Average Value for measurement at step 26 is 0.6903513047862081 V\n",
      "Sequence loaded with the following segment data \"1,50000,0,1,0,335,2,50000,0,1,0,335\" and the advancement method is COND\n",
      "Average Value for measurement at step 27 is 0.6194543418091921 V\n",
      "Sequence loaded with the following segment data \"1,50000,0,1,0,335,2,50000,0,1,0,335\" and the advancement method is COND\n",
      "Average Value for measurement at step 28 is 0.5490887107625396 V\n",
      "Sequence loaded with the following segment data \"1,50000,0,1,0,335,2,50000,0,1,0,335\" and the advancement method is COND\n",
      "Average Value for measurement at step 29 is 0.4787145355720145 V\n",
      "Sequence loaded with the following segment data \"1,50000,0,1,0,335,2,50000,0,1,0,335\" and the advancement method is COND\n",
      "Average Value for measurement at step 30 is 0.44630695761429584 V\n",
      "Sequence loaded with the following segment data \"1,50000,0,1,0,335,2,50000,0,1,0,335\" and the advancement method is COND\n",
      "Average Value for measurement at step 31 is 0.37182661714615745 V\n",
      "Sequence loaded with the following segment data \"1,50000,0,1,0,335,2,50000,0,1,0,335\" and the advancement method is COND\n",
      "Average Value for measurement at step 32 is 0.2980873851836932 V\n",
      "Sequence loaded with the following segment data \"1,50000,0,1,0,335,2,50000,0,1,0,335\" and the advancement method is COND\n",
      "Average Value for measurement at step 33 is 0.22437808765980422 V\n",
      "Sequence loaded with the following segment data \"1,50000,0,1,0,335,2,50000,0,1,0,335\" and the advancement method is COND\n",
      "Average Value for measurement at step 34 is 0.1925047575258772 V\n",
      "Sequence loaded with the following segment data \"1,50000,0,1,0,335,2,50000,0,1,0,335\" and the advancement method is COND\n",
      "Average Value for measurement at step 35 is 0.11432499362208406 V\n",
      "Sequence loaded with the following segment data \"1,50000,0,1,0,335,2,50000,0,1,0,335\" and the advancement method is COND\n",
      "Average Value for measurement at step 36 is 0.18530892266472052 V\n",
      "Sequence loaded with the following segment data \"1,50000,0,1,0,335,2,50000,0,1,0,335\" and the advancement method is COND\n",
      "Average Value for measurement at step 37 is 0.25587715661530536 V\n",
      "Sequence loaded with the following segment data \"1,50000,0,1,0,335,2,50000,0,1,0,335\" and the advancement method is COND\n",
      "Average Value for measurement at step 38 is 0.32357580083294557 V\n",
      "Sequence loaded with the following segment data \"1,50000,0,1,0,335,2,50000,0,1,0,335\" and the advancement method is COND\n",
      "Average Value for measurement at step 39 is 0.39598505507694715 V\n",
      "Sequence loaded with the following segment data \"1,50000,0,1,0,335,2,50000,0,1,0,335\" and the advancement method is COND\n",
      "Average Value for measurement at step 40 is 0.42552759219626246 V\n",
      "Sequence loaded with the following segment data \"1,50000,0,1,0,335,2,50000,0,1,0,335\" and the advancement method is COND\n",
      "Average Value for measurement at step 41 is 0.495967350018236 V\n",
      "Sequence loaded with the following segment data \"1,50000,0,1,0,335,2,50000,0,1,0,335\" and the advancement method is COND\n",
      "Average Value for measurement at step 42 is 0.563250924631004 V\n",
      "Sequence loaded with the following segment data \"1,50000,0,1,0,335,2,50000,0,1,0,335\" and the advancement method is COND\n",
      "Average Value for measurement at step 43 is 0.6304523329910933 V\n",
      "Sequence loaded with the following segment data \"1,50000,0,1,0,335,2,50000,0,1,0,335\" and the advancement method is COND\n",
      "Average Value for measurement at step 44 is 0.665206130940128 V\n",
      "Sequence loaded with the following segment data \"1,50000,0,1,0,335,2,50000,0,1,0,335\" and the advancement method is COND\n",
      "Average Value for measurement at step 45 is 0.7313581477290502 V\n",
      "Sequence loaded with the following segment data \"1,50000,0,1,0,335,2,50000,0,1,0,335\" and the advancement method is COND\n",
      "Average Value for measurement at step 46 is 0.7962193734605986 V\n",
      "Sequence loaded with the following segment data \"1,50000,0,1,0,335,2,50000,0,1,0,335\" and the advancement method is COND\n",
      "Average Value for measurement at step 47 is 0.8602487330744939 V\n",
      "Sequence loaded with the following segment data \"1,50000,0,1,0,335,2,50000,0,1,0,335\" and the advancement method is COND\n",
      "Average Value for measurement at step 48 is 0.9306648080470789 V\n",
      "Sequence loaded with the following segment data \"1,50000,0,1,0,335,2,50000,0,1,0,335\" and the advancement method is COND\n",
      "Average Value for measurement at step 49 is 0.9548701065422047 V\n",
      "Sequence loaded with the following segment data \"1,50000,0,1,0,335,2,50000,0,1,0,335\" and the advancement method is COND\n",
      "Average Value for measurement at step 50 is 1.0181479963143572 V\n",
      "Sequence loaded with the following segment data \"1,50000,0,1,0,335,2,50000,0,1,0,335\" and the advancement method is COND\n",
      "Average Value for measurement at step 51 is 1.078939107330305 V\n",
      "Sequence loaded with the following segment data \"1,50000,0,1,0,335,2,50000,0,1,0,335\" and the advancement method is COND\n",
      "Average Value for measurement at step 52 is 1.1396898193772773 V\n",
      "Sequence loaded with the following segment data \"1,50000,0,1,0,335,2,50000,0,1,0,335\" and the advancement method is COND\n",
      "Average Value for measurement at step 53 is 1.1422536561145613 V\n",
      "Sequence loaded with the following segment data \"1,50000,0,1,0,335,2,50000,0,1,0,335\" and the advancement method is COND\n",
      "Average Value for measurement at step 54 is 1.1458269125566838 V\n",
      "Sequence loaded with the following segment data \"1,50000,0,1,0,335,2,50000,0,1,0,335\" and the advancement method is COND\n",
      "Average Value for measurement at step 55 is 1.150081932542763 V\n",
      "Sequence loaded with the following segment data \"1,50000,0,1,0,335,2,50000,0,1,0,335\" and the advancement method is COND\n",
      "Average Value for measurement at step 56 is 1.1566957575863308 V\n",
      "Sequence loaded with the following segment data \"1,50000,0,1,0,335,2,50000,0,1,0,335\" and the advancement method is COND\n",
      "Average Value for measurement at step 57 is 1.1919463769795786 V\n",
      "Sequence loaded with the following segment data \"1,50000,0,1,0,335,2,50000,0,1,0,335\" and the advancement method is COND\n",
      "Average Value for measurement at step 58 is 1.1602719740138785 V\n",
      "Sequence loaded with the following segment data \"1,50000,0,1,0,335,2,50000,0,1,0,335\" and the advancement method is COND\n",
      "Average Value for measurement at step 59 is 1.1603369038743634 V\n",
      "Sequence loaded with the following segment data \"1,50000,0,1,0,335,2,50000,0,1,0,335\" and the advancement method is COND\n",
      "Average Value for measurement at step 60 is 1.1634401471623628 V\n",
      "Sequence loaded with the following segment data \"1,50000,0,1,0,335,2,50000,0,1,0,335\" and the advancement method is COND\n",
      "Average Value for measurement at step 61 is 1.1634481811755317 V\n",
      "Sequence loaded with the following segment data \"1,50000,0,1,0,335,2,50000,0,1,0,335\" and the advancement method is COND\n",
      "Average Value for measurement at step 62 is 1.1664645537755371 V\n",
      "Sequence loaded with the following segment data \"1,50000,0,1,0,335,2,50000,0,1,0,335\" and the advancement method is COND\n",
      "Average Value for measurement at step 63 is 1.1674611942567275 V\n",
      "Sequence loaded with the following segment data \"1,50000,0,1,0,335,2,50000,0,1,0,335\" and the advancement method is COND\n",
      "Average Value for measurement at step 64 is 1.167445032265214 V\n",
      "Sequence loaded with the following segment data \"1,50000,0,1,0,335,2,50000,0,1,0,335\" and the advancement method is COND\n",
      "Average Value for measurement at step 65 is 1.1700317496149184 V\n",
      "Sequence loaded with the following segment data \"1,50000,0,1,0,335,2,50000,0,1,0,335\" and the advancement method is COND\n",
      "Average Value for measurement at step 66 is 1.205500321784286 V\n",
      "Sequence loaded with the following segment data \"1,50000,0,1,0,335,2,50000,0,1,0,335\" and the advancement method is COND\n",
      "Average Value for measurement at step 67 is 1.1709378077770884 V\n",
      "Sequence loaded with the following segment data \"1,50000,0,1,0,335,2,50000,0,1,0,335\" and the advancement method is COND\n",
      "Average Value for measurement at step 68 is 1.170908161798308 V\n",
      "Sequence loaded with the following segment data \"1,50000,0,1,0,335,2,50000,0,1,0,335\" and the advancement method is COND\n",
      "Average Value for measurement at step 69 is 1.1722924081914392 V\n",
      "Sequence loaded with the following segment data \"1,50000,0,1,0,335,2,50000,0,1,0,335\" and the advancement method is COND\n",
      "Average Value for measurement at step 70 is 1.1735488151119442 V\n"
     ]
    }
   ],
   "metadata": {}
  },
  {
   "cell_type": "code",
   "execution_count": 80,
   "source": [
    "fig,ax= plt.subplots()\r\n",
    "ax.grid(True)\r\n",
    "for i in range(0,len(Diode_Signal)):\r\n",
    "    plt.plot(Diode_Signal[i][1],Diode_Signal[i][0],label= 'Step {st}'.format(st = i ))\r\n",
    "\r\n",
    "ax.set_ylabel(r'V  [V]')\r\n",
    "ax.set_xlabel('t  [s]')\r\n",
    "ax.set_title(r' Diode Signal at Different Steps,  {b} Samples, 10nano seconds probe duration'.format(b = len(Diode_Signal[0][1]) ))\r\n",
    "#ax.legend(bbox_to_anchor=(1.05, 1), loc='upper left', borderaxespad=0.)\r\n",
    "#ax.legend(loc=0)\r\n",
    "plt.show()\r\n",
    "\r\n",
    "fig.savefig(r'{loc}\\Diode Signal time cstant = {a}, sensitivity {b},{c} daqseconds, , probe duration 100nano ,71 steps, 93 Hz no legend, .jpeg'.format(loc = PulseScheme_A_10nano['Measurement file Path'],a = Lock_In_Settings['Time Constant'], b = Lock_In_Settings['Sensitivity'], c = playingtime),bbox_inches='tight')"
   ],
   "outputs": [
    {
     "output_type": "display_data",
     "data": {
      "image/png": "[encoded data removed]",
      "text/plain": [
       "<Figure size 432x288 with 1 Axes>"
      ]
     },
     "metadata": {
      "needs_background": "light"
     }
    }
   ],
   "metadata": {}
  },
  {
   "cell_type": "code",
   "execution_count": 81,
   "source": [
    "time_delay = np.linspace(-20,20,71)"
   ],
   "outputs": [],
   "metadata": {}
  },
  {
   "cell_type": "code",
   "execution_count": null,
   "source": [
    "%matplotlib widget"
   ],
   "outputs": [],
   "metadata": {}
  },
  {
   "cell_type": "code",
   "execution_count": 41,
   "source": [
    "1/8e9"
   ],
   "outputs": [
    {
     "output_type": "execute_result",
     "data": {
      "text/plain": [
       "1.25e-10"
      ]
     },
     "metadata": {},
     "execution_count": 41
    }
   ],
   "metadata": {}
  },
  {
   "cell_type": "code",
   "execution_count": 82,
   "source": [
    "#change this to V regime\r\n",
    "fig,axes = plt.subplots()\r\n",
    "\r\n",
    "axes.grid(True)\r\n",
    "\r\n",
    "plt.plot(time_delay,averaged_data,label=r'10 ns Probe Width ',color='red')\r\n",
    "#plt.plot(tm,pul,label = '{a} samples'.format(a = len(pul)))\r\n",
    "\r\n",
    "axes.set_xlabel(r'time delay [ns]')\r\n",
    "axes.set_ylabel(r'Diode Signal [V]')\r\n",
    "axes.set_title('Auto-Correlation 71 steps ')\r\n",
    "\r\n",
    "axes.legend(loc = 0)\r\n",
    "plt.show()\r\n",
    "\r\n",
    "fig.savefig(r'{loc}\\Autocorrelation function 31 steps 10nano 93Hz length tc = {a}, sens {b}, {c}s DAQ .jpeg'.format(loc = PulseScheme_A_10nano['Measurement file Path'],a = Lock_In_Settings['Time Constant'], b = Lock_In_Settings['Sensitivity'], c = playingtime ))"
   ],
   "outputs": [
    {
     "output_type": "display_data",
     "data": {
      "image/png": "[encoded data removed]",
      "text/plain": [
       "<Figure size 432x288 with 1 Axes>"
      ]
     },
     "metadata": {
      "needs_background": "light"
     }
    }
   ],
   "metadata": {}
  },
  {
   "cell_type": "code",
   "execution_count": null,
   "source": [
    "100,\r\n",
    "50,\r\n",
    "25\r\n",
    "10"
   ],
   "outputs": [],
   "metadata": {}
  }
 ],
 "metadata": {
  "orig_nbformat": 4,
  "language_info": {
   "name": "python",
   "version": "3.8.5",
   "mimetype": "text/x-python",
   "codemirror_mode": {
    "name": "ipython",
    "version": 3
   },
   "pygments_lexer": "ipython3",
   "nbconvert_exporter": "python",
   "file_extension": ".py"
  },
  "kernelspec": {
   "name": "python3",
   "display_name": "Python 3.8.5 64-bit ('base': conda)"
  },
  "interpreter": {
   "hash": "9a32f0bf53af15acd232504180dc0ef28b8a6ac1a49da0a6c374e1f45bb445b6"
  }
 },
 "nbformat": 4,
 "nbformat_minor": 2
}