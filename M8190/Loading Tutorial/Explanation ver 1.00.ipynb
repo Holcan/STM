{
 "cells": [
  {
   "cell_type": "markdown",
   "metadata": {},
   "source": [
    "# Sequence Loading into a Keysight M8190A Arbitray Waveform Generator.\n",
    "\n",
    "In this notebook we will explain how to load rectangular pulse schemes sequences into the Arbitrary Waveform Generator (AWG) using the following python modules:\n",
    "\n",
    "1. Sweeping.py\n",
    "2. PulseFiles.py\n",
    "3. Dictionaries.py\n",
    "4. Instrument.py\n",
    "\n",
    "As well as standard python modules used for Scientific Analysis (numpy, pandas, time and matplotib),PyVisa ,and the National Instruments API for controlling a  Data Acquisition (DAQ) Box.\n",
    "\n",
    "This Notebook is divided in 3 sections:\n",
    "\n",
    "1. __Initialization__ where we se how to connect to the AWG through Python and use the proper settings to prepare the AWG into playing Waveform data.\n",
    "\n",
    "2. __Pulse File Information__ where we explain the details about the waveform data and how it can be loaded into the AWG.\n",
    "\n",
    "3. __Sweeping Run loading (for Auto Correlation measurements RF Diode)__ how we can set up the AWG into playing a sequence as well as capturing data with the DAQ box.\n",
    "\n",
    "\n",
    "All of the instrument settings metioned here will refer to the 14 bit mode and the Output Channel 1.\n",
    "\n",
    "The version of this notebook is 1.00"
   ]
  },
  {
   "cell_type": "markdown",
   "metadata": {},
   "source": [
    "# Initialization"
   ]
  },
  {
   "cell_type": "markdown",
   "metadata": {},
   "source": [
    "## First, as usual, we import the required Python Modules:"
   ]
  },
  {
   "cell_type": "code",
   "execution_count": null,
   "metadata": {},
   "outputs": [],
   "source": [
    "import numpy as np\n",
    "from numpy import loadtxt\n",
    "import pandas as pd\n",
    "import time\n",
    "import matplotlib\n",
    "import matplotlib.pyplot as plt\n",
    "import pyvisa as visa\n",
    "from matplotlib import animation\n",
    "from time import sleep\n",
    "import pyqtgraph as pg \n",
    "import nidaqmx\n",
    "import pickle\n",
    "\n",
    "\n",
    "#Importing the functions from the module and the pulses dictionaries\n",
    "from Sweeping import *\n",
    "from Dictionaries import *\n",
    "from PulseFiles import *\n",
    "from Instrument import *\n"
   ]
  },
  {
   "cell_type": "markdown",
   "metadata": {},
   "source": [
    "We also need to stablish the connection between the AWG and the computer. In order to do this turn the AWG on and wait until the \"Access\" LED turns green, afterwards run the \"Keysight M8190Firmware\" Software (a quick access is given in the the Desktop). Please do not confuse this with the \"Keysight M8190 Soft Front Panel\", this Soft Front Panel software is a graphical interphase to controll the AWG.\n",
    "\n",
    "When the connection is stablished a window of this form will appear:\n",
    "\n",
    "![Firmware Visa Adress](Firmware.png)\n",
    "\n",
    "\n",
    "This provides us the VISA Adress needed to use the instrument through Python."
   ]
  },
  {
   "cell_type": "markdown",
   "metadata": {},
   "source": [
    "This Visa Adress, as well as other AWG parameters are stored in a dictionary, whose Keys will be used by most of the functions. \n",
    "An example of a AWG parameter Dictionary is:"
   ]
  },
  {
   "cell_type": "code",
   "execution_count": null,
   "metadata": {},
   "outputs": [],
   "source": [
    "AWG_Settings= {\n",
    "    'Visa Resource Name': 'TCPIP0::ibn3-036.ibn-net.kfa-juelich.de::hislip0::INSTR',\n",
    "    'Voltage Amplitude':700, #miliVolts\n",
    "    'Clock Sample Frecuency':6000000000, #Hz\n",
    "    'Output_Channel': 1, #Physical Channel in the front Chasis of the AWG\n",
    "    'Mode': 'STS',\n",
    "    'Trigger In Threshold' : 1, #Volts\n",
    "    'Output Rout': 'DAC', #DAC output rout only has the SMA Physical outputs: Direct Out and (Averaged) Direct Out\n",
    "    'Data Directory': r'D:\\Alejandro\\Pulses\\diode measurements\\Pulse Scheme CSV\\Measurements\\1000nano' #File path where we will save the Pulse Scheme CSV files\n",
    "}"
   ]
  },
  {
   "cell_type": "markdown",
   "metadata": {},
   "source": [
    "We also define a Dictionary for the DAQ settings:"
   ]
  },
  {
   "cell_type": "code",
   "execution_count": null,
   "metadata": {},
   "outputs": [],
   "source": [
    "DAQ_Settings1 = {\n",
    "    'DAQ Name' : 'DAQBNC1',\n",
    "    'Analog Channel Input Marker' : 'ai2', \n",
    "    'Analog Channel Input Waveform' : 'ai0 ', \n",
    "    'Analog Channel Output' : 'ao1',\n",
    "    'Minimum Voltage' : -10,\n",
    "    'Maximum Voltage' : 10,\n",
    "    'Minimum Voltage Marker' : -9,\n",
    "    'Maximum Voltage Marker' : 9,\n",
    "    'Maximum Current': 0.01,\n",
    "    'Minimum Current' : -0.01,\n",
    "    'Sampling Frequency' : 1000,\n",
    "    'Data Directory': r'D:\\Documentos\\STM\\Python Pulses\\S1' #path of home computer file!\n",
    "}"
   ]
  },
  {
   "cell_type": "markdown",
   "metadata": {},
   "source": [
    "After this we can run the __VisaR__ function to generate the object Python class to control the AWG thorugh Python, with Pyvisa. We will name this object class as **M8190A** and choose a timeout time for the AWG of 60000 ms"
   ]
  },
  {
   "cell_type": "code",
   "execution_count": null,
   "metadata": {},
   "outputs": [],
   "source": [
    "M8190A = VisaR(AWG_Settings,60000)"
   ]
  },
  {
   "cell_type": "markdown",
   "metadata": {},
   "source": [
    "Once the object class is created we can run the __Initialization__ function, this function sets the AWG to the proper parameters and configurations in order to play pulse sequences (including Marker channel settings)."
   ]
  },
  {
   "cell_type": "code",
   "execution_count": null,
   "metadata": {},
   "outputs": [],
   "source": [
    "Initialization(M8190A,AWG_Settings)"
   ]
  },
  {
   "cell_type": "markdown",
   "metadata": {},
   "source": [
    "It is important to know that this function configures the instrument into the Sequencer mode given by the AWG_Settings['Mode'] key (in the previous example it is set to STS). The AWG has 3 different sequencing modes: Arbitrary, STSequence, and STScenario.\n",
    "\n",
    "In the Arbitrary mode, the AWG is able to play a single waveform data, named within the AWG intrphase as __Segment__. This Segments are identified within the AWG by an integer number called __Segment Id__ and will have a given __length__ , thes length defines the total number of waveform data samples to be played by the AWG. \n",
    "The __minimum Segment length is 320 samples in 12 bit mode__ and __240 samples in 14 bit__ mode. And the Maximum legth is 2048 MSa\n",
    "\n",
    "The __granularity__ of the AWG is __64 samples in 12 bit mode__ and __48 samples in 14 bit__ mode.\n",
    "\n",
    "\n",
    "\n",
    "\n",
    "\n",
    "Segments can be combined together to from a __Sequence__ and be played through the STSequence Mode. In this regard a Sequence consistes of multiple Segments played in a given order. It is good to think of a Sequence as a Table, where each Segment is an entry. In this way, we first deifine the indiviual Segments, next we define the Sequence table and then load intoto it the Segment entries in the order that we want them to be played. \n",
    "\n",
    "\n",
    "The Advancemnt method in between Segments used here is __CONDITIONAL__ which means that the waveform of all segments in the sequence will be played indefinitely until the AWG is stoped. Other advancement methods are posible and can be view in the users Manual.\n",
    "\n",
    "Finally, the STScneario plays , as it names suggests it a Scenario, which is a combination of multiple sequences."
   ]
  },
  {
   "cell_type": "markdown",
   "metadata": {},
   "source": [
    "# Pulse File Information"
   ]
  },
  {
   "cell_type": "markdown",
   "metadata": {},
   "source": [
    "## Formating"
   ]
  },
  {
   "cell_type": "markdown",
   "metadata": {},
   "source": [
    "The way that we load waveform data into the AWG Segments is through CSV files (other formats and options are mentioned in the AWG users Manual). \n",
    "\n",
    "This CSV files must be delimited by a comma and the sample values must be normalized ( in the [-1,1] interval, in our case, we normalize our waveform data with the AWG_Settings['Voltage Amplitude'] value). The AWG has two __Marker channels__ per Output channel and the way we enanable Marker channels to a specific waveform data is appending a value of 1 in the column to the right of the beforementioned waveform data. If we do not want to enable the marker channel to waveform data, the value to be appended is 0, instead of 1. The Marker columns can only be given the 0 or 1 values. The way we distinguish between the two marker channels is by the header of such column.\n",
    "\n",
    "In concrete, the file itself (as the way we are implementing it) will have a total of 3 Columns labeles as:\n",
    "\n",
    "1. Y1  (here we have the normalized waveform data values)\n",
    "2. SyncMarker1   (Column of either 1 or 0, dependinding )\n",
    "3. SampleMarker1 (Column of either 1 or 0, dependinding ).\n",
    "\n",
    "The overall difference between the two Marker channels is the Sampling Frequency at which they run."
   ]
  },
  {
   "cell_type": "markdown",
   "metadata": {},
   "source": [
    "![CSV Example](csvA.png)\n",
    "\n",
    "Image above: header of an example of the format of a csv file with 7500000 waveform data with the marker channels enabled."
   ]
  },
  {
   "cell_type": "markdown",
   "metadata": {},
   "source": [
    "# Number of Samples details"
   ]
  },
  {
   "cell_type": "markdown",
   "metadata": {},
   "source": [
    "The total number of data samples in our sequences is not free, as it should follow the relation:\n",
    "\n",
    "$$ N = S_r * t $$\n",
    "\n",
    "where $N$ is total the number of sample points, $S_r$ the Sampling Frequency (Sampling Clock) of the AWG in Herzs and $t$ the time regime (time length) of the desired Pulse Scheme in seconds. $N$ should also follow the next granularity Caveat."
   ]
  },
  {
   "cell_type": "markdown",
   "metadata": {},
   "source": [
    "## Granularity Caveat\n",
    "\n",
    "As mentioned earlier, each Segment in the AWG has a given Granularity, this means that the  total number of samples in our waveform data __must__ be a multiple of this granularity (for our current settings this is __48__) In cases where the waveform data is not a multiple of the granularity, the Segment will have a length equal to: $l = k N$ where $l$ is the length of the segment, $N$ the number of samples and $k$ the lowest posible positive integer such that $l$ is a multiple of the granularity (48).\n",
    "\n"
   ]
  },
  {
   "cell_type": "markdown",
   "metadata": {},
   "source": [
    "# Pulse Sequence Sweeping"
   ]
  },
  {
   "cell_type": "markdown",
   "metadata": {},
   "source": [
    "Now that we know which formtat the csv files containing our waveform data should have, we will explaing how we create Pulse Sequences based on this.\n",
    "\n",
    "The __Pulse Sequence__ that we will be loaded into the AWG will consist of two __Pulse Cycles__ (we named them A, and B correspondelty). Each Cycle has a __Pulse Scheme__ made from two pulses: Pump and Probe. Usually we will change (sweep) the realtive time position of one Pulse with respect to the other,namely we will leave the Pump pulse still while  we sweep the Probe pulse with respect to the Pump. \n",
    "\n",
    "![Sweeping Cycle A](CompleteSweepingSteps.jpg)\n",
    "\n",
    "\n",
    "Here we show Several Sweeping Steps, for Cycle A. "
   ]
  },
  {
   "cell_type": "markdown",
   "metadata": {},
   "source": [
    "The csv files loaded into the AWG will have the proper waveform data (following the restrictions metioned earlier) of a complete Cycle (either A or B) at a given sweeping step, in other words, our waveform Segments will be pulse cycles, and our __pulse sequences__ will be the Sequence generated by the Segment of CycleA followed by the Segment of CycleB at a given sweeping step. This means advancing from a sweepin step to the next one is translated to changing AWG Sequences.\n",
    "\n",
    " The parameters of each individual pulse are contained in dictionaries, for example:"
   ]
  },
  {
   "cell_type": "code",
   "execution_count": null,
   "metadata": {},
   "outputs": [],
   "source": [
    "Pump = {\n",
    "    'Name':'Pump',\n",
    "    'Amplitude':40, #mV, this value will be normalized in the csv file by the Voltage Amplitude key of the AWG_Settings key\n",
    "    'Start time':5, #the units mainly depend on the desired time regime for the pulse sequence given by the Sweeping_Single_List_File_teil function, this refers to the time of the first sweeping step\n",
    "    'End time':2e-10, #the units mainly depend on the desired time regime for the pulse sequence given by the Sweeping_Single_List_File_teil function, this refers to the time of the last sweeping step\n",
    "    'Start Duration':1, #the units mainly depend on the desired time regime for the pulse sequence given by the Sweeping_Single_List_File_teil function, this refers to the duration of the first sweeping step\n",
    "    'End Duration':1, #the units mainly depend on the desired time regime for the pulse sequence given by the Sweeping_Single_List_File_teil function, this refers to the duration of the last sweeping step\n",
    "    'Sweep time':0, #the sweeping functions use this parameter, if it is equal to 1, the pulse will be swept in time, if it is 0 it will not. \n",
    "    'Sweep Duration':0 #the sweeping functions use this parameter, if it is equal to 1, the pulse will be swept in duration, if it is 0 it will not.\n",
    "}"
   ]
  },
  {
   "cell_type": "code",
   "execution_count": null,
   "metadata": {},
   "outputs": [],
   "source": [
    "ProbeA = {\n",
    "    'Name':'ProbeA',\n",
    "    'Amplitude':25, #mV, this value will be normalized in the csv file by the Voltage Amplitude key of the AWG_Settings key\n",
    "    'Start time':3, #the units mainly depend on the desired time regime for the pulse sequence given by the Sweeping_Single_List_File_teil function, this refers to the time of the first sweeping step\n",
    "    'End time':7, #the units mainly depend on the desired time regime for the pulse sequence given by the Sweeping_Single_List_File_teil function, this refers to the time of the last sweeping step\n",
    "    'Start Duration':1, #the units mainly depend on the desired time regime for the pulse sequence given by the Sweeping_Single_List_File_teil function, this refers to the duration of the first sweeping step\n",
    "    'End Duration':60, #the units mainly depend on the desired time regime for the pulse sequence given by the Sweeping_Single_List_File_teil function, this refers to the duration of the last sweeping step\n",
    "    'Sweep time':1, #the sweeping functions use this parameter, if it is equal to 1, the pulse will be swept in time, if it is 0 it will not.\n",
    "    'Sweep Duration':0 #the sweeping functions use this parameter, if it is equal to 1, the pulse will be swept in duration, if it is 0 it will not.\n",
    "}"
   ]
  },
  {
   "cell_type": "code",
   "execution_count": null,
   "metadata": {},
   "outputs": [],
   "source": [
    "ProbeB = {\n",
    "    'Name':'ProbeB',\n",
    "    'Amplitude':0,\n",
    "    'Start time':0,\n",
    "    'End time':12,\n",
    "    'Start Duration':1,\n",
    "    'End Duration':6,\n",
    "    'Sweep time':0,\n",
    "    'Sweep Duration':0\n",
    "}"
   ]
  },
  {
   "cell_type": "markdown",
   "metadata": {},
   "source": [
    "# NOTE\n",
    "The time parameters for the pulses given here are scaled to the total pulse scheme time $t$ used in the Sweeping function, more details below. (in this example they correspond to ms)"
   ]
  },
  {
   "cell_type": "markdown",
   "metadata": {},
   "source": [
    "The information of a given Pulse Scheme (Cycle) is given also in a dictionary:"
   ]
  },
  {
   "cell_type": "code",
   "execution_count": null,
   "metadata": {},
   "outputs": [],
   "source": [
    "PulseScheme_A =  {\n",
    "    'Name' : 'PulseScheme_A',\n",
    "    'Pulse Scheme': [Pump,ProbeA], #the pulse scheme corresponds to a List that contains the Pulse dictionaries\n",
    "    'Number of repetitions': 80000,\n",
    "    'Measurement file Path': r'D:\\Alejandro\\Pulses\\diode measurements\\TList\\10ms,50Hz'\n",
    "}"
   ]
  },
  {
   "cell_type": "code",
   "execution_count": null,
   "metadata": {},
   "outputs": [],
   "source": [
    "PulseScheme_B  = {\n",
    "    'Name' : 'PulseScheme_B',\n",
    "    'Pulse Scheme': [ProbeB,ProbeB],\n",
    "    'Number of repetitions': 1,\n",
    "    'Measurement file Path': r'D:\\Alejandro\\Pulses\\diode measurements\\TList\\10ms,50Hz'\n",
    "}"
   ]
  },
  {
   "cell_type": "markdown",
   "metadata": {},
   "source": [
    "The cycle waveform data at different sweeping steps is generated first as a numpy array and then exported to a CSV file with the proper formating by the function:"
   ]
  },
  {
   "cell_type": "code",
   "execution_count": null,
   "metadata": {},
   "outputs": [],
   "source": [
    "#the parametes of this function are quickly showed as follow, for mor details please check the documentation\n",
    "#Sweeping_Single_List_File_teil(PulseScheme_Dictionary,total_number_sweeping_steps,time_length_scheme,Number_Samples,Starting_sweepingstep,ending_sweepingstep,AWG_Settings,cycle)\n",
    "\n",
    "#For a time length of:\n",
    "time_length = 10#ms, 0.01s\n",
    "\n",
    "\n",
    "\n",
    "#we know the number of samples sam should follow:\n",
    "\n",
    "sam = AWG_Settings['Clock Sample Frecuency']*(time_length*0.001)\n",
    "\n",
    "#it should aslo follow the granularity constraint\n",
    "\n",
    "\n",
    "\n",
    "#for CycleA and 30 sweeping steps\n",
    "Sweeping_runa = Sweeping_Single_List_File_teil(PulseScheme_A,30,time_length,sam,0,30,AWG_Settings,'A')[0]\n",
    "\n",
    "#for CycleB sweeping steps\n",
    "Sweeping_runb = Sweeping_Single_List_File_teil(PulseScheme_B,30,time_length,sam,0,30,AWG_Settings,'B')[0]"
   ]
  },
  {
   "cell_type": "markdown",
   "metadata": {},
   "source": [
    "The above parameters of the function will give us 31 csv files,that is 31 CycleA files in which the ProbeA pulse will be swept with respect to the Pulse.\n",
    "\n",
    "The main difference in our code between CycleA and CycleB is that CycleA have assigned markers to the waveform data on it's csv files (marker columns have a value of 1), while Cycle B does not (marker columns have a value of 0). This is mainly to modulated CycleA with the rising part of the Reference Sinusoidal Wave of a Lock-In Amplifier, while modulating Cycle B with the lowering part.\n",
    "\n",
    "As we mentioned earilier, Our Pulse Sequence will consist of CycleA followed by CycleB.\n",
    "\n",
    "Cycle B (for autocorrelation function measurements with an RF Diode) consists of an empy pulse scheme, with no pulses whatsoever, that also lasts the same duration of Cycle A. With the example parameters given above, this means that the total time duration of CycleA + Cycle B will be 2*time_length = 20ms , which corresponds to a 50Hz Modulation. "
   ]
  },
  {
   "cell_type": "markdown",
   "metadata": {},
   "source": [
    "One of the parameters returned by the Sweeping function is a Dictionary, whose elements are the file paths to the CSV files that it created. This way we can orderly load them into the AWG as individual sequences, having the sweeping being changing from one of them to the next, this is the one that we named in the previous example as Sweeping_runa(b) and is the one that our Sequence loading function uses.\n",
    "\n",
    "We also export and import this dictionaries with Python's Pickle, so we can re do the measurement in the future without to explicitly write this dictionaries every time."
   ]
  },
  {
   "cell_type": "code",
   "execution_count": null,
   "metadata": {},
   "outputs": [],
   "source": [
    "#exporting pickle \n",
    "\n",
    "#pickle.dump(sweeping_run_a, open(r\"{dict}\\cycleA_31steps_10ms_1ms_probe_3GHz.p\".format(dict = PulseScheme_A['Measurement file Path']), \"wb\"))  # save it into a file named sweepingA.p\n",
    "#pickle.dump(sweeping_runb, open(r\"{dict}\\cycleB_31steps_10ms_1msprobe_3Ghz.p\".format(dict = PulseScheme_A['Measurement file Path']), \"wb\"))  # save it into a file named sweepingB.p"
   ]
  },
  {
   "cell_type": "code",
   "execution_count": null,
   "metadata": {},
   "outputs": [],
   "source": [
    "#importing pickle\n",
    "\n",
    "#sweeping_run_a = pickle.load(open(r\"{dict}\\cycleA_31steps_10ms_1ms_probe_3GHz.p\".format(dict = PulseScheme_A['Measurement file Path'])),\"rb\"))\n",
    "#sweeping_runb =  pickle.load(open(r\"{dict}\\cycleB_31steps_10ms_1msprobe_3Ghz.p\".format(dict = PulseScheme_A['Measurement file Path']),\"rb\"))"
   ]
  },
  {
   "cell_type": "markdown",
   "metadata": {},
   "source": [
    "# Sweeping Run loading (for Auto Correlation measurements RF Diode)"
   ]
  },
  {
   "cell_type": "markdown",
   "metadata": {},
   "source": [
    "We have a function that loads the csv files into the AWG while also controlling a DAQ box to trigger it into playing and storing the voltage output. "
   ]
  },
  {
   "cell_type": "markdown",
   "metadata": {},
   "source": [
    "Before loading sweeping runs into the AWG it is important to note that everytime that the AWG is reset or that the Sampling Frequency is changed, the AWG will take around 5 seconds to play it's first waveform after having received the play command (waveforms played afterwards will be played instantly). Therefore everytime that we first turn on the AWG or change the sampling clock we run the Dummy_File function, which loads a dummy empty Segment to the AWG, plays it for a couple of seconds and then it is stoped and deleted."
   ]
  },
  {
   "cell_type": "code",
   "execution_count": null,
   "metadata": {},
   "outputs": [],
   "source": [
    "Dummy_File(M8190A)"
   ]
  },
  {
   "cell_type": "markdown",
   "metadata": {},
   "source": [
    "## Lock-In Dictionary\n",
    "\n",
    "Before running the Sequence Loading function we define a Lock-In dictionary to store te values that we physically set up in the lock in, for future reference. The keys of this dictionary will be appended to the name of the measurements obtained."
   ]
  },
  {
   "cell_type": "code",
   "execution_count": null,
   "metadata": {},
   "outputs": [],
   "source": [
    "Lock_In_Settings = {\n",
    "'Time Constant' : '300ms',\n",
    "'Sensitivity' : '500 microVolts',\n",
    "'Reserve' : 'Normal',\n",
    "'db' : 24,\n",
    "'Modulation': '50Hz'\n",
    "}"
   ]
  },
  {
   "cell_type": "markdown",
   "metadata": {},
   "source": [
    "Finally we come to our measurement function (Measurement_Autocorrelation_voltage), where we define a playing time which is the total time duration in which the DAQ box will be recolecting data:"
   ]
  },
  {
   "cell_type": "code",
   "execution_count": null,
   "metadata": {},
   "outputs": [],
   "source": [
    "playing_time = 10 #in seconds\n",
    "\n",
    "Diode_Signal, averaged_data = Measurement_Autocorrelation_voltage(M8190A,DAQ_Settings1,DAQ_Settings1['Sampling Frequency'], playing_time ,sweeping_runa,sweeping_runb,PulseScheme_A['Measurement file Path'],Lock_In_Settings)"
   ]
  },
  {
   "cell_type": "markdown",
   "metadata": {},
   "source": [
    "Measurement_Autocorrelation_voltage function will load Cycle A and Cycle B as Segments and then define a Sequence with both of them in the AWG, it will make the DAQ box to trigger the AWG into playing the given sequence for a total duration given by \"playing_time\" parameter. During this playing_time the DAQ will also record the voltage input data from the channel given by DAQ_Settings1['Analog Channel Input Waveform']. When the playing time is finished, the DAQ box will stop the data acquisition and triggering of the AWG, meanwhile the csv files of the Cycles at the next sweeping step will be loaded into the AWG and the triggerin + data aquisition is repeated. At the end, the data recorded at each step is storaged in the file path given by PulseScheme_A['Measurement file Path'], this function also provides at the en the averaged value of all the data taken in the playing_time lapse for each individual step."
   ]
  },
  {
   "cell_type": "markdown",
   "metadata": {},
   "source": []
  }
 ],
 "metadata": {
  "interpreter": {
   "hash": "9a32f0bf53af15acd232504180dc0ef28b8a6ac1a49da0a6c374e1f45bb445b6"
  },
  "kernelspec": {
   "display_name": "Python 3",
   "language": "python",
   "name": "python3"
  },
  "language_info": {
   "codemirror_mode": {
    "name": "ipython",
    "version": 3
   },
   "file_extension": ".py",
   "mimetype": "text/x-python",
   "name": "python",
   "nbconvert_exporter": "python",
   "pygments_lexer": "ipython3",
   "version": "3.8.5"
  }
 },
 "nbformat": 4,
 "nbformat_minor": 2
}
