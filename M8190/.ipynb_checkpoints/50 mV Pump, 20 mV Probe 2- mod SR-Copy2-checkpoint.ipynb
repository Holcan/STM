{
 "cells": [
  {
   "cell_type": "markdown",
   "metadata": {},
   "source": [
    "# 50 mV Pump, 20 mV Probe"
   ]
  },
  {
   "cell_type": "code",
   "execution_count": 10,
   "metadata": {},
   "outputs": [],
   "source": [
    "import numpy as np\n",
    "from numpy import loadtxt\n",
    "import pandas as pd\n",
    "import time\n",
    "import matplotlib\n",
    "import matplotlib.pyplot as plt\n",
    "import pyvisa as visa\n",
    "from matplotlib import animation\n",
    "from time import sleep\n",
    "from matplotlib.animation import FuncAnimation\n",
    "#Importing the functions from the module and the pulses dictionaries\n",
    "from Sweeping import *\n",
    "from Dictionaries import *\n",
    "from PulseFiles import *\n",
    "from Instrument import *\n",
    "import pyqtgraph as pg \n",
    "import nidaqmx\n",
    "import pickle"
   ]
  },
  {
   "cell_type": "markdown",
   "metadata": {},
   "source": [
    "# 1 mili"
   ]
  },
  {
   "cell_type": "code",
   "execution_count": 96,
   "metadata": {},
   "outputs": [
    {
     "data": {
      "text/plain": [
       "93.45794392523365"
      ]
     },
     "execution_count": 96,
     "metadata": {},
     "output_type": "execute_result"
    }
   ],
   "source": [
    "1/(5.35e-3*2)"
   ]
  },
  {
   "cell_type": "code",
   "execution_count": 97,
   "metadata": {},
   "outputs": [
    {
     "data": {
      "text/plain": [
       "0.00535"
      ]
     },
     "execution_count": 97,
     "metadata": {},
     "output_type": "execute_result"
    }
   ],
   "source": [
    "5.35e-3"
   ]
  },
  {
   "cell_type": "code",
   "execution_count": 98,
   "metadata": {},
   "outputs": [
    {
     "data": {
      "text/plain": [
       "0.005376344086021506"
      ]
     },
     "execution_count": 98,
     "metadata": {},
     "output_type": "execute_result"
    }
   ],
   "source": [
    "modulation = 93 #Hz \n",
    "comp_time = 1/modulation\n",
    "cycle_time = comp_time/2\n",
    "cycle_time"
   ]
  },
  {
   "cell_type": "code",
   "execution_count": 99,
   "metadata": {},
   "outputs": [
    {
     "data": {
      "text/plain": [
       "676775"
      ]
     },
     "execution_count": 99,
     "metadata": {},
     "output_type": "execute_result"
    }
   ],
   "source": [
    "sam_mili = int(126500000*5.35e-3)\n",
    "sam_mili"
   ]
  },
  {
   "cell_type": "code",
   "execution_count": 100,
   "metadata": {},
   "outputs": [
    {
     "data": {
      "text/plain": [
       "(array([751000], dtype=int64),)"
      ]
     },
     "execution_count": 100,
     "metadata": {},
     "output_type": "execute_result"
    }
   ],
   "source": [
    "sol = Gran_find(125009000,126000000,5.35e-3)\n",
    "np.where(sol != 0)"
   ]
  },
  {
   "cell_type": "code",
   "execution_count": 101,
   "metadata": {},
   "outputs": [],
   "source": [
    "samp_freq = int(sol[751000])"
   ]
  },
  {
   "cell_type": "code",
   "execution_count": 102,
   "metadata": {},
   "outputs": [
    {
     "data": {
      "text/plain": [
       "14017.0"
      ]
     },
     "execution_count": 102,
     "metadata": {},
     "output_type": "execute_result"
    }
   ],
   "source": [
    "(samp_freq * 5.35e-3)/ 48"
   ]
  },
  {
   "cell_type": "code",
   "execution_count": 103,
   "metadata": {},
   "outputs": [],
   "source": [
    "sam = int(samp_freq * 5.35e-3) "
   ]
  },
  {
   "cell_type": "code",
   "execution_count": null,
   "metadata": {},
   "outputs": [],
   "source": []
  },
  {
   "cell_type": "code",
   "execution_count": null,
   "metadata": {},
   "outputs": [],
   "source": []
  },
  {
   "cell_type": "code",
   "execution_count": 3,
   "metadata": {},
   "outputs": [],
   "source": [
    "Sr = 1000002240\n",
    "sam = 5555568\n",
    "\n",
    "tim = sam/Sr"
   ]
  },
  {
   "cell_type": "code",
   "execution_count": 4,
   "metadata": {},
   "outputs": [
    {
     "data": {
      "text/plain": [
       "0.005555555555555556"
      ]
     },
     "execution_count": 4,
     "metadata": {},
     "output_type": "execute_result"
    }
   ],
   "source": [
    "tim"
   ]
  },
  {
   "cell_type": "code",
   "execution_count": 11,
   "metadata": {},
   "outputs": [],
   "source": [
    "interval = tim*1e3 #mili"
   ]
  },
  {
   "cell_type": "code",
   "execution_count": 12,
   "metadata": {},
   "outputs": [
    {
     "data": {
      "text/plain": [
       "5.555555555555555"
      ]
     },
     "execution_count": 12,
     "metadata": {},
     "output_type": "execute_result"
    }
   ],
   "source": [
    "interval"
   ]
  },
  {
   "cell_type": "code",
   "execution_count": 104,
   "metadata": {},
   "outputs": [
    {
     "data": {
      "text/plain": [
       "125760000"
      ]
     },
     "execution_count": 104,
     "metadata": {},
     "output_type": "execute_result"
    }
   ],
   "source": [
    "samp_freq"
   ]
  },
  {
   "cell_type": "code",
   "execution_count": 105,
   "metadata": {},
   "outputs": [
    {
     "data": {
      "text/plain": [
       "125760000"
      ]
     },
     "execution_count": 105,
     "metadata": {},
     "output_type": "execute_result"
    }
   ],
   "source": [
    "125760000"
   ]
  },
  {
   "cell_type": "code",
   "execution_count": 106,
   "metadata": {},
   "outputs": [
    {
     "data": {
      "text/plain": [
       "672816"
      ]
     },
     "execution_count": 106,
     "metadata": {},
     "output_type": "execute_result"
    }
   ],
   "source": [
    "sam"
   ]
  },
  {
   "cell_type": "code",
   "execution_count": 2,
   "metadata": {},
   "outputs": [],
   "source": [
    "sam = 5555568"
   ]
  },
  {
   "cell_type": "markdown",
   "metadata": {},
   "source": [
    "# 3 times separation"
   ]
  },
  {
   "cell_type": "code",
   "execution_count": 2,
   "metadata": {},
   "outputs": [
    {
     "data": {
      "text/plain": [
       "45.45454545454546"
      ]
     },
     "execution_count": 2,
     "metadata": {},
     "output_type": "execute_result"
    }
   ],
   "source": [
    "cycle_time = 11e-3\n",
    "comp_time = cycle_time * 2\n",
    "mod = 1/comp_time\n",
    "mod"
   ]
  },
  {
   "cell_type": "code",
   "execution_count": 3,
   "metadata": {},
   "outputs": [
    {
     "data": {
      "text/plain": [
       "11000024"
      ]
     },
     "execution_count": 3,
     "metadata": {},
     "output_type": "execute_result"
    }
   ],
   "source": [
    "samples = int(1000002240 * cycle_time)\n",
    "samples"
   ]
  },
  {
   "cell_type": "code",
   "execution_count": 13,
   "metadata": {},
   "outputs": [
    {
     "data": {
      "text/plain": [
       "229167.16666666666"
      ]
     },
     "execution_count": 13,
     "metadata": {},
     "output_type": "execute_result"
    }
   ],
   "source": [
    "samples/48"
   ]
  },
  {
   "cell_type": "code",
   "execution_count": 4,
   "metadata": {},
   "outputs": [
    {
     "data": {
      "text/plain": [
       "11000064"
      ]
     },
     "execution_count": 4,
     "metadata": {},
     "output_type": "execute_result"
    }
   ],
   "source": [
    "sam = Granularity(samples)\n",
    "sam"
   ]
  },
  {
   "cell_type": "code",
   "execution_count": 5,
   "metadata": {},
   "outputs": [
    {
     "data": {
      "text/plain": [
       "11.0"
      ]
     },
     "execution_count": 5,
     "metadata": {},
     "output_type": "execute_result"
    }
   ],
   "source": [
    "interval = cycle_time*1e3\n",
    "interval"
   ]
  },
  {
   "cell_type": "code",
   "execution_count": null,
   "metadata": {},
   "outputs": [],
   "source": []
  },
  {
   "cell_type": "markdown",
   "metadata": {},
   "source": [
    "## T Data"
   ]
  },
  {
   "cell_type": "code",
   "execution_count": 3,
   "metadata": {},
   "outputs": [],
   "source": [
    "Sr = 1000002240\n",
    "sam = 5555568\n",
    "\n",
    "tim = sam/Sr"
   ]
  },
  {
   "cell_type": "code",
   "execution_count": 4,
   "metadata": {},
   "outputs": [
    {
     "data": {
      "text/plain": [
       "0.005555555555555556"
      ]
     },
     "execution_count": 4,
     "metadata": {},
     "output_type": "execute_result"
    }
   ],
   "source": [
    "tim"
   ]
  },
  {
   "cell_type": "code",
   "execution_count": 11,
   "metadata": {},
   "outputs": [],
   "source": [
    "interval = tim*1e3 #mili"
   ]
  },
  {
   "cell_type": "code",
   "execution_count": 12,
   "metadata": {
    "scrolled": true
   },
   "outputs": [
    {
     "data": {
      "text/plain": [
       "5.555555555555555"
      ]
     },
     "execution_count": 12,
     "metadata": {},
     "output_type": "execute_result"
    }
   ],
   "source": [
    "interval"
   ]
  },
  {
   "cell_type": "code",
   "execution_count": null,
   "metadata": {},
   "outputs": [],
   "source": []
  },
  {
   "cell_type": "code",
   "execution_count": null,
   "metadata": {},
   "outputs": [],
   "source": []
  },
  {
   "cell_type": "code",
   "execution_count": 6,
   "metadata": {},
   "outputs": [
    {
     "ename": "SyntaxError",
     "evalue": "invalid syntax (<ipython-input-6-5f289d32e336>, line 10)",
     "output_type": "error",
     "traceback": [
      "\u001b[1;36m  File \u001b[1;32m\"<ipython-input-6-5f289d32e336>\"\u001b[1;36m, line \u001b[1;32m10\u001b[0m\n\u001b[1;33m    'Minimum Sampling Frequency': 125000000,\u001b[0m\n\u001b[1;37m                                ^\u001b[0m\n\u001b[1;31mSyntaxError\u001b[0m\u001b[1;31m:\u001b[0m invalid syntax\n"
     ]
    }
   ],
   "source": [
    "AWG_Settings_1mili= {\n",
    "    'Visa Resource Name': 'TCPIP0::ibn3-036.ibn-net.kfa-juelich.de::hislip0::INSTR',\n",
    "    'Voltage Amplitude':700,\n",
    "    'Clock Sample Frecuency':1000002240,\n",
    "    'Output_Channel': 1,\n",
    "    'Mode': 'STS',\n",
    "    'Trigger In Threshold' : 1,\n",
    "    'Output Rout': 'DC', #DAC output rout only has the BNC outputs: Direct Out and (Averaged) Direct Out # DC\n",
    "    'Data Directory': r'D:\\Alejandro\\Pulses\\diode measurements\\Prepared Pulse Schemes CSV\\50,20\\1mili'\n",
    "    'Minimum Sampling Frequency': 125000000,\n",
    "    'Maximum Sampling Frequency': 8000000000,\n",
    "    'Granularity': 48\n",
    "}"
   ]
  },
  {
   "cell_type": "code",
   "execution_count": 7,
   "metadata": {},
   "outputs": [],
   "source": [
    "AWG_Settings_1mili= {\n",
    "    'Visa Resource Name': 'TCPIP0::ibn3-036.ibn-net.kfa-juelich.de::hislip0::INSTR',\n",
    "    'Voltage Amplitude':700,\n",
    "    'Clock Sample Frecuency':1000002240,\n",
    "    'Output_Channel': 1,\n",
    "    'Mode': 'STS',\n",
    "    'Trigger In Threshold' : 1,\n",
    "    'Output Rout': 'DC', #DAC output rout only has the BNC outputs: Direct Out and (Averaged) Direct Out # DC\n",
    "    'Data Directory': r'D:\\Alejandro\\Pulses\\diode measurements\\Prepared Pulse Schemes CSV\\50,20\\1mili'\n",
    "}"
   ]
  },
  {
   "cell_type": "code",
   "execution_count": 9,
   "metadata": {},
   "outputs": [
    {
     "data": {
      "text/plain": [
       "21"
      ]
     },
     "execution_count": 9,
     "metadata": {},
     "output_type": "execute_result"
    }
   ],
   "source": [
    "M8190A.write('FREQ:RAST 1000002240')"
   ]
  },
  {
   "cell_type": "code",
   "execution_count": 8,
   "metadata": {},
   "outputs": [],
   "source": [
    "M8190A = VisaR(AWG_Settings_1mili,60000)"
   ]
  },
  {
   "cell_type": "code",
   "execution_count": 23,
   "metadata": {},
   "outputs": [
    {
     "name": "stdout",
     "output_type": "stream",
     "text": [
      "Instruments Sampling Frecuency set to 1.00000224000000E+09Hz\n",
      "Instruments Direct Out DC Output route Voltage set to 6.75000000000000E-01Volts\n",
      "AWG_Settings_Dict set to TRIGGERED Mode\n",
      "Trigger In threshold value set to 1.00000000000000E+00V\n"
     ]
    }
   ],
   "source": [
    "Initialization(M8190A,AWG_Settings_1mili)"
   ]
  },
  {
   "cell_type": "code",
   "execution_count": 10,
   "metadata": {},
   "outputs": [],
   "source": [
    "Pump_1mili = {\n",
    "    'Name':'Pump_1mili',\n",
    "    'Amplitude': 50,\n",
    "    'Start time':5,\n",
    "    'End time':2e-10,\n",
    "    'Start Duration':1,\n",
    "    'End Duration':60,\n",
    "    'Sweep time':0,\n",
    "    'Sweep Duration':0\n",
    "}"
   ]
  },
  {
   "cell_type": "code",
   "execution_count": 11,
   "metadata": {},
   "outputs": [],
   "source": [
    "ProbeA_1mili = {\n",
    "    'Name':'ProbeA_1mili',\n",
    "    'Amplitude':20,\n",
    "    'Start time':1,\n",
    "    'End time':9,\n",
    "    'Start Duration':1,\n",
    "    'End Duration':60,\n",
    "    'Sweep time':1,\n",
    "    'Sweep Duration':0\n",
    "}"
   ]
  },
  {
   "cell_type": "code",
   "execution_count": 12,
   "metadata": {},
   "outputs": [],
   "source": [
    "ProbeB_1mili = {\n",
    "    'Name':'ProbeB_1mili',\n",
    "    'Amplitude':0,\n",
    "    'Start time':0,\n",
    "    'End time':12,\n",
    "    'Start Duration':1,\n",
    "    'End Duration':6,\n",
    "    'Sweep time':0,\n",
    "    'Sweep Duration':0\n",
    "}"
   ]
  },
  {
   "cell_type": "code",
   "execution_count": 13,
   "metadata": {},
   "outputs": [],
   "source": [
    "PulseScheme_A_1mili =  {\n",
    "    'Name' : 'PulseScheme_A_1mili',\n",
    "    'Pulse Scheme': [Pump_1mili,ProbeA_1mili],\n",
    "    'Number of repetitions': 1,\n",
    "    'Measurement file Path': r'D:\\Alejandro\\Pulses\\diode measurements\\Autocorrelation measurements\\50,20\\1mili'\n",
    "}"
   ]
  },
  {
   "cell_type": "code",
   "execution_count": 14,
   "metadata": {},
   "outputs": [],
   "source": [
    "PulseScheme_B_1mili =  {\n",
    "    'Name' : 'PulseScheme_B_1mili',\n",
    "    'Pulse Scheme': [ProbeB_1mili,ProbeB_1mili],\n",
    "    'Number of repetitions': 1,\n",
    "    'Measurement file Path': r'D:\\Alejandro\\Pulses\\diode measurements\\Autocorrelation measurements\\50,20\\1mili'\n",
    "}"
   ]
  },
  {
   "cell_type": "code",
   "execution_count": 33,
   "metadata": {},
   "outputs": [
    {
     "data": {
      "image/png": "[encoded data removed]",
      "text/plain": [
       "<Figure size 432x288 with 1 Axes>"
      ]
     },
     "metadata": {
      "needs_background": "light"
     },
     "output_type": "display_data"
    }
   ],
   "source": [
    "step = 30\n",
    "pul1 = Sweep_teil(PulseScheme_A_1mili,30,step,interval,sam)\n",
    "\n",
    "\n",
    "#Plot\n",
    "fig,ax= plt.subplots()\n",
    "ax.grid(True)\n",
    "\n",
    "plt.plot(pul1[1],pul1[0],label= '{b} samples'.format(b = sam),color='red')\n",
    "\n",
    "ax.set_ylabel('V  [mV]')\n",
    "ax.set_xlabel(r't [ms]')\n",
    "ax.set_title('Cycle A at step {a}'.format(a = step )) #Voltage Offset = 3mV, Marker Ampl = 50mV \n",
    "#ax.legend(loc=0)\n",
    "#plt.legend(bbox_to_anchor=(2.05, 1), loc='upper left', borderaxespad=0.)\n",
    "plt.show()\n",
    "\n",
    "fig.savefig(r'{loc}\\Cycle A, Probe recalculated 1mili {a} step, 3 times separation.jpeg'.format(a = step,loc = PulseScheme_A_1mili['Measurement file Path']),bbox_inches='tight')"
   ]
  },
  {
   "cell_type": "code",
   "execution_count": 34,
   "metadata": {},
   "outputs": [],
   "source": [
    "sweeping_run_a_1mili = Sweeping_Single_List_File_teil(PulseScheme_A_1mili,30,interval,sam,0,30,AWG_Settings_1mili,'A')[0]"
   ]
  },
  {
   "cell_type": "code",
   "execution_count": 35,
   "metadata": {},
   "outputs": [],
   "source": [
    "sweeping_run_b_1mili = Sweeping_Single_List_File_teil(PulseScheme_B_1mili,30,interval,sam,0,30,AWG_Settings_1mili,'B')[0]"
   ]
  },
  {
   "cell_type": "code",
   "execution_count": 36,
   "metadata": {},
   "outputs": [],
   "source": [
    "#Exporting pickle\n",
    "\n",
    "with open(r\"{dict}\\cycleA_31steps_90Hz_1mili_1000002240GHz.p\".format(dict = PulseScheme_A_1mili['Measurement file Path']), \"wb\") as k:\n",
    "    pickle.dump(sweeping_run_a_1mili, k)\n",
    "\n",
    "\n",
    "with open(r\"{dict}\\cycleB_31steps_90Hz_1mili_1000002240GHz.p\".format(dict = PulseScheme_B_1mili['Measurement file Path']), \"wb\") as h:\n",
    "    pickle.dump(sweeping_run_b_1mili, h)"
   ]
  },
  {
   "cell_type": "code",
   "execution_count": 20,
   "metadata": {},
   "outputs": [],
   "source": [
    "#Importing Pickle\n",
    "\n",
    "with open(r\"{dict}\\cycleA_31steps_90Hz_1mili_1000002240GHz.p\".format(dict = PulseScheme_A_1mili['Measurement file Path']), \"rb\") as j:\n",
    "    sweeping_runa_1mili = pickle.load(j)\n",
    "\n",
    "with open(r\"{dict}\\cycleB_31steps_90Hz_1mili_1000002240GHz.p\".format(dict = PulseScheme_A_1mili['Measurement file Path']), \"rb\") as f:\n",
    "    sweeping_runb_1mili = pickle.load(f)"
   ]
  },
  {
   "cell_type": "code",
   "execution_count": null,
   "metadata": {},
   "outputs": [
    {
     "data": {
      "text/plain": [
       "'D:\\\\Alejandro\\\\Pulses\\\\diode measurements\\\\Prepared Pulse Schemes CSV\\\\50,20\\\\1mili\\\\SegmentA_672816_30.csv'"
      ]
     },
     "execution_count": 23,
     "metadata": {},
     "output_type": "execute_result"
    }
   ],
   "source": [
    "sweeping_run_a_1mili['Pulse File Location, at step 30']"
   ]
  },
  {
   "cell_type": "code",
   "execution_count": null,
   "metadata": {},
   "outputs": [
    {
     "data": {
      "text/plain": [
       "'D:\\\\Alejandro\\\\Pulses\\\\diode measurements\\\\Prepared Pulse Schemes CSV\\\\50,20\\\\1mili\\\\SegmentB_672816_30.csv'"
      ]
     },
     "execution_count": 24,
     "metadata": {},
     "output_type": "execute_result"
    }
   ],
   "source": [
    "sweeping_run_b_1mili['Pulse File Location, at step 30']"
   ]
  },
  {
   "cell_type": "code",
   "execution_count": 22,
   "metadata": {},
   "outputs": [
    {
     "name": "stdout",
     "output_type": "stream",
     "text": [
      "Sequence loaded with the following segment data \"1,1,0,1,0,11000063,2,1,0,1,0,11000063\" and the advancement method is COND\n"
     ]
    },
    {
     "data": {
      "text/plain": [
       "2"
      ]
     },
     "execution_count": 22,
     "metadata": {},
     "output_type": "execute_result"
    }
   ],
   "source": [
    "Sequence_File(M8190A,sweeping_runa_1mili['Pulse File Location, at step 0'],sweeping_runb_1mili['Pulse File Location, at step 0'],1)"
   ]
  },
  {
   "cell_type": "code",
   "execution_count": 23,
   "metadata": {
    "scrolled": false
   },
   "outputs": [
    {
     "data": {
      "text/plain": [
       "12"
      ]
     },
     "execution_count": 23,
     "metadata": {},
     "output_type": "execute_result"
    }
   ],
   "source": [
    "M8190A.write('SEQ:DEL:ALL')"
   ]
  },
  {
   "cell_type": "code",
   "execution_count": 37,
   "metadata": {},
   "outputs": [
    {
     "name": "stdout",
     "output_type": "stream",
     "text": [
      "Dummy File Loaded and playing\n",
      "Dummy File stopped and erased from AWGs memmory\n"
     ]
    }
   ],
   "source": [
    "Dummy_File(M8190A)"
   ]
  },
  {
   "cell_type": "code",
   "execution_count": 24,
   "metadata": {},
   "outputs": [],
   "source": [
    "Lock_In_Settings = {\n",
    "'Time Constant' : '300ms',\n",
    "'Sensitivity' : '500 microVolts',\n",
    "'Reserve' : 'Normal',\n",
    "'db' : 24,\n",
    "'Modulation': '45Hz'\n",
    "}"
   ]
  },
  {
   "cell_type": "code",
   "execution_count": 25,
   "metadata": {},
   "outputs": [
    {
     "name": "stdout",
     "output_type": "stream",
     "text": [
      "Sequence loaded with the following segment data \"1,1,0,1,0,11000063,2,1,0,1,0,11000063\" and the advancement method is COND\n",
      "Average Value for measurement at step 0 is 1.5992983535622711 V\n",
      "Sequence loaded with the following segment data \"1,1,0,1,0,11000063,2,1,0,1,0,11000063\" and the advancement method is COND\n",
      "Average Value for measurement at step 1 is 1.6024841946361357 V\n",
      "Sequence loaded with the following segment data \"1,1,0,1,0,11000063,2,1,0,1,0,11000063\" and the advancement method is COND\n",
      "Average Value for measurement at step 2 is 1.6319065600870188 V\n",
      "Sequence loaded with the following segment data \"1,1,0,1,0,11000063,2,1,0,1,0,11000063\" and the advancement method is COND\n",
      "Average Value for measurement at step 3 is 1.672388343622686 V\n",
      "Sequence loaded with the following segment data \"1,1,0,1,0,11000063,2,1,0,1,0,11000063\" and the advancement method is COND\n",
      "Average Value for measurement at step 4 is 1.6723632549269591 V\n",
      "Sequence loaded with the following segment data \"1,1,0,1,0,11000063,2,1,0,1,0,11000063\" and the advancement method is COND\n",
      "Average Value for measurement at step 5 is 1.7109601475236622 V\n",
      "Sequence loaded with the following segment data \"1,1,0,1,0,11000063,2,1,0,1,0,11000063\" and the advancement method is COND\n",
      "Average Value for measurement at step 6 is 1.7419337900610992 V\n",
      "Sequence loaded with the following segment data \"1,1,0,1,0,11000063,2,1,0,1,0,11000063\" and the advancement method is COND\n",
      "Average Value for measurement at step 7 is 1.74194074348334 V\n",
      "Sequence loaded with the following segment data \"1,1,0,1,0,11000063,2,1,0,1,0,11000063\" and the advancement method is COND\n",
      "Average Value for measurement at step 8 is 1.7419613218545498 V\n",
      "Sequence loaded with the following segment data \"1,1,0,1,0,11000063,2,1,0,1,0,11000063\" and the advancement method is COND\n",
      "Average Value for measurement at step 9 is 1.7787341678108584 V\n",
      "Sequence loaded with the following segment data \"1,1,0,1,0,11000063,2,1,0,1,0,11000063\" and the advancement method is COND\n",
      "Average Value for measurement at step 10 is 1.7942599394899656 V\n",
      "Sequence loaded with the following segment data \"1,1,0,1,0,11000063,2,1,0,1,0,11000063\" and the advancement method is COND\n",
      "Average Value for measurement at step 11 is 1.8104059288038887 V\n",
      "Sequence loaded with the following segment data \"1,1,0,1,0,11000063,2,1,0,1,0,11000063\" and the advancement method is COND\n",
      "Average Value for measurement at step 12 is 2.021348778661717 V\n",
      "Sequence loaded with the following segment data \"1,1,0,1,0,11000063,2,1,0,1,0,11000063\" and the advancement method is COND\n",
      "Average Value for measurement at step 13 is 2.3006809615757255 V\n",
      "Sequence loaded with the following segment data \"1,1,0,1,0,11000063,2,1,0,1,0,11000063\" and the advancement method is COND\n",
      "Average Value for measurement at step 14 is 2.580241375392777 V\n",
      "Sequence loaded with the following segment data \"1,1,0,1,0,11000063,2,1,0,1,0,11000063\" and the advancement method is COND\n",
      "Average Value for measurement at step 15 is 2.895710247931103 V\n",
      "Sequence loaded with the following segment data \"1,1,0,1,0,11000063,2,1,0,1,0,11000063\" and the advancement method is COND\n",
      "Average Value for measurement at step 16 is 2.5802107426925 V\n",
      "Sequence loaded with the following segment data \"1,1,0,1,0,11000063,2,1,0,1,0,11000063\" and the advancement method is COND\n",
      "Average Value for measurement at step 17 is 2.3006132126112044 V\n",
      "Sequence loaded with the following segment data \"1,1,0,1,0,11000063,2,1,0,1,0,11000063\" and the advancement method is COND\n",
      "Average Value for measurement at step 18 is 2.021334777844067 V\n",
      "Sequence loaded with the following segment data \"1,1,0,1,0,11000063,2,1,0,1,0,11000063\" and the advancement method is COND\n",
      "Average Value for measurement at step 19 is 1.7941303615312507 V\n",
      "Sequence loaded with the following segment data \"1,1,0,1,0,11000063,2,1,0,1,0,11000063\" and the advancement method is COND\n",
      "Average Value for measurement at step 20 is 1.7752737594111365 V\n",
      "Sequence loaded with the following segment data \"1,1,0,1,0,11000063,2,1,0,1,0,11000063\" and the advancement method is COND\n",
      "Average Value for measurement at step 21 is 1.741991954498458 V\n",
      "Sequence loaded with the following segment data \"1,1,0,1,0,11000063,2,1,0,1,0,11000063\" and the advancement method is COND\n",
      "Average Value for measurement at step 22 is 1.7419849071110451 V\n",
      "Sequence loaded with the following segment data \"1,1,0,1,0,11000063,2,1,0,1,0,11000063\" and the advancement method is COND\n",
      "Average Value for measurement at step 23 is 1.7419776248107364 V\n",
      "Sequence loaded with the following segment data \"1,1,0,1,0,11000063,2,1,0,1,0,11000063\" and the advancement method is COND\n",
      "Average Value for measurement at step 24 is 1.7419895583867298 V\n",
      "Sequence loaded with the following segment data \"1,1,0,1,0,11000063,2,1,0,1,0,11000063\" and the advancement method is COND\n",
      "Average Value for measurement at step 25 is 1.7043497925568891 V\n",
      "Sequence loaded with the following segment data \"1,1,0,1,0,11000063,2,1,0,1,0,11000063\" and the advancement method is COND\n",
      "Average Value for measurement at step 26 is 1.672455011898436 V\n",
      "Sequence loaded with the following segment data \"1,1,0,1,0,11000063,2,1,0,1,0,11000063\" and the advancement method is COND\n",
      "Average Value for measurement at step 27 is 1.6724870540154568 V\n",
      "Sequence loaded with the following segment data \"1,1,0,1,0,11000063,2,1,0,1,0,11000063\" and the advancement method is COND\n",
      "Average Value for measurement at step 28 is 1.664821940729234 V\n",
      "Sequence loaded with the following segment data \"1,1,0,1,0,11000063,2,1,0,1,0,11000063\" and the advancement method is COND\n",
      "Average Value for measurement at step 29 is 1.602617014361466 V\n",
      "Sequence loaded with the following segment data \"1,1,0,1,0,11000063,2,1,0,1,0,11000063\" and the advancement method is COND\n",
      "Average Value for measurement at step 30 is 1.6026114704181975 V\n"
     ]
    }
   ],
   "source": [
    "playingtime = 10\n",
    "\n",
    "Diode_Signal, averaged_data = Voltage_Autocorrelation_loop(M8190A,DAQ_Settings1,playingtime,sweeping_runa_1mili,sweeping_runb_1mili,PulseScheme_A_1mili['Measurement file Path'],Lock_In_Settings,1)"
   ]
  },
  {
   "cell_type": "code",
   "execution_count": 26,
   "metadata": {},
   "outputs": [
    {
     "data": {
      "image/png": "[encoded data removed]",
      "text/plain": [
       "<Figure size 432x288 with 1 Axes>"
      ]
     },
     "metadata": {
      "needs_background": "light"
     },
     "output_type": "display_data"
    }
   ],
   "source": [
    "fig,ax= plt.subplots()\n",
    "ax.grid(True)\n",
    "for i in range(0,len(Diode_Signal)):\n",
    "    plt.plot(Diode_Signal[i][1],Diode_Signal[i][0],label= 'Step {st}'.format(st = i ))\n",
    "\n",
    "ax.set_ylabel(r'V  [V]')\n",
    "ax.set_xlabel('t  [s]')\n",
    "ax.set_title(r' Diode Signal at Different Steps,  {b} Samples, 1ms probe duration'.format(b = len(Diode_Signal[0][1]) ))\n",
    "#ax.legend(bbox_to_anchor=(1.05, 1), loc='upper left', borderaxespad=0.)\n",
    "#ax.legend(loc=0)\n",
    "plt.show()\n",
    "\n",
    "fig.savefig(r'{loc}\\Diode Signal time cstant = {a}, sensitivity {b},{c} daqseconds, 5 35ms scheme, probe duration 1 mili,31 steps, no legend, .jpeg'.format(loc = PulseScheme_A_1mili['Measurement file Path'],a = Lock_In_Settings['Time Constant'], b = Lock_In_Settings['Sensitivity'], c = playingtime),bbox_inches='tight')"
   ]
  },
  {
   "cell_type": "code",
   "execution_count": 27,
   "metadata": {},
   "outputs": [],
   "source": [
    "time_delay = np.linspace(-4,4,31)"
   ]
  },
  {
   "cell_type": "code",
   "execution_count": 28,
   "metadata": {},
   "outputs": [
    {
     "data": {
      "image/png": "[encoded data removed]",
      "text/plain": [
       "<Figure size 432x288 with 1 Axes>"
      ]
     },
     "metadata": {
      "needs_background": "light"
     },
     "output_type": "display_data"
    }
   ],
   "source": [
    "#change this to V regime\n",
    "fig,axes = plt.subplots()\n",
    "\n",
    "axes.grid(True)\n",
    "\n",
    "plt.plot(time_delay,averaged_data,label=r'1ms Probe Width ',color='blue')\n",
    "#plt.plot(tm,pul,label = '{a} samples'.format(a = len(pul)))\n",
    "\n",
    "axes.set_xlabel(r'time delay [ms]')\n",
    "axes.set_ylabel(r'Diode Signal [V]')\n",
    "axes.set_title('Auto-Correlation 31 steps ')\n",
    "\n",
    "axes.legend(loc = 0)\n",
    "plt.show()\n",
    "\n",
    "fig.savefig(r'{loc}\\Autocorrelation function 31 steps probes 45Hz, 3 sep length tc = {a}, sens {b}, {c}s DAQ .jpeg'.format(loc = PulseScheme_A_1mili['Measurement file Path'],a = Lock_In_Settings['Time Constant'], b = Lock_In_Settings['Sensitivity'], c = playingtime ))"
   ]
  },
  {
   "cell_type": "markdown",
   "metadata": {},
   "source": [
    "# 100micro"
   ]
  },
  {
   "cell_type": "code",
   "execution_count": 4,
   "metadata": {},
   "outputs": [
    {
     "data": {
      "text/plain": [
       "0.005"
      ]
     },
     "execution_count": 4,
     "metadata": {},
     "output_type": "execute_result"
    }
   ],
   "source": [
    "modulation = 100 #Hz \n",
    "comp_time = 1/modulation\n",
    "cycle_time = comp_time/2\n",
    "cycle_time #seconds"
   ]
  },
  {
   "cell_type": "code",
   "execution_count": null,
   "metadata": {},
   "outputs": [],
   "source": [
    "3072000000"
   ]
  },
  {
   "cell_type": "code",
   "execution_count": null,
   "metadata": {},
   "outputs": [
    {
     "data": {
      "image/png": "[encoded data removed]",
      "text/plain": [
       "<Figure size 432x288 with 1 Axes>"
      ]
     },
     "metadata": {},
     "output_type": "display_data"
    }
   ],
   "source": [
    "step = 30\n",
    "pul1 = Sweep_teil(PulseScheme_A_100micro,30,step,5.35,sam)\n",
    "\n",
    "\n",
    "#Plot\n",
    "fig,ax= plt.subplots()\n",
    "ax.grid(True)\n",
    "\n",
    "plt.plot(pul1[1],pul1[0],label= '{b} samples'.format(b = sam),color='orange')\n",
    "\n",
    "ax.set_ylabel('V  [mV]')\n",
    "ax.set_xlabel(r't [ms]')\n",
    "ax.set_title('Cycle A at step {a}'.format(a = step )) #Voltage Offset = 3mV, Marker Ampl = 50mV \n",
    "#ax.legend(loc=0)\n",
    "#plt.legend(bbox_to_anchor=(2.05, 1), loc='upper left', borderaxespad=0.)\n",
    "plt.show()\n",
    "\n",
    "#fig.savefig(r'{loc}\\Cycle A, Probe width 1mili.jpeg'.format(loc = PulseScheme_A_1mili['Measurement file Path']),bbox_inches='tight')"
   ]
  },
  {
   "cell_type": "markdown",
   "metadata": {},
   "source": [
    "# Here"
   ]
  },
  {
   "cell_type": "code",
   "execution_count": null,
   "metadata": {},
   "outputs": [],
   "source": [
    "125760000"
   ]
  },
  {
   "cell_type": "code",
   "execution_count": null,
   "metadata": {},
   "outputs": [
    {
     "data": {
      "text/plain": [
       "672816"
      ]
     },
     "metadata": {},
     "output_type": "display_data"
    }
   ],
   "source": [
    "sam"
   ]
  },
  {
   "cell_type": "code",
   "execution_count": 3,
   "metadata": {},
   "outputs": [
    {
     "data": {
      "text/plain": [
       "0.005555555555555556"
      ]
     },
     "execution_count": 3,
     "metadata": {},
     "output_type": "execute_result"
    }
   ],
   "source": [
    "modulation = 90 #Hz \n",
    "comp_time = 1/modulation\n",
    "cycle_time = comp_time/2\n",
    "cycle_time #seconds"
   ]
  },
  {
   "cell_type": "markdown",
   "metadata": {},
   "source": [
    "divide cycle time in N parts"
   ]
  },
  {
   "cell_type": "code",
   "execution_count": 10,
   "metadata": {},
   "outputs": [],
   "source": [
    "interval = (cycle_time *1e6) /10"
   ]
  },
  {
   "cell_type": "code",
   "execution_count": 30,
   "metadata": {},
   "outputs": [
    {
     "data": {
      "text/plain": [
       "5555.555555555556"
      ]
     },
     "execution_count": 30,
     "metadata": {},
     "output_type": "execute_result"
    }
   ],
   "source": [
    "cycle_time *1e6"
   ]
  },
  {
   "cell_type": "code",
   "execution_count": 31,
   "metadata": {},
   "outputs": [
    {
     "data": {
      "text/plain": [
       "555.5555555555555"
      ]
     },
     "execution_count": 31,
     "metadata": {},
     "output_type": "execute_result"
    }
   ],
   "source": [
    "interval"
   ]
  },
  {
   "cell_type": "code",
   "execution_count": 36,
   "metadata": {},
   "outputs": [
    {
     "data": {
      "text/plain": [
       "5555.555555555556"
      ]
     },
     "execution_count": 36,
     "metadata": {},
     "output_type": "execute_result"
    }
   ],
   "source": [
    "interval*10"
   ]
  },
  {
   "cell_type": "code",
   "execution_count": 12,
   "metadata": {},
   "outputs": [],
   "source": [
    "samples = int(3072000010 * (interval *1e-6))"
   ]
  },
  {
   "cell_type": "code",
   "execution_count": 13,
   "metadata": {},
   "outputs": [
    {
     "data": {
      "text/plain": [
       "1706666"
      ]
     },
     "execution_count": 13,
     "metadata": {},
     "output_type": "execute_result"
    }
   ],
   "source": [
    "samples"
   ]
  },
  {
   "cell_type": "code",
   "execution_count": 10,
   "metadata": {},
   "outputs": [],
   "source": [
    "def Granularity(samples):\n",
    "    \"\"\" This function takes the number of samples and converts it to the closest number that satisfies the granularity\n",
    "        of 48  \n",
    "    \"\"\"\n",
    "    \n",
    "    x = int((samples /48)+1)* 48\n",
    "    \n",
    "    return x"
   ]
  },
  {
   "cell_type": "code",
   "execution_count": 18,
   "metadata": {},
   "outputs": [],
   "source": [
    "sam = Granularity(samples)"
   ]
  },
  {
   "cell_type": "code",
   "execution_count": 19,
   "metadata": {},
   "outputs": [
    {
     "data": {
      "text/plain": [
       "1706688"
      ]
     },
     "execution_count": 19,
     "metadata": {},
     "output_type": "execute_result"
    }
   ],
   "source": [
    "sam"
   ]
  },
  {
   "cell_type": "code",
   "execution_count": null,
   "metadata": {},
   "outputs": [],
   "source": []
  },
  {
   "cell_type": "code",
   "execution_count": null,
   "metadata": {},
   "outputs": [],
   "source": []
  },
  {
   "cell_type": "code",
   "execution_count": null,
   "metadata": {},
   "outputs": [],
   "source": []
  },
  {
   "cell_type": "code",
   "execution_count": 67,
   "metadata": {},
   "outputs": [
    {
     "data": {
      "text/plain": [
       "40000.0"
      ]
     },
     "execution_count": 67,
     "metadata": {},
     "output_type": "execute_result"
    }
   ],
   "source": [
    "sam/48"
   ]
  },
  {
   "cell_type": "code",
   "execution_count": 15,
   "metadata": {},
   "outputs": [
    {
     "data": {
      "text/plain": [
       "1706688"
      ]
     },
     "execution_count": 15,
     "metadata": {},
     "output_type": "execute_result"
    }
   ],
   "source": [
    "Granularity(samples)"
   ]
  },
  {
   "cell_type": "code",
   "execution_count": 2,
   "metadata": {},
   "outputs": [],
   "source": [
    "Sr = 3003004800\n",
    "sam = 1668336\n",
    "\n",
    "tim = sam/Sr"
   ]
  },
  {
   "cell_type": "code",
   "execution_count": 4,
   "metadata": {},
   "outputs": [
    {
     "data": {
      "text/plain": [
       "0.005555555555555556"
      ]
     },
     "execution_count": 4,
     "metadata": {},
     "output_type": "execute_result"
    }
   ],
   "source": [
    "tim"
   ]
  },
  {
   "cell_type": "code",
   "execution_count": 3,
   "metadata": {},
   "outputs": [],
   "source": [
    "interval = tim*1e6 #micro"
   ]
  },
  {
   "cell_type": "code",
   "execution_count": 4,
   "metadata": {},
   "outputs": [
    {
     "data": {
      "text/plain": [
       "555.5555555555555"
      ]
     },
     "execution_count": 4,
     "metadata": {},
     "output_type": "execute_result"
    }
   ],
   "source": [
    "interval"
   ]
  },
  {
   "cell_type": "markdown",
   "metadata": {},
   "source": [
    "# 3 sappart 45 mod"
   ]
  },
  {
   "cell_type": "code",
   "execution_count": 7,
   "metadata": {},
   "outputs": [
    {
     "data": {
      "text/plain": [
       "1.375e-06"
      ]
     },
     "execution_count": 7,
     "metadata": {},
     "output_type": "execute_result"
    }
   ],
   "source": [
    "full_cycle = 11e-3\n",
    "loop_number = 10\n",
    "part_cycle = full_cycle / loop_number\n",
    "part_cycle"
   ]
  },
  {
   "cell_type": "code",
   "execution_count": 12,
   "metadata": {},
   "outputs": [
    {
     "data": {
      "text/plain": [
       "1375.0"
      ]
     },
     "execution_count": 12,
     "metadata": {},
     "output_type": "execute_result"
    }
   ],
   "source": [
    "interval = part_cycle * 1e6 #micro\n",
    "interval"
   ]
  },
  {
   "cell_type": "code",
   "execution_count": 2,
   "metadata": {},
   "outputs": [
    {
     "data": {
      "text/plain": [
       "45.45454545454546"
      ]
     },
     "execution_count": 2,
     "metadata": {},
     "output_type": "execute_result"
    }
   ],
   "source": [
    "mod = 1/part_cycle\n",
    "mod"
   ]
  },
  {
   "cell_type": "code",
   "execution_count": 9,
   "metadata": {},
   "outputs": [
    {
     "data": {
      "text/plain": [
       "4086"
      ]
     },
     "execution_count": 9,
     "metadata": {},
     "output_type": "execute_result"
    }
   ],
   "source": [
    "samples = int(2972160000 * part_cycle)\n",
    "samples"
   ]
  },
  {
   "cell_type": "code",
   "execution_count": 10,
   "metadata": {},
   "outputs": [
    {
     "data": {
      "text/plain": [
       "85.125"
      ]
     },
     "execution_count": 10,
     "metadata": {},
     "output_type": "execute_result"
    }
   ],
   "source": [
    "samples/48"
   ]
  },
  {
   "cell_type": "code",
   "execution_count": null,
   "metadata": {},
   "outputs": [],
   "source": []
  },
  {
   "cell_type": "code",
   "execution_count": 13,
   "metadata": {},
   "outputs": [
    {
     "data": {
      "text/plain": [
       "4128"
      ]
     },
     "execution_count": 13,
     "metadata": {},
     "output_type": "execute_result"
    }
   ],
   "source": [
    "sam = Granularity(samples)\n",
    "sam"
   ]
  },
  {
   "cell_type": "code",
   "execution_count": 5,
   "metadata": {},
   "outputs": [],
   "source": [
    "AWG_Settings_100micro= {\n",
    "    'Visa Resource Name': 'TCPIP0::ibn3-036.ibn-net.kfa-juelich.de::hislip0::INSTR',\n",
    "    'Voltage Amplitude':700,\n",
    "    'Clock Sample Frecuency':3003004800,\n",
    "    'Output_Channel': 1,\n",
    "    'Mode': 'STS',\n",
    "    'Trigger In Threshold' : 1,\n",
    "    'Output Rout': 'DAC', #DAC output rout only has the BNC outputs: Direct Out and (Averaged) Direct Out # DC\n",
    "    'Data Directory': r'D:\\Alejandro\\Pulses\\diode measurements\\Prepared Pulse Schemes CSV\\50,20\\100micro'\n",
    "}"
   ]
  },
  {
   "cell_type": "code",
   "execution_count": 6,
   "metadata": {},
   "outputs": [],
   "source": [
    "M8190A = VisaR(AWG_Settings_100micro,60000)"
   ]
  },
  {
   "cell_type": "code",
   "execution_count": 8,
   "metadata": {},
   "outputs": [
    {
     "data": {
      "text/plain": [
       "21"
      ]
     },
     "execution_count": 8,
     "metadata": {},
     "output_type": "execute_result"
    }
   ],
   "source": [
    "M8190A.write('FREQ:RAST 3003004800')"
   ]
  },
  {
   "cell_type": "code",
   "execution_count": 4,
   "metadata": {},
   "outputs": [
    {
     "name": "stdout",
     "output_type": "stream",
     "text": [
      "Instruments Sampling Frecuency set to 3.07200000000000E+09Hz\n",
      "Instruments Direct Out DAC Output route Voltage set to 7.00000000000000E-01Volts\n",
      "AWG_Settings_Dict set to TRIGGERED Mode\n",
      "Trigger In threshold value set to 1.00000000000000E+00V\n"
     ]
    }
   ],
   "source": [
    "Initialization(M8190A,AWG_Settings_100micro)"
   ]
  },
  {
   "cell_type": "code",
   "execution_count": 9,
   "metadata": {},
   "outputs": [],
   "source": [
    "Pump_100micro = {\n",
    "    'Name':'Pump_100micro',\n",
    "    'Amplitude': 50,\n",
    "    'Start time':200,\n",
    "    'End time':2e-10,\n",
    "    'Start Duration':100,\n",
    "    'End Duration':60,\n",
    "    'Sweep time':0,\n",
    "    'Sweep Duration':0\n",
    "}"
   ]
  },
  {
   "cell_type": "code",
   "execution_count": 10,
   "metadata": {},
   "outputs": [],
   "source": [
    "ProbeA_100micro = {\n",
    "    'Name':'ProbeA_100micro',\n",
    "    'Amplitude':20,\n",
    "    'Start time':0,\n",
    "    'End time':400,\n",
    "    'Start Duration':100,\n",
    "    'End Duration':60,\n",
    "    'Sweep time':1,\n",
    "    'Sweep Duration':0\n",
    "}"
   ]
  },
  {
   "cell_type": "code",
   "execution_count": 11,
   "metadata": {},
   "outputs": [],
   "source": [
    "ProbeB_100micro= {\n",
    "    'Name':'ProbeB_100micro',\n",
    "    'Amplitude':0,\n",
    "    'Start time':0,\n",
    "    'End time':12,\n",
    "    'Start Duration':1,\n",
    "    'End Duration':6,\n",
    "    'Sweep time':0,\n",
    "    'Sweep Duration':0\n",
    "}"
   ]
  },
  {
   "cell_type": "code",
   "execution_count": 12,
   "metadata": {},
   "outputs": [],
   "source": [
    "PulseScheme_A_100micro =  {\n",
    "    'Name' : 'PulseScheme_A_100micro',\n",
    "    'Pulse Scheme': [Pump_100micro,ProbeA_100micro],\n",
    "    'Number of repetitions': 1,\n",
    "    'Measurement file Path': r'D:\\Alejandro\\Pulses\\diode measurements\\Autocorrelation measurements\\50,20\\100micro'\n",
    "}"
   ]
  },
  {
   "cell_type": "code",
   "execution_count": 13,
   "metadata": {},
   "outputs": [],
   "source": [
    "PulseScheme_B_100micro =  {\n",
    "    'Name' : 'PulseScheme_B_100micro',\n",
    "    'Pulse Scheme': [ProbeB_100micro,ProbeB_100micro],\n",
    "    'Number of repetitions': 1,\n",
    "    'Measurement file Path': r'D:\\Alejandro\\Pulses\\diode measurements\\Autocorrelation measurements\\50,20\\100micro'\n",
    "}"
   ]
  },
  {
   "cell_type": "code",
   "execution_count": null,
   "metadata": {},
   "outputs": [],
   "source": []
  },
  {
   "cell_type": "code",
   "execution_count": 20,
   "metadata": {},
   "outputs": [
    {
     "data": {
      "text/plain": [
       "5555.555555555556"
      ]
     },
     "execution_count": 20,
     "metadata": {},
     "output_type": "execute_result"
    }
   ],
   "source": [
    "interval*10"
   ]
  },
  {
   "cell_type": "code",
   "execution_count": 15,
   "metadata": {
    "scrolled": true
   },
   "outputs": [
    {
     "data": {
      "image/png": "[encoded data removed]",
      "text/plain": [
       "<Figure size 432x288 with 1 Axes>"
      ]
     },
     "metadata": {
      "needs_background": "light"
     },
     "output_type": "display_data"
    }
   ],
   "source": [
    "step = 30\n",
    "pul1 = Sweep_teil(PulseScheme_A_100micro,30,step,interval,sam)\n",
    "\n",
    "\n",
    "#Plot\n",
    "fig,ax= plt.subplots()\n",
    "ax.grid(True)\n",
    "\n",
    "plt.plot(pul1[1],pul1[0],label= '{b} samples'.format(b = sam),color='orange')\n",
    "\n",
    "ax.set_ylabel('V  [mV]')\n",
    "ax.set_xlabel(r't [$\\mu$s]')\n",
    "ax.set_title('Cycle A at step {a}'.format(a = step )) #Voltage Offset = 3mV, Marker Ampl = 50mV \n",
    "#ax.legend(loc=0)\n",
    "#plt.legend(bbox_to_anchor=(2.05, 1), loc='upper left', borderaxespad=0.)\n",
    "plt.show()\n",
    "\n",
    "fig.savefig(r'{loc}\\Cycle A, Probe width 100micro  mod 90.jpeg'.format(loc = PulseScheme_A_100micro['Measurement file Path']),bbox_inches='tight')"
   ]
  },
  {
   "cell_type": "code",
   "execution_count": 16,
   "metadata": {},
   "outputs": [
    {
     "data": {
      "text/plain": [
       "1668336"
      ]
     },
     "execution_count": 16,
     "metadata": {},
     "output_type": "execute_result"
    }
   ],
   "source": [
    "sam"
   ]
  },
  {
   "cell_type": "code",
   "execution_count": 17,
   "metadata": {},
   "outputs": [],
   "source": [
    "sweeping_run_a_100micro = Sweeping_Single_List_File_teil(PulseScheme_A_100micro,30,interval,sam,0,30,AWG_Settings_100micro,'A')[0]"
   ]
  },
  {
   "cell_type": "code",
   "execution_count": 18,
   "metadata": {},
   "outputs": [],
   "source": [
    "sweeping_run_b_100micro = Sweeping_Single_List_File_teil(PulseScheme_B_100micro,30,interval,sam,0,30,AWG_Settings_100micro,'B')[0]"
   ]
  },
  {
   "cell_type": "code",
   "execution_count": 19,
   "metadata": {},
   "outputs": [],
   "source": [
    "#Exporting pickle\n",
    "\n",
    "with open(r\"{dict}\\cycleA_31steps_90Hz_100micro_.p\".format(dict = PulseScheme_A_100micro['Measurement file Path']), \"wb\") as k:\n",
    "    pickle.dump(sweeping_run_a_100micro, k)\n",
    "\n",
    "\n",
    "with open(r\"{dict}\\cycleB_31steps_90Hz_10micro_.p\".format(dict = PulseScheme_B_100micro['Measurement file Path']), \"wb\") as h:\n",
    "    pickle.dump(sweeping_run_b_100micro, h)"
   ]
  },
  {
   "cell_type": "code",
   "execution_count": null,
   "metadata": {},
   "outputs": [],
   "source": [
    "#Importing Pickle\n",
    "\n",
    "with open(r\"{dict}\\cycleA_31steps_93Hz_100micro_.p\".format(dict = PulseScheme_A_100micro['Measurement file Path']), \"rb\") as j:\n",
    "    sweeping_runa_100microicro = pickle.load(j)\n",
    "\n",
    "with open(r\"{dict}\\cycleB_31steps_93Hz_10micro_.p\".format(dict = PulseScheme_A_100micro['Measurement file Path']), \"rb\") as f:\n",
    "    sweeping_runb_100micro= pickle.load(f)"
   ]
  },
  {
   "cell_type": "code",
   "execution_count": null,
   "metadata": {},
   "outputs": [
    {
     "data": {
      "text/plain": [
       "'D:\\\\Alejandro\\\\Pulses\\\\diode measurements\\\\Prepared Pulse Schemes CSV\\\\50,20\\\\1mili\\\\SegmentA_672816_30.csv'"
      ]
     },
     "metadata": {},
     "output_type": "display_data"
    }
   ],
   "source": [
    "sweeping_run_a_100micro['Pulse File Location, at step 30']"
   ]
  },
  {
   "cell_type": "code",
   "execution_count": null,
   "metadata": {},
   "outputs": [
    {
     "data": {
      "text/plain": [
       "'D:\\\\Alejandro\\\\Pulses\\\\diode measurements\\\\Prepared Pulse Schemes CSV\\\\50,20\\\\1mili\\\\SegmentB_672816_30.csv'"
      ]
     },
     "metadata": {},
     "output_type": "display_data"
    }
   ],
   "source": [
    "sweeping_run_b_100micro['Pulse File Location, at step 30']"
   ]
  },
  {
   "cell_type": "code",
   "execution_count": 43,
   "metadata": {},
   "outputs": [
    {
     "ename": "NameError",
     "evalue": "name 'loop' is not defined",
     "output_type": "error",
     "traceback": [
      "\u001b[1;31m---------------------------------------------------------------------------\u001b[0m",
      "\u001b[1;31mNameError\u001b[0m                                 Traceback (most recent call last)",
      "\u001b[1;32m<ipython-input-43-e655c96d66ec>\u001b[0m in \u001b[0;36m<module>\u001b[1;34m\u001b[0m\n\u001b[1;32m----> 1\u001b[1;33m \u001b[0mloop\u001b[0m\u001b[1;33m\u001b[0m\u001b[1;33m\u001b[0m\u001b[0m\n\u001b[0m",
      "\u001b[1;31mNameError\u001b[0m: name 'loop' is not defined"
     ]
    }
   ],
   "source": [
    "10"
   ]
  },
  {
   "cell_type": "code",
   "execution_count": 45,
   "metadata": {},
   "outputs": [
    {
     "name": "stdout",
     "output_type": "stream",
     "text": [
      "Sequence loaded with the following segment data \"1,10,0,1,0,1706687,2,10,0,1,0,1706687\" and the advancement method is COND\n"
     ]
    },
    {
     "data": {
      "text/plain": [
       "0"
      ]
     },
     "execution_count": 45,
     "metadata": {},
     "output_type": "execute_result"
    }
   ],
   "source": [
    "Sequence_File(M8190A,sweeping_run_a_100micro['Pulse File Location, at step 30'],sweeping_run_b_100micro['Pulse File Location, at step 30'],10)"
   ]
  },
  {
   "cell_type": "code",
   "execution_count": 31,
   "metadata": {},
   "outputs": [
    {
     "data": {
      "text/plain": [
       "12"
      ]
     },
     "execution_count": 31,
     "metadata": {},
     "output_type": "execute_result"
    }
   ],
   "source": [
    "M8190A.write('SEQ:DEL:ALL')"
   ]
  },
  {
   "cell_type": "code",
   "execution_count": null,
   "metadata": {},
   "outputs": [
    {
     "name": "stdout",
     "output_type": "stream",
     "text": [
      "Dummy File Loaded and playing\n",
      "Dummy File stopped and erased from AWGs memmory\n"
     ]
    }
   ],
   "source": [
    "Dummy_File(M8190A)"
   ]
  },
  {
   "cell_type": "code",
   "execution_count": 32,
   "metadata": {},
   "outputs": [],
   "source": [
    "Lock_In_Settings = {\n",
    "'Time Constant' : '100ms',\n",
    "'Sensitivity' : '200 miliVolts',\n",
    "'Reserve' : 'Normal',\n",
    "'db' : 24,\n",
    "'Modulation': '90Hz'\n",
    "}"
   ]
  },
  {
   "cell_type": "code",
   "execution_count": 33,
   "metadata": {},
   "outputs": [
    {
     "name": "stdout",
     "output_type": "stream",
     "text": [
      "Sequence loaded with the following segment data \"1,10,0,1,0,1668335,2,10,0,1,0,1668335\" and the advancement method is COND\n",
      "Average Value for measurement at step 0 is 0.333028274317168 V\n",
      "Sequence loaded with the following segment data \"1,10,0,1,0,1668335,2,10,0,1,0,1668335\" and the advancement method is COND\n",
      "Average Value for measurement at step 1 is 0.33358042067213145 V\n",
      "Sequence loaded with the following segment data \"1,10,0,1,0,1668335,2,10,0,1,0,1668335\" and the advancement method is COND\n",
      "Average Value for measurement at step 2 is 0.3295996315045213 V\n",
      "Sequence loaded with the following segment data \"1,10,0,1,0,1668335,2,10,0,1,0,1668335\" and the advancement method is COND\n",
      "Average Value for measurement at step 3 is 0.33368628048287424 V\n",
      "Sequence loaded with the following segment data \"1,10,0,1,0,1668335,2,10,0,1,0,1668335\" and the advancement method is COND\n",
      "Average Value for measurement at step 4 is 0.33398366297733434 V\n",
      "Sequence loaded with the following segment data \"1,10,0,1,0,1668335,2,10,0,1,0,1668335\" and the advancement method is COND\n",
      "Average Value for measurement at step 5 is 0.33393613052939547 V\n",
      "Sequence loaded with the following segment data \"1,10,0,1,0,1668335,2,10,0,1,0,1668335\" and the advancement method is COND\n",
      "Average Value for measurement at step 6 is 0.33522122839283275 V\n",
      "Sequence loaded with the following segment data \"1,10,0,1,0,1668335,2,10,0,1,0,1668335\" and the advancement method is COND\n",
      "Average Value for measurement at step 7 is 0.3367783465082483 V\n",
      "Sequence loaded with the following segment data \"1,10,0,1,0,1668335,2,10,0,1,0,1668335\" and the advancement method is COND\n",
      "Average Value for measurement at step 8 is 0.33908433767014 V\n",
      "Sequence loaded with the following segment data \"1,10,0,1,0,1668335,2,10,0,1,0,1668335\" and the advancement method is COND\n",
      "Average Value for measurement at step 9 is 0.3446385342469614 V\n",
      "Sequence loaded with the following segment data \"1,10,0,1,0,1668335,2,10,0,1,0,1668335\" and the advancement method is COND\n",
      "Average Value for measurement at step 10 is 0.3518482994056422 V\n",
      "Sequence loaded with the following segment data \"1,10,0,1,0,1668335,2,10,0,1,0,1668335\" and the advancement method is COND\n",
      "Average Value for measurement at step 11 is 0.3584248596633018 V\n",
      "Sequence loaded with the following segment data \"1,10,0,1,0,1668335,2,10,0,1,0,1668335\" and the advancement method is COND\n",
      "Average Value for measurement at step 12 is 0.3650515254068216 V\n",
      "Sequence loaded with the following segment data \"1,10,0,1,0,1668335,2,10,0,1,0,1668335\" and the advancement method is COND\n",
      "Average Value for measurement at step 13 is 0.37246602657326505 V\n",
      "Sequence loaded with the following segment data \"1,10,0,1,0,1668335,2,10,0,1,0,1668335\" and the advancement method is COND\n",
      "Average Value for measurement at step 14 is 0.3784535289678116 V\n",
      "Sequence loaded with the following segment data \"1,10,0,1,0,1668335,2,10,0,1,0,1668335\" and the advancement method is COND\n",
      "Average Value for measurement at step 15 is 0.381471442994864 V\n",
      "Sequence loaded with the following segment data \"1,10,0,1,0,1668335,2,10,0,1,0,1668335\" and the advancement method is COND\n",
      "Average Value for measurement at step 16 is 0.3784376654719707 V\n",
      "Sequence loaded with the following segment data \"1,10,0,1,0,1668335,2,10,0,1,0,1668335\" and the advancement method is COND\n",
      "Average Value for measurement at step 17 is 0.37252299973781394 V\n",
      "Sequence loaded with the following segment data \"1,10,0,1,0,1668335,2,10,0,1,0,1668335\" and the advancement method is COND\n",
      "Average Value for measurement at step 18 is 0.3666166140184729 V\n",
      "Sequence loaded with the following segment data \"1,10,0,1,0,1668335,2,10,0,1,0,1668335\" and the advancement method is COND\n",
      "Average Value for measurement at step 19 is 0.35942031335294594 V\n",
      "Sequence loaded with the following segment data \"1,10,0,1,0,1668335,2,10,0,1,0,1668335\" and the advancement method is COND\n",
      "Average Value for measurement at step 20 is 0.35243166977499757 V\n",
      "Sequence loaded with the following segment data \"1,10,0,1,0,1668335,2,10,0,1,0,1668335\" and the advancement method is COND\n",
      "Average Value for measurement at step 21 is 0.34417541692372683 V\n",
      "Sequence loaded with the following segment data \"1,10,0,1,0,1668335,2,10,0,1,0,1668335\" and the advancement method is COND\n",
      "Average Value for measurement at step 22 is 0.34054660369841044 V\n",
      "Sequence loaded with the following segment data \"1,10,0,1,0,1668335,2,10,0,1,0,1668335\" and the advancement method is COND\n",
      "Average Value for measurement at step 23 is 0.33717547556547434 V\n",
      "Sequence loaded with the following segment data \"1,10,0,1,0,1668335,2,10,0,1,0,1668335\" and the advancement method is COND\n",
      "Average Value for measurement at step 24 is 0.3356084911295994 V\n",
      "Sequence loaded with the following segment data \"1,10,0,1,0,1668335,2,10,0,1,0,1668335\" and the advancement method is COND\n",
      "Average Value for measurement at step 25 is 0.33642667990641406 V\n",
      "Sequence loaded with the following segment data \"1,10,0,1,0,1668335,2,10,0,1,0,1668335\" and the advancement method is COND\n",
      "Average Value for measurement at step 26 is 0.33712465434407374 V\n",
      "Sequence loaded with the following segment data \"1,10,0,1,0,1668335,2,10,0,1,0,1668335\" and the advancement method is COND\n",
      "Average Value for measurement at step 27 is 0.3375554449642124 V\n",
      "Sequence loaded with the following segment data \"1,10,0,1,0,1668335,2,10,0,1,0,1668335\" and the advancement method is COND\n",
      "Average Value for measurement at step 28 is 0.33451427760816355 V\n",
      "Sequence loaded with the following segment data \"1,10,0,1,0,1668335,2,10,0,1,0,1668335\" and the advancement method is COND\n",
      "Average Value for measurement at step 29 is 0.33707609657245385 V\n",
      "Sequence loaded with the following segment data \"1,10,0,1,0,1668335,2,10,0,1,0,1668335\" and the advancement method is COND\n",
      "Average Value for measurement at step 30 is 0.33671765896671163 V\n"
     ]
    }
   ],
   "source": [
    "playingtime = 20\n",
    "\n",
    "Diode_Signal, averaged_data = Voltage_Autocorrelation_loop(M8190A,DAQ_Settings1,playingtime,sweeping_run_a_100micro,sweeping_run_b_100micro,PulseScheme_A_100micro['Measurement file Path'],Lock_In_Settings,10)"
   ]
  },
  {
   "cell_type": "code",
   "execution_count": 49,
   "metadata": {},
   "outputs": [
    {
     "data": {
      "image/png": "[encoded data removed]",
      "text/plain": [
       "<Figure size 432x288 with 1 Axes>"
      ]
     },
     "metadata": {
      "needs_background": "light"
     },
     "output_type": "display_data"
    },
    {
     "ename": "NameError",
     "evalue": "name 'PulseScheme_A_100micro' is not defined",
     "output_type": "error",
     "traceback": [
      "\u001b[1;31m---------------------------------------------------------------------------\u001b[0m",
      "\u001b[1;31mNameError\u001b[0m                                 Traceback (most recent call last)",
      "\u001b[1;32m<ipython-input-49-71afacd95ca0>\u001b[0m in \u001b[0;36m<module>\u001b[1;34m\u001b[0m\n\u001b[0;32m     11\u001b[0m \u001b[0mplt\u001b[0m\u001b[1;33m.\u001b[0m\u001b[0mshow\u001b[0m\u001b[1;33m(\u001b[0m\u001b[1;33m)\u001b[0m\u001b[1;33m\u001b[0m\u001b[1;33m\u001b[0m\u001b[0m\n\u001b[0;32m     12\u001b[0m \u001b[1;33m\u001b[0m\u001b[0m\n\u001b[1;32m---> 13\u001b[1;33m \u001b[0mfig\u001b[0m\u001b[1;33m.\u001b[0m\u001b[0msavefig\u001b[0m\u001b[1;33m(\u001b[0m\u001b[1;34mr'{loc}\\Diode Signal time cstant = {a}, sensitivity {b},{c} daqseconds, 5ms scheme, probe duration 100 micro,31 steps, no legend,6Ghz .jpeg'\u001b[0m\u001b[1;33m.\u001b[0m\u001b[0mformat\u001b[0m\u001b[1;33m(\u001b[0m\u001b[0mloc\u001b[0m \u001b[1;33m=\u001b[0m \u001b[0mPulseScheme_A_100micro\u001b[0m\u001b[1;33m[\u001b[0m\u001b[1;34m'Measurement file Path'\u001b[0m\u001b[1;33m]\u001b[0m\u001b[1;33m,\u001b[0m\u001b[0ma\u001b[0m \u001b[1;33m=\u001b[0m \u001b[0mLock_In_Settings\u001b[0m\u001b[1;33m[\u001b[0m\u001b[1;34m'Time Constant'\u001b[0m\u001b[1;33m]\u001b[0m\u001b[1;33m,\u001b[0m \u001b[0mb\u001b[0m \u001b[1;33m=\u001b[0m \u001b[0mLock_In_Settings\u001b[0m\u001b[1;33m[\u001b[0m\u001b[1;34m'Sensitivity'\u001b[0m\u001b[1;33m]\u001b[0m\u001b[1;33m,\u001b[0m \u001b[0mc\u001b[0m \u001b[1;33m=\u001b[0m \u001b[0mplayingtime\u001b[0m\u001b[1;33m)\u001b[0m\u001b[1;33m,\u001b[0m\u001b[0mbbox_inches\u001b[0m\u001b[1;33m=\u001b[0m\u001b[1;34m'tight'\u001b[0m\u001b[1;33m)\u001b[0m\u001b[1;33m\u001b[0m\u001b[1;33m\u001b[0m\u001b[0m\n\u001b[0m",
      "\u001b[1;31mNameError\u001b[0m: name 'PulseScheme_A_100micro' is not defined"
     ]
    }
   ],
   "source": [
    "fig,ax= plt.subplots()\n",
    "ax.grid(True)\n",
    "for i in range(0,len(Diode_Signal)):\n",
    "    plt.plot(Diode_Signal[i][1],Diode_Signal[i][0],label= 'Step {st}'.format(st = i ))\n",
    "\n",
    "ax.set_ylabel(r'V  [V]')\n",
    "ax.set_xlabel('t  [s]')\n",
    "ax.set_title(r' Diode Signal at Different Steps,  {b} Samples, 100$\\mu$s probe duration'.format(b = len(Diode_Signal[0][1]) ))\n",
    "#ax.legend(bbox_to_anchor=(1.05, 1), loc='upper left', borderaxespad=0.)\n",
    "#ax.legend(loc=0)\n",
    "plt.show()\n",
    "\n",
    "fig.savefig(r'{loc}\\Diode Signal time cstant = {a}, sensitivity {b},{c} daqseconds, 5ms scheme, probe duration 100 micro,31 steps, no legend,6Ghz .jpeg'.format(loc = PulseScheme_A_100micro['Measurement file Path'],a = Lock_In_Settings['Time Constant'], b = Lock_In_Settings['Sensitivity'], c = playingtime),bbox_inches='tight')"
   ]
  },
  {
   "cell_type": "code",
   "execution_count": 35,
   "metadata": {},
   "outputs": [],
   "source": [
    "time_delay = np.linspace(-200,200,31)"
   ]
  },
  {
   "cell_type": "code",
   "execution_count": 38,
   "metadata": {},
   "outputs": [],
   "source": [
    "%matplotlib inline"
   ]
  },
  {
   "cell_type": "code",
   "execution_count": 37,
   "metadata": {},
   "outputs": [
    {
     "data": {
      "application/vnd.jupyter.widget-view+json": {
       "model_id": "983598a5892449a5a846aeb5fb7df33c",
       "version_major": 2,
       "version_minor": 0
      },
      "text/plain": [
       "Canvas(toolbar=Toolbar(toolitems=[('Home', 'Reset original view', 'home', 'home'), ('Back', 'Back to previous …"
      ]
     },
     "metadata": {},
     "output_type": "display_data"
    }
   ],
   "source": [
    "#change this to V regime\n",
    "fig,axes = plt.subplots()\n",
    "\n",
    "axes.grid(True)\n",
    "\n",
    "plt.plot(time_delay,averaged_data,label=r'100$\\mu$s Probe Width ',color='green')\n",
    "#plt.plot(tm,pul,label = '{a} samples'.format(a = len(pul)))\n",
    "\n",
    "axes.set_xlabel(r'time delay [$\\mu$s]')\n",
    "axes.set_ylabel(r'Diode Signal [V]')\n",
    "axes.set_title('Auto-Correlation 31 steps ')\n",
    "\n",
    "axes.legend(loc = 0)\n",
    "plt.show()\n",
    "\n",
    "fig.savefig(r'{loc}\\Autocorrelation function 31 steps probes 5ms length tc = {a}, sens {b}, {c}s DAQ 6Ghz.jpeg'.format(loc = PulseScheme_A_100micro['Measurement file Path'],a = Lock_In_Settings['Time Constant'], b = Lock_In_Settings['Sensitivity'], c = playingtime ))"
   ]
  },
  {
   "cell_type": "code",
   "execution_count": null,
   "metadata": {},
   "outputs": [],
   "source": [
    "125000000"
   ]
  },
  {
   "cell_type": "code",
   "execution_count": null,
   "metadata": {},
   "outputs": [
    {
     "data": {
      "text/plain": [
       "100.0"
      ]
     },
     "metadata": {},
     "output_type": "display_data"
    }
   ],
   "source": [
    "1/0.01"
   ]
  },
  {
   "cell_type": "code",
   "execution_count": null,
   "metadata": {},
   "outputs": [
    {
     "data": {
      "text/plain": [
       "0.011"
      ]
     },
     "metadata": {},
     "output_type": "display_data"
    }
   ],
   "source": [
    "0.0055*2"
   ]
  },
  {
   "cell_type": "code",
   "execution_count": null,
   "metadata": {},
   "outputs": [
    {
     "data": {
      "text/plain": [
       "93.45794392523365"
      ]
     },
     "metadata": {},
     "output_type": "display_data"
    }
   ],
   "source": [
    "1/(5.35e-3*2)"
   ]
  },
  {
   "cell_type": "code",
   "execution_count": null,
   "metadata": {},
   "outputs": [
    {
     "data": {
      "text/plain": [
       "0.00535"
      ]
     },
     "metadata": {},
     "output_type": "display_data"
    }
   ],
   "source": [
    "5.35e-3"
   ]
  },
  {
   "cell_type": "code",
   "execution_count": null,
   "metadata": {},
   "outputs": [
    {
     "data": {
      "text/plain": [
       "0.005376344086021506"
      ]
     },
     "metadata": {},
     "output_type": "display_data"
    }
   ],
   "source": [
    "modulation = 93 #Hz \n",
    "comp_time = 1/modulation\n",
    "cycle_time = comp_time/2\n",
    "cycle_time"
   ]
  },
  {
   "cell_type": "code",
   "execution_count": null,
   "metadata": {},
   "outputs": [
    {
     "data": {
      "text/plain": [
       "676775"
      ]
     },
     "metadata": {},
     "output_type": "display_data"
    }
   ],
   "source": [
    "sam_mili = int(126500000*5.35e-3)\n",
    "sam_mili"
   ]
  },
  {
   "cell_type": "code",
   "execution_count": null,
   "metadata": {},
   "outputs": [
    {
     "data": {
      "text/plain": [
       "(array([751000], dtype=int64),)"
      ]
     },
     "metadata": {},
     "output_type": "display_data"
    }
   ],
   "source": [
    "sol = Gran_find(125009000,126000000,5.35e-3)\n",
    "np.where(sol != 0)"
   ]
  },
  {
   "cell_type": "code",
   "execution_count": null,
   "metadata": {},
   "outputs": [],
   "source": [
    "samp_freq = sol[751000]"
   ]
  },
  {
   "cell_type": "code",
   "execution_count": null,
   "metadata": {},
   "outputs": [
    {
     "data": {
      "text/plain": [
       "14017.0"
      ]
     },
     "metadata": {},
     "output_type": "display_data"
    }
   ],
   "source": [
    "(samp_freq * 5.35e-3)/ 48"
   ]
  },
  {
   "cell_type": "code",
   "execution_count": null,
   "metadata": {},
   "outputs": [],
   "source": []
  },
  {
   "cell_type": "code",
   "execution_count": null,
   "metadata": {},
   "outputs": [
    {
     "data": {
      "text/plain": [
       "True"
      ]
     },
     "metadata": {},
     "output_type": "display_data"
    }
   ],
   "source": [
    "div_test(3072000000,6.25e-6)"
   ]
  },
  {
   "cell_type": "code",
   "execution_count": null,
   "metadata": {},
   "outputs": [],
   "source": [
    "sol = Gran_find(3071999990,3072000010,6.25e-6)"
   ]
  },
  {
   "cell_type": "code",
   "execution_count": null,
   "metadata": {},
   "outputs": [
    {
     "data": {
      "text/plain": [
       "(array([10], dtype=int64),)"
      ]
     },
     "metadata": {},
     "output_type": "display_data"
    }
   ],
   "source": [
    "np.nonzero(sol)"
   ]
  },
  {
   "cell_type": "code",
   "execution_count": null,
   "metadata": {},
   "outputs": [],
   "source": [
    "sols = np.array([div_test(i,6.25e-6) for i in samp_interval])"
   ]
  },
  {
   "cell_type": "code",
   "execution_count": null,
   "metadata": {},
   "outputs": [
    {
     "data": {
      "text/plain": [
       "array([ True, False, False])"
      ]
     },
     "metadata": {},
     "output_type": "display_data"
    }
   ],
   "source": [
    "sols"
   ]
  },
  {
   "cell_type": "code",
   "execution_count": null,
   "metadata": {},
   "outputs": [],
   "source": [
    "sol = np.zeros((len(samp_interval)))"
   ]
  },
  {
   "cell_type": "code",
   "execution_count": null,
   "metadata": {},
   "outputs": [
    {
     "data": {
      "text/plain": [
       "3"
      ]
     },
     "metadata": {},
     "output_type": "display_data"
    }
   ],
   "source": [
    "samp_interval.size"
   ]
  },
  {
   "cell_type": "code",
   "execution_count": null,
   "metadata": {},
   "outputs": [
    {
     "data": {
      "text/plain": [
       "3"
      ]
     },
     "metadata": {},
     "output_type": "display_data"
    }
   ],
   "source": [
    "sol.size"
   ]
  },
  {
   "cell_type": "code",
   "execution_count": null,
   "metadata": {},
   "outputs": [
    {
     "data": {
      "text/plain": [
       "array([3.072e+09, 0.000e+00, 0.000e+00])"
      ]
     },
     "metadata": {},
     "output_type": "display_data"
    }
   ],
   "source": [
    "sol"
   ]
  },
  {
   "cell_type": "code",
   "execution_count": null,
   "metadata": {},
   "outputs": [],
   "source": [
    "np.linspace(125000000,8000000000)"
   ]
  },
  {
   "cell_type": "code",
   "execution_count": null,
   "metadata": {},
   "outputs": [
    {
     "data": {
      "text/plain": [
       "875000000"
      ]
     },
     "metadata": {},
     "output_type": "display_data"
    }
   ],
   "source": [
    "np.arange(125000000,1000000000,1).size"
   ]
  },
  {
   "cell_type": "code",
   "execution_count": null,
   "metadata": {},
   "outputs": [],
   "source": [
    "for i,j,k in zip(fileA, fileB,range(0,len(fileA))):"
   ]
  },
  {
   "cell_type": "code",
   "execution_count": null,
   "metadata": {},
   "outputs": [],
   "source": [
    "def Mult_find_1GHz(time_length):\n",
    "    \"\"\" goes from lowest Sr to 1GHz\n",
    "    \n",
    "    \n",
    "    \n",
    "    \"\"\"\n",
    "    Sampling_freq_range = np.arange(125000000,1000000000,1)\n",
    "    sol = np.array((len(Sampling_freq_range)))\n",
    "    for j,i in (Sampling_freq_range,range(0,len(Sampling_freq_range))):\n",
    "        if ((j * time_length) % 48 == 0  ):\n",
    "            sol[i] = j\n",
    "        else:\n",
    "            sol[i] = 0\n",
    "\n",
    "    return sol   "
   ]
  },
  {
   "cell_type": "code",
   "execution_count": null,
   "metadata": {},
   "outputs": [
    {
     "ename": "ValueError",
     "evalue": "too many values to unpack (expected 2)",
     "output_type": "error",
     "traceback": [
      "\u001b[1;31m---------------------------------------------------------------------------\u001b[0m\n",
      "\u001b[1;31mValueError\u001b[0m                                Traceback (most recent call last)\n",
      "\u001b[1;32m<ipython-input-77-d1c8ff69814d>\u001b[0m in \u001b[0;36m<module>\u001b[1;34m\u001b[0m\n",
      "\u001b[1;32m----> 1\u001b[1;33m \u001b[0mMult_find_1GHz\u001b[0m\u001b[1;33m(\u001b[0m\u001b[1;36m0.005\u001b[0m\u001b[1;33m)\u001b[0m\u001b[1;33m\u001b[0m\u001b[1;33m\u001b[0m\u001b[0m\n",
      "\u001b[0m\n",
      "\u001b[1;32m<ipython-input-76-30a7392dc41e>\u001b[0m in \u001b[0;36mMult_find_1GHz\u001b[1;34m(time_length)\u001b[0m\n",
      "\u001b[0;32m      7\u001b[0m     \u001b[0mSampling_freq_range\u001b[0m \u001b[1;33m=\u001b[0m \u001b[0mnp\u001b[0m\u001b[1;33m.\u001b[0m\u001b[0marange\u001b[0m\u001b[1;33m(\u001b[0m\u001b[1;36m125000000\u001b[0m\u001b[1;33m,\u001b[0m\u001b[1;36m1000000000\u001b[0m\u001b[1;33m,\u001b[0m\u001b[1;36m1\u001b[0m\u001b[1;33m)\u001b[0m\u001b[1;33m\u001b[0m\u001b[1;33m\u001b[0m\u001b[0m\n",
      "\u001b[0;32m      8\u001b[0m     \u001b[0msol\u001b[0m \u001b[1;33m=\u001b[0m \u001b[0mnp\u001b[0m\u001b[1;33m.\u001b[0m\u001b[0marray\u001b[0m\u001b[1;33m(\u001b[0m\u001b[1;33m(\u001b[0m\u001b[0mlen\u001b[0m\u001b[1;33m(\u001b[0m\u001b[0mSampling_freq_range\u001b[0m\u001b[1;33m)\u001b[0m\u001b[1;33m)\u001b[0m\u001b[1;33m)\u001b[0m\u001b[1;33m\u001b[0m\u001b[1;33m\u001b[0m\u001b[0m\n",
      "\u001b[1;32m----> 9\u001b[1;33m     \u001b[1;32mfor\u001b[0m \u001b[0mj\u001b[0m\u001b[1;33m,\u001b[0m\u001b[0mi\u001b[0m \u001b[1;32min\u001b[0m \u001b[1;33m(\u001b[0m\u001b[0mSampling_freq_range\u001b[0m\u001b[1;33m,\u001b[0m\u001b[0mrange\u001b[0m\u001b[1;33m(\u001b[0m\u001b[1;36m0\u001b[0m\u001b[1;33m,\u001b[0m\u001b[0mlen\u001b[0m\u001b[1;33m(\u001b[0m\u001b[0mSampling_freq_range\u001b[0m\u001b[1;33m)\u001b[0m\u001b[1;33m)\u001b[0m\u001b[1;33m)\u001b[0m\u001b[1;33m:\u001b[0m\u001b[1;33m\u001b[0m\u001b[1;33m\u001b[0m\u001b[0m\n",
      "\u001b[0m\u001b[0;32m     10\u001b[0m         \u001b[1;32mif\u001b[0m \u001b[1;33m(\u001b[0m\u001b[1;33m(\u001b[0m\u001b[0mj\u001b[0m \u001b[1;33m*\u001b[0m \u001b[0mtime_length\u001b[0m\u001b[1;33m)\u001b[0m \u001b[1;33m%\u001b[0m \u001b[1;36m48\u001b[0m \u001b[1;33m==\u001b[0m \u001b[1;36m0\u001b[0m  \u001b[1;33m)\u001b[0m\u001b[1;33m:\u001b[0m\u001b[1;33m\u001b[0m\u001b[1;33m\u001b[0m\u001b[0m\n",
      "\u001b[0;32m     11\u001b[0m             \u001b[0msol\u001b[0m\u001b[1;33m[\u001b[0m\u001b[0mi\u001b[0m\u001b[1;33m]\u001b[0m \u001b[1;33m=\u001b[0m \u001b[0mj\u001b[0m\u001b[1;33m\u001b[0m\u001b[1;33m\u001b[0m\u001b[0m\n",
      "\n",
      "\u001b[1;31mValueError\u001b[0m: too many values to unpack (expected 2)"
     ]
    }
   ],
   "source": [
    "Mult_find_1GHz(0.005)"
   ]
  },
  {
   "cell_type": "code",
   "execution_count": null,
   "metadata": {},
   "outputs": [
    {
     "data": {
      "text/plain": [
       "0.005"
      ]
     },
     "metadata": {},
     "output_type": "display_data"
    }
   ],
   "source": [
    "5e-3"
   ]
  },
  {
   "cell_type": "code",
   "execution_count": null,
   "metadata": {},
   "outputs": [
    {
     "data": {
      "text/plain": [
       "960"
      ]
     },
     "metadata": {},
     "output_type": "display_data"
    }
   ],
   "source": [
    "48*20"
   ]
  },
  {
   "cell_type": "code",
   "execution_count": null,
   "metadata": {},
   "outputs": [
    {
     "data": {
      "text/plain": [
       "879252.3364485982"
      ]
     },
     "metadata": {},
     "output_type": "display_data"
    }
   ],
   "source": [
    "4704/5.35e-3"
   ]
  },
  {
   "cell_type": "code",
   "execution_count": null,
   "metadata": {},
   "outputs": [
    {
     "data": {
      "text/plain": [
       "(array([751000], dtype=int64),)"
      ]
     },
     "metadata": {},
     "output_type": "display_data"
    }
   ],
   "source": [
    "sol = Gran_find(125009000,126000000,5.35e-3)\n",
    "np.where(sol != 0)"
   ]
  },
  {
   "cell_type": "code",
   "execution_count": null,
   "metadata": {},
   "outputs": [],
   "source": [
    "samp_freq = int(sol[751000])"
   ]
  },
  {
   "cell_type": "code",
   "execution_count": null,
   "metadata": {},
   "outputs": [],
   "source": [
    "sam = int(samp_freq * 5.35e-3) "
   ]
  },
  {
   "cell_type": "code",
   "execution_count": null,
   "metadata": {},
   "outputs": [
    {
     "data": {
      "text/plain": [
       "125760000"
      ]
     },
     "metadata": {},
     "output_type": "display_data"
    }
   ],
   "source": [
    "samp_freq"
   ]
  },
  {
   "cell_type": "code",
   "execution_count": null,
   "metadata": {},
   "outputs": [],
   "source": [
    "125760000"
   ]
  },
  {
   "cell_type": "code",
   "execution_count": null,
   "metadata": {},
   "outputs": [
    {
     "data": {
      "text/plain": [
       "672816"
      ]
     },
     "metadata": {},
     "output_type": "display_data"
    }
   ],
   "source": [
    "sam"
   ]
  },
  {
   "cell_type": "markdown",
   "metadata": {},
   "source": [
    "# 10 micro"
   ]
  },
  {
   "cell_type": "code",
   "execution_count": 25,
   "metadata": {},
   "outputs": [
    {
     "name": "stdout",
     "output_type": "stream",
     "text": [
      "The factors for 5000 are : \n",
      "1\n",
      "2\n",
      "4\n",
      "5\n",
      "8\n",
      "10\n",
      "20\n",
      "25\n",
      "40\n",
      "50\n",
      "100\n",
      "125\n",
      "200\n",
      "250\n",
      "500\n",
      "625\n",
      "1000\n",
      "1250\n",
      "2500\n",
      "5000\n"
     ]
    }
   ],
   "source": [
    "def print_factors(n):\n",
    "    i = 1\n",
    "    while(i < n+1):\n",
    "        if n % i == 0:\n",
    "            print(i)\n",
    "        i = i + 1\n",
    "\n",
    "number = int(input(\"Enter a number : \"))\n",
    "\n",
    "print(\"The factors for {} are : \".format(number))\n",
    "print_factors(number)"
   ]
  },
  {
   "cell_type": "code",
   "execution_count": 29,
   "metadata": {},
   "outputs": [],
   "source": [
    "loop_micro = 5000/100"
   ]
  },
  {
   "cell_type": "code",
   "execution_count": 14,
   "metadata": {},
   "outputs": [
    {
     "data": {
      "text/plain": [
       "80.0"
      ]
     },
     "execution_count": 14,
     "metadata": {},
     "output_type": "execute_result"
    }
   ],
   "source": [
    "5000/62.5"
   ]
  },
  {
   "cell_type": "code",
   "execution_count": null,
   "metadata": {},
   "outputs": [],
   "source": []
  },
  {
   "cell_type": "code",
   "execution_count": 5,
   "metadata": {},
   "outputs": [
    {
     "data": {
      "text/plain": [
       "5000.0"
      ]
     },
     "execution_count": 5,
     "metadata": {},
     "output_type": "execute_result"
    }
   ],
   "source": [
    "62.5 * 80"
   ]
  },
  {
   "cell_type": "code",
   "execution_count": 27,
   "metadata": {},
   "outputs": [],
   "source": [
    "sam = int(3072000000*100e-6)"
   ]
  },
  {
   "cell_type": "code",
   "execution_count": 28,
   "metadata": {},
   "outputs": [
    {
     "data": {
      "text/plain": [
       "6400.0"
      ]
     },
     "execution_count": 28,
     "metadata": {},
     "output_type": "execute_result"
    }
   ],
   "source": [
    "sam/48"
   ]
  },
  {
   "cell_type": "code",
   "execution_count": null,
   "metadata": {},
   "outputs": [],
   "source": [
    "0.0000625"
   ]
  },
  {
   "cell_type": "code",
   "execution_count": 11,
   "metadata": {},
   "outputs": [
    {
     "data": {
      "text/plain": [
       "6.25e-06"
      ]
     },
     "execution_count": 11,
     "metadata": {},
     "output_type": "execute_result"
    }
   ],
   "source": [
    "6.25e-6"
   ]
  },
  {
   "cell_type": "markdown",
   "metadata": {},
   "source": [
    "90Hz"
   ]
  },
  {
   "cell_type": "code",
   "execution_count": 2,
   "metadata": {},
   "outputs": [
    {
     "data": {
      "text/plain": [
       "0.005555555555555556"
      ]
     },
     "execution_count": 2,
     "metadata": {},
     "output_type": "execute_result"
    }
   ],
   "source": [
    "modulation = 90 #Hz \n",
    "comp_time = 1/modulation\n",
    "cycle_time = comp_time/2\n",
    "cycle_time #seconds"
   ]
  },
  {
   "cell_type": "markdown",
   "metadata": {},
   "source": [
    "divide cycle time in N parts"
   ]
  },
  {
   "cell_type": "code",
   "execution_count": 3,
   "metadata": {},
   "outputs": [],
   "source": [
    "cycle_micro = cycle_time *1e6"
   ]
  },
  {
   "cell_type": "code",
   "execution_count": 4,
   "metadata": {},
   "outputs": [
    {
     "data": {
      "text/plain": [
       "5555.555555555556"
      ]
     },
     "execution_count": 4,
     "metadata": {},
     "output_type": "execute_result"
    }
   ],
   "source": [
    "cycle_micro"
   ]
  },
  {
   "cell_type": "code",
   "execution_count": 5,
   "metadata": {},
   "outputs": [],
   "source": [
    "loop_micro = 75"
   ]
  },
  {
   "cell_type": "code",
   "execution_count": 6,
   "metadata": {},
   "outputs": [],
   "source": [
    "interval = (cycle_micro) /loop_micro"
   ]
  },
  {
   "cell_type": "code",
   "execution_count": 7,
   "metadata": {},
   "outputs": [
    {
     "data": {
      "text/plain": [
       "74.07407407407408"
      ]
     },
     "execution_count": 7,
     "metadata": {},
     "output_type": "execute_result"
    }
   ],
   "source": [
    "interval"
   ]
  },
  {
   "cell_type": "code",
   "execution_count": 8,
   "metadata": {
    "scrolled": false
   },
   "outputs": [
    {
     "data": {
      "text/plain": [
       "5555.555555555556"
      ]
     },
     "execution_count": 8,
     "metadata": {},
     "output_type": "execute_result"
    }
   ],
   "source": [
    "interval*75"
   ]
  },
  {
   "cell_type": "code",
   "execution_count": 9,
   "metadata": {},
   "outputs": [],
   "source": [
    "samples = int(3072000010 * (interval *1e-6))"
   ]
  },
  {
   "cell_type": "code",
   "execution_count": 10,
   "metadata": {},
   "outputs": [
    {
     "data": {
      "text/plain": [
       "227555"
      ]
     },
     "execution_count": 10,
     "metadata": {},
     "output_type": "execute_result"
    }
   ],
   "source": [
    "samples"
   ]
  },
  {
   "cell_type": "code",
   "execution_count": 11,
   "metadata": {},
   "outputs": [
    {
     "data": {
      "text/plain": [
       "4740.729166666667"
      ]
     },
     "execution_count": 11,
     "metadata": {},
     "output_type": "execute_result"
    }
   ],
   "source": [
    "samples/48"
   ]
  },
  {
   "cell_type": "code",
   "execution_count": 12,
   "metadata": {},
   "outputs": [],
   "source": [
    "sam = Granularity(samples)"
   ]
  },
  {
   "cell_type": "code",
   "execution_count": 13,
   "metadata": {},
   "outputs": [
    {
     "data": {
      "text/plain": [
       "227568"
      ]
     },
     "execution_count": 13,
     "metadata": {},
     "output_type": "execute_result"
    }
   ],
   "source": [
    "sam"
   ]
  },
  {
   "cell_type": "code",
   "execution_count": 14,
   "metadata": {},
   "outputs": [
    {
     "data": {
      "text/plain": [
       "4741.0"
      ]
     },
     "execution_count": 14,
     "metadata": {},
     "output_type": "execute_result"
    }
   ],
   "source": [
    "sam/48"
   ]
  },
  {
   "cell_type": "code",
   "execution_count": 3,
   "metadata": {},
   "outputs": [],
   "source": [
    "Sr = 3002832000\n",
    "sam = 222432\n",
    "\n",
    "tim = sam/Sr"
   ]
  },
  {
   "cell_type": "code",
   "execution_count": 4,
   "metadata": {},
   "outputs": [
    {
     "data": {
      "text/plain": [
       "7.407407407407407e-05"
      ]
     },
     "execution_count": 4,
     "metadata": {},
     "output_type": "execute_result"
    }
   ],
   "source": [
    "tim"
   ]
  },
  {
   "cell_type": "code",
   "execution_count": 5,
   "metadata": {},
   "outputs": [],
   "source": [
    "interval = tim*1e6 #micro"
   ]
  },
  {
   "cell_type": "code",
   "execution_count": 6,
   "metadata": {},
   "outputs": [
    {
     "data": {
      "text/plain": [
       "74.07407407407408"
      ]
     },
     "execution_count": 6,
     "metadata": {},
     "output_type": "execute_result"
    }
   ],
   "source": [
    "interval"
   ]
  },
  {
   "cell_type": "code",
   "execution_count": 21,
   "metadata": {},
   "outputs": [
    {
     "data": {
      "text/plain": [
       "5555.555555555556"
      ]
     },
     "execution_count": 21,
     "metadata": {},
     "output_type": "execute_result"
    }
   ],
   "source": [
    "interval * 75"
   ]
  },
  {
   "cell_type": "code",
   "execution_count": 7,
   "metadata": {},
   "outputs": [],
   "source": [
    "AWG_Settings_10micro= {\n",
    "    'Visa Resource Name': 'TCPIP0::ibn3-036.ibn-net.kfa-juelich.de::hislip0::INSTR',\n",
    "    'Voltage Amplitude':700,\n",
    "    'Clock Sample Frecuency':3002832000,\n",
    "    'Output_Channel': 1,\n",
    "    'Mode': 'STS',\n",
    "    'Trigger In Threshold' : 1,\n",
    "    'Output Rout': 'DAC', #DAC output rout only has the BNC outputs: Direct Out and (Averaged) Direct Out # DC\n",
    "    'Data Directory': r'D:\\Alejandro\\Pulses\\diode measurements\\Prepared Pulse Schemes CSV\\50,20\\10micro'\n",
    "}"
   ]
  },
  {
   "cell_type": "code",
   "execution_count": 9,
   "metadata": {},
   "outputs": [
    {
     "data": {
      "text/plain": [
       "21"
      ]
     },
     "execution_count": 9,
     "metadata": {},
     "output_type": "execute_result"
    }
   ],
   "source": [
    "M8190A.write('FREQ:RAST 3002832000')"
   ]
  },
  {
   "cell_type": "code",
   "execution_count": 8,
   "metadata": {},
   "outputs": [],
   "source": [
    "M8190A = VisaR(AWG_Settings_10micro,60000)"
   ]
  },
  {
   "cell_type": "code",
   "execution_count": null,
   "metadata": {},
   "outputs": [
    {
     "name": "stdout",
     "output_type": "stream",
     "text": [
      "Instruments Sampling Frecuency set to 1.25760000000000E+08Hz\n",
      "Instruments Direct Out DAC Output route Voltage set to 7.00000000000000E-01Volts\n",
      "AWG_Settings_Dict set to TRIGGERED Mode\n",
      "Trigger In threshold value set to 1.00000000000000E+00V\n"
     ]
    }
   ],
   "source": [
    "Initialization(M8190A,AWG_Settings_10micro)"
   ]
  },
  {
   "cell_type": "code",
   "execution_count": 10,
   "metadata": {},
   "outputs": [],
   "source": [
    "Pump_10micro = {\n",
    "    'Name':'Pump_10micro',\n",
    "    'Amplitude': 50,\n",
    "    'Start time':20,\n",
    "    'End time':2e-10,\n",
    "    'Start Duration':10,\n",
    "    'End Duration':60,\n",
    "    'Sweep time':0,\n",
    "    'Sweep Duration':0\n",
    "}"
   ]
  },
  {
   "cell_type": "code",
   "execution_count": 11,
   "metadata": {},
   "outputs": [],
   "source": [
    "ProbeA_10micro = {\n",
    "    'Name':'ProbeA_10micro',\n",
    "    'Amplitude':20,\n",
    "    'Start time':0,\n",
    "    'End time':40,\n",
    "    'Start Duration':10,\n",
    "    'End Duration':60,\n",
    "    'Sweep time':1,\n",
    "    'Sweep Duration':0\n",
    "}"
   ]
  },
  {
   "cell_type": "code",
   "execution_count": 12,
   "metadata": {},
   "outputs": [],
   "source": [
    "ProbeB_10micro= {\n",
    "    'Name':'ProbeB_10micro',\n",
    "    'Amplitude':0,\n",
    "    'Start time':0,\n",
    "    'End time':12,\n",
    "    'Start Duration':1,\n",
    "    'End Duration':6,\n",
    "    'Sweep time':0,\n",
    "    'Sweep Duration':0\n",
    "}"
   ]
  },
  {
   "cell_type": "code",
   "execution_count": 13,
   "metadata": {},
   "outputs": [],
   "source": [
    "PulseScheme_A_10micro =  {\n",
    "    'Name' : 'PulseScheme_A_10micro',\n",
    "    'Pulse Scheme': [Pump_10micro,ProbeA_10micro],\n",
    "    'Number of repetitions': 1,\n",
    "    'Measurement file Path': r'D:\\Alejandro\\Pulses\\diode measurements\\Autocorrelation measurements\\50,20\\10micro'\n",
    "}"
   ]
  },
  {
   "cell_type": "code",
   "execution_count": 14,
   "metadata": {},
   "outputs": [],
   "source": [
    "PulseScheme_B_10micro =  {\n",
    "    'Name' : 'PulseScheme_B_10micro',\n",
    "    'Pulse Scheme': [ProbeB_10micro,ProbeB_10micro],\n",
    "    'Number of repetitions': 1,\n",
    "    'Measurement file Path': r'D:\\Alejandro\\Pulses\\diode measurements\\Autocorrelation measurements\\50,20\\10micro'\n",
    "}"
   ]
  },
  {
   "cell_type": "code",
   "execution_count": null,
   "metadata": {},
   "outputs": [],
   "source": [
    "93"
   ]
  },
  {
   "cell_type": "code",
   "execution_count": 15,
   "metadata": {
    "scrolled": true
   },
   "outputs": [
    {
     "data": {
      "image/png": "[encoded data removed]",
      "text/plain": [
       "<Figure size 432x288 with 1 Axes>"
      ]
     },
     "metadata": {
      "needs_background": "light"
     },
     "output_type": "display_data"
    }
   ],
   "source": [
    "step = 30\n",
    "pul1 = Sweep_teil(PulseScheme_A_10micro,30,step,interval,sam)\n",
    "\n",
    "\n",
    "#Plot\n",
    "fig,ax= plt.subplots()\n",
    "ax.grid(True)\n",
    "\n",
    "plt.plot(pul1[1],pul1[0],label= '{b} samples'.format(b = sam),color='orange')\n",
    "\n",
    "ax.set_ylabel('V  [mV]')\n",
    "ax.set_xlabel(r't [$\\mu$s]')\n",
    "ax.set_title('Cycle A at step {a}'.format(a = step )) #Voltage Offset = 3mV, Marker Ampl = 50mV \n",
    "#ax.legend(loc=0)\n",
    "#plt.legend(bbox_to_anchor=(2.05, 1), loc='upper left', borderaxespad=0.)\n",
    "plt.show()\n",
    "\n",
    "fig.savefig(r'{loc}\\Cycle A, Probe width 1micro 90 hz mod 75 loop.jpeg'.format(loc = PulseScheme_A_10micro['Measurement file Path']),bbox_inches='tight')"
   ]
  },
  {
   "cell_type": "code",
   "execution_count": 16,
   "metadata": {},
   "outputs": [],
   "source": [
    "sweeping_run_a_10micro = Sweeping_Single_List_File_teil(PulseScheme_A_10micro,30,interval,sam,0,30,AWG_Settings_10micro,'A')[0]"
   ]
  },
  {
   "cell_type": "code",
   "execution_count": 17,
   "metadata": {},
   "outputs": [],
   "source": [
    "sweeping_run_b_10micro = Sweeping_Single_List_File_teil(PulseScheme_B_10micro,30,interval,sam,0,30,AWG_Settings_10micro,'B')[0]"
   ]
  },
  {
   "cell_type": "code",
   "execution_count": 18,
   "metadata": {},
   "outputs": [],
   "source": [
    "#Exporting pickle\n",
    "\n",
    "with open(r\"{dict}\\cycleA_31steps_90Hz_10micro_3002832000GHz.p\".format(dict = PulseScheme_A_10micro['Measurement file Path']), \"wb\") as k:\n",
    "    pickle.dump(sweeping_run_a_10micro, k)\n",
    "\n",
    "\n",
    "with open(r\"{dict}\\cycleB_31steps_90Hz_10micro_3002832000GHz.p\".format(dict = PulseScheme_B_10micro['Measurement file Path']), \"wb\") as h:\n",
    "    pickle.dump(sweeping_run_b_10micro, h)"
   ]
  },
  {
   "cell_type": "code",
   "execution_count": null,
   "metadata": {},
   "outputs": [],
   "source": [
    "#Importing Pickle\n",
    "\n",
    "with open(r\"{dict}\\cycleA_31steps_100Hz_10micro_3072000000GHz.p\".format(dict = PulseScheme_A_10micro['Measurement file Path']), \"rb\") as j:\n",
    "    sweeping_runa_10micro = pickle.load(j)\n",
    "\n",
    "with open(r\"{dict}\\cycleB_31steps_100Hz_10micro_3072000000GHz.p\".format(dict = PulseScheme_A_10micro['Measurement file Path']), \"rb\") as f:\n",
    "    sweeping_runb_10micro= pickle.load(f)"
   ]
  },
  {
   "cell_type": "code",
   "execution_count": null,
   "metadata": {},
   "outputs": [
    {
     "data": {
      "text/plain": [
       "'D:\\\\Alejandro\\\\Pulses\\\\diode measurements\\\\Prepared Pulse Schemes CSV\\\\50,20\\\\1mili\\\\SegmentA_672816_30.csv'"
      ]
     },
     "metadata": {},
     "output_type": "display_data"
    }
   ],
   "source": [
    "sweeping_run_a_10micro['Pulse File Location, at step 30']"
   ]
  },
  {
   "cell_type": "code",
   "execution_count": null,
   "metadata": {},
   "outputs": [
    {
     "data": {
      "text/plain": [
       "'D:\\\\Alejandro\\\\Pulses\\\\diode measurements\\\\Prepared Pulse Schemes CSV\\\\50,20\\\\1mili\\\\SegmentB_672816_30.csv'"
      ]
     },
     "metadata": {},
     "output_type": "display_data"
    }
   ],
   "source": [
    "sweeping_run_b_10micro['Pulse File Location, at step 30']"
   ]
  },
  {
   "cell_type": "code",
   "execution_count": 27,
   "metadata": {},
   "outputs": [
    {
     "data": {
      "text/plain": [
       "75"
      ]
     },
     "execution_count": 27,
     "metadata": {},
     "output_type": "execute_result"
    }
   ],
   "source": [
    "loop_micro"
   ]
  },
  {
   "cell_type": "code",
   "execution_count": null,
   "metadata": {},
   "outputs": [
    {
     "name": "stdout",
     "output_type": "stream",
     "text": [
      "Sequence loaded with the following segment data \"1,8,0,1,0,1919999,2,8,0,1,0,1919999\" and the advancement method is COND\n"
     ]
    },
    {
     "data": {
      "text/plain": [
       "0"
      ]
     },
     "metadata": {},
     "output_type": "display_data"
    }
   ],
   "source": [
    "Sequence_File(M8190A,sweeping_runa_10micro['Pulse File Location, at step 30'],sweeping_runb_10micro['Pulse File Location, at step 30'],75)"
   ]
  },
  {
   "cell_type": "code",
   "execution_count": 30,
   "metadata": {
    "scrolled": true
   },
   "outputs": [
    {
     "data": {
      "text/plain": [
       "12"
      ]
     },
     "execution_count": 30,
     "metadata": {},
     "output_type": "execute_result"
    }
   ],
   "source": [
    "M8190A.write('SEQ:DEL:ALL')"
   ]
  },
  {
   "cell_type": "code",
   "execution_count": 22,
   "metadata": {},
   "outputs": [
    {
     "name": "stdout",
     "output_type": "stream",
     "text": [
      "Dummy File Loaded and playing\n",
      "Dummy File stopped and erased from AWGs memmory\n"
     ]
    }
   ],
   "source": [
    "Dummy_File(M8190A)"
   ]
  },
  {
   "cell_type": "code",
   "execution_count": 23,
   "metadata": {},
   "outputs": [],
   "source": [
    "Lock_In_Settings = {\n",
    "'Time Constant' : '100ms',\n",
    "'Sensitivity' : '200 miliVolts',\n",
    "'Reserve' : 'Normal',\n",
    "'db' : 24,\n",
    "'Modulation': '90Hz'\n",
    "}"
   ]
  },
  {
   "cell_type": "code",
   "execution_count": 24,
   "metadata": {},
   "outputs": [
    {
     "name": "stdout",
     "output_type": "stream",
     "text": [
      "Sequence loaded with the following segment data \"1,75,0,1,0,222431,2,75,0,1,0,222431\" and the advancement method is COND\n",
      "Average Value for measurement at step 0 is -0.0058006285248500145 V\n",
      "Sequence loaded with the following segment data \"1,75,0,1,0,222431,2,75,0,1,0,222431\" and the advancement method is COND\n",
      "Average Value for measurement at step 1 is 0.23105345932950375 V\n",
      "Sequence loaded with the following segment data \"1,75,0,1,0,222431,2,75,0,1,0,222431\" and the advancement method is COND\n",
      "Average Value for measurement at step 2 is 0.23134240706036804 V\n",
      "Sequence loaded with the following segment data \"1,75,0,1,0,222431,2,75,0,1,0,222431\" and the advancement method is COND\n",
      "Average Value for measurement at step 3 is 0.233210681584823 V\n",
      "Sequence loaded with the following segment data \"1,75,0,1,0,222431,2,75,0,1,0,222431\" and the advancement method is COND\n",
      "Average Value for measurement at step 4 is 0.23416394210029293 V\n",
      "Sequence loaded with the following segment data \"1,75,0,1,0,222431,2,75,0,1,0,222431\" and the advancement method is COND\n",
      "Average Value for measurement at step 5 is 0.23537349475996228 V\n",
      "Sequence loaded with the following segment data \"1,75,0,1,0,222431,2,75,0,1,0,222431\" and the advancement method is COND\n",
      "Average Value for measurement at step 6 is 0.23661115675662087 V\n",
      "Sequence loaded with the following segment data \"1,75,0,1,0,222431,2,75,0,1,0,222431\" and the advancement method is COND\n",
      "Average Value for measurement at step 7 is 0.23711223033765755 V\n",
      "Sequence loaded with the following segment data \"1,75,0,1,0,222431,2,75,0,1,0,222431\" and the advancement method is COND\n",
      "Average Value for measurement at step 8 is 0.23902503873877126 V\n",
      "Sequence loaded with the following segment data \"1,75,0,1,0,222431,2,75,0,1,0,222431\" and the advancement method is COND\n",
      "Average Value for measurement at step 9 is 0.240238808772709 V\n",
      "Sequence loaded with the following segment data \"1,75,0,1,0,222431,2,75,0,1,0,222431\" and the advancement method is COND\n",
      "Average Value for measurement at step 10 is 0.2420019006269026 V\n",
      "Sequence loaded with the following segment data \"1,75,0,1,0,222431,2,75,0,1,0,222431\" and the advancement method is COND\n",
      "Average Value for measurement at step 11 is 0.24337430559792436 V\n",
      "Sequence loaded with the following segment data \"1,75,0,1,0,222431,2,75,0,1,0,222431\" and the advancement method is COND\n",
      "Average Value for measurement at step 12 is 0.2449992689921147 V\n",
      "Sequence loaded with the following segment data \"1,75,0,1,0,222431,2,75,0,1,0,222431\" and the advancement method is COND\n",
      "Average Value for measurement at step 13 is 0.2455208103534092 V\n",
      "Sequence loaded with the following segment data \"1,75,0,1,0,222431,2,75,0,1,0,222431\" and the advancement method is COND\n",
      "Average Value for measurement at step 14 is 0.2457181367341102 V\n",
      "Sequence loaded with the following segment data \"1,75,0,1,0,222431,2,75,0,1,0,222431\" and the advancement method is COND\n",
      "Average Value for measurement at step 15 is 0.24604277732137203 V\n",
      "Sequence loaded with the following segment data \"1,75,0,1,0,222431,2,75,0,1,0,222431\" and the advancement method is COND\n",
      "Average Value for measurement at step 16 is 0.24674609110289053 V\n",
      "Sequence loaded with the following segment data \"1,75,0,1,0,222431,2,75,0,1,0,222431\" and the advancement method is COND\n",
      "Average Value for measurement at step 17 is 0.24568706750185276 V\n",
      "Sequence loaded with the following segment data \"1,75,0,1,0,222431,2,75,0,1,0,222431\" and the advancement method is COND\n",
      "Average Value for measurement at step 18 is 0.24531648082116647 V\n",
      "Sequence loaded with the following segment data \"1,75,0,1,0,222431,2,75,0,1,0,222431\" and the advancement method is COND\n",
      "Average Value for measurement at step 19 is 0.24411420213994756 V\n",
      "Sequence loaded with the following segment data \"1,75,0,1,0,222431,2,75,0,1,0,222431\" and the advancement method is COND\n",
      "Average Value for measurement at step 20 is 0.24330526071056235 V\n",
      "Sequence loaded with the following segment data \"1,75,0,1,0,222431,2,75,0,1,0,222431\" and the advancement method is COND\n",
      "Average Value for measurement at step 21 is 0.2429703862365316 V\n",
      "Sequence loaded with the following segment data \"1,75,0,1,0,222431,2,75,0,1,0,222431\" and the advancement method is COND\n",
      "Average Value for measurement at step 22 is 0.2421515011065179 V\n",
      "Sequence loaded with the following segment data \"1,75,0,1,0,222431,2,75,0,1,0,222431\" and the advancement method is COND\n",
      "Average Value for measurement at step 23 is 0.2411098499716222 V\n",
      "Sequence loaded with the following segment data \"1,75,0,1,0,222431,2,75,0,1,0,222431\" and the advancement method is COND\n",
      "Average Value for measurement at step 24 is 0.24078927198812203 V\n",
      "Sequence loaded with the following segment data \"1,75,0,1,0,222431,2,75,0,1,0,222431\" and the advancement method is COND\n",
      "Average Value for measurement at step 25 is 0.23995769606520942 V\n",
      "Sequence loaded with the following segment data \"1,75,0,1,0,222431,2,75,0,1,0,222431\" and the advancement method is COND\n",
      "Average Value for measurement at step 26 is 0.23969018340147405 V\n",
      "Sequence loaded with the following segment data \"1,75,0,1,0,222431,2,75,0,1,0,222431\" and the advancement method is COND\n",
      "Average Value for measurement at step 27 is 0.23928342022079116 V\n",
      "Sequence loaded with the following segment data \"1,75,0,1,0,222431,2,75,0,1,0,222431\" and the advancement method is COND\n",
      "Average Value for measurement at step 28 is 0.2384011391588452 V\n",
      "Sequence loaded with the following segment data \"1,75,0,1,0,222431,2,75,0,1,0,222431\" and the advancement method is COND\n",
      "Average Value for measurement at step 29 is 0.23717146694357943 V\n",
      "Sequence loaded with the following segment data \"1,75,0,1,0,222431,2,75,0,1,0,222431\" and the advancement method is COND\n",
      "Average Value for measurement at step 30 is 0.23755987103110457 V\n"
     ]
    }
   ],
   "source": [
    "playingtime = 20\n",
    "\n",
    "Diode_Signal, averaged_data = Voltage_Autocorrelation_loop(M8190A,DAQ_Settings1,playingtime,sweeping_run_a_10micro,sweeping_run_b_10micro,PulseScheme_A_10micro['Measurement file Path'],Lock_In_Settings,75)"
   ]
  },
  {
   "cell_type": "code",
   "execution_count": 25,
   "metadata": {},
   "outputs": [
    {
     "data": {
      "image/png": "[encoded data removed]",
      "text/plain": [
       "<Figure size 432x288 with 1 Axes>"
      ]
     },
     "metadata": {
      "needs_background": "light"
     },
     "output_type": "display_data"
    }
   ],
   "source": [
    "fig,ax= plt.subplots()\n",
    "ax.grid(True)\n",
    "for i in range(0,len(Diode_Signal)):\n",
    "    plt.plot(Diode_Signal[i][1],Diode_Signal[i][0],label= 'Step {st}'.format(st = i ))\n",
    "\n",
    "ax.set_ylabel(r'V  [V]')\n",
    "ax.set_xlabel('t  [s]')\n",
    "ax.set_title(r' Diode Signal at Different Steps,  {b} Samples, 10$\\mu$s probe duration'.format(b = len(Diode_Signal[0][1]) ))\n",
    "#ax.legend(bbox_to_anchor=(1.05, 1), loc='upper left', borderaxespad=0.)\n",
    "#ax.legend(loc=0)\n",
    "plt.show()\n",
    "\n",
    "fig.savefig(r'{loc}\\Diode Signal time cstant = {a}, sensitivity {b},{c} daqseconds, 5ms scheme, probe duration 10 micro,31 steps, no legend,6Ghz .jpeg'.format(loc = PulseScheme_A_10micro['Measurement file Path'],a = Lock_In_Settings['Time Constant'], b = Lock_In_Settings['Sensitivity'], c = playingtime),bbox_inches='tight')"
   ]
  },
  {
   "cell_type": "code",
   "execution_count": 26,
   "metadata": {},
   "outputs": [],
   "source": [
    "time_delay = np.linspace(-20,20,31)"
   ]
  },
  {
   "cell_type": "code",
   "execution_count": 28,
   "metadata": {},
   "outputs": [],
   "source": [
    "%matplotlib widget"
   ]
  },
  {
   "cell_type": "code",
   "execution_count": 29,
   "metadata": {
    "scrolled": true
   },
   "outputs": [
    {
     "data": {
      "application/vnd.jupyter.widget-view+json": {
       "model_id": "13dafa6d1cc74462b31ad1f3aea66cef",
       "version_major": 2,
       "version_minor": 0
      },
      "text/plain": [
       "Canvas(toolbar=Toolbar(toolitems=[('Home', 'Reset original view', 'home', 'home'), ('Back', 'Back to previous …"
      ]
     },
     "metadata": {},
     "output_type": "display_data"
    }
   ],
   "source": [
    "#change this to V regime\n",
    "fig,axes = plt.subplots()\n",
    "\n",
    "axes.grid(True)\n",
    "\n",
    "plt.plot(time_delay,averaged_data,label=r'10$\\mu$s Probe Width ',color='red')\n",
    "#plt.plot(tm,pul,label = '{a} samples'.format(a = len(pul)))\n",
    "\n",
    "axes.set_xlabel(r'time delay [$\\mu$s]')\n",
    "axes.set_ylabel(r'Diode Signal [V]')\n",
    "axes.set_title('Auto-Correlation 31 steps ')\n",
    "\n",
    "axes.legend(loc = 0)\n",
    "plt.show()\n",
    "\n",
    "fig.savefig(r'{loc}\\Autocorrelation function 31 steps probes 5ms length tc = {a}, sens {b}, {c}s DAQ 6Ghz.jpeg'.format(loc = PulseScheme_A_10micro['Measurement file Path'],a = Lock_In_Settings['Time Constant'], b = Lock_In_Settings['Sensitivity'], c = playingtime ))"
   ]
  },
  {
   "cell_type": "markdown",
   "metadata": {},
   "source": [
    "# 1 micro"
   ]
  },
  {
   "cell_type": "markdown",
   "metadata": {},
   "source": [
    "## 45mod"
   ]
  },
  {
   "cell_type": "code",
   "execution_count": 7,
   "metadata": {},
   "outputs": [
    {
     "data": {
      "text/plain": [
       "1.375e-06"
      ]
     },
     "execution_count": 7,
     "metadata": {},
     "output_type": "execute_result"
    }
   ],
   "source": [
    "full_cycle = 11e-3\n",
    "loop_number = 50\n",
    "part_cycle = full_cycle / loop_number\n",
    "part_cycle"
   ]
  },
  {
   "cell_type": "code",
   "execution_count": 12,
   "metadata": {},
   "outputs": [
    {
     "data": {
      "text/plain": [
       "1375.0"
      ]
     },
     "execution_count": 12,
     "metadata": {},
     "output_type": "execute_result"
    }
   ],
   "source": [
    "interval = part_cycle * 1e9 #micro\n",
    "interval"
   ]
  },
  {
   "cell_type": "code",
   "execution_count": 2,
   "metadata": {},
   "outputs": [
    {
     "data": {
      "text/plain": [
       "45.45454545454546"
      ]
     },
     "execution_count": 2,
     "metadata": {},
     "output_type": "execute_result"
    }
   ],
   "source": [
    "cycle_time = 11e-3\n",
    "comp_time = cycle_time * 2\n",
    "mod = 1/comp_time\n",
    "mod"
   ]
  },
  {
   "cell_type": "code",
   "execution_count": 9,
   "metadata": {},
   "outputs": [
    {
     "data": {
      "text/plain": [
       "4086"
      ]
     },
     "execution_count": 9,
     "metadata": {},
     "output_type": "execute_result"
    }
   ],
   "source": [
    "samples = int(2972160000 * part_cycle)\n",
    "samples"
   ]
  },
  {
   "cell_type": "code",
   "execution_count": 10,
   "metadata": {},
   "outputs": [
    {
     "data": {
      "text/plain": [
       "85.125"
      ]
     },
     "execution_count": 10,
     "metadata": {},
     "output_type": "execute_result"
    }
   ],
   "source": [
    "samples/48"
   ]
  },
  {
   "cell_type": "code",
   "execution_count": null,
   "metadata": {},
   "outputs": [
    {
     "name": "stdout",
     "output_type": "stream",
     "text": [
      "The factors for 5000 are : \n",
      "1\n",
      "2\n",
      "4\n",
      "5\n",
      "8\n",
      "10\n",
      "20\n",
      "25\n",
      "40\n",
      "50\n",
      "100\n",
      "125\n",
      "200\n",
      "250\n",
      "500\n",
      "625\n",
      "1000\n",
      "1250\n",
      "2500\n",
      "5000\n"
     ]
    }
   ],
   "source": [
    "def print_factors(n):\n",
    "    i = 1\n",
    "    while(i < n+1):\n",
    "        if n % i == 0:\n",
    "            print(i)\n",
    "        i = i + 1\n",
    "\n",
    "number = int(input(\"Enter a number : \"))\n",
    "\n",
    "print(\"The factors for {} are : \".format(number))\n",
    "print_factors(number)"
   ]
  },
  {
   "cell_type": "code",
   "execution_count": 41,
   "metadata": {},
   "outputs": [],
   "source": [
    "loop_1micro = 5000/50"
   ]
  },
  {
   "cell_type": "code",
   "execution_count": 42,
   "metadata": {},
   "outputs": [
    {
     "data": {
      "text/plain": [
       "100.0"
      ]
     },
     "execution_count": 42,
     "metadata": {},
     "output_type": "execute_result"
    }
   ],
   "source": [
    "5000/50"
   ]
  },
  {
   "cell_type": "code",
   "execution_count": 43,
   "metadata": {},
   "outputs": [],
   "source": [
    "sam = int(3072000000*50e-6)"
   ]
  },
  {
   "cell_type": "code",
   "execution_count": 44,
   "metadata": {},
   "outputs": [
    {
     "data": {
      "text/plain": [
       "3200.0"
      ]
     },
     "execution_count": 44,
     "metadata": {},
     "output_type": "execute_result"
    }
   ],
   "source": [
    "sam/48"
   ]
  },
  {
   "cell_type": "code",
   "execution_count": null,
   "metadata": {},
   "outputs": [
    {
     "data": {
      "text/plain": [
       "0.005376344086021506"
      ]
     },
     "metadata": {},
     "output_type": "display_data"
    }
   ],
   "source": [
    "modulation = 100 #Hz \n",
    "comp_time = 1/modulation\n",
    "cycle_time = comp_time/2\n",
    "cycle_time"
   ]
  },
  {
   "cell_type": "markdown",
   "metadata": {},
   "source": []
  },
  {
   "cell_type": "markdown",
   "metadata": {},
   "source": [
    "90Hz"
   ]
  },
  {
   "cell_type": "code",
   "execution_count": 2,
   "metadata": {},
   "outputs": [
    {
     "data": {
      "text/plain": [
       "0.005555555555555556"
      ]
     },
     "execution_count": 2,
     "metadata": {},
     "output_type": "execute_result"
    }
   ],
   "source": [
    "modulation = 90 #Hz \n",
    "comp_time = 1/modulation\n",
    "cycle_time = comp_time/2\n",
    "cycle_time #seconds"
   ]
  },
  {
   "cell_type": "markdown",
   "metadata": {},
   "source": [
    "divide cycle time in N parts"
   ]
  },
  {
   "cell_type": "code",
   "execution_count": 3,
   "metadata": {},
   "outputs": [],
   "source": [
    "cycle_micro = cycle_time *1e6"
   ]
  },
  {
   "cell_type": "code",
   "execution_count": 4,
   "metadata": {},
   "outputs": [
    {
     "data": {
      "text/plain": [
       "5555.555555555556"
      ]
     },
     "execution_count": 4,
     "metadata": {},
     "output_type": "execute_result"
    }
   ],
   "source": [
    "cycle_micro"
   ]
  },
  {
   "cell_type": "code",
   "execution_count": 5,
   "metadata": {},
   "outputs": [],
   "source": [
    "loop_1micro = 750"
   ]
  },
  {
   "cell_type": "code",
   "execution_count": 12,
   "metadata": {},
   "outputs": [],
   "source": [
    "interval = (cycle_micro) /loop_1micro"
   ]
  },
  {
   "cell_type": "code",
   "execution_count": 13,
   "metadata": {},
   "outputs": [
    {
     "data": {
      "text/plain": [
       "7.407407407407407"
      ]
     },
     "execution_count": 13,
     "metadata": {},
     "output_type": "execute_result"
    }
   ],
   "source": [
    "interval"
   ]
  },
  {
   "cell_type": "code",
   "execution_count": 14,
   "metadata": {
    "scrolled": false
   },
   "outputs": [
    {
     "data": {
      "text/plain": [
       "555.5555555555555"
      ]
     },
     "execution_count": 14,
     "metadata": {},
     "output_type": "execute_result"
    }
   ],
   "source": [
    "interval*75"
   ]
  },
  {
   "cell_type": "code",
   "execution_count": 15,
   "metadata": {},
   "outputs": [],
   "source": [
    "samples = int(3072000010 * (interval *1e-6))"
   ]
  },
  {
   "cell_type": "code",
   "execution_count": 16,
   "metadata": {},
   "outputs": [
    {
     "data": {
      "text/plain": [
       "22755"
      ]
     },
     "execution_count": 16,
     "metadata": {},
     "output_type": "execute_result"
    }
   ],
   "source": [
    "samples"
   ]
  },
  {
   "cell_type": "code",
   "execution_count": 17,
   "metadata": {},
   "outputs": [
    {
     "data": {
      "text/plain": [
       "474.0625"
      ]
     },
     "execution_count": 17,
     "metadata": {},
     "output_type": "execute_result"
    }
   ],
   "source": [
    "samples/48"
   ]
  },
  {
   "cell_type": "code",
   "execution_count": 18,
   "metadata": {},
   "outputs": [],
   "source": [
    "sam = Granularity(samples)"
   ]
  },
  {
   "cell_type": "code",
   "execution_count": 19,
   "metadata": {},
   "outputs": [
    {
     "data": {
      "text/plain": [
       "22800"
      ]
     },
     "execution_count": 19,
     "metadata": {},
     "output_type": "execute_result"
    }
   ],
   "source": [
    "sam"
   ]
  },
  {
   "cell_type": "code",
   "execution_count": 20,
   "metadata": {},
   "outputs": [
    {
     "data": {
      "text/plain": [
       "475.0"
      ]
     },
     "execution_count": 20,
     "metadata": {},
     "output_type": "execute_result"
    }
   ],
   "source": [
    "sam/48"
   ]
  },
  {
   "cell_type": "code",
   "execution_count": 21,
   "metadata": {},
   "outputs": [],
   "source": [
    "AWG_Settings_1micro= {\n",
    "    'Visa Resource Name': 'TCPIP0::ibn3-036.ibn-net.kfa-juelich.de::hislip0::INSTR',\n",
    "    'Voltage Amplitude':700,\n",
    "    'Clock Sample Frecuency':3072000000,\n",
    "    'Output_Channel': 1,\n",
    "    'Mode': 'STS',\n",
    "    'Trigger In Threshold' : 1,\n",
    "    'Output Rout': 'DAC', #DAC output rout only has the BNC outputs: Direct Out and (Averaged) Direct Out # DC\n",
    "    'Data Directory': r'D:\\Alejandro\\Pulses\\diode measurements\\Prepared Pulse Schemes CSV\\50,20\\1micro'\n",
    "}"
   ]
  },
  {
   "cell_type": "code",
   "execution_count": 22,
   "metadata": {},
   "outputs": [],
   "source": [
    "M8190A = VisaR(AWG_Settings_1micro,60000)"
   ]
  },
  {
   "cell_type": "code",
   "execution_count": null,
   "metadata": {},
   "outputs": [
    {
     "name": "stdout",
     "output_type": "stream",
     "text": [
      "Instruments Sampling Frecuency set to 1.25760000000000E+08Hz\n",
      "Instruments Direct Out DAC Output route Voltage set to 7.00000000000000E-01Volts\n",
      "AWG_Settings_Dict set to TRIGGERED Mode\n",
      "Trigger In threshold value set to 1.00000000000000E+00V\n"
     ]
    }
   ],
   "source": [
    "Initialization(M8190A,AWG_Settings_1micro)"
   ]
  },
  {
   "cell_type": "code",
   "execution_count": 23,
   "metadata": {},
   "outputs": [],
   "source": [
    "Pump_1micro = {\n",
    "    'Name':'Pump_1micro',\n",
    "    'Amplitude': 50,\n",
    "    'Start time':2,\n",
    "    'End time':2e-10,\n",
    "    'Start Duration':1,\n",
    "    'End Duration':60,\n",
    "    'Sweep time':0,\n",
    "    'Sweep Duration':0\n",
    "}"
   ]
  },
  {
   "cell_type": "code",
   "execution_count": 24,
   "metadata": {},
   "outputs": [],
   "source": [
    "ProbeA_1micro = {\n",
    "    'Name':'ProbeA_1micro',\n",
    "    'Amplitude':20,\n",
    "    'Start time':0,\n",
    "    'End time':4,\n",
    "    'Start Duration':1,\n",
    "    'End Duration':60,\n",
    "    'Sweep time':1,\n",
    "    'Sweep Duration':0\n",
    "}"
   ]
  },
  {
   "cell_type": "code",
   "execution_count": 25,
   "metadata": {},
   "outputs": [],
   "source": [
    "ProbeB_1micro= {\n",
    "    'Name':'ProbeB_1micro',\n",
    "    'Amplitude':0,\n",
    "    'Start time':0,\n",
    "    'End time':12,\n",
    "    'Start Duration':1,\n",
    "    'End Duration':6,\n",
    "    'Sweep time':0,\n",
    "    'Sweep Duration':0\n",
    "}"
   ]
  },
  {
   "cell_type": "code",
   "execution_count": 26,
   "metadata": {},
   "outputs": [],
   "source": [
    "PulseScheme_A_1micro =  {\n",
    "    'Name' : 'PulseScheme_A_1micro',\n",
    "    'Pulse Scheme': [Pump_1micro,ProbeA_1micro],\n",
    "    'Number of repetitions': 1,\n",
    "    'Measurement file Path': r'D:\\Alejandro\\Pulses\\diode measurements\\Autocorrelation measurements\\50,20\\1micro'\n",
    "}"
   ]
  },
  {
   "cell_type": "code",
   "execution_count": 27,
   "metadata": {},
   "outputs": [],
   "source": [
    "PulseScheme_B_1micro =  {\n",
    "    'Name' : 'PulseScheme_B_1micro',\n",
    "    'Pulse Scheme': [ProbeB_1micro,ProbeB_1micro],\n",
    "    'Number of repetitions': 1,\n",
    "    'Measurement file Path': r'D:\\Alejandro\\Pulses\\diode measurements\\Autocorrelation measurements\\50,20\\1micro'\n",
    "}"
   ]
  },
  {
   "cell_type": "code",
   "execution_count": null,
   "metadata": {},
   "outputs": [],
   "source": [
    "93"
   ]
  },
  {
   "cell_type": "code",
   "execution_count": 29,
   "metadata": {},
   "outputs": [
    {
     "data": {
      "image/png": "[encoded data removed]",
      "text/plain": [
       "<Figure size 432x288 with 1 Axes>"
      ]
     },
     "metadata": {
      "needs_background": "light"
     },
     "output_type": "display_data"
    }
   ],
   "source": [
    "step = 30\n",
    "pul1 = Sweep_teil(PulseScheme_A_1micro,30,step,interval,sam)\n",
    "\n",
    "\n",
    "#Plot\n",
    "fig,ax= plt.subplots()\n",
    "ax.grid(True)\n",
    "\n",
    "plt.plot(pul1[1],pul1[0],label= '{b} samples'.format(b = sam),color='orange')\n",
    "\n",
    "ax.set_ylabel('V  [mV]')\n",
    "ax.set_xlabel(r't [$\\mu$s]')\n",
    "ax.set_title('Cycle A at step {a}'.format(a = step )) #Voltage Offset = 3mV, Marker Ampl = 50mV \n",
    "#ax.legend(loc=0)\n",
    "#plt.legend(bbox_to_anchor=(2.05, 1), loc='upper left', borderaxespad=0.)\n",
    "plt.show()\n",
    "\n",
    "fig.savefig(r'{loc}\\Cycle A, Probe width 1micro 90Hz.jpeg'.format(loc = PulseScheme_A_1micro['Measurement file Path']),bbox_inches='tight')"
   ]
  },
  {
   "cell_type": "code",
   "execution_count": 30,
   "metadata": {},
   "outputs": [],
   "source": [
    "sweeping_run_a_1micro = Sweeping_Single_List_File_teil(PulseScheme_A_1micro,30,interval,sam,0,30,AWG_Settings_1micro,'A')[0]"
   ]
  },
  {
   "cell_type": "code",
   "execution_count": 31,
   "metadata": {},
   "outputs": [],
   "source": [
    "sweeping_run_b_1micro = Sweeping_Single_List_File_teil(PulseScheme_B_1micro,30,interval,sam,0,30,AWG_Settings_1micro,'B')[0]"
   ]
  },
  {
   "cell_type": "code",
   "execution_count": 32,
   "metadata": {},
   "outputs": [],
   "source": [
    "#Exporting pickle\n",
    "\n",
    "with open(r\"{dict}\\cycleA_31steps_90Hz_1micro_3072000000.p\".format(dict = PulseScheme_A_1micro['Measurement file Path']), \"wb\") as k:\n",
    "    pickle.dump(sweeping_run_a_1micro, k)\n",
    "\n",
    "\n",
    "with open(r\"{dict}\\cycleB_31steps_90Hz_1micro_3072000000.p\".format(dict = PulseScheme_B_1micro['Measurement file Path']), \"wb\") as h:\n",
    "    pickle.dump(sweeping_run_b_1micro, h)"
   ]
  },
  {
   "cell_type": "code",
   "execution_count": null,
   "metadata": {},
   "outputs": [],
   "source": [
    "#Importing Pickle\n",
    "\n",
    "with open(r\"{dict}\\cycleA_31steps_100Hz_1micro_3072000000.p\".format(dict = PulseScheme_A_1micro['Measurement file Path']), \"rb\") as j:\n",
    "    sweeping_runa_1micro = pickle.load(j)\n",
    "\n",
    "with open(r\"{dict}\\cycleB_31steps_100Hz_1micro_3072000000.p\".format(dict = PulseScheme_A_1micro['Measurement file Path']), \"rb\") as f:\n",
    "    sweeping_runb_1micro= pickle.load(f)"
   ]
  },
  {
   "cell_type": "code",
   "execution_count": null,
   "metadata": {},
   "outputs": [
    {
     "data": {
      "text/plain": [
       "'D:\\\\Alejandro\\\\Pulses\\\\diode measurements\\\\Prepared Pulse Schemes CSV\\\\50,20\\\\1mili\\\\SegmentA_672816_30.csv'"
      ]
     },
     "metadata": {},
     "output_type": "display_data"
    }
   ],
   "source": [
    "sweeping_run_a_1micro['Pulse File Location, at step 30']"
   ]
  },
  {
   "cell_type": "code",
   "execution_count": null,
   "metadata": {},
   "outputs": [
    {
     "data": {
      "text/plain": [
       "'D:\\\\Alejandro\\\\Pulses\\\\diode measurements\\\\Prepared Pulse Schemes CSV\\\\50,20\\\\1mili\\\\SegmentB_672816_30.csv'"
      ]
     },
     "metadata": {},
     "output_type": "display_data"
    }
   ],
   "source": [
    "sweeping_run_b_1micro['Pulse File Location, at step 30']"
   ]
  },
  {
   "cell_type": "code",
   "execution_count": 33,
   "metadata": {},
   "outputs": [
    {
     "data": {
      "text/plain": [
       "750"
      ]
     },
     "execution_count": 33,
     "metadata": {},
     "output_type": "execute_result"
    }
   ],
   "source": [
    "loop_1micro"
   ]
  },
  {
   "cell_type": "code",
   "execution_count": null,
   "metadata": {},
   "outputs": [
    {
     "name": "stdout",
     "output_type": "stream",
     "text": [
      "Sequence loaded with the following segment data \"1,8,0,1,0,1919999,2,8,0,1,0,1919999\" and the advancement method is COND\n"
     ]
    },
    {
     "data": {
      "text/plain": [
       "0"
      ]
     },
     "metadata": {},
     "output_type": "display_data"
    }
   ],
   "source": [
    "Sequence_File(M8190A,sweeping_runa_1micro['Pulse File Location, at step 30'],sweeping_runb_1micro['Pulse File Location, at step 30'],50)"
   ]
  },
  {
   "cell_type": "code",
   "execution_count": 34,
   "metadata": {},
   "outputs": [
    {
     "data": {
      "text/plain": [
       "12"
      ]
     },
     "execution_count": 34,
     "metadata": {},
     "output_type": "execute_result"
    }
   ],
   "source": [
    "M8190A.write('SEQ:DEL:ALL')"
   ]
  },
  {
   "cell_type": "code",
   "execution_count": null,
   "metadata": {},
   "outputs": [
    {
     "name": "stdout",
     "output_type": "stream",
     "text": [
      "Dummy File Loaded and playing\n",
      "Dummy File stopped and erased from AWGs memmory\n"
     ]
    }
   ],
   "source": [
    "Dummy_File(M8190A)"
   ]
  },
  {
   "cell_type": "code",
   "execution_count": 35,
   "metadata": {},
   "outputs": [],
   "source": [
    "Lock_In_Settings = {\n",
    "'Time Constant' : '30ms',\n",
    "'Sensitivity' : '500 microVolts',\n",
    "'Reserve' : 'Normal',\n",
    "'db' : 24,\n",
    "'Modulation': '100Hz'\n",
    "}"
   ]
  },
  {
   "cell_type": "code",
   "execution_count": 36,
   "metadata": {},
   "outputs": [
    {
     "name": "stdout",
     "output_type": "stream",
     "text": [
      "Sequence loaded with the following segment data \"1,750,0,1,0,22799,2,750,0,1,0,22799\" and the advancement method is COND\n",
      "Average Value for measurement at step 0 is 1.777102556560277 V\n",
      "Sequence loaded with the following segment data \"1,750,0,1,0,22799,2,750,0,1,0,22799\" and the advancement method is COND\n",
      "Average Value for measurement at step 1 is 1.7772173350183353 V\n",
      "Sequence loaded with the following segment data \"1,750,0,1,0,22799,2,750,0,1,0,22799\" and the advancement method is COND\n",
      "Average Value for measurement at step 2 is 1.7768625225284647 V\n",
      "Sequence loaded with the following segment data \"1,750,0,1,0,22799,2,750,0,1,0,22799\" and the advancement method is COND\n",
      "Average Value for measurement at step 3 is 1.7770204310002273 V\n",
      "Sequence loaded with the following segment data \"1,750,0,1,0,22799,2,750,0,1,0,22799\" and the advancement method is COND\n",
      "Average Value for measurement at step 4 is 1.7778581305080838 V\n",
      "Sequence loaded with the following segment data \"1,750,0,1,0,22799,2,750,0,1,0,22799\" and the advancement method is COND\n",
      "Average Value for measurement at step 5 is 1.778304042231762 V\n",
      "Sequence loaded with the following segment data \"1,750,0,1,0,22799,2,750,0,1,0,22799\" and the advancement method is COND\n",
      "Average Value for measurement at step 6 is 1.7786325444735875 V\n",
      "Sequence loaded with the following segment data \"1,750,0,1,0,22799,2,750,0,1,0,22799\" and the advancement method is COND\n",
      "Average Value for measurement at step 7 is 1.7792668563686584 V\n",
      "Sequence loaded with the following segment data \"1,750,0,1,0,22799,2,750,0,1,0,22799\" and the advancement method is COND\n",
      "Average Value for measurement at step 8 is 1.8244821006238392 V\n",
      "Sequence loaded with the following segment data \"1,750,0,1,0,22799,2,750,0,1,0,22799\" and the advancement method is COND\n",
      "Average Value for measurement at step 9 is 1.9567228411303252 V\n",
      "Sequence loaded with the following segment data \"1,750,0,1,0,22799,2,750,0,1,0,22799\" and the advancement method is COND\n",
      "Average Value for measurement at step 10 is 2.0918061134320878 V\n",
      "Sequence loaded with the following segment data \"1,750,0,1,0,22799,2,750,0,1,0,22799\" and the advancement method is COND\n",
      "Average Value for measurement at step 11 is 2.2275418259350475 V\n",
      "Sequence loaded with the following segment data \"1,750,0,1,0,22799,2,750,0,1,0,22799\" and the advancement method is COND\n",
      "Average Value for measurement at step 12 is 2.362958708317721 V\n",
      "Sequence loaded with the following segment data \"1,750,0,1,0,22799,2,750,0,1,0,22799\" and the advancement method is COND\n",
      "Average Value for measurement at step 13 is 2.4987478765217643 V\n",
      "Sequence loaded with the following segment data \"1,750,0,1,0,22799,2,750,0,1,0,22799\" and the advancement method is COND\n",
      "Average Value for measurement at step 14 is 2.63355547944743 V\n",
      "Sequence loaded with the following segment data \"1,750,0,1,0,22799,2,750,0,1,0,22799\" and the advancement method is COND\n",
      "Average Value for measurement at step 15 is 2.731128594247543 V\n",
      "Sequence loaded with the following segment data \"1,750,0,1,0,22799,2,750,0,1,0,22799\" and the advancement method is COND\n",
      "Average Value for measurement at step 16 is 2.6325217196458155 V\n",
      "Sequence loaded with the following segment data \"1,750,0,1,0,22799,2,750,0,1,0,22799\" and the advancement method is COND\n",
      "Average Value for measurement at step 17 is 2.497895705036783 V\n",
      "Sequence loaded with the following segment data \"1,750,0,1,0,22799,2,750,0,1,0,22799\" and the advancement method is COND\n",
      "Average Value for measurement at step 18 is 2.362344269286341 V\n",
      "Sequence loaded with the following segment data \"1,750,0,1,0,22799,2,750,0,1,0,22799\" and the advancement method is COND\n",
      "Average Value for measurement at step 19 is 2.2260532282685617 V\n",
      "Sequence loaded with the following segment data \"1,750,0,1,0,22799,2,750,0,1,0,22799\" and the advancement method is COND\n",
      "Average Value for measurement at step 20 is 2.090525461268762 V\n",
      "Sequence loaded with the following segment data \"1,750,0,1,0,22799,2,750,0,1,0,22799\" and the advancement method is COND\n",
      "Average Value for measurement at step 21 is 1.955156159248087 V\n",
      "Sequence loaded with the following segment data \"1,750,0,1,0,22799,2,750,0,1,0,22799\" and the advancement method is COND\n",
      "Average Value for measurement at step 22 is 1.82220762644141 V\n",
      "Sequence loaded with the following segment data \"1,750,0,1,0,22799,2,750,0,1,0,22799\" and the advancement method is COND\n",
      "Average Value for measurement at step 23 is 1.7766094273380886 V\n",
      "Sequence loaded with the following segment data \"1,750,0,1,0,22799,2,750,0,1,0,22799\" and the advancement method is COND\n",
      "Average Value for measurement at step 24 is 1.7759590004211543 V\n",
      "Sequence loaded with the following segment data \"1,750,0,1,0,22799,2,750,0,1,0,22799\" and the advancement method is COND\n",
      "Average Value for measurement at step 25 is 1.775176035627252 V\n",
      "Sequence loaded with the following segment data \"1,750,0,1,0,22799,2,750,0,1,0,22799\" and the advancement method is COND\n",
      "Average Value for measurement at step 26 is 1.775419076544501 V\n",
      "Sequence loaded with the following segment data \"1,750,0,1,0,22799,2,750,0,1,0,22799\" and the advancement method is COND\n",
      "Average Value for measurement at step 27 is 1.7758590214770567 V\n",
      "Sequence loaded with the following segment data \"1,750,0,1,0,22799,2,750,0,1,0,22799\" and the advancement method is COND\n",
      "Average Value for measurement at step 28 is 1.7758513633158848 V\n",
      "Sequence loaded with the following segment data \"1,750,0,1,0,22799,2,750,0,1,0,22799\" and the advancement method is COND\n",
      "Average Value for measurement at step 29 is 1.775505477519013 V\n",
      "Sequence loaded with the following segment data \"1,750,0,1,0,22799,2,750,0,1,0,22799\" and the advancement method is COND\n",
      "Average Value for measurement at step 30 is 1.775399249892882 V\n"
     ]
    }
   ],
   "source": [
    "playingtime = 10\n",
    "\n",
    "Diode_Signal, averaged_data = Voltage_Autocorrelation_loop(M8190A,DAQ_Settings1,playingtime,sweeping_run_a_1micro,sweeping_run_b_1micro,PulseScheme_A_1micro['Measurement file Path'],Lock_In_Settings,750)"
   ]
  },
  {
   "cell_type": "code",
   "execution_count": 37,
   "metadata": {},
   "outputs": [
    {
     "data": {
      "image/png": "[encoded data removed]",
      "text/plain": [
       "<Figure size 432x288 with 1 Axes>"
      ]
     },
     "metadata": {
      "needs_background": "light"
     },
     "output_type": "display_data"
    }
   ],
   "source": [
    "fig,ax= plt.subplots()\n",
    "ax.grid(True)\n",
    "for i in range(0,len(Diode_Signal)):\n",
    "    plt.plot(Diode_Signal[i][1],Diode_Signal[i][0],label= 'Step {st}'.format(st = i ))\n",
    "\n",
    "ax.set_ylabel(r'V  [V]')\n",
    "ax.set_xlabel('t  [s]')\n",
    "ax.set_title(r' Diode Signal at Different Steps,  {b} Samples, 1$\\mu$s probe duration'.format(b = len(Diode_Signal[0][1]) ))\n",
    "#ax.legend(bbox_to_anchor=(1.05, 1), loc='upper left', borderaxespad=0.)\n",
    "#ax.legend(loc=0)\n",
    "plt.show()\n",
    "\n",
    "fig.savefig(r'{loc}\\Diode Signal time cstant = {a}, sensitivity {b},{c} daqseconds, , probe duration 1 micro,31 steps, no legend, .jpeg'.format(loc = PulseScheme_A_1micro['Measurement file Path'],a = Lock_In_Settings['Time Constant'], b = Lock_In_Settings['Sensitivity'], c = playingtime),bbox_inches='tight')"
   ]
  },
  {
   "cell_type": "code",
   "execution_count": 38,
   "metadata": {},
   "outputs": [],
   "source": [
    "time_delay = np.linspace(-2,2,31)"
   ]
  },
  {
   "cell_type": "code",
   "execution_count": 39,
   "metadata": {},
   "outputs": [
    {
     "data": {
      "image/png": "[encoded data removed]",
      "text/plain": [
       "<Figure size 432x288 with 1 Axes>"
      ]
     },
     "metadata": {
      "needs_background": "light"
     },
     "output_type": "display_data"
    }
   ],
   "source": [
    "#change this to V regime\n",
    "fig,axes = plt.subplots()\n",
    "\n",
    "axes.grid(True)\n",
    "\n",
    "plt.plot(time_delay,averaged_data,label=r'1$\\mu$s Probe Width ',color='purple')\n",
    "#plt.plot(tm,pul,label = '{a} samples'.format(a = len(pul)))\n",
    "\n",
    "axes.set_xlabel(r'time delay [$\\mu$s]')\n",
    "axes.set_ylabel(r'Diode Signal [V]')\n",
    "axes.set_title('Auto-Correlation 31 steps ')\n",
    "\n",
    "axes.legend(loc = 0)\n",
    "plt.show()\n",
    "\n",
    "fig.savefig(r'{loc}\\Autocorrelation function 31 steps probes  length tc = {a}, sens {b}, {c}s DAQ .jpeg'.format(loc = PulseScheme_A_1micro['Measurement file Path'],a = Lock_In_Settings['Time Constant'], b = Lock_In_Settings['Sensitivity'], c = playingtime ))"
   ]
  },
  {
   "cell_type": "code",
   "execution_count": null,
   "metadata": {},
   "outputs": [],
   "source": []
  },
  {
   "cell_type": "markdown",
   "metadata": {},
   "source": [
    "# 100nano"
   ]
  },
  {
   "cell_type": "markdown",
   "metadata": {},
   "source": [
    "3 times appart"
   ]
  },
  {
   "cell_type": "code",
   "execution_count": 7,
   "metadata": {},
   "outputs": [
    {
     "data": {
      "text/plain": [
       "1.375e-06"
      ]
     },
     "execution_count": 7,
     "metadata": {},
     "output_type": "execute_result"
    }
   ],
   "source": [
    "full_cycle = 11e-3\n",
    "loop_number = 8000\n",
    "part_cycle = full_cycle / loop_number\n",
    "part_cycle"
   ]
  },
  {
   "cell_type": "code",
   "execution_count": 12,
   "metadata": {},
   "outputs": [
    {
     "data": {
      "text/plain": [
       "1375.0"
      ]
     },
     "execution_count": 12,
     "metadata": {},
     "output_type": "execute_result"
    }
   ],
   "source": [
    "interval = part_cycle * 1e9 #micro\n",
    "interval"
   ]
  },
  {
   "cell_type": "code",
   "execution_count": 2,
   "metadata": {},
   "outputs": [
    {
     "data": {
      "text/plain": [
       "45.45454545454546"
      ]
     },
     "execution_count": 2,
     "metadata": {},
     "output_type": "execute_result"
    }
   ],
   "source": [
    "cycle_time = 11e-3\n",
    "comp_time = cycle_time * 2\n",
    "mod = 1/comp_time\n",
    "mod"
   ]
  },
  {
   "cell_type": "code",
   "execution_count": 9,
   "metadata": {},
   "outputs": [
    {
     "data": {
      "text/plain": [
       "4086"
      ]
     },
     "execution_count": 9,
     "metadata": {},
     "output_type": "execute_result"
    }
   ],
   "source": [
    "samples = int(2972160000 * part_cycle)\n",
    "samples"
   ]
  },
  {
   "cell_type": "code",
   "execution_count": 10,
   "metadata": {},
   "outputs": [
    {
     "data": {
      "text/plain": [
       "85.125"
      ]
     },
     "execution_count": 10,
     "metadata": {},
     "output_type": "execute_result"
    }
   ],
   "source": [
    "samples/48"
   ]
  },
  {
   "cell_type": "code",
   "execution_count": null,
   "metadata": {},
   "outputs": [],
   "source": []
  },
  {
   "cell_type": "code",
   "execution_count": 13,
   "metadata": {
    "scrolled": true
   },
   "outputs": [
    {
     "data": {
      "text/plain": [
       "4128"
      ]
     },
     "execution_count": 13,
     "metadata": {},
     "output_type": "execute_result"
    }
   ],
   "source": [
    "sam = Granularity(samples)\n",
    "sam"
   ]
  },
  {
   "cell_type": "code",
   "execution_count": null,
   "metadata": {},
   "outputs": [],
   "source": []
  },
  {
   "cell_type": "code",
   "execution_count": 30,
   "metadata": {},
   "outputs": [
    {
     "data": {
      "text/plain": [
       "11.0"
      ]
     },
     "execution_count": 30,
     "metadata": {},
     "output_type": "execute_result"
    }
   ],
   "source": [
    "interval = cycle_time*1e3\n",
    "interval #mili"
   ]
  },
  {
   "cell_type": "code",
   "execution_count": null,
   "metadata": {},
   "outputs": [],
   "source": []
  },
  {
   "cell_type": "markdown",
   "metadata": {},
   "source": [
    "90Hz"
   ]
  },
  {
   "cell_type": "code",
   "execution_count": 2,
   "metadata": {},
   "outputs": [
    {
     "data": {
      "text/plain": [
       "0.005555555555555556"
      ]
     },
     "execution_count": 2,
     "metadata": {},
     "output_type": "execute_result"
    }
   ],
   "source": [
    "modulation = 90 #Hz \n",
    "comp_time = 1/modulation\n",
    "cycle_time = comp_time/2\n",
    "cycle_time #seconds"
   ]
  },
  {
   "cell_type": "markdown",
   "metadata": {},
   "source": [
    "divide cycle time in N parts"
   ]
  },
  {
   "cell_type": "code",
   "execution_count": 15,
   "metadata": {},
   "outputs": [],
   "source": [
    "cycle_nano = cycle_time *1e9"
   ]
  },
  {
   "cell_type": "code",
   "execution_count": 16,
   "metadata": {},
   "outputs": [
    {
     "data": {
      "text/plain": [
       "5555555.555555556"
      ]
     },
     "execution_count": 16,
     "metadata": {},
     "output_type": "execute_result"
    }
   ],
   "source": [
    "cycle_nano"
   ]
  },
  {
   "cell_type": "code",
   "execution_count": 7,
   "metadata": {},
   "outputs": [
    {
     "data": {
      "text/plain": [
       "694.4444444444445"
      ]
     },
     "execution_count": 7,
     "metadata": {},
     "output_type": "execute_result"
    }
   ],
   "source": [
    "cycle_nano/8000"
   ]
  },
  {
   "cell_type": "code",
   "execution_count": 8,
   "metadata": {},
   "outputs": [],
   "source": [
    "loop_100nano = 8000"
   ]
  },
  {
   "cell_type": "code",
   "execution_count": 10,
   "metadata": {},
   "outputs": [],
   "source": [
    "interval = (cycle_nano) /loop_100nano"
   ]
  },
  {
   "cell_type": "code",
   "execution_count": 17,
   "metadata": {},
   "outputs": [
    {
     "data": {
      "text/plain": [
       "694.4444444444445"
      ]
     },
     "execution_count": 17,
     "metadata": {},
     "output_type": "execute_result"
    }
   ],
   "source": [
    "interval"
   ]
  },
  {
   "cell_type": "code",
   "execution_count": 12,
   "metadata": {
    "scrolled": false
   },
   "outputs": [
    {
     "data": {
      "text/plain": [
       "5555555.555555556"
      ]
     },
     "execution_count": 12,
     "metadata": {},
     "output_type": "execute_result"
    }
   ],
   "source": [
    "interval*loop_100nano"
   ]
  },
  {
   "cell_type": "code",
   "execution_count": 18,
   "metadata": {},
   "outputs": [],
   "source": [
    "samples = int(2972160000 * (interval *1e-9))"
   ]
  },
  {
   "cell_type": "code",
   "execution_count": 19,
   "metadata": {},
   "outputs": [
    {
     "data": {
      "text/plain": [
       "2133"
      ]
     },
     "execution_count": 19,
     "metadata": {},
     "output_type": "execute_result"
    }
   ],
   "source": [
    "samples"
   ]
  },
  {
   "cell_type": "code",
   "execution_count": 20,
   "metadata": {},
   "outputs": [
    {
     "data": {
      "text/plain": [
       "44.4375"
      ]
     },
     "execution_count": 20,
     "metadata": {},
     "output_type": "execute_result"
    }
   ],
   "source": [
    "samples/48"
   ]
  },
  {
   "cell_type": "code",
   "execution_count": 21,
   "metadata": {},
   "outputs": [],
   "source": [
    "sam = Granularity(samples)"
   ]
  },
  {
   "cell_type": "code",
   "execution_count": 22,
   "metadata": {},
   "outputs": [
    {
     "data": {
      "text/plain": [
       "2160"
      ]
     },
     "execution_count": 22,
     "metadata": {},
     "output_type": "execute_result"
    }
   ],
   "source": [
    "sam"
   ]
  },
  {
   "cell_type": "code",
   "execution_count": 2,
   "metadata": {},
   "outputs": [],
   "source": [
    "Sr = 2972160000\n",
    "sam = 2064\n",
    "\n",
    "tim = sam/Sr"
   ]
  },
  {
   "cell_type": "code",
   "execution_count": 4,
   "metadata": {},
   "outputs": [
    {
     "data": {
      "text/plain": [
       "0.005555555555555556"
      ]
     },
     "execution_count": 4,
     "metadata": {},
     "output_type": "execute_result"
    }
   ],
   "source": [
    "tim"
   ]
  },
  {
   "cell_type": "code",
   "execution_count": 3,
   "metadata": {},
   "outputs": [],
   "source": [
    "interval = tim*1e9 #nano"
   ]
  },
  {
   "cell_type": "code",
   "execution_count": 4,
   "metadata": {},
   "outputs": [
    {
     "data": {
      "text/plain": [
       "694.4444444444445"
      ]
     },
     "execution_count": 4,
     "metadata": {},
     "output_type": "execute_result"
    }
   ],
   "source": [
    "interval"
   ]
  },
  {
   "cell_type": "code",
   "execution_count": null,
   "metadata": {},
   "outputs": [],
   "source": []
  },
  {
   "cell_type": "code",
   "execution_count": 7,
   "metadata": {},
   "outputs": [],
   "source": [
    "AWG_Settings_100nano= {\n",
    "    'Visa Resource Name': 'TCPIP0::ibn3-036.ibn-net.kfa-juelich.de::hislip0::INSTR',\n",
    "    'Voltage Amplitude':700,\n",
    "    'Clock Sample Frecuency':2972160000,\n",
    "    'Output_Channel': 1,\n",
    "    'Mode': 'STS',\n",
    "    'Trigger In Threshold' : 1,\n",
    "    'Output Rout': 'DC', #DAC output rout only has the BNC outputs: Direct Out and (Averaged) Direct Out # DC\n",
    "    'Data Directory': r'D:\\Alejandro\\Pulses\\diode measurements\\Prepared Pulse Schemes CSV\\50,20\\100nano'\n",
    "}"
   ]
  },
  {
   "cell_type": "code",
   "execution_count": 29,
   "metadata": {},
   "outputs": [
    {
     "data": {
      "text/plain": [
       "21"
      ]
     },
     "execution_count": 29,
     "metadata": {},
     "output_type": "execute_result"
    }
   ],
   "source": [
    "M8190A.write('FREQ:RAST 2972160000')"
   ]
  },
  {
   "cell_type": "code",
   "execution_count": 16,
   "metadata": {},
   "outputs": [],
   "source": [
    "M8190A = VisaR(AWG_Settings_100nano,60000)"
   ]
  },
  {
   "cell_type": "code",
   "execution_count": null,
   "metadata": {},
   "outputs": [
    {
     "name": "stdout",
     "output_type": "stream",
     "text": [
      "Instruments Sampling Frecuency set to 1.25760000000000E+08Hz\n",
      "Instruments Direct Out DAC Output route Voltage set to 7.00000000000000E-01Volts\n",
      "AWG_Settings_Dict set to TRIGGERED Mode\n",
      "Trigger In threshold value set to 1.00000000000000E+00V\n"
     ]
    }
   ],
   "source": [
    "Initialization(M8190A,AWG_Settings_100nano)"
   ]
  },
  {
   "cell_type": "code",
   "execution_count": 30,
   "metadata": {},
   "outputs": [],
   "source": [
    "Pump_100nano = {\n",
    "    'Name':'Pump_100nano',\n",
    "    'Amplitude': 50,\n",
    "    'Start time':500,\n",
    "    'End time':2e-10,\n",
    "    'Start Duration':100,\n",
    "    'End Duration':60,\n",
    "    'Sweep time':0,\n",
    "    'Sweep Duration':0\n",
    "}"
   ]
  },
  {
   "cell_type": "code",
   "execution_count": 31,
   "metadata": {},
   "outputs": [],
   "source": [
    "ProbeA_100nano = {\n",
    "    'Name':'ProbeA_100nano',\n",
    "    'Amplitude':20,\n",
    "    'Start time':100,\n",
    "    'End time':900,\n",
    "    'Start Duration':100,\n",
    "    'End Duration':60,\n",
    "    'Sweep time':1,\n",
    "    'Sweep Duration':0\n",
    "}"
   ]
  },
  {
   "cell_type": "code",
   "execution_count": 32,
   "metadata": {},
   "outputs": [],
   "source": [
    "ProbeB_100nano= {\n",
    "    'Name':'ProbeB_100nano',\n",
    "    'Amplitude':0,\n",
    "    'Start time':0,\n",
    "    'End time':12,\n",
    "    'Start Duration':1,\n",
    "    'End Duration':6,\n",
    "    'Sweep time':0,\n",
    "    'Sweep Duration':0\n",
    "}"
   ]
  },
  {
   "cell_type": "code",
   "execution_count": 33,
   "metadata": {},
   "outputs": [],
   "source": [
    "PulseScheme_A_100nano =  {\n",
    "    'Name' : 'PulseScheme_A_100nano',\n",
    "    'Pulse Scheme': [Pump_100nano,ProbeA_100nano],\n",
    "    'Number of repetitions': 1,\n",
    "    'Measurement file Path': r'D:\\Alejandro\\Pulses\\diode measurements\\Autocorrelation measurements\\50,20\\100nano'\n",
    "}"
   ]
  },
  {
   "cell_type": "code",
   "execution_count": 34,
   "metadata": {},
   "outputs": [],
   "source": [
    "PulseScheme_B_100nano =  {\n",
    "    'Name' : 'PulseScheme_B_100nano',\n",
    "    'Pulse Scheme': [ProbeB_100nano,ProbeB_100nano],\n",
    "    'Number of repetitions': 1,\n",
    "    'Measurement file Path': r'D:\\Alejandro\\Pulses\\diode measurements\\Autocorrelation measurements\\50,20\\100nano'\n",
    "}"
   ]
  },
  {
   "cell_type": "code",
   "execution_count": null,
   "metadata": {},
   "outputs": [],
   "source": [
    "93"
   ]
  },
  {
   "cell_type": "code",
   "execution_count": 25,
   "metadata": {},
   "outputs": [
    {
     "data": {
      "image/png": "[encoded data removed]",
      "text/plain": [
       "<Figure size 432x288 with 1 Axes>"
      ]
     },
     "metadata": {
      "needs_background": "light"
     },
     "output_type": "display_data"
    }
   ],
   "source": [
    "step = 0\n",
    "pul1 = Sweep_teil(PulseScheme_A_100nano,30,step,interval,sam)\n",
    "\n",
    "\n",
    "#Plot\n",
    "fig,ax= plt.subplots()\n",
    "ax.grid(True)\n",
    "\n",
    "plt.plot(pul1[1],pul1[0],label= '{b} samples'.format(b = sam),color='red')\n",
    "\n",
    "ax.set_ylabel('V  [mV]')\n",
    "ax.set_xlabel(r't [ns]')\n",
    "ax.set_title('Cycle A at step {a}'.format(a = step )) #Voltage Offset = 3mV, Marker Ampl = 50mV \n",
    "#ax.legend(loc=0)\n",
    "#plt.legend(bbox_to_anchor=(2.05, 1), loc='upper left', borderaxespad=0.)\n",
    "plt.show()\n",
    "\n",
    "fig.savefig(r'{loc}\\Cycle A, Probe width 100 nano 45 Hz mod , 3 appart, {a} step.jpeg'.format(loc = PulseScheme_A_100nano['Measurement file Path'], a = step),bbox_inches='tight')"
   ]
  },
  {
   "cell_type": "code",
   "execution_count": 26,
   "metadata": {},
   "outputs": [],
   "source": [
    "sweeping_run_a_100nano = Sweeping_Single_List_File_teil(PulseScheme_A_100nano,30,interval,sam,0,30,AWG_Settings_100nano,'A')[0]"
   ]
  },
  {
   "cell_type": "code",
   "execution_count": 27,
   "metadata": {},
   "outputs": [],
   "source": [
    "sweeping_run_b_100nano = Sweeping_Single_List_File_teil(PulseScheme_B_100nano,30,interval,sam,0,30,AWG_Settings_100nano,'B')[0]"
   ]
  },
  {
   "cell_type": "code",
   "execution_count": 28,
   "metadata": {},
   "outputs": [],
   "source": [
    "#Exporting pickle\n",
    "\n",
    "with open(r\"{dict}\\cycleA_31steps_45Hz_100nano_2972160000.p\".format(dict = PulseScheme_A_100nano['Measurement file Path']), \"wb\") as k:\n",
    "    pickle.dump(sweeping_run_a_100nano, k)\n",
    "\n",
    "\n",
    "with open(r\"{dict}\\cycleB_31steps_45Hz_100nano_2972160000.p\".format(dict = PulseScheme_B_100nano['Measurement file Path']), \"wb\") as h:\n",
    "    pickle.dump(sweeping_run_b_100nano, h)"
   ]
  },
  {
   "cell_type": "code",
   "execution_count": 39,
   "metadata": {},
   "outputs": [],
   "source": [
    "#Importing Pickle\n",
    "\n",
    "with open(r\"{dict}\\cycleA_31steps_45Hz_100nano_2972160000.p\".format(dict = PulseScheme_A_100nano['Measurement file Path']), \"rb\") as j:\n",
    "    sweeping_runa_100nano = pickle.load(j)\n",
    "\n",
    "with open(r\"{dict}\\cycleB_31steps_45Hz_100nano_2972160000.p\".format(dict = PulseScheme_A_100nano['Measurement file Path']), \"rb\") as f:\n",
    "    sweeping_runb_100nano= pickle.load(f)"
   ]
  },
  {
   "cell_type": "code",
   "execution_count": 40,
   "metadata": {},
   "outputs": [
    {
     "data": {
      "text/plain": [
       "'D:\\\\Alejandro\\\\Pulses\\\\diode measurements\\\\Prepared Pulse Schemes CSV\\\\50,20\\\\100nano\\\\SegmentA_4128_30.csv'"
      ]
     },
     "execution_count": 40,
     "metadata": {},
     "output_type": "execute_result"
    }
   ],
   "source": [
    "sweeping_runa_100nano['Pulse File Location, at step 30']"
   ]
  },
  {
   "cell_type": "code",
   "execution_count": null,
   "metadata": {},
   "outputs": [
    {
     "data": {
      "text/plain": [
       "'D:\\\\Alejandro\\\\Pulses\\\\diode measurements\\\\Prepared Pulse Schemes CSV\\\\50,20\\\\1mili\\\\SegmentB_672816_30.csv'"
      ]
     },
     "metadata": {},
     "output_type": "display_data"
    }
   ],
   "source": [
    "sweeping_run_b_100nano['Pulse File Location, at step 30']"
   ]
  },
  {
   "cell_type": "code",
   "execution_count": 36,
   "metadata": {},
   "outputs": [
    {
     "data": {
      "text/plain": [
       "8000"
      ]
     },
     "execution_count": 36,
     "metadata": {},
     "output_type": "execute_result"
    }
   ],
   "source": [
    "loop_100nano"
   ]
  },
  {
   "cell_type": "code",
   "execution_count": 18,
   "metadata": {
    "scrolled": true
   },
   "outputs": [
    {
     "name": "stdout",
     "output_type": "stream",
     "text": [
      "Sequence loaded with the following segment data \"1,8000,0,1,0,4127,2,8000,0,1,0,4127\" and the advancement method is COND\n"
     ]
    },
    {
     "data": {
      "text/plain": [
       "0"
      ]
     },
     "execution_count": 18,
     "metadata": {},
     "output_type": "execute_result"
    }
   ],
   "source": [
    "Sequence_File(M8190A,sweeping_runa_100nano['Pulse File Location, at step 30'],sweeping_runb_100nano['Pulse File Location, at step 30'],8000)"
   ]
  },
  {
   "cell_type": "code",
   "execution_count": 47,
   "metadata": {
    "scrolled": true
   },
   "outputs": [
    {
     "data": {
      "text/plain": [
       "12"
      ]
     },
     "execution_count": 47,
     "metadata": {},
     "output_type": "execute_result"
    }
   ],
   "source": [
    "M8190A.write('SEQ:DEL:ALL')"
   ]
  },
  {
   "cell_type": "code",
   "execution_count": 36,
   "metadata": {
    "scrolled": false
   },
   "outputs": [
    {
     "name": "stdout",
     "output_type": "stream",
     "text": [
      "Dummy File Loaded and playing\n",
      "Dummy File stopped and erased from AWGs memmory\n"
     ]
    }
   ],
   "source": [
    "Dummy_File(M8190A)"
   ]
  },
  {
   "cell_type": "code",
   "execution_count": 32,
   "metadata": {},
   "outputs": [],
   "source": [
    "Lock_In_Settings = {\n",
    "'Time Constant' : '100ms',\n",
    "'Sensitivity' : '500 microVolts',\n",
    "'Reserve' : 'Normal',\n",
    "'db' : 24,\n",
    "'Modulation': '45Hz'\n",
    "}"
   ]
  },
  {
   "cell_type": "code",
   "execution_count": 48,
   "metadata": {},
   "outputs": [
    {
     "name": "stdout",
     "output_type": "stream",
     "text": [
      "Sequence loaded with the following segment data \"1,8000,0,1,0,4127,2,8000,0,1,0,4127\" and the advancement method is COND\n",
      "Average Value for measurement at step 0 is 0.7377616609721178 V\n",
      "Sequence loaded with the following segment data \"1,8000,0,1,0,4127,2,8000,0,1,0,4127\" and the advancement method is COND\n",
      "Average Value for measurement at step 1 is 0.7383131692163535 V\n",
      "Sequence loaded with the following segment data \"1,8000,0,1,0,4127,2,8000,0,1,0,4127\" and the advancement method is COND\n",
      "Average Value for measurement at step 2 is 0.739724363285737 V\n",
      "Sequence loaded with the following segment data \"1,8000,0,1,0,4127,2,8000,0,1,0,4127\" and the advancement method is COND\n",
      "Average Value for measurement at step 3 is 0.7382875748089949 V\n",
      "Sequence loaded with the following segment data \"1,8000,0,1,0,4127,2,8000,0,1,0,4127\" and the advancement method is COND\n",
      "Average Value for measurement at step 4 is 0.7389417121843237 V\n",
      "Sequence loaded with the following segment data \"1,8000,0,1,0,4127,2,8000,0,1,0,4127\" and the advancement method is COND\n",
      "Average Value for measurement at step 5 is 0.740228010180471 V\n",
      "Sequence loaded with the following segment data \"1,8000,0,1,0,4127,2,8000,0,1,0,4127\" and the advancement method is COND\n",
      "Average Value for measurement at step 6 is 0.7398749118043393 V\n",
      "Sequence loaded with the following segment data \"1,8000,0,1,0,4127,2,8000,0,1,0,4127\" and the advancement method is COND\n",
      "Average Value for measurement at step 7 is 0.7407436707786156 V\n",
      "Sequence loaded with the following segment data \"1,8000,0,1,0,4127,2,8000,0,1,0,4127\" and the advancement method is COND\n",
      "Average Value for measurement at step 8 is 0.7422311450910085 V\n",
      "Sequence loaded with the following segment data \"1,8000,0,1,0,4127,2,8000,0,1,0,4127\" and the advancement method is COND\n",
      "Average Value for measurement at step 9 is 0.7478147308498524 V\n",
      "Sequence loaded with the following segment data \"1,8000,0,1,0,4127,2,8000,0,1,0,4127\" and the advancement method is COND\n",
      "Average Value for measurement at step 10 is 0.7639882116103607 V\n",
      "Sequence loaded with the following segment data \"1,8000,0,1,0,4127,2,8000,0,1,0,4127\" and the advancement method is COND\n",
      "Average Value for measurement at step 11 is 0.7709278756745114 V\n",
      "Sequence loaded with the following segment data \"1,8000,0,1,0,4127,2,8000,0,1,0,4127\" and the advancement method is COND\n",
      "Average Value for measurement at step 12 is 0.8380864697152065 V\n",
      "Sequence loaded with the following segment data \"1,8000,0,1,0,4127,2,8000,0,1,0,4127\" and the advancement method is COND\n",
      "Average Value for measurement at step 13 is 0.9185805735221262 V\n",
      "Sequence loaded with the following segment data \"1,8000,0,1,0,4127,2,8000,0,1,0,4127\" and the advancement method is COND\n",
      "Average Value for measurement at step 14 is 1.0470784438982064 V\n",
      "Sequence loaded with the following segment data \"1,8000,0,1,0,4127,2,8000,0,1,0,4127\" and the advancement method is COND\n",
      "Average Value for measurement at step 15 is 1.0907587006516761 V\n",
      "Sequence loaded with the following segment data \"1,8000,0,1,0,4127,2,8000,0,1,0,4127\" and the advancement method is COND\n",
      "Average Value for measurement at step 16 is 1.0516339026225816 V\n",
      "Sequence loaded with the following segment data \"1,8000,0,1,0,4127,2,8000,0,1,0,4127\" and the advancement method is COND\n",
      "Average Value for measurement at step 17 is 0.9390926892718162 V\n",
      "Sequence loaded with the following segment data \"1,8000,0,1,0,4127,2,8000,0,1,0,4127\" and the advancement method is COND\n",
      "Average Value for measurement at step 18 is 0.8422830441529976 V\n",
      "Sequence loaded with the following segment data \"1,8000,0,1,0,4127,2,8000,0,1,0,4127\" and the advancement method is COND\n",
      "Average Value for measurement at step 19 is 0.7741913467552325 V\n",
      "Sequence loaded with the following segment data \"1,8000,0,1,0,4127,2,8000,0,1,0,4127\" and the advancement method is COND\n",
      "Average Value for measurement at step 20 is 0.7645649080260072 V\n",
      "Sequence loaded with the following segment data \"1,8000,0,1,0,4127,2,8000,0,1,0,4127\" and the advancement method is COND\n",
      "Average Value for measurement at step 21 is 0.7641739113381755 V\n",
      "Sequence loaded with the following segment data \"1,8000,0,1,0,4127,2,8000,0,1,0,4127\" and the advancement method is COND\n",
      "Average Value for measurement at step 22 is 0.764148162162432 V\n",
      "Sequence loaded with the following segment data \"1,8000,0,1,0,4127,2,8000,0,1,0,4127\" and the advancement method is COND\n",
      "Average Value for measurement at step 23 is 0.7641521860756947 V\n",
      "Sequence loaded with the following segment data \"1,8000,0,1,0,4127,2,8000,0,1,0,4127\" and the advancement method is COND\n",
      "Average Value for measurement at step 24 is 0.7641490907577987 V\n",
      "Sequence loaded with the following segment data \"1,8000,0,1,0,4127,2,8000,0,1,0,4127\" and the advancement method is COND\n",
      "Average Value for measurement at step 25 is 0.7641695198559103 V\n",
      "Sequence loaded with the following segment data \"1,8000,0,1,0,4127,2,8000,0,1,0,4127\" and the advancement method is COND\n",
      "Average Value for measurement at step 26 is 0.7642116935622688 V\n",
      "Sequence loaded with the following segment data \"1,8000,0,1,0,4127,2,8000,0,1,0,4127\" and the advancement method is COND\n",
      "Average Value for measurement at step 27 is 0.764171570504027 V\n",
      "Sequence loaded with the following segment data \"1,8000,0,1,0,4127,2,8000,0,1,0,4127\" and the advancement method is COND\n",
      "Average Value for measurement at step 28 is 0.7644985714942345 V\n",
      "Sequence loaded with the following segment data \"1,8000,0,1,0,4127,2,8000,0,1,0,4127\" and the advancement method is COND\n",
      "Average Value for measurement at step 29 is 0.7648789280270063 V\n",
      "Sequence loaded with the following segment data \"1,8000,0,1,0,4127,2,8000,0,1,0,4127\" and the advancement method is COND\n",
      "Average Value for measurement at step 30 is 0.7652100690053445 V\n"
     ]
    }
   ],
   "source": [
    "playingtime = 20\n",
    "\n",
    "Diode_Signal, averaged_data = Voltage_Autocorrelation_loop(M8190A,DAQ_Settings1,playingtime,sweeping_runa_100nano,sweeping_runb_100nano,PulseScheme_A_100nano['Measurement file Path'],Lock_In_Settings,8000)"
   ]
  },
  {
   "cell_type": "code",
   "execution_count": 50,
   "metadata": {},
   "outputs": [
    {
     "data": {
      "image/png": "[encoded data removed]",
      "text/plain": [
       "<Figure size 432x288 with 1 Axes>"
      ]
     },
     "metadata": {
      "needs_background": "light"
     },
     "output_type": "display_data"
    }
   ],
   "source": [
    "fig,ax= plt.subplots()\n",
    "ax.grid(True)\n",
    "for i in range(0,len(Diode_Signal)):\n",
    "    plt.plot(Diode_Signal[i][1],Diode_Signal[i][0],label= 'Step {st}'.format(st = i ))\n",
    "\n",
    "ax.set_ylabel(r'V  [V]')\n",
    "ax.set_xlabel('t  [s]')\n",
    "ax.set_title(r' Diode Signal at Different Steps,  {b} Samples, 100ns probe duration'.format(b = len(Diode_Signal[0][1]) ))\n",
    "#ax.legend(bbox_to_anchor=(1.05, 1), loc='upper left', borderaxespad=0.)\n",
    "#ax.legend(loc=0)\n",
    "plt.show()\n",
    "\n",
    "fig.savefig(r'{loc}\\Diode Signal time cstant = {a}, sensitivity {b},{c} daqseconds, , probe duration 100 nano,31 steps, 45 Hz no legend, .jpeg'.format(loc = PulseScheme_A_100nano['Measurement file Path'],a = Lock_In_Settings['Time Constant'], b = Lock_In_Settings['Sensitivity'], c = playingtime),bbox_inches='tight')"
   ]
  },
  {
   "cell_type": "code",
   "execution_count": 51,
   "metadata": {},
   "outputs": [],
   "source": [
    "time_delay = np.linspace(-400,400,31)"
   ]
  },
  {
   "cell_type": "code",
   "execution_count": 26,
   "metadata": {},
   "outputs": [],
   "source": [
    "%matplotlib widget"
   ]
  },
  {
   "cell_type": "code",
   "execution_count": 54,
   "metadata": {},
   "outputs": [
    {
     "data": {
      "image/png": "[encoded data removed]",
      "text/plain": [
       "<Figure size 432x288 with 1 Axes>"
      ]
     },
     "metadata": {
      "needs_background": "light"
     },
     "output_type": "display_data"
    }
   ],
   "source": [
    "#change this to V regime\n",
    "fig,axes = plt.subplots()\n",
    "\n",
    "axes.grid(True)\n",
    "\n",
    "plt.plot(time_delay,averaged_data,label=r'100 ns Probe Width ',color='grey')\n",
    "#plt.plot(tm,pul,label = '{a} samples'.format(a = len(pul)))\n",
    "\n",
    "axes.set_xlabel(r'time delay [ns]')\n",
    "axes.set_ylabel(r'Diode Signal [V]')\n",
    "axes.set_title('Auto-Correlation 31 steps ')\n",
    "\n",
    "axes.legend(loc = 0)\n",
    "plt.show()\n",
    "\n",
    "fig.savefig(r'{loc}\\Autocorrelation function 31 steps 100nano 45Hz length tc = {a}, sens {b}, {c}s DAQ .jpeg'.format(loc = PulseScheme_A_100nano['Measurement file Path'],a = Lock_In_Settings['Time Constant'], b = Lock_In_Settings['Sensitivity'], c = playingtime ))"
   ]
  },
  {
   "cell_type": "code",
   "execution_count": null,
   "metadata": {},
   "outputs": [],
   "source": []
  },
  {
   "cell_type": "markdown",
   "metadata": {},
   "source": [
    "# 10 Nano"
   ]
  },
  {
   "cell_type": "markdown",
   "metadata": {},
   "source": [
    "90Hz"
   ]
  },
  {
   "cell_type": "code",
   "execution_count": 2,
   "metadata": {},
   "outputs": [
    {
     "data": {
      "text/plain": [
       "0.005555555555555556"
      ]
     },
     "execution_count": 2,
     "metadata": {},
     "output_type": "execute_result"
    }
   ],
   "source": [
    "modulation = 90 #Hz \n",
    "comp_time = 1/modulation\n",
    "cycle_time = comp_time/2\n",
    "cycle_time #seconds"
   ]
  },
  {
   "cell_type": "markdown",
   "metadata": {},
   "source": [
    "divide cycle time in N parts"
   ]
  },
  {
   "cell_type": "code",
   "execution_count": 4,
   "metadata": {},
   "outputs": [],
   "source": [
    "cycle_nano = cycle_time *1e9"
   ]
  },
  {
   "cell_type": "code",
   "execution_count": 5,
   "metadata": {},
   "outputs": [
    {
     "data": {
      "text/plain": [
       "5555555.555555556"
      ]
     },
     "execution_count": 5,
     "metadata": {},
     "output_type": "execute_result"
    }
   ],
   "source": [
    "cycle_nano"
   ]
  },
  {
   "cell_type": "code",
   "execution_count": 6,
   "metadata": {},
   "outputs": [
    {
     "data": {
      "text/plain": [
       "111.11111111111111"
      ]
     },
     "execution_count": 6,
     "metadata": {},
     "output_type": "execute_result"
    }
   ],
   "source": [
    "loop_10nano = 50000\n",
    "\n",
    "cycle_nano/loop_10nano"
   ]
  },
  {
   "cell_type": "code",
   "execution_count": 57,
   "metadata": {},
   "outputs": [],
   "source": []
  },
  {
   "cell_type": "code",
   "execution_count": 7,
   "metadata": {},
   "outputs": [],
   "source": [
    "interval = (cycle_nano) /loop_10nano"
   ]
  },
  {
   "cell_type": "code",
   "execution_count": 14,
   "metadata": {},
   "outputs": [
    {
     "data": {
      "text/plain": [
       "111.11111111111111"
      ]
     },
     "execution_count": 14,
     "metadata": {},
     "output_type": "execute_result"
    }
   ],
   "source": [
    "interval"
   ]
  },
  {
   "cell_type": "code",
   "execution_count": 9,
   "metadata": {
    "scrolled": false
   },
   "outputs": [
    {
     "data": {
      "text/plain": [
       "5555555.555555556"
      ]
     },
     "execution_count": 9,
     "metadata": {},
     "output_type": "execute_result"
    }
   ],
   "source": [
    "interval*loop_10nano"
   ]
  },
  {
   "cell_type": "code",
   "execution_count": 10,
   "metadata": {},
   "outputs": [],
   "source": [
    "samples = int(3.02375e9 * (interval *1e-9))"
   ]
  },
  {
   "cell_type": "code",
   "execution_count": 11,
   "metadata": {},
   "outputs": [
    {
     "data": {
      "text/plain": [
       "335"
      ]
     },
     "execution_count": 11,
     "metadata": {},
     "output_type": "execute_result"
    }
   ],
   "source": [
    "samples"
   ]
  },
  {
   "cell_type": "code",
   "execution_count": 12,
   "metadata": {},
   "outputs": [],
   "source": [
    "sam = Granularity(samples)"
   ]
  },
  {
   "cell_type": "code",
   "execution_count": 13,
   "metadata": {},
   "outputs": [
    {
     "data": {
      "text/plain": [
       "336"
      ]
     },
     "execution_count": 13,
     "metadata": {},
     "output_type": "execute_result"
    }
   ],
   "source": [
    "sam"
   ]
  },
  {
   "cell_type": "code",
   "execution_count": 117,
   "metadata": {},
   "outputs": [],
   "source": [
    "interval = 1.344e-7"
   ]
  },
  {
   "cell_type": "code",
   "execution_count": null,
   "metadata": {},
   "outputs": [],
   "source": [
    "1.1111e-7"
   ]
  },
  {
   "cell_type": "code",
   "execution_count": 165,
   "metadata": {},
   "outputs": [
    {
     "data": {
      "text/plain": [
       "341"
      ]
     },
     "execution_count": 165,
     "metadata": {},
     "output_type": "execute_result"
    }
   ],
   "source": [
    "samples"
   ]
  },
  {
   "cell_type": "code",
   "execution_count": null,
   "metadata": {},
   "outputs": [],
   "source": []
  },
  {
   "cell_type": "code",
   "execution_count": 106,
   "metadata": {},
   "outputs": [
    {
     "data": {
      "text/plain": [
       "4.729166666666667"
      ]
     },
     "execution_count": 106,
     "metadata": {},
     "output_type": "execute_result"
    }
   ],
   "source": [
    "samples/48"
   ]
  },
  {
   "cell_type": "code",
   "execution_count": 111,
   "metadata": {},
   "outputs": [],
   "source": [
    "sam =336 #2nd option"
   ]
  },
  {
   "cell_type": "code",
   "execution_count": 112,
   "metadata": {},
   "outputs": [
    {
     "data": {
      "text/plain": [
       "336"
      ]
     },
     "execution_count": 112,
     "metadata": {},
     "output_type": "execute_result"
    }
   ],
   "source": [
    "sam"
   ]
  },
  {
   "cell_type": "code",
   "execution_count": 114,
   "metadata": {},
   "outputs": [
    {
     "data": {
      "text/plain": [
       "7.0"
      ]
     },
     "execution_count": 114,
     "metadata": {},
     "output_type": "execute_result"
    }
   ],
   "source": [
    "sam/48"
   ]
  },
  {
   "cell_type": "code",
   "execution_count": null,
   "metadata": {},
   "outputs": [],
   "source": [
    "1.25\n",
    "320"
   ]
  },
  {
   "cell_type": "code",
   "execution_count": null,
   "metadata": {},
   "outputs": [],
   "source": []
  },
  {
   "cell_type": "markdown",
   "metadata": {},
   "source": [
    "50000 gives 80 mod"
   ]
  },
  {
   "cell_type": "markdown",
   "metadata": {},
   "source": [
    "## 3 time separation"
   ]
  },
  {
   "cell_type": "code",
   "execution_count": 37,
   "metadata": {
    "scrolled": true
   },
   "outputs": [
    {
     "data": {
      "text/plain": [
       "2.1999999999999998e-07"
      ]
     },
     "execution_count": 37,
     "metadata": {},
     "output_type": "execute_result"
    }
   ],
   "source": [
    "full_cycle = 11e-3\n",
    "loop_number = 50000\n",
    "part_cycle = full_cycle / loop_number\n",
    "part_cycle"
   ]
  },
  {
   "cell_type": "code",
   "execution_count": 38,
   "metadata": {},
   "outputs": [
    {
     "data": {
      "text/plain": [
       "219.99999999999997"
      ]
     },
     "execution_count": 38,
     "metadata": {},
     "output_type": "execute_result"
    }
   ],
   "source": [
    "interval = part_cycle * 1e9 #micro\n",
    "interval"
   ]
  },
  {
   "cell_type": "code",
   "execution_count": 39,
   "metadata": {},
   "outputs": [
    {
     "data": {
      "text/plain": [
       "0.011"
      ]
     },
     "execution_count": 39,
     "metadata": {},
     "output_type": "execute_result"
    }
   ],
   "source": [
    "part_cycle * loop_number"
   ]
  },
  {
   "cell_type": "code",
   "execution_count": 2,
   "metadata": {},
   "outputs": [
    {
     "data": {
      "text/plain": [
       "45.45454545454546"
      ]
     },
     "execution_count": 2,
     "metadata": {},
     "output_type": "execute_result"
    }
   ],
   "source": [
    "cycle_time = 11e-3\n",
    "comp_time = cycle_time * 2\n",
    "mod = 1/comp_time\n",
    "mod"
   ]
  },
  {
   "cell_type": "code",
   "execution_count": 40,
   "metadata": {},
   "outputs": [
    {
     "data": {
      "text/plain": [
       "665"
      ]
     },
     "execution_count": 40,
     "metadata": {},
     "output_type": "execute_result"
    }
   ],
   "source": [
    "samples = int(3024000000 * part_cycle)\n",
    "samples"
   ]
  },
  {
   "cell_type": "code",
   "execution_count": 41,
   "metadata": {},
   "outputs": [
    {
     "data": {
      "text/plain": [
       "13.854166666666666"
      ]
     },
     "execution_count": 41,
     "metadata": {},
     "output_type": "execute_result"
    }
   ],
   "source": [
    "samples/48"
   ]
  },
  {
   "cell_type": "code",
   "execution_count": null,
   "metadata": {},
   "outputs": [],
   "source": []
  },
  {
   "cell_type": "code",
   "execution_count": 42,
   "metadata": {
    "scrolled": true
   },
   "outputs": [
    {
     "data": {
      "text/plain": [
       "672"
      ]
     },
     "execution_count": 42,
     "metadata": {},
     "output_type": "execute_result"
    }
   ],
   "source": [
    "sam = Granularity(samples)\n",
    "sam"
   ]
  },
  {
   "cell_type": "code",
   "execution_count": 11,
   "metadata": {},
   "outputs": [],
   "source": [
    "Sr = 3024000000\n",
    "sam = 336\n",
    "\n",
    "tim = sam/Sr"
   ]
  },
  {
   "cell_type": "code",
   "execution_count": 12,
   "metadata": {},
   "outputs": [
    {
     "data": {
      "text/plain": [
       "1.1111111111111111e-07"
      ]
     },
     "execution_count": 12,
     "metadata": {},
     "output_type": "execute_result"
    }
   ],
   "source": [
    "tim"
   ]
  },
  {
   "cell_type": "code",
   "execution_count": 13,
   "metadata": {},
   "outputs": [],
   "source": [
    "interval = tim*1e9 #nano"
   ]
  },
  {
   "cell_type": "code",
   "execution_count": 14,
   "metadata": {},
   "outputs": [
    {
     "data": {
      "text/plain": [
       "111.11111111111111"
      ]
     },
     "execution_count": 14,
     "metadata": {},
     "output_type": "execute_result"
    }
   ],
   "source": [
    "interval"
   ]
  },
  {
   "cell_type": "code",
   "execution_count": 21,
   "metadata": {},
   "outputs": [],
   "source": [
    "AWG_Settings_10nano= {\n",
    "    'Visa Resource Name': 'TCPIP0::ibn3-036.ibn-net.kfa-juelich.de::hislip0::INSTR',\n",
    "    'Voltage Amplitude':700,\n",
    "    'Clock Sample Frecuency':3024000000,\n",
    "    'Output_Channel': 1,\n",
    "    'Mode': 'STS',\n",
    "    'Trigger In Threshold' : 1,\n",
    "    'Output Rout': 'DC', #DAC output rout only has the BNC outputs: Direct Out and (Averaged) Direct Out # DC\n",
    "    'Data Directory': r'D:\\Alejandro\\Pulses\\diode measurements\\Prepared Pulse Schemes CSV\\50,20\\10nano'\n",
    "}"
   ]
  },
  {
   "cell_type": "code",
   "execution_count": 22,
   "metadata": {},
   "outputs": [],
   "source": [
    "M8190A = VisaR(AWG_Settings_10nano,60000)"
   ]
  },
  {
   "cell_type": "code",
   "execution_count": 151,
   "metadata": {},
   "outputs": [
    {
     "name": "stdout",
     "output_type": "stream",
     "text": [
      "Instruments Sampling Frecuency set to 3.02375000000000E+09Hz\n",
      "Instruments Direct Out DAC Output route Voltage set to 7.00000000000000E-01Volts\n",
      "AWG_Settings_Dict set to TRIGGERED Mode\n",
      "Trigger In threshold value set to 1.00000000000000E+00V\n"
     ]
    }
   ],
   "source": [
    "Initialization(M8190A,AWG_Settings_10nano)"
   ]
  },
  {
   "cell_type": "code",
   "execution_count": 23,
   "metadata": {},
   "outputs": [
    {
     "data": {
      "text/plain": [
       "21"
      ]
     },
     "execution_count": 23,
     "metadata": {},
     "output_type": "execute_result"
    }
   ],
   "source": [
    "M8190A.write('FREQ:RAST 3024000000')"
   ]
  },
  {
   "cell_type": "code",
   "execution_count": 43,
   "metadata": {},
   "outputs": [],
   "source": [
    "Pump_10nano = {\n",
    "    'Name':'Pump_10nano',\n",
    "    'Amplitude': 50,\n",
    "    'Start time':50,\n",
    "    'End time':2e-10,\n",
    "    'Start Duration':10,\n",
    "    'End Duration':60,\n",
    "    'Sweep time':0,\n",
    "    'Sweep Duration':0\n",
    "}"
   ]
  },
  {
   "cell_type": "code",
   "execution_count": 44,
   "metadata": {},
   "outputs": [],
   "source": [
    "ProbeA_10nano = {\n",
    "    'Name':'ProbeA_10nano',\n",
    "    'Amplitude':20,\n",
    "    'Start time':10,\n",
    "    'End time':90,\n",
    "    'Start Duration':10,\n",
    "    'End Duration':60,\n",
    "    'Sweep time':1,\n",
    "    'Sweep Duration':0\n",
    "}"
   ]
  },
  {
   "cell_type": "code",
   "execution_count": 45,
   "metadata": {},
   "outputs": [],
   "source": [
    "ProbeB_10nano= {\n",
    "    'Name':'ProbeB_10nano',\n",
    "    'Amplitude':0,\n",
    "    'Start time':0,\n",
    "    'End time':12,\n",
    "    'Start Duration':1,\n",
    "    'End Duration':6,\n",
    "    'Sweep time':0,\n",
    "    'Sweep Duration':0\n",
    "}"
   ]
  },
  {
   "cell_type": "code",
   "execution_count": 46,
   "metadata": {},
   "outputs": [],
   "source": [
    "PulseScheme_A_10nano =  {\n",
    "    'Name' : 'PulseScheme_A_10nano',\n",
    "    'Pulse Scheme': [Pump_10nano,ProbeA_10nano],\n",
    "    'Number of repetitions': 1,\n",
    "    'Measurement file Path': r'D:\\Alejandro\\Pulses\\diode measurements\\Autocorrelation measurements\\50,20\\10nano'\n",
    "}"
   ]
  },
  {
   "cell_type": "code",
   "execution_count": 47,
   "metadata": {},
   "outputs": [],
   "source": [
    "PulseScheme_B_10nano =  {\n",
    "    'Name' : 'PulseScheme_B_10nano',\n",
    "    'Pulse Scheme': [ProbeB_10nano,ProbeB_10nano],\n",
    "    'Number of repetitions': 1,\n",
    "    'Measurement file Path': r'D:\\Alejandro\\Pulses\\diode measurements\\Autocorrelation measurements\\50,20\\10nano'\n",
    "}"
   ]
  },
  {
   "cell_type": "code",
   "execution_count": null,
   "metadata": {},
   "outputs": [],
   "source": [
    "93"
   ]
  },
  {
   "cell_type": "code",
   "execution_count": 135,
   "metadata": {},
   "outputs": [],
   "source": [
    "interval = 111"
   ]
  },
  {
   "cell_type": "code",
   "execution_count": null,
   "metadata": {},
   "outputs": [],
   "source": [
    "111"
   ]
  },
  {
   "cell_type": "code",
   "execution_count": 48,
   "metadata": {},
   "outputs": [
    {
     "data": {
      "text/plain": [
       "672"
      ]
     },
     "execution_count": 48,
     "metadata": {},
     "output_type": "execute_result"
    }
   ],
   "source": [
    "sam"
   ]
  },
  {
   "cell_type": "code",
   "execution_count": 50,
   "metadata": {},
   "outputs": [
    {
     "data": {
      "image/png": "[encoded data removed]",
      "text/plain": [
       "<Figure size 432x288 with 1 Axes>"
      ]
     },
     "metadata": {
      "needs_background": "light"
     },
     "output_type": "display_data"
    }
   ],
   "source": [
    "step = 0\n",
    "pul1 = Sweep_teil(PulseScheme_A_10nano,30,step,interval,sam)\n",
    "\n",
    "\n",
    "#Plot\n",
    "fig,ax= plt.subplots()\n",
    "ax.grid(True)\n",
    "\n",
    "plt.plot(pul1[1],pul1[0],label= '{b} samples'.format(b = sam),color='red')\n",
    "\n",
    "ax.set_ylabel('V  [mV]')\n",
    "ax.set_xlabel(r't [ns]')\n",
    "ax.set_title('Cycle A at step {a}'.format(a = step )) #Voltage Offset = 3mV, Marker Ampl = 50mV \n",
    "#ax.legend(loc=0)\n",
    "#plt.legend(bbox_to_anchor=(2.05, 1), loc='upper left', borderaxespad=0.)\n",
    "plt.show()\n",
    "\n",
    "fig.savefig(r'{loc}\\Cycle A, Probe width 10nano, {a} step, 45 Hz.jpeg'.format(a = step , loc = PulseScheme_A_10nano['Measurement file Path']),bbox_inches='tight')"
   ]
  },
  {
   "cell_type": "code",
   "execution_count": 51,
   "metadata": {},
   "outputs": [],
   "source": [
    "sweeping_run_a_10nano = Sweeping_Single_List_File_teil(PulseScheme_A_10nano,30,interval,sam,0,30,AWG_Settings_10nano,'A')[0]"
   ]
  },
  {
   "cell_type": "code",
   "execution_count": 52,
   "metadata": {},
   "outputs": [],
   "source": [
    "sweeping_run_b_10nano = Sweeping_Single_List_File_teil(PulseScheme_B_10nano,30,interval,sam,0,30,AWG_Settings_10nano,'B')[0]"
   ]
  },
  {
   "cell_type": "code",
   "execution_count": 53,
   "metadata": {},
   "outputs": [],
   "source": [
    "#Exporting pickle\n",
    "\n",
    "with open(r\"{dict}\\cycleA_31steps_45Hz_10nano_.p\".format(dict = PulseScheme_A_10nano['Measurement file Path']), \"wb\") as k:\n",
    "    pickle.dump(sweeping_run_a_10nano, k)\n",
    "\n",
    "\n",
    "with open(r\"{dict}\\cycleB_31steps_45Hz_10nano_.p\".format(dict = PulseScheme_B_10nano['Measurement file Path']), \"wb\") as h:\n",
    "    pickle.dump(sweeping_run_b_10nano, h)"
   ]
  },
  {
   "cell_type": "code",
   "execution_count": null,
   "metadata": {},
   "outputs": [],
   "source": [
    "#Importing Pickle\n",
    "\n",
    "with open(r\"{dict}\\cycleA_31steps_93Hz_10nano_.p\".format(dict = PulseScheme_A_10nano['Measurement file Path']), \"rb\") as j:\n",
    "    sweeping_runa_10nano = pickle.load(j)\n",
    "\n",
    "with open(r\"{dict}\\cycleB_31steps_93Hz_10nano_.p\".format(dict = PulseScheme_A_10nano['Measurement file Path']), \"rb\") as f:\n",
    "    sweeping_runb_10nano= pickle.load(f)"
   ]
  },
  {
   "cell_type": "code",
   "execution_count": null,
   "metadata": {},
   "outputs": [
    {
     "data": {
      "text/plain": [
       "'D:\\\\Alejandro\\\\Pulses\\\\diode measurements\\\\Prepared Pulse Schemes CSV\\\\50,20\\\\1mili\\\\SegmentA_672816_30.csv'"
      ]
     },
     "metadata": {},
     "output_type": "display_data"
    }
   ],
   "source": [
    "sweeping_run_a_10nano['Pulse File Location, at step 30']"
   ]
  },
  {
   "cell_type": "code",
   "execution_count": null,
   "metadata": {},
   "outputs": [
    {
     "data": {
      "text/plain": [
       "'D:\\\\Alejandro\\\\Pulses\\\\diode measurements\\\\Prepared Pulse Schemes CSV\\\\50,20\\\\1mili\\\\SegmentB_672816_30.csv'"
      ]
     },
     "metadata": {},
     "output_type": "display_data"
    }
   ],
   "source": [
    "sweeping_run_b_10nano['Pulse File Location, at step 30']"
   ]
  },
  {
   "cell_type": "code",
   "execution_count": 94,
   "metadata": {},
   "outputs": [
    {
     "data": {
      "text/plain": [
       "50000"
      ]
     },
     "execution_count": 94,
     "metadata": {},
     "output_type": "execute_result"
    }
   ],
   "source": [
    "loop_10nano"
   ]
  },
  {
   "cell_type": "code",
   "execution_count": null,
   "metadata": {},
   "outputs": [
    {
     "name": "stdout",
     "output_type": "stream",
     "text": [
      "Sequence loaded with the following segment data \"1,8,0,1,0,1919999,2,8,0,1,0,1919999\" and the advancement method is COND\n"
     ]
    },
    {
     "data": {
      "text/plain": [
       "0"
      ]
     },
     "metadata": {},
     "output_type": "display_data"
    }
   ],
   "source": [
    "Sequence_File(M8190A,sweeping_runa_10nano['Pulse File Location, at step 30'],sweeping_runb_10nano['Pulse File Location, at step 30'],5000)"
   ]
  },
  {
   "cell_type": "code",
   "execution_count": 68,
   "metadata": {
    "scrolled": true
   },
   "outputs": [
    {
     "data": {
      "text/plain": [
       "12"
      ]
     },
     "execution_count": 68,
     "metadata": {},
     "output_type": "execute_result"
    }
   ],
   "source": [
    "M8190A.write('SEQ:DEL:ALL')"
   ]
  },
  {
   "cell_type": "code",
   "execution_count": 55,
   "metadata": {},
   "outputs": [
    {
     "name": "stdout",
     "output_type": "stream",
     "text": [
      "Dummy File Loaded and playing\n",
      "Dummy File stopped and erased from AWGs memmory\n"
     ]
    }
   ],
   "source": [
    "Dummy_File(M8190A)"
   ]
  },
  {
   "cell_type": "code",
   "execution_count": 69,
   "metadata": {},
   "outputs": [],
   "source": [
    "Lock_In_Settings = {\n",
    "'Time Constant' : '10ms',\n",
    "'Sensitivity' : '200 microVolts',\n",
    "'Reserve' : 'Normal',\n",
    "'db' : 24,\n",
    "'Modulation': '45Hz'\n",
    "}"
   ]
  },
  {
   "cell_type": "code",
   "execution_count": 70,
   "metadata": {
    "scrolled": true
   },
   "outputs": [
    {
     "name": "stdout",
     "output_type": "stream",
     "text": [
      "Sequence loaded with the following segment data \"1,50000,0,1,0,671,2,50000,0,1,0,671\" and the advancement method is COND\n",
      "Average Value for measurement at step 0 is 0.7805378128136736 V\n",
      "Sequence loaded with the following segment data \"1,50000,0,1,0,671,2,50000,0,1,0,671\" and the advancement method is COND\n",
      "Average Value for measurement at step 1 is 0.7897865842474963 V\n",
      "Sequence loaded with the following segment data \"1,50000,0,1,0,671,2,50000,0,1,0,671\" and the advancement method is COND\n",
      "Average Value for measurement at step 2 is 0.7934343391868712 V\n",
      "Sequence loaded with the following segment data \"1,50000,0,1,0,671,2,50000,0,1,0,671\" and the advancement method is COND\n",
      "Average Value for measurement at step 3 is 0.7952477893478984 V\n",
      "Sequence loaded with the following segment data \"1,50000,0,1,0,671,2,50000,0,1,0,671\" and the advancement method is COND\n",
      "Average Value for measurement at step 4 is 0.7898492838731554 V\n",
      "Sequence loaded with the following segment data \"1,50000,0,1,0,671,2,50000,0,1,0,671\" and the advancement method is COND\n",
      "Average Value for measurement at step 5 is 0.7931474612993072 V\n",
      "Sequence loaded with the following segment data \"1,50000,0,1,0,671,2,50000,0,1,0,671\" and the advancement method is COND\n",
      "Average Value for measurement at step 6 is 0.7964456000173418 V\n",
      "Sequence loaded with the following segment data \"1,50000,0,1,0,671,2,50000,0,1,0,671\" and the advancement method is COND\n",
      "Average Value for measurement at step 7 is 0.7994716409292307 V\n",
      "Sequence loaded with the following segment data \"1,50000,0,1,0,671,2,50000,0,1,0,671\" and the advancement method is COND\n",
      "Average Value for measurement at step 8 is 0.8107780834290478 V\n",
      "Sequence loaded with the following segment data \"1,50000,0,1,0,671,2,50000,0,1,0,671\" and the advancement method is COND\n",
      "Average Value for measurement at step 9 is 0.8155447959025183 V\n",
      "Sequence loaded with the following segment data \"1,50000,0,1,0,671,2,50000,0,1,0,671\" and the advancement method is COND\n",
      "Average Value for measurement at step 10 is 0.823625955816565 V\n",
      "Sequence loaded with the following segment data \"1,50000,0,1,0,671,2,50000,0,1,0,671\" and the advancement method is COND\n",
      "Average Value for measurement at step 11 is 0.8302593774281772 V\n",
      "Sequence loaded with the following segment data \"1,50000,0,1,0,671,2,50000,0,1,0,671\" and the advancement method is COND\n",
      "Average Value for measurement at step 12 is 0.8294604564456624 V\n",
      "Sequence loaded with the following segment data \"1,50000,0,1,0,671,2,50000,0,1,0,671\" and the advancement method is COND\n",
      "Average Value for measurement at step 13 is 0.8360514142374984 V\n",
      "Sequence loaded with the following segment data \"1,50000,0,1,0,671,2,50000,0,1,0,671\" and the advancement method is COND\n",
      "Average Value for measurement at step 14 is 0.8396841571408069 V\n",
      "Sequence loaded with the following segment data \"1,50000,0,1,0,671,2,50000,0,1,0,671\" and the advancement method is COND\n",
      "Average Value for measurement at step 15 is 0.8517090043530695 V\n",
      "Sequence loaded with the following segment data \"1,50000,0,1,0,671,2,50000,0,1,0,671\" and the advancement method is COND\n",
      "Average Value for measurement at step 16 is 0.8494026826773395 V\n",
      "Sequence loaded with the following segment data \"1,50000,0,1,0,671,2,50000,0,1,0,671\" and the advancement method is COND\n",
      "Average Value for measurement at step 17 is 0.8433939734983904 V\n",
      "Sequence loaded with the following segment data \"1,50000,0,1,0,671,2,50000,0,1,0,671\" and the advancement method is COND\n",
      "Average Value for measurement at step 18 is 0.8363712960834493 V\n",
      "Sequence loaded with the following segment data \"1,50000,0,1,0,671,2,50000,0,1,0,671\" and the advancement method is COND\n",
      "Average Value for measurement at step 19 is 0.8199814508742336 V\n",
      "Sequence loaded with the following segment data \"1,50000,0,1,0,671,2,50000,0,1,0,671\" and the advancement method is COND\n",
      "Average Value for measurement at step 20 is 0.8140158828918845 V\n",
      "Sequence loaded with the following segment data \"1,50000,0,1,0,671,2,50000,0,1,0,671\" and the advancement method is COND\n",
      "Average Value for measurement at step 21 is 0.8081406209296258 V\n",
      "Sequence loaded with the following segment data \"1,50000,0,1,0,671,2,50000,0,1,0,671\" and the advancement method is COND\n",
      "Average Value for measurement at step 22 is 0.8036864582431734 V\n",
      "Sequence loaded with the following segment data \"1,50000,0,1,0,671,2,50000,0,1,0,671\" and the advancement method is COND\n",
      "Average Value for measurement at step 23 is 0.8066179759400333 V\n",
      "Sequence loaded with the following segment data \"1,50000,0,1,0,671,2,50000,0,1,0,671\" and the advancement method is COND\n",
      "Average Value for measurement at step 24 is 0.8026265632477806 V\n",
      "Sequence loaded with the following segment data \"1,50000,0,1,0,671,2,50000,0,1,0,671\" and the advancement method is COND\n",
      "Average Value for measurement at step 25 is 0.798835127533956 V\n",
      "Sequence loaded with the following segment data \"1,50000,0,1,0,671,2,50000,0,1,0,671\" and the advancement method is COND\n",
      "Average Value for measurement at step 26 is 0.7963210715462518 V\n",
      "Sequence loaded with the following segment data \"1,50000,0,1,0,671,2,50000,0,1,0,671\" and the advancement method is COND\n",
      "Average Value for measurement at step 27 is 0.7869485453482491 V\n",
      "Sequence loaded with the following segment data \"1,50000,0,1,0,671,2,50000,0,1,0,671\" and the advancement method is COND\n",
      "Average Value for measurement at step 28 is 0.7842727396065393 V\n",
      "Sequence loaded with the following segment data \"1,50000,0,1,0,671,2,50000,0,1,0,671\" and the advancement method is COND\n",
      "Average Value for measurement at step 29 is 0.7823037497588733 V\n",
      "Sequence loaded with the following segment data \"1,50000,0,1,0,671,2,50000,0,1,0,671\" and the advancement method is COND\n",
      "Average Value for measurement at step 30 is 0.7870042609484929 V\n"
     ]
    }
   ],
   "source": [
    "playingtime = 20\n",
    "\n",
    "Diode_Signal, averaged_data = Voltage_Autocorrelation_loop(M8190A,DAQ_Settings1,playingtime,sweeping_run_a_10nano,sweeping_run_b_10nano,PulseScheme_A_10nano['Measurement file Path'],Lock_In_Settings,50000)"
   ]
  },
  {
   "cell_type": "code",
   "execution_count": 71,
   "metadata": {},
   "outputs": [
    {
     "data": {
      "image/png": "[encoded data removed]",
      "text/plain": [
       "<Figure size 432x288 with 1 Axes>"
      ]
     },
     "metadata": {
      "needs_background": "light"
     },
     "output_type": "display_data"
    }
   ],
   "source": [
    "fig,ax= plt.subplots()\n",
    "ax.grid(True)\n",
    "for i in range(0,len(Diode_Signal)):\n",
    "    plt.plot(Diode_Signal[i][1],Diode_Signal[i][0],label= 'Step {st}'.format(st = i ))\n",
    "\n",
    "ax.set_ylabel(r'V  [V]')\n",
    "ax.set_xlabel('t  [s]')\n",
    "ax.set_title(r' Diode Signal at Different Steps,  {b} Samples, 10ns probe duration'.format(b = len(Diode_Signal[0][1]) ))\n",
    "#ax.legend(bbox_to_anchor=(1.05, 1), loc='upper left', borderaxespad=0.)\n",
    "#ax.legend(loc=0)\n",
    "plt.show()\n",
    "\n",
    "fig.savefig(r'{loc}\\Diode Signal time cstant = {a}, sensitivity {b},{c} daqseconds, , probe duration 10 nano,31 steps, no legend, {g} modulation .jpeg'.format(g = Lock_In_Settings['Modulation'],loc = PulseScheme_A_10nano['Measurement file Path'],a = Lock_In_Settings['Time Constant'], b = Lock_In_Settings['Sensitivity'], c = playingtime),bbox_inches='tight')"
   ]
  },
  {
   "cell_type": "code",
   "execution_count": 72,
   "metadata": {},
   "outputs": [],
   "source": [
    "time_delay = np.linspace(-40,40,31)"
   ]
  },
  {
   "cell_type": "code",
   "execution_count": 76,
   "metadata": {},
   "outputs": [],
   "source": [
    "%matplotlib inline"
   ]
  },
  {
   "cell_type": "code",
   "execution_count": 77,
   "metadata": {},
   "outputs": [
    {
     "data": {
      "image/png": "[encoded data removed]",
      "text/plain": [
       "<Figure size 432x288 with 1 Axes>"
      ]
     },
     "metadata": {
      "needs_background": "light"
     },
     "output_type": "display_data"
    }
   ],
   "source": [
    "#change this to V regime\n",
    "fig,axes = plt.subplots()\n",
    "\n",
    "axes.grid(True)\n",
    "\n",
    "plt.plot(time_delay,averaged_data,label=r'10 ns Probe Width ',color='black')\n",
    "#plt.plot(tm,pul,label = '{a} samples'.format(a = len(pul)))\n",
    "\n",
    "axes.set_xlabel(r'time delay [ns]')\n",
    "axes.set_ylabel(r'Diode Signal [V]')\n",
    "axes.set_title('Auto-Correlation 31 steps ')\n",
    "\n",
    "axes.legend(loc = 0)\n",
    "plt.show()\n",
    "\n",
    "fig.savefig(r'{loc}\\Autocorrelation function 31 steps probes  length tc = {a}, sens {b}, {c}s DAQ, {g} modulation .jpeg'.format( g = Lock_In_Settings['Modulation'], loc = PulseScheme_A_10nano['Measurement file Path'],a = Lock_In_Settings['Time Constant'], b = Lock_In_Settings['Sensitivity'], c = playingtime ))"
   ]
  },
  {
   "cell_type": "code",
   "execution_count": null,
   "metadata": {},
   "outputs": [],
   "source": []
  },
  {
   "cell_type": "markdown",
   "metadata": {},
   "source": [
    "# 1 nano"
   ]
  },
  {
   "cell_type": "code",
   "execution_count": null,
   "metadata": {},
   "outputs": [],
   "source": [
    "125000000"
   ]
  },
  {
   "cell_type": "code",
   "execution_count": null,
   "metadata": {},
   "outputs": [
    {
     "data": {
      "text/plain": [
       "100.0"
      ]
     },
     "metadata": {},
     "output_type": "display_data"
    }
   ],
   "source": [
    "1/0.01"
   ]
  },
  {
   "cell_type": "code",
   "execution_count": null,
   "metadata": {},
   "outputs": [
    {
     "data": {
      "text/plain": [
       "0.011"
      ]
     },
     "metadata": {},
     "output_type": "display_data"
    }
   ],
   "source": [
    "0.0055*2"
   ]
  },
  {
   "cell_type": "code",
   "execution_count": null,
   "metadata": {},
   "outputs": [
    {
     "data": {
      "text/plain": [
       "93.45794392523365"
      ]
     },
     "metadata": {},
     "output_type": "display_data"
    }
   ],
   "source": [
    "1/(5.35e-3*2)"
   ]
  },
  {
   "cell_type": "code",
   "execution_count": null,
   "metadata": {},
   "outputs": [
    {
     "data": {
      "text/plain": [
       "0.00535"
      ]
     },
     "metadata": {},
     "output_type": "display_data"
    }
   ],
   "source": [
    "5.35e-3"
   ]
  },
  {
   "cell_type": "code",
   "execution_count": null,
   "metadata": {},
   "outputs": [
    {
     "data": {
      "text/plain": [
       "0.005376344086021506"
      ]
     },
     "metadata": {},
     "output_type": "display_data"
    }
   ],
   "source": [
    "modulation = 93 #Hz \n",
    "comp_time = 1/modulation\n",
    "cycle_time = comp_time/2\n",
    "cycle_time"
   ]
  },
  {
   "cell_type": "code",
   "execution_count": null,
   "metadata": {},
   "outputs": [
    {
     "data": {
      "text/plain": [
       "676775"
      ]
     },
     "metadata": {},
     "output_type": "display_data"
    }
   ],
   "source": [
    "sam_mili = int(126500000*5.35e-3)\n",
    "sam_mili"
   ]
  },
  {
   "cell_type": "code",
   "execution_count": null,
   "metadata": {},
   "outputs": [
    {
     "data": {
      "text/plain": [
       "(array([751000], dtype=int64),)"
      ]
     },
     "metadata": {},
     "output_type": "display_data"
    }
   ],
   "source": [
    "sol = Gran_find(125009000,126000000,5.35e-3)\n",
    "np.where(sol != 0)"
   ]
  },
  {
   "cell_type": "code",
   "execution_count": null,
   "metadata": {},
   "outputs": [],
   "source": [
    "samp_freq = sol[751000]"
   ]
  },
  {
   "cell_type": "code",
   "execution_count": null,
   "metadata": {},
   "outputs": [
    {
     "data": {
      "text/plain": [
       "14017.0"
      ]
     },
     "metadata": {},
     "output_type": "display_data"
    }
   ],
   "source": [
    "(samp_freq * 5.35e-3)/ 48"
   ]
  },
  {
   "cell_type": "code",
   "execution_count": null,
   "metadata": {},
   "outputs": [],
   "source": []
  },
  {
   "cell_type": "code",
   "execution_count": null,
   "metadata": {},
   "outputs": [
    {
     "data": {
      "text/plain": [
       "True"
      ]
     },
     "metadata": {},
     "output_type": "display_data"
    }
   ],
   "source": [
    "div_test(3072000000,6.25e-6)"
   ]
  },
  {
   "cell_type": "code",
   "execution_count": null,
   "metadata": {},
   "outputs": [],
   "source": [
    "sol = Gran_find(3071999990,3072000010,6.25e-6)"
   ]
  },
  {
   "cell_type": "code",
   "execution_count": null,
   "metadata": {},
   "outputs": [
    {
     "data": {
      "text/plain": [
       "(array([10], dtype=int64),)"
      ]
     },
     "metadata": {},
     "output_type": "display_data"
    }
   ],
   "source": [
    "np.nonzero(sol)"
   ]
  },
  {
   "cell_type": "code",
   "execution_count": null,
   "metadata": {},
   "outputs": [],
   "source": [
    "sols = np.array([div_test(i,6.25e-6) for i in samp_interval])"
   ]
  },
  {
   "cell_type": "code",
   "execution_count": null,
   "metadata": {},
   "outputs": [
    {
     "data": {
      "text/plain": [
       "array([ True, False, False])"
      ]
     },
     "metadata": {},
     "output_type": "display_data"
    }
   ],
   "source": [
    "sols"
   ]
  },
  {
   "cell_type": "code",
   "execution_count": null,
   "metadata": {},
   "outputs": [],
   "source": [
    "sol = np.zeros((len(samp_interval)))"
   ]
  },
  {
   "cell_type": "code",
   "execution_count": null,
   "metadata": {},
   "outputs": [
    {
     "data": {
      "text/plain": [
       "3"
      ]
     },
     "metadata": {},
     "output_type": "display_data"
    }
   ],
   "source": [
    "samp_interval.size"
   ]
  },
  {
   "cell_type": "code",
   "execution_count": null,
   "metadata": {},
   "outputs": [
    {
     "data": {
      "text/plain": [
       "3"
      ]
     },
     "metadata": {},
     "output_type": "display_data"
    }
   ],
   "source": [
    "sol.size"
   ]
  },
  {
   "cell_type": "code",
   "execution_count": null,
   "metadata": {},
   "outputs": [
    {
     "data": {
      "text/plain": [
       "array([3.072e+09, 0.000e+00, 0.000e+00])"
      ]
     },
     "metadata": {},
     "output_type": "display_data"
    }
   ],
   "source": [
    "sol"
   ]
  },
  {
   "cell_type": "code",
   "execution_count": null,
   "metadata": {},
   "outputs": [],
   "source": [
    "np.linspace(125000000,8000000000)"
   ]
  },
  {
   "cell_type": "code",
   "execution_count": null,
   "metadata": {},
   "outputs": [
    {
     "data": {
      "text/plain": [
       "875000000"
      ]
     },
     "metadata": {},
     "output_type": "display_data"
    }
   ],
   "source": [
    "np.arange(125000000,1000000000,1).size"
   ]
  },
  {
   "cell_type": "code",
   "execution_count": null,
   "metadata": {},
   "outputs": [],
   "source": [
    "for i,j,k in zip(fileA, fileB,range(0,len(fileA))):"
   ]
  },
  {
   "cell_type": "code",
   "execution_count": null,
   "metadata": {},
   "outputs": [
    {
     "data": {
      "text/plain": [
       "(array([751000], dtype=int64),)"
      ]
     },
     "metadata": {},
     "output_type": "display_data"
    }
   ],
   "source": [
    "sol = Gran_find(125009000,126000000,5.35e-3)\n",
    "np.where(sol != 0)"
   ]
  },
  {
   "cell_type": "code",
   "execution_count": null,
   "metadata": {},
   "outputs": [],
   "source": [
    "samp_freq = int(sol[751000])"
   ]
  },
  {
   "cell_type": "code",
   "execution_count": null,
   "metadata": {},
   "outputs": [],
   "source": [
    "sam = int(samp_freq * 5.35e-3) "
   ]
  },
  {
   "cell_type": "code",
   "execution_count": null,
   "metadata": {},
   "outputs": [
    {
     "data": {
      "text/plain": [
       "125760000"
      ]
     },
     "metadata": {},
     "output_type": "display_data"
    }
   ],
   "source": [
    "samp_freq"
   ]
  },
  {
   "cell_type": "code",
   "execution_count": null,
   "metadata": {},
   "outputs": [],
   "source": [
    "125760000"
   ]
  },
  {
   "cell_type": "code",
   "execution_count": null,
   "metadata": {},
   "outputs": [
    {
     "data": {
      "text/plain": [
       "672816"
      ]
     },
     "metadata": {},
     "output_type": "display_data"
    }
   ],
   "source": [
    "sam"
   ]
  },
  {
   "cell_type": "code",
   "execution_count": null,
   "metadata": {},
   "outputs": [
    {
     "name": "stdout",
     "output_type": "stream",
     "text": [
      "The factors for 5000000 are : \n",
      "1\n",
      "2\n",
      "4\n",
      "5\n",
      "8\n",
      "10\n",
      "16\n",
      "20\n",
      "25\n",
      "32\n",
      "40\n",
      "50\n",
      "64\n",
      "80\n",
      "100\n",
      "125\n",
      "160\n",
      "200\n",
      "250\n",
      "320\n",
      "400\n",
      "500\n",
      "625\n",
      "800\n",
      "1000\n",
      "1250\n",
      "1600\n",
      "2000\n",
      "2500\n",
      "3125\n",
      "4000\n",
      "5000\n",
      "6250\n",
      "8000\n",
      "10000\n",
      "12500\n",
      "15625\n",
      "20000\n",
      "25000\n",
      "31250\n",
      "40000\n",
      "50000\n",
      "62500\n",
      "78125\n",
      "100000\n",
      "125000\n",
      "156250\n",
      "200000\n",
      "250000\n",
      "312500\n",
      "500000\n",
      "625000\n",
      "1000000\n",
      "1250000\n",
      "2500000\n",
      "5000000\n"
     ]
    }
   ],
   "source": [
    "def print_factors(n):\n",
    "    i = 1\n",
    "    while(i < n+1):\n",
    "        if n % i == 0:\n",
    "            print(i)\n",
    "        i = i + 1\n",
    "\n",
    "number = int(input(\"Enter a number : \"))\n",
    "\n",
    "print(\"The factors for {} are : \".format(number))\n",
    "print_factors(number)"
   ]
  },
  {
   "cell_type": "code",
   "execution_count": 118,
   "metadata": {},
   "outputs": [],
   "source": [
    "loop_1nano = 5000000/5000"
   ]
  },
  {
   "cell_type": "code",
   "execution_count": 119,
   "metadata": {},
   "outputs": [
    {
     "data": {
      "text/plain": [
       "1000.0"
      ]
     },
     "execution_count": 119,
     "metadata": {},
     "output_type": "execute_result"
    }
   ],
   "source": [
    "loop_1nano"
   ]
  },
  {
   "cell_type": "code",
   "execution_count": 132,
   "metadata": {},
   "outputs": [
    {
     "data": {
      "text/plain": [
       "5000000.0"
      ]
     },
     "execution_count": 132,
     "metadata": {},
     "output_type": "execute_result"
    }
   ],
   "source": [
    "5000*loop_1nano"
   ]
  },
  {
   "cell_type": "code",
   "execution_count": null,
   "metadata": {},
   "outputs": [
    {
     "data": {
      "text/plain": [
       "100.0"
      ]
     },
     "metadata": {},
     "output_type": "display_data"
    }
   ],
   "source": [
    "5000/50"
   ]
  },
  {
   "cell_type": "code",
   "execution_count": 120,
   "metadata": {},
   "outputs": [],
   "source": [
    "sam = int(3072000000*5000e-9)"
   ]
  },
  {
   "cell_type": "code",
   "execution_count": 121,
   "metadata": {},
   "outputs": [
    {
     "data": {
      "text/plain": [
       "15360"
      ]
     },
     "execution_count": 121,
     "metadata": {},
     "output_type": "execute_result"
    }
   ],
   "source": [
    "sam"
   ]
  },
  {
   "cell_type": "code",
   "execution_count": 122,
   "metadata": {},
   "outputs": [
    {
     "data": {
      "text/plain": [
       "320.0"
      ]
     },
     "execution_count": 122,
     "metadata": {},
     "output_type": "execute_result"
    }
   ],
   "source": [
    "sam/48"
   ]
  },
  {
   "cell_type": "code",
   "execution_count": null,
   "metadata": {},
   "outputs": [
    {
     "data": {
      "text/plain": [
       "0.005376344086021506"
      ]
     },
     "metadata": {},
     "output_type": "display_data"
    }
   ],
   "source": [
    "modulation = 100 #Hz \n",
    "comp_time = 1/modulation\n",
    "cycle_time = comp_time/2\n",
    "cycle_time"
   ]
  },
  {
   "cell_type": "code",
   "execution_count": null,
   "metadata": {},
   "outputs": [],
   "source": []
  },
  {
   "cell_type": "code",
   "execution_count": 2,
   "metadata": {},
   "outputs": [
    {
     "data": {
      "text/plain": [
       "0.005555555555555556"
      ]
     },
     "execution_count": 2,
     "metadata": {},
     "output_type": "execute_result"
    }
   ],
   "source": [
    "modulation = 90 #Hz \n",
    "comp_time = 1/modulation\n",
    "cycle_time = comp_time/2\n",
    "cycle_time #seconds"
   ]
  },
  {
   "cell_type": "markdown",
   "metadata": {},
   "source": [
    "divide cycle time in N parts"
   ]
  },
  {
   "cell_type": "code",
   "execution_count": 3,
   "metadata": {},
   "outputs": [],
   "source": [
    "cycle_nano = cycle_time *1e9"
   ]
  },
  {
   "cell_type": "code",
   "execution_count": 4,
   "metadata": {},
   "outputs": [
    {
     "data": {
      "text/plain": [
       "5555555.555555556"
      ]
     },
     "execution_count": 4,
     "metadata": {},
     "output_type": "execute_result"
    }
   ],
   "source": [
    "cycle_nano"
   ]
  },
  {
   "cell_type": "code",
   "execution_count": 16,
   "metadata": {},
   "outputs": [
    {
     "data": {
      "text/plain": [
       "55.55555555555556"
      ]
     },
     "execution_count": 16,
     "metadata": {},
     "output_type": "execute_result"
    }
   ],
   "source": [
    "loop_1nano = 100000\n",
    "\n",
    "cycle_nano/loop_1nano"
   ]
  },
  {
   "cell_type": "code",
   "execution_count": null,
   "metadata": {},
   "outputs": [],
   "source": []
  },
  {
   "cell_type": "code",
   "execution_count": 17,
   "metadata": {},
   "outputs": [],
   "source": [
    "interval = (cycle_nano) /loop_1nano"
   ]
  },
  {
   "cell_type": "code",
   "execution_count": 18,
   "metadata": {},
   "outputs": [
    {
     "data": {
      "text/plain": [
       "55.55555555555556"
      ]
     },
     "execution_count": 18,
     "metadata": {},
     "output_type": "execute_result"
    }
   ],
   "source": [
    "interval"
   ]
  },
  {
   "cell_type": "code",
   "execution_count": 19,
   "metadata": {
    "scrolled": false
   },
   "outputs": [
    {
     "data": {
      "text/plain": [
       "5555555.555555556"
      ]
     },
     "execution_count": 19,
     "metadata": {},
     "output_type": "execute_result"
    }
   ],
   "source": [
    "interval*loop_1nano"
   ]
  },
  {
   "cell_type": "code",
   "execution_count": 20,
   "metadata": {},
   "outputs": [],
   "source": [
    "samples = int(3.02375e9 * (interval *1e-9))"
   ]
  },
  {
   "cell_type": "code",
   "execution_count": 21,
   "metadata": {},
   "outputs": [
    {
     "data": {
      "text/plain": [
       "167"
      ]
     },
     "execution_count": 21,
     "metadata": {},
     "output_type": "execute_result"
    }
   ],
   "source": [
    "samples"
   ]
  },
  {
   "cell_type": "code",
   "execution_count": 22,
   "metadata": {},
   "outputs": [],
   "source": [
    "sam = Granularity(samples)"
   ]
  },
  {
   "cell_type": "code",
   "execution_count": 23,
   "metadata": {},
   "outputs": [
    {
     "data": {
      "text/plain": [
       "192"
      ]
     },
     "execution_count": 23,
     "metadata": {},
     "output_type": "execute_result"
    }
   ],
   "source": [
    "sam"
   ]
  },
  {
   "cell_type": "code",
   "execution_count": null,
   "metadata": {},
   "outputs": [],
   "source": []
  },
  {
   "cell_type": "code",
   "execution_count": 2,
   "metadata": {},
   "outputs": [],
   "source": [
    "Sr = 6048000000\n",
    "sam = 336\n",
    "\n",
    "tim = sam/Sr"
   ]
  },
  {
   "cell_type": "code",
   "execution_count": 3,
   "metadata": {},
   "outputs": [
    {
     "data": {
      "text/plain": [
       "5.5555555555555555e-08"
      ]
     },
     "execution_count": 3,
     "metadata": {},
     "output_type": "execute_result"
    }
   ],
   "source": [
    "tim"
   ]
  },
  {
   "cell_type": "code",
   "execution_count": 4,
   "metadata": {},
   "outputs": [],
   "source": [
    "interval = tim*1e9 #nano"
   ]
  },
  {
   "cell_type": "code",
   "execution_count": 5,
   "metadata": {},
   "outputs": [
    {
     "data": {
      "text/plain": [
       "55.55555555555556"
      ]
     },
     "execution_count": 5,
     "metadata": {},
     "output_type": "execute_result"
    }
   ],
   "source": [
    "interval"
   ]
  },
  {
   "cell_type": "code",
   "execution_count": null,
   "metadata": {},
   "outputs": [],
   "source": []
  },
  {
   "cell_type": "markdown",
   "metadata": {},
   "source": [
    "3 times appart"
   ]
  },
  {
   "cell_type": "code",
   "execution_count": 3,
   "metadata": {},
   "outputs": [
    {
     "data": {
      "text/plain": [
       "1.0999999999999999e-07"
      ]
     },
     "execution_count": 3,
     "metadata": {},
     "output_type": "execute_result"
    }
   ],
   "source": [
    "full_cycle = 11e-3\n",
    "loop_number = 100000\n",
    "part_cycle = full_cycle / loop_number\n",
    "part_cycle"
   ]
  },
  {
   "cell_type": "code",
   "execution_count": 4,
   "metadata": {},
   "outputs": [
    {
     "data": {
      "text/plain": [
       "110"
      ]
     },
     "execution_count": 4,
     "metadata": {},
     "output_type": "execute_result"
    }
   ],
   "source": [
    "interval = 110 #nano\n",
    "interval"
   ]
  },
  {
   "cell_type": "code",
   "execution_count": 5,
   "metadata": {},
   "outputs": [
    {
     "data": {
      "text/plain": [
       "45.45454545454546"
      ]
     },
     "execution_count": 5,
     "metadata": {},
     "output_type": "execute_result"
    }
   ],
   "source": [
    "cycle_time = 11e-3\n",
    "comp_time = cycle_time * 2\n",
    "mod = 1/comp_time\n",
    "mod"
   ]
  },
  {
   "cell_type": "code",
   "execution_count": 12,
   "metadata": {},
   "outputs": [
    {
     "data": {
      "text/plain": [
       "665"
      ]
     },
     "execution_count": 12,
     "metadata": {},
     "output_type": "execute_result"
    }
   ],
   "source": [
    "samples = int(6048000000 * 1.1e-7)\n",
    "samples"
   ]
  },
  {
   "cell_type": "code",
   "execution_count": 13,
   "metadata": {},
   "outputs": [
    {
     "data": {
      "text/plain": [
       "13.854166666666666"
      ]
     },
     "execution_count": 13,
     "metadata": {},
     "output_type": "execute_result"
    }
   ],
   "source": [
    "samples/48"
   ]
  },
  {
   "cell_type": "code",
   "execution_count": null,
   "metadata": {},
   "outputs": [],
   "source": []
  },
  {
   "cell_type": "code",
   "execution_count": 14,
   "metadata": {
    "scrolled": true
   },
   "outputs": [
    {
     "data": {
      "text/plain": [
       "672"
      ]
     },
     "execution_count": 14,
     "metadata": {},
     "output_type": "execute_result"
    }
   ],
   "source": [
    "sam = Granularity(samples)\n",
    "sam"
   ]
  },
  {
   "cell_type": "code",
   "execution_count": null,
   "metadata": {},
   "outputs": [],
   "source": []
  },
  {
   "cell_type": "code",
   "execution_count": null,
   "metadata": {},
   "outputs": [],
   "source": []
  },
  {
   "cell_type": "code",
   "execution_count": null,
   "metadata": {},
   "outputs": [],
   "source": []
  },
  {
   "cell_type": "code",
   "execution_count": null,
   "metadata": {},
   "outputs": [],
   "source": []
  },
  {
   "cell_type": "code",
   "execution_count": 16,
   "metadata": {},
   "outputs": [],
   "source": [
    "AWG_Settings_1nano= {\n",
    "    'Visa Resource Name': 'TCPIP0::ibn3-036.ibn-net.kfa-juelich.de::hislip0::INSTR',\n",
    "    'Voltage Amplitude':700,\n",
    "    'Clock Sample Frecuency':6048000000,\n",
    "    'Output_Channel': 1,\n",
    "    'Mode': 'STS',\n",
    "    'Trigger In Threshold' : 1,\n",
    "    'Output Rout': 'DC', #DAC output rout only has the BNC outputs: Direct Out and (Averaged) Direct Out # DC\n",
    "    'Data Directory': r'D:\\Alejandro\\Pulses\\diode measurements\\Prepared Pulse Schemes CSV\\50,20\\1nano'\n",
    "}"
   ]
  },
  {
   "cell_type": "code",
   "execution_count": 16,
   "metadata": {},
   "outputs": [
    {
     "data": {
      "text/plain": [
       "21"
      ]
     },
     "execution_count": 16,
     "metadata": {},
     "output_type": "execute_result"
    }
   ],
   "source": [
    "M8190A.write('FREQ:RAST 6048000000')"
   ]
  },
  {
   "cell_type": "code",
   "execution_count": 17,
   "metadata": {},
   "outputs": [],
   "source": [
    "M8190A = VisaR(AWG_Settings_1nano,60000)"
   ]
  },
  {
   "cell_type": "code",
   "execution_count": null,
   "metadata": {},
   "outputs": [
    {
     "name": "stdout",
     "output_type": "stream",
     "text": [
      "Instruments Sampling Frecuency set to 1.25760000000000E+08Hz\n",
      "Instruments Direct Out DAC Output route Voltage set to 7.00000000000000E-01Volts\n",
      "AWG_Settings_Dict set to TRIGGERED Mode\n",
      "Trigger In threshold value set to 1.00000000000000E+00V\n"
     ]
    }
   ],
   "source": [
    "Initialization(M8190A,AWG_Settings_1nano)"
   ]
  },
  {
   "cell_type": "code",
   "execution_count": 18,
   "metadata": {},
   "outputs": [],
   "source": [
    "Pump_1nano = {\n",
    "    'Name':'Pump_1nano',\n",
    "    'Amplitude': 150,\n",
    "    'Start time':55,\n",
    "    'End time':2e-10,\n",
    "    'Start Duration':5,\n",
    "    'End Duration':60,\n",
    "    'Sweep time':0,\n",
    "    'Sweep Duration':0\n",
    "}"
   ]
  },
  {
   "cell_type": "code",
   "execution_count": 19,
   "metadata": {},
   "outputs": [],
   "source": [
    "ProbeA_1nano = {\n",
    "    'Name':'ProbeA_1nano',\n",
    "    'Amplitude':50,\n",
    "    'Start time':45,\n",
    "    'End time':65,\n",
    "    'Start Duration':5,\n",
    "    'End Duration':60,\n",
    "    'Sweep time':1,\n",
    "    'Sweep Duration':0\n",
    "}"
   ]
  },
  {
   "cell_type": "code",
   "execution_count": 20,
   "metadata": {},
   "outputs": [],
   "source": [
    "ProbeB_1nano= {\n",
    "    'Name':'ProbeB_1nano',\n",
    "    'Amplitude':-50,\n",
    "    'Start time':45,\n",
    "    'End time':65,\n",
    "    'Start Duration':5,\n",
    "    'End Duration':6,\n",
    "    'Sweep time':1,\n",
    "    'Sweep Duration':0\n",
    "}"
   ]
  },
  {
   "cell_type": "code",
   "execution_count": 21,
   "metadata": {},
   "outputs": [],
   "source": [
    "PulseScheme_A_1nano =  {\n",
    "    'Name' : 'PulseScheme_A_1nano',\n",
    "    'Pulse Scheme': [Pump_1nano,ProbeA_1nano],\n",
    "    'Number of repetitions': 1,\n",
    "    'Measurement file Path': r'D:\\Alejandro\\Pulses\\diode measurements\\Autocorrelation measurements\\50,20\\1nano'\n",
    "}"
   ]
  },
  {
   "cell_type": "code",
   "execution_count": 22,
   "metadata": {},
   "outputs": [],
   "source": [
    "PulseScheme_B_1nano =  {\n",
    "    'Name' : 'PulseScheme_B_1nano',\n",
    "    'Pulse Scheme': [Pump_1nano,ProbeB_1nano],\n",
    "    'Number of repetitions': 1,\n",
    "    'Measurement file Path': r'D:\\Alejandro\\Pulses\\diode measurements\\Autocorrelation measurements\\50,20\\1nano'\n",
    "}"
   ]
  },
  {
   "cell_type": "code",
   "execution_count": null,
   "metadata": {},
   "outputs": [],
   "source": [
    "93"
   ]
  },
  {
   "cell_type": "code",
   "execution_count": 5,
   "metadata": {},
   "outputs": [
    {
     "data": {
      "text/plain": [
       "1.0000000000000002e-10"
      ]
     },
     "execution_count": 5,
     "metadata": {},
     "output_type": "execute_result"
    }
   ],
   "source": [
    "0.1*1e-9"
   ]
  },
  {
   "cell_type": "code",
   "execution_count": 4,
   "metadata": {},
   "outputs": [
    {
     "data": {
      "text/plain": [
       "19.23076923076923"
      ]
     },
     "execution_count": 4,
     "metadata": {},
     "output_type": "execute_result"
    }
   ],
   "source": [
    "1/(26e-3*2)\n"
   ]
  },
  {
   "cell_type": "code",
   "execution_count": 28,
   "metadata": {},
   "outputs": [
    {
     "data": {
      "text/plain": [
       "555555.5555555556"
      ]
     },
     "execution_count": 28,
     "metadata": {},
     "output_type": "execute_result"
    }
   ],
   "source": [
    "interval*10000"
   ]
  },
  {
   "cell_type": "code",
   "execution_count": 26,
   "metadata": {},
   "outputs": [
    {
     "data": {
      "image/png": "[encoded data removed]",
      "text/plain": [
       "<Figure size 432x288 with 1 Axes>"
      ]
     },
     "metadata": {
      "needs_background": "light"
     },
     "output_type": "display_data"
    }
   ],
   "source": [
    "step = 30\n",
    "pul1 = Sweep_teil(PulseScheme_A_1nano,30,step,interval,sam)\n",
    "\n",
    "\n",
    "#Plot\n",
    "fig,ax= plt.subplots()\n",
    "ax.grid(True)\n",
    "\n",
    "plt.plot(pul1[1],pul1[0],label= '{b} samples'.format(b = sam),color='red')\n",
    "\n",
    "ax.set_ylabel('V  [mV]')\n",
    "ax.set_xlabel(r't [ns]')\n",
    "ax.set_title('Cycle B at step {a}'.format(a = step )) #Voltage Offset = 3mV, Marker Ampl = 50mV \n",
    "#ax.legend(loc=0)\n",
    "#plt.legend(bbox_to_anchor=(2.05, 1), loc='upper left', borderaxespad=0.)\n",
    "plt.show()\n",
    "\n",
    "fig.savefig(r'{loc}\\Cycle A, Probe width 1nano.jpeg {g} step.png'.format(g =  step, loc = PulseScheme_A_1nano['Measurement file Path']),bbox_inches='tight')"
   ]
  },
  {
   "cell_type": "code",
   "execution_count": 27,
   "metadata": {},
   "outputs": [],
   "source": [
    "sweeping_run_a_1nano = Sweeping_Single_List_File_teil(PulseScheme_A_1nano,30,interval,sam,0,30,AWG_Settings_1nano,'A')[0]"
   ]
  },
  {
   "cell_type": "code",
   "execution_count": 28,
   "metadata": {},
   "outputs": [],
   "source": [
    "sweeping_run_b_1nano = Sweeping_Single_List_File_teil(PulseScheme_B_1nano,30,interval,sam,0,30,AWG_Settings_1nano,'B')[0]"
   ]
  },
  {
   "cell_type": "code",
   "execution_count": 29,
   "metadata": {},
   "outputs": [],
   "source": [
    "#Exporting pickle\n",
    "\n",
    "with open(r\"{dict}\\cycleA_31steps_45Hz_1nano_.p\".format(dict = PulseScheme_A_1nano['Measurement file Path']), \"wb\") as k:\n",
    "    pickle.dump(sweeping_run_a_1nano, k)\n",
    "\n",
    "\n",
    "with open(r\"{dict}\\cycleB_31steps_45Hz_1nano_.p\".format(dict = PulseScheme_B_1nano['Measurement file Path']), \"wb\") as h:\n",
    "    pickle.dump(sweeping_run_b_1nano, h)"
   ]
  },
  {
   "cell_type": "code",
   "execution_count": null,
   "metadata": {},
   "outputs": [],
   "source": [
    "#Importing Pickle\n",
    "\n",
    "with open(r\"{dict}\\cycleA_31steps_93Hz_1nano_.p\".format(dict = PulseScheme_A_1nano['Measurement file Path']), \"rb\") as j:\n",
    "    sweeping_runa_1nano = pickle.load(j)\n",
    "\n",
    "with open(r\"{dict}\\cycleB_31steps_93Hz_1nano_.p\".format(dict = PulseScheme_A_1nano['Measurement file Path']), \"rb\") as f:\n",
    "    sweeping_runb_1nano= pickle.load(f)"
   ]
  },
  {
   "cell_type": "code",
   "execution_count": null,
   "metadata": {},
   "outputs": [
    {
     "data": {
      "text/plain": [
       "'D:\\\\Alejandro\\\\Pulses\\\\diode measurements\\\\Prepared Pulse Schemes CSV\\\\50,20\\\\1mili\\\\SegmentA_672816_30.csv'"
      ]
     },
     "metadata": {},
     "output_type": "display_data"
    }
   ],
   "source": [
    "sweeping_run_a_1nano['Pulse File Location, at step 30']"
   ]
  },
  {
   "cell_type": "code",
   "execution_count": null,
   "metadata": {},
   "outputs": [
    {
     "data": {
      "text/plain": [
       "'D:\\\\Alejandro\\\\Pulses\\\\diode measurements\\\\Prepared Pulse Schemes CSV\\\\50,20\\\\1mili\\\\SegmentB_672816_30.csv'"
      ]
     },
     "metadata": {},
     "output_type": "display_data"
    }
   ],
   "source": [
    "sweeping_run_b_1nano['Pulse File Location, at step 30']"
   ]
  },
  {
   "cell_type": "code",
   "execution_count": null,
   "metadata": {},
   "outputs": [
    {
     "name": "stdout",
     "output_type": "stream",
     "text": [
      "Sequence loaded with the following segment data \"1,8,0,1,0,1919999,2,8,0,1,0,1919999\" and the advancement method is COND\n"
     ]
    },
    {
     "data": {
      "text/plain": [
       "0"
      ]
     },
     "metadata": {},
     "output_type": "display_data"
    }
   ],
   "source": [
    "Sequence_File(M8190A,sweeping_runa_1nano['Pulse File Location, at step 30'],sweeping_runb_1nano['Pulse File Location, at step 30'],8)"
   ]
  },
  {
   "cell_type": "code",
   "execution_count": null,
   "metadata": {},
   "outputs": [],
   "source": [
    "5555555.555555556"
   ]
  },
  {
   "cell_type": "code",
   "execution_count": 23,
   "metadata": {},
   "outputs": [
    {
     "data": {
      "text/plain": [
       "5555555.555555556"
      ]
     },
     "execution_count": 23,
     "metadata": {},
     "output_type": "execute_result"
    }
   ],
   "source": [
    "interval*100000"
   ]
  },
  {
   "cell_type": "code",
   "execution_count": 42,
   "metadata": {
    "scrolled": true
   },
   "outputs": [
    {
     "data": {
      "text/plain": [
       "12"
      ]
     },
     "execution_count": 42,
     "metadata": {},
     "output_type": "execute_result"
    }
   ],
   "source": [
    "M8190A.write('SEQ:DEL:ALL')"
   ]
  },
  {
   "cell_type": "code",
   "execution_count": 29,
   "metadata": {},
   "outputs": [
    {
     "name": "stdout",
     "output_type": "stream",
     "text": [
      "Dummy File Loaded and playing\n",
      "Dummy File stopped and erased from AWGs memmory\n"
     ]
    }
   ],
   "source": [
    "Dummy_File(M8190A)"
   ]
  },
  {
   "cell_type": "code",
   "execution_count": 31,
   "metadata": {},
   "outputs": [],
   "source": [
    "Lock_In_Settings = {\n",
    "'Time Constant' : '300ms',\n",
    "'Sensitivity' : '100 microVolts',\n",
    "'Reserve' : 'Normal',\n",
    "'db' : 24,\n",
    "'Modulation': '45Hz'\n",
    "}"
   ]
  },
  {
   "cell_type": "code",
   "execution_count": 43,
   "metadata": {},
   "outputs": [
    {
     "name": "stdout",
     "output_type": "stream",
     "text": [
      "Sequence loaded with the following segment data \"1,100000,0,1,0,671,2,100000,0,1,0,671\" and the advancement method is COND\n",
      "Average Value for measurement at step 0 is 2.8258879416500267 V\n",
      "Sequence loaded with the following segment data \"1,100000,0,1,0,671,2,100000,0,1,0,671\" and the advancement method is COND\n",
      "Average Value for measurement at step 1 is 2.9404375096248208 V\n",
      "Sequence loaded with the following segment data \"1,100000,0,1,0,671,2,100000,0,1,0,671\" and the advancement method is COND\n",
      "Average Value for measurement at step 2 is 2.9749358358485645 V\n",
      "Sequence loaded with the following segment data \"1,100000,0,1,0,671,2,100000,0,1,0,671\" and the advancement method is COND\n",
      "Average Value for measurement at step 3 is 2.9815381270981587 V\n",
      "Sequence loaded with the following segment data \"1,100000,0,1,0,671,2,100000,0,1,0,671\" and the advancement method is COND\n",
      "Average Value for measurement at step 4 is 2.9866017819490605 V\n",
      "Sequence loaded with the following segment data \"1,100000,0,1,0,671,2,100000,0,1,0,671\" and the advancement method is COND\n",
      "Average Value for measurement at step 5 is 2.9828749729588067 V\n",
      "Sequence loaded with the following segment data \"1,100000,0,1,0,671,2,100000,0,1,0,671\" and the advancement method is COND\n",
      "Average Value for measurement at step 6 is 3.0494872636490853 V\n",
      "Sequence loaded with the following segment data \"1,100000,0,1,0,671,2,100000,0,1,0,671\" and the advancement method is COND\n",
      "Average Value for measurement at step 7 is 3.1287149492036446 V\n",
      "Sequence loaded with the following segment data \"1,100000,0,1,0,671,2,100000,0,1,0,671\" and the advancement method is COND\n",
      "Average Value for measurement at step 8 is 2.988676162430652 V\n",
      "Sequence loaded with the following segment data \"1,100000,0,1,0,671,2,100000,0,1,0,671\" and the advancement method is COND\n",
      "Average Value for measurement at step 9 is 3.08796330228208 V\n",
      "Sequence loaded with the following segment data \"1,100000,0,1,0,671,2,100000,0,1,0,671\" and the advancement method is COND\n",
      "Average Value for measurement at step 10 is 3.1355071465386812 V\n",
      "Sequence loaded with the following segment data \"1,100000,0,1,0,671,2,100000,0,1,0,671\" and the advancement method is COND\n",
      "Average Value for measurement at step 11 is 3.1363554667093205 V\n",
      "Sequence loaded with the following segment data \"1,100000,0,1,0,671,2,100000,0,1,0,671\" and the advancement method is COND\n",
      "Average Value for measurement at step 12 is 3.1418194162485786 V\n",
      "Sequence loaded with the following segment data \"1,100000,0,1,0,671,2,100000,0,1,0,671\" and the advancement method is COND\n",
      "Average Value for measurement at step 13 is 3.14290556287979 V\n",
      "Sequence loaded with the following segment data \"1,100000,0,1,0,671,2,100000,0,1,0,671\" and the advancement method is COND\n",
      "Average Value for measurement at step 14 is 3.140174927032214 V\n",
      "Sequence loaded with the following segment data \"1,100000,0,1,0,671,2,100000,0,1,0,671\" and the advancement method is COND\n",
      "Average Value for measurement at step 15 is 3.2972518738723298 V\n",
      "Sequence loaded with the following segment data \"1,100000,0,1,0,671,2,100000,0,1,0,671\" and the advancement method is COND\n",
      "Average Value for measurement at step 16 is 3.2969065507156214 V\n",
      "Sequence loaded with the following segment data \"1,100000,0,1,0,671,2,100000,0,1,0,671\" and the advancement method is COND\n",
      "Average Value for measurement at step 17 is 3.294922422531675 V\n",
      "Sequence loaded with the following segment data \"1,100000,0,1,0,671,2,100000,0,1,0,671\" and the advancement method is COND\n",
      "Average Value for measurement at step 18 is 3.2824722320775774 V\n",
      "Sequence loaded with the following segment data \"1,100000,0,1,0,671,2,100000,0,1,0,671\" and the advancement method is COND\n",
      "Average Value for measurement at step 19 is 3.168223575482363 V\n",
      "Sequence loaded with the following segment data \"1,100000,0,1,0,671,2,100000,0,1,0,671\" and the advancement method is COND\n",
      "Average Value for measurement at step 20 is 3.138995519793311 V\n",
      "Sequence loaded with the following segment data \"1,100000,0,1,0,671,2,100000,0,1,0,671\" and the advancement method is COND\n",
      "Average Value for measurement at step 21 is 3.1365692381220636 V\n",
      "Sequence loaded with the following segment data \"1,100000,0,1,0,671,2,100000,0,1,0,671\" and the advancement method is COND\n",
      "Average Value for measurement at step 22 is 3.1150174625462044 V\n",
      "Sequence loaded with the following segment data \"1,100000,0,1,0,671,2,100000,0,1,0,671\" and the advancement method is COND\n",
      "Average Value for measurement at step 23 is 2.9622061976159926 V\n",
      "Sequence loaded with the following segment data \"1,100000,0,1,0,671,2,100000,0,1,0,671\" and the advancement method is COND\n",
      "Average Value for measurement at step 24 is 2.830651985963605 V\n",
      "Sequence loaded with the following segment data \"1,100000,0,1,0,671,2,100000,0,1,0,671\" and the advancement method is COND\n",
      "Average Value for measurement at step 25 is 2.8268896594727724 V\n",
      "Sequence loaded with the following segment data \"1,100000,0,1,0,671,2,100000,0,1,0,671\" and the advancement method is COND\n",
      "Average Value for measurement at step 26 is 2.8272796157218796 V\n",
      "Sequence loaded with the following segment data \"1,100000,0,1,0,671,2,100000,0,1,0,671\" and the advancement method is COND\n",
      "Average Value for measurement at step 27 is 2.7962484864110135 V\n",
      "Sequence loaded with the following segment data \"1,100000,0,1,0,671,2,100000,0,1,0,671\" and the advancement method is COND\n",
      "Average Value for measurement at step 28 is 2.7119936307962496 V\n",
      "Sequence loaded with the following segment data \"1,100000,0,1,0,671,2,100000,0,1,0,671\" and the advancement method is COND\n",
      "Average Value for measurement at step 29 is 2.676133719968551 V\n",
      "Sequence loaded with the following segment data \"1,100000,0,1,0,671,2,100000,0,1,0,671\" and the advancement method is COND\n",
      "Average Value for measurement at step 30 is 2.6746329055281874 V\n"
     ]
    }
   ],
   "source": [
    "playingtime = 10\n",
    "\n",
    "Diode_Signal, averaged_data = Voltage_Autocorrelation_loop(M8190A,DAQ_Settings1,playingtime,sweeping_run_a_1nano,sweeping_run_b_1nano,PulseScheme_A_1nano['Measurement file Path'],Lock_In_Settings,100000)"
   ]
  },
  {
   "cell_type": "code",
   "execution_count": 44,
   "metadata": {},
   "outputs": [
    {
     "data": {
      "image/png": "[encoded data removed]",
      "text/plain": [
       "<Figure size 432x288 with 1 Axes>"
      ]
     },
     "metadata": {
      "needs_background": "light"
     },
     "output_type": "display_data"
    }
   ],
   "source": [
    "fig,ax= plt.subplots()\n",
    "ax.grid(True)\n",
    "for i in range(0,len(Diode_Signal)):\n",
    "    plt.plot(Diode_Signal[i][1],Diode_Signal[i][0],label= 'Step {st}'.format(st = i ))\n",
    "\n",
    "ax.set_ylabel(r'V  [V]')\n",
    "ax.set_xlabel('t  [s]')\n",
    "ax.set_title(r' Diode Signal at Different Steps,  {b} Samples, 1ns probe duration'.format(b = len(Diode_Signal[0][1]) ))\n",
    "#ax.legend(bbox_to_anchor=(1.05, 1), loc='upper left', borderaxespad=0.)\n",
    "#ax.legend(loc=0)\n",
    "plt.show()\n",
    "\n",
    "fig.savefig(r'{loc}\\Diode Signal time cstant = {a}, sensitivity {b},{c} daqseconds, , probe duration 1 nano,31 steps, no legend, .jpeg'.format(loc = PulseScheme_A_1nano['Measurement file Path'],a = Lock_In_Settings['Time Constant'], b = Lock_In_Settings['Sensitivity'], c = playingtime),bbox_inches='tight')"
   ]
  },
  {
   "cell_type": "code",
   "execution_count": 45,
   "metadata": {},
   "outputs": [],
   "source": [
    "time_delay = np.linspace(-10,10,31)"
   ]
  },
  {
   "cell_type": "code",
   "execution_count": 47,
   "metadata": {},
   "outputs": [
    {
     "data": {
      "image/png": "[encoded data removed]",
      "text/plain": [
       "<Figure size 432x288 with 1 Axes>"
      ]
     },
     "metadata": {
      "needs_background": "light"
     },
     "output_type": "display_data"
    }
   ],
   "source": [
    "\n",
    "fig,axes = plt.subplots()\n",
    "\n",
    "axes.grid(True)\n",
    "\n",
    "plt.plot(time_delay,averaged_data,label=r'5 ns Probe Width ',color='green')\n",
    "#plt.plot(tm,pul,label = '{a} samples'.format(a = len(pul)))\n",
    "\n",
    "axes.set_xlabel(r'time delay [ns]')\n",
    "axes.set_ylabel(r'Diode Signal [V]')\n",
    "axes.set_title('Auto-Correlation 31 steps ')\n",
    "\n",
    "axes.legend(loc = 0)\n",
    "plt.show()\n",
    "\n",
    "fig.savefig(r'{loc}\\Autocorrelation function 31 steps probes  length tc = {a}, sens {b}, {c}s DAQ .jpeg'.format(loc = PulseScheme_A_1nano['Measurement file Path'],a = Lock_In_Settings['Time Constant'], b = Lock_In_Settings['Sensitivity'], c = playingtime ))"
   ]
  },
  {
   "cell_type": "markdown",
   "metadata": {},
   "source": [
    "# Vault"
   ]
  },
  {
   "cell_type": "code",
   "execution_count": null,
   "metadata": {},
   "outputs": [],
   "source": []
  },
  {
   "cell_type": "code",
   "execution_count": null,
   "metadata": {},
   "outputs": [],
   "source": []
  },
  {
   "cell_type": "code",
   "execution_count": null,
   "metadata": {},
   "outputs": [],
   "source": []
  },
  {
   "cell_type": "code",
   "execution_count": null,
   "metadata": {},
   "outputs": [],
   "source": []
  },
  {
   "cell_type": "code",
   "execution_count": null,
   "metadata": {},
   "outputs": [],
   "source": []
  },
  {
   "cell_type": "code",
   "execution_count": null,
   "metadata": {},
   "outputs": [],
   "source": []
  },
  {
   "cell_type": "code",
   "execution_count": null,
   "metadata": {},
   "outputs": [],
   "source": []
  },
  {
   "cell_type": "code",
   "execution_count": null,
   "metadata": {},
   "outputs": [],
   "source": [
    "125000000"
   ]
  },
  {
   "cell_type": "code",
   "execution_count": null,
   "metadata": {},
   "outputs": [
    {
     "data": {
      "text/plain": [
       "100.0"
      ]
     },
     "metadata": {},
     "output_type": "display_data"
    }
   ],
   "source": [
    "1/0.01"
   ]
  },
  {
   "cell_type": "code",
   "execution_count": null,
   "metadata": {},
   "outputs": [
    {
     "data": {
      "text/plain": [
       "0.011"
      ]
     },
     "metadata": {},
     "output_type": "display_data"
    }
   ],
   "source": [
    "0.0055*2"
   ]
  },
  {
   "cell_type": "code",
   "execution_count": null,
   "metadata": {},
   "outputs": [
    {
     "data": {
      "text/plain": [
       "93.45794392523365"
      ]
     },
     "metadata": {},
     "output_type": "display_data"
    }
   ],
   "source": [
    "1/(5.35e-3*2)"
   ]
  },
  {
   "cell_type": "code",
   "execution_count": null,
   "metadata": {},
   "outputs": [
    {
     "data": {
      "text/plain": [
       "0.00535"
      ]
     },
     "metadata": {},
     "output_type": "display_data"
    }
   ],
   "source": [
    "5.35e-3"
   ]
  },
  {
   "cell_type": "code",
   "execution_count": null,
   "metadata": {},
   "outputs": [
    {
     "data": {
      "text/plain": [
       "0.005376344086021506"
      ]
     },
     "metadata": {},
     "output_type": "display_data"
    }
   ],
   "source": [
    "modulation = 93 #Hz \n",
    "comp_time = 1/modulation\n",
    "cycle_time = comp_time/2\n",
    "cycle_time"
   ]
  },
  {
   "cell_type": "code",
   "execution_count": null,
   "metadata": {},
   "outputs": [
    {
     "data": {
      "text/plain": [
       "676775"
      ]
     },
     "metadata": {},
     "output_type": "display_data"
    }
   ],
   "source": [
    "sam_mili = int(126500000*5.35e-3)\n",
    "sam_mili"
   ]
  },
  {
   "cell_type": "code",
   "execution_count": null,
   "metadata": {},
   "outputs": [
    {
     "data": {
      "text/plain": [
       "(array([751000], dtype=int64),)"
      ]
     },
     "metadata": {},
     "output_type": "display_data"
    }
   ],
   "source": [
    "sol = Gran_find(125009000,126000000,5.35e-3)\n",
    "np.where(sol != 0)"
   ]
  },
  {
   "cell_type": "code",
   "execution_count": null,
   "metadata": {},
   "outputs": [],
   "source": [
    "samp_freq = sol[751000]"
   ]
  },
  {
   "cell_type": "code",
   "execution_count": null,
   "metadata": {},
   "outputs": [
    {
     "data": {
      "text/plain": [
       "14017.0"
      ]
     },
     "metadata": {},
     "output_type": "display_data"
    }
   ],
   "source": [
    "(samp_freq * 5.35e-3)/ 48"
   ]
  },
  {
   "cell_type": "code",
   "execution_count": null,
   "metadata": {},
   "outputs": [],
   "source": []
  },
  {
   "cell_type": "code",
   "execution_count": null,
   "metadata": {},
   "outputs": [
    {
     "data": {
      "text/plain": [
       "True"
      ]
     },
     "metadata": {},
     "output_type": "display_data"
    }
   ],
   "source": [
    "div_test(3072000000,6.25e-6)"
   ]
  },
  {
   "cell_type": "code",
   "execution_count": null,
   "metadata": {},
   "outputs": [],
   "source": [
    "sol = Gran_find(3071999990,3072000010,6.25e-6)"
   ]
  },
  {
   "cell_type": "code",
   "execution_count": null,
   "metadata": {},
   "outputs": [
    {
     "data": {
      "text/plain": [
       "(array([10], dtype=int64),)"
      ]
     },
     "metadata": {},
     "output_type": "display_data"
    }
   ],
   "source": [
    "np.nonzero(sol)"
   ]
  },
  {
   "cell_type": "code",
   "execution_count": null,
   "metadata": {},
   "outputs": [],
   "source": [
    "sols = np.array([div_test(i,6.25e-6) for i in samp_interval])"
   ]
  },
  {
   "cell_type": "code",
   "execution_count": null,
   "metadata": {},
   "outputs": [
    {
     "data": {
      "text/plain": [
       "array([ True, False, False])"
      ]
     },
     "metadata": {},
     "output_type": "display_data"
    }
   ],
   "source": [
    "sols"
   ]
  },
  {
   "cell_type": "code",
   "execution_count": null,
   "metadata": {},
   "outputs": [],
   "source": [
    "sol = np.zeros((len(samp_interval)))"
   ]
  },
  {
   "cell_type": "code",
   "execution_count": null,
   "metadata": {},
   "outputs": [
    {
     "data": {
      "text/plain": [
       "3"
      ]
     },
     "metadata": {},
     "output_type": "display_data"
    }
   ],
   "source": [
    "samp_interval.size"
   ]
  },
  {
   "cell_type": "code",
   "execution_count": null,
   "metadata": {},
   "outputs": [
    {
     "data": {
      "text/plain": [
       "3"
      ]
     },
     "metadata": {},
     "output_type": "display_data"
    }
   ],
   "source": [
    "sol.size"
   ]
  },
  {
   "cell_type": "code",
   "execution_count": null,
   "metadata": {},
   "outputs": [
    {
     "data": {
      "text/plain": [
       "array([3.072e+09, 0.000e+00, 0.000e+00])"
      ]
     },
     "metadata": {},
     "output_type": "display_data"
    }
   ],
   "source": [
    "sol"
   ]
  },
  {
   "cell_type": "code",
   "execution_count": null,
   "metadata": {},
   "outputs": [],
   "source": [
    "np.linspace(125000000,8000000000)"
   ]
  },
  {
   "cell_type": "code",
   "execution_count": null,
   "metadata": {},
   "outputs": [
    {
     "data": {
      "text/plain": [
       "875000000"
      ]
     },
     "metadata": {},
     "output_type": "display_data"
    }
   ],
   "source": [
    "np.arange(125000000,1000000000,1).size"
   ]
  },
  {
   "cell_type": "code",
   "execution_count": null,
   "metadata": {},
   "outputs": [],
   "source": [
    "for i,j,k in zip(fileA, fileB,range(0,len(fileA))):"
   ]
  },
  {
   "cell_type": "code",
   "execution_count": null,
   "metadata": {},
   "outputs": [],
   "source": [
    "def Mult_find_1GHz(time_length):\n",
    "    \"\"\" goes from lowest Sr to 1GHz\n",
    "    \n",
    "    \n",
    "    \n",
    "    \"\"\"\n",
    "    Sampling_freq_range = np.arange(125000000,1000000000,1)\n",
    "    sol = np.array((len(Sampling_freq_range)))\n",
    "    for j,i in (Sampling_freq_range,range(0,len(Sampling_freq_range))):\n",
    "        if ((j * time_length) % 48 == 0  ):\n",
    "            sol[i] = j\n",
    "        else:\n",
    "            sol[i] = 0\n",
    "\n",
    "    return sol   "
   ]
  },
  {
   "cell_type": "code",
   "execution_count": null,
   "metadata": {},
   "outputs": [
    {
     "ename": "ValueError",
     "evalue": "too many values to unpack (expected 2)",
     "output_type": "error",
     "traceback": [
      "\u001b[1;31m---------------------------------------------------------------------------\u001b[0m\n",
      "\u001b[1;31mValueError\u001b[0m                                Traceback (most recent call last)\n",
      "\u001b[1;32m<ipython-input-77-d1c8ff69814d>\u001b[0m in \u001b[0;36m<module>\u001b[1;34m\u001b[0m\n",
      "\u001b[1;32m----> 1\u001b[1;33m \u001b[0mMult_find_1GHz\u001b[0m\u001b[1;33m(\u001b[0m\u001b[1;36m0.005\u001b[0m\u001b[1;33m)\u001b[0m\u001b[1;33m\u001b[0m\u001b[1;33m\u001b[0m\u001b[0m\n",
      "\u001b[0m\n",
      "\u001b[1;32m<ipython-input-76-30a7392dc41e>\u001b[0m in \u001b[0;36mMult_find_1GHz\u001b[1;34m(time_length)\u001b[0m\n",
      "\u001b[0;32m      7\u001b[0m     \u001b[0mSampling_freq_range\u001b[0m \u001b[1;33m=\u001b[0m \u001b[0mnp\u001b[0m\u001b[1;33m.\u001b[0m\u001b[0marange\u001b[0m\u001b[1;33m(\u001b[0m\u001b[1;36m125000000\u001b[0m\u001b[1;33m,\u001b[0m\u001b[1;36m1000000000\u001b[0m\u001b[1;33m,\u001b[0m\u001b[1;36m1\u001b[0m\u001b[1;33m)\u001b[0m\u001b[1;33m\u001b[0m\u001b[1;33m\u001b[0m\u001b[0m\n",
      "\u001b[0;32m      8\u001b[0m     \u001b[0msol\u001b[0m \u001b[1;33m=\u001b[0m \u001b[0mnp\u001b[0m\u001b[1;33m.\u001b[0m\u001b[0marray\u001b[0m\u001b[1;33m(\u001b[0m\u001b[1;33m(\u001b[0m\u001b[0mlen\u001b[0m\u001b[1;33m(\u001b[0m\u001b[0mSampling_freq_range\u001b[0m\u001b[1;33m)\u001b[0m\u001b[1;33m)\u001b[0m\u001b[1;33m)\u001b[0m\u001b[1;33m\u001b[0m\u001b[1;33m\u001b[0m\u001b[0m\n",
      "\u001b[1;32m----> 9\u001b[1;33m     \u001b[1;32mfor\u001b[0m \u001b[0mj\u001b[0m\u001b[1;33m,\u001b[0m\u001b[0mi\u001b[0m \u001b[1;32min\u001b[0m \u001b[1;33m(\u001b[0m\u001b[0mSampling_freq_range\u001b[0m\u001b[1;33m,\u001b[0m\u001b[0mrange\u001b[0m\u001b[1;33m(\u001b[0m\u001b[1;36m0\u001b[0m\u001b[1;33m,\u001b[0m\u001b[0mlen\u001b[0m\u001b[1;33m(\u001b[0m\u001b[0mSampling_freq_range\u001b[0m\u001b[1;33m)\u001b[0m\u001b[1;33m)\u001b[0m\u001b[1;33m)\u001b[0m\u001b[1;33m:\u001b[0m\u001b[1;33m\u001b[0m\u001b[1;33m\u001b[0m\u001b[0m\n",
      "\u001b[0m\u001b[0;32m     10\u001b[0m         \u001b[1;32mif\u001b[0m \u001b[1;33m(\u001b[0m\u001b[1;33m(\u001b[0m\u001b[0mj\u001b[0m \u001b[1;33m*\u001b[0m \u001b[0mtime_length\u001b[0m\u001b[1;33m)\u001b[0m \u001b[1;33m%\u001b[0m \u001b[1;36m48\u001b[0m \u001b[1;33m==\u001b[0m \u001b[1;36m0\u001b[0m  \u001b[1;33m)\u001b[0m\u001b[1;33m:\u001b[0m\u001b[1;33m\u001b[0m\u001b[1;33m\u001b[0m\u001b[0m\n",
      "\u001b[0;32m     11\u001b[0m             \u001b[0msol\u001b[0m\u001b[1;33m[\u001b[0m\u001b[0mi\u001b[0m\u001b[1;33m]\u001b[0m \u001b[1;33m=\u001b[0m \u001b[0mj\u001b[0m\u001b[1;33m\u001b[0m\u001b[1;33m\u001b[0m\u001b[0m\n",
      "\n",
      "\u001b[1;31mValueError\u001b[0m: too many values to unpack (expected 2)"
     ]
    }
   ],
   "source": [
    "Mult_find_1GHz(0.005)"
   ]
  },
  {
   "cell_type": "code",
   "execution_count": null,
   "metadata": {},
   "outputs": [
    {
     "data": {
      "text/plain": [
       "0.005"
      ]
     },
     "metadata": {},
     "output_type": "display_data"
    }
   ],
   "source": [
    "5e-3"
   ]
  },
  {
   "cell_type": "code",
   "execution_count": null,
   "metadata": {},
   "outputs": [
    {
     "data": {
      "text/plain": [
       "960"
      ]
     },
     "metadata": {},
     "output_type": "display_data"
    }
   ],
   "source": [
    "48*20"
   ]
  },
  {
   "cell_type": "code",
   "execution_count": null,
   "metadata": {},
   "outputs": [
    {
     "data": {
      "text/plain": [
       "879252.3364485982"
      ]
     },
     "metadata": {},
     "output_type": "display_data"
    }
   ],
   "source": [
    "4704/5.35e-3"
   ]
  },
  {
   "cell_type": "code",
   "execution_count": null,
   "metadata": {},
   "outputs": [
    {
     "data": {
      "text/plain": [
       "(array([751000], dtype=int64),)"
      ]
     },
     "metadata": {},
     "output_type": "display_data"
    }
   ],
   "source": [
    "sol = Gran_find(125009000,126000000,5.35e-3)\n",
    "np.where(sol != 0)"
   ]
  },
  {
   "cell_type": "code",
   "execution_count": null,
   "metadata": {},
   "outputs": [],
   "source": [
    "samp_freq = int(sol[751000])"
   ]
  },
  {
   "cell_type": "code",
   "execution_count": null,
   "metadata": {},
   "outputs": [],
   "source": [
    "sam = int(samp_freq * 5.35e-3) "
   ]
  },
  {
   "cell_type": "code",
   "execution_count": null,
   "metadata": {},
   "outputs": [
    {
     "data": {
      "text/plain": [
       "125760000"
      ]
     },
     "metadata": {},
     "output_type": "display_data"
    }
   ],
   "source": [
    "samp_freq"
   ]
  },
  {
   "cell_type": "code",
   "execution_count": null,
   "metadata": {},
   "outputs": [],
   "source": [
    "125760000"
   ]
  },
  {
   "cell_type": "code",
   "execution_count": null,
   "metadata": {},
   "outputs": [
    {
     "data": {
      "text/plain": [
       "672816"
      ]
     },
     "metadata": {},
     "output_type": "display_data"
    }
   ],
   "source": [
    "sam"
   ]
  },
  {
   "cell_type": "code",
   "execution_count": null,
   "metadata": {},
   "outputs": [],
   "source": [
    "AWG_Settings_10micro= {\n",
    "    'Visa Resource Name': 'TCPIP0::ibn3-036.ibn-net.kfa-juelich.de::hislip0::INSTR',\n",
    "    'Voltage Amplitude':700,\n",
    "    'Clock Sample Frecuency':125760000,\n",
    "    'Output_Channel': 1,\n",
    "    'Mode': 'STS',\n",
    "    'Trigger In Threshold' : 1,\n",
    "    'Output Rout': 'DAC', #DAC output rout only has the BNC outputs: Direct Out and (Averaged) Direct Out # DC\n",
    "    'Data Directory': r'D:\\Alejandro\\Pulses\\diode measurements\\Prepared Pulse Schemes CSV\\50,20\\10micro'\n",
    "}"
   ]
  },
  {
   "cell_type": "code",
   "execution_count": null,
   "metadata": {},
   "outputs": [],
   "source": [
    "M8190A = VisaR(AWG_Settings_10micro,60000)"
   ]
  },
  {
   "cell_type": "code",
   "execution_count": null,
   "metadata": {},
   "outputs": [
    {
     "name": "stdout",
     "output_type": "stream",
     "text": [
      "Instruments Sampling Frecuency set to 1.25760000000000E+08Hz\n",
      "Instruments Direct Out DAC Output route Voltage set to 7.00000000000000E-01Volts\n",
      "AWG_Settings_Dict set to TRIGGERED Mode\n",
      "Trigger In threshold value set to 1.00000000000000E+00V\n"
     ]
    }
   ],
   "source": [
    "Initialization(M8190A,AWG_Settings_10micro)"
   ]
  },
  {
   "cell_type": "code",
   "execution_count": null,
   "metadata": {},
   "outputs": [],
   "source": [
    "Pump_10micro = {\n",
    "    'Name':'Pump_10micro',\n",
    "    'Amplitude': 50,\n",
    "    'Start time':10,\n",
    "    'End time':2e-10,\n",
    "    'Start Duration':10,\n",
    "    'End Duration':60,\n",
    "    'Sweep time':0,\n",
    "    'Sweep Duration':0\n",
    "}"
   ]
  },
  {
   "cell_type": "code",
   "execution_count": null,
   "metadata": {},
   "outputs": [],
   "source": [
    "ProbeA_10micro = {\n",
    "    'Name':'ProbeA_10micro',\n",
    "    'Amplitude':20,\n",
    "    'Start time':0,\n",
    "    'End time':40,\n",
    "    'Start Duration':10,\n",
    "    'End Duration':60,\n",
    "    'Sweep time':1,\n",
    "    'Sweep Duration':0\n",
    "}"
   ]
  },
  {
   "cell_type": "code",
   "execution_count": null,
   "metadata": {},
   "outputs": [],
   "source": [
    "ProbeB_10micro= {\n",
    "    'Name':'ProbeB_10micro',\n",
    "    'Amplitude':0,\n",
    "    'Start time':0,\n",
    "    'End time':12,\n",
    "    'Start Duration':1,\n",
    "    'End Duration':6,\n",
    "    'Sweep time':0,\n",
    "    'Sweep Duration':0\n",
    "}"
   ]
  },
  {
   "cell_type": "code",
   "execution_count": null,
   "metadata": {},
   "outputs": [],
   "source": [
    "PulseScheme_A_10micro =  {\n",
    "    'Name' : 'PulseScheme_A_10micro',\n",
    "    'Pulse Scheme': [Pump_10micro,ProbeA_10micro],\n",
    "    'Number of repetitions': 1,\n",
    "    'Measurement file Path': r'D:\\Alejandro\\Pulses\\diode measurements\\Autocorrelation measurements\\50,20\\10micro'\n",
    "}"
   ]
  },
  {
   "cell_type": "code",
   "execution_count": null,
   "metadata": {},
   "outputs": [],
   "source": [
    "PulseScheme_B_10micro =  {\n",
    "    'Name' : 'PulseScheme_B_10micro',\n",
    "    'Pulse Scheme': [ProbeB_10micro,ProbeB_10micro],\n",
    "    'Number of repetitions': 1,\n",
    "    'Measurement file Path': r'D:\\Alejandro\\Pulses\\diode measurements\\Autocorrelation measurements\\50,20\\10micro'\n",
    "}"
   ]
  },
  {
   "cell_type": "code",
   "execution_count": null,
   "metadata": {},
   "outputs": [],
   "source": [
    "93"
   ]
  },
  {
   "cell_type": "code",
   "execution_count": null,
   "metadata": {},
   "outputs": [
    {
     "data": {
      "image/png": "[encoded data removed]",
      "text/plain": [
       "<Figure size 432x288 with 1 Axes>"
      ]
     },
     "metadata": {},
     "output_type": "display_data"
    }
   ],
   "source": [
    "step = 30\n",
    "pul1 = Sweep_teil(PulseScheme_A_10micro,30,step,5.35,sam)\n",
    "\n",
    "\n",
    "#Plot\n",
    "fig,ax= plt.subplots()\n",
    "ax.grid(True)\n",
    "\n",
    "plt.plot(pul1[1],pul1[0],label= '{b} samples'.format(b = sam),color='orange')\n",
    "\n",
    "ax.set_ylabel('V  [mV]')\n",
    "ax.set_xlabel(r't [ms]')\n",
    "ax.set_title('Cycle A at step {a}'.format(a = step )) #Voltage Offset = 3mV, Marker Ampl = 50mV \n",
    "#ax.legend(loc=0)\n",
    "#plt.legend(bbox_to_anchor=(2.05, 1), loc='upper left', borderaxespad=0.)\n",
    "plt.show()\n",
    "\n",
    "fig.savefig(r'{loc}\\Cycle A, Probe width 1mili.jpeg'.format(loc = PulseScheme_A_10micro['Measurement file Path']),bbox_inches='tight')"
   ]
  },
  {
   "cell_type": "code",
   "execution_count": null,
   "metadata": {},
   "outputs": [],
   "source": [
    "sweeping_run_a_10micro = Sweeping_Single_List_File_teil(PulseScheme_A_10micro,30,5.35,sam,0,30,AWG_Settings_1mili,'A')[0]"
   ]
  },
  {
   "cell_type": "code",
   "execution_count": null,
   "metadata": {},
   "outputs": [],
   "source": [
    "sweeping_run_b_10micro = Sweeping_Single_List_File_teil(PulseScheme_B_10micro,30,5.35,sam,0,30,AWG_Settings_1mili,'B')[0]"
   ]
  },
  {
   "cell_type": "code",
   "execution_count": null,
   "metadata": {},
   "outputs": [],
   "source": [
    "#Exporting pickle\n",
    "\n",
    "with open(r\"{dict}\\cycleA_31steps_93Hz_10micro_125760000GHz.p\".format(dict = PulseScheme_A_10micro['Measurement file Path']), \"wb\") as k:\n",
    "    pickle.dump(sweeping_run_a_10micro, k)\n",
    "\n",
    "\n",
    "with open(r\"{dict}\\cycleB_31steps_93Hz_10micro_125760000GHz.p\".format(dict = PulseScheme_B_10micro['Measurement file Path']), \"wb\") as h:\n",
    "    pickle.dump(sweeping_run_b_10micro, h)"
   ]
  },
  {
   "cell_type": "code",
   "execution_count": null,
   "metadata": {},
   "outputs": [],
   "source": [
    "#Importing Pickle\n",
    "\n",
    "with open(r\"{dict}\\cycleA_31steps_93Hz_10micro_125760000GHz.p\".format(dict = PulseScheme_A_10micro['Measurement file Path']), \"rb\") as j:\n",
    "    sweeping_runa_10microicro = pickle.load(j)\n",
    "\n",
    "with open(r\"{dict}\\cycleB_31steps_93Hz_10micro_125760000GHz.p\".format(dict = PulseScheme_A_10micro['Measurement file Path']), \"rb\") as f:\n",
    "    sweeping_runb_10micro= pickle.load(f)"
   ]
  },
  {
   "cell_type": "code",
   "execution_count": null,
   "metadata": {},
   "outputs": [
    {
     "data": {
      "text/plain": [
       "'D:\\\\Alejandro\\\\Pulses\\\\diode measurements\\\\Prepared Pulse Schemes CSV\\\\50,20\\\\1mili\\\\SegmentA_672816_30.csv'"
      ]
     },
     "metadata": {},
     "output_type": "display_data"
    }
   ],
   "source": [
    "sweeping_run_a_10micro['Pulse File Location, at step 30']"
   ]
  },
  {
   "cell_type": "code",
   "execution_count": null,
   "metadata": {},
   "outputs": [
    {
     "data": {
      "text/plain": [
       "'D:\\\\Alejandro\\\\Pulses\\\\diode measurements\\\\Prepared Pulse Schemes CSV\\\\50,20\\\\1mili\\\\SegmentB_672816_30.csv'"
      ]
     },
     "metadata": {},
     "output_type": "display_data"
    }
   ],
   "source": [
    "sweeping_run_b_10micro['Pulse File Location, at step 30']"
   ]
  },
  {
   "cell_type": "code",
   "execution_count": null,
   "metadata": {},
   "outputs": [
    {
     "name": "stdout",
     "output_type": "stream",
     "text": [
      "Sequence loaded with the following segment data \"1,8,0,1,0,1919999,2,8,0,1,0,1919999\" and the advancement method is COND\n"
     ]
    },
    {
     "data": {
      "text/plain": [
       "0"
      ]
     },
     "metadata": {},
     "output_type": "display_data"
    }
   ],
   "source": [
    "Sequence_File(M8190A,sweeping_runa_10micro['Pulse File Location, at step 30'],sweeping_runb_10micro['Pulse File Location, at step 30'],8)"
   ]
  },
  {
   "cell_type": "code",
   "execution_count": null,
   "metadata": {},
   "outputs": [
    {
     "data": {
      "text/plain": [
       "12"
      ]
     },
     "metadata": {},
     "output_type": "display_data"
    }
   ],
   "source": [
    "M8190A.write('SEQ:DEL:ALL')"
   ]
  },
  {
   "cell_type": "code",
   "execution_count": null,
   "metadata": {},
   "outputs": [
    {
     "name": "stdout",
     "output_type": "stream",
     "text": [
      "Dummy File Loaded and playing\n",
      "Dummy File stopped and erased from AWGs memmory\n"
     ]
    }
   ],
   "source": [
    "Dummy_File(M8190A)"
   ]
  },
  {
   "cell_type": "code",
   "execution_count": null,
   "metadata": {},
   "outputs": [],
   "source": [
    "Lock_In_Settings = {\n",
    "'Time Constant' : '30ms',\n",
    "'Sensitivity' : '500 microVolts',\n",
    "'Reserve' : 'Normal',\n",
    "'db' : 24,\n",
    "'Modulation': '100Hz'\n",
    "}"
   ]
  },
  {
   "cell_type": "code",
   "execution_count": null,
   "metadata": {},
   "outputs": [
    {
     "name": "stdout",
     "output_type": "stream",
     "text": [
      "Sequence loaded with the following segment data \"1,1,0,1,0,672815,2,1,0,1,0,672815\" and the advancement method is COND\n",
      "Average Value for measurement at step 0 is -0.005428930947626763 V\n",
      "Sequence loaded with the following segment data \"1,1,0,1,0,672815,2,1,0,1,0,672815\" and the advancement method is COND\n",
      "Average Value for measurement at step 1 is 2.3446478335686955 V\n",
      "Sequence loaded with the following segment data \"1,1,0,1,0,672815,2,1,0,1,0,672815\" and the advancement method is COND\n",
      "Average Value for measurement at step 2 is 2.5550973792204332 V\n",
      "Sequence loaded with the following segment data \"1,1,0,1,0,672815,2,1,0,1,0,672815\" and the advancement method is COND\n",
      "Average Value for measurement at step 3 is 2.7866360582131264 V\n",
      "Sequence loaded with the following segment data \"1,1,0,1,0,672815,2,1,0,1,0,672815\" and the advancement method is COND\n"
     ]
    }
   ],
   "source": [
    "playingtime = 10\n",
    "\n",
    "Diode_Signal, averaged_data = Voltage_Autocorrelation_loop(M8190A,DAQ_Settings1,playingtime,sweeping_run_a_10micro,sweeping_run_b_10micro,PulseScheme_A_10micro['Measurement file Path'],Lock_In_Settings,1)"
   ]
  },
  {
   "cell_type": "code",
   "execution_count": null,
   "metadata": {},
   "outputs": [
    {
     "data": {
      "image/png": "[encoded data removed]",
      "text/plain": [
       "<Figure size 432x288 with 1 Axes>"
      ]
     },
     "metadata": {},
     "output_type": "display_data"
    }
   ],
   "source": [
    "fig,ax= plt.subplots()\n",
    "ax.grid(True)\n",
    "for i in range(0,len(Diode_Signal)):\n",
    "    plt.plot(Diode_Signal[i][1],Diode_Signal[i][0],label= 'Step {st}'.format(st = i ))\n",
    "\n",
    "ax.set_ylabel(r'V  [V]')\n",
    "ax.set_xlabel('t  [s]')\n",
    "ax.set_title(r' Diode Signal at Different Steps,  {b} Samples, 10$\\mu$s probe duration'.format(b = len(Diode_Signal[0][1]) ))\n",
    "#ax.legend(bbox_to_anchor=(1.05, 1), loc='upper left', borderaxespad=0.)\n",
    "#ax.legend(loc=0)\n",
    "plt.show()\n",
    "\n",
    "fig.savefig(r'{loc}\\Diode Signal time cstant = {a}, sensitivity {b},{c} daqseconds, 5ms scheme, probe duration 10 micro,31 steps, no legend,6Ghz .jpeg'.format(loc = PulseScheme_A_10micro['Measurement file Path'],a = Lock_In_Settings['Time Constant'], b = Lock_In_Settings['Sensitivity'], c = playingtime),bbox_inches='tight')"
   ]
  },
  {
   "cell_type": "code",
   "execution_count": null,
   "metadata": {},
   "outputs": [],
   "source": [
    "time_delay = np.linspace(-20,20,31)"
   ]
  },
  {
   "cell_type": "code",
   "execution_count": null,
   "metadata": {},
   "outputs": [
    {
     "data": {
      "image/png": "[encoded data removed]",
      "text/plain": [
       "<Figure size 432x288 with 1 Axes>"
      ]
     },
     "metadata": {},
     "output_type": "display_data"
    }
   ],
   "source": [
    "#change this to V regime\n",
    "fig,axes = plt.subplots()\n",
    "\n",
    "axes.grid(True)\n",
    "\n",
    "plt.plot(time_delay,averaged_data,label=r'10$\\mu$s Probe Width ',color='green')\n",
    "#plt.plot(tm,pul,label = '{a} samples'.format(a = len(pul)))\n",
    "\n",
    "axes.set_xlabel(r'time delay [$\\mu$s]')\n",
    "axes.set_ylabel(r'Diode Signal [V]')\n",
    "axes.set_title('Auto-Correlation 31 steps ')\n",
    "\n",
    "axes.legend(loc = 0)\n",
    "plt.show()\n",
    "\n",
    "fig.savefig(r'{loc}\\Autocorrelation function 31 steps probes 5ms length tc = {a}, sens {b}, {c}s DAQ 6Ghz.jpeg'.format(loc = PulseScheme_A_10micro['Measurement file Path'],a = Lock_In_Settings['Time Constant'], b = Lock_In_Settings['Sensitivity'], c = playingtime ))"
   ]
  }
 ],
 "metadata": {
  "interpreter": {
   "hash": "61820e52d70a1c1faf512b5148b4e2ed69ab88faacfacc53ee3905e34b33b48e"
  },
  "kernelspec": {
   "display_name": "Python 3",
   "language": "python",
   "name": "python3"
  },
  "language_info": {
   "codemirror_mode": {
    "name": "ipython",
    "version": 3
   },
   "file_extension": ".py",
   "mimetype": "text/x-python",
   "name": "python",
   "nbconvert_exporter": "python",
   "pygments_lexer": "ipython3",
   "version": "3.8.5"
  }
 },
 "nbformat": 4,
 "nbformat_minor": 2
}
