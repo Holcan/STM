{
 "cells": [
  {
   "cell_type": "code",
   "execution_count": null,
   "source": [],
   "outputs": [],
   "metadata": {}
  },
  {
   "cell_type": "code",
   "execution_count": null,
   "source": [
    "import numpy as np\r\n",
    "from numpy import loadtxt\r\n",
    "import pandas as pd\r\n",
    "import time\r\n",
    "import matplotlib\r\n",
    "import matplotlib.pyplot as plt\r\n",
    "import pyvisa as visa\r\n",
    "from matplotlib import animation\r\n",
    "from time import sleep\r\n",
    "from matplotlib.animation import FuncAnimation\r\n",
    "#Importing the functions from the module and the pulses dictionaries\r\n",
    "from Sweeping import *\r\n",
    "from Dictionaries import *\r\n",
    "from PulseFiles import *\r\n",
    "from Instrument import *\r\n",
    "import pyqtgraph as pg \r\n",
    "import nidaqmx\r\n",
    "import pickle"
   ],
   "outputs": [],
   "metadata": {}
  },
  {
   "cell_type": "code",
   "execution_count": null,
   "source": [
    "Adj(1e-9,45,100000)"
   ],
   "outputs": [
    {
     "output_type": "display_data",
     "data": {
      "text/plain": [
       "(144, 1296000000)"
      ]
     },
     "metadata": {}
    }
   ],
   "metadata": {}
  },
  {
   "cell_type": "code",
   "execution_count": null,
   "source": [],
   "outputs": [],
   "metadata": {}
  },
  {
   "cell_type": "markdown",
   "source": [
    "# 10 Nano"
   ],
   "metadata": {}
  },
  {
   "cell_type": "markdown",
   "source": [
    "90Hz"
   ],
   "metadata": {}
  },
  {
   "cell_type": "code",
   "execution_count": null,
   "source": [
    "modulation = 90 #Hz \r\n",
    "comp_time = 1/modulation\r\n",
    "cycle_time = comp_time/2\r\n",
    "cycle_time #seconds"
   ],
   "outputs": [
    {
     "output_type": "display_data",
     "data": {
      "text/plain": [
       "0.005555555555555556"
      ]
     },
     "metadata": {}
    }
   ],
   "metadata": {}
  },
  {
   "cell_type": "markdown",
   "source": [
    "divide cycle time in N parts"
   ],
   "metadata": {}
  },
  {
   "cell_type": "code",
   "execution_count": null,
   "source": [
    "cycle_nano = cycle_time *1e9"
   ],
   "outputs": [],
   "metadata": {}
  },
  {
   "cell_type": "code",
   "execution_count": null,
   "source": [
    "cycle_nano"
   ],
   "outputs": [
    {
     "output_type": "display_data",
     "data": {
      "text/plain": [
       "5555555.555555556"
      ]
     },
     "metadata": {}
    }
   ],
   "metadata": {}
  },
  {
   "cell_type": "code",
   "execution_count": null,
   "source": [
    "loop_10nano = 50000\r\n",
    "\r\n",
    "cycle_nano/loop_10nano"
   ],
   "outputs": [
    {
     "output_type": "display_data",
     "data": {
      "text/plain": [
       "111.11111111111111"
      ]
     },
     "metadata": {}
    }
   ],
   "metadata": {}
  },
  {
   "cell_type": "code",
   "execution_count": null,
   "source": [],
   "outputs": [],
   "metadata": {}
  },
  {
   "cell_type": "code",
   "execution_count": null,
   "source": [
    "interval = (cycle_nano) /loop_10nano"
   ],
   "outputs": [],
   "metadata": {}
  },
  {
   "cell_type": "code",
   "execution_count": null,
   "source": [
    "interval"
   ],
   "outputs": [
    {
     "output_type": "display_data",
     "data": {
      "text/plain": [
       "111.11111111111111"
      ]
     },
     "metadata": {}
    }
   ],
   "metadata": {}
  },
  {
   "cell_type": "code",
   "execution_count": null,
   "source": [
    "interval*loop_10nano"
   ],
   "outputs": [
    {
     "output_type": "display_data",
     "data": {
      "text/plain": [
       "5555555.555555556"
      ]
     },
     "metadata": {}
    }
   ],
   "metadata": {
    "scrolled": false
   }
  },
  {
   "cell_type": "code",
   "execution_count": null,
   "source": [
    "samples = int(3.02375e9 * (interval *1e-9))"
   ],
   "outputs": [],
   "metadata": {}
  },
  {
   "cell_type": "code",
   "execution_count": null,
   "source": [
    "samples"
   ],
   "outputs": [
    {
     "output_type": "display_data",
     "data": {
      "text/plain": [
       "335"
      ]
     },
     "metadata": {}
    }
   ],
   "metadata": {}
  },
  {
   "cell_type": "code",
   "execution_count": null,
   "source": [
    "sam = Granularity(samples)"
   ],
   "outputs": [],
   "metadata": {}
  },
  {
   "cell_type": "code",
   "execution_count": null,
   "source": [
    "sam"
   ],
   "outputs": [
    {
     "output_type": "display_data",
     "data": {
      "text/plain": [
       "336"
      ]
     },
     "metadata": {}
    }
   ],
   "metadata": {}
  },
  {
   "cell_type": "code",
   "execution_count": null,
   "source": [
    "interval = 1.344e-7"
   ],
   "outputs": [],
   "metadata": {}
  },
  {
   "cell_type": "code",
   "execution_count": null,
   "source": [
    "1.1111e-7"
   ],
   "outputs": [],
   "metadata": {}
  },
  {
   "cell_type": "code",
   "execution_count": null,
   "source": [
    "samples"
   ],
   "outputs": [
    {
     "output_type": "display_data",
     "data": {
      "text/plain": [
       "341"
      ]
     },
     "metadata": {}
    }
   ],
   "metadata": {}
  },
  {
   "cell_type": "code",
   "execution_count": null,
   "source": [],
   "outputs": [],
   "metadata": {}
  },
  {
   "cell_type": "code",
   "execution_count": null,
   "source": [
    "samples/48"
   ],
   "outputs": [
    {
     "output_type": "display_data",
     "data": {
      "text/plain": [
       "4.729166666666667"
      ]
     },
     "metadata": {}
    }
   ],
   "metadata": {}
  },
  {
   "cell_type": "code",
   "execution_count": null,
   "source": [
    "sam =336 #2nd option"
   ],
   "outputs": [],
   "metadata": {}
  },
  {
   "cell_type": "code",
   "execution_count": null,
   "source": [
    "sam"
   ],
   "outputs": [
    {
     "output_type": "display_data",
     "data": {
      "text/plain": [
       "336"
      ]
     },
     "metadata": {}
    }
   ],
   "metadata": {}
  },
  {
   "cell_type": "code",
   "execution_count": null,
   "source": [
    "sam/48"
   ],
   "outputs": [
    {
     "output_type": "display_data",
     "data": {
      "text/plain": [
       "7.0"
      ]
     },
     "metadata": {}
    }
   ],
   "metadata": {}
  },
  {
   "cell_type": "code",
   "execution_count": null,
   "source": [
    "1.25\r\n",
    "320"
   ],
   "outputs": [],
   "metadata": {}
  },
  {
   "cell_type": "code",
   "execution_count": null,
   "source": [],
   "outputs": [],
   "metadata": {}
  },
  {
   "cell_type": "markdown",
   "source": [
    "50000 gives 80 mod"
   ],
   "metadata": {}
  },
  {
   "cell_type": "markdown",
   "source": [
    "## 3 time separation"
   ],
   "metadata": {}
  },
  {
   "cell_type": "code",
   "execution_count": null,
   "source": [
    "full_cycle = 11e-3\r\n",
    "loop_number = 50000\r\n",
    "part_cycle = full_cycle / loop_number\r\n",
    "part_cycle"
   ],
   "outputs": [
    {
     "output_type": "display_data",
     "data": {
      "text/plain": [
       "2.1999999999999998e-07"
      ]
     },
     "metadata": {}
    }
   ],
   "metadata": {
    "scrolled": true
   }
  },
  {
   "cell_type": "code",
   "execution_count": null,
   "source": [
    "interval = part_cycle * 1e9 #micro\r\n",
    "interval"
   ],
   "outputs": [
    {
     "output_type": "display_data",
     "data": {
      "text/plain": [
       "219.99999999999997"
      ]
     },
     "metadata": {}
    }
   ],
   "metadata": {}
  },
  {
   "cell_type": "code",
   "execution_count": null,
   "source": [
    "part_cycle * loop_number"
   ],
   "outputs": [
    {
     "output_type": "display_data",
     "data": {
      "text/plain": [
       "0.011"
      ]
     },
     "metadata": {}
    }
   ],
   "metadata": {}
  },
  {
   "cell_type": "code",
   "execution_count": null,
   "source": [
    "cycle_time = 11e-3\r\n",
    "comp_time = cycle_time * 2\r\n",
    "mod = 1/comp_time\r\n",
    "mod"
   ],
   "outputs": [
    {
     "output_type": "display_data",
     "data": {
      "text/plain": [
       "45.45454545454546"
      ]
     },
     "metadata": {}
    }
   ],
   "metadata": {}
  },
  {
   "cell_type": "code",
   "execution_count": null,
   "source": [
    "samples = int(3024000000 * part_cycle)\r\n",
    "samples"
   ],
   "outputs": [
    {
     "output_type": "display_data",
     "data": {
      "text/plain": [
       "665"
      ]
     },
     "metadata": {}
    }
   ],
   "metadata": {}
  },
  {
   "cell_type": "code",
   "execution_count": null,
   "source": [
    "samples/48"
   ],
   "outputs": [
    {
     "output_type": "display_data",
     "data": {
      "text/plain": [
       "13.854166666666666"
      ]
     },
     "metadata": {}
    }
   ],
   "metadata": {}
  },
  {
   "cell_type": "code",
   "execution_count": null,
   "source": [],
   "outputs": [],
   "metadata": {}
  },
  {
   "cell_type": "code",
   "execution_count": null,
   "source": [
    "sam = Granularity(samples)\r\n",
    "sam"
   ],
   "outputs": [
    {
     "output_type": "display_data",
     "data": {
      "text/plain": [
       "672"
      ]
     },
     "metadata": {}
    }
   ],
   "metadata": {
    "scrolled": true
   }
  },
  {
   "cell_type": "code",
   "execution_count": null,
   "source": [
    "Sr = 3024000000\r\n",
    "sam = 336\r\n",
    "\r\n",
    "tim = sam/Sr"
   ],
   "outputs": [],
   "metadata": {}
  },
  {
   "cell_type": "code",
   "execution_count": null,
   "source": [
    "tim"
   ],
   "outputs": [
    {
     "output_type": "display_data",
     "data": {
      "text/plain": [
       "1.1111111111111111e-07"
      ]
     },
     "metadata": {}
    }
   ],
   "metadata": {}
  },
  {
   "cell_type": "code",
   "execution_count": null,
   "source": [
    "interval = tim*1e9 #nano"
   ],
   "outputs": [],
   "metadata": {}
  },
  {
   "cell_type": "code",
   "execution_count": null,
   "source": [
    "interval"
   ],
   "outputs": [
    {
     "output_type": "display_data",
     "data": {
      "text/plain": [
       "111.11111111111111"
      ]
     },
     "metadata": {}
    }
   ],
   "metadata": {}
  },
  {
   "cell_type": "markdown",
   "source": [
    "# AWG and Pulse files setup"
   ],
   "metadata": {}
  },
  {
   "cell_type": "code",
   "execution_count": null,
   "source": [
    "AWG_Settings_10nano= {\r\n",
    "    'Visa Resource Name': 'TCPIP0::ibn3-036.ibn-net.kfa-juelich.de::hislip0::INSTR',\r\n",
    "    'Voltage Amplitude':700,\r\n",
    "    'Clock Sample Frecuency':3024000000,\r\n",
    "    'Output_Channel': 1,\r\n",
    "    'Mode': 'STS',\r\n",
    "    'Trigger In Threshold' : 1,\r\n",
    "    'Output Rout': 'DC', #DAC output rout only has the BNC outputs: Direct Out and (Averaged) Direct Out # DC\r\n",
    "    'Data Directory': r'D:\\Alejandro\\Pulses\\diode measurements\\Prepared Pulse Schemes CSV\\50,20\\10nano'\r\n",
    "}"
   ],
   "outputs": [],
   "metadata": {}
  },
  {
   "cell_type": "code",
   "execution_count": null,
   "source": [
    "M8190A = VisaR(AWG_Settings_10nano,60000)"
   ],
   "outputs": [],
   "metadata": {}
  },
  {
   "cell_type": "code",
   "execution_count": null,
   "source": [
    "Initialization(M8190A,AWG_Settings_10nano)"
   ],
   "outputs": [
    {
     "output_type": "stream",
     "name": "stdout",
     "text": [
      "Instruments Sampling Frecuency set to 3.02375000000000E+09Hz\n",
      "Instruments Direct Out DAC Output route Voltage set to 7.00000000000000E-01Volts\n",
      "AWG_Settings_Dict set to TRIGGERED Mode\n",
      "Trigger In threshold value set to 1.00000000000000E+00V\n"
     ]
    }
   ],
   "metadata": {}
  },
  {
   "cell_type": "code",
   "execution_count": null,
   "source": [
    "M8190A.write('FREQ:RAST 3024000000')"
   ],
   "outputs": [
    {
     "output_type": "display_data",
     "data": {
      "text/plain": [
       "21"
      ]
     },
     "metadata": {}
    }
   ],
   "metadata": {}
  },
  {
   "cell_type": "code",
   "execution_count": null,
   "source": [
    "Pump_10nano = {\r\n",
    "    'Name':'Pump_10nano',\r\n",
    "    'Amplitude': 50,\r\n",
    "    'Start time':50,\r\n",
    "    'End time':2e-10,\r\n",
    "    'Start Duration':10,\r\n",
    "    'End Duration':60,\r\n",
    "    'Sweep time':0,\r\n",
    "    'Sweep Duration':0\r\n",
    "}"
   ],
   "outputs": [],
   "metadata": {}
  },
  {
   "cell_type": "code",
   "execution_count": null,
   "source": [
    "ProbeA_10nano = {\r\n",
    "    'Name':'ProbeA_10nano',\r\n",
    "    'Amplitude':20,\r\n",
    "    'Start time':10,\r\n",
    "    'End time':90,\r\n",
    "    'Start Duration':10,\r\n",
    "    'End Duration':60,\r\n",
    "    'Sweep time':1,\r\n",
    "    'Sweep Duration':0\r\n",
    "}"
   ],
   "outputs": [],
   "metadata": {}
  },
  {
   "cell_type": "code",
   "execution_count": null,
   "source": [
    "ProbeB_10nano= {\r\n",
    "    'Name':'ProbeB_10nano',\r\n",
    "    'Amplitude':0,\r\n",
    "    'Start time':0,\r\n",
    "    'End time':12,\r\n",
    "    'Start Duration':1,\r\n",
    "    'End Duration':6,\r\n",
    "    'Sweep time':0,\r\n",
    "    'Sweep Duration':0\r\n",
    "}"
   ],
   "outputs": [],
   "metadata": {}
  },
  {
   "cell_type": "code",
   "execution_count": null,
   "source": [
    "PulseScheme_A_10nano =  {\r\n",
    "    'Name' : 'PulseScheme_A_10nano',\r\n",
    "    'Pulse Scheme': [Pump_10nano,ProbeA_10nano],\r\n",
    "    'Number of repetitions': 1,\r\n",
    "    'Measurement file Path': r'D:\\Alejandro\\Pulses\\diode measurements\\Autocorrelation measurements\\50,20\\10nano'\r\n",
    "}"
   ],
   "outputs": [],
   "metadata": {}
  },
  {
   "cell_type": "code",
   "execution_count": null,
   "source": [
    "PulseScheme_B_10nano =  {\r\n",
    "    'Name' : 'PulseScheme_B_10nano',\r\n",
    "    'Pulse Scheme': [ProbeB_10nano,ProbeB_10nano],\r\n",
    "    'Number of repetitions': 1,\r\n",
    "    'Measurement file Path': r'D:\\Alejandro\\Pulses\\diode measurements\\Autocorrelation measurements\\50,20\\10nano'\r\n",
    "}"
   ],
   "outputs": [],
   "metadata": {}
  },
  {
   "cell_type": "code",
   "execution_count": null,
   "source": [
    "93"
   ],
   "outputs": [],
   "metadata": {}
  },
  {
   "cell_type": "code",
   "execution_count": null,
   "source": [
    "interval = 111"
   ],
   "outputs": [],
   "metadata": {}
  },
  {
   "cell_type": "code",
   "execution_count": null,
   "source": [
    "111"
   ],
   "outputs": [],
   "metadata": {}
  },
  {
   "cell_type": "code",
   "execution_count": null,
   "source": [
    "sam"
   ],
   "outputs": [
    {
     "output_type": "display_data",
     "data": {
      "text/plain": [
       "672"
      ]
     },
     "metadata": {}
    }
   ],
   "metadata": {}
  },
  {
   "cell_type": "code",
   "execution_count": null,
   "source": [
    "step = 0\r\n",
    "pul1 = Sweep_teil(PulseScheme_A_10nano,30,step,interval,sam)\r\n",
    "\r\n",
    "\r\n",
    "#Plot\r\n",
    "fig,ax= plt.subplots()\r\n",
    "ax.grid(True)\r\n",
    "\r\n",
    "plt.plot(pul1[1],pul1[0],label= '{b} samples'.format(b = sam),color='red')\r\n",
    "\r\n",
    "ax.set_ylabel('V  [mV]')\r\n",
    "ax.set_xlabel(r't [ns]')\r\n",
    "ax.set_title('Cycle A at step {a}'.format(a = step )) #Voltage Offset = 3mV, Marker Ampl = 50mV \r\n",
    "#ax.legend(loc=0)\r\n",
    "#plt.legend(bbox_to_anchor=(2.05, 1), loc='upper left', borderaxespad=0.)\r\n",
    "plt.show()\r\n",
    "\r\n",
    "fig.savefig(r'{loc}\\Cycle A, Probe width 10nano, {a} step, 45 Hz.jpeg'.format(a = step , loc = PulseScheme_A_10nano['Measurement file Path']),bbox_inches='tight')"
   ],
   "outputs": [
    {
     "output_type": "display_data",
     "data": {
      "image/png": "[encoded data removed]",
      "text/plain": [
       "<Figure size 432x288 with 1 Axes>"
      ]
     },
     "metadata": {}
    }
   ],
   "metadata": {}
  },
  {
   "cell_type": "code",
   "execution_count": null,
   "source": [
    "sweeping_run_a_10nano = Sweeping_Single_List_File_teil(PulseScheme_A_10nano,30,interval,sam,0,30,AWG_Settings_10nano,'A')[0]"
   ],
   "outputs": [],
   "metadata": {}
  },
  {
   "cell_type": "code",
   "execution_count": null,
   "source": [
    "sweeping_run_b_10nano = Sweeping_Single_List_File_teil(PulseScheme_B_10nano,30,interval,sam,0,30,AWG_Settings_10nano,'B')[0]"
   ],
   "outputs": [],
   "metadata": {}
  },
  {
   "cell_type": "code",
   "execution_count": null,
   "source": [
    "#Exporting pickle\r\n",
    "\r\n",
    "with open(r\"{dict}\\cycleA_31steps_45Hz_10nano_.p\".format(dict = PulseScheme_A_10nano['Measurement file Path']), \"wb\") as k:\r\n",
    "    pickle.dump(sweeping_run_a_10nano, k)\r\n",
    "\r\n",
    "\r\n",
    "with open(r\"{dict}\\cycleB_31steps_45Hz_10nano_.p\".format(dict = PulseScheme_B_10nano['Measurement file Path']), \"wb\") as h:\r\n",
    "    pickle.dump(sweeping_run_b_10nano, h)"
   ],
   "outputs": [],
   "metadata": {}
  },
  {
   "cell_type": "code",
   "execution_count": null,
   "source": [
    "#Importing Pickle\r\n",
    "\r\n",
    "with open(r\"{dict}\\cycleA_31steps_93Hz_10nano_.p\".format(dict = PulseScheme_A_10nano['Measurement file Path']), \"rb\") as j:\r\n",
    "    sweeping_runa_10nano = pickle.load(j)\r\n",
    "\r\n",
    "with open(r\"{dict}\\cycleB_31steps_93Hz_10nano_.p\".format(dict = PulseScheme_A_10nano['Measurement file Path']), \"rb\") as f:\r\n",
    "    sweeping_runb_10nano= pickle.load(f)"
   ],
   "outputs": [],
   "metadata": {}
  },
  {
   "cell_type": "code",
   "execution_count": null,
   "source": [
    "sweeping_run_a_10nano['Pulse File Location, at step 30']"
   ],
   "outputs": [
    {
     "output_type": "display_data",
     "data": {
      "text/plain": [
       "'D:\\\\Alejandro\\\\Pulses\\\\diode measurements\\\\Prepared Pulse Schemes CSV\\\\50,20\\\\1mili\\\\SegmentA_672816_30.csv'"
      ]
     },
     "metadata": {}
    }
   ],
   "metadata": {}
  },
  {
   "cell_type": "code",
   "execution_count": null,
   "source": [
    "sweeping_run_b_10nano['Pulse File Location, at step 30']"
   ],
   "outputs": [
    {
     "output_type": "display_data",
     "data": {
      "text/plain": [
       "'D:\\\\Alejandro\\\\Pulses\\\\diode measurements\\\\Prepared Pulse Schemes CSV\\\\50,20\\\\1mili\\\\SegmentB_672816_30.csv'"
      ]
     },
     "metadata": {}
    }
   ],
   "metadata": {}
  },
  {
   "cell_type": "code",
   "execution_count": null,
   "source": [
    "loop_10nano"
   ],
   "outputs": [
    {
     "output_type": "display_data",
     "data": {
      "text/plain": [
       "50000"
      ]
     },
     "metadata": {}
    }
   ],
   "metadata": {}
  },
  {
   "cell_type": "code",
   "execution_count": null,
   "source": [
    "Sequence_File(M8190A,sweeping_runa_10nano['Pulse File Location, at step 30'],sweeping_runb_10nano['Pulse File Location, at step 30'],5000)"
   ],
   "outputs": [
    {
     "output_type": "stream",
     "name": "stdout",
     "text": [
      "Sequence loaded with the following segment data \"1,8,0,1,0,1919999,2,8,0,1,0,1919999\" and the advancement method is COND\n"
     ]
    },
    {
     "output_type": "display_data",
     "data": {
      "text/plain": [
       "0"
      ]
     },
     "metadata": {}
    }
   ],
   "metadata": {}
  },
  {
   "cell_type": "markdown",
   "source": [
    "# Loading"
   ],
   "metadata": {}
  },
  {
   "cell_type": "code",
   "execution_count": null,
   "source": [
    "M8190A.write('SEQ:DEL:ALL')"
   ],
   "outputs": [
    {
     "output_type": "display_data",
     "data": {
      "text/plain": [
       "12"
      ]
     },
     "metadata": {}
    }
   ],
   "metadata": {
    "scrolled": true
   }
  },
  {
   "cell_type": "code",
   "execution_count": null,
   "source": [
    "Dummy_File(M8190A)"
   ],
   "outputs": [
    {
     "output_type": "stream",
     "name": "stdout",
     "text": [
      "Dummy File Loaded and playing\n",
      "Dummy File stopped and erased from AWGs memmory\n"
     ]
    }
   ],
   "metadata": {}
  },
  {
   "cell_type": "code",
   "execution_count": null,
   "source": [
    "Lock_In_Settings = {\r\n",
    "'Time Constant' : '10ms',\r\n",
    "'Sensitivity' : '200 microVolts',\r\n",
    "'Reserve' : 'Normal',\r\n",
    "'db' : 24,\r\n",
    "'Modulation': '45Hz'\r\n",
    "}"
   ],
   "outputs": [],
   "metadata": {}
  },
  {
   "cell_type": "code",
   "execution_count": null,
   "source": [
    "playingtime = 20\r\n",
    "\r\n",
    "Diode_Signal, averaged_data = Voltage_Autocorrelation_loop(M8190A,DAQ_Settings1,playingtime,sweeping_run_a_10nano,sweeping_run_b_10nano,PulseScheme_A_10nano['Measurement file Path'],Lock_In_Settings,50000)"
   ],
   "outputs": [
    {
     "output_type": "stream",
     "name": "stdout",
     "text": [
      "Sequence loaded with the following segment data \"1,50000,0,1,0,671,2,50000,0,1,0,671\" and the advancement method is COND\n",
      "Average Value for measurement at step 0 is 0.7805378128136736 V\n",
      "Sequence loaded with the following segment data \"1,50000,0,1,0,671,2,50000,0,1,0,671\" and the advancement method is COND\n",
      "Average Value for measurement at step 1 is 0.7897865842474963 V\n",
      "Sequence loaded with the following segment data \"1,50000,0,1,0,671,2,50000,0,1,0,671\" and the advancement method is COND\n",
      "Average Value for measurement at step 2 is 0.7934343391868712 V\n",
      "Sequence loaded with the following segment data \"1,50000,0,1,0,671,2,50000,0,1,0,671\" and the advancement method is COND\n",
      "Average Value for measurement at step 3 is 0.7952477893478984 V\n",
      "Sequence loaded with the following segment data \"1,50000,0,1,0,671,2,50000,0,1,0,671\" and the advancement method is COND\n",
      "Average Value for measurement at step 4 is 0.7898492838731554 V\n",
      "Sequence loaded with the following segment data \"1,50000,0,1,0,671,2,50000,0,1,0,671\" and the advancement method is COND\n",
      "Average Value for measurement at step 5 is 0.7931474612993072 V\n",
      "Sequence loaded with the following segment data \"1,50000,0,1,0,671,2,50000,0,1,0,671\" and the advancement method is COND\n",
      "Average Value for measurement at step 6 is 0.7964456000173418 V\n",
      "Sequence loaded with the following segment data \"1,50000,0,1,0,671,2,50000,0,1,0,671\" and the advancement method is COND\n",
      "Average Value for measurement at step 7 is 0.7994716409292307 V\n",
      "Sequence loaded with the following segment data \"1,50000,0,1,0,671,2,50000,0,1,0,671\" and the advancement method is COND\n",
      "Average Value for measurement at step 8 is 0.8107780834290478 V\n",
      "Sequence loaded with the following segment data \"1,50000,0,1,0,671,2,50000,0,1,0,671\" and the advancement method is COND\n",
      "Average Value for measurement at step 9 is 0.8155447959025183 V\n",
      "Sequence loaded with the following segment data \"1,50000,0,1,0,671,2,50000,0,1,0,671\" and the advancement method is COND\n",
      "Average Value for measurement at step 10 is 0.823625955816565 V\n",
      "Sequence loaded with the following segment data \"1,50000,0,1,0,671,2,50000,0,1,0,671\" and the advancement method is COND\n",
      "Average Value for measurement at step 11 is 0.8302593774281772 V\n",
      "Sequence loaded with the following segment data \"1,50000,0,1,0,671,2,50000,0,1,0,671\" and the advancement method is COND\n",
      "Average Value for measurement at step 12 is 0.8294604564456624 V\n",
      "Sequence loaded with the following segment data \"1,50000,0,1,0,671,2,50000,0,1,0,671\" and the advancement method is COND\n",
      "Average Value for measurement at step 13 is 0.8360514142374984 V\n",
      "Sequence loaded with the following segment data \"1,50000,0,1,0,671,2,50000,0,1,0,671\" and the advancement method is COND\n",
      "Average Value for measurement at step 14 is 0.8396841571408069 V\n",
      "Sequence loaded with the following segment data \"1,50000,0,1,0,671,2,50000,0,1,0,671\" and the advancement method is COND\n",
      "Average Value for measurement at step 15 is 0.8517090043530695 V\n",
      "Sequence loaded with the following segment data \"1,50000,0,1,0,671,2,50000,0,1,0,671\" and the advancement method is COND\n",
      "Average Value for measurement at step 16 is 0.8494026826773395 V\n",
      "Sequence loaded with the following segment data \"1,50000,0,1,0,671,2,50000,0,1,0,671\" and the advancement method is COND\n",
      "Average Value for measurement at step 17 is 0.8433939734983904 V\n",
      "Sequence loaded with the following segment data \"1,50000,0,1,0,671,2,50000,0,1,0,671\" and the advancement method is COND\n",
      "Average Value for measurement at step 18 is 0.8363712960834493 V\n",
      "Sequence loaded with the following segment data \"1,50000,0,1,0,671,2,50000,0,1,0,671\" and the advancement method is COND\n",
      "Average Value for measurement at step 19 is 0.8199814508742336 V\n",
      "Sequence loaded with the following segment data \"1,50000,0,1,0,671,2,50000,0,1,0,671\" and the advancement method is COND\n",
      "Average Value for measurement at step 20 is 0.8140158828918845 V\n",
      "Sequence loaded with the following segment data \"1,50000,0,1,0,671,2,50000,0,1,0,671\" and the advancement method is COND\n",
      "Average Value for measurement at step 21 is 0.8081406209296258 V\n",
      "Sequence loaded with the following segment data \"1,50000,0,1,0,671,2,50000,0,1,0,671\" and the advancement method is COND\n",
      "Average Value for measurement at step 22 is 0.8036864582431734 V\n",
      "Sequence loaded with the following segment data \"1,50000,0,1,0,671,2,50000,0,1,0,671\" and the advancement method is COND\n",
      "Average Value for measurement at step 23 is 0.8066179759400333 V\n",
      "Sequence loaded with the following segment data \"1,50000,0,1,0,671,2,50000,0,1,0,671\" and the advancement method is COND\n",
      "Average Value for measurement at step 24 is 0.8026265632477806 V\n",
      "Sequence loaded with the following segment data \"1,50000,0,1,0,671,2,50000,0,1,0,671\" and the advancement method is COND\n",
      "Average Value for measurement at step 25 is 0.798835127533956 V\n",
      "Sequence loaded with the following segment data \"1,50000,0,1,0,671,2,50000,0,1,0,671\" and the advancement method is COND\n",
      "Average Value for measurement at step 26 is 0.7963210715462518 V\n",
      "Sequence loaded with the following segment data \"1,50000,0,1,0,671,2,50000,0,1,0,671\" and the advancement method is COND\n",
      "Average Value for measurement at step 27 is 0.7869485453482491 V\n",
      "Sequence loaded with the following segment data \"1,50000,0,1,0,671,2,50000,0,1,0,671\" and the advancement method is COND\n",
      "Average Value for measurement at step 28 is 0.7842727396065393 V\n",
      "Sequence loaded with the following segment data \"1,50000,0,1,0,671,2,50000,0,1,0,671\" and the advancement method is COND\n",
      "Average Value for measurement at step 29 is 0.7823037497588733 V\n",
      "Sequence loaded with the following segment data \"1,50000,0,1,0,671,2,50000,0,1,0,671\" and the advancement method is COND\n",
      "Average Value for measurement at step 30 is 0.7870042609484929 V\n"
     ]
    }
   ],
   "metadata": {
    "scrolled": true
   }
  },
  {
   "cell_type": "code",
   "execution_count": null,
   "source": [
    "fig,ax= plt.subplots()\r\n",
    "ax.grid(True)\r\n",
    "for i in range(0,len(Diode_Signal)):\r\n",
    "    plt.plot(Diode_Signal[i][1],Diode_Signal[i][0],label= 'Step {st}'.format(st = i ))\r\n",
    "\r\n",
    "ax.set_ylabel(r'V  [V]')\r\n",
    "ax.set_xlabel('t  [s]')\r\n",
    "ax.set_title(r' Diode Signal at Different Steps,  {b} Samples, 10ns probe duration'.format(b = len(Diode_Signal[0][1]) ))\r\n",
    "#ax.legend(bbox_to_anchor=(1.05, 1), loc='upper left', borderaxespad=0.)\r\n",
    "#ax.legend(loc=0)\r\n",
    "plt.show()\r\n",
    "\r\n",
    "fig.savefig(r'{loc}\\Diode Signal time cstant = {a}, sensitivity {b},{c} daqseconds, , probe duration 10 nano,31 steps, no legend, {g} modulation .jpeg'.format(g = Lock_In_Settings['Modulation'],loc = PulseScheme_A_10nano['Measurement file Path'],a = Lock_In_Settings['Time Constant'], b = Lock_In_Settings['Sensitivity'], c = playingtime),bbox_inches='tight')"
   ],
   "outputs": [
    {
     "output_type": "display_data",
     "data": {
      "image/png": "[encoded data removed]",
      "text/plain": [
       "<Figure size 432x288 with 1 Axes>"
      ]
     },
     "metadata": {}
    }
   ],
   "metadata": {}
  },
  {
   "cell_type": "code",
   "execution_count": null,
   "source": [
    "time_delay = np.linspace(-40,40,31)"
   ],
   "outputs": [],
   "metadata": {}
  },
  {
   "cell_type": "code",
   "execution_count": null,
   "source": [
    "%matplotlib inline"
   ],
   "outputs": [],
   "metadata": {}
  },
  {
   "cell_type": "code",
   "execution_count": null,
   "source": [
    "#change this to V regime\r\n",
    "fig,axes = plt.subplots()\r\n",
    "\r\n",
    "axes.grid(True)\r\n",
    "\r\n",
    "plt.plot(time_delay,averaged_data,label=r'10 ns Probe Width ',color='black')\r\n",
    "#plt.plot(tm,pul,label = '{a} samples'.format(a = len(pul)))\r\n",
    "\r\n",
    "axes.set_xlabel(r'time delay [ns]')\r\n",
    "axes.set_ylabel(r'Diode Signal [V]')\r\n",
    "axes.set_title('Auto-Correlation 31 steps ')\r\n",
    "\r\n",
    "axes.legend(loc = 0)\r\n",
    "plt.show()\r\n",
    "\r\n",
    "fig.savefig(r'{loc}\\Autocorrelation function 31 steps probes  length tc = {a}, sens {b}, {c}s DAQ, {g} modulation .jpeg'.format( g = Lock_In_Settings['Modulation'], loc = PulseScheme_A_10nano['Measurement file Path'],a = Lock_In_Settings['Time Constant'], b = Lock_In_Settings['Sensitivity'], c = playingtime ))"
   ],
   "outputs": [
    {
     "output_type": "display_data",
     "data": {
      "image/png": "[encoded data removed]",
      "text/plain": [
       "<Figure size 432x288 with 1 Axes>"
      ]
     },
     "metadata": {}
    }
   ],
   "metadata": {}
  }
 ],
 "metadata": {
  "orig_nbformat": 4,
  "language_info": {
   "name": "python"
  }
 },
 "nbformat": 4,
 "nbformat_minor": 2
}