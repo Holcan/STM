{
 "cells": [
  {
   "cell_type": "code",
   "execution_count": 1,
   "metadata": {},
   "outputs": [],
   "source": [
    "import numpy as np\n",
    "from numpy import loadtxt\n",
    "import pandas as pd\n",
    "import time\n",
    "import matplotlib\n",
    "import matplotlib.pyplot as plt\n",
    "import pyvisa as visa\n",
    "from matplotlib import animation\n",
    "from time import sleep\n",
    "from matplotlib.animation import FuncAnimation\n",
    "#Importing the functions from the module and the pulses dictionaries\n",
    "from Sweeping import *\n",
    "from Dictionaries import *\n",
    "from PulseFiles import *\n",
    "from Instrument import *\n",
    "import pyqtgraph as pg \n",
    "import nidaqmx\n",
    "import pickle"
   ]
  },
  {
   "cell_type": "markdown",
   "metadata": {},
   "source": [
    "#  1nano"
   ]
  },
  {
   "cell_type": "code",
   "execution_count": 64,
   "metadata": {},
   "outputs": [],
   "source": [
    "modulation = 93 #Hz\n",
    "loop_number = 149000    \n",
    "res = 1/7098000000\n",
    "\n",
    "\n",
    "sam, sr , segment_length = Adj9(res,modulation,loop_number)"
   ]
  },
  {
   "cell_type": "code",
   "execution_count": 36,
   "metadata": {},
   "outputs": [
    {
     "data": {
      "text/plain": [
       "336"
      ]
     },
     "execution_count": 36,
     "metadata": {},
     "output_type": "execute_result"
    }
   ],
   "source": [
    "sam"
   ]
  },
  {
   "cell_type": "code",
   "execution_count": 37,
   "metadata": {},
   "outputs": [
    {
     "data": {
      "text/plain": [
       "6249600000"
      ]
     },
     "execution_count": 37,
     "metadata": {},
     "output_type": "execute_result"
    }
   ],
   "source": [
    "sr"
   ]
  },
  {
   "cell_type": "code",
   "execution_count": 38,
   "metadata": {},
   "outputs": [
    {
     "data": {
      "text/plain": [
       "53.763440860215056"
      ]
     },
     "execution_count": 38,
     "metadata": {},
     "output_type": "execute_result"
    }
   ],
   "source": [
    "interval = segment_length*1e9 #nano\n",
    "interval"
   ]
  },
  {
   "cell_type": "markdown",
   "metadata": {},
   "source": [
    "# AWG and Pulse files setup"
   ]
  },
  {
   "cell_type": "code",
   "execution_count": 6,
   "metadata": {},
   "outputs": [],
   "source": [
    "AWG_Settings_1nano= {\n",
    "    'Visa Resource Name': 'TCPIP0::ibn3-036.ibn-net.kfa-juelich.de::hislip0::INSTR',\n",
    "    'Voltage Amplitude':150,\n",
    "    'Clock Sample Frecuency':sr,\n",
    "    'Output_Channel': 1,\n",
    "    'Mode': 'STS',\n",
    "    'Trigger In Threshold' : 1,\n",
    "    'Output Rout': 'DC', #DAC output rout only has the BNC outputs: Direct Out and (Averaged) Direct Out # DC\n",
    "    'Data Directory': r'D:\\Alejandro\\Pulses\\diode measurements\\Prepared Pulse Schemes CSV\\60,30\\neg\\1nano'\n",
    "}"
   ]
  },
  {
   "cell_type": "code",
   "execution_count": 7,
   "metadata": {},
   "outputs": [],
   "source": [
    "M8190A = VisaR(AWG_Settings_1nano,60000)"
   ]
  },
  {
   "cell_type": "code",
   "execution_count": 39,
   "metadata": {},
   "outputs": [
    {
     "data": {
      "text/plain": [
       "21"
      ]
     },
     "execution_count": 39,
     "metadata": {},
     "output_type": "execute_result"
    }
   ],
   "source": [
    "M8190A.write('FREQ:RAST {a}'.format(a = sr))"
   ]
  },
  {
   "cell_type": "code",
   "execution_count": 8,
   "metadata": {},
   "outputs": [
    {
     "name": "stdout",
     "output_type": "stream",
     "text": [
      "Instruments Sampling Frecuency set to 7.98163199900000E+09Hz\n",
      "Instruments Direct Out DC Output route Voltage set to 6.75000000000000E-01Volts\n",
      "AWG_Settings_Dict set to TRIGGERED Mode\n",
      "Trigger In threshold value set to 1.00000000000000E+00V\n"
     ]
    }
   ],
   "source": [
    "Initialization(M8190A,AWG_Settings_1nano)"
   ]
  },
  {
   "cell_type": "code",
   "execution_count": 65,
   "metadata": {},
   "outputs": [],
   "source": [
    "Pump_1nano = {\n",
    "    'Name':'Pump_1nano',\n",
    "    'Amplitude': -2*60,\n",
    "    'Start time':15,\n",
    "    'End time':2e-10,\n",
    "    'Start Duration':1,\n",
    "    'End Duration':60,\n",
    "    'Sweep time':0,\n",
    "    'Sweep Duration':0\n",
    "}"
   ]
  },
  {
   "cell_type": "code",
   "execution_count": 66,
   "metadata": {},
   "outputs": [],
   "source": [
    "ProbeA_1nano = {\n",
    "    'Name':'ProbeA_1nano',\n",
    "    'Amplitude':-2*30,\n",
    "    'Start time':13,\n",
    "    'End time':17,\n",
    "    'Start Duration':1,\n",
    "    'End Duration':60,\n",
    "    'Sweep time':1,\n",
    "    'Sweep Duration':0\n",
    "}"
   ]
  },
  {
   "cell_type": "code",
   "execution_count": 67,
   "metadata": {},
   "outputs": [],
   "source": [
    "ProbeB_1nano= {\n",
    "    'Name':'ProbeB_1nano',\n",
    "    'Amplitude':2*30,\n",
    "    'Start time':13,\n",
    "    'End time':17,\n",
    "    'Start Duration':1,\n",
    "    'End Duration':60,\n",
    "    'Sweep time':1,\n",
    "    'Sweep Duration':0\n",
    "}"
   ]
  },
  {
   "cell_type": "code",
   "execution_count": 69,
   "metadata": {},
   "outputs": [],
   "source": [
    "PulseScheme_A_1nano =  {\n",
    "    'Name' : 'PulseScheme_A_1nano',\n",
    "    'Pulse Scheme': [Pump_1nano,ProbeA_1nano],\n",
    "    'Number of repetitions': 1,\n",
    "    'Measurement file Path': r'D:\\Alejandro\\Pulses\\diode measurements\\Autocorrelation measurements\\60,30\\neg\\1nano'\n",
    "}"
   ]
  },
  {
   "cell_type": "code",
   "execution_count": 70,
   "metadata": {},
   "outputs": [],
   "source": [
    "PulseScheme_B_1nano =  {\n",
    "    'Name' : 'PulseScheme_B_1nano',\n",
    "    'Pulse Scheme': [Pump_1nano,ProbeB_1nano],\n",
    "    'Number of repetitions': 1,\n",
    "    'Measurement file Path': r'D:\\Alejandro\\Pulses\\diode measurements\\Autocorrelation measurements\\60,30\\neg\\1nano'\n",
    "}"
   ]
  },
  {
   "cell_type": "code",
   "execution_count": 72,
   "metadata": {},
   "outputs": [
    {
     "data": {
      "image/png": "[encoded data removed]",
      "text/plain": [
       "<Figure size 432x288 with 1 Axes>"
      ]
     },
     "metadata": {
      "needs_background": "light"
     },
     "output_type": "display_data"
    }
   ],
   "source": [
    "step = 0\n",
    "pul1 = Sweep_teil(PulseScheme_A_1nano,28,step,interval,sam)\n",
    "\n",
    "\n",
    "#Plot\n",
    "fig,ax= plt.subplots()\n",
    "ax.grid(True)\n",
    "\n",
    "plt.plot(pul1[1],pul1[0]/2,label= '{b} samples'.format(b = sam),color='red')\n",
    "\n",
    "ax.set_ylabel('V  [mV]')\n",
    "ax.set_xlabel(r't [ns]')\n",
    "ax.set_title('Cycle A at step {a}'.format(a = step )) #Voltage Offset = 3mV, Marker Ampl = 50mV \n",
    "#ax.legend(loc=0)\n",
    "#plt.legend(bbox_to_anchor=(2.05, 1), loc='upper left', borderaxespad=0.)\n",
    "plt.show()\n",
    "\n",
    "fig.savefig(r'{loc}\\Cycle A, Probe width 1nano {mod} Hz ,{a} step, {loop}loop number.jpeg'.format(loc = PulseScheme_A_1nano['Measurement file Path'], a = step,mod = modulation, loop = loop_number))"
   ]
  },
  {
   "cell_type": "code",
   "execution_count": 73,
   "metadata": {},
   "outputs": [
    {
     "data": {
      "image/png": "[encoded data removed]",
      "text/plain": [
       "<Figure size 432x288 with 1 Axes>"
      ]
     },
     "metadata": {
      "needs_background": "light"
     },
     "output_type": "display_data"
    }
   ],
   "source": [
    "step = 28\n",
    "pul1 = Sweep_teil(PulseScheme_A_1nano,28,step,interval,sam)\n",
    "\n",
    "\n",
    "#Plot\n",
    "fig,ax= plt.subplots()\n",
    "ax.grid(True)\n",
    "\n",
    "plt.plot(pul1[1],pul1[0]/2,label= '{b} samples'.format(b = sam),color='red')\n",
    "\n",
    "ax.set_ylabel('V  [mV]')\n",
    "ax.set_xlabel(r't [ns]')\n",
    "ax.set_title('Cycle A at step {a}'.format(a = step )) #Voltage Offset = 3mV, Marker Ampl = 50mV \n",
    "#ax.legend(loc=0)\n",
    "#plt.legend(bbox_to_anchor=(2.05, 1), loc='upper left', borderaxespad=0.)\n",
    "plt.show()\n",
    "\n",
    "fig.savefig(r'{loc}\\Cycle A, Probe width 1nano {mod} Hz ,{a} step, {loop}loop number.jpeg'.format(loc = PulseScheme_A_1nano['Measurement file Path'], a = step,mod = modulation, loop = loop_number))"
   ]
  },
  {
   "cell_type": "code",
   "execution_count": 222,
   "metadata": {},
   "outputs": [
    {
     "data": {
      "image/png": "[encoded data removed]",
      "text/plain": [
       "<Figure size 432x288 with 1 Axes>"
      ]
     },
     "metadata": {
      "needs_background": "light"
     },
     "output_type": "display_data"
    }
   ],
   "source": [
    "step = 0\n",
    "pul1 = Sweep_teil(PulseScheme_B_1nano,70,step,interval,sam)\n",
    "\n",
    "\n",
    "#Plot\n",
    "fig,ax= plt.subplots()\n",
    "ax.grid(True)\n",
    "\n",
    "plt.plot(pul1[1],pul1[0]/2,label= '{b} samples'.format(b = sam),color='red')\n",
    "\n",
    "ax.set_ylabel('V  [mV]')\n",
    "ax.set_xlabel(r't [ns]')\n",
    "ax.set_title('Cycle B at step {a}'.format(a = step )) #Voltage Offset = 3mV, Marker Ampl = 50mV \n",
    "#ax.legend(loc=0)\n",
    "#plt.legend(bbox_to_anchor=(2.05, 1), loc='upper left', borderaxespad=0.)\n",
    "plt.show()\n",
    "\n",
    "fig.savefig(r'{loc}\\Cycle B, Probe width 1nano {mod} Hz ,{a} step, {loop}loop number.jpeg'.format(loc = PulseScheme_A_1nano['Measurement file Path'], a = step,mod = modulation, loop = loop_number))"
   ]
  },
  {
   "cell_type": "code",
   "execution_count": 223,
   "metadata": {},
   "outputs": [
    {
     "data": {
      "image/png": "[encoded data removed]",
      "text/plain": [
       "<Figure size 432x288 with 1 Axes>"
      ]
     },
     "metadata": {
      "needs_background": "light"
     },
     "output_type": "display_data"
    }
   ],
   "source": [
    "step = 70\n",
    "pul1 = Sweep_teil(PulseScheme_B_1nano,70,step,interval,sam)\n",
    "\n",
    "\n",
    "#Plot\n",
    "fig,ax= plt.subplots()\n",
    "ax.grid(True)\n",
    "\n",
    "plt.plot(pul1[1],pul1[0]/2,label= '{b} samples'.format(b = sam),color='red')\n",
    "\n",
    "ax.set_ylabel('V  [mV]')\n",
    "ax.set_xlabel(r't [ns]')\n",
    "ax.set_title('Cycle B at step {a}'.format(a = step )) #Voltage Offset = 3mV, Marker Ampl = 50mV \n",
    "#ax.legend(loc=0)\n",
    "#plt.legend(bbox_to_anchor=(2.05, 1), loc='upper left', borderaxespad=0.)\n",
    "plt.show()\n",
    "\n",
    "fig.savefig(r'{loc}\\Cycle B, Probe width 1nano {mod} Hz ,{a} step, {loop}loop number.jpeg'.format(loc = PulseScheme_A_1nano['Measurement file Path'], a = step,mod = modulation, loop = loop_number))"
   ]
  },
  {
   "cell_type": "code",
   "execution_count": 78,
   "metadata": {},
   "outputs": [],
   "source": [
    "sweeping_run_a_1nano = Sweeping_Single_List_File_teil(PulseScheme_A_1nano,30,interval,sam,0,30,AWG_Settings_1nano,'A')[0]\n",
    "sweeping_run_b_1nano = Sweeping_Single_List_File_teil(PulseScheme_B_1nano,30,interval,sam,0,30,AWG_Settings_1nano,'B')[0]"
   ]
  },
  {
   "cell_type": "code",
   "execution_count": 80,
   "metadata": {},
   "outputs": [],
   "source": [
    "#Exporting pickle\n",
    "\n",
    "with open(r\"{dict}\\cycleA_71steps_93Hz_1nano_.p\".format(dict = PulseScheme_A_1nano['Measurement file Path']), \"wb\") as k:\n",
    "    pickle.dump(sweeping_run_a_1nano, k)\n",
    "\n",
    "\n",
    "with open(r\"{dict}\\cycleB_71steps_93Hz_1nano_.p\".format(dict = PulseScheme_B_1nano['Measurement file Path']), \"wb\") as h:\n",
    "    pickle.dump(sweeping_run_b_1nano, h)"
   ]
  },
  {
   "cell_type": "code",
   "execution_count": null,
   "metadata": {},
   "outputs": [],
   "source": [
    "#Importing Pickle\n",
    "\n",
    "with open(r\"{dict}\\cycleA_71steps_93Hz_100nano_.p\".format(dict = PulseScheme_A_1nano['Measurement file Path']), \"rb\") as j:\n",
    "    sweeping_runa_100nano = pickle.load(j)\n",
    "\n",
    "with open(r\"{dict}\\cycleB_71steps_93Hz_100nano_.p\".format(dict = PulseScheme_A_1nano['Measurement file Path']), \"rb\") as f:\n",
    "    sweeping_runb_100nano= pickle.load(f)"
   ]
  },
  {
   "cell_type": "code",
   "execution_count": null,
   "metadata": {},
   "outputs": [
    {
     "data": {
      "text/plain": [
       "'D:\\\\Alejandro\\\\Pulses\\\\diode measurements\\\\Prepared Pulse Schemes CSV\\\\50,20\\\\100nano\\\\SegmentA_4128_30.csv'"
      ]
     },
     "metadata": {},
     "output_type": "display_data"
    }
   ],
   "source": [
    "sweeping_runa_1nano['Pulse File Location, at step 30']"
   ]
  },
  {
   "cell_type": "code",
   "execution_count": null,
   "metadata": {},
   "outputs": [
    {
     "data": {
      "text/plain": [
       "'D:\\\\Alejandro\\\\Pulses\\\\diode measurements\\\\Prepared Pulse Schemes CSV\\\\50,20\\\\1mili\\\\SegmentB_672816_30.csv'"
      ]
     },
     "metadata": {},
     "output_type": "display_data"
    }
   ],
   "source": [
    "sweeping_run_b_1nano['Pulse File Location, at step 30']"
   ]
  },
  {
   "cell_type": "code",
   "execution_count": null,
   "metadata": {},
   "outputs": [
    {
     "data": {
      "text/plain": [
       "8000"
      ]
     },
     "metadata": {},
     "output_type": "display_data"
    }
   ],
   "source": [
    "loop_1nano"
   ]
  },
  {
   "cell_type": "code",
   "execution_count": 82,
   "metadata": {
    "scrolled": true
   },
   "outputs": [
    {
     "name": "stdout",
     "output_type": "stream",
     "text": [
      "Sequence loaded with the following segment data \"1,149000,0,1,0,287,2,149000,0,1,0,287\" and the advancement method is COND\n"
     ]
    },
    {
     "data": {
      "text/plain": [
       "0"
      ]
     },
     "execution_count": 82,
     "metadata": {},
     "output_type": "execute_result"
    }
   ],
   "source": [
    "Sequence_File(M8190A,sweeping_run_a_1nano['Pulse File Location, at step 28'],sweeping_run_b_1nano['Pulse File Location, at step 28'],loop_number)"
   ]
  },
  {
   "cell_type": "code",
   "execution_count": 47,
   "metadata": {},
   "outputs": [
    {
     "data": {
      "text/plain": [
       "4"
      ]
     },
     "execution_count": 47,
     "metadata": {},
     "output_type": "execute_result"
    }
   ],
   "source": [
    "2+2"
   ]
  },
  {
   "cell_type": "markdown",
   "metadata": {},
   "source": [
    "# Loading"
   ]
  },
  {
   "cell_type": "code",
   "execution_count": 81,
   "metadata": {
    "scrolled": true
   },
   "outputs": [
    {
     "data": {
      "text/plain": [
       "12"
      ]
     },
     "execution_count": 81,
     "metadata": {},
     "output_type": "execute_result"
    }
   ],
   "source": [
    "M8190A.write('SEQ:DEL:ALL')"
   ]
  },
  {
   "cell_type": "code",
   "execution_count": null,
   "metadata": {
    "scrolled": false
   },
   "outputs": [
    {
     "name": "stdout",
     "output_type": "stream",
     "text": [
      "Dummy File Loaded and playing\n",
      "Dummy File stopped and erased from AWGs memmory\n"
     ]
    }
   ],
   "source": [
    "Dummy_File(M8190A)"
   ]
  },
  {
   "cell_type": "code",
   "execution_count": 58,
   "metadata": {},
   "outputs": [],
   "source": [
    "Lock_In_Settings = {\n",
    "'Time Constant' : '100ms',\n",
    "'Sensitivity' : '200 miliVolts',\n",
    "'Reserve' : 'Normal',\n",
    "'db' : 24,\n",
    "'Modulation': r'{mod}Hz'.format(mod=modulation)\n",
    "}"
   ]
  },
  {
   "cell_type": "code",
   "execution_count": 59,
   "metadata": {},
   "outputs": [
    {
     "data": {
      "text/plain": [
       "100000"
      ]
     },
     "execution_count": 59,
     "metadata": {},
     "output_type": "execute_result"
    }
   ],
   "source": [
    "loop_number"
   ]
  },
  {
   "cell_type": "code",
   "execution_count": 60,
   "metadata": {},
   "outputs": [
    {
     "name": "stdout",
     "output_type": "stream",
     "text": [
      "Sequence loaded with the following segment data \"1,100000,0,1,0,335,2,100000,0,1,0,335\" and the advancement method is COND\n",
      "Average Value for measurement at step 0 is 2.3069946764951066 V\n",
      "Sequence loaded with the following segment data \"1,100000,0,1,0,335,2,100000,0,1,0,335\" and the advancement method is COND\n",
      "Average Value for measurement at step 1 is 2.6871812265725623 V\n",
      "Sequence loaded with the following segment data \"1,100000,0,1,0,335,2,100000,0,1,0,335\" and the advancement method is COND\n",
      "Average Value for measurement at step 2 is 2.6871988920607732 V\n",
      "Sequence loaded with the following segment data \"1,100000,0,1,0,335,2,100000,0,1,0,335\" and the advancement method is COND\n",
      "Average Value for measurement at step 3 is 2.3071810566243793 V\n",
      "Sequence loaded with the following segment data \"1,100000,0,1,0,335,2,100000,0,1,0,335\" and the advancement method is COND\n",
      "Average Value for measurement at step 4 is 2.307076614217646 V\n",
      "Sequence loaded with the following segment data \"1,100000,0,1,0,335,2,100000,0,1,0,335\" and the advancement method is COND\n",
      "Average Value for measurement at step 5 is 2.3182760539610245 V\n",
      "Sequence loaded with the following segment data \"1,100000,0,1,0,335,2,100000,0,1,0,335\" and the advancement method is COND\n",
      "Average Value for measurement at step 6 is 2.3185938915220645 V\n",
      "Sequence loaded with the following segment data \"1,100000,0,1,0,335,2,100000,0,1,0,335\" and the advancement method is COND\n",
      "Average Value for measurement at step 7 is 2.2758545374561616 V\n",
      "Sequence loaded with the following segment data \"1,100000,0,1,0,335,2,100000,0,1,0,335\" and the advancement method is COND\n",
      "Average Value for measurement at step 8 is 1.949727131569498 V\n",
      "Sequence loaded with the following segment data \"1,100000,0,1,0,335,2,100000,0,1,0,335\" and the advancement method is COND\n",
      "Average Value for measurement at step 9 is 1.6045327756385361 V\n",
      "Sequence loaded with the following segment data \"1,100000,0,1,0,335,2,100000,0,1,0,335\" and the advancement method is COND\n",
      "Average Value for measurement at step 10 is 1.648247240036841 V\n",
      "Sequence loaded with the following segment data \"1,100000,0,1,0,335,2,100000,0,1,0,335\" and the advancement method is COND\n",
      "Average Value for measurement at step 11 is 1.3010535061976614 V\n",
      "Sequence loaded with the following segment data \"1,100000,0,1,0,335,2,100000,0,1,0,335\" and the advancement method is COND\n",
      "Average Value for measurement at step 12 is 0.9005400426261184 V\n",
      "Sequence loaded with the following segment data \"1,100000,0,1,0,335,2,100000,0,1,0,335\" and the advancement method is COND\n",
      "Average Value for measurement at step 13 is 0.5417280111370654 V\n",
      "Sequence loaded with the following segment data \"1,100000,0,1,0,335,2,100000,0,1,0,335\" and the advancement method is COND\n",
      "Average Value for measurement at step 14 is 0.24020549543677863 V\n",
      "Sequence loaded with the following segment data \"1,100000,0,1,0,335,2,100000,0,1,0,335\" and the advancement method is COND\n",
      "Average Value for measurement at step 15 is 0.5757797924599214 V\n",
      "Sequence loaded with the following segment data \"1,100000,0,1,0,335,2,100000,0,1,0,335\" and the advancement method is COND\n",
      "Average Value for measurement at step 16 is 0.9433321400459286 V\n",
      "Sequence loaded with the following segment data \"1,100000,0,1,0,335,2,100000,0,1,0,335\" and the advancement method is COND\n",
      "Average Value for measurement at step 17 is 1.3126051984135942 V\n",
      "Sequence loaded with the following segment data \"1,100000,0,1,0,335,2,100000,0,1,0,335\" and the advancement method is COND\n",
      "Average Value for measurement at step 18 is 1.6613066104583782 V\n",
      "Sequence loaded with the following segment data \"1,100000,0,1,0,335,2,100000,0,1,0,335\" and the advancement method is COND\n",
      "Average Value for measurement at step 19 is 2.0410506544958027 V\n",
      "Sequence loaded with the following segment data \"1,100000,0,1,0,335,2,100000,0,1,0,335\" and the advancement method is COND\n",
      "Average Value for measurement at step 20 is 2.375946355996745 V\n",
      "Sequence loaded with the following segment data \"1,100000,0,1,0,335,2,100000,0,1,0,335\" and the advancement method is COND\n",
      "Average Value for measurement at step 21 is 2.3529465658256004 V\n",
      "Sequence loaded with the following segment data \"1,100000,0,1,0,335,2,100000,0,1,0,335\" and the advancement method is COND\n",
      "Average Value for measurement at step 22 is 2.33012004884796 V\n",
      "Sequence loaded with the following segment data \"1,100000,0,1,0,335,2,100000,0,1,0,335\" and the advancement method is COND\n",
      "Average Value for measurement at step 23 is 2.2971364504041896 V\n",
      "Sequence loaded with the following segment data \"1,100000,0,1,0,335,2,100000,0,1,0,335\" and the advancement method is COND\n",
      "Average Value for measurement at step 24 is 2.2677282329330657 V\n",
      "Sequence loaded with the following segment data \"1,100000,0,1,0,335,2,100000,0,1,0,335\" and the advancement method is COND\n",
      "Average Value for measurement at step 25 is 2.26863236675876 V\n",
      "Sequence loaded with the following segment data \"1,100000,0,1,0,335,2,100000,0,1,0,335\" and the advancement method is COND\n",
      "Average Value for measurement at step 26 is 2.253310765963394 V\n",
      "Sequence loaded with the following segment data \"1,100000,0,1,0,335,2,100000,0,1,0,335\" and the advancement method is COND\n",
      "Average Value for measurement at step 27 is 2.2454988696260054 V\n",
      "Sequence loaded with the following segment data \"1,100000,0,1,0,335,2,100000,0,1,0,335\" and the advancement method is COND\n",
      "Average Value for measurement at step 28 is 2.6103065261179115 V\n"
     ]
    }
   ],
   "source": [
    "playingtime = 10\n",
    "\n",
    "data, averaged_data = Voltage_Autocorrelation_loop_cut(M8190A,DAQ_Settings1,playingtime,sweeping_run_a_1nano,sweeping_run_b_1nano,PulseScheme_A_1nano['Measurement file Path'],Lock_In_Settings,loop_number,2)"
   ]
  },
  {
   "cell_type": "code",
   "execution_count": 61,
   "metadata": {},
   "outputs": [
    {
     "data": {
      "image/png": "[encoded data removed]",
      "text/plain": [
       "<Figure size 432x288 with 1 Axes>"
      ]
     },
     "metadata": {
      "needs_background": "light"
     },
     "output_type": "display_data"
    }
   ],
   "source": [
    "fig,ax= plt.subplots()\n",
    "ax.grid(True)\n",
    "for i in range(0,len(data)):\n",
    "    plt.plot(data[i][1],data[i][0],label= 'Step {st}'.format(st = i ))\n",
    "\n",
    "ax.set_ylabel(r'STM signal  [arb. Units]')\n",
    "ax.set_xlabel('t  [s]')\n",
    "ax.set_title(r' STM Signal at Different Steps,{b} Samples, 1ns probe duration'.format(b = len(data[0][1]) ))\n",
    "#ax.legend(bbox_to_anchor=(1.05, 1), loc='upper left', borderaxespad=0.)\n",
    "#ax.legend(loc=0)\n",
    "plt.show()\n",
    "\n",
    "fig.savefig(r'{loc}\\STM Signal time cstant = {a}, sensitivity {b},{c} daqseconds, , probe duration 1nano ,{st} steps, {mod} Hz.jpeg'.format(mod = modulation ,loc = PulseScheme_A_1nano['Measurement file Path'],a = Lock_In_Settings['Time Constant'], b = Lock_In_Settings['Sensitivity'], c = playingtime, st = len (sweeping_run_a_1nano)),bbox_inches='tight')"
   ]
  },
  {
   "cell_type": "code",
   "execution_count": 62,
   "metadata": {},
   "outputs": [],
   "source": [
    "time_delay = np.linspace(-2,2,29)"
   ]
  },
  {
   "cell_type": "code",
   "execution_count": null,
   "metadata": {},
   "outputs": [],
   "source": [
    "%matplotlib widget"
   ]
  },
  {
   "cell_type": "code",
   "execution_count": null,
   "metadata": {},
   "outputs": [],
   "source": []
  },
  {
   "cell_type": "code",
   "execution_count": 41,
   "metadata": {},
   "outputs": [
    {
     "data": {
      "text/plain": [
       "1.25e-10"
      ]
     },
     "execution_count": 41,
     "metadata": {},
     "output_type": "execute_result"
    }
   ],
   "source": [
    "1/8e9"
   ]
  },
  {
   "cell_type": "code",
   "execution_count": 63,
   "metadata": {},
   "outputs": [
    {
     "data": {
      "image/png": "[encoded data removed]",
      "text/plain": [
       "<Figure size 432x288 with 1 Axes>"
      ]
     },
     "metadata": {
      "needs_background": "light"
     },
     "output_type": "display_data"
    }
   ],
   "source": [
    "#change this to V regime\n",
    "fig,axes = plt.subplots()\n",
    "\n",
    "axes.grid(True)\n",
    "\n",
    "plt.plot(time_delay,averaged_data,label=r'1ns Probe Width ',color='black')\n",
    "#plt.plot(tm,pul,label = '{a} samples'.format(a = len(pul)))\n",
    "\n",
    "axes.set_xlabel(r'time delay [ns]')\n",
    "axes.set_ylabel(r'STM Signal [arb Units]')\n",
    "axes.set_title(r'Auto-Correlation {st} steps '.format(st = len (time_delay)))\n",
    "\n",
    "axes.legend(loc = 0)\n",
    "plt.show()\n",
    "\n",
    "fig.savefig(r'{loc}\\Measured Autocorrelation function {st} steps 1nano {mod} Hz length tc = {a}, sens {b}, {c}s DAQ, {loop} loop number .jpeg'.format(loc = PulseScheme_A_1nano['Measurement file Path'],a = Lock_In_Settings['Time Constant'], b = Lock_In_Settings['Sensitivity'], c = playingtime, loop =loop_number,st = len (time_delay), mod = modulation ))"
   ]
  },
  {
   "cell_type": "code",
   "execution_count": null,
   "metadata": {},
   "outputs": [],
   "source": [
    "background_1n = Signal_to_Background(averaged_data,time_delay,8,8)\n",
    "background_1n"
   ]
  },
  {
   "cell_type": "code",
   "execution_count": 52,
   "metadata": {},
   "outputs": [
    {
     "data": {
      "image/png": "[encoded data removed]",
      "text/plain": [
       "<Figure size 432x288 with 1 Axes>"
      ]
     },
     "metadata": {
      "needs_background": "light"
     },
     "output_type": "display_data"
    }
   ],
   "source": [
    "#change this to V regime\n",
    "fig,axes = plt.subplots()\n",
    "\n",
    "axes.grid(True)\n",
    "\n",
    "plt.plot(time_delay,background_1n[0]-1,'.-',label=r'1ns Pulse Width ',color='black')\n",
    "#plt.plot(tm,pul,label = '{a} samples'.format(a = len(pul)))\n",
    "\n",
    "axes.set_xlabel(r'time delay [ns]')\n",
    "axes.set_ylabel(r'STM Signal [arb Units]')\n",
    "axes.set_title(r'Auto-Correlation {st} steps '.format(st = len (time_delay)))\n",
    "\n",
    "axes.legend(loc = 0)\n",
    "plt.show()\n",
    "\n",
    "fig.savefig(r'{loc}\\Autocorrelation function {st} steps 1nano {mod} Hz length tc = {a}, sens {b}, {c}s DAQ, {loop} loop number .jpeg'.format(loc = PulseScheme_A_1nano['Measurement file Path'],a = Lock_In_Settings['Time Constant'], b = Lock_In_Settings['Sensitivity'], c = playingtime, loop =loop_number,st = len (time_delay), mod = modulation ))"
   ]
  },
  {
   "cell_type": "code",
   "execution_count": null,
   "metadata": {},
   "outputs": [],
   "source": [
    "norm_1n=(background_1n[0]-1)/(np.amax(background_1n[0]-1))\n",
    "np.savetxt(r'Averaged\\Signal to background\\Normalized autocorrelation 1nano.csv',norm_1n,delimiter=',')\n",
    "\n",
    "\n",
    "fig,axes = plt.subplots()\n",
    "\n",
    "axes.grid(True)\n",
    "\n",
    "plt.plot(time_delay,norm_1n,'.-',label=r'1ns Pulse Width ',color='black')\n",
    "#plt.plot(tm,pul,label = '{a} samples'.format(a = len(pul)))\n",
    "\n",
    "axes.set_xlabel(r'time delay [ns]')\n",
    "axes.set_ylabel(r'STM Signal [arb. units]')\n",
    "axes.set_title(r'Auto-Correlation {st} steps '.format(st = len (time_delay)))\n",
    "\n",
    "axes.legend(loc = 0)\n",
    "plt.show()\n",
    "\n",
    "fig.savefig(r'{loc}\\Normalized Autocorrelation function {st} steps 1nano {mod} Hz length tc = {a}, sens {b}, {c}s DAQ, {loop} loop number .jpeg'.format(loc = PulseScheme_A_1nano['Measurement file Path'],a = Lock_In_Settings['Time Constant'], b = Lock_In_Settings['Sensitivity'], c = playingtime, loop =loop_number,st = len (time_delay), mod = modulation ))"
   ]
  },
  {
   "cell_type": "code",
   "execution_count": null,
   "metadata": {},
   "outputs": [],
   "source": [
    "timee_delay = np.linspace(ProbeA_1nano['Start time'],ProbeA_1nano['End time'],71) "
   ]
  },
  {
   "cell_type": "code",
   "execution_count": null,
   "metadata": {},
   "outputs": [],
   "source": [
    "N = sr * t"
   ]
  },
  {
   "cell_type": "code",
   "execution_count": null,
   "metadata": {},
   "outputs": [],
   "source": [
    "N/sr= t"
   ]
  },
  {
   "cell_type": "code",
   "execution_count": 235,
   "metadata": {},
   "outputs": [
    {
     "ename": "SyntaxError",
     "evalue": "invalid syntax (<ipython-input-235-5944969ffbe9>, line 1)",
     "output_type": "error",
     "traceback": [
      "\u001b[1;36m  File \u001b[1;32m\"<ipython-input-235-5944969ffbe9>\"\u001b[1;36m, line \u001b[1;32m1\u001b[0m\n\u001b[1;33m    240/8e9 =\u001b[0m\n\u001b[1;37m              ^\u001b[0m\n\u001b[1;31mSyntaxError\u001b[0m\u001b[1;31m:\u001b[0m invalid syntax\n"
     ]
    }
   ],
   "source": [
    "240/8e9 = "
   ]
  },
  {
   "cell_type": "code",
   "execution_count": null,
   "metadata": {},
   "outputs": [],
   "source": []
  }
 ],
 "metadata": {
  "interpreter": {
   "hash": "9a32f0bf53af15acd232504180dc0ef28b8a6ac1a49da0a6c374e1f45bb445b6"
  },
  "kernelspec": {
   "display_name": "Python 3.8.5 64-bit ('base': conda)",
   "name": "python3"
  },
  "language_info": {
   "codemirror_mode": {
    "name": "ipython",
    "version": 3
   },
   "file_extension": ".py",
   "mimetype": "text/x-python",
   "name": "python",
   "nbconvert_exporter": "python",
   "pygments_lexer": "ipython3",
   "version": "3.8.5"
  },
  "orig_nbformat": 4
 },
 "nbformat": 4,
 "nbformat_minor": 2
}
