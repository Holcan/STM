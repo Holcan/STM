{
    "cells": [
        {
            "cell_type": "code",
            "execution_count": 50,
            "source": [
                "%matplotlib widget "
            ],
            "outputs": [],
            "metadata": {}
        },
        {
            "cell_type": "code",
            "execution_count": 2,
            "source": [
                "import numpy as np\r\n",
                "import pandas as pd\r\n",
                "import time\r\n",
                "import matplotlib\r\n",
                "import matplotlib.pyplot as plt\r\n",
                "import pyvisa as visa\r\n",
                "from matplotlib import animation\r\n",
                "from time import sleep\r\n",
                "from matplotlib.animation import FuncAnimation\r\n",
                "#Importing the functions from the module and the pulses dictionaries\r\n",
                "from Sweeping import *\r\n",
                "from Dictionaries import *\r\n",
                "from PulseFiles import *\r\n",
                "from Instrument import *\r\n",
                "import pyqtgraph as pg \r\n",
                "import nidaqmx"
            ],
            "outputs": [],
            "metadata": {}
        },
        {
            "cell_type": "code",
            "execution_count": 3,
            "source": [
                "M8190A = VisaR(AWG_Settings3,60000)"
            ],
            "outputs": [],
            "metadata": {}
        },
        {
            "cell_type": "code",
            "execution_count": null,
            "source": [],
            "outputs": [],
            "metadata": {}
        },
        {
            "cell_type": "code",
            "execution_count": 3,
            "source": [
                "Initialization(M8190A,AWG_Settings3)"
            ],
            "outputs": [
                {
                    "output_type": "stream",
                    "name": "stdout",
                    "text": [
                        "Instruments Sampling Frecuency set to 5.00000000000000E+08Hz\n",
                        "Instruments Direct Out DAC Output route Voltage set to 7.00000000000000E-01Volts\n",
                        "AWG_Settings_Dict set to TRIGGERED Mode\n",
                        "Trigger In threshold value set to 1.00000000000000E+00V\n"
                    ]
                }
            ],
            "metadata": {}
        },
        {
            "cell_type": "code",
            "execution_count": 4,
            "source": [
                "M8190A.write('SEQ:DEL:ALL')"
            ],
            "outputs": [
                {
                    "output_type": "execute_result",
                    "data": {
                        "text/plain": [
                            "12"
                        ]
                    },
                    "metadata": {},
                    "execution_count": 4
                }
            ],
            "metadata": {}
        },
        {
            "cell_type": "code",
            "execution_count": 6,
            "source": [
                "Pump = {\r\n",
                "    'Name':'Pump',\r\n",
                "    'Amplitude':40,\r\n",
                "    'Start time':2,\r\n",
                "    'End time':2e-10,\r\n",
                "    'Start Duration':1,\r\n",
                "    'End Duration':6,\r\n",
                "    'Sweep time':0,\r\n",
                "    'Sweep Duration':0\r\n",
                "}"
            ],
            "outputs": [],
            "metadata": {}
        },
        {
            "cell_type": "code",
            "execution_count": 7,
            "source": [
                "ProbeAutoA = {\r\n",
                "    'Name':'ProbeAutoA',\r\n",
                "    'Amplitude':25,\r\n",
                "    'Start time':0,\r\n",
                "    'End time':4,\r\n",
                "    'Start Duration':1,\r\n",
                "    'End Duration':6,\r\n",
                "    'Sweep time':1,\r\n",
                "    'Sweep Duration':0\r\n",
                "}"
            ],
            "outputs": [],
            "metadata": {}
        },
        {
            "cell_type": "code",
            "execution_count": 8,
            "source": [
                "ProbeAutoB = {\r\n",
                "    'Name':'ProbeAutoB',\r\n",
                "    'Amplitude':0,\r\n",
                "    'Start time':0,\r\n",
                "    'End time':12,\r\n",
                "    'Start Duration':1,\r\n",
                "    'End Duration':6,\r\n",
                "    'Sweep time':0,\r\n",
                "    'Sweep Duration':0\r\n",
                "}"
            ],
            "outputs": [],
            "metadata": {}
        },
        {
            "cell_type": "markdown",
            "source": [
                "Sr = 6Ghz for 5 ms"
            ],
            "metadata": {}
        },
        {
            "cell_type": "code",
            "execution_count": 9,
            "source": [
                "sam = int(6e9*5e-3)\r\n",
                "\r\n",
                "sam /480\r\n",
                "\r\n",
                "M8190A.write('FREQ:RAST 6000000000')"
            ],
            "outputs": [
                {
                    "output_type": "execute_result",
                    "data": {
                        "text/plain": [
                            "21"
                        ]
                    },
                    "metadata": {},
                    "execution_count": 9
                }
            ],
            "metadata": {}
        },
        {
            "cell_type": "code",
            "execution_count": 11,
            "source": [
                "sam"
            ],
            "outputs": [
                {
                    "output_type": "execute_result",
                    "data": {
                        "text/plain": [
                            "30000000.0"
                        ]
                    },
                    "metadata": {},
                    "execution_count": 11
                }
            ],
            "metadata": {}
        },
        {
            "cell_type": "code",
            "execution_count": 10,
            "source": [
                "AutoCorSchemeA = [Pump, ProbeAutoA]\r\n",
                "AutoCorSchemeB = [ProbeAutoB, ProbeAutoB]\r\n",
                "#step = 0"
            ],
            "outputs": [],
            "metadata": {}
        },
        {
            "cell_type": "code",
            "execution_count": 14,
            "source": [
                "test_run = Triggered_Sequence_Setup(AutoCorSchemeA,AutoCorSchemeB,10,5,5,sam,M8190A,AWG_Settings3,1)"
            ],
            "outputs": [
                {
                    "output_type": "stream",
                    "name": "stdout",
                    "text": [
                        "Current Segment Catalogue is 1,30000000,2,7500000  [(segment id, Segment size)]\n",
                        "Current Segment Catalogue is 1,30000000,2,30000000  [(segment id, Segment size)]\n",
                        "Sequence loaded with the following segment data \"1,1,0,1,0,29999999,2,1,0,1,0,29999999\" and the advancement method is COND\n"
                    ]
                }
            ],
            "metadata": {}
        },
        {
            "cell_type": "code",
            "execution_count": 15,
            "source": [
                "fig,ax= plt.subplots(2)\r\n",
                "\r\n",
                "ax[0].grid(True)\r\n",
                "ax[1].grid(True)\r\n",
                "fig.suptitle('Pulses Loaded into the AWG')\r\n",
                "\r\n",
                "\r\n",
                "ax[0].plot(test_run[2],test_run[0]['Y1']*AWG_Settings4['Voltage Amplitude'],label= 'Pulse A',color='blue')\r\n",
                "ax[1].plot(test_run[2],test_run[1]['Y1']*AWG_Settings4['Voltage Amplitude'],label= 'Pulse B',color='red')\r\n",
                "ax[0].set_ylabel('V  [mV]')\r\n",
                "ax[0].set_xlabel('t  [ms]')\r\n",
                "ax[1].set_ylabel('V  [mV]')\r\n",
                "ax[1].set_xlabel('t  [ms]')\r\n",
                "\r\n",
                "#ax.set_title('Pulses Loaded into the AWG')\r\n",
                "\r\n",
                "fig.legend(bbox_to_anchor=(1.05, 1), loc='upper left', borderaxespad=0.)\r\n",
                "plt.show()\r\n",
                "\r\n",
                "#fig.savefig('Pulse_scheme_15ms_7500000',optimize=True,bbox_inches='tight')"
            ],
            "outputs": [
                {
                    "output_type": "display_data",
                    "data": {
                        "text/plain": [
                            "<Figure size 432x288 with 2 Axes>"
                        ],
                        "image/png": "[encoded data removed]"
                    },
                    "metadata": {
                        "needs_background": "light"
                    }
                }
            ],
            "metadata": {}
        },
        {
            "cell_type": "code",
            "execution_count": 19,
            "source": [
                "dataMs, timeMs = DAQ_Measuring_Markersms(DAQ_Settings1,200000,32,M8190A)\r\n",
                "\r\n",
                "fig,ax= plt.subplots()\r\n",
                "ax.grid(True)\r\n",
                "\r\n",
                "#plt.plot(timeMs,dataMs[1]*1000,label= 'Marker Channel {chan}'.format(chan=DAQ_Settings1['Analog Channel Input Marker']),color='purple')\r\n",
                "plt.plot(timeMs,dataMs[0]*1000,label= '{b} samples'.format(b=len(dataMs[0])),color='orange')\r\n",
                "\r\n",
                "ax.set_ylabel('V  [mV]')\r\n",
                "ax.set_xlabel('t  [ms]')\r\n",
                "ax.set_title('AutoCorrelation Scheme Measured with DAC, Overlaping Step ') #Voltage Offset = 3mV, Marker Ampl = 50mV \r\n",
                "ax.legend(loc=0)\r\n",
                "#plt.legend(bbox_to_anchor=(2.05, 1), loc='upper left', borderaxespad=0.)\r\n",
                "plt.show()\r\n",
                "#fig.savefig('AutoCorrelation Scheme Meaasured with DAC, Overlaping Step.pdf',bbox_inches='tight')"
            ],
            "outputs": [
                {
                    "output_type": "stream",
                    "name": "stdout",
                    "text": [
                        "Triggering Pulse Stoped\n"
                    ]
                },
                {
                    "output_type": "display_data",
                    "data": {
                        "text/plain": [
                            "Canvas(toolbar=Toolbar(toolitems=[('Home', 'Reset original view', 'home', 'home'), ('Back', 'Back to previous …"
                        ],
                        "application/vnd.jupyter.widget-view+json": {
                            "version_major": 2,
                            "version_minor": 0,
                            "model_id": "82fab2a6ee014085bc1bb74fee1e1235"
                        }
                    },
                    "metadata": {}
                }
            ],
            "metadata": {}
        },
        {
            "cell_type": "code",
            "execution_count": 57,
            "source": [
                "M8190A.write('SEQ:DEL:ALL')"
            ],
            "outputs": [
                {
                    "output_type": "execute_result",
                    "data": {
                        "text/plain": [
                            "12"
                        ]
                    },
                    "metadata": {},
                    "execution_count": 57
                }
            ],
            "metadata": {}
        },
        {
            "cell_type": "code",
            "execution_count": 13,
            "source": [
                "sweeping_run = Sequence_File_List(AutoCorSchemeA,AutoCorSchemeB,10,5,sam,0,10,AWG_Settings3)"
            ],
            "outputs": [],
            "metadata": {}
        },
        {
            "cell_type": "code",
            "execution_count": 16,
            "source": [
                "import pickle\r\n",
                "\r\n",
                "#exporting pickle \r\n",
                "\r\n",
                "pickle.dump(sweeping_run[0], open(\"sweepingA.p\", \"wb\"))  # save it into a file named sweepingA.p\r\n",
                "pickle.dump(sweeping_run[1], open(\"sweepingB.p\", \"wb\"))  # save it into a file named sweepingB.p\r\n"
            ],
            "outputs": [
                {
                    "output_type": "stream",
                    "name": "stderr",
                    "text": [
                        "<ipython-input-16-fce5a3f7a043>:5: ResourceWarning: unclosed file <_io.BufferedWriter name='sweepingA.p'>\n",
                        "  pickle.dump(sweeping_run[0], open(\"sweepingA.p\", \"wb\"))  # save it into a file named sweepingA.p\n",
                        "ResourceWarning: Enable tracemalloc to get the object allocation traceback\n",
                        "<ipython-input-16-fce5a3f7a043>:6: ResourceWarning: unclosed file <_io.BufferedWriter name='sweepingB.p'>\n",
                        "  pickle.dump(sweeping_run[1], open(\"sweepingB.p\", \"wb\"))  # save it into a file named sweepingB.p\n",
                        "ResourceWarning: Enable tracemalloc to get the object allocation traceback\n"
                    ]
                }
            ],
            "metadata": {}
        },
        {
            "cell_type": "code",
            "execution_count": 21,
            "source": [
                "sweeping_run[0]"
            ],
            "outputs": [
                {
                    "output_type": "execute_result",
                    "data": {
                        "text/plain": [
                            "{'Pulse File Location, at step 0': 'D:\\\\Alejandro\\\\Pulses\\\\Dict\\\\S3\\\\SegmentA_30000000_0.csv',\n",
                            " 'Pulse File Location, at step 1': 'D:\\\\Alejandro\\\\Pulses\\\\Dict\\\\S3\\\\SegmentA_30000000_1.csv',\n",
                            " 'Pulse File Location, at step 2': 'D:\\\\Alejandro\\\\Pulses\\\\Dict\\\\S3\\\\SegmentA_30000000_2.csv',\n",
                            " 'Pulse File Location, at step 3': 'D:\\\\Alejandro\\\\Pulses\\\\Dict\\\\S3\\\\SegmentA_30000000_3.csv',\n",
                            " 'Pulse File Location, at step 4': 'D:\\\\Alejandro\\\\Pulses\\\\Dict\\\\S3\\\\SegmentA_30000000_4.csv',\n",
                            " 'Pulse File Location, at step 5': 'D:\\\\Alejandro\\\\Pulses\\\\Dict\\\\S3\\\\SegmentA_30000000_5.csv',\n",
                            " 'Pulse File Location, at step 6': 'D:\\\\Alejandro\\\\Pulses\\\\Dict\\\\S3\\\\SegmentA_30000000_6.csv',\n",
                            " 'Pulse File Location, at step 7': 'D:\\\\Alejandro\\\\Pulses\\\\Dict\\\\S3\\\\SegmentA_30000000_7.csv',\n",
                            " 'Pulse File Location, at step 8': 'D:\\\\Alejandro\\\\Pulses\\\\Dict\\\\S3\\\\SegmentA_30000000_8.csv',\n",
                            " 'Pulse File Location, at step 9': 'D:\\\\Alejandro\\\\Pulses\\\\Dict\\\\S3\\\\SegmentA_30000000_9.csv',\n",
                            " 'Pulse File Location, at step 10': 'D:\\\\Alejandro\\\\Pulses\\\\Dict\\\\S3\\\\SegmentA_30000000_10.csv'}"
                        ]
                    },
                    "metadata": {},
                    "execution_count": 21
                }
            ],
            "metadata": {}
        },
        {
            "cell_type": "code",
            "execution_count": 18,
            "source": [
                "#importing pickle\r\n",
                "\r\n",
                "sweeping_runa = pickle.load(open(\"sweepingA.p\", \"rb\"))\r\n",
                "sweeping_runb = pickle.load(open(\"sweepingB.p\", \"rb\"))"
            ],
            "outputs": [
                {
                    "output_type": "stream",
                    "name": "stderr",
                    "text": [
                        "<ipython-input-18-91d7a502f188>:3: ResourceWarning: unclosed file <_io.BufferedReader name='sweepingA.p'>\n",
                        "  sweeeping_runa = pickle.load(open(\"sweepingA.p\", \"rb\"))\n",
                        "ResourceWarning: Enable tracemalloc to get the object allocation traceback\n",
                        "<ipython-input-18-91d7a502f188>:4: ResourceWarning: unclosed file <_io.BufferedReader name='sweepingB.p'>\n",
                        "  sweeeping_runb = pickle.load(open(\"sweepingB.p\", \"rb\"))\n",
                        "ResourceWarning: Enable tracemalloc to get the object allocation traceback\n"
                    ]
                }
            ],
            "metadata": {}
        },
        {
            "cell_type": "code",
            "execution_count": 20,
            "source": [
                "sweeping_runa == sweeping_run[0]"
            ],
            "outputs": [
                {
                    "output_type": "execute_result",
                    "data": {
                        "text/plain": [
                            "True"
                        ]
                    },
                    "metadata": {},
                    "execution_count": 20
                }
            ],
            "metadata": {}
        },
        {
            "cell_type": "code",
            "execution_count": null,
            "source": [
                "#pickle sweeping run dictionaries 10 steps\r\n",
                "\r\n",
                "with open('sweepingA.pickle', 'wb') as handle:\r\n",
                "    pickle.dump(sweeping_run[0], handle, protocol=pickle.HIGHEST_PROTOCOL)\r\n",
                "\r\n",
                "with open('sweepingA.pickle', 'rb') as handle:\r\n",
                "    b = pickle.load(handle)\r\n",
                "\r\n",
                "print sweeping_run[0] == b"
            ],
            "outputs": [],
            "metadata": {}
        },
        {
            "cell_type": "code",
            "execution_count": null,
            "source": [
                "\r\n",
                "\r\n",
                "\r\n",
                "with open('sweepingB.pickle', 'wb') as handle:\r\n",
                "    pickle.dump(sweeping_run[1], handle, protocol=pickle.HIGHEST_PROTOCOL)\r\n",
                "\r\n",
                "with open('sweepingB.pickle', 'rb') as handle:\r\n",
                "    c = pickle.load(handle)\r\n",
                "\r\n",
                "print sweeping_run[1] == c"
            ],
            "outputs": [],
            "metadata": {}
        },
        {
            "cell_type": "code",
            "execution_count": null,
            "source": [],
            "outputs": [],
            "metadata": {}
        },
        {
            "cell_type": "code",
            "execution_count": 27,
            "source": [
                "haberms = Sequence_Loader_File_DAQms_np(M8190A,DAQ_Settings1,400000,32,sweeping_run[0],sweeping_run[1])"
            ],
            "outputs": [
                {
                    "output_type": "stream",
                    "name": "stdout",
                    "text": [
                        "Sequence loaded with the following segment data \"1,1,0,1,0,29999999,2,1,0,1,0,29999999\" and the advancement method is COND\n",
                        "Triggering Pulse Stoped\n",
                        "Data acquired for Step 0\n",
                        "Sequence loaded with the following segment data \"1,1,0,1,0,29999999,2,1,0,1,0,29999999\" and the advancement method is COND\n",
                        "Triggering Pulse Stoped\n",
                        "Data acquired for Step 1\n",
                        "Sequence loaded with the following segment data \"1,1,0,1,0,29999999,2,1,0,1,0,29999999\" and the advancement method is COND\n",
                        "Triggering Pulse Stoped\n",
                        "Data acquired for Step 2\n",
                        "Sequence loaded with the following segment data \"1,1,0,1,0,29999999,2,1,0,1,0,29999999\" and the advancement method is COND\n",
                        "Triggering Pulse Stoped\n",
                        "Data acquired for Step 3\n",
                        "Sequence loaded with the following segment data \"1,1,0,1,0,29999999,2,1,0,1,0,29999999\" and the advancement method is COND\n",
                        "Triggering Pulse Stoped\n",
                        "Data acquired for Step 4\n"
                    ]
                }
            ],
            "metadata": {}
        },
        {
            "cell_type": "code",
            "execution_count": 23,
            "source": [
                "#for stepp in range(0,len(haber)):\r\n",
                "\r\n",
                "fig,ax= plt.subplots()\r\n",
                "\r\n",
                "step = 4\r\n",
                "\r\n",
                "ax.grid(True)\r\n",
                "plt.plot(haberms[step][1],1000*haberms[step][0],label= 'Step {st}'.format(st = step ),color = 'blue')\r\n",
                "\r\n",
                "ax.set_ylabel('V  [mV]')\r\n",
                "ax.set_xlabel('t  [ms]')\r\n",
                "ax.set_title(' Sweeping Measured by DAQ,  step number {stp},  {b} samples'.format(stp =step ,b = len(haberms[0][1]) ))\r\n",
                "ax.legend(loc=0)\r\n",
                "\r\n",
                "plt.show()\r\n",
                "#fig.savefig('Pulse sweep t=32ms DAQ measured not so clean, {co}step.png'.format(co = step),bbox_inches='tight')"
            ],
            "outputs": [
                {
                    "output_type": "display_data",
                    "data": {
                        "text/plain": [
                            "Canvas(toolbar=Toolbar(toolitems=[('Home', 'Reset original view', 'home', 'home'), ('Back', 'Back to previous …"
                        ],
                        "application/vnd.jupyter.widget-view+json": {
                            "version_major": 2,
                            "version_minor": 0,
                            "model_id": "9c6c8528bd7d4bb9a80ec4d6410bfa98"
                        }
                    },
                    "metadata": {}
                }
            ],
            "metadata": {}
        },
        {
            "cell_type": "code",
            "execution_count": 24,
            "source": [
                "#for stepp in range(0,len(haber)):\r\n",
                "\r\n",
                "fig,ax= plt.subplots()\r\n",
                "\r\n",
                "#step = 4\r\n",
                "\r\n",
                "ax.grid(True)\r\n",
                "plt.plot(haberms[1][1],1000*haberms[1][0],label= 'Step {st}'.format(st = 1 ),color = 'red')\r\n",
                "plt.plot(haberms[2][1],1000*haberms[2][0],label= 'Step {st}'.format(st = 2 ),color = 'orange')\r\n",
                "plt.plot(haberms[3][1],1000*haberms[3][0],label= 'Step {st}'.format(st = 3 ),color = 'blue')\r\n",
                "plt.plot(haberms[4][1],1000*haberms[4][0],label= 'Step {st}'.format(st = 4 ),color = 'purple')\r\n",
                "\r\n",
                "\r\n",
                "\r\n",
                "ax.set_ylabel('V  [mV]')\r\n",
                "ax.set_xlabel('t  [ms]')\r\n",
                "ax.set_title(' Sweeping Measured by DAQ,  {b} samples'.format(b = len(haberms[0][1]) ))\r\n",
                "ax.legend(loc=0)\r\n",
                "plt.show()\r\n",
                "#fig.savefig('Pulse sweep t=32ms DAQ measured not so clean, 4 sweeping steps.png',bbox_inches='tight')"
            ],
            "outputs": [
                {
                    "output_type": "display_data",
                    "data": {
                        "text/plain": [
                            "Canvas(toolbar=Toolbar(toolitems=[('Home', 'Reset original view', 'home', 'home'), ('Back', 'Back to previous …"
                        ],
                        "application/vnd.jupyter.widget-view+json": {
                            "version_major": 2,
                            "version_minor": 0,
                            "model_id": "490347c7f22f4d5187715959f26b2cac"
                        }
                    },
                    "metadata": {}
                }
            ],
            "metadata": {}
        },
        {
            "cell_type": "code",
            "execution_count": 28,
            "source": [
                "#for stepp in range(0,len(haber)):\r\n",
                "\r\n",
                "fig,ax= plt.subplots()\r\n",
                "\r\n",
                "step = 4\r\n",
                "\r\n",
                "ax.grid(True)\r\n",
                "plt.plot(haberms[step][1],1000*haberms[step][0],label= 'Step {st}'.format(st = step ),color = 'blue')\r\n",
                "\r\n",
                "ax.set_ylabel('V  [mV]')\r\n",
                "ax.set_xlabel('t  [ms]')\r\n",
                "ax.set_title(' Sweeping Measured by DAQ,  step number {stp},  {b} samples'.format(stp =step ,b = len(haberms[0][1]) ))\r\n",
                "ax.legend(loc=0)\r\n",
                "\r\n",
                "plt.show()\r\n",
                "#fig.savefig('Pulse sweep t=32ms DAQ measured not so clean, {co}step.png'.format(co = step),bbox_inches='tight')"
            ],
            "outputs": [
                {
                    "output_type": "display_data",
                    "data": {
                        "text/plain": [
                            "Canvas(toolbar=Toolbar(toolitems=[('Home', 'Reset original view', 'home', 'home'), ('Back', 'Back to previous …"
                        ],
                        "application/vnd.jupyter.widget-view+json": {
                            "version_major": 2,
                            "version_minor": 0,
                            "model_id": "a4fd140df8bf433e9680b964e43f7aa8"
                        }
                    },
                    "metadata": {}
                }
            ],
            "metadata": {}
        },
        {
            "cell_type": "code",
            "execution_count": 29,
            "source": [
                "#for stepp in range(0,len(haber)):\r\n",
                "\r\n",
                "fig,ax= plt.subplots()\r\n",
                "\r\n",
                "#step = 4\r\n",
                "\r\n",
                "ax.grid(True)\r\n",
                "plt.plot(haberms[1][1],1000*haberms[1][0],label= 'Step {st}'.format(st = 1 ),color = 'red')\r\n",
                "plt.plot(haberms[2][1],1000*haberms[2][0],label= 'Step {st}'.format(st = 2 ),color = 'orange')\r\n",
                "plt.plot(haberms[3][1],1000*haberms[3][0],label= 'Step {st}'.format(st = 3 ),color = 'blue')\r\n",
                "plt.plot(haberms[4][1],1000*haberms[4][0],label= 'Step {st}'.format(st = 4 ),color = 'purple')\r\n",
                "\r\n",
                "\r\n",
                "\r\n",
                "ax.set_ylabel('V  [mV]')\r\n",
                "ax.set_xlabel('t  [ms]')\r\n",
                "ax.set_title(' Sweeping Measured by DAQ,  {b} samples'.format(b = len(haberms[0][1]) ))\r\n",
                "ax.legend(loc=0)\r\n",
                "plt.show()\r\n",
                "#fig.savefig('Pulse sweep t=32ms DAQ measured not so clean, 4 sweeping steps.png',bbox_inches='tight')"
            ],
            "outputs": [
                {
                    "output_type": "display_data",
                    "data": {
                        "text/plain": [
                            "Canvas(toolbar=Toolbar(toolitems=[('Home', 'Reset original view', 'home', 'home'), ('Back', 'Back to previous …"
                        ],
                        "application/vnd.jupyter.widget-view+json": {
                            "version_major": 2,
                            "version_minor": 0,
                            "model_id": "e35903eea2ad4899a9a1f678fb0d1aa9"
                        }
                    },
                    "metadata": {}
                }
            ],
            "metadata": {}
        },
        {
            "cell_type": "code",
            "execution_count": null,
            "source": [],
            "outputs": [],
            "metadata": {}
        },
        {
            "cell_type": "code",
            "execution_count": 64,
            "source": [
                "M8190A.write('SEQ:DEL:ALL')"
            ],
            "outputs": [
                {
                    "output_type": "execute_result",
                    "data": {
                        "text/plain": [
                            "12"
                        ]
                    },
                    "metadata": {},
                    "execution_count": 64
                }
            ],
            "metadata": {}
        },
        {
            "cell_type": "code",
            "execution_count": 65,
            "source": [
                "haber = Sequence_Loader_File_DAQ_np(M8190A,DAQ_Settings1,1000,10,sweeping_run[0],sweeping_run[1])"
            ],
            "outputs": [
                {
                    "output_type": "stream",
                    "name": "stdout",
                    "text": [
                        "Sequence loaded with the following segment data \"1,1,0,1,0,29999999,2,1,0,1,0,29999999\" and the advancement method is COND\n",
                        "Triggering Pulse Stoped\n",
                        "Data acquired for Step 0\n",
                        "Sequence loaded with the following segment data \"1,1,0,1,0,29999999,2,1,0,1,0,29999999\" and the advancement method is COND\n",
                        "Triggering Pulse Stoped\n",
                        "Data acquired for Step 1\n",
                        "Sequence loaded with the following segment data \"1,1,0,1,0,29999999,2,1,0,1,0,29999999\" and the advancement method is COND\n",
                        "Triggering Pulse Stoped\n",
                        "Data acquired for Step 2\n",
                        "Sequence loaded with the following segment data \"1,1,0,1,0,29999999,2,1,0,1,0,29999999\" and the advancement method is COND\n",
                        "Triggering Pulse Stoped\n",
                        "Data acquired for Step 3\n",
                        "Sequence loaded with the following segment data \"1,1,0,1,0,29999999,2,1,0,1,0,29999999\" and the advancement method is COND\n",
                        "Triggering Pulse Stoped\n",
                        "Data acquired for Step 4\n",
                        "Sequence loaded with the following segment data \"1,1,0,1,0,29999999,2,1,0,1,0,29999999\" and the advancement method is COND\n",
                        "Triggering Pulse Stoped\n",
                        "Data acquired for Step 5\n",
                        "Sequence loaded with the following segment data \"1,1,0,1,0,29999999,2,1,0,1,0,29999999\" and the advancement method is COND\n",
                        "Triggering Pulse Stoped\n",
                        "Data acquired for Step 6\n",
                        "Sequence loaded with the following segment data \"1,1,0,1,0,29999999,2,1,0,1,0,29999999\" and the advancement method is COND\n",
                        "Triggering Pulse Stoped\n",
                        "Data acquired for Step 7\n",
                        "Sequence loaded with the following segment data \"1,1,0,1,0,29999999,2,1,0,1,0,29999999\" and the advancement method is COND\n",
                        "Triggering Pulse Stoped\n",
                        "Data acquired for Step 8\n",
                        "Sequence loaded with the following segment data \"1,1,0,1,0,29999999,2,1,0,1,0,29999999\" and the advancement method is COND\n",
                        "Triggering Pulse Stoped\n",
                        "Data acquired for Step 9\n",
                        "Sequence loaded with the following segment data \"1,1,0,1,0,29999999,2,1,0,1,0,29999999\" and the advancement method is COND\n",
                        "Triggering Pulse Stoped\n",
                        "Data acquired for Step 10\n"
                    ]
                }
            ],
            "metadata": {}
        },
        {
            "cell_type": "code",
            "execution_count": 39,
            "source": [
                "#for stepp in range(0,len(haber)):\r\n",
                "\r\n",
                "fig,ax= plt.subplots()\r\n",
                "\r\n",
                "step = 3\r\n",
                "\r\n",
                "ax.grid(True)\r\n",
                "plt.plot(haber[step][1],1000*haber[step][0],label= 'Step {st}'.format(st = step ),color = 'blue')\r\n",
                "\r\n",
                "ax.set_ylabel('V  [mV]')\r\n",
                "ax.set_xlabel('t  [s]')\r\n",
                "ax.set_title(' Sweeping Measured by DAQ,  step number {stp},  {b} samples'.format(stp =step ,b = len(haber[0][1]) ))\r\n",
                "ax.legend(loc=0)\r\n",
                "\r\n",
                "plt.show()\r\n",
                "#fig.savefig('Pulse sweep t=32ms DAQ measured not so clean, {co}step.png'.format(co = step),bbox_inches='tight')"
            ],
            "outputs": [
                {
                    "output_type": "display_data",
                    "data": {
                        "text/plain": [
                            "Canvas(toolbar=Toolbar(toolitems=[('Home', 'Reset original view', 'home', 'home'), ('Back', 'Back to previous …"
                        ],
                        "application/vnd.jupyter.widget-view+json": {
                            "version_major": 2,
                            "version_minor": 0,
                            "model_id": "1d4f03efc5094c76b5ea839a6a88cea7"
                        }
                    },
                    "metadata": {}
                }
            ],
            "metadata": {}
        },
        {
            "cell_type": "code",
            "execution_count": 60,
            "source": [
                "#for stepp in range(0,len(haber)):\r\n",
                "\r\n",
                "fig,ax= plt.subplots()\r\n",
                "\r\n",
                "#step = 4\r\n",
                "\r\n",
                "ax.grid(True)\r\n",
                "plt.plot(haber[0][1],abs(haber[0][0]),label= 'Step {st}'.format(st = 0 ),color = 'green')\r\n",
                "plt.plot(haber[1][1],abs(haber[1][0]),label= 'Step {st}'.format(st = 1 ),color = 'red')\r\n",
                "plt.plot(haber[2][1],abs(haber[2][0]),label= 'Step {st}'.format(st = 2 ),color = 'orange')\r\n",
                "plt.plot(haber[3][1],abs(haber[3][0]),label= 'Step {st}'.format(st = 3 ),color = 'blue')\r\n",
                "plt.plot(haber[4][1],abs(haber[4][0]),label= 'Step {st}'.format(st = 4 ),color = 'purple')\r\n",
                "\r\n",
                "\r\n",
                "\r\n",
                "ax.set_ylabel('V  [mV]')\r\n",
                "ax.set_xlabel('t  [s]')\r\n",
                "ax.set_title(' Diode Signal Measured by DAQ,  {b} samples, time cstant = 300ms, sensitivity 5mV'.format(b = len(haber[0][1]) ))\r\n",
                "ax.legend(loc=0)\r\n",
                "plt.show()\r\n",
                "#fig.savefig('Pulse sweep t=32ms DAQ measured not so clean, 4 sweeping steps.png',bbox_inches='tight')"
            ],
            "outputs": [
                {
                    "output_type": "display_data",
                    "data": {
                        "text/plain": [
                            "Canvas(toolbar=Toolbar(toolitems=[('Home', 'Reset original view', 'home', 'home'), ('Back', 'Back to previous …"
                        ],
                        "application/vnd.jupyter.widget-view+json": {
                            "version_major": 2,
                            "version_minor": 0,
                            "model_id": "97b0923f5a464fc5bdfb1e6257c71ae2"
                        }
                    },
                    "metadata": {}
                }
            ],
            "metadata": {}
        },
        {
            "cell_type": "code",
            "execution_count": 23,
            "source": [
                "#for stepp in range(0,len(haber)):\r\n",
                "\r\n",
                "fig,ax= plt.subplots()\r\n",
                "\r\n",
                "#step = 4\r\n",
                "\r\n",
                "ax.grid(True)\r\n",
                "plt.plot(haber[0][1],haber[0][0],label= 'Step {st}'.format(st = 0 ))\r\n",
                "plt.plot(haber[1][1],haber[1][0],label= 'Step {st}'.format(st = 1 ))\r\n",
                "plt.plot(haber[2][1],haber[2][0],label= 'Step {st}'.format(st = 2 ))\r\n",
                "plt.plot(haber[3][1],haber[3][0],label= 'Step {st}'.format(st = 3 ))\r\n",
                "plt.plot(haber[4][1],haber[4][0],label= 'Step {st}'.format(st = 4 ))\r\n",
                "plt.plot(haber[5][1],haber[5][0],label= 'Step {st}'.format(st =  5))\r\n",
                "plt.plot(haber[6][1],haber[6][0],label= 'Step {st}'.format(st =  6))\r\n",
                "plt.plot(haber[7][1],haber[7][0],label= 'Step {st}'.format(st =  7))\r\n",
                "plt.plot(haber[8][1],haber[8][0],label= 'Step {st}'.format(st =  8))\r\n",
                "plt.plot(haber[9][1],haber[9][0],label= 'Step {st}'.format(st = 9 ))\r\n",
                "plt.plot(haber[10][1],haber[10][0],label= 'Step {st}'.format(st = 10 ))\r\n",
                "\r\n",
                "\r\n",
                "\r\n",
                "ax.set_ylabel('V  [mV]')\r\n",
                "ax.set_xlabel('t  [s]')\r\n",
                "ax.set_title(' Diode Signal Measured by DAQ,  {b} samples, time cstant = 300ms, sensitivity 5mV'.format(b = len(haber[0][1]) ))\r\n",
                "ax.legend(loc=0)\r\n",
                "plt.show()\r\n",
                "#fig.savefig('Pulse sweep t=32ms DAQ measured not so clean, 4 sweeping steps.png',bbox_inches='tight')"
            ],
            "outputs": [
                {
                    "output_type": "display_data",
                    "data": {
                        "text/plain": [
                            "<Figure size 432x288 with 1 Axes>"
                        ],
                        "image/png": "[encoded data removed]"
                    },
                    "metadata": {
                        "needs_background": "light"
                    }
                }
            ],
            "metadata": {}
        },
        {
            "cell_type": "code",
            "execution_count": 28,
            "source": [
                "#for stepp in range(0,len(haber)):\r\n",
                "\r\n",
                "fig,ax= plt.subplots()\r\n",
                "\r\n",
                "#step = 4\r\n",
                "\r\n",
                "ax.grid(True)\r\n",
                "plt.plot(haber[0][1],haber[0][0],label= 'Step {st}'.format(st = 0 ))\r\n",
                "plt.plot(haber[1][1],haber[1][0],label= 'Step {st}'.format(st = 1 ))\r\n",
                "plt.plot(haber[2][1],haber[2][0],label= 'Step {st}'.format(st = 2 ))\r\n",
                "plt.plot(haber[3][1],haber[3][0],label= 'Step {st}'.format(st = 3 ))\r\n",
                "plt.plot(haber[4][1],haber[4][0],label= 'Step {st}'.format(st = 4 ))\r\n",
                "plt.plot(haber[5][1],haber[5][0],label= 'Step {st}'.format(st = 5 ))\r\n",
                "plt.plot(haber[6][1],haber[6][0],label= 'Step {st}'.format(st = 6 ))\r\n",
                "plt.plot(haber[7][1],haber[7][0],label= 'Step {st}'.format(st = 7 ))\r\n",
                "plt.plot(haber[8][1],haber[8][0],label= 'Step {st}'.format(st = 8 ))\r\n",
                "plt.plot(haber[9][1],haber[9][0],label= 'Step {st}'.format(st = 9 ))\r\n",
                "plt.plot(haber[10][1],haber[10][0],label= 'Step {st}'.format(st = 10 ))\r\n",
                "\r\n",
                "\r\n",
                "\r\n",
                "ax.set_ylabel('V  [mV]')\r\n",
                "ax.set_xlabel('t  [s]')\r\n",
                "ax.set_title(' Diode Signal Measured by DAQ,  {b} samples, time cstant = 300ms, sensitivity 5mV'.format(b = len(haber[0][1]) ))\r\n",
                "ax.legend(loc=0)\r\n",
                "plt.show()\r\n",
                "#fig.savefig('Pulse sweep t=32ms DAQ measured not so clean, 4 sweeping steps.png',bbox_inches='tight')"
            ],
            "outputs": [
                {
                    "output_type": "display_data",
                    "data": {
                        "text/plain": [
                            "Canvas(toolbar=Toolbar(toolitems=[('Home', 'Reset original view', 'home', 'home'), ('Back', 'Back to previous …"
                        ],
                        "application/vnd.jupyter.widget-view+json": {
                            "version_major": 2,
                            "version_minor": 0,
                            "model_id": "84e1a9523fc94951b76fa86fb4a77e2a"
                        }
                    },
                    "metadata": {}
                }
            ],
            "metadata": {}
        },
        {
            "cell_type": "code",
            "execution_count": 63,
            "source": [
                "#for stepp in range(0,len(haber)):\r\n",
                "\r\n",
                "fig,ax= plt.subplots()\r\n",
                "\r\n",
                "#step = 4\r\n",
                "\r\n",
                "ax.grid(True)\r\n",
                "plt.plot(haber[0][1],haber[0][0],label= 'Step {st}'.format(st = 0 ))\r\n",
                "plt.plot(haber[1][1],haber[1][0],label= 'Step {st}'.format(st = 1 ))\r\n",
                "plt.plot(haber[2][1],haber[2][0],label= 'Step {st}'.format(st = 2 ))\r\n",
                "plt.plot(haber[3][1],haber[3][0],label= 'Step {st}'.format(st = 3 ))\r\n",
                "plt.plot(haber[4][1],haber[4][0],label= 'Step {st}'.format(st = 4 ))\r\n",
                "plt.plot(haber[5][1],haber[5][0],label= 'Step {st}'.format(st = 5 ))\r\n",
                "plt.plot(haber[6][1],haber[6][0],label= 'Step {st}'.format(st = 6 ))\r\n",
                "plt.plot(haber[7][1],haber[7][0],label= 'Step {st}'.format(st = 7 ))\r\n",
                "plt.plot(haber[8][1],haber[8][0],label= 'Step {st}'.format(st = 8 ))\r\n",
                "plt.plot(haber[9][1],haber[9][0],label= 'Step {st}'.format(st = 9 ))\r\n",
                "plt.plot(haber[10][1],haber[10][0],label= 'Step {st}'.format(st = 10 ))\r\n",
                "\r\n",
                "\r\n",
                "\r\n",
                "ax.set_ylabel('V  [mV]')\r\n",
                "ax.set_xlabel('t  [s]')\r\n",
                "ax.set_title(' Diode Signal Measured by DAQ,  {b} samples, time cstant = 300ms, sensitivity 5mV'.format(b = len(haber[0][1]) ))\r\n",
                "ax.legend(loc=0)\r\n",
                "plt.show()\r\n",
                "#fig.savefig('Pulse sweep t=32ms DAQ measured not so clean, 4 sweeping steps.png',bbox_inches='tight')"
            ],
            "outputs": [
                {
                    "output_type": "display_data",
                    "data": {
                        "text/plain": [
                            "Canvas(toolbar=Toolbar(toolitems=[('Home', 'Reset original view', 'home', 'home'), ('Back', 'Back to previous …"
                        ],
                        "application/vnd.jupyter.widget-view+json": {
                            "version_major": 2,
                            "version_minor": 0,
                            "model_id": "321420d0f38843468fc8b50f88934d0f"
                        }
                    },
                    "metadata": {}
                }
            ],
            "metadata": {}
        },
        {
            "cell_type": "code",
            "execution_count": 68,
            "source": [
                "#for stepp in range(0,len(haber)):\r\n",
                "\r\n",
                "fig,ax= plt.subplots()\r\n",
                "\r\n",
                "#step = 4\r\n",
                "\r\n",
                "ax.grid(True)\r\n",
                "plt.plot(haber[0][1],haber[0][0],label= 'Step {st}'.format(st = 0 ))\r\n",
                "plt.plot(haber[1][1],haber[1][0],label= 'Step {st}'.format(st = 1 ))\r\n",
                "plt.plot(haber[2][1],haber[2][0],label= 'Step {st}'.format(st = 2 ))\r\n",
                "plt.plot(haber[3][1],haber[3][0],label= 'Step {st}'.format(st = 3 ))\r\n",
                "plt.plot(haber[4][1],haber[4][0],label= 'Step {st}'.format(st = 4 ))\r\n",
                "plt.plot(haber[5][1],haber[5][0],label= 'Step {st}'.format(st = 5 ))\r\n",
                "plt.plot(haber[6][1],haber[6][0],label= 'Step {st}'.format(st = 6 ))\r\n",
                "plt.plot(haber[7][1],haber[7][0],label= 'Step {st}'.format(st = 7 ))\r\n",
                "plt.plot(haber[8][1],haber[8][0],label= 'Step {st}'.format(st = 8 ))\r\n",
                "plt.plot(haber[9][1],haber[9][0],label= 'Step {st}'.format(st = 9 ))\r\n",
                "plt.plot(haber[10][1],haber[10][0],label= 'Step {st}'.format(st = 10 ))\r\n",
                "\r\n",
                "\r\n",
                "\r\n",
                "ax.set_ylabel('V  [mV]')\r\n",
                "ax.set_xlabel('t  [s]')\r\n",
                "ax.set_title(' Diode Signal Measured by DAQ,  {b} samples'.format(b = len(haber[0][1]) ))\r\n",
                "#ax.legend(loc=0)\r\n",
                "plt.show()\r\n",
                "fig.savefig('Pulse sweep t=32ms DAQ measured not so clean, 4 sweeping steps, time cstant = 100ms, sensitivity 5mV.png',bbox_inches='tight')"
            ],
            "outputs": [
                {
                    "output_type": "display_data",
                    "data": {
                        "text/plain": [
                            "Canvas(toolbar=Toolbar(toolitems=[('Home', 'Reset original view', 'home', 'home'), ('Back', 'Back to previous …"
                        ],
                        "application/vnd.jupyter.widget-view+json": {
                            "version_major": 2,
                            "version_minor": 0,
                            "model_id": "3b8b9e2dbb2541c3a2b2c2a98a58b41d"
                        }
                    },
                    "metadata": {}
                }
            ],
            "metadata": {}
        },
        {
            "cell_type": "code",
            "execution_count": 60,
            "source": [
                "#for stepp in range(0,len(haber)):\r\n",
                "\r\n",
                "fig,ax= plt.subplots()\r\n",
                "\r\n",
                "#step = 4\r\n",
                "\r\n",
                "ax.grid(True)\r\n",
                "plt.plot(haber[0][1],abs(haber[0][0]),label= 'Step {st}'.format(st = 0 ))\r\n",
                "plt.plot(haber[1][1],abs(haber[1][0]),label= 'Step {st}'.format(st = 1 ))\r\n",
                "plt.plot(haber[2][1],abs(haber[2][0]),label= 'Step {st}'.format(st = 2 ))\r\n",
                "plt.plot(haber[3][1],abs(haber[3][0]),label= 'Step {st}'.format(st = 3 ))\r\n",
                "plt.plot(haber[4][1],abs(haber[4][0]),label= 'Step {st}'.format(st = 4 ))\r\n",
                "plt.plot(haber[5][1],abs(haber[5][0]),label= 'Step {st}'.format(st = 5 ),color = 'black')\r\n",
                "plt.plot(haber[6][1],abs(haber[6][0]),label= 'Step {st}'.format(st = 6 ))\r\n",
                "plt.plot(haber[7][1],abs(haber[7][0]),label= 'Step {st}'.format(st = 7 ))\r\n",
                "plt.plot(haber[8][1],abs(haber[8][0]),label= 'Step {st}'.format(st = 8 ))\r\n",
                "plt.plot(haber[9][1],abs(haber[9][0]),label= 'Step {st}'.format(st = 9 ))\r\n",
                "plt.plot(haber[10][1],abs(haber[10][0]),label= 'Step {st}'.format(st = 10 ))\r\n",
                "\r\n",
                "\r\n",
                "\r\n",
                "ax.set_ylabel('V  [mV]')\r\n",
                "ax.set_xlabel('t  [s]')\r\n",
                "ax.set_title(' Diode Signal Measured by DAQ,  {b} samples, time cstant = 1s, sensitivity 5microV'.format(b = len(haber[0][1]) ))\r\n",
                "ax.legend(loc=0)\r\n",
                "plt.show()\r\n",
                "#fig.savefig('Pulse sweep t=32ms DAQ measured not so clean, 4 sweeping steps.png',bbox_inches='tight')"
            ],
            "outputs": [
                {
                    "output_type": "display_data",
                    "data": {
                        "text/plain": [
                            "Canvas(toolbar=Toolbar(toolitems=[('Home', 'Reset original view', 'home', 'home'), ('Back', 'Back to previous …"
                        ],
                        "application/vnd.jupyter.widget-view+json": {
                            "version_major": 2,
                            "version_minor": 0,
                            "model_id": "4a6fec0418ea425eb4e58ba72f4f522f"
                        }
                    },
                    "metadata": {}
                }
            ],
            "metadata": {}
        },
        {
            "cell_type": "code",
            "execution_count": 46,
            "source": [
                "%matplotlib inline"
            ],
            "outputs": [],
            "metadata": {}
        },
        {
            "cell_type": "code",
            "execution_count": 47,
            "source": [
                "#for stepp in range(0,len(haber)):\r\n",
                "\r\n",
                "fig,ax= plt.subplots()\r\n",
                "\r\n",
                "#step = 4\r\n",
                "\r\n",
                "ax.grid(True)\r\n",
                "plt.plot(haber[0][1],abs(haber[0][0]),label= 'Step {st}'.format(st = 0 ))\r\n",
                "plt.plot(haber[1][1],abs(haber[1][0]),label= 'Step {st}'.format(st = 1 ))\r\n",
                "plt.plot(haber[2][1],abs(haber[2][0]),label= 'Step {st}'.format(st = 2 ))\r\n",
                "plt.plot(haber[3][1],abs(haber[3][0]),label= 'Step {st}'.format(st = 3 ))\r\n",
                "plt.plot(haber[4][1],abs(haber[4][0]),label= 'Step {st}'.format(st = 4 ))\r\n",
                "plt.plot(haber[5][1],abs(haber[5][0]),label= 'Step {st}'.format(st = 5 ),color = 'black')\r\n",
                "plt.plot(haber[6][1],abs(haber[6][0]),label= 'Step {st}'.format(st = 6 ))\r\n",
                "plt.plot(haber[7][1],abs(haber[7][0]),label= 'Step {st}'.format(st = 7 ))\r\n",
                "plt.plot(haber[8][1],abs(haber[8][0]),label= 'Step {st}'.format(st = 8 ))\r\n",
                "plt.plot(haber[9][1],abs(haber[9][0]),label= 'Step {st}'.format(st = 9 ))\r\n",
                "plt.plot(haber[10][1],abs(haber[10][0]),label= 'Step {st}'.format(st = 10 ))\r\n",
                "\r\n",
                "\r\n",
                "\r\n",
                "ax.set_ylabel('V  [microV]')\r\n",
                "ax.set_xlabel('t  [s]')\r\n",
                "ax.set_title(' Diode Signal Channel 2,  {b} samples, time cstant = 1s, sensitivity 5microV'.format(b = len(haber[0][1]) ))\r\n",
                "ax.legend(loc=0)\r\n",
                "plt.show()\r\n",
                "#fig.savefig('Pulse sweep t=32ms DAQ measured not so clean, 4 sweeping steps.png',bbox_inches='tight')"
            ],
            "outputs": [
                {
                    "output_type": "display_data",
                    "data": {
                        "text/plain": [
                            "<Figure size 432x288 with 1 Axes>"
                        ],
                        "image/png": "[encoded data removed]"
                    },
                    "metadata": {
                        "needs_background": "light"
                    }
                }
            ],
            "metadata": {}
        },
        {
            "cell_type": "code",
            "execution_count": 57,
            "source": [
                "M8190A.write('SEQ:DEL:ALL')"
            ],
            "outputs": [
                {
                    "output_type": "display_data",
                    "data": {
                        "text/plain": [
                            "12"
                        ]
                    },
                    "metadata": {}
                }
            ],
            "metadata": {}
        },
        {
            "cell_type": "code",
            "execution_count": null,
            "source": [],
            "outputs": [],
            "metadata": {}
        },
        {
            "cell_type": "code",
            "execution_count": null,
            "source": [],
            "outputs": [],
            "metadata": {}
        },
        {
            "cell_type": "code",
            "execution_count": null,
            "source": [],
            "outputs": [],
            "metadata": {}
        },
        {
            "cell_type": "code",
            "execution_count": null,
            "source": [],
            "outputs": [],
            "metadata": {}
        },
        {
            "cell_type": "code",
            "execution_count": null,
            "source": [],
            "outputs": [],
            "metadata": {}
        },
        {
            "cell_type": "code",
            "execution_count": null,
            "source": [],
            "outputs": [],
            "metadata": {}
        },
        {
            "cell_type": "code",
            "execution_count": null,
            "source": [],
            "outputs": [],
            "metadata": {}
        },
        {
            "cell_type": "code",
            "execution_count": null,
            "source": [],
            "outputs": [],
            "metadata": {}
        },
        {
            "cell_type": "code",
            "execution_count": null,
            "source": [],
            "outputs": [],
            "metadata": {}
        },
        {
            "cell_type": "code",
            "execution_count": null,
            "source": [],
            "outputs": [],
            "metadata": {}
        },
        {
            "cell_type": "code",
            "execution_count": null,
            "source": [],
            "outputs": [],
            "metadata": {}
        },
        {
            "cell_type": "code",
            "execution_count": null,
            "source": [],
            "outputs": [],
            "metadata": {}
        },
        {
            "cell_type": "code",
            "execution_count": null,
            "source": [],
            "outputs": [],
            "metadata": {}
        },
        {
            "cell_type": "code",
            "execution_count": null,
            "source": [],
            "outputs": [],
            "metadata": {}
        },
        {
            "cell_type": "code",
            "execution_count": null,
            "source": [],
            "outputs": [],
            "metadata": {}
        },
        {
            "cell_type": "code",
            "execution_count": 5,
            "source": [
                "pul,tm = Sweep(AutoCorScheme,10,step,20,7500000)"
            ],
            "outputs": [],
            "metadata": {}
        },
        {
            "cell_type": "code",
            "execution_count": 12,
            "source": [
                "fig,axes = plt.subplots()\r\n",
                "\r\n",
                "axes.grid(True)\r\n",
                "\r\n",
                "axes.plot(tm,pul,label = '{a} samples'.format(a = len(pul)))\r\n",
                "#plt.plot(tm,pul,label = '{a} samples'.format(a = len(pul)))\r\n",
                "\r\n",
                "axes.set_xlabel('t [ms]')\r\n",
                "axes.set_ylabel('v[mV]')\r\n",
                "axes.set_title('Auto-Correlation Pulse Scheme at step {a} '.format(a = step))\r\n",
                "\r\n",
                "axes.legend(loc = 0)\r\n",
                "plt.show()"
            ],
            "outputs": [
                {
                    "output_type": "display_data",
                    "data": {
                        "text/plain": [
                            "<Figure size 432x288 with 1 Axes>"
                        ],
                        "image/png": "[encoded data removed]"
                    },
                    "metadata": {
                        "needs_background": "light"
                    }
                }
            ],
            "metadata": {}
        },
        {
            "cell_type": "code",
            "execution_count": null,
            "source": [
                "sweeping_run = Sequence_File_List(AutoCorSchemeA,AutoCorSchemeB,10,5,sam,0,10,AWG_Settings3)"
            ],
            "outputs": [],
            "metadata": {}
        },
        {
            "cell_type": "code",
            "execution_count": 11,
            "source": [
                "aut_sweep = Sweep_Iteration(AutoCorSchemeA,10,5,sam,0,10)"
            ],
            "outputs": [],
            "metadata": {}
        },
        {
            "cell_type": "code",
            "execution_count": 6,
            "source": [
                "aut_sweep[0][0]"
            ],
            "outputs": [
                {
                    "output_type": "execute_result",
                    "data": {
                        "text/plain": [
                            "array([0., 0., 0., ..., 0., 0., 0.])"
                        ]
                    },
                    "metadata": {},
                    "execution_count": 6
                }
            ],
            "metadata": {}
        },
        {
            "cell_type": "code",
            "execution_count": 12,
            "source": [
                "fig,axes = plt.subplots()\r\n",
                "\r\n",
                "axes.grid(True)\r\n",
                "\r\n",
                "plt.plot(aut_sweep[1],aut_sweep[0][0],label = ' starting step ', color = 'red')\r\n",
                "#plt.plot(aut_sweep[1],aut_sweep[0][1],label = ' {b} step ,{a} samples'.format(a = len(aut_sweep[0]), b = 1))\r\n",
                "plt.plot(aut_sweep[1],aut_sweep[0][2],label = ' 2 step ')\r\n",
                "#plt.plot(aut_sweep[1],aut_sweep[0][3],label = ' {b} step ,{a} samples'.format(a = len(aut_sweep[0]), b = 3))\r\n",
                "#plt.plot(aut_sweep[1],aut_sweep[0][4],label = ' {b} step ,{a} samples'.format(a = len(aut_sweep[0]), b = 4))\r\n",
                "plt.plot(aut_sweep[1],aut_sweep[0][5],label = ' midle step ')\r\n",
                "#plt.plot(aut_sweep[1],aut_sweep[0][6],label = ' {b} step ,{a} samples'.format(a = len(aut_sweep[0]), b = 6))\r\n",
                "#plt.plot(aut_sweep[1],aut_sweep[0][7],label = ' {b} step ,{a} samples'.format(a = len(aut_sweep[0]), b = 7))\r\n",
                "plt.plot(aut_sweep[1],aut_sweep[0][8],label = ' 8 step ')\r\n",
                "#plt.plot(aut_sweep[1],aut_sweep[0][9],label = ' {b} step ,{a} samples'.format(a = len(aut_sweep[0]), b = 9))\r\n",
                "plt.plot(aut_sweep[1],aut_sweep[0][10],label = ' final step ', color = 'black')\r\n",
                "\r\n",
                "\r\n",
                "axes.set_xlabel('t [ms]')\r\n",
                "axes.set_ylabel('v[mV]')\r\n",
                "axes.set_title('Auto-Correlation Pulse Scheme')\r\n",
                "\r\n",
                "#axes.legend(loc = 0)\r\n",
                "plt.show()\r\n",
                "\r\n",
                "#fig.savefig('AutoCorrelation pulse scheme1.png',optimize=True,bbox_inches='tight')"
            ],
            "outputs": [
                {
                    "output_type": "display_data",
                    "data": {
                        "text/plain": [
                            "<Figure size 432x288 with 1 Axes>"
                        ],
                        "image/png": "[encoded data removed]"
                    },
                    "metadata": {
                        "needs_background": "light"
                    }
                }
            ],
            "metadata": {}
        },
        {
            "cell_type": "code",
            "execution_count": 14,
            "source": [
                "fig,axes = plt.subplots()\r\n",
                "\r\n",
                "axes.grid(True)\r\n",
                "\r\n",
                "plt.plot(aut_sweep[1],aut_sweep[0][0],label = ' starting step ,{a} samples'.format(a = len(aut_sweep[0][0])), color = 'red')\r\n",
                "#plt.plot(aut_sweep[1],aut_sweep[0][1],label = ' {b} step ,{a} samples'.format(a = len(aut_sweep[0]), b = 1))\r\n",
                "plt.plot(aut_sweep[1],aut_sweep[0][2],label = ' {b} step ,{a} samples'.format(a = len(aut_sweep[0]), b = 2))\r\n",
                "#plt.plot(aut_sweep[1],aut_sweep[0][3],label = ' {b} step ,{a} samples'.format(a = len(aut_sweep[0]), b = 3))\r\n",
                "#plt.plot(aut_sweep[1],aut_sweep[0][4],label = ' {b} step ,{a} samples'.format(a = len(aut_sweep[0]), b = 4))\r\n",
                "plt.plot(aut_sweep[1],aut_sweep[0][5],label = ' midle step ,{a} samples'.format(a = len(aut_sweep[0][0])))\r\n",
                "#plt.plot(aut_sweep[1],aut_sweep[0][6],label = ' {b} step ,{a} samples'.format(a = len(aut_sweep[0]), b = 6))\r\n",
                "#plt.plot(aut_sweep[1],aut_sweep[0][7],label = ' {b} step ,{a} samples'.format(a = len(aut_sweep[0]), b = 7))\r\n",
                "plt.plot(aut_sweep[1],aut_sweep[0][8],label = ' {b} step ,{a} samples'.format(a = len(aut_sweep[0]), b = 8))\r\n",
                "#plt.plot(aut_sweep[1],aut_sweep[0][9],label = ' {b} step ,{a} samples'.format(a = len(aut_sweep[0]), b = 9))\r\n",
                "plt.plot(aut_sweep[1],aut_sweep[0][10],label = ' final step ,{a} samples'.format(a = len(aut_sweep[0][0])), color = 'black')\r\n",
                "\r\n",
                "\r\n",
                "axes.set_xlabel('t [s]')\r\n",
                "axes.set_ylabel('v[mV]')\r\n",
                "axes.set_title('Auto-Correlation Pulse Scheme')\r\n",
                "\r\n",
                "axes.legend(loc = 0)\r\n",
                "plt.show()\r\n",
                "\r\n",
                "#fig.savefig('AutoCorrelation pulse scheme1.png',optimize=True,bbox_inches='tight')"
            ],
            "outputs": [
                {
                    "output_type": "display_data",
                    "data": {
                        "text/plain": [
                            "<Figure size 432x288 with 1 Axes>"
                        ],
                        "image/png": "[encoded data removed]"
                    },
                    "metadata": {}
                }
            ],
            "metadata": {}
        },
        {
            "cell_type": "code",
            "execution_count": 23,
            "source": [
                "fig,axes = plt.subplots()\r\n",
                "\r\n",
                "axes.grid(True)\r\n",
                "\r\n",
                "axes.plot(aut_sweep[1],aut_sweep[0][0],label = ' {b} step ,{a} samples'.format(a = len(aut_sweep[0][0]), b = 0), color = 'red')\r\n",
                "#axes.plot(aut_sweep[1],aut_sweep[0][2],label = ' {b} step ,{a} samples'.format(a = len(aut_sweep[0]), b = 2))\r\n",
                "#axes.plot(aut_sweep[1],aut_sweep[0][4],label = ' {b} step ,{a} samples'.format(a = len(aut_sweep[0]), b = 4))\r\n",
                "#axes.plot(aut_sweep[1],aut_sweep[0][5],label = ' {b} step ,{a} samples'.format(a = len(aut_sweep[0][0]), b = 5))\r\n",
                "#axes.plot(aut_sweep[1],aut_sweep[0][9],label = ' {b} step ,{a} samples'.format(a = len(aut_sweep[0]), b = 9))\r\n",
                "#axes.plot(aut_sweep[1],aut_sweep[0][10],label = ' {b} step ,{a} samples'.format(a = len(aut_sweep[0][0]), b = 10), color = 'black')\r\n",
                "\r\n",
                "\r\n",
                "axes.set_xlabel('t [ms]')\r\n",
                "axes.set_ylabel('v[mV]')\r\n",
                "axes.set_title('Auto-Correlation Pulse Scheme at step {a} '.format(a = step))\r\n",
                "\r\n",
                "#axes.legend(loc = 0)\r\n",
                "plt.show()\r\n",
                "\r\n",
                "fig.savefig('AutoCorrelation pulse scheme step0.png',optimize=True,bbox_inches='tight')"
            ],
            "outputs": [
                {
                    "output_type": "display_data",
                    "data": {
                        "text/plain": [
                            "<Figure size 432x288 with 1 Axes>"
                        ],
                        "image/png": "[encoded data removed]"
                    },
                    "metadata": {
                        "needs_background": "light"
                    }
                }
            ],
            "metadata": {}
        },
        {
            "cell_type": "code",
            "execution_count": 21,
            "source": [
                "fig,axes = plt.subplots()\r\n",
                "\r\n",
                "axes.grid(True)\r\n",
                "\r\n",
                "#axes.plot(aut_sweep[1],aut_sweep[0][0],label = ' {b} step ,{a} samples'.format(a = len(aut_sweep[0][0]), b = 0), color = 'red')\r\n",
                "#axes.plot(aut_sweep[1],aut_sweep[0][2],label = ' {b} step ,{a} samples'.format(a = len(aut_sweep[0]), b = 2))\r\n",
                "#axes.plot(aut_sweep[1],aut_sweep[0][4],label = ' {b} step ,{a} samples'.format(a = len(aut_sweep[0]), b = 4))\r\n",
                "axes.plot(aut_sweep[1],aut_sweep[0][5],label = ' {b} step ,{a} samples'.format(a = len(aut_sweep[0][0]), b = 5))\r\n",
                "#axes.plot(aut_sweep[1],aut_sweep[0][9],label = ' {b} step ,{a} samples'.format(a = len(aut_sweep[0]), b = 9))\r\n",
                "#axes.plot(aut_sweep[1],aut_sweep[0][10],label = ' {b} step ,{a} samples'.format(a = len(aut_sweep[0][0]), b = 10), color = 'black')\r\n",
                "\r\n",
                "\r\n",
                "axes.set_xlabel('t [ms]')\r\n",
                "axes.set_ylabel('v[mV]')\r\n",
                "axes.set_title('Auto-Correlation Pulse Scheme at midle step')\r\n",
                "\r\n",
                "#axes.legend(loc = 0)\r\n",
                "plt.show()\r\n",
                "\r\n",
                "fig.savefig('AutoCorrelation pulse scheme step5.png',optimize=True,bbox_inches='tight')"
            ],
            "outputs": [
                {
                    "output_type": "display_data",
                    "data": {
                        "text/plain": [
                            "<Figure size 432x288 with 1 Axes>"
                        ],
                        "image/png": "[encoded data removed]"
                    },
                    "metadata": {
                        "needs_background": "light"
                    }
                }
            ],
            "metadata": {}
        },
        {
            "cell_type": "code",
            "execution_count": 22,
            "source": [
                "fig,axes = plt.subplots()\r\n",
                "\r\n",
                "axes.grid(True)\r\n",
                "\r\n",
                "#axes.plot(aut_sweep[1],aut_sweep[0][0],label = ' {b} step ,{a} samples'.format(a = len(aut_sweep[0][0]), b = 0), color = 'red')\r\n",
                "#axes.plot(aut_sweep[1],aut_sweep[0][2],label = ' {b} step ,{a} samples'.format(a = len(aut_sweep[0]), b = 2))\r\n",
                "#axes.plot(aut_sweep[1],aut_sweep[0][4],label = ' {b} step ,{a} samples'.format(a = len(aut_sweep[0]), b = 4))\r\n",
                "#axes.plot(aut_sweep[1],aut_sweep[0][5],label = ' {b} step ,{a} samples'.format(a = len(aut_sweep[0][0]), b = 5))\r\n",
                "#axes.plot(aut_sweep[1],aut_sweep[0][9],label = ' {b} step ,{a} samples'.format(a = len(aut_sweep[0]), b = 9))\r\n",
                "axes.plot(aut_sweep[1],aut_sweep[0][10],label = ' {b} step ,{a} samples'.format(a = len(aut_sweep[0][0]), b = 10), color = 'black')\r\n",
                "\r\n",
                "\r\n",
                "axes.set_xlabel('t [ms]')\r\n",
                "axes.set_ylabel('V[mV]')\r\n",
                "axes.set_title('Auto-Correlation Pulse Scheme at Final step')\r\n",
                "\r\n",
                "#axes.legend(loc = 0)\r\n",
                "plt.show()\r\n",
                "\r\n",
                "fig.savefig('AutoCorrelation pulse scheme step10.png',optimize=True,bbox_inches='tight')"
            ],
            "outputs": [
                {
                    "output_type": "display_data",
                    "data": {
                        "text/plain": [
                            "<Figure size 432x288 with 1 Axes>"
                        ],
                        "image/png": "[encoded data removed]"
                    },
                    "metadata": {
                        "needs_background": "light"
                    }
                }
            ],
            "metadata": {}
        },
        {
            "cell_type": "code",
            "execution_count": 13,
            "source": [
                "def Sequence_File_List1(PulseList1,P,t,N,start,stop,AWG):\r\n",
                "\r\n",
                "    \"\"\" Given one pulse scheme list, this functions iterates the pulse scheme from start to stop.\r\n",
                "\r\n",
                "        This function firts creates the corresponding pulse sequence data given the PulseLists using the Sweep_iteration_csv function.\r\n",
                "\r\n",
                "        It creates the csv files corresponding to this sweeping run and outputs it's Data Frames, aswell as a dictionary with its names (LOC1).\r\n",
                "        It also outputs the time interval for the pulse scheme\r\n",
                "        \r\n",
                "        time is given in mili seconds\r\n",
                "    \"\"\"\r\n",
                "\r\n",
                "    #SegmentA of the sequence\r\n",
                "    Loc1,DF1,timm = Sweep_Iteration_CSV_List(PulseList1,P,t,N,start,stop,AWG,1)\r\n",
                "\r\n",
                "    return Loc1, DF1, timm"
            ],
            "outputs": [],
            "metadata": {}
        },
        {
            "cell_type": "code",
            "execution_count": null,
            "source": [],
            "outputs": [],
            "metadata": {}
        },
        {
            "cell_type": "code",
            "execution_count": 14,
            "source": [
                "sweeping_run = Sequence_File_List1(AutoCorScheme,3,20,7500000,0,3,AWG_Settings3)"
            ],
            "outputs": [],
            "metadata": {}
        },
        {
            "cell_type": "code",
            "execution_count": 73,
            "source": [
                "sweeping_run[1]['SegmentA_7500000_0']['Y1']"
            ],
            "outputs": [
                {
                    "output_type": "execute_result",
                    "data": {
                        "text/plain": [
                            "0          0.0\n",
                            "1          0.0\n",
                            "2          0.0\n",
                            "3          0.0\n",
                            "4          0.0\n",
                            "          ... \n",
                            "7499995    0.0\n",
                            "7499996    0.0\n",
                            "7499997    0.0\n",
                            "7499998    0.0\n",
                            "7499999    0.0\n",
                            "Name: Y1, Length: 7500000, dtype: float64"
                        ]
                    },
                    "metadata": {},
                    "execution_count": 73
                }
            ],
            "metadata": {}
        },
        {
            "cell_type": "code",
            "execution_count": 77,
            "source": [
                "fig,ax= plt.subplots()\r\n",
                "\r\n",
                "\r\n",
                "ax.grid(True)\r\n",
                "fig.suptitle('Pulses Loaded into the AWG')\r\n",
                "\r\n",
                "\r\n",
                "#ax[0].plot(sweeping_run[2],sweeping_run[0]['Y1']*AWG_Settings3['Voltage Amplitude'],label= 'Pulse A',color='blue')\r\n",
                "ax.plot(sweeping_run[2],sweeping_run[1]['SegmentA_7500000_0']['Y1']*AWG_Settings3['Voltage Amplitude'],label= 'Pulse B',color='red')\r\n",
                "ax.plot(sweeping_run[2],sweeping_run[1]['SegmentA_7500000_1']['Y1']*AWG_Settings3['Voltage Amplitude'],label= 'Pulse B',color='black')\r\n",
                "ax.plot(sweeping_run[2],sweeping_run[1]['SegmentA_7500000_2']['Y1']*AWG_Settings3['Voltage Amplitude'],label= 'Pulse B',color='orange')\r\n",
                "ax.plot(sweeping_run[2],sweeping_run[1]['SegmentA_7500000_3']['Y1']*AWG_Settings3['Voltage Amplitude'],label= 'Pulse B',color='blue')\r\n",
                "\r\n",
                "#ax[0].set_ylabel('V  [mV]')\r\n",
                "#ax[0].set_xlabel('t  [ms]')\r\n",
                "ax.set_ylabel('V  [mV]')\r\n",
                "ax.set_xlabel('t  [ms]')\r\n",
                "\r\n",
                "#ax.set_title('Pulses Loaded into the AWG')\r\n",
                "\r\n",
                "fig.legend(bbox_to_anchor=(1.05, 1), loc='upper left', borderaxespad=0.)\r\n",
                "plt.show()\r\n",
                "\r\n",
                "#fig.savefig('Pulse_scheme_15ms_7500000',optimize=True,bbox_inches='tight')"
            ],
            "outputs": [
                {
                    "output_type": "display_data",
                    "data": {
                        "text/plain": [
                            "Canvas(toolbar=Toolbar(toolitems=[('Home', 'Reset original view', 'home', 'home'), ('Back', 'Back to previous …"
                        ],
                        "application/vnd.jupyter.widget-view+json": {
                            "version_major": 2,
                            "version_minor": 0,
                            "model_id": "fab20791a6764b95a887d4f9a2815fc9"
                        }
                    },
                    "metadata": {}
                }
            ],
            "metadata": {}
        },
        {
            "cell_type": "code",
            "execution_count": 21,
            "source": [
                "sweeping_run[0]"
            ],
            "outputs": [
                {
                    "output_type": "execute_result",
                    "data": {
                        "text/plain": [
                            "{'Pulse File Location, at step 0': 'D:\\\\Alejandro\\\\Pulses\\\\Dict\\\\S3\\\\SegmentA_7500000_0.csv',\n",
                            " 'Pulse File Location, at step 1': 'D:\\\\Alejandro\\\\Pulses\\\\Dict\\\\S3\\\\SegmentA_7500000_1.csv',\n",
                            " 'Pulse File Location, at step 2': 'D:\\\\Alejandro\\\\Pulses\\\\Dict\\\\S3\\\\SegmentA_7500000_2.csv',\n",
                            " 'Pulse File Location, at step 3': 'D:\\\\Alejandro\\\\Pulses\\\\Dict\\\\S3\\\\SegmentA_7500000_3.csv'}"
                        ]
                    },
                    "metadata": {},
                    "execution_count": 21
                }
            ],
            "metadata": {}
        },
        {
            "cell_type": "code",
            "execution_count": 15,
            "source": [
                "def Def_Sequence1(instrument,loop):\r\n",
                "\r\n",
                "    \"\"\"This function defines a new Sequence in the AWG and outputs the sequence id.\r\n",
                "\r\n",
                "        The new sequence will have 1 steps, and will only load the two corresponding segments\r\n",
                "        that must be prevoiusly defined and loaded in th AWG (either by hand, or with the Segment functions\r\n",
                "        in this module).\r\n",
                "        The Sequence will have a length of 2, it is specifically designed for creating sequences with segments.\r\n",
                "        The table entries will set the advancement mode to Conditional.\r\n",
                "    \"\"\"\r\n",
                "\r\n",
                "\r\n",
                "    #Defining new sequence, The SCPI query SEQ:DEF:NEW? returns the Sequence Id. as a string and this functions returns it as an int.\r\n",
                "    seq_id = int(instrument.query('SEQ1:DEF:NEW? 1'))\r\n",
                "    #instrument.write('SEQ:ADV {seqid},REP'.format(seqid = seq_id))\r\n",
                "\r\n",
                "\r\n",
                "    #loading segments into sequences within the Instrment has the following syntaxis:\r\n",
                "    #instrument.write('[:SOURce]:SEQuence[1|2]:DATA <sequence_id>, <step> , <segment_id>, <loop_count>,<advance_mode>,<marker_enable>, <start_addr>,<end_addr>\r\n",
                "\r\n",
                "    #Loading Segment 1 to step 0 of Sequence 0\r\n",
                "    instrument.write('SEQ1:DATA {seqid},0,1,{l},0,1,0,#hFFFFFFFF'.format(seqid = seq_id, l =loop))\r\n",
                "    instrument.query('*OPC?')\r\n",
                "\r\n",
                "    #Loading Segment 2 to step 1 of Sequence 0\r\n",
                "    #instrument.write('SEQ1:DATA {seqid},1,2,{l},0,1,0,#hFFFFFFFF'.format(seqid = seq_id, l = loop))\r\n",
                "    #instrument.query('*OPC?')\r\n",
                "    \r\n",
                "    instrument.write('SEQ:ADV 0, COND') #advancement condition\r\n",
                "    instrument.query('*OPC?')\r\n",
                "    #print('Sequence advancement method is {met}'.format(met = instrument.query('SEQ:ADV? 0')))\r\n",
                "    \r\n",
                "    instrument.write('STAB1:SEQ:SEL {t}'.format(t = seq_id))\r\n",
                "    instrument.query('*OPC?')\r\n",
                "\r\n",
                "    print('Sequence loaded with the following segment data \"{b}\"'.format(b = instrument.query('SEQ1:DATA? {c},0,2'.format(c=seq_id))),'and the advancement method is {met}'.format(met = instrument.query('SEQ:ADV? 0')))\r\n",
                "\r\n",
                "    return seq_id"
            ],
            "outputs": [],
            "metadata": {}
        },
        {
            "cell_type": "code",
            "execution_count": 16,
            "source": [
                "def Sequence_File1(instrument,file0,loop):\r\n",
                "\r\n",
                "    \"\"\" Creates a sequence in the instrument by the data in file0 and file.\r\n",
                "\r\n",
                "    This function first calls the Segment_File function to load the file0 and file1 csv data files as segments into the instrument.\r\n",
                "    It then uses the AWG's SEQ subsystem to create a sequence from this two segments.This sequence is set to have \"loop\" loop count, auto advance mode\r\n",
                "    and starting and ending address correspond to the first and last value of the data files.\r\n",
                "    \r\n",
                "    \"\"\"\r\n",
                "    Segment_File(instrument, file0, 1)\r\n",
                "\r\n",
                "    #Define the corresponding Sequence:\r\n",
                "    seq_id = Def_Sequence1(instrument,loop)\r\n",
                "    return seq_id"
            ],
            "outputs": [],
            "metadata": {}
        },
        {
            "cell_type": "code",
            "execution_count": 17,
            "source": [
                "def Sequence_Loader_File_DAQms_np1(instrument,DAQ_settings,sampling_rate,playingtime,fileA):\r\n",
                "    \r\n",
                "    \"\"\" This function loads the csv data files from the Location dictionaries into the instrument as a sequence and measures them withthe daq, for ms segime output is numpy array\r\n",
                "\r\n",
                "    LocationA is a dictionary, whose elements are the file paths to the csv files that are going to be loaded as SegmentA into the sequence.\r\n",
                "    LocationB is a dictionary, whose elemnts re the filepaths to the csv files that are going to be loaded as SegmentB into the sequence\r\n",
                "    It uses the Sequence_File function to load the csv files to the instrument.\r\n",
                " \r\n",
                "    \"\"\"\r\n",
                "    measurement_data = np.zeros((len(fileA),2),  dtype=object)\r\n",
                "    #measurement_data = {}\r\n",
                "\r\n",
                "    for i,k in zip(fileA,range(0,len(fileA))):\r\n",
                "        Sequence_File1(instrument,fileA[i],1)\r\n",
                "        measurement_data[k][0], measurement_data[k][1] = DAQ_Measuringms(DAQ_settings,sampling_rate,playingtime,instrument)\r\n",
                "        print('Data acquired for Step {step}'.format(step = k ))\r\n",
                "        #instrument.write('ABOR')\r\n",
                "\r\n",
                "    return measurement_data"
            ],
            "outputs": [],
            "metadata": {}
        },
        {
            "cell_type": "code",
            "execution_count": 1,
            "source": [
                "M8190A.write('SEQ:DEL:ALL')"
            ],
            "outputs": [
                {
                    "output_type": "error",
                    "ename": "NameError",
                    "evalue": "name 'M8190A' is not defined",
                    "traceback": [
                        "\u001b[1;31m---------------------------------------------------------------------------\u001b[0m",
                        "\u001b[1;31mNameError\u001b[0m                                 Traceback (most recent call last)",
                        "\u001b[1;32m<ipython-input-1-17a930ff5a38>\u001b[0m in \u001b[0;36m<module>\u001b[1;34m\u001b[0m\n\u001b[1;32m----> 1\u001b[1;33m \u001b[0mM8190A\u001b[0m\u001b[1;33m.\u001b[0m\u001b[0mwrite\u001b[0m\u001b[1;33m(\u001b[0m\u001b[1;34m'SEQ:DEL:ALL'\u001b[0m\u001b[1;33m)\u001b[0m\u001b[1;33m\u001b[0m\u001b[1;33m\u001b[0m\u001b[0m\n\u001b[0m",
                        "\u001b[1;31mNameError\u001b[0m: name 'M8190A' is not defined"
                    ]
                }
            ],
            "metadata": {}
        },
        {
            "cell_type": "code",
            "execution_count": 34,
            "source": [
                "jojo = Sequence_Loader_File_DAQms_np1(M8190A,DAQ_Settings1,400000,15,sweeping_run[0])"
            ],
            "outputs": [
                {
                    "output_type": "stream",
                    "name": "stdout",
                    "text": [
                        "Sequence loaded with the following segment data \"1,1,0,1,0,7499999,1,1,0,1,0,7499999\" and the advancement method is COND\n",
                        "Triggering Pulse Stoped\n",
                        "Data acquired for Step 0\n",
                        "Sequence loaded with the following segment data \"1,1,0,1,0,7499999,1,1,0,1,0,7499999\" and the advancement method is COND\n",
                        "Triggering Pulse Stoped\n",
                        "Data acquired for Step 1\n",
                        "Sequence loaded with the following segment data \"1,1,0,1,0,7499999,1,1,0,1,0,7499999\" and the advancement method is COND\n",
                        "Triggering Pulse Stoped\n",
                        "Data acquired for Step 2\n",
                        "Sequence loaded with the following segment data \"1,1,0,1,0,7499999,0,0,0,0,144,0\" and the advancement method is COND\n",
                        "Triggering Pulse Stoped\n",
                        "Data acquired for Step 3\n"
                    ]
                }
            ],
            "metadata": {}
        },
        {
            "cell_type": "code",
            "execution_count": 36,
            "source": [
                "#for stepp in range(0,len(haber)):\r\n",
                "\r\n",
                "fig,ax= plt.subplots()\r\n",
                "\r\n",
                "#step = 4\r\n",
                "\r\n",
                "ax.grid(True)\r\n",
                "plt.plot(jojo[0][1],1000*jojo[0][0],label= 'Step {st}'.format(st = 0 ),color = 'red')\r\n",
                "plt.plot(jojo[1][1],1000*jojo[1][0],label= 'Step {st}'.format(st = 1 ),color = 'orange')\r\n",
                "plt.plot(jojo[2][1],1000*jojo[2][0],label= 'Step {st}'.format(st = 2 ),color = 'blue')\r\n",
                "plt.plot(jojo[3][1],1000*jojo[3][0],label= 'Step {st}'.format(st = 3 ),color = 'purple')\r\n",
                "\r\n",
                "\r\n",
                "\r\n",
                "ax.set_ylabel('V  [mV]')\r\n",
                "ax.set_xlabel('t  [ms]')\r\n",
                "ax.set_title('Auto Correlation Pulse Sweeping Measured by DAQ,  {b} samples'.format(b = len(jojo[0][1]) ))\r\n",
                "ax.legend(loc=0)\r\n",
                "plt.show()\r\n",
                "#fig.savefig('Auto Correlation Pulse Scheme, DAQ measured , 4 sweeping steps 15ms.png',bbox_inches='tight')"
            ],
            "outputs": [
                {
                    "output_type": "display_data",
                    "data": {
                        "text/plain": [
                            "<Figure size 432x288 with 1 Axes>"
                        ],
                        "image/png": "[encoded data removed]"
                    },
                    "metadata": {
                        "needs_background": "light"
                    }
                }
            ],
            "metadata": {}
        },
        {
            "cell_type": "code",
            "execution_count": 53,
            "source": [
                "#for stepp in range(0,len(haber)):\r\n",
                "\r\n",
                "fig,ax= plt.subplots()\r\n",
                "\r\n",
                "#step = 4\r\n",
                "\r\n",
                "ax.grid(True)\r\n",
                "ax.plot(jojo[0][1],1000*jojo[0][0],label= 'Step {st}'.format(st = 0 ),color = 'red')\r\n",
                "ax.plot(jojo[1][1],1000*jojo[1][0],label= 'Step {st}'.format(st = 1 ),color = 'orange')\r\n",
                "ax.plot(jojo[2][1],1000*jojo[2][0],label= 'Step {st}'.format(st = 2 ),color = 'blue')\r\n",
                "ax.plot(jojo[3][1],1000*jojo[3][0],label= 'Step {st}'.format(st = 3 ),color = 'purple')\r\n",
                "\r\n",
                "\r\n",
                "\r\n",
                "ax.set_ylabel('V  [mV]')\r\n",
                "ax.set_xlabel('t  [ms]')\r\n",
                "ax.set_title('Auto Correlation Pulse Sweeping Measured by DAQ,  {b} samples'.format(b = len(jojo[0][1]) ))\r\n",
                "ax.legend(loc=0)\r\n",
                "plt.show()\r\n",
                "#fig.savefig('Auto Correlation Pulse Scheme, DAQ measured , 4 sweeping steps 15ms',bbox_inches='tight')"
            ],
            "outputs": [
                {
                    "output_type": "display_data",
                    "data": {
                        "text/plain": [
                            "Canvas(toolbar=Toolbar(toolitems=[('Home', 'Reset original view', 'home', 'home'), ('Back', 'Back to previous …"
                        ],
                        "application/vnd.jupyter.widget-view+json": {
                            "version_major": 2,
                            "version_minor": 0,
                            "model_id": "4f7ce052bef542d2ab15311e309a73ee"
                        }
                    },
                    "metadata": {}
                }
            ],
            "metadata": {}
        },
        {
            "cell_type": "code",
            "execution_count": null,
            "source": [
                "def DAQ_Measuring_Markers(DAQ_settings,sr,playingtime,instrument):\r\n",
                "    \"\"\"This function starts sets up the DAQ box in order to collect data for a time duration given by \"playing time\"\r\n",
                "      It then uses the DAQ box to trigger the AWG into playing a waveform.\r\n",
                "\r\n",
                "      playingtime should be in seconds.\r\n",
                "      triggerinvoltage should be in volts.\r\n",
                "    \"\"\"\r\n",
                "    #Calculating the number of samples given the samplig frecuency and playing time\r\n",
                "    samples = int(sr * playingtime) \r\n",
                "    measuring_time = np.linspace(0,playingtime,samples)\r\n",
                "\r\n",
                "    instrument.write('INIT:IMM')\r\n",
                "    time.sleep(5)\r\n",
                "\r\n",
                "    #setting the tasks\r\n",
                "    measuring_task = nidaqmx.Task()\r\n",
                "    trig_task =  nidaqmx.Task()\r\n",
                "   current_tast = nidaqmx.Task()\r\n",
                "\r\n",
                "   current_tast.ai_channels.add_ai_\r\n",
                "\r\n",
                "\r\n",
                "    #Channels Configuration\r\n",
                "    measuring_task.ai_channels.add_ai_voltage_chan(\"{a}/{b}\".format(a = DAQ_settings['DAQ Name'], b = DAQ_settings['Analog Channel Input Waveform']),min_val=DAQ_settings['Minimum Voltage'],max_val= DAQ_settings['Maximum Voltage'])\r\n",
                "    measuring_task.ai_channels.add_ai_voltage_chan(\"{a}/{b}\".format(a = DAQ_settings['DAQ Name'], b = DAQ_settings['Analog Channel Input Marker']),min_val=DAQ_settings['Minimum Voltage Marker'],max_val= DAQ_settings['Maximum Voltage Marker'])\r\n",
                "    trig_task.ao_channels.add_ao_voltage_chan('{a}/{b}'.format(a = DAQ_settings['DAQ Name'], b = DAQ_settings['Analog Channel Output']),'triggering',-4,4)\r\n",
                "\r\n",
                "    #Sampling configuration measuring channel\r\n",
                "    measuring_task.timing.cfg_samp_clk_timing(sr, samps_per_chan=samples)\r\n",
                "    #trig_task.timing.cfg_samp_clk_timing(DAQ_settings['Sampling Frequency'], samps_per_chan=samples)\r\n",
                "    #source = \"measuring_task/SampleClock\"\r\n",
                "\r\n",
                "    trig_task.start()\r\n",
                "    measuring_task.start()\r\n",
                "    \r\n",
                "\r\n",
                "    \r\n",
                "    trig_task.write(1.5)\r\n",
                "    #time.sleep(3)\r\n",
                "    data = np.array(measuring_task.read(samples))\r\n",
                "\r\n",
                "\r\n",
                "    \r\n",
                "    #time.sleep(3)\r\n",
                "    print('Triggering Pulse Stoped')\r\n",
                "    trig_task.write(0)\r\n",
                "\r\n",
                "    \r\n",
                "    \r\n",
                "    \r\n",
                "\r\n",
                "    trig_task.stop()\r\n",
                "    measuring_task.stop()\r\n",
                "\r\n",
                "    measuring_task.close()\r\n",
                "    trig_task.close()\r\n",
                "\r\n",
                "\r\n",
                "    instrument.write('ABOR')\r\n",
                "\r\n",
                "    return data, measuring_time"
            ],
            "outputs": [],
            "metadata": {}
        },
        {
            "cell_type": "code",
            "execution_count": null,
            "source": [
                "def add_ai_current_chan(\r\n",
                "            self, physical_channel, name_to_assign_to_channel=\"\",\r\n",
                "            terminal_config=TerminalConfiguration.DEFAULT, min_val=-0.01,\r\n",
                "            max_val=0.01, units=CurrentUnits.AMPS,\r\n",
                "            shunt_resistor_loc=CurrentShuntResistorLocation.LET_DRIVER_CHOOSE,\r\n",
                "            ext_shunt_resistor_val=249.0, custom_scale_name=\"\"):\r\n",
                "        \"\"\"\r\n",
                "        Creates channel(s) to measure current.\r\n",
                "\r\n",
                "        Args:\r\n",
                "            physical_channel (str): Specifies the names of the physical\r\n",
                "                channels to use to create virtual channels. The DAQmx\r\n",
                "                physical channel constant lists all physical channels on\r\n",
                "                devices and modules installed in the system.\r\n",
                "            name_to_assign_to_channel (Optional[str]): Specifies a name\r\n",
                "                to assign to the virtual channel this function creates.\r\n",
                "                If you do not specify a value for this input, NI-DAQmx\r\n",
                "                uses the physical channel name as the virtual channel\r\n",
                "                name.\r\n",
                "            terminal_config (Optional[nidaqmx.constants.TerminalConfiguration]): \r\n",
                "                Specifies the input terminal configuration for the\r\n",
                "                channel.\r\n",
                "            min_val (Optional[float]): Specifies in **units** the\r\n",
                "                minimum value you expect to measure.\r\n",
                "            max_val (Optional[float]): Specifies in **units** the\r\n",
                "                maximum value you expect to measure.\r\n",
                "            units (Optional[nidaqmx.constants.CurrentUnits]): Specifies\r\n",
                "                the units to use to return current measurements.\r\n",
                "            shunt_resistor_loc (Optional[nidaqmx.constants.CurrentShuntResistorLocation]): \r\n",
                "                Specifies the location of the shunt resistor. For\r\n",
                "                devices with built-in shunt resistors, specify the\r\n",
                "                location as **INTERNAL**. For devices that do not have\r\n",
                "                built-in shunt resistors, you must attach an external\r\n",
                "                one, set this input to **EXTERNAL** and use the\r\n",
                "                **ext_shunt_resistor_val** input to specify the value of\r\n",
                "                the resistor.\r\n",
                "            ext_shunt_resistor_val (Optional[float]): Specifies in ohms\r\n",
                "                the resistance of an external shunt resistor.\r\n",
                "            custom_scale_name (Optional[str]): Specifies the name of a\r\n",
                "                custom scale for the channel. If you want the channel to\r\n",
                "                use a custom scale, specify the name of the custom scale\r\n",
                "                to this input and set **units** to\r\n",
                "                **FROM_CUSTOM_SCALE**.\r\n",
                "        Returns:\r\n",
                "            nidaqmx._task_modules.channels.ai_channel.AIChannel:\r\n",
                "            \r\n",
                "            Indicates the newly created channel object.\r\n",
                "        \"\"\"\r\n",
                "        cfunc = lib_importer.windll.DAQmxCreateAICurrentChan\r\n",
                "        if cfunc.argtypes is None:\r\n",
                "            with cfunc.arglock:\r\n",
                "                if cfunc.argtypes is None:\r\n",
                "                    cfunc.argtypes = [\r\n",
                "                        lib_importer.task_handle, ctypes_byte_str,\r\n",
                "                        ctypes_byte_str, ctypes.c_int, ctypes.c_double,\r\n",
                "                        ctypes.c_double, ctypes.c_int, ctypes.c_int,\r\n",
                "                        ctypes.c_double, ctypes_byte_str]\r\n",
                "\r\n",
                "        error_code = cfunc(\r\n",
                "            self._handle, physical_channel, name_to_assign_to_channel,\r\n",
                "            terminal_config.value, min_val, max_val, units.value,\r\n",
                "            shunt_resistor_loc.value, ext_shunt_resistor_val,\r\n",
                "            custom_scale_name)\r\n",
                "        check_for_error(error_code)\r\n",
                "\r\n",
                "        return self._create_chan(physical_channel, name_to_assign_to_channel)"
            ],
            "outputs": [],
            "metadata": {}
        }
    ],
    "metadata": {
        "orig_nbformat": 4,
        "language_info": {
            "name": "python",
            "version": "3.8.5",
            "mimetype": "text/x-python",
            "codemirror_mode": {
                "name": "ipython",
                "version": 3
            },
            "pygments_lexer": "ipython3",
            "nbconvert_exporter": "python",
            "file_extension": ".py"
        },
        "kernelspec": {
            "name": "python3",
            "display_name": "Python 3.8.5 64-bit ('base': conda)"
        },
        "interpreter": {
            "hash": "9a32f0bf53af15acd232504180dc0ef28b8a6ac1a49da0a6c374e1f45bb445b6"
        }
    },
    "nbformat": 4,
    "nbformat_minor": 2
}