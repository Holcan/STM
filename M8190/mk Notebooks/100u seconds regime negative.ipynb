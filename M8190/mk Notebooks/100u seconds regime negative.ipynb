{
 "cells": [
  {
   "cell_type": "code",
   "execution_count": 1,
   "metadata": {},
   "outputs": [],
   "source": [
    "import numpy as np\n",
    "from numpy import loadtxt\n",
    "import pandas as pd\n",
    "import time\n",
    "import matplotlib\n",
    "import matplotlib.pyplot as plt\n",
    "import pyvisa as visa\n",
    "from matplotlib import animation\n",
    "from time import sleep\n",
    "from matplotlib.animation import FuncAnimation\n",
    "#Importing the functions from the module and the pulses dictionaries\n",
    "from Sweeping import *\n",
    "from Dictionaries import *\n",
    "from PulseFiles import *\n",
    "from Instrument import *\n",
    "import pyqtgraph as pg \n",
    "import nidaqmx\n",
    "import pickle"
   ]
  },
  {
   "cell_type": "markdown",
   "metadata": {},
   "source": [
    "# 100micro"
   ]
  },
  {
   "cell_type": "code",
   "execution_count": 2,
   "metadata": {},
   "outputs": [],
   "source": [
    "modulation = 93 #Hz\n",
    "loop_number = 10    \n",
    "res = 1/3003004800\n",
    "\n",
    "sam, sr , cycle_length = Adj9(res,modulation,loop_number)"
   ]
  },
  {
   "cell_type": "code",
   "execution_count": 3,
   "metadata": {},
   "outputs": [
    {
     "data": {
      "text/plain": [
       "1614528"
      ]
     },
     "execution_count": 3,
     "metadata": {},
     "output_type": "execute_result"
    }
   ],
   "source": [
    "sam"
   ]
  },
  {
   "cell_type": "code",
   "execution_count": 4,
   "metadata": {},
   "outputs": [
    {
     "data": {
      "text/plain": [
       "3003022080"
      ]
     },
     "execution_count": 4,
     "metadata": {},
     "output_type": "execute_result"
    }
   ],
   "source": [
    "sr"
   ]
  },
  {
   "cell_type": "code",
   "execution_count": 5,
   "metadata": {},
   "outputs": [
    {
     "data": {
      "text/plain": [
       "537.6344086021505"
      ]
     },
     "execution_count": 5,
     "metadata": {},
     "output_type": "execute_result"
    }
   ],
   "source": [
    "interval = cycle_length*1e6 #micro\n",
    "interval"
   ]
  },
  {
   "cell_type": "markdown",
   "metadata": {},
   "source": [
    "# AWG and Pulse files setup"
   ]
  },
  {
   "cell_type": "code",
   "execution_count": 6,
   "metadata": {},
   "outputs": [],
   "source": [
    "AWG_Settings_100micro= {\n",
    "    'Visa Resource Name': 'TCPIP0::ibn3-036.ibn-net.kfa-juelich.de::hislip0::INSTR',\n",
    "    'Voltage Amplitude':150,\n",
    "    'Clock Sample Frecuency':3003022080,\n",
    "    'Output_Channel': 1,\n",
    "    'Mode': 'STS',\n",
    "    'Trigger In Threshold' : 1,\n",
    "    'Output Rout': 'DC', #DAC output rout only has the BNC outputs: Direct Out and (Averaged) Direct Out # DC\n",
    "    'Data Directory': r'D:\\Alejandro\\Pulses\\diode measurements\\Prepared Pulse Schemes CSV\\60,30\\neg\\100micro'\n",
    "}"
   ]
  },
  {
   "cell_type": "code",
   "execution_count": 7,
   "metadata": {},
   "outputs": [],
   "source": [
    "M8190A = VisaR(AWG_Settings_100micro,60000)"
   ]
  },
  {
   "cell_type": "code",
   "execution_count": 8,
   "metadata": {},
   "outputs": [
    {
     "data": {
      "text/plain": [
       "21"
      ]
     },
     "execution_count": 8,
     "metadata": {},
     "output_type": "execute_result"
    }
   ],
   "source": [
    "M8190A.write('FREQ:RAST {a}'.format(a = sr))"
   ]
  },
  {
   "cell_type": "code",
   "execution_count": 11,
   "metadata": {},
   "outputs": [
    {
     "name": "stdout",
     "output_type": "stream",
     "text": [
      "Instruments Sampling Frecuency set to 3.00337920000000E+09Hz\n",
      "Instruments Direct Out DC Output route Voltage set to 6.75000000000000E-01Volts\n",
      "AWG_Settings_Dict set to TRIGGERED Mode\n",
      "Trigger In threshold value set to 1.00000000000000E+00V\n"
     ]
    }
   ],
   "source": [
    "Initialization(M8190A,AWG_Settings_100micro)"
   ]
  },
  {
   "cell_type": "code",
   "execution_count": 9,
   "metadata": {},
   "outputs": [],
   "source": [
    "Pump_100micro = {\n",
    "    'Name':'Pump_100micro',\n",
    "    'Amplitude': -2*60,\n",
    "    'Start time':200,\n",
    "    'End time':2e-10,\n",
    "    'Start Duration':100,\n",
    "    'End Duration':60,\n",
    "    'Sweep time':0,\n",
    "    'Sweep Duration':0\n",
    "}"
   ]
  },
  {
   "cell_type": "code",
   "execution_count": 10,
   "metadata": {},
   "outputs": [],
   "source": [
    "ProbeA_100micro = {\n",
    "    'Name':'ProbeA_100micro',\n",
    "    'Amplitude':-2*30,\n",
    "    'Start time':0,\n",
    "    'End time':400,\n",
    "    'Start Duration':100,\n",
    "    'End Duration':60,\n",
    "    'Sweep time':1,\n",
    "    'Sweep Duration':0\n",
    "}"
   ]
  },
  {
   "cell_type": "code",
   "execution_count": 11,
   "metadata": {},
   "outputs": [],
   "source": [
    "ProbeB_100micro= {\n",
    "    'Name':'ProbeB_100micro',\n",
    "    'Amplitude':2*30,\n",
    "    'Start time':0,\n",
    "    'End time':400,\n",
    "    'Start Duration':100,\n",
    "    'End Duration':6,\n",
    "    'Sweep time':1,\n",
    "    'Sweep Duration':0\n",
    "}"
   ]
  },
  {
   "cell_type": "code",
   "execution_count": 13,
   "metadata": {},
   "outputs": [],
   "source": [
    "PulseScheme_A_100micro =  {\n",
    "    'Name' : 'PulseScheme_A_100micro',\n",
    "    'Pulse Scheme': [Pump_100micro,ProbeA_100micro],\n",
    "    'Number of repetitions': 1,\n",
    "    'Measurement file Path': r'D:\\Alejandro\\Pulses\\diode measurements\\Autocorrelation measurements\\60,30\\neg\\100micro'\n",
    "}"
   ]
  },
  {
   "cell_type": "code",
   "execution_count": 14,
   "metadata": {},
   "outputs": [],
   "source": [
    "PulseScheme_B_100micro =  {\n",
    "    'Name' : 'PulseScheme_B_1nano',\n",
    "    'Pulse Scheme': [Pump_100micro,ProbeB_100micro],\n",
    "    'Number of repetitions': 1,\n",
    "    'Measurement file Path': r'D:\\Alejandro\\Pulses\\diode measurements\\Autocorrelation measurements\\60,30\\neg\\1nano'\n",
    "}"
   ]
  },
  {
   "cell_type": "code",
   "execution_count": 17,
   "metadata": {},
   "outputs": [
    {
     "data": {
      "image/png": "[encoded data removed]",
      "text/plain": [
       "<Figure size 432x288 with 1 Axes>"
      ]
     },
     "metadata": {
      "needs_background": "light"
     },
     "output_type": "display_data"
    }
   ],
   "source": [
    "step = 0\n",
    "pul1 = Sweep_dir_noteil(PulseScheme_A_100micro,30,step,interval,sam)\n",
    "\n",
    "\n",
    "#Plot\n",
    "fig,ax= plt.subplots()\n",
    "ax.grid(True)\n",
    "\n",
    "plt.plot(pul1[1],pul1[0]/2,label= '{b} samples'.format(b = sam),color='red')\n",
    "\n",
    "ax.set_ylabel('V  [mV]')\n",
    "ax.set_xlabel(r't [ns]')\n",
    "ax.set_title('Cycle A at step {a}'.format(a = step )) #Voltage Offset = 3mV, Marker Ampl = 50mV \n",
    "#ax.legend(loc=0)\n",
    "#plt.legend(bbox_to_anchor=(2.05, 1), loc='upper left', borderaxespad=0.)\n",
    "plt.show()\n",
    "\n",
    "fig.savefig(r'{loc}\\Cycle A, Probe width 100micro {mod} Hz ,{a} step, {loop}loop number.jpeg'.format(loc = PulseScheme_A_100micro['Measurement file Path'], a = step,mod = modulation, loop = loop_number))"
   ]
  },
  {
   "cell_type": "code",
   "execution_count": 18,
   "metadata": {},
   "outputs": [
    {
     "data": {
      "image/png": "[encoded data removed]",
      "text/plain": [
       "<Figure size 432x288 with 1 Axes>"
      ]
     },
     "metadata": {
      "needs_background": "light"
     },
     "output_type": "display_data"
    }
   ],
   "source": [
    "step = 70\n",
    "pul1 = Sweep_teil(PulseScheme_A_100micro,70,step,interval,sam)\n",
    "\n",
    "\n",
    "#Plot\n",
    "fig,ax= plt.subplots()\n",
    "ax.grid(True)\n",
    "\n",
    "plt.plot(pul1[1],pul1[0]/2,label= '{b} samples'.format(b = sam),color='red')\n",
    "\n",
    "ax.set_ylabel('V  [mV]')\n",
    "ax.set_xlabel(r't [ns]')\n",
    "ax.set_title('Cycle A at step {a}'.format(a = step )) #Voltage Offset = 3mV, Marker Ampl = 50mV \n",
    "#ax.legend(loc=0)\n",
    "#plt.legend(bbox_to_anchor=(2.05, 1), loc='upper left', borderaxespad=0.)\n",
    "plt.show()\n",
    "\n",
    "fig.savefig(r'{loc}\\Cycle A, Probe width 100micro {mod} Hz ,{a} step, {loop}loop number.jpeg'.format(loc = PulseScheme_A_100micro['Measurement file Path'], a = step,mod = modulation, loop = loop_number))"
   ]
  },
  {
   "cell_type": "code",
   "execution_count": 17,
   "metadata": {},
   "outputs": [
    {
     "data": {
      "image/png": "[encoded data removed]",
      "text/plain": [
       "<Figure size 432x288 with 1 Axes>"
      ]
     },
     "metadata": {
      "needs_background": "light"
     },
     "output_type": "display_data"
    }
   ],
   "source": [
    "step = 0\n",
    "pul1 = Sweep_teil(PulseScheme_B_100micro,70,step,interval,sam)\n",
    "\n",
    "\n",
    "#Plot\n",
    "fig,ax= plt.subplots()\n",
    "ax.grid(True)\n",
    "\n",
    "plt.plot(pul1[1],pul1[0]/2,label= '{b} samples'.format(b = sam),color='red')\n",
    "\n",
    "ax.set_ylabel('V  [mV]')\n",
    "ax.set_xlabel(r't [ns]')\n",
    "ax.set_title('Cycle B at step {a}'.format(a = step )) #Voltage Offset = 3mV, Marker Ampl = 50mV \n",
    "#ax.legend(loc=0)\n",
    "#plt.legend(bbox_to_anchor=(2.05, 1), loc='upper left', borderaxespad=0.)\n",
    "plt.show()\n",
    "\n",
    "fig.savefig(r'{loc}\\Cycle B, Probe width 100micro {mod} Hz  ,{a} step, {loop}loop number.jpeg'.format(loc = PulseScheme_A_100micro['Measurement file Path'], a = step,mod = modulation, loop = loop_number))"
   ]
  },
  {
   "cell_type": "code",
   "execution_count": 18,
   "metadata": {},
   "outputs": [
    {
     "data": {
      "image/png": "[encoded data removed]",
      "text/plain": [
       "<Figure size 432x288 with 1 Axes>"
      ]
     },
     "metadata": {
      "needs_background": "light"
     },
     "output_type": "display_data"
    }
   ],
   "source": [
    "step = 70\n",
    "pul1 = Sweep_teil(PulseScheme_B_100micro,70,step,interval,sam)\n",
    "\n",
    "\n",
    "#Plot\n",
    "fig,ax= plt.subplots()\n",
    "ax.grid(True)\n",
    "\n",
    "plt.plot(pul1[1],pul1[0]/2,label= '{b} samples'.format(b = sam),color='red')\n",
    "\n",
    "ax.set_ylabel('V  [mV]')\n",
    "ax.set_xlabel(r't [ns]')\n",
    "ax.set_title('Cycle B at step {a}'.format(a = step )) #Voltage Offset = 3mV, Marker Ampl = 50mV \n",
    "#ax.legend(loc=0)\n",
    "#plt.legend(bbox_to_anchor=(2.05, 1), loc='upper left', borderaxespad=0.)\n",
    "plt.show()\n",
    "\n",
    "fig.savefig(r'{loc}\\Cycle B, Probe width 100micro {mod} Hz  ,{a} step, {loop}loop number.jpeg'.format(loc = PulseScheme_A_100micro['Measurement file Path'], a = step,mod = modulation, loop = loop_number))"
   ]
  },
  {
   "cell_type": "code",
   "execution_count": 19,
   "metadata": {},
   "outputs": [],
   "source": [
    "sweeping_run_a_100micro = Sweeping_Single_List_File_teil(PulseScheme_A_100micro,30,interval,sam,0,30,AWG_Settings_100micro,'A')[0]\n",
    "sweeping_run_b_100micro = Sweeping_Single_List_File_teil(PulseScheme_B_100micro,30,interval,sam,0,30,AWG_Settings_100micro,'B')[0]"
   ]
  },
  {
   "cell_type": "code",
   "execution_count": 21,
   "metadata": {},
   "outputs": [],
   "source": [
    "#Exporting pickle\n",
    "\n",
    "with open(r\"{dict}\\cycleA_71steps_93Hz_100micro_.p\".format(dict = PulseScheme_A_100micro['Measurement file Path']), \"wb\") as k:\n",
    "    pickle.dump(sweeping_run_a_100micro, k)\n",
    "\n",
    "\n",
    "with open(r\"{dict}\\cycleB_71steps_93Hz_100micro_.p\".format(dict = PulseScheme_A_100micro['Measurement file Path']), \"wb\") as h:\n",
    "    pickle.dump(sweeping_run_b_100micro, h)"
   ]
  },
  {
   "cell_type": "code",
   "execution_count": null,
   "metadata": {},
   "outputs": [],
   "source": [
    "#Importing Pickle\n",
    "\n",
    "with open(r\"{dict}\\cycleA_31steps_93Hz_100micro_.p\".format(dict = PulseScheme_A_100micro['Measurement file Path']), \"rb\") as j:\n",
    "    sweeping_runa_100microicro = pickle.load(j)\n",
    "\n",
    "with open(r\"{dict}\\cycleB_31steps_93Hz_10micro_.p\".format(dict = PulseScheme_A_100micro['Measurement file Path']), \"rb\") as f:\n",
    "    sweeping_runb_100micro= pickle.load(f)"
   ]
  },
  {
   "cell_type": "code",
   "execution_count": 23,
   "metadata": {},
   "outputs": [
    {
     "data": {
      "text/plain": [
       "'D:\\\\Alejandro\\\\Pulses\\\\diode measurements\\\\Prepared Pulse Schemes CSV\\\\60,30\\\\neg\\\\100micro\\\\SegmentA_1614528_30.csv'"
      ]
     },
     "execution_count": 23,
     "metadata": {},
     "output_type": "execute_result"
    }
   ],
   "source": [
    "sweeping_run_a_100micro['Pulse File Location, at step 30']"
   ]
  },
  {
   "cell_type": "code",
   "execution_count": 29,
   "metadata": {},
   "outputs": [
    {
     "name": "stdout",
     "output_type": "stream",
     "text": [
      "Sequence loaded with the following segment data \"1,10,0,1,0,1614527,2,10,0,1,0,1614527\" and the advancement method is COND\n"
     ]
    },
    {
     "data": {
      "text/plain": [
       "8"
      ]
     },
     "execution_count": 29,
     "metadata": {},
     "output_type": "execute_result"
    }
   ],
   "source": [
    "Sequence_File(M8190A,sweeping_run_a_100micro['Pulse File Location, at step 0'],sweeping_run_b_100micro['Pulse File Location, at step 0'],10)"
   ]
  },
  {
   "cell_type": "code",
   "execution_count": 23,
   "metadata": {},
   "outputs": [
    {
     "data": {
      "text/plain": [
       "10"
      ]
     },
     "execution_count": 23,
     "metadata": {},
     "output_type": "execute_result"
    }
   ],
   "source": [
    "loop_number"
   ]
  },
  {
   "cell_type": "markdown",
   "metadata": {},
   "source": [
    "# Loading"
   ]
  },
  {
   "cell_type": "code",
   "execution_count": 34,
   "metadata": {},
   "outputs": [
    {
     "data": {
      "text/plain": [
       "12"
      ]
     },
     "execution_count": 34,
     "metadata": {},
     "output_type": "execute_result"
    }
   ],
   "source": [
    "M8190A.write('SEQ:DEL:ALL')"
   ]
  },
  {
   "cell_type": "code",
   "execution_count": 25,
   "metadata": {},
   "outputs": [],
   "source": [
    "Lock_In_Settings = {\n",
    "'Time Constant' : '100ms',\n",
    "'Sensitivity' : '50 miliVolts',\n",
    "'Reserve' : 'Normal',\n",
    "'db' : 24,\n",
    "'Modulation': r'{mod}Hz'.format(mod=modulation)\n",
    "}"
   ]
  },
  {
   "cell_type": "code",
   "execution_count": 35,
   "metadata": {},
   "outputs": [
    {
     "name": "stdout",
     "output_type": "stream",
     "text": [
      "Sequence loaded with the following segment data \"1,10,0,1,0,1614527,2,10,0,1,0,1614527\" and the advancement method is COND\n",
      "Average Value for measurement at step 0 is -1.2732601415244285 V\n",
      "Sequence loaded with the following segment data \"1,10,0,1,0,1614527,2,10,0,1,0,1614527\" and the advancement method is COND\n",
      "Average Value for measurement at step 1 is -1.2757822985281004 V\n",
      "Sequence loaded with the following segment data \"1,10,0,1,0,1614527,2,10,0,1,0,1614527\" and the advancement method is COND\n",
      "Average Value for measurement at step 2 is -1.2859018409398852 V\n",
      "Sequence loaded with the following segment data \"1,10,0,1,0,1614527,2,10,0,1,0,1614527\" and the advancement method is COND\n",
      "Average Value for measurement at step 3 is -1.300978544891117 V\n",
      "Sequence loaded with the following segment data \"1,10,0,1,0,1614527,2,10,0,1,0,1614527\" and the advancement method is COND\n",
      "Average Value for measurement at step 4 is -1.3073669787439632 V\n",
      "Sequence loaded with the following segment data \"1,10,0,1,0,1614527,2,10,0,1,0,1614527\" and the advancement method is COND\n",
      "Average Value for measurement at step 5 is -1.3188145259660322 V\n",
      "Sequence loaded with the following segment data \"1,10,0,1,0,1614527,2,10,0,1,0,1614527\" and the advancement method is COND\n",
      "Average Value for measurement at step 6 is -1.3398675807542093 V\n",
      "Sequence loaded with the following segment data \"1,10,0,1,0,1614527,2,10,0,1,0,1614527\" and the advancement method is COND\n",
      "Average Value for measurement at step 7 is -1.3293127699660758 V\n",
      "Sequence loaded with the following segment data \"1,10,0,1,0,1614527,2,10,0,1,0,1614527\" and the advancement method is COND\n",
      "Average Value for measurement at step 8 is -1.3444439028026764 V\n",
      "Sequence loaded with the following segment data \"1,10,0,1,0,1614527,2,10,0,1,0,1614527\" and the advancement method is COND\n",
      "Average Value for measurement at step 9 is -1.3624287003947293 V\n",
      "Sequence loaded with the following segment data \"1,10,0,1,0,1614527,2,10,0,1,0,1614527\" and the advancement method is COND\n",
      "Average Value for measurement at step 10 is -1.3838446705229082 V\n",
      "Sequence loaded with the following segment data \"1,10,0,1,0,1614527,2,10,0,1,0,1614527\" and the advancement method is COND\n",
      "Average Value for measurement at step 11 is -1.3966578787397008 V\n",
      "Sequence loaded with the following segment data \"1,10,0,1,0,1614527,2,10,0,1,0,1614527\" and the advancement method is COND\n",
      "Average Value for measurement at step 12 is -1.4034799365134725 V\n",
      "Sequence loaded with the following segment data \"1,10,0,1,0,1614527,2,10,0,1,0,1614527\" and the advancement method is COND\n",
      "Average Value for measurement at step 13 is -1.4276668586382502 V\n",
      "Sequence loaded with the following segment data \"1,10,0,1,0,1614527,2,10,0,1,0,1614527\" and the advancement method is COND\n",
      "Average Value for measurement at step 14 is -1.4468553451571298 V\n",
      "Sequence loaded with the following segment data \"1,10,0,1,0,1614527,2,10,0,1,0,1614527\" and the advancement method is COND\n",
      "Average Value for measurement at step 15 is -1.456710305517559 V\n",
      "Sequence loaded with the following segment data \"1,10,0,1,0,1614527,2,10,0,1,0,1614527\" and the advancement method is COND\n",
      "Average Value for measurement at step 16 is -1.4702197458252797 V\n",
      "Sequence loaded with the following segment data \"1,10,0,1,0,1614527,2,10,0,1,0,1614527\" and the advancement method is COND\n",
      "Average Value for measurement at step 17 is -1.4806341257117406 V\n",
      "Sequence loaded with the following segment data \"1,10,0,1,0,1614527,2,10,0,1,0,1614527\" and the advancement method is COND\n",
      "Average Value for measurement at step 18 is -1.4885893286665897 V\n",
      "Sequence loaded with the following segment data \"1,10,0,1,0,1614527,2,10,0,1,0,1614527\" and the advancement method is COND\n",
      "Average Value for measurement at step 19 is -1.5000811091659525 V\n",
      "Sequence loaded with the following segment data \"1,10,0,1,0,1614527,2,10,0,1,0,1614527\" and the advancement method is COND\n",
      "Average Value for measurement at step 20 is -1.5163289426590032 V\n",
      "Sequence loaded with the following segment data \"1,10,0,1,0,1614527,2,10,0,1,0,1614527\" and the advancement method is COND\n",
      "Average Value for measurement at step 21 is -1.5216399754140983 V\n",
      "Sequence loaded with the following segment data \"1,10,0,1,0,1614527,2,10,0,1,0,1614527\" and the advancement method is COND\n",
      "Average Value for measurement at step 22 is -1.5438057838262362 V\n",
      "Sequence loaded with the following segment data \"1,10,0,1,0,1614527,2,10,0,1,0,1614527\" and the advancement method is COND\n",
      "Average Value for measurement at step 23 is -1.5596015758704598 V\n",
      "Sequence loaded with the following segment data \"1,10,0,1,0,1614527,2,10,0,1,0,1614527\" and the advancement method is COND\n",
      "Average Value for measurement at step 24 is -1.5760312780331265 V\n",
      "Sequence loaded with the following segment data \"1,10,0,1,0,1614527,2,10,0,1,0,1614527\" and the advancement method is COND\n",
      "Average Value for measurement at step 25 is -1.5887769013757942 V\n",
      "Sequence loaded with the following segment data \"1,10,0,1,0,1614527,2,10,0,1,0,1614527\" and the advancement method is COND\n",
      "Average Value for measurement at step 26 is -1.6103362604820874 V\n",
      "Sequence loaded with the following segment data \"1,10,0,1,0,1614527,2,10,0,1,0,1614527\" and the advancement method is COND\n",
      "Average Value for measurement at step 27 is -1.6171785438469515 V\n",
      "Sequence loaded with the following segment data \"1,10,0,1,0,1614527,2,10,0,1,0,1614527\" and the advancement method is COND\n",
      "Average Value for measurement at step 28 is -1.6295729265745906 V\n",
      "Sequence loaded with the following segment data \"1,10,0,1,0,1614527,2,10,0,1,0,1614527\" and the advancement method is COND\n",
      "Average Value for measurement at step 29 is -1.6336250185267873 V\n",
      "Sequence loaded with the following segment data \"1,10,0,1,0,1614527,2,10,0,1,0,1614527\" and the advancement method is COND\n",
      "Average Value for measurement at step 30 is -1.6691057353836172 V\n"
     ]
    }
   ],
   "source": [
    "playingtime = 5\n",
    "\n",
    "data, averaged_data = Voltage_Autocorrelation_loop_cut(M8190A,DAQ_Settings1,playingtime,sweeping_run_a_100micro,sweeping_run_b_100micro,PulseScheme_A_100micro['Measurement file Path'],Lock_In_Settings,loop_number,2)"
   ]
  },
  {
   "cell_type": "code",
   "execution_count": 36,
   "metadata": {},
   "outputs": [
    {
     "data": {
      "application/vnd.jupyter.widget-view+json": {
       "model_id": "a8bccc6a61914660a4688d6f7d0a9e09",
       "version_major": 2,
       "version_minor": 0
      },
      "text/plain": [
       "Canvas(toolbar=Toolbar(toolitems=[('Home', 'Reset original view', 'home', 'home'), ('Back', 'Back to previous …"
      ]
     },
     "metadata": {},
     "output_type": "display_data"
    }
   ],
   "source": [
    "fig,ax= plt.subplots()\n",
    "ax.grid(True)\n",
    "for i in range(0,len(data)):\n",
    "    plt.plot(data[i][1],data[i][0],label= 'Step {st}'.format(st = i ))\n",
    "\n",
    "ax.set_ylabel(r'V  [arb. U]')\n",
    "ax.set_xlabel('t  [s]')\n",
    "ax.set_title(r' STM Signal at Different Steps,  {b} Samples, 100$\\mu$s probe duration'.format(b = len(data[0][1]) ))\n",
    "#ax.legend(bbox_to_anchor=(1.05, 1), loc='upper left', borderaxespad=0.)\n",
    "#ax.legend(loc=0)\n",
    "plt.show()\n",
    "\n",
    "fig.savefig(r'{loc}\\STM Signal time cstant = {a}, sensitivity {b},{c} daqseconds, , probe duration 100micro ,{st} steps, {mod} Hz.jpeg'.format(mod = modulation ,loc = PulseScheme_A_100micro['Measurement file Path'],a = Lock_In_Settings['Time Constant'], b = Lock_In_Settings['Sensitivity'], c = playingtime, st = len (sweeping_run_a_100micro)),bbox_inches='tight')"
   ]
  },
  {
   "cell_type": "code",
   "execution_count": 37,
   "metadata": {},
   "outputs": [],
   "source": [
    "time_delay = np.linspace(-200,200,31)"
   ]
  },
  {
   "cell_type": "code",
   "execution_count": 32,
   "metadata": {},
   "outputs": [],
   "source": [
    "%matplotlib widget"
   ]
  },
  {
   "cell_type": "code",
   "execution_count": 38,
   "metadata": {},
   "outputs": [
    {
     "data": {
      "application/vnd.jupyter.widget-view+json": {
       "model_id": "ab538ad29ce64e1c89ce85f676366f9a",
       "version_major": 2,
       "version_minor": 0
      },
      "text/plain": [
       "Canvas(toolbar=Toolbar(toolitems=[('Home', 'Reset original view', 'home', 'home'), ('Back', 'Back to previous …"
      ]
     },
     "metadata": {},
     "output_type": "display_data"
    }
   ],
   "source": [
    "#change this to V regime\n",
    "fig,axes = plt.subplots()\n",
    "\n",
    "axes.grid(True)\n",
    "\n",
    "plt.plot(time_delay,averaged_data,'.-',label=r'100$\\mu$s Probe Width ',color='green')\n",
    "#plt.plot(tm,pul,label = '{a} samples'.format(a = len(pul)))\n",
    "\n",
    "axes.set_xlabel(r'time delay [$\\mu$s]')\n",
    "axes.set_ylabel(r'STM Signal [arb. units]')\n",
    "axes.set_title(r'Auto-Correlation {st} steps '.format(st = len (time_delay)))\n",
    "\n",
    "axes.legend(loc = 0)\n",
    "plt.show()\n",
    "\n",
    "\n",
    "fig.savefig(r'{loc}\\Measured Autocorrelation function {st} steps 100micro {mod} Hz length tc = {a}, sens {b}, {c}s DAQ, {loop} loop number .jpeg'.format(loc = PulseScheme_A_100micro['Measurement file Path'],a = Lock_In_Settings['Time Constant'], b = Lock_In_Settings['Sensitivity'], c = playingtime, loop =loop_number,st = len (time_delay), mod = modulation ))"
   ]
  },
  {
   "cell_type": "code",
   "execution_count": null,
   "metadata": {},
   "outputs": [],
   "source": [
    "background_100u = Signal_to_Background(averaged_data,time_delay,8,8)\n",
    "background_100u"
   ]
  },
  {
   "cell_type": "code",
   "execution_count": null,
   "metadata": {},
   "outputs": [],
   "source": [
    "fig,axes = plt.subplots()\n",
    "\n",
    "axes.grid(True)\n",
    "\n",
    "plt.plot(time_delay,background_100u[0],'.-',label=r'100 $\\mu$s Pulse Width ',color='green')\n",
    "#plt.plot(tm,pul,label = '{a} samples'.format(a = len(pul)))\n",
    "\n",
    "axes.set_xlabel(r'time delay [$\\mu$s]')\n",
    "axes.set_ylabel(r'STM Signal [arb Units]')\n",
    "axes.set_title(r'Auto-Correlation {st} steps '.format(st = len (time_delay)))\n",
    "\n",
    "axes.legend(loc = 0)\n",
    "plt.show()\n",
    "\n",
    "fig.savefig(r'{loc}\\background corrected Autocorrelation function {st} steps 100micro {mod} Hz length tc = {a}, sens {b}, {c}s DAQ, {loop} loop number .jpeg'.format(loc = PulseScheme_A_100micro['Measurement file Path'],a = Lock_In_Settings['Time Constant'], b = Lock_In_Settings['Sensitivity'], c = playingtime, loop =loop_number,st = len (time_delay), mod = modulation ))"
   ]
  },
  {
   "cell_type": "code",
   "execution_count": null,
   "metadata": {},
   "outputs": [],
   "source": [
    "norm_100u=(background_100u[0]-1)/(np.amax(background_100u[0]-1))\n",
    "np.savetxt(r'Averaged\\Signal to background\\Normalized autocorrelation 100u.csv',norm_100u,delimiter=',')\n",
    "\n",
    "\n",
    "\n",
    "fig,axes = plt.subplots()\n",
    "\n",
    "axes.grid(True)\n",
    "\n",
    "\n",
    "plt.plot(time_delay,norm_100u,'.-',label=r'100 $\\mu$s Pulse Width ',color='green')\n",
    "\n",
    "\n",
    "axes.set_xlabel(r'time delay [$\\mu$s]')\n",
    "axes.set_ylabel(r'STM Signal [arb. units]')\n",
    "axes.set_title(r'Auto-Correlation {st} steps '.format(st = len (time_delay)))\n",
    "\n",
    "axes.legend(loc = 0)\n",
    "plt.show()\n",
    "\n",
    "fig.savefig(r'{loc}\\Normalized Autocorrelation function {st} steps 100micro {mod} Hz length tc = {a}, sens {b}, {c}s DAQ, {loop} loop number .jpeg'.format(loc = PulseScheme_A_100micro['Measurement file Path'],a = Lock_In_Settings['Time Constant'], b = Lock_In_Settings['Sensitivity'], c = playingtime, loop =loop_number,st = len (time_delay), mod = modulation ))"
   ]
  }
 ],
 "metadata": {
  "interpreter": {
   "hash": "9a32f0bf53af15acd232504180dc0ef28b8a6ac1a49da0a6c374e1f45bb445b6"
  },
  "kernelspec": {
   "display_name": "Python 3.8.5 64-bit ('base': conda)",
   "name": "python3"
  },
  "language_info": {
   "codemirror_mode": {
    "name": "ipython",
    "version": 3
   },
   "file_extension": ".py",
   "mimetype": "text/x-python",
   "name": "python",
   "nbconvert_exporter": "python",
   "pygments_lexer": "ipython3",
   "version": "3.8.5"
  },
  "orig_nbformat": 4
 },
 "nbformat": 4,
 "nbformat_minor": 2
}
