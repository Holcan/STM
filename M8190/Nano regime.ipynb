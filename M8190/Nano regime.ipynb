{
 "cells": [
  {
   "cell_type": "code",
   "execution_count": 1,
   "source": [
    "import numpy as np\r\n",
    "from numpy import loadtxt\r\n",
    "import pandas as pd\r\n",
    "import time\r\n",
    "import matplotlib\r\n",
    "import matplotlib.pyplot as plt\r\n",
    "import pyvisa as visa\r\n",
    "from matplotlib import animation\r\n",
    "from time import sleep\r\n",
    "from matplotlib.animation import FuncAnimation\r\n",
    "#Importing the functions from the module and the pulses dictionaries\r\n",
    "from Sweeping import *\r\n",
    "from Dictionaries import *\r\n",
    "from PulseFiles import *\r\n",
    "from Instrument import *\r\n",
    "import pyqtgraph as pg \r\n",
    "import nidaqmx\r\n",
    "import pickle"
   ],
   "outputs": [],
   "metadata": {}
  },
  {
   "cell_type": "markdown",
   "source": [
    "# 1 nano"
   ],
   "metadata": {}
  },
  {
   "cell_type": "code",
   "execution_count": null,
   "source": [
    "Adj(1e-9,45,100000)"
   ],
   "outputs": [
    {
     "data": {
      "text/plain": [
       "(144, 1296000000)"
      ]
     },
     "metadata": {},
     "output_type": "display_data"
    }
   ],
   "metadata": {}
  },
  {
   "cell_type": "code",
   "execution_count": null,
   "source": [
    "modulation = 93 #Hz \r\n",
    "comp_time = 1/modulation\r\n",
    "cycle_time = comp_time/2\r\n",
    "cycle_time"
   ],
   "outputs": [
    {
     "data": {
      "text/plain": [
       "0.005376344086021506"
      ]
     },
     "metadata": {},
     "output_type": "display_data"
    }
   ],
   "metadata": {}
  },
  {
   "cell_type": "code",
   "execution_count": null,
   "source": [
    "sam_mili = int(126500000*5.35e-3)\r\n",
    "sam_mili"
   ],
   "outputs": [
    {
     "data": {
      "text/plain": [
       "676775"
      ]
     },
     "metadata": {},
     "output_type": "display_data"
    }
   ],
   "metadata": {}
  },
  {
   "cell_type": "code",
   "execution_count": null,
   "source": [
    "modulation = 100 #Hz \r\n",
    "comp_time = 1/modulation\r\n",
    "cycle_time = comp_time/2\r\n",
    "cycle_time"
   ],
   "outputs": [
    {
     "data": {
      "text/plain": [
       "0.005376344086021506"
      ]
     },
     "metadata": {},
     "output_type": "display_data"
    }
   ],
   "metadata": {}
  },
  {
   "cell_type": "code",
   "execution_count": null,
   "source": [
    "modulation = 90 #Hz \r\n",
    "comp_time = 1/modulation\r\n",
    "cycle_time = comp_time/2\r\n",
    "cycle_time #seconds"
   ],
   "outputs": [
    {
     "data": {
      "text/plain": [
       "0.005555555555555556"
      ]
     },
     "metadata": {},
     "output_type": "display_data"
    }
   ],
   "metadata": {}
  },
  {
   "cell_type": "markdown",
   "source": [
    "T list values"
   ],
   "metadata": {}
  },
  {
   "cell_type": "code",
   "execution_count": null,
   "source": [
    "Sr = 6048000000\r\n",
    "sam = 336\r\n",
    "\r\n",
    "tim = sam/Sr"
   ],
   "outputs": [],
   "metadata": {}
  },
  {
   "cell_type": "code",
   "execution_count": null,
   "source": [
    "tim"
   ],
   "outputs": [
    {
     "data": {
      "text/plain": [
       "5.5555555555555555e-08"
      ]
     },
     "metadata": {},
     "output_type": "display_data"
    }
   ],
   "metadata": {}
  },
  {
   "cell_type": "code",
   "execution_count": null,
   "source": [
    "interval = tim*1e9 #nano"
   ],
   "outputs": [],
   "metadata": {}
  },
  {
   "cell_type": "code",
   "execution_count": null,
   "source": [
    "interval"
   ],
   "outputs": [
    {
     "data": {
      "text/plain": [
       "55.55555555555556"
      ]
     },
     "metadata": {},
     "output_type": "display_data"
    }
   ],
   "metadata": {}
  },
  {
   "cell_type": "markdown",
   "source": [
    "3 times appart"
   ],
   "metadata": {}
  },
  {
   "cell_type": "code",
   "execution_count": 4,
   "source": [
    "full_cycle = 11e-3\r\n",
    "#loop_number = 100000\r\n",
    "#part_cycle = full_cycle / loop_number\r\n",
    "#part_cycle"
   ],
   "outputs": [],
   "metadata": {}
  },
  {
   "cell_type": "code",
   "execution_count": null,
   "source": [
    "interval = 110 #nano\r\n",
    "interval"
   ],
   "outputs": [
    {
     "data": {
      "text/plain": [
       "110"
      ]
     },
     "metadata": {},
     "output_type": "display_data"
    }
   ],
   "metadata": {}
  },
  {
   "cell_type": "code",
   "execution_count": null,
   "source": [
    "cycle_time = 11e-3\r\n",
    "comp_time = cycle_time * 2\r\n",
    "mod = 1/comp_time\r\n",
    "mod"
   ],
   "outputs": [
    {
     "data": {
      "text/plain": [
       "45.45454545454546"
      ]
     },
     "metadata": {},
     "output_type": "display_data"
    }
   ],
   "metadata": {}
  },
  {
   "cell_type": "code",
   "execution_count": 34,
   "source": [
    "#Natterer data:\r\n",
    "interval = 50 #nano\r\n",
    "\r\n",
    "#mod and loop number\r\n",
    "\r\n",
    "loop_number = round(full_cycle / (interval *1e-9)) \r\n",
    "\r\n",
    "loop_number \r\n",
    "\r\n"
   ],
   "outputs": [
    {
     "output_type": "execute_result",
     "data": {
      "text/plain": [
       "220000"
      ]
     },
     "metadata": {},
     "execution_count": 34
    }
   ],
   "metadata": {}
  },
  {
   "cell_type": "code",
   "execution_count": 6,
   "source": [
    "samples = int(6048000000 * 1.1e-7)\r\n",
    "samples"
   ],
   "outputs": [
    {
     "output_type": "execute_result",
     "data": {
      "text/plain": [
       "665"
      ]
     },
     "metadata": {},
     "execution_count": 6
    }
   ],
   "metadata": {}
  },
  {
   "cell_type": "code",
   "execution_count": null,
   "source": [
    "samples/48"
   ],
   "outputs": [
    {
     "data": {
      "text/plain": [
       "13.854166666666666"
      ]
     },
     "metadata": {},
     "output_type": "display_data"
    }
   ],
   "metadata": {}
  },
  {
   "cell_type": "code",
   "execution_count": 7,
   "source": [
    "sam = Granularity(samples)\r\n",
    "sam"
   ],
   "outputs": [
    {
     "output_type": "execute_result",
     "data": {
      "text/plain": [
       "672"
      ]
     },
     "metadata": {},
     "execution_count": 7
    }
   ],
   "metadata": {
    "scrolled": true
   }
  },
  {
   "cell_type": "code",
   "execution_count": null,
   "source": [],
   "outputs": [],
   "metadata": {}
  },
  {
   "cell_type": "markdown",
   "source": [
    "# AWG and Pulse files setup"
   ],
   "metadata": {}
  },
  {
   "cell_type": "code",
   "execution_count": null,
   "source": [
    "AWG_Settings_1nano= {\r\n",
    "    'Visa Resource Name': 'TCPIP0::ibn3-036.ibn-net.kfa-juelich.de::hislip0::INSTR',\r\n",
    "    'Voltage Amplitude':700,\r\n",
    "    'Clock Sample Frecuency':6048000000,\r\n",
    "    'Output_Channel': 1,\r\n",
    "    'Mode': 'STS',\r\n",
    "    'Trigger In Threshold' : 1,\r\n",
    "    'Output Rout': 'DC', #DAC output rout only has the BNC outputs: Direct Out and (Averaged) Direct Out # DC\r\n",
    "    'Data Directory': r'D:\\Alejandro\\Pulses\\diode measurements\\Prepared Pulse Schemes CSV\\50,20\\1nano'\r\n",
    "}"
   ],
   "outputs": [],
   "metadata": {}
  },
  {
   "cell_type": "code",
   "execution_count": null,
   "source": [
    "M8190A = VisaR(AWG_Settings_1nano,60000)"
   ],
   "outputs": [],
   "metadata": {}
  },
  {
   "cell_type": "code",
   "execution_count": null,
   "source": [
    "M8190A.write('FREQ:RAST 6048000000')"
   ],
   "outputs": [
    {
     "data": {
      "text/plain": [
       "21"
      ]
     },
     "metadata": {},
     "output_type": "display_data"
    }
   ],
   "metadata": {}
  },
  {
   "cell_type": "code",
   "execution_count": null,
   "source": [
    "Initialization(M8190A,AWG_Settings_1nano)"
   ],
   "outputs": [
    {
     "output_type": "stream",
     "name": "stdout",
     "text": [
      "Instruments Sampling Frecuency set to 1.25760000000000E+08Hz\n",
      "Instruments Direct Out DAC Output route Voltage set to 7.00000000000000E-01Volts\n",
      "AWG_Settings_Dict set to TRIGGERED Mode\n",
      "Trigger In threshold value set to 1.00000000000000E+00V\n"
     ]
    }
   ],
   "metadata": {}
  },
  {
   "cell_type": "code",
   "execution_count": 20,
   "source": [
    "Pump_1nano = {\r\n",
    "    'Name':'Pump_1nano',\r\n",
    "    'Amplitude': 150,\r\n",
    "    'Start time':25,\r\n",
    "    'End time':2e-10,\r\n",
    "    'Start Duration':5,\r\n",
    "    'End Duration':60,\r\n",
    "    'Sweep time':0,\r\n",
    "    'Sweep Duration':0\r\n",
    "}"
   ],
   "outputs": [],
   "metadata": {}
  },
  {
   "cell_type": "code",
   "execution_count": 21,
   "source": [
    "ProbeA_1nano = {\r\n",
    "    'Name':'ProbeA_1nano',\r\n",
    "    'Amplitude':50,\r\n",
    "    'Start time':15,\r\n",
    "    'End time':35,\r\n",
    "    'Start Duration':5,\r\n",
    "    'End Duration':60,\r\n",
    "    'Sweep time':1,\r\n",
    "    'Sweep Duration':0\r\n",
    "}"
   ],
   "outputs": [],
   "metadata": {}
  },
  {
   "cell_type": "code",
   "execution_count": 22,
   "source": [
    "ProbeB_1nano= {\r\n",
    "    'Name':'ProbeB_1nano',\r\n",
    "    'Amplitude':-50,\r\n",
    "    'Start time':15,\r\n",
    "    'End time':35,\r\n",
    "    'Start Duration':5,\r\n",
    "    'End Duration':6,\r\n",
    "    'Sweep time':1,\r\n",
    "    'Sweep Duration':0\r\n",
    "}"
   ],
   "outputs": [],
   "metadata": {}
  },
  {
   "cell_type": "code",
   "execution_count": 23,
   "source": [
    "PulseScheme_A_1nano =  {\r\n",
    "    'Name' : 'PulseScheme_A_1nano',\r\n",
    "    'Pulse Scheme': [Pump_1nano,ProbeA_1nano],\r\n",
    "    'Number of repetitions': 1,\r\n",
    "    'Measurement file Path': r'D:\\Alejandro\\Pulses\\diode measurements\\Autocorrelation measurements\\50,20\\1nano'\r\n",
    "}"
   ],
   "outputs": [],
   "metadata": {}
  },
  {
   "cell_type": "code",
   "execution_count": 24,
   "source": [
    "PulseScheme_B_1nano =  {\r\n",
    "    'Name' : 'PulseScheme_B_1nano',\r\n",
    "    'Pulse Scheme': [Pump_1nano,ProbeB_1nano],\r\n",
    "    'Number of repetitions': 1,\r\n",
    "    'Measurement file Path': r'D:\\Alejandro\\Pulses\\diode measurements\\Autocorrelation measurements\\50,20\\1nano'\r\n",
    "}"
   ],
   "outputs": [],
   "metadata": {}
  },
  {
   "cell_type": "code",
   "execution_count": 28,
   "source": [
    "step = 0\r\n",
    "pul1 = Sweep_teil(PulseScheme_B_1nano,30,step,interval,sam)\r\n",
    "\r\n",
    "\r\n",
    "#Plot\r\n",
    "fig,ax= plt.subplots()\r\n",
    "ax.grid(True)\r\n",
    "\r\n",
    "plt.plot(pul1[1],pul1[0],label= '{b} samples'.format(b = sam),color='red')\r\n",
    "\r\n",
    "ax.set_ylabel('V  [mV]')\r\n",
    "ax.set_xlabel(r't [ns]')\r\n",
    "ax.set_title('Cycle B at step {a}'.format(a = step )) #Voltage Offset = 3mV, Marker Ampl = 50mV \r\n",
    "#ax.legend(loc=0)\r\n",
    "#plt.legend(bbox_to_anchor=(2.05, 1), loc='upper left', borderaxespad=0.)\r\n",
    "plt.show()\r\n",
    "\r\n",
    "#fig.savefig(r'{loc}\\Cycle A, Probe width 1nano.jpeg {g} step.png'.format(g =  step, loc = PulseScheme_A_1nano['Measurement file Path']),bbox_inches='tight')"
   ],
   "outputs": [
    {
     "output_type": "display_data",
     "data": {
      "image/png": "[encoded data removed]",
      "text/plain": [
       "<Figure size 432x288 with 1 Axes>"
      ]
     },
     "metadata": {
      "needs_background": "light"
     }
    }
   ],
   "metadata": {}
  },
  {
   "cell_type": "code",
   "execution_count": null,
   "source": [
    "sweeping_run_a_1nano = Sweeping_Single_List_File_teil(PulseScheme_A_1nano,30,interval,sam,0,30,AWG_Settings_1nano,'A')[0]"
   ],
   "outputs": [],
   "metadata": {}
  },
  {
   "cell_type": "code",
   "execution_count": null,
   "source": [
    "sweeping_run_b_1nano = Sweeping_Single_List_File_teil(PulseScheme_B_1nano,30,interval,sam,0,30,AWG_Settings_1nano,'B')[0]"
   ],
   "outputs": [],
   "metadata": {}
  },
  {
   "cell_type": "code",
   "execution_count": null,
   "source": [
    "#Exporting pickle\r\n",
    "\r\n",
    "with open(r\"{dict}\\cycleA_31steps_45Hz_1nano_.p\".format(dict = PulseScheme_A_1nano['Measurement file Path']), \"wb\") as k:\r\n",
    "    pickle.dump(sweeping_run_a_1nano, k)\r\n",
    "\r\n",
    "\r\n",
    "with open(r\"{dict}\\cycleB_31steps_45Hz_1nano_.p\".format(dict = PulseScheme_B_1nano['Measurement file Path']), \"wb\") as h:\r\n",
    "    pickle.dump(sweeping_run_b_1nano, h)"
   ],
   "outputs": [],
   "metadata": {}
  },
  {
   "cell_type": "code",
   "execution_count": null,
   "source": [
    "#Importing Pickle\r\n",
    "\r\n",
    "with open(r\"{dict}\\cycleA_31steps_93Hz_1nano_.p\".format(dict = PulseScheme_A_1nano['Measurement file Path']), \"rb\") as j:\r\n",
    "    sweeping_runa_1nano = pickle.load(j)\r\n",
    "\r\n",
    "with open(r\"{dict}\\cycleB_31steps_93Hz_1nano_.p\".format(dict = PulseScheme_A_1nano['Measurement file Path']), \"rb\") as f:\r\n",
    "    sweeping_runb_1nano= pickle.load(f)"
   ],
   "outputs": [],
   "metadata": {}
  },
  {
   "cell_type": "code",
   "execution_count": null,
   "source": [
    "Sequence_File(M8190A,sweeping_runa_1nano['Pulse File Location, at step 30'],sweeping_runb_1nano['Pulse File Location, at step 30'],8)"
   ],
   "outputs": [
    {
     "output_type": "stream",
     "name": "stdout",
     "text": [
      "Sequence loaded with the following segment data \"1,8,0,1,0,1919999,2,8,0,1,0,1919999\" and the advancement method is COND\n"
     ]
    },
    {
     "data": {
      "text/plain": [
       "0"
      ]
     },
     "metadata": {},
     "output_type": "display_data"
    }
   ],
   "metadata": {}
  },
  {
   "cell_type": "markdown",
   "source": [
    "# Loading"
   ],
   "metadata": {}
  },
  {
   "cell_type": "code",
   "execution_count": null,
   "source": [
    "M8190A.write('SEQ:DEL:ALL')"
   ],
   "outputs": [
    {
     "data": {
      "text/plain": [
       "12"
      ]
     },
     "metadata": {},
     "output_type": "display_data"
    }
   ],
   "metadata": {
    "scrolled": true
   }
  },
  {
   "cell_type": "code",
   "execution_count": null,
   "source": [
    "Dummy_File(M8190A)"
   ],
   "outputs": [
    {
     "output_type": "stream",
     "name": "stdout",
     "text": [
      "Dummy File Loaded and playing\n",
      "Dummy File stopped and erased from AWGs memmory\n"
     ]
    }
   ],
   "metadata": {}
  },
  {
   "cell_type": "code",
   "execution_count": null,
   "source": [
    "Lock_In_Settings = {\r\n",
    "'Time Constant' : '300ms',\r\n",
    "'Sensitivity' : '100 microVolts',\r\n",
    "'Reserve' : 'Normal',\r\n",
    "'db' : 24,\r\n",
    "'Modulation': '45Hz'\r\n",
    "}"
   ],
   "outputs": [],
   "metadata": {}
  },
  {
   "cell_type": "code",
   "execution_count": null,
   "source": [
    "playingtime = 20\r\n",
    "\r\n",
    "Diode_Signal, averaged_data = Voltage_Autocorrelation_loop(M8190A,DAQ_Settings1,playingtime,sweeping_run_a_1nano,sweeping_run_b_1nano,PulseScheme_A_1nano['Measurement file Path'],Lock_In_Settings,220000)"
   ],
   "outputs": [
    {
     "output_type": "stream",
     "name": "stdout",
     "text": [
      "Sequence loaded with the following segment data \"1,100000,0,1,0,671,2,100000,0,1,0,671\" and the advancement method is COND\n",
      "Average Value for measurement at step 0 is 2.8329254241341526 V\n",
      "Sequence loaded with the following segment data \"1,100000,0,1,0,671,2,100000,0,1,0,671\" and the advancement method is COND\n",
      "Average Value for measurement at step 1 is 2.8379828256992496 V\n",
      "Sequence loaded with the following segment data \"1,100000,0,1,0,671,2,100000,0,1,0,671\" and the advancement method is COND\n",
      "Average Value for measurement at step 2 is 2.950371654061749 V\n",
      "Sequence loaded with the following segment data \"1,100000,0,1,0,671,2,100000,0,1,0,671\" and the advancement method is COND\n",
      "Average Value for measurement at step 3 is 2.9876038911083764 V\n",
      "Sequence loaded with the following segment data \"1,100000,0,1,0,671,2,100000,0,1,0,671\" and the advancement method is COND\n"
     ]
    }
   ],
   "metadata": {}
  },
  {
   "cell_type": "code",
   "execution_count": null,
   "source": [
    "fig,ax= plt.subplots()\r\n",
    "ax.grid(True)\r\n",
    "for i in range(0,len(Diode_Signal)):\r\n",
    "    plt.plot(Diode_Signal[i][1],Diode_Signal[i][0],label= 'Step {st}'.format(st = i ))\r\n",
    "\r\n",
    "ax.set_ylabel(r'V  [V]')\r\n",
    "ax.set_xlabel('t  [s]')\r\n",
    "ax.set_title(r' Diode Signal at Different Steps,  {b} Samples, 1ns probe duration'.format(b = len(Diode_Signal[0][1]) ))\r\n",
    "#ax.legend(bbox_to_anchor=(1.05, 1), loc='upper left', borderaxespad=0.)\r\n",
    "#ax.legend(loc=0)\r\n",
    "plt.show()\r\n",
    "\r\n",
    "fig.savefig(r'{loc}\\Diode Signal time cstant = {a}, sensitivity {b},{c} daqseconds, , probe duration 1 nano,31 steps, no legend, .jpeg'.format(loc = PulseScheme_A_1nano['Measurement file Path'],a = Lock_In_Settings['Time Constant'], b = Lock_In_Settings['Sensitivity'], c = playingtime),bbox_inches='tight')"
   ],
   "outputs": [
    {
     "data": {
      "image/png": "[encoded data removed]",
      "text/plain": [
       "<Figure size 432x288 with 1 Axes>"
      ]
     },
     "metadata": {},
     "output_type": "display_data"
    }
   ],
   "metadata": {}
  },
  {
   "cell_type": "code",
   "execution_count": null,
   "source": [
    "time_delay = np.linspace(-10,10,31)"
   ],
   "outputs": [],
   "metadata": {}
  },
  {
   "cell_type": "code",
   "execution_count": null,
   "source": [
    "\r\n",
    "fig,axes = plt.subplots()\r\n",
    "\r\n",
    "axes.grid(True)\r\n",
    "\r\n",
    "plt.plot(time_delay,averaged_data,label=r'1 ns Probe Width ',color='green')\r\n",
    "#plt.plot(tm,pul,label = '{a} samples'.format(a = len(pul)))\r\n",
    "\r\n",
    "axes.set_xlabel(r'time delay [ns]')\r\n",
    "axes.set_ylabel(r'Diode Signal [V]')\r\n",
    "axes.set_title('Auto-Correlation 31 steps ')\r\n",
    "\r\n",
    "axes.legend(loc = 0)\r\n",
    "plt.show()\r\n",
    "\r\n",
    "fig.savefig(r'{loc}\\Autocorrelation function 31 steps probes  length tc = {a}, sens {b}, {c}s DAQ .jpeg'.format(loc = PulseScheme_A_1nano['Measurement file Path'],a = Lock_In_Settings['Time Constant'], b = Lock_In_Settings['Sensitivity'], c = playingtime ))"
   ],
   "outputs": [
    {
     "data": {
      "image/png": "[encoded data removed]",
      "text/plain": [
       "<Figure size 432x288 with 1 Axes>"
      ]
     },
     "metadata": {},
     "output_type": "display_data"
    }
   ],
   "metadata": {}
  },
  {
   "cell_type": "markdown",
   "source": [
    "# "
   ],
   "metadata": {}
  }
 ],
 "metadata": {
  "orig_nbformat": 4,
  "language_info": {
   "name": "python",
   "version": "3.7.7",
   "mimetype": "text/x-python",
   "codemirror_mode": {
    "name": "ipython",
    "version": 3
   },
   "pygments_lexer": "ipython3",
   "nbconvert_exporter": "python",
   "file_extension": ".py"
  },
  "kernelspec": {
   "name": "python3",
   "display_name": "Python 3.7.7 64-bit ('base': conda)"
  },
  "interpreter": {
   "hash": "61820e52d70a1c1faf512b5148b4e2ed69ab88faacfacc53ee3905e34b33b48e"
  }
 },
 "nbformat": 4,
 "nbformat_minor": 2
}