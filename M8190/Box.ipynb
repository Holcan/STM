{
 "cells": [
  {
   "cell_type": "markdown",
   "source": [
    "# All settings will be given to the channel 1 output, in the DC Amp out configuration"
   ],
   "metadata": {}
  },
  {
   "cell_type": "code",
   "execution_count": 1,
   "source": [
    "%matplotlib widget "
   ],
   "outputs": [],
   "metadata": {}
  },
  {
   "cell_type": "code",
   "execution_count": 2,
   "source": [
    "import numpy as np\r\n",
    "import pandas as pd\r\n",
    "import time\r\n",
    "import matplotlib\r\n",
    "import matplotlib.pyplot as plt\r\n",
    "import pyvisa as visa\r\n",
    "from matplotlib import animation\r\n",
    "from time import sleep\r\n",
    "from matplotlib.animation import FuncAnimation\r\n",
    "#Importing the functions from the module and the pulses dictionaries\r\n",
    "from Sweeping import *\r\n",
    "from Dictionaries import *\r\n",
    "from PulseFiles import *\r\n",
    "from Instrument import *\r\n",
    "import pyqtgraph as pg \r\n",
    "import nidaqmx"
   ],
   "outputs": [],
   "metadata": {}
  },
  {
   "cell_type": "code",
   "execution_count": 11,
   "source": [],
   "outputs": [],
   "metadata": {}
  },
  {
   "cell_type": "markdown",
   "source": [
    "# Visa interface for the M8190A instrument:"
   ],
   "metadata": {}
  },
  {
   "cell_type": "code",
   "execution_count": 3,
   "source": [
    "M8190A = VisaR(AWG_Settings4,60000)"
   ],
   "outputs": [],
   "metadata": {}
  },
  {
   "cell_type": "code",
   "execution_count": 4,
   "source": [
    "Initialization(M8190A,AWG_Settings4)"
   ],
   "outputs": [
    {
     "output_type": "stream",
     "name": "stdout",
     "text": [
      "Instruments Sampling Frecuency set to 5.00000000000000E+08Hz\n",
      "Instruments DC1 Output route Voltage set to 7.00000000000000E-01deciVolts\n",
      "AWG set to TRIGGERED Mode\n",
      "Trigger In threshold value set to 1.00000000000000E+00V\n"
     ]
    }
   ],
   "metadata": {}
  },
  {
   "cell_type": "code",
   "execution_count": 5,
   "source": [
    "M8190A.query('*IDN?')"
   ],
   "outputs": [
    {
     "output_type": "execute_result",
     "data": {
      "text/plain": [
       "'Agilent Technologies,M8190A,MY57701776,5.6.0.0-2'"
      ]
     },
     "metadata": {},
     "execution_count": 5
    }
   ],
   "metadata": {}
  },
  {
   "cell_type": "code",
   "execution_count": 26,
   "source": [
    "M8190A.write('*RST')"
   ],
   "outputs": [
    {
     "output_type": "execute_result",
     "data": {
      "text/plain": [
       "5"
      ]
     },
     "metadata": {},
     "execution_count": 26
    }
   ],
   "metadata": {}
  },
  {
   "cell_type": "code",
   "execution_count": 5,
   "source": [
    "M8190A.query('FREQ:RAST?')"
   ],
   "outputs": [
    {
     "output_type": "execute_result",
     "data": {
      "text/plain": [
       "'5.00000000000000E+08'"
      ]
     },
     "metadata": {},
     "execution_count": 5
    }
   ],
   "metadata": {}
  },
  {
   "cell_type": "code",
   "execution_count": 7,
   "source": [
    "M8190A.query('SYST:ERR?')"
   ],
   "outputs": [
    {
     "output_type": "execute_result",
     "data": {
      "text/plain": [
       "'0,\"No error\"'"
      ]
     },
     "metadata": {},
     "execution_count": 7
    }
   ],
   "metadata": {}
  },
  {
   "cell_type": "code",
   "execution_count": 4,
   "source": [
    "print(M8190A)"
   ],
   "outputs": [
    {
     "output_type": "stream",
     "name": "stdout",
     "text": [
      "TCPIPInstrument at TCPIP0::ibn3-036.ibn-net.kfa-juelich.de::hislip0::INSTR\n"
     ]
    }
   ],
   "metadata": {}
  },
  {
   "cell_type": "markdown",
   "source": [
    "# Loading and triggering a single waveform:"
   ],
   "metadata": {}
  },
  {
   "cell_type": "code",
   "execution_count": 6,
   "source": [
    "M8190A.query('ARM:TRIG:LEV?')"
   ],
   "outputs": [
    {
     "output_type": "execute_result",
     "data": {
      "text/plain": [
       "'1.00000000000000E+00'"
      ]
     },
     "metadata": {},
     "execution_count": 6
    }
   ],
   "metadata": {}
  },
  {
   "cell_type": "code",
   "execution_count": 6,
   "source": [
    "M8190A.write('ABOR')"
   ],
   "outputs": [
    {
     "output_type": "execute_result",
     "data": {
      "text/plain": [
       "5"
      ]
     },
     "metadata": {},
     "execution_count": 6
    }
   ],
   "metadata": {}
  },
  {
   "cell_type": "code",
   "execution_count": 8,
   "source": [
    "test_run0 = Sequence_Pulse_List(PList_secondsA,PList_secondsB,10,0,15,7500000,M8190A,AWG_Settings4,1)"
   ],
   "outputs": [
    {
     "output_type": "stream",
     "name": "stdout",
     "text": [
      "Current Segment Catalogue is 1,7500000  [(segment id, Segment size)]\n",
      "Current Segment Catalogue is 1,7500000,2,7500000  [(segment id, Segment size)]\n",
      "Sequence advancement method is COND\n",
      "Sequence loaded with the following segment data \"1,1,0,1,0,7499999,2,1,0,1,0,7499999\"\n"
     ]
    }
   ],
   "metadata": {}
  },
  {
   "cell_type": "code",
   "execution_count": 5,
   "source": [
    "test_run = Triggered_Sequence_Setup(PList_secondsA,PList_secondsB,10,0,15,7500000,M8190A,AWG_Settings4,1)"
   ],
   "outputs": [
    {
     "output_type": "stream",
     "name": "stdout",
     "text": [
      "Current Segment Catalogue is 1,7500000  [(segment id, Segment size)]\n",
      "Current Segment Catalogue is 1,7500000,2,7500000  [(segment id, Segment size)]\n",
      "Sequence advancement method is COND\n",
      "Sequence loaded with the following segment data \"1,1,0,1,0,7499999,2,1,0,1,0,7499999\"\n"
     ]
    }
   ],
   "metadata": {}
  },
  {
   "cell_type": "code",
   "execution_count": 6,
   "source": [
    "test_run[0]['Y1']*AWG_Settings4['Voltage Amplitude']"
   ],
   "outputs": [
    {
     "output_type": "execute_result",
     "data": {
      "text/plain": [
       "0            0.0\n",
       "1          500.0\n",
       "2          500.0\n",
       "3          500.0\n",
       "4          500.0\n",
       "           ...  \n",
       "7499995      0.0\n",
       "7499996      0.0\n",
       "7499997      0.0\n",
       "7499998      0.0\n",
       "7499999      0.0\n",
       "Name: Y1, Length: 7500000, dtype: float64"
      ]
     },
     "metadata": {},
     "execution_count": 6
    }
   ],
   "metadata": {}
  },
  {
   "cell_type": "code",
   "execution_count": 7,
   "source": [
    "test_run[1]['Y1']*AWG_Settings4['Voltage Amplitude']"
   ],
   "outputs": [
    {
     "output_type": "execute_result",
     "data": {
      "text/plain": [
       "0            0.0\n",
       "1          500.0\n",
       "2          500.0\n",
       "3          500.0\n",
       "4          500.0\n",
       "           ...  \n",
       "7499995      0.0\n",
       "7499996      0.0\n",
       "7499997      0.0\n",
       "7499998      0.0\n",
       "7499999      0.0\n",
       "Name: Y1, Length: 7500000, dtype: float64"
      ]
     },
     "metadata": {},
     "execution_count": 7
    }
   ],
   "metadata": {}
  },
  {
   "cell_type": "code",
   "execution_count": 7,
   "source": [
    "fig,ax= plt.subplots(2)\r\n",
    "\r\n",
    "ax[0].grid(True)\r\n",
    "ax[1].grid(True)\r\n",
    "fig.suptitle('Pulses Loaded into the AWG')\r\n",
    "\r\n",
    "\r\n",
    "ax[0].plot(test_run[2],test_run[0]['Y1']*AWG_Settings4['Voltage Amplitude'],label= 'Pulse A',color='blue')\r\n",
    "ax[1].plot(test_run[2],test_run[1]['Y1']*AWG_Settings4['Voltage Amplitude'],label= 'Pulse B',color='red')\r\n",
    "ax[0].set_ylabel('V  [mV]')\r\n",
    "ax[0].set_xlabel('t  [ms]')\r\n",
    "ax[1].set_ylabel('V  [mV]')\r\n",
    "ax[1].set_xlabel('t  [ms]')\r\n",
    "\r\n",
    "#ax.set_title('Pulses Loaded into the AWG')\r\n",
    "\r\n",
    "fig.legend(bbox_to_anchor=(1.05, 1), loc='upper left', borderaxespad=0.)\r\n",
    "plt.show()\r\n",
    "#fig.savefig('Pulse_sweep_t=20',optimize=True,bbox_inches='tight')"
   ],
   "outputs": [
    {
     "output_type": "display_data",
     "data": {
      "text/plain": [
       "<Figure size 432x288 with 2 Axes>"
      ],
      "image/png": "[encoded data removed]"
     },
     "metadata": {
      "needs_background": "light"
     }
    }
   ],
   "metadata": {}
  },
  {
   "cell_type": "code",
   "execution_count": 8,
   "source": [
    "Trigger_Pulse('DAQBNC1','ao1',1.5,4)"
   ],
   "outputs": [
    {
     "output_type": "stream",
     "name": "stdout",
     "text": [
      "Triggering Pulse Stoped\n"
     ]
    }
   ],
   "metadata": {}
  },
  {
   "cell_type": "code",
   "execution_count": 12,
   "source": [
    "25*1e-3"
   ],
   "outputs": [
    {
     "output_type": "execute_result",
     "data": {
      "text/plain": [
       "0.025"
      ]
     },
     "metadata": {},
     "execution_count": 12
    }
   ],
   "metadata": {}
  },
  {
   "cell_type": "code",
   "execution_count": 22,
   "source": [
    "DAQ_Settings1['Sampling Frequency'] * 25 *1e-3"
   ],
   "outputs": [
    {
     "output_type": "execute_result",
     "data": {
      "text/plain": [
       "10000.0"
      ]
     },
     "metadata": {},
     "execution_count": 22
    }
   ],
   "metadata": {}
  },
  {
   "cell_type": "code",
   "execution_count": 6,
   "source": [
    "Trigger_Pulse('DAQBNC1','ao1',1.5,4)"
   ],
   "outputs": [
    {
     "output_type": "stream",
     "name": "stdout",
     "text": [
      "Triggering Pulse Stoped\n"
     ]
    }
   ],
   "metadata": {}
  },
  {
   "cell_type": "code",
   "execution_count": 62,
   "source": [
    "voltask =  nidaqmx.Task()\r\n",
    "\r\n",
    "voltask.ao_channels.add_ao_voltage_chan(\"DAQBNC1/ao1\",min_val=-3,max_val=3)\r\n",
    "\r\n",
    "\r\n",
    "\r\n",
    "\r\n",
    "\r\n",
    "print('Task started')\r\n",
    "voltask.start()\r\n",
    "\r\n",
    "time.sleep(10)\r\n",
    "\r\n",
    "print('Writting!')\r\n",
    "\r\n",
    "time.sleep(4)\r\n",
    "voltask.write(3)\r\n",
    "time.sleep(7) \r\n",
    "\r\n",
    "print('Lowering Voltage!')\r\n",
    "time.sleep(4)\r\n",
    "\r\n",
    "voltask.write(0)\r\n",
    "#\r\n",
    "voltask.stop()\r\n",
    "#\r\n",
    "voltask.close()"
   ],
   "outputs": [
    {
     "output_type": "stream",
     "name": "stdout",
     "text": [
      "Task started\n",
      "Writting!\n",
      "Lowering Voltage!\n"
     ]
    }
   ],
   "metadata": {}
  },
  {
   "cell_type": "code",
   "execution_count": 5,
   "source": [
    "def DAQ_Measuring0(DAQ_settings,sr,playingtime,instrument):\r\n",
    "    \"\"\"This function starts sets up the DAQ box in order to collect data for a time duration given by \"playing time\"\r\n",
    "      It then uses the DAQ box to trigger the AWG into playing a waveform.\r\n",
    "\r\n",
    "      playingtime should be in seconds.\r\n",
    "      triggerinvoltage should be in volts.\r\n",
    "    \"\"\"\r\n",
    "    instrument.write('INIT:IMM')\r\n",
    "    time.sleep(2)\r\n",
    "\r\n",
    "\r\n",
    "    #Calculating the number of samples given the samplig frecuency and playing time\r\n",
    "    samples = int(sr * playingtime) \r\n",
    "    measuring_time = np.linspace(0,playingtime,samples)\r\n",
    "\r\n",
    "    #setting the tasks\r\n",
    "    measuring_task = nidaqmx.Task()\r\n",
    "    trig_task =  nidaqmx.Task()\r\n",
    "   \r\n",
    "\r\n",
    "\r\n",
    "    #Channels Configuration\r\n",
    "    measuring_task.ai_channels.add_ai_voltage_chan(\"{a}/{b}\".format(a = DAQ_settings['DAQ Name'], b = DAQ_settings['Analog Channel Input']),min_val=DAQ_settings['Minimum Voltage'],max_val= DAQ_settings['Maximum Voltage'])\r\n",
    "    trig_task.ao_channels.add_ao_voltage_chan('{a}/{b}'.format(a = DAQ_settings['DAQ Name'], b = DAQ_settings['Analog Channel Output']),'triggering',-4,4)\r\n",
    "\r\n",
    "    #Sampling configuration measuring channel\r\n",
    "    measuring_task.timing.cfg_samp_clk_timing(sr, active_edge=Edge.RISING, sample_mode=AcquisitionType.FINITE, samps_per_chan=samples)\r\n",
    "    #trig_task.timing.cfg_samp_clk_timing(DAQ_settings['Sampling Frequency'], samps_per_chan=samples)\r\n",
    "    #source = \"measuring_task/SampleClock\"\r\n",
    "\r\n",
    "    trig_task.start()\r\n",
    "    measuring_task.start()\r\n",
    "    \r\n",
    "\r\n",
    "    \r\n",
    "    trig_task.write(1.5)\r\n",
    "    #time.sleep(3)\r\n",
    "    data = np.array(measuring_task.read(samples))\r\n",
    "\r\n",
    "\r\n",
    "    \r\n",
    "    #time.sleep(3)\r\n",
    "    print('Triggering Pulse Stoped')\r\n",
    "    trig_task.write(0)\r\n",
    "\r\n",
    "    \r\n",
    "    \r\n",
    "    \r\n",
    "\r\n",
    "    trig_task.stop()\r\n",
    "    measuring_task.stop()\r\n",
    "\r\n",
    "    measuring_task.close()\r\n",
    "    trig_task.close()\r\n",
    "\r\n",
    "\r\n",
    "    instrument.write('ABOR')\r\n",
    "\r\n",
    "    return data, measuring_time"
   ],
   "outputs": [],
   "metadata": {}
  },
  {
   "cell_type": "code",
   "execution_count": 30,
   "source": [
    "dataM, timeM = DAQ_Measuring0(DAQ_Settings1,1000,10,M8190A)\r\n",
    "\r\n",
    "fig,ax= plt.subplots()\r\n",
    "\r\n",
    "ax.grid(True)\r\n",
    "#plt.plot(tom,data_off,label= 'AWG off')\r\n",
    "plt.plot(timeM,dataM*1000,label= '{b} samples'.format(b=len(dataM)),color='orange')\r\n",
    "\r\n",
    "ax.set_ylabel('V  [mV]')\r\n",
    "ax.set_xlabel('t  [s]')\r\n",
    "ax.set_title('Voltage measured with DAQ, Amp out Channel')\r\n",
    "#plt.legend(bbox_to_anchor=(1.05, 1), loc='upper left', borderaxespad=0.)\r\n",
    "plt.show()\r\n",
    "#fig.savefig('DAQ measurement noise0',bbox_inches='tight')"
   ],
   "outputs": [
    {
     "output_type": "stream",
     "name": "stdout",
     "text": [
      "Triggering Pulse Stoped\n"
     ]
    },
    {
     "output_type": "display_data",
     "data": {
      "text/plain": [
       "Canvas(toolbar=Toolbar(toolitems=[('Home', 'Reset original view', 'home', 'home'), ('Back', 'Back to previous …"
      ],
      "application/vnd.jupyter.widget-view+json": {
       "version_major": 2,
       "version_minor": 0,
       "model_id": "f8c70e853f7245f8be687bda25b7f3ff"
      }
     },
     "metadata": {}
    }
   ],
   "metadata": {}
  },
  {
   "cell_type": "markdown",
   "source": [
    "# Different behaviour when initializing the AWG outside of the DAQ_measurement function (or inside, but with a time.sleep() right after it) and when initializing the AWG inside the function. Initializing with a delay gives \"proper\" measurement scheme (I still have to check whether it is getting the correct time scale). This independant of the delay time present when loading a waveform to the awg for the first time after reseting."
   ],
   "metadata": {}
  },
  {
   "cell_type": "code",
   "execution_count": 16,
   "source": [
    "dataM.size"
   ],
   "outputs": [
    {
     "output_type": "execute_result",
     "data": {
      "text/plain": [
       "10000"
      ]
     },
     "metadata": {},
     "execution_count": 16
    }
   ],
   "metadata": {}
  },
  {
   "cell_type": "code",
   "execution_count": 6,
   "source": [
    "def DAQ_Measuring0ms(DAQ_settings,sr,playingtime,instrument):\r\n",
    "    \"\"\"This function starts sets up the DAQ box in order to collect data for a time duration given by \"playing time\"\r\n",
    "      It then uses the DAQ box to trigger the AWG into playing a waveform.\r\n",
    "\r\n",
    "      playingtime should be in seconds.\r\n",
    "      triggerinvoltage should be in volts.\r\n",
    "    \"\"\"\r\n",
    "    instrument.write('INIT:IMM')\r\n",
    "    time.sleep(2)\r\n",
    "\r\n",
    "\r\n",
    "\r\n",
    "    #Calculating the number of samples given the samplig frecuency and playing time\r\n",
    "    samples = int(sr * playingtime*1e-3) \r\n",
    "    measuring_time = np.linspace(0,playingtime,samples)\r\n",
    "\r\n",
    "    #setting the tasks\r\n",
    "    measuring_task = nidaqmx.Task()\r\n",
    "    trig_task =  nidaqmx.Task()\r\n",
    "   \r\n",
    "\r\n",
    "\r\n",
    "    #Channels Configuration\r\n",
    "    measuring_task.ai_channels.add_ai_voltage_chan(\"{a}/{b}\".format(a = DAQ_settings['DAQ Name'], b = DAQ_settings['Analog Channel Input']),min_val=DAQ_settings['Minimum Voltage'],max_val= DAQ_settings['Maximum Voltage'])\r\n",
    "    trig_task.ao_channels.add_ao_voltage_chan('{a}/{b}'.format(a = DAQ_settings['DAQ Name'], b = DAQ_settings['Analog Channel Output']),'triggering',-4,4)\r\n",
    "\r\n",
    "    #Sampling configuration measuring channel\r\n",
    "    measuring_task.timing.cfg_samp_clk_timing(sr, active_edge=Edge.RISING, sample_mode=AcquisitionType.FINITE, samps_per_chan=samples)\r\n",
    "    #trig_task.timing.cfg_samp_clk_timing(DAQ_settings['Sampling Frequency'], samps_per_chan=samples)\r\n",
    "    #source = \"measuring_task/SampleClock\"\r\n",
    "\r\n",
    "    trig_task.start()\r\n",
    "    measuring_task.start()\r\n",
    "    \r\n",
    "\r\n",
    "    \r\n",
    "    trig_task.write(1.5)\r\n",
    "    #time.sleep(3)\r\n",
    "    data = np.array(measuring_task.read(samples))\r\n",
    "\r\n",
    "\r\n",
    "    \r\n",
    "    #time.sleep(3)\r\n",
    "    print('Triggering Pulse Stoped')\r\n",
    "    trig_task.write(0)\r\n",
    "\r\n",
    "    \r\n",
    "    \r\n",
    "    \r\n",
    "\r\n",
    "    trig_task.stop()\r\n",
    "    measuring_task.stop()\r\n",
    "\r\n",
    "    measuring_task.close()\r\n",
    "    trig_task.close()\r\n",
    "\r\n",
    "\r\n",
    "    instrument.write('ABOR')\r\n",
    "\r\n",
    "    return data, measuring_time"
   ],
   "outputs": [],
   "metadata": {}
  },
  {
   "cell_type": "code",
   "execution_count": 21,
   "source": [
    "dataM, timeM = DAQ_Measuring0ms(DAQ_Settings1,400000,32,M8190A)\r\n",
    "\r\n",
    "fig,ax= plt.subplots()\r\n",
    "\r\n",
    "ax.grid(True)\r\n",
    "#plt.plot(tom,data_off,label= 'AWG off')\r\n",
    "plt.plot(timeM,dataM*1000,label= '{b} samples'.format(b=len(dataM)),color='orange')\r\n",
    "\r\n",
    "ax.set_ylabel('V  [mV]')\r\n",
    "ax.set_xlabel('t  [ms]')\r\n",
    "ax.set_title('Voltage measured with DAQ, Direct out Channel DAC')\r\n",
    "ax.legend(loc=0)\r\n",
    "#plt.legend(bbox_to_anchor=(2.05, 1), loc='upper left', borderaxespad=0.)\r\n",
    "plt.show()\r\n",
    "#fig.savefig('DAQ measurement timeoffset2',bbox_inches='tight')"
   ],
   "outputs": [
    {
     "output_type": "stream",
     "name": "stdout",
     "text": [
      "Triggering Pulse Stoped\n"
     ]
    },
    {
     "output_type": "display_data",
     "data": {
      "text/plain": [
       "Canvas(toolbar=Toolbar(toolitems=[('Home', 'Reset original view', 'home', 'home'), ('Back', 'Back to previous …"
      ],
      "application/vnd.jupyter.widget-view+json": {
       "version_major": 2,
       "version_minor": 0,
       "model_id": "e1f44c564b864f2280af6b580cb4f60a"
      }
     },
     "metadata": {}
    }
   ],
   "metadata": {}
  },
  {
   "cell_type": "code",
   "execution_count": 20,
   "source": [
    "M8190A.query('OUTP:ROUT:SEL?')"
   ],
   "outputs": [
    {
     "output_type": "execute_result",
     "data": {
      "text/plain": [
       "'DAC'"
      ]
     },
     "metadata": {},
     "execution_count": 20
    }
   ],
   "metadata": {}
  },
  {
   "cell_type": "code",
   "execution_count": 17,
   "source": [
    "M8190A.write('INIT:IMM')"
   ],
   "outputs": [
    {
     "output_type": "execute_result",
     "data": {
      "text/plain": [
       "9"
      ]
     },
     "metadata": {},
     "execution_count": 17
    }
   ],
   "metadata": {}
  },
  {
   "cell_type": "code",
   "execution_count": 10,
   "source": [
    "dar,tar = DAQ_Measuringt(DAQ_Settings1,25,1.5)\r\n",
    "\r\n",
    "fig,ax= plt.subplots()\r\n",
    "\r\n",
    "ax.grid(True)\r\n",
    "#plt.plot(tom,data_off,label= 'AWG off')\r\n",
    "plt.plot(tar,dar*1000,label= '{b} samples'.format(b=len(dar)),color='orange')\r\n",
    "\r\n",
    "ax.set_ylabel('V  [mV]')\r\n",
    "ax.set_xlabel('t  [ms]')\r\n",
    "ax.set_title('Voltage Amplitude measured with DAQ')\r\n",
    "#plt.legend(bbox_to_anchor=(1.05, 1), loc='upper left', borderaxespad=0.)\r\n",
    "plt.show()\r\n",
    "#fig.savefig('DAQ measurement',bbox_inches='tight')"
   ],
   "outputs": [
    {
     "output_type": "stream",
     "name": "stdout",
     "text": [
      "Triggering Pulse Stoped\n"
     ]
    },
    {
     "output_type": "display_data",
     "data": {
      "text/plain": [
       "<Figure size 432x288 with 1 Axes>"
      ],
      "image/png": "[encoded data removed]"
     },
     "metadata": {
      "needs_background": "light"
     }
    }
   ],
   "metadata": {}
  },
  {
   "cell_type": "code",
   "execution_count": null,
   "source": [
    "DAQ_Settings3 = {\r\n",
    "    'DAQ Name' : 'DAQBNC1',\r\n",
    "    'Analog Channel Input' : 'ai0',\r\n",
    "    'Analog Channel Output' : 'ao1',\r\n",
    "    'Minimum Voltage' : -4,\r\n",
    "    'Maximum Voltage' : 4,\r\n",
    "    'Sampling Frequency' : 1000,\r\n",
    "    'Data Directory': r'D:\\Documentos\\STM\\Python Pulses\\S1'"
   ],
   "outputs": [],
   "metadata": {}
  },
  {
   "cell_type": "code",
   "execution_count": null,
   "source": [
    "with nidaqmx.Task() as ai_task, nidaqmx.Task() as ao_task:\r\n",
    "    rate = 10**4 # sample rate in Hz\r\n",
    "    duration = 1 # acquisition duration in seconds \r\n",
    "    npnts = int(rate * duration)\r\n",
    "    ai_task.ai_channels.add_ai_voltage_chan('Dev2/ai0')\r\n",
    "    ao_task.ao_channels.add_ao_voltage_chan('Dev2/ao0')\r\n",
    "    ao_task.timing.cfg_samp_clk_timing(rate,\r\n",
    "                                     sample_mode=AcquisitionType.FINITE,\r\n",
    "                                     samps_per_chan=npnts)\r\n",
    "    ai_task.timing.cfg_samp_clk_timing(rate, source='ao/SampleClock', samps_per_chan=npnts)\r\n",
    "   \r\n",
    "    ao_task.write(np.linspace(-1, 1, npnts), auto_start=False)\r\n",
    "    ao_task.start()\r\n",
    "    ai_task.start()\r\n",
    "    \r\n",
    "    ai_task.wait_until_done()\r\n",
    "    ao_task.wait_until_done()\r\n",
    "    \r\n",
    "    data = ai_task.read(number_of_samples_per_channel=npnts)"
   ],
   "outputs": [],
   "metadata": {}
  },
  {
   "cell_type": "code",
   "execution_count": 4,
   "source": [
    "dar,tar = DAQ_Measuring0(DAQ_Settings1,25,1.5,M8190A)\r\n",
    "\r\n",
    "fig,ax= plt.subplots()\r\n",
    "\r\n",
    "ax.grid(True)\r\n",
    "#plt.plot(tom,data_off,label= 'AWG off')\r\n",
    "plt.plot(tar,dar*1000,label= '{b} samples'.format(b=len(dar)),color='orange')\r\n",
    "\r\n",
    "ax.set_ylabel('V  [mV]')\r\n",
    "ax.set_xlabel('t  [s]')\r\n",
    "ax.set_title('Voltage Amplitude measured with DAQ')\r\n",
    "#plt.legend(bbox_to_anchor=(1.05, 1), loc='upper left', borderaxespad=0.)\r\n",
    "plt.show()\r\n",
    "#fig.savefig('DAQ measurement',bbox_inches='tight')"
   ],
   "outputs": [
    {
     "output_type": "display_data",
     "data": {
      "text/plain": [
       "<Figure size 432x288 with 1 Axes>"
      ],
      "image/png": "[encoded data removed]"
     },
     "metadata": {
      "needs_background": "light"
     }
    }
   ],
   "metadata": {}
  },
  {
   "cell_type": "code",
   "execution_count": 10,
   "source": [
    "10/(2**14)"
   ],
   "outputs": [
    {
     "output_type": "execute_result",
     "data": {
      "text/plain": [
       "0.0006103515625"
      ]
     },
     "metadata": {},
     "execution_count": 10
    }
   ],
   "metadata": {}
  },
  {
   "cell_type": "code",
   "execution_count": 29,
   "source": [
    "M8190A.write('SEQ:ADV 0, COND')"
   ],
   "outputs": [
    {
     "output_type": "execute_result",
     "data": {
      "text/plain": [
       "16"
      ]
     },
     "metadata": {},
     "execution_count": 29
    }
   ],
   "metadata": {}
  },
  {
   "cell_type": "code",
   "execution_count": 16,
   "source": [
    "M8190A.query('SEQ:ADV? 0')"
   ],
   "outputs": [
    {
     "output_type": "execute_result",
     "data": {
      "text/plain": [
       "'COND'"
      ]
     },
     "metadata": {},
     "execution_count": 16
    }
   ],
   "metadata": {}
  },
  {
   "cell_type": "code",
   "execution_count": 11,
   "source": [
    "M8190A.write('SEQ:ADV 0, AUTO')"
   ],
   "outputs": [
    {
     "output_type": "execute_result",
     "data": {
      "text/plain": [
       "16"
      ]
     },
     "metadata": {},
     "execution_count": 11
    }
   ],
   "metadata": {}
  },
  {
   "cell_type": "code",
   "execution_count": 28,
   "source": [
    "M8190A.write('ABOR')"
   ],
   "outputs": [
    {
     "output_type": "execute_result",
     "data": {
      "text/plain": [
       "5"
      ]
     },
     "metadata": {},
     "execution_count": 28
    }
   ],
   "metadata": {}
  },
  {
   "cell_type": "markdown",
   "source": [
    "There is something weird while initiating the function before setting up the DAQ"
   ],
   "metadata": {}
  },
  {
   "cell_type": "code",
   "execution_count": 21,
   "source": [
    "from nidaqmx.constants import Edge\r\n",
    "from nidaqmx.constants import AcquisitionType\r\n",
    "\r\n",
    "\r\n",
    "n = 10000\r\n",
    "\r\n",
    "task = nidaqmx.Task()\r\n",
    "\r\n",
    "task.ai_channels.add_ai_voltage_chan(\"DAQBNC1/ai0\",min_val=-4,max_val=4)\r\n",
    "task.timing.cfg_samp_clk_timing(400000, source=\"\", active_edge=Edge.RISING, sample_mode=AcquisitionType.FINITE, samps_per_chan=n)\r\n",
    "\r\n",
    "\r\n",
    "task.start()\r\n",
    "\r\n",
    "\r\n",
    "\r\n",
    "data_on = np.array(task.read(n))\r\n",
    "\r\n",
    "\r\n",
    "\r\n",
    "task.stop()\r\n",
    "task.close\r\n",
    "\r\n",
    "\r\n",
    "tom = np.linspace(0,25,n)\r\n",
    "\r\n",
    "\r\n",
    "fig,ax= plt.subplots()\r\n",
    "\r\n",
    "ax.grid(True)\r\n",
    "#plt.plot(tom,data_off,label= 'AWG off')\r\n",
    "plt.plot(tom,data_on*1000,label= '{b} samples'.format(b=n),color='orange')\r\n",
    "\r\n",
    "ax.set_ylabel('V  [mV]')\r\n",
    "ax.set_xlabel('t  [ms]')\r\n",
    "ax.set_title('Voltage Amplitude measured with DAQ')\r\n",
    "#plt.legend(bbox_to_anchor=(1.05, 1), loc='upper left', borderaxespad=0.)\r\n",
    "plt.show()\r\n",
    "#fig.savefig('DAQ measurement',bbox_inches='tight')"
   ],
   "outputs": [
    {
     "output_type": "display_data",
     "data": {
      "text/plain": [
       "Canvas(toolbar=Toolbar(toolitems=[('Home', 'Reset original view', 'home', 'home'), ('Back', 'Back to previous …"
      ],
      "application/vnd.jupyter.widget-view+json": {
       "version_major": 2,
       "version_minor": 0,
       "model_id": "01f02854444543f2966e6379fed88549"
      }
     },
     "metadata": {}
    }
   ],
   "metadata": {}
  }
 ],
 "metadata": {
  "@webio": {
   "lastCommId": null,
   "lastKernelId": null
  },
  "interpreter": {
   "hash": "9a32f0bf53af15acd232504180dc0ef28b8a6ac1a49da0a6c374e1f45bb445b6"
  },
  "kernelspec": {
   "name": "python3",
   "display_name": "Python 3.8.5 64-bit ('base': conda)"
  },
  "language_info": {
   "name": "python",
   "version": "3.8.5",
   "mimetype": "text/x-python",
   "codemirror_mode": {
    "name": "ipython",
    "version": 3
   },
   "pygments_lexer": "ipython3",
   "nbconvert_exporter": "python",
   "file_extension": ".py"
  }
 },
 "nbformat": 4,
 "nbformat_minor": 4
}