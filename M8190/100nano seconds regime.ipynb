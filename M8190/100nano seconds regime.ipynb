{
 "cells": [
  {
   "cell_type": "code",
   "execution_count": null,
<<<<<<< Updated upstream
   "source": [],
   "outputs": [],
   "metadata": {}
=======
   "metadata": {},
   "outputs": [],
   "source": []
>>>>>>> Stashed changes
  },
  {
   "cell_type": "code",
   "execution_count": 1,
<<<<<<< Updated upstream
   "source": [
    "import numpy as np\r\n",
    "from numpy import loadtxt\r\n",
    "import pandas as pd\r\n",
    "import time\r\n",
    "import matplotlib\r\n",
    "import matplotlib.pyplot as plt\r\n",
    "import pyvisa as visa\r\n",
    "from matplotlib import animation\r\n",
    "from time import sleep\r\n",
    "from matplotlib.animation import FuncAnimation\r\n",
    "#Importing the functions from the module and the pulses dictionaries\r\n",
    "from Sweeping import *\r\n",
    "from Dictionaries import *\r\n",
    "from PulseFiles import *\r\n",
    "from Instrument import *\r\n",
    "import pyqtgraph as pg \r\n",
    "import nidaqmx\r\n",
    "import pickle"
   ],
   "outputs": [],
   "metadata": {}
  },
  {
   "cell_type": "code",
   "execution_count": null,
   "source": [
    "Adj(1e-9,45,100000)"
   ],
   "outputs": [
    {
     "output_type": "display_data",
=======
   "metadata": {},
   "outputs": [],
   "source": [
    "import numpy as np\n",
    "from numpy import loadtxt\n",
    "import pandas as pd\n",
    "import time\n",
    "import matplotlib\n",
    "import matplotlib.pyplot as plt\n",
    "import pyvisa as visa\n",
    "from matplotlib import animation\n",
    "from time import sleep\n",
    "from matplotlib.animation import FuncAnimation\n",
    "#Importing the functions from the module and the pulses dictionaries\n",
    "from Sweeping import *\n",
    "from Dictionaries import *\n",
    "from PulseFiles import *\n",
    "from Instrument import *\n",
    "import pyqtgraph as pg \n",
    "import nidaqmx\n",
    "import pickle"
   ]
  },
  {
   "cell_type": "code",
   "execution_count": 2,
   "metadata": {},
   "outputs": [
    {
>>>>>>> Stashed changes
     "data": {
      "text/plain": [
       "(144, 1296000000)"
      ]
     },
<<<<<<< Updated upstream
     "metadata": {}
    }
   ],
   "metadata": {}
  },
  {
   "cell_type": "markdown",
   "source": [
    "# 100nano"
   ],
   "metadata": {}
  },
  {
   "cell_type": "markdown",
   "source": [
    "3 times appart"
   ],
   "metadata": {}
  },
  {
   "cell_type": "code",
   "execution_count": null,
   "source": [
    "full_cycle = 11e-3\r\n",
    "loop_number = 8000\r\n",
    "part_cycle = full_cycle / loop_number\r\n",
    "part_cycle"
   ],
   "outputs": [
    {
     "output_type": "display_data",
     "data": {
      "text/plain": [
       "1.375e-06"
      ]
     },
     "metadata": {}
    }
   ],
   "metadata": {}
  },
  {
   "cell_type": "code",
   "execution_count": null,
   "source": [
    "interval = part_cycle * 1e9 #nano\r\n",
    "interval"
   ],
   "outputs": [
    {
     "output_type": "display_data",
     "data": {
      "text/plain": [
       "1375.0"
      ]
     },
     "metadata": {}
    }
   ],
   "metadata": {}
  },
  {
   "cell_type": "code",
   "execution_count": null,
   "source": [
    "cycle_time = 11e-3\r\n",
    "comp_time = cycle_time * 2\r\n",
    "mod = 1/comp_time\r\n",
    "mod"
   ],
   "outputs": [
    {
     "output_type": "display_data",
     "data": {
      "text/plain": [
       "45.45454545454546"
      ]
     },
     "metadata": {}
    }
   ],
   "metadata": {}
  },
  {
   "cell_type": "code",
   "execution_count": null,
   "source": [
    "samples = int(2972160000 * part_cycle)\r\n",
    "samples"
   ],
   "outputs": [
    {
     "output_type": "display_data",
     "data": {
      "text/plain": [
       "4086"
      ]
     },
     "metadata": {}
    }
   ],
   "metadata": {}
  },
  {
   "cell_type": "code",
   "execution_count": null,
   "source": [
    "samples/48"
   ],
   "outputs": [
    {
     "output_type": "display_data",
     "data": {
      "text/plain": [
       "85.125"
      ]
     },
     "metadata": {}
    }
   ],
   "metadata": {}
  },
  {
   "cell_type": "code",
   "execution_count": null,
   "source": [],
   "outputs": [],
   "metadata": {}
  },
  {
   "cell_type": "code",
   "execution_count": null,
   "source": [
    "sam = Granularity(samples)\r\n",
    "sam"
   ],
   "outputs": [
    {
     "output_type": "display_data",
     "data": {
      "text/plain": [
       "4128"
      ]
     },
     "metadata": {}
    }
   ],
   "metadata": {
    "scrolled": true
   }
  },
  {
   "cell_type": "code",
   "execution_count": null,
   "source": [
    "adjusted_sr = int(sam/5e-8)"
   ],
   "outputs": [],
   "metadata": {}
  },
  {
   "cell_type": "code",
   "execution_count": null,
   "source": [
    "adjusted_sr"
   ],
   "outputs": [
    {
     "output_type": "display_data",
     "data": {
      "text/plain": [
       "6720000000"
      ]
     },
     "metadata": {}
    }
   ],
   "metadata": {}
  },
  {
   "cell_type": "code",
   "execution_count": null,
   "source": [],
   "outputs": [],
   "metadata": {}
  },
  {
   "cell_type": "code",
   "execution_count": null,
   "source": [
    "interval = cycle_time*1e3\r\n",
    "interval #mili"
   ],
   "outputs": [
    {
     "output_type": "display_data",
     "data": {
      "text/plain": [
       "11.0"
      ]
     },
     "metadata": {}
    }
   ],
   "metadata": {}
  },
  {
   "cell_type": "code",
   "execution_count": null,
   "source": [],
   "outputs": [],
   "metadata": {}
  },
  {
   "cell_type": "markdown",
   "source": [
    "90Hz"
   ],
   "metadata": {}
  },
  {
   "cell_type": "code",
   "execution_count": null,
   "source": [
    "modulation = 90 #Hz \r\n",
    "comp_time = 1/modulation\r\n",
    "cycle_time = comp_time/2\r\n",
    "cycle_time #seconds"
   ],
   "outputs": [
    {
     "output_type": "display_data",
     "data": {
      "text/plain": [
       "0.005555555555555556"
      ]
     },
     "metadata": {}
    }
   ],
   "metadata": {}
  },
  {
   "cell_type": "markdown",
   "source": [
    "divide cycle time in N parts"
   ],
   "metadata": {}
  },
  {
   "cell_type": "code",
   "execution_count": null,
   "source": [
    "cycle_nano = cycle_time *1e9"
   ],
   "outputs": [],
   "metadata": {}
  },
  {
   "cell_type": "code",
   "execution_count": null,
   "source": [
    "cycle_nano"
   ],
   "outputs": [
    {
     "output_type": "display_data",
     "data": {
      "text/plain": [
       "5555555.555555556"
      ]
     },
     "metadata": {}
    }
   ],
   "metadata": {}
  },
  {
   "cell_type": "code",
   "execution_count": null,
   "source": [
    "cycle_nano/8000"
   ],
   "outputs": [
    {
     "output_type": "display_data",
     "data": {
      "text/plain": [
       "694.4444444444445"
      ]
     },
     "metadata": {}
    }
   ],
   "metadata": {}
  },
  {
   "cell_type": "code",
   "execution_count": null,
   "source": [
    "loop_100nano = 8000"
   ],
   "outputs": [],
   "metadata": {}
  },
  {
   "cell_type": "code",
   "execution_count": null,
   "source": [
    "interval = (cycle_nano) /loop_100nano"
   ],
   "outputs": [],
   "metadata": {}
  },
  {
   "cell_type": "code",
   "execution_count": null,
   "source": [
    "interval"
   ],
   "outputs": [
    {
     "output_type": "display_data",
     "data": {
      "text/plain": [
       "694.4444444444445"
      ]
     },
     "metadata": {}
    }
   ],
   "metadata": {}
  },
  {
   "cell_type": "code",
   "execution_count": null,
   "source": [
    "interval*loop_100nano"
   ],
   "outputs": [
    {
     "output_type": "display_data",
     "data": {
      "text/plain": [
       "5555555.555555556"
      ]
     },
     "metadata": {}
    }
   ],
   "metadata": {
    "scrolled": false
   }
  },
  {
   "cell_type": "code",
   "execution_count": null,
   "source": [
    "samples = int(2972160000 * (interval *1e-9))"
   ],
   "outputs": [],
   "metadata": {}
  },
  {
   "cell_type": "code",
   "execution_count": null,
   "source": [
    "samples"
   ],
   "outputs": [
    {
     "output_type": "display_data",
     "data": {
      "text/plain": [
       "2133"
      ]
     },
     "metadata": {}
    }
   ],
   "metadata": {}
  },
  {
   "cell_type": "code",
   "execution_count": null,
   "source": [
    "samples/48"
   ],
   "outputs": [
    {
     "output_type": "display_data",
     "data": {
      "text/plain": [
       "44.4375"
      ]
     },
     "metadata": {}
    }
   ],
   "metadata": {}
  },
  {
   "cell_type": "code",
   "execution_count": null,
   "source": [
    "sam = Granularity(samples)"
   ],
   "outputs": [],
   "metadata": {}
  },
  {
   "cell_type": "code",
   "execution_count": null,
   "source": [
    "sam"
   ],
   "outputs": [
    {
     "output_type": "display_data",
     "data": {
      "text/plain": [
       "2160"
      ]
     },
     "metadata": {}
    }
   ],
   "metadata": {}
  },
  {
   "cell_type": "code",
   "execution_count": null,
   "source": [
    "Sr = 2972160000\r\n",
    "sam = 2064\r\n",
    "\r\n",
    "tim = sam/Sr"
   ],
   "outputs": [],
   "metadata": {}
  },
  {
   "cell_type": "code",
   "execution_count": null,
   "source": [
    "tim"
   ],
   "outputs": [
    {
     "output_type": "display_data",
     "data": {
      "text/plain": [
       "0.005555555555555556"
      ]
     },
     "metadata": {}
    }
   ],
   "metadata": {}
  },
  {
   "cell_type": "code",
   "execution_count": null,
   "source": [
    "interval = tim*1e9 #nano"
   ],
   "outputs": [],
   "metadata": {}
  },
  {
   "cell_type": "code",
   "execution_count": null,
   "source": [
    "interval"
   ],
   "outputs": [
    {
     "output_type": "display_data",
     "data": {
      "text/plain": [
       "694.4444444444445"
      ]
     },
     "metadata": {}
    }
   ],
   "metadata": {}
  },
  {
   "cell_type": "code",
   "execution_count": null,
   "source": [],
   "outputs": [],
   "metadata": {}
  },
  {
   "cell_type": "code",
   "execution_count": 2,
   "source": [
    "modulation = 93 #Hz\r\n",
    "loop_number = 8000    \r\n",
    "res = 1/2972160000\r\n",
    "\r\n",
    "sam, sr , segment_length = Adj9(res,modulation,loop_number)"
   ],
   "outputs": [],
   "metadata": {}
  },
  {
   "cell_type": "code",
   "execution_count": 3,
   "source": [
    "sam"
   ],
   "outputs": [
    {
     "output_type": "execute_result",
     "data": {
      "text/plain": [
       "2016"
      ]
     },
     "metadata": {},
     "execution_count": 3
    }
   ],
   "metadata": {}
  },
  {
   "cell_type": "code",
   "execution_count": 4,
   "source": [
    "sr"
   ],
   "outputs": [
    {
     "output_type": "execute_result",
     "data": {
      "text/plain": [
       "2999808000"
      ]
     },
     "metadata": {},
     "execution_count": 4
    }
   ],
   "metadata": {}
  },
  {
   "cell_type": "code",
   "execution_count": 5,
   "source": [
    "interval = segment_length*1e9 #nano\r\n",
    "interval"
   ],
   "outputs": [
    {
     "output_type": "execute_result",
     "data": {
      "text/plain": [
       "672.0430107526881"
      ]
     },
     "metadata": {},
     "execution_count": 5
    }
   ],
   "metadata": {}
  },
  {
   "cell_type": "markdown",
   "source": [
    "# AWG and Pulse files setup"
   ],
   "metadata": {}
  },
  {
   "cell_type": "code",
   "execution_count": 7,
   "source": [
    "AWG_Settings_100nano= {\r\n",
    "    'Visa Resource Name': 'TCPIP0::ibn3-036.ibn-net.kfa-juelich.de::hislip0::INSTR',\r\n",
    "    'Voltage Amplitude':700,\r\n",
    "    'Clock Sample Frecuency':2999808000,\r\n",
    "    'Output_Channel': 1,\r\n",
    "    'Mode': 'STS',\r\n",
    "    'Trigger In Threshold' : 1,\r\n",
    "    'Output Rout': 'DC', #DAC output rout only has the BNC outputs: Direct Out and (Averaged) Direct Out # DC\r\n",
    "    'Data Directory': r'D:\\Alejandro\\Pulses\\diode measurements\\Prepared Pulse Schemes CSV\\50,20\\100nano'\r\n",
    "}"
   ],
   "outputs": [],
   "metadata": {}
  },
  {
   "cell_type": "code",
   "execution_count": 8,
   "source": [
    "M8190A = VisaR(AWG_Settings_100nano,60000)"
   ],
   "outputs": [],
   "metadata": {}
  },
  {
   "cell_type": "code",
   "execution_count": 9,
   "source": [
    "M8190A.write('FREQ:RAST {a}'.format(a = sr))"
   ],
   "outputs": [
    {
     "output_type": "execute_result",
=======
     "execution_count": 2,
     "metadata": {},
     "output_type": "execute_result"
    }
   ],
   "source": [
    "Adj(1e-9,45,100000)\n"
   ]
  },
  {
   "cell_type": "markdown",
   "metadata": {},
   "source": [
    "# 100nano"
   ]
  },
  {
   "cell_type": "markdown",
   "metadata": {},
   "source": [
    "3 times appart"
   ]
  },
  {
   "cell_type": "code",
   "execution_count": 48,
   "metadata": {},
   "outputs": [],
   "source": [
    "modulation = 93 #Hz\n",
    "loop_number = 7000    \n",
    "res = 1/2972160000\n",
    "\n",
    "sam, sr , segment_length = Adj9(res,modulation,loop_number)"
   ]
  },
  {
   "cell_type": "code",
   "execution_count": 49,
   "metadata": {},
   "outputs": [
    {
     "data": {
      "text/plain": [
       "2304"
      ]
     },
     "execution_count": 49,
     "metadata": {},
     "output_type": "execute_result"
    }
   ],
   "source": [
    "sam"
   ]
  },
  {
   "cell_type": "code",
   "execution_count": 50,
   "metadata": {},
   "outputs": [
    {
     "data": {
      "text/plain": [
       "2999808000"
      ]
     },
     "execution_count": 50,
     "metadata": {},
     "output_type": "execute_result"
    }
   ],
   "source": [
    "sr"
   ]
  },
  {
   "cell_type": "code",
   "execution_count": 51,
   "metadata": {},
   "outputs": [
    {
     "data": {
      "text/plain": [
       "768.0491551459294"
      ]
     },
     "execution_count": 51,
     "metadata": {},
     "output_type": "execute_result"
    }
   ],
   "source": [
    "interval = segment_length*1e9 #nano\n",
    "interval"
   ]
  },
  {
   "cell_type": "markdown",
   "metadata": {},
   "source": [
    "# AWG and Pulse files setup"
   ]
  },
  {
   "cell_type": "code",
   "execution_count": 52,
   "metadata": {},
   "outputs": [],
   "source": [
    "AWG_Settings_100nano= {\n",
    "    'Visa Resource Name': 'TCPIP0::ibn3-036.ibn-net.kfa-juelich.de::hislip0::INSTR',\n",
    "    'Voltage Amplitude':700, #this amplitude should be greater than the pump amplitude\n",
    "    'Clock Sample Frecuency':2999808000,\n",
    "    'Output_Channel': 1,\n",
    "    'Mode': 'STS',\n",
    "    'Trigger In Threshold' : 1,\n",
    "    'Output Rout': 'DC', #DAC output rout only has the BNC outputs: Direct Out and (Averaged) Direct Out # DC\n",
    "    'Data Directory': r'D:\\Alejandro\\Pulses\\diode measurements\\Prepared Pulse Schemes CSV\\150,50\\100nano'\n",
    "}"
   ]
  },
  {
   "cell_type": "code",
   "execution_count": 9,
   "metadata": {},
   "outputs": [
    {
     "data": {
      "text/plain": [
       "700"
      ]
     },
     "execution_count": 9,
     "metadata": {},
     "output_type": "execute_result"
    }
   ],
   "source": [
    "AWG_Settings_100nano['Voltage Amplitude']"
   ]
  },
  {
   "cell_type": "code",
   "execution_count": 10,
   "metadata": {},
   "outputs": [],
   "source": [
    "M8190A = VisaR(AWG_Settings_100nano,60000)"
   ]
  },
  {
   "cell_type": "code",
   "execution_count": 64,
   "metadata": {},
   "outputs": [
    {
>>>>>>> Stashed changes
     "data": {
      "text/plain": [
       "21"
      ]
     },
<<<<<<< Updated upstream
     "metadata": {},
     "execution_count": 9
    }
   ],
   "metadata": {}
  },
  {
   "cell_type": "code",
   "execution_count": null,
   "source": [
    "Initialization(M8190A,AWG_Settings_100nano)"
   ],
   "outputs": [
    {
     "output_type": "stream",
     "name": "stdout",
     "text": [
      "Instruments Sampling Frecuency set to 1.25760000000000E+08Hz\n",
      "Instruments Direct Out DAC Output route Voltage set to 7.00000000000000E-01Volts\n",
      "AWG_Settings_Dict set to TRIGGERED Mode\n",
      "Trigger In threshold value set to 1.00000000000000E+00V\n"
     ]
    }
   ],
   "metadata": {}
  },
  {
   "cell_type": "code",
   "execution_count": 10,
   "source": [
    "Pump_100nano = {\r\n",
    "    'Name':'Pump_100nano',\r\n",
    "    'Amplitude': 2*150,\r\n",
    "    'Start time':300,\r\n",
    "    'End time':2e-10,\r\n",
    "    'Start Duration':100,\r\n",
    "    'End Duration':60,\r\n",
    "    'Sweep time':0,\r\n",
    "    'Sweep Duration':0\r\n",
    "}"
   ],
   "outputs": [],
   "metadata": {}
  },
  {
   "cell_type": "code",
   "execution_count": 11,
   "source": [
    "ProbeA_100nano = {\r\n",
    "    'Name':'ProbeA_100nano',\r\n",
    "    'Amplitude':2*50,\r\n",
    "    'Start time':100,\r\n",
    "    'End time':500,\r\n",
    "    'Start Duration':100,\r\n",
    "    'End Duration':60,\r\n",
    "    'Sweep time':1,\r\n",
    "    'Sweep Duration':0\r\n",
    "}"
   ],
   "outputs": [],
   "metadata": {}
  },
  {
   "cell_type": "code",
   "execution_count": 12,
   "source": [
    "ProbeB_100nano= {\r\n",
    "    'Name':'ProbeB_100nano',\r\n",
    "    'Amplitude':-2*50,\r\n",
    "    'Start time':100,\r\n",
    "    'End time':500,\r\n",
    "    'Start Duration':100,\r\n",
    "    'End Duration':60,\r\n",
    "    'Sweep time':1,\r\n",
    "    'Sweep Duration':0\r\n",
    "}"
   ],
   "outputs": [],
   "metadata": {}
  },
  {
   "cell_type": "code",
   "execution_count": 13,
   "source": [
    "ProbeB_100nano_empty= {\r\n",
    "    'Name':'ProbeB_100nano',\r\n",
    "    'Amplitude':0*50,\r\n",
    "    'Start time':100,\r\n",
    "    'End time':500,\r\n",
    "    'Start Duration':100,\r\n",
    "    'End Duration':60,\r\n",
    "    'Sweep time':1,\r\n",
    "    'Sweep Duration':0\r\n",
    "}"
   ],
   "outputs": [],
   "metadata": {}
  },
  {
   "cell_type": "code",
   "execution_count": 14,
   "source": [
    "PulseScheme_A_100nano =  {\r\n",
    "    'Name' : 'PulseScheme_A_100nano',\r\n",
    "    'Pulse Scheme': [Pump_100nano,ProbeA_100nano],\r\n",
    "    'Number of repetitions': 1,\r\n",
    "    'Measurement file Path': r'D:\\Alejandro\\Pulses\\diode measurements\\Autocorrelation measurements\\50,20\\100nano'\r\n",
    "}"
   ],
   "outputs": [],
   "metadata": {}
  },
  {
   "cell_type": "code",
   "execution_count": 15,
   "source": [
    "PulseScheme_B_100nano =  {\r\n",
    "    'Name' : 'PulseScheme_B_100nano',\r\n",
    "    'Pulse Scheme': [Pump_100nano,ProbeB_100nano],\r\n",
    "    'Number of repetitions': 1,\r\n",
    "    'Measurement file Path': r'D:\\Alejandro\\Pulses\\diode measurements\\Autocorrelation measurements\\50,20\\100nano'\r\n",
    "}"
   ],
   "outputs": [],
   "metadata": {}
  },
  {
   "cell_type": "code",
   "execution_count": 16,
   "source": [
    "PulseScheme_B_100nano_empty =  {\r\n",
    "    'Name' : 'PulseScheme_B_100nano_empty',\r\n",
    "    'Pulse Scheme': [ProbeB_100nano_empty,ProbeB_100nano_empty],\r\n",
    "    'Number of repetitions': 1,\r\n",
    "    'Measurement file Path': r'D:\\Alejandro\\Pulses\\diode measurements\\Autocorrelation measurements\\50,20\\100nano'\r\n",
    "}"
   ],
   "outputs": [],
   "metadata": {}
  },
  {
   "cell_type": "code",
   "execution_count": null,
   "source": [
    "93"
   ],
   "outputs": [],
   "metadata": {}
  },
  {
   "cell_type": "code",
   "execution_count": 26,
   "source": [
    "step = 0\r\n",
    "pul1 = Sweep_teil(PulseScheme_A_100nano,70,step,interval,sam)\r\n",
    "\r\n",
    "\r\n",
    "#Plot\r\n",
    "fig,ax= plt.subplots()\r\n",
    "ax.grid(True)\r\n",
    "\r\n",
    "plt.plot(pul1[1],pul1[0]/2,label= '{b} samples'.format(b = sam),color='red')\r\n",
    "\r\n",
    "ax.set_ylabel('V  [mV]')\r\n",
    "ax.set_xlabel(r't [ns]')\r\n",
    "ax.set_title('Cycle A at step {a}'.format(a = step )) #Voltage Offset = 3mV, Marker Ampl = 50mV \r\n",
    "#ax.legend(loc=0)\r\n",
    "#plt.legend(bbox_to_anchor=(2.05, 1), loc='upper left', borderaxespad=0.)\r\n",
    "plt.show()\r\n",
    "\r\n",
    "fig.savefig(r'{loc}\\Cycle A, Probe width 100 nano 93 Hz mod , {a} step.jpeg'.format(loc = PulseScheme_A_100nano['Measurement file Path'], a = step),bbox_inches='tight')"
   ],
   "outputs": [
    {
     "output_type": "display_data",
     "data": {
      "image/png": "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",
=======
     "execution_count": 64,
     "metadata": {},
     "output_type": "execute_result"
    }
   ],
   "source": [
    "M8190A.write('FREQ:RAST {a}'.format(a = sr))"
   ]
  },
  {
   "cell_type": "code",
   "execution_count": 21,
   "metadata": {},
   "outputs": [
    {
     "name": "stdout",
     "output_type": "stream",
     "text": [
      "Instruments Sampling Frecuency set to 2.99980800000000E+09Hz\n",
      "Instruments Direct Out DC Output route Voltage set to 6.75000000000000E-01Volts\n",
      "AWG_Settings_Dict set to TRIGGERED Mode\n",
      "Trigger In threshold value set to 1.00000000000000E+00V\n"
     ]
    }
   ],
   "source": [
    "Initialization(M8190A,AWG_Settings_100nano)"
   ]
  },
  {
   "cell_type": "code",
   "execution_count": 54,
   "metadata": {},
   "outputs": [],
   "source": [
    "Pump_100nano = {\n",
    "    'Name':'Pump_100nano',\n",
    "    'Amplitude': 2*150,\n",
    "    'Start time':300,\n",
    "    'End time':2e-10,\n",
    "    'Start Duration':100,\n",
    "    'End Duration':60,\n",
    "    'Sweep time':0,\n",
    "    'Sweep Duration':0\n",
    "}"
   ]
  },
  {
   "cell_type": "code",
   "execution_count": 55,
   "metadata": {},
   "outputs": [],
   "source": [
    "ProbeA_100nano = {\n",
    "    'Name':'ProbeA_100nano',\n",
    "    'Amplitude':2*50,\n",
    "    'Start time':600,\n",
    "    'End time':0,\n",
    "    'Start Duration':100,\n",
    "    'End Duration':60,\n",
    "    'Sweep time':1,\n",
    "    'Sweep Duration':0\n",
    "}"
   ]
  },
  {
   "cell_type": "code",
   "execution_count": 56,
   "metadata": {},
   "outputs": [],
   "source": [
    "ProbeB_100nano= {\n",
    "    'Name':'ProbeB_100nano',\n",
    "    'Amplitude':-2*50,\n",
    "    'Start time':600,\n",
    "    'End time':00,\n",
    "    'Start Duration':100,\n",
    "    'End Duration':60,\n",
    "    'Sweep time':1,\n",
    "    'Sweep Duration':0\n",
    "}"
   ]
  },
  {
   "cell_type": "code",
   "execution_count": 57,
   "metadata": {},
   "outputs": [],
   "source": [
    "ProbeB_100nano_empty= {\n",
    "    'Name':'ProbeB_100nano',\n",
    "    'Amplitude':0*50,\n",
    "    'Start time':100,\n",
    "    'End time':500,\n",
    "    'Start Duration':100,\n",
    "    'End Duration':60,\n",
    "    'Sweep time':1,\n",
    "    'Sweep Duration':0\n",
    "}"
   ]
  },
  {
   "cell_type": "code",
   "execution_count": 58,
   "metadata": {},
   "outputs": [],
   "source": [
    "PulseScheme_A_100nano =  {\n",
    "    'Name' : 'PulseScheme_A_100nano',\n",
    "    'Pulse Scheme': [Pump_100nano,ProbeA_100nano],\n",
    "    'Number of repetitions': 1,\n",
    "    'Measurement file Path': r'D:\\Alejandro\\Pulses\\diode measurements\\Autocorrelation measurements\\150,50\\100nano'\n",
    "}"
   ]
  },
  {
   "cell_type": "code",
   "execution_count": 59,
   "metadata": {},
   "outputs": [],
   "source": [
    "PulseScheme_B_100nano =  {\n",
    "    'Name' : 'PulseScheme_B_100nano',\n",
    "    'Pulse Scheme': [Pump_100nano,ProbeB_100nano],\n",
    "    'Number of repetitions': 1,\n",
    "    'Measurement file Path': r'D:\\Alejandro\\Pulses\\diode measurements\\Autocorrelation measurements\\150,50\\100nano'\n",
    "}"
   ]
  },
  {
   "cell_type": "code",
   "execution_count": 60,
   "metadata": {},
   "outputs": [],
   "source": [
    "PulseScheme_B_100nano_empty =  {\n",
    "    'Name' : 'PulseScheme_B_100nano_empty',\n",
    "    'Pulse Scheme': [ProbeB_100nano_empty,ProbeB_100nano_empty],\n",
    "    'Number of repetitions': 1,\n",
    "    'Measurement file Path': r'D:\\Alejandro\\Pulses\\diode measurements\\Autocorrelation measurements\\150,50\\100nano'\n",
    "}"
   ]
  },
  {
   "cell_type": "code",
   "execution_count": 62,
   "metadata": {},
   "outputs": [
    {
     "data": {
      "image/png": "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",
>>>>>>> Stashed changes
      "text/plain": [
       "<Figure size 432x288 with 1 Axes>"
      ]
     },
     "metadata": {
      "needs_background": "light"
<<<<<<< Updated upstream
     }
    }
   ],
   "metadata": {}
=======
     },
     "output_type": "display_data"
    }
   ],
   "source": [
    "step = 30\n",
    "pul1 = Sweep_teil(PulseScheme_A_100nano,30,step,interval,sam)\n",
    "\n",
    "\n",
    "#Plot\n",
    "fig,ax= plt.subplots()\n",
    "ax.grid(True)\n",
    "\n",
    "plt.plot(pul1[1],pul1[0]/2,label= '{b} samples'.format(b = sam),color='red')\n",
    "\n",
    "ax.set_ylabel('V  [mV]')\n",
    "ax.set_xlabel(r't [ns]')\n",
    "ax.set_title('Cycle A at step {a}'.format(a = step )) #Voltage Offset = 3mV, Marker Ampl = 50mV \n",
    "#ax.legend(loc=0)\n",
    "#plt.legend(bbox_to_anchor=(2.05, 1), loc='upper left', borderaxespad=0.)\n",
    "plt.show()\n",
    "\n",
    "fig.savefig(r'{loc}\\Cycle A, Probe width 100 nano 93 Hz mod , {a} step.jpeg'.format(loc = PulseScheme_A_100nano['Measurement file Path'], a = step),bbox_inches='tight')"
   ]
>>>>>>> Stashed changes
  },
  {
   "cell_type": "code",
   "execution_count": 27,
<<<<<<< Updated upstream
   "source": [
    "step = 70\r\n",
    "pul1 = Sweep_teil(PulseScheme_A_100nano,70,step,interval,sam)\r\n",
    "\r\n",
    "\r\n",
    "#Plot\r\n",
    "fig,ax= plt.subplots()\r\n",
    "ax.grid(True)\r\n",
    "\r\n",
    "plt.plot(pul1[1],pul1[0]/2,label= '{b} samples'.format(b = sam),color='red')\r\n",
    "\r\n",
    "ax.set_ylabel('V  [mV]')\r\n",
    "ax.set_xlabel(r't [ns]')\r\n",
    "ax.set_title('Cycle A at step {a}'.format(a = step )) #Voltage Offset = 3mV, Marker Ampl = 50mV \r\n",
    "#ax.legend(loc=0)\r\n",
    "#plt.legend(bbox_to_anchor=(2.05, 1), loc='upper left', borderaxespad=0.)\r\n",
    "plt.show()\r\n",
    "\r\n",
    "fig.savefig(r'{loc}\\Cycle A, Probe width 100 nano 93 Hz mod {a} step.jpeg'.format(loc = PulseScheme_A_100nano['Measurement file Path'], a = step),bbox_inches='tight')"
   ],
   "outputs": [
    {
     "output_type": "display_data",
=======
   "metadata": {},
   "outputs": [
    {
>>>>>>> Stashed changes
     "data": {
      "image/png": "iVBORw0KGgoAAAANSUhEUgAAAYwAAAEWCAYAAAB1xKBvAAAAOXRFWHRTb2Z0d2FyZQBNYXRwbG90bGliIHZlcnNpb24zLjMuMiwgaHR0cHM6Ly9tYXRwbG90bGliLm9yZy8vihELAAAACXBIWXMAAAsTAAALEwEAmpwYAAAe0ElEQVR4nO3df5RcZZ3n8feHhITfhpjQRBJM0KgDSJQEBFHMGUTBH4DOsAYGjStMdnaYVdZxNMgenXGHOeq4/tgZcTejjHFAIKJCdBRhID3OKj8kSCAhBAKJSSAkSIKhA3ZI+O4f97ZUl1XdN11d99bT/XmdU6ernrr31qcqlfu9z/PcqlJEYGZmNph9qg5gZmZpcMEwM7NCXDDMzKwQFwwzMyvEBcPMzApxwTAzs0JcMGzEkrRe0lurzmE2UrhgWEeQdL6kuyX1SNos6ceS3lRxphmSXpB0RYvb+aakvy173QLbPjJ/vWsvIekva5Y5X9KvJO2UdIOkie3IYmlwwbDKSfoo8GXg74Au4EjgCuDsCmMBfADYDsyTNL7iLMMuIjZExEF9F+C1wAvAdwEkHQP8X+D9ZP8uz5L9u9hoFRG++FLZBXgJ0AOc2+T+w8l2VC+taZsNPAnsm9/+U2A18AzwAHB83r4eeGt+fR9gIfAI8BSwBJg4SLZHgP8KbAH+eJBlvwM8AfwG+ClwTN6+AHge2JU/zx80WFfAl4Ct+fr3Acc2Wxd4GdlO/UlgHfDhmm39NXA9cF3+etwDzCr4b/FpYFnN7b8Dvl1z+xV5loOrft/4Us3FPQyr2snAfsD3G90ZEU8A3cB/qmm+ALg2Ip6XdC7ZTvIDwCHAWWQFod6HgXOAt5DtcLcDX20WStKbganAtWTF5QODPI8fAzOBw8h20lfn+Rfl1z8f2ZH8uxus+zbgVOBVwATgfcBTjdaVtA/wA2AFcARwGnCJpLfXbO9ssgI2Efg2cIOkfQfJT/4cF9fcPiZ/HPLn8ghZwXhVgW3ZCOSCYVV7KfDriNg9wDKLyYoEksYA5wH/kt93EdkO9ReRWRsRv2qwjf8CXBYRmyKil6zI/LGksU0ecz7w44jYTrbTPVPSYc0CRsSVEfFMzbZnSXrJAM+p1vPAwcBrAEXE6ojY3GTZE4DJEfGZiNgVEY8C/wTMq1lmeURcHxHPA18kK8gnDRQgL5BdZL2TPgeR9Xhq/SbPaqOQC4ZV7Slg0gA7boAbgaMlHQWcDvwmIu7K75tGNnQ0mJcD35f0tKSnyYaw9pDtJPuRtD9wLi/2Em4HNgDnN9qwpDGSPivpEUk7yIbCACYVyEVE3Ab8I1mPZ4ukRZIOGeB5vKzveeTP5ZN1z2NjzbZfADaR9aoGMh/4bkT01LT1kPXaah1CNtRlo5ALhlXtduC3ZMNFDUXEb8mGhf6EbAL2X2ru3kg2tj6YjcCZETGh5rJfRDzWYNn3kO0Yr5D0hKQnyIZ/mg1LnU82DPRWsjmZ6Xm7+p7CYOEi4n9HxGyyYaBXAX/VZN2NwLq653FwRLyjZplpfVfyIaypwOPNHrumQC6uu2sVMKtmuaOA8cBDgz0fG5lcMKxSEfEb4FPAVyWdI+kASftKOlPS52sW/RbwQbI5iqtq2r8OfEzSbGVeKenlDR7q/wCX990nabKkZmdhzQeuJDtr6HX55RTgdZJe22D5g4Fest7SAWSTxbW2AEc1eSwknSDpDfk8w06yArqnybp3ATskfULS/nnv5lhJJ9QsM1vSe/Ne2yV5tjuaPT5ZgXwaWFbXfjXwbklvlnQg8BngexHhHsYo5YJhlYuILwIfBf4H2Zk/G4G/AG6oWeZnZKd83hMR62vavwNcTjbP8Ey+TqPPCnwFWArcLOkZsh3oG+oXktQ3kfzliHii5rIcuImsmNT7FvAr4DGys7Tqd87fIBtSe1rSDfy+Q8jmIbbn23kK+EKjdSNiD/BusiK2Dvg1WdGsnS+5kWzifDtZj+y9+XxGM/OBb0VEv95MRKwC/oyscGwlK4x/PsB2bIRT3XvErGNJuo3sNM+vV52lU0n6a+CVEXFB1Vls5BlootGsY+RDLsdT/Yf5zEYtD0lZx5O0GPg34BKPn5tVx0NSZmZWiHsYZmZWSNJzGJMmTYrp06cPef2dO3dy4IEHDl+gEjhzOVLMDGnmduby9OVevnz5ryNi8l5voOovs2rlMnv27GjFsmXLWlq/Cs5cjhQzR6SZ25nL05cbuDv85YNmZtYuLhhmZlaIC4aZmRXigmFmZoW4YJiZWSEuGGZmVogLhpmZFZL0B/fM2uK3v2XaNdfAbbdVnWTvjBvHvq9t9HMdZsPDBcOs3u2384pFi7Lr0sDLdor8O+EmfexjcLa/0Nfaw0NSZvX25D929x//AS+8kMbl8cf7ZzdrAxcMMzMrxAXDzMwKccEwM7NCXDDM6iX8o2KJTNFbolwwzMysEBcMs2ZSOaUW0spqyXLBMDOzQlwwzMyskLYVDElXStoqaWWD+z4mKSRNqmm7VNJaSWskvb1ducwGlfCkd9LZreO1s4fxTeCM+kZJ04DTgQ01bUcD84Bj8nWukDSmjdnMzGwvta1gRMRPgW0N7voS8HGg9lDobODaiOiNiHXAWuDEdmUzKySlieSUslqySv3yQUlnAY9FxAr1f4MfAdxRc3tT3tZoGwuABQBdXV10d3cPOU9PT09L61fBmdvv0BUrmAXcc8897Ni1q+o4hey7bRunAL29vUm91pDe+wPSzAyt5y6tYEg6ALgMeFujuxu0NRyMjYhFwCKAOXPmxNy5c4ecqbu7m1bWr4IzlyAvEscffzy88Y0VhyloyxYAxo8fn9ZrTYLvD9LMDK3nLrOH8QpgBtDXu5gK3CPpRLIexbSaZacCj5eYzexFKU8cp5zdOl5pp9VGxP0RcVhETI+I6WRF4viIeAJYCsyTNF7SDGAmcFdZ2czMbHDtPK32GuB24NWSNkm6sNmyEbEKWAI8ANwEXBwR/mJ/q1ZKE8kpZbVktW1IKiLOG+T+6XW3Lwcub1ceMzNrjT/pbWZmhbhgmNVLeeI45ezW8VwwzMysEBcMs2ZSmkhOKaslywXDzMwKccEwM7NCXDDM6nni2KwhFwyzEcQzGdZOLhhmzaQ0kZxSVkuWC4aZmRXigmFmZoW4YJjV86S3WUMuGGYjiYudtZELhlkznkg268cFw2wkcHGzErhgmJlZIS4YZvU8D2DWkAuG2UjiYmdt1M7f9L5S0lZJK2va/l7Sg5Luk/R9SRNq7rtU0lpJayS9vV25zArzvIBZP+3sYXwTOKOu7Rbg2Ig4DngIuBRA0tHAPOCYfJ0rJI1pYzazkcXFzUrQtoIRET8FttW13RwRu/ObdwBT8+tnA9dGRG9ErAPWAie2K5uZme29sRU+9oeA6/LrR5AVkD6b8rbfI2kBsACgq6uL7u7uIQfo6elpaf0qOHP7vfS++3gtsHz5cp7ZubPqOIWM3bGDNwG9vb1JvdaQ3vsD0swMreeupGBIugzYDVzd19RgsYazdxGxCFgEMGfOnJg7d+6Qc3R3d9PK+lVw5hL09AAwe/ZsOOGEisMUtC3rzI8fNy6t15oE3x+kmRlaz116wZA0H3gXcFrE707p2ARMq1lsKvB42dnM+vG8gFk/pZ5WK+kM4BPAWRHxbM1dS4F5ksZLmgHMBO4qM5tZ0lzcrARt62FIugaYC0yStAn4NNlZUeOBW5S9we+IiD+LiFWSlgAPkA1VXRwRe9qVzczM9l7bCkZEnNeg+RsDLH85cHm78pgV5g+/mTXkT3qbjSAemLJ2csEwa8bzAmb9uGCYjQQublYCFwwzMyvEBcOsnie9zRpywTAzs0JcMMyaSXFewL0jayMXDLORIMXiZslxwTAzs0JcMMzqeVjHrCEXDDMzK8QFw6yZFOcF3DuyNnLBMBsJUixulhwXDDMzK8QFw6yeh3XMGnLBMDOzQlwwzJrxvIBZP20rGJKulLRV0sqatomSbpH0cP730Jr7LpW0VtIaSW9vVy4zMxuadvYwvgmcUde2ELg1ImYCt+a3kXQ0MA84Jl/nCklj2pjNbGRxb8hK0LaCERE/BbbVNZ8NLM6vLwbOqWm/NiJ6I2IdsBY4sV3ZzAbkSW+zhsaW/HhdEbEZICI2Szosbz8CuKNmuU152++RtABYANDV1UV3d/eQw/T09LS0fhWcuf0mrVzJscDdd99Nz9NPVx2nkDHPPsubgV29vUm91pDe+wPSzAyt5y67YDTTqD/d8DAvIhYBiwDmzJkTc+fOHfKDdnd308r6VXDmEmzfDsCcE06AWbMqDlPQM88AMH7cuLReaxJ8f5BmZmg9d9lnSW2RNAUg/7s1b98ETKtZbirweMnZzMxsAGUXjKXA/Pz6fODGmvZ5ksZLmgHMBO4qOZtZujzpbSVo25CUpGuAucAkSZuATwOfBZZIuhDYAJwLEBGrJC0BHgB2AxdHxJ52ZTMbkCe9zRpqW8GIiPOa3HVak+UvBy5vVx4zM2uNP+lt1kyKwzzuHVkbuWCYmVkhLhhmI0GKvSFLjguGWT0P65g15IJhZmaFuGCYNZPiMI97R9ZGLhhmZlaIC4bZSJBib8iS44JhZmaFuGCY1fM8gFlDLhhmzXiYx6yfAb9LStLSAtvYFhEfHJ44ZmbWqQb78sE/AC4a4H4BXx2+OGY2JO4NWQkGKxiXRcS/D7SApL8ZxjxmZtahBpvDeEHSfgMtEBFLhjGPWfU86W3W0GAF40+ADZK+JelMSWPKCGXWETzMY9bPgAUjIt4DvBK4FfgwsFHS1ySdWkY4M9s7cu/I2mjQ02ojYkdELI6IM4HXAvcC/yBp41AfVNJ/l7RK0kpJ10jaT9JESbdIejj/e+hQt29mZsOv8Ocw8h34e4H3AROB7w7lASUdQdZbmRMRxwJjgHnAQuDWiJhJ1qNZOJTtm41KHj6zEgxYMCQdLOn9kn4ErAZOAP4WODIiLmnhcccC+0saCxwAPA6cDSzO718MnNPC9s2GzsM6Zg0NdlrtOuAnwNeAmyLi+VYfMCIek/QFYAPwHHBzRNwsqSsiNufLbJZ0WKP1JS0AFgB0dXXR3d095Cw9PT0trV8FZ26/yatWcQxw1y9+wbNPPll1nEL22bWLU4He3t6kXmtI7/0BaWaGYcgdEU0vwAED3T+UC3AocBswGdgXuAG4AHi6brntg21r9uzZ0Yply5a1tH4VnLkE110XARGrVlWdpLjnnouAeOSii6pOsteSe39EmpkjXswN3B1D2H8PdpbUswCS3iXpl5K2S9oh6RlJO4ZYo94KrIuIJyPrsXwPeCOwRdKU/PGmAFuHuH0zM2uDopPeXwbmAxMj4pCIODgiDhniY24ATpJ0gCQBp5HNjyzNH4P8741D3L7Z6ONJbyvBYHMYfTYCK/OuTEsi4k5J1wP3ALuBXwKLgIOAJZIuJCsq57b6WGZD4klvs4aKFoyPAz+S9O9Ab19jRHxxKA8aEZ8GPl3X3EvW2zDrDD5qN+unaMG4HOgB9gPGtS+OmbXEvSNro6IFY2JEvK2tSczMrKMVnfT+N0kuGGadysNnVoKiBeNi4CZJzw3DabVmnc3DOmYNFRqSioiD2x3ErOP4qN2sn8G+S+rwwTZQZBkzM0vfYENSPyqwjSLLmJlZ4gYbkpo1yFyFAM9lmFXNw2dWggELRkT4J1lt9PGkt1lDhX9AyczMRjcXDLNmPMxj1o8LhtkIIg+nWRu5YJiNBO4NWQlcMMzq+SjdrCEXDDMzK2SwT3r/o6Q3lhXGrKN4mMesn8F6GA8D/0vSekmfk/S6EjKZ2VB5OM3aaMCCERFfiYiTgbcA24B/lrRa0qckvaqUhGZm1hEKzWFExK8i4nMR8XrgfOA9wOqhPqikCZKul/RgXoBOljRR0i2SHs7/HjrU7Zu1JMWjdA+fWQkKFQxJ+0p6t6SrgR8DDwF/1MLjfgW4KSJeA8wiKz4LgVsjYiZwa37bzMw6xIDfJSXpdOA84J3AXcC1wIKI2DnUB5R0CHAq8EGAiNgF7JJ0NjA3X2wx0A18YqiPY9YyH7Wb9TPYt9V+Evg28LGI2DZMj3kU8CTZfMgsYDnwEaArIjYDRMRmSYc1WlnSAmABQFdXF93d3UMO0tPT09L6VXDm9jvsgQc4Grjzzjt57rHHqo5TzJ49zAV29fYm9VpDeu8PSDMzDEPuiCj1AswBdgNvyG9/BfifwNN1y20fbFuzZ8+OVixbtqyl9avgzCW46qoIiHjooaqTFLd7dwTEox/8YNVJ9lpy749IM3PEi7mBu2MI++8qPri3CdgUEXfmt68Hjge2SJoCkP/dWkE2M096mzVResGIiCeAjZJenTedBjwALAXm523zgRvLzmZmZs0NNofRLv8NuFrSOOBR4D+TFa8lki4ENgDnVpTNLOOjdrN+KikYEXEv2VxGvdNKjmJmZgX5ywfNzKwQFwyzep70NmvIBcPMzApxwTBrxkftZv24YJiNIP5Nb2snFwwzMyukqs9hmHWuFI/SUx0++8EPOO4zn4GJE6tOsleOPPJImDu36hilc8Ews+osWcKEFStg9uyqkxS3di0vW7Gi6hSVcMEwaybVo/aURNA7eTL733571UmK+9CH4F//teoUlfAchtlIkuJwmiXDBcPMqhNBpNaTk0ZtYXbBMKs3SncGZoNxwTCz6kSkN1ckjdrPu7hgmDWT2o4sRYkWjNHKBcPMzApxwTAbSVIbKkktL3jS28xqpLozGMVDJVaOygqGpDGSfinph/ntiZJukfRw/vfQqrKZWUl8Wm1SquxhfARYXXN7IXBrRMwEbs1vm1UntR2ZWZtVUjAkTQXeCXy9pvlsYHF+fTFwTsmxzKxsiZ4lNVpPq63qu6S+DHwcOLimrSsiNgNExGZJhzVaUdICYAFAV1cX3d3dQw7R09PT0vpVcOb2O/zBB3kNcMcdd/Db9eurjlPYW4Bdu3Yl9VofvXUr+7/wQlKZZ27ezKSIpDL3afX/YukFQ9K7gK0RsVzS3L1dPyIWAYsA5syZE3Nb+Irh7u5uWlm/Cs5cgnXrADjppJNg+vRqs+ylcePGpfVaT57MzvXr08p83XXsktLKnGv1/2IVPYxTgLMkvQPYDzhE0lXAFklT8t7FFGBrBdnM0pXa0A4kOyTlSe+SRMSlETE1IqYD84DbIuICYCkwP19sPnBj2dnM+kltR2bWZp30OYzPAqdLehg4Pb9tZiOZT6tNSqU/oBQR3UB3fv0p4LQq85ilLrmzdxIdkkrudR4mndTDMOsMo3RnYDYYFwyzkSK1I3VIszin+DoPExcMs2ZG8Y7BrBEXDDOrTqJzGEn2jIaBC4bZSDJKd2RWDhcMs3re6ZbHp9UmxQXDbKRIbccLyQ5J+bRaM+svtR2ZWZu5YJhZdVI8Uh/FBxIuGGYjSYo7YEuGC4ZZPe90y5PoHMZofY+4YJiNFKnteMFnSSXGBcOsmdR2ZGZt5oJhZtVJdEjKp9WamZkNwAXDrN4oPXqsRIqvdWo9omHkgmE2UoziHZmVo/SCIWmapGWSVktaJekjeftESbdIejj/e2jZ2cz68Q64/RKdw0iyZzQMquhh7Ab+MiL+ADgJuFjS0cBC4NaImAncmt82s5HMp9UmpfSCERGbI+Ke/PozwGrgCOBsYHG+2GLgnLKzmZlZc5XOYUiaDrweuBPoiojNkBUV4LAKo9lolvDRY3KneyY6JJXc6zxMxlb1wJIOAr4LXBIRO1TwTSNpAbAAoKuri+7u7iFn6OnpaWn9Kjhz+01Zs4ZXAz//+c/ZNXly1XEKOzWCXbt2JfVaH7d9O+zZk1TmozZs4AhIKnOfVv8vVlIwJO1LViyujojv5c1bJE2JiM2SpgBbG60bEYuARQBz5syJuXPnDjlHd3c3raxfBWcuwUMPAfDGU06Bl72s4jB7YZ99GDduXFqv9YQJ/Oa559LK/JOf8AKklTnX6v/FKs6SEvANYHVEfLHmrqXA/Pz6fODGsrOZWckSHZJKediyFVX0ME4B3g/cL+nevO2TwGeBJZIuBDYA51aQzczMmii9YETE/wOaHVKcVmYWs4ZSPnpMLbtPq02KP+ltZmaFuGCYNZPikW9qEp3DGK2n1bpgmJlZIS4YZladFI/UU+sRDSMXDLORJLUdcKJDUsm9zsPEBcOs3ijdGZgNxgXDrJkUj3xTk+hptZ70NjMzG4ALhplVJ9U5jFHKBcPMqpPi0E5fwUgxe4tcMMzqjcIdgVkRLhhmzaQ29JBaXkh7SGoUHli4YJiZWSEuGGZWnURPqwXcwzCztI3WzwdYOVwwzOp5p1sez2EkxQXDrJlUd2QpSXGn64JhZmY2sI4rGJLOkLRG0lpJC6vOY2Zt5CGppHRUwZA0BvgqcCZwNHCepKOrTWVmZgBjqw5Q50RgbUQ8CiDpWuBs4IFhfZT774d58zhh50448MBh3XS7OXMJtm2rOsGQHX7TTXDMMVXHKO7RR4njjqs6xd7p62HMmgX7VHjMfeaZ8IUvlPqQnVYwjgA21tzeBLyhdgFJC4AFAF1dXXR3d+/1g+z/2GPMmDyZ3Yceys6xnfYSDMyZSzB5Mj0nnsiGVavggeE9VmmnI887j/1Wr2ZsYq/1hlNO4f4h/D+uygGHH84Rp57KvhUPpe147jk27eXr1tPTM6R95u9ERMdcgHOBr9fcfj/wD82Wnz17drRi2bJlLa1fBWcuR4qZI9LM7czl6csN3B1D2Ed31BwGWY9iWs3tqcDjFWUxM7ManVYwfgHMlDRD0jhgHrC04kxmZkaHzWFExG5JfwH8BBgDXBkRqyqOZWZmdFjBAIiIHwE/qjqHmZn112lDUmZm1qFcMMzMrBAXDDMzK8QFw8zMClEk/AVakp4EftXCJiYBvx6mOGVx5nKkmBnSzO3M5enL/fKImLy3KyddMFol6e6ImFN1jr3hzOVIMTOkmduZy9Nqbg9JmZlZIS4YZmZWyGgvGIuqDjAEzlyOFDNDmrmduTwt5R7VcxhmZlbcaO9hmJlZQS4YZmZWyKgsGJLOkLRG0lpJC6vO00fSlZK2SlpZ0zZR0i2SHs7/Hlpz36X5c1gj6e0VZZ4maZmk1ZJWSfpIIrn3k3SXpBV57r9JIXeeY4ykX0r6YQqZJa2XdL+keyXdnUjmCZKul/Rg/t4+OYHMr85f477LDkmXDGvuofzqUsoXsq9NfwQ4ChgHrACOrjpXnu1U4HhgZU3b54GF+fWFwOfy60fn2ccDM/LnNKaCzFOA4/PrBwMP5dk6PbeAg/Lr+wJ3Aid1eu48y0eBbwM/TOQ9sh6YVNfW6ZkXAxfl18cBEzo9c13+McATwMuHM3dlT6jCF/Jk4Cc1ty8FLq06V02e6fQvGGuAKfn1KcCaRrnJfkPk5A7IfyNwekq5gQOAe8h+P76jc5P9CuWtwB/WFIxOz9yoYHRsZuAQYB35SUEpZG7wHN4G/Gy4c4/GIakjgI01tzflbZ2qKyI2A+R/D8vbO+55SJoOvJ7saL3jc+dDO/cCW4FbIiKF3F8GPg68UNPW6ZkDuFnSckkL8rZOznwU8CTwz/nQ39clHUhnZ643D7gmvz5suUdjwVCDthTPLe6o5yHpIOC7wCURsWOgRRu0VZI7IvZExOvIjtpPlHTsAItXnlvSu4CtEbG86CoN2qp4rU+JiOOBM4GLJZ06wLKdkHks2dDw1yLi9cBOsqGcZjoh8+/kP299FvCdwRZt0DZg7tFYMDYB02puTwUeryhLEVskTQHI/27N2zvmeUjal6xYXB0R38ubOz53n4h4GugGzqCzc58CnCVpPXAt8IeSrqKzMxMRj+d/twLfB06kszNvAjblPU6A68kKSCdnrnUmcE9EbMlvD1vu0VgwfgHMlDQjr8TzgKUVZxrIUmB+fn0+2RxBX/s8SeMlzQBmAneVHU6SgG8AqyPiizV3dXruyZIm5Nf3B94KPEgH546ISyNiakRMJ3vf3hYRF3RyZkkHSjq47zrZ2PrKTs4cEU8AGyW9Om86DXiADs5c5zxeHI6C4cxd5cRMhRNC7yA7m+cR4LKq89TkugbYDDxPVv0vBF5KNsn5cP53Ys3yl+XPYQ1wZkWZ30TWjb0PuDe/vCOB3McBv8xzrwQ+lbd3dO6aLHN5cdK7YzOTzQesyC+r+v6/dXLmPMPrgLvz98cNwKGdnjnPcQDwFPCSmrZhy+2vBjEzs0JG45CUmZkNgQuGmZkV4oJhZmaFuGCYmVkhLhhmZlaIC4aZmRXigmE2iPyrrv+8yX3TJT2XfyfVULb9vvzrpX/YUkizErhgmA1uAtCwYOQeiew7qfZaRFwHXDSUdc3K5oJhNrjPAq/If5Tm7wdaMO9xrJb0T8p+mOnm/KtHkPRhSQ9Iuk/StaUkNxtGY6sOYJaAhcCxe9GLmAmcFxF/KmkJ8EfAVfl2ZkREb9/3WJmlxD0Ms+G3LiLuza8vJ/tRLMi+l+hqSRcAuyvIZdYSFwyz4ddbc30PL/bk3wl8FZgNLJfkHr4lxQXDbHDPkP1e+ZBJ2geYFhHLyH4xbwJwUOvRzMrjIxyzQUTEU5J+Jmkl8OOI+KshbGYMcJWkl5D90tmXIvvhJrNkuGCYFRAR5xdcbj1wbM3tL9Tc/aZhjmVWKg9JmbVmD/CSVj64B1wBbB/OUGbt4B9QMjOzQtzDMDOzQlwwzMysEBcMMzMrxAXDzMwK+f+EfksWiSfUXAAAAABJRU5ErkJggg==",
      "text/plain": [
       "<Figure size 432x288 with 1 Axes>"
      ]
     },
     "metadata": {
      "needs_background": "light"
<<<<<<< Updated upstream
     }
    }
   ],
   "metadata": {}
  },
  {
   "cell_type": "code",
   "execution_count": 28,
   "source": [
    "step = 0\r\n",
    "pul1 = Sweep_teil(PulseScheme_B_100nano,70,step,interval,sam)\r\n",
    "\r\n",
    "\r\n",
    "#Plot\r\n",
    "fig,ax= plt.subplots()\r\n",
    "ax.grid(True)\r\n",
    "\r\n",
    "plt.plot(pul1[1],pul1[0]/2,label= '{b} samples'.format(b = sam),color='red')\r\n",
    "\r\n",
    "ax.set_ylabel('V  [mV]')\r\n",
    "ax.set_xlabel(r't [ns]')\r\n",
    "ax.set_title('Cycle B at step {a}'.format(a = step )) #Voltage Offset = 3mV, Marker Ampl = 50mV \r\n",
    "#ax.legend(loc=0)\r\n",
    "#plt.legend(bbox_to_anchor=(2.05, 1), loc='upper left', borderaxespad=0.)\r\n",
    "plt.show()\r\n",
    "\r\n",
    "fig.savefig(r'{loc}\\Cycle B, Probe width 100 nano 93 Hz mod {a} step.jpeg'.format(loc = PulseScheme_A_100nano['Measurement file Path'], a = step),bbox_inches='tight')"
   ],
   "outputs": [
    {
     "output_type": "display_data",
     "data": {
      "image/png": "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",
=======
     },
     "output_type": "display_data"
    }
   ],
   "source": [
    "step = 70\n",
    "pul1 = Sweep_teil(PulseScheme_A_100nano,70,step,interval,sam)\n",
    "\n",
    "\n",
    "#Plot\n",
    "fig,ax= plt.subplots()\n",
    "ax.grid(True)\n",
    "\n",
    "plt.plot(pul1[1],pul1[0]/2,label= '{b} samples'.format(b = sam),color='red')\n",
    "\n",
    "ax.set_ylabel('V  [mV]')\n",
    "ax.set_xlabel(r't [ns]')\n",
    "ax.set_title('Cycle A at step {a}'.format(a = step )) #Voltage Offset = 3mV, Marker Ampl = 50mV \n",
    "#ax.legend(loc=0)\n",
    "#plt.legend(bbox_to_anchor=(2.05, 1), loc='upper left', borderaxespad=0.)\n",
    "plt.show()\n",
    "\n",
    "fig.savefig(r'{loc}\\Cycle A, Probe width 100 nano 93 Hz mod {a} step.jpeg'.format(loc = PulseScheme_A_100nano['Measurement file Path'], a = step),bbox_inches='tight')"
   ]
  },
  {
   "cell_type": "code",
   "execution_count": 31,
   "metadata": {},
   "outputs": [
    {
     "data": {
      "image/png": "iVBORw0KGgoAAAANSUhEUgAAAY4AAAEWCAYAAABxMXBSAAAAOXRFWHRTb2Z0d2FyZQBNYXRwbG90bGliIHZlcnNpb24zLjMuMiwgaHR0cHM6Ly9tYXRwbG90bGliLm9yZy8vihELAAAACXBIWXMAAAsTAAALEwEAmpwYAAAf10lEQVR4nO3df5QcZZ3v8feHEAICIQLJbPixBjTgAkpkIi4XxLD4A1BBdF0BUfaKRldY9eiqIF5Ed3OPv1Zcr6gbhRVX5IdiEDmooM6oqyJMIGAgBIkJJhATgUAyRBKSfO8fVSM9oWe6e3q6n35mPq9z+kx3dVX1pzud+tbzPNVVigjMzMzqtUPqAGZmlhcXDjMza4gLh5mZNcSFw8zMGuLCYWZmDXHhMDOzhrhw2JgnaYWkl6fOYTZWuHBYR5F0hqQ+Sf2SVkv6gaRjEmWZI2lbmaVf0oOSPt7E+r4u6d/avWyd6++R9CdJ6yXdKemU7Z4/Q9IDkp6QdJ2kPVuVxTqfC4d1DEnvBz4P/F+gC/hr4EvAKcMs1moPRcRuEbEbcAxwtqTXJczTKu8FpkfEZGAu8E1J0wEkHQr8J/AWin+XjRT/LjZOuXBYR5C0B/AJ4JyI+G5EPBERT0XE9yPig5L+StJGSXtVLNNd7iVPLB+/Q9ISSRsk3SPpiCqvs4Ok8yQtk/SIpGvq3XuOiOXAr4BDhnkf35b0R0mPS/p5udFF0lzgzcCHytbL96ssK0kXS1pbLn+XpMOGWlbSPpKuLT+D5ZLeU7GuiyR9R9LV5edxu6TDh3lvd0XEloGHwERg//Lxm4HvR8TPI6If+D/A6yXtXs/nZmOPC4d1iqOAnYEF1Z6MiD8CvcA/VEw+E7gqIp6S9EbgIuCtwGTgZOCRKqt6D/A64GXAPsA64JJ6AkqaCRwN3DLMbD8AZgLTgNuBK8r888v7ny5bMK+tsuwrgWOBg4ApwJuAR6otK2kH4PvAncC+wPHA+yS9qmJ9pwDfBvYEvgVcN1Bkh3h/N0h6EvgNxWfdVz51aPk6lO9lGbC5zGnjkAuHdYq9gIcr9nqruZyiWCBpAnA68N/lc2+n2LDeFoX7I+KBKut4J3BBRKyKiE0UxebvJe04xGvuI+kxSeuB+yg2qv8zVMCIuCwiNlSs+/CyNVWPp4DdgecDioglEbF6iHlfDEyNiE9ExOaI+D3wVeC0inkWRsR3IuIp4HMUhflvh8n+mvL1TwJ+FBHbyqd2Ax7fbvbHy3ltHHLhsE7xCLD3MBtwgO8Bh0g6EHgF8HhE3Fo+tz+wrI7XeQ6woCwGjwFLgK0UfffVPBQRU8q+/ynAnykK2DNImiDpk2U32HpgRfnU3nXkIiJ+CnyRogW0RtJ8SZOHeR8DRW3gvXxku/exsmLd24BVFK2s4TI8FRE/AF4l6eRycj9FK67SZGBDPe/Lxh4XDusUvwaepOhGqioingSuoehzfwtPtzag2Eg+t47XWQmcWBaDgdvOEfFgrQUj4nGKLp9q3UwAZ1B0D70c2AOYUU7XwCrqeI0vREQ3RffQQcAHh1h2JbB8u/exe0ScVDHPwBgFZdfWfsBDtTKUduTpz/Nu4C/jI2XhnkTRArNxyIXDOkK5Ub4QuETS6yQ9S9JESSdK+nTFrN8A/pFiDOObFdO/BvxLOWAuSc+T9JwqL/UVYN7Ac5Kmbn/o6VAk7UbRFXT3ELPsDmyiaD09i+LosEprgAOHWf+LJb2kHId4gqKQbh1i2VuB9ZI+LGmXsrVzmKQXV8zTLen1ZSvufWW2Z4zPSHp++TnvUn7mZ1KMtfysnOUK4LWSXippV4qDGL4bEW5xjFMuHNYxIuJzwPuBjwJ/otirPhe4rmKeXwLbgNsjYkXF9G8D8yhaBBvKZaodLfUfwPXATZI2UGxIXzJMrH3KI5n6gQfKdb55iHm/Uc7zIHAPz9xIX0rR1faYpOt4pskU4xTryvU8Any22rIRsZWi5TMLWA48TFE8K8dTvkcxwL6OooX2+nK8Y3uiGI9ZS/G5vxd4U0TcDhARdwPvoiggaykK5LuH+AxsHJAv5GS5kfRT4FsR8bXUWTqVpIuA50XEmamz2Ngz3ECkWccpu2KOIO2PAs3GNXdVWTYkXQ78GHif+9fN0nFXlZmZNcQtDjMza8iYGOPYe++9Y8aMGSNe/oknnmDXXXcdvUBt4MztkWNmyDO3M7fPQO6FCxc+HBFTG15BRGR/6+7ujmb09PQ0tXwKztweOWaOyDO3M7fPQG6gL0awzXVXlZmZNcSFw8zMGuLCYWZmDXHhMDOzhrhwmJlZQ1peOCRdVl4Kc3HFtIskPShpUXk7qeK58yXdL2npdlczMzOzDtCOFsfXgROqTL84ImaVtxsBJB1CcdrqQ8tlvlRe6c3MzDpEy38AGBE/lzSjztlPobiG9CZguaT7gSMpLvJj1l5PPsn+V14JP/1p6iSN2WknJr7gBalT2BiW8pfj50p6K9AHfCAi1gH7MvgaBqvKac8gaS4wF6Crq4ve3t4RB+nv729q+RScufWm3HEHs+bPByCkGnN3BpXnntvt3HPp3aPeS513hty+H5BnZmg+d6rC8WXgXykuh/mvwL8Db+PpS2xWqnoWxoiYD8wHmD17dsyZM2fEYXp7e2lm+RScuQ22bCn+/uIX6Jhj0map1+rVsM8+7DxxYl6fNRl+P8gzMzSfO8lRVRGxJiK2RsQ2iiueHVk+tYqK6yTT2DWSzcysDZIUDknTKx6eCgwccXU9cJqkSZIOAGZSXFvZzMw6RMu7qiRdCcwB9pa0CvgYMEfSLIpuqBXAO6G4trGkayiu17wFOCeKayubtV/G16rJY0TGctWOo6pOrzL50mHmnwfMa10iswZlMjAO5JXVsuVfjpuZWUNcOMyGknFXlVkruXCYjUUuetZCLhxmteQ0bpBTVsuWC4eZmTXEhcNsKDl39+Sc3TqeC4eZmTXEhcOslpzGDXLKatly4TAzs4a4cJgNJedxgpyzW8dz4TAzs4a4cJjVktO4QU5ZLVsuHGZm1hAXDrOhZDxO4HaHtZILh1kt7v4xG8SFw2wscZGzNmh54ZB0maS1khZXTPuMpHsl3SVpgaQp5fQZkv4saVF5+0qr85kNKeOuKrNWakeL4+vACdtNuxk4LCJeCNwHnF/x3LKImFXe3tWGfGZjj4uetVDLC0dE/Bx4dLtpN0XElvLhLcB+rc5hNmLu/jEbpOXXHK/D24CrKx4fIOkOYD3w0Yj4RbWFJM0F5gJ0dXXR29s74gD9/f1NLZ+CM7fennfdxQuBhQsXsmHjxtRx6rLj449zDLBp06asPmvI7/sBeWaGUcgdES2/ATOAxVWmXwAsAFQ+ngTsVd7vBlYCk2utv7u7O5rR09PT1PIpOHMb3HBDBET85jepk9Tv4YcjIO77539OnaRh2X0/Is/MEU/nBvpiBNv0ZEdVSToLeA3w5vINEBGbIuKR8v5CYBlwUKqMZtnyGIe1UJLCIekE4MPAyRGxsWL6VEkTyvsHAjOB36fIaPYXHuMwG6TlYxySrgTmAHtLWgV8jOIoqknAzSr+U94SxRFUxwKfkLQF2Aq8KyIerbpiM3smFzlrg5YXjog4vcrkS4eY91rg2tYmMquTu3vMqvIvx83GIhc9ayEXDrNa3P1jNogLh9lY4iJnbeDCYTYUd/eYVeXCYTYGud1hreTCYVZLTt0/OWW1bLlwmJlZQ1w4zIbiMQ6zqlw4zGrJsfvHRc9ayIXDbCzJschZdlw4zIbivXazqlw4zMYiFz1rIRcOs1rc/WM2iAuH2VjiImdt4MJhNhR395hV5cJhZmYNaXnhkHSZpLWSFldM21PSzZJ+V/59dsVz50u6X9JSSa9qdT6zmtz9YzZIO1ocXwdO2G7aecBPImIm8JPyMZIOAU4DDi2X+dLANcjNrA4uctYGLS8cEfFzYPvrhp8CXF7evxx4XcX0qyJiU0QsB+4Hjmx1RrOqPMZhVlXLrzk+hK6IWA0QEaslTSun7wvcUjHfqnLaM0iaC8wF6Orqore3d8Rh+vv7m1o+BWduvb0XL+YwoK+vj/7HHksdpy4TNm7kpcDmJ5/M6rOG/L4fkGdmaD53qsIxlGrt7Kq7fRExH5gPMHv27JgzZ86IX7S3t5dmlk/Bmdtg3ToAZr/4xXD44YnD1GnDBgAmTZqU12dNht8P8swMzedOdVTVGknTAcq/a8vpq4D9K+bbD3iozdnM8uUxDmuDVIXjeuCs8v5ZwPcqpp8maZKkA4CZwK0J8pl5jMNsCC3vqpJ0JTAH2FvSKuBjwCeBaySdDfwBeCNARNwt6RrgHmALcE5EbG11RrNh5bgX76JnLdTywhERpw/x1PFDzD8PmNe6RGZm1gz/ctxsKDnutefYOrLsuHCYmVlDXDjMaslxLz7H1pJlw4XDzMwa4sJhNpQc99pzbB1Zdlw4zMysIS4cZrV4L95sEBcOMzNriAuH2VA8xmFWlQuHmZk1xIXDrJYM9+KVY2vJsuHCYTaWZFjkLD8uHGZD8V67WVUuHGZm1hAXDrNacuz+cWvJWijZNcclHQxcXTHpQOBCYArwDuBP5fSPRMSN7U1nlqkci5xlJ1nhiIilwCwASROAB4EFwP8GLo6Iz6bKZgZ4r91sCJ3SVXU8sCwiHkgdxOwZctyLd9GzFkrW4tjOacCVFY/PlfRWoA/4QESs234BSXOBuQBdXV309vaO+MX7+/ubWj4FZ269qXffzaHArbfeysY1a1LHqYs2b+ZlwObNm7P6rCG/7wfkmRlGIXdEJL0BOwEPA13l4y5gAkVraB5wWa11dHd3RzN6enqaWj4FZ26DK6+MgIh77kmdpH6bNkVALDv77NRJGpbd9yPyzBzxdG6gL0aw3e6ErqoTgdsjYg1ARKyJiK0RsQ34KnBk0nRmZjZIJxSO06noppI0veK5U4HFbU9kVinHMQ6zFko6xiHpWcArgHdWTP60pFlAACu2e87MzBJLWjgiYiOw13bT3pIojtlgOR6Z5NaRtUEndFWZmVlGXDjMaslwL96nVbdWcuEwM7OGDDvGIen6OtbxaET84+jEMesgOe61Z9g6svzUGhz/G+Dtwzwv4JLRi2NmZp2uVuG4ICJ+NtwMkj4+innMOk+Oe/E5tpYsG7XGOLZJ2nm4GSLimlHMY2ZmHa5W4Xgz8AdJ35B0Ynn6c7PxIce99hxbR5adYQtHRJwKPA/4CfAeYKWkL0s6th3hzDqCN8Zmg9Q8HDci1kfE5RFxIvACYBHw/yStbHU4MxuhHFtLlo26f8ch6dnA64E3AXsC17YqlJmZda5av+PYHXgdxRlsjwCuB/4N6CnP5W42duX4FXe3mrVBrcNxlwM/Ar4M/DAinmp9JLMO442x2SC1Csdfl2ewNTMzA2ofVbURQNJrJN0haZ2k9ZI2SFrfnohmieTYVWXWBvVej+PzFAPjv/XYhlkHc7eatUG9hWMlsHi0i4akFcAGYCuwJSJmS9oTuBqYQXEFwH+IiHWj+bpmDfHG2GyQegvHh4AbJf0M2DQwMSI+NwoZjouIhysenwf8JCI+Kem88vGHR+F1zMYNX4/DWqne33HMAzYCOwO7V9xa4RTg8vL+5RSHA5u1nze+ZlXV2+LYMyJe2YLXD+AmSQH8Z0TMB7oiYjVARKyWNK3agpLmAnMBurq66O3tHXGI/v7+ppZPwZlbr2vJEv4GuOWWW3hyZT4nSpgDbN68OavPGvL7fkCemWEUckdEzRvwSeCV9czbyA3Yp/w7DbgTOBZ4bLt51tVaT3d3dzSjp6enqeVTcOY2uPzyCIhYtix1ksZALD/rrNQpGpbd9yPyzBzxdG6gL0aw7a63q+oc4IeS/jyah+NGxEPl37XAAuBIYI2k6QDl37XNvo7ZuONuNmuhugpHROweETtExC4RMbl8PLmZF5a0a3lKEyTtCrwSWExxWpOzytnOAr7XzOuYjZg3vmZV1TpX1V9FxB+bnWcIXcACFYc67gh8KyJ+KOk24BpJZwN/AN44gnWbmVmL1Bocv5Hi5IbNzvMMEfF74PAq0x8Bjm90fWYt499xmA1Sq3AcXmMsQ4BPPWLWadzNZi00bOGICF8q1savXDe+biFZi9V9ISezccsbYrNBXDjMzKwhLhxmQ8m1q8qsxVw4zMYad61Zi7lwmNXiDbHZIC4cZmOQT6turTRs4ZD0RUn/q11hzDqKN75mVdVqcfwO+HdJKyR9StKsNmQys2a4a81abNjCERH/ERFHAS8DHgX+S9ISSRdKOqgtCc1S84bYbJB6z477QER8KiJeBJwBnAosaWkyMxs5d7NZC9VVOCRNlPRaSVcAPwDuA97Q0mRmqXnja1ZVrdOqvwI4HXg1cCtwFTA3Ip5oQzYzGwl3rVmL1To77keAbwH/EhGPtiGPWefxhthskFpnxz2uXUHMbBS5m81aKNkPACXtL6mnPErrbknvLadfJOlBSYvK20mpMto4542vWVW1uqpaaQvwgYi4vbz2+EJJN5fPXRwRn02YzSxf7lqzFktWOCJiNbC6vL9B0hJg31R5zIbkDbHZIClbHH8haQbwIuA3wNHAuZLeCvRRtErWVVlmLjAXoKuri97e3hG/fn9/f1PLp+DMrTd96VIOBn7961+zaerU1HHqdmwET23enNVnDfl9PyDPzDAKuSMi6Q3YDVgIvL583AVMoBh/mQdcVmsd3d3d0Yyenp6mlk/Bmdtg/vwIiFi5MnWSxkycGCvOOCN1ioZl9/2IPDNHPJ0b6IsRbLeTnh1X0kTgWuCKiPguQESsiYitEbEN+CpwZMqMZtl1VeWW17KT8qgqAZcCSyLicxXTp1fMdiqwuN3ZzMxsaCnHOI4G3gL8VtKictpHgNPLs/AGsAJ4Z4pwZjkfjuvrcVgrpTyq6n+Aam3qG9udxczM6ucrAJrVktuYQW55LTsuHGZm1hAXDrOh5DxOkHN263guHGZjjbuqrMVcOMxq8YbYbBAXDjMza4gLh9lQch4nyDm7dTwXDrOxxl1r1mIuHGa1eENsNogLh5mZNcSFw2woHicwq8qFw6yW3Lqqcstr2XHhMDOzhrhwmA0l464qn1bdWsmFw8zMGtKxhUPSCZKWSrpf0nmp89g4ltuYQW55LTsdWTgkTQAuAU4EDqG4KuAhaVOZmRmkvXTscI4E7o+I3wNIugo4BbhnVF9l/Xq4/XamLFo0qqttB2dug/vuS51gxCatWQO9valjNGTH9etTR2jM5s3s8dvfpk4B06bBIe3dr+7UwrEvsLLi8SrgJZUzSJoLzAXo6uqidwT/SXa/9166/+mfmDXimOnMSh1gBGalDjAC23bYgV/edhtbd901dZS6HbXzzkz72c/guONSR2nIgUcfTe/kyalj1G3fBQt40Re+kDoGa487jnsuvLChZfr7+0e0zRzQqYWjWiftoMNEImI+MB9g9uzZMWfOnMZf5Ygj4PnPZ9GiRcyaNavx5RNy5vboe+ABXvrqV6eO0Zi+PhZdd11en/W7383Omzczov/HqfzqV8Xfm26CiROTxZg2bRrTGmxx9Pb2NvVZd2rhWAXsX/F4P+ChUX+VyZNhzhweA8jpCwvO3CYbM+vuAWDGDB6bNSuvz3ryZNi2LXWKkXnZy2CnnVKnaKuOHBwHbgNmSjpA0k7AacD1iTOZWatI+f1uZiDvODyKrSNbHBGxRdK5wI+ACcBlEXF34lhm1io5bnxdODpPRNwI3Jg6h5m1Sa4tjnGoU7uqzGw8kfI7Tco4bnG4cJhZejlvfHPOPkIuHGaWngfHs+LCYWbp5bjxdeEwM0ss1xbHOOTCYWbpjcO99py5cJhZepkeVRXjtOC5cJhZerkOjrtwmJlZ3XIrdKPIhcPM0su1xTFOuXCYWXqZdvl4jMPMLJVMB8dzLXjNcuEws/Ry7apy4TAzs7rlVuhGkQuHmaWXa4tjnHLhMLP0Mu3y8eB4G0n6jKR7Jd0laYGkKeX0GZL+LGlReftKinxm1mYeHM9KqhbHzcBhEfFC4D7g/IrnlkXErPL2rjTxzKztciwc41SSwhERN0XElvLhLcB+KXKYWYfIcc99HLc4OuGa428Drq54fICkO4D1wEcj4hfVFpI0F5gL0NXVRW9v74gD9Pf3N7V8Cs7cHjlmhvxyv2DdOiZs3ZpV5ueuXMl0yCrzgKa/HxHRkhvwY2BxldspFfNcACwAVD6eBOxV3u8GVgKTa71Wd3d3NKOnp6ep5VNw5vbIMXNEhrlPOikeP/jg1Cka8/73x1O77JI6xYgMfD+AvhjB9r1lLY6IePlwz0s6C3gNcHz5BoiITcCm8v5CScuAg4C+VuU0sw7gwfGspDqq6gTgw8DJEbGxYvpUSRPK+wcCM4Hfp8hoZm2WY+EYp1KNcXyRolvqZhUV+5YojqA6FviEpC3AVuBdEfFoooxm1i457rmP4xZHksIREc8bYvq1wLVtjmNmqY3TDXCu/MtxM0sv01OO+JfjZmapeHA8Ky4cZtYZciwc45QLh5mll+uee665m+TCYWbp5bgBdovDzCwhD45nxYXDzDpCloPj45QLh5mll2mLI8sutlHgwmFm6eW6Ac41d5NcOMwsvRw3wLm1kEaRC4eZpZdpV5UHx83MEvLgeD5cOMwsvVz33HPN3SQXDjNLL8cNsI+qMjNLKNMxjvHKhcPMOkNuG+Lc8o6iVJeOvUjSg5IWlbeTKp47X9L9kpZKelWKfGbWZpmeVn28HlWV6tKxABdHxGcrJ0g6BDgNOBTYB/ixpIMiYmuKgGbWJrlugHPN3aSUhaOaU4CrImITsFzS/cCRwK/TxjKzlpKYtGYNHHpo6iT1e/BB2Hnn1CmSSFk4zpX0VqAP+EBErAP2BW6pmGdVOe0ZJM0F5gJ0dXXR29s74iD9/f1NLZ+CM7dHjpkhv9zPnjWLqcuXs+OOnbYvO4ypU1l78ME8nNHnPKDp70dEtOQG/BhYXOV2CtAFTKAYY5kHXFYucwlwZsU6LgXeUOu1uru7oxk9PT1NLZ+CM7dHjpkj8sztzO0zkBvoixFs31tW3iPi5fXMJ+mrwA3lw1XA/hVP7wc8NMrRzMysCamOqppe8fBUipYIwPXAaZImSToAmAnc2u58ZmY2tFQdip+WNAsIYAXwToCIuFvSNcA9wBbgnPARVWZmHSVJ4YiItwzz3DyKcQ8zM+tA/uW4mZk1xIXDzMwa4sJhZmYNceEwM7OGKHI7sVgVkv4EPNDEKvYGHh6lOO3izO2RY2bIM7czt89A7udExNRGFx4ThaNZkvoiYnbqHI1w5vbIMTPkmduZ26fZ3O6qMjOzhrhwmJlZQ1w4CvNTBxgBZ26PHDNDnrmduX2ayu0xDjMza4hbHGZm1hAXDjMza8i4LhySTpC0VNL9ks5LnWeApMskrZW0uGLanpJulvS78u+zK547v3wPSyW9KlHm/SX1SFoi6W5J780k986SbpV0Z5n74znkLnNMkHSHpBtyyCxphaTfSlokqS+TzFMkfUfSveV3+6gMMh9cfsYDt/WS3jequUdy9aexcKO4AuEy4EBgJ+BO4JDUucpsxwJHAIsrpn0aOK+8fx7wqfL+IWX2ScAB5XuakCDzdOCI8v7uwH1ltk7PLWC38v5E4DfA33Z67jLL+4FvATdk8h1ZAey93bROz3w58Pby/k7AlE7PvF3+CcAfgeeMZu5kbyj1DTgK+FHF4/OB81Pnqsgzg8GFYykwvbw/HVhaLTfwI+CoDsj/PeAVOeUGngXcDryk03NTXB3zJ8DfVRSOTs9crXB0bGZgMrCc8iCiHDJXeQ+vBH452rnHc1fVvsDKiserymmdqisiVgOUf6eV0zvufUiaAbyIYu+943OXXT6LgLXAzRGRQ+7PAx8CtlVM6/TMAdwkaaGkueW0Ts58IPAn4L/KLsGvSdqVzs68vdOAK8v7o5Z7PBcOVZmW47HJHfU+JO0GXAu8LyLWDzdrlWlJckfE1oiYRbEXf6Skw4aZPXluSa8B1kbEwnoXqTItxWd9dEQcAZwInCPp2GHm7YTMO1J0GX85Il4EPEHRxTOUTsj8F5J2Ak4Gvl1r1irThs09ngvHKmD/isf7AQ8lylKPNQPXai//ri2nd8z7kDSRomhcERHfLSd3fO4BEfEY0AucQGfnPho4WdIK4Crg7yR9k87OTEQ8VP5dCywAjqSzM68CVpUtUIDvUBSSTs5c6UTg9ohYUz4etdzjuXDcBsyUdEBZmU8Drk+caTjXA2eV98+iGEMYmH6apEmSDgBmAre2O5wkAZcCSyLicxVPdXruqZKmlPd3AV4O3EsH546I8yNiv4iYQfG9/WlEnNnJmSXtKmn3gfsUfe+LOzlzRPwRWCnp4HLS8cA9dHDm7ZzO091UMJq5Uw7cpL4BJ1Ec/bMMuCB1nopcVwKrgaco9gbOBvaiGAz9Xfl3z4r5Lyjfw1LgxESZj6Fo3t4FLCpvJ2WQ+4XAHWXuxcCF5fSOzl2RZQ5PD453bGaK8YI7y9vdA//fOjlzmWEW0Fd+P64Dnt3pmcsczwIeAfaomDZquX3KETMza8h47qoyM7MRcOEwM7OGuHCYmVlDXDjMzKwhLhxmZtYQFw4zM2uIC4dZncpTbL97iOdmSPpzec6rkaz7TeVprW9oKqRZG7hwmNVvClC1cJSWRXHOq4ZFxNXA20eyrFm7uXCY1e+TwHPLi+N8ZrgZyxbIEklfVXGBqJvKU5og6T2S7pF0l6Sr2pLcbBTtmDqAWUbOAw5roFUxEzg9It4h6RrgDcA3y/UcEBGbBs6TZZYTtzjMWmd5RCwq7y+kuDgXFOc9ukLSmcCWBLnMmuLCYdY6myrub+XpFv6rgUuAbmChJLf8LSsuHGb120BxPfURk7QDsH9E9FBcwW8KsFvz0czax3s6ZnWKiEck/VLSYuAHEfHBEaxmAvBNSXtQXHnt4iguIGWWDRcOswZExBl1zrcCOKzi8Wcrnj5mlGOZtZW7qsxGx1Zgj2Z+AAh8CVg3mqHMWsEXcjIzs4a4xWFmZg1x4TAzs4a4cJiZWUNcOMzMrCH/H/pv4KxjxjLuAAAAAElFTkSuQmCC",
>>>>>>> Stashed changes
      "text/plain": [
       "<Figure size 432x288 with 1 Axes>"
      ]
     },
     "metadata": {
      "needs_background": "light"
<<<<<<< Updated upstream
     }
    }
   ],
   "metadata": {}
=======
     },
     "output_type": "display_data"
    }
   ],
   "source": [
    "step = 30\n",
    "pul1 = Sweep_teil(PulseScheme_B_100nano,30,step,interval,sam)\n",
    "\n",
    "\n",
    "#Plot\n",
    "fig,ax= plt.subplots()\n",
    "ax.grid(True)\n",
    "\n",
    "plt.plot(pul1[1],pul1[0]/2,label= '{b} samples'.format(b = sam),color='red')\n",
    "\n",
    "ax.set_ylabel('V  [mV]')\n",
    "ax.set_xlabel(r't [ns]')\n",
    "ax.set_title('Cycle B at step {a}'.format(a = step )) #Voltage Offset = 3mV, Marker Ampl = 50mV \n",
    "#ax.legend(loc=0)\n",
    "#plt.legend(bbox_to_anchor=(2.05, 1), loc='upper left', borderaxespad=0.)\n",
    "plt.show()\n",
    "\n",
    "fig.savefig(r'{loc}\\Cycle B, Probe width 100 nano 93 Hz mod {a} step.jpeg'.format(loc = PulseScheme_A_100nano['Measurement file Path'], a = step),bbox_inches='tight')"
   ]
>>>>>>> Stashed changes
  },
  {
   "cell_type": "code",
   "execution_count": 29,
<<<<<<< Updated upstream
   "source": [
    "step = 70\r\n",
    "pul1 = Sweep_teil(PulseScheme_B_100nano,70,step,interval,sam)\r\n",
    "\r\n",
    "\r\n",
    "#Plot\r\n",
    "fig,ax= plt.subplots()\r\n",
    "ax.grid(True)\r\n",
    "\r\n",
    "plt.plot(pul1[1],pul1[0]/2,label= '{b} samples'.format(b = sam),color='red')\r\n",
    "\r\n",
    "ax.set_ylabel('V  [mV]')\r\n",
    "ax.set_xlabel(r't [ns]')\r\n",
    "ax.set_title('Cycle B at step {a}'.format(a = step )) #Voltage Offset = 3mV, Marker Ampl = 50mV \r\n",
    "#ax.legend(loc=0)\r\n",
    "#plt.legend(bbox_to_anchor=(2.05, 1), loc='upper left', borderaxespad=0.)\r\n",
    "plt.show()\r\n",
    "\r\n",
    "fig.savefig(r'{loc}\\Cycle B, Probe width 100 nano93 Hz mod {a} step.jpeg'.format(loc = PulseScheme_A_100nano['Measurement file Path'], a = step),bbox_inches='tight')"
   ],
   "outputs": [
    {
     "output_type": "display_data",
=======
   "metadata": {},
   "outputs": [
    {
>>>>>>> Stashed changes
     "data": {
      "image/png": "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",
      "text/plain": [
       "<Figure size 432x288 with 1 Axes>"
      ]
     },
     "metadata": {
      "needs_background": "light"
<<<<<<< Updated upstream
     }
    }
   ],
   "metadata": {}
=======
     },
     "output_type": "display_data"
    }
   ],
   "source": [
    "step = 70\n",
    "pul1 = Sweep_teil(PulseScheme_B_100nano,70,step,interval,sam)\n",
    "\n",
    "\n",
    "#Plot\n",
    "fig,ax= plt.subplots()\n",
    "ax.grid(True)\n",
    "\n",
    "plt.plot(pul1[1],pul1[0]/2,label= '{b} samples'.format(b = sam),color='red')\n",
    "\n",
    "ax.set_ylabel('V  [mV]')\n",
    "ax.set_xlabel(r't [ns]')\n",
    "ax.set_title('Cycle B at step {a}'.format(a = step )) #Voltage Offset = 3mV, Marker Ampl = 50mV \n",
    "#ax.legend(loc=0)\n",
    "#plt.legend(bbox_to_anchor=(2.05, 1), loc='upper left', borderaxespad=0.)\n",
    "plt.show()\n",
    "\n",
    "fig.savefig(r'{loc}\\Cycle B, Probe width 100 nano93 Hz mod {a} step.jpeg'.format(loc = PulseScheme_A_100nano['Measurement file Path'], a = step),bbox_inches='tight')"
   ]
>>>>>>> Stashed changes
  },
  {
   "cell_type": "code",
   "execution_count": 46,
<<<<<<< Updated upstream
   "source": [
    "step = 0\r\n",
    "pul1 = Sweep_teil(PulseScheme_B_100nano_empty,70,step,interval,sam)\r\n",
    "\r\n",
    "\r\n",
    "#Plot\r\n",
    "fig,ax= plt.subplots()\r\n",
    "ax.grid(True)\r\n",
    "\r\n",
    "plt.plot(pul1[1],pul1[0]/2,label= '{b} samples'.format(b = sam),color='red')\r\n",
    "\r\n",
    "ax.set_ylabel('V  [mV]')\r\n",
    "ax.set_xlabel(r't [ns]')\r\n",
    "ax.set_title('Cycle B at step {a}'.format(a = step )) #Voltage Offset = 3mV, Marker Ampl = 50mV \r\n",
    "#ax.legend(loc=0)\r\n",
    "#plt.legend(bbox_to_anchor=(2.05, 1), loc='upper left', borderaxespad=0.)\r\n",
    "plt.show()\r\n",
    "\r\n",
    "fig.savefig(r'{loc}\\Cycle B, Probe width 100 nano93 Hz mod {a} step empty .jpeg'.format(loc = PulseScheme_A_100nano['Measurement file Path'], a = step),bbox_inches='tight')"
   ],
   "outputs": [
    {
     "output_type": "display_data",
=======
   "metadata": {},
   "outputs": [
    {
>>>>>>> Stashed changes
     "data": {
      "image/png": "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",
      "text/plain": [
       "<Figure size 432x288 with 1 Axes>"
      ]
     },
     "metadata": {
      "needs_background": "light"
<<<<<<< Updated upstream
     }
    }
   ],
   "metadata": {}
  },
  {
   "cell_type": "code",
   "execution_count": 30,
   "source": [
    "sweeping_run_a_100nano = Sweeping_Single_List_File_teil(PulseScheme_A_100nano,70,interval,sam,0,70,AWG_Settings_100nano,'A')[0]"
   ],
   "outputs": [],
   "metadata": {}
=======
     },
     "output_type": "display_data"
    }
   ],
   "source": [
    "step = 0\n",
    "pul1 = Sweep_teil(PulseScheme_B_100nano_empty,70,step,interval,sam)\n",
    "\n",
    "\n",
    "#Plot\n",
    "fig,ax= plt.subplots()\n",
    "ax.grid(True)\n",
    "\n",
    "plt.plot(pul1[1],pul1[0]/2,label= '{b} samples'.format(b = sam),color='red')\n",
    "\n",
    "ax.set_ylabel('V  [mV]')\n",
    "ax.set_xlabel(r't [ns]')\n",
    "ax.set_title('Cycle B at step {a}'.format(a = step )) #Voltage Offset = 3mV, Marker Ampl = 50mV \n",
    "#ax.legend(loc=0)\n",
    "#plt.legend(bbox_to_anchor=(2.05, 1), loc='upper left', borderaxespad=0.)\n",
    "plt.show()\n",
    "\n",
    "fig.savefig(r'{loc}\\Cycle B, Probe width 100 nano93 Hz mod {a} step empty .jpeg'.format(loc = PulseScheme_A_100nano['Measurement file Path'], a = step),bbox_inches='tight')"
   ]
  },
  {
   "cell_type": "code",
   "execution_count": 63,
   "metadata": {},
   "outputs": [],
   "source": [
    "sweeping_run_a_100nano = Sweeping_Single_List_File_teil(PulseScheme_A_100nano,30,interval,sam,0,30,AWG_Settings_100nano,'A')[0]\n",
    "sweeping_run_b_100nano = Sweeping_Single_List_File_teil(PulseScheme_B_100nano,30,interval,sam,0,30,AWG_Settings_100nano,'B')[0]"
   ]
>>>>>>> Stashed changes
  },
  {
   "cell_type": "code",
   "execution_count": 48,
<<<<<<< Updated upstream
   "source": [
    "sweeping_run_b_100nano = Sweeping_Single_List_File_teil(PulseScheme_B_100nano,70,interval,sam,0,70,AWG_Settings_100nano,'B')[0]"
   ],
   "outputs": [],
   "metadata": {}
  },
  {
   "cell_type": "code",
   "execution_count": 32,
   "source": [
    "#Exporting pickle\r\n",
    "\r\n",
    "with open(r\"{dict}\\cycleA_71steps_93Hz_100nano_.p\".format(dict = PulseScheme_A_100nano['Measurement file Path']), \"wb\") as k:\r\n",
    "    pickle.dump(sweeping_run_a_100nano, k)\r\n",
    "\r\n",
    "\r\n",
    "with open(r\"{dict}\\cycleB_71steps_93Hz_100nano_.p\".format(dict = PulseScheme_B_100nano['Measurement file Path']), \"wb\") as h:\r\n",
    "    pickle.dump(sweeping_run_b_100nano, h)"
   ],
   "outputs": [],
   "metadata": {}
  },
  {
   "cell_type": "code",
   "execution_count": 50,
   "source": [
    "AWG_Settings_100nano_empty= {\r\n",
    "    'Visa Resource Name': 'TCPIP0::ibn3-036.ibn-net.kfa-juelich.de::hislip0::INSTR',\r\n",
    "    'Voltage Amplitude':700,\r\n",
    "    'Clock Sample Frecuency':2999808000,\r\n",
    "    'Output_Channel': 1,\r\n",
    "    'Mode': 'STS',\r\n",
    "    'Trigger In Threshold' : 1,\r\n",
    "    'Output Rout': 'DC', #DAC output rout only has the BNC outputs: Direct Out and (Averaged) Direct Out # DC\r\n",
    "    'Data Directory': r'D:\\Alejandro\\Pulses\\diode measurements\\Prepared Pulse Schemes CSV\\50,20\\100nano\\empty B cycle'\r\n",
    "}"
   ],
   "outputs": [],
   "metadata": {}
=======
   "metadata": {},
   "outputs": [],
   "source": []
  },
  {
   "cell_type": "code",
   "execution_count": 33,
   "metadata": {},
   "outputs": [],
   "source": [
    "#Exporting pickle\n",
    "\n",
    "with open(r\"{dict}\\cycleA_71steps_93Hz_100nano_.p\".format(dict = PulseScheme_A_100nano['Measurement file Path']), \"wb\") as k:\n",
    "    pickle.dump(sweeping_run_a_100nano, k)\n",
    "\n",
    "\n",
    "with open(r\"{dict}\\cycleB_71steps_93Hz_100nano_.p\".format(dict = PulseScheme_B_100nano['Measurement file Path']), \"wb\") as h:\n",
    "    pickle.dump(sweeping_run_b_100nano, h)"
   ]
>>>>>>> Stashed changes
  },
  {
   "cell_type": "code",
   "execution_count": 51,
<<<<<<< Updated upstream
   "source": [
    "sweeping_run_b_100nano_empty = Sweeping_Single_List_File_teil(PulseScheme_B_100nano_empty,70,interval,sam,0,70,AWG_Settings_100nano_empty,'B')[0]"
   ],
   "outputs": [],
   "metadata": {}
=======
   "metadata": {},
   "outputs": [],
   "source": [
    "sweeping_run_b_100nano_empty = Sweeping_Single_List_File_teil(PulseScheme_B_100nano_empty,70,interval,sam,0,70,AWG_Settings_100nano_empty,'B')[0]"
   ]
>>>>>>> Stashed changes
  },
  {
   "cell_type": "code",
   "execution_count": 52,
<<<<<<< Updated upstream
   "source": [
    "#Exporting pickle\r\n",
    "\r\n",
    "with open(r\"{dict}\\cycleB_71steps_93Hz_100nano_empty.p\".format(dict = PulseScheme_B_100nano['Measurement file Path']), \"wb\") as h:\r\n",
    "    pickle.dump(sweeping_run_b_100nano_empty, h)"
   ],
   "outputs": [],
   "metadata": {}
=======
   "metadata": {},
   "outputs": [],
   "source": [
    "#Exporting pickle\n",
    "\n",
    "with open(r\"{dict}\\cycleB_71steps_93Hz_100nano_empty.p\".format(dict = PulseScheme_B_100nano['Measurement file Path']), \"wb\") as h:\n",
    "    pickle.dump(sweeping_run_b_100nano_empty, h)"
   ]
>>>>>>> Stashed changes
  },
  {
   "cell_type": "code",
   "execution_count": 17,
<<<<<<< Updated upstream
   "source": [
    "#Importing Pickle\r\n",
    "\r\n",
    "with open(r\"{dict}\\cycleA_71steps_93Hz_100nano_.p\".format(dict = PulseScheme_A_100nano['Measurement file Path']), \"rb\") as j:\r\n",
    "    sweeping_runa_100nano = pickle.load(j)\r\n",
    "\r\n",
    "with open(r\"{dict}\\cycleB_71steps_93Hz_100nano_.p\".format(dict = PulseScheme_A_100nano['Measurement file Path']), \"rb\") as f:\r\n",
    "    sweeping_runb_100nano= pickle.load(f)"
   ],
   "outputs": [],
   "metadata": {}
=======
   "metadata": {},
   "outputs": [],
   "source": [
    "#Importing Pickle\n",
    "\n",
    "with open(r\"{dict}\\cycleA_71steps_93Hz_100nano_.p\".format(dict = PulseScheme_A_100nano['Measurement file Path']), \"rb\") as j:\n",
    "    sweeping_runa_100nano = pickle.load(j)\n",
    "\n",
    "with open(r\"{dict}\\cycleB_71steps_93Hz_100nano_.p\".format(dict = PulseScheme_A_100nano['Measurement file Path']), \"rb\") as f:\n",
    "    sweeping_runb_100nano= pickle.load(f)"
   ]
>>>>>>> Stashed changes
  },
  {
   "cell_type": "code",
   "execution_count": null,
<<<<<<< Updated upstream
   "source": [
    "sweeping_runa_100nano['Pulse File Location, at step 30']"
   ],
   "outputs": [
    {
     "output_type": "display_data",
=======
   "metadata": {},
   "outputs": [
    {
>>>>>>> Stashed changes
     "data": {
      "text/plain": [
       "'D:\\\\Alejandro\\\\Pulses\\\\diode measurements\\\\Prepared Pulse Schemes CSV\\\\50,20\\\\100nano\\\\SegmentA_4128_30.csv'"
      ]
     },
<<<<<<< Updated upstream
     "metadata": {}
    }
   ],
   "metadata": {}
=======
     "metadata": {},
     "output_type": "display_data"
    }
   ],
   "source": [
    "sweeping_runa_100nano['Pulse File Location, at step 30']"
   ]
>>>>>>> Stashed changes
  },
  {
   "cell_type": "code",
   "execution_count": null,
<<<<<<< Updated upstream
   "source": [
    "sweeping_run_b_100nano['Pulse File Location, at step 30']"
   ],
   "outputs": [
    {
     "output_type": "display_data",
=======
   "metadata": {},
   "outputs": [
    {
>>>>>>> Stashed changes
     "data": {
      "text/plain": [
       "'D:\\\\Alejandro\\\\Pulses\\\\diode measurements\\\\Prepared Pulse Schemes CSV\\\\50,20\\\\1mili\\\\SegmentB_672816_30.csv'"
      ]
     },
<<<<<<< Updated upstream
     "metadata": {}
    }
   ],
   "metadata": {}
  },
  {
   "cell_type": "code",
   "execution_count": null,
   "source": [
    "loop_100nano"
   ],
   "outputs": [
    {
     "output_type": "display_data",
=======
     "metadata": {},
     "output_type": "display_data"
    }
   ],
   "source": [
    "sweeping_run_b_100nano['Pulse File Location, at step 30']"
   ]
  },
  {
   "cell_type": "code",
   "execution_count": 34,
   "metadata": {},
   "outputs": [
    {
>>>>>>> Stashed changes
     "data": {
      "text/plain": [
       "8000"
      ]
     },
<<<<<<< Updated upstream
     "metadata": {}
    }
   ],
   "metadata": {}
=======
     "execution_count": 34,
     "metadata": {},
     "output_type": "execute_result"
    }
   ],
   "source": [
    "loop_number"
   ]
>>>>>>> Stashed changes
  },
  {
   "cell_type": "code",
   "execution_count": 19,
<<<<<<< Updated upstream
   "source": [
    "Sequence_File(M8190A,sweeping_runa_100nano['Pulse File Location, at step 70'],sweeping_runb_100nano['Pulse File Location, at step 70'],8000)"
   ],
   "outputs": [
    {
     "output_type": "stream",
     "name": "stdout",
=======
   "metadata": {
    "scrolled": true
   },
   "outputs": [
    {
     "name": "stdout",
     "output_type": "stream",
>>>>>>> Stashed changes
     "text": [
      "Sequence loaded with the following segment data \"1,8000,0,1,0,2015,2,8000,0,1,0,2015\" and the advancement method is COND\n"
     ]
    },
    {
<<<<<<< Updated upstream
     "output_type": "execute_result",
=======
>>>>>>> Stashed changes
     "data": {
      "text/plain": [
       "2"
      ]
     },
<<<<<<< Updated upstream
     "metadata": {},
     "execution_count": 19
    }
   ],
   "metadata": {
    "scrolled": true
   }
=======
     "execution_count": 19,
     "metadata": {},
     "output_type": "execute_result"
    }
   ],
   "source": [
    "Sequence_File(M8190A,sweeping_runa_100nano['Pulse File Location, at step 70'],sweeping_runb_100nano['Pulse File Location, at step 70'],8000)"
   ]
>>>>>>> Stashed changes
  },
  {
   "cell_type": "code",
   "execution_count": null,
<<<<<<< Updated upstream
   "source": [],
   "outputs": [],
   "metadata": {}
  },
  {
   "cell_type": "markdown",
   "source": [
    "# Loading"
   ],
   "metadata": {}
  },
  {
   "cell_type": "code",
   "execution_count": 60,
   "source": [
    "M8190A.write('SEQ:DEL:ALL')"
   ],
   "outputs": [
    {
     "output_type": "execute_result",
=======
   "metadata": {},
   "outputs": [],
   "source": []
  },
  {
   "cell_type": "markdown",
   "metadata": {},
   "source": [
    "# Loading"
   ]
  },
  {
   "cell_type": "code",
   "execution_count": 65,
   "metadata": {
    "scrolled": true
   },
   "outputs": [
    {
>>>>>>> Stashed changes
     "data": {
      "text/plain": [
       "12"
      ]
     },
<<<<<<< Updated upstream
     "metadata": {},
     "execution_count": 60
    }
   ],
   "metadata": {
    "scrolled": true
   }
=======
     "execution_count": 65,
     "metadata": {},
     "output_type": "execute_result"
    }
   ],
   "source": [
    "M8190A.write('SEQ:DEL:ALL')"
   ]
>>>>>>> Stashed changes
  },
  {
   "cell_type": "code",
   "execution_count": null,
<<<<<<< Updated upstream
   "source": [
    "Dummy_File(M8190A)"
   ],
   "outputs": [
    {
     "output_type": "stream",
     "name": "stdout",
=======
   "metadata": {
    "scrolled": false
   },
   "outputs": [
    {
     "name": "stdout",
     "output_type": "stream",
>>>>>>> Stashed changes
     "text": [
      "Dummy File Loaded and playing\n",
      "Dummy File stopped and erased from AWGs memmory\n"
     ]
    }
   ],
<<<<<<< Updated upstream
   "metadata": {
    "scrolled": false
   }
  },
  {
   "cell_type": "code",
   "execution_count": 61,
   "source": [
    "Lock_In_Settings = {\r\n",
    "'Time Constant' : '100ms',\r\n",
    "'Sensitivity' : '200 microVolts',\r\n",
    "'Reserve' : 'Normal',\r\n",
    "'db' : 24,\r\n",
    "'Modulation': '93Hz'\r\n",
    "}"
   ],
   "outputs": [],
   "metadata": {}
  },
  {
   "cell_type": "code",
   "execution_count": 54,
   "source": [
    "loop_number"
   ],
   "outputs": [
    {
     "output_type": "execute_result",
     "data": {
      "text/plain": [
       "8000"
      ]
     },
     "metadata": {},
     "execution_count": 54
    }
   ],
   "metadata": {}
  },
  {
   "cell_type": "code",
   "execution_count": 62,
   "source": [
    "playingtime = 10\r\n",
    "\r\n",
    "Diode_Signal, averaged_data = Voltage_Autocorrelation_loop(M8190A,DAQ_Settings1,playingtime,sweeping_run_a_100nano,sweeping_run_b_100nano,PulseScheme_A_100nano['Measurement file Path'],Lock_In_Settings,loop_number)"
   ],
   "outputs": [
    {
     "output_type": "stream",
     "name": "stdout",
     "text": [
      "Sequence loaded with the following segment data \"1,8000,0,1,0,2015,2,8000,0,1,0,2015\" and the advancement method is COND\n",
      "Average Value for measurement at step 0 is 0.48601490907003736 V\n",
      "Sequence loaded with the following segment data \"1,8000,0,1,0,2015,2,8000,0,1,0,2015\" and the advancement method is COND\n",
      "Average Value for measurement at step 1 is 0.48603285637955973 V\n",
      "Sequence loaded with the following segment data \"1,8000,0,1,0,2015,2,8000,0,1,0,2015\" and the advancement method is COND\n",
      "Average Value for measurement at step 2 is 0.4834206301817406 V\n",
      "Sequence loaded with the following segment data \"1,8000,0,1,0,2015,2,8000,0,1,0,2015\" and the advancement method is COND\n",
      "Average Value for measurement at step 3 is 0.4860271245163101 V\n",
      "Sequence loaded with the following segment data \"1,8000,0,1,0,2015,2,8000,0,1,0,2015\" and the advancement method is COND\n",
      "Average Value for measurement at step 4 is 0.48605160239133277 V\n",
      "Sequence loaded with the following segment data \"1,8000,0,1,0,2015,2,8000,0,1,0,2015\" and the advancement method is COND\n",
      "Average Value for measurement at step 5 is 0.48605733425458353 V\n",
      "Sequence loaded with the following segment data \"1,8000,0,1,0,2015,2,8000,0,1,0,2015\" and the advancement method is COND\n",
      "Average Value for measurement at step 6 is 0.48602374177734337 V\n",
      "Sequence loaded with the following segment data \"1,8000,0,1,0,2015,2,8000,0,1,0,2015\" and the advancement method is COND\n",
      "Average Value for measurement at step 7 is 0.48600612334522314 V\n",
      "Sequence loaded with the following segment data \"1,8000,0,1,0,2015,2,8000,0,1,0,2015\" and the advancement method is COND\n",
      "Average Value for measurement at step 8 is 0.48601246598078224 V\n",
      "Sequence loaded with the following segment data \"1,8000,0,1,0,2015,2,8000,0,1,0,2015\" and the advancement method is COND\n",
      "Average Value for measurement at step 9 is 0.4834192676896593 V\n",
      "Sequence loaded with the following segment data \"1,8000,0,1,0,2015,2,8000,0,1,0,2015\" and the advancement method is COND\n",
      "Average Value for measurement at step 10 is 0.4834167306354436 V\n",
      "Sequence loaded with the following segment data \"1,8000,0,1,0,2015,2,8000,0,1,0,2015\" and the advancement method is COND\n",
      "Average Value for measurement at step 11 is 0.486032057677303 V\n",
      "Sequence loaded with the following segment data \"1,8000,0,1,0,2015,2,8000,0,1,0,2015\" and the advancement method is COND\n",
      "Average Value for measurement at step 12 is 0.4860220034253719 V\n",
      "Sequence loaded with the following segment data \"1,8000,0,1,0,2015,2,8000,0,1,0,2015\" and the advancement method is COND\n",
      "Average Value for measurement at step 13 is 0.48384154626938836 V\n",
      "Sequence loaded with the following segment data \"1,8000,0,1,0,2015,2,8000,0,1,0,2015\" and the advancement method is COND\n",
      "Average Value for measurement at step 14 is 0.4834292279765866 V\n",
      "Sequence loaded with the following segment data \"1,8000,0,1,0,2015,2,8000,0,1,0,2015\" and the advancement method is COND\n",
      "Average Value for measurement at step 15 is 0.48343961110587846 V\n",
      "Sequence loaded with the following segment data \"1,8000,0,1,0,2015,2,8000,0,1,0,2015\" and the advancement method is COND\n",
      "Average Value for measurement at step 16 is 0.4834428059148914 V\n",
      "Sequence loaded with the following segment data \"1,8000,0,1,0,2015,2,8000,0,1,0,2015\" and the advancement method is COND\n",
      "Average Value for measurement at step 17 is 0.4832637556628194 V\n",
      "Sequence loaded with the following segment data \"1,8000,0,1,0,2015,2,8000,0,1,0,2015\" and the advancement method is COND\n",
      "Average Value for measurement at step 18 is 0.4720502580051365 V\n",
      "Sequence loaded with the following segment data \"1,8000,0,1,0,2015,2,8000,0,1,0,2015\" and the advancement method is COND\n",
      "Average Value for measurement at step 19 is 0.4497088182843286 V\n",
      "Sequence loaded with the following segment data \"1,8000,0,1,0,2015,2,8000,0,1,0,2015\" and the advancement method is COND\n",
      "Average Value for measurement at step 20 is 0.4275805857133399 V\n",
      "Sequence loaded with the following segment data \"1,8000,0,1,0,2015,2,8000,0,1,0,2015\" and the advancement method is COND\n",
      "Average Value for measurement at step 21 is 0.4025652333506167 V\n",
      "Sequence loaded with the following segment data \"1,8000,0,1,0,2015,2,8000,0,1,0,2015\" and the advancement method is COND\n",
      "Average Value for measurement at step 22 is 0.37994288737671755 V\n",
      "Sequence loaded with the following segment data \"1,8000,0,1,0,2015,2,8000,0,1,0,2015\" and the advancement method is COND\n",
      "Average Value for measurement at step 23 is 0.35779318577435515 V\n",
      "Sequence loaded with the following segment data \"1,8000,0,1,0,2015,2,8000,0,1,0,2015\" and the advancement method is COND\n",
      "Average Value for measurement at step 24 is 0.3296115925585216 V\n",
      "Sequence loaded with the following segment data \"1,8000,0,1,0,2015,2,8000,0,1,0,2015\" and the advancement method is COND\n",
      "Average Value for measurement at step 25 is 0.3066694389312435 V\n",
      "Sequence loaded with the following segment data \"1,8000,0,1,0,2015,2,8000,0,1,0,2015\" and the advancement method is COND\n",
      "Average Value for measurement at step 26 is 0.2817868628027777 V\n",
      "Sequence loaded with the following segment data \"1,8000,0,1,0,2015,2,8000,0,1,0,2015\" and the advancement method is COND\n",
      "Average Value for measurement at step 27 is 0.25700064847146675 V\n",
      "Sequence loaded with the following segment data \"1,8000,0,1,0,2015,2,8000,0,1,0,2015\" and the advancement method is COND\n",
      "Average Value for measurement at step 28 is 0.22969114731843637 V\n",
      "Sequence loaded with the following segment data \"1,8000,0,1,0,2015,2,8000,0,1,0,2015\" and the advancement method is COND\n",
      "Average Value for measurement at step 29 is 0.20410754805014 V\n",
      "Sequence loaded with the following segment data \"1,8000,0,1,0,2015,2,8000,0,1,0,2015\" and the advancement method is COND\n",
      "Average Value for measurement at step 30 is 0.17602077064385663 V\n",
      "Sequence loaded with the following segment data \"1,8000,0,1,0,2015,2,8000,0,1,0,2015\" and the advancement method is COND\n",
      "Average Value for measurement at step 31 is 0.15117879119673938 V\n",
      "Sequence loaded with the following segment data \"1,8000,0,1,0,2015,2,8000,0,1,0,2015\" and the advancement method is COND\n",
      "Average Value for measurement at step 32 is 0.12006512321358578 V\n",
      "Sequence loaded with the following segment data \"1,8000,0,1,0,2015,2,8000,0,1,0,2015\" and the advancement method is COND\n",
      "Average Value for measurement at step 33 is 0.09236055082674066 V\n",
      "Sequence loaded with the following segment data \"1,8000,0,1,0,2015,2,8000,0,1,0,2015\" and the advancement method is COND\n",
      "Average Value for measurement at step 34 is 0.06420809548047317 V\n",
      "Sequence loaded with the following segment data \"1,8000,0,1,0,2015,2,8000,0,1,0,2015\" and the advancement method is COND\n",
      "Average Value for measurement at step 35 is 0.03691997732344638 V\n",
      "Sequence loaded with the following segment data \"1,8000,0,1,0,2015,2,8000,0,1,0,2015\" and the advancement method is COND\n",
      "Average Value for measurement at step 36 is 0.06152816887974391 V\n",
      "Sequence loaded with the following segment data \"1,8000,0,1,0,2015,2,8000,0,1,0,2015\" and the advancement method is COND\n",
      "Average Value for measurement at step 37 is 0.08672500437470057 V\n",
      "Sequence loaded with the following segment data \"1,8000,0,1,0,2015,2,8000,0,1,0,2015\" and the advancement method is COND\n",
      "Average Value for measurement at step 38 is 0.11444432908171627 V\n",
      "Sequence loaded with the following segment data \"1,8000,0,1,0,2015,2,8000,0,1,0,2015\" and the advancement method is COND\n",
      "Average Value for measurement at step 39 is 0.1394362285420035 V\n",
      "Sequence loaded with the following segment data \"1,8000,0,1,0,2015,2,8000,0,1,0,2015\" and the advancement method is COND\n",
      "Average Value for measurement at step 40 is 0.1649051416972316 V\n",
      "Sequence loaded with the following segment data \"1,8000,0,1,0,2015,2,8000,0,1,0,2015\" and the advancement method is COND\n",
      "Average Value for measurement at step 41 is 0.19249023994310852 V\n",
      "Sequence loaded with the following segment data \"1,8000,0,1,0,2015,2,8000,0,1,0,2015\" and the advancement method is COND\n",
      "Average Value for measurement at step 42 is 0.21784583293707807 V\n",
      "Sequence loaded with the following segment data \"1,8000,0,1,0,2015,2,8000,0,1,0,2015\" and the advancement method is COND\n",
      "Average Value for measurement at step 43 is 0.24334509908238774 V\n",
      "Sequence loaded with the following segment data \"1,8000,0,1,0,2015,2,8000,0,1,0,2015\" and the advancement method is COND\n",
      "Average Value for measurement at step 44 is 0.2654276126515498 V\n",
      "Sequence loaded with the following segment data \"1,8000,0,1,0,2015,2,8000,0,1,0,2015\" and the advancement method is COND\n",
      "Average Value for measurement at step 45 is 0.2903206183973586 V\n",
      "Sequence loaded with the following segment data \"1,8000,0,1,0,2015,2,8000,0,1,0,2015\" and the advancement method is COND\n",
      "Average Value for measurement at step 46 is 0.31310913887228475 V\n",
      "Sequence loaded with the following segment data \"1,8000,0,1,0,2015,2,8000,0,1,0,2015\" and the advancement method is COND\n",
      "Average Value for measurement at step 47 is 0.3351703712436565 V\n",
      "Sequence loaded with the following segment data \"1,8000,0,1,0,2015,2,8000,0,1,0,2015\" and the advancement method is COND\n",
      "Average Value for measurement at step 48 is 0.36026709513666494 V\n",
      "Sequence loaded with the following segment data \"1,8000,0,1,0,2015,2,8000,0,1,0,2015\" and the advancement method is COND\n",
      "Average Value for measurement at step 49 is 0.3823523838283715 V\n",
      "Sequence loaded with the following segment data \"1,8000,0,1,0,2015,2,8000,0,1,0,2015\" and the advancement method is COND\n",
      "Average Value for measurement at step 50 is 0.40466920279910396 V\n",
      "Sequence loaded with the following segment data \"1,8000,0,1,0,2015,2,8000,0,1,0,2015\" and the advancement method is COND\n",
      "Average Value for measurement at step 51 is 0.42477061044722597 V\n",
      "Sequence loaded with the following segment data \"1,8000,0,1,0,2015,2,8000,0,1,0,2015\" and the advancement method is COND\n",
      "Average Value for measurement at step 52 is 0.4464302866327523 V\n",
      "Sequence loaded with the following segment data \"1,8000,0,1,0,2015,2,8000,0,1,0,2015\" and the advancement method is COND\n",
      "Average Value for measurement at step 53 is 0.457984406924599 V\n",
      "Sequence loaded with the following segment data \"1,8000,0,1,0,2015,2,8000,0,1,0,2015\" and the advancement method is COND\n",
      "Average Value for measurement at step 54 is 0.4608053292299478 V\n",
      "Sequence loaded with the following segment data \"1,8000,0,1,0,2015,2,8000,0,1,0,2015\" and the advancement method is COND\n",
      "Average Value for measurement at step 55 is 0.46085564747044516 V\n",
      "Sequence loaded with the following segment data \"1,8000,0,1,0,2015,2,8000,0,1,0,2015\" and the advancement method is COND\n",
      "Average Value for measurement at step 56 is 0.46618534048600146 V\n",
      "Sequence loaded with the following segment data \"1,8000,0,1,0,2015,2,8000,0,1,0,2015\" and the advancement method is COND\n",
      "Average Value for measurement at step 57 is 0.4666744751315668 V\n",
      "Sequence loaded with the following segment data \"1,8000,0,1,0,2015,2,8000,0,1,0,2015\" and the advancement method is COND\n",
      "Average Value for measurement at step 58 is 0.468855871888279 V\n",
      "Sequence loaded with the following segment data \"1,8000,0,1,0,2015,2,8000,0,1,0,2015\" and the advancement method is COND\n",
      "Average Value for measurement at step 59 is 0.4697507472729115 V\n",
      "Sequence loaded with the following segment data \"1,8000,0,1,0,2015,2,8000,0,1,0,2015\" and the advancement method is COND\n",
      "Average Value for measurement at step 60 is 0.46978739361093763 V\n",
      "Sequence loaded with the following segment data \"1,8000,0,1,0,2015,2,8000,0,1,0,2015\" and the advancement method is COND\n",
      "Average Value for measurement at step 61 is 0.471921666944266 V\n",
      "Sequence loaded with the following segment data \"1,8000,0,1,0,2015,2,8000,0,1,0,2015\" and the advancement method is COND\n",
      "Average Value for measurement at step 62 is 0.4719345401450976 V\n",
      "Sequence loaded with the following segment data \"1,8000,0,1,0,2015,2,8000,0,1,0,2015\" and the advancement method is COND\n",
      "Average Value for measurement at step 63 is 0.4724048348179432 V\n",
      "Sequence loaded with the following segment data \"1,8000,0,1,0,2015,2,8000,0,1,0,2015\" and the advancement method is COND\n",
      "Average Value for measurement at step 64 is 0.47457223081045075 V\n",
      "Sequence loaded with the following segment data \"1,8000,0,1,0,2015,2,8000,0,1,0,2015\" and the advancement method is COND\n",
      "Average Value for measurement at step 65 is 0.47456898901899136 V\n",
      "Sequence loaded with the following segment data \"1,8000,0,1,0,2015,2,8000,0,1,0,2015\" and the advancement method is COND\n",
      "Average Value for measurement at step 66 is 0.4745647136128589 V\n",
      "Sequence loaded with the following segment data \"1,8000,0,1,0,2015,2,8000,0,1,0,2015\" and the advancement method is COND\n",
      "Average Value for measurement at step 67 is 0.4754685626587998 V\n",
      "Sequence loaded with the following segment data \"1,8000,0,1,0,2015,2,8000,0,1,0,2015\" and the advancement method is COND\n",
      "Average Value for measurement at step 68 is 0.4777761074131692 V\n",
      "Sequence loaded with the following segment data \"1,8000,0,1,0,2015,2,8000,0,1,0,2015\" and the advancement method is COND\n",
      "Average Value for measurement at step 69 is 0.47551361886191906 V\n",
      "Sequence loaded with the following segment data \"1,8000,0,1,0,2015,2,8000,0,1,0,2015\" and the advancement method is COND\n",
      "Average Value for measurement at step 70 is 0.4777374878103816 V\n"
     ]
    }
   ],
   "metadata": {}
  },
  {
   "cell_type": "code",
   "execution_count": 63,
   "source": [
    "fig,ax= plt.subplots()\r\n",
    "ax.grid(True)\r\n",
    "for i in range(0,len(Diode_Signal)):\r\n",
    "    plt.plot(Diode_Signal[i][1],Diode_Signal[i][0],label= 'Step {st}'.format(st = i ))\r\n",
    "\r\n",
    "ax.set_ylabel(r'V  [V]')\r\n",
    "ax.set_xlabel('t  [s]')\r\n",
    "ax.set_title(r' Diode Signal at Different Steps,  {b} Samples, 100ns probe duration'.format(b = len(Diode_Signal[0][1]) ))\r\n",
    "#ax.legend(bbox_to_anchor=(1.05, 1), loc='upper left', borderaxespad=0.)\r\n",
    "#ax.legend(loc=0)\r\n",
    "plt.show()\r\n",
    "\r\n",
    "fig.savefig(r'{loc}\\Diode Signal time cstant = {a}, sensitivity {b},{c} daqseconds, , probe duration 100 nano,71 steps, 93 Hz no legend, .jpeg'.format(loc = PulseScheme_A_100nano['Measurement file Path'],a = Lock_In_Settings['Time Constant'], b = Lock_In_Settings['Sensitivity'], c = playingtime),bbox_inches='tight')"
   ],
   "outputs": [
    {
     "output_type": "display_data",
     "data": {
      "image/png": "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",
=======
   "source": [
    "Dummy_File(M8190A)"
   ]
  },
  {
   "cell_type": "code",
   "execution_count": 66,
   "metadata": {},
   "outputs": [],
   "source": [
    "Lock_In_Settings = {\n",
    "'Time Constant' : '100ms',\n",
    "'Sensitivity' : '20 miliVolts',\n",
    "'Reserve' : 'Normal',\n",
    "'db' : 24,\n",
    "'Modulation': '93Hz'\n",
    "}"
   ]
  },
  {
   "cell_type": "code",
   "execution_count": 67,
   "metadata": {},
   "outputs": [
    {
     "data": {
      "text/plain": [
       "7000"
      ]
     },
     "execution_count": 67,
     "metadata": {},
     "output_type": "execute_result"
    }
   ],
   "source": [
    "loop_number"
   ]
  },
  {
   "cell_type": "code",
   "execution_count": 68,
   "metadata": {},
   "outputs": [
    {
     "name": "stdout",
     "output_type": "stream",
     "text": [
      "Sequence loaded with the following segment data \"1,7000,0,1,0,2303,2,7000,0,1,0,2303\" and the advancement method is COND\n",
      "Average Value for measurement at step 0 is 4.267701608320675 V\n",
      "Sequence loaded with the following segment data \"1,7000,0,1,0,2303,2,7000,0,1,0,2303\" and the advancement method is COND\n",
      "Average Value for measurement at step 1 is 4.258468341830987 V\n",
      "Sequence loaded with the following segment data \"1,7000,0,1,0,2303,2,7000,0,1,0,2303\" and the advancement method is COND\n",
      "Average Value for measurement at step 2 is 4.267724676922558 V\n",
      "Sequence loaded with the following segment data \"1,7000,0,1,0,2303,2,7000,0,1,0,2303\" and the advancement method is COND\n",
      "Average Value for measurement at step 3 is 4.2584821078190735 V\n",
      "Sequence loaded with the following segment data \"1,7000,0,1,0,2303,2,7000,0,1,0,2303\" and the advancement method is COND\n",
      "Average Value for measurement at step 4 is 4.24276947788554 V\n",
      "Sequence loaded with the following segment data \"1,7000,0,1,0,2303,2,7000,0,1,0,2303\" and the advancement method is COND\n",
      "Average Value for measurement at step 5 is 4.23172478681298 V\n",
      "Sequence loaded with the following segment data \"1,7000,0,1,0,2303,2,7000,0,1,0,2303\" and the advancement method is COND\n",
      "Average Value for measurement at step 6 is 4.213857945876758 V\n",
      "Sequence loaded with the following segment data \"1,7000,0,1,0,2303,2,7000,0,1,0,2303\" and the advancement method is COND\n",
      "Average Value for measurement at step 7 is 4.189863128385373 V\n",
      "Sequence loaded with the following segment data \"1,7000,0,1,0,2303,2,7000,0,1,0,2303\" and the advancement method is COND\n",
      "Average Value for measurement at step 8 is 4.1619464168647085 V\n",
      "Sequence loaded with the following segment data \"1,7000,0,1,0,2303,2,7000,0,1,0,2303\" and the advancement method is COND\n",
      "Average Value for measurement at step 9 is 4.125657030725404 V\n",
      "Sequence loaded with the following segment data \"1,7000,0,1,0,2303,2,7000,0,1,0,2303\" and the advancement method is COND\n",
      "Average Value for measurement at step 10 is 4.055391002625895 V\n",
      "Sequence loaded with the following segment data \"1,7000,0,1,0,2303,2,7000,0,1,0,2303\" and the advancement method is COND\n",
      "Average Value for measurement at step 11 is 3.3948828525650003 V\n",
      "Sequence loaded with the following segment data \"1,7000,0,1,0,2303,2,7000,0,1,0,2303\" and the advancement method is COND\n",
      "Average Value for measurement at step 12 is 2.680256825080005 V\n",
      "Sequence loaded with the following segment data \"1,7000,0,1,0,2303,2,7000,0,1,0,2303\" and the advancement method is COND\n",
      "Average Value for measurement at step 13 is 1.9375827867386974 V\n",
      "Sequence loaded with the following segment data \"1,7000,0,1,0,2303,2,7000,0,1,0,2303\" and the advancement method is COND\n",
      "Average Value for measurement at step 14 is 1.1519023177338474 V\n",
      "Sequence loaded with the following segment data \"1,7000,0,1,0,2303,2,7000,0,1,0,2303\" and the advancement method is COND\n",
      "Average Value for measurement at step 15 is 0.3568753830682903 V\n",
      "Sequence loaded with the following segment data \"1,7000,0,1,0,2303,2,7000,0,1,0,2303\" and the advancement method is COND\n",
      "Average Value for measurement at step 16 is 1.2143606174535715 V\n",
      "Sequence loaded with the following segment data \"1,7000,0,1,0,2303,2,7000,0,1,0,2303\" and the advancement method is COND\n",
      "Average Value for measurement at step 17 is 2.035159269960738 V\n",
      "Sequence loaded with the following segment data \"1,7000,0,1,0,2303,2,7000,0,1,0,2303\" and the advancement method is COND\n",
      "Average Value for measurement at step 18 is 2.8210187462249774 V\n",
      "Sequence loaded with the following segment data \"1,7000,0,1,0,2303,2,7000,0,1,0,2303\" and the advancement method is COND\n",
      "Average Value for measurement at step 19 is 3.569760470927675 V\n",
      "Sequence loaded with the following segment data \"1,7000,0,1,0,2303,2,7000,0,1,0,2303\" and the advancement method is COND\n",
      "Average Value for measurement at step 20 is 4.2859703441418615 V\n",
      "Sequence loaded with the following segment data \"1,7000,0,1,0,2303,2,7000,0,1,0,2303\" and the advancement method is COND\n",
      "Average Value for measurement at step 21 is 4.294789645138798 V\n",
      "Sequence loaded with the following segment data \"1,7000,0,1,0,2303,2,7000,0,1,0,2303\" and the advancement method is COND\n",
      "Average Value for measurement at step 22 is 4.301726200589007 V\n",
      "Sequence loaded with the following segment data \"1,7000,0,1,0,2303,2,7000,0,1,0,2303\" and the advancement method is COND\n",
      "Average Value for measurement at step 23 is 4.304009099765906 V\n",
      "Sequence loaded with the following segment data \"1,7000,0,1,0,2303,2,7000,0,1,0,2303\" and the advancement method is COND\n",
      "Average Value for measurement at step 24 is 4.30398842728923 V\n",
      "Sequence loaded with the following segment data \"1,7000,0,1,0,2303,2,7000,0,1,0,2303\" and the advancement method is COND\n",
      "Average Value for measurement at step 25 is 4.307523514791366 V\n",
      "Sequence loaded with the following segment data \"1,7000,0,1,0,2303,2,7000,0,1,0,2303\" and the advancement method is COND\n",
      "Average Value for measurement at step 26 is 4.310730238820248 V\n",
      "Sequence loaded with the following segment data \"1,7000,0,1,0,2303,2,7000,0,1,0,2303\" and the advancement method is COND\n",
      "Average Value for measurement at step 27 is 4.310720654308117 V\n",
      "Sequence loaded with the following segment data \"1,7000,0,1,0,2303,2,7000,0,1,0,2303\" and the advancement method is COND\n",
      "Average Value for measurement at step 28 is 4.31071074091569 V\n",
      "Sequence loaded with the following segment data \"1,7000,0,1,0,2303,2,7000,0,1,0,2303\" and the advancement method is COND\n",
      "Average Value for measurement at step 29 is 4.310133415009752 V\n",
      "Sequence loaded with the following segment data \"1,7000,0,1,0,2303,2,7000,0,1,0,2303\" and the advancement method is COND\n",
      "Average Value for measurement at step 30 is 4.294765495928151 V\n"
     ]
    }
   ],
   "source": [
    "playingtime = 10\n",
    "\n",
    "Diode_Signal, averaged_data = Voltage_Autocorrelation_loop(M8190A,DAQ_Settings1,playingtime,sweeping_run_a_100nano,sweeping_run_b_100nano,PulseScheme_A_100nano['Measurement file Path'],Lock_In_Settings,loop_number)"
   ]
  },
  {
   "cell_type": "code",
   "execution_count": 69,
   "metadata": {},
   "outputs": [
    {
     "data": {
      "image/png": "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",
>>>>>>> Stashed changes
      "text/plain": [
       "<Figure size 432x288 with 1 Axes>"
      ]
     },
     "metadata": {
      "needs_background": "light"
<<<<<<< Updated upstream
     }
    }
   ],
   "metadata": {}
  },
  {
   "cell_type": "code",
   "execution_count": 58,
   "source": [
    "time_delay = np.linspace(-200,200,71)"
   ],
   "outputs": [],
   "metadata": {}
=======
     },
     "output_type": "display_data"
    }
   ],
   "source": [
    "fig,ax= plt.subplots()\n",
    "ax.grid(True)\n",
    "for i in range(0,len(Diode_Signal)):\n",
    "    plt.plot(Diode_Signal[i][1],Diode_Signal[i][0],label= 'Step {st}'.format(st = i ))\n",
    "\n",
    "ax.set_ylabel(r'V  [V]')\n",
    "ax.set_xlabel('t  [s]')\n",
    "ax.set_title(r' Diode Signal at Different Steps,  {b} Samples, 100ns probe duration'.format(b = len(Diode_Signal[0][1]) ))\n",
    "#ax.legend(bbox_to_anchor=(1.05, 1), loc='upper left', borderaxespad=0.)\n",
    "#ax.legend(loc=0)\n",
    "plt.show()\n",
    "\n",
    "fig.savefig(r'{loc}\\Diode Signal time cstant = {a}, sensitivity {b},{c} daqseconds, , probe duration 100 nano,71 steps, 93 Hz no legend, .jpeg'.format(loc = PulseScheme_A_100nano['Measurement file Path'],a = Lock_In_Settings['Time Constant'], b = Lock_In_Settings['Sensitivity'], c = playingtime),bbox_inches='tight')"
   ]
  },
  {
   "cell_type": "code",
   "execution_count": 72,
   "metadata": {},
   "outputs": [],
   "source": [
    "time_delay = np.linspace(-300,300,31)"
   ]
>>>>>>> Stashed changes
  },
  {
   "cell_type": "code",
   "execution_count": null,
<<<<<<< Updated upstream
   "source": [
    "%matplotlib widget"
   ],
   "outputs": [],
   "metadata": {}
=======
   "metadata": {},
   "outputs": [],
   "source": [
    "%matplotlib widget"
   ]
>>>>>>> Stashed changes
  },
  {
   "cell_type": "code",
   "execution_count": 41,
<<<<<<< Updated upstream
   "source": [
    "1/8e9"
   ],
   "outputs": [
    {
     "output_type": "execute_result",
=======
   "metadata": {},
   "outputs": [
    {
>>>>>>> Stashed changes
     "data": {
      "text/plain": [
       "1.25e-10"
      ]
     },
<<<<<<< Updated upstream
     "metadata": {},
     "execution_count": 41
    }
   ],
   "metadata": {}
  },
  {
   "cell_type": "code",
   "execution_count": 64,
   "source": [
    "#change this to V regime\r\n",
    "fig,axes = plt.subplots()\r\n",
    "\r\n",
    "axes.grid(True)\r\n",
    "\r\n",
    "plt.plot(time_delay,averaged_data,label=r'100 ns Probe Width ',color='grey')\r\n",
    "#plt.plot(tm,pul,label = '{a} samples'.format(a = len(pul)))\r\n",
    "\r\n",
    "axes.set_xlabel(r'time delay [ns]')\r\n",
    "axes.set_ylabel(r'Diode Signal [V]')\r\n",
    "axes.set_title('Auto-Correlation 71 steps ')\r\n",
    "\r\n",
    "axes.legend(loc = 0)\r\n",
    "plt.show()\r\n",
    "\r\n",
    "fig.savefig(r'{loc}\\Autocorrelation function 31 steps 100nano 93Hz length tc = {a}, sens {b}, {c}s DAQ empty cycle B.jpeg'.format(loc = PulseScheme_A_100nano['Measurement file Path'],a = Lock_In_Settings['Time Constant'], b = Lock_In_Settings['Sensitivity'], c = playingtime ))"
   ],
   "outputs": [
    {
     "output_type": "display_data",
     "data": {
      "image/png": "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",
=======
     "execution_count": 41,
     "metadata": {},
     "output_type": "execute_result"
    }
   ],
   "source": [
    "1/8e9"
   ]
  },
  {
   "cell_type": "code",
   "execution_count": 73,
   "metadata": {},
   "outputs": [
    {
     "data": {
      "image/png": "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",
>>>>>>> Stashed changes
      "text/plain": [
       "<Figure size 432x288 with 1 Axes>"
      ]
     },
     "metadata": {
      "needs_background": "light"
<<<<<<< Updated upstream
     }
    }
   ],
   "metadata": {}
  },
  {
   "cell_type": "code",
   "execution_count": null,
   "source": [
    "100,\r\n",
    "50,\r\n",
    "25\r\n",
    "10"
   ],
   "outputs": [],
   "metadata": {}
=======
     },
     "output_type": "display_data"
    }
   ],
   "source": [
    "fig,axes = plt.subplots()\n",
    "\n",
    "axes.grid(True)\n",
    "\n",
    "\n",
    "plt.plot(time_delay,averaged_data,'.-',label=r'100ns Pulse Width ',color='purple')\n",
    "\n",
    "\n",
    "axes.set_xlabel(r'time delay [ns]')\n",
    "axes.set_ylabel(r'Diode Signal [arb. units]')\n",
    "axes.set_title(r'Auto-Correlation {st} steps '.format(st = len (time_delay)))\n",
    "\n",
    "axes.legend(loc = 0)\n",
    "plt.show()\n",
    "\n",
    "\n",
    "fig.savefig(r'{loc}\\Autocorrelation function 31 steps 100nano 93Hz length tc = {a}, sens {b}, {c}s DAQ empty cycle B.jpeg'.format(loc = PulseScheme_A_100nano['Measurement file Path'],a = Lock_In_Settings['Time Constant'], b = Lock_In_Settings['Sensitivity'], c = playingtime ))"
   ]
  },
  {
   "cell_type": "code",
   "execution_count": 75,
   "metadata": {},
   "outputs": [],
   "source": [
    "flipped_100n = (averaged_data*-1)-np.amin(averaged_data*-1)\n",
    "max_100n = np.amax(flipped_100n)\n",
    "norm_100n = flipped_100n/max_100n\n",
    "np.savetxt(r'{loc}\\Normalized autocorrelation 100n.csv'.format(loc = PulseScheme_A_100nano['Measurement file Path']),norm_100n,delimiter=',')"
   ]
  },
  {
   "cell_type": "code",
   "execution_count": 76,
   "metadata": {},
   "outputs": [
    {
     "data": {
      "image/png": "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",
      "text/plain": [
       "<Figure size 432x288 with 1 Axes>"
      ]
     },
     "metadata": {
      "needs_background": "light"
     },
     "output_type": "display_data"
    }
   ],
   "source": [
    "fig,axes = plt.subplots()\n",
    "\n",
    "axes.grid(True)\n",
    "\n",
    "\n",
    "plt.plot(time_delay,norm_100n,'.-',label=r'100ns Pulse Width ',color='purple')\n",
    "\n",
    "\n",
    "axes.set_xlabel(r'time delay [ns]')\n",
    "axes.set_ylabel(r'Diode Signal [arb. units]')\n",
    "axes.set_title(r'Auto-Correlation {st} steps '.format(st = len (time_delay)))\n",
    "\n",
    "axes.legend(loc = 0)\n",
    "plt.show()\n",
    "\n",
    "fig.savefig(r'{loc}\\Autocorrelation 100n normalized.jpeg'.format(loc = PulseScheme_A_100nano['Measurement file Path']))"
   ]
>>>>>>> Stashed changes
  },
  {
   "cell_type": "code",
   "execution_count": 67,
<<<<<<< Updated upstream
   "source": [
    "import random"
   ],
   "outputs": [],
   "metadata": {}
=======
   "metadata": {},
   "outputs": [],
   "source": [
    "import random"
   ]
>>>>>>> Stashed changes
  },
  {
   "cell_type": "code",
   "execution_count": 65,
<<<<<<< Updated upstream
   "source": [
    "list_cycleA_100nano = list(sweeping_run_a_100nano.values())\r\n",
    "list_cycleA_100nano"
   ],
   "outputs": [
    {
     "output_type": "execute_result",
=======
   "metadata": {},
   "outputs": [
    {
>>>>>>> Stashed changes
     "data": {
      "text/plain": [
       "['D:\\\\Alejandro\\\\Pulses\\\\diode measurements\\\\Prepared Pulse Schemes CSV\\\\50,20\\\\100nano\\\\SegmentA_2016_0.csv',\n",
       " 'D:\\\\Alejandro\\\\Pulses\\\\diode measurements\\\\Prepared Pulse Schemes CSV\\\\50,20\\\\100nano\\\\SegmentA_2016_1.csv',\n",
       " 'D:\\\\Alejandro\\\\Pulses\\\\diode measurements\\\\Prepared Pulse Schemes CSV\\\\50,20\\\\100nano\\\\SegmentA_2016_2.csv',\n",
       " 'D:\\\\Alejandro\\\\Pulses\\\\diode measurements\\\\Prepared Pulse Schemes CSV\\\\50,20\\\\100nano\\\\SegmentA_2016_3.csv',\n",
       " 'D:\\\\Alejandro\\\\Pulses\\\\diode measurements\\\\Prepared Pulse Schemes CSV\\\\50,20\\\\100nano\\\\SegmentA_2016_4.csv',\n",
       " 'D:\\\\Alejandro\\\\Pulses\\\\diode measurements\\\\Prepared Pulse Schemes CSV\\\\50,20\\\\100nano\\\\SegmentA_2016_5.csv',\n",
       " 'D:\\\\Alejandro\\\\Pulses\\\\diode measurements\\\\Prepared Pulse Schemes CSV\\\\50,20\\\\100nano\\\\SegmentA_2016_6.csv',\n",
       " 'D:\\\\Alejandro\\\\Pulses\\\\diode measurements\\\\Prepared Pulse Schemes CSV\\\\50,20\\\\100nano\\\\SegmentA_2016_7.csv',\n",
       " 'D:\\\\Alejandro\\\\Pulses\\\\diode measurements\\\\Prepared Pulse Schemes CSV\\\\50,20\\\\100nano\\\\SegmentA_2016_8.csv',\n",
       " 'D:\\\\Alejandro\\\\Pulses\\\\diode measurements\\\\Prepared Pulse Schemes CSV\\\\50,20\\\\100nano\\\\SegmentA_2016_9.csv',\n",
       " 'D:\\\\Alejandro\\\\Pulses\\\\diode measurements\\\\Prepared Pulse Schemes CSV\\\\50,20\\\\100nano\\\\SegmentA_2016_10.csv',\n",
       " 'D:\\\\Alejandro\\\\Pulses\\\\diode measurements\\\\Prepared Pulse Schemes CSV\\\\50,20\\\\100nano\\\\SegmentA_2016_11.csv',\n",
       " 'D:\\\\Alejandro\\\\Pulses\\\\diode measurements\\\\Prepared Pulse Schemes CSV\\\\50,20\\\\100nano\\\\SegmentA_2016_12.csv',\n",
       " 'D:\\\\Alejandro\\\\Pulses\\\\diode measurements\\\\Prepared Pulse Schemes CSV\\\\50,20\\\\100nano\\\\SegmentA_2016_13.csv',\n",
       " 'D:\\\\Alejandro\\\\Pulses\\\\diode measurements\\\\Prepared Pulse Schemes CSV\\\\50,20\\\\100nano\\\\SegmentA_2016_14.csv',\n",
       " 'D:\\\\Alejandro\\\\Pulses\\\\diode measurements\\\\Prepared Pulse Schemes CSV\\\\50,20\\\\100nano\\\\SegmentA_2016_15.csv',\n",
       " 'D:\\\\Alejandro\\\\Pulses\\\\diode measurements\\\\Prepared Pulse Schemes CSV\\\\50,20\\\\100nano\\\\SegmentA_2016_16.csv',\n",
       " 'D:\\\\Alejandro\\\\Pulses\\\\diode measurements\\\\Prepared Pulse Schemes CSV\\\\50,20\\\\100nano\\\\SegmentA_2016_17.csv',\n",
       " 'D:\\\\Alejandro\\\\Pulses\\\\diode measurements\\\\Prepared Pulse Schemes CSV\\\\50,20\\\\100nano\\\\SegmentA_2016_18.csv',\n",
       " 'D:\\\\Alejandro\\\\Pulses\\\\diode measurements\\\\Prepared Pulse Schemes CSV\\\\50,20\\\\100nano\\\\SegmentA_2016_19.csv',\n",
       " 'D:\\\\Alejandro\\\\Pulses\\\\diode measurements\\\\Prepared Pulse Schemes CSV\\\\50,20\\\\100nano\\\\SegmentA_2016_20.csv',\n",
       " 'D:\\\\Alejandro\\\\Pulses\\\\diode measurements\\\\Prepared Pulse Schemes CSV\\\\50,20\\\\100nano\\\\SegmentA_2016_21.csv',\n",
       " 'D:\\\\Alejandro\\\\Pulses\\\\diode measurements\\\\Prepared Pulse Schemes CSV\\\\50,20\\\\100nano\\\\SegmentA_2016_22.csv',\n",
       " 'D:\\\\Alejandro\\\\Pulses\\\\diode measurements\\\\Prepared Pulse Schemes CSV\\\\50,20\\\\100nano\\\\SegmentA_2016_23.csv',\n",
       " 'D:\\\\Alejandro\\\\Pulses\\\\diode measurements\\\\Prepared Pulse Schemes CSV\\\\50,20\\\\100nano\\\\SegmentA_2016_24.csv',\n",
       " 'D:\\\\Alejandro\\\\Pulses\\\\diode measurements\\\\Prepared Pulse Schemes CSV\\\\50,20\\\\100nano\\\\SegmentA_2016_25.csv',\n",
       " 'D:\\\\Alejandro\\\\Pulses\\\\diode measurements\\\\Prepared Pulse Schemes CSV\\\\50,20\\\\100nano\\\\SegmentA_2016_26.csv',\n",
       " 'D:\\\\Alejandro\\\\Pulses\\\\diode measurements\\\\Prepared Pulse Schemes CSV\\\\50,20\\\\100nano\\\\SegmentA_2016_27.csv',\n",
       " 'D:\\\\Alejandro\\\\Pulses\\\\diode measurements\\\\Prepared Pulse Schemes CSV\\\\50,20\\\\100nano\\\\SegmentA_2016_28.csv',\n",
       " 'D:\\\\Alejandro\\\\Pulses\\\\diode measurements\\\\Prepared Pulse Schemes CSV\\\\50,20\\\\100nano\\\\SegmentA_2016_29.csv',\n",
       " 'D:\\\\Alejandro\\\\Pulses\\\\diode measurements\\\\Prepared Pulse Schemes CSV\\\\50,20\\\\100nano\\\\SegmentA_2016_30.csv',\n",
       " 'D:\\\\Alejandro\\\\Pulses\\\\diode measurements\\\\Prepared Pulse Schemes CSV\\\\50,20\\\\100nano\\\\SegmentA_2016_31.csv',\n",
       " 'D:\\\\Alejandro\\\\Pulses\\\\diode measurements\\\\Prepared Pulse Schemes CSV\\\\50,20\\\\100nano\\\\SegmentA_2016_32.csv',\n",
       " 'D:\\\\Alejandro\\\\Pulses\\\\diode measurements\\\\Prepared Pulse Schemes CSV\\\\50,20\\\\100nano\\\\SegmentA_2016_33.csv',\n",
       " 'D:\\\\Alejandro\\\\Pulses\\\\diode measurements\\\\Prepared Pulse Schemes CSV\\\\50,20\\\\100nano\\\\SegmentA_2016_34.csv',\n",
       " 'D:\\\\Alejandro\\\\Pulses\\\\diode measurements\\\\Prepared Pulse Schemes CSV\\\\50,20\\\\100nano\\\\SegmentA_2016_35.csv',\n",
       " 'D:\\\\Alejandro\\\\Pulses\\\\diode measurements\\\\Prepared Pulse Schemes CSV\\\\50,20\\\\100nano\\\\SegmentA_2016_36.csv',\n",
       " 'D:\\\\Alejandro\\\\Pulses\\\\diode measurements\\\\Prepared Pulse Schemes CSV\\\\50,20\\\\100nano\\\\SegmentA_2016_37.csv',\n",
       " 'D:\\\\Alejandro\\\\Pulses\\\\diode measurements\\\\Prepared Pulse Schemes CSV\\\\50,20\\\\100nano\\\\SegmentA_2016_38.csv',\n",
       " 'D:\\\\Alejandro\\\\Pulses\\\\diode measurements\\\\Prepared Pulse Schemes CSV\\\\50,20\\\\100nano\\\\SegmentA_2016_39.csv',\n",
       " 'D:\\\\Alejandro\\\\Pulses\\\\diode measurements\\\\Prepared Pulse Schemes CSV\\\\50,20\\\\100nano\\\\SegmentA_2016_40.csv',\n",
       " 'D:\\\\Alejandro\\\\Pulses\\\\diode measurements\\\\Prepared Pulse Schemes CSV\\\\50,20\\\\100nano\\\\SegmentA_2016_41.csv',\n",
       " 'D:\\\\Alejandro\\\\Pulses\\\\diode measurements\\\\Prepared Pulse Schemes CSV\\\\50,20\\\\100nano\\\\SegmentA_2016_42.csv',\n",
       " 'D:\\\\Alejandro\\\\Pulses\\\\diode measurements\\\\Prepared Pulse Schemes CSV\\\\50,20\\\\100nano\\\\SegmentA_2016_43.csv',\n",
       " 'D:\\\\Alejandro\\\\Pulses\\\\diode measurements\\\\Prepared Pulse Schemes CSV\\\\50,20\\\\100nano\\\\SegmentA_2016_44.csv',\n",
       " 'D:\\\\Alejandro\\\\Pulses\\\\diode measurements\\\\Prepared Pulse Schemes CSV\\\\50,20\\\\100nano\\\\SegmentA_2016_45.csv',\n",
       " 'D:\\\\Alejandro\\\\Pulses\\\\diode measurements\\\\Prepared Pulse Schemes CSV\\\\50,20\\\\100nano\\\\SegmentA_2016_46.csv',\n",
       " 'D:\\\\Alejandro\\\\Pulses\\\\diode measurements\\\\Prepared Pulse Schemes CSV\\\\50,20\\\\100nano\\\\SegmentA_2016_47.csv',\n",
       " 'D:\\\\Alejandro\\\\Pulses\\\\diode measurements\\\\Prepared Pulse Schemes CSV\\\\50,20\\\\100nano\\\\SegmentA_2016_48.csv',\n",
       " 'D:\\\\Alejandro\\\\Pulses\\\\diode measurements\\\\Prepared Pulse Schemes CSV\\\\50,20\\\\100nano\\\\SegmentA_2016_49.csv',\n",
       " 'D:\\\\Alejandro\\\\Pulses\\\\diode measurements\\\\Prepared Pulse Schemes CSV\\\\50,20\\\\100nano\\\\SegmentA_2016_50.csv',\n",
       " 'D:\\\\Alejandro\\\\Pulses\\\\diode measurements\\\\Prepared Pulse Schemes CSV\\\\50,20\\\\100nano\\\\SegmentA_2016_51.csv',\n",
       " 'D:\\\\Alejandro\\\\Pulses\\\\diode measurements\\\\Prepared Pulse Schemes CSV\\\\50,20\\\\100nano\\\\SegmentA_2016_52.csv',\n",
       " 'D:\\\\Alejandro\\\\Pulses\\\\diode measurements\\\\Prepared Pulse Schemes CSV\\\\50,20\\\\100nano\\\\SegmentA_2016_53.csv',\n",
       " 'D:\\\\Alejandro\\\\Pulses\\\\diode measurements\\\\Prepared Pulse Schemes CSV\\\\50,20\\\\100nano\\\\SegmentA_2016_54.csv',\n",
       " 'D:\\\\Alejandro\\\\Pulses\\\\diode measurements\\\\Prepared Pulse Schemes CSV\\\\50,20\\\\100nano\\\\SegmentA_2016_55.csv',\n",
       " 'D:\\\\Alejandro\\\\Pulses\\\\diode measurements\\\\Prepared Pulse Schemes CSV\\\\50,20\\\\100nano\\\\SegmentA_2016_56.csv',\n",
       " 'D:\\\\Alejandro\\\\Pulses\\\\diode measurements\\\\Prepared Pulse Schemes CSV\\\\50,20\\\\100nano\\\\SegmentA_2016_57.csv',\n",
       " 'D:\\\\Alejandro\\\\Pulses\\\\diode measurements\\\\Prepared Pulse Schemes CSV\\\\50,20\\\\100nano\\\\SegmentA_2016_58.csv',\n",
       " 'D:\\\\Alejandro\\\\Pulses\\\\diode measurements\\\\Prepared Pulse Schemes CSV\\\\50,20\\\\100nano\\\\SegmentA_2016_59.csv',\n",
       " 'D:\\\\Alejandro\\\\Pulses\\\\diode measurements\\\\Prepared Pulse Schemes CSV\\\\50,20\\\\100nano\\\\SegmentA_2016_60.csv',\n",
       " 'D:\\\\Alejandro\\\\Pulses\\\\diode measurements\\\\Prepared Pulse Schemes CSV\\\\50,20\\\\100nano\\\\SegmentA_2016_61.csv',\n",
       " 'D:\\\\Alejandro\\\\Pulses\\\\diode measurements\\\\Prepared Pulse Schemes CSV\\\\50,20\\\\100nano\\\\SegmentA_2016_62.csv',\n",
       " 'D:\\\\Alejandro\\\\Pulses\\\\diode measurements\\\\Prepared Pulse Schemes CSV\\\\50,20\\\\100nano\\\\SegmentA_2016_63.csv',\n",
       " 'D:\\\\Alejandro\\\\Pulses\\\\diode measurements\\\\Prepared Pulse Schemes CSV\\\\50,20\\\\100nano\\\\SegmentA_2016_64.csv',\n",
       " 'D:\\\\Alejandro\\\\Pulses\\\\diode measurements\\\\Prepared Pulse Schemes CSV\\\\50,20\\\\100nano\\\\SegmentA_2016_65.csv',\n",
       " 'D:\\\\Alejandro\\\\Pulses\\\\diode measurements\\\\Prepared Pulse Schemes CSV\\\\50,20\\\\100nano\\\\SegmentA_2016_66.csv',\n",
       " 'D:\\\\Alejandro\\\\Pulses\\\\diode measurements\\\\Prepared Pulse Schemes CSV\\\\50,20\\\\100nano\\\\SegmentA_2016_67.csv',\n",
       " 'D:\\\\Alejandro\\\\Pulses\\\\diode measurements\\\\Prepared Pulse Schemes CSV\\\\50,20\\\\100nano\\\\SegmentA_2016_68.csv',\n",
       " 'D:\\\\Alejandro\\\\Pulses\\\\diode measurements\\\\Prepared Pulse Schemes CSV\\\\50,20\\\\100nano\\\\SegmentA_2016_69.csv',\n",
       " 'D:\\\\Alejandro\\\\Pulses\\\\diode measurements\\\\Prepared Pulse Schemes CSV\\\\50,20\\\\100nano\\\\SegmentA_2016_70.csv']"
      ]
     },
<<<<<<< Updated upstream
     "metadata": {},
     "execution_count": 65
    }
   ],
   "metadata": {}
=======
     "execution_count": 65,
     "metadata": {},
     "output_type": "execute_result"
    }
   ],
   "source": [
    "list_cycleA_100nano = list(sweeping_run_a_100nano.values())\n",
    "list_cycleA_100nano"
   ]
>>>>>>> Stashed changes
  },
  {
   "cell_type": "code",
   "execution_count": null,
<<<<<<< Updated upstream
   "source": [
    "random.shuffle(list_cycleA_100nano)\r\n",
    "list_cycleA_100nano"
   ],
   "outputs": [],
   "metadata": {}
=======
   "metadata": {},
   "outputs": [],
   "source": [
    "random.shuffle(list_cycleA_100nano)\n",
    "list_cycleA_100nano"
   ]
>>>>>>> Stashed changes
  },
  {
   "cell_type": "code",
   "execution_count": 66,
<<<<<<< Updated upstream
   "source": [
    "list_cycleB_100nano = list(sweeping_run_b_100nano.values())\r\n",
    "list_cycleB_100nano"
   ],
   "outputs": [
    {
     "output_type": "execute_result",
=======
   "metadata": {},
   "outputs": [
    {
>>>>>>> Stashed changes
     "data": {
      "text/plain": [
       "['D:\\\\Alejandro\\\\Pulses\\\\diode measurements\\\\Prepared Pulse Schemes CSV\\\\50,20\\\\100nano\\\\SegmentB_2016_0.csv',\n",
       " 'D:\\\\Alejandro\\\\Pulses\\\\diode measurements\\\\Prepared Pulse Schemes CSV\\\\50,20\\\\100nano\\\\SegmentB_2016_1.csv',\n",
       " 'D:\\\\Alejandro\\\\Pulses\\\\diode measurements\\\\Prepared Pulse Schemes CSV\\\\50,20\\\\100nano\\\\SegmentB_2016_2.csv',\n",
       " 'D:\\\\Alejandro\\\\Pulses\\\\diode measurements\\\\Prepared Pulse Schemes CSV\\\\50,20\\\\100nano\\\\SegmentB_2016_3.csv',\n",
       " 'D:\\\\Alejandro\\\\Pulses\\\\diode measurements\\\\Prepared Pulse Schemes CSV\\\\50,20\\\\100nano\\\\SegmentB_2016_4.csv',\n",
       " 'D:\\\\Alejandro\\\\Pulses\\\\diode measurements\\\\Prepared Pulse Schemes CSV\\\\50,20\\\\100nano\\\\SegmentB_2016_5.csv',\n",
       " 'D:\\\\Alejandro\\\\Pulses\\\\diode measurements\\\\Prepared Pulse Schemes CSV\\\\50,20\\\\100nano\\\\SegmentB_2016_6.csv',\n",
       " 'D:\\\\Alejandro\\\\Pulses\\\\diode measurements\\\\Prepared Pulse Schemes CSV\\\\50,20\\\\100nano\\\\SegmentB_2016_7.csv',\n",
       " 'D:\\\\Alejandro\\\\Pulses\\\\diode measurements\\\\Prepared Pulse Schemes CSV\\\\50,20\\\\100nano\\\\SegmentB_2016_8.csv',\n",
       " 'D:\\\\Alejandro\\\\Pulses\\\\diode measurements\\\\Prepared Pulse Schemes CSV\\\\50,20\\\\100nano\\\\SegmentB_2016_9.csv',\n",
       " 'D:\\\\Alejandro\\\\Pulses\\\\diode measurements\\\\Prepared Pulse Schemes CSV\\\\50,20\\\\100nano\\\\SegmentB_2016_10.csv',\n",
       " 'D:\\\\Alejandro\\\\Pulses\\\\diode measurements\\\\Prepared Pulse Schemes CSV\\\\50,20\\\\100nano\\\\SegmentB_2016_11.csv',\n",
       " 'D:\\\\Alejandro\\\\Pulses\\\\diode measurements\\\\Prepared Pulse Schemes CSV\\\\50,20\\\\100nano\\\\SegmentB_2016_12.csv',\n",
       " 'D:\\\\Alejandro\\\\Pulses\\\\diode measurements\\\\Prepared Pulse Schemes CSV\\\\50,20\\\\100nano\\\\SegmentB_2016_13.csv',\n",
       " 'D:\\\\Alejandro\\\\Pulses\\\\diode measurements\\\\Prepared Pulse Schemes CSV\\\\50,20\\\\100nano\\\\SegmentB_2016_14.csv',\n",
       " 'D:\\\\Alejandro\\\\Pulses\\\\diode measurements\\\\Prepared Pulse Schemes CSV\\\\50,20\\\\100nano\\\\SegmentB_2016_15.csv',\n",
       " 'D:\\\\Alejandro\\\\Pulses\\\\diode measurements\\\\Prepared Pulse Schemes CSV\\\\50,20\\\\100nano\\\\SegmentB_2016_16.csv',\n",
       " 'D:\\\\Alejandro\\\\Pulses\\\\diode measurements\\\\Prepared Pulse Schemes CSV\\\\50,20\\\\100nano\\\\SegmentB_2016_17.csv',\n",
       " 'D:\\\\Alejandro\\\\Pulses\\\\diode measurements\\\\Prepared Pulse Schemes CSV\\\\50,20\\\\100nano\\\\SegmentB_2016_18.csv',\n",
       " 'D:\\\\Alejandro\\\\Pulses\\\\diode measurements\\\\Prepared Pulse Schemes CSV\\\\50,20\\\\100nano\\\\SegmentB_2016_19.csv',\n",
       " 'D:\\\\Alejandro\\\\Pulses\\\\diode measurements\\\\Prepared Pulse Schemes CSV\\\\50,20\\\\100nano\\\\SegmentB_2016_20.csv',\n",
       " 'D:\\\\Alejandro\\\\Pulses\\\\diode measurements\\\\Prepared Pulse Schemes CSV\\\\50,20\\\\100nano\\\\SegmentB_2016_21.csv',\n",
       " 'D:\\\\Alejandro\\\\Pulses\\\\diode measurements\\\\Prepared Pulse Schemes CSV\\\\50,20\\\\100nano\\\\SegmentB_2016_22.csv',\n",
       " 'D:\\\\Alejandro\\\\Pulses\\\\diode measurements\\\\Prepared Pulse Schemes CSV\\\\50,20\\\\100nano\\\\SegmentB_2016_23.csv',\n",
       " 'D:\\\\Alejandro\\\\Pulses\\\\diode measurements\\\\Prepared Pulse Schemes CSV\\\\50,20\\\\100nano\\\\SegmentB_2016_24.csv',\n",
       " 'D:\\\\Alejandro\\\\Pulses\\\\diode measurements\\\\Prepared Pulse Schemes CSV\\\\50,20\\\\100nano\\\\SegmentB_2016_25.csv',\n",
       " 'D:\\\\Alejandro\\\\Pulses\\\\diode measurements\\\\Prepared Pulse Schemes CSV\\\\50,20\\\\100nano\\\\SegmentB_2016_26.csv',\n",
       " 'D:\\\\Alejandro\\\\Pulses\\\\diode measurements\\\\Prepared Pulse Schemes CSV\\\\50,20\\\\100nano\\\\SegmentB_2016_27.csv',\n",
       " 'D:\\\\Alejandro\\\\Pulses\\\\diode measurements\\\\Prepared Pulse Schemes CSV\\\\50,20\\\\100nano\\\\SegmentB_2016_28.csv',\n",
       " 'D:\\\\Alejandro\\\\Pulses\\\\diode measurements\\\\Prepared Pulse Schemes CSV\\\\50,20\\\\100nano\\\\SegmentB_2016_29.csv',\n",
       " 'D:\\\\Alejandro\\\\Pulses\\\\diode measurements\\\\Prepared Pulse Schemes CSV\\\\50,20\\\\100nano\\\\SegmentB_2016_30.csv',\n",
       " 'D:\\\\Alejandro\\\\Pulses\\\\diode measurements\\\\Prepared Pulse Schemes CSV\\\\50,20\\\\100nano\\\\SegmentB_2016_31.csv',\n",
       " 'D:\\\\Alejandro\\\\Pulses\\\\diode measurements\\\\Prepared Pulse Schemes CSV\\\\50,20\\\\100nano\\\\SegmentB_2016_32.csv',\n",
       " 'D:\\\\Alejandro\\\\Pulses\\\\diode measurements\\\\Prepared Pulse Schemes CSV\\\\50,20\\\\100nano\\\\SegmentB_2016_33.csv',\n",
       " 'D:\\\\Alejandro\\\\Pulses\\\\diode measurements\\\\Prepared Pulse Schemes CSV\\\\50,20\\\\100nano\\\\SegmentB_2016_34.csv',\n",
       " 'D:\\\\Alejandro\\\\Pulses\\\\diode measurements\\\\Prepared Pulse Schemes CSV\\\\50,20\\\\100nano\\\\SegmentB_2016_35.csv',\n",
       " 'D:\\\\Alejandro\\\\Pulses\\\\diode measurements\\\\Prepared Pulse Schemes CSV\\\\50,20\\\\100nano\\\\SegmentB_2016_36.csv',\n",
       " 'D:\\\\Alejandro\\\\Pulses\\\\diode measurements\\\\Prepared Pulse Schemes CSV\\\\50,20\\\\100nano\\\\SegmentB_2016_37.csv',\n",
       " 'D:\\\\Alejandro\\\\Pulses\\\\diode measurements\\\\Prepared Pulse Schemes CSV\\\\50,20\\\\100nano\\\\SegmentB_2016_38.csv',\n",
       " 'D:\\\\Alejandro\\\\Pulses\\\\diode measurements\\\\Prepared Pulse Schemes CSV\\\\50,20\\\\100nano\\\\SegmentB_2016_39.csv',\n",
       " 'D:\\\\Alejandro\\\\Pulses\\\\diode measurements\\\\Prepared Pulse Schemes CSV\\\\50,20\\\\100nano\\\\SegmentB_2016_40.csv',\n",
       " 'D:\\\\Alejandro\\\\Pulses\\\\diode measurements\\\\Prepared Pulse Schemes CSV\\\\50,20\\\\100nano\\\\SegmentB_2016_41.csv',\n",
       " 'D:\\\\Alejandro\\\\Pulses\\\\diode measurements\\\\Prepared Pulse Schemes CSV\\\\50,20\\\\100nano\\\\SegmentB_2016_42.csv',\n",
       " 'D:\\\\Alejandro\\\\Pulses\\\\diode measurements\\\\Prepared Pulse Schemes CSV\\\\50,20\\\\100nano\\\\SegmentB_2016_43.csv',\n",
       " 'D:\\\\Alejandro\\\\Pulses\\\\diode measurements\\\\Prepared Pulse Schemes CSV\\\\50,20\\\\100nano\\\\SegmentB_2016_44.csv',\n",
       " 'D:\\\\Alejandro\\\\Pulses\\\\diode measurements\\\\Prepared Pulse Schemes CSV\\\\50,20\\\\100nano\\\\SegmentB_2016_45.csv',\n",
       " 'D:\\\\Alejandro\\\\Pulses\\\\diode measurements\\\\Prepared Pulse Schemes CSV\\\\50,20\\\\100nano\\\\SegmentB_2016_46.csv',\n",
       " 'D:\\\\Alejandro\\\\Pulses\\\\diode measurements\\\\Prepared Pulse Schemes CSV\\\\50,20\\\\100nano\\\\SegmentB_2016_47.csv',\n",
       " 'D:\\\\Alejandro\\\\Pulses\\\\diode measurements\\\\Prepared Pulse Schemes CSV\\\\50,20\\\\100nano\\\\SegmentB_2016_48.csv',\n",
       " 'D:\\\\Alejandro\\\\Pulses\\\\diode measurements\\\\Prepared Pulse Schemes CSV\\\\50,20\\\\100nano\\\\SegmentB_2016_49.csv',\n",
       " 'D:\\\\Alejandro\\\\Pulses\\\\diode measurements\\\\Prepared Pulse Schemes CSV\\\\50,20\\\\100nano\\\\SegmentB_2016_50.csv',\n",
       " 'D:\\\\Alejandro\\\\Pulses\\\\diode measurements\\\\Prepared Pulse Schemes CSV\\\\50,20\\\\100nano\\\\SegmentB_2016_51.csv',\n",
       " 'D:\\\\Alejandro\\\\Pulses\\\\diode measurements\\\\Prepared Pulse Schemes CSV\\\\50,20\\\\100nano\\\\SegmentB_2016_52.csv',\n",
       " 'D:\\\\Alejandro\\\\Pulses\\\\diode measurements\\\\Prepared Pulse Schemes CSV\\\\50,20\\\\100nano\\\\SegmentB_2016_53.csv',\n",
       " 'D:\\\\Alejandro\\\\Pulses\\\\diode measurements\\\\Prepared Pulse Schemes CSV\\\\50,20\\\\100nano\\\\SegmentB_2016_54.csv',\n",
       " 'D:\\\\Alejandro\\\\Pulses\\\\diode measurements\\\\Prepared Pulse Schemes CSV\\\\50,20\\\\100nano\\\\SegmentB_2016_55.csv',\n",
       " 'D:\\\\Alejandro\\\\Pulses\\\\diode measurements\\\\Prepared Pulse Schemes CSV\\\\50,20\\\\100nano\\\\SegmentB_2016_56.csv',\n",
       " 'D:\\\\Alejandro\\\\Pulses\\\\diode measurements\\\\Prepared Pulse Schemes CSV\\\\50,20\\\\100nano\\\\SegmentB_2016_57.csv',\n",
       " 'D:\\\\Alejandro\\\\Pulses\\\\diode measurements\\\\Prepared Pulse Schemes CSV\\\\50,20\\\\100nano\\\\SegmentB_2016_58.csv',\n",
       " 'D:\\\\Alejandro\\\\Pulses\\\\diode measurements\\\\Prepared Pulse Schemes CSV\\\\50,20\\\\100nano\\\\SegmentB_2016_59.csv',\n",
       " 'D:\\\\Alejandro\\\\Pulses\\\\diode measurements\\\\Prepared Pulse Schemes CSV\\\\50,20\\\\100nano\\\\SegmentB_2016_60.csv',\n",
       " 'D:\\\\Alejandro\\\\Pulses\\\\diode measurements\\\\Prepared Pulse Schemes CSV\\\\50,20\\\\100nano\\\\SegmentB_2016_61.csv',\n",
       " 'D:\\\\Alejandro\\\\Pulses\\\\diode measurements\\\\Prepared Pulse Schemes CSV\\\\50,20\\\\100nano\\\\SegmentB_2016_62.csv',\n",
       " 'D:\\\\Alejandro\\\\Pulses\\\\diode measurements\\\\Prepared Pulse Schemes CSV\\\\50,20\\\\100nano\\\\SegmentB_2016_63.csv',\n",
       " 'D:\\\\Alejandro\\\\Pulses\\\\diode measurements\\\\Prepared Pulse Schemes CSV\\\\50,20\\\\100nano\\\\SegmentB_2016_64.csv',\n",
       " 'D:\\\\Alejandro\\\\Pulses\\\\diode measurements\\\\Prepared Pulse Schemes CSV\\\\50,20\\\\100nano\\\\SegmentB_2016_65.csv',\n",
       " 'D:\\\\Alejandro\\\\Pulses\\\\diode measurements\\\\Prepared Pulse Schemes CSV\\\\50,20\\\\100nano\\\\SegmentB_2016_66.csv',\n",
       " 'D:\\\\Alejandro\\\\Pulses\\\\diode measurements\\\\Prepared Pulse Schemes CSV\\\\50,20\\\\100nano\\\\SegmentB_2016_67.csv',\n",
       " 'D:\\\\Alejandro\\\\Pulses\\\\diode measurements\\\\Prepared Pulse Schemes CSV\\\\50,20\\\\100nano\\\\SegmentB_2016_68.csv',\n",
       " 'D:\\\\Alejandro\\\\Pulses\\\\diode measurements\\\\Prepared Pulse Schemes CSV\\\\50,20\\\\100nano\\\\SegmentB_2016_69.csv',\n",
       " 'D:\\\\Alejandro\\\\Pulses\\\\diode measurements\\\\Prepared Pulse Schemes CSV\\\\50,20\\\\100nano\\\\SegmentB_2016_70.csv']"
      ]
     },
<<<<<<< Updated upstream
     "metadata": {},
     "execution_count": 66
    }
   ],
   "metadata": {}
=======
     "execution_count": 66,
     "metadata": {},
     "output_type": "execute_result"
    }
   ],
   "source": [
    "list_cycleB_100nano = list(sweeping_run_b_100nano.values())\n",
    "list_cycleB_100nano"
   ]
>>>>>>> Stashed changes
  },
  {
   "cell_type": "code",
   "execution_count": 68,
<<<<<<< Updated upstream
   "source": [
    "c = list(zip(list_cycleA_100nano,list_cycleB_100nano))\r\n",
    "random.shuffle(c)\r\n",
    "\r\n",
    "list_cycleA_100nano, list_cycleB_100nano = zip(*c)\r\n",
    "\r\n"
   ],
   "outputs": [],
   "metadata": {}
=======
   "metadata": {},
   "outputs": [],
   "source": [
    "c = list(zip(list_cycleA_100nano,list_cycleB_100nano))\n",
    "random.shuffle(c)\n",
    "\n",
    "list_cycleA_100nano, list_cycleB_100nano = zip(*c)\n",
    "\n"
   ]
>>>>>>> Stashed changes
  },
  {
   "cell_type": "code",
   "execution_count": 69,
<<<<<<< Updated upstream
   "source": [
    "list_cycleA_100nano"
   ],
   "outputs": [
    {
     "output_type": "execute_result",
=======
   "metadata": {},
   "outputs": [
    {
>>>>>>> Stashed changes
     "data": {
      "text/plain": [
       "('D:\\\\Alejandro\\\\Pulses\\\\diode measurements\\\\Prepared Pulse Schemes CSV\\\\50,20\\\\100nano\\\\SegmentA_2016_64.csv',\n",
       " 'D:\\\\Alejandro\\\\Pulses\\\\diode measurements\\\\Prepared Pulse Schemes CSV\\\\50,20\\\\100nano\\\\SegmentA_2016_59.csv',\n",
       " 'D:\\\\Alejandro\\\\Pulses\\\\diode measurements\\\\Prepared Pulse Schemes CSV\\\\50,20\\\\100nano\\\\SegmentA_2016_37.csv',\n",
       " 'D:\\\\Alejandro\\\\Pulses\\\\diode measurements\\\\Prepared Pulse Schemes CSV\\\\50,20\\\\100nano\\\\SegmentA_2016_39.csv',\n",
       " 'D:\\\\Alejandro\\\\Pulses\\\\diode measurements\\\\Prepared Pulse Schemes CSV\\\\50,20\\\\100nano\\\\SegmentA_2016_31.csv',\n",
       " 'D:\\\\Alejandro\\\\Pulses\\\\diode measurements\\\\Prepared Pulse Schemes CSV\\\\50,20\\\\100nano\\\\SegmentA_2016_1.csv',\n",
       " 'D:\\\\Alejandro\\\\Pulses\\\\diode measurements\\\\Prepared Pulse Schemes CSV\\\\50,20\\\\100nano\\\\SegmentA_2016_18.csv',\n",
       " 'D:\\\\Alejandro\\\\Pulses\\\\diode measurements\\\\Prepared Pulse Schemes CSV\\\\50,20\\\\100nano\\\\SegmentA_2016_57.csv',\n",
       " 'D:\\\\Alejandro\\\\Pulses\\\\diode measurements\\\\Prepared Pulse Schemes CSV\\\\50,20\\\\100nano\\\\SegmentA_2016_27.csv',\n",
       " 'D:\\\\Alejandro\\\\Pulses\\\\diode measurements\\\\Prepared Pulse Schemes CSV\\\\50,20\\\\100nano\\\\SegmentA_2016_5.csv',\n",
       " 'D:\\\\Alejandro\\\\Pulses\\\\diode measurements\\\\Prepared Pulse Schemes CSV\\\\50,20\\\\100nano\\\\SegmentA_2016_11.csv',\n",
       " 'D:\\\\Alejandro\\\\Pulses\\\\diode measurements\\\\Prepared Pulse Schemes CSV\\\\50,20\\\\100nano\\\\SegmentA_2016_29.csv',\n",
       " 'D:\\\\Alejandro\\\\Pulses\\\\diode measurements\\\\Prepared Pulse Schemes CSV\\\\50,20\\\\100nano\\\\SegmentA_2016_0.csv',\n",
       " 'D:\\\\Alejandro\\\\Pulses\\\\diode measurements\\\\Prepared Pulse Schemes CSV\\\\50,20\\\\100nano\\\\SegmentA_2016_46.csv',\n",
       " 'D:\\\\Alejandro\\\\Pulses\\\\diode measurements\\\\Prepared Pulse Schemes CSV\\\\50,20\\\\100nano\\\\SegmentA_2016_19.csv',\n",
       " 'D:\\\\Alejandro\\\\Pulses\\\\diode measurements\\\\Prepared Pulse Schemes CSV\\\\50,20\\\\100nano\\\\SegmentA_2016_4.csv',\n",
       " 'D:\\\\Alejandro\\\\Pulses\\\\diode measurements\\\\Prepared Pulse Schemes CSV\\\\50,20\\\\100nano\\\\SegmentA_2016_36.csv',\n",
       " 'D:\\\\Alejandro\\\\Pulses\\\\diode measurements\\\\Prepared Pulse Schemes CSV\\\\50,20\\\\100nano\\\\SegmentA_2016_34.csv',\n",
       " 'D:\\\\Alejandro\\\\Pulses\\\\diode measurements\\\\Prepared Pulse Schemes CSV\\\\50,20\\\\100nano\\\\SegmentA_2016_68.csv',\n",
       " 'D:\\\\Alejandro\\\\Pulses\\\\diode measurements\\\\Prepared Pulse Schemes CSV\\\\50,20\\\\100nano\\\\SegmentA_2016_30.csv',\n",
       " 'D:\\\\Alejandro\\\\Pulses\\\\diode measurements\\\\Prepared Pulse Schemes CSV\\\\50,20\\\\100nano\\\\SegmentA_2016_24.csv',\n",
       " 'D:\\\\Alejandro\\\\Pulses\\\\diode measurements\\\\Prepared Pulse Schemes CSV\\\\50,20\\\\100nano\\\\SegmentA_2016_48.csv',\n",
       " 'D:\\\\Alejandro\\\\Pulses\\\\diode measurements\\\\Prepared Pulse Schemes CSV\\\\50,20\\\\100nano\\\\SegmentA_2016_25.csv',\n",
       " 'D:\\\\Alejandro\\\\Pulses\\\\diode measurements\\\\Prepared Pulse Schemes CSV\\\\50,20\\\\100nano\\\\SegmentA_2016_56.csv',\n",
       " 'D:\\\\Alejandro\\\\Pulses\\\\diode measurements\\\\Prepared Pulse Schemes CSV\\\\50,20\\\\100nano\\\\SegmentA_2016_3.csv',\n",
       " 'D:\\\\Alejandro\\\\Pulses\\\\diode measurements\\\\Prepared Pulse Schemes CSV\\\\50,20\\\\100nano\\\\SegmentA_2016_23.csv',\n",
       " 'D:\\\\Alejandro\\\\Pulses\\\\diode measurements\\\\Prepared Pulse Schemes CSV\\\\50,20\\\\100nano\\\\SegmentA_2016_35.csv',\n",
       " 'D:\\\\Alejandro\\\\Pulses\\\\diode measurements\\\\Prepared Pulse Schemes CSV\\\\50,20\\\\100nano\\\\SegmentA_2016_26.csv',\n",
       " 'D:\\\\Alejandro\\\\Pulses\\\\diode measurements\\\\Prepared Pulse Schemes CSV\\\\50,20\\\\100nano\\\\SegmentA_2016_2.csv',\n",
       " 'D:\\\\Alejandro\\\\Pulses\\\\diode measurements\\\\Prepared Pulse Schemes CSV\\\\50,20\\\\100nano\\\\SegmentA_2016_6.csv',\n",
       " 'D:\\\\Alejandro\\\\Pulses\\\\diode measurements\\\\Prepared Pulse Schemes CSV\\\\50,20\\\\100nano\\\\SegmentA_2016_40.csv',\n",
       " 'D:\\\\Alejandro\\\\Pulses\\\\diode measurements\\\\Prepared Pulse Schemes CSV\\\\50,20\\\\100nano\\\\SegmentA_2016_41.csv',\n",
       " 'D:\\\\Alejandro\\\\Pulses\\\\diode measurements\\\\Prepared Pulse Schemes CSV\\\\50,20\\\\100nano\\\\SegmentA_2016_15.csv',\n",
       " 'D:\\\\Alejandro\\\\Pulses\\\\diode measurements\\\\Prepared Pulse Schemes CSV\\\\50,20\\\\100nano\\\\SegmentA_2016_65.csv',\n",
       " 'D:\\\\Alejandro\\\\Pulses\\\\diode measurements\\\\Prepared Pulse Schemes CSV\\\\50,20\\\\100nano\\\\SegmentA_2016_52.csv',\n",
       " 'D:\\\\Alejandro\\\\Pulses\\\\diode measurements\\\\Prepared Pulse Schemes CSV\\\\50,20\\\\100nano\\\\SegmentA_2016_42.csv',\n",
       " 'D:\\\\Alejandro\\\\Pulses\\\\diode measurements\\\\Prepared Pulse Schemes CSV\\\\50,20\\\\100nano\\\\SegmentA_2016_55.csv',\n",
       " 'D:\\\\Alejandro\\\\Pulses\\\\diode measurements\\\\Prepared Pulse Schemes CSV\\\\50,20\\\\100nano\\\\SegmentA_2016_58.csv',\n",
       " 'D:\\\\Alejandro\\\\Pulses\\\\diode measurements\\\\Prepared Pulse Schemes CSV\\\\50,20\\\\100nano\\\\SegmentA_2016_67.csv',\n",
       " 'D:\\\\Alejandro\\\\Pulses\\\\diode measurements\\\\Prepared Pulse Schemes CSV\\\\50,20\\\\100nano\\\\SegmentA_2016_9.csv',\n",
       " 'D:\\\\Alejandro\\\\Pulses\\\\diode measurements\\\\Prepared Pulse Schemes CSV\\\\50,20\\\\100nano\\\\SegmentA_2016_53.csv',\n",
       " 'D:\\\\Alejandro\\\\Pulses\\\\diode measurements\\\\Prepared Pulse Schemes CSV\\\\50,20\\\\100nano\\\\SegmentA_2016_21.csv',\n",
       " 'D:\\\\Alejandro\\\\Pulses\\\\diode measurements\\\\Prepared Pulse Schemes CSV\\\\50,20\\\\100nano\\\\SegmentA_2016_33.csv',\n",
       " 'D:\\\\Alejandro\\\\Pulses\\\\diode measurements\\\\Prepared Pulse Schemes CSV\\\\50,20\\\\100nano\\\\SegmentA_2016_69.csv',\n",
       " 'D:\\\\Alejandro\\\\Pulses\\\\diode measurements\\\\Prepared Pulse Schemes CSV\\\\50,20\\\\100nano\\\\SegmentA_2016_44.csv',\n",
       " 'D:\\\\Alejandro\\\\Pulses\\\\diode measurements\\\\Prepared Pulse Schemes CSV\\\\50,20\\\\100nano\\\\SegmentA_2016_49.csv',\n",
       " 'D:\\\\Alejandro\\\\Pulses\\\\diode measurements\\\\Prepared Pulse Schemes CSV\\\\50,20\\\\100nano\\\\SegmentA_2016_62.csv',\n",
       " 'D:\\\\Alejandro\\\\Pulses\\\\diode measurements\\\\Prepared Pulse Schemes CSV\\\\50,20\\\\100nano\\\\SegmentA_2016_8.csv',\n",
       " 'D:\\\\Alejandro\\\\Pulses\\\\diode measurements\\\\Prepared Pulse Schemes CSV\\\\50,20\\\\100nano\\\\SegmentA_2016_38.csv',\n",
       " 'D:\\\\Alejandro\\\\Pulses\\\\diode measurements\\\\Prepared Pulse Schemes CSV\\\\50,20\\\\100nano\\\\SegmentA_2016_51.csv',\n",
       " 'D:\\\\Alejandro\\\\Pulses\\\\diode measurements\\\\Prepared Pulse Schemes CSV\\\\50,20\\\\100nano\\\\SegmentA_2016_60.csv',\n",
       " 'D:\\\\Alejandro\\\\Pulses\\\\diode measurements\\\\Prepared Pulse Schemes CSV\\\\50,20\\\\100nano\\\\SegmentA_2016_43.csv',\n",
       " 'D:\\\\Alejandro\\\\Pulses\\\\diode measurements\\\\Prepared Pulse Schemes CSV\\\\50,20\\\\100nano\\\\SegmentA_2016_28.csv',\n",
       " 'D:\\\\Alejandro\\\\Pulses\\\\diode measurements\\\\Prepared Pulse Schemes CSV\\\\50,20\\\\100nano\\\\SegmentA_2016_32.csv',\n",
       " 'D:\\\\Alejandro\\\\Pulses\\\\diode measurements\\\\Prepared Pulse Schemes CSV\\\\50,20\\\\100nano\\\\SegmentA_2016_7.csv',\n",
       " 'D:\\\\Alejandro\\\\Pulses\\\\diode measurements\\\\Prepared Pulse Schemes CSV\\\\50,20\\\\100nano\\\\SegmentA_2016_14.csv',\n",
       " 'D:\\\\Alejandro\\\\Pulses\\\\diode measurements\\\\Prepared Pulse Schemes CSV\\\\50,20\\\\100nano\\\\SegmentA_2016_54.csv',\n",
       " 'D:\\\\Alejandro\\\\Pulses\\\\diode measurements\\\\Prepared Pulse Schemes CSV\\\\50,20\\\\100nano\\\\SegmentA_2016_61.csv',\n",
       " 'D:\\\\Alejandro\\\\Pulses\\\\diode measurements\\\\Prepared Pulse Schemes CSV\\\\50,20\\\\100nano\\\\SegmentA_2016_22.csv',\n",
       " 'D:\\\\Alejandro\\\\Pulses\\\\diode measurements\\\\Prepared Pulse Schemes CSV\\\\50,20\\\\100nano\\\\SegmentA_2016_17.csv',\n",
       " 'D:\\\\Alejandro\\\\Pulses\\\\diode measurements\\\\Prepared Pulse Schemes CSV\\\\50,20\\\\100nano\\\\SegmentA_2016_47.csv',\n",
       " 'D:\\\\Alejandro\\\\Pulses\\\\diode measurements\\\\Prepared Pulse Schemes CSV\\\\50,20\\\\100nano\\\\SegmentA_2016_45.csv',\n",
       " 'D:\\\\Alejandro\\\\Pulses\\\\diode measurements\\\\Prepared Pulse Schemes CSV\\\\50,20\\\\100nano\\\\SegmentA_2016_50.csv',\n",
       " 'D:\\\\Alejandro\\\\Pulses\\\\diode measurements\\\\Prepared Pulse Schemes CSV\\\\50,20\\\\100nano\\\\SegmentA_2016_63.csv',\n",
       " 'D:\\\\Alejandro\\\\Pulses\\\\diode measurements\\\\Prepared Pulse Schemes CSV\\\\50,20\\\\100nano\\\\SegmentA_2016_20.csv',\n",
       " 'D:\\\\Alejandro\\\\Pulses\\\\diode measurements\\\\Prepared Pulse Schemes CSV\\\\50,20\\\\100nano\\\\SegmentA_2016_10.csv',\n",
       " 'D:\\\\Alejandro\\\\Pulses\\\\diode measurements\\\\Prepared Pulse Schemes CSV\\\\50,20\\\\100nano\\\\SegmentA_2016_16.csv',\n",
       " 'D:\\\\Alejandro\\\\Pulses\\\\diode measurements\\\\Prepared Pulse Schemes CSV\\\\50,20\\\\100nano\\\\SegmentA_2016_13.csv',\n",
       " 'D:\\\\Alejandro\\\\Pulses\\\\diode measurements\\\\Prepared Pulse Schemes CSV\\\\50,20\\\\100nano\\\\SegmentA_2016_66.csv',\n",
       " 'D:\\\\Alejandro\\\\Pulses\\\\diode measurements\\\\Prepared Pulse Schemes CSV\\\\50,20\\\\100nano\\\\SegmentA_2016_12.csv',\n",
       " 'D:\\\\Alejandro\\\\Pulses\\\\diode measurements\\\\Prepared Pulse Schemes CSV\\\\50,20\\\\100nano\\\\SegmentA_2016_70.csv')"
      ]
     },
<<<<<<< Updated upstream
     "metadata": {},
     "execution_count": 69
    }
   ],
   "metadata": {}
=======
     "execution_count": 69,
     "metadata": {},
     "output_type": "execute_result"
    }
   ],
   "source": [
    "list_cycleA_100nano"
   ]
>>>>>>> Stashed changes
  },
  {
   "cell_type": "code",
   "execution_count": 70,
<<<<<<< Updated upstream
   "source": [
    "list_cycleB_100nano"
   ],
   "outputs": [
    {
     "output_type": "execute_result",
=======
   "metadata": {},
   "outputs": [
    {
>>>>>>> Stashed changes
     "data": {
      "text/plain": [
       "('D:\\\\Alejandro\\\\Pulses\\\\diode measurements\\\\Prepared Pulse Schemes CSV\\\\50,20\\\\100nano\\\\SegmentB_2016_64.csv',\n",
       " 'D:\\\\Alejandro\\\\Pulses\\\\diode measurements\\\\Prepared Pulse Schemes CSV\\\\50,20\\\\100nano\\\\SegmentB_2016_59.csv',\n",
       " 'D:\\\\Alejandro\\\\Pulses\\\\diode measurements\\\\Prepared Pulse Schemes CSV\\\\50,20\\\\100nano\\\\SegmentB_2016_37.csv',\n",
       " 'D:\\\\Alejandro\\\\Pulses\\\\diode measurements\\\\Prepared Pulse Schemes CSV\\\\50,20\\\\100nano\\\\SegmentB_2016_39.csv',\n",
       " 'D:\\\\Alejandro\\\\Pulses\\\\diode measurements\\\\Prepared Pulse Schemes CSV\\\\50,20\\\\100nano\\\\SegmentB_2016_31.csv',\n",
       " 'D:\\\\Alejandro\\\\Pulses\\\\diode measurements\\\\Prepared Pulse Schemes CSV\\\\50,20\\\\100nano\\\\SegmentB_2016_1.csv',\n",
       " 'D:\\\\Alejandro\\\\Pulses\\\\diode measurements\\\\Prepared Pulse Schemes CSV\\\\50,20\\\\100nano\\\\SegmentB_2016_18.csv',\n",
       " 'D:\\\\Alejandro\\\\Pulses\\\\diode measurements\\\\Prepared Pulse Schemes CSV\\\\50,20\\\\100nano\\\\SegmentB_2016_57.csv',\n",
       " 'D:\\\\Alejandro\\\\Pulses\\\\diode measurements\\\\Prepared Pulse Schemes CSV\\\\50,20\\\\100nano\\\\SegmentB_2016_27.csv',\n",
       " 'D:\\\\Alejandro\\\\Pulses\\\\diode measurements\\\\Prepared Pulse Schemes CSV\\\\50,20\\\\100nano\\\\SegmentB_2016_5.csv',\n",
       " 'D:\\\\Alejandro\\\\Pulses\\\\diode measurements\\\\Prepared Pulse Schemes CSV\\\\50,20\\\\100nano\\\\SegmentB_2016_11.csv',\n",
       " 'D:\\\\Alejandro\\\\Pulses\\\\diode measurements\\\\Prepared Pulse Schemes CSV\\\\50,20\\\\100nano\\\\SegmentB_2016_29.csv',\n",
       " 'D:\\\\Alejandro\\\\Pulses\\\\diode measurements\\\\Prepared Pulse Schemes CSV\\\\50,20\\\\100nano\\\\SegmentB_2016_0.csv',\n",
       " 'D:\\\\Alejandro\\\\Pulses\\\\diode measurements\\\\Prepared Pulse Schemes CSV\\\\50,20\\\\100nano\\\\SegmentB_2016_46.csv',\n",
       " 'D:\\\\Alejandro\\\\Pulses\\\\diode measurements\\\\Prepared Pulse Schemes CSV\\\\50,20\\\\100nano\\\\SegmentB_2016_19.csv',\n",
       " 'D:\\\\Alejandro\\\\Pulses\\\\diode measurements\\\\Prepared Pulse Schemes CSV\\\\50,20\\\\100nano\\\\SegmentB_2016_4.csv',\n",
       " 'D:\\\\Alejandro\\\\Pulses\\\\diode measurements\\\\Prepared Pulse Schemes CSV\\\\50,20\\\\100nano\\\\SegmentB_2016_36.csv',\n",
       " 'D:\\\\Alejandro\\\\Pulses\\\\diode measurements\\\\Prepared Pulse Schemes CSV\\\\50,20\\\\100nano\\\\SegmentB_2016_34.csv',\n",
       " 'D:\\\\Alejandro\\\\Pulses\\\\diode measurements\\\\Prepared Pulse Schemes CSV\\\\50,20\\\\100nano\\\\SegmentB_2016_68.csv',\n",
       " 'D:\\\\Alejandro\\\\Pulses\\\\diode measurements\\\\Prepared Pulse Schemes CSV\\\\50,20\\\\100nano\\\\SegmentB_2016_30.csv',\n",
       " 'D:\\\\Alejandro\\\\Pulses\\\\diode measurements\\\\Prepared Pulse Schemes CSV\\\\50,20\\\\100nano\\\\SegmentB_2016_24.csv',\n",
       " 'D:\\\\Alejandro\\\\Pulses\\\\diode measurements\\\\Prepared Pulse Schemes CSV\\\\50,20\\\\100nano\\\\SegmentB_2016_48.csv',\n",
       " 'D:\\\\Alejandro\\\\Pulses\\\\diode measurements\\\\Prepared Pulse Schemes CSV\\\\50,20\\\\100nano\\\\SegmentB_2016_25.csv',\n",
       " 'D:\\\\Alejandro\\\\Pulses\\\\diode measurements\\\\Prepared Pulse Schemes CSV\\\\50,20\\\\100nano\\\\SegmentB_2016_56.csv',\n",
       " 'D:\\\\Alejandro\\\\Pulses\\\\diode measurements\\\\Prepared Pulse Schemes CSV\\\\50,20\\\\100nano\\\\SegmentB_2016_3.csv',\n",
       " 'D:\\\\Alejandro\\\\Pulses\\\\diode measurements\\\\Prepared Pulse Schemes CSV\\\\50,20\\\\100nano\\\\SegmentB_2016_23.csv',\n",
       " 'D:\\\\Alejandro\\\\Pulses\\\\diode measurements\\\\Prepared Pulse Schemes CSV\\\\50,20\\\\100nano\\\\SegmentB_2016_35.csv',\n",
       " 'D:\\\\Alejandro\\\\Pulses\\\\diode measurements\\\\Prepared Pulse Schemes CSV\\\\50,20\\\\100nano\\\\SegmentB_2016_26.csv',\n",
       " 'D:\\\\Alejandro\\\\Pulses\\\\diode measurements\\\\Prepared Pulse Schemes CSV\\\\50,20\\\\100nano\\\\SegmentB_2016_2.csv',\n",
       " 'D:\\\\Alejandro\\\\Pulses\\\\diode measurements\\\\Prepared Pulse Schemes CSV\\\\50,20\\\\100nano\\\\SegmentB_2016_6.csv',\n",
       " 'D:\\\\Alejandro\\\\Pulses\\\\diode measurements\\\\Prepared Pulse Schemes CSV\\\\50,20\\\\100nano\\\\SegmentB_2016_40.csv',\n",
       " 'D:\\\\Alejandro\\\\Pulses\\\\diode measurements\\\\Prepared Pulse Schemes CSV\\\\50,20\\\\100nano\\\\SegmentB_2016_41.csv',\n",
       " 'D:\\\\Alejandro\\\\Pulses\\\\diode measurements\\\\Prepared Pulse Schemes CSV\\\\50,20\\\\100nano\\\\SegmentB_2016_15.csv',\n",
       " 'D:\\\\Alejandro\\\\Pulses\\\\diode measurements\\\\Prepared Pulse Schemes CSV\\\\50,20\\\\100nano\\\\SegmentB_2016_65.csv',\n",
       " 'D:\\\\Alejandro\\\\Pulses\\\\diode measurements\\\\Prepared Pulse Schemes CSV\\\\50,20\\\\100nano\\\\SegmentB_2016_52.csv',\n",
       " 'D:\\\\Alejandro\\\\Pulses\\\\diode measurements\\\\Prepared Pulse Schemes CSV\\\\50,20\\\\100nano\\\\SegmentB_2016_42.csv',\n",
       " 'D:\\\\Alejandro\\\\Pulses\\\\diode measurements\\\\Prepared Pulse Schemes CSV\\\\50,20\\\\100nano\\\\SegmentB_2016_55.csv',\n",
       " 'D:\\\\Alejandro\\\\Pulses\\\\diode measurements\\\\Prepared Pulse Schemes CSV\\\\50,20\\\\100nano\\\\SegmentB_2016_58.csv',\n",
       " 'D:\\\\Alejandro\\\\Pulses\\\\diode measurements\\\\Prepared Pulse Schemes CSV\\\\50,20\\\\100nano\\\\SegmentB_2016_67.csv',\n",
       " 'D:\\\\Alejandro\\\\Pulses\\\\diode measurements\\\\Prepared Pulse Schemes CSV\\\\50,20\\\\100nano\\\\SegmentB_2016_9.csv',\n",
       " 'D:\\\\Alejandro\\\\Pulses\\\\diode measurements\\\\Prepared Pulse Schemes CSV\\\\50,20\\\\100nano\\\\SegmentB_2016_53.csv',\n",
       " 'D:\\\\Alejandro\\\\Pulses\\\\diode measurements\\\\Prepared Pulse Schemes CSV\\\\50,20\\\\100nano\\\\SegmentB_2016_21.csv',\n",
       " 'D:\\\\Alejandro\\\\Pulses\\\\diode measurements\\\\Prepared Pulse Schemes CSV\\\\50,20\\\\100nano\\\\SegmentB_2016_33.csv',\n",
       " 'D:\\\\Alejandro\\\\Pulses\\\\diode measurements\\\\Prepared Pulse Schemes CSV\\\\50,20\\\\100nano\\\\SegmentB_2016_69.csv',\n",
       " 'D:\\\\Alejandro\\\\Pulses\\\\diode measurements\\\\Prepared Pulse Schemes CSV\\\\50,20\\\\100nano\\\\SegmentB_2016_44.csv',\n",
       " 'D:\\\\Alejandro\\\\Pulses\\\\diode measurements\\\\Prepared Pulse Schemes CSV\\\\50,20\\\\100nano\\\\SegmentB_2016_49.csv',\n",
       " 'D:\\\\Alejandro\\\\Pulses\\\\diode measurements\\\\Prepared Pulse Schemes CSV\\\\50,20\\\\100nano\\\\SegmentB_2016_62.csv',\n",
       " 'D:\\\\Alejandro\\\\Pulses\\\\diode measurements\\\\Prepared Pulse Schemes CSV\\\\50,20\\\\100nano\\\\SegmentB_2016_8.csv',\n",
       " 'D:\\\\Alejandro\\\\Pulses\\\\diode measurements\\\\Prepared Pulse Schemes CSV\\\\50,20\\\\100nano\\\\SegmentB_2016_38.csv',\n",
       " 'D:\\\\Alejandro\\\\Pulses\\\\diode measurements\\\\Prepared Pulse Schemes CSV\\\\50,20\\\\100nano\\\\SegmentB_2016_51.csv',\n",
       " 'D:\\\\Alejandro\\\\Pulses\\\\diode measurements\\\\Prepared Pulse Schemes CSV\\\\50,20\\\\100nano\\\\SegmentB_2016_60.csv',\n",
       " 'D:\\\\Alejandro\\\\Pulses\\\\diode measurements\\\\Prepared Pulse Schemes CSV\\\\50,20\\\\100nano\\\\SegmentB_2016_43.csv',\n",
       " 'D:\\\\Alejandro\\\\Pulses\\\\diode measurements\\\\Prepared Pulse Schemes CSV\\\\50,20\\\\100nano\\\\SegmentB_2016_28.csv',\n",
       " 'D:\\\\Alejandro\\\\Pulses\\\\diode measurements\\\\Prepared Pulse Schemes CSV\\\\50,20\\\\100nano\\\\SegmentB_2016_32.csv',\n",
       " 'D:\\\\Alejandro\\\\Pulses\\\\diode measurements\\\\Prepared Pulse Schemes CSV\\\\50,20\\\\100nano\\\\SegmentB_2016_7.csv',\n",
       " 'D:\\\\Alejandro\\\\Pulses\\\\diode measurements\\\\Prepared Pulse Schemes CSV\\\\50,20\\\\100nano\\\\SegmentB_2016_14.csv',\n",
       " 'D:\\\\Alejandro\\\\Pulses\\\\diode measurements\\\\Prepared Pulse Schemes CSV\\\\50,20\\\\100nano\\\\SegmentB_2016_54.csv',\n",
       " 'D:\\\\Alejandro\\\\Pulses\\\\diode measurements\\\\Prepared Pulse Schemes CSV\\\\50,20\\\\100nano\\\\SegmentB_2016_61.csv',\n",
       " 'D:\\\\Alejandro\\\\Pulses\\\\diode measurements\\\\Prepared Pulse Schemes CSV\\\\50,20\\\\100nano\\\\SegmentB_2016_22.csv',\n",
       " 'D:\\\\Alejandro\\\\Pulses\\\\diode measurements\\\\Prepared Pulse Schemes CSV\\\\50,20\\\\100nano\\\\SegmentB_2016_17.csv',\n",
       " 'D:\\\\Alejandro\\\\Pulses\\\\diode measurements\\\\Prepared Pulse Schemes CSV\\\\50,20\\\\100nano\\\\SegmentB_2016_47.csv',\n",
       " 'D:\\\\Alejandro\\\\Pulses\\\\diode measurements\\\\Prepared Pulse Schemes CSV\\\\50,20\\\\100nano\\\\SegmentB_2016_45.csv',\n",
       " 'D:\\\\Alejandro\\\\Pulses\\\\diode measurements\\\\Prepared Pulse Schemes CSV\\\\50,20\\\\100nano\\\\SegmentB_2016_50.csv',\n",
       " 'D:\\\\Alejandro\\\\Pulses\\\\diode measurements\\\\Prepared Pulse Schemes CSV\\\\50,20\\\\100nano\\\\SegmentB_2016_63.csv',\n",
       " 'D:\\\\Alejandro\\\\Pulses\\\\diode measurements\\\\Prepared Pulse Schemes CSV\\\\50,20\\\\100nano\\\\SegmentB_2016_20.csv',\n",
       " 'D:\\\\Alejandro\\\\Pulses\\\\diode measurements\\\\Prepared Pulse Schemes CSV\\\\50,20\\\\100nano\\\\SegmentB_2016_10.csv',\n",
       " 'D:\\\\Alejandro\\\\Pulses\\\\diode measurements\\\\Prepared Pulse Schemes CSV\\\\50,20\\\\100nano\\\\SegmentB_2016_16.csv',\n",
       " 'D:\\\\Alejandro\\\\Pulses\\\\diode measurements\\\\Prepared Pulse Schemes CSV\\\\50,20\\\\100nano\\\\SegmentB_2016_13.csv',\n",
       " 'D:\\\\Alejandro\\\\Pulses\\\\diode measurements\\\\Prepared Pulse Schemes CSV\\\\50,20\\\\100nano\\\\SegmentB_2016_66.csv',\n",
       " 'D:\\\\Alejandro\\\\Pulses\\\\diode measurements\\\\Prepared Pulse Schemes CSV\\\\50,20\\\\100nano\\\\SegmentB_2016_12.csv',\n",
       " 'D:\\\\Alejandro\\\\Pulses\\\\diode measurements\\\\Prepared Pulse Schemes CSV\\\\50,20\\\\100nano\\\\SegmentB_2016_70.csv')"
      ]
     },
<<<<<<< Updated upstream
     "metadata": {},
     "execution_count": 70
    }
   ],
   "metadata": {}
=======
     "execution_count": 70,
     "metadata": {},
     "output_type": "execute_result"
    }
   ],
   "source": [
    "list_cycleB_100nano"
   ]
>>>>>>> Stashed changes
  },
  {
   "cell_type": "code",
   "execution_count": null,
<<<<<<< Updated upstream
   "source": [],
   "outputs": [],
   "metadata": {}
  }
 ],
 "metadata": {
  "orig_nbformat": 4,
  "language_info": {
   "name": "python",
   "version": "3.8.5",
   "mimetype": "text/x-python",
=======
   "metadata": {},
   "outputs": [],
   "source": []
  }
 ],
 "metadata": {
  "interpreter": {
   "hash": "9a32f0bf53af15acd232504180dc0ef28b8a6ac1a49da0a6c374e1f45bb445b6"
  },
  "kernelspec": {
   "display_name": "Python 3.8.5 64-bit ('base': conda)",
   "name": "python3"
  },
  "language_info": {
>>>>>>> Stashed changes
   "codemirror_mode": {
    "name": "ipython",
    "version": 3
   },
<<<<<<< Updated upstream
   "pygments_lexer": "ipython3",
   "nbconvert_exporter": "python",
   "file_extension": ".py"
  },
  "kernelspec": {
   "name": "python3",
   "display_name": "Python 3.8.5 64-bit ('base': conda)"
  },
  "interpreter": {
   "hash": "9a32f0bf53af15acd232504180dc0ef28b8a6ac1a49da0a6c374e1f45bb445b6"
  }
 },
 "nbformat": 4,
 "nbformat_minor": 2
}
=======
   "file_extension": ".py",
   "mimetype": "text/x-python",
   "name": "python",
   "nbconvert_exporter": "python",
   "pygments_lexer": "ipython3",
   "version": "3.8.5"
  },
  "orig_nbformat": 4
 },
 "nbformat": 4,
 "nbformat_minor": 2
}
>>>>>>> Stashed changes
