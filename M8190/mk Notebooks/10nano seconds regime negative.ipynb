{
 "cells": [
  {
   "cell_type": "code",
   "execution_count": 1,
   "metadata": {},
   "outputs": [],
   "source": [
    "import numpy as np\n",
    "from numpy import loadtxt\n",
    "import pandas as pd\n",
    "import time\n",
    "import matplotlib\n",
    "import matplotlib.pyplot as plt\n",
    "import pyvisa as visa\n",
    "from matplotlib import animation\n",
    "from time import sleep\n",
    "from matplotlib.animation import FuncAnimation\n",
    "#Importing the functions from the module and the pulses dictionaries\n",
    "from Sweeping import *\n",
    "from Dictionaries import *\n",
    "from PulseFiles import *\n",
    "from Instrument import *\n",
    "import pyqtgraph as pg \n",
    "import nidaqmx\n",
    "import pickle"
   ]
  },
  {
   "cell_type": "markdown",
   "metadata": {},
   "source": [
    "#  10nano"
   ]
  },
  {
   "cell_type": "code",
   "execution_count": 4,
   "metadata": {},
   "outputs": [],
   "source": [
    "modulation = 93 #Hz\n",
    "loop_number = 640000    \n",
    "res = 1/2972160000\n",
    "\n",
    "sam, sr , segment_length = Adj9(res,modulation,loop_number)"
   ]
  },
  {
   "cell_type": "code",
   "execution_count": 5,
   "metadata": {},
   "outputs": [
    {
     "data": {
      "text/plain": [
       "336"
      ]
     },
     "execution_count": 5,
     "metadata": {},
     "output_type": "execute_result"
    }
   ],
   "source": [
    "sam"
   ]
  },
  {
   "cell_type": "code",
   "execution_count": 6,
   "metadata": {},
   "outputs": [
    {
     "data": {
      "text/plain": [
       "3124800000"
      ]
     },
     "execution_count": 6,
     "metadata": {},
     "output_type": "execute_result"
    }
   ],
   "source": [
    "sr"
   ]
  },
  {
   "cell_type": "code",
   "execution_count": 7,
   "metadata": {},
   "outputs": [
    {
     "data": {
      "text/plain": [
       "107.52688172043011"
      ]
     },
     "execution_count": 7,
     "metadata": {},
     "output_type": "execute_result"
    }
   ],
   "source": [
    "interval = segment_length*1e9 #nano\n",
    "interval"
   ]
  },
  {
   "cell_type": "markdown",
   "metadata": {},
   "source": [
    "# AWG and Pulse files setup"
   ]
  },
  {
   "cell_type": "code",
   "execution_count": 2,
   "metadata": {},
   "outputs": [],
   "source": [
    "AWG_Settings_10nano= {\n",
    "    'Visa Resource Name': 'TCPIP0::ibn3-036.ibn-net.kfa-juelich.de::hislip0::INSTR',\n",
    "    'Voltage Amplitude':150,\n",
    "    'Clock Sample Frecuency':3124800000,\n",
    "    'Output_Channel': 1,\n",
    "    'Mode': 'STS',\n",
    "    'Trigger In Threshold' : 1,\n",
    "    'Output Rout': 'DC', #DAC output rout only has the SMA outputs: Direct Out and (Averaged) Direct Out, # DC hasAMP out, normal un averaged\n",
    "    'Data Directory': r'D:\\Alejandro\\Pulses\\diode measurements\\Prepared Pulse Schemes CSV\\60,30\\neg\\10nano'\n",
    "}"
   ]
  },
  {
   "cell_type": "code",
   "execution_count": 3,
   "metadata": {},
   "outputs": [],
   "source": [
    "M8190A = VisaR(AWG_Settings_10nano,60000)"
   ]
  },
  {
   "cell_type": "code",
   "execution_count": 8,
   "metadata": {},
   "outputs": [
    {
     "data": {
      "text/plain": [
       "21"
      ]
     },
     "execution_count": 8,
     "metadata": {},
     "output_type": "execute_result"
    }
   ],
   "source": [
    "M8190A.write('FREQ:RAST {a}'.format(a = sr))"
   ]
  },
  {
   "cell_type": "code",
   "execution_count": null,
   "metadata": {},
   "outputs": [
    {
     "name": "stdout",
     "output_type": "stream",
     "text": [
      "Instruments Sampling Frecuency set to 1.25760000000000E+08Hz\n",
      "Instruments Direct Out DAC Output route Voltage set to 7.00000000000000E-01Volts\n",
      "AWG_Settings_Dict set to TRIGGERED Mode\n",
      "Trigger In threshold value set to 1.00000000000000E+00V\n"
     ]
    }
   ],
   "source": [
    "Initialization(M8190A,AWG_Settings_10nano)"
   ]
  },
  {
   "cell_type": "code",
   "execution_count": 9,
   "metadata": {},
   "outputs": [],
   "source": [
    "Pump_10nano = {\n",
    "    'Name':'Pump_10nano',\n",
    "    'Amplitude': -2*60,\n",
    "    'Start time':50,\n",
    "    'End time':2e-10,\n",
    "    'Start Duration':10,\n",
    "    'End Duration':60,\n",
    "    'Sweep time':0,\n",
    "    'Sweep Duration':0\n",
    "}"
   ]
  },
  {
   "cell_type": "code",
   "execution_count": 10,
   "metadata": {},
   "outputs": [],
   "source": [
    "ProbeA_10nano = {\n",
    "    'Name':'ProbeA_10nano',\n",
    "    'Amplitude':-2*30,\n",
    "    'Start time':30,\n",
    "    'End time':70,\n",
    "    'Start Duration':10,\n",
    "    'End Duration':60,\n",
    "    'Sweep time':1,\n",
    "    'Sweep Duration':0\n",
    "}"
   ]
  },
  {
   "cell_type": "code",
   "execution_count": 11,
   "metadata": {},
   "outputs": [],
   "source": [
    "ProbeB_10nano= {\n",
    "    'Name':'ProbeB_10nano',\n",
    "    'Amplitude':2*30,\n",
    "    'Start time':30,\n",
    "    'End time':70,\n",
    "    'Start Duration':10,\n",
    "    'End Duration':60,\n",
    "    'Sweep time':1,\n",
    "    'Sweep Duration':0\n",
    "}"
   ]
  },
  {
   "cell_type": "code",
   "execution_count": 13,
   "metadata": {},
   "outputs": [],
   "source": [
    "PulseScheme_A_10nano =  {\n",
    "    'Name' : 'PulseScheme_A_10nano',\n",
    "    'Pulse Scheme': [Pump_10nano,ProbeA_10nano],\n",
    "    'Number of repetitions': 1,\n",
    "    'Measurement file Path': r'D:\\Alejandro\\Pulses\\diode measurements\\Autocorrelation measurements\\60,30\\neg\\10nano'\n",
    "}"
   ]
  },
  {
   "cell_type": "code",
   "execution_count": 14,
   "metadata": {},
   "outputs": [],
   "source": [
    "PulseScheme_B_10nano =  {\n",
    "    'Name' : 'PulseScheme_B_10nano',\n",
    "    'Pulse Scheme': [Pump_10nano,ProbeB_10nano],\n",
    "    'Number of repetitions': 1,\n",
    "    'Measurement file Path': r'D:\\Alejandro\\Pulses\\diode measurements\\Autocorrelation measurements\\60,30\\neg\\10nano'\n",
    "}"
   ]
  },
  {
   "cell_type": "code",
   "execution_count": 76,
   "metadata": {},
   "outputs": [
    {
     "data": {
      "image/png": "[encoded data removed]",
      "text/plain": [
       "<Figure size 432x288 with 1 Axes>"
      ]
     },
     "metadata": {
      "needs_background": "light"
     },
     "output_type": "display_data"
    }
   ],
   "source": [
    "step = 0\n",
    "pul1 = Sweep_dir_noteil(PulseScheme_A_10nano,70,step,interval,sam)\n",
    "\n",
    "\n",
    "#Plot\n",
    "fig,ax= plt.subplots()\n",
    "ax.grid(True)\n",
    "\n",
    "plt.plot(pul1[1],pul1[0]/2,label= '{b} samples'.format(b = sam),color='red')\n",
    "\n",
    "ax.set_ylabel('V  [mV]')\n",
    "ax.set_xlabel(r't [ns]')\n",
    "ax.set_title('Cycle A at step {a}'.format(a = step )) #Voltage Offset = 3mV, Marker Ampl = 50mV \n",
    "#ax.legend(loc=0)\n",
    "#plt.legend(bbox_to_anchor=(2.05, 1), loc='upper left', borderaxespad=0.)\n",
    "plt.show()\n",
    "\n",
    "fig.savefig(r'{loc}\\Cycle A, Probe width 25nano {mod} Hz ,{a} step, {loop}loop number.jpeg'.format(loc = PulseScheme_A_25nano['Measurement file Path'], a = step,mod = modulation, loop = loop_number))"
   ]
  },
  {
   "cell_type": "code",
   "execution_count": 30,
   "metadata": {},
   "outputs": [
    {
     "data": {
      "image/png": "[encoded data removed]",
      "text/plain": [
       "<Figure size 432x288 with 1 Axes>"
      ]
     },
     "metadata": {
      "needs_background": "light"
     },
     "output_type": "display_data"
    }
   ],
   "source": [
    "step = 30\n",
    "pul1 = Sweep_dir_noteil(PulseScheme_A_10nano,30,step,interval,sam)\n",
    "\n",
    "\n",
    "#Plot\n",
    "fig,ax= plt.subplots()\n",
    "ax.grid(True)\n",
    "\n",
    "plt.plot(pul1[1],pul1[0]/2,label= '{b} samples'.format(b = sam),color='red')\n",
    "\n",
    "ax.set_ylabel('V  [mV]')\n",
    "ax.set_xlabel(r't [ns]')\n",
    "ax.set_title('Cycle A at step {a}'.format(a = step )) #Voltage Offset = 3mV, Marker Ampl = 50mV \n",
    "#ax.legend(loc=0)\n",
    "#plt.legend(bbox_to_anchor=(2.05, 1), loc='upper left', borderaxespad=0.)\n",
    "plt.show()\n",
    "\n",
    "fig.savefig(r'{loc}\\Cycle A, Probe width 10nano {mod} Hz ,{a} step, {loop}loop number.jpeg'.format(loc = PulseScheme_A_10nano['Measurement file Path'], a = step,mod = modulation, loop = loop_number))"
   ]
  },
  {
   "cell_type": "code",
   "execution_count": 31,
   "metadata": {},
   "outputs": [
    {
     "data": {
      "image/png": "[encoded data removed]",
      "text/plain": [
       "<Figure size 432x288 with 1 Axes>"
      ]
     },
     "metadata": {
      "needs_background": "light"
     },
     "output_type": "display_data"
    }
   ],
   "source": [
    "step = 0\n",
    "pul1 = Sweep_dir_noteil(PulseScheme_B_10nano,70,step,interval,sam)\n",
    "\n",
    "\n",
    "#Plot\n",
    "fig,ax= plt.subplots()\n",
    "ax.grid(True)\n",
    "\n",
    "plt.plot(pul1[1],pul1[0]/2,label= '{b} samples'.format(b = sam),color='red')\n",
    "\n",
    "ax.set_ylabel('V  [mV]')\n",
    "ax.set_xlabel(r't [ns]')\n",
    "ax.set_title('Cycle B at step {a}'.format(a = step )) #Voltage Offset = 3mV, Marker Ampl = 50mV \n",
    "#ax.legend(loc=0)\n",
    "#plt.legend(bbox_to_anchor=(2.05, 1), loc='upper left', borderaxespad=0.)\n",
    "plt.show()\n",
    "\n",
    "fig.savefig(r'{loc}\\Cycle B, Probe width 10nano {mod} Hz  ,{a} step, {loop}loop number.jpeg'.format(loc = PulseScheme_A_10nano['Measurement file Path'], a = step,mod = modulation, loop = loop_number))"
   ]
  },
  {
   "cell_type": "code",
   "execution_count": 21,
   "metadata": {},
   "outputs": [
    {
     "data": {
      "image/png": "[encoded data removed]",
      "text/plain": [
       "<Figure size 432x288 with 1 Axes>"
      ]
     },
     "metadata": {
      "needs_background": "light"
     },
     "output_type": "display_data"
    }
   ],
   "source": [
    "step = 70\n",
    "pul1 = Sweep_dir_noteil(PulseScheme_B_10nano,70,step,interval,sam)\n",
    "\n",
    "\n",
    "#Plot\n",
    "fig,ax= plt.subplots()\n",
    "ax.grid(True)\n",
    "\n",
    "plt.plot(pul1[1],pul1[0]/2,label= '{b} samples'.format(b = sam),color='red')\n",
    "\n",
    "ax.set_ylabel('V  [mV]')\n",
    "ax.set_xlabel(r't [ns]')\n",
    "ax.set_title('Cycle B at step {a}'.format(a = step )) #Voltage Offset = 3mV, Marker Ampl = 50mV \n",
    "#ax.legend(loc=0)\n",
    "#plt.legend(bbox_to_anchor=(2.05, 1), loc='upper left', borderaxespad=0.)\n",
    "plt.show()\n",
    "\n",
    "fig.savefig(r'{loc}\\Cycle B, Probe width 10nano 93 Hz {mod} ,{a} step, {loop}loop number.jpeg'.format(loc = PulseScheme_A_10nano['Measurement file Path'], a = step,mod = modulation, loop = loop_number))"
   ]
  },
  {
   "cell_type": "code",
   "execution_count": 21,
   "metadata": {},
   "outputs": [],
   "source": [
    "sweeping_run_a_10nano = Sweeping_Single_List_File_teil(PulseScheme_A_10nano,30,interval,sam,0,30,AWG_Settings_10nano,'A')[0]\n",
    "sweeping_run_b_10nano = Sweeping_Single_List_File_teil(PulseScheme_B_10nano,30,interval,sam,0,30,AWG_Settings_10nano,'B')[0]"
   ]
  },
  {
   "cell_type": "code",
   "execution_count": 23,
   "metadata": {},
   "outputs": [],
   "source": [
    "#Exporting pickle\n",
    "\n",
    "with open(r\"{dict}\\cycleA_31steps_93Hz_10nano_.p\".format(dict = PulseScheme_A_10nano['Measurement file Path']), \"wb\") as k:\n",
    "    pickle.dump(sweeping_run_a_10nano, k)\n",
    "\n",
    "\n",
    "with open(r\"{dict}\\cycleB_31steps_93Hz_10nano_.p\".format(dict = PulseScheme_B_10nano['Measurement file Path']), \"wb\") as h:\n",
    "    pickle.dump(sweeping_run_b_10nano, h)"
   ]
  },
  {
   "cell_type": "code",
   "execution_count": 16,
   "metadata": {},
   "outputs": [],
   "source": [
    "#Importing Pickle\n",
    "\n",
    "with open(r\"{dict}\\cycleA_71steps_93Hz_10nano_.p\".format(dict = PulseScheme_A_10nano['Measurement file Path']), \"rb\") as j:\n",
    "    sweeping_runa_10nano = pickle.load(j)\n",
    "\n",
    "with open(r\"{dict}\\cycleB_71steps_93Hz_10nano_.p\".format(dict = PulseScheme_A_10nano['Measurement file Path']), \"rb\") as f:\n",
    "    sweeping_runb_10nano= pickle.load(f)"
   ]
  },
  {
   "cell_type": "code",
   "execution_count": null,
   "metadata": {},
   "outputs": [
    {
     "data": {
      "text/plain": [
       "'D:\\\\Alejandro\\\\Pulses\\\\diode measurements\\\\Prepared Pulse Schemes CSV\\\\50,20\\\\1mili\\\\SegmentB_672816_30.csv'"
      ]
     },
     "metadata": {},
     "output_type": "display_data"
    }
   ],
   "source": [
    "sweeping_run_b_10nano['Pulse File Location, at step 30']"
   ]
  },
  {
   "cell_type": "code",
   "execution_count": 24,
   "metadata": {
    "scrolled": true
   },
   "outputs": [
    {
     "name": "stdout",
     "output_type": "stream",
     "text": [
      "Sequence loaded with the following segment data \"1,50000,0,1,0,335,2,50000,0,1,0,335\" and the advancement method is COND\n"
     ]
    },
    {
     "data": {
      "text/plain": [
       "0"
      ]
     },
     "execution_count": 24,
     "metadata": {},
     "output_type": "execute_result"
    }
   ],
   "source": [
    "Sequence_File(M8190A,sweeping_run_a_10nano['Pulse File Location, at step 70'],sweeping_run_b_10nano['Pulse File Location, at step 70'],loop_number)"
   ]
  },
  {
   "cell_type": "markdown",
   "metadata": {},
   "source": [
    "# Loading"
   ]
  },
  {
   "cell_type": "code",
   "execution_count": 17,
   "metadata": {
    "scrolled": true
   },
   "outputs": [
    {
     "data": {
      "text/plain": [
       "12"
      ]
     },
     "execution_count": 17,
     "metadata": {},
     "output_type": "execute_result"
    }
   ],
   "source": [
    "M8190A.write('SEQ:DEL:ALL')"
   ]
  },
  {
   "cell_type": "code",
   "execution_count": 43,
   "metadata": {},
   "outputs": [],
   "source": [
    "Lock_In_Settings = {\n",
    "'Time Constant' : '100ms',\n",
    "'Sensitivity' : '200 miliVolts',\n",
    "'Reserve' : 'Normal',\n",
    "'db' : 24,\n",
    "'Modulation': r'{mod}Hz'.format(mod=modulation)\n",
    "}"
   ]
  },
  {
   "cell_type": "code",
   "execution_count": 44,
   "metadata": {},
   "outputs": [
    {
     "data": {
      "text/plain": [
       "50000"
      ]
     },
     "execution_count": 44,
     "metadata": {},
     "output_type": "execute_result"
    }
   ],
   "source": [
    "loop_number"
   ]
  },
  {
   "cell_type": "code",
   "execution_count": 79,
   "metadata": {},
   "outputs": [
    {
     "name": "stdout",
     "output_type": "stream",
     "text": [
      "Sequence loaded with the following segment data \"1,50000,0,1,0,335,2,50000,0,1,0,335\" and the advancement method is COND\n",
      "Average Value for measurement at step 0 is 1.191997493978081 V\n",
      "Sequence loaded with the following segment data \"1,50000,0,1,0,335,2,50000,0,1,0,335\" and the advancement method is COND\n",
      "Average Value for measurement at step 1 is 1.191979452684489 V\n",
      "Sequence loaded with the following segment data \"1,50000,0,1,0,335,2,50000,0,1,0,335\" and the advancement method is COND\n",
      "Average Value for measurement at step 2 is 1.1919349602234839 V\n",
      "Sequence loaded with the following segment data \"1,50000,0,1,0,335,2,50000,0,1,0,335\" and the advancement method is COND\n",
      "Average Value for measurement at step 3 is 1.1920181662936649 V\n",
      "Sequence loaded with the following segment data \"1,50000,0,1,0,335,2,50000,0,1,0,335\" and the advancement method is COND\n",
      "Average Value for measurement at step 4 is 1.1920032728299506 V\n",
      "Sequence loaded with the following segment data \"1,50000,0,1,0,335,2,50000,0,1,0,335\" and the advancement method is COND\n",
      "Average Value for measurement at step 5 is 1.1919477394731095 V\n",
      "Sequence loaded with the following segment data \"1,50000,0,1,0,335,2,50000,0,1,0,335\" and the advancement method is COND\n",
      "Average Value for measurement at step 6 is 1.1922756775701808 V\n",
      "Sequence loaded with the following segment data \"1,50000,0,1,0,335,2,50000,0,1,0,335\" and the advancement method is COND\n",
      "Average Value for measurement at step 7 is 1.227675562601101 V\n",
      "Sequence loaded with the following segment data \"1,50000,0,1,0,335,2,50000,0,1,0,335\" and the advancement method is COND\n",
      "Average Value for measurement at step 8 is 1.1920670751130167 V\n",
      "Sequence loaded with the following segment data \"1,50000,0,1,0,335,2,50000,0,1,0,335\" and the advancement method is COND\n",
      "Average Value for measurement at step 9 is 1.191934161520381 V\n",
      "Sequence loaded with the following segment data \"1,50000,0,1,0,335,2,50000,0,1,0,335\" and the advancement method is COND\n",
      "Average Value for measurement at step 10 is 1.1919611764782267 V\n",
      "Sequence loaded with the following segment data \"1,50000,0,1,0,335,2,50000,0,1,0,335\" and the advancement method is COND\n",
      "Average Value for measurement at step 11 is 1.1919719824613575 V\n",
      "Sequence loaded with the following segment data \"1,50000,0,1,0,335,2,50000,0,1,0,335\" and the advancement method is COND\n",
      "Average Value for measurement at step 12 is 1.1919701971250205 V\n",
      "Sequence loaded with the following segment data \"1,50000,0,1,0,335,2,50000,0,1,0,335\" and the advancement method is COND\n",
      "Average Value for measurement at step 13 is 1.1919566661548326 V\n",
      "Sequence loaded with the following segment data \"1,50000,0,1,0,335,2,50000,0,1,0,335\" and the advancement method is COND\n",
      "Average Value for measurement at step 14 is 1.1919329869569957 V\n",
      "Sequence loaded with the following segment data \"1,50000,0,1,0,335,2,50000,0,1,0,335\" and the advancement method is COND\n",
      "Average Value for measurement at step 15 is 1.1910761194774808 V\n",
      "Sequence loaded with the following segment data \"1,50000,0,1,0,335,2,50000,0,1,0,335\" and the advancement method is COND\n",
      "Average Value for measurement at step 16 is 1.224139421872172 V\n",
      "Sequence loaded with the following segment data \"1,50000,0,1,0,335,2,50000,0,1,0,335\" and the advancement method is COND\n",
      "Average Value for measurement at step 17 is 1.1904691051217415 V\n",
      "Sequence loaded with the following segment data \"1,50000,0,1,0,335,2,50000,0,1,0,335\" and the advancement method is COND\n",
      "Average Value for measurement at step 18 is 1.1566988584334839 V\n",
      "Sequence loaded with the following segment data \"1,50000,0,1,0,335,2,50000,0,1,0,335\" and the advancement method is COND\n",
      "Average Value for measurement at step 19 is 1.0929267453066087 V\n",
      "Sequence loaded with the following segment data \"1,50000,0,1,0,335,2,50000,0,1,0,335\" and the advancement method is COND\n",
      "Average Value for measurement at step 20 is 1.0265706940364563 V\n",
      "Sequence loaded with the following segment data \"1,50000,0,1,0,335,2,50000,0,1,0,335\" and the advancement method is COND\n",
      "Average Value for measurement at step 21 is 0.9971223314402996 V\n",
      "Sequence loaded with the following segment data \"1,50000,0,1,0,335,2,50000,0,1,0,335\" and the advancement method is COND\n",
      "Average Value for measurement at step 22 is 0.9270745921496325 V\n",
      "Sequence loaded with the following segment data \"1,50000,0,1,0,335,2,50000,0,1,0,335\" and the advancement method is COND\n",
      "Average Value for measurement at step 23 is 0.8603092465479765 V\n",
      "Sequence loaded with the following segment data \"1,50000,0,1,0,335,2,50000,0,1,0,335\" and the advancement method is COND\n",
      "Average Value for measurement at step 24 is 0.7931544227069639 V\n",
      "Sequence loaded with the following segment data \"1,50000,0,1,0,335,2,50000,0,1,0,335\" and the advancement method is COND\n",
      "Average Value for measurement at step 25 is 0.7645735085876035 V\n",
      "Sequence loaded with the following segment data \"1,50000,0,1,0,335,2,50000,0,1,0,335\" and the advancement method is COND\n",
      "Average Value for measurement at step 26 is 0.6903513047862081 V\n",
      "Sequence loaded with the following segment data \"1,50000,0,1,0,335,2,50000,0,1,0,335\" and the advancement method is COND\n",
      "Average Value for measurement at step 27 is 0.6194543418091921 V\n",
      "Sequence loaded with the following segment data \"1,50000,0,1,0,335,2,50000,0,1,0,335\" and the advancement method is COND\n",
      "Average Value for measurement at step 28 is 0.5490887107625396 V\n",
      "Sequence loaded with the following segment data \"1,50000,0,1,0,335,2,50000,0,1,0,335\" and the advancement method is COND\n",
      "Average Value for measurement at step 29 is 0.4787145355720145 V\n",
      "Sequence loaded with the following segment data \"1,50000,0,1,0,335,2,50000,0,1,0,335\" and the advancement method is COND\n",
      "Average Value for measurement at step 30 is 0.44630695761429584 V\n",
      "Sequence loaded with the following segment data \"1,50000,0,1,0,335,2,50000,0,1,0,335\" and the advancement method is COND\n",
      "Average Value for measurement at step 31 is 0.37182661714615745 V\n",
      "Sequence loaded with the following segment data \"1,50000,0,1,0,335,2,50000,0,1,0,335\" and the advancement method is COND\n",
      "Average Value for measurement at step 32 is 0.2980873851836932 V\n",
      "Sequence loaded with the following segment data \"1,50000,0,1,0,335,2,50000,0,1,0,335\" and the advancement method is COND\n",
      "Average Value for measurement at step 33 is 0.22437808765980422 V\n",
      "Sequence loaded with the following segment data \"1,50000,0,1,0,335,2,50000,0,1,0,335\" and the advancement method is COND\n",
      "Average Value for measurement at step 34 is 0.1925047575258772 V\n",
      "Sequence loaded with the following segment data \"1,50000,0,1,0,335,2,50000,0,1,0,335\" and the advancement method is COND\n",
      "Average Value for measurement at step 35 is 0.11432499362208406 V\n",
      "Sequence loaded with the following segment data \"1,50000,0,1,0,335,2,50000,0,1,0,335\" and the advancement method is COND\n",
      "Average Value for measurement at step 36 is 0.18530892266472052 V\n",
      "Sequence loaded with the following segment data \"1,50000,0,1,0,335,2,50000,0,1,0,335\" and the advancement method is COND\n",
      "Average Value for measurement at step 37 is 0.25587715661530536 V\n",
      "Sequence loaded with the following segment data \"1,50000,0,1,0,335,2,50000,0,1,0,335\" and the advancement method is COND\n",
      "Average Value for measurement at step 38 is 0.32357580083294557 V\n",
      "Sequence loaded with the following segment data \"1,50000,0,1,0,335,2,50000,0,1,0,335\" and the advancement method is COND\n",
      "Average Value for measurement at step 39 is 0.39598505507694715 V\n",
      "Sequence loaded with the following segment data \"1,50000,0,1,0,335,2,50000,0,1,0,335\" and the advancement method is COND\n",
      "Average Value for measurement at step 40 is 0.42552759219626246 V\n",
      "Sequence loaded with the following segment data \"1,50000,0,1,0,335,2,50000,0,1,0,335\" and the advancement method is COND\n",
      "Average Value for measurement at step 41 is 0.495967350018236 V\n",
      "Sequence loaded with the following segment data \"1,50000,0,1,0,335,2,50000,0,1,0,335\" and the advancement method is COND\n",
      "Average Value for measurement at step 42 is 0.563250924631004 V\n",
      "Sequence loaded with the following segment data \"1,50000,0,1,0,335,2,50000,0,1,0,335\" and the advancement method is COND\n",
      "Average Value for measurement at step 43 is 0.6304523329910933 V\n",
      "Sequence loaded with the following segment data \"1,50000,0,1,0,335,2,50000,0,1,0,335\" and the advancement method is COND\n",
      "Average Value for measurement at step 44 is 0.665206130940128 V\n",
      "Sequence loaded with the following segment data \"1,50000,0,1,0,335,2,50000,0,1,0,335\" and the advancement method is COND\n",
      "Average Value for measurement at step 45 is 0.7313581477290502 V\n",
      "Sequence loaded with the following segment data \"1,50000,0,1,0,335,2,50000,0,1,0,335\" and the advancement method is COND\n",
      "Average Value for measurement at step 46 is 0.7962193734605986 V\n",
      "Sequence loaded with the following segment data \"1,50000,0,1,0,335,2,50000,0,1,0,335\" and the advancement method is COND\n",
      "Average Value for measurement at step 47 is 0.8602487330744939 V\n",
      "Sequence loaded with the following segment data \"1,50000,0,1,0,335,2,50000,0,1,0,335\" and the advancement method is COND\n",
      "Average Value for measurement at step 48 is 0.9306648080470789 V\n",
      "Sequence loaded with the following segment data \"1,50000,0,1,0,335,2,50000,0,1,0,335\" and the advancement method is COND\n",
      "Average Value for measurement at step 49 is 0.9548701065422047 V\n",
      "Sequence loaded with the following segment data \"1,50000,0,1,0,335,2,50000,0,1,0,335\" and the advancement method is COND\n",
      "Average Value for measurement at step 50 is 1.0181479963143572 V\n",
      "Sequence loaded with the following segment data \"1,50000,0,1,0,335,2,50000,0,1,0,335\" and the advancement method is COND\n",
      "Average Value for measurement at step 51 is 1.078939107330305 V\n",
      "Sequence loaded with the following segment data \"1,50000,0,1,0,335,2,50000,0,1,0,335\" and the advancement method is COND\n",
      "Average Value for measurement at step 52 is 1.1396898193772773 V\n",
      "Sequence loaded with the following segment data \"1,50000,0,1,0,335,2,50000,0,1,0,335\" and the advancement method is COND\n",
      "Average Value for measurement at step 53 is 1.1422536561145613 V\n",
      "Sequence loaded with the following segment data \"1,50000,0,1,0,335,2,50000,0,1,0,335\" and the advancement method is COND\n",
      "Average Value for measurement at step 54 is 1.1458269125566838 V\n",
      "Sequence loaded with the following segment data \"1,50000,0,1,0,335,2,50000,0,1,0,335\" and the advancement method is COND\n",
      "Average Value for measurement at step 55 is 1.150081932542763 V\n",
      "Sequence loaded with the following segment data \"1,50000,0,1,0,335,2,50000,0,1,0,335\" and the advancement method is COND\n",
      "Average Value for measurement at step 56 is 1.1566957575863308 V\n",
      "Sequence loaded with the following segment data \"1,50000,0,1,0,335,2,50000,0,1,0,335\" and the advancement method is COND\n",
      "Average Value for measurement at step 57 is 1.1919463769795786 V\n",
      "Sequence loaded with the following segment data \"1,50000,0,1,0,335,2,50000,0,1,0,335\" and the advancement method is COND\n",
      "Average Value for measurement at step 58 is 1.1602719740138785 V\n",
      "Sequence loaded with the following segment data \"1,50000,0,1,0,335,2,50000,0,1,0,335\" and the advancement method is COND\n",
      "Average Value for measurement at step 59 is 1.1603369038743634 V\n",
      "Sequence loaded with the following segment data \"1,50000,0,1,0,335,2,50000,0,1,0,335\" and the advancement method is COND\n",
      "Average Value for measurement at step 60 is 1.1634401471623628 V\n",
      "Sequence loaded with the following segment data \"1,50000,0,1,0,335,2,50000,0,1,0,335\" and the advancement method is COND\n",
      "Average Value for measurement at step 61 is 1.1634481811755317 V\n",
      "Sequence loaded with the following segment data \"1,50000,0,1,0,335,2,50000,0,1,0,335\" and the advancement method is COND\n",
      "Average Value for measurement at step 62 is 1.1664645537755371 V\n",
      "Sequence loaded with the following segment data \"1,50000,0,1,0,335,2,50000,0,1,0,335\" and the advancement method is COND\n",
      "Average Value for measurement at step 63 is 1.1674611942567275 V\n",
      "Sequence loaded with the following segment data \"1,50000,0,1,0,335,2,50000,0,1,0,335\" and the advancement method is COND\n",
      "Average Value for measurement at step 64 is 1.167445032265214 V\n",
      "Sequence loaded with the following segment data \"1,50000,0,1,0,335,2,50000,0,1,0,335\" and the advancement method is COND\n",
      "Average Value for measurement at step 65 is 1.1700317496149184 V\n",
      "Sequence loaded with the following segment data \"1,50000,0,1,0,335,2,50000,0,1,0,335\" and the advancement method is COND\n",
      "Average Value for measurement at step 66 is 1.205500321784286 V\n",
      "Sequence loaded with the following segment data \"1,50000,0,1,0,335,2,50000,0,1,0,335\" and the advancement method is COND\n",
      "Average Value for measurement at step 67 is 1.1709378077770884 V\n",
      "Sequence loaded with the following segment data \"1,50000,0,1,0,335,2,50000,0,1,0,335\" and the advancement method is COND\n",
      "Average Value for measurement at step 68 is 1.170908161798308 V\n",
      "Sequence loaded with the following segment data \"1,50000,0,1,0,335,2,50000,0,1,0,335\" and the advancement method is COND\n",
      "Average Value for measurement at step 69 is 1.1722924081914392 V\n",
      "Sequence loaded with the following segment data \"1,50000,0,1,0,335,2,50000,0,1,0,335\" and the advancement method is COND\n",
      "Average Value for measurement at step 70 is 1.1735488151119442 V\n"
     ]
    }
   ],
   "source": [
    "playingtime = 10\n",
    "\n",
    "data, averaged_data = Voltage_Autocorrelation_loop_cut(M8190A,DAQ_Settings1,playingtime,sweeping_run_a_10nano,sweeping_run_b_10nano,PulseScheme_A_10nano['Measurement file Path'],Lock_In_Settings,loop_number,2)"
   ]
  },
  {
   "cell_type": "code",
   "execution_count": 80,
   "metadata": {},
   "outputs": [
    {
     "data": {
      "image/png": "[encoded data removed]",
      "text/plain": [
       "<Figure size 432x288 with 1 Axes>"
      ]
     },
     "metadata": {
      "needs_background": "light"
     },
     "output_type": "display_data"
    }
   ],
   "source": [
    "fig,ax= plt.subplots()\n",
    "ax.grid(True)\n",
    "for i in range(0,len(data)):\n",
    "    plt.plot(data[i][1],data[i][0],label= 'Step {st}'.format(st = i ))\n",
    "\n",
    "ax.set_ylabel(r'V  [arb. U]')\n",
    "ax.set_xlabel(r't  [s]')\n",
    "ax.set_title(r' STM Signal at Different Steps,  {b} Samples, 10ns probe duration'.format(b = len(Diode_Signal[0][1]) ))\n",
    "#ax.legend(bbox_to_anchor=(1.05, 1), loc='upper left', borderaxespad=0.)\n",
    "#ax.legend(loc=0)\n",
    "plt.show()\n",
    "\n",
    "fig.savefig(r'{loc}\\STM Signal time cstant = {a}, sensitivity {b},{c} daqseconds, probe duration 10ns ,{st} steps, {mod} Hz.jpeg'.format(mod = modulation ,loc = PulseScheme_A_10nano['Measurement file Path'],a = Lock_In_Settings['Time Constant'], b = Lock_In_Settings['Sensitivity'], c = playingtime, st = len (sweeping_run_a_10nano)),bbox_inches='tight')"
   ]
  },
  {
   "cell_type": "code",
   "execution_count": 81,
   "metadata": {},
   "outputs": [],
   "source": [
    "time_delay = np.linspace(-20,20,71)"
   ]
  },
  {
   "cell_type": "code",
   "execution_count": null,
   "metadata": {},
   "outputs": [],
   "source": [
    "%matplotlib widget"
   ]
  },
  {
   "cell_type": "code",
   "execution_count": 41,
   "metadata": {},
   "outputs": [
    {
     "data": {
      "text/plain": [
       "1.25e-10"
      ]
     },
     "execution_count": 41,
     "metadata": {},
     "output_type": "execute_result"
    }
   ],
   "source": [
    "1/8e9"
   ]
  },
  {
   "cell_type": "code",
   "execution_count": 82,
   "metadata": {},
   "outputs": [
    {
     "data": {
      "image/png": "[encoded data removed]",
      "text/plain": [
       "<Figure size 432x288 with 1 Axes>"
      ]
     },
     "metadata": {
      "needs_background": "light"
     },
     "output_type": "display_data"
    }
   ],
   "source": [
    "#change this to V regime\n",
    "fig,axes = plt.subplots()\n",
    "\n",
    "axes.grid(True)\n",
    "\n",
    "plt.plot(time_delay,averaged_data,'.-',label=r'10ns Probe Width ',color='brown')\n",
    "#plt.plot(tm,pul,label = '{a} samples'.format(a = len(pul)))\n",
    "\n",
    "axes.set_xlabel(r'time delay [ns]')\n",
    "axes.set_ylabel(r'STM Signal [arb Units]')\n",
    "axes.set_title(r'Auto-Correlation {st} steps '.format(st = len (time_delay)))\n",
    "\n",
    "axes.legend(loc = 0)\n",
    "plt.show()\n",
    "\n",
    "fig.savefig(r'{loc}\\Measured Autocorrelation function {st} steps 10nano {mod} Hz length tc = {a}, sens {b}, {c}s DAQ, {loop} loop number .jpeg'.format(loc = PulseScheme_A_10nano['Measurement file Path'],a = Lock_In_Settings['Time Constant'], b = Lock_In_Settings['Sensitivity'], c = playingtime, loop =loop_number,st = len (time_delay), mod = modulation ))"
   ]
  },
  {
   "cell_type": "code",
   "execution_count": null,
   "metadata": {},
   "outputs": [],
   "source": [
    "background_10n = Signal_to_Background(averaged_data,time_delay,8,8)\n",
    "background_10n"
   ]
  },
  {
   "cell_type": "code",
   "execution_count": null,
   "metadata": {},
   "outputs": [],
   "source": []
  },
  {
   "cell_type": "code",
   "execution_count": null,
   "metadata": {},
   "outputs": [],
   "source": [
    "fig,axes = plt.subplots()\n",
    "\n",
    "axes.grid(True)\n",
    "\n",
    "plt.plot(time_delay,background_10n[0],'.-',label=r'10ns Pulse Width ',color='brown')\n",
    "#plt.plot(tm,pul,label = '{a} samples'.format(a = len(pul)))\n",
    "\n",
    "axes.set_xlabel(r'time delay [ns]')\n",
    "axes.set_ylabel(r'STM Signal [arb Units]')\n",
    "axes.set_title(r'Auto-Correlation {st} steps '.format(st = len (time_delay)))\n",
    "\n",
    "axes.legend(loc = 0)\n",
    "plt.show()\n",
    "\n",
    "fig.savefig(r'{loc}\\Autocorrelation function {st} steps 10nano {mod} Hz length tc = {a}, sens {b}, {c}s DAQ, {loop} loop number .jpeg'.format(loc = PulseScheme_A_10nano['Measurement file Path'],a = Lock_In_Settings['Time Constant'], b = Lock_In_Settings['Sensitivity'], c = playingtime, loop =loop_number,st = len (time_delay), mod = modulation ))"
   ]
  },
  {
   "cell_type": "code",
   "execution_count": null,
   "metadata": {},
   "outputs": [],
   "source": [
    "norm_10n=(background_10n[0]-1)/(np.amax(background_10n[0]-1))\n",
    "np.savetxt(r'Averaged\\Signal to background\\Normalized autocorrelation 10nano.csv',norm_10n,delimiter=',')\n",
    "\n",
    "\n",
    "\n",
    "fig,axes = plt.subplots()\n",
    "\n",
    "axes.grid(True)\n",
    "\n",
    "\n",
    "plt.plot(time_delay,norm_10n,'.-',label=r'10ns Pulse Width ',color='brown')\n",
    "\n",
    "\n",
    "axes.set_xlabel(r'time delay [ns]')\n",
    "axes.set_ylabel(r'STM Signal [arb. units]')\n",
    "axes.set_title(r'Auto-Correlation {st} steps '.format(st = len (time_delay)))\n",
    "\n",
    "axes.legend(loc = 0)\n",
    "plt.show()\n",
    "\n",
    "fig.savefig(r'{loc}\\Normalized Autocorrelation function {st} steps 10nano {mod} Hz length tc = {a}, sens {b}, {c}s DAQ, {loop} loop number .jpeg'.format(loc = PulseScheme_A_10nano['Measurement file Path'],a = Lock_In_Settings['Time Constant'], b = Lock_In_Settings['Sensitivity'], c = playingtime, loop =loop_number,st = len (time_delay), mod = modulation ))"
   ]
  }
 ],
 "metadata": {
  "interpreter": {
   "hash": "9a32f0bf53af15acd232504180dc0ef28b8a6ac1a49da0a6c374e1f45bb445b6"
  },
  "kernelspec": {
   "display_name": "Python 3.8.5 64-bit ('base': conda)",
   "name": "python3"
  },
  "language_info": {
   "codemirror_mode": {
    "name": "ipython",
    "version": 3
   },
   "file_extension": ".py",
   "mimetype": "text/x-python",
   "name": "python",
   "nbconvert_exporter": "python",
   "pygments_lexer": "ipython3",
   "version": "3.8.5"
  },
  "orig_nbformat": 4
 },
 "nbformat": 4,
 "nbformat_minor": 2
}
