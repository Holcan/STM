{
 "cells": [
  {
   "cell_type": "code",
   "execution_count": 1,
   "metadata": {},
   "outputs": [],
   "source": [
    "import numpy as np\n",
    "from numpy import loadtxt\n",
    "import pandas as pd\n",
    "import time\n",
    "import matplotlib\n",
    "import matplotlib.pyplot as plt\n",
    "import pyvisa as visa\n",
    "from matplotlib import animation\n",
    "from time import sleep\n",
    "from matplotlib.animation import FuncAnimation\n",
    "#Importing the functions from the module and the pulses dictionaries\n",
    "from Sweeping import *\n",
    "from Dictionaries import *\n",
    "from PulseFiles import *\n",
    "from Instrument import *\n",
    "import pyqtgraph as pg \n",
    "import nidaqmx\n",
    "import pickle"
   ]
  },
  {
   "cell_type": "markdown",
   "metadata": {},
   "source": [
    "#  5nano"
   ]
  },
  {
   "cell_type": "code",
   "execution_count": 2,
   "metadata": {},
   "outputs": [],
   "source": [
    "modulation = 93 #Hz\n",
    "loop_number = 114802    \n",
    "res = 1/5124800000\n",
    "\n",
    "sam, sr , segment_length = Adj9(res,modulation,loop_number)"
   ]
  },
  {
   "cell_type": "code",
   "execution_count": 3,
   "metadata": {},
   "outputs": [
    {
     "data": {
      "text/plain": [
       "288"
      ]
     },
     "execution_count": 3,
     "metadata": {},
     "output_type": "execute_result"
    }
   ],
   "source": [
    "sam"
   ]
  },
  {
   "cell_type": "code",
   "execution_count": 4,
   "metadata": {},
   "outputs": [
    {
     "data": {
      "text/plain": [
       "6149713536"
      ]
     },
     "execution_count": 4,
     "metadata": {},
     "output_type": "execute_result"
    }
   ],
   "source": [
    "sr"
   ]
  },
  {
   "cell_type": "code",
   "execution_count": 5,
   "metadata": {},
   "outputs": [
    {
     "data": {
      "text/plain": [
       "46.83144967876435"
      ]
     },
     "execution_count": 5,
     "metadata": {},
     "output_type": "execute_result"
    }
   ],
   "source": [
    "interval = segment_length*1e9 #nano\n",
    "interval"
   ]
  },
  {
   "cell_type": "code",
   "execution_count": null,
   "metadata": {},
   "outputs": [],
   "source": []
  },
  {
   "cell_type": "markdown",
   "metadata": {},
   "source": [
    "# AWG and Pulse files setup"
   ]
  },
  {
   "cell_type": "code",
   "execution_count": 6,
   "metadata": {},
   "outputs": [],
   "source": [
    "AWG_Settings_5nano= {\n",
    "    'Visa Resource Name': 'TCPIP0::ibn3-036.ibn-net.kfa-juelich.de::hislip0::INSTR',\n",
    "    'Voltage Amplitude':150,\n",
    "    'Clock Sample Frecuency':sr,\n",
    "    'Output_Channel': 1,\n",
    "    'Mode': 'STS',\n",
    "    'Trigger In Threshold' : 1,\n",
    "    'Output Rout': 'DC', #DAC output rout only has the BNC outputs: Direct Out and (Averaged) Direct Out # DC\n",
    "    'Data Directory': r'D:\\Alejandro\\Pulses\\diode measurements\\Prepared Pulse Schemes CSV\\60,30\\neg\\5nano'\n",
    "}"
   ]
  },
  {
   "cell_type": "code",
   "execution_count": 7,
   "metadata": {},
   "outputs": [],
   "source": [
    "M8190A = VisaR(AWG_Settings_5nano,60000)"
   ]
  },
  {
   "cell_type": "code",
   "execution_count": 22,
   "metadata": {},
   "outputs": [
    {
     "data": {
      "text/plain": [
       "21"
      ]
     },
     "execution_count": 22,
     "metadata": {},
     "output_type": "execute_result"
    }
   ],
   "source": [
    "M8190A.write('FREQ:RAST {a}'.format(a = sr))"
   ]
  },
  {
   "cell_type": "code",
   "execution_count": null,
   "metadata": {},
   "outputs": [
    {
     "name": "stdout",
     "output_type": "stream",
     "text": [
      "Instruments Sampling Frecuency set to 1.25760000000000E+08Hz\n",
      "Instruments Direct Out DAC Output route Voltage set to 7.00000000000000E-01Volts\n",
      "AWG_Settings_Dict set to TRIGGERED Mode\n",
      "Trigger In threshold value set to 1.00000000000000E+00V\n"
     ]
    }
   ],
   "source": [
    "Initialization(M8190A,AWG_Settings_5nano)"
   ]
  },
  {
   "cell_type": "code",
   "execution_count": 9,
   "metadata": {},
   "outputs": [],
   "source": [
    "Pump_5nano = {\n",
    "    'Name':'Pump_5nano',\n",
    "    'Amplitude': -2*60,\n",
    "    'Start time':25,\n",
    "    'End time':2e-10,\n",
    "    'Start Duration':5,\n",
    "    'End Duration':60,\n",
    "    'Sweep time':0,\n",
    "    'Sweep Duration':0\n",
    "}"
   ]
  },
  {
   "cell_type": "code",
   "execution_count": 10,
   "metadata": {},
   "outputs": [],
   "source": [
    "ProbeA_5nano = {\n",
    "    'Name':'ProbeA_5nano',\n",
    "    'Amplitude':-2*30,\n",
    "    'Start time':15,\n",
    "    'End time':35,\n",
    "    'Start Duration':5,\n",
    "    'End Duration':60,\n",
    "    'Sweep time':1,\n",
    "    'Sweep Duration':0\n",
    "}"
   ]
  },
  {
   "cell_type": "code",
   "execution_count": 11,
   "metadata": {},
   "outputs": [],
   "source": [
    "ProbeB_5nano= {\n",
    "    'Name':'ProbeB_5nano',\n",
    "    'Amplitude':2*30,\n",
    "    'Start time':15,\n",
    "    'End time':35,\n",
    "    'Start Duration':5,\n",
    "    'End Duration':60,\n",
    "    'Sweep time':1,\n",
    "    'Sweep Duration':0\n",
    "}"
   ]
  },
  {
   "cell_type": "code",
   "execution_count": 13,
   "metadata": {},
   "outputs": [],
   "source": [
    "PulseScheme_A_5nano =  {\n",
    "    'Name' : 'PulseScheme_A_5nano',\n",
    "    'Pulse Scheme': [Pump_5nano,ProbeA_5nano],\n",
    "    'Number of repetitions': 1,\n",
    "    'Measurement file Path': r'D:\\Alejandro\\Pulses\\diode measurements\\Autocorrelation measurements\\60,30\\neg\\5nano'\n",
    "}"
   ]
  },
  {
   "cell_type": "code",
   "execution_count": 14,
   "metadata": {},
   "outputs": [],
   "source": [
    "PulseScheme_B_5nano =  {\n",
    "    'Name' : 'PulseScheme_B_5nano',\n",
    "    'Pulse Scheme': [Pump_5nano,ProbeB_5nano],\n",
    "    'Number of repetitions': 1,\n",
    "    'Measurement file Path': r'D:\\Alejandro\\Pulses\\diode measurements\\Autocorrelation measurements\\60,30\\neg\\5nano'\n",
    "}"
   ]
  },
  {
   "cell_type": "code",
   "execution_count": 87,
   "metadata": {},
   "outputs": [
    {
     "data": {
      "image/png": "[encoded data removed]",
      "text/plain": [
       "<Figure size 432x288 with 1 Axes>"
      ]
     },
     "metadata": {
      "needs_background": "light"
     },
     "output_type": "display_data"
    }
   ],
   "source": [
    "step = 0\n",
    "pul1 = Sweep_teil(PulseScheme_A_5nano,70,step,interval,sam)\n",
    "\n",
    "\n",
    "#Plot\n",
    "fig,ax= plt.subplots()\n",
    "ax.grid(True)\n",
    "\n",
    "plt.plot(pul1[1],pul1[0]/2,label= '{b} samples'.format(b = sam),color='red')\n",
    "\n",
    "ax.set_ylabel('V  [mV]')\n",
    "ax.set_xlabel(r't [ns]')\n",
    "ax.set_title('Cycle A at step {a}'.format(a = step )) #Voltage Offset = 3mV, Marker Ampl = 50mV \n",
    "#ax.legend(loc=0)\n",
    "#plt.legend(bbox_to_anchor=(2.05, 1), loc='upper left', borderaxespad=0.)\n",
    "plt.show()\n",
    "\n",
    "fig.savefig(r'{loc}\\Cycle A, Probe width 5nano {mod} Hz ,{a} step, {loop}loop number.jpeg'.format(loc = PulseScheme_A_5nano['Measurement file Path'], a = step,mod = modulation, loop = loop_number))"
   ]
  },
  {
   "cell_type": "code",
   "execution_count": 88,
   "metadata": {},
   "outputs": [
    {
     "data": {
      "image/png": "[encoded data removed]",
      "text/plain": [
       "<Figure size 432x288 with 1 Axes>"
      ]
     },
     "metadata": {
      "needs_background": "light"
     },
     "output_type": "display_data"
    }
   ],
   "source": [
    "step = 70\n",
    "pul1 = Sweep_teil(PulseScheme_A_5nano,70,step,interval,sam)\n",
    "\n",
    "\n",
    "#Plot\n",
    "fig,ax= plt.subplots()\n",
    "ax.grid(True)\n",
    "\n",
    "plt.plot(pul1[1],pul1[0]/2,label= '{b} samples'.format(b = sam),color='red')\n",
    "\n",
    "ax.set_ylabel('V  [mV]')\n",
    "ax.set_xlabel(r't [ns]')\n",
    "ax.set_title('Cycle A at step {a}'.format(a = step )) #Voltage Offset = 3mV, Marker Ampl = 50mV \n",
    "#ax.legend(loc=0)\n",
    "#plt.legend(bbox_to_anchor=(2.05, 1), loc='upper left', borderaxespad=0.)\n",
    "plt.show()\n",
    "\n",
    "fig.savefig(r'{loc}\\Cycle A, Probe width 5nano {mod} Hz ,{a} step, {loop}loop number.jpeg'.format(loc = PulseScheme_A_5nano['Measurement file Path'], a = step,mod = modulation, loop = loop_number))"
   ]
  },
  {
   "cell_type": "code",
   "execution_count": 89,
   "metadata": {},
   "outputs": [
    {
     "data": {
      "image/png": "[encoded data removed]",
      "text/plain": [
       "<Figure size 432x288 with 1 Axes>"
      ]
     },
     "metadata": {
      "needs_background": "light"
     },
     "output_type": "display_data"
    }
   ],
   "source": [
    "step = 0\n",
    "pul1 = Sweep_teil(PulseScheme_B_5nano,70,step,interval,sam)\n",
    "\n",
    "\n",
    "#Plot\n",
    "fig,ax= plt.subplots()\n",
    "ax.grid(True)\n",
    "\n",
    "plt.plot(pul1[1],pul1[0]/2,label= '{b} samples'.format(b = sam),color='red')\n",
    "\n",
    "ax.set_ylabel('V  [mV]')\n",
    "ax.set_xlabel(r't [ns]')\n",
    "ax.set_title('Cycle B at step {a}'.format(a = step )) #Voltage Offset = 3mV, Marker Ampl = 50mV \n",
    "#ax.legend(loc=0)\n",
    "#plt.legend(bbox_to_anchor=(2.05, 1), loc='upper left', borderaxespad=0.)\n",
    "plt.show()\n",
    "\n",
    "fig.savefig(r'{loc}\\Cycle B, Probe width 5nano {mod} Hz ,{a} step, {loop}loop number.jpeg'.format(loc = PulseScheme_A_5nano['Measurement file Path'], a = step,mod = modulation, loop = loop_number))"
   ]
  },
  {
   "cell_type": "code",
   "execution_count": 90,
   "metadata": {},
   "outputs": [
    {
     "data": {
      "image/png": "[encoded data removed]",
      "text/plain": [
       "<Figure size 432x288 with 1 Axes>"
      ]
     },
     "metadata": {
      "needs_background": "light"
     },
     "output_type": "display_data"
    }
   ],
   "source": [
    "step = 70\n",
    "pul1 = Sweep_teil(PulseScheme_B_5nano,70,step,interval,sam)\n",
    "\n",
    "\n",
    "#Plot\n",
    "fig,ax= plt.subplots()\n",
    "ax.grid(True)\n",
    "\n",
    "plt.plot(pul1[1],pul1[0]/2,label= '{b} samples'.format(b = sam),color='red')\n",
    "\n",
    "ax.set_ylabel('V  [mV]')\n",
    "ax.set_xlabel(r't [ns]')\n",
    "ax.set_title('Cycle B at step {a}'.format(a = step )) #Voltage Offset = 3mV, Marker Ampl = 50mV \n",
    "#ax.legend(loc=0)\n",
    "#plt.legend(bbox_to_anchor=(2.05, 1), loc='upper left', borderaxespad=0.)\n",
    "plt.show()\n",
    "\n",
    "fig.savefig(r'{loc}\\Cycle B, Probe width 5nano {mod} Hz ,{a} step, {loop}loop number.jpeg'.format(loc = PulseScheme_A_5nano['Measurement file Path'], a = step,mod = modulation, loop = loop_number))"
   ]
  },
  {
   "cell_type": "code",
   "execution_count": 92,
   "metadata": {},
   "outputs": [],
   "source": [
    "sweeping_run_a_5nano = Sweeping_Single_List_File_teil(PulseScheme_A_5nano,70,interval,sam,0,70,AWG_Settings_5nano,'A')[0]\n",
    "sweeping_run_b_5nano = Sweeping_Single_List_File_teil(PulseScheme_B_5nano,70,interval,sam,0,70,AWG_Settings_5nano,'B')[0]"
   ]
  },
  {
   "cell_type": "code",
   "execution_count": 94,
   "metadata": {},
   "outputs": [],
   "source": [
    "#Exporting pickle\n",
    "\n",
    "with open(r\"{dict}\\cycleA_71steps_93Hz_5nano_.p\".format(dict = PulseScheme_A_5nano['Measurement file Path']), \"wb\") as k:\n",
    "    pickle.dump(sweeping_run_a_5nano, k)\n",
    "\n",
    "\n",
    "with open(r\"{dict}\\cycleB_71steps_93Hz_5nano_.p\".format(dict = PulseScheme_B_5nano['Measurement file Path']), \"wb\") as h:\n",
    "    pickle.dump(sweeping_run_b_5nano, h)"
   ]
  },
  {
   "cell_type": "code",
   "execution_count": 20,
   "metadata": {},
   "outputs": [],
   "source": [
    "#Importing Pickle\n",
    "\n",
    "with open(r\"{dict}\\cycleA_71steps_93Hz_5nano_.p\".format(dict = PulseScheme_A_5nano['Measurement file Path']), \"rb\") as j:\n",
    "    sweeping_runa_5nano = pickle.load(j)\n",
    "\n",
    "with open(r\"{dict}\\cycleA_71steps_93Hz_5nano_.p\".format(dict = PulseScheme_A_5nano['Measurement file Path']), \"rb\") as f:\n",
    "    sweeping_runb_5nano= pickle.load(f)"
   ]
  },
  {
   "cell_type": "code",
   "execution_count": null,
   "metadata": {},
   "outputs": [
    {
     "data": {
      "text/plain": [
       "'D:\\\\Alejandro\\\\Pulses\\\\diode measurements\\\\Prepared Pulse Schemes CSV\\\\50,20\\\\100nano\\\\SegmentA_4128_30.csv'"
      ]
     },
     "metadata": {},
     "output_type": "display_data"
    }
   ],
   "source": [
    "sweeping_runa_5nano['Pulse File Location, at step 30']"
   ]
  },
  {
   "cell_type": "code",
   "execution_count": null,
   "metadata": {},
   "outputs": [
    {
     "data": {
      "text/plain": [
       "'D:\\\\Alejandro\\\\Pulses\\\\diode measurements\\\\Prepared Pulse Schemes CSV\\\\50,20\\\\1mili\\\\SegmentB_672816_30.csv'"
      ]
     },
     "metadata": {},
     "output_type": "display_data"
    }
   ],
   "source": [
    "sweeping_run_b_5nano['Pulse File Location, at step 30']"
   ]
  },
  {
   "cell_type": "code",
   "execution_count": null,
   "metadata": {},
   "outputs": [
    {
     "data": {
      "text/plain": [
       "8000"
      ]
     },
     "metadata": {},
     "output_type": "display_data"
    }
   ],
   "source": [
    "loop_5nano"
   ]
  },
  {
   "cell_type": "code",
   "execution_count": 24,
   "metadata": {
    "scrolled": true
   },
   "outputs": [
    {
     "name": "stdout",
     "output_type": "stream",
     "text": [
      "Sequence loaded with the following segment data \"1,114802,0,1,0,287,2,114802,0,1,0,287\" and the advancement method is COND\n"
     ]
    },
    {
     "data": {
      "text/plain": [
       "0"
      ]
     },
     "execution_count": 24,
     "metadata": {},
     "output_type": "execute_result"
    }
   ],
   "source": [
    "Sequence_File(M8190A,sweeping_runa_5nano['Pulse File Location, at step 70'],sweeping_runb_5nano['Pulse File Location, at step 70'],loop_number)"
   ]
  },
  {
   "cell_type": "code",
   "execution_count": 47,
   "metadata": {},
   "outputs": [
    {
     "data": {
      "text/plain": [
       "4"
      ]
     },
     "execution_count": 47,
     "metadata": {},
     "output_type": "execute_result"
    }
   ],
   "source": [
    "2+2"
   ]
  },
  {
   "cell_type": "markdown",
   "metadata": {},
   "source": [
    "ready to load"
   ]
  },
  {
   "cell_type": "markdown",
   "metadata": {},
   "source": [
    "# Loading"
   ]
  },
  {
   "cell_type": "code",
   "execution_count": 23,
   "metadata": {
    "scrolled": true
   },
   "outputs": [
    {
     "data": {
      "text/plain": [
       "12"
      ]
     },
     "execution_count": 23,
     "metadata": {},
     "output_type": "execute_result"
    }
   ],
   "source": [
    "M8190A.write('SEQ:DEL:ALL')"
   ]
  },
  {
   "cell_type": "code",
   "execution_count": null,
   "metadata": {
    "scrolled": false
   },
   "outputs": [
    {
     "name": "stdout",
     "output_type": "stream",
     "text": [
      "Dummy File Loaded and playing\n",
      "Dummy File stopped and erased from AWGs memmory\n"
     ]
    }
   ],
   "source": [
    "Dummy_File(M8190A)"
   ]
  },
  {
   "cell_type": "code",
   "execution_count": 100,
   "metadata": {},
   "outputs": [],
   "source": [
    "Lock_In_Settings = {\n",
    "'Time Constant' : '100ms',\n",
    "'Sensitivity' : '200 miliVolts',\n",
    "'Reserve' : 'Normal',\n",
    "'db' : 24,\n",
    "'Modulation': r'{mod}Hz'.format(mod=modulation)\n",
    "}"
   ]
  },
  {
   "cell_type": "code",
   "execution_count": 101,
   "metadata": {},
   "outputs": [
    {
     "data": {
      "text/plain": [
       "114802"
      ]
     },
     "execution_count": 101,
     "metadata": {},
     "output_type": "execute_result"
    }
   ],
   "source": [
    "loop_number"
   ]
  },
  {
   "cell_type": "code",
   "execution_count": 111,
   "metadata": {},
   "outputs": [
    {
     "name": "stdout",
     "output_type": "stream",
     "text": [
      "Sequence loaded with the following segment data \"1,114802,0,1,0,287,2,114802,0,1,0,287\" and the advancement method is COND\n",
      "Average Value for measurement at step 0 is 4.033071136363423 V\n",
      "Sequence loaded with the following segment data \"1,114802,0,1,0,287,2,114802,0,1,0,287\" and the advancement method is COND\n",
      "Average Value for measurement at step 1 is 4.033249906146306 V\n",
      "Sequence loaded with the following segment data \"1,114802,0,1,0,287,2,114802,0,1,0,287\" and the advancement method is COND\n",
      "Average Value for measurement at step 2 is 4.033083304924338 V\n",
      "Sequence loaded with the following segment data \"1,114802,0,1,0,287,2,114802,0,1,0,287\" and the advancement method is COND\n",
      "Average Value for measurement at step 3 is 3.9789178037425974 V\n",
      "Sequence loaded with the following segment data \"1,114802,0,1,0,287,2,114802,0,1,0,287\" and the advancement method is COND\n",
      "Average Value for measurement at step 4 is 4.0333654839823785 V\n",
      "Sequence loaded with the following segment data \"1,114802,0,1,0,287,2,114802,0,1,0,287\" and the advancement method is COND\n",
      "Average Value for measurement at step 5 is 4.032311846361702 V\n",
      "Sequence loaded with the following segment data \"1,114802,0,1,0,287,2,114802,0,1,0,287\" and the advancement method is COND\n",
      "Average Value for measurement at step 6 is 4.031914042486016 V\n",
      "Sequence loaded with the following segment data \"1,114802,0,1,0,287,2,114802,0,1,0,287\" and the advancement method is COND\n",
      "Average Value for measurement at step 7 is 3.977160598096221 V\n",
      "Sequence loaded with the following segment data \"1,114802,0,1,0,287,2,114802,0,1,0,287\" and the advancement method is COND\n",
      "Average Value for measurement at step 8 is 4.031425984537093 V\n",
      "Sequence loaded with the following segment data \"1,114802,0,1,0,287,2,114802,0,1,0,287\" and the advancement method is COND\n",
      "Average Value for measurement at step 9 is 4.028288845032096 V\n",
      "Sequence loaded with the following segment data \"1,114802,0,1,0,287,2,114802,0,1,0,287\" and the advancement method is COND\n",
      "Average Value for measurement at step 10 is 4.026180583188137 V\n",
      "Sequence loaded with the following segment data \"1,114802,0,1,0,287,2,114802,0,1,0,287\" and the advancement method is COND\n",
      "Average Value for measurement at step 11 is 3.9699941628399738 V\n",
      "Sequence loaded with the following segment data \"1,114802,0,1,0,287,2,114802,0,1,0,287\" and the advancement method is COND\n",
      "Average Value for measurement at step 12 is 4.022008317395166 V\n",
      "Sequence loaded with the following segment data \"1,114802,0,1,0,287,2,114802,0,1,0,287\" and the advancement method is COND\n",
      "Average Value for measurement at step 13 is 4.020399577342022 V\n",
      "Sequence loaded with the following segment data \"1,114802,0,1,0,287,2,114802,0,1,0,287\" and the advancement method is COND\n",
      "Average Value for measurement at step 14 is 4.019513762533741 V\n",
      "Sequence loaded with the following segment data \"1,114802,0,1,0,287,2,114802,0,1,0,287\" and the advancement method is COND\n",
      "Average Value for measurement at step 15 is 3.9644958538285486 V\n",
      "Sequence loaded with the following segment data \"1,114802,0,1,0,287,2,114802,0,1,0,287\" and the advancement method is COND\n",
      "Average Value for measurement at step 16 is 4.017333006199252 V\n",
      "Sequence loaded with the following segment data \"1,114802,0,1,0,287,2,114802,0,1,0,287\" and the advancement method is COND\n",
      "Average Value for measurement at step 17 is 4.019411058005819 V\n",
      "Sequence loaded with the following segment data \"1,114802,0,1,0,287,2,114802,0,1,0,287\" and the advancement method is COND\n",
      "Average Value for measurement at step 18 is 3.9687157594735045 V\n",
      "Sequence loaded with the following segment data \"1,114802,0,1,0,287,2,114802,0,1,0,287\" and the advancement method is COND\n",
      "Average Value for measurement at step 19 is 3.8698909192703264 V\n",
      "Sequence loaded with the following segment data \"1,114802,0,1,0,287,2,114802,0,1,0,287\" and the advancement method is COND\n",
      "Average Value for measurement at step 20 is 3.8353812292976697 V\n",
      "Sequence loaded with the following segment data \"1,114802,0,1,0,287,2,114802,0,1,0,287\" and the advancement method is COND\n",
      "Average Value for measurement at step 21 is 3.748152399949193 V\n",
      "Sequence loaded with the following segment data \"1,114802,0,1,0,287,2,114802,0,1,0,287\" and the advancement method is COND\n",
      "Average Value for measurement at step 22 is 3.6612419021732094 V\n",
      "Sequence loaded with the following segment data \"1,114802,0,1,0,287,2,114802,0,1,0,287\" and the advancement method is COND\n",
      "Average Value for measurement at step 23 is 3.564250610840545 V\n",
      "Sequence loaded with the following segment data \"1,114802,0,1,0,287,2,114802,0,1,0,287\" and the advancement method is COND\n",
      "Average Value for measurement at step 24 is 3.5333287931951425 V\n",
      "Sequence loaded with the following segment data \"1,114802,0,1,0,287,2,114802,0,1,0,287\" and the advancement method is COND\n",
      "Average Value for measurement at step 25 is 3.4484592823480362 V\n",
      "Sequence loaded with the following segment data \"1,114802,0,1,0,287,2,114802,0,1,0,287\" and the advancement method is COND\n",
      "Average Value for measurement at step 26 is 3.365089435094542 V\n",
      "Sequence loaded with the following segment data \"1,114802,0,1,0,287,2,114802,0,1,0,287\" and the advancement method is COND\n",
      "Average Value for measurement at step 27 is 3.271379361070733 V\n",
      "Sequence loaded with the following segment data \"1,114802,0,1,0,287,2,114802,0,1,0,287\" and the advancement method is COND\n",
      "Average Value for measurement at step 28 is 3.24089699887924 V\n",
      "Sequence loaded with the following segment data \"1,114802,0,1,0,287,2,114802,0,1,0,287\" and the advancement method is COND\n",
      "Average Value for measurement at step 29 is 3.1604688832673897 V\n",
      "Sequence loaded with the following segment data \"1,114802,0,1,0,287,2,114802,0,1,0,287\" and the advancement method is COND\n",
      "Average Value for measurement at step 30 is 3.079188377608765 V\n",
      "Sequence loaded with the following segment data \"1,114802,0,1,0,287,2,114802,0,1,0,287\" and the advancement method is COND\n",
      "Average Value for measurement at step 31 is 2.988034612388768 V\n",
      "Sequence loaded with the following segment data \"1,114802,0,1,0,287,2,114802,0,1,0,287\" and the advancement method is COND\n",
      "Average Value for measurement at step 32 is 2.9597351373613026 V\n",
      "Sequence loaded with the following segment data \"1,114802,0,1,0,287,2,114802,0,1,0,287\" and the advancement method is COND\n",
      "Average Value for measurement at step 33 is 2.8799948619013063 V\n",
      "Sequence loaded with the following segment data \"1,114802,0,1,0,287,2,114802,0,1,0,287\" and the advancement method is COND\n",
      "Average Value for measurement at step 34 is 2.7988994339622804 V\n",
      "Sequence loaded with the following segment data \"1,114802,0,1,0,287,2,114802,0,1,0,287\" and the advancement method is COND\n",
      "Average Value for measurement at step 35 is 2.7102497238046865 V\n",
      "Sequence loaded with the following segment data \"1,114802,0,1,0,287,2,114802,0,1,0,287\" and the advancement method is COND\n",
      "Average Value for measurement at step 36 is 2.7992970015236933 V\n",
      "Sequence loaded with the following segment data \"1,114802,0,1,0,287,2,114802,0,1,0,287\" and the advancement method is COND\n",
      "Average Value for measurement at step 37 is 2.8777365442613756 V\n",
      "Sequence loaded with the following segment data \"1,114802,0,1,0,287,2,114802,0,1,0,287\" and the advancement method is COND\n",
      "Average Value for measurement at step 38 is 2.9541816866426265 V\n",
      "Sequence loaded with the following segment data \"1,114802,0,1,0,287,2,114802,0,1,0,287\" and the advancement method is COND\n",
      "Average Value for measurement at step 39 is 2.9825683141979584 V\n",
      "Sequence loaded with the following segment data \"1,114802,0,1,0,287,2,114802,0,1,0,287\" and the advancement method is COND\n",
      "Average Value for measurement at step 40 is 3.0676675549154 V\n",
      "Sequence loaded with the following segment data \"1,114802,0,1,0,287,2,114802,0,1,0,287\" and the advancement method is COND\n",
      "Average Value for measurement at step 41 is 3.1460877020067564 V\n",
      "Sequence loaded with the following segment data \"1,114802,0,1,0,287,2,114802,0,1,0,287\" and the advancement method is COND\n",
      "Average Value for measurement at step 42 is 3.223320376848843 V\n",
      "Sequence loaded with the following segment data \"1,114802,0,1,0,287,2,114802,0,1,0,287\" and the advancement method is COND\n",
      "Average Value for measurement at step 43 is 3.2521475822193637 V\n",
      "Sequence loaded with the following segment data \"1,114802,0,1,0,287,2,114802,0,1,0,287\" and the advancement method is COND\n",
      "Average Value for measurement at step 44 is 3.3416289676136266 V\n",
      "Sequence loaded with the following segment data \"1,114802,0,1,0,287,2,114802,0,1,0,287\" and the advancement method is COND\n",
      "Average Value for measurement at step 45 is 3.4244946371578586 V\n",
      "Sequence loaded with the following segment data \"1,114802,0,1,0,287,2,114802,0,1,0,287\" and the advancement method is COND\n",
      "Average Value for measurement at step 46 is 3.5056390650366125 V\n",
      "Sequence loaded with the following segment data \"1,114802,0,1,0,287,2,114802,0,1,0,287\" and the advancement method is COND\n",
      "Average Value for measurement at step 47 is 3.534468924526802 V\n",
      "Sequence loaded with the following segment data \"1,114802,0,1,0,287,2,114802,0,1,0,287\" and the advancement method is COND\n",
      "Average Value for measurement at step 48 is 3.628171693097959 V\n",
      "Sequence loaded with the following segment data \"1,114802,0,1,0,287,2,114802,0,1,0,287\" and the advancement method is COND\n",
      "Average Value for measurement at step 49 is 3.71259204614526 V\n",
      "Sequence loaded with the following segment data \"1,114802,0,1,0,287,2,114802,0,1,0,287\" and the advancement method is COND\n",
      "Average Value for measurement at step 50 is 3.797205191191806 V\n",
      "Sequence loaded with the following segment data \"1,114802,0,1,0,287,2,114802,0,1,0,287\" and the advancement method is COND\n",
      "Average Value for measurement at step 51 is 3.829392609771975 V\n",
      "Sequence loaded with the following segment data \"1,114802,0,1,0,287,2,114802,0,1,0,287\" and the advancement method is COND\n",
      "Average Value for measurement at step 52 is 3.927103944112469 V\n",
      "Sequence loaded with the following segment data \"1,114802,0,1,0,287,2,114802,0,1,0,287\" and the advancement method is COND\n",
      "Average Value for measurement at step 53 is 3.973480431334798 V\n",
      "Sequence loaded with the following segment data \"1,114802,0,1,0,287,2,114802,0,1,0,287\" and the advancement method is COND\n",
      "Average Value for measurement at step 54 is 3.97257215885499 V\n",
      "Sequence loaded with the following segment data \"1,114802,0,1,0,287,2,114802,0,1,0,287\" and the advancement method is COND\n",
      "Average Value for measurement at step 55 is 3.9232349538790725 V\n",
      "Sequence loaded with the following segment data \"1,114802,0,1,0,287,2,114802,0,1,0,287\" and the advancement method is COND\n",
      "Average Value for measurement at step 56 is 3.9803335380272404 V\n",
      "Sequence loaded with the following segment data \"1,114802,0,1,0,287,2,114802,0,1,0,287\" and the advancement method is COND\n",
      "Average Value for measurement at step 57 is 3.986847569615959 V\n",
      "Sequence loaded with the following segment data \"1,114802,0,1,0,287,2,114802,0,1,0,287\" and the advancement method is COND\n",
      "Average Value for measurement at step 58 is 3.993423806637769 V\n",
      "Sequence loaded with the following segment data \"1,114802,0,1,0,287,2,114802,0,1,0,287\" and the advancement method is COND\n",
      "Average Value for measurement at step 59 is 3.9444408960789996 V\n",
      "Sequence loaded with the following segment data \"1,114802,0,1,0,287,2,114802,0,1,0,287\" and the advancement method is COND\n",
      "Average Value for measurement at step 60 is 4.000901550823364 V\n",
      "Sequence loaded with the following segment data \"1,114802,0,1,0,287,2,114802,0,1,0,287\" and the advancement method is COND\n",
      "Average Value for measurement at step 61 is 4.005744919451958 V\n",
      "Sequence loaded with the following segment data \"1,114802,0,1,0,287,2,114802,0,1,0,287\" and the advancement method is COND\n",
      "Average Value for measurement at step 62 is 4.00923555774557 V\n",
      "Sequence loaded with the following segment data \"1,114802,0,1,0,287,2,114802,0,1,0,287\" and the advancement method is COND\n",
      "Average Value for measurement at step 63 is 3.9582583637474986 V\n",
      "Sequence loaded with the following segment data \"1,114802,0,1,0,287,2,114802,0,1,0,287\" and the advancement method is COND\n",
      "Average Value for measurement at step 64 is 4.014072442867959 V\n",
      "Sequence loaded with the following segment data \"1,114802,0,1,0,287,2,114802,0,1,0,287\" and the advancement method is COND\n",
      "Average Value for measurement at step 65 is 4.016390905935868 V\n",
      "Sequence loaded with the following segment data \"1,114802,0,1,0,287,2,114802,0,1,0,287\" and the advancement method is COND\n",
      "Average Value for measurement at step 66 is 4.017755945885465 V\n",
      "Sequence loaded with the following segment data \"1,114802,0,1,0,287,2,114802,0,1,0,287\" and the advancement method is COND\n",
      "Average Value for measurement at step 67 is 3.9644581265999523 V\n",
      "Sequence loaded with the following segment data \"1,114802,0,1,0,287,2,114802,0,1,0,287\" and the advancement method is COND\n",
      "Average Value for measurement at step 68 is 4.019179620446933 V\n",
      "Sequence loaded with the following segment data \"1,114802,0,1,0,287,2,114802,0,1,0,287\" and the advancement method is COND\n",
      "Average Value for measurement at step 69 is 4.019763617373269 V\n",
      "Sequence loaded with the following segment data \"1,114802,0,1,0,287,2,114802,0,1,0,287\" and the advancement method is COND\n",
      "Average Value for measurement at step 70 is 4.021197722138857 V\n"
     ]
    }
   ],
   "source": [
    "playingtime = 10\n",
    "\n",
    "data, averaged_data = Voltage_Autocorrelation_loop_cut(M8190A,DAQ_Settings1,playingtime,sweeping_run_a_5nano,sweeping_run_b_5nano,PulseScheme_A_5nano['Measurement file Path'],Lock_In_Settings,loop_number,2)"
   ]
  },
  {
   "cell_type": "code",
   "execution_count": 112,
   "metadata": {},
   "outputs": [
    {
     "data": {
      "image/png": "[encoded data removed]",
      "text/plain": [
       "<Figure size 432x288 with 1 Axes>"
      ]
     },
     "metadata": {
      "needs_background": "light"
     },
     "output_type": "display_data"
    }
   ],
   "source": [
    "fig,ax= plt.subplots()\n",
    "ax.grid(True)\n",
    "for i in range(0,len(data)):\n",
    "    plt.plot(data[i][1],data[i][0],label= 'Step {st}'.format(st = i ))\n",
    "\n",
    "ax.set_ylabel(r'STM signal  [arb. Units]')\n",
    "ax.set_xlabel('t  [s]')\n",
    "ax.set_title(r' STM Signal at Different Steps,{b} Samples, 5ns probe duration'.format(b = len(data[0][1]) ))\n",
    "#ax.legend(bbox_to_anchor=(1.05, 1), loc='upper left', borderaxespad=0.)\n",
    "#ax.legend(loc=0)\n",
    "plt.show()\n",
    "\n",
    "fig.savefig(r'{loc}\\STM Signal time cstant = {a}, sensitivity {b},{c} daqseconds, , probe duration 5nano ,{st} steps, {mod} Hz.jpeg'.format(mod = modulation ,loc = PulseScheme_A_5nano['Measurement file Path'],a = Lock_In_Settings['Time Constant'], b = Lock_In_Settings['Sensitivity'], c = playingtime, st = len (sweeping_run_a_5nano)),bbox_inches='tight')"
   ]
  },
  {
   "cell_type": "code",
   "execution_count": 113,
   "metadata": {},
   "outputs": [],
   "source": [
    "time_delay = np.linspace(-10,10,71)"
   ]
  },
  {
   "cell_type": "code",
   "execution_count": null,
   "metadata": {},
   "outputs": [],
   "source": [
    "%matplotlib widget"
   ]
  },
  {
   "cell_type": "code",
   "execution_count": 41,
   "metadata": {},
   "outputs": [
    {
     "data": {
      "text/plain": [
       "1.25e-10"
      ]
     },
     "execution_count": 41,
     "metadata": {},
     "output_type": "execute_result"
    }
   ],
   "source": [
    "1/8e9"
   ]
  },
  {
   "cell_type": "code",
   "execution_count": 122,
   "metadata": {},
   "outputs": [
    {
     "data": {
      "image/png": "[encoded data removed]",
      "text/plain": [
       "<Figure size 432x288 with 1 Axes>"
      ]
     },
     "metadata": {
      "needs_background": "light"
     },
     "output_type": "display_data"
    }
   ],
   "source": [
    "#change this to V regime\n",
    "fig,axes = plt.subplots()\n",
    "\n",
    "axes.grid(True)\n",
    "\n",
    "plt.plot(time_delay,averaged_data,label=r'5ns Probe Width ',color='crimson')\n",
    "#plt.plot(tm,pul,label = '{a} samples'.format(a = len(pul)))\n",
    "\n",
    "axes.set_xlabel(r'time delay [ns]')\n",
    "axes.set_ylabel(r'STM Signal [arb Units]')\n",
    "axes.set_title(r'Auto-Correlation {st} steps '.format(st = len (time_delay)))\n",
    "\n",
    "axes.legend(loc = 0)\n",
    "plt.show()\n",
    "\n",
    "fig.savefig(r'{loc}\\Measured Autocorrelation function {st} steps 5nano {mod} Hz length tc = {a}, sens {b}, {c}s DAQ, {loop} loop number .jpeg'.format(loc = PulseScheme_A_5nano['Measurement file Path'],a = Lock_In_Settings['Time Constant'], b = Lock_In_Settings['Sensitivity'], c = playingtime, loop =loop_number,st = len (time_delay), mod = modulation ))"
   ]
  },
  {
   "cell_type": "code",
   "execution_count": 106,
   "metadata": {},
   "outputs": [],
   "source": [
    "background_5n = Signal_to_Background(averaged_data,time_delay,8,8)\n",
    "background_5n"
   ]
  },
  {
   "cell_type": "code",
   "execution_count": null,
   "metadata": {},
   "outputs": [],
   "source": [
    "#change this to V regime\n",
    "fig,axes = plt.subplots()\n",
    "\n",
    "axes.grid(True)\n",
    "\n",
    "plt.plot(time_delay,background_5n[0]-1,'.-',label=r'5ns Pulse Width ',color='crimson')\n",
    "#plt.plot(tm,pul,label = '{a} samples'.format(a = len(pul)))\n",
    "\n",
    "axes.set_xlabel(r'time delay [ns]')\n",
    "axes.set_ylabel(r'STM Signal [arb Units]')\n",
    "axes.set_title(r'Auto-Correlation {st} steps '.format(st = len (time_delay)))\n",
    "\n",
    "axes.legend(loc = 0)\n",
    "plt.show()\n",
    "\n",
    "fig.savefig(r'{loc}\\Autocorrelation function {st} steps 5nano {mod} Hz length tc = {a}, sens {b}, {c}s DAQ, {loop} loop number .jpeg'.format(loc = PulseScheme_A_5nano['Measurement file Path'],a = Lock_In_Settings['Time Constant'], b = Lock_In_Settings['Sensitivity'], c = playingtime, loop =loop_number,st = len (time_delay), mod = modulation ))"
   ]
  },
  {
   "cell_type": "code",
   "execution_count": 116,
   "metadata": {},
   "outputs": [
    {
     "data": {
      "text/plain": [
       "3e-08"
      ]
     },
     "execution_count": 116,
     "metadata": {},
     "output_type": "execute_result"
    }
   ],
   "source": [
    "norm_5n=(background_5n[0]-1)/(np.amax(background_5n[0]-1))\n",
    "np.savetxt(r'Averaged\\Signal to background\\Normalized autocorrelation 5nano.csv',norm_5n,delimiter=',')\n",
    "\n",
    "\n",
    "fig,axes = plt.subplots()\n",
    "\n",
    "axes.grid(True)\n",
    "\n",
    "plt.plot(time_delay,norm_5n,'.-',label=r'5ns Pulse Width ',color='crimson')\n",
    "#plt.plot(tm,pul,label = '{a} samples'.format(a = len(pul)))\n",
    "\n",
    "axes.set_xlabel(r'time delay [ns]')\n",
    "axes.set_ylabel(r'STM Signal [arb. units]')\n",
    "axes.set_title(r'Auto-Correlation {st} steps '.format(st = len (time_delay)))\n",
    "\n",
    "axes.legend(loc = 0)\n",
    "plt.show()\n",
    "\n",
    "fig.savefig(r'{loc}\\Normalized Autocorrelation function {st} steps 5nano {mod} Hz length tc = {a}, sens {b}, {c}s DAQ, {loop} loop number .jpeg'.format(loc = PulseScheme_A_5nano['Measurement file Path'],a = Lock_In_Settings['Time Constant'], b = Lock_In_Settings['Sensitivity'], c = playingtime, loop =loop_number,st = len (time_delay), mod = modulation ))"
   ]
  },
  {
   "cell_type": "code",
   "execution_count": 117,
   "metadata": {},
   "outputs": [],
   "source": [
    "average1nano = loadtxt(r'D:\\Alejandro\\Pulses\\diode measurements\\Autocorrelation measurements\\50,20\\1nano\\filled 140000\\averaged signal_31steps_10sdaqtime_93Hz_100ms_10 miliVolts.csv',delimiter=',')"
   ]
  },
  {
   "cell_type": "code",
   "execution_count": 118,
   "metadata": {},
   "outputs": [],
   "source": [
    "timee_delay = np.linspace(-2,2,71)"
   ]
  },
  {
   "cell_type": "code",
   "execution_count": 119,
   "metadata": {},
   "outputs": [
    {
     "data": {
      "image/png": "[encoded data removed]",
      "text/plain": [
       "<Figure size 432x288 with 1 Axes>"
      ]
     },
     "metadata": {
      "needs_background": "light"
     },
     "output_type": "display_data"
    }
   ],
   "source": [
    "#change this to V regime\n",
    "fig,axes = plt.subplots()\n",
    "\n",
    "axes.grid(True)\n",
    "\n",
    "plt.plot(timee_delay,average1nano,'.',label=r'1 ns Probe Width ',color='black')\n",
    "#plt.plot(tm,pul,label = '{a} samples'.format(a = len(pul)))\n",
    "\n",
    "axes.set_xlabel(r'time delay [ns]')\n",
    "axes.set_ylabel(r'Diode Signal [V]')\n",
    "axes.set_title('Auto-Correlation 71 steps ')\n",
    "\n",
    "axes.legend(loc = 0)\n",
    "plt.show()\n",
    "\n",
    "#fig.savefig(r'{loc}\\Autocorrelation function 31 steps 5nano 93Hz length tc = {a}, sens {b}, {c}s DAQ .jpeg'.format(loc = PulseScheme_A_5nano['Measurement file Path'],a = Lock_In_Settings['Time Constant'], b = Lock_In_Settings['Sensitivity'], c = playingtime ))"
   ]
  },
  {
   "cell_type": "code",
   "execution_count": null,
   "metadata": {},
   "outputs": [],
   "source": []
  }
 ],
 "metadata": {
  "interpreter": {
   "hash": "9a32f0bf53af15acd232504180dc0ef28b8a6ac1a49da0a6c374e1f45bb445b6"
  },
  "kernelspec": {
   "display_name": "Python 3.8.5 64-bit ('base': conda)",
   "name": "python3"
  },
  "language_info": {
   "codemirror_mode": {
    "name": "ipython",
    "version": 3
   },
   "file_extension": ".py",
   "mimetype": "text/x-python",
   "name": "python",
   "nbconvert_exporter": "python",
   "pygments_lexer": "ipython3",
   "version": "3.8.5"
  },
  "orig_nbformat": 4
 },
 "nbformat": 4,
 "nbformat_minor": 2
}
