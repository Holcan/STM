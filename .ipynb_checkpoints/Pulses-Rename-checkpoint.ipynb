{
 "cells": [
  {
   "cell_type": "code",
   "execution_count": 1,
   "metadata": {},
   "outputs": [],
   "source": [
    "%matplotlib inline "
   ]
  },
  {
   "cell_type": "code",
   "execution_count": 2,
   "metadata": {},
   "outputs": [],
   "source": [
    "#I imported stuff that at the end didn't use...\n",
    "import numpy as np\n",
    "import matplotlib\n",
    "import matplotlib.pyplot as plt\n",
    "import scipy as sp\n",
    "from matplotlib import animation\n",
    "from matplotlib.animation import FuncAnimation"
   ]
  },
  {
   "cell_type": "markdown",
   "metadata": {},
   "source": [
    "### Rework!\n",
    "\n",
    "Parameters within the dictionaries should not be addressed!, rather, from a function calculate everything!\n",
    "N= number of points, "
   ]
  },
  {
   "cell_type": "markdown",
   "metadata": {},
   "source": [
    "#### Here we define the corresponding dictionaries containing the information of the pulses"
   ]
  },
  {
   "cell_type": "code",
   "execution_count": 3,
   "metadata": {},
   "outputs": [],
   "source": [
    "Rabi={\n",
    "    'Amplitude' : 4 ,\n",
    "    'Start Duration' : 5,\n",
    "    'End Duration': 5,\n",
    "    'Start time' : 0,\n",
    "    'End time': 0,\n",
    "}\n",
    "# Maybe I should just rename this Pump, since from its form right now it doesn't the dynamics of the states are far from clear\n",
    "#I dont really use End time for the this pulse since I am not sweeping it"
   ]
  },
  {
   "cell_type": "code",
   "execution_count": 4,
   "metadata": {},
   "outputs": [],
   "source": [
    "Probe1={\n",
    "    'Amplitude' : 2 ,\n",
    "    'Start Duration' : 7,\n",
    "    'End Duration': 5 ,\n",
    "    'Start time' : 0,\n",
    "    'End time': 20,\n",
    "}"
   ]
  },
  {
   "cell_type": "code",
   "execution_count": 5,
   "metadata": {},
   "outputs": [],
   "source": [
    "Probe2={\n",
    "    'Amplitude' : 7 ,\n",
    "    'Start Duration' : 3,\n",
    "    'End Duration': 20 ,\n",
    "    'Start time' : 10,\n",
    "    'End time': 9,\n",
    "}\n",
    "\n",
    "#I mainly used this one to check on other initial conditions without having to rename everything so often, maybe I should implement\n",
    "#the classes as you suggested me"
   ]
  },
  {
   "cell_type": "markdown",
   "metadata": {},
   "source": [
    "## Different Pulse schemes given by differnt dictionaries"
   ]
  },
  {
   "cell_type": "code",
   "execution_count": 6,
   "metadata": {},
   "outputs": [],
   "source": [
    "Pulses_List3=[Rabi,Probe1,Probe2]"
   ]
  },
  {
   "cell_type": "code",
   "execution_count": 7,
   "metadata": {},
   "outputs": [],
   "source": [
    "Pulses_List=[Rabi,Probe1]"
   ]
  },
  {
   "cell_type": "code",
   "execution_count": 8,
   "metadata": {},
   "outputs": [],
   "source": [
    "Pulses_List2=[Rabi,Probe2]"
   ]
  },
  {
   "cell_type": "code",
   "execution_count": 9,
   "metadata": {},
   "outputs": [],
   "source": [
    "def Pl(PlLis,time):\n",
    "    \"\"\"Pulse generating function, directly from the specified information given by it's corresponding dictionary,at a time interval given by time\"\"\"\n",
    "    pl=np.zeros((len(PlLis),len(trog))) \n",
    "    for i in range(0,len(PlLis)):\n",
    "        pl[i]=[PlLis[i]['Amplitude'] * (  PlLis[i]['Start time'] <=  t <= PlLis[i]['Start Duration'] + PlLis[i]['Start time']) for t in time ]\n",
    "    y=np.zeros(len(pl[0]))\n",
    "    for i in range(0,len(pl)):\n",
    "        y += pl[i]\n",
    "    return y"
   ]
  },
  {
   "cell_type": "markdown",
   "metadata": {},
   "source": [
    "## Time interval for now:"
   ]
  },
  {
   "cell_type": "code",
   "execution_count": 22,
   "metadata": {},
   "outputs": [],
   "source": [
    "trog=np.linspace(-1,20,20)"
   ]
  },
  {
   "cell_type": "markdown",
   "metadata": {},
   "source": [
    "## Some tests"
   ]
  },
  {
   "cell_type": "code",
   "execution_count": 23,
   "metadata": {},
   "outputs": [],
   "source": [
    "a=Pl(Pulses_List3,trog)"
   ]
  },
  {
   "cell_type": "code",
   "execution_count": 24,
   "metadata": {},
   "outputs": [],
   "source": [
    "b=Pl(Pulses_List,trog)"
   ]
  },
  {
   "cell_type": "code",
   "execution_count": 25,
   "metadata": {},
   "outputs": [],
   "source": [
    "c=Pl(Pulses_List2,trog)"
   ]
  },
  {
   "cell_type": "code",
   "execution_count": 26,
   "metadata": {},
   "outputs": [
    {
     "data": {
      "text/plain": [
       "Text(0.5, 1.0, 'Pulso Primitivo, Listas ')"
      ]
     },
     "execution_count": 26,
     "metadata": {},
     "output_type": "execute_result"
    },
    {
     "data": {
      "image/png": "[encoded data removed]",
      "text/plain": [
       "<Figure size 432x288 with 1 Axes>"
      ]
     },
     "metadata": {
      "needs_background": "light"
     },
     "output_type": "display_data"
    }
   ],
   "source": [
    "%matplotlib inline\n",
    "\n",
    "fig,ax= plt.subplots()\n",
    "\n",
    "\n",
    "\n",
    "ax.grid(True)\n",
    "plt.step(trog,c)\n",
    "ax.set_ylabel('V')\n",
    "ax.set_xlabel('t')\n",
    "ax.set_title('Pulso Primitivo, Listas ')\n",
    "\n",
    "#fig.savefig('Pulse_sweep_t=20',optimize=True,bbox_inches='tight')"
   ]
  },
  {
   "cell_type": "markdown",
   "metadata": {},
   "source": [
    "# Now the sweeping function:"
   ]
  },
  {
   "cell_type": "code",
   "execution_count": null,
   "metadata": {},
   "outputs": [],
   "source": []
  }
 ],
 "metadata": {
  "@webio": {
   "lastCommId": null,
   "lastKernelId": null
  },
  "kernelspec": {
   "display_name": "Python 3",
   "language": "python",
   "name": "python3"
  },
  "language_info": {
   "codemirror_mode": {
    "name": "ipython",
    "version": 3
   },
   "file_extension": ".py",
   "mimetype": "text/x-python",
   "name": "python",
   "nbconvert_exporter": "python",
   "pygments_lexer": "ipython3",
   "version": "3.8.5"
  }
 },
 "nbformat": 4,
 "nbformat_minor": 4
}
