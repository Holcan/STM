{
 "cells": [
  {
   "cell_type": "markdown",
   "source": [
    "# All settings will be given to the channel 1 output, in the Direct out DAC configuration"
   ],
   "metadata": {}
  },
  {
   "cell_type": "code",
   "execution_count": 12,
   "source": [
    "%matplotlib widget "
   ],
   "outputs": [],
   "metadata": {}
  },
  {
   "cell_type": "code",
   "execution_count": 1,
   "source": [
    "import numpy as np\r\n",
    "import pandas as pd\r\n",
    "import time\r\n",
    "import matplotlib\r\n",
    "import matplotlib.pyplot as plt\r\n",
    "import pyvisa as visa\r\n",
    "from matplotlib import animation\r\n",
    "from time import sleep\r\n",
    "from matplotlib.animation import FuncAnimation\r\n",
    "#Importing the functions from the module and the pulses dictionaries\r\n",
    "from Sweeping import *\r\n",
    "from Dictionaries import *\r\n",
    "from PulseFiles import *\r\n",
    "from Instrument import *\r\n",
    "import pyqtgraph as pg \r\n",
    "import nidaqmx"
   ],
   "outputs": [],
   "metadata": {}
  },
  {
   "cell_type": "code",
   "execution_count": 2,
   "source": [
    "M8190A.write('SEQ:DEL:ALL')"
   ],
   "outputs": [
    {
     "output_type": "error",
     "ename": "NameError",
     "evalue": "name 'M8190A' is not defined",
     "traceback": [
      "\u001b[1;31m---------------------------------------------------------------------------\u001b[0m",
      "\u001b[1;31mNameError\u001b[0m                                 Traceback (most recent call last)",
      "\u001b[1;32m<ipython-input-2-17a930ff5a38>\u001b[0m in \u001b[0;36m<module>\u001b[1;34m\u001b[0m\n\u001b[1;32m----> 1\u001b[1;33m \u001b[0mM8190A\u001b[0m\u001b[1;33m.\u001b[0m\u001b[0mwrite\u001b[0m\u001b[1;33m(\u001b[0m\u001b[1;34m'SEQ:DEL:ALL'\u001b[0m\u001b[1;33m)\u001b[0m\u001b[1;33m\u001b[0m\u001b[1;33m\u001b[0m\u001b[0m\n\u001b[0m",
      "\u001b[1;31mNameError\u001b[0m: name 'M8190A' is not defined"
     ]
    }
   ],
   "metadata": {}
  },
  {
   "cell_type": "markdown",
   "source": [
    "# Visa interface for the M8190A instrument:"
   ],
   "metadata": {}
  },
  {
   "cell_type": "code",
   "execution_count": 2,
   "source": [
    "M8190A = VisaR(AWG_Settings4,60000)"
   ],
   "outputs": [],
   "metadata": {}
  },
  {
   "cell_type": "code",
   "execution_count": 3,
   "source": [
    "Initialization(M8190A,AWG_Settings4)"
   ],
   "outputs": [
    {
     "output_type": "error",
     "ename": "NameError",
     "evalue": "name 'M8190A' is not defined",
     "traceback": [
      "\u001b[1;31m---------------------------------------------------------------------------\u001b[0m",
      "\u001b[1;31mNameError\u001b[0m                                 Traceback (most recent call last)",
      "\u001b[1;32m<ipython-input-3-49f0fd3eb944>\u001b[0m in \u001b[0;36m<module>\u001b[1;34m\u001b[0m\n\u001b[1;32m----> 1\u001b[1;33m \u001b[0mInitialization\u001b[0m\u001b[1;33m(\u001b[0m\u001b[0mM8190A\u001b[0m\u001b[1;33m,\u001b[0m\u001b[0mAWG_Settings4\u001b[0m\u001b[1;33m)\u001b[0m\u001b[1;33m\u001b[0m\u001b[1;33m\u001b[0m\u001b[0m\n\u001b[0m",
      "\u001b[1;31mNameError\u001b[0m: name 'M8190A' is not defined"
     ]
    }
   ],
   "metadata": {}
  },
  {
   "cell_type": "code",
   "execution_count": 5,
   "source": [
    "M8190A.query('*IDN?')"
   ],
   "outputs": [
    {
     "output_type": "execute_result",
     "data": {
      "text/plain": [
       "'Agilent Technologies,M8190A,MY57701776,5.6.0.0-2'"
      ]
     },
     "metadata": {},
     "execution_count": 5
    }
   ],
   "metadata": {}
  },
  {
   "cell_type": "code",
   "execution_count": 4,
   "source": [
    "M8190A.write('*RST')"
   ],
   "outputs": [
    {
     "output_type": "execute_result",
     "data": {
      "text/plain": [
       "5"
      ]
     },
     "metadata": {},
     "execution_count": 4
    }
   ],
   "metadata": {}
  },
  {
   "cell_type": "code",
   "execution_count": 5,
   "source": [
    "M8190A.query('FREQ:RAST?')"
   ],
   "outputs": [
    {
     "output_type": "execute_result",
     "data": {
      "text/plain": [
       "'5.00000000000000E+08'"
      ]
     },
     "metadata": {},
     "execution_count": 5
    }
   ],
   "metadata": {}
  },
  {
   "cell_type": "code",
   "execution_count": 18,
   "source": [
    "M8190A.query(':DAC:VOLT:AMPL?')"
   ],
   "outputs": [
    {
     "output_type": "execute_result",
     "data": {
      "text/plain": [
       "'7.00000000000000E-01'"
      ]
     },
     "metadata": {},
     "execution_count": 18
    }
   ],
   "metadata": {}
  },
  {
   "cell_type": "code",
   "execution_count": 5,
   "source": [
    "M8190A.query('SYST:ERR?')"
   ],
   "outputs": [
    {
     "output_type": "execute_result",
     "data": {
      "text/plain": [
       "'0,\"No error\"'"
      ]
     },
     "metadata": {},
     "execution_count": 5
    }
   ],
   "metadata": {}
  },
  {
   "cell_type": "code",
   "execution_count": 4,
   "source": [
    "print(M8190A)"
   ],
   "outputs": [
    {
     "output_type": "stream",
     "name": "stdout",
     "text": [
      "TCPIPInstrument at TCPIP0::ibn3-036.ibn-net.kfa-juelich.de::hislip0::INSTR\n"
     ]
    }
   ],
   "metadata": {}
  },
  {
   "cell_type": "markdown",
   "source": [
    "# Loading and triggering a single waveform:"
   ],
   "metadata": {}
  },
  {
   "cell_type": "code",
   "execution_count": 4,
   "source": [
    "M8190A.query('ARM:TRIG:LEV?')"
   ],
   "outputs": [
    {
     "output_type": "execute_result",
     "data": {
      "text/plain": [
       "'1.00000000000000E+00'"
      ]
     },
     "metadata": {},
     "execution_count": 4
    }
   ],
   "metadata": {}
  },
  {
   "cell_type": "code",
   "execution_count": 6,
   "source": [
    "M8190A.write('ABOR')"
   ],
   "outputs": [
    {
     "output_type": "execute_result",
     "data": {
      "text/plain": [
       "5"
      ]
     },
     "metadata": {},
     "execution_count": 6
    }
   ],
   "metadata": {}
  },
  {
   "cell_type": "code",
   "execution_count": 5,
   "source": [
    "test_run = Triggered_Sequence_Setup(PList_secondsA,PList_secondsB,10,5,15,7500000,M8190A,AWG_Settings4,1)"
   ],
   "outputs": [
    {
     "output_type": "stream",
     "name": "stdout",
     "text": [
      "Current Segment Catalogue is 1,7500000  [(segment id, Segment size)]\n",
      "Current Segment Catalogue is 1,7500000,2,7500000  [(segment id, Segment size)]\n",
      "Sequence loaded with the following segment data \"1,1,0,1,0,7499999,2,1,0,1,0,7499999\" and the advancement method is COND\n"
     ]
    }
   ],
   "metadata": {}
  },
  {
   "cell_type": "code",
   "execution_count": 18,
   "source": [
    "test_run[0]['Y1']*AWG_Settings4['Voltage Amplitude']"
   ],
   "outputs": [
    {
     "output_type": "execute_result",
     "data": {
      "text/plain": [
       "0           0.0\n",
       "1          40.0\n",
       "2          40.0\n",
       "3          40.0\n",
       "4          40.0\n",
       "           ... \n",
       "7499995     0.0\n",
       "7499996     0.0\n",
       "7499997     0.0\n",
       "7499998     0.0\n",
       "7499999     0.0\n",
       "Name: Y1, Length: 7500000, dtype: float64"
      ]
     },
     "metadata": {},
     "execution_count": 18
    }
   ],
   "metadata": {}
  },
  {
   "cell_type": "code",
   "execution_count": 7,
   "source": [
    "test_run[1]['Y1']*AWG_Settings4['Voltage Amplitude']"
   ],
   "outputs": [
    {
     "output_type": "execute_result",
     "data": {
      "text/plain": [
       "0           0.0\n",
       "1          40.0\n",
       "2          40.0\n",
       "3          40.0\n",
       "4          40.0\n",
       "           ... \n",
       "7499995     0.0\n",
       "7499996     0.0\n",
       "7499997     0.0\n",
       "7499998     0.0\n",
       "7499999     0.0\n",
       "Name: Y1, Length: 7500000, dtype: float64"
      ]
     },
     "metadata": {},
     "execution_count": 7
    }
   ],
   "metadata": {}
  },
  {
   "cell_type": "code",
   "execution_count": 6,
   "source": [
    "fig,ax= plt.subplots(2)\r\n",
    "\r\n",
    "ax[0].grid(True)\r\n",
    "ax[1].grid(True)\r\n",
    "fig.suptitle('Pulses Loaded into the AWG')\r\n",
    "\r\n",
    "\r\n",
    "ax[0].plot(test_run[2],test_run[0]['Y1']*AWG_Settings4['Voltage Amplitude'],label= 'Pulse A',color='blue')\r\n",
    "ax[1].plot(test_run[2],test_run[1]['Y1']*AWG_Settings4['Voltage Amplitude'],label= 'Pulse B',color='red')\r\n",
    "ax[0].set_ylabel('V  [mV]')\r\n",
    "ax[0].set_xlabel('t  [ms]')\r\n",
    "ax[1].set_ylabel('V  [mV]')\r\n",
    "ax[1].set_xlabel('t  [ms]')\r\n",
    "\r\n",
    "#ax.set_title('Pulses Loaded into the AWG')\r\n",
    "\r\n",
    "fig.legend(bbox_to_anchor=(1.05, 1), loc='upper left', borderaxespad=0.)\r\n",
    "plt.show()\r\n",
    "\r\n",
    "#fig.savefig('Pulse_scheme_15ms_7500000',optimize=True,bbox_inches='tight')"
   ],
   "outputs": [
    {
     "output_type": "display_data",
     "data": {
      "text/plain": [
       "<Figure size 432x288 with 2 Axes>"
      ],
      "image/png": "[encoded data removed]"
     },
     "metadata": {
      "needs_background": "light"
     }
    }
   ],
   "metadata": {}
  },
  {
   "cell_type": "code",
   "execution_count": 5,
   "source": [
    "dataM, timeM = DAQ_Measuring(DAQ_Settings1,1000,10,M8190A)\r\n",
    "\r\n",
    "fig,ax= plt.subplots()\r\n",
    "ax.grid(True)\r\n",
    "\r\n",
    "plt.plot(timeM,dataM*1000,label= '{b} samples'.format(b=len(dataM)),color='orange')\r\n",
    "\r\n",
    "ax.set_ylabel('V  [mV]')\r\n",
    "ax.set_xlabel('t  [s]')\r\n",
    "ax.set_title('Voltage measured with DAQ, Direct out Channel')\r\n",
    "#ax.legend(loc=0)\r\n",
    "\r\n",
    "plt.legend(bbox_to_anchor=(1.05, 1), loc='upper left', borderaxespad=0.)\r\n",
    "plt.show()\r\n",
    "#fig.savefig('DAQ measurement noise0',bbox_inches='tight')"
   ],
   "outputs": [
    {
     "output_type": "stream",
     "name": "stdout",
     "text": [
      "Triggering Pulse Stoped\n"
     ]
    },
    {
     "output_type": "display_data",
     "data": {
      "text/plain": [
       "<Figure size 432x288 with 1 Axes>"
      ],
      "image/png": "[encoded data removed]"
     },
     "metadata": {
      "needs_background": "light"
     }
    }
   ],
   "metadata": {}
  },
  {
   "cell_type": "code",
   "execution_count": 3,
   "source": [
    "def DAQ_Measuring_Markers(DAQ_settings,sr,playingtime,instrument):\r\n",
    "    \"\"\"This function starts sets up the DAQ box in order to collect data for a time duration given by \"playing time\"\r\n",
    "      It then uses the DAQ box to trigger the AWG into playing a waveform.\r\n",
    "\r\n",
    "      playingtime should be in seconds.\r\n",
    "      triggerinvoltage should be in volts.\r\n",
    "    \"\"\"\r\n",
    "    #Calculating the number of samples given the samplig frecuency and playing time\r\n",
    "    samples = int(sr * playingtime) \r\n",
    "    measuring_time = np.linspace(0,playingtime,samples)\r\n",
    "\r\n",
    "    instrument.write('INIT:IMM')\r\n",
    "    time.sleep(5)\r\n",
    "\r\n",
    "    #setting the tasks\r\n",
    "    measuring_task = nidaqmx.Task()\r\n",
    "    trig_task =  nidaqmx.Task()\r\n",
    "    #current_tast = nidaqmx.Task()\r\n",
    "\r\n",
    "    #current_tast.ai_channels.add_ai_current_chan(\"{a}/{b}\".format(a = DAQ_settings['DAQ Name'], b = DAQ_settings['Analog Channel Input Waveform']),min_val=DAQ_settings['Minimum Current'],max_val=DAQ_settings['Maximum Current'], units=CurrentUnits.AMPS)\r\n",
    "\r\n",
    "\r\n",
    "    #Channels Configuration\r\n",
    "    measuring_task.ai_channels.add_ai_voltage_chan(\"{a}/{b}\".format(a = DAQ_settings['DAQ Name'], b = DAQ_settings['Analog Channel Input Waveform']),min_val=DAQ_settings['Minimum Voltage'],max_val= DAQ_settings['Maximum Voltage'])\r\n",
    "    measuring_task.ai_channels.add_ai_voltage_chan(\"{a}/{b}\".format(a = DAQ_settings['DAQ Name'], b = DAQ_settings['Analog Channel Input Marker']),min_val=DAQ_settings['Minimum Voltage Marker'],max_val= DAQ_settings['Maximum Voltage Marker'])\r\n",
    "    trig_task.ao_channels.add_ao_voltage_chan('{a}/{b}'.format(a = DAQ_settings['DAQ Name'], b = DAQ_settings['Analog Channel Output']),'triggering',-4,4)\r\n",
    "\r\n",
    "    #Sampling configuration measuring channel\r\n",
    "    measuring_task.timing.cfg_samp_clk_timing(sr, samps_per_chan=samples)\r\n",
    "    #trig_task.timing.cfg_samp_clk_timing(DAQ_settings['Sampling Frequency'], samps_per_chan=samples)\r\n",
    "    #source = \"measuring_task/SampleClock\"\r\n",
    "\r\n",
    "    trig_task.start()\r\n",
    "    measuring_task.start()\r\n",
    "    \r\n",
    "\r\n",
    "    \r\n",
    "    trig_task.write(1.5)\r\n",
    "    #time.sleep(3)\r\n",
    "    data = np.array(measuring_task.read(samples))\r\n",
    "\r\n",
    "\r\n",
    "    \r\n",
    "    #time.sleep(3)\r\n",
    "    print('Triggering Pulse Stoped')\r\n",
    "    trig_task.write(0)\r\n",
    "\r\n",
    "    \r\n",
    "    \r\n",
    "    \r\n",
    "\r\n",
    "    trig_task.stop()\r\n",
    "    measuring_task.stop()\r\n",
    "\r\n",
    "    measuring_task.close()\r\n",
    "    trig_task.close()\r\n",
    "\r\n",
    "\r\n",
    "    instrument.write('ABOR')\r\n",
    "\r\n",
    "    return data, measuring_time"
   ],
   "outputs": [],
   "metadata": {}
  },
  {
   "cell_type": "code",
   "execution_count": 7,
   "source": [
    "dataM[0]"
   ],
   "outputs": [
    {
     "output_type": "execute_result",
     "data": {
      "text/plain": [
       "array([-0.00057706, -0.00041243,  0.04255541, ..., -0.00057706,\n",
       "       -0.00074168,  0.0211538 ])"
      ]
     },
     "metadata": {},
     "execution_count": 7
    }
   ],
   "metadata": {}
  },
  {
   "cell_type": "code",
   "execution_count": 13,
   "source": [
    "#dataM, timeM = DAQ_Measuring_Markers(DAQ_Settings1,1000,10,M8190A)\r\n",
    "\r\n",
    "fig,ax= plt.subplots()\r\n",
    "ax.grid(True)\r\n",
    "\r\n",
    "#plt.plot(timeM,dataM[0]*1000,label= '{b} samples'.format(b=len(dataM[0])),color='orange')\r\n",
    "plt.plot(timeM,dataM[1]*1000,label= 'Marker Channel {chan}'.format(chan=DAQ_Settings1['Analog Channel Input Marker']),color='purple')\r\n",
    "\r\n",
    "ax.set_ylabel('V  [mV]')\r\n",
    "ax.set_xlabel('t  [s]')\r\n",
    "ax.set_title('Voltage measured with DAQ, Direct out Channel')\r\n",
    "#ax.legend(loc=0)\r\n",
    "\r\n",
    "plt.legend(bbox_to_anchor=(1.05, 1), loc='upper left', borderaxespad=0.)\r\n",
    "plt.show()\r\n",
    "#fig.savefig('DAQ measurement noise0',bbox_inches='tight')"
   ],
   "outputs": [
    {
     "output_type": "display_data",
     "data": {
      "text/plain": [
       "Canvas(toolbar=Toolbar(toolitems=[('Home', 'Reset original view', 'home', 'home'), ('Back', 'Back to previous …"
      ],
      "application/vnd.jupyter.widget-view+json": {
       "version_major": 2,
       "version_minor": 0,
       "model_id": "4c4a7f831ddc4e319c1a6dd4cdf542f9"
      }
     },
     "metadata": {}
    }
   ],
   "metadata": {}
  },
  {
   "cell_type": "markdown",
   "source": [
    "# Different behaviour when initializing the AWG outside of the DAQ_measurement function (or inside, but with a time.sleep() right after it) and when initializing the AWG inside the function. Initializing with a delay gives \"proper\" measurement scheme (I still have to check whether it is getting the correct time scale). This independant of the delay time present when loading a waveform to the awg for the first time after reseting."
   ],
   "metadata": {}
  },
  {
   "cell_type": "code",
   "execution_count": 16,
   "source": [
    "dataM.size"
   ],
   "outputs": [
    {
     "output_type": "execute_result",
     "data": {
      "text/plain": [
       "10000"
      ]
     },
     "metadata": {},
     "execution_count": 16
    }
   ],
   "metadata": {}
  },
  {
   "cell_type": "markdown",
   "source": [
    "output waveform looks better when offset value is set to 0.3mV"
   ],
   "metadata": {}
  },
  {
   "cell_type": "code",
   "execution_count": 10,
   "source": [
    "a = 3# * e-1"
   ],
   "outputs": [],
   "metadata": {}
  },
  {
   "cell_type": "code",
   "execution_count": 13,
   "source": [
    "M8190A.write(':DAC1:VOLT:OFFS 0.00{value}'.format(value = a ))"
   ],
   "outputs": [
    {
     "output_type": "execute_result",
     "data": {
      "text/plain": [
       "22"
      ]
     },
     "metadata": {},
     "execution_count": 13
    }
   ],
   "metadata": {}
  },
  {
   "cell_type": "markdown",
   "source": [
    "Pump = 40mV\r\n",
    "\r\n",
    "ProbeA = 20mV\r\n",
    "\r\n",
    "ProbeB = - 20mV"
   ],
   "metadata": {}
  },
  {
   "cell_type": "code",
   "execution_count": 20,
   "source": [
    "def DAQ_Measuring_ms_markers(DAQ_settings,sr,playingtime,instrument):\r\n",
    "    \"\"\"This function starts sets up the DAQ box in order to collect data for a time duration given by \"playing time\"\r\n",
    "      It then uses the DAQ box to trigger the AWG into playing a waveform.\r\n",
    "\r\n",
    "      This DAQ maximum sampling rate of 400 KS/s for a single channel.  If you have more than 1 channel this max rate will decrease.\r\n",
    "      For example for 5 channels you will have a max sampling rate of 50 kS/s.\r\n",
    "\r\n",
    "\r\n",
    "      playingtime should be in seconds. it will be converted to mili seconds\r\n",
    "      triggerinvoltage should be in volts.\r\n",
    "    \"\"\"\r\n",
    "    #Calculating the number of samples given the samplig frecuency and playing time\r\n",
    "    samples = int(sr * playingtime*1e-3) \r\n",
    "    measuring_time = np.linspace(0,playingtime,samples)\r\n",
    "\r\n",
    "    instrument.write('INIT:IMM')\r\n",
    "    time.sleep(5)\r\n",
    "\r\n",
    "    #setting the tasks\r\n",
    "    measuring_task = nidaqmx.Task()\r\n",
    "    trig_task =  nidaqmx.Task()\r\n",
    "    #current_tast = nidaqmx.Task()\r\n",
    "\r\n",
    "    #current_tast.ai_channels.add_ai_current_chan(\"{a}/{b}\".format(a = DAQ_settings['DAQ Name'], b = DAQ_settings['Analog Channel Input Waveform']),min_val=DAQ_settings['Minimum Current'],max_val=DAQ_settings['Maximum Current'], units=CurrentUnits.AMPS)\r\n",
    "\r\n",
    "\r\n",
    "    #Channels Configuration\r\n",
    "    measuring_task.ai_channels.add_ai_voltage_chan(\"{a}/{b}\".format(a = DAQ_settings['DAQ Name'], b = DAQ_settings['Analog Channel Input Waveform']),min_val=DAQ_settings['Minimum Voltage'],max_val= DAQ_settings['Maximum Voltage'])\r\n",
    "    measuring_task.ai_channels.add_ai_voltage_chan(\"{a}/{b}\".format(a = DAQ_settings['DAQ Name'], b = DAQ_settings['Analog Channel Input Marker']),min_val=DAQ_settings['Minimum Voltage Marker'],max_val= DAQ_settings['Maximum Voltage Marker'])\r\n",
    "    trig_task.ao_channels.add_ao_voltage_chan('{a}/{b}'.format(a = DAQ_settings['DAQ Name'], b = DAQ_settings['Analog Channel Output']),'triggering',-4,4)\r\n",
    "\r\n",
    "    #Sampling configuration measuring channel\r\n",
    "    measuring_task.timing.cfg_samp_clk_timing(sr, samps_per_chan=samples)\r\n",
    "    #trig_task.timing.cfg_samp_clk_timing(DAQ_settings['Sampling Frequency'], samps_per_chan=samples)\r\n",
    "    #source = \"measuring_task/SampleClock\"\r\n",
    "\r\n",
    "    trig_task.start()\r\n",
    "    measuring_task.start()\r\n",
    "    \r\n",
    "\r\n",
    "    \r\n",
    "    trig_task.write(1.5)\r\n",
    "    #time.sleep(3)\r\n",
    "    data = np.array(measuring_task.read(samples))\r\n",
    "\r\n",
    "\r\n",
    "    \r\n",
    "    #time.sleep(3)\r\n",
    "    print('Triggering Pulse Stoped')\r\n",
    "    trig_task.write(0)\r\n",
    "\r\n",
    "    \r\n",
    "    \r\n",
    "    \r\n",
    "\r\n",
    "    trig_task.stop()\r\n",
    "    measuring_task.stop()\r\n",
    "\r\n",
    "    measuring_task.close()\r\n",
    "    trig_task.close()\r\n",
    "\r\n",
    "\r\n",
    "    instrument.write('ABOR')\r\n",
    "\r\n",
    "    return data, measuring_time"
   ],
   "outputs": [],
   "metadata": {}
  },
  {
   "cell_type": "code",
   "execution_count": 15,
   "source": [
    "def DAQ_Measuringms(DAQ_settings,sr,playingtime,instrument):\r\n",
    "    \"\"\"This function starts sets up the DAQ box in order to collect data for a time duration given by \"playing time\"\r\n",
    "      It then uses the DAQ box to trigger the AWG into playing a waveform.\r\n",
    "\r\n",
    "      playingtime should be in seconds.\r\n",
    "      triggerinvoltage should be in volts.\r\n",
    "    \"\"\"\r\n",
    "    instrument.write('INIT:IMM')\r\n",
    "    time.sleep(5)\r\n",
    "\r\n",
    "\r\n",
    "\r\n",
    "    #Calculating the number of samples given the samplig frecuency and playing time\r\n",
    "    samples = int(sr * playingtime*1e-3) \r\n",
    "    measuring_time = np.linspace(0,playingtime,samples)\r\n",
    "\r\n",
    "    #setting the tasks\r\n",
    "    measuring_task = nidaqmx.Task()\r\n",
    "    trig_task =  nidaqmx.Task()\r\n",
    "   \r\n",
    "\r\n",
    "\r\n",
    "    #Channels Configuration\r\n",
    "    measuring_task.ai_channels.add_ai_voltage_chan(\"{a}/{b}\".format(a = DAQ_settings['DAQ Name'], b = DAQ_settings['Analog Channel Input']),min_val=DAQ_settings['Minimum Voltage'],max_val= DAQ_settings['Maximum Voltage'])\r\n",
    "    trig_task.ao_channels.add_ao_voltage_chan('{a}/{b}'.format(a = DAQ_settings['DAQ Name'], b = DAQ_settings['Analog Channel Output']),'triggering',-4,4)\r\n",
    "\r\n",
    "    #Sampling configuration measuring channel\r\n",
    "    measuring_task.timing.cfg_samp_clk_timing(sr, active_edge=Edge.RISING, sample_mode=AcquisitionType.FINITE, samps_per_chan=samples)\r\n",
    "    #trig_task.timing.cfg_samp_clk_timing(DAQ_settings['Sampling Frequency'], samps_per_chan=samples)\r\n",
    "    #source = \"measuring_task/SampleClock\"\r\n",
    "\r\n",
    "    trig_task.start()\r\n",
    "    measuring_task.start()\r\n",
    "    \r\n",
    "\r\n",
    "    \r\n",
    "    trig_task.write(1.5)\r\n",
    "    #time.sleep(3)\r\n",
    "    data = np.array(measuring_task.read(samples))\r\n",
    "\r\n",
    "\r\n",
    "    \r\n",
    "    #time.sleep(3)\r\n",
    "    print('Triggering Pulse Stoped')\r\n",
    "    trig_task.write(0)\r\n",
    "\r\n",
    "    \r\n",
    "    \r\n",
    "    \r\n",
    "\r\n",
    "    trig_task.stop()\r\n",
    "    measuring_task.stop()\r\n",
    "\r\n",
    "    measuring_task.close()\r\n",
    "    trig_task.close()\r\n",
    "\r\n",
    "\r\n",
    "    instrument.write('ABOR')\r\n",
    "\r\n",
    "    return data, measuring_time"
   ],
   "outputs": [],
   "metadata": {}
  },
  {
   "cell_type": "code",
   "execution_count": 30,
   "source": [
    "M8190A.write('SOUR:MARK1:SYNC:VOLT:AMPL 0.05')\r\n",
    "M8190A.write('SOUR:MARK1:SYNC:VOLT:OFFS 0.0020')"
   ],
   "outputs": [
    {
     "output_type": "execute_result",
     "data": {
      "text/plain": [
       "33"
      ]
     },
     "metadata": {},
     "execution_count": 30
    }
   ],
   "metadata": {}
  },
  {
   "cell_type": "code",
   "execution_count": 31,
   "source": [
    "dataMs, timeMs = DAQ_Measuring_ms_markers(DAQ_Settings1,200000,32,M8190A)\r\n",
    "\r\n",
    "fig,ax= plt.subplots()\r\n",
    "ax.grid(True)\r\n",
    "\r\n",
    "plt.plot(timeMs,dataMs[1]*1000,label= 'Marker Channel {chan}'.format(chan=DAQ_Settings1['Analog Channel Input Marker']),color='purple')\r\n",
    "plt.plot(timeMs,dataMs[0]*1000,label= '{b} samples'.format(b=len(dataMs[0])),color='orange')\r\n",
    "\r\n",
    "ax.set_ylabel('V  [mV]')\r\n",
    "ax.set_xlabel('t  [ms]')\r\n",
    "ax.set_title('Voltage measured with DAQ, Direct out Channel DAC, Voltage Offset = 3mV, MArker Ampl = 50mV ')\r\n",
    "ax.legend(loc=0)\r\n",
    "#plt.legend(bbox_to_anchor=(2.05, 1), loc='upper left', borderaxespad=0.)\r\n",
    "plt.show()\r\n",
    "#fig.savefig('DAQ measurement offset {value}mV '.format(value = a ),bbox_inches='tight')"
   ],
   "outputs": [
    {
     "output_type": "stream",
     "name": "stdout",
     "text": [
      "Triggering Pulse Stoped\n"
     ]
    },
    {
     "output_type": "display_data",
     "data": {
      "text/plain": [
       "Canvas(toolbar=Toolbar(toolitems=[('Home', 'Reset original view', 'home', 'home'), ('Back', 'Back to previous …"
      ],
      "application/vnd.jupyter.widget-view+json": {
       "version_major": 2,
       "version_minor": 0,
       "model_id": "ebcd7a56173d4912b9f47d1740754440"
      }
     },
     "metadata": {}
    }
   ],
   "metadata": {}
  },
  {
   "cell_type": "code",
   "execution_count": 11,
   "source": [
    "dataMs, timeMs = DAQ_Measuringms(DAQ_Settings1,400000,32,M8190A)\r\n",
    "\r\n",
    "fig,ax= plt.subplots()\r\n",
    "ax.grid(True)\r\n",
    "a = 3\r\n",
    "#plt.plot(tom,data_off,label= 'AWG off')\r\n",
    "plt.plot(timeMs,dataMs*1000,label= '{b} samples'.format(b=len(dataMs)),color='orange')\r\n",
    "\r\n",
    "ax.set_ylabel('V  [mV]')\r\n",
    "ax.set_xlabel('t  [ms]')\r\n",
    "ax.set_title('Voltage measured with DAQ, Direct out Channel DAC, Voltage Offset = {value}mV '.format(value = a))\r\n",
    "ax.legend(loc=0)\r\n",
    "#plt.legend(bbox_to_anchor=(2.05, 1), loc='upper left', borderaxespad=0.)\r\n",
    "plt.show()\r\n",
    "#fig.savefig('DAQ measurement offset {value}mV '.format(value = a ),bbox_inches='tight')"
   ],
   "outputs": [
    {
     "output_type": "stream",
     "name": "stdout",
     "text": [
      "Triggering Pulse Stoped\n"
     ]
    },
    {
     "output_type": "display_data",
     "data": {
      "text/plain": [
       "Canvas(toolbar=Toolbar(toolitems=[('Home', 'Reset original view', 'home', 'home'), ('Back', 'Back to previous …"
      ],
      "application/vnd.jupyter.widget-view+json": {
       "version_major": 2,
       "version_minor": 0,
       "model_id": "05272ba0233d4aac9b7cfea1307a0625"
      }
     },
     "metadata": {}
    }
   ],
   "metadata": {}
  },
  {
   "cell_type": "markdown",
   "source": [
    "# Mergin Sweeping loading function with DAQ measuring"
   ],
   "metadata": {}
  },
  {
   "cell_type": "code",
   "execution_count": 14,
   "source": [
    "#Markers\r\n",
    "\r\n",
    "M8190A.write('SOUR:MARK1:SYNC:VOLT:AMPL 0.05')\r\n",
    "M8190A.write('SOUR:MARK1:SYNC:VOLT:OFFS 0.02')\r\n",
    "M8190A.write(':SOUR:MARK1:SAMP:VOLT:AMPL 0.05')\r\n",
    "M8190A.write(':SOUR:MARK1:SAMP:VOLT:OFFS 0.02')"
   ],
   "outputs": [
    {
     "output_type": "execute_result",
     "data": {
      "text/plain": [
       "32"
      ]
     },
     "metadata": {},
     "execution_count": 14
    }
   ],
   "metadata": {}
  },
  {
   "cell_type": "code",
   "execution_count": 21,
   "source": [
    "M8190A.write('SEQ:DEL:ALL')"
   ],
   "outputs": [
    {
     "output_type": "execute_result",
     "data": {
      "text/plain": [
       "12"
      ]
     },
     "metadata": {},
     "execution_count": 21
    }
   ],
   "metadata": {}
  },
  {
   "cell_type": "code",
   "execution_count": 17,
   "source": [
    "def Sequence_File_List(PulseList1,PulseList2,P,t,N,start,stop,AWG):\r\n",
    "\r\n",
    "    \"\"\" Given two pulse schemes lists, this functions iterates the pulse scheme from start to stop.\r\n",
    "\r\n",
    "        This function firts creates the corresponding pulse sequence data given the PulseLists using the Sweep_iteration_csv function\r\n",
    "        \r\n",
    "    \"\"\"\r\n",
    "\r\n",
    "    #SegmentA of the sequence\r\n",
    "    Loc1,DF1,timm = Sweep_Iteration_CSV_List(PulseList1,P,t,N,start,stop,AWG,1)\r\n",
    "\r\n",
    "    #SegmentB of the Sequence\r\n",
    "    Loc2,DF2,timm = Sweep_Iteration_CSV_List(PulseList2,P,t,N,start,stop,AWG,0)\r\n",
    "\r\n",
    "    return Loc1, Loc2, DF1,DF2,timm"
   ],
   "outputs": [],
   "metadata": {}
  },
  {
   "cell_type": "code",
   "execution_count": 6,
   "source": [
    "sweeping_run = Sequence_File_List(PList_secondsA,PList_secondsB,10,15,7500000,0,4,AWG_Settings4)"
   ],
   "outputs": [],
   "metadata": {}
  },
  {
   "cell_type": "code",
   "execution_count": 14,
   "source": [
    "sweeping_run[0]"
   ],
   "outputs": [
    {
     "output_type": "execute_result",
     "data": {
      "text/plain": [
       "{'Pulse File Location, at step 0': 'D:\\\\Alejandro\\\\Pulses\\\\Dict\\\\S4\\\\SegmentA_7500000_0.csv',\n",
       " 'Pulse File Location, at step 1': 'D:\\\\Alejandro\\\\Pulses\\\\Dict\\\\S4\\\\SegmentA_7500000_1.csv',\n",
       " 'Pulse File Location, at step 2': 'D:\\\\Alejandro\\\\Pulses\\\\Dict\\\\S4\\\\SegmentA_7500000_2.csv',\n",
       " 'Pulse File Location, at step 3': 'D:\\\\Alejandro\\\\Pulses\\\\Dict\\\\S4\\\\SegmentA_7500000_3.csv',\n",
       " 'Pulse File Location, at step 4': 'D:\\\\Alejandro\\\\Pulses\\\\Dict\\\\S4\\\\SegmentA_7500000_4.csv'}"
      ]
     },
     "metadata": {},
     "execution_count": 14
    }
   ],
   "metadata": {}
  },
  {
   "cell_type": "code",
   "execution_count": 15,
   "source": [
    "sweeping_run[0].values()"
   ],
   "outputs": [
    {
     "output_type": "execute_result",
     "data": {
      "text/plain": [
       "dict_values(['D:\\\\Alejandro\\\\Pulses\\\\Dict\\\\S4\\\\SegmentA_7500000_0.csv', 'D:\\\\Alejandro\\\\Pulses\\\\Dict\\\\S4\\\\SegmentA_7500000_1.csv', 'D:\\\\Alejandro\\\\Pulses\\\\Dict\\\\S4\\\\SegmentA_7500000_2.csv', 'D:\\\\Alejandro\\\\Pulses\\\\Dict\\\\S4\\\\SegmentA_7500000_3.csv', 'D:\\\\Alejandro\\\\Pulses\\\\Dict\\\\S4\\\\SegmentA_7500000_4.csv'])"
      ]
     },
     "metadata": {},
     "execution_count": 15
    }
   ],
   "metadata": {}
  },
  {
   "cell_type": "code",
   "execution_count": 20,
   "source": [
    "listt=np.zeros(len(sweeping_run[0]))\r\n",
    "for i,j in zip(sweeping_run[0],range(0,len(sweeping_run[0].values()))):\r\n",
    "    listt[j] = print(i)"
   ],
   "outputs": [
    {
     "output_type": "stream",
     "name": "stdout",
     "text": [
      "Pulse File Location, at step 0\n",
      "Pulse File Location, at step 1\n",
      "Pulse File Location, at step 2\n",
      "Pulse File Location, at step 3\n",
      "Pulse File Location, at step 4\n"
     ]
    }
   ],
   "metadata": {}
  },
  {
   "cell_type": "code",
   "execution_count": 23,
   "source": [
    "listt=[i for i in sweeping_run[0].values]\r\n",
    "for i,j in zip(sweeping_run[0].values(),range(0,len(sweeping_run[0]))):\r\n",
    "     listt[j] = print(i)"
   ],
   "outputs": [
    {
     "output_type": "stream",
     "name": "stdout",
     "text": [
      "D:\\Alejandro\\Pulses\\Dict\\S4\\SegmentA_7500000_0.csv\n"
     ]
    },
    {
     "output_type": "error",
     "ename": "IndexError",
     "evalue": "list assignment index out of range",
     "traceback": [
      "\u001b[1;31m---------------------------------------------------------------------------\u001b[0m",
      "\u001b[1;31mIndexError\u001b[0m                                Traceback (most recent call last)",
      "\u001b[1;32m<ipython-input-23-7a68e96557f4>\u001b[0m in \u001b[0;36m<module>\u001b[1;34m\u001b[0m\n\u001b[0;32m      1\u001b[0m \u001b[0mlistt\u001b[0m\u001b[1;33m=\u001b[0m\u001b[1;33m[\u001b[0m\u001b[1;33m]\u001b[0m\u001b[1;33m\u001b[0m\u001b[1;33m\u001b[0m\u001b[0m\n\u001b[0;32m      2\u001b[0m \u001b[1;32mfor\u001b[0m \u001b[0mi\u001b[0m\u001b[1;33m,\u001b[0m\u001b[0mj\u001b[0m \u001b[1;32min\u001b[0m \u001b[0mzip\u001b[0m\u001b[1;33m(\u001b[0m\u001b[0msweeping_run\u001b[0m\u001b[1;33m[\u001b[0m\u001b[1;36m0\u001b[0m\u001b[1;33m]\u001b[0m\u001b[1;33m.\u001b[0m\u001b[0mvalues\u001b[0m\u001b[1;33m(\u001b[0m\u001b[1;33m)\u001b[0m\u001b[1;33m,\u001b[0m\u001b[0mrange\u001b[0m\u001b[1;33m(\u001b[0m\u001b[1;36m0\u001b[0m\u001b[1;33m,\u001b[0m\u001b[0mlen\u001b[0m\u001b[1;33m(\u001b[0m\u001b[0msweeping_run\u001b[0m\u001b[1;33m[\u001b[0m\u001b[1;36m0\u001b[0m\u001b[1;33m]\u001b[0m\u001b[1;33m)\u001b[0m\u001b[1;33m)\u001b[0m\u001b[1;33m)\u001b[0m\u001b[1;33m:\u001b[0m\u001b[1;33m\u001b[0m\u001b[1;33m\u001b[0m\u001b[0m\n\u001b[1;32m----> 3\u001b[1;33m      \u001b[0mlistt\u001b[0m\u001b[1;33m[\u001b[0m\u001b[0mj\u001b[0m\u001b[1;33m]\u001b[0m \u001b[1;33m=\u001b[0m \u001b[0mprint\u001b[0m\u001b[1;33m(\u001b[0m\u001b[0mi\u001b[0m\u001b[1;33m)\u001b[0m\u001b[1;33m\u001b[0m\u001b[1;33m\u001b[0m\u001b[0m\n\u001b[0m",
      "\u001b[1;31mIndexError\u001b[0m: list assignment index out of range"
     ]
    }
   ],
   "metadata": {}
  },
  {
   "cell_type": "code",
   "execution_count": 22,
   "source": [
    "len(sweeping_run[0])"
   ],
   "outputs": [
    {
     "output_type": "execute_result",
     "data": {
      "text/plain": [
       "5"
      ]
     },
     "metadata": {},
     "execution_count": 22
    }
   ],
   "metadata": {}
  },
  {
   "cell_type": "code",
   "execution_count": 30,
   "source": [
    "listt = np.array(sweeping_run[0].values())"
   ],
   "outputs": [],
   "metadata": {}
  },
  {
   "cell_type": "code",
   "execution_count": 31,
   "source": [
    "listt"
   ],
   "outputs": [
    {
     "output_type": "execute_result",
     "data": {
      "text/plain": [
       "array(dict_values(['D:\\\\Alejandro\\\\Pulses\\\\Dict\\\\S4\\\\SegmentA_7500000_0.csv', 'D:\\\\Alejandro\\\\Pulses\\\\Dict\\\\S4\\\\SegmentA_7500000_1.csv', 'D:\\\\Alejandro\\\\Pulses\\\\Dict\\\\S4\\\\SegmentA_7500000_2.csv', 'D:\\\\Alejandro\\\\Pulses\\\\Dict\\\\S4\\\\SegmentA_7500000_3.csv', 'D:\\\\Alejandro\\\\Pulses\\\\Dict\\\\S4\\\\SegmentA_7500000_4.csv']),\n",
       "      dtype=object)"
      ]
     },
     "metadata": {},
     "execution_count": 31
    }
   ],
   "metadata": {}
  },
  {
   "cell_type": "code",
   "execution_count": 9,
   "source": [
    "len(sweeping_run[0])"
   ],
   "outputs": [
    {
     "output_type": "execute_result",
     "data": {
      "text/plain": [
       "5"
      ]
     },
     "metadata": {},
     "execution_count": 9
    }
   ],
   "metadata": {}
  },
  {
   "cell_type": "code",
   "execution_count": 77,
   "source": [
    "def DAQ_Measuringmsl(DAQ_settings,sr,playingtime,instrument):\r\n",
    "    \"\"\"This function starts sets up the DAQ box in order to collect data for a time duration given by \"playing time\"\r\n",
    "      It then uses the DAQ box to trigger the AWG into playing a waveform.\r\n",
    "\r\n",
    "      playingtime should be in miliseconds.\r\n",
    "      triggerinvoltage should be in volts.\r\n",
    "    \"\"\"\r\n",
    "    instrument.write('INIT:IMM')\r\n",
    "    time.sleep(2)\r\n",
    "\r\n",
    "\r\n",
    "\r\n",
    "    #Calculating the number of samples given the samplig frecuency and playing time\r\n",
    "    samples = int(sr * playingtime*1e-3) \r\n",
    "    measuring_time = np.linspace(0,playingtime,samples)\r\n",
    "\r\n",
    "    #setting the tasks\r\n",
    "    measuring_task = nidaqmx.Task()\r\n",
    "    trig_task =  nidaqmx.Task()\r\n",
    "   \r\n",
    "\r\n",
    "\r\n",
    "    #Channels Configuration\r\n",
    "    measuring_task.ai_channels.add_ai_voltage_chan(\"{a}/{b}\".format(a = DAQ_settings['DAQ Name'], b = DAQ_settings['Analog Channel Input']),min_val=DAQ_settings['Minimum Voltage'],max_val= DAQ_settings['Maximum Voltage'])\r\n",
    "    trig_task.ao_channels.add_ao_voltage_chan('{a}/{b}'.format(a = DAQ_settings['DAQ Name'], b = DAQ_settings['Analog Channel Output']),'triggering',-4,4)\r\n",
    "\r\n",
    "    #Sampling configuration measuring channel\r\n",
    "    measuring_task.timing.cfg_samp_clk_timing(sr, active_edge=Edge.RISING, sample_mode=AcquisitionType.FINITE, samps_per_chan=samples)\r\n",
    "    #trig_task.timing.cfg_samp_clk_timing(DAQ_settings['Sampling Frequency'], samps_per_chan=samples)\r\n",
    "    #source = \"measuring_task/SampleClock\"\r\n",
    "\r\n",
    "    trig_task.start()\r\n",
    "    measuring_task.start()\r\n",
    "    \r\n",
    "\r\n",
    "    \r\n",
    "    trig_task.write(1.5)\r\n",
    "    #time.sleep(3)\r\n",
    "    data = np.array(measuring_task.read(samples))\r\n",
    "\r\n",
    "\r\n",
    "    \r\n",
    "    #time.sleep(3)\r\n",
    "    print('Triggering Pulse Stoped')\r\n",
    "    trig_task.write(0)\r\n",
    "\r\n",
    "    \r\n",
    "    \r\n",
    "    \r\n",
    "\r\n",
    "    trig_task.stop()\r\n",
    "    measuring_task.stop()\r\n",
    "\r\n",
    "    measuring_task.close()\r\n",
    "    trig_task.close()\r\n",
    "\r\n",
    "\r\n",
    "    instrument.write('ABOR')\r\n",
    "\r\n",
    "    return data, measuring_time"
   ],
   "outputs": [],
   "metadata": {}
  },
  {
   "cell_type": "code",
   "execution_count": 25,
   "source": [
    "c = np.zeros((2,5))"
   ],
   "outputs": [],
   "metadata": {}
  },
  {
   "cell_type": "code",
   "execution_count": 44,
   "source": [
    "c[0] = 1"
   ],
   "outputs": [],
   "metadata": {}
  },
  {
   "cell_type": "code",
   "execution_count": 45,
   "source": [
    "c[0]"
   ],
   "outputs": [
    {
     "output_type": "execute_result",
     "data": {
      "text/plain": [
       "array([1., 1., 1., 1., 1.])"
      ]
     },
     "metadata": {},
     "execution_count": 45
    }
   ],
   "metadata": {}
  },
  {
   "cell_type": "code",
   "execution_count": 11,
   "source": [
    "def Sequence_Loader_File_DAQ_dictionaryms(instrument,DAQ_settings,sampling_rate,playingtime,fileA,fileB):\r\n",
    "    \r\n",
    "    \"\"\" This function loads the csv data files from the Location dictionaries into the instrument as a sequence and measures them withthe daq, for ms segime output is dictionary\r\n",
    "\r\n",
    "    LocationA is a dictionary, whose elements are the file paths to the csv files that are going to be loaded as SegmentA into the sequence.\r\n",
    "    LocationB is a dictionary, whose elemnts re the filepaths to the csv files that are going to be loaded as SegmentB into the sequence\r\n",
    "    It uses the Sequence_File function to load the csv files to the instrument.\r\n",
    " \r\n",
    "    \"\"\"\r\n",
    "    #measurement_data = np.zeros(2,len(fileA))\r\n",
    "    measurement_data = {}\r\n",
    "\r\n",
    "\r\n",
    "\r\n",
    "    for i,j in zip(fileA, fileB):\r\n",
    "        Sequence_File(instrument,fileA[i],fileB[j],1)\r\n",
    "        measurement_data['Data for step {a}'.format(a =i)], measurement_data['Time interval step {a}'.format(a =i)] = DAQ_Measuringms(DAQ_settings,sampling_rate,playingtime,instrument)\r\n",
    "        #measurement_data['Time interval step {a}'.format(a =i)] = DAQ_Measuringms(DAQ_settings,sampling_rate,playingtime,instrument)[1]\r\n",
    "        #instrument.write('INIT:IMM')\r\n",
    "        #time.sleep(2)\r\n",
    "        #instrument.query('*OPC?')\r\n",
    "        #measurement_data['data result for step {a}and{b}'.format(a =i, b = j)] = DAQ_Measuringmsl(DAQ_settings,sampling_rate,playingtime,instrument)\r\n",
    "        instrument.write('ABOR')\r\n",
    "\r\n",
    "    return measurement_data\r\n",
    "    "
   ],
   "outputs": [],
   "metadata": {}
  },
  {
   "cell_type": "code",
   "execution_count": 25,
   "source": [
    "M8190A.write('SEQ:DEL:ALL')"
   ],
   "outputs": [
    {
     "output_type": "execute_result",
     "data": {
      "text/plain": [
       "12"
      ]
     },
     "metadata": {},
     "execution_count": 25
    }
   ],
   "metadata": {}
  },
  {
   "cell_type": "code",
   "execution_count": 28,
   "source": [
    "def Sequence_Loader_File_DAQms_np(instrument,DAQ_settings,sampling_rate,playingtime,fileA,fileB):\r\n",
    "    \r\n",
    "    \"\"\" This function loads the csv data files from the Location dictionaries into the instrument as a sequence and measures them withthe daq, for ms segime output is numpy array\r\n",
    "\r\n",
    "    LocationA is a dictionary, whose elements are the file paths to the csv files that are going to be loaded as SegmentA into the sequence.\r\n",
    "    LocationB is a dictionary, whose elemnts re the filepaths to the csv files that are going to be loaded as SegmentB into the sequence\r\n",
    "    It uses the Sequence_File function to load the csv files to the instrument.\r\n",
    " \r\n",
    "    \"\"\"\r\n",
    "    measurement_data = np.zeros((len(fileA),2),  dtype=object)\r\n",
    "    #measurement_data = {}\r\n",
    "\r\n",
    "    for i,j,k in zip(fileA, fileB,range(0,len(fileA))):\r\n",
    "        Sequence_File(instrument,fileA[i],fileB[j],1)\r\n",
    "        measurement_data[k][0], measurement_data[k][1] = DAQ_Measuringms(DAQ_settings,sampling_rate,playingtime,instrument)\r\n",
    "        print('Data acquired for Step {step}'.format(step = k ))\r\n",
    "        #instrument.write('ABOR')\r\n",
    "\r\n",
    "    return measurement_data"
   ],
   "outputs": [],
   "metadata": {}
  },
  {
   "cell_type": "code",
   "execution_count": 2,
   "source": [
    "sweeping_run = Sequence_File_List(PList_secondsA,PList_secondsB,10,15,7500000,0,4,AWG_Settings4)"
   ],
   "outputs": [],
   "metadata": {}
  },
  {
   "cell_type": "code",
   "execution_count": 14,
   "source": [
    "sweeping_run[2]['SegmentA_7500000_0']"
   ],
   "outputs": [
    {
     "output_type": "execute_result",
     "data": {
      "text/plain": [
       "               Y1  SyncMarker1  SampleMarker1\n",
       "0        0.000000            1              1\n",
       "1        0.057143            1              1\n",
       "2        0.057143            1              1\n",
       "3        0.057143            1              1\n",
       "4        0.057143            1              1\n",
       "...           ...          ...            ...\n",
       "7499995  0.000000            1              1\n",
       "7499996  0.000000            1              1\n",
       "7499997  0.000000            1              1\n",
       "7499998  0.000000            1              1\n",
       "7499999  0.000000            1              1\n",
       "\n",
       "[7500000 rows x 3 columns]"
      ],
      "text/html": [
       "<div>\n",
       "<style scoped>\n",
       "    .dataframe tbody tr th:only-of-type {\n",
       "        vertical-align: middle;\n",
       "    }\n",
       "\n",
       "    .dataframe tbody tr th {\n",
       "        vertical-align: top;\n",
       "    }\n",
       "\n",
       "    .dataframe thead th {\n",
       "        text-align: right;\n",
       "    }\n",
       "</style>\n",
       "<table border=\"1\" class=\"dataframe\">\n",
       "  <thead>\n",
       "    <tr style=\"text-align: right;\">\n",
       "      <th></th>\n",
       "      <th>Y1</th>\n",
       "      <th>SyncMarker1</th>\n",
       "      <th>SampleMarker1</th>\n",
       "    </tr>\n",
       "  </thead>\n",
       "  <tbody>\n",
       "    <tr>\n",
       "      <th>0</th>\n",
       "      <td>0.000000</td>\n",
       "      <td>1</td>\n",
       "      <td>1</td>\n",
       "    </tr>\n",
       "    <tr>\n",
       "      <th>1</th>\n",
       "      <td>0.057143</td>\n",
       "      <td>1</td>\n",
       "      <td>1</td>\n",
       "    </tr>\n",
       "    <tr>\n",
       "      <th>2</th>\n",
       "      <td>0.057143</td>\n",
       "      <td>1</td>\n",
       "      <td>1</td>\n",
       "    </tr>\n",
       "    <tr>\n",
       "      <th>3</th>\n",
       "      <td>0.057143</td>\n",
       "      <td>1</td>\n",
       "      <td>1</td>\n",
       "    </tr>\n",
       "    <tr>\n",
       "      <th>4</th>\n",
       "      <td>0.057143</td>\n",
       "      <td>1</td>\n",
       "      <td>1</td>\n",
       "    </tr>\n",
       "    <tr>\n",
       "      <th>...</th>\n",
       "      <td>...</td>\n",
       "      <td>...</td>\n",
       "      <td>...</td>\n",
       "    </tr>\n",
       "    <tr>\n",
       "      <th>7499995</th>\n",
       "      <td>0.000000</td>\n",
       "      <td>1</td>\n",
       "      <td>1</td>\n",
       "    </tr>\n",
       "    <tr>\n",
       "      <th>7499996</th>\n",
       "      <td>0.000000</td>\n",
       "      <td>1</td>\n",
       "      <td>1</td>\n",
       "    </tr>\n",
       "    <tr>\n",
       "      <th>7499997</th>\n",
       "      <td>0.000000</td>\n",
       "      <td>1</td>\n",
       "      <td>1</td>\n",
       "    </tr>\n",
       "    <tr>\n",
       "      <th>7499998</th>\n",
       "      <td>0.000000</td>\n",
       "      <td>1</td>\n",
       "      <td>1</td>\n",
       "    </tr>\n",
       "    <tr>\n",
       "      <th>7499999</th>\n",
       "      <td>0.000000</td>\n",
       "      <td>1</td>\n",
       "      <td>1</td>\n",
       "    </tr>\n",
       "  </tbody>\n",
       "</table>\n",
       "<p>7500000 rows × 3 columns</p>\n",
       "</div>"
      ]
     },
     "metadata": {},
     "execution_count": 14
    }
   ],
   "metadata": {}
  },
  {
   "cell_type": "code",
   "execution_count": 7,
   "source": [
    "haberms = Sequence_Loader_File_DAQms_np(M8190A,DAQ_Settings1,400000,32,sweeping_run[0],sweeping_run[1])"
   ],
   "outputs": [
    {
     "output_type": "stream",
     "name": "stdout",
     "text": [
      "Sequence loaded with the following segment data \"1,1,0,1,0,7499999,2,1,0,1,0,7499999\" and the advancement method is COND\n",
      "Triggering Pulse Stoped\n",
      "Data acquired for Step 0\n",
      "Sequence loaded with the following segment data \"1,1,0,1,0,7499999,2,1,0,1,0,7499999\" and the advancement method is COND\n",
      "Triggering Pulse Stoped\n",
      "Data acquired for Step 1\n",
      "Sequence loaded with the following segment data \"1,1,0,1,0,7499999,2,1,0,1,0,7499999\" and the advancement method is COND\n",
      "Triggering Pulse Stoped\n",
      "Data acquired for Step 2\n",
      "Sequence loaded with the following segment data \"1,1,0,1,0,7499999,2,1,0,1,0,7499999\" and the advancement method is COND\n",
      "Triggering Pulse Stoped\n",
      "Data acquired for Step 3\n",
      "Sequence loaded with the following segment data \"1,1,0,1,0,7499999,2,1,0,1,0,7499999\" and the advancement method is COND\n",
      "Triggering Pulse Stoped\n",
      "Data acquired for Step 4\n"
     ]
    }
   ],
   "metadata": {}
  },
  {
   "cell_type": "code",
   "execution_count": 8,
   "source": [
    "#for stepp in range(0,len(haber)):\r\n",
    "\r\n",
    "fig,ax= plt.subplots()\r\n",
    "\r\n",
    "#step = 4\r\n",
    "\r\n",
    "ax.grid(True)\r\n",
    "plt.plot(haberms[1][1],1000*haberms[1][0],label= 'Step {st}'.format(st = 1 ),color = 'red')\r\n",
    "plt.plot(haberms[2][1],1000*haberms[2][0],label= 'Step {st}'.format(st = 2 ),color = 'orange')\r\n",
    "plt.plot(haberms[3][1],1000*haberms[3][0],label= 'Step {st}'.format(st = 3 ),color = 'blue')\r\n",
    "plt.plot(haberms[4][1],1000*haberms[4][0],label= 'Step {st}'.format(st = 4 ),color = 'purple')\r\n",
    "\r\n",
    "\r\n",
    "\r\n",
    "ax.set_ylabel('V  [mV]')\r\n",
    "ax.set_xlabel('t  [ms]')\r\n",
    "ax.set_title(' Sweeping Measured by DAQ,  {b} samples'.format(b = len(haberms[0][1]) ))\r\n",
    "ax.legend(loc=0)\r\n",
    "plt.show()\r\n",
    "#fig.savefig('Pulse sweep t=32ms DAQ measured not so clean, 4 sweeping steps.png',bbox_inches='tight')"
   ],
   "outputs": [
    {
     "output_type": "display_data",
     "data": {
      "text/plain": [
       "<Figure size 432x288 with 1 Axes>"
      ],
      "image/png": "[encoded data removed]"
     },
     "metadata": {
      "needs_background": "light"
     }
    }
   ],
   "metadata": {}
  },
  {
   "cell_type": "code",
   "execution_count": 11,
   "source": [
    "#dataMs, timeMs = DAQ_Measuringms(DAQ_Settings1,400000,32,M8190A)\r\n",
    "\r\n",
    "fig,ax= plt.subplots()\r\n",
    "ax.grid(True)\r\n",
    "\r\n",
    "#plt.plot(tom,data_off,label= 'AWG off')\r\n",
    "plt.plot(timeMs,dataMs*1000,label= '{b} samples'.format(b=len(dataMs)),color='orange')\r\n",
    "\r\n",
    "ax.set_ylabel('V  [mV]')\r\n",
    "ax.set_xlabel('t  [ms]')\r\n",
    "ax.set_title('Pulse Sweeping measured with DAQ, Step 4, Voltage Offset = {value}mV '.format(value = 3))\r\n",
    "ax.legend(loc=0)\r\n",
    "#plt.legend(bbox_to_anchor=(2.05, 1), loc='upper left', borderaxespad=0.)\r\n",
    "plt.show()\r\n",
    "#fig.savefig('DAQ measurement offset {value}mV '.format(value = a ),bbox_inches='tight')"
   ],
   "outputs": [
    {
     "output_type": "display_data",
     "data": {
      "text/plain": [
       "<Figure size 432x288 with 1 Axes>"
      ],
      "image/png": "[encoded data removed]"
     },
     "metadata": {
      "needs_background": "light"
     }
    }
   ],
   "metadata": {}
  },
  {
   "cell_type": "code",
   "execution_count": 12,
   "source": [
    "dataMs, timeMs = DAQ_Measuringms(DAQ_Settings1,400000,32,M8190A)\r\n",
    "\r\n",
    "fig,ax= plt.subplots()\r\n",
    "ax.grid(True)\r\n",
    "\r\n",
    "#plt.plot(tom,data_off,label= 'AWG off')\r\n",
    "plt.plot(timeMs,dataMs*1000,label= '{b} samples'.format(b=len(dataMs)),color='orange')\r\n",
    "\r\n",
    "ax.set_ylabel('V  [mV]')\r\n",
    "ax.set_xlabel('t  [ms]')\r\n",
    "ax.set_title('Pulse Sweeping measured with DAQ, Step 1, Voltage Offset = {value}mV '.format(value = 3))\r\n",
    "ax.legend(loc=0)\r\n",
    "#plt.legend(bbox_to_anchor=(2.05, 1), loc='upper left', borderaxespad=0.)\r\n",
    "plt.show()\r\n",
    "#fig.savefig('DAQ measurement offset {value}mV '.format(value = a ),bbox_inches='tight')"
   ],
   "outputs": [
    {
     "output_type": "stream",
     "name": "stdout",
     "text": [
      "Triggering Pulse Stoped\n"
     ]
    },
    {
     "output_type": "display_data",
     "data": {
      "text/plain": [
       "<Figure size 432x288 with 1 Axes>"
      ],
      "image/png": "[encoded data removed]"
     },
     "metadata": {
      "needs_background": "light"
     }
    }
   ],
   "metadata": {}
  },
  {
   "cell_type": "markdown",
   "source": [
    "Seconds regime"
   ],
   "metadata": {}
  },
  {
   "cell_type": "code",
   "execution_count": null,
   "source": [
    "def DAQ_Measurings(DAQ_settings,sr,playingtime,instrument):\r\n",
    "    \"\"\"This function starts sets up the DAQ box in order to collect data for a time duration given by \"playing time\"\r\n",
    "      It then uses the DAQ box to trigger the AWG into playing a waveform.\r\n",
    "\r\n",
    "      playingtime should be in seconds.\r\n",
    "      triggerinvoltage should be in volts.\r\n",
    "    \"\"\"\r\n",
    "    instrument.write('INIT:IMM')\r\n",
    "    time.sleep(5)\r\n",
    "\r\n",
    "\r\n",
    "    #Calculating the number of samples given the samplig frecuency and playing time\r\n",
    "    samples = int(sr * playingtime) \r\n",
    "    measuring_time = np.linspace(0,playingtime,samples)\r\n",
    "\r\n",
    "    #setting the tasks\r\n",
    "    measuring_task = nidaqmx.Task()\r\n",
    "    trig_task =  nidaqmx.Task()\r\n",
    "   \r\n",
    "\r\n",
    "\r\n",
    "    #Channels Configuration\r\n",
    "    measuring_task.ai_channels.add_ai_voltage_chan(\"{a}/{b}\".format(a = DAQ_settings['DAQ Name'], b = DAQ_settings['Analog Channel Input']),min_val=DAQ_settings['Minimum Voltage'],max_val= DAQ_settings['Maximum Voltage'])\r\n",
    "    trig_task.ao_channels.add_ao_voltage_chan('{a}/{b}'.format(a = DAQ_settings['DAQ Name'], b = DAQ_settings['Analog Channel Output']),'triggering',-4,4)\r\n",
    "\r\n",
    "    #Sampling configuration measuring channel\r\n",
    "    measuring_task.timing.cfg_samp_clk_timing(sr, active_edge=Edge.RISING, sample_mode=AcquisitionType.FINITE, samps_per_chan=samples)\r\n",
    "    #trig_task.timing.cfg_samp_clk_timing(DAQ_settings['Sampling Frequency'], samps_per_chan=samples)\r\n",
    "    #source = \"measuring_task/SampleClock\"\r\n",
    "\r\n",
    "    trig_task.start()\r\n",
    "    measuring_task.start()\r\n",
    "    \r\n",
    "\r\n",
    "    \r\n",
    "    trig_task.write(1.5)\r\n",
    "    #time.sleep(3)\r\n",
    "    data = np.array(measuring_task.read(samples))\r\n",
    "\r\n",
    "\r\n",
    "    \r\n",
    "    #time.sleep(3)\r\n",
    "    print('Triggering Pulse Stoped')\r\n",
    "    trig_task.write(0)\r\n",
    "\r\n",
    "    \r\n",
    "    \r\n",
    "    \r\n",
    "\r\n",
    "    trig_task.stop()\r\n",
    "    measuring_task.stop()\r\n",
    "\r\n",
    "    measuring_task.close()\r\n",
    "    trig_task.close()\r\n",
    "\r\n",
    "\r\n",
    "    instrument.write('ABOR')\r\n",
    "\r\n",
    "    return data, measuring_time"
   ],
   "outputs": [],
   "metadata": {}
  },
  {
   "cell_type": "code",
   "execution_count": null,
   "source": [
    "DAQ_Measuring(DAQ_Settings1,1000,10,M8190A)"
   ],
   "outputs": [],
   "metadata": {}
  },
  {
   "cell_type": "code",
   "execution_count": 37,
   "source": [
    "def Sequence_Loader_File_DAQ_np(instrument,DAQ_settings,sampling_rate,playingtime,fileA,fileB):\r\n",
    "    \r\n",
    "    \"\"\" This function loads the csv data files from the Location dictionaries into the instrument as a sequence. FOR SWEEPING\r\n",
    "\r\n",
    "    LocationA is a dictionary, whose elements are the file paths to the csv files that are going to be loaded as SegmentA into the sequence.\r\n",
    "    LocationB is a dictionary, whose elemnts re the filepaths to the csv files that are going to be loaded as SegmentB into the sequence\r\n",
    "    It uses the Sequence_File function to load the csv files to the instrument.\r\n",
    " \r\n",
    "    \"\"\"\r\n",
    "    measurement_data = np.zeros((len(fileA),2),  dtype=object)\r\n",
    "    #measurement_data = {}\r\n",
    "\r\n",
    "    for i,j,k in zip(fileA, fileB,range(0,len(fileA))):\r\n",
    "        Sequence_File(instrument,fileA[i],fileB[j],1)\r\n",
    "        measurement_data[k][0], measurement_data[k][1] = DAQ_Measurings(DAQ_settings,sampling_rate,playingtime,instrument)\r\n",
    "        print('Data acquired for Step {step}'.format(step = k ))\r\n",
    "        #instrument.write('ABOR')\r\n",
    "\r\n",
    "    return measurement_data\r\n",
    "    "
   ],
   "outputs": [],
   "metadata": {}
  },
  {
   "cell_type": "code",
   "execution_count": 43,
   "source": [
    "M8190A.write('SEQ:DEL:ALL')"
   ],
   "outputs": [
    {
     "output_type": "execute_result",
     "data": {
      "text/plain": [
       "12"
      ]
     },
     "metadata": {},
     "execution_count": 43
    }
   ],
   "metadata": {}
  },
  {
   "cell_type": "code",
   "execution_count": 23,
   "source": [
    "habers = Sequence_Loader_File_DAQ_np(M8190A,DAQ_Settings1,1000,20,sweeping_run[0],sweeping_run[1])"
   ],
   "outputs": [
    {
     "output_type": "stream",
     "name": "stdout",
     "text": [
      "Sequence loaded with the following segment data \"1,1,0,1,0,7499999,2,1,0,1,0,7499999\" and the advancement method is COND\n"
     ]
    },
    {
     "output_type": "error",
     "ename": "DaqError",
     "evalue": "Some or all of the samples requested have not yet been acquired.\nTo wait for the samples to become available use a longer read timeout or read later in your program. To make the samples available sooner, increase the sample rate. If your task uses a start trigger,  make sure that your start trigger is configured correctly. It is also possible that you configured the task for external timing, and no clock was supplied. If this is the case, supply an external clock.\nProperty: DAQmx_Read_RelativeTo\nCorresponding Value: DAQmx_Val_CurrReadPos\nProperty: DAQmx_Read_Offset\nCorresponding Value: 0\n\nTask Name: _unnamedTask<16>\n\nStatus Code: -200284",
     "traceback": [
      "\u001b[1;31m---------------------------------------------------------------------------\u001b[0m",
      "\u001b[1;31mDaqError\u001b[0m                                  Traceback (most recent call last)",
      "\u001b[1;32m<ipython-input-23-9a4588d570bb>\u001b[0m in \u001b[0;36m<module>\u001b[1;34m\u001b[0m\n\u001b[1;32m----> 1\u001b[1;33m \u001b[0mhabers\u001b[0m \u001b[1;33m=\u001b[0m \u001b[0mSequence_Loader_File_DAQ_np\u001b[0m\u001b[1;33m(\u001b[0m\u001b[0mM8190A\u001b[0m\u001b[1;33m,\u001b[0m\u001b[0mDAQ_Settings1\u001b[0m\u001b[1;33m,\u001b[0m\u001b[1;36m1000\u001b[0m\u001b[1;33m,\u001b[0m\u001b[1;36m20\u001b[0m\u001b[1;33m,\u001b[0m\u001b[0msweeping_run\u001b[0m\u001b[1;33m[\u001b[0m\u001b[1;36m0\u001b[0m\u001b[1;33m]\u001b[0m\u001b[1;33m,\u001b[0m\u001b[0msweeping_run\u001b[0m\u001b[1;33m[\u001b[0m\u001b[1;36m1\u001b[0m\u001b[1;33m]\u001b[0m\u001b[1;33m)\u001b[0m\u001b[1;33m\u001b[0m\u001b[1;33m\u001b[0m\u001b[0m\n\u001b[0m",
      "\u001b[1;32mc:\\Users\\a.hernandez.de.la.ve\\Documents\\GitHub\\STM\\M8190\\Instrument.py\u001b[0m in \u001b[0;36mSequence_Loader_File_DAQ_np\u001b[1;34m(instrument, DAQ_settings, sampling_rate, playingtime, fileA, fileB)\u001b[0m\n\u001b[0;32m    685\u001b[0m     \u001b[1;32mfor\u001b[0m \u001b[0mi\u001b[0m\u001b[1;33m,\u001b[0m\u001b[0mj\u001b[0m\u001b[1;33m,\u001b[0m\u001b[0mk\u001b[0m \u001b[1;32min\u001b[0m \u001b[0mzip\u001b[0m\u001b[1;33m(\u001b[0m\u001b[0mfileA\u001b[0m\u001b[1;33m,\u001b[0m \u001b[0mfileB\u001b[0m\u001b[1;33m,\u001b[0m\u001b[0mrange\u001b[0m\u001b[1;33m(\u001b[0m\u001b[1;36m0\u001b[0m\u001b[1;33m,\u001b[0m\u001b[0mlen\u001b[0m\u001b[1;33m(\u001b[0m\u001b[0mfileA\u001b[0m\u001b[1;33m)\u001b[0m\u001b[1;33m)\u001b[0m\u001b[1;33m)\u001b[0m\u001b[1;33m:\u001b[0m\u001b[1;33m\u001b[0m\u001b[1;33m\u001b[0m\u001b[0m\n\u001b[0;32m    686\u001b[0m         \u001b[0mSequence_File\u001b[0m\u001b[1;33m(\u001b[0m\u001b[0minstrument\u001b[0m\u001b[1;33m,\u001b[0m\u001b[0mfileA\u001b[0m\u001b[1;33m[\u001b[0m\u001b[0mi\u001b[0m\u001b[1;33m]\u001b[0m\u001b[1;33m,\u001b[0m\u001b[0mfileB\u001b[0m\u001b[1;33m[\u001b[0m\u001b[0mj\u001b[0m\u001b[1;33m]\u001b[0m\u001b[1;33m,\u001b[0m\u001b[1;36m1\u001b[0m\u001b[1;33m)\u001b[0m\u001b[1;33m\u001b[0m\u001b[1;33m\u001b[0m\u001b[0m\n\u001b[1;32m--> 687\u001b[1;33m         \u001b[0mmeasurement_data\u001b[0m\u001b[1;33m[\u001b[0m\u001b[0mk\u001b[0m\u001b[1;33m]\u001b[0m\u001b[1;33m[\u001b[0m\u001b[1;36m0\u001b[0m\u001b[1;33m]\u001b[0m\u001b[1;33m,\u001b[0m \u001b[0mmeasurement_data\u001b[0m\u001b[1;33m[\u001b[0m\u001b[0mk\u001b[0m\u001b[1;33m]\u001b[0m\u001b[1;33m[\u001b[0m\u001b[1;36m1\u001b[0m\u001b[1;33m]\u001b[0m \u001b[1;33m=\u001b[0m \u001b[0mDAQ_Measuring\u001b[0m\u001b[1;33m(\u001b[0m\u001b[0mDAQ_settings\u001b[0m\u001b[1;33m,\u001b[0m\u001b[0msampling_rate\u001b[0m\u001b[1;33m,\u001b[0m\u001b[0mplayingtime\u001b[0m\u001b[1;33m,\u001b[0m\u001b[0minstrument\u001b[0m\u001b[1;33m)\u001b[0m\u001b[1;33m\u001b[0m\u001b[1;33m\u001b[0m\u001b[0m\n\u001b[0m\u001b[0;32m    688\u001b[0m         \u001b[0mprint\u001b[0m\u001b[1;33m(\u001b[0m\u001b[1;34m'Data acquired for Step {step}'\u001b[0m\u001b[1;33m.\u001b[0m\u001b[0mformat\u001b[0m\u001b[1;33m(\u001b[0m\u001b[0mstep\u001b[0m \u001b[1;33m=\u001b[0m \u001b[0mk\u001b[0m \u001b[1;33m)\u001b[0m\u001b[1;33m)\u001b[0m\u001b[1;33m\u001b[0m\u001b[1;33m\u001b[0m\u001b[0m\n\u001b[0;32m    689\u001b[0m         \u001b[1;31m#instrument.write('ABOR')\u001b[0m\u001b[1;33m\u001b[0m\u001b[1;33m\u001b[0m\u001b[1;33m\u001b[0m\u001b[0m\n",
      "\u001b[1;32mc:\\Users\\a.hernandez.de.la.ve\\Documents\\GitHub\\STM\\M8190\\Instrument.py\u001b[0m in \u001b[0;36mDAQ_Measuring\u001b[1;34m(DAQ_settings, sr, playingtime, instrument)\u001b[0m\n\u001b[0;32m    573\u001b[0m     \u001b[0mtrig_task\u001b[0m\u001b[1;33m.\u001b[0m\u001b[0mwrite\u001b[0m\u001b[1;33m(\u001b[0m\u001b[1;36m1.5\u001b[0m\u001b[1;33m)\u001b[0m\u001b[1;33m\u001b[0m\u001b[1;33m\u001b[0m\u001b[0m\n\u001b[0;32m    574\u001b[0m     \u001b[1;31m#time.sleep(3)\u001b[0m\u001b[1;33m\u001b[0m\u001b[1;33m\u001b[0m\u001b[1;33m\u001b[0m\u001b[0m\n\u001b[1;32m--> 575\u001b[1;33m     \u001b[0mdata\u001b[0m \u001b[1;33m=\u001b[0m \u001b[0mnp\u001b[0m\u001b[1;33m.\u001b[0m\u001b[0marray\u001b[0m\u001b[1;33m(\u001b[0m\u001b[0mmeasuring_task\u001b[0m\u001b[1;33m.\u001b[0m\u001b[0mread\u001b[0m\u001b[1;33m(\u001b[0m\u001b[0msamples\u001b[0m\u001b[1;33m)\u001b[0m\u001b[1;33m)\u001b[0m\u001b[1;33m\u001b[0m\u001b[1;33m\u001b[0m\u001b[0m\n\u001b[0m\u001b[0;32m    576\u001b[0m \u001b[1;33m\u001b[0m\u001b[0m\n\u001b[0;32m    577\u001b[0m \u001b[1;33m\u001b[0m\u001b[0m\n",
      "\u001b[1;32m~\\Anaconda3\\lib\\site-packages\\nidaqmx\\task.py\u001b[0m in \u001b[0;36mread\u001b[1;34m(self, number_of_samples_per_channel, timeout)\u001b[0m\n\u001b[0;32m    626\u001b[0m         \u001b[1;32mif\u001b[0m \u001b[0mread_chan_type\u001b[0m \u001b[1;33m==\u001b[0m \u001b[0mChannelType\u001b[0m\u001b[1;33m.\u001b[0m\u001b[0mANALOG_INPUT\u001b[0m\u001b[1;33m:\u001b[0m\u001b[1;33m\u001b[0m\u001b[1;33m\u001b[0m\u001b[0m\n\u001b[0;32m    627\u001b[0m             \u001b[0mdata\u001b[0m \u001b[1;33m=\u001b[0m \u001b[0mnumpy\u001b[0m\u001b[1;33m.\u001b[0m\u001b[0mzeros\u001b[0m\u001b[1;33m(\u001b[0m\u001b[0marray_shape\u001b[0m\u001b[1;33m,\u001b[0m \u001b[0mdtype\u001b[0m\u001b[1;33m=\u001b[0m\u001b[0mnumpy\u001b[0m\u001b[1;33m.\u001b[0m\u001b[0mfloat64\u001b[0m\u001b[1;33m)\u001b[0m\u001b[1;33m\u001b[0m\u001b[1;33m\u001b[0m\u001b[0m\n\u001b[1;32m--> 628\u001b[1;33m             samples_read = _read_analog_f_64(\n\u001b[0m\u001b[0;32m    629\u001b[0m                 self._handle, data, number_of_samples_per_channel, timeout)\n\u001b[0;32m    630\u001b[0m \u001b[1;33m\u001b[0m\u001b[0m\n",
      "\u001b[1;32m~\\Anaconda3\\lib\\site-packages\\nidaqmx\\_task_modules\\read_functions.py\u001b[0m in \u001b[0;36m_read_analog_f_64\u001b[1;34m(task_handle, read_array, num_samps_per_chan, timeout, fill_mode)\u001b[0m\n\u001b[0;32m     33\u001b[0m         \u001b[0mread_array\u001b[0m\u001b[1;33m,\u001b[0m \u001b[0mnumpy\u001b[0m\u001b[1;33m.\u001b[0m\u001b[0mprod\u001b[0m\u001b[1;33m(\u001b[0m\u001b[0mread_array\u001b[0m\u001b[1;33m.\u001b[0m\u001b[0mshape\u001b[0m\u001b[1;33m)\u001b[0m\u001b[1;33m,\u001b[0m\u001b[1;33m\u001b[0m\u001b[1;33m\u001b[0m\u001b[0m\n\u001b[0;32m     34\u001b[0m         ctypes.byref(samps_per_chan_read), None)\n\u001b[1;32m---> 35\u001b[1;33m     \u001b[0mcheck_for_error\u001b[0m\u001b[1;33m(\u001b[0m\u001b[0merror_code\u001b[0m\u001b[1;33m)\u001b[0m\u001b[1;33m\u001b[0m\u001b[1;33m\u001b[0m\u001b[0m\n\u001b[0m\u001b[0;32m     36\u001b[0m \u001b[1;33m\u001b[0m\u001b[0m\n\u001b[0;32m     37\u001b[0m     \u001b[1;32mreturn\u001b[0m \u001b[0msamps_per_chan_read\u001b[0m\u001b[1;33m.\u001b[0m\u001b[0mvalue\u001b[0m\u001b[1;33m\u001b[0m\u001b[1;33m\u001b[0m\u001b[0m\n",
      "\u001b[1;32m~\\Anaconda3\\lib\\site-packages\\nidaqmx\\errors.py\u001b[0m in \u001b[0;36mcheck_for_error\u001b[1;34m(error_code)\u001b[0m\n\u001b[0;32m    125\u001b[0m         \u001b[0mcfunc\u001b[0m\u001b[1;33m(\u001b[0m\u001b[0merror_buffer\u001b[0m\u001b[1;33m,\u001b[0m \u001b[1;36m2048\u001b[0m\u001b[1;33m)\u001b[0m\u001b[1;33m\u001b[0m\u001b[1;33m\u001b[0m\u001b[0m\n\u001b[0;32m    126\u001b[0m \u001b[1;33m\u001b[0m\u001b[0m\n\u001b[1;32m--> 127\u001b[1;33m         \u001b[1;32mraise\u001b[0m \u001b[0mDaqError\u001b[0m\u001b[1;33m(\u001b[0m\u001b[0merror_buffer\u001b[0m\u001b[1;33m.\u001b[0m\u001b[0mvalue\u001b[0m\u001b[1;33m.\u001b[0m\u001b[0mdecode\u001b[0m\u001b[1;33m(\u001b[0m\u001b[1;34m\"utf-8\"\u001b[0m\u001b[1;33m)\u001b[0m\u001b[1;33m,\u001b[0m \u001b[0merror_code\u001b[0m\u001b[1;33m)\u001b[0m\u001b[1;33m\u001b[0m\u001b[1;33m\u001b[0m\u001b[0m\n\u001b[0m\u001b[0;32m    128\u001b[0m \u001b[1;33m\u001b[0m\u001b[0m\n\u001b[0;32m    129\u001b[0m     \u001b[1;32melif\u001b[0m \u001b[0merror_code\u001b[0m \u001b[1;33m>\u001b[0m \u001b[1;36m0\u001b[0m\u001b[1;33m:\u001b[0m\u001b[1;33m\u001b[0m\u001b[1;33m\u001b[0m\u001b[0m\n",
      "\u001b[1;31mDaqError\u001b[0m: Some or all of the samples requested have not yet been acquired.\nTo wait for the samples to become available use a longer read timeout or read later in your program. To make the samples available sooner, increase the sample rate. If your task uses a start trigger,  make sure that your start trigger is configured correctly. It is also possible that you configured the task for external timing, and no clock was supplied. If this is the case, supply an external clock.\nProperty: DAQmx_Read_RelativeTo\nCorresponding Value: DAQmx_Val_CurrReadPos\nProperty: DAQmx_Read_Offset\nCorresponding Value: 0\n\nTask Name: _unnamedTask<16>\n\nStatus Code: -200284"
     ]
    }
   ],
   "metadata": {}
  },
  {
   "cell_type": "code",
   "execution_count": null,
   "source": [],
   "outputs": [],
   "metadata": {}
  },
  {
   "cell_type": "code",
   "execution_count": 13,
   "source": [
    "dataM, timeM = DAQ_Measuring(DAQ_Settings1,1000,10,M8190A)\r\n",
    "\r\n",
    "fig,ax= plt.subplots()\r\n",
    "ax.grid(True)\r\n",
    "\r\n",
    "plt.plot(timeM,dataM*1000,label= '{b} samples'.format(b=len(dataM)),color='orange')\r\n",
    "\r\n",
    "ax.set_ylabel('V  [mV]')\r\n",
    "ax.set_xlabel('t  [s]')\r\n",
    "ax.set_title('Voltage measured with DAQ, Direct out Channel')\r\n",
    "#ax.legend(loc=0)\r\n",
    "\r\n",
    "plt.legend(bbox_to_anchor=(1.05, 1), loc='upper left', borderaxespad=0.)\r\n",
    "plt.show()\r\n",
    "#fig.savefig('DAQ measurement noise0',bbox_inches='tight')"
   ],
   "outputs": [
    {
     "output_type": "stream",
     "name": "stdout",
     "text": [
      "Triggering Pulse Stoped\n"
     ]
    },
    {
     "output_type": "display_data",
     "data": {
      "text/plain": [
       "<Figure size 432x288 with 1 Axes>"
      ],
      "image/png": "[encoded data removed]"
     },
     "metadata": {
      "needs_background": "light"
     }
    }
   ],
   "metadata": {}
  },
  {
   "cell_type": "code",
   "execution_count": 40,
   "source": [
    "#for stepp in range(0,len(haber)):\r\n",
    "\r\n",
    "fig,ax= plt.subplots()\r\n",
    "\r\n",
    "#step = 4\r\n",
    "\r\n",
    "ax.grid(True)\r\n",
    "#plt.plot(habers[1][1],1000*habers[1][0],label= 'Step {st}'.format(st = 1 ),color = 'red')\r\n",
    "#plt.plot(habers[2][1],1000*habers[2][0],label= 'Step {st}'.format(st = 2 ),color = 'orange')\r\n",
    "#plt.plot(habers[3][1],1000*habers[3][0],label= 'Step {st}'.format(st = 3 ),color = 'blue')\r\n",
    "#plt.plot(habers[4][1],1000*habers[4][0],label= 'Step {st}'.format(st = 4 ),color = 'purple')\r\n",
    "\r\n",
    "\r\n",
    "\r\n",
    "ax.set_ylabel('V  [mV]')\r\n",
    "ax.set_xlabel('t  [ms]')\r\n",
    "ax.set_title(' Sweeping Measured by DAQ,  {b} samples'.format(b = len(habers[0][1]) ))\r\n",
    "ax.legend(loc=0)\r\n",
    "plt.show()\r\n",
    "#fig.savefig('Pulse sweep t=32ms DAQ measured clean, 4 sweeping steps.png',bbox_inches='tight')"
   ],
   "outputs": [
    {
     "output_type": "display_data",
     "data": {
      "text/plain": [
       "Canvas(toolbar=Toolbar(toolitems=[('Home', 'Reset original view', 'home', 'home'), ('Back', 'Back to previous …"
      ],
      "application/vnd.jupyter.widget-view+json": {
       "version_major": 2,
       "version_minor": 0,
       "model_id": "c84462f14504450ca3739ad7eee13f3d"
      }
     },
     "metadata": {}
    }
   ],
   "metadata": {}
  },
  {
   "cell_type": "code",
   "execution_count": 25,
   "source": [
    "u = np.zeros((len(sweeping_run[0]),2), dtype = object)\r\n",
    "\r\n",
    "for i,j in zip(sweeping_run[0], sweeping_run[1]):\r\n",
    "    for k in range(0,len(sweeping_run[0])):\r\n",
    "        u[k][0] = k + np.ones(5)\r\n",
    "    \r\n"
   ],
   "outputs": [],
   "metadata": {}
  },
  {
   "cell_type": "code",
   "execution_count": 34,
   "source": [
    "u = np.zeros((len(sweeping_run[0]),2), dtype = object)\r\n",
    "\r\n",
    "for i,j,k in zip(sweeping_run[0], sweeping_run[1],range(0,len(sweeping_run[0]))):\r\n",
    "    u[k][0] = k + np.ones(5)\r\n",
    "    u[k][1] = k*3 + np.ones(5)\r\n"
   ],
   "outputs": [],
   "metadata": {}
  },
  {
   "cell_type": "code",
   "execution_count": 31,
   "source": [
    "np.ones(5) + 1"
   ],
   "outputs": [
    {
     "output_type": "execute_result",
     "data": {
      "text/plain": [
       "array([2., 2., 2., 2., 2.])"
      ]
     },
     "metadata": {},
     "execution_count": 31
    }
   ],
   "metadata": {}
  },
  {
   "cell_type": "code",
   "execution_count": 35,
   "source": [
    "u[0]"
   ],
   "outputs": [
    {
     "output_type": "execute_result",
     "data": {
      "text/plain": [
       "array([array([1., 1., 1., 1., 1.]), array([1., 1., 1., 1., 1.])],\n",
       "      dtype=object)"
      ]
     },
     "metadata": {},
     "execution_count": 35
    }
   ],
   "metadata": {}
  },
  {
   "cell_type": "code",
   "execution_count": 13,
   "source": [
    "M8190A.write('*RST')"
   ],
   "outputs": [
    {
     "output_type": "execute_result",
     "data": {
      "text/plain": [
       "5"
      ]
     },
     "metadata": {},
     "execution_count": 13
    }
   ],
   "metadata": {}
  },
  {
   "cell_type": "code",
   "execution_count": 30,
   "source": [],
   "outputs": [
    {
     "output_type": "stream",
     "name": "stdout",
     "text": [
      "tremendos momazos\n"
     ]
    }
   ],
   "metadata": {}
  },
  {
   "cell_type": "code",
   "execution_count": null,
   "source": [
    "Initialization(M8190A,AWG_Settings4)"
   ],
   "outputs": [],
   "metadata": {}
  },
  {
   "cell_type": "markdown",
   "source": [
    "desmenuzar"
   ],
   "metadata": {}
  },
  {
   "cell_type": "code",
   "execution_count": 29,
   "source": [
    "haber = Sequence_Loader_File_DAQms_np(M8190A,DAQ_Settings1,400000,32,sweeping_run[0],sweeping_run[1])"
   ],
   "outputs": [
    {
     "output_type": "stream",
     "name": "stdout",
     "text": [
      "Sequence advancement method is COND\n",
      "Sequence loaded with the following segment data \"1,1,0,1,0,7499999,2,1,0,1,0,7499999\"\n",
      "Triggering Pulse Stoped\n",
      "Data acquired for Step 0\n",
      "Sequence advancement method is COND\n",
      "Sequence loaded with the following segment data \"1,1,0,1,0,7499999,2,1,0,1,0,7499999\"\n",
      "Triggering Pulse Stoped\n",
      "Data acquired for Step 1\n",
      "Sequence advancement method is COND\n",
      "Sequence loaded with the following segment data \"1,1,0,1,0,7499999,2,1,0,1,0,7499999\"\n",
      "Triggering Pulse Stoped\n",
      "Data acquired for Step 2\n",
      "Sequence advancement method is COND\n",
      "Sequence loaded with the following segment data \"1,1,0,1,0,7499999,2,1,0,1,0,7499999\"\n",
      "Triggering Pulse Stoped\n",
      "Data acquired for Step 3\n",
      "Sequence advancement method is COND\n",
      "Sequence loaded with the following segment data \"1,1,0,1,0,7499999,2,1,0,1,0,7499999\"\n",
      "Triggering Pulse Stoped\n",
      "Data acquired for Step 4\n"
     ]
    }
   ],
   "metadata": {}
  },
  {
   "cell_type": "code",
   "execution_count": 57,
   "source": [
    "len(haber)"
   ],
   "outputs": [
    {
     "output_type": "execute_result",
     "data": {
      "text/plain": [
       "5"
      ]
     },
     "metadata": {},
     "execution_count": 57
    }
   ],
   "metadata": {}
  },
  {
   "cell_type": "code",
   "execution_count": 43,
   "source": [
    "haber[3][1]"
   ],
   "outputs": [
    {
     "output_type": "execute_result",
     "data": {
      "text/plain": [
       "array([0.00000000e+00, 2.50019533e-03, 5.00039066e-03, ...,\n",
       "       3.19949996e+01, 3.19974998e+01, 3.20000000e+01])"
      ]
     },
     "metadata": {},
     "execution_count": 43
    }
   ],
   "metadata": {}
  },
  {
   "cell_type": "code",
   "execution_count": 56,
   "source": [
    "#for stepp in range(0,len(haber)):\r\n",
    "\r\n",
    "fig,ax= plt.subplots()\r\n",
    "\r\n",
    "step = 4\r\n",
    "\r\n",
    "ax.grid(True)\r\n",
    "plt.plot(haber[step][1],1000*haber[step][0],label= 'Step {st}'.format(st = step ))\r\n",
    "\r\n",
    "ax.set_ylabel('V  [mV]')\r\n",
    "ax.set_xlabel('t  [ms]')\r\n",
    "ax.set_title(' Sweeping Measured by DAQ, step {st} with {b} samples'.format(st = step, b = len(haber[step][1]) ))\r\n",
    "ax.legend(loc=0)\r\n",
    "plt.show()\r\n",
    "#fig.savefig('Pulse sweep t=32ms DAQ measured at step {stp} '.format(stp =step),optimize=True,bbox_inches='tight')"
   ],
   "outputs": [
    {
     "output_type": "display_data",
     "data": {
      "text/plain": [
       "<Figure size 432x288 with 1 Axes>"
      ],
      "image/png": "[encoded data removed]"
     },
     "metadata": {
      "needs_background": "light"
     }
    },
    {
     "output_type": "stream",
     "name": "stderr",
     "text": [
      "<ipython-input-56-fd91bac2e47e>:13: MatplotlibDeprecationWarning: savefig() got unexpected keyword argument \"optimize\" which is no longer supported as of 3.3 and will become an error two minor releases later\n",
      "  fig.savefig('Pulse sweep t=32ms DAQ measured at step {stp} '.format(stp =step),optimize=True,bbox_inches='tight')\n"
     ]
    }
   ],
   "metadata": {}
  },
  {
   "cell_type": "code",
   "execution_count": 67,
   "source": [
    "#for stepp in range(0,len(haber)):\r\n",
    "\r\n",
    "fig,ax= plt.subplots()\r\n",
    "\r\n",
    "#step = 4\r\n",
    "\r\n",
    "ax.grid(True)\r\n",
    "plt.plot(haber[1][1],1000*haber[1][0],label= 'Step {st}'.format(st = 1 ),color = 'red')\r\n",
    "plt.plot(haber[2][1],1000*haber[2][0],label= 'Step {st}'.format(st = 2 ),color = 'orange')\r\n",
    "plt.plot(haber[3][1],1000*haber[3][0],label= 'Step {st}'.format(st = 3 ),color = 'blue')\r\n",
    "plt.plot(haber[4][1],1000*haber[4][0],label= 'Step {st}'.format(st = 4 ),color = 'purple')\r\n",
    "\r\n",
    "\r\n",
    "\r\n",
    "ax.set_ylabel('V  [mV]')\r\n",
    "ax.set_xlabel('t  [ms]')\r\n",
    "ax.set_title(' Sweeping Measured by DAQ,  {b} samples'.format(st = step, b = len(haber[step][1]) ))\r\n",
    "ax.legend(loc=0)\r\n",
    "plt.show()\r\n",
    "#fig.savefig('Pulse sweep t=32ms DAQ measured, 4 sweeping steps.png',bbox_inches='tight')"
   ],
   "outputs": [
    {
     "output_type": "display_data",
     "data": {
      "text/plain": [
       "Canvas(toolbar=Toolbar(toolitems=[('Home', 'Reset original view', 'home', 'home'), ('Back', 'Back to previous …"
      ],
      "application/vnd.jupyter.widget-view+json": {
       "version_major": 2,
       "version_minor": 0,
       "model_id": "b29035a3303941f59b947564a7fdb5c5"
      }
     },
     "metadata": {}
    }
   ],
   "metadata": {}
  },
  {
   "cell_type": "code",
   "execution_count": 25,
   "source": [
    "u = np.zeros((len(sweeping_run[0]),2), dtype = object)\r\n",
    "\r\n",
    "for i,j in zip(sweeping_run[0], sweeping_run[1]):\r\n",
    "    for k in range(0,len(sweeping_run[0])):\r\n",
    "        u[k][0] = k + np.ones(5)\r\n",
    "    \r\n"
   ],
   "outputs": [],
   "metadata": {}
  },
  {
   "cell_type": "code",
   "execution_count": null,
   "source": [],
   "outputs": [],
   "metadata": {}
  },
  {
   "cell_type": "code",
   "execution_count": 8,
   "source": [
    "sweeping_run[0]"
   ],
   "outputs": [
    {
     "output_type": "execute_result",
     "data": {
      "text/plain": [
       "{'Pulse File Location, at step 0': 'D:\\\\Alejandro\\\\Pulses\\\\Dict\\\\S4\\\\SegmentA_7500000_0.csv',\n",
       " 'Pulse File Location, at step 1': 'D:\\\\Alejandro\\\\Pulses\\\\Dict\\\\S4\\\\SegmentA_7500000_1.csv',\n",
       " 'Pulse File Location, at step 2': 'D:\\\\Alejandro\\\\Pulses\\\\Dict\\\\S4\\\\SegmentA_7500000_2.csv',\n",
       " 'Pulse File Location, at step 3': 'D:\\\\Alejandro\\\\Pulses\\\\Dict\\\\S4\\\\SegmentA_7500000_3.csv',\n",
       " 'Pulse File Location, at step 4': 'D:\\\\Alejandro\\\\Pulses\\\\Dict\\\\S4\\\\SegmentA_7500000_4.csv'}"
      ]
     },
     "metadata": {},
     "execution_count": 8
    }
   ],
   "metadata": {}
  },
  {
   "cell_type": "code",
   "execution_count": 9,
   "source": [
    "sweeping_run[1]"
   ],
   "outputs": [
    {
     "output_type": "execute_result",
     "data": {
      "text/plain": [
       "{'Pulse File Location, at step 0': 'D:\\\\Alejandro\\\\Pulses\\\\Dict\\\\S4\\\\SegmentB_7500000_0.csv',\n",
       " 'Pulse File Location, at step 1': 'D:\\\\Alejandro\\\\Pulses\\\\Dict\\\\S4\\\\SegmentB_7500000_1.csv',\n",
       " 'Pulse File Location, at step 2': 'D:\\\\Alejandro\\\\Pulses\\\\Dict\\\\S4\\\\SegmentB_7500000_2.csv',\n",
       " 'Pulse File Location, at step 3': 'D:\\\\Alejandro\\\\Pulses\\\\Dict\\\\S4\\\\SegmentB_7500000_3.csv',\n",
       " 'Pulse File Location, at step 4': 'D:\\\\Alejandro\\\\Pulses\\\\Dict\\\\S4\\\\SegmentB_7500000_4.csv'}"
      ]
     },
     "metadata": {},
     "execution_count": 9
    }
   ],
   "metadata": {}
  },
  {
   "cell_type": "code",
   "execution_count": 15,
   "source": [
    "sweeping_run[2]"
   ],
   "outputs": [
    {
     "output_type": "execute_result",
     "data": {
      "text/plain": [
       "{'SegmentA_7500000_0':                Y1  SyncMarker1  SampleMarker1\n",
       " 0        0.000000            1              1\n",
       " 1        0.057143            1              1\n",
       " 2        0.057143            1              1\n",
       " 3        0.057143            1              1\n",
       " 4        0.057143            1              1\n",
       " ...           ...          ...            ...\n",
       " 7499995  0.000000            1              1\n",
       " 7499996  0.000000            1              1\n",
       " 7499997  0.000000            1              1\n",
       " 7499998  0.000000            1              1\n",
       " 7499999  0.000000            1              1\n",
       " \n",
       " [7500000 rows x 3 columns],\n",
       " 'SegmentA_7500000_1':                Y1  SyncMarker1  SampleMarker1\n",
       " 0        0.000000            1              1\n",
       " 1        0.057143            1              1\n",
       " 2        0.057143            1              1\n",
       " 3        0.057143            1              1\n",
       " 4        0.057143            1              1\n",
       " ...           ...          ...            ...\n",
       " 7499995  0.000000            1              1\n",
       " 7499996  0.000000            1              1\n",
       " 7499997  0.000000            1              1\n",
       " 7499998  0.000000            1              1\n",
       " 7499999  0.000000            1              1\n",
       " \n",
       " [7500000 rows x 3 columns],\n",
       " 'SegmentA_7500000_2':                Y1  SyncMarker1  SampleMarker1\n",
       " 0        0.000000            1              1\n",
       " 1        0.057143            1              1\n",
       " 2        0.057143            1              1\n",
       " 3        0.057143            1              1\n",
       " 4        0.057143            1              1\n",
       " ...           ...          ...            ...\n",
       " 7499995  0.000000            1              1\n",
       " 7499996  0.000000            1              1\n",
       " 7499997  0.000000            1              1\n",
       " 7499998  0.000000            1              1\n",
       " 7499999  0.000000            1              1\n",
       " \n",
       " [7500000 rows x 3 columns],\n",
       " 'SegmentA_7500000_3':                Y1  SyncMarker1  SampleMarker1\n",
       " 0        0.000000            1              1\n",
       " 1        0.057143            1              1\n",
       " 2        0.057143            1              1\n",
       " 3        0.057143            1              1\n",
       " 4        0.057143            1              1\n",
       " ...           ...          ...            ...\n",
       " 7499995  0.000000            1              1\n",
       " 7499996  0.000000            1              1\n",
       " 7499997  0.000000            1              1\n",
       " 7499998  0.000000            1              1\n",
       " 7499999  0.000000            1              1\n",
       " \n",
       " [7500000 rows x 3 columns],\n",
       " 'SegmentA_7500000_4':                Y1  SyncMarker1  SampleMarker1\n",
       " 0        0.000000            1              1\n",
       " 1        0.057143            1              1\n",
       " 2        0.057143            1              1\n",
       " 3        0.057143            1              1\n",
       " 4        0.057143            1              1\n",
       " ...           ...          ...            ...\n",
       " 7499995  0.000000            1              1\n",
       " 7499996  0.000000            1              1\n",
       " 7499997  0.000000            1              1\n",
       " 7499998  0.000000            1              1\n",
       " 7499999  0.000000            1              1\n",
       " \n",
       " [7500000 rows x 3 columns]}"
      ]
     },
     "metadata": {},
     "execution_count": 15
    }
   ],
   "metadata": {}
  },
  {
   "cell_type": "code",
   "execution_count": 18,
   "source": [
    "sweeping_run[4].size"
   ],
   "outputs": [
    {
     "output_type": "execute_result",
     "data": {
      "text/plain": [
       "7500000"
      ]
     },
     "metadata": {},
     "execution_count": 18
    }
   ],
   "metadata": {}
  },
  {
   "cell_type": "code",
   "execution_count": 42,
   "source": [
    "haber['Data for step Pulse File Location, at step {st}'.format(st = 0 )]"
   ],
   "outputs": [
    {
     "output_type": "display_data",
     "data": {
      "text/plain": [
       "array([-8.31736646e-05, -2.47801400e-04, -2.47801400e-04, ...,\n",
       "       -2.47801400e-04, -2.47801400e-04, -5.77056871e-04])"
      ]
     },
     "metadata": {}
    }
   ],
   "metadata": {}
  },
  {
   "cell_type": "code",
   "execution_count": 40,
   "source": [
    "tom = haber['Time interval for step Pulse File Location, at step 0']"
   ],
   "outputs": [],
   "metadata": {}
  },
  {
   "cell_type": "code",
   "execution_count": 44,
   "source": [
    "fig,ax= plt.subplots()\r\n",
    "\r\n",
    "step = 1\r\n",
    "ax.grid(True)\r\n",
    "plt.plot(tom,1000*haber['Data for step Pulse File Location, at step {st}'.format(st = step )],label= 'Starting Step {st}'.format(st = step ))\r\n",
    "\r\n",
    "ax.set_ylabel('V  [mV]')\r\n",
    "ax.set_xlabel('t  [ms]')\r\n",
    "ax.set_title(' Sweeping Measured by DAQ, step {st}'.format(st = step ))\r\n",
    "ax.legend(loc=0)\r\n",
    "plt.show()\r\n",
    "#fig.savefig('Pulse_sweep_t=20',optimize=True,bbox_inches='tight')"
   ],
   "outputs": [
    {
     "output_type": "display_data",
     "data": {
      "text/plain": [
       "<Figure size 432x288 with 1 Axes>"
      ],
      "image/png": "[encoded data removed]"
     },
     "metadata": {}
    }
   ],
   "metadata": {}
  },
  {
   "cell_type": "code",
   "execution_count": 46,
   "source": [
    "fig,ax= plt.subplots()\r\n",
    "\r\n",
    "step = 4\r\n",
    "ax.grid(True)\r\n",
    "plt.plot(tom,1000*haber['Data for step Pulse File Location, at step {st}'.format(st = step )],label= 'Starting Step {st}'.format(st = step ))\r\n",
    "\r\n",
    "ax.set_ylabel('V  [mV]')\r\n",
    "ax.set_xlabel('t  [ms]')\r\n",
    "ax.set_title(' Sweeping Measured by DAQ, step {st}'.format(st = step ))\r\n",
    "ax.legend(loc=0)\r\n",
    "plt.show()\r\n",
    "#fig.savefig('Pulse_sweep_t=20',optimize=True,bbox_inches='tight')"
   ],
   "outputs": [
    {
     "output_type": "display_data",
     "data": {
      "text/plain": [
       "<Figure size 432x288 with 1 Axes>"
      ],
      "image/png": "[encoded data removed]"
     },
     "metadata": {}
    }
   ],
   "metadata": {}
  },
  {
   "cell_type": "code",
   "execution_count": null,
   "source": [],
   "outputs": [],
   "metadata": {}
  },
  {
   "cell_type": "code",
   "execution_count": null,
   "source": [],
   "outputs": [],
   "metadata": {}
  },
  {
   "cell_type": "code",
   "execution_count": 19,
   "source": [
    "def DAQ_Measuring(DAQ_settings,sr,playingtime,instrument):\r\n",
    "    \"\"\"This function starts sets up the DAQ box in order to collect data for a time duration given by \"playing time\"\r\n",
    "      It then uses the DAQ box to trigger the AWG into playing a waveform.\r\n",
    "\r\n",
    "      playingtime should be in seconds.\r\n",
    "      triggerinvoltage should be in volts.\r\n",
    "    \"\"\"\r\n",
    "    instrument.write('INIT:IMM')\r\n",
    "    time.sleep(2)\r\n",
    "\r\n",
    "\r\n",
    "    #Calculating the number of samples given the samplig frecuency and playing time\r\n",
    "    samples = int(sr * playingtime) \r\n",
    "    measuring_time = np.linspace(0,playingtime,samples)\r\n",
    "\r\n",
    "    #setting the tasks\r\n",
    "    measuring_task = nidaqmx.Task()\r\n",
    "    trig_task =  nidaqmx.Task()\r\n",
    "   \r\n",
    "\r\n",
    "\r\n",
    "    #Channels Configuration\r\n",
    "    measuring_task.ai_channels.add_ai_voltage_chan(\"{a}/{b}\".format(a = DAQ_settings['DAQ Name'], b = DAQ_settings['Analog Channel Input']),min_val=DAQ_settings['Minimum Voltage'],max_val= DAQ_settings['Maximum Voltage'])\r\n",
    "    trig_task.ao_channels.add_ao_voltage_chan('{a}/{b}'.format(a = DAQ_settings['DAQ Name'], b = DAQ_settings['Analog Channel Output']),'triggering',-4,4)\r\n",
    "\r\n",
    "    #Sampling configuration measuring channel\r\n",
    "    measuring_task.timing.cfg_samp_clk_timing(sr, active_edge=Edge.RISING, sample_mode=AcquisitionType.FINITE, samps_per_chan=samples)\r\n",
    "    #trig_task.timing.cfg_samp_clk_timing(DAQ_settings['Sampling Frequency'], samps_per_chan=samples)\r\n",
    "    #source = \"measuring_task/SampleClock\"\r\n",
    "\r\n",
    "    trig_task.start()\r\n",
    "    measuring_task.start()\r\n",
    "    \r\n",
    "\r\n",
    "    \r\n",
    "    trig_task.write(1.5)\r\n",
    "    #time.sleep(3)\r\n",
    "    data = np.array(measuring_task.read(samples))\r\n",
    "\r\n",
    "\r\n",
    "    \r\n",
    "    #time.sleep(3)\r\n",
    "    print('Triggering Pulse Stoped')\r\n",
    "    trig_task.write(0)\r\n",
    "\r\n",
    "    \r\n",
    "    \r\n",
    "    \r\n",
    "\r\n",
    "    trig_task.stop()\r\n",
    "    measuring_task.stop()\r\n",
    "\r\n",
    "    measuring_task.close()\r\n",
    "    trig_task.close()\r\n",
    "\r\n",
    "\r\n",
    "    instrument.write('ABOR')\r\n",
    "\r\n",
    "    return data, measuring_time"
   ],
   "outputs": [],
   "metadata": {}
  },
  {
   "cell_type": "code",
   "execution_count": 8,
   "source": [
    "def Sequence_Loader_File_DAQ_np(instrument,DAQ_settings,sampling_rate,playingtime,fileA,fileB):\r\n",
    "    \r\n",
    "    \"\"\" This function loads the csv data files from the Location dictionaries into the instrument as a sequence. FOR SWEEPING\r\n",
    "\r\n",
    "    LocationA is a dictionary, whose elements are the file paths to the csv files that are going to be loaded as SegmentA into the sequence.\r\n",
    "    LocationB is a dictionary, whose elemnts re the filepaths to the csv files that are going to be loaded as SegmentB into the sequence\r\n",
    "    It uses the Sequence_File function to load the csv files to the instrument.\r\n",
    " \r\n",
    "    \"\"\"\r\n",
    "    measurement_data = np.zeros((len(fileA),2),  dtype=object)\r\n",
    "    #measurement_data = {}\r\n",
    "\r\n",
    "    for i,j,k in zip(fileA, fileB,range(0,len(fileA))):\r\n",
    "        Sequence_File(instrument,fileA[i],fileB[j],1)\r\n",
    "        measurement_data[k][0], measurement_data[k][1] = DAQ_Measuring(DAQ_settings,sampling_rate,playingtime,instrument)\r\n",
    "        print('Data acquired for Step {step}'.format(step = k ))\r\n",
    "        #instrument.write('ABOR')\r\n",
    "\r\n",
    "    return measurement_data"
   ],
   "outputs": [],
   "metadata": {}
  },
  {
   "cell_type": "code",
   "execution_count": null,
   "source": [
    "dataM, timeM = DAQ_Measuring(DAQ_Settings1,1000,10,M8190A)"
   ],
   "outputs": [],
   "metadata": {}
  },
  {
   "cell_type": "code",
   "execution_count": 9,
   "source": [
    "hober = Sequence_Loader_File_DAQ_np(M8190A,DAQ_Settings1,1000,10,sweeping_run[0],sweeping_run[1])"
   ],
   "outputs": [
    {
     "output_type": "stream",
     "name": "stdout",
     "text": [
      "Sequence loaded with the following segment data \"1,1,0,1,0,7499999,2,1,0,1,0,7499999\" and the advancement method is COND\n",
      "Triggering Pulse Stoped\n",
      "Data acquired for Step 0\n",
      "Sequence loaded with the following segment data \"1,1,0,1,0,7499999,2,1,0,1,0,7499999\" and the advancement method is COND\n",
      "Triggering Pulse Stoped\n",
      "Data acquired for Step 1\n",
      "Sequence loaded with the following segment data \"1,1,0,1,0,7499999,2,1,0,1,0,7499999\" and the advancement method is COND\n",
      "Triggering Pulse Stoped\n",
      "Data acquired for Step 2\n",
      "Sequence loaded with the following segment data \"1,1,0,1,0,7499999,2,1,0,1,0,7499999\" and the advancement method is COND\n",
      "Triggering Pulse Stoped\n",
      "Data acquired for Step 3\n",
      "Sequence loaded with the following segment data \"1,1,0,1,0,7499999,2,1,0,1,0,7499999\" and the advancement method is COND\n",
      "Triggering Pulse Stoped\n",
      "Data acquired for Step 4\n"
     ]
    }
   ],
   "metadata": {}
  },
  {
   "cell_type": "code",
   "execution_count": 21,
   "source": [
    "hober[0][0].size"
   ],
   "outputs": [
    {
     "output_type": "execute_result",
     "data": {
      "text/plain": [
       "10000"
      ]
     },
     "metadata": {},
     "execution_count": 21
    }
   ],
   "metadata": {}
  },
  {
   "cell_type": "code",
   "execution_count": 25,
   "source": [
    "tom"
   ],
   "outputs": [
    {
     "output_type": "execute_result",
     "data": {
      "text/plain": [
       "array([0.00000000e+00, 1.00010001e-03, 2.00020002e-03, ...,\n",
       "       9.99799980e+00, 9.99899990e+00, 1.00000000e+01])"
      ]
     },
     "metadata": {},
     "execution_count": 25
    }
   ],
   "metadata": {}
  },
  {
   "cell_type": "code",
   "execution_count": 24,
   "source": [
    "tom = hober[0][1]"
   ],
   "outputs": [],
   "metadata": {}
  },
  {
   "cell_type": "code",
   "execution_count": 31,
   "source": [
    "fig,ax= plt.subplots()\r\n",
    "\r\n",
    "ax.grid(True)\r\n",
    "plt.plot(tom,1000*hober[3][0],label= 'Starting Step 0')\r\n",
    "#plt.plot(tom,1000*hober[1][0],label= '1')\r\n",
    "#plt.plot(tom,hober[2][0],label= '2')\r\n",
    "#plt.plot(tom,hober[3][0],label= '3')\r\n",
    "#plt.plot(tom,hober[4][0],label= '4')\r\n",
    "ax.set_ylabel('V  [mV]')\r\n",
    "ax.set_xlabel('t  [s]')\r\n",
    "ax.set_title(' Sweeping Measurement DAQ, seconds regime ')\r\n",
    "ax.legend(loc=0)\r\n",
    "plt.show()\r\n",
    "#fig.savefig('Pulse_sweep_t=20',optimize=True,bbox_inches='tight')"
   ],
   "outputs": [
    {
     "output_type": "display_data",
     "data": {
      "text/plain": [
       "<Figure size 432x288 with 1 Axes>"
      ],
      "image/png": "[encoded data removed]"
     },
     "metadata": {
      "needs_background": "light"
     }
    }
   ],
   "metadata": {}
  },
  {
   "cell_type": "code",
   "execution_count": 12,
   "source": [
    "M8190A.query('OUTP:ROUT:SEL?')"
   ],
   "outputs": [
    {
     "output_type": "execute_result",
     "data": {
      "text/plain": [
       "'DAC'"
      ]
     },
     "metadata": {},
     "execution_count": 12
    }
   ],
   "metadata": {}
  },
  {
   "cell_type": "code",
   "execution_count": 11,
   "source": [
    "M8190A.write('OUTP:ROUT:SEL DAC')"
   ],
   "outputs": [
    {
     "output_type": "execute_result",
     "data": {
      "text/plain": [
       "18"
      ]
     },
     "metadata": {},
     "execution_count": 11
    }
   ],
   "metadata": {}
  },
  {
   "cell_type": "code",
   "execution_count": 17,
   "source": [
    "M8190A.write('INIT:IMM')"
   ],
   "outputs": [
    {
     "output_type": "execute_result",
     "data": {
      "text/plain": [
       "9"
      ]
     },
     "metadata": {},
     "execution_count": 17
    }
   ],
   "metadata": {}
  },
  {
   "cell_type": "markdown",
   "source": [
    "voltask =  nidaqmx.Task()\r\n",
    "\r\n",
    "voltask.ao_channels.add_ao_voltage_chan(\"DAQBNC1/ao1\",min_val=-3,max_val=3)\r\n",
    "\r\n",
    "\r\n",
    "\r\n",
    "\r\n",
    "print('Task started')\r\n",
    "voltask.start()\r\n",
    "\r\n",
    "time.sleep(10)\r\n",
    "\r\n",
    "print('Writting!')\r\n",
    "\r\n",
    "time.sleep(4)\r\n",
    "voltask.write(3)\r\n",
    "time.sleep(7) \r\n",
    "\r\n",
    "print('Lowering Voltage!')\r\n",
    "time.sleep(4)\r\n",
    "\r\n",
    "voltask.write(0)\r\n",
    "#\r\n",
    "voltask.stop()\r\n",
    "#\r\n",
    "voltask.close()"
   ],
   "metadata": {}
  },
  {
   "cell_type": "code",
   "execution_count": 4,
   "source": [
    "def Sequence_File_List1(PulseList1,P,t,N,start,stop,AWG):\r\n",
    "\r\n",
    "    \"\"\" Given one pulse scheme list, this functions iterates the pulse scheme from start to stop.\r\n",
    "\r\n",
    "        This function firts creates the corresponding pulse sequence data given the PulseLists using the Sweep_iteration_csv function\r\n",
    "        \r\n",
    "    \"\"\"\r\n",
    "\r\n",
    "    #SegmentA of the sequence\r\n",
    "    Loc1,DF1,timm = Sweep_Iteration_CSV_List(PulseList1,P,t,N,start,stop,AWG,1)\r\n",
    "\r\n",
    "    return Loc1, DF1, timm"
   ],
   "outputs": [],
   "metadata": {}
  },
  {
   "cell_type": "code",
   "execution_count": null,
   "source": [],
   "outputs": [],
   "metadata": {}
  }
 ],
 "metadata": {
  "@webio": {
   "lastCommId": null,
   "lastKernelId": null
  },
  "interpreter": {
   "hash": "9a32f0bf53af15acd232504180dc0ef28b8a6ac1a49da0a6c374e1f45bb445b6"
  },
  "kernelspec": {
   "name": "python3",
   "display_name": "Python 3.8.5 64-bit ('base': conda)"
  },
  "language_info": {
   "name": "python",
   "version": "3.8.5",
   "mimetype": "text/x-python",
   "codemirror_mode": {
    "name": "ipython",
    "version": 3
   },
   "pygments_lexer": "ipython3",
   "nbconvert_exporter": "python",
   "file_extension": ".py"
  }
 },
 "nbformat": 4,
 "nbformat_minor": 4
}