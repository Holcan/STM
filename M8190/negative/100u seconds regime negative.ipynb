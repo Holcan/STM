{
 "cells": [
  {
   "cell_type": "code",
   "execution_count": 1,
   "source": [
    "import numpy as np\r\n",
    "from numpy import loadtxt\r\n",
    "import pandas as pd\r\n",
    "import time\r\n",
    "import matplotlib\r\n",
    "import matplotlib.pyplot as plt\r\n",
    "import pyvisa as visa\r\n",
    "from matplotlib import animation\r\n",
    "from time import sleep\r\n",
    "from matplotlib.animation import FuncAnimation\r\n",
    "#Importing the functions from the module and the pulses dictionaries\r\n",
    "from Sweeping import *\r\n",
    "from Dictionaries import *\r\n",
    "from PulseFiles import *\r\n",
    "from Instrument import *\r\n",
    "import pyqtgraph as pg \r\n",
    "import nidaqmx\r\n",
    "import pickle"
   ],
   "outputs": [],
   "metadata": {}
  },
  {
   "cell_type": "markdown",
   "source": [
    "# 100micro"
   ],
   "metadata": {}
  },
  {
   "cell_type": "code",
   "execution_count": 3,
   "source": [
    "modulation = 93 #Hz\r\n",
    "loop_number = 10    \r\n",
    "res = 1/3003004800\r\n",
    "\r\n",
    "sam, sr , cycle_length = Adj9(res,modulation,loop_number)"
   ],
   "outputs": [],
   "metadata": {}
  },
  {
   "cell_type": "code",
   "execution_count": 4,
   "source": [
    "sam"
   ],
   "outputs": [
    {
     "output_type": "execute_result",
     "data": {
      "text/plain": [
       "1614528"
      ]
     },
     "metadata": {},
     "execution_count": 4
    }
   ],
   "metadata": {}
  },
  {
   "cell_type": "code",
   "execution_count": 5,
   "source": [
    "sr"
   ],
   "outputs": [
    {
     "output_type": "execute_result",
     "data": {
      "text/plain": [
       "3003022080"
      ]
     },
     "metadata": {},
     "execution_count": 5
    }
   ],
   "metadata": {}
  },
  {
   "cell_type": "code",
   "execution_count": 6,
   "source": [
    "interval = cycle_length*1e6 #micro\r\n",
    "interval"
   ],
   "outputs": [
    {
     "output_type": "execute_result",
     "data": {
      "text/plain": [
       "537.6344086021505"
      ]
     },
     "metadata": {},
     "execution_count": 6
    }
   ],
   "metadata": {}
  },
  {
   "cell_type": "markdown",
   "source": [
    "# AWG and Pulse files setup"
   ],
   "metadata": {}
  },
  {
   "cell_type": "code",
   "execution_count": 7,
   "source": [
    "AWG_Settings_100micro= {\r\n",
    "    'Visa Resource Name': 'TCPIP0::ibn3-036.ibn-net.kfa-juelich.de::hislip0::INSTR',\r\n",
    "    'Voltage Amplitude':150,\r\n",
    "    'Clock Sample Frecuency':3003022080,\r\n",
    "    'Output_Channel': 1,\r\n",
    "    'Mode': 'STS',\r\n",
    "    'Trigger In Threshold' : 1,\r\n",
    "    'Output Rout': 'DC', #DAC output rout only has the BNC outputs: Direct Out and (Averaged) Direct Out # DC\r\n",
    "    'Data Directory': r'D:\\Alejandro\\Pulses\\diode measurements\\Prepared Pulse Schemes CSV\\60,30\\neg\\100micro'\r\n",
    "}"
   ],
   "outputs": [],
   "metadata": {}
  },
  {
   "cell_type": "code",
   "execution_count": 8,
   "source": [
    "M8190A = VisaR(AWG_Settings_100micro,60000)"
   ],
   "outputs": [],
   "metadata": {}
  },
  {
   "cell_type": "code",
   "execution_count": 11,
   "source": [
    "Initialization(M8190A,AWG_Settings_100micro)"
   ],
   "outputs": [
    {
     "output_type": "stream",
     "name": "stdout",
     "text": [
      "Instruments Sampling Frecuency set to 3.00337920000000E+09Hz\n",
      "Instruments Direct Out DC Output route Voltage set to 6.75000000000000E-01Volts\n",
      "AWG_Settings_Dict set to TRIGGERED Mode\n",
      "Trigger In threshold value set to 1.00000000000000E+00V\n"
     ]
    }
   ],
   "metadata": {}
  },
  {
   "cell_type": "code",
   "execution_count": 16,
   "source": [
    "M8190A.write('FREQ:RAST 3003022080')"
   ],
   "outputs": [
    {
     "output_type": "execute_result",
     "data": {
      "text/plain": [
       "21"
      ]
     },
     "metadata": {},
     "execution_count": 16
    }
   ],
   "metadata": {}
  },
  {
   "cell_type": "code",
   "execution_count": 9,
   "source": [
    "Pump_100micro = {\r\n",
    "    'Name':'Pump_100micro',\r\n",
    "    'Amplitude': -2*60,\r\n",
    "    'Start time':200,\r\n",
    "    'End time':2e-10,\r\n",
    "    'Start Duration':100,\r\n",
    "    'End Duration':60,\r\n",
    "    'Sweep time':0,\r\n",
    "    'Sweep Duration':0\r\n",
    "}"
   ],
   "outputs": [],
   "metadata": {}
  },
  {
   "cell_type": "code",
   "execution_count": 10,
   "source": [
    "ProbeA_100micro = {\r\n",
    "    'Name':'ProbeA_100micro',\r\n",
    "    'Amplitude':-2*30,\r\n",
    "    'Start time':0,\r\n",
    "    'End time':400,\r\n",
    "    'Start Duration':100,\r\n",
    "    'End Duration':60,\r\n",
    "    'Sweep time':1,\r\n",
    "    'Sweep Duration':0\r\n",
    "}"
   ],
   "outputs": [],
   "metadata": {}
  },
  {
   "cell_type": "code",
   "execution_count": 11,
   "source": [
    "ProbeB_100micro= {\r\n",
    "    'Name':'ProbeB_100micro',\r\n",
    "    'Amplitude':2*30,\r\n",
    "    'Start time':0,\r\n",
    "    'End time':400,\r\n",
    "    'Start Duration':100,\r\n",
    "    'End Duration':6,\r\n",
    "    'Sweep time':1,\r\n",
    "    'Sweep Duration':0\r\n",
    "}"
   ],
   "outputs": [],
   "metadata": {}
  },
  {
   "cell_type": "code",
   "execution_count": 50,
   "source": [
    "ProbeB_100micro_empty= {\r\n",
    "    'Name':'ProbeB_100micro',\r\n",
    "    'Amplitude':0,\r\n",
    "    'Start time':0,\r\n",
    "    'End time':12,\r\n",
    "    'Start Duration':1,\r\n",
    "    'End Duration':6,\r\n",
    "    'Sweep time':0,\r\n",
    "    'Sweep Duration':0\r\n",
    "}"
   ],
   "outputs": [],
   "metadata": {}
  },
  {
   "cell_type": "code",
   "execution_count": 12,
   "source": [
    "PulseScheme_A_100micro =  {\r\n",
    "    'Name' : 'PulseScheme_A_100micro',\r\n",
    "    'Pulse Scheme': [Pump_100micro,ProbeA_100micro],\r\n",
    "    'Number of repetitions': 1,\r\n",
    "    'Measurement file Path': r'D:\\Alejandro\\Pulses\\diode measurements\\Autocorrelation measurements\\60,30\\neg\\100micro'\r\n",
    "}"
   ],
   "outputs": [],
   "metadata": {}
  },
  {
   "cell_type": "code",
   "execution_count": 13,
   "source": [
    "PulseScheme_B_100micro =  {\r\n",
    "    'Name' : 'PulseScheme_B_1nano',\r\n",
    "    'Pulse Scheme': [Pump_100micro,ProbeB_100micro],\r\n",
    "    'Number of repetitions': 1,\r\n",
    "    'Measurement file Path': r'D:\\Alejandro\\Pulses\\diode measurements\\Autocorrelation measurements\\60,30\\neg\\1nano'\r\n",
    "}"
   ],
   "outputs": [],
   "metadata": {}
  },
  {
   "cell_type": "code",
   "execution_count": 47,
   "source": [
    "AWG_Settings_100micro_empty= {\r\n",
    "    'Visa Resource Name': 'TCPIP0::ibn3-036.ibn-net.kfa-juelich.de::hislip0::INSTR',\r\n",
    "    'Voltage Amplitude':700,\r\n",
    "    'Clock Sample Frecuency':3003022080,\r\n",
    "    'Output_Channel': 1,\r\n",
    "    'Mode': 'STS',\r\n",
    "    'Trigger In Threshold' : 1,\r\n",
    "    'Output Rout': 'DC', #DAC output rout only has the BNC outputs: Direct Out and (Averaged) Direct Out # DC\r\n",
    "    'Data Directory': r'D:\\Alejandro\\Pulses\\diode measurements\\Prepared Pulse Schemes CSV\\50,20\\100micro\\empty B cycle'\r\n",
    "}"
   ],
   "outputs": [],
   "metadata": {}
  },
  {
   "cell_type": "code",
   "execution_count": 51,
   "source": [
    "PulseScheme_B_100micro_empty =  {\r\n",
    "    'Name' : 'PulseScheme_B_100micro',\r\n",
    "    'Pulse Scheme': [ProbeB_100micro_empty,ProbeB_100micro_empty],\r\n",
    "    'Number of repetitions': 1,\r\n",
    "    'Measurement file Path': r'D:\\Alejandro\\Pulses\\diode measurements\\Autocorrelation measurements\\50,20\\100micro'\r\n",
    "}"
   ],
   "outputs": [],
   "metadata": {}
  },
  {
   "cell_type": "code",
   "execution_count": 38,
   "source": [
    "step = 0\r\n",
    "pul1 = Sweep_teil(PulseScheme_A_100micro,70,step,interval,sam)\r\n",
    "\r\n",
    "\r\n",
    "#Plot\r\n",
    "fig,ax= plt.subplots()\r\n",
    "ax.grid(True)\r\n",
    "\r\n",
    "plt.plot(pul1[1],pul1[0]/2,label= '{b} samples'.format(b = sam),color='red')\r\n",
    "\r\n",
    "ax.set_ylabel('V  [mV]')\r\n",
    "ax.set_xlabel(r't [$\\mu$s]')\r\n",
    "ax.set_title('Cycle A at step {a}'.format(a = step )) #Voltage Offset = 3mV, Marker Ampl = 50mV \r\n",
    "#ax.legend(loc=0)\r\n",
    "#plt.legend(bbox_to_anchor=(2.05, 1), loc='upper left', borderaxespad=0.)\r\n",
    "plt.show()\r\n",
    "\r\n",
    "fig.savefig(r'{loc}\\Cycle A, Probe width 100micro {g} step.png'.format(g =  step, loc = PulseScheme_A_100micro['Measurement file Path']),bbox_inches='tight')"
   ],
   "outputs": [
    {
     "output_type": "display_data",
     "data": {
      "image/png": "[encoded data removed]",
      "text/plain": [
       "<Figure size 432x288 with 1 Axes>"
      ]
     },
     "metadata": {
      "needs_background": "light"
     }
    }
   ],
   "metadata": {}
  },
  {
   "cell_type": "code",
   "execution_count": 39,
   "source": [
    "step = 70\r\n",
    "pul1 = Sweep_teil(PulseScheme_A_100micro,70,step,interval,sam)\r\n",
    "\r\n",
    "\r\n",
    "#Plot\r\n",
    "fig,ax= plt.subplots()\r\n",
    "ax.grid(True)\r\n",
    "\r\n",
    "plt.plot(pul1[1],pul1[0]/2,label= '{b} samples'.format(b = sam),color='red')\r\n",
    "\r\n",
    "ax.set_ylabel('V  [mV]')\r\n",
    "ax.set_xlabel(r't [$\\mu$s]')\r\n",
    "ax.set_title('Cycle A at step {a}'.format(a = step )) #Voltage Offset = 3mV, Marker Ampl = 50mV \r\n",
    "#ax.legend(loc=0)\r\n",
    "#plt.legend(bbox_to_anchor=(2.05, 1), loc='upper left', borderaxespad=0.)\r\n",
    "plt.show()\r\n",
    "\r\n",
    "fig.savefig(r'{loc}\\Cycle A, Probe width 100micro {g} step.png'.format(g =  step, loc = PulseScheme_A_100micro['Measurement file Path']),bbox_inches='tight')"
   ],
   "outputs": [
    {
     "output_type": "display_data",
     "data": {
      "image/png": "[encoded data removed]",
      "text/plain": [
       "<Figure size 432x288 with 1 Axes>"
      ]
     },
     "metadata": {
      "needs_background": "light"
     }
    }
   ],
   "metadata": {}
  },
  {
   "cell_type": "code",
   "execution_count": 53,
   "source": [
    "step = 0\r\n",
    "pul1 = Sweep_teil(PulseScheme_B_100micro,70,step,interval,sam)\r\n",
    "\r\n",
    "\r\n",
    "#Plot\r\n",
    "fig,ax= plt.subplots()\r\n",
    "ax.grid(True)\r\n",
    "\r\n",
    "plt.plot(pul1[1],pul1[0]/2,label= '{b} samples'.format(b = sam),color='red')\r\n",
    "\r\n",
    "ax.set_ylabel('V  [mV]')\r\n",
    "ax.set_xlabel(r't [$\\mu$s]')\r\n",
    "ax.set_title('Cycle B at step {a}'.format(a = step )) #Voltage Offset = 3mV, Marker Ampl = 50mV \r\n",
    "#ax.legend(loc=0)\r\n",
    "#plt.legend(bbox_to_anchor=(2.05, 1), loc='upper left', borderaxespad=0.)\r\n",
    "plt.show()\r\n",
    "\r\n",
    "fig.savefig(r'{loc}\\Cycle B, Probe width 100micro {g} step.png'.format(g =  step, loc = PulseScheme_A_100micro['Measurement file Path']),bbox_inches='tight')"
   ],
   "outputs": [
    {
     "output_type": "display_data",
     "data": {
      "image/png": "[encoded data removed]",
      "text/plain": [
       "<Figure size 432x288 with 1 Axes>"
      ]
     },
     "metadata": {
      "needs_background": "light"
     }
    }
   ],
   "metadata": {}
  },
  {
   "cell_type": "code",
   "execution_count": 54,
   "source": [
    "step = 70\r\n",
    "pul1 = Sweep_teil(PulseScheme_B_100micro,70,step,interval,sam)\r\n",
    "\r\n",
    "\r\n",
    "#Plot\r\n",
    "fig,ax= plt.subplots()\r\n",
    "ax.grid(True)\r\n",
    "\r\n",
    "plt.plot(pul1[1],pul1[0]/2,label= '{b} samples'.format(b = sam),color='red')\r\n",
    "\r\n",
    "ax.set_ylabel('V  [mV]')\r\n",
    "ax.set_xlabel(r't [$\\mu$s]')\r\n",
    "ax.set_title('Cycle B at step {a}'.format(a = step )) #Voltage Offset = 3mV, Marker Ampl = 50mV \r\n",
    "#ax.legend(loc=0)\r\n",
    "#plt.legend(bbox_to_anchor=(2.05, 1), loc='upper left', borderaxespad=0.)\r\n",
    "plt.show()\r\n",
    "\r\n",
    "fig.savefig(r'{loc}\\Cycle B, Probe width 100micro, {g} step .png'.format(g =  step, loc = PulseScheme_A_100micro['Measurement file Path']),bbox_inches='tight')"
   ],
   "outputs": [
    {
     "output_type": "display_data",
     "data": {
      "image/png": "[encoded data removed]",
      "text/plain": [
       "<Figure size 432x288 with 1 Axes>"
      ]
     },
     "metadata": {
      "needs_background": "light"
     }
    }
   ],
   "metadata": {}
  },
  {
   "cell_type": "code",
   "execution_count": 57,
   "source": [
    "step = 0\r\n",
    "pul1 = Sweep_teil(PulseScheme_B_100micro_empty,70,step,interval,sam)\r\n",
    "\r\n",
    "\r\n",
    "#Plot\r\n",
    "fig,ax= plt.subplots()\r\n",
    "ax.grid(True)\r\n",
    "\r\n",
    "plt.plot(pul1[1],pul1[0]/2,label= '{b} samples'.format(b = sam),color='red')\r\n",
    "\r\n",
    "ax.set_ylabel('V  [mV]')\r\n",
    "ax.set_xlabel(r't [$\\mu$s]')\r\n",
    "ax.set_title('Cycle B at step {a}'.format(a = step )) #Voltage Offset = 3mV, Marker Ampl = 50mV \r\n",
    "#ax.legend(loc=0)\r\n",
    "#plt.legend(bbox_to_anchor=(2.05, 1), loc='upper left', borderaxespad=0.)\r\n",
    "plt.show()\r\n",
    "\r\n",
    "fig.savefig(r'{loc}\\Cycle B, Probe width 100micro {g} step empty.png'.format(g =  step, loc = PulseScheme_A_100micro['Measurement file Path']),bbox_inches='tight')"
   ],
   "outputs": [
    {
     "output_type": "display_data",
     "data": {
      "image/png": "[encoded data removed]",
      "text/plain": [
       "<Figure size 432x288 with 1 Axes>"
      ]
     },
     "metadata": {
      "needs_background": "light"
     }
    }
   ],
   "metadata": {}
  },
  {
   "cell_type": "code",
   "execution_count": 25,
   "source": [
    "interval*10"
   ],
   "outputs": [
    {
     "output_type": "execute_result",
     "data": {
      "text/plain": [
       "5376.344086021505"
      ]
     },
     "metadata": {},
     "execution_count": 25
    }
   ],
   "metadata": {}
  },
  {
   "cell_type": "code",
   "execution_count": 26,
   "source": [
    "sam"
   ],
   "outputs": [
    {
     "output_type": "execute_result",
     "data": {
      "text/plain": [
       "1614528"
      ]
     },
     "metadata": {},
     "execution_count": 26
    }
   ],
   "metadata": {}
  },
  {
   "cell_type": "code",
   "execution_count": 66,
   "source": [
    "sweeping_run_a_100micro = Sweeping_Single_List_File_teil(PulseScheme_A_100micro,30,interval,sam,0,30,AWG_Settings_100micro,'A')[0]"
   ],
   "outputs": [],
   "metadata": {}
  },
  {
   "cell_type": "code",
   "execution_count": 67,
   "source": [
    "sweeping_run_b_100micro = Sweeping_Single_List_File_teil(PulseScheme_B_100micro,30,interval,sam,0,30,AWG_Settings_100micro,'B')[0]"
   ],
   "outputs": [],
   "metadata": {}
  },
  {
   "cell_type": "code",
   "execution_count": 68,
   "source": [
    "#Exporting pickle\r\n",
    "\r\n",
    "with open(r\"{dict}\\cycleA_71steps_93Hz_100micro_.p\".format(dict = PulseScheme_A_100micro['Measurement file Path']), \"wb\") as k:\r\n",
    "    pickle.dump(sweeping_run_a_100micro, k)\r\n",
    "\r\n",
    "\r\n",
    "with open(r\"{dict}\\cycleB_71steps_93Hz_100micro_.p\".format(dict = PulseScheme_A_100micro['Measurement file Path']), \"wb\") as h:\r\n",
    "    pickle.dump(sweeping_run_b_100micro, h)"
   ],
   "outputs": [],
   "metadata": {}
  },
  {
   "cell_type": "code",
   "execution_count": 58,
   "source": [
    "sweeping_run_b_100micro_empty = Sweeping_Single_List_File_teil(PulseScheme_B_100micro_empty,70,interval,sam,0,70,AWG_Settings_100micro_empty,'B')[0]"
   ],
   "outputs": [],
   "metadata": {}
  },
  {
   "cell_type": "code",
   "execution_count": 60,
   "source": [
    "#Exporting pickle empty cycle\r\n",
    "\r\n",
    "with open(r\"{dict}\\cycleB_31steps_93Hz_100micro_empty.p\".format(dict = PulseScheme_A_100micro['Measurement file Path']), \"wb\") as h:\r\n",
    "    pickle.dump(sweeping_run_b_100micro_empty, h)"
   ],
   "outputs": [],
   "metadata": {}
  },
  {
   "cell_type": "code",
   "execution_count": null,
   "source": [
    "#Importing Pickle\r\n",
    "\r\n",
    "with open(r\"{dict}\\cycleA_31steps_93Hz_100micro_.p\".format(dict = PulseScheme_A_100micro['Measurement file Path']), \"rb\") as j:\r\n",
    "    sweeping_runa_100microicro = pickle.load(j)\r\n",
    "\r\n",
    "with open(r\"{dict}\\cycleB_31steps_93Hz_10micro_.p\".format(dict = PulseScheme_A_100micro['Measurement file Path']), \"rb\") as f:\r\n",
    "    sweeping_runb_100micro= pickle.load(f)"
   ],
   "outputs": [],
   "metadata": {}
  },
  {
   "cell_type": "code",
   "execution_count": 54,
   "source": [
    "sweeping_run_a_100micro['Pulse File Location, at step 70']"
   ],
   "outputs": [
    {
     "output_type": "execute_result",
     "data": {
      "text/plain": [
       "'D:\\\\Alejandro\\\\Pulses\\\\diode measurements\\\\Prepared Pulse Schemes CSV\\\\50,20\\\\100micro\\\\SegmentA_1614528_70.csv'"
      ]
     },
     "metadata": {},
     "execution_count": 54
    }
   ],
   "metadata": {}
  },
  {
   "cell_type": "code",
   "execution_count": 55,
   "source": [
    "sweeping_run_b_100micro['Pulse File Location, at step 70']"
   ],
   "outputs": [
    {
     "output_type": "execute_result",
     "data": {
      "text/plain": [
       "'D:\\\\Alejandro\\\\Pulses\\\\diode measurements\\\\Prepared Pulse Schemes CSV\\\\50,20\\\\100micro\\\\SegmentB_1614528_70.csv'"
      ]
     },
     "metadata": {},
     "execution_count": 55
    }
   ],
   "metadata": {}
  },
  {
   "cell_type": "code",
   "execution_count": 29,
   "source": [
    "Sequence_File(M8190A,sweeping_run_a_100micro['Pulse File Location, at step 0'],sweeping_run_b_100micro['Pulse File Location, at step 0'],10)"
   ],
   "outputs": [
    {
     "output_type": "stream",
     "name": "stdout",
     "text": [
      "Sequence loaded with the following segment data \"1,10,0,1,0,1614527,2,10,0,1,0,1614527\" and the advancement method is COND\n"
     ]
    },
    {
     "output_type": "execute_result",
     "data": {
      "text/plain": [
       "8"
      ]
     },
     "metadata": {},
     "execution_count": 29
    }
   ],
   "metadata": {}
  },
  {
   "cell_type": "code",
   "execution_count": 23,
   "source": [
    "loop_number"
   ],
   "outputs": [
    {
     "output_type": "execute_result",
     "data": {
      "text/plain": [
       "10"
      ]
     },
     "metadata": {},
     "execution_count": 23
    }
   ],
   "metadata": {}
  },
  {
   "cell_type": "markdown",
   "source": [
    "# Loading"
   ],
   "metadata": {}
  },
  {
   "cell_type": "code",
   "execution_count": 69,
   "source": [
    "M8190A.write('SEQ:DEL:ALL')"
   ],
   "outputs": [
    {
     "output_type": "execute_result",
     "data": {
      "text/plain": [
       "12"
      ]
     },
     "metadata": {},
     "execution_count": 69
    }
   ],
   "metadata": {}
  },
  {
   "cell_type": "code",
   "execution_count": null,
   "source": [
    "Dummy_File(M8190A)"
   ],
   "outputs": [
    {
     "output_type": "stream",
     "name": "stdout",
     "text": [
      "Dummy File Loaded and playing\n",
      "Dummy File stopped and erased from AWGs memmory\n"
     ]
    }
   ],
   "metadata": {}
  },
  {
   "cell_type": "code",
   "execution_count": 36,
   "source": [
    "Lock_In_Settings = {\r\n",
    "'Time Constant' : '300ms',\r\n",
    "'Sensitivity' : '200 miliVolts',\r\n",
    "'Reserve' : 'Normal',\r\n",
    "'db' : 24,\r\n",
    "'Modulation': '93Hz'\r\n",
    "}"
   ],
   "outputs": [],
   "metadata": {}
  },
  {
   "cell_type": "code",
   "execution_count": 70,
   "source": [
    "playingtime = 10\r\n",
    "\r\n",
    "Diode_Signal, averaged_data = Voltage_Autocorrelation_loop5(M8190A,DAQ_Settings1,playingtime,sweeping_run_a_100micro,sweeping_run_b_100micro_empty,PulseScheme_A_100micro['Measurement file Path'],Lock_In_Settings,loop_number)"
   ],
   "outputs": [
    {
     "output_type": "stream",
     "name": "stdout",
     "text": [
      "Sequence loaded with the following segment data \"1,10,0,1,0,1614527,2,10,0,1,0,1614527\" and the advancement method is COND\n",
      "Average Value for measurement at step 0 is 0.8188779464837773 V\n",
      "Sequence loaded with the following segment data \"1,10,0,1,0,1614527,2,10,0,1,0,1614527\" and the advancement method is COND\n",
      "Average Value for measurement at step 1 is 0.8189180037697029 V\n",
      "Sequence loaded with the following segment data \"1,10,0,1,0,1614527,2,10,0,1,0,1614527\" and the advancement method is COND\n",
      "Average Value for measurement at step 2 is 0.8210267008671986 V\n",
      "Sequence loaded with the following segment data \"1,10,0,1,0,1614527,2,10,0,1,0,1614527\" and the advancement method is COND\n",
      "Average Value for measurement at step 3 is 0.8209947997444608 V\n",
      "Sequence loaded with the following segment data \"1,10,0,1,0,1614527,2,10,0,1,0,1614527\" and the advancement method is COND\n",
      "Average Value for measurement at step 4 is 0.8210327522141745 V\n",
      "Sequence loaded with the following segment data \"1,10,0,1,0,1614527,2,10,0,1,0,1614527\" and the advancement method is COND\n",
      "Average Value for measurement at step 5 is 0.8210243329487943 V\n",
      "Sequence loaded with the following segment data \"1,10,0,1,0,1614527,2,10,0,1,0,1614527\" and the advancement method is COND\n",
      "Average Value for measurement at step 6 is 0.821050643153119 V\n",
      "Sequence loaded with the following segment data \"1,10,0,1,0,1614527,2,10,0,1,0,1614527\" and the advancement method is COND\n",
      "Average Value for measurement at step 7 is 0.8211566075010506 V\n",
      "Sequence loaded with the following segment data \"1,10,0,1,0,1614527,2,10,0,1,0,1614527\" and the advancement method is COND\n",
      "Average Value for measurement at step 8 is 0.8295958686936356 V\n",
      "Sequence loaded with the following segment data \"1,10,0,1,0,1614527,2,10,0,1,0,1614527\" and the advancement method is COND\n",
      "Average Value for measurement at step 9 is 0.8210838597860686 V\n",
      "Sequence loaded with the following segment data \"1,10,0,1,0,1614527,2,10,0,1,0,1614527\" and the advancement method is COND\n",
      "Average Value for measurement at step 10 is 0.8184153473179429 V\n",
      "Sequence loaded with the following segment data \"1,10,0,1,0,1614527,2,10,0,1,0,1614527\" and the advancement method is COND\n",
      "Average Value for measurement at step 11 is 0.8161912799835577 V\n",
      "Sequence loaded with the following segment data \"1,10,0,1,0,1614527,2,10,0,1,0,1614527\" and the advancement method is COND\n",
      "Average Value for measurement at step 12 is 0.8153650080233085 V\n",
      "Sequence loaded with the following segment data \"1,10,0,1,0,1614527,2,10,0,1,0,1614527\" and the advancement method is COND\n",
      "Average Value for measurement at step 13 is 0.8131618573111825 V\n",
      "Sequence loaded with the following segment data \"1,10,0,1,0,1614527,2,10,0,1,0,1614527\" and the advancement method is COND\n",
      "Average Value for measurement at step 14 is 0.8106481146490188 V\n",
      "Sequence loaded with the following segment data \"1,10,0,1,0,1614527,2,10,0,1,0,1614527\" and the advancement method is COND\n",
      "Average Value for measurement at step 15 is 0.784791170267248 V\n",
      "Sequence loaded with the following segment data \"1,10,0,1,0,1614527,2,10,0,1,0,1614527\" and the advancement method is COND\n",
      "Average Value for measurement at step 16 is 0.8067413782565828 V\n",
      "Sequence loaded with the following segment data \"1,10,0,1,0,1614527,2,10,0,1,0,1614527\" and the advancement method is COND\n",
      "Average Value for measurement at step 17 is 0.8128307433938011 V\n",
      "Sequence loaded with the following segment data \"1,10,0,1,0,1614527,2,10,0,1,0,1614527\" and the advancement method is COND\n",
      "Average Value for measurement at step 18 is 0.8131651460866961 V\n",
      "Sequence loaded with the following segment data \"1,10,0,1,0,1614527,2,10,0,1,0,1614527\" and the advancement method is COND\n",
      "Average Value for measurement at step 19 is 0.8154132214723291 V\n",
      "Sequence loaded with the following segment data \"1,10,0,1,0,1614527,2,10,0,1,0,1614527\" and the advancement method is COND\n",
      "Average Value for measurement at step 20 is 0.8183988376648701 V\n",
      "Sequence loaded with the following segment data \"1,10,0,1,0,1614527,2,10,0,1,0,1614527\" and the advancement method is COND\n",
      "Average Value for measurement at step 21 is 0.8185032891755495 V\n",
      "Sequence loaded with the following segment data \"1,10,0,1,0,1614527,2,10,0,1,0,1614527\" and the advancement method is COND\n",
      "Average Value for measurement at step 22 is 0.8211050395005463 V\n",
      "Sequence loaded with the following segment data \"1,10,0,1,0,1614527,2,10,0,1,0,1614527\" and the advancement method is COND\n",
      "Average Value for measurement at step 23 is 0.8211281267048464 V\n",
      "Sequence loaded with the following segment data \"1,10,0,1,0,1614527,2,10,0,1,0,1614527\" and the advancement method is COND\n",
      "Average Value for measurement at step 24 is 0.8210872801126352 V\n",
      "Sequence loaded with the following segment data \"1,10,0,1,0,1614527,2,10,0,1,0,1614527\" and the advancement method is COND\n",
      "Average Value for measurement at step 25 is 0.8210810972146344 V\n",
      "Sequence loaded with the following segment data \"1,10,0,1,0,1614527,2,10,0,1,0,1614527\" and the advancement method is COND\n",
      "Average Value for measurement at step 26 is 0.8209392194380449 V\n",
      "Sequence loaded with the following segment data \"1,10,0,1,0,1614527,2,10,0,1,0,1614527\" and the advancement method is COND\n",
      "Average Value for measurement at step 27 is 0.8192606941801354 V\n",
      "Sequence loaded with the following segment data \"1,10,0,1,0,1614527,2,10,0,1,0,1614527\" and the advancement method is COND\n",
      "Average Value for measurement at step 28 is 0.81898075360682 V\n",
      "Sequence loaded with the following segment data \"1,10,0,1,0,1614527,2,10,0,1,0,1614527\" and the advancement method is COND\n",
      "Average Value for measurement at step 29 is 0.8185190752980652 V\n",
      "Sequence loaded with the following segment data \"1,10,0,1,0,1614527,2,10,0,1,0,1614527\" and the advancement method is COND\n",
      "Average Value for measurement at step 30 is 0.8184765185427536 V\n"
     ]
    }
   ],
   "metadata": {}
  },
  {
   "cell_type": "code",
   "execution_count": 71,
   "source": [
    "fig,ax= plt.subplots()\r\n",
    "ax.grid(True)\r\n",
    "for i in range(0,len(Diode_Signal)):\r\n",
    "    plt.plot(Diode_Signal[i][1],Diode_Signal[i][0],label= 'Step {st}'.format(st = i ))\r\n",
    "\r\n",
    "ax.set_ylabel(r'V  [V]')\r\n",
    "ax.set_xlabel('t  [s]')\r\n",
    "ax.set_title(r' Diode Signal at Different Steps,  {b} Samples, 100$\\mu$s probe duration'.format(b = len(Diode_Signal[0][1]) ))\r\n",
    "#ax.legend(bbox_to_anchor=(1.05, 1), loc='upper left', borderaxespad=0.)\r\n",
    "#ax.legend(loc=0)\r\n",
    "plt.show()\r\n",
    "\r\n",
    "fig.savefig(r'{loc}\\Diode Signal time cstant = {a}, sensitivity {b},{c} daqseconds, 5ms scheme, probe duration 100 micro,31 steps, no legend,6Ghz .jpeg'.format(loc = PulseScheme_A_100micro['Measurement file Path'],a = Lock_In_Settings['Time Constant'], b = Lock_In_Settings['Sensitivity'], c = playingtime),bbox_inches='tight')"
   ],
   "outputs": [
    {
     "output_type": "display_data",
     "data": {
      "image/png": "[encoded data removed]",
      "text/plain": [
       "<Figure size 432x288 with 1 Axes>"
      ]
     },
     "metadata": {
      "needs_background": "light"
     }
    }
   ],
   "metadata": {}
  },
  {
   "cell_type": "code",
   "execution_count": 73,
   "source": [
    "time_delay = np.linspace(-200,200,31)"
   ],
   "outputs": [],
   "metadata": {}
  },
  {
   "cell_type": "code",
   "execution_count": null,
   "source": [
    "%matplotlib inline"
   ],
   "outputs": [],
   "metadata": {}
  },
  {
   "cell_type": "code",
   "execution_count": 74,
   "source": [
    "#change this to V regime\r\n",
    "fig,axes = plt.subplots()\r\n",
    "\r\n",
    "axes.grid(True)\r\n",
    "\r\n",
    "plt.plot(time_delay,averaged_data,label=r'100$\\mu$s Probe Width ',color='green')\r\n",
    "#plt.plot(tm,pul,label = '{a} samples'.format(a = len(pul)))\r\n",
    "\r\n",
    "axes.set_xlabel(r'time delay [$\\mu$s]')\r\n",
    "axes.set_ylabel(r'Diode Signal [V]')\r\n",
    "axes.set_title('Auto-Correlation 31 steps ')\r\n",
    "\r\n",
    "axes.legend(loc = 0)\r\n",
    "plt.show()\r\n",
    "\r\n",
    "fig.savefig(r'{loc}\\Autocorrelation function 31 steps probes 5ms length tc = {a}, sens {b}, {c}s DAQ 6Ghz.jpeg'.format(loc = PulseScheme_A_100micro['Measurement file Path'],a = Lock_In_Settings['Time Constant'], b = Lock_In_Settings['Sensitivity'], c = playingtime ))"
   ],
   "outputs": [
    {
     "output_type": "display_data",
     "data": {
      "image/png": "[encoded data removed]",
      "text/plain": [
       "<Figure size 432x288 with 1 Axes>"
      ]
     },
     "metadata": {
      "needs_background": "light"
     }
    }
   ],
   "metadata": {}
  },
  {
   "cell_type": "code",
   "execution_count": 10,
   "source": [
    "1/(45.45)"
   ],
   "outputs": [
    {
     "output_type": "execute_result",
     "data": {
      "text/plain": [
       "0.022002200220022"
      ]
     },
     "metadata": {},
     "execution_count": 10
    }
   ],
   "metadata": {}
  },
  {
   "cell_type": "code",
   "execution_count": 12,
   "source": [
    "complete_time = 1/880"
   ],
   "outputs": [],
   "metadata": {}
  },
  {
   "cell_type": "code",
   "execution_count": 13,
   "source": [
    "complete_time * 1e6"
   ],
   "outputs": [
    {
     "output_type": "execute_result",
     "data": {
      "text/plain": [
       "1136.3636363636363"
      ]
     },
     "metadata": {},
     "execution_count": 13
    }
   ],
   "metadata": {}
  },
  {
   "cell_type": "code",
   "execution_count": 38,
   "source": [
    "modulation = 879 #Hz \r\n",
    "comp_time = 1/modulation\r\n",
    "cycle_time = comp_time/2\r\n",
    "cycle_time"
   ],
   "outputs": [
    {
     "output_type": "execute_result",
     "data": {
      "text/plain": [
       "0.0005688282138794084"
      ]
     },
     "metadata": {},
     "execution_count": 38
    }
   ],
   "metadata": {}
  },
  {
   "cell_type": "code",
   "execution_count": 39,
   "source": [
    "cycle_time *1e6 #micro seconds"
   ],
   "outputs": [
    {
     "output_type": "execute_result",
     "data": {
      "text/plain": [
       "568.8282138794084"
      ]
     },
     "metadata": {},
     "execution_count": 39
    }
   ],
   "metadata": {}
  },
  {
   "cell_type": "code",
   "execution_count": 40,
   "source": [
    "cycle_time *1e9 #nano seconds"
   ],
   "outputs": [
    {
     "output_type": "execute_result",
     "data": {
      "text/plain": [
       "568828.2138794084"
      ]
     },
     "metadata": {},
     "execution_count": 40
    }
   ],
   "metadata": {}
  },
  {
   "cell_type": "code",
   "execution_count": 17,
   "source": [
    "cycle_time2 = 0.0005681818181818182\r\n",
    "comp_time2 = cycle_time2 * 2\r\n",
    "mod2 = 1/comp_time2\r\n",
    "mod2"
   ],
   "outputs": [
    {
     "output_type": "execute_result",
     "data": {
      "text/plain": [
       "880.0"
      ]
     },
     "metadata": {},
     "execution_count": 17
    }
   ],
   "metadata": {}
  },
  {
   "cell_type": "code",
   "execution_count": null,
   "source": [],
   "outputs": [],
   "metadata": {}
  },
  {
   "cell_type": "code",
   "execution_count": 18,
   "source": [
    "full_cycle = 0.0005681818181818182\r\n",
    "# loop_number = \r\n",
    "loop_number = full_cycle / 50\r\n",
    "loop_number"
   ],
   "outputs": [
    {
     "output_type": "execute_result",
     "data": {
      "text/plain": [
       "1.1363636363636363e-05"
      ]
     },
     "metadata": {},
     "execution_count": 18
    }
   ],
   "metadata": {}
  },
  {
   "cell_type": "code",
   "execution_count": 22,
   "source": [
    "round((cycle_time *1e9)/50)"
   ],
   "outputs": [
    {
     "output_type": "execute_result",
     "data": {
      "text/plain": [
       "11364"
      ]
     },
     "metadata": {},
     "execution_count": 22
    }
   ],
   "metadata": {}
  },
  {
   "cell_type": "code",
   "execution_count": 24,
   "source": [
    "((cycle_time *1e9)/50) *50"
   ],
   "outputs": [
    {
     "output_type": "execute_result",
     "data": {
      "text/plain": [
       "568181.8181818181"
      ]
     },
     "metadata": {},
     "execution_count": 24
    }
   ],
   "metadata": {}
  },
  {
   "cell_type": "code",
   "execution_count": 25,
   "source": [
    "round((cycle_time *1e9)/50) *50"
   ],
   "outputs": [
    {
     "output_type": "execute_result",
     "data": {
      "text/plain": [
       "568200"
      ]
     },
     "metadata": {},
     "execution_count": 25
    }
   ],
   "metadata": {}
  },
  {
   "cell_type": "code",
   "execution_count": null,
   "source": [
    "568182 #total time length nano\r\n",
    "50 #segment length\r\n",
    "11377#loop number"
   ],
   "outputs": [],
   "metadata": {}
  },
  {
   "cell_type": "code",
   "execution_count": 41,
   "source": [
    "568828/50"
   ],
   "outputs": [
    {
     "output_type": "execute_result",
     "data": {
      "text/plain": [
       "11376.56"
      ]
     },
     "metadata": {},
     "execution_count": 41
    }
   ],
   "metadata": {}
  },
  {
   "cell_type": "code",
   "execution_count": 37,
   "source": [
    "50*11364"
   ],
   "outputs": [
    {
     "output_type": "execute_result",
     "data": {
      "text/plain": [
       "568200"
      ]
     },
     "metadata": {},
     "execution_count": 37
    }
   ],
   "metadata": {}
  },
  {
   "cell_type": "code",
   "execution_count": 44,
   "source": [
    "1/(2*568828 *1e-9)"
   ],
   "outputs": [
    {
     "output_type": "execute_result",
     "data": {
      "text/plain": [
       "879.0003305041241"
      ]
     },
     "metadata": {},
     "execution_count": 44
    }
   ],
   "metadata": {}
  },
  {
   "cell_type": "code",
   "execution_count": null,
   "source": [
    "samples = int(6720000000 * c)\r\n",
    "samples"
   ],
   "outputs": [
    {
     "output_type": "display_data",
     "data": {
      "text/plain": [
       "302"
      ]
     },
     "metadata": {}
    }
   ],
   "metadata": {}
  },
  {
   "cell_type": "code",
   "execution_count": null,
   "source": [
    "samples/48"
   ],
   "outputs": [
    {
     "output_type": "display_data",
     "data": {
      "text/plain": [
       "6.291666666666667"
      ]
     },
     "metadata": {}
    }
   ],
   "metadata": {}
  },
  {
   "cell_type": "code",
   "execution_count": null,
   "source": [
    "sam = Granularity(samples)\r\n",
    "sam"
   ],
   "outputs": [
    {
     "output_type": "display_data",
     "data": {
      "text/plain": [
       "336"
      ]
     },
     "metadata": {}
    }
   ],
   "metadata": {
    "scrolled": true
   }
  },
  {
   "cell_type": "code",
   "execution_count": null,
   "source": [
    "adjusted_sr = int(sam/5e-8)"
   ],
   "outputs": [],
   "metadata": {}
  },
  {
   "cell_type": "code",
   "execution_count": null,
   "source": [
    "adjusted_sr"
   ],
   "outputs": [
    {
     "output_type": "display_data",
     "data": {
      "text/plain": [
       "6720000000"
      ]
     },
     "metadata": {}
    }
   ],
   "metadata": {}
  },
  {
   "cell_type": "code",
   "execution_count": null,
   "source": [
    "6720000000"
   ],
   "outputs": [],
   "metadata": {}
  },
  {
   "cell_type": "code",
   "execution_count": 51,
   "source": [
    "resolution = 1/6240000000\r\n",
    "\r\n",
    "resolution"
   ],
   "outputs": [
    {
     "output_type": "execute_result",
     "data": {
      "text/plain": [
       "1.6025641025641025e-10"
      ]
     },
     "metadata": {},
     "execution_count": 51
    }
   ],
   "metadata": {}
  },
  {
   "cell_type": "code",
   "execution_count": 53,
   "source": [
    "Adj(resolution,45.45,110000)"
   ],
   "outputs": [
    {
     "output_type": "execute_result",
     "data": {
      "text/plain": [
       "(672, 6719328000)"
      ]
     },
     "metadata": {},
     "execution_count": 53
    }
   ],
   "metadata": {}
  },
  {
   "cell_type": "code",
   "execution_count": 61,
   "source": [
    "%matplotlib inline"
   ],
   "outputs": [],
   "metadata": {}
  },
  {
   "cell_type": "code",
   "execution_count": 62,
   "source": [
    "import numpy as np\r\n",
    "import matplotlib\r\n",
    "import matplotlib.pyplot as plt\r\n",
    "from matplotlib import animation\r\n",
    "from matplotlib.animation import FuncAnimation\r\n",
    "#Importing the functions from the module and the pulses dictionaries\r\n",
    "from Sweeping import sweep0, Sweep\r\n",
    "from Dictionaries import AWG_Settings1, Rabi, Probe1, PulsoG, Rabi2\r\n",
    "\r\n",
    "#Pulse schemes\r\n",
    "\r\n",
    "\r\n",
    "\r\n",
    "Pulses_List = [\r\n",
    "    Rabi,Probe1\r\n",
    "    ];\r\n",
    "\r\n",
    "Pulses_List = [\r\n",
    "    Rabi2,Probe1\r\n",
    "    ];\r\n",
    "\r\n",
    "PScheme=[\r\n",
    "    PulsoG\r\n",
    "    ]\r\n",
    "\r\n",
    "#Plotting\r\n",
    "\r\n",
    "plt.style.use('seaborn-pastel')\r\n",
    "fig = plt.figure()\r\n",
    "ax = plt.axes(xlim=(-1, 1000), ylim=(0,600))\r\n",
    "ax.grid(True)\r\n",
    "ax.set_ylabel('V  [mV]')\r\n",
    "ax.set_xlabel('t  [s]')\r\n",
    "line, = ax.plot([], [], color='black')\r\n",
    "\r\n",
    "# initialization function: plot the background of each frame\r\n",
    "def init():\r\n",
    "    line.set_data([], [])\r\n",
    "    return line,\r\n",
    "\r\n",
    "# animation function.  Whe iterate over p and define the stopping point by the end value of frames in the anim function\r\n",
    "def animate(i):\r\n",
    "    y, time = Sweep(Pulses_List,100,i,100,1000)\r\n",
    "    line.set_data(time, y)\r\n",
    "    return line,\r\n",
    "\r\n",
    "# call the animator.  blit=True means only re-draw the parts that have changed.\r\n",
    "anim = animation.FuncAnimation(fig, animate, init_func=init,frames=np.linspace(0,100), interval=400, blit=True)\r\n",
    "plt.show()\r\n",
    "\r\n",
    "#in our case, frames should match to the total number of time steps P\r\n"
   ],
   "outputs": [
    {
     "output_type": "display_data",
     "data": {
      "image/png": "[encoded data removed]",
      "text/plain": [
       "<Figure size 432x288 with 1 Axes>"
      ]
     },
     "metadata": {
      "needs_background": "light"
     }
    }
   ],
   "metadata": {}
  },
  {
   "cell_type": "code",
   "execution_count": null,
   "source": [
    "Adj(45,220000)"
   ],
   "outputs": [],
   "metadata": {}
  },
  {
   "cell_type": "code",
   "execution_count": 11,
   "source": [
    "def Adj1(modulation,repetitions):\r\n",
    "    \"\"\"\r\n",
    "    240 minimum length\r\n",
    "    \"\"\"\r\n",
    "\r\n",
    "    time_length_segment = Tc(modulation,repetitions)\r\n",
    "\r\n",
    "    minimum_sample_length = 240 \r\n",
    "\r\n",
    "    sampling_frequency0 = int(minimum_sample_length / time_length_segment)\r\n",
    "\r\n",
    "    return minimum_sample_length,sampling_frequency0, time_length_segment"
   ],
   "outputs": [],
   "metadata": {}
  },
  {
   "cell_type": "code",
   "execution_count": 24,
   "source": [
    "sam,sr, interval = Adj1(880,220000)"
   ],
   "outputs": [],
   "metadata": {}
  },
  {
   "cell_type": "code",
   "execution_count": 25,
   "source": [
    "sam"
   ],
   "outputs": [
    {
     "output_type": "execute_result",
     "data": {
      "text/plain": [
       "240"
      ]
     },
     "metadata": {},
     "execution_count": 25
    }
   ],
   "metadata": {}
  },
  {
   "cell_type": "code",
   "execution_count": 26,
   "source": [
    "sr"
   ],
   "outputs": [
    {
     "output_type": "execute_result",
     "data": {
      "text/plain": [
       "92928000000"
      ]
     },
     "metadata": {},
     "execution_count": 26
    }
   ],
   "metadata": {}
  },
  {
   "cell_type": "code",
   "execution_count": 27,
   "source": [
    "interval"
   ],
   "outputs": [
    {
     "output_type": "execute_result",
     "data": {
      "text/plain": [
       "2.5826446280991735e-09"
      ]
     },
     "metadata": {},
     "execution_count": 27
    }
   ],
   "metadata": {}
  },
  {
   "cell_type": "code",
   "execution_count": 23,
   "source": [
    "complete_time_length = 2*interval *220000\r\n",
    "modulation = 1/complete_time_length\r\n",
    "modulation"
   ],
   "outputs": [
    {
     "output_type": "execute_result",
     "data": {
      "text/plain": [
       "45.0"
      ]
     },
     "metadata": {},
     "execution_count": 23
    }
   ],
   "metadata": {}
  },
  {
   "cell_type": "code",
   "execution_count": 33,
   "source": [
    "def is_in(x):\r\n",
    "    if x in range(10,25):\r\n",
    "        print(x,'is in the',range(10,25))\r\n",
    "    else:\r\n",
    "        print(x,'is not in the',range(10,25))"
   ],
   "outputs": [],
   "metadata": {}
  },
  {
   "cell_type": "code",
   "execution_count": 35,
   "source": [
    "is_in(9)"
   ],
   "outputs": [
    {
     "output_type": "stream",
     "name": "stdout",
     "text": [
      "9 is not in the range(10, 25)\n"
     ]
    }
   ],
   "metadata": {}
  },
  {
   "cell_type": "code",
   "execution_count": 38,
   "source": [
    "def Adj_minimum2(modulation,repetitions):\r\n",
    "    \"\"\" This function returns the proper sampling frequency and segment time length for waveforms with 240 samples, given the desired modulation frequency and number of repetitios\r\n",
    "    \r\n",
    "\r\n",
    "    modulation: int, desired modulation frequenxy in Herz to be used as a reference signal in the Lock-In Amplifier\r\n",
    "    repetitions: int, desired number of repetitions (loop number). the total duration of one cycle will be split into this number\r\n",
    "    \"\"\"\r\n",
    "\r\n",
    "    time_length_segment = Tc(modulation,repetitions)\r\n",
    "\r\n",
    "    sample_length = 240 \r\n",
    "\r\n",
    "    sampling_frequency0 = int(sample_length / time_length_segment)\r\n",
    "\r\n",
    "    while  not sampling_frequency0 in range(125000000,8000000000+1):\r\n",
    "        sample_length =sample_length  + 48\r\n",
    "        sampling_frequency0 = int(sample_length / time_length_segment)\r\n",
    "\r\n",
    "    return sample_length, sampling_frequency0, time_length_segment"
   ],
   "outputs": [],
   "metadata": {}
  },
  {
   "cell_type": "code",
   "execution_count": 50,
   "source": [
    "def Adj9(resolution,modulation,repetitions):\r\n",
    "    \"\"\"\r\n",
    "    240 minimum length\r\n",
    "    \"\"\"\r\n",
    "\r\n",
    "    time_length_segment = Tc(modulation,repetitions)\r\n",
    "\r\n",
    "    samples0,sampling_frequency0 = Param(time_length_segment,resolution)\r\n",
    "\r\n",
    "    if samples0 < 240 :\r\n",
    "        samples0 = 240\r\n",
    "        sampling_frequency0 = int(samples0/time_length_segment)\r\n",
    "        return samples0,sampling_frequency0\r\n",
    "\r\n",
    "    else :\r\n",
    "        if div(samples0) == True:\r\n",
    "            return samples0,sampling_frequency0\r\n",
    "        else:\r\n",
    "            adjusted_samples = Granularity(samples0)\r\n",
    "            adjusted_sr = int(adjusted_samples/time_length_segment)\r\n",
    "\r\n",
    "            return adjusted_samples, adjusted_sr"
   ],
   "outputs": [],
   "metadata": {}
  },
  {
   "cell_type": "code",
   "execution_count": 42,
   "source": [
    "Adj_minimum(880,220000)"
   ],
   "outputs": [
    {
     "output_type": "execute_result",
     "data": {
      "text/plain": [
       "(240, 1.4705882352941175e-10, 2.5826446280991735e-09)"
      ]
     },
     "metadata": {},
     "execution_count": 42
    }
   ],
   "metadata": {}
  },
  {
   "cell_type": "code",
   "execution_count": 43,
   "source": [
    "def Adj_minimum(modulation,repetitions):\r\n",
    "    \"\"\" This function returns the proper sampling frequency and segment time length for waveforms with 240 samples, given the desired modulation frequency and number of repetitios\r\n",
    "    \r\n",
    "\r\n",
    "    modulation: int, desired modulation frequenxy in Herz to be used as a reference signal in the Lock-In Amplifier\r\n",
    "    repetitions: int, desired number of repetitions (loop number). the total duration of one cycle will be split into this number\r\n",
    "    \"\"\"\r\n",
    "\r\n",
    "    time_length_segment = Tc(modulation,repetitions)\r\n",
    "\r\n",
    "    minimum_sample_length = 240 \r\n",
    "\r\n",
    "    sampling_frequency0 = 1/6800000000\r\n",
    "\r\n",
    "\r\n",
    "    return minimum_sample_length,sampling_frequency0, time_length_segment"
   ],
   "outputs": [],
   "metadata": {}
  },
  {
   "cell_type": "code",
   "execution_count": 51,
   "source": [
    "Adj9(180e-9,189,80000)"
   ],
   "outputs": [
    {
     "output_type": "execute_result",
     "data": {
      "text/plain": [
       "(240, 7257600000)"
      ]
     },
     "metadata": {},
     "execution_count": 51
    }
   ],
   "metadata": {}
  },
  {
   "cell_type": "code",
   "execution_count": null,
   "source": [
    "2160000000"
   ],
   "outputs": [],
   "metadata": {}
  },
  {
   "cell_type": "code",
   "execution_count": null,
   "source": [
    "7257600000"
   ],
   "outputs": [],
   "metadata": {}
  }
 ],
 "metadata": {
  "orig_nbformat": 4,
  "language_info": {
   "name": "python",
   "version": "3.8.5",
   "mimetype": "text/x-python",
   "codemirror_mode": {
    "name": "ipython",
    "version": 3
   },
   "pygments_lexer": "ipython3",
   "nbconvert_exporter": "python",
   "file_extension": ".py"
  },
  "kernelspec": {
   "name": "python3",
   "display_name": "Python 3.8.5 64-bit ('base': conda)"
  },
  "interpreter": {
   "hash": "9a32f0bf53af15acd232504180dc0ef28b8a6ac1a49da0a6c374e1f45bb445b6"
  }
 },
 "nbformat": 4,
 "nbformat_minor": 2
}