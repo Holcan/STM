{
 "cells": [
  {
   "cell_type": "code",
   "execution_count": 1,
   "metadata": {},
   "outputs": [],
   "source": [
    "import numpy as np\n",
    "from numpy import loadtxt\n",
    "import pandas as pd\n",
    "import time\n",
    "import matplotlib\n",
    "import matplotlib.pyplot as plt\n",
    "import pyvisa as visa\n",
    "from matplotlib import animation\n",
    "from time import sleep\n",
    "from matplotlib.animation import FuncAnimation\n",
    "#Importing the functions from the module and the pulses dictionaries\n",
    "from Sweeping import *\n",
    "from Dictionaries import *\n",
    "from PulseFiles import *\n",
    "from Instrument import *\n",
    "import pyqtgraph as pg \n",
    "import nidaqmx\n",
    "import pickle"
   ]
  },
  {
   "cell_type": "markdown",
   "metadata": {},
   "source": [
    "# 1 micro"
   ]
  },
  {
   "cell_type": "code",
   "execution_count": 5,
   "metadata": {},
   "outputs": [],
   "source": [
    "modulation = 93 #Hz\n",
    "loop_number = 750    \n",
    "res = 1/3000240000\n",
    "\n",
    "sam, sr , segment_length = Adj9(res,modulation,loop_number)"
   ]
  },
  {
   "cell_type": "code",
   "execution_count": 6,
   "metadata": {},
   "outputs": [
    {
     "data": {
      "text/plain": [
       "21552"
      ]
     },
     "execution_count": 6,
     "metadata": {},
     "output_type": "execute_result"
    }
   ],
   "source": [
    "sam"
   ]
  },
  {
   "cell_type": "code",
   "execution_count": 7,
   "metadata": {},
   "outputs": [
    {
     "data": {
      "text/plain": [
       "3006504000"
      ]
     },
     "execution_count": 7,
     "metadata": {},
     "output_type": "execute_result"
    }
   ],
   "source": [
    "sr"
   ]
  },
  {
   "cell_type": "code",
   "execution_count": 8,
   "metadata": {},
   "outputs": [
    {
     "data": {
      "text/plain": [
       "7.168458781362007"
      ]
     },
     "execution_count": 8,
     "metadata": {},
     "output_type": "execute_result"
    }
   ],
   "source": [
    "interval = segment_length*1e6 #micro\n",
    "interval"
   ]
  },
  {
   "cell_type": "code",
   "execution_count": 3,
   "metadata": {},
   "outputs": [
    {
     "data": {
      "text/plain": [
       "0.15"
      ]
     },
     "execution_count": 3,
     "metadata": {},
     "output_type": "execute_result"
    }
   ],
   "source": [
    "150/1000"
   ]
  },
  {
   "cell_type": "markdown",
   "metadata": {},
   "source": [
    "# AWG and Pulse files setup"
   ]
  },
  {
   "cell_type": "code",
   "execution_count": 9,
   "metadata": {},
   "outputs": [],
   "source": [
    "AWG_Settings_1micro= {\n",
    "    'Visa Resource Name': 'TCPIP0::ibn3-036.ibn-net.kfa-juelich.de::hislip0::INSTR',\n",
    "    'Voltage Amplitude':150,\n",
    "    'Clock Sample Frecuency':sr,\n",
    "    'Output_Channel': 1,\n",
    "    'Mode': 'STS',\n",
    "    'Trigger In Threshold' : 1,\n",
    "    'Output Rout': 'DAC', #DAC output rout only has the BNC outputs: Direct Out and (Averaged) Direct Out # DC\n",
    "    'Data Directory': r'D:\\Alejandro\\Pulses\\diode measurements\\Prepared Pulse Schemes CSV\\60,30\\pos\\1micro'\n",
    "}"
   ]
  },
  {
   "cell_type": "code",
   "execution_count": 10,
   "metadata": {},
   "outputs": [],
   "source": [
    "M8190A = VisaR(AWG_Settings_1micro,60000)"
   ]
  },
  {
   "cell_type": "code",
   "execution_count": 11,
   "metadata": {},
   "outputs": [
    {
     "data": {
      "text/plain": [
       "21"
      ]
     },
     "execution_count": 11,
     "metadata": {},
     "output_type": "execute_result"
    }
   ],
   "source": [
    "M8190A.write('FREQ:RAST {fr}'.format(fr =sr))"
   ]
  },
  {
   "cell_type": "code",
   "execution_count": null,
   "metadata": {},
   "outputs": [
    {
     "name": "stdout",
     "output_type": "stream",
     "text": [
      "Instruments Sampling Frecuency set to 1.25760000000000E+08Hz\n",
      "Instruments Direct Out DAC Output route Voltage set to 7.00000000000000E-01Volts\n",
      "AWG_Settings_Dict set to TRIGGERED Mode\n",
      "Trigger In threshold value set to 1.00000000000000E+00V\n"
     ]
    }
   ],
   "source": [
    "Initialization(M8190A,AWG_Settings_1micro)"
   ]
  },
  {
   "cell_type": "code",
   "execution_count": 12,
   "metadata": {},
   "outputs": [],
   "source": [
    "Pump_1micro = {\n",
    "    'Name':'Pump_1micro',\n",
    "    'Amplitude':2*60,\n",
    "    'Start time':2,\n",
    "    'End time':2e-10,\n",
    "    'Start Duration':1,\n",
    "    'End Duration':60,\n",
    "    'Sweep time':0,\n",
    "    'Sweep Duration':0\n",
    "}"
   ]
  },
  {
   "cell_type": "code",
   "execution_count": 13,
   "metadata": {},
   "outputs": [],
   "source": [
    "ProbeA_1micro = {\n",
    "    'Name':'ProbeA_1micro',\n",
    "    'Amplitude':2*30,\n",
    "    'Start time':0,\n",
    "    'End time':4,\n",
    "    'Start Duration':1,\n",
    "    'End Duration':60,\n",
    "    'Sweep time':1,\n",
    "    'Sweep Duration':0\n",
    "}"
   ]
  },
  {
   "cell_type": "code",
   "execution_count": 14,
   "metadata": {},
   "outputs": [],
   "source": [
    "ProbeB_1micro= {\n",
    "    'Name':'ProbeB_1micro',\n",
    "    'Amplitude':-2*30,\n",
    "    'Start time':0,\n",
    "    'End time':4,\n",
    "    'Start Duration':1,\n",
    "    'End Duration':60,\n",
    "    'Sweep time':1,\n",
    "    'Sweep Duration':0\n",
    "}"
   ]
  },
  {
   "cell_type": "code",
   "execution_count": 15,
   "metadata": {},
   "outputs": [],
   "source": [
    "PulseScheme_A_1micro =  {\n",
    "    'Name' : 'PulseScheme_A_1micro',\n",
    "    'Pulse Scheme': [Pump_1micro,ProbeA_1micro],\n",
    "    'Number of repetitions': 1,\n",
    "    'Measurement file Path': r'D:\\Alejandro\\Pulses\\diode measurements\\Autocorrelation measurements\\60,30\\pos\\1micro'\n",
    "}"
   ]
  },
  {
   "cell_type": "code",
   "execution_count": 16,
   "metadata": {},
   "outputs": [],
   "source": [
    "PulseScheme_B_1micro =  {\n",
    "    'Name' : 'PulseScheme_B_1micro',\n",
    "    'Pulse Scheme': [Pump_1micro,ProbeB_1micro],\n",
    "    'Number of repetitions': 1,\n",
    "    'Measurement file Path': r'D:\\Alejandro\\Pulses\\diode measurements\\Autocorrelation measurements\\60,30\\pos\\1micro'\n",
    "}"
   ]
  },
  {
   "cell_type": "code",
   "execution_count": null,
   "metadata": {},
   "outputs": [],
   "source": [
    "93"
   ]
  },
  {
   "cell_type": "code",
   "execution_count": 17,
   "metadata": {},
   "outputs": [
    {
     "data": {
      "image/png": "[encoded data removed]",
      "text/plain": [
       "<Figure size 432x288 with 1 Axes>"
      ]
     },
     "metadata": {
      "needs_background": "light"
     },
     "output_type": "display_data"
    }
   ],
   "source": [
    "step = 30\n",
    "pul1 = Sweep_teil(PulseScheme_A_1micro,30,step,interval,sam)\n",
    "\n",
    "\n",
    "#Plot\n",
    "fig,ax= plt.subplots()\n",
    "ax.grid(True)\n",
    "\n",
    "plt.plot(pul1[1],pul1[0],label= '{b} samples'.format(b = sam),color='orange')\n",
    "\n",
    "ax.set_ylabel('V  [mV]')\n",
    "ax.set_xlabel(r't [$\\mu$s]')\n",
    "ax.set_title('Cycle A at step {a}'.format(a = step )) #Voltage Offset = 3mV, Marker Ampl = 50mV \n",
    "#ax.legend(loc=0)\n",
    "#plt.legend(bbox_to_anchor=(2.05, 1), loc='upper left', borderaxespad=0.)\n",
    "plt.show()\n",
    "\n",
    "fig.savefig(r'{loc}\\Cycle A, Probe width 1micro 90Hz.jpeg'.format(loc = PulseScheme_A_1micro['Measurement file Path']),bbox_inches='tight')"
   ]
  },
  {
   "cell_type": "code",
   "execution_count": 18,
   "metadata": {},
   "outputs": [],
   "source": [
    "sweeping_run_a_1micro = Sweeping_Single_List_File_teil(PulseScheme_A_1micro,30,interval,sam,0,30,AWG_Settings_1micro,'A')[0]"
   ]
  },
  {
   "cell_type": "code",
   "execution_count": 19,
   "metadata": {},
   "outputs": [],
   "source": [
    "sweeping_run_b_1micro = Sweeping_Single_List_File_teil(PulseScheme_B_1micro,30,interval,sam,0,30,AWG_Settings_1micro,'B')[0]"
   ]
  },
  {
   "cell_type": "code",
   "execution_count": 20,
   "metadata": {},
   "outputs": [],
   "source": [
    "#Exporting pickle\n",
    "\n",
    "with open(r\"{dict}\\cycleA_31steps_90Hz_1micro_.p\".format(dict = PulseScheme_A_1micro['Measurement file Path']), \"wb\") as k:\n",
    "    pickle.dump(sweeping_run_a_1micro, k)\n",
    "\n",
    "\n",
    "with open(r\"{dict}\\cycleB_31steps_90Hz_1micro_.p\".format(dict = PulseScheme_B_1micro['Measurement file Path']), \"wb\") as h:\n",
    "    pickle.dump(sweeping_run_b_1micro, h)"
   ]
  },
  {
   "cell_type": "code",
   "execution_count": 20,
   "metadata": {},
   "outputs": [],
   "source": [
    "#Importing Pickle\n",
    "\n",
    "with open(r\"{dict}\\cycleA_31steps_90Hz_1micro_.p\".format(dict = PulseScheme_A_1micro['Measurement file Path']), \"rb\") as j:\n",
    "    sweeping_run_a_1micro = pickle.load(j)\n",
    "\n",
    "with open(r\"{dict}\\cycleB_31steps_90Hz_1micro_.p\".format(dict = PulseScheme_A_1micro['Measurement file Path']), \"rb\") as f:\n",
    "    sweeping_run_b_1micro= pickle.load(f)"
   ]
  },
  {
   "cell_type": "code",
   "execution_count": 21,
   "metadata": {},
   "outputs": [
    {
     "data": {
      "text/plain": [
       "'D:\\\\Alejandro\\\\Pulses\\\\diode measurements\\\\Prepared Pulse Schemes CSV\\\\60,30\\\\pos\\\\1micro\\\\SegmentA_21552_30.csv'"
      ]
     },
     "execution_count": 21,
     "metadata": {},
     "output_type": "execute_result"
    }
   ],
   "source": [
    "sweeping_run_a_1micro['Pulse File Location, at step 30']"
   ]
  },
  {
   "cell_type": "code",
   "execution_count": 22,
   "metadata": {},
   "outputs": [
    {
     "data": {
      "text/plain": [
       "'D:\\\\Alejandro\\\\Pulses\\\\diode measurements\\\\Prepared Pulse Schemes CSV\\\\60,30\\\\pos\\\\1micro\\\\SegmentB_21552_30.csv'"
      ]
     },
     "execution_count": 22,
     "metadata": {},
     "output_type": "execute_result"
    }
   ],
   "source": [
    "sweeping_run_b_1micro['Pulse File Location, at step 30']"
   ]
  },
  {
   "cell_type": "code",
   "execution_count": null,
   "metadata": {},
   "outputs": [
    {
     "data": {
      "text/plain": [
       "750"
      ]
     },
     "metadata": {},
     "output_type": "display_data"
    }
   ],
   "source": [
    "loop_1micro"
   ]
  },
  {
   "cell_type": "code",
   "execution_count": null,
   "metadata": {},
   "outputs": [
    {
     "name": "stdout",
     "output_type": "stream",
     "text": [
      "Sequence loaded with the following segment data \"1,8,0,1,0,1919999,2,8,0,1,0,1919999\" and the advancement method is COND\n"
     ]
    },
    {
     "data": {
      "text/plain": [
       "0"
      ]
     },
     "metadata": {},
     "output_type": "display_data"
    }
   ],
   "source": [
    "Sequence_File(M8190A,sweeping_runa_1micro['Pulse File Location, at step 30'],sweeping_runb_1micro['Pulse File Location, at step 30'],50)"
   ]
  },
  {
   "cell_type": "markdown",
   "metadata": {},
   "source": [
    "# Loading"
   ]
  },
  {
   "cell_type": "code",
   "execution_count": 21,
   "metadata": {},
   "outputs": [
    {
     "data": {
      "text/plain": [
       "12"
      ]
     },
     "execution_count": 21,
     "metadata": {},
     "output_type": "execute_result"
    }
   ],
   "source": [
    "M8190A.write('SEQ:DEL:ALL')"
   ]
  },
  {
   "cell_type": "code",
   "execution_count": null,
   "metadata": {},
   "outputs": [
    {
     "name": "stdout",
     "output_type": "stream",
     "text": [
      "Dummy File Loaded and playing\n",
      "Dummy File stopped and erased from AWGs memmory\n"
     ]
    }
   ],
   "source": [
    "Dummy_File(M8190A)"
   ]
  },
  {
   "cell_type": "code",
   "execution_count": 22,
   "metadata": {},
   "outputs": [],
   "source": [
    "Lock_In_Settings = {\n",
    "'Time Constant' : '100ms',\n",
    "'Sensitivity' : '50 miliVolts',\n",
    "'Reserve' : 'Normal',\n",
    "'db' : 24,\n",
    "'Modulation': '93Hz'\n",
    "}"
   ]
  },
  {
   "cell_type": "code",
   "execution_count": 23,
   "metadata": {},
   "outputs": [
    {
     "data": {
      "text/plain": [
       "750"
      ]
     },
     "execution_count": 23,
     "metadata": {},
     "output_type": "execute_result"
    }
   ],
   "source": [
    "loop_number"
   ]
  },
  {
   "cell_type": "code",
   "execution_count": 24,
   "metadata": {},
   "outputs": [
    {
     "name": "stdout",
     "output_type": "stream",
     "text": [
      "Sequence loaded with the following segment data \"1,750,0,1,0,21551,2,750,0,1,0,21551\" and the advancement method is COND\n",
      "Average Value for measurement at step 0 is 1.5039919643581476 V\n",
      "Sequence loaded with the following segment data \"1,750,0,1,0,21551,2,750,0,1,0,21551\" and the advancement method is COND\n",
      "Average Value for measurement at step 1 is 1.5079311984270083 V\n",
      "Sequence loaded with the following segment data \"1,750,0,1,0,21551,2,750,0,1,0,21551\" and the advancement method is COND\n",
      "Average Value for measurement at step 2 is 1.5141649481011599 V\n",
      "Sequence loaded with the following segment data \"1,750,0,1,0,21551,2,750,0,1,0,21551\" and the advancement method is COND\n",
      "Average Value for measurement at step 3 is 1.5072442381970244 V\n",
      "Sequence loaded with the following segment data \"1,750,0,1,0,21551,2,750,0,1,0,21551\" and the advancement method is COND\n",
      "Average Value for measurement at step 4 is 1.487311210285768 V\n",
      "Sequence loaded with the following segment data \"1,750,0,1,0,21551,2,750,0,1,0,21551\" and the advancement method is COND\n",
      "Average Value for measurement at step 5 is 1.4654508927639658 V\n",
      "Sequence loaded with the following segment data \"1,750,0,1,0,21551,2,750,0,1,0,21551\" and the advancement method is COND\n",
      "Average Value for measurement at step 6 is 1.4669348556480983 V\n",
      "Sequence loaded with the following segment data \"1,750,0,1,0,21551,2,750,0,1,0,21551\" and the advancement method is COND\n",
      "Average Value for measurement at step 7 is 1.4596033120963585 V\n",
      "Sequence loaded with the following segment data \"1,750,0,1,0,21551,2,750,0,1,0,21551\" and the advancement method is COND\n",
      "Average Value for measurement at step 8 is 1.4378407381944558 V\n",
      "Sequence loaded with the following segment data \"1,750,0,1,0,21551,2,750,0,1,0,21551\" and the advancement method is COND\n",
      "Average Value for measurement at step 9 is 1.3702171338496476 V\n",
      "Sequence loaded with the following segment data \"1,750,0,1,0,21551,2,750,0,1,0,21551\" and the advancement method is COND\n",
      "Average Value for measurement at step 10 is 1.2848484752336606 V\n",
      "Sequence loaded with the following segment data \"1,750,0,1,0,21551,2,750,0,1,0,21551\" and the advancement method is COND\n",
      "Average Value for measurement at step 11 is 1.2086338126776168 V\n",
      "Sequence loaded with the following segment data \"1,750,0,1,0,21551,2,750,0,1,0,21551\" and the advancement method is COND\n",
      "Average Value for measurement at step 12 is 1.1433573039853206 V\n",
      "Sequence loaded with the following segment data \"1,750,0,1,0,21551,2,750,0,1,0,21551\" and the advancement method is COND\n",
      "Average Value for measurement at step 13 is 1.0652233293685014 V\n",
      "Sequence loaded with the following segment data \"1,750,0,1,0,21551,2,750,0,1,0,21551\" and the advancement method is COND\n",
      "Average Value for measurement at step 14 is 0.987410875409929 V\n",
      "Sequence loaded with the following segment data \"1,750,0,1,0,21551,2,750,0,1,0,21551\" and the advancement method is COND\n",
      "Average Value for measurement at step 15 is 0.9223658541462572 V\n",
      "Sequence loaded with the following segment data \"1,750,0,1,0,21551,2,750,0,1,0,21551\" and the advancement method is COND\n",
      "Average Value for measurement at step 16 is 1.0024699195296645 V\n",
      "Sequence loaded with the following segment data \"1,750,0,1,0,21551,2,750,0,1,0,21551\" and the advancement method is COND\n",
      "Average Value for measurement at step 17 is 1.0794252543412948 V\n",
      "Sequence loaded with the following segment data \"1,750,0,1,0,21551,2,750,0,1,0,21551\" and the advancement method is COND\n",
      "Average Value for measurement at step 18 is 1.1597404136471952 V\n",
      "Sequence loaded with the following segment data \"1,750,0,1,0,21551,2,750,0,1,0,21551\" and the advancement method is COND\n",
      "Average Value for measurement at step 19 is 1.2513827263698527 V\n",
      "Sequence loaded with the following segment data \"1,750,0,1,0,21551,2,750,0,1,0,21551\" and the advancement method is COND\n",
      "Average Value for measurement at step 20 is 1.337792870292064 V\n",
      "Sequence loaded with the following segment data \"1,750,0,1,0,21551,2,750,0,1,0,21551\" and the advancement method is COND\n",
      "Average Value for measurement at step 21 is 1.411515971291565 V\n",
      "Sequence loaded with the following segment data \"1,750,0,1,0,21551,2,750,0,1,0,21551\" and the advancement method is COND\n",
      "Average Value for measurement at step 22 is 1.4916298377922446 V\n",
      "Sequence loaded with the following segment data \"1,750,0,1,0,21551,2,750,0,1,0,21551\" and the advancement method is COND\n",
      "Average Value for measurement at step 23 is 1.533543554614182 V\n",
      "Sequence loaded with the following segment data \"1,750,0,1,0,21551,2,750,0,1,0,21551\" and the advancement method is COND\n",
      "Average Value for measurement at step 24 is 1.5392885919301076 V\n",
      "Sequence loaded with the following segment data \"1,750,0,1,0,21551,2,750,0,1,0,21551\" and the advancement method is COND\n",
      "Average Value for measurement at step 25 is 1.53774615433035 V\n",
      "Sequence loaded with the following segment data \"1,750,0,1,0,21551,2,750,0,1,0,21551\" and the advancement method is COND\n",
      "Average Value for measurement at step 26 is 1.5231051001890235 V\n",
      "Sequence loaded with the following segment data \"1,750,0,1,0,21551,2,750,0,1,0,21551\" and the advancement method is COND\n",
      "Average Value for measurement at step 27 is 1.5424061575738852 V\n",
      "Sequence loaded with the following segment data \"1,750,0,1,0,21551,2,750,0,1,0,21551\" and the advancement method is COND\n",
      "Average Value for measurement at step 28 is 1.5516157269508 V\n",
      "Sequence loaded with the following segment data \"1,750,0,1,0,21551,2,750,0,1,0,21551\" and the advancement method is COND\n",
      "Average Value for measurement at step 29 is 1.5503012675305774 V\n",
      "Sequence loaded with the following segment data \"1,750,0,1,0,21551,2,750,0,1,0,21551\" and the advancement method is COND\n",
      "Average Value for measurement at step 30 is 1.5578630926879071 V\n"
     ]
    }
   ],
   "source": [
    "playingtime = 7\n",
    "\n",
    "data, averaged_data = Voltage_Autocorrelation_loop_cut(M8190A,DAQ_Settings1,playingtime,sweeping_run_a_1micro,sweeping_run_b_1micro,PulseScheme_A_1micro['Measurement file Path'],Lock_In_Settings,loop_number,2)"
   ]
  },
  {
   "cell_type": "code",
   "execution_count": 25,
   "metadata": {},
   "outputs": [
    {
     "data": {
      "image/png": "[encoded data removed]",
      "text/plain": [
       "<Figure size 432x288 with 1 Axes>"
      ]
     },
     "metadata": {
      "needs_background": "light"
     },
     "output_type": "display_data"
    }
   ],
   "source": [
    "fig,ax= plt.subplots()\n",
    "ax.grid(True)\n",
    "for i in range(0,len(data)):\n",
    "    plt.plot(data[i][1],data[i][0],label= 'Step {st}'.format(st = i ))\n",
    "\n",
    "ax.set_ylabel(r'V  [arb. Units]')\n",
    "ax.set_xlabel('t  [s]')\n",
    "ax.set_title(r' STM Signal at Different Steps,  {b} Samples, 1$\\mu$s probe duration'.format(b = len(data[0][1]) ))\n",
    "#ax.legend(bbox_to_anchor=(1.05, 1), loc='upper left', borderaxespad=0.)\n",
    "#ax.legend(loc=0)\n",
    "plt.show()\n",
    "\n",
    "fig.savefig(r'{loc}\\ Sigma STM Signal time cstant = {a}, sensitivity {b},{c} daqseconds, , probe duration 1 micro,31 steps, no legend, .jpeg'.format(loc = PulseScheme_A_1micro['Measurement file Path'],a = Lock_In_Settings['Time Constant'], b = Lock_In_Settings['Sensitivity'], c = playingtime),bbox_inches='tight')"
   ]
  },
  {
   "cell_type": "code",
   "execution_count": 26,
   "metadata": {},
   "outputs": [],
   "source": [
    "time_delay = np.linspace(-2,2,31)"
   ]
  },
  {
   "cell_type": "code",
   "execution_count": 27,
   "metadata": {},
   "outputs": [
    {
     "data": {
      "image/png": "[encoded data removed]",
      "text/plain": [
       "<Figure size 432x288 with 1 Axes>"
      ]
     },
     "metadata": {
      "needs_background": "light"
     },
     "output_type": "display_data"
    }
   ],
   "source": [
    "#change this to V regime\n",
    "fig,axes = plt.subplots()\n",
    "\n",
    "axes.grid(True)\n",
    "\n",
    "plt.plot(time_delay,averaged_data,'.-',label=r'1$\\mu$s Probe Width ',color='purple')\n",
    "#plt.plot(tm,pul,label = '{a} samples'.format(a = len(pul)))\n",
    "\n",
    "axes.set_xlabel(r'time delay [$\\mu$s]')\n",
    "axes.set_ylabel(r'STM Signal [arb. Units]')\n",
    "axes.set_title('Auto-Correlation 31 steps ')\n",
    "\n",
    "axes.legend(loc = 0)\n",
    "plt.show()\n",
    "\n",
    "fig.savefig(r'{loc}\\Sigma Autocorrelation function 31 steps probes  length tc = {a}, sens {b}, {c}s DAQ .jpeg'.format(loc = PulseScheme_A_1micro['Measurement file Path'],a = Lock_In_Settings['Time Constant'], b = Lock_In_Settings['Sensitivity'], c = playingtime ))"
   ]
  },
  {
   "cell_type": "code",
   "execution_count": 28,
   "metadata": {},
   "outputs": [
    {
     "data": {
      "text/plain": [
       "(array([0.98650413, 0.98533458, 0.98267975, 0.98860004, 1.00327636,\n",
       "        1.01969071, 1.02010606, 1.02668416, 1.04369979, 1.09675796,\n",
       "        1.17128132, 1.24689669, 1.31994081, 1.41875079, 1.53270432,\n",
       "        1.64309139, 1.51391462, 1.40794959, 1.3122754 , 1.21786984,\n",
       "        1.14079227, 1.08271268, 1.02598424, 0.99932681, 0.99697592,\n",
       "        0.99935618, 1.01035615, 0.99908903, 0.99452688, 0.99673919,\n",
       "        0.99326347]),\n",
       " 1.5155313916052726,\n",
       " 0.015918552345151143)"
      ]
     },
     "execution_count": 28,
     "metadata": {},
     "output_type": "execute_result"
    }
   ],
   "source": [
    "normalized_data = AutoCorrelation_Normalized(averaged_data,time_delay,8,8)\n",
    "np.savetxt(r'{loc}\\normalized Autocorrelation.csv'.format(loc = PulseScheme_A_1micro['Measurement file Path']),normalized_data[0],delimiter=',')\n",
    "normalized_data"
   ]
  },
  {
   "cell_type": "code",
   "execution_count": 30,
   "metadata": {},
   "outputs": [
    {
     "data": {
      "image/png": "[encoded data removed]",
      "text/plain": [
       "<Figure size 432x288 with 1 Axes>"
      ]
     },
     "metadata": {
      "needs_background": "light"
     },
     "output_type": "display_data"
    }
   ],
   "source": [
    "#change this to V regime\n",
    "fig,axes = plt.subplots()\n",
    "\n",
    "axes.grid(True)\n",
    "\n",
    "plt.plot(time_delay,normalized_data[0]-1,'.-',label=r'1 $\\mu$s Pulse Width ',color='blue')\n",
    "#plt.plot(tm,pul,label = '{a} samples'.format(a = len(pul)))\n",
    "\n",
    "axes.set_xlabel(r'time delay [$\\mu$s]')\n",
    "axes.set_ylabel(r'STM Signal [arb Units]')\n",
    "axes.set_title('Normalized Auto-Correlation 31 steps ')\n",
    "\n",
    "axes.legend(loc = 0)\n",
    "plt.show()\n",
    "\n",
    "fig.savefig(r'{loc}\\Normalized Autocorrelation  Sigma STM function 31 steps 1u 93Hz length tc = {a}, sens {b}, {c}s DAQ.jpeg'.format(loc = PulseScheme_A_1micro['Measurement file Path'],a = Lock_In_Settings['Time Constant'], b = Lock_In_Settings['Sensitivity'], c = playingtime ))"
   ]
  },
  {
   "cell_type": "code",
   "execution_count": 31,
   "metadata": {},
   "outputs": [
    {
     "data": {
      "image/png": "[encoded data removed]",
      "text/plain": [
       "<Figure size 432x288 with 1 Axes>"
      ]
     },
     "metadata": {
      "needs_background": "light"
     },
     "output_type": "display_data"
    }
   ],
   "source": [
    "#change this to V regime\n",
    "fig,axes = plt.subplots()\n",
    "\n",
    "axes.grid(True)\n",
    "\n",
    "plt.plot(time_delay,averaged_data,label=r'1$\\mu$s Probe Width ',color='purple')\n",
    "#plt.plot(tm,pul,label = '{a} samples'.format(a = len(pul)))\n",
    "\n",
    "axes.set_xlabel(r'time delay [$\\mu$s]')\n",
    "axes.set_ylabel(r'STM Signal [arb. Units]')\n",
    "axes.set_title('Auto-Correlation 31 steps ')\n",
    "\n",
    "axes.legend(loc = 0)\n",
    "plt.show()\n",
    "\n",
    "fig.savefig(r'{loc}\\Sigma Autocorrelation function 31 steps probes  length tc = {a}, sens {b}, {c}s DAQ line .jpeg'.format(loc = PulseScheme_A_1micro['Measurement file Path'],a = Lock_In_Settings['Time Constant'], b = Lock_In_Settings['Sensitivity'], c = playingtime ))"
   ]
  },
  {
   "cell_type": "code",
   "execution_count": null,
   "metadata": {},
   "outputs": [],
   "source": [
    "drift 100 to 118"
   ]
  }
 ],
 "metadata": {
  "interpreter": {
   "hash": "9a32f0bf53af15acd232504180dc0ef28b8a6ac1a49da0a6c374e1f45bb445b6"
  },
  "kernelspec": {
   "display_name": "Python 3.8.5 64-bit ('base': conda)",
   "name": "python3"
  },
  "language_info": {
   "codemirror_mode": {
    "name": "ipython",
    "version": 3
   },
   "file_extension": ".py",
   "mimetype": "text/x-python",
   "name": "python",
   "nbconvert_exporter": "python",
   "pygments_lexer": "ipython3",
   "version": "3.8.5"
  },
  "orig_nbformat": 4
 },
 "nbformat": 4,
 "nbformat_minor": 2
}
