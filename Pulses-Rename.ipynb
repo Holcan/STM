{
 "cells": [
  {
   "cell_type": "code",
   "execution_count": 219,
   "metadata": {},
   "outputs": [],
   "source": [
    "%matplotlib inline "
   ]
  },
  {
   "cell_type": "code",
   "execution_count": 2,
   "metadata": {},
   "outputs": [],
   "source": [
    "import numpy as np\n",
    "import matplotlib\n",
    "import matplotlib.pyplot as plt\n"
   ]
  },
  {
   "cell_type": "markdown",
   "metadata": {},
   "source": [
    "### Rework!\n",
    "\n",
    "Parameters within the dictionaries should not be addressed!, rather, from a function calculate everything!\n",
    "N= number of points, "
   ]
  },
  {
   "cell_type": "markdown",
   "metadata": {},
   "source": [
    "#### Here we define the corresponding dictionaries containing the information of the pulses"
   ]
  },
  {
   "cell_type": "code",
   "execution_count": 140,
   "metadata": {},
   "outputs": [],
   "source": [
    "Rabi={\n",
    "    'Amplitude' : 4 ,\n",
    "    'Start Duration' : 5,\n",
    "    'End Duration': 5,\n",
    "    'Start time' : 0,\n",
    "    'End time': 0,\n",
    "    'Sweep time': 0\n",
    "}\n"
   ]
  },
  {
   "cell_type": "code",
   "execution_count": 141,
   "metadata": {},
   "outputs": [],
   "source": [
    "Probe1={\n",
    "    'Amplitude' : 2 ,\n",
    "    'Start Duration' : 7,\n",
    "    'End Duration': 5 ,\n",
    "    'Start time' : 0,\n",
    "    'End time': 20,\n",
    "    'Sweep time': 1\n",
    "}"
   ]
  },
  {
   "cell_type": "code",
   "execution_count": 100,
   "metadata": {},
   "outputs": [],
   "source": [
    "Probe2={\n",
    "    'Amplitude' : 7 ,\n",
    "    'Start Duration' : 3,\n",
    "    'End Duration': 20 ,\n",
    "    'Start time' : 9,\n",
    "    'End time': 11,\n",
    "    'Sweep time': 1\n",
    "}\n",
    "\n"
   ]
  },
  {
   "cell_type": "markdown",
   "metadata": {},
   "source": [
    "## Different Pulse schemes given by differnt dictionaries"
   ]
  },
  {
   "cell_type": "code",
   "execution_count": 97,
   "metadata": {},
   "outputs": [],
   "source": [
    "Pulses_List3=[Rabi,Probe1,Probe2];\n",
    "Pulses_List=[Rabi,Probe1];\n",
    "Pulses_List2=[Rabi,Probe2];"
   ]
  },
  {
   "cell_type": "code",
   "execution_count": 135,
   "metadata": {},
   "outputs": [],
   "source": [
    "def Pl(PulList,time):\n",
    "    \"\"\"Pulse generating function, directly from the specified information given by it's corresponding dictionary, stored in the list PulList,at a time interval given by time\"\"\"\n",
    "    pl=np.zeros((len(PulList),len(trog))) \n",
    "    for i in range(0,len(PulList)):\n",
    "        pl[i]=[PulList[i]['Amplitude'] * (  PulList[i]['Start time'] <=  t <= PulList[i]['Start Duration'] + PulList[i]['Start time']) for t in time ]\n",
    "    y=np.zeros(len(pl[0]))\n",
    "    for i in range(0,len(pl)):\n",
    "        y += pl[i]\n",
    "    return y"
   ]
  },
  {
   "cell_type": "markdown",
   "metadata": {},
   "source": [
    "## Time interval for now:"
   ]
  },
  {
   "cell_type": "code",
   "execution_count": 31,
   "metadata": {},
   "outputs": [],
   "source": [
    "trog=np.linspace(-1e-10,50,1000)"
   ]
  },
  {
   "cell_type": "markdown",
   "metadata": {},
   "source": [
    "## Some tests"
   ]
  },
  {
   "cell_type": "code",
   "execution_count": 21,
   "metadata": {},
   "outputs": [],
   "source": [
    "a=Pl(Pulses_List3,trog)"
   ]
  },
  {
   "cell_type": "code",
   "execution_count": 142,
   "metadata": {},
   "outputs": [],
   "source": [
    "b=Pl(Pulses_List,trog)"
   ]
  },
  {
   "cell_type": "code",
   "execution_count": 12,
   "metadata": {},
   "outputs": [],
   "source": [
    "c=Pl(Pulses_List2,trog)"
   ]
  },
  {
   "cell_type": "code",
   "execution_count": 143,
   "metadata": {},
   "outputs": [
    {
     "data": {
      "text/plain": [
       "Text(0.5, 1.0, 'Pulso Primitivo, Listas ')"
      ]
     },
     "execution_count": 143,
     "metadata": {},
     "output_type": "execute_result"
    },
    {
     "data": {
      "image/png": "[encoded data removed]",
      "text/plain": [
       "<Figure size 432x288 with 1 Axes>"
      ]
     },
     "metadata": {
      "needs_background": "light"
     },
     "output_type": "display_data"
    }
   ],
   "source": [
    "%matplotlib inline\n",
    "\n",
    "fig,ax= plt.subplots()\n",
    "\n",
    "\n",
    "\n",
    "ax.grid(True)\n",
    "plt.step(trog,b)\n",
    "ax.set_ylabel('V')\n",
    "ax.set_xlabel('t')\n",
    "ax.set_title('Pulso Primitivo, Listas ')\n",
    "\n",
    "#fig.savefig('Pulse_sweep_t=20',optimize=True,bbox_inches='tight')"
   ]
  },
  {
   "cell_type": "markdown",
   "metadata": {},
   "source": [
    "# Now the sweeping function:"
   ]
  },
  {
   "cell_type": "code",
   "execution_count": 243,
   "metadata": {},
   "outputs": [],
   "source": [
    "def Sweept(PulList,N,n,time):\n",
    "    \"\"\"This function calculates an array of the pulse scheme given by the Dictionary List PulList, over the given time interval \"\"\"\n",
    "    \"\"\" it  uses the number of points N to calculate the time step of the sweeping, and gives the pulse scheme at time step n \"\"\"\n",
    "    pl1=np.zeros((len(PulList),len(time)))\n",
    "    for i in range(0,len(PulList)):\n",
    "        if PulList[i]['Sweep time'] == 0:\n",
    "            pl1[i]=np.array([ PulList[i]['Amplitude'] * (  PulList[i]['Start time'] <=  t <= PulList[i]['Start Duration'] + PulList[i]['Start time']) for t in time ])\n",
    "        if PulList[i]['Sweep time'] == 1:\n",
    "            dt=(PulList[i]['End time'] - PulList[i]['Start time'])/N\n",
    "            if n==0:\n",
    "                pl1[i]=np.array([ PulList[i]['Amplitude'] * (  PulList[i]['Start time'] <=  t <= PulList[i]['Start Duration'] + PulList[i]['Start time']) for t in time ])\n",
    "            else:\n",
    "                pl1[i]=np.array([ PulList[i]['Amplitude'] * (  n*dt <=  t <= PulList[i]['End Duration'] + n*dt) for t in time ])\n",
    "    y=np.zeros(len(pl1[0]))\n",
    "    for i in range(0,len(pl1)):\n",
    "        y += pl1[i]\n",
    "    return y\n",
    "    "
   ]
  },
  {
   "cell_type": "code",
   "execution_count": 248,
   "metadata": {},
   "outputs": [
    {
     "data": {
      "text/plain": [
       "Text(0.5, 1.0, ' Primitive Sweeping,  Pulse ')"
      ]
     },
     "execution_count": 248,
     "metadata": {},
     "output_type": "execute_result"
    },
    {
     "data": {
      "image/png": "[encoded data removed]",
      "text/plain": [
       "<Figure size 432x288 with 1 Axes>"
      ]
     },
     "metadata": {
      "needs_background": "light"
     },
     "output_type": "display_data"
    }
   ],
   "source": [
    "khe=Sweept(Pulses_List,50,49,trog);\n",
    "%matplotlib inline\n",
    "\n",
    "fig,ax= plt.subplots()\n",
    "\n",
    "\n",
    "\n",
    "ax.grid(True)\n",
    "plt.plot(trog,khe)\n",
    "ax.set_ylabel('V')\n",
    "ax.set_xlabel('t')\n",
    "ax.set_title(' Primitive Sweeping,  Pulse ')\n",
    "\n",
    "#fig.savefig('Pulse_sweep_t=20',optimize=True,bbox_inches='tight')"
   ]
  },
  {
   "cell_type": "markdown",
   "metadata": {},
   "source": [
    "## Now to do the the sweeping duration part:"
   ]
  },
  {
   "cell_type": "code",
   "execution_count": null,
   "metadata": {},
   "outputs": [],
   "source": []
  }
 ],
 "metadata": {
  "@webio": {
   "lastCommId": null,
   "lastKernelId": null
  },
  "kernelspec": {
   "display_name": "Python 3",
   "language": "python",
   "name": "python3"
  },
  "language_info": {
   "codemirror_mode": {
    "name": "ipython",
    "version": 3
   },
   "file_extension": ".py",
   "mimetype": "text/x-python",
   "name": "python",
   "nbconvert_exporter": "python",
   "pygments_lexer": "ipython3",
   "version": "3.8.5"
  }
 },
 "nbformat": 4,
 "nbformat_minor": 4
}
