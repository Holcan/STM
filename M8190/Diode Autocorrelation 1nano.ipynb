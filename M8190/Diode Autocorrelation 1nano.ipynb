{
    "cells": [
        {
            "cell_type": "code",
            "execution_count": null,
            "source": [
                "%matplotlib widget "
            ],
            "outputs": [],
            "metadata": {}
        },
        {
            "cell_type": "code",
            "execution_count": null,
            "source": [
                "import numpy as np\r\n",
                "from numpy import loadtxt\r\n",
                "import pandas as pd\r\n",
                "import time\r\n",
                "import matplotlib\r\n",
                "import matplotlib.pyplot as plt\r\n",
                "import pyvisa as visa\r\n",
                "from matplotlib import animation\r\n",
                "from time import sleep\r\n",
                "from matplotlib.animation import FuncAnimation\r\n",
                "#Importing the functions from the module and the pulses dictionaries\r\n",
                "from Sweeping import *\r\n",
                "from Dictionaries import *\r\n",
                "from PulseFiles import *\r\n",
                "from Instrument import *\r\n",
                "import pyqtgraph as pg \r\n",
                "import nidaqmx\r\n",
                "import pickle"
            ],
            "outputs": [],
            "metadata": {}
        },
        {
            "cell_type": "markdown",
            "source": [
                "# Instrument settings and CSV file path Dictionary"
            ],
            "metadata": {}
        },
        {
            "cell_type": "code",
            "execution_count": null,
            "source": [
                "AWG_Settings= {\r\n",
                "    'Visa Resource Name': 'TCPIP0::ibn3-036.ibn-net.kfa-juelich.de::hislip0::INSTR',\r\n",
                "    'Voltage Amplitude':700,\r\n",
                "    'Clock Sample Frecuency':6000000000,\r\n",
                "    'Output_Channel': 1,\r\n",
                "    'Mode': 'STS',\r\n",
                "    'Trigger In Threshold' : 1,\r\n",
                "    'Output Rout': 'DAC', #DAC output rout only has the BNC outputs: Direct Out and (Averaged) Direct Out\r\n",
                "    'Data Directory': r'D:\\Alejandro\\Pulses\\diode measurements\\Pulse Scheme CSV\\Measurements\\1nano'\r\n",
                "}"
            ],
            "outputs": [],
            "metadata": {}
        },
        {
            "cell_type": "code",
            "execution_count": null,
            "source": [
                "M8190A = VisaR(AWG_Settings,60000)"
            ],
            "outputs": [],
            "metadata": {}
        },
        {
            "cell_type": "code",
            "execution_count": null,
            "source": [
                "M8190A.query('SYST:ERR?')"
            ],
            "outputs": [],
            "metadata": {}
        },
        {
            "cell_type": "code",
            "execution_count": null,
            "source": [
                "Initialization(M8190A,AWG_Settings)"
            ],
            "outputs": [],
            "metadata": {}
        },
        {
            "cell_type": "code",
            "execution_count": null,
            "source": [
                "M8190A.write('SEQ:DEL:ALL')"
            ],
            "outputs": [],
            "metadata": {}
        },
        {
            "cell_type": "markdown",
            "source": [
                "# Pulses Dictionaries"
            ],
            "metadata": {}
        },
        {
            "cell_type": "code",
            "execution_count": null,
            "source": [
                "Pump = {\r\n",
                "    'Name':'Pump',\r\n",
                "    'Amplitude':40,\r\n",
                "    'Start time':2,\r\n",
                "    'End time':2e-10,\r\n",
                "    'Start Duration':1,\r\n",
                "    'End Duration':60,\r\n",
                "    'Sweep time':0,\r\n",
                "    'Sweep Duration':0\r\n",
                "}"
            ],
            "outputs": [],
            "metadata": {}
        },
        {
            "cell_type": "code",
            "execution_count": null,
            "source": [
                "ProbeA = {\r\n",
                "    'Name':'ProbeA',\r\n",
                "    'Amplitude':25,\r\n",
                "    'Start time':0,\r\n",
                "    'End time':4,\r\n",
                "    'Start Duration':1,\r\n",
                "    'End Duration':60,\r\n",
                "    'Sweep time':1,\r\n",
                "    'Sweep Duration':0\r\n",
                "}"
            ],
            "outputs": [],
            "metadata": {}
        },
        {
            "cell_type": "code",
            "execution_count": null,
            "source": [
                "ProbeB = {\r\n",
                "    'Name':'ProbeB',\r\n",
                "    'Amplitude':0,\r\n",
                "    'Start time':0,\r\n",
                "    'End time':12,\r\n",
                "    'Start Duration':1,\r\n",
                "    'End Duration':6,\r\n",
                "    'Sweep time':0,\r\n",
                "    'Sweep Duration':0\r\n",
                "}"
            ],
            "outputs": [],
            "metadata": {}
        },
        {
            "cell_type": "markdown",
            "source": [
                "# Pulse Schemes Dictionaries and measurement path file"
            ],
            "metadata": {}
        },
        {
            "cell_type": "code",
            "execution_count": null,
            "source": [
                "PulseScheme_A =  {\r\n",
                "    'Name' : 'PulseScheme_A',\r\n",
                "    'Pulse Scheme': [Pump,ProbeA],\r\n",
                "    'Number of repetitions': 1, #10000\r\n",
                "    'Measurement file Path': r'D:\\Alejandro\\Pulses\\diode measurements\\TList\\1nano'\r\n",
                "}"
            ],
            "outputs": [],
            "metadata": {}
        },
        {
            "cell_type": "code",
            "execution_count": null,
            "source": [
                "PulseScheme_B  = {\r\n",
                "    'Name' : 'PulseScheme_B',\r\n",
                "    'Pulse Scheme': [ProbeB,ProbeB],\r\n",
                "    'Number of repetitions': 1,\r\n",
                "    'Measurement file Path': r'D:\\Alejandro\\Pulses\\diode measurements\\TList\\1nano'\r\n",
                "}"
            ],
            "outputs": [],
            "metadata": {}
        },
        {
            "cell_type": "code",
            "execution_count": null,
            "source": [
                "location = PulseScheme_A['Measurement file Path']"
            ],
            "outputs": [],
            "metadata": {}
        },
        {
            "cell_type": "markdown",
            "source": [
                "# Number of Samples given the AWG Sampling rate and the Reference Signal Frequency\r\n",
                "## Sr = 6Ghz for 5 ms"
            ],
            "metadata": {}
        },
        {
            "cell_type": "code",
            "execution_count": null,
            "source": [
                "sam = int(6e9*5e-3)\r\n",
                "\r\n",
                "#sam /480\r\n",
                "\r\n",
                "#M8190A.write('FREQ:RAST 6000000000')"
            ],
            "outputs": [],
            "metadata": {}
        },
        {
            "cell_type": "code",
            "execution_count": null,
            "source": [
                "sam"
            ],
            "outputs": [],
            "metadata": {}
        },
        {
            "cell_type": "code",
            "execution_count": null,
            "source": [
                "pul2 = Sweep(PulseScheme_B['Pulse Scheme'],10,0,5,sam)"
            ],
            "outputs": [],
            "metadata": {}
        },
        {
            "cell_type": "code",
            "execution_count": null,
            "source": [
                "%matplotlib inline"
            ],
            "outputs": [],
            "metadata": {}
        },
        {
            "cell_type": "code",
            "execution_count": null,
            "source": [
                "%matplotlib widget "
            ],
            "outputs": [],
            "metadata": {}
        },
        {
            "cell_type": "code",
            "execution_count": null,
            "source": [
                "location = PulseScheme_A['Measurement file Path']"
            ],
            "outputs": [],
            "metadata": {}
        },
        {
            "cell_type": "code",
            "execution_count": null,
            "source": [
                "sam = int(6e9*5e-3)\r\n",
                "start = 0\r\n",
                "middle = 5\r\n",
                "end = 10\r\n",
                "#pul0 = Sweep_teil(PulseScheme_A,10,start,5,sam)\r\n",
                "#pulm = Sweep_teil(PulseScheme_A,10,middle,5,sam)\r\n",
                "#pulend = Sweep_teil(PulseScheme_A,10,end,5,sam)\r\n",
                "\r\n",
                "\r\n",
                "#Plot\r\n",
                "fig,ax= plt.subplots()\r\n",
                "ax.grid(True)\r\n",
                "\r\n",
                "plt.plot(pul0[1],pul0[0],label= 'Step {b}'.format(b = start),color='green')\r\n",
                "plt.plot(pulm[1],pulm[0],label= 'Step {b}'.format(b = middle),color='black')\r\n",
                "plt.plot(pulend[1],pulend[0],label= 'Step {b}'.format(b = end),color='blue')\r\n",
                "\r\n",
                "\r\n",
                "ax.set_ylabel('V  [mV]')\r\n",
                "ax.set_xlabel(r't [ms]')\r\n",
                "ax.set_title('Cycle A at step at 3 different sweeping steps') #Voltage Offset = 3mV, Marker Ampl = 50mV \r\n",
                "ax.legend(loc=0)\r\n",
                "#plt.legend(bbox_to_anchor=(2.05, 1), loc='upper left', borderaxespad=0.)\r\n",
                "plt.show()\r\n",
                "fig.savefig('Cycle A,3 different steps.jpeg',bbox_inches='tight')"
            ],
            "outputs": [],
            "metadata": {}
        },
        {
            "cell_type": "code",
            "execution_count": null,
            "source": [
                "sam = int(6e9*5e-3)\r\n",
                "step = 30\r\n",
                "pul1 = Sweep_teil(PulseScheme_B,30,step,5,sam)\r\n",
                "\r\n",
                "\r\n",
                "#Plot\r\n",
                "fig,ax= plt.subplots()\r\n",
                "ax.grid(True)\r\n",
                "\r\n",
                "plt.plot(pul1[1],pul1[0],label= '{b} samples'.format(b = sam),color='red')\r\n",
                "\r\n",
                "ax.set_ylabel('V  [mV]')\r\n",
                "ax.set_xlabel(r't [ms]')\r\n",
                "ax.set_title('Cycle B ') #Voltage Offset = 3mV, Marker Ampl = 50mV \r\n",
                "#ax.legend(loc=0)\r\n",
                "#plt.legend(bbox_to_anchor=(2.05, 1), loc='upper left', borderaxespad=0.)\r\n",
                "plt.show()\r\n",
                "fig.savefig('Cycle B.jpeg')"
            ],
            "outputs": [],
            "metadata": {}
        },
        {
            "cell_type": "code",
            "execution_count": null,
            "source": [
                "step = 30\r\n",
                "\r\n",
                "pul1 = Sweep_teil(PulseScheme_A,30,step,5000000,sam)\r\n",
                "\r\n",
                "fig,ax= plt.subplots()\r\n",
                "ax.grid(True)\r\n",
                "\r\n",
                "#plt.plot(timeMs,dataMs[1]*1000,label= 'Marker Channel {chan}'.format(chan=DAQ_Settings1['Analog Channel Input Marker']),color='purple')\r\n",
                "plt.plot(pul1[1],pul1[0],label= '{b} samples'.format(b = sam),color='orange')\r\n",
                "\r\n",
                "ax.set_ylabel('V  [mV]')\r\n",
                "ax.set_xlabel('t  [ns]')\r\n",
                "ax.set_title('Cycle A at step {a}, {rep} repetitions'.format(a = step,rep = PulseScheme_A['Number of repetitions'])) #Voltage Offset = 3mV, Marker Ampl = 50mV  \r\n",
                "#ax.legend(loc=0)\r\n",
                "#plt.legend(bbox_to_anchor=(2.05, 1), loc='upper left', borderaxespad=0.)\r\n",
                "plt.show()\r\n",
                "#fig.savefig(r'{loc}\\Cycle A {reps} reps.jpeg'.format(loc =location, reps = PulseScheme_A['Number of repetitions']),bbox_inches='tight')"
            ],
            "outputs": [],
            "metadata": {}
        },
        {
            "cell_type": "code",
            "execution_count": null,
            "source": [
                "step = 30\r\n",
                "\r\n",
                "#pul1 = Sweep_teil(PulseScheme_AutocorrelationA,30,step,5000,sam)\r\n",
                "\r\n",
                "\r\n",
                "fig,ax= plt.subplots(2)\r\n",
                "\r\n",
                "\r\n",
                "ax[0].grid(True)\r\n",
                "ax[1].grid(True)\r\n",
                "fig.suptitle('Pulses Loaded into the AWG')\r\n",
                "\r\n",
                "\r\n",
                "ax[0].plot(pul1[1],pul1[0],label= 'Pulse A',color='blue')\r\n",
                "ax[1].plot(pul2[1],pul2[0],label= 'Pulse B',color='red')\r\n",
                "ax[0].set_ylabel('V  [mV]')\r\n",
                "ax[0].set_xlabel(r't  [$\\mu$s]')\r\n",
                "ax[1].set_ylabel('V  [mV]')\r\n",
                "ax[1].set_xlabel(r't  [ms]')\r\n",
                "\r\n",
                "#ax.set_title('Pulses Loaded into the AWG')\r\n",
                "\r\n",
                "fig.legend(bbox_to_anchor=(1.05, 1), loc='upper left', borderaxespad=0.)\r\n",
                "plt.show()\r\n",
                "\r\n",
                "#fig.savefig('Pulse_scheme_15ms_7500000',optimize=True,bbox_inches='tight')"
            ],
            "outputs": [],
            "metadata": {}
        },
        {
            "cell_type": "markdown",
            "source": [
                "# Dummy File Loading"
            ],
            "metadata": {}
        },
        {
            "cell_type": "code",
            "execution_count": null,
            "source": [
                "Segment_File(M8190A,'D:\\\\Alejandro\\\\Pulses\\\\Dict\\\\S5\\\\SegmentB_30000000_0.csv',1)\r\n",
                "M8190A.write('INNIT:IMM')\r\n",
                "time.sleep(5)\r\n",
                "M8190A.write('ABOR')"
            ],
            "outputs": [],
            "metadata": {}
        },
        {
            "cell_type": "code",
            "execution_count": null,
            "source": [
                "M8190A.write('TRAC:DEL:ALL')\r\n",
                "M8190A.write('SEQ:DEL:ALL')"
            ],
            "outputs": [],
            "metadata": {}
        },
        {
            "cell_type": "code",
            "execution_count": null,
            "source": [
                "M8190A.write('SEQ:DEL:ALL')"
            ],
            "outputs": [],
            "metadata": {}
        },
        {
            "cell_type": "code",
            "execution_count": null,
            "source": [
                "sweeping_run_a = Sweeping_Single_List_File_teil(PulseScheme_A,30,5000000,sam,0,30,AWG_Settings,'A')[0]\r\n",
                "#sweeping_runb = Sweeping_Single_List_File_teil(PulseScheme_B,30,5000,sam,0,30,AWG_Settings8,'B')[0]"
            ],
            "outputs": [],
            "metadata": {}
        },
        {
            "cell_type": "code",
            "execution_count": null,
            "source": [
                "#exporting pickle \r\n",
                "\r\n",
                "pickle.dump(sweeping_run_a, open(r\"{dict}\\cycleA_31steps_5ms_1nano_probe.p\".format(dict = PulseScheme_A['Measurement file Path']), \"wb\"))  # save it into a file named sweepingA.p\r\n",
                "#pickle.dump(sweeping_runb, open(\"sweepingB_30steps_5ms_10micro_probe.p\", \"wb\"))  # save it into a file named sweepingB.p\r\n"
            ],
            "outputs": [],
            "metadata": {}
        },
        {
            "cell_type": "code",
            "execution_count": null,
            "source": [
                "#importing pickle\r\n",
                "\r\n",
                "#sweeping_runa = pickle.load( open(r\"{dict}\\cycleA_31steps_5ms_1nano_probe.p\".format(dict = PulseScheme_A['Measurement file Path']), \"rb\"))\r\n",
                "sweeping_runb = pickle.load(open(\"sweepingB_30steps_5ms_10micro_probe.p\", \"rb\"))"
            ],
            "outputs": [],
            "metadata": {}
        },
        {
            "cell_type": "code",
            "execution_count": null,
            "source": [
                "sweeping_run_a"
            ],
            "outputs": [],
            "metadata": {}
        },
        {
            "cell_type": "code",
            "execution_count": null,
            "source": [
                "Lock_In_Settings = {\r\n",
                "'Time Constant' : '100ms',\r\n",
                "'Sensitivity' : '500 microVolts'\r\n",
                "'Noise' : 'Normal'\r\n",
                "'db' : 18\r\n",
                "'Modulation': '50Hz'\r\n",
                "}"
            ],
            "outputs": [],
            "metadata": {}
        },
        {
            "cell_type": "code",
            "execution_count": null,
            "source": [
                "DAQ_time = 10\r\n",
                "tc = '30ms'\r\n",
                "sns = '100 microV'\r\n",
                "\r\n",
                "Diode_Signal = Sequence_Loader_File_DAQ_np(M8190A,DAQ_Settings1,1000,DAQ_time,sweeping_run_a,sweeping_runb)"
            ],
            "outputs": [],
            "metadata": {}
        },
        {
            "cell_type": "code",
            "execution_count": null,
            "source": [
                "fig,ax= plt.subplots()\r\n",
                "ax.grid(True)\r\n",
                "for i in range(0,len(Diode_Signal)):\r\n",
                "    plt.plot(Diode_Signal[i][1],Diode_Signal[i][0],label= 'Step {st}'.format(st = i ))\r\n",
                "\r\n",
                "ax.set_ylabel(r'V  [V]')\r\n",
                "ax.set_xlabel('t  [s]')\r\n",
                "ax.set_title(r' Diode Signal Measured by DAQ,  {b} samples, 1ns probe duration'.format(b = len(Diode_Signal[0][1]) ))\r\n",
                "#ax.legend(bbox_to_anchor=(1.05, 1), loc='upper left', borderaxespad=0.)\r\n",
                "#ax.legend(loc=0)\r\n",
                "plt.show()\r\n",
                "fig.savefig(r'{loc}\\Diode Signal time cstant = {tcnt}, sensitivity 500microV,{f}DAQ time, 5ms scheme, probe duration 1nano,31 steps,80k .jpeg'.format(loc = location, tcnt =tc, f=DAQ_time),bbox_inches='tight')"
            ],
            "outputs": [],
            "metadata": {}
        },
        {
            "cell_type": "code",
            "execution_count": null,
            "source": [
                "location"
            ],
            "outputs": [],
            "metadata": {}
        },
        {
            "cell_type": "code",
            "execution_count": null,
            "source": [],
            "outputs": [],
            "metadata": {}
        },
        {
            "cell_type": "code",
            "execution_count": null,
            "source": [
                "for i in range(0,len(Diode_Signal)):\r\n",
                "    np.savetxt(r'{loc}\\diode_signal_step{stp}_{f}sdaqtime_5ms_100mstc_100microV.csv'.format(loc = location ,stp = i,f = DAQ_time), Diode_Signal[i][0], delimiter=',') \r\n",
                "\r\n",
                "chopped_measurement_data = np.zeros((len(Diode_Signal)),  dtype=object)\r\n",
                "for i in range(0,len(Diode_Signal)):\r\n",
                "    chopped_measurement_data[i] = Diode_Signal[i][0][2500:] \r\n",
                "\r\n",
                "avr = np.array([np.average(i) for i in chopped_measurement_data])\r\n",
                "np.savetxt(r'{loc}\\averaged signal_30steps_{f}sdaqtime_100mstc_100microV.csv'.format(loc =location,f = DAQ_time),avr,delimiter=',')"
            ],
            "outputs": [],
            "metadata": {}
        },
        {
            "cell_type": "code",
            "execution_count": null,
            "source": [
                "np.savetxt(r'averaged signal_30steps_1nano_10sdaqtime_2000rep.csv',avr,delimiter=',')"
            ],
            "outputs": [],
            "metadata": {}
        },
        {
            "cell_type": "code",
            "execution_count": null,
            "source": [
                "time_delay = np.linspace(-2,2,31)"
            ],
            "outputs": [],
            "metadata": {}
        },
        {
            "cell_type": "code",
            "execution_count": null,
            "source": [
                "#change this to V regime\r\n",
                "fig,axes = plt.subplots()\r\n",
                "\r\n",
                "axes.grid(True)\r\n",
                "\r\n",
                "plt.plot(time_delay,avr,label=r'1ns Probe Width ',color='brown')\r\n",
                "\r\n",
                "axes.set_xlabel(r'time delay [ns]')\r\n",
                "axes.set_ylabel(r'Diode Signal [V]')\r\n",
                "axes.set_title('Auto-Correlation 31 steps ')\r\n",
                "\r\n",
                "axes.legend(loc = 0)\r\n",
                "plt.show()\r\n",
                "\r\n",
                "fig.savefig(r'{loc}\\Autocorrelation function 31 steps reps 1nano probe2s, tc = 100ms , sns = 100microV,{f}daqs.jpeg'.format(loc = location,f = DAQ_time),bbox_inches='tight')"
            ],
            "outputs": [],
            "metadata": {}
        },
        {
            "cell_type": "markdown",
            "source": [
                "# Load numpy array from csv file\r\n"
            ],
            "metadata": {}
        },
        {
            "cell_type": "code",
            "execution_count": null,
            "source": [
                "# load array\r\n",
                "avrg_1point5 = loadtxt('averaged signal_30steps_onepoint5.csv',delimiter= \",\")\r\n",
                "avrg_point1 = loadtxt('averaged signal_30steps_point1.csv',delimiter = ',')\r\n",
                "avrg_1 = loadtxt('averaged signal_30steps_35seconds.csv', delimiter=',')\r\n",
                "avrg_pointfive = loadtxt('averaged signal_30steps_35seconds_pointfive.csv', delimiter=',')\r\n",
                "avrg_10micro = loadtxt('averaged signal_30steps_10micro.csv', delimiter= ',')\r\n",
                "# print the array\r\n"
            ],
            "outputs": [],
            "metadata": {}
        },
        {
            "cell_type": "code",
            "execution_count": null,
            "source": [
                "fig,axes = plt.subplots()\r\n",
                "\r\n",
                "axes.grid(True)\r\n",
                "#plt.plot(time_delay,avrg_1,label='Probe width 1',color='black')\r\n",
                "plt.plot(time_delay,avrg_10micro,label=r'10 $\\mu$s Probe Width ',color='green')\r\n",
                "plt.plot(time_delay,avrg_1,label='Probe width 1 ms',color='blue')\r\n",
                "#plt.plot(time_delay,avrg_pointfive,label = 'Probe width 0.5', color = 'purple')\r\n",
                "#plt.plot(time_delay,avrg_point1,label='Probe width 0.1',color='red')\r\n",
                "\r\n",
                "\r\n",
                "axes.set_xlabel('time delay [ms]')\r\n",
                "axes.set_ylabel(r'Diode Signal [V]')\r\n",
                "axes.set_title('Auto-Correlation Signal, 30 Steps ')\r\n",
                "\r\n",
                "axes.legend(loc = 0)\r\n",
                "plt.show()\r\n",
                "\r\n",
                "#fig.savefig('Autocorrelation 1ms Width scheme.jpeg',bbox_inches='tight')"
            ],
            "outputs": [],
            "metadata": {}
        },
        {
            "cell_type": "code",
            "execution_count": null,
            "source": [
                "fig,axes = plt.subplots()\r\n",
                "\r\n",
                "axes.grid(True)\r\n",
                "plt.plot(time_delay,avr,label='Probe width 2',color='black')\r\n",
                "plt.plot(time_delay,avrg_1point5,label='Probe width 1.5',color='green')\r\n",
                "plt.plot(time_delay,avrg_1,label='Probe width 1',color='blue')\r\n",
                "plt.plot(time_delay,avrg_pointfive,label = 'Probe width 0.5', color = 'purple')\r\n",
                "plt.plot(time_delay,avrg_point1,label='Probe width 0.1',color='red')\r\n",
                "\r\n",
                "\r\n",
                "axes.set_xlabel('time delay [ms]')\r\n",
                "axes.set_ylabel(r'Diode Signal [V]')\r\n",
                "axes.set_title('Auto-Correlation Signal, 30 Steps ')\r\n",
                "\r\n",
                "axes.legend(loc = 0)\r\n",
                "plt.show()\r\n",
                "\r\n",
                "#fig.savefig('Autocorrelation 2 width.jpeg',bbox_inches='tight')"
            ],
            "outputs": [],
            "metadata": {}
        },
        {
            "cell_type": "code",
            "execution_count": null,
            "source": [
                "do 1 more 1.5 probe plot"
            ],
            "outputs": [],
            "metadata": {}
        },
        {
            "cell_type": "code",
            "execution_count": null,
            "source": [
                " np.where(haber[0][1] > 3 )"
            ],
            "outputs": [],
            "metadata": {}
        },
        {
            "cell_type": "code",
            "execution_count": null,
            "source": [
                "%matplotlib inline"
            ],
            "outputs": [],
            "metadata": {}
        },
        {
            "cell_type": "code",
            "execution_count": null,
            "source": [
                "import glob\r\n",
                "print(glob.glob('D:\\Alejandro\\Pulses\\diode measurements\\Pulse Scheme CSV\\AutoCorrelation, ms regime, 0,1 probe duration\\*csv'))\r\n",
                "#print(glob.glob(\"/home/adam/*\"))"
            ],
            "outputs": [],
            "metadata": {}
        },
        {
            "cell_type": "code",
            "execution_count": null,
            "source": [
                "a = glob.glob('D:\\Alejandro\\Pulses\\diode measurements\\Pulse Scheme CSV\\AutoCorrelation, ms regime, 0,1 probe duration\\*csv')"
            ],
            "outputs": [],
            "metadata": {}
        },
        {
            "cell_type": "code",
            "execution_count": null,
            "source": [
                "a"
            ],
            "outputs": [],
            "metadata": {}
        },
        {
            "cell_type": "code",
            "execution_count": null,
            "source": [],
            "outputs": [],
            "metadata": {}
        },
        {
            "cell_type": "code",
            "execution_count": null,
            "source": [],
            "outputs": [],
            "metadata": {}
        },
        {
            "cell_type": "code",
            "execution_count": null,
            "source": [],
            "outputs": [],
            "metadata": {}
        },
        {
            "cell_type": "code",
            "execution_count": null,
            "source": [],
            "outputs": [],
            "metadata": {}
        },
        {
            "cell_type": "markdown",
            "source": [
                "# Tiling"
            ],
            "metadata": {}
        },
        {
            "cell_type": "code",
            "execution_count": null,
            "source": [
                "Pump = {\r\n",
                "    'Name':'Pump',\r\n",
                "    'Amplitude':40,\r\n",
                "    'Start time':2e-10,\r\n",
                "    'End time':2e-10,\r\n",
                "    'Start Duration':2,\r\n",
                "    'End Duration':6,\r\n",
                "    'Sweep time':0,\r\n",
                "    'Sweep Duration':0\r\n",
                "}"
            ],
            "outputs": [],
            "metadata": {}
        },
        {
            "cell_type": "code",
            "execution_count": null,
            "source": [
                "ProbeAutoA = {\r\n",
                "    'Name':'ProbeAutoA',\r\n",
                "    'Amplitude':25,\r\n",
                "    'Start time':0,\r\n",
                "    'End time':4,\r\n",
                "    'Start Duration':1,\r\n",
                "    'End Duration':6,\r\n",
                "    'Sweep time':1,\r\n",
                "    'Sweep Duration':0\r\n",
                "}"
            ],
            "outputs": [],
            "metadata": {}
        },
        {
            "cell_type": "code",
            "execution_count": null,
            "source": [
                "ProbeAutoB = {\r\n",
                "    'Name':'ProbeAutoB',\r\n",
                "    'Amplitude':0,\r\n",
                "    'Start time':0,\r\n",
                "    'End time':12,\r\n",
                "    'Start Duration':1,\r\n",
                "    'End Duration':6,\r\n",
                "    'Sweep time':0,\r\n",
                "    'Sweep Duration':0\r\n",
                "}"
            ],
            "outputs": [],
            "metadata": {}
        },
        {
            "cell_type": "code",
            "execution_count": null,
            "source": [
                "ProbeAutoC = {\r\n",
                "    'Name':'ProbeAutoB',\r\n",
                "    'Amplitude':35,\r\n",
                "    'Start time':3,\r\n",
                "    'End time':12,\r\n",
                "    'Start Duration':3,\r\n",
                "    'End Duration':6,\r\n",
                "    'Sweep time':0,\r\n",
                "    'Sweep Duration':0\r\n",
                "}"
            ],
            "outputs": [],
            "metadata": {}
        },
        {
            "cell_type": "code",
            "execution_count": null,
            "source": [
                "AutoCorSchemeA = [Pump, ProbeAutoA]\r\n",
                "AutoCorSchemeB = [ProbeAutoB, ProbeAutoB]\r\n",
                "AutoCorSchemeC = [Pump,ProbeAutoC]\r\n",
                "#step = 0"
            ],
            "outputs": [],
            "metadata": {}
        },
        {
            "cell_type": "code",
            "execution_count": null,
            "source": [
                "ProbeAutoC = {\r\n",
                "    'Name':'ProbeAutoB',\r\n",
                "    'Number of Repetitions': 1,\r\n",
                "    'Amplitude':35,\r\n",
                "    'Start time':6,\r\n",
                "    'End time':12,\r\n",
                "    'Start Duration':3,\r\n",
                "    'End Duration':6,\r\n",
                "    'Sweep time':0,\r\n",
                "    'Sweep Duration':0\r\n",
                "}"
            ],
            "outputs": [],
            "metadata": {}
        },
        {
            "cell_type": "code",
            "execution_count": null,
            "source": [
                "PulseSchemetest =  {\r\n",
                "    'Name' : 'PulseSchemetest',\r\n",
                "    'Pulse Scheme': [Pump,ProbeAutoC],\r\n",
                "    'Number of repetitions': 4,\r\n",
                "}"
            ],
            "outputs": [],
            "metadata": {}
        },
        {
            "cell_type": "code",
            "execution_count": null,
            "source": [
                "def Sweepteil(PulList,P,p,t,N):\r\n",
                "    \r\n",
                "    \"\"\"Function that perfoms or not a Sweep, depending on the Sweep dictionary keys, for the Pulse Scheme PulList.\r\n",
                "    \r\n",
                "    This function is a generalization of the sweep0(Pulse,P,p,t).\r\n",
                "    It calls it and maps it over every Pulse in the list of pulses PulList.\r\n",
                "    If two pulses overlap, their amplitude is added up.\r\n",
                "    P gives the number of sample points for the overal pulse scheme, not to be confused with dt, the sweeping time step given by P\r\n",
                "    The pulse sequence is generated in the order that the pulses have within the PulseList.\r\n",
                "    \"\"\"\r\n",
                "    \r\n",
                "    #time interval\r\n",
                "    time = np.linspace(0,t,N)\r\n",
                "    \r\n",
                "    #Each pulse will be an array, and an entry of a bigger array (we have an array of arrays)\r\n",
                "    pularray = np.array([sweep0(Pulse,P,p,t,N) for Pulse in PulList['Pulse Scheme']])\r\n",
                "        \r\n",
                "    #the final pulse scheme will be the overlap of each individual pulse, given by the sum of their arrays    \r\n",
                "    pulscheme0 = np.sum(pularray,0)\r\n",
                "\r\n",
                "    #we divide the pulse scheme in order to play it several times\r\n",
                "    teil = int(pulscheme0.size/PulList['Number of repetitions'])\r\n",
                "    pulscheme = np.tile(pulscheme0[:teil],PulList['Number of repetitions'])\r\n",
                "    \r\n",
                "        \r\n",
                "    return pulscheme, time"
            ],
            "outputs": [],
            "metadata": {}
        },
        {
            "cell_type": "code",
            "execution_count": null,
            "source": [
                "def Sweept(PulList,P,p,t,N,rep):\r\n",
                "    \r\n",
                "    \"\"\"Function that perfoms or not a Sweep, depending on the Sweep dictionary keys, for the Pulse Scheme PulList.\r\n",
                "    \r\n",
                "    This function is a generalization of the sweep0(Pulse,P,p,t).\r\n",
                "    It calls it and maps it over every Pulse in the list of pulses PulList.\r\n",
                "    If two pulses overlap, their amplitude is added up.\r\n",
                "    P gives the number of sample points for the overal pulse scheme, not to be confused with dt, the sweeping time step given by P\r\n",
                "    The pulse sequence is generated in the order that the pulses have within the PulseList.\r\n",
                "    \"\"\"\r\n",
                "    \r\n",
                "    #time interval\r\n",
                "    time = np.linspace(0,t,N)\r\n",
                "    \r\n",
                "    #Each pulse will be an array, and an entry of a bigger array (we have an array of arrays)\r\n",
                "    pularray = np.array([sweep0(Pulse,P,p,t,N) for Pulse in PulList['Pulse Scheme']])\r\n",
                "        \r\n",
                "    #the final pulse scheme will be the overlap of each individual pulse, given by the sum of their arrays    \r\n",
                "    pulscheme0 = np.sum(pularray,0)\r\n",
                "\r\n",
                "    #we divide the pulse scheme in order to play it several times\r\n",
                "    teil = int(pulscheme0.size/rep)\r\n",
                "    pulscheme = np.tile(pulscheme0[:teil],rep)\r\n",
                "    \r\n",
                "        \r\n",
                "    return pulscheme, time"
            ],
            "outputs": [],
            "metadata": {}
        },
        {
            "cell_type": "code",
            "execution_count": null,
            "source": [
                "pul = Sweept(PulseSchemetest,10,0,100,7500000,10)"
            ],
            "outputs": [],
            "metadata": {}
        },
        {
            "cell_type": "code",
            "execution_count": null,
            "source": [
                "n = 10\r\n",
                "pul = Sweept(PulseSchemetest,10,0,100,7500000,n)\r\n",
                "#teil = int(pul[0].size/n)\r\n",
                "#huh = np.tile(pul[0][:teil],n)\r\n",
                "\r\n",
                "fig,axes = plt.subplots()\r\n",
                "axes.grid(True)\r\n",
                "\r\n",
                "plt.plot(pul[1],pul[0],label = 'Step 0' )\r\n",
                "#plt.plot(tim2,pul1,label = 'part2' )\r\n",
                "\r\n",
                "axes.set_xlabel('t [ms]')\r\n",
                "axes.set_ylabel('v[mV]')\r\n",
                "axes.set_title('Auto-Correlation Cycle A repeated {a} times'.format( a = n ))\r\n",
                "\r\n",
                "#axes.legend(loc = 0)\r\n",
                "plt.show()\r\n",
                "\r\n",
                "#fig.savefig('{a} pulses per segment.png'.format( a = n))"
            ],
            "outputs": [],
            "metadata": {}
        },
        {
            "cell_type": "code",
            "execution_count": null,
            "source": [
                "fig,axes = plt.subplots()\r\n",
                "\r\n",
                "axes.grid(True)\r\n",
                "\r\n",
                "plt.plot(pul[1],pul[0],label = '{a} samples'.format(a = len(pul[0])))\r\n",
                "#plt.plot(tm,pul,label = '{a} samples'.format(a = len(pul)))\r\n",
                "\r\n",
                "axes.set_xlabel('t [ms]')\r\n",
                "axes.set_ylabel('v[mV]')\r\n",
                "axes.set_title('Auto-Correlation Pulse Scheme at step 0')\r\n",
                "\r\n",
                "axes.legend(loc = 0)\r\n",
                "plt.show()"
            ],
            "outputs": [],
            "metadata": {}
        },
        {
            "cell_type": "code",
            "execution_count": null,
            "source": [
                "dataM, timeM = DAQ_Measuring(DAQ_Settings1,1000,30,M8190A)\r\n",
                "\r\n",
                "fig,ax= plt.subplots()\r\n",
                "ax.grid(True)\r\n",
                "\r\n",
                "#plt.plot(timeMs,dataMs[1]*1000,label= 'Marker Channel {chan}'.format(chan=DAQ_Settings1['Analog Channel Input Marker']),color='purple')\r\n",
                "plt.plot(timeM,dataM*1000,label= '{b} samples'.format(b=len(dataM)),color='orange')\r\n",
                "\r\n",
                "ax.set_ylabel('V  [mV]')\r\n",
                "ax.set_xlabel('t  [ms]')\r\n",
                "ax.set_title('AutoCorrelation Scheme Measured with DAC, Overlaping Step ') #Voltage Offset = 3mV, Marker Ampl = 50mV \r\n",
                "ax.legend(loc=0)\r\n",
                "#plt.legend(bbox_to_anchor=(2.05, 1), loc='upper left', borderaxespad=0.)\r\n",
                "plt.show()\r\n",
                "#fig.savefig('AutoCorrelation Scheme Meaasured with DAC, Overlaping Step.pdf',bbox_inches='tight')"
            ],
            "outputs": [],
            "metadata": {}
        },
        {
            "cell_type": "code",
            "execution_count": null,
            "source": [
                "A= 5\r\n",
                "B = 7\r\n",
                "\r\n",
                "f1 = 10 * 2*np.pi\r\n",
                "f2 = 20* 2*np.pi\r\n",
                "phase = 0"
            ],
            "outputs": [],
            "metadata": {}
        },
        {
            "cell_type": "code",
            "execution_count": null,
            "source": [
                "def ip(t):\r\n",
                "    out = A * np.cos( f1 * t + phase )\r\n",
                "    return out"
            ],
            "outputs": [],
            "metadata": {}
        },
        {
            "cell_type": "code",
            "execution_count": null,
            "source": [
                "def ref(t):\r\n",
                "    out = B * np.cos( f2 * t + phase )\r\n",
                "    return out"
            ],
            "outputs": [],
            "metadata": {}
        },
        {
            "cell_type": "code",
            "execution_count": null,
            "source": [
                "t = np.linspace(0,100,200)"
            ],
            "outputs": [],
            "metadata": {}
        },
        {
            "cell_type": "code",
            "execution_count": null,
            "source": [
                "Vo = np.array([ip(x) for x in t ])\r\n",
                "Vr = np.array([ref(x) for x in t ])\r\n",
                "\r\n"
            ],
            "outputs": [],
            "metadata": {}
        },
        {
            "cell_type": "code",
            "execution_count": null,
            "source": [
                "\r\n",
                "\r\n",
                "#Plot\r\n",
                "fig,ax= plt.subplots()\r\n",
                "ax.grid(True)\r\n",
                "\r\n",
                "plt.plot(t,Vo,label= 'Input Signal',color='orange')\r\n",
                "#plt.plot(t,Vo,label= 'Reference Signal',color='blue')\r\n",
                "\r\n",
                "#ax.set_ylabel('V  [mV]')\r\n",
                "ax.set_xlabel(r't [s]')\r\n",
                "ax.set_title('Input Signal') #ax.legend(loc=0)\r\n",
                "#plt.legend(bbox_to_anchor=(2.05, 1), loc='upper left', borderaxespad=0.)\r\n",
                "plt.show()\r\n",
                "fig.savefig('Input Signal.jpeg')"
            ],
            "outputs": [],
            "metadata": {}
        },
        {
            "cell_type": "code",
            "execution_count": null,
            "source": [
                "\r\n",
                "\r\n",
                "#Plot\r\n",
                "fig,ax= plt.subplots()\r\n",
                "ax.grid(True)\r\n",
                "\r\n",
                "#plt.plot(t,Vo,label= 'Input Signal',color='orange')\r\n",
                "plt.plot(t,Vr,label= 'Reference Signal',color='blue')\r\n",
                "\r\n",
                "#ax.set_ylabel('V  [mV]')\r\n",
                "ax.set_xlabel(r't [s]')\r\n",
                "ax.set_title('Reference Signal') \r\n",
                "#ax.legend(loc=0)\r\n",
                "#plt.legend(bbox_to_anchor=(2.05, 1), loc='upper left', borderaxespad=0.)\r\n",
                "plt.show()\r\n",
                "fig.savefig('Reference Signal.jpeg')"
            ],
            "outputs": [],
            "metadata": {}
        },
        {
            "cell_type": "code",
            "execution_count": null,
            "source": [
                "modul = Vo * Vr\r\n",
                "\r\n",
                "fig,ax= plt.subplots()\r\n",
                "ax.grid(True)\r\n",
                "\r\n",
                "#plt.plot(t,Vo,label= 'Input Signal',color='orange')\r\n",
                "plt.plot(t,modul,label= 'Product of Signals',color='black')\r\n",
                "\r\n",
                "#ax.set_ylabel('V  [mV]')\r\n",
                "ax.set_xlabel(r't [s]')\r\n",
                "ax.set_title('Product Signal') \r\n",
                "#ax.legend(loc=0)\r\n",
                "#plt.legend(bbox_to_anchor=(2.05, 1), loc='upper left', borderaxespad=0.)\r\n",
                "plt.show()\r\n",
                "fig.savefig('Product Signal different frequencies.jpeg')"
            ],
            "outputs": [],
            "metadata": {}
        },
        {
            "cell_type": "code",
            "execution_count": null,
            "source": [
                "modul = Vo * Vr\r\n",
                "\r\n",
                "fig,ax= plt.subplots()\r\n",
                "ax.grid(True)\r\n",
                "\r\n",
                "#plt.plot(t,Vo,label= 'Input Signal',color='orange')\r\n",
                "plt.plot(t,modul,label= 'Product of Signals',color='black')\r\n",
                "\r\n",
                "#ax.set_ylabel('V  [mV]')\r\n",
                "ax.set_xlabel(r't [s]')\r\n",
                "ax.set_title('Product Signal') \r\n",
                "#ax.legend(loc=0)\r\n",
                "#plt.legend(bbox_to_anchor=(2.05, 1), loc='upper left', borderaxespad=0.)\r\n",
                "plt.show()\r\n",
                "fig.savefig('Product Signal same frequencies.jpeg')"
            ],
            "outputs": [],
            "metadata": {}
        },
        {
            "cell_type": "markdown",
            "source": [
                "Self Updating Plotting"
            ],
            "metadata": {}
        },
        {
            "cell_type": "code",
            "execution_count": null,
            "source": [
                "import time\r\n",
                "import random\r\n",
                "import pyqtgraph as pg\r\n",
                "from collections import deque\r\n",
                "from pyqtgraph.Qt import QtGui, QtCore\r\n",
                "import numpy as np"
            ],
            "outputs": [],
            "metadata": {}
        },
        {
            "cell_type": "code",
            "execution_count": null,
            "source": [
                "test1= np.random.randint(0,11,50)\r\n",
                "avrg = np.average(test1)"
            ],
            "outputs": [],
            "metadata": {}
        },
        {
            "cell_type": "code",
            "execution_count": null,
            "source": [
                "test1"
            ],
            "outputs": [],
            "metadata": {}
        },
        {
            "cell_type": "code",
            "execution_count": null,
            "source": [
                "avrg"
            ],
            "outputs": [],
            "metadata": {}
        },
        {
            "cell_type": "code",
            "execution_count": null,
            "source": [
                "def Sim(iter):\r\n",
                "    for i in range(0,iter):\r\n",
                "        test = np.random.randint(0,11,50)\r\n",
                "        average = np.average(test)\r\n",
                "        print(average)\r\n",
                "        time.sleep(5)"
            ],
            "outputs": [],
            "metadata": {}
        },
        {
            "cell_type": "code",
            "execution_count": null,
            "source": [
                "Sim(5)"
            ],
            "outputs": [],
            "metadata": {}
        },
        {
            "cell_type": "code",
            "execution_count": null,
            "source": [
                "class Graph:\r\n",
                "    def __init__(self, ):\r\n",
                "        self.dat = deque()\r\n",
                "        self.maxLen = 50#max number of data points to show on graph\r\n",
                "        self.app = QtGui.QApplication([])\r\n",
                "        self.win = pg.GraphicsWindow()\r\n",
                "       \r\n",
                "        self.p1 = self.win.addPlot(colspan=2)\r\n",
                "        self.win.nextRow()\r\n",
                "        self.p2 = self.win.addPlot(colspan=2)\r\n",
                "        self.win.nextRow()\r\n",
                "        self.p3 = self.win.addPlot(colspan=2)\r\n",
                "       \r\n",
                "        self.curve1 = self.p1.plot()\r\n",
                "        self.curve2 = self.p2.plot()\r\n",
                "        self.curve3 = self.p3.plot()\r\n",
                "       \r\n",
                "        graphUpdateSpeedMs = 100 #greater slower\r\n",
                "        timer = QtCore.QTimer()#to create a thread that calls a function at intervals\r\n",
                "        timer.timeout.connect(self.update)#the update function keeps getting called at intervals\r\n",
                "        timer.start(graphUpdateSpeedMs)   \r\n",
                "        QtGui.QApplication.instance().exec_()\r\n",
                "       \r\n",
                "    def update(self):\r\n",
                "        if len(self.dat) > self.maxLen:\r\n",
                "            self.dat.popleft() #remove oldest\r\n",
                "        self.dat.append(random.randint(0,100)); \r\n",
                "\r\n",
                "        self.curve1.setData(self.dat)\r\n",
                "        self.curve2.setData(self.dat)\r\n",
                "        self.curve3.setData(self.dat)\r\n",
                "        self.app.processEvents()  \r\n",
                "       \r\n",
                "\r\n",
                "if __name__ == '__main__':\r\n",
                "    g = Graph()"
            ],
            "outputs": [],
            "metadata": {}
        },
        {
            "cell_type": "code",
            "execution_count": null,
            "source": [
                "1+1"
            ],
            "outputs": [],
            "metadata": {}
        },
        {
            "cell_type": "code",
            "execution_count": null,
            "source": [
                "# Import libraries\r\n",
                "from numpy import *\r\n",
                "from pyqtgraph.Qt import QtGui, QtCore\r\n",
                "import pyqtgraph as pg\r\n",
                "import serial\r\n",
                "\r\n",
                "# Create object serial port\r\n",
                "portName = \"COM12\"                      # replace this port name by yours!\r\n",
                "baudrate = 9600\r\n",
                "ser = serial.Serial(portName,baudrate)\r\n",
                "\r\n",
                "### START QtApp #####\r\n",
                "app = QtGui.QApplication([])            # you MUST do this once (initialize things)\r\n",
                "####################\r\n",
                "\r\n",
                "win = pg.GraphicsWindow(title=\"Signal from serial port\") # creates a window\r\n",
                "p = win.addPlot(title=\"Realtime plot\")  # creates empty space for the plot in the window\r\n",
                "curve = p.plot()                        # create an empty \"plot\" (a curve to plot)\r\n",
                "\r\n",
                "windowWidth = 500                       # width of the window displaying the curve\r\n",
                "Xm = linspace(0,0,windowWidth)          # create array that will contain the relevant time series     \r\n",
                "ptr = -windowWidth                      # set first x position\r\n",
                "\r\n",
                "# Realtime data plot. Each time this function is called, the data display is updated\r\n",
                "def update():\r\n",
                "    global curve, ptr, Xm    \r\n",
                "    Xm[:-1] = Xm[1:]                      # shift data in the temporal mean 1 sample left\r\n",
                "    value = ser.readline()                # read line (single value) from the serial port\r\n",
                "    Xm[-1] = float(value)                 # vector containing the instantaneous values      \r\n",
                "    ptr += 1                              # update x position for displaying the curve\r\n",
                "    curve.setData(Xm)                     # set the curve with this data\r\n",
                "    curve.setPos(ptr,0)                   # set x position in the graph to 0\r\n",
                "    QtGui.QApplication.processEvents()    # you MUST process the plot now\r\n",
                "\r\n",
                "### MAIN PROGRAM #####    \r\n",
                "# this is a brutal infinite loop calling your realtime data plot\r\n",
                "while True: update()\r\n",
                "\r\n",
                "### END QtApp ####\r\n",
                "pg.QtGui.QApplication.exec_() # you MUST put this at the end\r\n",
                "##################\r\n"
            ],
            "outputs": [],
            "metadata": {}
        },
        {
            "cell_type": "code",
            "execution_count": null,
            "source": [
                "from pyqtgraph.Qt import QtGui, QtCore\r\n",
                "import numpy as np\r\n",
                "import pyqtgraph as pg\r\n",
                "\r\n",
                "# Set graphical window, its title and size\r\n",
                "win = pg.GraphicsWindow(title=\"Sample process\")\r\n",
                "win.resize(1000,600)\r\n",
                "win.setWindowTitle('pyqtgraph example')\r\n",
                "\r\n",
                "# Enable antialiasing for prettier plots\r\n",
                "pg.setConfigOptions(antialias=True)\r\n",
                "\r\n",
                "# Random data process\r\n",
                "p6 = win.addPlot(title=\"Updating plot\")\r\n",
                "curve = p6.plot(pen='y')\r\n",
                "#data = np.random.normal(size=(10,1000)) #  If the Gaussian distribution shape is, (m, n, k), then m * n * k samples are drawn.\r\n",
                "test = np.random.randint(0,11,50)\r\n",
                "data = np.average(test)\r\n",
                "\r\n",
                "\r\n",
                "# plot counter\r\n",
                "ptr = 0 \r\n",
                "\r\n",
                "# Function for updating data display\r\n",
                "def update():\r\n",
                "    global curve, data, ptr, p6\r\n",
                "    curve.setData(data[ptr%10])\r\n",
                "    if ptr == 0:\r\n",
                "        p6.enableAutoRange('xy', False)  ## stop auto-scaling after the first data set is plotted\r\n",
                "    ptr += 1\r\n",
                "\r\n",
                "# Update data display    \r\n",
                "timer = QtCore.QTimer()\r\n",
                "timer.timeout.connect(update)\r\n",
                "timer.start(50)\r\n",
                "\r\n",
                "\r\n",
                "## Start Qt event loop unless running in interactive mode or using pyside.\r\n",
                "if __name__ == '__main__':\r\n",
                "    import sys\r\n",
                "    if (sys.flags.interactive != 1) or not hasattr(QtCore, 'PYQT_VERSION'):\r\n",
                "        QtGui.QApplication.instance().exec_()"
            ],
            "outputs": [],
            "metadata": {}
        },
        {
            "cell_type": "code",
            "execution_count": null,
            "source": [
                "        test = np.random.randint(0,11,50)\r\n",
                "        average = np.average(test)"
            ],
            "outputs": [],
            "metadata": {}
        },
        {
            "cell_type": "code",
            "execution_count": 21,
            "source": [
                " np.random.normal(size=(10,1000))"
            ],
            "outputs": [
                {
                    "output_type": "execute_result",
                    "data": {
                        "text/plain": [
                            "array([[-1.5071184 ,  0.05615916,  0.71447734, ..., -0.70843724,\n",
                            "         2.0222635 ,  1.75433422],\n",
                            "       [ 1.60916638,  2.45087457,  1.09025169, ..., -1.96940005,\n",
                            "        -1.15328075,  2.30088499],\n",
                            "       [-0.23473813,  1.10185945,  2.04544019, ...,  2.54939189,\n",
                            "         0.68097971,  0.01745949],\n",
                            "       ...,\n",
                            "       [-1.32431336,  0.41571231,  0.11251223, ..., -0.32220321,\n",
                            "         0.12202609,  1.07717266],\n",
                            "       [-1.52682644, -0.02048585,  0.59484088, ..., -0.38080654,\n",
                            "         0.28759156, -0.77912959],\n",
                            "       [-0.43640508,  0.62697164, -1.4682728 , ...,  1.01614026,\n",
                            "         0.3660703 ,  0.58256746]])"
                        ]
                    },
                    "metadata": {},
                    "execution_count": 21
                }
            ],
            "metadata": {}
        },
        {
            "cell_type": "code",
            "execution_count": null,
            "source": [],
            "outputs": [],
            "metadata": {}
        },
        {
            "cell_type": "code",
            "execution_count": null,
            "source": [],
            "outputs": [],
            "metadata": {}
        }
    ],
    "metadata": {
        "orig_nbformat": 4,
        "language_info": {
            "name": "python",
            "version": "3.8.5",
            "mimetype": "text/x-python",
            "codemirror_mode": {
                "name": "ipython",
                "version": 3
            },
            "pygments_lexer": "ipython3",
            "nbconvert_exporter": "python",
            "file_extension": ".py"
        },
        "kernelspec": {
            "name": "python3",
            "display_name": "Python 3.8.5 64-bit"
        },
        "interpreter": {
            "hash": "9a32f0bf53af15acd232504180dc0ef28b8a6ac1a49da0a6c374e1f45bb445b6"
        }
    },
    "nbformat": 4,
    "nbformat_minor": 2
}