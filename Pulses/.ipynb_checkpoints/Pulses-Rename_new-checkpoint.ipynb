{
 "cells": [
  {
   "cell_type": "code",
   "execution_count": 1,
   "metadata": {},
   "outputs": [],
   "source": [
    "%matplotlib inline "
   ]
  },
  {
   "cell_type": "code",
   "execution_count": 30,
   "metadata": {},
   "outputs": [],
   "source": [
    "%matplotlib widget"
   ]
  },
  {
   "cell_type": "code",
   "execution_count": 31,
   "metadata": {},
   "outputs": [],
   "source": [
    "import numpy as np\n",
    "import matplotlib\n",
    "import matplotlib.pyplot as plt\n"
   ]
  },
  {
   "cell_type": "code",
   "execution_count": 32,
   "metadata": {},
   "outputs": [],
   "source": [
    "Rabi={\n",
    "    'Amplitude' : 4 ,\n",
    "    'Start Duration' : 5,\n",
    "    'End Duration': 5,\n",
    "    'Start time' : 1e-10,\n",
    "    'End time': 2e-10,\n",
    "    'Sweep time': 0\n",
    "}\n"
   ]
  },
  {
   "cell_type": "code",
   "execution_count": 33,
   "metadata": {},
   "outputs": [],
   "source": [
    "Probe1={\n",
    "    'Amplitude' : 2 ,\n",
    "    'Start Duration' : 7,\n",
    "    'End Duration': 5 ,\n",
    "    'Start time' : 0,\n",
    "    'End time': 20,\n",
    "    'Sweep time': 1\n",
    "}"
   ]
  },
  {
   "cell_type": "code",
   "execution_count": 34,
   "metadata": {},
   "outputs": [],
   "source": [
    "Probe2={\n",
    "    'Amplitude' : 7 ,\n",
    "    'Start Duration' : 3,\n",
    "    'End Duration': 20 ,\n",
    "    'Start time' : 5,\n",
    "    'End time': 11,\n",
    "    'Sweep time': 1\n",
    "}\n",
    "\n"
   ]
  },
  {
   "cell_type": "code",
   "execution_count": 35,
   "metadata": {},
   "outputs": [],
   "source": [
    "Probe3={\n",
    "    'Amplitude' : 6 ,\n",
    "    'Start Duration' : 5,\n",
    "    'End Duration': 5 ,\n",
    "    'Start time' : 5,\n",
    "    'End time': 10,\n",
    "    'Sweep time': 1\n",
    "}\n",
    "\n"
   ]
  },
  {
   "cell_type": "markdown",
   "metadata": {},
   "source": [
    "## Different Pulse schemes given by differnt dictionaries"
   ]
  },
  {
   "cell_type": "code",
   "execution_count": 36,
   "metadata": {},
   "outputs": [],
   "source": [
    "Pulses_List3=[Rabi,Probe1,Probe2];\n",
    "Pulses_List=[Rabi,Probe1];\n",
    "Pulses_List2=[Rabi,Probe2];"
   ]
  },
  {
   "cell_type": "markdown",
   "metadata": {},
   "source": [
    "## Time interval for now:"
   ]
  },
  {
   "cell_type": "code",
   "execution_count": 37,
   "metadata": {},
   "outputs": [],
   "source": [
    "trog=np.linspace(-1e-10,20,1000)"
   ]
  },
  {
   "cell_type": "markdown",
   "metadata": {},
   "source": [
    "# Here are the new functions, making them so they call one another"
   ]
  },
  {
   "cell_type": "code",
   "execution_count": 38,
   "metadata": {},
   "outputs": [],
   "source": [
    "def Pul(Pulse,t):\n",
    "    \"single pulse generating function\"\n",
    "    pol= Pulse['Amplitude']*( Pulse['Start time'] <= t <= Pulse['Start Duration'] + Pulse['Start time'])\n",
    "    return pol"
   ]
  },
  {
   "cell_type": "code",
   "execution_count": 11,
   "metadata": {},
   "outputs": [],
   "source": [
    "#pulse list\n",
    "def Pl(PulList,t):\n",
    "    \"\"\"Pulse generating function, directly from the specified information given by it's corresponding dictionary, stored in the list PulList,at a time interval given by time\"\"\"\n",
    "    time=np.linspace(-1e-10,t,1000)\n",
    "    pl=np.zeros((len(PulList),len(time))) \n",
    "    for i in range(0,len(PulList)):\n",
    "        pl[i]=[Pul(PulList[i],x) for x in time ]\n",
    "    y=np.zeros(len(pl[0]))\n",
    "    for i in range(0,len(pl)):\n",
    "        y += pl[i]\n",
    "    return y"
   ]
  },
  {
   "cell_type": "code",
   "execution_count": 12,
   "metadata": {},
   "outputs": [],
   "source": [
    "def Sw0(PulList,N,n,t):\n",
    "    \"\"\"description goes here\"\"\"\n",
    "    if n == 0 :\n",
    "        a=Pl(PulList,t)\n",
    "    else:\n",
    "        a=sweepl(PulList,N,n,t)\n",
    "    return a"
   ]
  },
  {
   "cell_type": "code",
   "execution_count": 39,
   "metadata": {},
   "outputs": [],
   "source": [
    "def sweep1(Pulse,N,n,t):\n",
    "    \"\"\"description goes here\"\"\"\n",
    "    dt=(Pulse['End time'] - Pulse['Start time'])/N\n",
    "    new_start=n*dt\n",
    "    dτ=(Pulse['End Duration'] - Pulse['Start Duration'])/N\n",
    "    new_duration= n*dτ\n",
    "    pol= Pulse['Amplitude'] * (  new_start <=  t <= Pulse['End Duration'] + new_start)\n",
    "    return pol"
   ]
  },
  {
   "cell_type": "code",
   "execution_count": 40,
   "metadata": {},
   "outputs": [],
   "source": [
    "def sweep0(Pulse,N,n,t):\n",
    "    \"\"\"description goes here\"\"\"\n",
    "    if n==0:\n",
    "        pol=Pul(Pulse,t)\n",
    "        return pol\n",
    "    else:\n",
    "        dt=(Pulse['End time'] - Pulse['Start time'])/N\n",
    "        new_start=n*dt\n",
    "        dτ=(Pulse['End Duration'] - Pulse['Start Duration'])/N\n",
    "        new_duration= n*dτ\n",
    "        pol= Pulse['Amplitude'] * (  new_start <=  t <= Pulse['End Duration'] + new_start)\n",
    "        return pol"
   ]
  },
  {
   "cell_type": "code",
   "execution_count": 13,
   "metadata": {},
   "outputs": [],
   "source": [
    "#sweep list\n",
    "def sweepl(PulList,N,n,t):\n",
    "    \"\"\"description goes here\"\"\"\n",
    "    time=np.linspace(-1e-10,t,1000)\n",
    "    pl1=np.zeros((len(PulList),len(time)))\n",
    "    for i in range(0,len(PulList)):\n",
    "        pl1[i]=[sweep1(PulList[i],N,n,x) for x in time]\n",
    "    y=np.zeros(len(pl1[0]))\n",
    "    for i in range(0,len(pl1)):\n",
    "        y += pl1[i]\n",
    "    return y           "
   ]
  },
  {
   "cell_type": "code",
   "execution_count": 106,
   "metadata": {},
   "outputs": [
    {
     "data": {
      "text/plain": [
       "5.0"
      ]
     },
     "execution_count": 106,
     "metadata": {},
     "output_type": "execute_result"
    }
   ],
   "source": []
  },
  {
   "cell_type": "code",
   "execution_count": 28,
   "metadata": {},
   "outputs": [
    {
     "data": {
      "text/plain": [
       "{'Amplitude': 2,\n",
       " 'Start Duration': 7,\n",
       " 'End Duration': 5,\n",
       " 'Start time': 0,\n",
       " 'End time': 20,\n",
       " 'Sweep time': 1}"
      ]
     },
     "execution_count": 28,
     "metadata": {},
     "output_type": "execute_result"
    }
   ],
   "source": [
    "Probe1"
   ]
  },
  {
   "cell_type": "code",
   "execution_count": 17,
   "metadata": {},
   "outputs": [],
   "source": [
    "def Swind(Pulse,N,n,t):\n",
    "    \"\"\"Sweep or not, based on Sweep time dictionary argument, individual pulses\"\"\"\n",
    "    if Pulse['Sweep time']==0:\n",
    "            b=Pul(Pulse,t)\n",
    "    if Pulse['Sweep time']==1:\n",
    "            b=sweep1(Pul,N,n,t)\n",
    "    return b"
   ]
  },
  {
   "cell_type": "code",
   "execution_count": 57,
   "metadata": {},
   "outputs": [
    {
     "data": {
      "text/plain": [
       "{'Amplitude': 7,\n",
       " 'Start Duration': 3,\n",
       " 'End Duration': 20,\n",
       " 'Start time': 9,\n",
       " 'End time': 11,\n",
       " 'Sweep time': 1}"
      ]
     },
     "execution_count": 57,
     "metadata": {},
     "output_type": "execute_result"
    }
   ],
   "source": [
    "Probe2"
   ]
  },
  {
   "cell_type": "code",
   "execution_count": 15,
   "metadata": {},
   "outputs": [
    {
     "data": {
      "text/plain": [
       "array([0, 0, 0, 0, 0, 0, 0, 0, 0, 0, 0, 0, 0, 0, 0, 0, 0, 0, 0, 0, 0, 0,\n",
       "       0, 0, 0, 0, 0, 0, 0, 0, 0, 0, 0, 0, 0, 0, 0, 0, 0, 0, 0, 0, 0, 0,\n",
       "       0, 0, 0, 0, 0, 0, 0, 0, 0, 0, 0, 0, 0, 0, 0, 0, 0, 0, 0, 0, 0, 0,\n",
       "       0, 0, 0, 0, 0, 0, 0, 0, 0, 0, 0, 0, 0, 0, 0, 0, 0, 0, 0, 0, 0, 0,\n",
       "       0, 0, 0, 0, 0, 0, 0, 0, 0, 0, 0, 0, 0, 0, 0, 0, 0, 0, 0, 0, 0, 0,\n",
       "       0, 0, 0, 0, 0, 0, 0, 0, 0, 0, 0, 0, 0, 0, 0, 0, 0, 0, 0, 0, 0, 0,\n",
       "       0, 0, 0, 0, 0, 0, 0, 0, 0, 0, 0, 0, 0, 0, 0, 0, 0, 0, 0, 0, 0, 0,\n",
       "       0, 0, 0, 0, 0, 0, 0, 0, 0, 0, 0, 0, 0, 0, 0, 0, 0, 0, 0, 0, 0, 0,\n",
       "       0, 0, 0, 0, 0, 0, 0, 0, 0, 0, 0, 0, 0, 0, 0, 0, 0, 0, 0, 0, 0, 0,\n",
       "       0, 0, 0, 0, 0, 0, 0, 0, 0, 0, 0, 0, 0, 0, 0, 0, 0, 0, 0, 0, 0, 0,\n",
       "       0, 0, 0, 0, 0, 0, 0, 0, 0, 0, 0, 0, 0, 0, 0, 0, 0, 0, 0, 0, 0, 0,\n",
       "       0, 0, 0, 0, 0, 0, 0, 0, 6, 6, 6, 6, 6, 6, 6, 6, 6, 6, 6, 6, 6, 6,\n",
       "       6, 6, 6, 6, 6, 6, 6, 6, 6, 6, 6, 6, 6, 6, 6, 6, 6, 6, 6, 6, 6, 6,\n",
       "       6, 6, 6, 6, 6, 6, 6, 6, 6, 6, 6, 6, 6, 6, 6, 6, 6, 6, 6, 6, 6, 6,\n",
       "       6, 6, 6, 6, 6, 6, 6, 6, 6, 6, 6, 6, 6, 6, 6, 6, 6, 6, 6, 6, 6, 6,\n",
       "       6, 6, 6, 6, 6, 6, 6, 6, 6, 6, 6, 6, 6, 6, 6, 6, 6, 6, 6, 6, 6, 6,\n",
       "       6, 6, 6, 6, 6, 6, 6, 6, 6, 6, 6, 6, 6, 6, 6, 6, 6, 6, 6, 6, 6, 6,\n",
       "       6, 6, 6, 6, 6, 6, 6, 6, 6, 6, 6, 6, 6, 6, 6, 6, 6, 6, 6, 6, 6, 6,\n",
       "       6, 6, 6, 6, 6, 6, 6, 6, 6, 6, 6, 6, 6, 6, 6, 6, 6, 6, 6, 6, 6, 6,\n",
       "       6, 6, 6, 6, 6, 6, 6, 6, 6, 6, 6, 6, 6, 6, 6, 6, 6, 6, 6, 6, 6, 6,\n",
       "       6, 6, 6, 6, 6, 6, 6, 6, 6, 6, 6, 6, 6, 6, 6, 6, 6, 6, 6, 6, 6, 6,\n",
       "       6, 6, 6, 6, 6, 6, 6, 6, 6, 6, 6, 6, 6, 6, 6, 6, 6, 6, 6, 6, 6, 6,\n",
       "       6, 6, 6, 6, 6, 6, 6, 6, 6, 6, 6, 6, 6, 6, 6, 6, 0, 0, 0, 0, 0, 0,\n",
       "       0, 0, 0, 0, 0, 0, 0, 0, 0, 0, 0, 0, 0, 0, 0, 0, 0, 0, 0, 0, 0, 0,\n",
       "       0, 0, 0, 0, 0, 0, 0, 0, 0, 0, 0, 0, 0, 0, 0, 0, 0, 0, 0, 0, 0, 0,\n",
       "       0, 0, 0, 0, 0, 0, 0, 0, 0, 0, 0, 0, 0, 0, 0, 0, 0, 0, 0, 0, 0, 0,\n",
       "       0, 0, 0, 0, 0, 0, 0, 0, 0, 0, 0, 0, 0, 0, 0, 0, 0, 0, 0, 0, 0, 0,\n",
       "       0, 0, 0, 0, 0, 0, 0, 0, 0, 0, 0, 0, 0, 0, 0, 0, 0, 0, 0, 0, 0, 0,\n",
       "       0, 0, 0, 0, 0, 0, 0, 0, 0, 0, 0, 0, 0, 0, 0, 0, 0, 0, 0, 0, 0, 0,\n",
       "       0, 0, 0, 0, 0, 0, 0, 0, 0, 0, 0, 0, 0, 0, 0, 0, 0, 0, 0, 0, 0, 0,\n",
       "       0, 0, 0, 0, 0, 0, 0, 0, 0, 0, 0, 0, 0, 0, 0, 0, 0, 0, 0, 0, 0, 0,\n",
       "       0, 0, 0, 0, 0, 0, 0, 0, 0, 0, 0, 0, 0, 0, 0, 0, 0, 0, 0, 0, 0, 0,\n",
       "       0, 0, 0, 0, 0, 0, 0, 0, 0, 0, 0, 0, 0, 0, 0, 0, 0, 0, 0, 0, 0, 0,\n",
       "       0, 0, 0, 0, 0, 0, 0, 0, 0, 0, 0, 0, 0, 0, 0, 0, 0, 0, 0, 0, 0, 0,\n",
       "       0, 0, 0, 0, 0, 0, 0, 0, 0, 0, 0, 0, 0, 0, 0, 0, 0, 0, 0, 0, 0, 0,\n",
       "       0, 0, 0, 0, 0, 0, 0, 0, 0, 0, 0, 0, 0, 0, 0, 0, 0, 0, 0, 0, 0, 0,\n",
       "       0, 0, 0, 0, 0, 0, 0, 0, 0, 0, 0, 0, 0, 0, 0, 0, 0, 0, 0, 0, 0, 0,\n",
       "       0, 0, 0, 0, 0, 0, 0, 0, 0, 0, 0, 0, 0, 0, 0, 0, 0, 0, 0, 0, 0, 0,\n",
       "       0, 0, 0, 0, 0, 0, 0, 0, 0, 0, 0, 0, 0, 0, 0, 0, 0, 0, 0, 0, 0, 0,\n",
       "       0, 0, 0, 0, 0, 0, 0, 0, 0, 0, 0, 0, 0, 0, 0, 0, 0, 0, 0, 0, 0, 0,\n",
       "       0, 0, 0, 0, 0, 0, 0, 0, 0, 0, 0, 0, 0, 0, 0, 0, 0, 0, 0, 0, 0, 0,\n",
       "       0, 0, 0, 0, 0, 0, 0, 0, 0, 0, 0, 0, 0, 0, 0, 0, 0, 0, 0, 0, 0, 0,\n",
       "       0, 0, 0, 0, 0, 0, 0, 0, 0, 0, 0, 0, 0, 0, 0, 0, 0, 0, 0, 0, 0, 0,\n",
       "       0, 0, 0, 0, 0, 0, 0, 0, 0, 0, 0, 0, 0, 0, 0, 0, 0, 0, 0, 0, 0, 0,\n",
       "       0, 0, 0, 0, 0, 0, 0, 0, 0, 0, 0, 0, 0, 0, 0, 0, 0, 0, 0, 0, 0, 0,\n",
       "       0, 0, 0, 0, 0, 0, 0, 0, 0, 0])"
      ]
     },
     "execution_count": 15,
     "metadata": {},
     "output_type": "execute_result"
    }
   ],
   "source": [
    "np.array([sweep0(Probe3,20,0,x) for x in trog])"
   ]
  },
  {
   "cell_type": "code",
   "execution_count": 105,
   "metadata": {},
   "outputs": [
    {
     "data": {
      "text/plain": [
       "{'Amplitude': 7,\n",
       " 'Start Duration': 3,\n",
       " 'End Duration': 20,\n",
       " 'Start time': 5,\n",
       " 'End time': 11,\n",
       " 'Sweep time': 1}"
      ]
     },
     "execution_count": 105,
     "metadata": {},
     "output_type": "execute_result"
    }
   ],
   "source": [
    "Probe2"
   ]
  },
  {
   "cell_type": "code",
   "execution_count": 46,
   "metadata": {},
   "outputs": [],
   "source": [
    "Probe3={\n",
    "    'Amplitude' : 6 ,\n",
    "    'Start Duration' : 5,\n",
    "    'End Duration': 5 ,\n",
    "    'Start time' : 2,\n",
    "    'End time': 5,\n",
    "    'Sweep time': 1\n",
    "}\n",
    "\n"
   ]
  },
  {
   "cell_type": "code",
   "execution_count": 47,
   "metadata": {},
   "outputs": [],
   "source": [
    "obo20=np.array([sweep0(Probe3,100,100,x) for x in trog]);\n",
    "obo0=np.array([sweep0(Probe3,100,0,x) for x in trog]);\n",
    "obo10=np.array([sweep0(Probe3,100,50,x) for x in trog])"
   ]
  },
  {
   "cell_type": "code",
   "execution_count": 49,
   "metadata": {},
   "outputs": [
    {
     "data": {
      "image/png": "[encoded data removed]",
      "text/plain": [
       "<Figure size 432x288 with 1 Axes>"
      ]
     },
     "metadata": {
      "needs_background": "light"
     },
     "output_type": "display_data"
    }
   ],
   "source": [
    "%matplotlib inline \n",
    "fig,ax= plt.subplots()\n",
    "\n",
    "\n",
    "\n",
    "ax.grid(True)\n",
    "#plt.plot(trog,obo20,'-b')\n",
    "plt.step(trog,obo0,'-g')\n",
    "#plt.step(trog,obo10,'-r')\n",
    "ax.set_ylabel('V')\n",
    "ax.set_xlabel('t')\n",
    "ax.set_title(' Primitive Sweeping,  Pulse ')\n",
    "plt.show()\n",
    "#fig.savefig('Pulse_sweep_t=20',optimize=True,bbox_inches='tight')"
   ]
  },
  {
   "cell_type": "code",
   "execution_count": 22,
   "metadata": {},
   "outputs": [
    {
     "data": {
      "text/plain": [
       "{'Amplitude': 6,\n",
       " 'Start Duration': 5,\n",
       " 'End Duration': 5,\n",
       " 'Start time': 0,\n",
       " 'End time': 5,\n",
       " 'Sweep time': 1}"
      ]
     },
     "execution_count": 22,
     "metadata": {},
     "output_type": "execute_result"
    }
   ],
   "source": [
    "Probe3"
   ]
  },
  {
   "cell_type": "code",
   "execution_count": null,
   "metadata": {},
   "outputs": [],
   "source": []
  },
  {
   "cell_type": "code",
   "execution_count": 11,
   "metadata": {},
   "outputs": [],
   "source": [
    "def Swt(PulList,N,n,t):\n",
    "    \"\"\"Sweep or not, based on Sweep time dictionary argument, pulse dictionary\"\"\"\n",
    "    for Pulse in PulList:\n",
    "        if Pulse['Sweep time']==0:\n",
    "            b=Pul(Pulse,t)\n",
    "        if Pulse['Sweep time']==1:\n",
    "            b=sweep1(PulList,N,n,t)\n",
    "        return b"
   ]
  },
  {
   "cell_type": "code",
   "execution_count": 38,
   "metadata": {},
   "outputs": [],
   "source": [
    "def Sw0(PulList,N,n,t):\n",
    "    \"\"\"description goes here\"\"\"\n",
    "    if n == 0 :\n",
    "        a=Pl(PulList,t)\n",
    "    else:\n",
    "        a=sweepl(PulList,N,n,t)\n",
    "    return a"
   ]
  },
  {
   "cell_type": "code",
   "execution_count": 41,
   "metadata": {},
   "outputs": [],
   "source": [
    "a=Sw0(Pulses_List,20,1,50) #sweepl(PulList,N,n,t)"
   ]
  },
  {
   "cell_type": "code",
   "execution_count": 42,
   "metadata": {},
   "outputs": [
    {
     "data": {
      "text/plain": [
       "array([0., 4., 4., 4., 4., 4., 4., 4., 4., 4., 4., 4., 4., 4., 4., 4., 4.,\n",
       "       4., 4., 4., 6., 6., 6., 6., 6., 6., 6., 6., 6., 6., 6., 6., 6., 6.,\n",
       "       6., 6., 6., 6., 6., 6., 6., 6., 6., 6., 6., 6., 6., 6., 6., 6., 6.,\n",
       "       6., 6., 6., 6., 6., 6., 6., 6., 6., 6., 6., 6., 6., 6., 6., 6., 6.,\n",
       "       6., 6., 6., 6., 6., 6., 6., 6., 6., 6., 6., 6., 6., 6., 6., 6., 6.,\n",
       "       6., 6., 6., 6., 6., 6., 6., 6., 6., 6., 6., 6., 6., 6., 6., 2., 2.,\n",
       "       2., 2., 2., 2., 2., 2., 2., 2., 2., 2., 2., 2., 2., 2., 2., 2., 2.,\n",
       "       2., 0., 0., 0., 0., 0., 0., 0., 0., 0., 0., 0., 0., 0., 0., 0., 0.,\n",
       "       0., 0., 0., 0., 0., 0., 0., 0., 0., 0., 0., 0., 0., 0., 0., 0., 0.,\n",
       "       0., 0., 0., 0., 0., 0., 0., 0., 0., 0., 0., 0., 0., 0., 0., 0., 0.,\n",
       "       0., 0., 0., 0., 0., 0., 0., 0., 0., 0., 0., 0., 0., 0., 0., 0., 0.,\n",
       "       0., 0., 0., 0., 0., 0., 0., 0., 0., 0., 0., 0., 0., 0., 0., 0., 0.,\n",
       "       0., 0., 0., 0., 0., 0., 0., 0., 0., 0., 0., 0., 0., 0., 0., 0., 0.,\n",
       "       0., 0., 0., 0., 0., 0., 0., 0., 0., 0., 0., 0., 0., 0., 0., 0., 0.,\n",
       "       0., 0., 0., 0., 0., 0., 0., 0., 0., 0., 0., 0., 0., 0., 0., 0., 0.,\n",
       "       0., 0., 0., 0., 0., 0., 0., 0., 0., 0., 0., 0., 0., 0., 0., 0., 0.,\n",
       "       0., 0., 0., 0., 0., 0., 0., 0., 0., 0., 0., 0., 0., 0., 0., 0., 0.,\n",
       "       0., 0., 0., 0., 0., 0., 0., 0., 0., 0., 0., 0., 0., 0., 0., 0., 0.,\n",
       "       0., 0., 0., 0., 0., 0., 0., 0., 0., 0., 0., 0., 0., 0., 0., 0., 0.,\n",
       "       0., 0., 0., 0., 0., 0., 0., 0., 0., 0., 0., 0., 0., 0., 0., 0., 0.,\n",
       "       0., 0., 0., 0., 0., 0., 0., 0., 0., 0., 0., 0., 0., 0., 0., 0., 0.,\n",
       "       0., 0., 0., 0., 0., 0., 0., 0., 0., 0., 0., 0., 0., 0., 0., 0., 0.,\n",
       "       0., 0., 0., 0., 0., 0., 0., 0., 0., 0., 0., 0., 0., 0., 0., 0., 0.,\n",
       "       0., 0., 0., 0., 0., 0., 0., 0., 0., 0., 0., 0., 0., 0., 0., 0., 0.,\n",
       "       0., 0., 0., 0., 0., 0., 0., 0., 0., 0., 0., 0., 0., 0., 0., 0., 0.,\n",
       "       0., 0., 0., 0., 0., 0., 0., 0., 0., 0., 0., 0., 0., 0., 0., 0., 0.,\n",
       "       0., 0., 0., 0., 0., 0., 0., 0., 0., 0., 0., 0., 0., 0., 0., 0., 0.,\n",
       "       0., 0., 0., 0., 0., 0., 0., 0., 0., 0., 0., 0., 0., 0., 0., 0., 0.,\n",
       "       0., 0., 0., 0., 0., 0., 0., 0., 0., 0., 0., 0., 0., 0., 0., 0., 0.,\n",
       "       0., 0., 0., 0., 0., 0., 0., 0., 0., 0., 0., 0., 0., 0., 0., 0., 0.,\n",
       "       0., 0., 0., 0., 0., 0., 0., 0., 0., 0., 0., 0., 0., 0., 0., 0., 0.,\n",
       "       0., 0., 0., 0., 0., 0., 0., 0., 0., 0., 0., 0., 0., 0., 0., 0., 0.,\n",
       "       0., 0., 0., 0., 0., 0., 0., 0., 0., 0., 0., 0., 0., 0., 0., 0., 0.,\n",
       "       0., 0., 0., 0., 0., 0., 0., 0., 0., 0., 0., 0., 0., 0., 0., 0., 0.,\n",
       "       0., 0., 0., 0., 0., 0., 0., 0., 0., 0., 0., 0., 0., 0., 0., 0., 0.,\n",
       "       0., 0., 0., 0., 0., 0., 0., 0., 0., 0., 0., 0., 0., 0., 0., 0., 0.,\n",
       "       0., 0., 0., 0., 0., 0., 0., 0., 0., 0., 0., 0., 0., 0., 0., 0., 0.,\n",
       "       0., 0., 0., 0., 0., 0., 0., 0., 0., 0., 0., 0., 0., 0., 0., 0., 0.,\n",
       "       0., 0., 0., 0., 0., 0., 0., 0., 0., 0., 0., 0., 0., 0., 0., 0., 0.,\n",
       "       0., 0., 0., 0., 0., 0., 0., 0., 0., 0., 0., 0., 0., 0., 0., 0., 0.,\n",
       "       0., 0., 0., 0., 0., 0., 0., 0., 0., 0., 0., 0., 0., 0., 0., 0., 0.,\n",
       "       0., 0., 0., 0., 0., 0., 0., 0., 0., 0., 0., 0., 0., 0., 0., 0., 0.,\n",
       "       0., 0., 0., 0., 0., 0., 0., 0., 0., 0., 0., 0., 0., 0., 0., 0., 0.,\n",
       "       0., 0., 0., 0., 0., 0., 0., 0., 0., 0., 0., 0., 0., 0., 0., 0., 0.,\n",
       "       0., 0., 0., 0., 0., 0., 0., 0., 0., 0., 0., 0., 0., 0., 0., 0., 0.,\n",
       "       0., 0., 0., 0., 0., 0., 0., 0., 0., 0., 0., 0., 0., 0., 0., 0., 0.,\n",
       "       0., 0., 0., 0., 0., 0., 0., 0., 0., 0., 0., 0., 0., 0., 0., 0., 0.,\n",
       "       0., 0., 0., 0., 0., 0., 0., 0., 0., 0., 0., 0., 0., 0., 0., 0., 0.,\n",
       "       0., 0., 0., 0., 0., 0., 0., 0., 0., 0., 0., 0., 0., 0., 0., 0., 0.,\n",
       "       0., 0., 0., 0., 0., 0., 0., 0., 0., 0., 0., 0., 0., 0., 0., 0., 0.,\n",
       "       0., 0., 0., 0., 0., 0., 0., 0., 0., 0., 0., 0., 0., 0., 0., 0., 0.,\n",
       "       0., 0., 0., 0., 0., 0., 0., 0., 0., 0., 0., 0., 0., 0., 0., 0., 0.,\n",
       "       0., 0., 0., 0., 0., 0., 0., 0., 0., 0., 0., 0., 0., 0., 0., 0., 0.,\n",
       "       0., 0., 0., 0., 0., 0., 0., 0., 0., 0., 0., 0., 0., 0., 0., 0., 0.,\n",
       "       0., 0., 0., 0., 0., 0., 0., 0., 0., 0., 0., 0., 0., 0., 0., 0., 0.,\n",
       "       0., 0., 0., 0., 0., 0., 0., 0., 0., 0., 0., 0., 0., 0., 0., 0., 0.,\n",
       "       0., 0., 0., 0., 0., 0., 0., 0., 0., 0., 0., 0., 0., 0., 0., 0., 0.,\n",
       "       0., 0., 0., 0., 0., 0., 0., 0., 0., 0., 0., 0., 0., 0., 0., 0., 0.,\n",
       "       0., 0., 0., 0., 0., 0., 0., 0., 0., 0., 0., 0., 0., 0.])"
      ]
     },
     "execution_count": 42,
     "metadata": {},
     "output_type": "execute_result"
    }
   ],
   "source": [
    "a"
   ]
  },
  {
   "cell_type": "code",
   "execution_count": null,
   "metadata": {},
   "outputs": [],
   "source": []
  },
  {
   "cell_type": "code",
   "execution_count": 37,
   "metadata": {},
   "outputs": [
    {
     "data": {
      "text/plain": [
       "[{'Amplitude': 4,\n",
       "  'Start Duration': 5,\n",
       "  'End Duration': 5,\n",
       "  'Start time': 1e-10,\n",
       "  'End time': 2e-10,\n",
       "  'Sweep time': 0},\n",
       " {'Amplitude': 2,\n",
       "  'Start Duration': 7,\n",
       "  'End Duration': 5,\n",
       "  'Start time': 0,\n",
       "  'End time': 20,\n",
       "  'Sweep time': 1}]"
      ]
     },
     "execution_count": 37,
     "metadata": {},
     "output_type": "execute_result"
    }
   ],
   "source": [
    "Pulses_List"
   ]
  },
  {
   "cell_type": "code",
   "execution_count": null,
   "metadata": {},
   "outputs": [],
   "source": []
  },
  {
   "cell_type": "markdown",
   "metadata": {},
   "source": [
    "need to add the correct behaviour for the condition of Sweep time, and for n=0"
   ]
  },
  {
   "cell_type": "code",
   "execution_count": 30,
   "metadata": {},
   "outputs": [],
   "source": [
    "a=sweepl(Pulses_List,20,20,50) #sweepl(PulList,N,n,t)"
   ]
  },
  {
   "cell_type": "markdown",
   "metadata": {},
   "source": [
    "to do: combine pulse list and sweep list into Sweept"
   ]
  },
  {
   "cell_type": "code",
   "execution_count": 31,
   "metadata": {},
   "outputs": [
    {
     "data": {
      "text/plain": [
       "Text(0.5, 1.0, 'Pulso Primitivo, Listas ')"
      ]
     },
     "execution_count": 31,
     "metadata": {},
     "output_type": "execute_result"
    },
    {
     "data": {
      "image/png": "[encoded data removed]",
      "text/plain": [
       "<Figure size 432x288 with 1 Axes>"
      ]
     },
     "metadata": {
      "needs_background": "light"
     },
     "output_type": "display_data"
    }
   ],
   "source": [
    "%matplotlib inline\n",
    "\n",
    "fig,ax= plt.subplots()\n",
    "\n",
    "\n",
    "\n",
    "ax.grid(True)\n",
    "plt.plot(trog,a)\n",
    "ax.set_ylabel('V')\n",
    "ax.set_xlabel('t')\n",
    "ax.set_title('Pulso Primitivo, Listas ')\n",
    "\n",
    "#fig.savefig('Pulse_sweep_t=20',optimize=True,bbox_inches='tight')"
   ]
  },
  {
   "cell_type": "code",
   "execution_count": null,
   "metadata": {},
   "outputs": [],
   "source": []
  },
  {
   "cell_type": "code",
   "execution_count": null,
   "metadata": {},
   "outputs": [],
   "source": [
    "def Sweept(PulList,N,n,time):\n",
    "    \"\"\"This function calculates an array of the pulse scheme given by the Dictionary List PulList, over the given time interval \"\"\"\n",
    "    \"\"\" it  uses the number of points N to calculate the time step of the sweeping, and gives the pulse scheme at time step n, n shold be smaller or        equal to N \"\"\"\n",
    "    pl1=np.zeros((len(PulList),len(time)))\n",
    "    for i in range(0,len(PulList)):\n",
    "        if PulList[i]['Sweep time'] == 0:\n",
    "            pl1[i]=np.array([ PulList[i]['Amplitude'] * (  PulList[i]['Start time'] <=  t <= PulList[i]['Start Duration'] + PulList[i]['Start time']) for t in time ])\n",
    "        if PulList[i]['Sweep time'] == 1:\n",
    "            dt=(PulList[i]['End time'] - PulList[i]['Start time'])/N\n",
    "            if n==0:\n",
    "                pl1[i]=np.array([ PulList[i]['Amplitude'] * (  PulList[i]['Start time'] <=  t <= PulList[i]['Start Duration'] + PulList[i]['Start time']) for t in time ])\n",
    "            else:\n",
    "                pl1[i]=np.array([ PulList[i]['Amplitude'] * (  n*dt <=  t <= PulList[i]['End Duration'] + n*dt) for t in time ])\n",
    "    y=np.zeros(len(pl1[0]))\n",
    "    for i in range(0,len(pl1)):\n",
    "        y += pl1[i]\n",
    "    return y"
   ]
  },
  {
   "cell_type": "code",
   "execution_count": null,
   "metadata": {},
   "outputs": [],
   "source": []
  },
  {
   "cell_type": "code",
   "execution_count": null,
   "metadata": {},
   "outputs": [],
   "source": []
  },
  {
   "cell_type": "code",
   "execution_count": 73,
   "metadata": {},
   "outputs": [],
   "source": [
    "f = np.zeros((len(Pulses_List3),len(trog))) \n",
    "for i in range(0,len(Pulses_List3)):\n",
    "    f[i]=[Pul(Pulses_List3,x) for x in trog]"
   ]
  },
  {
   "cell_type": "code",
   "execution_count": 81,
   "metadata": {},
   "outputs": [],
   "source": [
    "c=Pl(Pulses_List3,50);\n",
    "a=Pl(Pulses_List2,50);\n",
    "b=Pl(Pulses_List,50)"
   ]
  },
  {
   "cell_type": "code",
   "execution_count": null,
   "metadata": {},
   "outputs": [],
   "source": []
  },
  {
   "cell_type": "code",
   "execution_count": 84,
   "metadata": {},
   "outputs": [
    {
     "data": {
      "text/plain": [
       "Text(0.5, 1.0, 'Pulso Primitivo, Listas ')"
      ]
     },
     "execution_count": 84,
     "metadata": {},
     "output_type": "execute_result"
    },
    {
     "data": {
      "image/png": "[encoded data removed]",
      "text/plain": [
       "<Figure size 432x288 with 1 Axes>"
      ]
     },
     "metadata": {
      "needs_background": "light"
     },
     "output_type": "display_data"
    }
   ],
   "source": [
    "%matplotlib inline\n",
    "\n",
    "fig,ax= plt.subplots()\n",
    "\n",
    "\n",
    "\n",
    "ax.grid(True)\n",
    "plt.plot(trog,c)\n",
    "ax.set_ylabel('V')\n",
    "ax.set_xlabel('t')\n",
    "ax.set_title('Pulso Primitivo, Listas ')\n",
    "\n",
    "#fig.savefig('Pulse_sweep_t=20',optimize=True,bbox_inches='tight')"
   ]
  },
  {
   "cell_type": "code",
   "execution_count": null,
   "metadata": {},
   "outputs": [],
   "source": []
  },
  {
   "cell_type": "code",
   "execution_count": 66,
   "metadata": {},
   "outputs": [],
   "source": [
    "def sweep(N,Pulse,n,t):\n",
    "    \"\"\"description goes here\"\"\"\n",
    "    time=np.linspace(-1e-10,t,1000)\n",
    "    dt=(Pulse['End time'] - Pulse['Start time'])/N\n",
    "    if n==0:\n",
    "        pol=np.array([Pul(Pulse,x) for x in time])\n",
    "    else:\n",
    "        pol=np.array([ Pulse['Amplitude'] * (  n*dt <=  x <= Pulse['End Duration'] + n*dt) for x in time ])\n",
    "    return pol"
   ]
  },
  {
   "cell_type": "code",
   "execution_count": 57,
   "metadata": {},
   "outputs": [],
   "source": [
    "def sweep(N,Pulse,n,t):\n",
    "    \"\"\"description goes here\"\"\"\n",
    "    time=np.linspace(-1e-10,t,1000)\n",
    "    dt=(Pulse['End time'] - Pulse['Start time'])/N\n",
    "    if n==0:\n",
    "        pol=np.array([Pul(Pulse,x) for x in time])\n",
    "    else:\n",
    "        pol=np.array([ Pulse['Amplitude'] * (  n*dt <=  x <= Pulse['End Duration'] + n*dt) for x in time ])\n",
    "    return pol"
   ]
  },
  {
   "cell_type": "code",
   "execution_count": 57,
   "metadata": {},
   "outputs": [],
   "source": [
    "#new duration momos\n",
    "def sweep(N,Pulse,n,t):\n",
    "    \"\"\"description goes here\"\"\"\n",
    "    time=np.linspace(-1e-10,t,1000)\n",
    "    dt=(Pulse['End time'] - Pulse['Start time'])/N\n",
    "    new_start=n*dt\n",
    "    dτ=(Pulse['End Duration'] - Pulse['Start Duration'])/N\n",
    "    new_duration= n*dτ\n",
    "    if n==0:\n",
    "        pol=np.array([Pul(Pulse,x) for x in time])\n",
    "    else:\n",
    "        pol=np.array([ Pulse['Amplitude'] * (  new_start <=  x <= new_duration + new_start) for x in time ])\n",
    "    return pol"
   ]
  },
  {
   "cell_type": "code",
   "execution_count": 77,
   "metadata": {},
   "outputs": [],
   "source": [
    "def Pl(PulList,t):\n",
    "    \"\"\"Pulse generating function, directly from the specified information given by it's corresponding dictionary, stored in the list PulList,at a time interval given by time\"\"\"\n",
    "    time=np.linspace(-1e-10,t,1000)\n",
    "    pl=np.zeros((len(PulList),len(time))) \n",
    "    for i in range(0,len(PulList)):\n",
    "        pl[i]=[Pul(PulList[i],x) for x in time ]\n",
    "    y=np.zeros(len(pl[0]))\n",
    "    for i in range(0,len(pl)):\n",
    "        y += pl[i]\n",
    "    return y"
   ]
  },
  {
   "cell_type": "code",
   "execution_count": 77,
   "metadata": {},
   "outputs": [],
   "source": [
    "def Pl(PulList,t):\n",
    "    \"\"\"Pulse generating function, directly from the specified information given by it's corresponding dictionary, stored in the list PulList,at a time interval given by time\"\"\"\n",
    "    time=np.linspace(-1e-10,t,1000)\n",
    "    pl=np.zeros((len(PulList),len(time))) \n",
    "    for i in range(0,len(PulList)):\n",
    "        pl[i]=[Pul(PulList[i],x) for x in time ]\n",
    "    y=np.zeros(len(pl[0]))\n",
    "    for i in range(0,len(pl)):\n",
    "        y += pl[i]\n",
    "    return y"
   ]
  },
  {
   "cell_type": "markdown",
   "metadata": {},
   "source": [
    "1. Make seeping function work with intervals startinf in a  number $\\neq 0$\n",
    "2. Make that function work for $n=0$, combining it with Pul\n",
    "3. Modifie then that funciton to act on the pulse list given the condition of Sweep time"
   ]
  },
  {
   "cell_type": "code",
   "execution_count": null,
   "metadata": {},
   "outputs": [],
   "source": []
  }
 ],
 "metadata": {
  "@webio": {
   "lastCommId": null,
   "lastKernelId": null
  },
  "kernelspec": {
   "display_name": "Python 3",
   "language": "python",
   "name": "python3"
  },
  "language_info": {
   "codemirror_mode": {
    "name": "ipython",
    "version": 3
   },
   "file_extension": ".py",
   "mimetype": "text/x-python",
   "name": "python",
   "nbconvert_exporter": "python",
   "pygments_lexer": "ipython3",
   "version": "3.8.5"
  }
 },
 "nbformat": 4,
 "nbformat_minor": 4
}
