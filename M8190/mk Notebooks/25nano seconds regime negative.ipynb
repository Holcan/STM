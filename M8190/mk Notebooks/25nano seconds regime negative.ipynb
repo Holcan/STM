{
 "cells": [
  {
   "cell_type": "code",
   "execution_count": 1,
   "metadata": {},
   "outputs": [],
   "source": [
    "import numpy as np\n",
    "from numpy import loadtxt\n",
    "import pandas as pd\n",
    "import time\n",
    "import matplotlib\n",
    "import matplotlib.pyplot as plt\n",
    "import pyvisa as visa\n",
    "from matplotlib import animation\n",
    "from time import sleep\n",
    "from matplotlib.animation import FuncAnimation\n",
    "#Importing the functions from the module and the pulses dictionaries\n",
    "from Sweeping import *\n",
    "from Dictionaries import *\n",
    "from PulseFiles import *\n",
    "from Instrument import *\n",
    "import pyqtgraph as pg \n",
    "import nidaqmx\n",
    "import pickle"
   ]
  },
  {
   "cell_type": "markdown",
   "metadata": {},
   "source": [
    "# 25nano"
   ]
  },
  {
   "cell_type": "code",
   "execution_count": 2,
   "metadata": {},
   "outputs": [],
   "source": [
    "modulation = 93 #Hz\n",
    "loop_number = 32000    \n",
    "res = 1/2972160000\n",
    "\n",
    "sam, sr , segment_length = Adj9(res,modulation,loop_number)"
   ]
  },
  {
   "cell_type": "code",
   "execution_count": 3,
   "metadata": {},
   "outputs": [
    {
     "data": {
      "text/plain": [
       "528"
      ]
     },
     "execution_count": 3,
     "metadata": {},
     "output_type": "execute_result"
    }
   ],
   "source": [
    "sam"
   ]
  },
  {
   "cell_type": "code",
   "execution_count": 4,
   "metadata": {},
   "outputs": [
    {
     "data": {
      "text/plain": [
       "3142656000"
      ]
     },
     "execution_count": 4,
     "metadata": {},
     "output_type": "execute_result"
    }
   ],
   "source": [
    "sr"
   ]
  },
  {
   "cell_type": "code",
   "execution_count": 5,
   "metadata": {},
   "outputs": [
    {
     "data": {
      "text/plain": [
       "168.01075268817203"
      ]
     },
     "execution_count": 5,
     "metadata": {},
     "output_type": "execute_result"
    }
   ],
   "source": [
    "interval = segment_length*1e9 #nano\n",
    "interval"
   ]
  },
  {
   "cell_type": "markdown",
   "metadata": {},
   "source": [
    "# AWG and Pulse files setup"
   ]
  },
  {
   "cell_type": "code",
   "execution_count": 6,
   "metadata": {},
   "outputs": [],
   "source": [
    "AWG_Settings_25nano= {\n",
    "    'Visa Resource Name': 'TCPIP0::ibn3-036.ibn-net.kfa-juelich.de::hislip0::INSTR',\n",
    "    'Voltage Amplitude':150,\n",
    "    'Clock Sample Frecuency':3142656000,\n",
    "    'Output_Channel': 1,\n",
    "    'Mode': 'STS',\n",
    "    'Trigger In Threshold' : 1,\n",
    "    'Output Rout': 'DC', #DAC output rout only has the BNC outputs: Direct Out and (Averaged) Direct Out # DC\n",
    "    'Data Directory': r'D:\\Alejandro\\Pulses\\diode measurements\\Prepared Pulse Schemes CSV\\60,30\\neg\\25nano'\n",
    "}"
   ]
  },
  {
   "cell_type": "code",
   "execution_count": 7,
   "metadata": {},
   "outputs": [],
   "source": [
    "M8190A = VisaR(AWG_Settings_25nano,60000)"
   ]
  },
  {
   "cell_type": "code",
   "execution_count": 8,
   "metadata": {},
   "outputs": [
    {
     "data": {
      "text/plain": [
       "21"
      ]
     },
     "execution_count": 8,
     "metadata": {},
     "output_type": "execute_result"
    }
   ],
   "source": [
    "M8190A.write('FREQ:RAST {a}'.format(a = sr))"
   ]
  },
  {
   "cell_type": "code",
   "execution_count": 5,
   "metadata": {},
   "outputs": [
    {
     "name": "stdout",
     "output_type": "stream",
     "text": [
      "Instruments Sampling Frecuency set to 3.14265600000000E+09Hz\n",
      "Instruments Direct Out DC Output route Voltage set to 6.75000000000000E-01Volts\n",
      "AWG_Settings_Dict set to TRIGGERED Mode\n",
      "Trigger In threshold value set to 1.00000000000000E+00V\n"
     ]
    }
   ],
   "source": [
    "Initialization(M8190A,AWG_Settings_25nano)"
   ]
  },
  {
   "cell_type": "code",
   "execution_count": 9,
   "metadata": {},
   "outputs": [],
   "source": [
    "Pump_25nano = {\n",
    "    'Name':'Pump_25nano',\n",
    "    'Amplitude': -2*60,\n",
    "    'Start time':70,\n",
    "    'End time':2e-10,\n",
    "    'Start Duration':25,\n",
    "    'End Duration':60,\n",
    "    'Sweep time':0,\n",
    "    'Sweep Duration':0\n",
    "}"
   ]
  },
  {
   "cell_type": "code",
   "execution_count": 10,
   "metadata": {},
   "outputs": [],
   "source": [
    "ProbeA_25nano = {\n",
    "    'Name':'ProbeA_25nano',\n",
    "    'Amplitude':-2*30,\n",
    "    'Start time':20,\n",
    "    'End time':120,\n",
    "    'Start Duration':25,\n",
    "    'End Duration':60,\n",
    "    'Sweep time':1,\n",
    "    'Sweep Duration':0\n",
    "}"
   ]
  },
  {
   "cell_type": "code",
   "execution_count": 11,
   "metadata": {},
   "outputs": [],
   "source": [
    "ProbeB_25nano= {\n",
    "    'Name':'ProbeB_25nano',\n",
    "    'Amplitude':2*30,\n",
    "    'Start time':20,\n",
    "    'End time':120,\n",
    "    'Start Duration':25,\n",
    "    'End Duration':60,\n",
    "    'Sweep time':1,\n",
    "    'Sweep Duration':0\n",
    "}"
   ]
  },
  {
   "cell_type": "code",
   "execution_count": 13,
   "metadata": {},
   "outputs": [],
   "source": [
    "PulseScheme_A_25nano =  {\n",
    "    'Name' : 'PulseScheme_A_25nano',\n",
    "    'Pulse Scheme': [Pump_25nano,ProbeA_25nano],\n",
    "    'Number of repetitions': 1,\n",
    "    'Measurement file Path': r'D:\\Alejandro\\Pulses\\diode measurements\\Autocorrelation measurements\\60,30\\neg\\25nano'\n",
    "}"
   ]
  },
  {
   "cell_type": "code",
   "execution_count": 14,
   "metadata": {},
   "outputs": [],
   "source": [
    "PulseScheme_B_25nano =  {\n",
    "    'Name' : 'PulseScheme_B_25nano',\n",
    "    'Pulse Scheme': [Pump_25nano,ProbeB_25nano],\n",
    "    'Number of repetitions': 1,\n",
    "    'Measurement file Path': r'D:\\Alejandro\\Pulses\\diode measurements\\Autocorrelation measurements\\60,30\\neg\\25nano'\n",
    "}"
   ]
  },
  {
   "cell_type": "code",
   "execution_count": 88,
   "metadata": {},
   "outputs": [
    {
     "data": {
      "image/png": "[encoded data removed]",
      "text/plain": [
       "<Figure size 432x288 with 1 Axes>"
      ]
     },
     "metadata": {
      "needs_background": "light"
     },
     "output_type": "display_data"
    }
   ],
   "source": [
    "step = 50\n",
    "pul1 = Sweep_teil(PulseScheme_A_25nano,50,step,interval,sam)\n",
    "\n",
    "\n",
    "#Plot\n",
    "fig,ax= plt.subplots()\n",
    "ax.grid(True)\n",
    "\n",
    "plt.plot(pul1[1],pul1[0]/2,label= '{b} samples'.format(b = sam),color='red')\n",
    "\n",
    "ax.set_ylabel('V  [mV]')\n",
    "ax.set_xlabel(r't [ns]')\n",
    "ax.set_title('Cycle A at step {a}'.format(a = step )) #Voltage Offset = 3mV, Marker Ampl = 50mV \n",
    "#ax.legend(loc=0)\n",
    "#plt.legend(bbox_to_anchor=(2.05, 1), loc='upper left', borderaxespad=0.)\n",
    "plt.show()\n",
    "\n",
    "fig.savefig(r'{loc}\\Cycle A, Probe width 25nano {mod} Hz ,{a} step, {loop}loop number.jpeg'.format(loc = PulseScheme_A_25nano['Measurement file Path'], a = step,mod = modulation, loop = loop_number))"
   ]
  },
  {
   "cell_type": "code",
   "execution_count": 42,
   "metadata": {},
   "outputs": [
    {
     "data": {
      "image/png": "[encoded data removed]",
      "text/plain": [
       "<Figure size 432x288 with 1 Axes>"
      ]
     },
     "metadata": {
      "needs_background": "light"
     },
     "output_type": "display_data"
    }
   ],
   "source": [
    "step = 70\n",
    "pul1 = Sweep_teil(PulseScheme_A_25nano,70,step,interval,sam)\n",
    "\n",
    "\n",
    "#Plot\n",
    "fig,ax= plt.subplots()\n",
    "ax.grid(True)\n",
    "\n",
    "plt.plot(pul1[1],pul1[0]/2,label= '{b} samples'.format(b = sam),color='red')\n",
    "\n",
    "ax.set_ylabel('V  [mV]')\n",
    "ax.set_xlabel(r't [ns]')\n",
    "ax.set_title('Cycle A at step {a}'.format(a = step )) #Voltage Offset = 3mV, Marker Ampl = 50mV \n",
    "#ax.legend(loc=0)\n",
    "#plt.legend(bbox_to_anchor=(2.05, 1), loc='upper left', borderaxespad=0.)\n",
    "plt.show()\n",
    "\n",
    "fig.savefig(r'{loc}\\Cycle A, Probe width 25nano {mod} Hz ,{a} step, {loop}loop number.jpeg'.format(loc = PulseScheme_A_25nano['Measurement file Path'], a = step,mod = modulation, loop = loop_number))"
   ]
  },
  {
   "cell_type": "code",
   "execution_count": 43,
   "metadata": {},
   "outputs": [
    {
     "data": {
      "image/png": "[encoded data removed]",
      "text/plain": [
       "<Figure size 432x288 with 1 Axes>"
      ]
     },
     "metadata": {
      "needs_background": "light"
     },
     "output_type": "display_data"
    }
   ],
   "source": [
    "step = 0\n",
    "pul1 = Sweep_teil(PulseScheme_B_25nano,70,step,interval,sam)\n",
    "\n",
    "\n",
    "#Plot\n",
    "fig,ax= plt.subplots()\n",
    "ax.grid(True)\n",
    "\n",
    "plt.plot(pul1[1],pul1[0]/2,label= '{b} samples'.format(b = sam),color='red')\n",
    "\n",
    "ax.set_ylabel('V  [mV]')\n",
    "ax.set_xlabel(r't [ns]')\n",
    "ax.set_title('Cycle B at step {a}'.format(a = step )) #Voltage Offset = 3mV, Marker Ampl = 50mV \n",
    "#ax.legend(loc=0)\n",
    "#plt.legend(bbox_to_anchor=(2.05, 1), loc='upper left', borderaxespad=0.)\n",
    "plt.show()\n",
    "\n",
    "fig.savefig(r'{loc}\\Cycle B, Probe width 25nano {mod} Hz ,{a} step, {loop}loop number.jpeg'.format(loc = PulseScheme_A_25nano['Measurement file Path'], a = step,mod = modulation, loop = loop_number))"
   ]
  },
  {
   "cell_type": "code",
   "execution_count": 44,
   "metadata": {},
   "outputs": [
    {
     "data": {
      "image/png": "[encoded data removed]",
      "text/plain": [
       "<Figure size 432x288 with 1 Axes>"
      ]
     },
     "metadata": {
      "needs_background": "light"
     },
     "output_type": "display_data"
    }
   ],
   "source": [
    "step = 70\n",
    "pul1 = Sweep_teil(PulseScheme_B_25nano,70,step,interval,sam)\n",
    "\n",
    "\n",
    "#Plot\n",
    "fig,ax= plt.subplots()\n",
    "ax.grid(True)\n",
    "\n",
    "plt.plot(pul1[1],pul1[0]/2,label= '{b} samples'.format(b = sam),color='red')\n",
    "\n",
    "ax.set_ylabel('V  [mV]')\n",
    "ax.set_xlabel(r't [ns]')\n",
    "ax.set_title('Cycle B at step {a}'.format(a = step )) #Voltage Offset = 3mV, Marker Ampl = 50mV \n",
    "#ax.legend(loc=0)\n",
    "#plt.legend(bbox_to_anchor=(2.05, 1), loc='upper left', borderaxespad=0.)\n",
    "plt.show()\n",
    "\n",
    "fig.savefig(r'{loc}\\Cycle B, Probe width 25nano {mod} Hz ,{a} step, {loop}loop number.jpeg'.format(loc = PulseScheme_A_25nano['Measurement file Path'], a = step,mod = modulation, loop = loop_number))"
   ]
  },
  {
   "cell_type": "code",
   "execution_count": 89,
   "metadata": {},
   "outputs": [],
   "source": [
    "sweeping_run_a_25nano = Sweeping_Single_List_File_teil(PulseScheme_A_25nano,50,interval,sam,0,50,AWG_Settings_25nano,'A')[0]\n",
    "sweeping_run_b_25nano = Sweeping_Single_List_File_teil(PulseScheme_B_25nano,50,interval,sam,0,50,AWG_Settings_25nano,'B')[0]"
   ]
  },
  {
   "cell_type": "code",
   "execution_count": 90,
   "metadata": {},
   "outputs": [],
   "source": []
  },
  {
   "cell_type": "code",
   "execution_count": 19,
   "metadata": {},
   "outputs": [],
   "source": [
    "#Exporting pickle\n",
    "\n",
    "with open(r\"{dict}\\cycleA_71steps_93Hz_25nano_.p\".format(dict = PulseScheme_A_25nano['Measurement file Path']), \"wb\") as k:\n",
    "    pickle.dump(sweeping_run_a_25nano, k)\n",
    "\n",
    "\n",
    "with open(r\"{dict}\\cycleB_71steps_93Hz_25nano_.p\".format(dict = PulseScheme_B_25nano['Measurement file Path']), \"wb\") as h:\n",
    "    pickle.dump(sweeping_run_b_25nano, h)"
   ]
  },
  {
   "cell_type": "code",
   "execution_count": 16,
   "metadata": {},
   "outputs": [],
   "source": [
    "#Importing Pickle\n",
    "\n",
    "with open(r\"{dict}\\cycleA_71steps_93Hz_25nano_.p\".format(dict = PulseScheme_A_25nano['Measurement file Path']), \"rb\") as j:\n",
    "    sweeping_runa_25nano = pickle.load(j)\n",
    "\n",
    "with open(r\"{dict}\\cycleA_71steps_93Hz_25nano_.p\".format(dict = PulseScheme_A_25nano['Measurement file Path']), \"rb\") as f:\n",
    "    sweeping_runb_25nano= pickle.load(f)"
   ]
  },
  {
   "cell_type": "code",
   "execution_count": null,
   "metadata": {},
   "outputs": [
    {
     "data": {
      "text/plain": [
       "'D:\\\\Alejandro\\\\Pulses\\\\diode measurements\\\\Prepared Pulse Schemes CSV\\\\50,20\\\\100nano\\\\SegmentA_4128_30.csv'"
      ]
     },
     "metadata": {},
     "output_type": "display_data"
    }
   ],
   "source": [
    "sweeping_runa_100nano['Pulse File Location, at step 30']"
   ]
  },
  {
   "cell_type": "code",
   "execution_count": null,
   "metadata": {},
   "outputs": [
    {
     "data": {
      "text/plain": [
       "8000"
      ]
     },
     "metadata": {},
     "output_type": "display_data"
    }
   ],
   "source": [
    "loop_100nano"
   ]
  },
  {
   "cell_type": "code",
   "execution_count": 18,
   "metadata": {
    "scrolled": true
   },
   "outputs": [
    {
     "name": "stdout",
     "output_type": "stream",
     "text": [
      "Sequence loaded with the following segment data \"1,32000,0,1,0,527,2,32000,0,1,0,527\" and the advancement method is COND\n"
     ]
    },
    {
     "data": {
      "text/plain": [
       "2"
      ]
     },
     "execution_count": 18,
     "metadata": {},
     "output_type": "execute_result"
    }
   ],
   "source": [
    "Sequence_File(M8190A,sweeping_runa_25nano['Pulse File Location, at step 70'],sweeping_runb_25nano['Pulse File Location, at step 70'],loop_number)"
   ]
  },
  {
   "cell_type": "code",
   "execution_count": null,
   "metadata": {},
   "outputs": [],
   "source": []
  },
  {
   "cell_type": "markdown",
   "metadata": {},
   "source": [
    "# Loading"
   ]
  },
  {
   "cell_type": "code",
   "execution_count": 91,
   "metadata": {
    "scrolled": true
   },
   "outputs": [
    {
     "data": {
      "text/plain": [
       "12"
      ]
     },
     "execution_count": 91,
     "metadata": {},
     "output_type": "execute_result"
    }
   ],
   "source": [
    "M8190A.write('SEQ:DEL:ALL')"
   ]
  },
  {
   "cell_type": "code",
   "execution_count": null,
   "metadata": {
    "scrolled": false
   },
   "outputs": [
    {
     "name": "stdout",
     "output_type": "stream",
     "text": [
      "Dummy File Loaded and playing\n",
      "Dummy File stopped and erased from AWGs memmory\n"
     ]
    }
   ],
   "source": [
    "Dummy_File(M8190A)"
   ]
  },
  {
   "cell_type": "code",
   "execution_count": 92,
   "metadata": {},
   "outputs": [],
   "source": [
    "Lock_In_Settings = {\n",
    "'Time Constant' : '100ms',\n",
    "'Sensitivity' : '200 miliVolts',\n",
    "'Reserve' : 'Normal',\n",
    "'db' : 24,\n",
    "'Modulation': r'{mod}Hz'.format(mod=modulation)\n",
    "}"
   ]
  },
  {
   "cell_type": "code",
   "execution_count": 52,
   "metadata": {},
   "outputs": [
    {
     "data": {
      "text/plain": [
       "32000"
      ]
     },
     "execution_count": 52,
     "metadata": {},
     "output_type": "execute_result"
    }
   ],
   "source": [
    "loop_number"
   ]
  },
  {
   "cell_type": "code",
   "execution_count": 93,
   "metadata": {},
   "outputs": [
    {
     "name": "stdout",
     "output_type": "stream",
     "text": [
      "Sequence loaded with the following segment data \"1,32000,0,1,0,527,2,32000,0,1,0,527\" and the advancement method is COND\n",
      "Average Value for measurement at step 0 is 1.951058383612642 V\n",
      "Sequence loaded with the following segment data \"1,32000,0,1,0,527,2,32000,0,1,0,527\" and the advancement method is COND\n",
      "Average Value for measurement at step 1 is 1.9298866138650945 V\n",
      "Sequence loaded with the following segment data \"1,32000,0,1,0,527,2,32000,0,1,0,527\" and the advancement method is COND\n",
      "Average Value for measurement at step 2 is 1.9298902315253301 V\n",
      "Sequence loaded with the following segment data \"1,32000,0,1,0,527,2,32000,0,1,0,527\" and the advancement method is COND\n",
      "Average Value for measurement at step 3 is 1.929921568919895 V\n",
      "Sequence loaded with the following segment data \"1,32000,0,1,0,527,2,32000,0,1,0,527\" and the advancement method is COND\n",
      "Average Value for measurement at step 4 is 1.9515070204851783 V\n",
      "Sequence loaded with the following segment data \"1,32000,0,1,0,527,2,32000,0,1,0,527\" and the advancement method is COND\n",
      "Average Value for measurement at step 5 is 1.9299251865801363 V\n",
      "Sequence loaded with the following segment data \"1,32000,0,1,0,527,2,32000,0,1,0,527\" and the advancement method is COND\n",
      "Average Value for measurement at step 6 is 1.929945905906976 V\n",
      "Sequence loaded with the following segment data \"1,32000,0,1,0,527,2,32000,0,1,0,527\" and the advancement method is COND\n",
      "Average Value for measurement at step 7 is 1.9507649302767893 V\n",
      "Sequence loaded with the following segment data \"1,32000,0,1,0,527,2,32000,0,1,0,527\" and the advancement method is COND\n",
      "Average Value for measurement at step 8 is 1.9503797199184947 V\n",
      "Sequence loaded with the following segment data \"1,32000,0,1,0,527,2,32000,0,1,0,527\" and the advancement method is COND\n",
      "Average Value for measurement at step 9 is 1.9272325667678578 V\n",
      "Sequence loaded with the following segment data \"1,32000,0,1,0,527,2,32000,0,1,0,527\" and the advancement method is COND\n",
      "Average Value for measurement at step 10 is 1.926565554792048 V\n",
      "Sequence loaded with the following segment data \"1,32000,0,1,0,527,2,32000,0,1,0,527\" and the advancement method is COND\n",
      "Average Value for measurement at step 11 is 1.9478353770844588 V\n",
      "Sequence loaded with the following segment data \"1,32000,0,1,0,527,2,32000,0,1,0,527\" and the advancement method is COND\n",
      "Average Value for measurement at step 12 is 1.9237590021936448 V\n",
      "Sequence loaded with the following segment data \"1,32000,0,1,0,527,2,32000,0,1,0,527\" and the advancement method is COND\n",
      "Average Value for measurement at step 13 is 1.8632414237155677 V\n",
      "Sequence loaded with the following segment data \"1,32000,0,1,0,527,2,32000,0,1,0,527\" and the advancement method is COND\n",
      "Average Value for measurement at step 14 is 1.7432122801022545 V\n",
      "Sequence loaded with the following segment data \"1,32000,0,1,0,527,2,32000,0,1,0,527\" and the advancement method is COND\n",
      "Average Value for measurement at step 15 is 1.6242229832289747 V\n",
      "Sequence loaded with the following segment data \"1,32000,0,1,0,527,2,32000,0,1,0,527\" and the advancement method is COND\n",
      "Average Value for measurement at step 16 is 1.4786079918071502 V\n",
      "Sequence loaded with the following segment data \"1,32000,0,1,0,527,2,32000,0,1,0,527\" and the advancement method is COND\n",
      "Average Value for measurement at step 17 is 1.3509136863895301 V\n",
      "Sequence loaded with the following segment data \"1,32000,0,1,0,527,2,32000,0,1,0,527\" and the advancement method is COND\n",
      "Average Value for measurement at step 18 is 1.2235892563530517 V\n",
      "Sequence loaded with the following segment data \"1,32000,0,1,0,527,2,32000,0,1,0,527\" and the advancement method is COND\n",
      "Average Value for measurement at step 19 is 1.0903447265392565 V\n",
      "Sequence loaded with the following segment data \"1,32000,0,1,0,527,2,32000,0,1,0,527\" and the advancement method is COND\n",
      "Average Value for measurement at step 20 is 0.9311628227119623 V\n",
      "Sequence loaded with the following segment data \"1,32000,0,1,0,527,2,32000,0,1,0,527\" and the advancement method is COND\n",
      "Average Value for measurement at step 21 is 0.7901317092397289 V\n",
      "Sequence loaded with the following segment data \"1,32000,0,1,0,527,2,32000,0,1,0,527\" and the advancement method is COND\n",
      "Average Value for measurement at step 22 is 0.6506237506197392 V\n",
      "Sequence loaded with the following segment data \"1,32000,0,1,0,527,2,32000,0,1,0,527\" and the advancement method is COND\n",
      "Average Value for measurement at step 23 is 0.47702156870214757 V\n",
      "Sequence loaded with the following segment data \"1,32000,0,1,0,527,2,32000,0,1,0,527\" and the advancement method is COND\n",
      "Average Value for measurement at step 24 is 0.3277371796861839 V\n",
      "Sequence loaded with the following segment data \"1,32000,0,1,0,527,2,32000,0,1,0,527\" and the advancement method is COND\n",
      "Average Value for measurement at step 25 is 0.1818633224178391 V\n",
      "Sequence loaded with the following segment data \"1,32000,0,1,0,527,2,32000,0,1,0,527\" and the advancement method is COND\n",
      "Average Value for measurement at step 26 is 0.33731756439317323 V\n",
      "Sequence loaded with the following segment data \"1,32000,0,1,0,527,2,32000,0,1,0,527\" and the advancement method is COND\n",
      "Average Value for measurement at step 27 is 0.47531760793451033 V\n",
      "Sequence loaded with the following segment data \"1,32000,0,1,0,527,2,32000,0,1,0,527\" and the advancement method is COND\n",
      "Average Value for measurement at step 28 is 0.6128953977315739 V\n",
      "Sequence loaded with the following segment data \"1,32000,0,1,0,527,2,32000,0,1,0,527\" and the advancement method is COND\n",
      "Average Value for measurement at step 29 is 0.7755759653816678 V\n",
      "Sequence loaded with the following segment data \"1,32000,0,1,0,527,2,32000,0,1,0,527\" and the advancement method is COND\n",
      "Average Value for measurement at step 30 is 0.9073658971153062 V\n",
      "Sequence loaded with the following segment data \"1,32000,0,1,0,527,2,32000,0,1,0,527\" and the advancement method is COND\n",
      "Average Value for measurement at step 31 is 1.0359298005437676 V\n",
      "Sequence loaded with the following segment data \"1,32000,0,1,0,527,2,32000,0,1,0,527\" and the advancement method is COND\n",
      "Average Value for measurement at step 32 is 1.1619953403051826 V\n",
      "Sequence loaded with the following segment data \"1,32000,0,1,0,527,2,32000,0,1,0,527\" and the advancement method is COND\n",
      "Average Value for measurement at step 33 is 1.3085874860821682 V\n",
      "Sequence loaded with the following segment data \"1,32000,0,1,0,527,2,32000,0,1,0,527\" and the advancement method is COND\n",
      "Average Value for measurement at step 34 is 1.4272658294980243 V\n",
      "Sequence loaded with the following segment data \"1,32000,0,1,0,527,2,32000,0,1,0,527\" and the advancement method is COND\n",
      "Average Value for measurement at step 35 is 1.5456080851238252 V\n",
      "Sequence loaded with the following segment data \"1,32000,0,1,0,527,2,32000,0,1,0,527\" and the advancement method is COND\n",
      "Average Value for measurement at step 36 is 1.658468956885077 V\n",
      "Sequence loaded with the following segment data \"1,32000,0,1,0,527,2,32000,0,1,0,527\" and the advancement method is COND\n",
      "Average Value for measurement at step 37 is 1.7892612740884832 V\n",
      "Sequence loaded with the following segment data \"1,32000,0,1,0,527,2,32000,0,1,0,527\" and the advancement method is COND\n",
      "Average Value for measurement at step 38 is 1.834922431022235 V\n",
      "Sequence loaded with the following segment data \"1,32000,0,1,0,527,2,32000,0,1,0,527\" and the advancement method is COND\n",
      "Average Value for measurement at step 39 is 1.8484531356356253 V\n",
      "Sequence loaded with the following segment data \"1,32000,0,1,0,527,2,32000,0,1,0,527\" and the advancement method is COND\n",
      "Average Value for measurement at step 40 is 1.8771094641437402 V\n",
      "Sequence loaded with the following segment data \"1,32000,0,1,0,527,2,32000,0,1,0,527\" and the advancement method is COND\n",
      "Average Value for measurement at step 41 is 1.8822273252743538 V\n",
      "Sequence loaded with the following segment data \"1,32000,0,1,0,527,2,32000,0,1,0,527\" and the advancement method is COND\n",
      "Average Value for measurement at step 42 is 1.8665020157571806 V\n",
      "Sequence loaded with the following segment data \"1,32000,0,1,0,527,2,32000,0,1,0,527\" and the advancement method is COND\n",
      "Average Value for measurement at step 43 is 1.8699985074286731 V\n",
      "Sequence loaded with the following segment data \"1,32000,0,1,0,527,2,32000,0,1,0,527\" and the advancement method is COND\n",
      "Average Value for measurement at step 44 is 1.8941671064878036 V\n",
      "Sequence loaded with the following segment data \"1,32000,0,1,0,527,2,32000,0,1,0,527\" and the advancement method is COND\n",
      "Average Value for measurement at step 45 is 1.876722468505289 V\n",
      "Sequence loaded with the following segment data \"1,32000,0,1,0,527,2,32000,0,1,0,527\" and the advancement method is COND\n",
      "Average Value for measurement at step 46 is 1.8792248085252867 V\n",
      "Sequence loaded with the following segment data \"1,32000,0,1,0,527,2,32000,0,1,0,527\" and the advancement method is COND\n",
      "Average Value for measurement at step 47 is 1.9014647723987546 V\n",
      "Sequence loaded with the following segment data \"1,32000,0,1,0,527,2,32000,0,1,0,527\" and the advancement method is COND\n",
      "Average Value for measurement at step 48 is 1.9049983805734019 V\n",
      "Sequence loaded with the following segment data \"1,32000,0,1,0,527,2,32000,0,1,0,527\" and the advancement method is COND\n",
      "Average Value for measurement at step 49 is 1.8847797957519974 V\n",
      "Sequence loaded with the following segment data \"1,32000,0,1,0,527,2,32000,0,1,0,527\" and the advancement method is COND\n",
      "Average Value for measurement at step 50 is 1.8870746606672895 V\n"
     ]
    }
   ],
   "source": [
    "playingtime = 7\n",
    "\n",
    "data, averaged_data = Voltage_Autocorrelation_loop_cut(M8190A,DAQ_Settings1,playingtime,sweeping_run_a_25nano,sweeping_run_b_25nano,PulseScheme_A_25nano['Measurement file Path'],Lock_In_Settings,loop_number,2)"
   ]
  },
  {
   "cell_type": "code",
   "execution_count": 94,
   "metadata": {},
   "outputs": [
    {
     "data": {
      "image/png": "[encoded data removed]",
      "text/plain": [
       "<Figure size 432x288 with 1 Axes>"
      ]
     },
     "metadata": {
      "needs_background": "light"
     },
     "output_type": "display_data"
    }
   ],
   "source": [
    "fig,ax= plt.subplots()\n",
    "ax.grid(True)\n",
    "for i in range(0,len(data)):\n",
    "    plt.plot(data[i][1],data[i][0],label= 'Step {st}'.format(st = i ))\n",
    "\n",
    "ax.set_ylabel(r'STM signal  [arb. Units]')\n",
    "ax.set_xlabel('t  [s]')\n",
    "ax.set_title(r' STM Signal at Different Steps,{b} Samples, 25ns probe duration'.format(b = len(data[0][1]) ))\n",
    "#ax.legend(bbox_to_anchor=(1.05, 1), loc='upper left', borderaxespad=0.)\n",
    "#ax.legend(loc=0)\n",
    "plt.show()\n",
    "\n",
    "fig.savefig(r'{loc}\\STM Signal time cstant = {a}, sensitivity {b},{c} daqseconds, , probe duration 25nano ,{st} steps, {mod} Hz.jpeg'.format(mod = modulation ,loc = PulseScheme_A_25nano['Measurement file Path'],a = Lock_In_Settings['Time Constant'], b = Lock_In_Settings['Sensitivity'], c = playingtime, st = len (sweeping_run_a_25nano)),bbox_inches='tight')"
   ]
  },
  {
   "cell_type": "code",
   "execution_count": 99,
   "metadata": {},
   "outputs": [],
   "source": [
    "time_delay = np.linspace(-50,50,51)"
   ]
  },
  {
   "cell_type": "code",
   "execution_count": null,
   "metadata": {},
   "outputs": [],
   "source": [
    "%matplotlib widget"
   ]
  },
  {
   "cell_type": "code",
   "execution_count": 26,
   "metadata": {},
   "outputs": [],
   "source": [
    "%matplotlib inline"
   ]
  },
  {
   "cell_type": "code",
   "execution_count": 100,
   "metadata": {},
   "outputs": [
    {
     "data": {
      "image/png": "[encoded data removed]",
      "text/plain": [
       "<Figure size 432x288 with 1 Axes>"
      ]
     },
     "metadata": {
      "needs_background": "light"
     },
     "output_type": "display_data"
    }
   ],
   "source": [
    "#change this to V regime\n",
    "fig,axes = plt.subplots()\n",
    "\n",
    "axes.grid(True)\n",
    "\n",
    "plt.plot(time_delay,averaged_data,label=r'25ns Probe Width ',color='black')\n",
    "#plt.plot(tm,pul,label = '{a} samples'.format(a = len(pul)))\n",
    "\n",
    "axes.set_xlabel(r'time delay [ns]')\n",
    "axes.set_ylabel(r'STM Signal [arb Units]')\n",
    "axes.set_title(r'Auto-Correlation {st} steps '.format(st = len (time_delay)))\n",
    "\n",
    "axes.legend(loc = 0)\n",
    "plt.show()\n",
    "\n",
    "fig.savefig(r'{loc}\\Measured Autocorrelation function {st} steps 25nano {mod} Hz length tc = {a}, sens {b}, {c}s DAQ, {loop} loop number .jpeg'.format(loc = PulseScheme_A_25nano['Measurement file Path'],a = Lock_In_Settings['Time Constant'], b = Lock_In_Settings['Sensitivity'], c = playingtime, loop =loop_number,st = len (time_delay), mod = modulation ))"
   ]
  },
  {
   "cell_type": "code",
   "execution_count": null,
   "metadata": {},
   "outputs": [],
   "source": [
    "background_25n = Signal_to_Background(averaged_data,time_delay,8,8)\n",
    "background_25n"
   ]
  },
  {
   "cell_type": "code",
   "execution_count": 110,
   "metadata": {},
   "outputs": [],
   "source": [
    "#change this to V regime\n",
    "fig,axes = plt.subplots()\n",
    "\n",
    "axes.grid(True)\n",
    "\n",
    "plt.plot(time_delay,background_25n[0]-1,'.-',label=r'25ns Pulse Width ',color='black')\n",
    "#plt.plot(tm,pul,label = '{a} samples'.format(a = len(pul)))\n",
    "\n",
    "axes.set_xlabel(r'time delay [ns]')\n",
    "axes.set_ylabel(r'STM Signal [arb Units]')\n",
    "axes.set_title(r'Auto-Correlation {st} steps '.format(st = len (time_delay)))\n",
    "\n",
    "axes.legend(loc = 0)\n",
    "plt.show()\n",
    "\n",
    "fig.savefig(r'{loc}\\Autocorrelation function {st} steps 25nano {mod} Hz length tc = {a}, sens {b}, {c}s DAQ, {loop} loop number .jpeg'.format(loc = PulseScheme_A_25nano['Measurement file Path'],a = Lock_In_Settings['Time Constant'], b = Lock_In_Settings['Sensitivity'], c = playingtime, loop =loop_number,st = len (time_delay), mod = modulation ))"
   ]
  },
  {
   "cell_type": "code",
   "execution_count": 111,
   "metadata": {},
   "outputs": [],
   "source": [
    "norm_25n=(background_25n[0]-1)/(np.amax(background_25n[0]-1))\n",
    "np.savetxt(r'Averaged\\Signal to background\\Normalized autocorrelation 25nano.csv',norm_25n,delimiter=',')\n",
    "\n",
    "\n",
    "fig,axes = plt.subplots()\n",
    "\n",
    "axes.grid(True)\n",
    "\n",
    "plt.plot(time_delay,norm_25n,'.-',label=r'25ns Pulse Width ',color='black')\n",
    "#plt.plot(tm,pul,label = '{a} samples'.format(a = len(pul)))\n",
    "\n",
    "axes.set_xlabel(r'time delay [ns]')\n",
    "axes.set_ylabel(r'STM Signal [arb. units]')\n",
    "axes.set_title(r'Auto-Correlation {st} steps '.format(st = len (time_delay)))\n",
    "\n",
    "axes.legend(loc = 0)\n",
    "plt.show()\n",
    "\n",
    "fig.savefig(r'{loc}\\Normalized Autocorrelation function {st} steps 25nano {mod} Hz length tc = {a}, sens {b}, {c}s DAQ, {loop} loop number .jpeg'.format(loc = PulseScheme_A_25nano['Measurement file Path'],a = Lock_In_Settings['Time Constant'], b = Lock_In_Settings['Sensitivity'], c = playingtime, loop =loop_number,st = len (time_delay), mod = modulation ))"
   ]
  },
  {
   "cell_type": "code",
   "execution_count": null,
   "metadata": {},
   "outputs": [],
   "source": []
  },
  {
   "cell_type": "code",
   "execution_count": null,
   "metadata": {},
   "outputs": [],
   "source": []
  },
  {
   "cell_type": "code",
   "execution_count": null,
   "metadata": {},
   "outputs": [],
   "source": []
  },
  {
   "cell_type": "code",
   "execution_count": null,
   "metadata": {},
   "outputs": [],
   "source": []
  },
  {
   "cell_type": "code",
   "execution_count": 113,
   "metadata": {},
   "outputs": [
    {
     "data": {
      "image/png": "[encoded data removed]",
      "text/plain": [
       "<Figure size 432x288 with 1 Axes>"
      ]
     },
     "metadata": {
      "needs_background": "light"
     },
     "output_type": "display_data"
    }
   ],
   "source": [
    "#change this to V regime\n",
    "fig,axes = plt.subplots()\n",
    "\n",
    "axes.grid(True)\n",
    "\n",
    "plt.plot(time_delay,pasted,label=r'25 ns Probe Width ',color='black')\n",
    "#plt.plot(tm,pul,label = '{a} samples'.format(a = len(pul)))\n",
    "\n",
    "axes.set_xlabel(r'time delay [ns]')\n",
    "axes.set_ylabel(r'Diode Signal [V]')\n",
    "axes.set_title('Auto-Correlation 71 steps ')\n",
    "\n",
    "axes.legend(loc = 0)\n",
    "plt.show()\n",
    "\n",
    "fig.savefig(r'{loc}\\Autocorrelation function 31 steps 100nano 93Hz length tc = {a}, sens {b}, {c}s DAQ pasted.jpeg'.format(loc = PulseScheme_A_25nano['Measurement file Path'],a = Lock_In_Settings['Time Constant'], b = Lock_In_Settings['Sensitivity'], c = playingtime ))"
   ]
  },
  {
   "cell_type": "code",
   "execution_count": null,
   "metadata": {},
   "outputs": [],
   "source": []
  }
 ],
 "metadata": {
  "interpreter": {
   "hash": "9a32f0bf53af15acd232504180dc0ef28b8a6ac1a49da0a6c374e1f45bb445b6"
  },
  "kernelspec": {
   "display_name": "Python 3.8.5 64-bit ('base': conda)",
   "name": "python3"
  },
  "language_info": {
   "codemirror_mode": {
    "name": "ipython",
    "version": 3
   },
   "file_extension": ".py",
   "mimetype": "text/x-python",
   "name": "python",
   "nbconvert_exporter": "python",
   "pygments_lexer": "ipython3",
   "version": "3.8.5"
  },
  "orig_nbformat": 4
 },
 "nbformat": 4,
 "nbformat_minor": 2
}
