{
 "cells": [
  {
   "cell_type": "code",
   "execution_count": 1,
   "source": [
    "import numpy as np\r\n",
    "from numpy import loadtxt\r\n",
    "import pandas as pd\r\n",
    "import time\r\n",
    "import matplotlib\r\n",
    "import matplotlib.pyplot as plt\r\n",
    "import pyvisa as visa\r\n",
    "from matplotlib import animation\r\n",
    "from time import sleep\r\n",
    "from matplotlib.animation import FuncAnimation\r\n",
    "#Importing the functions from the module and the pulses dictionaries\r\n",
    "from Sweeping import *\r\n",
    "from Dictionaries import *\r\n",
    "from PulseFiles import *\r\n",
    "from Instrument import *\r\n",
    "import pyqtgraph as pg \r\n",
    "import nidaqmx\r\n",
    "import pickle"
   ],
   "outputs": [],
   "metadata": {}
  },
  {
   "cell_type": "markdown",
   "source": [
    "# 10 micro"
   ],
   "metadata": {}
  },
  {
   "cell_type": "code",
   "execution_count": null,
   "source": [],
   "outputs": [],
   "metadata": {}
  },
  {
   "cell_type": "code",
   "execution_count": 2,
   "source": [
    "modulation = 93 #Hz\r\n",
    "loop_number = 75    \r\n",
    "res = 1/3002832000\r\n",
    "\r\n",
    "sam, sr , cycle_length = Adj9(res,modulation,loop_number)"
   ],
   "outputs": [],
   "metadata": {}
  },
  {
   "cell_type": "code",
   "execution_count": 3,
   "source": [
    "sam"
   ],
   "outputs": [
    {
     "output_type": "execute_result",
     "data": {
      "text/plain": [
       "215280"
      ]
     },
     "metadata": {},
     "execution_count": 3
    }
   ],
   "metadata": {}
  },
  {
   "cell_type": "code",
   "execution_count": 4,
   "source": [
    "sr"
   ],
   "outputs": [
    {
     "output_type": "execute_result",
     "data": {
      "text/plain": [
       "3003156000"
      ]
     },
     "metadata": {},
     "execution_count": 4
    }
   ],
   "metadata": {}
  },
  {
   "cell_type": "code",
   "execution_count": 5,
   "source": [
    "interval = cycle_length*1e6 #micro\r\n",
    "interval"
   ],
   "outputs": [
    {
     "output_type": "execute_result",
     "data": {
      "text/plain": [
       "71.68458781362007"
      ]
     },
     "metadata": {},
     "execution_count": 5
    }
   ],
   "metadata": {}
  },
  {
   "cell_type": "markdown",
   "source": [
    "# AWG and Pulse files setup"
   ],
   "metadata": {}
  },
  {
   "cell_type": "code",
   "execution_count": 2,
   "source": [
    "AWG_Settings_10micro= {\r\n",
    "    'Visa Resource Name': 'TCPIP0::ibn3-036.ibn-net.kfa-juelich.de::hislip0::INSTR',\r\n",
    "    'Voltage Amplitude':150,\r\n",
    "    'Clock Sample Frecuency':3003156000,\r\n",
    "    'Output_Channel': 1,\r\n",
    "    'Mode': 'STS',\r\n",
    "    'Trigger In Threshold' : 1,\r\n",
    "    'Output Rout': 'DC', #DAC output rout only has the BNC outputs: Direct Out and (Averaged) Direct Out # DC\r\n",
    "    'Data Directory': r'D:\\Alejandro\\Pulses\\diode measurements\\Prepared Pulse Schemes CSV\\60,30\\neg\\10micro'\r\n",
    "}"
   ],
   "outputs": [],
   "metadata": {}
  },
  {
   "cell_type": "code",
   "execution_count": null,
   "source": [
    "M8190A = VisaR(AWG_Settings_10micro,60000)"
   ],
   "outputs": [],
   "metadata": {}
  },
  {
   "cell_type": "code",
   "execution_count": null,
   "source": [
    "M8190A.write('FREQ:RAST sr')"
   ],
   "outputs": [
    {
     "output_type": "display_data",
     "data": {
      "text/plain": [
       "21"
      ]
     },
     "metadata": {}
    }
   ],
   "metadata": {}
  },
  {
   "cell_type": "code",
   "execution_count": null,
   "source": [
    "Initialization(M8190A,AWG_Settings_10micro)"
   ],
   "outputs": [
    {
     "output_type": "stream",
     "name": "stdout",
     "text": [
      "Instruments Sampling Frecuency set to 1.25760000000000E+08Hz\n",
      "Instruments Direct Out DAC Output route Voltage set to 7.00000000000000E-01Volts\n",
      "AWG_Settings_Dict set to TRIGGERED Mode\n",
      "Trigger In threshold value set to 1.00000000000000E+00V\n"
     ]
    }
   ],
   "metadata": {}
  },
  {
   "cell_type": "code",
   "execution_count": 3,
   "source": [
    "Pump_10micro = {\r\n",
    "    'Name':'Pump_10micro',\r\n",
    "    'Amplitude': -2*60,\r\n",
    "    'Start time':50,\r\n",
    "    'End time':2e-10,\r\n",
    "    'Start Duration':10,\r\n",
    "    'End Duration':60,\r\n",
    "    'Sweep time':0,\r\n",
    "    'Sweep Duration':0\r\n",
    "}"
   ],
   "outputs": [],
   "metadata": {}
  },
  {
   "cell_type": "code",
   "execution_count": 4,
   "source": [
    "ProbeA_10micro = {\r\n",
    "    'Name':'ProbeA_10micro',\r\n",
    "    'Amplitude':-2*30,\r\n",
    "    'Start time':30,\r\n",
    "    'End time':70,\r\n",
    "    'Start Duration':10,\r\n",
    "    'End Duration':60,\r\n",
    "    'Sweep time':1,\r\n",
    "    'Sweep Duration':0\r\n",
    "}"
   ],
   "outputs": [],
   "metadata": {}
  },
  {
   "cell_type": "code",
   "execution_count": 5,
   "source": [
    "ProbeB_10micro= {\r\n",
    "    'Name':'ProbeB_10micro',\r\n",
    "    'Amplitude':2*30,\r\n",
    "    'Start time':30,\r\n",
    "    'End time':70,\r\n",
    "    'Start Duration':10,\r\n",
    "    'End Duration':60,\r\n",
    "    'Sweep time':1,\r\n",
    "    'Sweep Duration':0\r\n",
    "}"
   ],
   "outputs": [],
   "metadata": {}
  },
  {
   "cell_type": "code",
   "execution_count": 6,
   "source": [
    "PulseScheme_A_10micro =  {\r\n",
    "    'Name' : 'PulseScheme_A_10micro',\r\n",
    "    'Pulse Scheme': [Pump_10micro,ProbeA_10micro],\r\n",
    "    'Number of repetitions': 1,\r\n",
    "    'Measurement file Path': r'D:\\Alejandro\\Pulses\\diode measurements\\Autocorrelation measurements\\60,30\\neg\\10micro'\r\n",
    "}"
   ],
   "outputs": [],
   "metadata": {}
  },
  {
   "cell_type": "code",
   "execution_count": 7,
   "source": [
    "PulseScheme_B_10micro =  {\r\n",
    "    'Name' : 'PulseScheme_B_10micro',\r\n",
    "    'Pulse Scheme': [ProbeB_10micro,ProbeB_10micro],\r\n",
    "    'Number of repetitions': 1,\r\n",
    "    'Measurement file Path': r'D:\\Alejandro\\Pulses\\diode measurements\\Autocorrelation measurements\\60,30\\neg\\10micro'\r\n",
    "}"
   ],
   "outputs": [],
   "metadata": {}
  },
  {
   "cell_type": "code",
   "execution_count": null,
   "source": [
    "PulseScheme_A_10micro['Measurement file Path']"
   ],
   "outputs": [],
   "metadata": {}
  },
  {
   "cell_type": "code",
   "execution_count": null,
   "source": [
    "step = 30\r\n",
    "pul1 = Sweep_teil(PulseScheme_A_10micro,30,step,interval,sam)\r\n",
    "\r\n",
    "\r\n",
    "#Plot\r\n",
    "fig,ax= plt.subplots()\r\n",
    "ax.grid(True)\r\n",
    "\r\n",
    "plt.plot(pul1[1],pul1[0],label= '{b} samples'.format(b = sam),color='orange')\r\n",
    "\r\n",
    "ax.set_ylabel('V  [mV]')\r\n",
    "ax.set_xlabel(r't [$\\mu$s]')\r\n",
    "ax.set_title('Cycle A at step {a}'.format(a = step )) #Voltage Offset = 3mV, Marker Ampl = 50mV \r\n",
    "#ax.legend(loc=0)\r\n",
    "#plt.legend(bbox_to_anchor=(2.05, 1), loc='upper left', borderaxespad=0.)\r\n",
    "plt.show()\r\n",
    "\r\n",
    "fig.savefig(r'{loc}\\Cycle A, Probe width 1micro 90 hz mod 75 loop.jpeg'.format(loc = PulseScheme_A_10micro['Measurement file Path']),bbox_inches='tight')"
   ],
   "outputs": [
    {
     "output_type": "display_data",
     "data": {
      "image/png": "[encoded data removed]",
      "text/plain": [
       "<Figure size 432x288 with 1 Axes>"
      ]
     },
     "metadata": {}
    }
   ],
   "metadata": {
    "scrolled": true
   }
  },
  {
   "cell_type": "code",
   "execution_count": null,
   "source": [
    "sweeping_run_a_10micro = Sweeping_Single_List_File_teil(PulseScheme_A_10micro,30,interval,sam,0,30,AWG_Settings_10micro,'A')[0]"
   ],
   "outputs": [],
   "metadata": {}
  },
  {
   "cell_type": "code",
   "execution_count": null,
   "source": [
    "sweeping_run_b_10micro = Sweeping_Single_List_File_teil(PulseScheme_B_10micro,30,interval,sam,0,30,AWG_Settings_10micro,'B')[0]"
   ],
   "outputs": [],
   "metadata": {}
  },
  {
   "cell_type": "code",
   "execution_count": null,
   "source": [
    "#Exporting pickle\r\n",
    "\r\n",
    "with open(r\"{dict}\\cycleA_31steps_90Hz_10micro_3002832000GHz.p\".format(dict = PulseScheme_A_10micro['Measurement file Path']), \"wb\") as k:\r\n",
    "    pickle.dump(sweeping_run_a_10micro, k)\r\n",
    "\r\n",
    "\r\n",
    "with open(r\"{dict}\\cycleB_31steps_90Hz_10micro_3002832000GHz.p\".format(dict = PulseScheme_B_10micro['Measurement file Path']), \"wb\") as h:\r\n",
    "    pickle.dump(sweeping_run_b_10micro, h)"
   ],
   "outputs": [],
   "metadata": {}
  },
  {
   "cell_type": "code",
   "execution_count": null,
   "source": [
    "#Importing Pickle\r\n",
    "\r\n",
    "with open(r\"{dict}\\cycleA_31steps_100Hz_10micro_3072000000GHz.p\".format(dict = PulseScheme_A_10micro['Measurement file Path']), \"rb\") as j:\r\n",
    "    sweeping_runa_10micro = pickle.load(j)\r\n",
    "\r\n",
    "with open(r\"{dict}\\cycleB_31steps_100Hz_10micro_3072000000GHz.p\".format(dict = PulseScheme_A_10micro['Measurement file Path']), \"rb\") as f:\r\n",
    "    sweeping_runb_10micro= pickle.load(f)"
   ],
   "outputs": [],
   "metadata": {}
  },
  {
   "cell_type": "code",
   "execution_count": null,
   "source": [
    "sweeping_run_a_10micro['Pulse File Location, at step 30']"
   ],
   "outputs": [
    {
     "output_type": "display_data",
     "data": {
      "text/plain": [
       "'D:\\\\Alejandro\\\\Pulses\\\\diode measurements\\\\Prepared Pulse Schemes CSV\\\\50,20\\\\1mili\\\\SegmentA_672816_30.csv'"
      ]
     },
     "metadata": {}
    }
   ],
   "metadata": {}
  },
  {
   "cell_type": "code",
   "execution_count": null,
   "source": [
    "sweeping_run_b_10micro['Pulse File Location, at step 30']"
   ],
   "outputs": [
    {
     "output_type": "display_data",
     "data": {
      "text/plain": [
       "'D:\\\\Alejandro\\\\Pulses\\\\diode measurements\\\\Prepared Pulse Schemes CSV\\\\50,20\\\\1mili\\\\SegmentB_672816_30.csv'"
      ]
     },
     "metadata": {}
    }
   ],
   "metadata": {}
  },
  {
   "cell_type": "code",
   "execution_count": null,
   "source": [
    "loop_micro"
   ],
   "outputs": [
    {
     "output_type": "display_data",
     "data": {
      "text/plain": [
       "75"
      ]
     },
     "metadata": {}
    }
   ],
   "metadata": {}
  },
  {
   "cell_type": "code",
   "execution_count": null,
   "source": [
    "Sequence_File(M8190A,sweeping_runa_10micro['Pulse File Location, at step 30'],sweeping_runb_10micro['Pulse File Location, at step 30'],75)"
   ],
   "outputs": [
    {
     "output_type": "stream",
     "name": "stdout",
     "text": [
      "Sequence loaded with the following segment data \"1,8,0,1,0,1919999,2,8,0,1,0,1919999\" and the advancement method is COND\n"
     ]
    },
    {
     "output_type": "display_data",
     "data": {
      "text/plain": [
       "0"
      ]
     },
     "metadata": {}
    }
   ],
   "metadata": {}
  },
  {
   "cell_type": "markdown",
   "source": [
    "# Loading"
   ],
   "metadata": {}
  },
  {
   "cell_type": "code",
   "execution_count": null,
   "source": [
    "M8190A.write('SEQ:DEL:ALL')"
   ],
   "outputs": [
    {
     "output_type": "display_data",
     "data": {
      "text/plain": [
       "12"
      ]
     },
     "metadata": {}
    }
   ],
   "metadata": {
    "scrolled": true
   }
  },
  {
   "cell_type": "code",
   "execution_count": null,
   "source": [
    "Dummy_File(M8190A)"
   ],
   "outputs": [
    {
     "output_type": "stream",
     "name": "stdout",
     "text": [
      "Dummy File Loaded and playing\n",
      "Dummy File stopped and erased from AWGs memmory\n"
     ]
    }
   ],
   "metadata": {}
  },
  {
   "cell_type": "code",
   "execution_count": null,
   "source": [
    "Lock_In_Settings = {\r\n",
    "'Time Constant' : '100ms',\r\n",
    "'Sensitivity' : '200 miliVolts',\r\n",
    "'Reserve' : 'Normal',\r\n",
    "'db' : 24,\r\n",
    "'Modulation': '90Hz'\r\n",
    "}"
   ],
   "outputs": [],
   "metadata": {}
  },
  {
   "cell_type": "code",
   "execution_count": null,
   "source": [
    "playingtime = 20\r\n",
    "\r\n",
    "Diode_Signal, averaged_data = Voltage_Autocorrelation_loop(M8190A,DAQ_Settings1,playingtime,sweeping_run_a_10micro,sweeping_run_b_10micro,PulseScheme_A_10micro['Measurement file Path'],Lock_In_Settings,75)"
   ],
   "outputs": [
    {
     "output_type": "stream",
     "name": "stdout",
     "text": [
      "Sequence loaded with the following segment data \"1,75,0,1,0,222431,2,75,0,1,0,222431\" and the advancement method is COND\n",
      "Average Value for measurement at step 0 is -0.0058006285248500145 V\n",
      "Sequence loaded with the following segment data \"1,75,0,1,0,222431,2,75,0,1,0,222431\" and the advancement method is COND\n",
      "Average Value for measurement at step 1 is 0.23105345932950375 V\n",
      "Sequence loaded with the following segment data \"1,75,0,1,0,222431,2,75,0,1,0,222431\" and the advancement method is COND\n",
      "Average Value for measurement at step 2 is 0.23134240706036804 V\n",
      "Sequence loaded with the following segment data \"1,75,0,1,0,222431,2,75,0,1,0,222431\" and the advancement method is COND\n",
      "Average Value for measurement at step 3 is 0.233210681584823 V\n",
      "Sequence loaded with the following segment data \"1,75,0,1,0,222431,2,75,0,1,0,222431\" and the advancement method is COND\n",
      "Average Value for measurement at step 4 is 0.23416394210029293 V\n",
      "Sequence loaded with the following segment data \"1,75,0,1,0,222431,2,75,0,1,0,222431\" and the advancement method is COND\n",
      "Average Value for measurement at step 5 is 0.23537349475996228 V\n",
      "Sequence loaded with the following segment data \"1,75,0,1,0,222431,2,75,0,1,0,222431\" and the advancement method is COND\n",
      "Average Value for measurement at step 6 is 0.23661115675662087 V\n",
      "Sequence loaded with the following segment data \"1,75,0,1,0,222431,2,75,0,1,0,222431\" and the advancement method is COND\n",
      "Average Value for measurement at step 7 is 0.23711223033765755 V\n",
      "Sequence loaded with the following segment data \"1,75,0,1,0,222431,2,75,0,1,0,222431\" and the advancement method is COND\n",
      "Average Value for measurement at step 8 is 0.23902503873877126 V\n",
      "Sequence loaded with the following segment data \"1,75,0,1,0,222431,2,75,0,1,0,222431\" and the advancement method is COND\n",
      "Average Value for measurement at step 9 is 0.240238808772709 V\n",
      "Sequence loaded with the following segment data \"1,75,0,1,0,222431,2,75,0,1,0,222431\" and the advancement method is COND\n",
      "Average Value for measurement at step 10 is 0.2420019006269026 V\n",
      "Sequence loaded with the following segment data \"1,75,0,1,0,222431,2,75,0,1,0,222431\" and the advancement method is COND\n",
      "Average Value for measurement at step 11 is 0.24337430559792436 V\n",
      "Sequence loaded with the following segment data \"1,75,0,1,0,222431,2,75,0,1,0,222431\" and the advancement method is COND\n",
      "Average Value for measurement at step 12 is 0.2449992689921147 V\n",
      "Sequence loaded with the following segment data \"1,75,0,1,0,222431,2,75,0,1,0,222431\" and the advancement method is COND\n",
      "Average Value for measurement at step 13 is 0.2455208103534092 V\n",
      "Sequence loaded with the following segment data \"1,75,0,1,0,222431,2,75,0,1,0,222431\" and the advancement method is COND\n",
      "Average Value for measurement at step 14 is 0.2457181367341102 V\n",
      "Sequence loaded with the following segment data \"1,75,0,1,0,222431,2,75,0,1,0,222431\" and the advancement method is COND\n",
      "Average Value for measurement at step 15 is 0.24604277732137203 V\n",
      "Sequence loaded with the following segment data \"1,75,0,1,0,222431,2,75,0,1,0,222431\" and the advancement method is COND\n",
      "Average Value for measurement at step 16 is 0.24674609110289053 V\n",
      "Sequence loaded with the following segment data \"1,75,0,1,0,222431,2,75,0,1,0,222431\" and the advancement method is COND\n",
      "Average Value for measurement at step 17 is 0.24568706750185276 V\n",
      "Sequence loaded with the following segment data \"1,75,0,1,0,222431,2,75,0,1,0,222431\" and the advancement method is COND\n",
      "Average Value for measurement at step 18 is 0.24531648082116647 V\n",
      "Sequence loaded with the following segment data \"1,75,0,1,0,222431,2,75,0,1,0,222431\" and the advancement method is COND\n",
      "Average Value for measurement at step 19 is 0.24411420213994756 V\n",
      "Sequence loaded with the following segment data \"1,75,0,1,0,222431,2,75,0,1,0,222431\" and the advancement method is COND\n",
      "Average Value for measurement at step 20 is 0.24330526071056235 V\n",
      "Sequence loaded with the following segment data \"1,75,0,1,0,222431,2,75,0,1,0,222431\" and the advancement method is COND\n",
      "Average Value for measurement at step 21 is 0.2429703862365316 V\n",
      "Sequence loaded with the following segment data \"1,75,0,1,0,222431,2,75,0,1,0,222431\" and the advancement method is COND\n",
      "Average Value for measurement at step 22 is 0.2421515011065179 V\n",
      "Sequence loaded with the following segment data \"1,75,0,1,0,222431,2,75,0,1,0,222431\" and the advancement method is COND\n",
      "Average Value for measurement at step 23 is 0.2411098499716222 V\n",
      "Sequence loaded with the following segment data \"1,75,0,1,0,222431,2,75,0,1,0,222431\" and the advancement method is COND\n",
      "Average Value for measurement at step 24 is 0.24078927198812203 V\n",
      "Sequence loaded with the following segment data \"1,75,0,1,0,222431,2,75,0,1,0,222431\" and the advancement method is COND\n",
      "Average Value for measurement at step 25 is 0.23995769606520942 V\n",
      "Sequence loaded with the following segment data \"1,75,0,1,0,222431,2,75,0,1,0,222431\" and the advancement method is COND\n",
      "Average Value for measurement at step 26 is 0.23969018340147405 V\n",
      "Sequence loaded with the following segment data \"1,75,0,1,0,222431,2,75,0,1,0,222431\" and the advancement method is COND\n",
      "Average Value for measurement at step 27 is 0.23928342022079116 V\n",
      "Sequence loaded with the following segment data \"1,75,0,1,0,222431,2,75,0,1,0,222431\" and the advancement method is COND\n",
      "Average Value for measurement at step 28 is 0.2384011391588452 V\n",
      "Sequence loaded with the following segment data \"1,75,0,1,0,222431,2,75,0,1,0,222431\" and the advancement method is COND\n",
      "Average Value for measurement at step 29 is 0.23717146694357943 V\n",
      "Sequence loaded with the following segment data \"1,75,0,1,0,222431,2,75,0,1,0,222431\" and the advancement method is COND\n",
      "Average Value for measurement at step 30 is 0.23755987103110457 V\n"
     ]
    }
   ],
   "metadata": {}
  },
  {
   "cell_type": "code",
   "execution_count": null,
   "source": [
    "fig,ax= plt.subplots()\r\n",
    "ax.grid(True)\r\n",
    "for i in range(0,len(Diode_Signal)):\r\n",
    "    plt.plot(Diode_Signal[i][1],Diode_Signal[i][0],label= 'Step {st}'.format(st = i ))\r\n",
    "\r\n",
    "ax.set_ylabel(r'V  [V]')\r\n",
    "ax.set_xlabel('t  [s]')\r\n",
    "ax.set_title(r' Diode Signal at Different Steps,  {b} Samples, 10$\\mu$s probe duration'.format(b = len(Diode_Signal[0][1]) ))\r\n",
    "#ax.legend(bbox_to_anchor=(1.05, 1), loc='upper left', borderaxespad=0.)\r\n",
    "#ax.legend(loc=0)\r\n",
    "plt.show()\r\n",
    "\r\n",
    "fig.savefig(r'{loc}\\Diode Signal time cstant = {a}, sensitivity {b},{c} daqseconds, 5ms scheme, probe duration 10 micro,31 steps, no legend,6Ghz .jpeg'.format(loc = PulseScheme_A_10micro['Measurement file Path'],a = Lock_In_Settings['Time Constant'], b = Lock_In_Settings['Sensitivity'], c = playingtime),bbox_inches='tight')"
   ],
   "outputs": [
    {
     "output_type": "display_data",
     "data": {
      "image/png": "[encoded data removed]",
      "text/plain": [
       "<Figure size 432x288 with 1 Axes>"
      ]
     },
     "metadata": {}
    }
   ],
   "metadata": {}
  },
  {
   "cell_type": "code",
   "execution_count": null,
   "source": [
    "time_delay = np.linspace(-20,20,31)"
   ],
   "outputs": [],
   "metadata": {}
  },
  {
   "cell_type": "code",
   "execution_count": null,
   "source": [
    "%matplotlib widget"
   ],
   "outputs": [],
   "metadata": {}
  },
  {
   "cell_type": "code",
   "execution_count": null,
   "source": [
    "#change this to V regime\r\n",
    "fig,axes = plt.subplots()\r\n",
    "\r\n",
    "axes.grid(True)\r\n",
    "\r\n",
    "plt.plot(time_delay,averaged_data,label=r'10$\\mu$s Probe Width ',color='red')\r\n",
    "#plt.plot(tm,pul,label = '{a} samples'.format(a = len(pul)))\r\n",
    "\r\n",
    "axes.set_xlabel(r'time delay [$\\mu$s]')\r\n",
    "axes.set_ylabel(r'Diode Signal [V]')\r\n",
    "axes.set_title('Auto-Correlation 31 steps ')\r\n",
    "\r\n",
    "axes.legend(loc = 0)\r\n",
    "plt.show()\r\n",
    "\r\n",
    "fig.savefig(r'{loc}\\Autocorrelation function 31 steps probes 5ms length tc = {a}, sens {b}, {c}s DAQ 6Ghz.jpeg'.format(loc = PulseScheme_A_10micro['Measurement file Path'],a = Lock_In_Settings['Time Constant'], b = Lock_In_Settings['Sensitivity'], c = playingtime ))"
   ],
   "outputs": [
    {
     "output_type": "display_data",
     "data": {
      "application/vnd.jupyter.widget-view+json": {
       "model_id": "13dafa6d1cc74462b31ad1f3aea66cef",
       "version_major": 2,
       "version_minor": 0
      },
      "text/plain": [
       "Canvas(toolbar=Toolbar(toolitems=[('Home', 'Reset original view', 'home', 'home'), ('Back', 'Back to previous …"
      ]
     },
     "metadata": {}
    }
   ],
   "metadata": {
    "scrolled": true
   }
  },
  {
   "cell_type": "code",
   "execution_count": 16,
   "source": [
    "average10micro = loadtxt(r'{loc}\\averaged signal_31steps_20sdaqtime_90Hz_100ms_200 miliVolts.csv'.format(loc =PulseScheme_A_10micro['Measurement file Path']),delimiter = ',')\r\n",
    "average100micro =  loadtxt(r'{loc}\\100 averaged signal_31steps_20sdaqtime_90Hz_100ms_200 miliVolts.csv'.format(loc =PulseScheme_A_10micro['Measurement file Path']),delimiter = ',')"
   ],
   "outputs": [],
   "metadata": {}
  },
  {
   "cell_type": "code",
   "execution_count": 22,
   "source": [
    "time_delay = np.linspace(-20,20,30)"
   ],
   "outputs": [],
   "metadata": {}
  },
  {
   "cell_type": "code",
   "execution_count": 23,
   "source": [
    "#change this to V regime\r\n",
    "fig,axes = plt.subplots()\r\n",
    "\r\n",
    "axes.grid(True)\r\n",
    "\r\n",
    "plt.plot(time_delay,average10micro,label=r'10$\\mu$s Probe Width ',color='red')\r\n",
    "#plt.plot(tm,pul,label = '{a} samples'.format(a = len(pul)))\r\n",
    "\r\n",
    "axes.set_xlabel(r'time delay [$\\mu$s]')\r\n",
    "axes.set_ylabel(r'STM Signal [V]')\r\n",
    "axes.set_title('Auto-Correlation 31 steps ')\r\n",
    "\r\n",
    "axes.legend(loc = 0)\r\n",
    "plt.show()\r\n",
    "\r\n",
    "fig.savefig(r'{loc}\\Autocorrelation function 31 steps probes 90 Hz mod 10.jpeg'.format(loc = PulseScheme_A_10micro['Measurement file Path'] ))"
   ],
   "outputs": [
    {
     "output_type": "display_data",
     "data": {
      "image/png": "[encoded data removed]",
      "text/plain": [
       "<Figure size 432x288 with 1 Axes>"
      ]
     },
     "metadata": {
      "needs_background": "light"
     }
    }
   ],
   "metadata": {
    "scrolled": true
   }
  },
  {
   "cell_type": "code",
   "execution_count": 24,
   "source": [
    "time_delay = np.linspace(-200,200,31)"
   ],
   "outputs": [],
   "metadata": {}
  },
  {
   "cell_type": "code",
   "execution_count": 25,
   "source": [
    "#change this to V regime\r\n",
    "fig,axes = plt.subplots()\r\n",
    "\r\n",
    "axes.grid(True)\r\n",
    "\r\n",
    "plt.plot(time_delay,average100micro,label=r'100$\\mu$s Probe Width ',color='green')\r\n",
    "#plt.plot(tm,pul,label = '{a} samples'.format(a = len(pul)))\r\n",
    "\r\n",
    "axes.set_xlabel(r'time delay [$\\mu$s]')\r\n",
    "axes.set_ylabel(r'STM Signal [V]')\r\n",
    "axes.set_title('Auto-Correlation 31 steps ')\r\n",
    "\r\n",
    "axes.legend(loc = 0)\r\n",
    "plt.show() \r\n",
    "\r\n",
    "fig.savefig(r'{loc}\\Autocorrelation function 31 steps probes 90 Hz mod 100.jpeg'.format(loc = PulseScheme_A_10micro['Measurement file Path'] ))"
   ],
   "outputs": [
    {
     "output_type": "display_data",
     "data": {
      "image/png": "[encoded data removed]",
      "text/plain": [
       "<Figure size 432x288 with 1 Axes>"
      ]
     },
     "metadata": {
      "needs_background": "light"
     }
    }
   ],
   "metadata": {
    "scrolled": true
   }
  },
  {
   "cell_type": "code",
   "execution_count": null,
   "source": [],
   "outputs": [],
   "metadata": {}
  }
 ],
 "metadata": {
  "orig_nbformat": 4,
  "language_info": {
   "name": "python",
   "version": "3.8.5",
   "mimetype": "text/x-python",
   "codemirror_mode": {
    "name": "ipython",
    "version": 3
   },
   "pygments_lexer": "ipython3",
   "nbconvert_exporter": "python",
   "file_extension": ".py"
  },
  "kernelspec": {
   "name": "python3",
   "display_name": "Python 3.8.5 64-bit ('base': conda)"
  },
  "interpreter": {
   "hash": "9a32f0bf53af15acd232504180dc0ef28b8a6ac1a49da0a6c374e1f45bb445b6"
  }
 },
 "nbformat": 4,
 "nbformat_minor": 2
}