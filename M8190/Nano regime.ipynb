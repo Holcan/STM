{
 "cells": [
  {
   "cell_type": "code",
   "execution_count": 1,
   "source": [
    "import numpy as np\r\n",
    "from numpy import loadtxt\r\n",
    "import pandas as pd\r\n",
    "import time\r\n",
    "import matplotlib\r\n",
    "import matplotlib.pyplot as plt\r\n",
    "import pyvisa as visa\r\n",
    "from matplotlib import animation\r\n",
    "from time import sleep\r\n",
    "from matplotlib.animation import FuncAnimation\r\n",
    "#Importing the functions from the module and the pulses dictionaries\r\n",
    "from Sweeping import *\r\n",
    "from Dictionaries import *\r\n",
    "from PulseFiles import *\r\n",
    "from Instrument import *\r\n",
    "import pyqtgraph as pg \r\n",
    "import nidaqmx\r\n",
    "import pickle"
   ],
   "outputs": [],
   "metadata": {}
  },
  {
   "cell_type": "markdown",
   "source": [
    "# 1 nano"
   ],
   "metadata": {}
  },
  {
   "cell_type": "code",
<<<<<<< Updated upstream
=======
<<<<<<< HEAD
   "execution_count": 7,
   "source": [
    "Adj9(189,80000)"
   ],
   "outputs": [
    {
     "output_type": "execute_result",
     "data": {
      "text/plain": [
       "(240, 7257600000, 3.306878306878307e-08)"
      ]
     },
     "metadata": {},
     "execution_count": 7
=======
>>>>>>> Stashed changes
   "execution_count": null,
   "source": [
    "Adj(1e-9,45,100000)"
   ],
   "outputs": [
    {
     "data": {
      "text/plain": [
       "(144, 1296000000)"
      ]
     },
     "metadata": {},
     "output_type": "display_data"
<<<<<<< Updated upstream
=======
>>>>>>> 909631f9ecad18aa76ae77209ab2629304dbc0fc
>>>>>>> Stashed changes
    }
   ],
   "metadata": {}
  },
  {
   "cell_type": "code",
   "execution_count": null,
   "source": [
<<<<<<< Updated upstream
=======
<<<<<<< HEAD
    "9072000000"
   ],
   "outputs": [],
   "metadata": {}
  },
  {
   "cell_type": "code",
   "execution_count": null,
   "source": [
    "18144000000"
   ],
   "outputs": [],
=======
>>>>>>> Stashed changes
    "modulation = 93 #Hz \r\n",
    "comp_time = 1/modulation\r\n",
    "cycle_time = comp_time/2\r\n",
    "cycle_time"
   ],
   "outputs": [
    {
     "data": {
      "text/plain": [
       "0.005376344086021506"
      ]
     },
     "metadata": {},
     "output_type": "display_data"
    }
   ],
<<<<<<< Updated upstream
=======
>>>>>>> 909631f9ecad18aa76ae77209ab2629304dbc0fc
>>>>>>> Stashed changes
   "metadata": {}
  },
  {
   "cell_type": "code",
   "execution_count": null,
   "source": [
    "sam_mili = int(126500000*5.35e-3)\r\n",
    "sam_mili"
   ],
   "outputs": [
    {
<<<<<<< Updated upstream
=======
<<<<<<< HEAD
     "output_type": "display_data",
=======
>>>>>>> 909631f9ecad18aa76ae77209ab2629304dbc0fc
>>>>>>> Stashed changes
     "data": {
      "text/plain": [
       "676775"
      ]
     },
<<<<<<< Updated upstream
     "metadata": {},
     "output_type": "display_data"
=======
<<<<<<< HEAD
     "metadata": {}
=======
     "metadata": {},
     "output_type": "display_data"
>>>>>>> 909631f9ecad18aa76ae77209ab2629304dbc0fc
>>>>>>> Stashed changes
    }
   ],
   "metadata": {}
  },
  {
   "cell_type": "code",
   "execution_count": null,
   "source": [
    "modulation = 100 #Hz \r\n",
    "comp_time = 1/modulation\r\n",
    "cycle_time = comp_time/2\r\n",
    "cycle_time"
   ],
   "outputs": [
    {
<<<<<<< Updated upstream
=======
<<<<<<< HEAD
     "output_type": "display_data",
=======
>>>>>>> 909631f9ecad18aa76ae77209ab2629304dbc0fc
>>>>>>> Stashed changes
     "data": {
      "text/plain": [
       "0.005376344086021506"
      ]
     },
<<<<<<< Updated upstream
     "metadata": {},
     "output_type": "display_data"
=======
<<<<<<< HEAD
     "metadata": {}
=======
     "metadata": {},
     "output_type": "display_data"
>>>>>>> 909631f9ecad18aa76ae77209ab2629304dbc0fc
>>>>>>> Stashed changes
    }
   ],
   "metadata": {}
  },
  {
   "cell_type": "code",
<<<<<<< Updated upstream
=======
<<<<<<< HEAD
   "execution_count": 57,
   "source": [
    "modulation = 189 #Hz \r\n",
    "comp_time = 1/modulation\r\n",
    "cycle_time = comp_time/2\r\n",
    "cycle_time"
   ],
   "outputs": [
    {
     "output_type": "execute_result",
     "data": {
      "text/plain": [
       "0.0026455026455026454"
      ]
     },
     "metadata": {},
     "execution_count": 57
=======
>>>>>>> Stashed changes
   "execution_count": null,
   "source": [
    "modulation = 90 #Hz \r\n",
    "comp_time = 1/modulation\r\n",
    "cycle_time = comp_time/2\r\n",
    "cycle_time #seconds"
   ],
   "outputs": [
    {
     "data": {
      "text/plain": [
       "0.005555555555555556"
      ]
     },
     "metadata": {},
     "output_type": "display_data"
<<<<<<< Updated upstream
=======
>>>>>>> 909631f9ecad18aa76ae77209ab2629304dbc0fc
>>>>>>> Stashed changes
    }
   ],
   "metadata": {}
  },
  {
<<<<<<< Updated upstream
=======
<<<<<<< HEAD
   "cell_type": "code",
   "execution_count": 50,
   "source": [
    "loop_number = 20000\r\n",
    "tiled_cycle = cycle_time/loop_number\r\n",
    "tiled_cycle"
   ],
   "outputs": [
    {
     "output_type": "execute_result",
     "data": {
      "text/plain": [
       "1.3227513227513228e-07"
      ]
     },
     "metadata": {},
     "execution_count": 50
=======
>>>>>>> Stashed changes
   "cell_type": "markdown",
   "source": [
    "T list values"
   ],
   "metadata": {}
  },
  {
   "cell_type": "code",
   "execution_count": null,
   "source": [
    "Sr = 6048000000\r\n",
    "sam = 336\r\n",
    "\r\n",
    "tim = sam/Sr"
   ],
   "outputs": [],
   "metadata": {}
  },
  {
   "cell_type": "code",
   "execution_count": null,
   "source": [
    "tim"
   ],
   "outputs": [
    {
     "data": {
      "text/plain": [
       "5.5555555555555555e-08"
      ]
     },
     "metadata": {},
     "output_type": "display_data"
<<<<<<< Updated upstream
=======
>>>>>>> 909631f9ecad18aa76ae77209ab2629304dbc0fc
>>>>>>> Stashed changes
    }
   ],
   "metadata": {}
  },
  {
   "cell_type": "code",
<<<<<<< Updated upstream
=======
<<<<<<< HEAD
   "execution_count": 51,
   "source": [
    "interval = tiled_cycle*1e9\r\n",
=======
>>>>>>> Stashed changes
   "execution_count": null,
   "source": [
    "interval = tim*1e9 #nano"
   ],
   "outputs": [],
   "metadata": {}
  },
  {
   "cell_type": "code",
   "execution_count": null,
   "source": [
<<<<<<< Updated upstream
=======
>>>>>>> 909631f9ecad18aa76ae77209ab2629304dbc0fc
>>>>>>> Stashed changes
    "interval"
   ],
   "outputs": [
    {
<<<<<<< Updated upstream
=======
<<<<<<< HEAD
     "output_type": "execute_result",
     "data": {
      "text/plain": [
       "132.27513227513228"
      ]
     },
     "metadata": {},
     "execution_count": 51
=======
>>>>>>> Stashed changes
     "data": {
      "text/plain": [
       "55.55555555555556"
      ]
     },
     "metadata": {},
     "output_type": "display_data"
<<<<<<< Updated upstream
=======
>>>>>>> 909631f9ecad18aa76ae77209ab2629304dbc0fc
>>>>>>> Stashed changes
    }
   ],
   "metadata": {}
  },
  {
<<<<<<< Updated upstream
=======
<<<<<<< HEAD
   "cell_type": "code",
   "execution_count": 52,
   "source": [
    "samples = int(7500000000 *tiled_cycle )\r\n",
    "samples"
   ],
   "outputs": [
    {
     "output_type": "execute_result",
     "data": {
      "text/plain": [
       "992"
      ]
     },
     "metadata": {},
     "execution_count": 52
=======
>>>>>>> Stashed changes
   "cell_type": "markdown",
   "source": [
    "3 times appart"
   ],
   "metadata": {}
  },
  {
   "cell_type": "code",
   "execution_count": 4,
   "source": [
    "full_cycle = 11e-3\r\n",
    "#loop_number = 100000\r\n",
    "#part_cycle = full_cycle / loop_number\r\n",
    "#part_cycle"
   ],
   "outputs": [],
   "metadata": {}
  },
  {
   "cell_type": "code",
   "execution_count": null,
   "source": [
    "interval = 110 #nano\r\n",
    "interval"
   ],
   "outputs": [
    {
     "data": {
      "text/plain": [
       "110"
      ]
     },
     "metadata": {},
     "output_type": "display_data"
<<<<<<< Updated upstream
=======
>>>>>>> 909631f9ecad18aa76ae77209ab2629304dbc0fc
>>>>>>> Stashed changes
    }
   ],
   "metadata": {}
  },
  {
   "cell_type": "code",
<<<<<<< Updated upstream
=======
<<<<<<< HEAD
   "execution_count": 53,
   "source": [
    "samples/48"
   ],
   "outputs": [
    {
     "output_type": "execute_result",
     "data": {
      "text/plain": [
       "20.666666666666668"
      ]
     },
     "metadata": {},
     "execution_count": 53
=======
>>>>>>> Stashed changes
   "execution_count": null,
   "source": [
    "cycle_time = 11e-3\r\n",
    "comp_time = cycle_time * 2\r\n",
    "mod = 1/comp_time\r\n",
    "mod"
   ],
   "outputs": [
    {
     "data": {
      "text/plain": [
       "45.45454545454546"
      ]
     },
     "metadata": {},
     "output_type": "display_data"
<<<<<<< Updated upstream
=======
>>>>>>> 909631f9ecad18aa76ae77209ab2629304dbc0fc
>>>>>>> Stashed changes
    }
   ],
   "metadata": {}
  },
  {
   "cell_type": "code",
<<<<<<< Updated upstream
=======
<<<<<<< HEAD
   "execution_count": 54,
   "source": [
    "sam = Granularity(samples)\r\n",
    "sam"
=======
>>>>>>> Stashed changes
   "execution_count": 34,
   "source": [
    "#Natterer data:\r\n",
    "interval = 50 #nano\r\n",
    "\r\n",
    "#mod and loop number\r\n",
    "\r\n",
    "loop_number = round(full_cycle / (interval *1e-9)) \r\n",
    "\r\n",
    "loop_number \r\n",
    "\r\n"
<<<<<<< Updated upstream
=======
>>>>>>> 909631f9ecad18aa76ae77209ab2629304dbc0fc
>>>>>>> Stashed changes
   ],
   "outputs": [
    {
     "output_type": "execute_result",
     "data": {
      "text/plain": [
<<<<<<< Updated upstream
=======
<<<<<<< HEAD
       "1008"
      ]
     },
     "metadata": {},
     "execution_count": 54
    }
   ],
   "metadata": {
    "scrolled": true
   }
  },
  {
   "cell_type": "code",
   "execution_count": 55,
   "source": [
    "adjusted_sr = int(sam/tiled_cycle)"
   ],
   "outputs": [],
=======
>>>>>>> Stashed changes
       "220000"
      ]
     },
     "metadata": {},
     "execution_count": 34
    }
   ],
<<<<<<< Updated upstream
=======
>>>>>>> 909631f9ecad18aa76ae77209ab2629304dbc0fc
>>>>>>> Stashed changes
   "metadata": {}
  },
  {
   "cell_type": "code",
<<<<<<< Updated upstream
=======
<<<<<<< HEAD
   "execution_count": 56,
   "source": [
    "adjusted_sr"
=======
>>>>>>> Stashed changes
   "execution_count": 6,
   "source": [
    "samples = int(6048000000 * 1.1e-7)\r\n",
    "samples"
<<<<<<< Updated upstream
=======
>>>>>>> 909631f9ecad18aa76ae77209ab2629304dbc0fc
>>>>>>> Stashed changes
   ],
   "outputs": [
    {
     "output_type": "execute_result",
     "data": {
      "text/plain": [
<<<<<<< Updated upstream
=======
<<<<<<< HEAD
       "7620480000"
      ]
     },
     "metadata": {},
     "execution_count": 56
=======
>>>>>>> Stashed changes
       "665"
      ]
     },
     "metadata": {},
     "execution_count": 6
<<<<<<< Updated upstream
=======
>>>>>>> 909631f9ecad18aa76ae77209ab2629304dbc0fc
>>>>>>> Stashed changes
    }
   ],
   "metadata": {}
  },
  {
   "cell_type": "code",
   "execution_count": null,
   "source": [
<<<<<<< Updated upstream
=======
<<<<<<< HEAD
    "7620480000"
   ],
   "outputs": [],
   "metadata": {}
  },
  {
   "cell_type": "code",
   "execution_count": null,
   "source": [],
   "outputs": [],
   "metadata": {}
  },
  {
   "cell_type": "code",
   "execution_count": 15,
   "source": [
=======
>>>>>>> 909631f9ecad18aa76ae77209ab2629304dbc0fc
>>>>>>> Stashed changes
    "samples/48"
   ],
   "outputs": [
    {
<<<<<<< Updated upstream
=======
<<<<<<< HEAD
     "output_type": "execute_result",
     "data": {
      "text/plain": [
       "1.6666666666666667"
      ]
     },
     "metadata": {},
     "execution_count": 15
=======
>>>>>>> Stashed changes
     "data": {
      "text/plain": [
       "13.854166666666666"
      ]
     },
     "metadata": {},
     "output_type": "display_data"
<<<<<<< Updated upstream
=======
>>>>>>> 909631f9ecad18aa76ae77209ab2629304dbc0fc
    }
   ],
   "metadata": {}
  },
  {
   "cell_type": "code",
<<<<<<< HEAD
   "execution_count": null,
   "source": [
    "modulation = 90 #Hz \r\n",
    "comp_time = 1/modulation\r\n",
    "cycle_time = comp_time/2\r\n",
    "cycle_time #seconds"
   ],
   "outputs": [
    {
     "output_type": "display_data",
     "data": {
      "text/plain": [
       "0.005555555555555556"
      ]
     },
     "metadata": {}
>>>>>>> Stashed changes
    }
   ],
   "metadata": {}
  },
  {
<<<<<<< Updated upstream
   "cell_type": "code",
=======
   "cell_type": "markdown",
   "source": [
    "T list values"
   ],
   "metadata": {}
  },
  {
   "cell_type": "code",
   "execution_count": null,
   "source": [
    "Sr = 6048000000\r\n",
    "sam = 336\r\n",
    "\r\n",
    "tim = sam/Sr"
   ],
   "outputs": [],
=======
>>>>>>> Stashed changes
   "execution_count": 7,
   "source": [
    "sam = Granularity(samples)\r\n",
    "sam"
   ],
   "outputs": [
    {
     "output_type": "execute_result",
     "data": {
      "text/plain": [
       "672"
      ]
     },
     "metadata": {},
     "execution_count": 7
    }
   ],
   "metadata": {
    "scrolled": true
   }
  },
  {
   "cell_type": "code",
   "execution_count": null,
   "source": [],
   "outputs": [],
   "metadata": {}
  },
  {
   "cell_type": "markdown",
   "source": [
    "# AWG and Pulse files setup"
   ],
<<<<<<< Updated upstream
=======
>>>>>>> 909631f9ecad18aa76ae77209ab2629304dbc0fc
>>>>>>> Stashed changes
   "metadata": {}
  },
  {
   "cell_type": "code",
   "execution_count": null,
   "source": [
<<<<<<< Updated upstream
=======
<<<<<<< HEAD
    "tim"
   ],
   "outputs": [
    {
     "output_type": "display_data",
     "data": {
      "text/plain": [
       "5.5555555555555555e-08"
      ]
     },
     "metadata": {}
    }
   ],
=======
>>>>>>> Stashed changes
    "AWG_Settings_1nano= {\r\n",
    "    'Visa Resource Name': 'TCPIP0::ibn3-036.ibn-net.kfa-juelich.de::hislip0::INSTR',\r\n",
    "    'Voltage Amplitude':700,\r\n",
    "    'Clock Sample Frecuency':6048000000,\r\n",
    "    'Output_Channel': 1,\r\n",
    "    'Mode': 'STS',\r\n",
    "    'Trigger In Threshold' : 1,\r\n",
    "    'Output Rout': 'DC', #DAC output rout only has the BNC outputs: Direct Out and (Averaged) Direct Out # DC\r\n",
    "    'Data Directory': r'D:\\Alejandro\\Pulses\\diode measurements\\Prepared Pulse Schemes CSV\\50,20\\1nano'\r\n",
    "}"
   ],
   "outputs": [],
<<<<<<< Updated upstream
=======
>>>>>>> 909631f9ecad18aa76ae77209ab2629304dbc0fc
>>>>>>> Stashed changes
   "metadata": {}
  },
  {
   "cell_type": "code",
   "execution_count": null,
   "source": [
<<<<<<< Updated upstream
    "M8190A = VisaR(AWG_Settings_1nano,60000)"
=======
<<<<<<< HEAD
    "interval = tim*1e9 #nano"
=======
    "M8190A = VisaR(AWG_Settings_1nano,60000)"
>>>>>>> 909631f9ecad18aa76ae77209ab2629304dbc0fc
>>>>>>> Stashed changes
   ],
   "outputs": [],
   "metadata": {}
  },
  {
   "cell_type": "code",
   "execution_count": null,
   "source": [
<<<<<<< Updated upstream
=======
<<<<<<< HEAD
    "interval"
   ],
   "outputs": [
    {
     "output_type": "display_data",
     "data": {
      "text/plain": [
       "55.55555555555556"
      ]
     },
     "metadata": {}
=======
>>>>>>> Stashed changes
    "M8190A.write('FREQ:RAST 6048000000')"
   ],
   "outputs": [
    {
     "data": {
      "text/plain": [
       "21"
      ]
     },
     "metadata": {},
     "output_type": "display_data"
<<<<<<< Updated upstream
=======
>>>>>>> 909631f9ecad18aa76ae77209ab2629304dbc0fc
>>>>>>> Stashed changes
    }
   ],
   "metadata": {}
  },
  {
<<<<<<< Updated upstream
=======
<<<<<<< HEAD
   "cell_type": "markdown",
   "source": [
    "3 times appart"
   ],
   "metadata": {}
  },
  {
   "cell_type": "code",
   "execution_count": 10,
   "source": [
    "modulation = 189 #Hz \r\n",
    "comp_time = 1/modulation\r\n",
    "loop_number = 220000\r\n",
    "part_cycle = comp_time / loop_number\r\n",
    "part_cycle"
   ],
   "outputs": [
    {
     "output_type": "execute_result",
     "data": {
      "text/plain": [
       "2.405002405002405e-08"
      ]
     },
     "metadata": {},
     "execution_count": 10
=======
>>>>>>> Stashed changes
   "cell_type": "code",
   "execution_count": null,
   "source": [
    "Initialization(M8190A,AWG_Settings_1nano)"
   ],
   "outputs": [
    {
     "output_type": "stream",
     "name": "stdout",
     "text": [
      "Instruments Sampling Frecuency set to 1.25760000000000E+08Hz\n",
      "Instruments Direct Out DAC Output route Voltage set to 7.00000000000000E-01Volts\n",
      "AWG_Settings_Dict set to TRIGGERED Mode\n",
      "Trigger In threshold value set to 1.00000000000000E+00V\n"
     ]
<<<<<<< Updated upstream
=======
>>>>>>> 909631f9ecad18aa76ae77209ab2629304dbc0fc
>>>>>>> Stashed changes
    }
   ],
   "metadata": {}
  },
  {
   "cell_type": "code",
<<<<<<< Updated upstream
=======
<<<<<<< HEAD
   "execution_count": 9,
   "source": [
    "comp_time"
   ],
   "outputs": [
    {
     "output_type": "execute_result",
     "data": {
      "text/plain": [
       "0.005291005291005291"
      ]
     },
     "metadata": {},
     "execution_count": 9
    }
   ],
=======
>>>>>>> Stashed changes
   "execution_count": 20,
   "source": [
    "Pump_1nano = {\r\n",
    "    'Name':'Pump_1nano',\r\n",
    "    'Amplitude': 150,\r\n",
    "    'Start time':25,\r\n",
    "    'End time':2e-10,\r\n",
    "    'Start Duration':5,\r\n",
    "    'End Duration':60,\r\n",
    "    'Sweep time':0,\r\n",
    "    'Sweep Duration':0\r\n",
    "}"
   ],
   "outputs": [],
<<<<<<< Updated upstream
=======
>>>>>>> 909631f9ecad18aa76ae77209ab2629304dbc0fc
>>>>>>> Stashed changes
   "metadata": {}
  },
  {
   "cell_type": "code",
<<<<<<< Updated upstream
=======
<<<<<<< HEAD
   "execution_count": 78,
   "source": [
    "full_cycle = 11e-3\r\n",
    "#loop_number = 110000\r\n",
    "#part_cycle = full_cycle / loop_number\r\n",
    "#part_cycle"
=======
>>>>>>> Stashed changes
   "execution_count": 21,
   "source": [
    "ProbeA_1nano = {\r\n",
    "    'Name':'ProbeA_1nano',\r\n",
    "    'Amplitude':50,\r\n",
    "    'Start time':15,\r\n",
    "    'End time':35,\r\n",
    "    'Start Duration':5,\r\n",
    "    'End Duration':60,\r\n",
    "    'Sweep time':1,\r\n",
    "    'Sweep Duration':0\r\n",
    "}"
<<<<<<< Updated upstream
=======
>>>>>>> 909631f9ecad18aa76ae77209ab2629304dbc0fc
>>>>>>> Stashed changes
   ],
   "outputs": [],
   "metadata": {}
  },
  {
   "cell_type": "code",
<<<<<<< Updated upstream
   "execution_count": 22,
   "source": [
    "ProbeB_1nano= {\r\n",
    "    'Name':'ProbeB_1nano',\r\n",
    "    'Amplitude':-50,\r\n",
    "    'Start time':15,\r\n",
    "    'End time':35,\r\n",
    "    'Start Duration':5,\r\n",
    "    'End Duration':6,\r\n",
    "    'Sweep time':1,\r\n",
    "    'Sweep Duration':0\r\n",
    "}"
   ],
   "outputs": [],
=======
<<<<<<< HEAD
   "execution_count": 134,
   "source": [
    "full_cycle = 11e-3\r\n",
    "loop_number = 220000\r\n",
    "part_cycle = full_cycle / loop_number\r\n",
    "part_cycle"
   ],
   "outputs": [
    {
     "output_type": "execute_result",
     "data": {
      "text/plain": [
       "5e-08"
      ]
     },
     "metadata": {},
     "execution_count": 134
    }
   ],
>>>>>>> Stashed changes
   "metadata": {}
  },
  {
   "cell_type": "code",
<<<<<<< Updated upstream
   "execution_count": 23,
   "source": [
    "PulseScheme_A_1nano =  {\r\n",
    "    'Name' : 'PulseScheme_A_1nano',\r\n",
    "    'Pulse Scheme': [Pump_1nano,ProbeA_1nano],\r\n",
    "    'Number of repetitions': 1,\r\n",
    "    'Measurement file Path': r'D:\\Alejandro\\Pulses\\diode measurements\\Autocorrelation measurements\\50,20\\1nano'\r\n",
    "}"
   ],
   "outputs": [],
=======
   "execution_count": 83,
   "source": [
    "interval = part_cycle *1e9\r\n",
    "interval"
   ],
   "outputs": [
    {
     "output_type": "execute_result",
     "data": {
      "text/plain": [
       "50.0"
      ]
     },
     "metadata": {},
     "execution_count": 83
    }
   ],
>>>>>>> Stashed changes
   "metadata": {}
  },
  {
   "cell_type": "code",
<<<<<<< Updated upstream
   "execution_count": 24,
=======
   "execution_count": 79,
   "source": [
    "interval = 50 #nano\r\n",
    "interval"
   ],
   "outputs": [
    {
     "output_type": "execute_result",
     "data": {
      "text/plain": [
       "50"
      ]
     },
     "metadata": {},
     "execution_count": 79
    }
   ],
   "metadata": {}
  },
  {
   "cell_type": "code",
   "execution_count": 164,
   "source": [
    "loop_number"
   ],
   "outputs": [
    {
     "output_type": "execute_result",
     "data": {
      "text/plain": [
       "110000"
      ]
     },
     "metadata": {},
     "execution_count": 164
    }
   ],
   "metadata": {}
  },
  {
   "cell_type": "code",
   "execution_count": 31,
   "source": [
    "cycle_time = 11e-3\r\n",
    "comp_time = cycle_time * 2\r\n",
    "mod = 1/comp_time\r\n",
    "mod"
   ],
   "outputs": [
    {
     "output_type": "execute_result",
     "data": {
      "text/plain": [
       "45.45454545454546"
      ]
     },
     "metadata": {},
     "execution_count": 31
    }
   ],
   "metadata": {}
  },
  {
   "cell_type": "code",
   "execution_count": 163,
   "source": [
    "50*loop_number"
   ],
   "outputs": [
    {
     "output_type": "execute_result",
     "data": {
      "text/plain": [
       "5500000"
      ]
     },
     "metadata": {},
     "execution_count": 163
    }
   ],
   "metadata": {}
  },
  {
   "cell_type": "code",
   "execution_count": 80,
   "source": [
    "#Natterer data:\r\n",
    "interval = 50 #nano\r\n",
    "\r\n",
    "#mod and loop number\r\n",
    "\r\n",
    "loop_number = round(full_cycle / (interval *1e-9)) \r\n",
    "\r\n",
    "loop_number \r\n",
    "\r\n"
   ],
   "outputs": [
    {
     "output_type": "execute_result",
     "data": {
      "text/plain": [
       "220000"
      ]
     },
     "metadata": {},
     "execution_count": 80
    }
   ],
   "metadata": {}
  },
  {
   "cell_type": "code",
   "execution_count": 81,
   "source": [
    "loop_number"
   ],
   "outputs": [
    {
     "output_type": "execute_result",
     "data": {
      "text/plain": [
       "220000"
      ]
     },
     "metadata": {},
     "execution_count": 81
    }
   ],
   "metadata": {}
  },
  {
   "cell_type": "code",
   "execution_count": 135,
   "source": [
    "samples = int(6720000000 *5e-08)\r\n",
    "samples"
   ],
   "outputs": [
    {
     "output_type": "execute_result",
     "data": {
      "text/plain": [
       "336"
      ]
     },
     "metadata": {},
     "execution_count": 135
    }
   ],
   "metadata": {}
  },
  {
   "cell_type": "code",
   "execution_count": 136,
   "source": [
    "samples/48"
   ],
   "outputs": [
    {
     "output_type": "execute_result",
     "data": {
      "text/plain": [
       "7.0"
      ]
     },
     "metadata": {},
     "execution_count": 136
    }
   ],
   "metadata": {}
  },
  {
   "cell_type": "code",
   "execution_count": 133,
   "source": [
    "sam = Granularity(samples)\r\n",
    "sam"
   ],
   "outputs": [
    {
     "output_type": "execute_result",
     "data": {
      "text/plain": [
       "336"
      ]
     },
     "metadata": {},
     "execution_count": 133
    }
   ],
   "metadata": {
    "scrolled": true
   }
  },
  {
   "cell_type": "code",
   "execution_count": 137,
   "source": [
    "adjusted_sr = int(sam/part_cycle)"
   ],
   "outputs": [],
   "metadata": {}
  },
  {
   "cell_type": "code",
   "execution_count": 138,
   "source": [
    "adjusted_sr"
   ],
   "outputs": [
    {
     "output_type": "execute_result",
     "data": {
      "text/plain": [
       "6720000000"
      ]
     },
     "metadata": {},
     "execution_count": 138
    }
   ],
   "metadata": {}
  },
  {
   "cell_type": "code",
   "execution_count": 139,
   "source": [
    "6720000000"
   ],
   "outputs": [
    {
     "output_type": "execute_result",
     "data": {
      "text/plain": [
       "6720000000"
      ]
     },
     "metadata": {},
     "execution_count": 139
    }
   ],
   "metadata": {}
  },
  {
   "cell_type": "markdown",
   "source": [
    "# AWG and Pulse files setup"
   ],
   "metadata": {}
  },
  {
   "cell_type": "code",
   "execution_count": 11,
   "source": [
    "AWG_Settings_1nano= {\r\n",
    "    'Visa Resource Name': 'TCPIP0::ibn3-036.ibn-net.kfa-juelich.de::hislip0::INSTR',\r\n",
    "    'Voltage Amplitude':700,\r\n",
    "    'Clock Sample Frecuency':6720000000,\r\n",
    "    'Output_Channel': 1,\r\n",
    "    'Mode': 'STS',\r\n",
    "    'Trigger In Threshold' : 1,\r\n",
    "    'Output Rout': 'DC', #DAC output rout only has the BNC outputs: Direct Out and (Averaged) Direct Out # DC\r\n",
    "    'Data Directory': r'D:\\Alejandro\\Pulses\\diode measurements\\Prepared Pulse Schemes CSV\\50,20\\1nano'\r\n",
    "}"
   ],
   "outputs": [],
   "metadata": {}
  },
  {
   "cell_type": "code",
   "execution_count": 12,
   "source": [
    "M8190A = VisaR(AWG_Settings_1nano,60000)"
   ],
   "outputs": [],
   "metadata": {}
  },
  {
   "cell_type": "code",
   "execution_count": 4,
   "source": [
    "Initialization(M8190A,AWG_Settings_1nano)"
   ],
   "outputs": [
    {
     "output_type": "stream",
     "name": "stdout",
     "text": [
      "Instruments Sampling Frecuency set to 6.24000000000000E+09Hz\n",
      "Instruments Direct Out DC Output route Voltage set to 6.75000000000000E-01Volts\n",
      "AWG_Settings_Dict set to TRIGGERED Mode\n",
      "Trigger In threshold value set to 1.00000000000000E+00V\n"
     ]
    }
   ],
   "metadata": {}
  },
  {
   "cell_type": "code",
   "execution_count": 61,
   "source": [
    "M8190A.write('FREQ:RAST 7620480000')"
   ],
   "outputs": [
    {
     "output_type": "execute_result",
     "data": {
      "text/plain": [
       "21"
      ]
     },
     "metadata": {},
     "execution_count": 61
    }
   ],
   "metadata": {}
  },
  {
   "cell_type": "code",
   "execution_count": 3,
   "source": [
    "Pump_1nano = {\r\n",
    "    'Name':'Pump_1nano',\r\n",
    "    'Amplitude': 2*150,\r\n",
    "    'Start time':20,\r\n",
    "    'End time':2e-10,\r\n",
    "    'Start Duration':5,\r\n",
    "    'End Duration':60,\r\n",
    "    'Sweep time':0,\r\n",
    "    'Sweep Duration':0\r\n",
    "}"
   ],
   "outputs": [],
   "metadata": {}
  },
  {
   "cell_type": "code",
   "execution_count": 4,
   "source": [
    "ProbeA_1nano = {\r\n",
    "    'Name':'ProbeA_1nano',\r\n",
    "    'Amplitude':2*50,\r\n",
    "    'Start time':0, #15, 10 #5\r\n",
    "    'End time':40, #35 45 #45\r\n",
    "    'Start Duration':5,\r\n",
    "    'End Duration':60,\r\n",
    "    'Sweep time':1,\r\n",
    "    'Sweep Duration':0\r\n",
    "}"
   ],
   "outputs": [],
   "metadata": {}
  },
  {
   "cell_type": "code",
   "execution_count": 5,
   "source": [
    "ProbeB_1nano= {\r\n",
    "    'Name':'ProbeB_1nano',\r\n",
    "    'Amplitude':-2*50,\r\n",
    "    'Start time':0, #15, 10\r\n",
    "    'End time':40, #35 45\r\n",
=======
   "execution_count": 22,
   "source": [
    "ProbeB_1nano= {\r\n",
    "    'Name':'ProbeB_1nano',\r\n",
    "    'Amplitude':-50,\r\n",
    "    'Start time':15,\r\n",
    "    'End time':35,\r\n",
>>>>>>> 909631f9ecad18aa76ae77209ab2629304dbc0fc
    "    'Start Duration':5,\r\n",
    "    'End Duration':6,\r\n",
    "    'Sweep time':1,\r\n",
    "    'Sweep Duration':0\r\n",
    "}"
   ],
   "outputs": [],
   "metadata": {}
  },
  {
   "cell_type": "code",
<<<<<<< HEAD
   "execution_count": 6,
=======
   "execution_count": 23,
>>>>>>> 909631f9ecad18aa76ae77209ab2629304dbc0fc
   "source": [
    "PulseScheme_A_1nano =  {\r\n",
    "    'Name' : 'PulseScheme_A_1nano',\r\n",
    "    'Pulse Scheme': [Pump_1nano,ProbeA_1nano],\r\n",
    "    'Number of repetitions': 1,\r\n",
    "    'Measurement file Path': r'D:\\Alejandro\\Pulses\\diode measurements\\Autocorrelation measurements\\50,20\\1nano'\r\n",
    "}"
   ],
<<<<<<< HEAD
   "outputs": [],
   "metadata": {}
  },
  {
   "cell_type": "code",
   "execution_count": 7,
   "source": [
    "PulseScheme_B_1nano =  {\r\n",
    "    'Name' : 'PulseScheme_B_1nano',\r\n",
    "    'Pulse Scheme': [Pump_1nano,ProbeB_1nano],\r\n",
    "    'Number of repetitions': 1,\r\n",
    "    'Measurement file Path': r'D:\\Alejandro\\Pulses\\diode measurements\\Autocorrelation measurements\\50,20\\1nano'\r\n",
    "}"
   ],
   "outputs": [],
   "metadata": {}
  },
  {
   "cell_type": "code",
   "execution_count": 90,
   "source": [
    "%matplotlib inline"
   ],
   "outputs": [],
   "metadata": {}
  },
  {
   "cell_type": "code",
   "execution_count": 91,
   "source": [
    "step = 0\r\n",
    "pul1 = Sweep_teil(PulseScheme_A_1nano,30,step,interval,sam)\r\n",
    "\r\n",
    "\r\n",
    "#Plot\r\n",
    "fig,ax= plt.subplots()\r\n",
    "ax.grid(True)\r\n",
    "\r\n",
    "plt.plot(pul1[1],pul1[0],label= '{b} samples'.format(b = sam),color='red')\r\n",
    "\r\n",
    "ax.set_ylabel('V  [mV]')\r\n",
    "ax.set_xlabel(r't [ns]')\r\n",
    "ax.set_title('Cycle A at step {a}'.format(a = step )) #Voltage Offset = 3mV, Marker Ampl = 50mV \r\n",
    "#ax.legend(loc=0)\r\n",
    "#plt.legend(bbox_to_anchor=(2.05, 1), loc='upper left', borderaxespad=0.)\r\n",
    "plt.show()\r\n",
    "\r\n",
    "#fig.savefig(r'{loc}\\Cycle A, Probe width 1nano {g} step.png'.format(g =  step, loc = PulseScheme_A_1nano['Measurement file Path']),bbox_inches='tight')"
   ],
   "outputs": [
    {
     "output_type": "display_data",
     "data": {
      "image/png": "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",
      "text/plain": [
       "<Figure size 432x288 with 1 Axes>"
      ]
     },
     "metadata": {
      "needs_background": "light"
     }
    }
   ],
   "metadata": {}
  },
  {
   "cell_type": "code",
   "execution_count": 68,
   "source": [
    "step = 30\r\n",
    "pul1 = Sweep_teil(PulseScheme_A_1nano,30,step,interval,sam)\r\n",
    "\r\n",
    "\r\n",
    "#Plot\r\n",
    "fig,ax= plt.subplots()\r\n",
    "ax.grid(True)\r\n",
    "\r\n",
    "plt.plot(pul1[1],pul1[0],label= '{b} samples'.format(b = sam),color='red')\r\n",
    "\r\n",
    "ax.set_ylabel('V  [mV]')\r\n",
    "ax.set_xlabel(r't [ns]')\r\n",
    "ax.set_title('Cycle A at step {a}'.format(a = step )) #Voltage Offset = 3mV, Marker Ampl = 50mV \r\n",
    "#ax.legend(loc=0)\r\n",
    "#plt.legend(bbox_to_anchor=(2.05, 1), loc='upper left', borderaxespad=0.)\r\n",
    "plt.show()\r\n",
    "\r\n",
    "#fig.savefig(r'{loc}\\Cycle A, Probe width 1nano {g} step.png'.format(g =  step, loc = PulseScheme_A_1nano['Measurement file Path']),bbox_inches='tight')"
   ],
   "outputs": [
    {
     "output_type": "display_data",
     "data": {
      "image/png": "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",
      "text/plain": [
       "<Figure size 432x288 with 1 Axes>"
      ]
     },
     "metadata": {
      "needs_background": "light"
     }
    }
   ],
=======
   "outputs": [],
>>>>>>> 909631f9ecad18aa76ae77209ab2629304dbc0fc
   "metadata": {}
  },
  {
   "cell_type": "code",
<<<<<<< HEAD
   "execution_count": 69,
   "source": [
    "step = 0\r\n",
    "pul1 = Sweep_teil(PulseScheme_B_1nano,30,step,interval,samples)\r\n",
    "\r\n",
    "\r\n",
    "#Plot\r\n",
    "fig,ax= plt.subplots()\r\n",
    "ax.grid(True)\r\n",
    "\r\n",
    "plt.plot(pul1[1],pul1[0],label= '{b} samples'.format(b = sam),color='red')\r\n",
    "\r\n",
    "ax.set_ylabel('V  [mV]')\r\n",
    "ax.set_xlabel(r't [ns]')\r\n",
    "ax.set_title('Cycle B at step {a}'.format(a = step )) #Voltage Offset = 3mV, Marker Ampl = 50mV \r\n",
    "#ax.legend(loc=0)\r\n",
    "#plt.legend(bbox_to_anchor=(2.05, 1), loc='upper left', borderaxespad=0.)\r\n",
    "plt.show()\r\n",
    "\r\n",
    "#fig.savefig(r'{loc}\\Cycle B, Probe width 1nano.jpeg {g} step.png'.format(g =  step, loc = PulseScheme_A_1nano['Measurement file Path']),bbox_inches='tight')"
   ],
   "outputs": [
    {
     "output_type": "display_data",
     "data": {
      "image/png": "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",
      "text/plain": [
       "<Figure size 432x288 with 1 Axes>"
      ]
     },
     "metadata": {
      "needs_background": "light"
     }
    }
   ],
=======
   "execution_count": 24,
>>>>>>> Stashed changes
   "source": [
    "PulseScheme_B_1nano =  {\r\n",
    "    'Name' : 'PulseScheme_B_1nano',\r\n",
    "    'Pulse Scheme': [Pump_1nano,ProbeB_1nano],\r\n",
    "    'Number of repetitions': 1,\r\n",
    "    'Measurement file Path': r'D:\\Alejandro\\Pulses\\diode measurements\\Autocorrelation measurements\\50,20\\1nano'\r\n",
    "}"
   ],
   "outputs": [],
<<<<<<< Updated upstream
=======
>>>>>>> 909631f9ecad18aa76ae77209ab2629304dbc0fc
>>>>>>> Stashed changes
   "metadata": {}
  },
  {
   "cell_type": "code",
<<<<<<< Updated upstream
   "execution_count": 28,
   "source": [
    "step = 0\r\n",
=======
<<<<<<< HEAD
   "execution_count": 70,
   "source": [
    "step = 30\r\n",
=======
   "execution_count": 28,
   "source": [
    "step = 0\r\n",
>>>>>>> 909631f9ecad18aa76ae77209ab2629304dbc0fc
>>>>>>> Stashed changes
    "pul1 = Sweep_teil(PulseScheme_B_1nano,30,step,interval,sam)\r\n",
    "\r\n",
    "\r\n",
    "#Plot\r\n",
    "fig,ax= plt.subplots()\r\n",
    "ax.grid(True)\r\n",
    "\r\n",
    "plt.plot(pul1[1],pul1[0],label= '{b} samples'.format(b = sam),color='red')\r\n",
    "\r\n",
    "ax.set_ylabel('V  [mV]')\r\n",
    "ax.set_xlabel(r't [ns]')\r\n",
<<<<<<< Updated upstream
    "ax.set_title('Cycle B at step {a}'.format(a = step )) #Voltage Offset = 3mV, Marker Ampl = 50mV \r\n",
=======
<<<<<<< HEAD
    "ax.set_title('Cycle A at step {a}'.format(a = step )) #Voltage Offset = 3mV, Marker Ampl = 50mV \r\n",
=======
    "ax.set_title('Cycle B at step {a}'.format(a = step )) #Voltage Offset = 3mV, Marker Ampl = 50mV \r\n",
>>>>>>> 909631f9ecad18aa76ae77209ab2629304dbc0fc
>>>>>>> Stashed changes
    "#ax.legend(loc=0)\r\n",
    "#plt.legend(bbox_to_anchor=(2.05, 1), loc='upper left', borderaxespad=0.)\r\n",
    "plt.show()\r\n",
    "\r\n",
<<<<<<< Updated upstream
    "#fig.savefig(r'{loc}\\Cycle A, Probe width 1nano.jpeg {g} step.png'.format(g =  step, loc = PulseScheme_A_1nano['Measurement file Path']),bbox_inches='tight')"
=======
<<<<<<< HEAD
    "#fig.savefig(r'{loc}\\Cycle B, Probe width 1nano {g} step.png'.format(g =  step, loc = PulseScheme_A_1nano['Measurement file Path']),bbox_inches='tight')"
=======
    "#fig.savefig(r'{loc}\\Cycle A, Probe width 1nano.jpeg {g} step.png'.format(g =  step, loc = PulseScheme_A_1nano['Measurement file Path']),bbox_inches='tight')"
>>>>>>> 909631f9ecad18aa76ae77209ab2629304dbc0fc
>>>>>>> Stashed changes
   ],
   "outputs": [
    {
     "output_type": "display_data",
     "data": {
<<<<<<< Updated upstream
      "image/png": "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",
=======
<<<<<<< HEAD
      "image/png": "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",
=======
      "image/png": "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",
>>>>>>> 909631f9ecad18aa76ae77209ab2629304dbc0fc
>>>>>>> Stashed changes
      "text/plain": [
       "<Figure size 432x288 with 1 Axes>"
      ]
     },
     "metadata": {
      "needs_background": "light"
     }
    }
   ],
   "metadata": {}
  },
  {
   "cell_type": "code",
<<<<<<< Updated upstream
=======
<<<<<<< HEAD
   "execution_count": 71,
   "source": [
    "interval"
   ],
   "outputs": [
    {
     "output_type": "execute_result",
     "data": {
      "text/plain": [
       "132.27513227513228"
      ]
     },
     "metadata": {},
     "execution_count": 71
    }
   ],
   "metadata": {}
  },
  {
   "cell_type": "code",
   "execution_count": 72,
   "source": [
    "sam"
   ],
   "outputs": [
    {
     "output_type": "execute_result",
     "data": {
      "text/plain": [
       "1008"
      ]
     },
     "metadata": {},
     "execution_count": 72
    }
   ],
=======
>>>>>>> Stashed changes
   "execution_count": null,
   "source": [
    "sweeping_run_a_1nano = Sweeping_Single_List_File_teil(PulseScheme_A_1nano,30,interval,sam,0,30,AWG_Settings_1nano,'A')[0]"
   ],
   "outputs": [],
<<<<<<< Updated upstream
=======
>>>>>>> 909631f9ecad18aa76ae77209ab2629304dbc0fc
>>>>>>> Stashed changes
   "metadata": {}
  },
  {
   "cell_type": "code",
<<<<<<< Updated upstream
   "execution_count": null,
   "source": [
    "sweeping_run_b_1nano = Sweeping_Single_List_File_teil(PulseScheme_B_1nano,30,interval,sam,0,30,AWG_Settings_1nano,'B')[0]"
=======
<<<<<<< HEAD
   "execution_count": 92,
   "source": [
    "sweeping_run_a_1nano = Sweeping_Single_List_File_teil(PulseScheme_A_1nano,70,interval,sam,0,70,AWG_Settings_1nano,'A')[0]\r\n",
    "sweeping_run_b_1nano = Sweeping_Single_List_File_teil(PulseScheme_B_1nano,70,interval,sam,0,70,AWG_Settings_1nano,'B')[0]"
=======
   "execution_count": null,
   "source": [
    "sweeping_run_b_1nano = Sweeping_Single_List_File_teil(PulseScheme_B_1nano,30,interval,sam,0,30,AWG_Settings_1nano,'B')[0]"
>>>>>>> 909631f9ecad18aa76ae77209ab2629304dbc0fc
>>>>>>> Stashed changes
   ],
   "outputs": [],
   "metadata": {}
  },
  {
   "cell_type": "code",
<<<<<<< Updated upstream
=======
<<<<<<< HEAD
   "execution_count": 213,
   "source": [],
   "outputs": [],
   "metadata": {}
  },
  {
   "cell_type": "code",
   "execution_count": 93,
   "source": [
    "#Exporting pickle\r\n",
    "\r\n",
    "with open(r\"{dict}\\cycleA_100steps_189Hz_1nano_70segment.p\".format(dict = PulseScheme_A_1nano['Measurement file Path']), \"wb\") as k:\r\n",
    "    pickle.dump(sweeping_run_a_1nano, k)\r\n",
    "\r\n",
    "\r\n",
    "with open(r\"{dict}\\cycleB_100steps_189Hz_1nano_70segment.p\".format(dict = PulseScheme_B_1nano['Measurement file Path']), \"wb\") as h:\r\n",
=======
>>>>>>> Stashed changes
   "execution_count": null,
   "source": [
    "#Exporting pickle\r\n",
    "\r\n",
    "with open(r\"{dict}\\cycleA_31steps_45Hz_1nano_.p\".format(dict = PulseScheme_A_1nano['Measurement file Path']), \"wb\") as k:\r\n",
    "    pickle.dump(sweeping_run_a_1nano, k)\r\n",
    "\r\n",
    "\r\n",
    "with open(r\"{dict}\\cycleB_31steps_45Hz_1nano_.p\".format(dict = PulseScheme_B_1nano['Measurement file Path']), \"wb\") as h:\r\n",
<<<<<<< Updated upstream
=======
>>>>>>> 909631f9ecad18aa76ae77209ab2629304dbc0fc
>>>>>>> Stashed changes
    "    pickle.dump(sweeping_run_b_1nano, h)"
   ],
   "outputs": [],
   "metadata": {}
  },
  {
   "cell_type": "code",
<<<<<<< Updated upstream
=======
<<<<<<< HEAD
   "execution_count": 8,
   "source": [
    "#Importing Pickle spikes\r\n",
    "\r\n",
    "with open(r\"{dict}\\cycleA_100steps_189Hz_1nano_70segment.p\".format(dict = PulseScheme_A_1nano['Measurement file Path']), \"rb\") as j:\r\n",
    "    sweeping_runa_1nano = pickle.load(j)\r\n",
    "\r\n",
    "with open(r\"{dict}\\cycleB_100steps_189Hz_1nano_70segment.p\".format(dict = PulseScheme_A_1nano['Measurement file Path']), \"rb\") as f:\r\n",
=======
>>>>>>> Stashed changes
   "execution_count": null,
   "source": [
    "#Importing Pickle\r\n",
    "\r\n",
    "with open(r\"{dict}\\cycleA_31steps_93Hz_1nano_.p\".format(dict = PulseScheme_A_1nano['Measurement file Path']), \"rb\") as j:\r\n",
    "    sweeping_runa_1nano = pickle.load(j)\r\n",
    "\r\n",
    "with open(r\"{dict}\\cycleB_31steps_93Hz_1nano_.p\".format(dict = PulseScheme_A_1nano['Measurement file Path']), \"rb\") as f:\r\n",
<<<<<<< Updated upstream
=======
>>>>>>> 909631f9ecad18aa76ae77209ab2629304dbc0fc
>>>>>>> Stashed changes
    "    sweeping_runb_1nano= pickle.load(f)"
   ],
   "outputs": [],
   "metadata": {}
  },
  {
   "cell_type": "code",
<<<<<<< Updated upstream
   "execution_count": null,
   "source": [
    "Sequence_File(M8190A,sweeping_runa_1nano['Pulse File Location, at step 30'],sweeping_runb_1nano['Pulse File Location, at step 30'],8)"
=======
<<<<<<< HEAD
   "execution_count": 14,
   "source": [
    "Sequence_File(M8190A,sweeping_runa_1nano['Pulse File Location, at step 70'],sweeping_runb_1nano['Pulse File Location, at step 70'],3)"
   ],
   "outputs": [
    {
     "output_type": "stream",
     "name": "stdout",
     "text": [
      "Sequence loaded with the following segment data \"1,3,0,1,0,1007,2,3,0,1,0,1007\" and the advancement method is COND\n"
     ]
    },
    {
     "output_type": "execute_result",
     "data": {
      "text/plain": [
       "4"
      ]
     },
     "metadata": {},
     "execution_count": 14
    }
   ],
   "metadata": {}
  },
  {
   "cell_type": "code",
   "execution_count": 41,
   "source": [
    "Sequence_File(M8190A,sweeping_runa_1nano['Pulse File Location, at step 70'],sweeping_runa_1nano['Pulse File Location, at step 70'],2)"
=======
   "execution_count": null,
   "source": [
    "Sequence_File(M8190A,sweeping_runa_1nano['Pulse File Location, at step 30'],sweeping_runb_1nano['Pulse File Location, at step 30'],8)"
>>>>>>> 909631f9ecad18aa76ae77209ab2629304dbc0fc
>>>>>>> Stashed changes
   ],
   "outputs": [
    {
     "output_type": "stream",
     "name": "stdout",
     "text": [
<<<<<<< Updated upstream
=======
<<<<<<< HEAD
      "Sequence loaded with the following segment data \"1,2,0,1,0,623,2,2,0,1,0,623\" and the advancement method is COND\n"
     ]
    },
    {
     "output_type": "execute_result",
     "data": {
      "text/plain": [
       "2"
      ]
     },
     "metadata": {},
     "execution_count": 41
=======
>>>>>>> Stashed changes
      "Sequence loaded with the following segment data \"1,8,0,1,0,1919999,2,8,0,1,0,1919999\" and the advancement method is COND\n"
     ]
    },
    {
     "data": {
      "text/plain": [
       "0"
      ]
     },
     "metadata": {},
     "output_type": "display_data"
<<<<<<< Updated upstream
=======
>>>>>>> 909631f9ecad18aa76ae77209ab2629304dbc0fc
>>>>>>> Stashed changes
    }
   ],
   "metadata": {}
  },
  {
   "cell_type": "markdown",
   "source": [
    "# Loading"
   ],
   "metadata": {}
  },
  {
   "cell_type": "code",
<<<<<<< Updated upstream
   "execution_count": null,
=======
<<<<<<< HEAD
   "execution_count": 94,
=======
   "execution_count": null,
>>>>>>> 909631f9ecad18aa76ae77209ab2629304dbc0fc
>>>>>>> Stashed changes
   "source": [
    "M8190A.write('SEQ:DEL:ALL')"
   ],
   "outputs": [
    {
<<<<<<< Updated upstream
=======
<<<<<<< HEAD
     "output_type": "execute_result",
=======
>>>>>>> 909631f9ecad18aa76ae77209ab2629304dbc0fc
>>>>>>> Stashed changes
     "data": {
      "text/plain": [
       "12"
      ]
     },
     "metadata": {},
<<<<<<< Updated upstream
     "output_type": "display_data"
=======
<<<<<<< HEAD
     "execution_count": 94
=======
     "output_type": "display_data"
>>>>>>> 909631f9ecad18aa76ae77209ab2629304dbc0fc
>>>>>>> Stashed changes
    }
   ],
   "metadata": {
    "scrolled": true
   }
  },
  {
   "cell_type": "code",
<<<<<<< Updated upstream
   "execution_count": null,
=======
<<<<<<< HEAD
   "execution_count": 25,
=======
   "execution_count": null,
>>>>>>> 909631f9ecad18aa76ae77209ab2629304dbc0fc
>>>>>>> Stashed changes
   "source": [
    "Dummy_File(M8190A)"
   ],
   "outputs": [
    {
     "output_type": "stream",
     "name": "stdout",
     "text": [
      "Dummy File Loaded and playing\n",
      "Dummy File stopped and erased from AWGs memmory\n"
     ]
    }
   ],
   "metadata": {}
  },
  {
   "cell_type": "code",
<<<<<<< Updated upstream
   "execution_count": null,
=======
<<<<<<< HEAD
   "execution_count": 77,
=======
   "execution_count": null,
>>>>>>> 909631f9ecad18aa76ae77209ab2629304dbc0fc
>>>>>>> Stashed changes
   "source": [
    "Lock_In_Settings = {\r\n",
    "'Time Constant' : '300ms',\r\n",
    "'Sensitivity' : '100 microVolts',\r\n",
    "'Reserve' : 'Normal',\r\n",
    "'db' : 24,\r\n",
<<<<<<< Updated upstream
    "'Modulation': '45Hz'\r\n",
=======
<<<<<<< HEAD
    "'Modulation': '189Hz'\r\n",
=======
    "'Modulation': '45Hz'\r\n",
>>>>>>> 909631f9ecad18aa76ae77209ab2629304dbc0fc
>>>>>>> Stashed changes
    "}"
   ],
   "outputs": [],
   "metadata": {}
  },
  {
   "cell_type": "code",
   "execution_count": null,
<<<<<<< Updated upstream
=======
<<<<<<< HEAD
   "source": [],
   "outputs": [],
   "metadata": {}
  },
  {
   "cell_type": "code",
   "execution_count": 76,
   "source": [
    "loop_number "
   ],
   "outputs": [
    {
     "output_type": "execute_result",
     "data": {
      "text/plain": [
       "20000"
      ]
     },
     "metadata": {},
     "execution_count": 76
    }
   ],
   "metadata": {}
  },
  {
   "cell_type": "code",
   "execution_count": 78,
   "source": [
    "playingtime = 30\r\n",
    "\r\n",
    "Diode_Signal, averaged_data = Voltage_Autocorrelation_loop5(M8190A,DAQ_Settings1,playingtime,sweeping_run_a_1nano,sweeping_run_b_1nano,PulseScheme_A_1nano['Measurement file Path'],Lock_In_Settings,loop_number)"
=======
>>>>>>> Stashed changes
   "source": [
    "playingtime = 20\r\n",
    "\r\n",
    "Diode_Signal, averaged_data = Voltage_Autocorrelation_loop(M8190A,DAQ_Settings1,playingtime,sweeping_run_a_1nano,sweeping_run_b_1nano,PulseScheme_A_1nano['Measurement file Path'],Lock_In_Settings,220000)"
<<<<<<< Updated upstream
=======
>>>>>>> 909631f9ecad18aa76ae77209ab2629304dbc0fc
>>>>>>> Stashed changes
   ],
   "outputs": [
    {
     "output_type": "stream",
     "name": "stdout",
     "text": [
<<<<<<< Updated upstream
=======
<<<<<<< HEAD
      "Sequence loaded with the following segment data \"1,20000,0,1,0,1007,2,20000,0,1,0,1007\" and the advancement method is COND\n",
      "Average Value for measurement at step 0 is 0.9986530050439223 V\n",
      "Sequence loaded with the following segment data \"1,20000,0,1,0,1007,2,20000,0,1,0,1007\" and the advancement method is COND\n",
      "Average Value for measurement at step 1 is 0.9986738427314298 V\n",
      "Sequence loaded with the following segment data \"1,20000,0,1,0,1007,2,20000,0,1,0,1007\" and the advancement method is COND\n",
      "Average Value for measurement at step 2 is 0.998659911474444 V\n",
      "Sequence loaded with the following segment data \"1,20000,0,1,0,1007,2,20000,0,1,0,1007\" and the advancement method is COND\n",
      "Average Value for measurement at step 3 is 0.9966021109074946 V\n",
      "Sequence loaded with the following segment data \"1,20000,0,1,0,1007,2,20000,0,1,0,1007\" and the advancement method is COND\n",
      "Average Value for measurement at step 4 is 0.9943948025677113 V\n",
      "Sequence loaded with the following segment data \"1,20000,0,1,0,1007,2,20000,0,1,0,1007\" and the advancement method is COND\n",
      "Average Value for measurement at step 5 is 0.9937108949348108 V\n",
      "Sequence loaded with the following segment data \"1,20000,0,1,0,1007,2,20000,0,1,0,1007\" and the advancement method is COND\n",
      "Average Value for measurement at step 6 is 0.9932177626445561 V\n",
      "Sequence loaded with the following segment data \"1,20000,0,1,0,1007,2,20000,0,1,0,1007\" and the advancement method is COND\n",
      "Average Value for measurement at step 7 is 0.9931716408441846 V\n",
      "Sequence loaded with the following segment data \"1,20000,0,1,0,1007,2,20000,0,1,0,1007\" and the advancement method is COND\n",
      "Average Value for measurement at step 8 is 0.9931319650455832 V\n",
      "Sequence loaded with the following segment data \"1,20000,0,1,0,1007,2,20000,0,1,0,1007\" and the advancement method is COND\n",
      "Average Value for measurement at step 9 is 0.9931256900601982 V\n",
      "Sequence loaded with the following segment data \"1,20000,0,1,0,1007,2,20000,0,1,0,1007\" and the advancement method is COND\n",
      "Average Value for measurement at step 10 is 0.9930933021901207 V\n",
      "Sequence loaded with the following segment data \"1,20000,0,1,0,1007,2,20000,0,1,0,1007\" and the advancement method is COND\n",
      "Average Value for measurement at step 11 is 0.9930880533029743 V\n",
      "Sequence loaded with the following segment data \"1,20000,0,1,0,1007,2,20000,0,1,0,1007\" and the advancement method is COND\n",
      "Average Value for measurement at step 12 is 0.9930624403123036 V\n",
      "Sequence loaded with the following segment data \"1,20000,0,1,0,1007,2,20000,0,1,0,1007\" and the advancement method is COND\n",
      "Average Value for measurement at step 13 is 0.9930677286647659 V\n",
      "Sequence loaded with the following segment data \"1,20000,0,1,0,1007,2,20000,0,1,0,1007\" and the advancement method is COND\n",
      "Average Value for measurement at step 14 is 0.9931331095397772 V\n",
      "Sequence loaded with the following segment data \"1,20000,0,1,0,1007,2,20000,0,1,0,1007\" and the advancement method is COND\n",
      "Average Value for measurement at step 15 is 0.9931600248859086 V\n",
      "Sequence loaded with the following segment data \"1,20000,0,1,0,1007,2,20000,0,1,0,1007\" and the advancement method is COND\n",
      "Average Value for measurement at step 16 is 0.9931785209644352 V\n",
      "Sequence loaded with the following segment data \"1,20000,0,1,0,1007,2,20000,0,1,0,1007\" and the advancement method is COND\n",
      "Average Value for measurement at step 17 is 1.0226928825443231 V\n",
      "Sequence loaded with the following segment data \"1,20000,0,1,0,1007,2,20000,0,1,0,1007\" and the advancement method is COND\n",
      "Average Value for measurement at step 18 is 0.9931777842785199 V\n",
      "Sequence loaded with the following segment data \"1,20000,0,1,0,1007,2,20000,0,1,0,1007\" and the advancement method is COND\n",
      "Average Value for measurement at step 19 is 0.9931716539992899 V\n",
      "Sequence loaded with the following segment data \"1,20000,0,1,0,1007,2,20000,0,1,0,1007\" and the advancement method is COND\n",
      "Average Value for measurement at step 20 is 0.9931574464852024 V\n",
      "Sequence loaded with the following segment data \"1,20000,0,1,0,1007,2,20000,0,1,0,1007\" and the advancement method is COND\n",
      "Average Value for measurement at step 21 is 0.9931394897660109 V\n",
      "Sequence loaded with the following segment data \"1,20000,0,1,0,1007,2,20000,0,1,0,1007\" and the advancement method is COND\n",
      "Average Value for measurement at step 22 is 0.9931495534218228 V\n",
      "Sequence loaded with the following segment data \"1,20000,0,1,0,1007,2,20000,0,1,0,1007\" and the advancement method is COND\n",
      "Average Value for measurement at step 23 is 0.9931469618660136 V\n",
      "Sequence loaded with the following segment data \"1,20000,0,1,0,1007,2,20000,0,1,0,1007\" and the advancement method is COND\n",
      "Average Value for measurement at step 24 is 0.9894800814230851 V\n",
      "Sequence loaded with the following segment data \"1,20000,0,1,0,1007,2,20000,0,1,0,1007\" and the advancement method is COND\n",
      "Average Value for measurement at step 25 is 0.9871671244557282 V\n",
      "Sequence loaded with the following segment data \"1,20000,0,1,0,1007,2,20000,0,1,0,1007\" and the advancement method is COND\n",
      "Average Value for measurement at step 26 is 0.9871322239608032 V\n",
      "Sequence loaded with the following segment data \"1,20000,0,1,0,1007,2,20000,0,1,0,1007\" and the advancement method is COND\n",
      "Average Value for measurement at step 27 is 0.9211872620487443 V\n",
      "Sequence loaded with the following segment data \"1,20000,0,1,0,1007,2,20000,0,1,0,1007\" and the advancement method is COND\n",
      "Average Value for measurement at step 28 is 0.836138769350356 V\n",
      "Sequence loaded with the following segment data \"1,20000,0,1,0,1007,2,20000,0,1,0,1007\" and the advancement method is COND\n",
      "Average Value for measurement at step 29 is 0.7322802169081776 V\n",
      "Sequence loaded with the following segment data \"1,20000,0,1,0,1007,2,20000,0,1,0,1007\" and the advancement method is COND\n",
      "Average Value for measurement at step 30 is 0.6488235674203823 V\n",
      "Sequence loaded with the following segment data \"1,20000,0,1,0,1007,2,20000,0,1,0,1007\" and the advancement method is COND\n",
      "Average Value for measurement at step 31 is 0.5636491613756187 V\n",
      "Sequence loaded with the following segment data \"1,20000,0,1,0,1007,2,20000,0,1,0,1007\" and the advancement method is COND\n",
      "Average Value for measurement at step 32 is 0.461412448165574 V\n",
      "Sequence loaded with the following segment data \"1,20000,0,1,0,1007,2,20000,0,1,0,1007\" and the advancement method is COND\n",
      "Average Value for measurement at step 33 is 0.38070244184320995 V\n",
      "Sequence loaded with the following segment data \"1,20000,0,1,0,1007,2,20000,0,1,0,1007\" and the advancement method is COND\n",
      "Average Value for measurement at step 34 is 0.29725239573382056 V\n",
      "Sequence loaded with the following segment data \"1,20000,0,1,0,1007,2,20000,0,1,0,1007\" and the advancement method is COND\n",
      "Average Value for measurement at step 35 is 0.20058881857549357 V\n",
      "Sequence loaded with the following segment data \"1,20000,0,1,0,1007,2,20000,0,1,0,1007\" and the advancement method is COND\n",
      "Average Value for measurement at step 36 is 0.27748902640805123 V\n",
      "Sequence loaded with the following segment data \"1,20000,0,1,0,1007,2,20000,0,1,0,1007\" and the advancement method is COND\n",
      "Average Value for measurement at step 37 is 0.3821296774796373 V\n",
      "Sequence loaded with the following segment data \"1,20000,0,1,0,1007,2,20000,0,1,0,1007\" and the advancement method is COND\n",
      "Average Value for measurement at step 38 is 0.4539459579947401 V\n",
      "Sequence loaded with the following segment data \"1,20000,0,1,0,1007,2,20000,0,1,0,1007\" and the advancement method is COND\n",
      "Average Value for measurement at step 39 is 0.533787446191847 V\n",
      "Sequence loaded with the following segment data \"1,20000,0,1,0,1007,2,20000,0,1,0,1007\" and the advancement method is COND\n",
      "Average Value for measurement at step 40 is 0.6357762220665912 V\n",
      "Sequence loaded with the following segment data \"1,20000,0,1,0,1007,2,20000,0,1,0,1007\" and the advancement method is COND\n",
      "Average Value for measurement at step 41 is 0.7175246934078667 V\n",
      "Sequence loaded with the following segment data \"1,20000,0,1,0,1007,2,20000,0,1,0,1007\" and the advancement method is COND\n",
      "Average Value for measurement at step 42 is 0.7983163380155859 V\n",
      "Sequence loaded with the following segment data \"1,20000,0,1,0,1007,2,20000,0,1,0,1007\" and the advancement method is COND\n",
      "Average Value for measurement at step 43 is 0.8964132678027524 V\n",
      "Sequence loaded with the following segment data \"1,20000,0,1,0,1007,2,20000,0,1,0,1007\" and the advancement method is COND\n",
      "Average Value for measurement at step 44 is 0.9626332083366153 V\n",
      "Sequence loaded with the following segment data \"1,20000,0,1,0,1007,2,20000,0,1,0,1007\" and the advancement method is COND\n",
      "Average Value for measurement at step 45 is 0.9664852072672598 V\n",
      "Sequence loaded with the following segment data \"1,20000,0,1,0,1007,2,20000,0,1,0,1007\" and the advancement method is COND\n",
      "Average Value for measurement at step 46 is 0.9699814000878243 V\n",
      "Sequence loaded with the following segment data \"1,20000,0,1,0,1007,2,20000,0,1,0,1007\" and the advancement method is COND\n",
      "Average Value for measurement at step 47 is 0.9739780262878049 V\n",
      "Sequence loaded with the following segment data \"1,20000,0,1,0,1007,2,20000,0,1,0,1007\" and the advancement method is COND\n",
      "Average Value for measurement at step 48 is 0.9757683703378723 V\n",
      "Sequence loaded with the following segment data \"1,20000,0,1,0,1007,2,20000,0,1,0,1007\" and the advancement method is COND\n",
      "Average Value for measurement at step 49 is 0.9800670641034653 V\n",
      "Sequence loaded with the following segment data \"1,20000,0,1,0,1007,2,20000,0,1,0,1007\" and the advancement method is COND\n",
      "Average Value for measurement at step 50 is 0.980977568411869 V\n",
      "Sequence loaded with the following segment data \"1,20000,0,1,0,1007,2,20000,0,1,0,1007\" and the advancement method is COND\n",
      "Average Value for measurement at step 51 is 0.9812025996444872 V\n",
      "Sequence loaded with the following segment data \"1,20000,0,1,0,1007,2,20000,0,1,0,1007\" and the advancement method is COND\n",
      "Average Value for measurement at step 52 is 0.9812031916242319 V\n",
      "Sequence loaded with the following segment data \"1,20000,0,1,0,1007,2,20000,0,1,0,1007\" and the advancement method is COND\n",
      "Average Value for measurement at step 53 is 0.9812022444566422 V\n",
      "Sequence loaded with the following segment data \"1,20000,0,1,0,1007,2,20000,0,1,0,1007\" and the advancement method is COND\n",
      "Average Value for measurement at step 54 is 0.9811451249890493 V\n",
      "Sequence loaded with the following segment data \"1,20000,0,1,0,1007,2,20000,0,1,0,1007\" and the advancement method is COND\n",
      "Average Value for measurement at step 55 is 0.981092583498131 V\n",
      "Sequence loaded with the following segment data \"1,20000,0,1,0,1007,2,20000,0,1,0,1007\" and the advancement method is COND\n",
      "Average Value for measurement at step 56 is 0.9820057846055174 V\n",
      "Sequence loaded with the following segment data \"1,20000,0,1,0,1007,2,20000,0,1,0,1007\" and the advancement method is COND\n",
      "Average Value for measurement at step 57 is 1.0096026442557475 V\n",
      "Sequence loaded with the following segment data \"1,20000,0,1,0,1007,2,20000,0,1,0,1007\" and the advancement method is COND\n",
      "Average Value for measurement at step 58 is 0.9854216919036433 V\n",
      "Sequence loaded with the following segment data \"1,20000,0,1,0,1007,2,20000,0,1,0,1007\" and the advancement method is COND\n",
      "Average Value for measurement at step 59 is 0.9855118964619068 V\n",
      "Sequence loaded with the following segment data \"1,20000,0,1,0,1007,2,20000,0,1,0,1007\" and the advancement method is COND\n",
      "Average Value for measurement at step 60 is 0.9864707852562399 V\n",
      "Sequence loaded with the following segment data \"1,20000,0,1,0,1007,2,20000,0,1,0,1007\" and the advancement method is COND\n",
      "Average Value for measurement at step 61 is 0.9869749941397649 V\n",
      "Sequence loaded with the following segment data \"1,20000,0,1,0,1007,2,20000,0,1,0,1007\" and the advancement method is COND\n",
      "Average Value for measurement at step 62 is 0.9870357970374108 V\n",
      "Sequence loaded with the following segment data \"1,20000,0,1,0,1007,2,20000,0,1,0,1007\" and the advancement method is COND\n",
      "Average Value for measurement at step 63 is 0.987049517812455 V\n",
      "Sequence loaded with the following segment data \"1,20000,0,1,0,1007,2,20000,0,1,0,1007\" and the advancement method is COND\n",
      "Average Value for measurement at step 64 is 0.9869919510707489 V\n",
      "Sequence loaded with the following segment data \"1,20000,0,1,0,1007,2,20000,0,1,0,1007\" and the advancement method is COND\n",
      "Average Value for measurement at step 65 is 0.9870218526255694 V\n",
      "Sequence loaded with the following segment data \"1,20000,0,1,0,1007,2,20000,0,1,0,1007\" and the advancement method is COND\n",
      "Average Value for measurement at step 66 is 0.9870632517426101 V\n",
      "Sequence loaded with the following segment data \"1,20000,0,1,0,1007,2,20000,0,1,0,1007\" and the advancement method is COND\n",
      "Average Value for measurement at step 67 is 0.987066461588353 V\n",
      "Sequence loaded with the following segment data \"1,20000,0,1,0,1007,2,20000,0,1,0,1007\" and the advancement method is COND\n",
      "Average Value for measurement at step 68 is 0.9870730391411071 V\n",
      "Sequence loaded with the following segment data \"1,20000,0,1,0,1007,2,20000,0,1,0,1007\" and the advancement method is COND\n",
      "Average Value for measurement at step 69 is 0.9870669614823634 V\n",
      "Sequence loaded with the following segment data \"1,20000,0,1,0,1007,2,20000,0,1,0,1007\" and the advancement method is COND\n",
      "Average Value for measurement at step 70 is 0.9871191346308186 V\n"
=======
>>>>>>> Stashed changes
      "Sequence loaded with the following segment data \"1,100000,0,1,0,671,2,100000,0,1,0,671\" and the advancement method is COND\n",
      "Average Value for measurement at step 0 is 2.8329254241341526 V\n",
      "Sequence loaded with the following segment data \"1,100000,0,1,0,671,2,100000,0,1,0,671\" and the advancement method is COND\n",
      "Average Value for measurement at step 1 is 2.8379828256992496 V\n",
      "Sequence loaded with the following segment data \"1,100000,0,1,0,671,2,100000,0,1,0,671\" and the advancement method is COND\n",
      "Average Value for measurement at step 2 is 2.950371654061749 V\n",
      "Sequence loaded with the following segment data \"1,100000,0,1,0,671,2,100000,0,1,0,671\" and the advancement method is COND\n",
      "Average Value for measurement at step 3 is 2.9876038911083764 V\n",
      "Sequence loaded with the following segment data \"1,100000,0,1,0,671,2,100000,0,1,0,671\" and the advancement method is COND\n"
<<<<<<< Updated upstream
=======
>>>>>>> 909631f9ecad18aa76ae77209ab2629304dbc0fc
>>>>>>> Stashed changes
     ]
    }
   ],
   "metadata": {}
  },
  {
   "cell_type": "code",
<<<<<<< Updated upstream
   "execution_count": null,
=======
<<<<<<< HEAD
   "execution_count": 79,
=======
   "execution_count": null,
>>>>>>> 909631f9ecad18aa76ae77209ab2629304dbc0fc
>>>>>>> Stashed changes
   "source": [
    "fig,ax= plt.subplots()\r\n",
    "ax.grid(True)\r\n",
    "for i in range(0,len(Diode_Signal)):\r\n",
    "    plt.plot(Diode_Signal[i][1],Diode_Signal[i][0],label= 'Step {st}'.format(st = i ))\r\n",
    "\r\n",
    "ax.set_ylabel(r'V  [V]')\r\n",
    "ax.set_xlabel('t  [s]')\r\n",
<<<<<<< Updated upstream
    "ax.set_title(r' Diode Signal at Different Steps,  {b} Samples, 1ns probe duration'.format(b = len(Diode_Signal[0][1]) ))\r\n",
=======
<<<<<<< HEAD
    "ax.set_title(r' Diode Signal at Different Steps,  {b} Samples, 5ns pulse duration'.format(b = len(Diode_Signal[0][1]) ))\r\n",
=======
    "ax.set_title(r' Diode Signal at Different Steps,  {b} Samples, 1ns probe duration'.format(b = len(Diode_Signal[0][1]) ))\r\n",
>>>>>>> 909631f9ecad18aa76ae77209ab2629304dbc0fc
>>>>>>> Stashed changes
    "#ax.legend(bbox_to_anchor=(1.05, 1), loc='upper left', borderaxespad=0.)\r\n",
    "#ax.legend(loc=0)\r\n",
    "plt.show()\r\n",
    "\r\n",
    "fig.savefig(r'{loc}\\Diode Signal time cstant = {a}, sensitivity {b},{c} daqseconds, , probe duration 1 nano,31 steps, no legend, .jpeg'.format(loc = PulseScheme_A_1nano['Measurement file Path'],a = Lock_In_Settings['Time Constant'], b = Lock_In_Settings['Sensitivity'], c = playingtime),bbox_inches='tight')"
   ],
   "outputs": [
    {
<<<<<<< Updated upstream
     "data": {
      "image/png": "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",
=======
<<<<<<< HEAD
     "output_type": "display_data",
     "data": {
      "image/png": "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",
=======
     "data": {
      "image/png": "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",
>>>>>>> 909631f9ecad18aa76ae77209ab2629304dbc0fc
>>>>>>> Stashed changes
      "text/plain": [
       "<Figure size 432x288 with 1 Axes>"
      ]
     },
<<<<<<< Updated upstream
     "metadata": {},
     "output_type": "display_data"
=======
<<<<<<< HEAD
     "metadata": {
      "needs_background": "light"
     }
=======
     "metadata": {},
     "output_type": "display_data"
>>>>>>> 909631f9ecad18aa76ae77209ab2629304dbc0fc
>>>>>>> Stashed changes
    }
   ],
   "metadata": {}
  },
  {
   "cell_type": "code",
<<<<<<< Updated upstream
   "execution_count": null,
   "source": [
    "time_delay = np.linspace(-10,10,31)"
=======
<<<<<<< HEAD
   "execution_count": 80,
   "source": [
    "time_delay = np.linspace(-20,20,71)"
   ],
   "outputs": [],
   "metadata": {}
  },
  {
   "cell_type": "code",
   "execution_count": 66,
   "source": [
    "%matplotlib widget"
=======
   "execution_count": null,
   "source": [
    "time_delay = np.linspace(-10,10,31)"
>>>>>>> 909631f9ecad18aa76ae77209ab2629304dbc0fc
>>>>>>> Stashed changes
   ],
   "outputs": [],
   "metadata": {}
  },
  {
   "cell_type": "code",
<<<<<<< Updated upstream
   "execution_count": null,
   "source": [
    "\r\n",
=======
<<<<<<< HEAD
   "execution_count": 84,
   "source": [
=======
   "execution_count": null,
   "source": [
    "\r\n",
>>>>>>> 909631f9ecad18aa76ae77209ab2629304dbc0fc
>>>>>>> Stashed changes
    "fig,axes = plt.subplots()\r\n",
    "\r\n",
    "axes.grid(True)\r\n",
    "\r\n",
<<<<<<< Updated upstream
    "plt.plot(time_delay,averaged_data,label=r'1 ns Probe Width ',color='green')\r\n",
=======
<<<<<<< HEAD
    "plt.plot(time_delay,averaged_data,'.',label=r'5 ns Probe Width ',color='brown')\r\n",
=======
    "plt.plot(time_delay,averaged_data,label=r'1 ns Probe Width ',color='green')\r\n",
>>>>>>> 909631f9ecad18aa76ae77209ab2629304dbc0fc
>>>>>>> Stashed changes
    "#plt.plot(tm,pul,label = '{a} samples'.format(a = len(pul)))\r\n",
    "\r\n",
    "axes.set_xlabel(r'time delay [ns]')\r\n",
    "axes.set_ylabel(r'Diode Signal [V]')\r\n",
<<<<<<< Updated upstream
    "axes.set_title('Auto-Correlation 31 steps ')\r\n",
=======
<<<<<<< HEAD
    "axes.set_title('Auto-Correlation 71 steps ')\r\n",
=======
    "axes.set_title('Auto-Correlation 31 steps ')\r\n",
>>>>>>> 909631f9ecad18aa76ae77209ab2629304dbc0fc
>>>>>>> Stashed changes
    "\r\n",
    "axes.legend(loc = 0)\r\n",
    "plt.show()\r\n",
    "\r\n",
<<<<<<< Updated upstream
=======
<<<<<<< HEAD
    "fig.savefig(r'{loc}\\Autocorrelation function 71 steps probes  length tc = {a}, sens {b}, {c}s DAQ points .jpeg'.format(loc = PulseScheme_A_1nano['Measurement file Path'],a = Lock_In_Settings['Time Constant'], b = Lock_In_Settings['Sensitivity'], c = playingtime ))"
   ],
   "outputs": [
    {
     "output_type": "display_data",
     "data": {
      "image/png": "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",
=======
>>>>>>> Stashed changes
    "fig.savefig(r'{loc}\\Autocorrelation function 31 steps probes  length tc = {a}, sens {b}, {c}s DAQ .jpeg'.format(loc = PulseScheme_A_1nano['Measurement file Path'],a = Lock_In_Settings['Time Constant'], b = Lock_In_Settings['Sensitivity'], c = playingtime ))"
   ],
   "outputs": [
    {
     "data": {
      "image/png": "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",
<<<<<<< Updated upstream
=======
>>>>>>> 909631f9ecad18aa76ae77209ab2629304dbc0fc
>>>>>>> Stashed changes
      "text/plain": [
       "<Figure size 432x288 with 1 Axes>"
      ]
     },
<<<<<<< Updated upstream
     "metadata": {},
     "output_type": "display_data"
=======
<<<<<<< HEAD
     "metadata": {
      "needs_background": "light"
     }
    }
   ],
   "metadata": {}
  },
  {
   "cell_type": "code",
   "execution_count": 82,
   "source": [
    "1/189"
   ],
   "outputs": [
    {
     "output_type": "execute_result",
     "data": {
      "text/plain": [
       "0.005291005291005291"
      ]
     },
     "metadata": {},
     "execution_count": 82
    }
   ],
   "metadata": {}
  },
  {
   "cell_type": "code",
   "execution_count": 83,
   "source": [
    "_ *1e3"
   ],
   "outputs": [
    {
     "output_type": "execute_result",
     "data": {
      "text/plain": [
       "5.291005291005291"
      ]
     },
     "metadata": {},
     "execution_count": 83
    }
   ],
   "metadata": {}
  },
  {
   "cell_type": "code",
   "execution_count": null,
   "source": [
    "averaged_data = loadtxt(r'{loc}\\averaged signal_31steps_30sdaqtime_45_45Hz_300ms_100 microVolts.csv'.format(loc  = PulseScheme_A_1nano['Measurement file Path'] ), delimiter= ',')"
   ],
   "outputs": [],
   "metadata": {}
  },
  {
   "cell_type": "code",
   "execution_count": 80,
   "source": [
    "mod_n = 887 #Hz\r\n",
    "\r\n",
    "1/mod_n"
   ],
   "outputs": [
    {
     "output_type": "execute_result",
     "data": {
      "text/plain": [
       "0.0011273957158962795"
      ]
     },
     "metadata": {},
     "execution_count": 80
    }
   ],
   "metadata": {}
  },
  {
   "cell_type": "code",
   "execution_count": 73,
   "source": [
    "resolution = 1/6720000000\r\n",
    "\r\n",
    "resolution"
   ],
   "outputs": [
    {
     "output_type": "execute_result",
     "data": {
      "text/plain": [
       "1.488095238095238e-10"
      ]
     },
     "metadata": {},
     "execution_count": 73
    }
   ],
   "metadata": {}
  },
  {
   "cell_type": "code",
   "execution_count": 116,
   "source": [
    "40e-9/resolution\r\n",
    "\r\n",
    "#number of sweeping steps\r\n",
    "#500 mods"
   ],
   "outputs": [
    {
     "output_type": "execute_result",
     "data": {
      "text/plain": [
       "268.8"
      ]
     },
     "metadata": {},
     "execution_count": 116
=======
     "metadata": {},
     "output_type": "display_data"
>>>>>>> 909631f9ecad18aa76ae77209ab2629304dbc0fc
>>>>>>> Stashed changes
    }
   ],
   "metadata": {}
  },
  {
<<<<<<< Updated upstream
=======
<<<<<<< HEAD
   "cell_type": "code",
   "execution_count": 106,
   "source": [
    "def Voltage_Autocorrelation_loop5(instrument,DAQ_settings,playingtime,fileA,fileB,location,Lock_In,loop):\r\n",
    "    \r\n",
    "    \"\"\" This function loads a sweeping sequence into the AWG, plays it and triggers it with the DAQ, while also storing the DAQ values as csv files.\r\n",
    "      \r\n",
    "        Sequences are formed within the AWG by combining the csv files at the same step in fileA and fileB\r\n",
    "\r\n",
    "        instrument = object class given by Pyvisa API of the current connected device\r\n",
    "        DAQ_Settings = Dictionary, with the settings of the DAQ box\r\n",
    "        playingtime = int, total data collection time of the DAQ, given in seconds, maximum is 180s (given by the timeout time in the DAQ_Measuring function)\r\n",
    "        fileA = dictionary, with the file paths of the csv files to be loaded into the awg as first part of the sequence\r\n",
    "        fileB = dictionary, with the file paths of the csv files to be loaded into the awg as second part of the sequence\r\n",
    "        location = strng, file path were the data is going to be saved\r\n",
    "        Lock_In = dictionary, the keys are the Lock In Amplifier settings used to address them in the file name\r\n",
    "        loop = int, number of repetitions that each waveform will repeat itself per cycle\r\n",
    "    \"\"\"\r\n",
    "    #empty arrays where the data will be stored\r\n",
    "    measurement_data = np.zeros((len(fileA),2),  dtype=object)\r\n",
    "    average = np.zeros((len(fileA)))\r\n",
    "\r\n",
    "    for i,j,k in zip(fileA, fileB,range(0,len(fileA))):\r\n",
    "        Sequence_File(instrument,fileA[i],fileB[j],loop)\r\n",
    "        measurement_data[k][0], measurement_data[k][1] = DAQ_Measuring(DAQ_settings,DAQ_settings['Sampling Frequency'],playingtime,instrument)\r\n",
    "        np.savetxt(r'{loc}\\diode_signal_step{stp}_{f}sdaqtime_{mod}_{tc}_{sens}.csv'.format(loc = location ,stp = k,f = playingtime, mod = Lock_In['Modulation'] ,tc = Lock_In['Time Constant'], sens = Lock_In['Sensitivity']), measurement_data[k][0], delimiter=',')\r\n",
    "        average[k] = np.average(measurement_data[k][0][5000:])\r\n",
    "        print('Average Value for measurement at step {step} is'.format(step = k),average[k],'V')\r\n",
    "        np.savetxt(r'{loc}\\averaged signal_31steps_{dur}sdaqtime_{mod}_{tc}_{sens}.csv'.format(loc =location,dur = playingtime,  mod = Lock_In['Modulation'] , tc = Lock_In['Time Constant'], sens = Lock_In['Sensitivity']),average,delimiter=',')\r\n",
    "        \r\n",
    "    return measurement_data, average\r\n"
   ],
   "outputs": [],
   "metadata": {}
  },
  {
   "cell_type": "code",
   "execution_count": null,
   "source": [
    "93 mod,\r\n",
    "71 sweeps\r\n",
    "1 unit sep\r\n",
    "\r\n",
    "measured waveforms"
   ],
   "outputs": [],
   "metadata": {}
  },
  {
=======
>>>>>>> 909631f9ecad18aa76ae77209ab2629304dbc0fc
>>>>>>> Stashed changes
   "cell_type": "markdown",
   "source": [
    "# "
   ],
   "metadata": {}
  }
 ],
 "metadata": {
  "orig_nbformat": 4,
  "language_info": {
   "name": "python",
<<<<<<< Updated upstream
   "version": "3.7.7",
=======
<<<<<<< HEAD
   "version": "3.8.5",
=======
   "version": "3.7.7",
>>>>>>> 909631f9ecad18aa76ae77209ab2629304dbc0fc
>>>>>>> Stashed changes
   "mimetype": "text/x-python",
   "codemirror_mode": {
    "name": "ipython",
    "version": 3
   },
   "pygments_lexer": "ipython3",
   "nbconvert_exporter": "python",
   "file_extension": ".py"
  },
  "kernelspec": {
   "name": "python3",
<<<<<<< Updated upstream
=======
<<<<<<< HEAD
   "display_name": "Python 3.8.5 64-bit ('base': conda)"
  },
  "interpreter": {
   "hash": "9a32f0bf53af15acd232504180dc0ef28b8a6ac1a49da0a6c374e1f45bb445b6"
=======
>>>>>>> Stashed changes
   "display_name": "Python 3.7.7 64-bit ('base': conda)"
  },
  "interpreter": {
   "hash": "61820e52d70a1c1faf512b5148b4e2ed69ab88faacfacc53ee3905e34b33b48e"
<<<<<<< Updated upstream
=======
>>>>>>> 909631f9ecad18aa76ae77209ab2629304dbc0fc
>>>>>>> Stashed changes
  }
 },
 "nbformat": 4,
 "nbformat_minor": 2
}