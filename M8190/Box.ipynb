{
 "cells": [
  {
   "cell_type": "markdown",
   "source": [
    "# All settings will be given to the channel 1 output, in the DC Amp out configuration"
   ],
   "metadata": {}
  },
  {
   "cell_type": "code",
   "execution_count": 1,
   "source": [
    "import numpy as np\r\n",
    "import pandas as pd\r\n",
    "import time\r\n",
    "import matplotlib\r\n",
    "import matplotlib.pyplot as plt\r\n",
    "import pyvisa as visa\r\n",
    "from matplotlib import animation\r\n",
    "from time import sleep\r\n",
    "from matplotlib.animation import FuncAnimation\r\n",
    "#Importing the functions from the module and the pulses dictionaries\r\n",
    "from Sweeping import *\r\n",
    "from Dictionaries import *\r\n",
    "from PulseFiles import *\r\n",
    "from Instrument import *\r\n",
    "import pyqtgraph as pg \r\n",
    "import nidaqmx"
   ],
   "outputs": [],
   "metadata": {}
  },
  {
   "cell_type": "code",
   "execution_count": 1,
   "source": [],
   "outputs": [],
   "metadata": {}
  },
  {
   "cell_type": "markdown",
   "source": [
    "# Visa interface for the M8190A instrument:"
   ],
   "metadata": {}
  },
  {
   "cell_type": "code",
   "execution_count": null,
   "source": [],
   "outputs": [],
   "metadata": {}
  },
  {
   "cell_type": "code",
   "execution_count": 2,
   "source": [
    "M8190A = VisaR(AWG_Settings4,60000)"
   ],
   "outputs": [],
   "metadata": {}
  },
  {
   "cell_type": "code",
   "execution_count": 4,
   "source": [
    "Initialization(M8190A,AWG_Settings4)"
   ],
   "outputs": [
    {
     "output_type": "stream",
     "name": "stdout",
     "text": [
      "Instruments Sampling Frecuency set to 5.00000000000000E+08Hz\n",
      "Instruments DC1 Output route Voltage set to 7.00000000000000E-01deciVolts\n"
     ]
    }
   ],
   "metadata": {}
  },
  {
   "cell_type": "code",
   "execution_count": 4,
   "source": [
    "M8190A.query('*IDN?')"
   ],
   "outputs": [
    {
     "output_type": "execute_result",
     "data": {
      "text/plain": [
       "'Agilent Technologies,M8190A,MY57701776,5.6.0.0-2'"
      ]
     },
     "metadata": {},
     "execution_count": 4
    }
   ],
   "metadata": {}
  },
  {
   "cell_type": "code",
   "execution_count": 3,
   "source": [
    "M8190A.write('*RST')"
   ],
   "outputs": [
    {
     "output_type": "execute_result",
     "data": {
      "text/plain": [
       "5"
      ]
     },
     "metadata": {},
     "execution_count": 3
    }
   ],
   "metadata": {}
  },
  {
   "cell_type": "code",
   "execution_count": 5,
   "source": [
    "M8190A.query('FREQ:RAST?')"
   ],
   "outputs": [
    {
     "output_type": "execute_result",
     "data": {
      "text/plain": [
       "'5.00000000000000E+08'"
      ]
     },
     "metadata": {},
     "execution_count": 5
    }
   ],
   "metadata": {}
  },
  {
   "cell_type": "code",
   "execution_count": 6,
   "source": [
    "M8190A.query('SYST:ERR?')"
   ],
   "outputs": [
    {
     "output_type": "execute_result",
     "data": {
      "text/plain": [
       "'0,\"No error\"'"
      ]
     },
     "metadata": {},
     "execution_count": 6
    }
   ],
   "metadata": {}
  },
  {
   "cell_type": "code",
   "execution_count": 4,
   "source": [
    "print(M8190A)"
   ],
   "outputs": [
    {
     "output_type": "stream",
     "name": "stdout",
     "text": [
      "TCPIPInstrument at TCPIP0::ibn3-036.ibn-net.kfa-juelich.de::hislip0::INSTR\n"
     ]
    }
   ],
   "metadata": {}
  },
  {
   "cell_type": "markdown",
   "source": [
    "# Loading a single waveform:"
   ],
   "metadata": {}
  },
  {
   "cell_type": "code",
   "execution_count": 5,
   "source": [
    "#triggering related to M8190A.write(':INIT:GATE1 0')\r\n",
    "# M8190A.write(':INIT:CONT1 0')\r\n",
    "#15ms time length\r\n",
    "#maybe I have to modified this function to account for different loops on TRAC subsystem with instrument.write(':TRAC1:COUN L'); with L the number of desired loops\r\n",
    "\r\n",
    "Segment_File(M8190A,\"D:\\Alejandro\\Pulses\\Dict\\S2\\SegmentA_7500000_1.csv\",1)\r\n"
   ],
   "outputs": [],
   "metadata": {}
  },
  {
   "cell_type": "code",
   "execution_count": 5,
   "source": [
    "#Trigger mode\r\n",
    "\r\n",
    "M8190A.write(':INIT:GATE1 0')\r\n",
    "M8190A.write(':INIT:CONT1 0')\r\n",
    "M8190A.write(':ARM:TRIG:IMP HIGH')\r\n",
    "M8190A.write('ARM:TRIG:LEV 1')\r\n"
   ],
   "outputs": [
    {
     "output_type": "execute_result",
     "data": {
      "text/plain": [
       "15"
      ]
     },
     "metadata": {},
     "execution_count": 5
    }
   ],
   "metadata": {}
  },
  {
   "cell_type": "code",
   "execution_count": 6,
   "source": [
    "M8190A.write('INIT:IMM')"
   ],
   "outputs": [
    {
     "output_type": "execute_result",
     "data": {
      "text/plain": [
       "9"
      ]
     },
     "metadata": {},
     "execution_count": 6
    }
   ],
   "metadata": {}
  },
  {
   "cell_type": "code",
   "execution_count": 8,
   "source": [
    "M8190A.write('TRIG:BEG')"
   ],
   "outputs": [
    {
     "data": {
      "text/plain": [
       "9"
      ]
     },
     "metadata": {},
     "output_type": "display_data"
    }
   ],
   "metadata": {}
  },
  {
   "cell_type": "code",
   "execution_count": null,
   "source": [
    "Trigger_Pulse('DAQBNC1','ao1',2,4)"
   ],
   "outputs": [],
   "metadata": {}
  },
  {
   "cell_type": "code",
   "execution_count": 9,
   "source": [
    "M8190A.write('ABOR')"
   ],
   "outputs": [
    {
     "output_type": "execute_result",
     "data": {
      "text/plain": [
       "5"
      ]
     },
     "metadata": {},
     "execution_count": 9
    }
   ],
   "metadata": {}
  },
  {
   "cell_type": "code",
   "execution_count": 22,
   "source": [
    "task = nidaqmx.Task()\r\n",
    "\r\n",
    "task.ai_channels.add_ai_voltage_chan(\"DAQBNC1/ai0\",min_val=-4,max_val=4)\r\n",
    "\r\n",
    "task.start()\r\n",
    "\r\n",
    "N = 100\r\n",
    "\r\n",
    "\r\n",
    "data_on = np.array(task.read(N))\r\n",
    "\r\n",
    "\r\n",
    "\r\n",
    "task.stop()\r\n",
    "task.close\r\n",
    "\r\n",
    "tom = np.linspace(0,N,N)\r\n",
    "\r\n",
    "\r\n",
    "fig,ax= plt.subplots()\r\n",
    "\r\n",
    "ax.grid(True)\r\n",
    "#plt.plot(tom,data_off,label= 'AWG off')\r\n",
    "plt.plot(tom,data_on*1000,label= '{b} samples'.format(b=N),color='orange')\r\n",
    "\r\n",
    "ax.set_ylabel('V  [mV]')\r\n",
    "ax.set_xlabel('t  [s]?')\r\n",
    "ax.set_title('Voltage Amplitude measured with DAQ')\r\n",
    "plt.legend(bbox_to_anchor=(1.05, 1), loc='upper left', borderaxespad=0.)\r\n",
    "plt.show()\r\n",
    "#fig.savefig('Pulse_sweep_t=20',optimize=True,bbox_inches='tight')"
   ],
   "outputs": [
    {
     "output_type": "display_data",
     "data": {
      "text/plain": [
       "<Figure size 432x288 with 1 Axes>"
      ],
      "image/png": "[encoded data removed]"
     },
     "metadata": {
      "needs_background": "light"
     }
    }
   ],
   "metadata": {}
  },
  {
   "cell_type": "code",
   "execution_count": 44,
   "source": [
    "data_on.shape"
   ],
   "outputs": [
    {
     "output_type": "execute_result",
     "data": {
      "text/plain": [
       "(100,)"
      ]
     },
     "metadata": {},
     "execution_count": 44
    }
   ],
   "metadata": {}
  },
  {
   "cell_type": "markdown",
   "source": [
    "# Trigger documentation: AWG manual pp 106\r\n",
    "## Sequencing mode either arbitrary or STS\r\n",
    "\r\n",
    "## Trigger Mode in Triggered \r\n",
    "\r\n",
    "## Advance mode options:\r\n",
    "    1. Auto: The segment is executed the number of times specified by its loop count. Then the last sample is played at the end.\r\n",
    "    2. Repeat: This advancement mode is quite the same like “Auto” with the difference that an advancement event is required at the end.\r\n",
    "    3. Single: An advancement event is required for each segment repetition.\r\n",
    "    4. Conditional: The segment is played infinitely after receiving a trigger. After being stopped (See SCPI command :ABORt[1|2]) the offset value is played.\r\n",
    "\r\n",
    "    :ARM:TRIG:LEV 0.4 = 400mV threshold for trigger in, goes from-5V to 5V"
   ],
   "metadata": {}
  },
  {
   "cell_type": "code",
   "execution_count": 40,
   "source": [
    "val = 0.5\r\n",
    "M8190A.write('ARM:TRIG:LEV {v}'.format(v = val))"
   ],
   "outputs": [
    {
     "output_type": "execute_result",
     "data": {
      "text/plain": [
       "17"
      ]
     },
     "metadata": {},
     "execution_count": 40
    }
   ],
   "metadata": {}
  },
  {
   "cell_type": "code",
   "execution_count": 37,
   "source": [
    "trigger_task.close()"
   ],
   "outputs": [
    {
     "output_type": "stream",
     "name": "stderr",
     "text": [
      "C:\\Users\\a.hernandez.de.la.ve\\Anaconda3\\lib\\site-packages\\nidaqmx\\task.py:461: ResourceWarning: Attempted to close NI-DAQmx task of name \"_unnamedTask<1D>\" but task was already closed.\n",
      "  warnings.warn(\n"
     ]
    }
   ],
   "metadata": {}
  },
  {
   "cell_type": "markdown",
   "source": [
    "# TRIG Subsystem:\r\n",
    "\r\n",
    "pp 210 manual"
   ],
   "metadata": {}
  },
  {
   "cell_type": "code",
   "execution_count": 10,
   "source": [
    "M8190A.query('ARM:TRIG:LEV?')"
   ],
   "outputs": [
    {
     "output_type": "execute_result",
     "data": {
      "text/plain": [
       "'5.00000000000000E-01'"
      ]
     },
     "metadata": {},
     "execution_count": 10
    }
   ],
   "metadata": {}
  },
  {
   "cell_type": "markdown",
   "source": [
    "Set or query the source for the enable event.\r\n",
    "TRIGger - trigger input\r\n",
    "EVENt - event input"
   ],
   "metadata": {}
  },
  {
   "cell_type": "code",
   "execution_count": 12,
   "source": [
    "M8190A.query(':TRIG:SOUR:ENAB?')\r\n"
   ],
   "outputs": [
    {
     "output_type": "execute_result",
     "data": {
      "text/plain": [
       "'TRIG'"
      ]
     },
     "metadata": {},
     "execution_count": 12
    }
   ],
   "metadata": {}
  },
  {
   "cell_type": "markdown",
   "source": [
    "Set or query the hardware input disable state for the enable function. When the hardware input is disabled, an enable event can only be generated using the :TRIGger[:SEQuence][:STARt]:ENABle[1|2][:IMMediate] command. When the hardware input is enabled, an enable event can be generated by command or by a signal present at the trigger or event input."
   ],
   "metadata": {}
  },
  {
   "cell_type": "code",
   "execution_count": 39,
   "source": [
    "M8190A.query(':TRIG:ENAB:HWD?')"
   ],
   "outputs": [
    {
     "output_type": "execute_result",
     "data": {
      "text/plain": [
       "'1'"
      ]
     },
     "metadata": {},
     "execution_count": 39
    }
   ],
   "metadata": {}
  },
  {
   "cell_type": "code",
   "execution_count": 14,
   "source": [
    "M8190A.write(':TRIG:ENAB:HWD 1')"
   ],
   "outputs": [
    {
     "output_type": "execute_result",
     "data": {
      "text/plain": [
       "17"
      ]
     },
     "metadata": {},
     "execution_count": 14
    }
   ],
   "metadata": {}
  },
  {
   "cell_type": "markdown",
   "source": [],
   "metadata": {}
  },
  {
   "cell_type": "code",
   "execution_count": 40,
   "source": [
    "M8190A.query(':TRIG:BEG:HWD?')"
   ],
   "outputs": [
    {
     "output_type": "execute_result",
     "data": {
      "text/plain": [
       "'1'"
      ]
     },
     "metadata": {},
     "execution_count": 40
    }
   ],
   "metadata": {}
  },
  {
   "cell_type": "markdown",
   "source": [
    "Set or query the hardware input disable state for the trigger function. When the hardware input is disabled, a trigger can only be generated using the :TRIGger[:SEQuence][:STARt]:BEGin[1|2][:IMMediate] command. When the hardware input is enabled, a trigger can be generated by command, by a signal present at the trigger input or the internal trigger generator."
   ],
   "metadata": {}
  },
  {
   "cell_type": "code",
   "execution_count": 11,
   "source": [
    "M8190A.write('TRIG:BEG:HWD 1')"
   ],
   "outputs": [
    {
     "output_type": "execute_result",
     "data": {
      "text/plain": [
       "15"
      ]
     },
     "metadata": {},
     "execution_count": 11
    }
   ],
   "metadata": {}
  },
  {
   "cell_type": "code",
   "execution_count": 43,
   "source": [
    "M8190A.query('TRIG:ADV:HWD?')"
   ],
   "outputs": [
    {
     "output_type": "execute_result",
     "data": {
      "text/plain": [
       "'1'"
      ]
     },
     "metadata": {},
     "execution_count": 43
    }
   ],
   "metadata": {}
  },
  {
   "cell_type": "code",
   "execution_count": 42,
   "source": [
    "M8190A.write('TRIG:ADV:HWD 1')"
   ],
   "outputs": [
    {
     "output_type": "execute_result",
     "data": {
      "text/plain": [
       "15"
      ]
     },
     "metadata": {},
     "execution_count": 42
    }
   ],
   "metadata": {}
  },
  {
   "cell_type": "markdown",
   "source": [
    "# TRIG -Trigger input pp 212\r\n",
    "\r\n"
   ],
   "metadata": {}
  },
  {
   "cell_type": "code",
   "execution_count": 45,
   "source": [
    "M8190A.write(':TRIG:SOUR:ADV TRIG')"
   ],
   "outputs": [
    {
     "output_type": "execute_result",
     "data": {
      "text/plain": [
       "20"
      ]
     },
     "metadata": {},
     "execution_count": 45
    }
   ],
   "metadata": {}
  },
  {
   "cell_type": "code",
   "execution_count": 46,
   "source": [
    "M8190A.query(':TRIG:SOUR:ADV?')"
   ],
   "outputs": [
    {
     "output_type": "execute_result",
     "data": {
      "text/plain": [
       "'TRIG'"
      ]
     },
     "metadata": {},
     "execution_count": 46
    }
   ],
   "metadata": {}
  },
  {
   "cell_type": "code",
   "execution_count": 29,
   "source": [
    "Trigger_Pulse('DAQBNC1','ao1',2,4)"
   ],
   "outputs": [
    {
     "output_type": "stream",
     "name": "stdout",
     "text": [
      "Done\n"
     ]
    }
   ],
   "metadata": {}
  },
  {
   "cell_type": "code",
   "execution_count": 25,
   "source": [
    "M8190A.write('INIT:IMM')"
   ],
   "outputs": [
    {
     "output_type": "execute_result",
     "data": {
      "text/plain": [
       "9"
      ]
     },
     "metadata": {},
     "execution_count": 25
    }
   ],
   "metadata": {}
  },
  {
   "cell_type": "code",
   "execution_count": 30,
   "source": [
    "M8190A.write('ABOR')\r\n"
   ],
   "outputs": [
    {
     "output_type": "execute_result",
     "data": {
      "text/plain": [
       "5"
      ]
     },
     "metadata": {},
     "execution_count": 30
    }
   ],
   "metadata": {}
  },
  {
   "cell_type": "code",
   "execution_count": 34,
   "source": [
    "M8190A.write('TRIG:ENAB') #no idea on what the enabling is "
   ],
   "outputs": [
    {
     "output_type": "execute_result",
     "data": {
      "text/plain": [
       "10"
      ]
     },
     "metadata": {},
     "execution_count": 34
    }
   ],
   "metadata": {}
  },
  {
   "cell_type": "code",
   "execution_count": 9,
   "source": [
    "M8190A.write(':TRIG:BEG')"
   ],
   "outputs": [
    {
     "output_type": "execute_result",
     "data": {
      "text/plain": [
       "10"
      ]
     },
     "metadata": {},
     "execution_count": 9
    }
   ],
   "metadata": {}
  },
  {
   "cell_type": "code",
   "execution_count": null,
   "source": [],
   "outputs": [],
   "metadata": {}
  },
  {
   "cell_type": "code",
   "execution_count": 43,
   "source": [
    "M8190A.query('ARM:TRIG:SOUR?')\r\n",
    "M8190A.query(':ARM:TRIG:SLOP EITH')"
   ],
   "outputs": [
    {
     "output_type": "execute_result",
     "data": {
      "text/plain": [
       "'EXT'"
      ]
     },
     "metadata": {},
     "execution_count": 43
    }
   ],
   "metadata": {}
  },
  {
   "cell_type": "code",
   "execution_count": null,
   "source": [],
   "outputs": [],
   "metadata": {}
  },
  {
   "cell_type": "markdown",
   "source": [
    "# Pulse Sequence in seconds regime"
   ],
   "metadata": {}
  },
  {
   "cell_type": "code",
   "execution_count": 2,
   "source": [
    "Sweep(PList_secondsA,5,0,15,1875000000)\r\n",
    "7500000"
   ],
   "outputs": [],
   "metadata": {}
  },
  {
   "cell_type": "code",
   "execution_count": 3,
   "source": [
    "Sequence_Pulse_List(PList_secondsA,PList_secondsB,10,0,15,7500000,M8190A,AWG_Settings4,1)\r\n",
    "\r\n"
   ],
   "outputs": [
    {
     "output_type": "stream",
     "name": "stdout",
     "text": [
      "Current Segment Catalogue is 1,7500000  [(segment id, Segment size)]\n",
      "Current Segment Catalogue is 1,7500000,2,7500000  [(segment id, Segment size)]\n",
      "Sequence loaded with the following segment data \"1,1,0,1,0,7499999,2,1,0,1,0,7499999\"\n"
     ]
    },
    {
     "output_type": "execute_result",
     "data": {
      "text/plain": [
       "(0,\n",
       "                Y1  SyncMarker1  SampleMarker1\n",
       " 0        0.000000            1              1\n",
       " 1        0.857143            1              1\n",
       " 2        0.857143            1              1\n",
       " 3        0.857143            1              1\n",
       " 4        0.857143            1              1\n",
       " ...           ...          ...            ...\n",
       " 7499995  0.000000            1              1\n",
       " 7499996  0.000000            1              1\n",
       " 7499997  0.000000            1              1\n",
       " 7499998  0.000000            1              1\n",
       " 7499999  0.000000            1              1\n",
       " \n",
       " [7500000 rows x 3 columns],\n",
       "                Y1  SyncMarker1  SampleMarker1\n",
       " 0        0.000000            0              0\n",
       " 1        0.857143            0              0\n",
       " 2        0.857143            0              0\n",
       " 3        0.857143            0              0\n",
       " 4        0.857143            0              0\n",
       " ...           ...          ...            ...\n",
       " 7499995  0.000000            0              0\n",
       " 7499996  0.000000            0              0\n",
       " 7499997  0.000000            0              0\n",
       " 7499998  0.000000            0              0\n",
       " 7499999  0.000000            0              0\n",
       " \n",
       " [7500000 rows x 3 columns],\n",
       " array([0.00000000e+00, 2.00000027e-06, 4.00000053e-06, ...,\n",
       "        1.49999960e+01, 1.49999980e+01, 1.50000000e+01]))"
      ]
     },
     "metadata": {},
     "execution_count": 3
    }
   ],
   "metadata": {}
  },
  {
   "cell_type": "code",
   "execution_count": 4,
   "source": [
    "M8190A.write(':INIT:GATE1 0')\r\n",
    "M8190A.write(':INIT:CONT1 0')\r\n",
    "M8190A.write(':ARM:TRIG:IMP HIGH')\r\n",
    "M8190A.write('ARM:TRIG:LEV 1')"
   ],
   "outputs": [
    {
     "output_type": "execute_result",
     "data": {
      "text/plain": [
       "15"
      ]
     },
     "metadata": {},
     "execution_count": 4
    }
   ],
   "metadata": {}
  },
  {
   "cell_type": "code",
   "execution_count": 16,
   "source": [
    "Trigger_Pulse('DAQBNC1','ao1',2,3)"
   ],
   "outputs": [
    {
     "output_type": "stream",
     "name": "stdout",
     "text": [
      "Done\n"
     ]
    }
   ],
   "metadata": {}
  },
  {
   "cell_type": "code",
   "execution_count": 8,
   "source": [
    "M8190A.write('TRIG:BEG')"
   ],
   "outputs": [
    {
     "data": {
      "text/plain": [
       "9"
      ]
     },
     "metadata": {},
     "output_type": "display_data"
    }
   ],
   "metadata": {}
  },
  {
   "cell_type": "code",
   "execution_count": 32,
   "source": [
    "125000000*15"
   ],
   "outputs": [
    {
     "output_type": "execute_result",
     "data": {
      "text/plain": [
       "1875000000"
      ]
     },
     "metadata": {},
     "execution_count": 32
    }
   ],
   "metadata": {}
  },
  {
   "cell_type": "code",
   "execution_count": 33,
   "source": [
    "1875000000/480"
   ],
   "outputs": [
    {
     "output_type": "execute_result",
     "data": {
      "text/plain": [
       "3906250.0"
      ]
     },
     "metadata": {},
     "execution_count": 33
    }
   ],
   "metadata": {}
  },
  {
   "cell_type": "code",
   "execution_count": null,
   "source": [],
   "outputs": [],
   "metadata": {}
  },
  {
   "cell_type": "code",
   "execution_count": null,
   "source": [],
   "outputs": [],
   "metadata": {}
  },
  {
   "cell_type": "code",
   "execution_count": null,
   "source": [],
   "outputs": [],
   "metadata": {}
  },
  {
   "cell_type": "code",
   "execution_count": null,
   "source": [],
   "outputs": [],
   "metadata": {}
  },
  {
   "cell_type": "code",
   "execution_count": null,
   "source": [],
   "outputs": [],
   "metadata": {}
  },
  {
   "cell_type": "code",
   "execution_count": null,
   "source": [],
   "outputs": [],
   "metadata": {}
  },
  {
   "cell_type": "code",
   "execution_count": null,
   "source": [],
   "outputs": [],
   "metadata": {}
  },
  {
   "cell_type": "code",
   "execution_count": null,
   "source": [],
   "outputs": [],
   "metadata": {}
  },
  {
   "cell_type": "code",
   "execution_count": null,
   "source": [],
   "outputs": [],
   "metadata": {}
  },
  {
   "cell_type": "code",
   "execution_count": null,
   "source": [],
   "outputs": [],
   "metadata": {}
  },
  {
   "cell_type": "code",
   "execution_count": null,
   "source": [],
   "outputs": [],
   "metadata": {}
  },
  {
   "cell_type": "code",
   "execution_count": 44,
   "source": [
    "M8190A.query('ARM:TRIG:LEV?')"
   ],
   "outputs": [
    {
     "output_type": "execute_result",
     "data": {
      "text/plain": [
       "'5.00000000000000E-01'"
      ]
     },
     "metadata": {},
     "execution_count": 44
    }
   ],
   "metadata": {}
  },
  {
   "cell_type": "code",
   "execution_count": 47,
   "source": [
    "DataFramesPSscheme['SegmentA_7500000_1']"
   ],
   "outputs": [
    {
     "output_type": "execute_result",
     "data": {
      "text/plain": [
       "               Y1  SyncMarker1  SampleMarker1\n",
       "0        0.000000            1              1\n",
       "1        0.571429            1              1\n",
       "2        0.571429            1              1\n",
       "3        0.571429            1              1\n",
       "4        0.571429            1              1\n",
       "...           ...          ...            ...\n",
       "7499995  0.000000            1              1\n",
       "7499996  0.000000            1              1\n",
       "7499997  0.000000            1              1\n",
       "7499998  0.000000            1              1\n",
       "7499999  0.000000            1              1\n",
       "\n",
       "[7500000 rows x 3 columns]"
      ],
      "text/html": [
       "<div>\n",
       "<style scoped>\n",
       "    .dataframe tbody tr th:only-of-type {\n",
       "        vertical-align: middle;\n",
       "    }\n",
       "\n",
       "    .dataframe tbody tr th {\n",
       "        vertical-align: top;\n",
       "    }\n",
       "\n",
       "    .dataframe thead th {\n",
       "        text-align: right;\n",
       "    }\n",
       "</style>\n",
       "<table border=\"1\" class=\"dataframe\">\n",
       "  <thead>\n",
       "    <tr style=\"text-align: right;\">\n",
       "      <th></th>\n",
       "      <th>Y1</th>\n",
       "      <th>SyncMarker1</th>\n",
       "      <th>SampleMarker1</th>\n",
       "    </tr>\n",
       "  </thead>\n",
       "  <tbody>\n",
       "    <tr>\n",
       "      <th>0</th>\n",
       "      <td>0.000000</td>\n",
       "      <td>1</td>\n",
       "      <td>1</td>\n",
       "    </tr>\n",
       "    <tr>\n",
       "      <th>1</th>\n",
       "      <td>0.571429</td>\n",
       "      <td>1</td>\n",
       "      <td>1</td>\n",
       "    </tr>\n",
       "    <tr>\n",
       "      <th>2</th>\n",
       "      <td>0.571429</td>\n",
       "      <td>1</td>\n",
       "      <td>1</td>\n",
       "    </tr>\n",
       "    <tr>\n",
       "      <th>3</th>\n",
       "      <td>0.571429</td>\n",
       "      <td>1</td>\n",
       "      <td>1</td>\n",
       "    </tr>\n",
       "    <tr>\n",
       "      <th>4</th>\n",
       "      <td>0.571429</td>\n",
       "      <td>1</td>\n",
       "      <td>1</td>\n",
       "    </tr>\n",
       "    <tr>\n",
       "      <th>...</th>\n",
       "      <td>...</td>\n",
       "      <td>...</td>\n",
       "      <td>...</td>\n",
       "    </tr>\n",
       "    <tr>\n",
       "      <th>7499995</th>\n",
       "      <td>0.000000</td>\n",
       "      <td>1</td>\n",
       "      <td>1</td>\n",
       "    </tr>\n",
       "    <tr>\n",
       "      <th>7499996</th>\n",
       "      <td>0.000000</td>\n",
       "      <td>1</td>\n",
       "      <td>1</td>\n",
       "    </tr>\n",
       "    <tr>\n",
       "      <th>7499997</th>\n",
       "      <td>0.000000</td>\n",
       "      <td>1</td>\n",
       "      <td>1</td>\n",
       "    </tr>\n",
       "    <tr>\n",
       "      <th>7499998</th>\n",
       "      <td>0.000000</td>\n",
       "      <td>1</td>\n",
       "      <td>1</td>\n",
       "    </tr>\n",
       "    <tr>\n",
       "      <th>7499999</th>\n",
       "      <td>0.000000</td>\n",
       "      <td>1</td>\n",
       "      <td>1</td>\n",
       "    </tr>\n",
       "  </tbody>\n",
       "</table>\n",
       "<p>7500000 rows × 3 columns</p>\n",
       "</div>"
      ]
     },
     "metadata": {},
     "execution_count": 47
    }
   ],
   "metadata": {}
  },
  {
   "cell_type": "code",
   "execution_count": 51,
   "source": [
    "fig,ax= plt.subplots()\r\n",
    "\r\n",
    "ax.grid(True)\r\n",
    "\r\n",
    "plt.plot(timeinterval,DataFramesPSscheme['SegmentA_7500000_1']['Y1']*AWG_Settings2['Voltage Amplitude'],label= 'Segment A')\r\n",
    "ax.set_ylabel('V  [mV]')\r\n",
    "ax.set_xlabel('t  [ms]')\r\n",
    "ax.set_title('Segment Loaded to the AWG, csv file')\r\n",
    "ax.legend(loc=0)\r\n",
    "plt.show()\r\n",
    "#fig.savefig('Pulse_sweep_t=20',optimize=True,bbox_inches='tight')"
   ],
   "outputs": [
    {
     "output_type": "display_data",
     "data": {
      "text/plain": [
       "<Figure size 432x288 with 1 Axes>"
      ],
      "image/png": "[encoded data removed]"
     },
     "metadata": {
      "needs_background": "light"
     }
    }
   ],
   "metadata": {}
  },
  {
   "cell_type": "code",
   "execution_count": 13,
   "source": [
    "#Dummy version below!\r\n",
    "\r\n",
    "\r\n",
    "tic = time.time()\r\n",
    "\r\n",
    "DataFramesPSscheme, DataFramesPSschemes2 , timeinterval = Sequence_Loader_List(PScheme,PScheme2,5,15,7500000,0,5,M8190A,AWG_Settings2,1,10)\r\n",
    "\r\n",
    "toc = time.time()\r\n",
    "\r\n",
    "dur = toc -tic"
   ],
   "outputs": [
    {
     "output_type": "error",
     "ename": "KeyboardInterrupt",
     "evalue": "",
     "traceback": [
      "\u001b[1;31m---------------------------------------------------------------------------\u001b[0m",
      "\u001b[1;31mKeyboardInterrupt\u001b[0m                         Traceback (most recent call last)",
      "\u001b[1;32m<ipython-input-13-8918ef027dc4>\u001b[0m in \u001b[0;36m<module>\u001b[1;34m\u001b[0m\n\u001b[0;32m      1\u001b[0m \u001b[0mtic\u001b[0m \u001b[1;33m=\u001b[0m \u001b[0mtime\u001b[0m\u001b[1;33m.\u001b[0m\u001b[0mtime\u001b[0m\u001b[1;33m(\u001b[0m\u001b[1;33m)\u001b[0m\u001b[1;33m\u001b[0m\u001b[1;33m\u001b[0m\u001b[0m\n\u001b[0;32m      2\u001b[0m \u001b[1;33m\u001b[0m\u001b[0m\n\u001b[1;32m----> 3\u001b[1;33m \u001b[0mDataFramesPSscheme\u001b[0m\u001b[1;33m,\u001b[0m \u001b[0mDataFramesPSschemes2\u001b[0m \u001b[1;33m,\u001b[0m \u001b[0mtimeinterval\u001b[0m \u001b[1;33m=\u001b[0m \u001b[0mSequence_Loader_List\u001b[0m\u001b[1;33m(\u001b[0m\u001b[0mPScheme\u001b[0m\u001b[1;33m,\u001b[0m\u001b[0mPScheme2\u001b[0m\u001b[1;33m,\u001b[0m\u001b[1;36m5\u001b[0m\u001b[1;33m,\u001b[0m\u001b[1;36m15\u001b[0m\u001b[1;33m,\u001b[0m\u001b[1;36m7500000\u001b[0m\u001b[1;33m,\u001b[0m\u001b[1;36m0\u001b[0m\u001b[1;33m,\u001b[0m\u001b[1;36m5\u001b[0m\u001b[1;33m,\u001b[0m\u001b[0mM8190A\u001b[0m\u001b[1;33m,\u001b[0m\u001b[0mAWG_Settings2\u001b[0m\u001b[1;33m,\u001b[0m\u001b[1;36m1\u001b[0m\u001b[1;33m,\u001b[0m\u001b[1;36m10\u001b[0m\u001b[1;33m)\u001b[0m\u001b[1;33m\u001b[0m\u001b[1;33m\u001b[0m\u001b[0m\n\u001b[0m\u001b[0;32m      4\u001b[0m \u001b[1;33m\u001b[0m\u001b[0m\n\u001b[0;32m      5\u001b[0m \u001b[0mtoc\u001b[0m \u001b[1;33m=\u001b[0m \u001b[0mtime\u001b[0m\u001b[1;33m.\u001b[0m\u001b[0mtime\u001b[0m\u001b[1;33m(\u001b[0m\u001b[1;33m)\u001b[0m\u001b[1;33m\u001b[0m\u001b[1;33m\u001b[0m\u001b[0m\n",
      "\u001b[1;32mc:\\Users\\a.hernandez.de.la.ve\\Documents\\GitHub\\STM\\M8190\\Instrument.py\u001b[0m in \u001b[0;36mSequence_Loader_List\u001b[1;34m(PulseList1, PulseList2, P, t, N, start, stop, instrument, AWG, loop, sleeptime)\u001b[0m\n\u001b[0;32m    265\u001b[0m \u001b[1;33m\u001b[0m\u001b[0m\n\u001b[0;32m    266\u001b[0m     \u001b[1;31m#SegmentA of the sequence\u001b[0m\u001b[1;33m\u001b[0m\u001b[1;33m\u001b[0m\u001b[1;33m\u001b[0m\u001b[0m\n\u001b[1;32m--> 267\u001b[1;33m     \u001b[0mLoc1\u001b[0m\u001b[1;33m,\u001b[0m\u001b[0mDF1\u001b[0m\u001b[1;33m,\u001b[0m\u001b[0mtimm\u001b[0m \u001b[1;33m=\u001b[0m \u001b[0mSweep_Iteration_CSV_List\u001b[0m\u001b[1;33m(\u001b[0m\u001b[0mPulseList1\u001b[0m\u001b[1;33m,\u001b[0m\u001b[0mP\u001b[0m\u001b[1;33m,\u001b[0m\u001b[0mt\u001b[0m\u001b[1;33m,\u001b[0m\u001b[0mN\u001b[0m\u001b[1;33m,\u001b[0m\u001b[0mstart\u001b[0m\u001b[1;33m,\u001b[0m\u001b[0mstop\u001b[0m\u001b[1;33m,\u001b[0m\u001b[0mAWG\u001b[0m\u001b[1;33m,\u001b[0m\u001b[1;36m1\u001b[0m\u001b[1;33m)\u001b[0m\u001b[1;33m\u001b[0m\u001b[1;33m\u001b[0m\u001b[0m\n\u001b[0m\u001b[0;32m    268\u001b[0m \u001b[1;33m\u001b[0m\u001b[0m\n\u001b[0;32m    269\u001b[0m     \u001b[1;31m#SegmentB of the Sequence\u001b[0m\u001b[1;33m\u001b[0m\u001b[1;33m\u001b[0m\u001b[1;33m\u001b[0m\u001b[0m\n",
      "\u001b[1;32mc:\\Users\\a.hernandez.de.la.ve\\Documents\\GitHub\\STM\\M8190\\PulseFiles.py\u001b[0m in \u001b[0;36mSweep_Iteration_CSV_List\u001b[1;34m(PulList, P, t, N, start, stop, AWG, marker)\u001b[0m\n\u001b[0;32m     76\u001b[0m     \"\"\"\n\u001b[0;32m     77\u001b[0m \u001b[1;33m\u001b[0m\u001b[0m\n\u001b[1;32m---> 78\u001b[1;33m     \u001b[0mpultau\u001b[0m\u001b[1;33m,\u001b[0m\u001b[0mtime\u001b[0m \u001b[1;33m=\u001b[0m \u001b[0mSweep_Iteration\u001b[0m\u001b[1;33m(\u001b[0m\u001b[0mPulList\u001b[0m\u001b[1;33m,\u001b[0m\u001b[0mP\u001b[0m\u001b[1;33m,\u001b[0m\u001b[0mt\u001b[0m\u001b[1;33m,\u001b[0m\u001b[0mN\u001b[0m\u001b[1;33m,\u001b[0m\u001b[0mstart\u001b[0m\u001b[1;33m,\u001b[0m\u001b[0mstop\u001b[0m\u001b[1;33m)\u001b[0m\u001b[1;33m\u001b[0m\u001b[1;33m\u001b[0m\u001b[0m\n\u001b[0m\u001b[0;32m     79\u001b[0m     \u001b[0mStrngName\u001b[0m\u001b[1;33m,\u001b[0m \u001b[0mDataFrames\u001b[0m \u001b[1;33m=\u001b[0m \u001b[0mSweep_Iteration_CSV_Arrays\u001b[0m\u001b[1;33m(\u001b[0m\u001b[0mpultau\u001b[0m\u001b[1;33m,\u001b[0m\u001b[0mAWG\u001b[0m\u001b[1;33m,\u001b[0m\u001b[0mmarker\u001b[0m\u001b[1;33m,\u001b[0m\u001b[0mstart\u001b[0m\u001b[1;33m)\u001b[0m\u001b[1;33m\u001b[0m\u001b[1;33m\u001b[0m\u001b[0m\n\u001b[0;32m     80\u001b[0m \u001b[1;33m\u001b[0m\u001b[0m\n",
      "\u001b[1;32mc:\\Users\\a.hernandez.de.la.ve\\Documents\\GitHub\\STM\\M8190\\Sweeping.py\u001b[0m in \u001b[0;36mSweep_Iteration\u001b[1;34m(PulList, P, t, N, start, stop)\u001b[0m\n\u001b[0;32m     89\u001b[0m \u001b[1;33m\u001b[0m\u001b[0m\n\u001b[0;32m     90\u001b[0m     \u001b[1;32mfor\u001b[0m \u001b[0mp\u001b[0m \u001b[1;32min\u001b[0m \u001b[0mrange\u001b[0m\u001b[1;33m(\u001b[0m\u001b[1;36m0\u001b[0m\u001b[1;33m,\u001b[0m\u001b[0mL\u001b[0m\u001b[1;33m+\u001b[0m\u001b[1;36m1\u001b[0m\u001b[1;33m)\u001b[0m\u001b[1;33m:\u001b[0m\u001b[1;33m\u001b[0m\u001b[1;33m\u001b[0m\u001b[0m\n\u001b[1;32m---> 91\u001b[1;33m         \u001b[0mpultau\u001b[0m\u001b[1;33m[\u001b[0m\u001b[1;33m(\u001b[0m\u001b[0mp\u001b[0m\u001b[1;33m)\u001b[0m\u001b[1;33m]\u001b[0m\u001b[1;33m,\u001b[0m\u001b[0mtime\u001b[0m\u001b[1;33m=\u001b[0m \u001b[0mSweep\u001b[0m\u001b[1;33m(\u001b[0m\u001b[0mPulList\u001b[0m\u001b[1;33m,\u001b[0m\u001b[0mP\u001b[0m\u001b[1;33m,\u001b[0m\u001b[0mp\u001b[0m\u001b[1;33m+\u001b[0m\u001b[0mstart\u001b[0m\u001b[1;33m,\u001b[0m\u001b[0mt\u001b[0m\u001b[1;33m,\u001b[0m\u001b[0mN\u001b[0m\u001b[1;33m)\u001b[0m\u001b[1;33m\u001b[0m\u001b[1;33m\u001b[0m\u001b[0m\n\u001b[0m\u001b[0;32m     92\u001b[0m \u001b[1;33m\u001b[0m\u001b[0m\n\u001b[0;32m     93\u001b[0m     \u001b[1;31m#this dictionary is for obtaining the proper name\u001b[0m\u001b[1;33m\u001b[0m\u001b[1;33m\u001b[0m\u001b[1;33m\u001b[0m\u001b[0m\n",
      "\u001b[1;31mKeyboardInterrupt\u001b[0m: "
     ]
    }
   ],
   "metadata": {}
  },
  {
   "cell_type": "markdown",
   "source": [
    "# Dummy function"
   ],
   "metadata": {}
  },
  {
   "cell_type": "code",
   "execution_count": 5,
   "source": [
    "#dummy function\r\n",
    "\r\n",
    "tic = time.time()\r\n",
    "\r\n",
    "DataFramesPSscheme, DataFramesPSschemes2 , timeinterval = Sequence_Loader_List_D(PScheme,PScheme2,5,15,7500000,3,5,M8190A,AWG_Settings2,1,10)\r\n",
    "\r\n",
    "toc = time.time()\r\n",
    "\r\n",
    "dur = toc -tic"
   ],
   "outputs": [
    {
     "output_type": "stream",
     "name": "stdout",
     "text": [
      "Sequence loaded with the following segment data \"1,1,0,1,0,7499999,2,1,0,1,0,7499999\"\n",
      "Dummy Segment loading ended\n",
      "Sequence loaded with the following segment data \"1,1,0,1,0,7499999,2,1,0,1,0,7499999\"\n",
      "Sequence loaded with the following segment data \"1,1,0,1,0,7499999,2,1,0,1,0,7499999\"\n",
      "Sequence loaded with the following segment data \"1,1,0,1,0,7499999,2,1,0,1,0,7499999\"\n"
     ]
    }
   ],
   "metadata": {}
  },
  {
   "cell_type": "code",
   "execution_count": 8,
   "source": [
    "dur"
   ],
   "outputs": [
    {
     "output_type": "execute_result",
     "data": {
      "text/plain": [
       "120.69200253486633"
      ]
     },
     "metadata": {},
     "execution_count": 8
    }
   ],
   "metadata": {}
  },
  {
   "cell_type": "code",
   "execution_count": 11,
   "source": [
    "DataFramesPSscheme"
   ],
   "outputs": [
    {
     "output_type": "execute_result",
     "data": {
      "text/plain": [
       "{'SegmentA_7500000_3':                Y1  SyncMarker1  SampleMarker1\n",
       " 0        0.000000            1              1\n",
       " 1        0.666667            1              1\n",
       " 2        0.666667            1              1\n",
       " 3        0.666667            1              1\n",
       " 4        0.666667            1              1\n",
       " ...           ...          ...            ...\n",
       " 7499995  0.000000            1              1\n",
       " 7499996  0.000000            1              1\n",
       " 7499997  0.000000            1              1\n",
       " 7499998  0.000000            1              1\n",
       " 7499999  0.000000            1              1\n",
       " \n",
       " [7500000 rows x 3 columns],\n",
       " 'SegmentA_7500000_4':                Y1  SyncMarker1  SampleMarker1\n",
       " 0        0.000000            1              1\n",
       " 1        0.666667            1              1\n",
       " 2        0.666667            1              1\n",
       " 3        0.666667            1              1\n",
       " 4        0.666667            1              1\n",
       " ...           ...          ...            ...\n",
       " 7499995  0.000000            1              1\n",
       " 7499996  0.000000            1              1\n",
       " 7499997  0.000000            1              1\n",
       " 7499998  0.000000            1              1\n",
       " 7499999  0.000000            1              1\n",
       " \n",
       " [7500000 rows x 3 columns],\n",
       " 'SegmentA_7500000_5':                Y1  SyncMarker1  SampleMarker1\n",
       " 0        0.000000            1              1\n",
       " 1        0.666667            1              1\n",
       " 2        0.666667            1              1\n",
       " 3        0.666667            1              1\n",
       " 4        0.666667            1              1\n",
       " ...           ...          ...            ...\n",
       " 7499995  0.000000            1              1\n",
       " 7499996  0.000000            1              1\n",
       " 7499997  0.000000            1              1\n",
       " 7499998  0.000000            1              1\n",
       " 7499999  0.000000            1              1\n",
       " \n",
       " [7500000 rows x 3 columns]}"
      ]
     },
     "metadata": {},
     "execution_count": 11
    }
   ],
   "metadata": {}
  },
  {
   "cell_type": "code",
   "execution_count": 7,
   "source": [
    "M8190A.query('SYST:ERR?')"
   ],
   "outputs": [
    {
     "output_type": "execute_result",
     "data": {
      "text/plain": [
       "'-300,\"Device-specific error;CH1: Waveform file \"\"SegmentA_7500000_3.csv\"\" not found.\"'"
      ]
     },
     "metadata": {},
     "execution_count": 7
    }
   ],
   "metadata": {}
  },
  {
   "cell_type": "code",
   "execution_count": 2,
   "source": [
    "AWG_Settings2"
   ],
   "outputs": [
    {
     "output_type": "execute_result",
     "data": {
      "text/plain": [
       "{'Visa Resource Name': 'TCPIP0::ibn3-036.ibn-net.kfa-juelich.de::hislip0::INSTR',\n",
       " 'Voltage Amplitude': 300,\n",
       " 'Clock Sample Frecuency': 500000000,\n",
       " 'Output_Channel': 1,\n",
       " 'Mode': 'STS',\n",
       " 'Output_rout': 'DC',\n",
       " 'Data Directory': 'D:\\\\Alejandro\\\\Pulses\\\\Dict\\\\S2'}"
      ]
     },
     "metadata": {},
     "execution_count": 2
    }
   ],
   "metadata": {}
  },
  {
   "cell_type": "code",
   "execution_count": 9,
   "source": [
    "AWG_Settings2['Data Directory']"
   ],
   "outputs": [
    {
     "output_type": "execute_result",
     "data": {
      "text/plain": [
       "'D:\\\\Alejandro\\\\Pulses\\\\Dict\\\\S2'"
      ]
     },
     "metadata": {},
     "execution_count": 9
    }
   ],
   "metadata": {}
  },
  {
   "cell_type": "code",
   "execution_count": 5,
   "source": [
    "type(_)"
   ],
   "outputs": [
    {
     "output_type": "execute_result",
     "data": {
      "text/plain": [
       "str"
      ]
     },
     "metadata": {},
     "execution_count": 5
    }
   ],
   "metadata": {}
  },
  {
   "cell_type": "code",
   "execution_count": null,
   "source": [
    "Sequence_File(instrument,r'D:\\\\Alejandro\\\\Pulses\\\\Dict\\\\S2\\\\SegmentA_{a}_{b}.csv'.format(a =N,b=start),r'D:\\\\Alejandro\\\\Pulses\\\\Dict\\\\S2\\\\SegmentB_{a}_{b}.csv'.format(a = N,b= start),1)"
   ],
   "outputs": [],
   "metadata": {}
  },
  {
   "cell_type": "code",
   "execution_count": 12,
   "source": [
    "strnga=r'{directory}\\SegmentA_{a}_{b}.csv'.format(directory = AWG_Settings2['Data Directory'], a=5, b= 0)"
   ],
   "outputs": [],
   "metadata": {}
  },
  {
   "cell_type": "code",
   "execution_count": 13,
   "source": [
    "strnga"
   ],
   "outputs": [
    {
     "output_type": "execute_result",
     "data": {
      "text/plain": [
       "'D:\\\\Alejandro\\\\Pulses\\\\Dict\\\\S2\\\\SegmentA_5_0.csv'"
      ]
     },
     "metadata": {},
     "execution_count": 13
    }
   ],
   "metadata": {}
  },
  {
   "cell_type": "code",
   "execution_count": 14,
   "source": [
    "'{aber}'.format(aber = strnga)"
   ],
   "outputs": [
    {
     "output_type": "execute_result",
     "data": {
      "text/plain": [
       "'D:\\\\Alejandro\\\\Pulses\\\\Dict\\\\S2\\\\SegmentA_5_0.csv'"
      ]
     },
     "metadata": {},
     "execution_count": 14
    }
   ],
   "metadata": {}
  },
  {
   "cell_type": "code",
   "execution_count": null,
   "source": [],
   "outputs": [],
   "metadata": {}
  },
  {
   "cell_type": "code",
   "execution_count": 31,
   "source": [
    "trigger_task = nidaqmx.Task()\r\n",
    "\r\n",
    "trigger_task.ao_channels.add_ao_voltage_chan('DAQBNC1/ao1','triggering',0,4)\r\n",
    "trigger_task.start()\r\n",
    "\r\n",
    "val = 0\r\n",
    "\r\n",
    "trigger_task.write(val)\r\n",
    "\r\n",
    "trigger_task.stop()\r\n",
    "trigger_task.close()"
   ],
   "outputs": [],
   "metadata": {}
  }
 ],
 "metadata": {
  "@webio": {
   "lastCommId": null,
   "lastKernelId": null
  },
  "interpreter": {
   "hash": "9a32f0bf53af15acd232504180dc0ef28b8a6ac1a49da0a6c374e1f45bb445b6"
  },
  "kernelspec": {
   "name": "python3",
   "display_name": "Python 3.8.5 64-bit ('base': conda)"
  },
  "language_info": {
   "name": "python",
   "version": "3.8.5",
   "mimetype": "text/x-python",
   "codemirror_mode": {
    "name": "ipython",
    "version": 3
   },
   "pygments_lexer": "ipython3",
   "nbconvert_exporter": "python",
   "file_extension": ".py"
  }
 },
 "nbformat": 4,
 "nbformat_minor": 4
}