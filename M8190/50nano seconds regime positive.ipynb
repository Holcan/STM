{
 "cells": [
  {
   "cell_type": "code",
   "execution_count": 1,
   "metadata": {},
   "outputs": [],
   "source": [
    "import numpy as np\n",
    "from numpy import loadtxt\n",
    "import pandas as pd\n",
    "import time\n",
    "import matplotlib\n",
    "import matplotlib.pyplot as plt\n",
    "import pyvisa as visa\n",
    "from matplotlib import animation\n",
    "from time import sleep\n",
    "from matplotlib.animation import FuncAnimation\n",
    "#Importing the functions from the module and the pulses dictionaries\n",
    "from Sweeping import *\n",
    "from Dictionaries import *\n",
    "from PulseFiles import *\n",
    "from Instrument import *\n",
    "import pyqtgraph as pg \n",
    "import nidaqmx\n",
    "import pickle"
   ]
  },
  {
   "cell_type": "code",
   "execution_count": 2,
   "metadata": {},
   "outputs": [],
   "source": [
    "modulation = 93 #Hz\n",
    "loop_number = 900  \n",
    "res = 1/2972160000\n",
    "\n",
    "sam, sr , segment_length = Adj9(res,modulation,loop_number)"
   ]
  },
  {
   "cell_type": "code",
   "execution_count": 3,
   "metadata": {},
   "outputs": [
    {
     "data": {
      "text/plain": [
       "17760"
      ]
     },
     "execution_count": 3,
     "metadata": {},
     "output_type": "execute_result"
    }
   ],
   "source": [
    "sam"
   ]
  },
  {
   "cell_type": "code",
   "execution_count": 4,
   "metadata": {},
   "outputs": [
    {
     "data": {
      "text/plain": [
       "2973024000"
      ]
     },
     "execution_count": 4,
     "metadata": {},
     "output_type": "execute_result"
    }
   ],
   "source": [
    "sr"
   ]
  },
  {
   "cell_type": "code",
   "execution_count": 5,
   "metadata": {},
   "outputs": [
    {
     "data": {
      "text/plain": [
       "5973.715651135006"
      ]
     },
     "execution_count": 5,
     "metadata": {},
     "output_type": "execute_result"
    }
   ],
   "source": [
    "interval = segment_length*1e9 #nano\n",
    "interval"
   ]
  },
  {
   "cell_type": "code",
   "execution_count": 6,
   "metadata": {},
   "outputs": [],
   "source": [
    "modulation = 93 #Hz\n",
    "loop_number = 9000    \n",
    "res = 1/2972160000\n",
    "\n",
    "sam, sr , segment_length = Adj9(res,modulation,loop_number)"
   ]
  },
  {
   "cell_type": "code",
   "execution_count": 7,
   "metadata": {},
   "outputs": [
    {
     "data": {
      "text/plain": [
       "1776"
      ]
     },
     "execution_count": 7,
     "metadata": {},
     "output_type": "execute_result"
    }
   ],
   "source": [
    "sam"
   ]
  },
  {
   "cell_type": "code",
   "execution_count": 8,
   "metadata": {},
   "outputs": [
    {
     "data": {
      "text/plain": [
       "2973024000"
      ]
     },
     "execution_count": 8,
     "metadata": {},
     "output_type": "execute_result"
    }
   ],
   "source": [
    "sr"
   ]
  },
  {
   "cell_type": "code",
   "execution_count": 9,
   "metadata": {},
   "outputs": [
    {
     "data": {
      "text/plain": [
       "597.3715651135005"
      ]
     },
     "execution_count": 9,
     "metadata": {},
     "output_type": "execute_result"
    }
   ],
   "source": [
    "interval = segment_length*1e9 #nano\n",
    "interval"
   ]
  },
  {
   "cell_type": "markdown",
   "metadata": {},
   "source": [
    "# 50nano"
   ]
  },
  {
   "cell_type": "code",
   "execution_count": 114,
   "metadata": {},
   "outputs": [],
   "source": [
    "modulation = 93 #Hz\n",
    "loop_number = 15000    \n",
    "res = 1/2972160000\n",
    "\n",
    "sam, sr , segment_length = Adj9(res,modulation,loop_number)"
   ]
  },
  {
   "cell_type": "code",
   "execution_count": 115,
   "metadata": {},
   "outputs": [
    {
     "data": {
      "text/plain": [
       "1104"
      ]
     },
     "execution_count": 115,
     "metadata": {},
     "output_type": "execute_result"
    }
   ],
   "source": [
    "sam"
   ]
  },
  {
   "cell_type": "code",
   "execution_count": 116,
   "metadata": {},
   "outputs": [
    {
     "data": {
      "text/plain": [
       "3080160000"
      ]
     },
     "execution_count": 116,
     "metadata": {},
     "output_type": "execute_result"
    }
   ],
   "source": [
    "sr"
   ]
  },
  {
   "cell_type": "code",
   "execution_count": 117,
   "metadata": {},
   "outputs": [
    {
     "data": {
      "text/plain": [
       "358.42293906810033"
      ]
     },
     "execution_count": 117,
     "metadata": {},
     "output_type": "execute_result"
    }
   ],
   "source": [
    "interval = segment_length*1e9 #nano\n",
    "interval"
   ]
  },
  {
   "cell_type": "markdown",
   "metadata": {},
   "source": [
    "# AWG and Pulse files setup"
   ]
  },
  {
   "cell_type": "code",
   "execution_count": 3,
   "metadata": {},
   "outputs": [],
   "source": [
    "AWG_Settings_50nano= {\n",
    "    'Visa Resource Name': 'TCPIP0::ibn3-036.ibn-net.kfa-juelich.de::hislip0::INSTR',\n",
    "    'Voltage Amplitude':150,\n",
    "    'Clock Sample Frecuency':2999808000,\n",
    "    'Output_Channel': 1,\n",
    "    'Mode': 'STS',\n",
    "    'Trigger In Threshold' : 1,\n",
    "    'Output Rout': 'DC', #DAC output rout only has the BNC outputs: Direct Out and (Averaged) Direct Out # DC\n",
    "    'Data Directory': r'D:\\Alejandro\\Pulses\\diode measurements\\Prepared Pulse Schemes CSV\\60,30\\pos\\50nano'\n",
    "}"
   ]
  },
  {
   "cell_type": "code",
   "execution_count": 4,
   "metadata": {},
   "outputs": [],
   "source": [
    "M8190A = VisaR(AWG_Settings_50nano,60000)"
   ]
  },
  {
   "cell_type": "code",
   "execution_count": 118,
   "metadata": {},
   "outputs": [
    {
     "data": {
      "text/plain": [
       "21"
      ]
     },
     "execution_count": 118,
     "metadata": {},
     "output_type": "execute_result"
    }
   ],
   "source": [
    "M8190A.write('FREQ:RAST {a}'.format(a = sr))"
   ]
  },
  {
   "cell_type": "code",
   "execution_count": 9,
   "metadata": {},
   "outputs": [
    {
     "name": "stdout",
     "output_type": "stream",
     "text": [
      "Instruments Sampling Frecuency set to 2.99980800000000E+09Hz\n",
      "Instruments Direct Out DC Output route Voltage set to 6.75000000000000E-01Volts\n",
      "AWG_Settings_Dict set to TRIGGERED Mode\n",
      "Trigger In threshold value set to 1.00000000000000E+00V\n"
     ]
    }
   ],
   "source": [
    "Initialization(M8190A,AWG_Settings_50nano)"
   ]
  },
  {
   "cell_type": "code",
   "execution_count": 119,
   "metadata": {},
   "outputs": [],
   "source": [
    "Pump_50nano = {\n",
    "    'Name':'Pump_50nano',\n",
    "    'Amplitude': 2*60,\n",
    "    'Start time':150,\n",
    "    'End time':2e-10,\n",
    "    'Start Duration':50,\n",
    "    'End Duration':60,\n",
    "    'Sweep time':0,\n",
    "    'Sweep Duration':0\n",
    "}"
   ]
  },
  {
   "cell_type": "code",
   "execution_count": 120,
   "metadata": {},
   "outputs": [],
   "source": [
    "ProbeA_50nano = {\n",
    "    'Name':'ProbeA_50nano',\n",
    "    'Amplitude':2*30,\n",
    "    'Start time':0,\n",
    "    'End time':300,\n",
    "    'Start Duration':50,\n",
    "    'End Duration':60,\n",
    "    'Sweep time':1,\n",
    "    'Sweep Duration':0\n",
    "}"
   ]
  },
  {
   "cell_type": "code",
   "execution_count": 121,
   "metadata": {},
   "outputs": [],
   "source": [
    "ProbeB_50nano= {\n",
    "    'Name':'ProbeB_50nano',\n",
    "    'Amplitude':-2*30,\n",
    "    'Start time':0,\n",
    "    'End time':300,\n",
    "    'Start Duration':50,\n",
    "    'End Duration':60,\n",
    "    'Sweep time':1,\n",
    "    'Sweep Duration':0\n",
    "}"
   ]
  },
  {
   "cell_type": "code",
   "execution_count": 122,
   "metadata": {},
   "outputs": [],
   "source": [
    "PulseScheme_A_50nano =  {\n",
    "    'Name' : 'PulseScheme_A_50nano',\n",
    "    'Pulse Scheme': [Pump_50nano,ProbeA_50nano],\n",
    "    'Number of repetitions': 1,\n",
    "    'Measurement file Path': r'D:\\Alejandro\\Pulses\\diode measurements\\Autocorrelation measurements\\60,30\\pos\\50nano'\n",
    "}"
   ]
  },
  {
   "cell_type": "code",
   "execution_count": 123,
   "metadata": {},
   "outputs": [],
   "source": [
    "PulseScheme_B_50nano =  {\n",
    "    'Name' : 'PulseScheme_B_50nano',\n",
    "    'Pulse Scheme': [Pump_50nano,ProbeB_50nano],\n",
    "    'Number of repetitions': 1,\n",
    "    'Measurement file Path': r'D:\\Alejandro\\Pulses\\diode measurements\\Autocorrelation measurements\\60,30\\pos\\50nano'\n",
    "}"
   ]
  },
  {
   "cell_type": "code",
   "execution_count": 63,
   "metadata": {},
   "outputs": [
    {
     "data": {
      "text/plain": [
       "93"
      ]
     },
     "execution_count": 63,
     "metadata": {},
     "output_type": "execute_result"
    }
   ],
   "source": [
    "93"
   ]
  },
  {
   "cell_type": "code",
   "execution_count": 124,
   "metadata": {},
   "outputs": [
    {
     "data": {
      "image/png": "[encoded data removed]",
      "text/plain": [
       "<Figure size 432x288 with 1 Axes>"
      ]
     },
     "metadata": {
      "needs_background": "light"
     },
     "output_type": "display_data"
    }
   ],
   "source": [
    "step = 0\n",
    "pul1 = Sweep_teil(PulseScheme_A_50nano,30,step,interval,sam)\n",
    "\n",
    "\n",
    "#Plot\n",
    "fig,ax= plt.subplots()\n",
    "ax.grid(True)\n",
    "\n",
    "plt.plot(pul1[1],pul1[0]/2,label= '{b} samples'.format(b = sam),color='red')\n",
    "\n",
    "ax.set_ylabel('V  [mV]')\n",
    "ax.set_xlabel(r't [ns]')\n",
    "ax.set_title('Cycle A at step {a}'.format(a = step )) #Voltage Offset = 3mV, Marker Ampl = 50mV \n",
    "#ax.legend(loc=0)\n",
    "#plt.legend(bbox_to_anchor=(2.05, 1), loc='upper left', borderaxespad=0.)\n",
    "plt.show()\n",
    "\n",
    "fig.savefig(r'{loc}\\Cycle A, Probe width 50 nano 93 Hz mod , {a} step.jpeg'.format(loc = PulseScheme_A_50nano['Measurement file Path'], a = step),bbox_inches='tight')"
   ]
  },
  {
   "cell_type": "code",
   "execution_count": 125,
   "metadata": {},
   "outputs": [
    {
     "data": {
      "image/png": "[encoded data removed]",
      "text/plain": [
       "<Figure size 432x288 with 1 Axes>"
      ]
     },
     "metadata": {
      "needs_background": "light"
     },
     "output_type": "display_data"
    }
   ],
   "source": [
    "step = 30\n",
    "pul1 = Sweep_teil(PulseScheme_A_50nano,30,step,interval,sam)\n",
    "\n",
    "\n",
    "#Plot\n",
    "fig,ax= plt.subplots()\n",
    "ax.grid(True)\n",
    "\n",
    "plt.plot(pul1[1],pul1[0]/2,label= '{b} samples'.format(b = sam),color='red')\n",
    "\n",
    "ax.set_ylabel('V  [mV]')\n",
    "ax.set_xlabel(r't [ns]')\n",
    "ax.set_title('Cycle A at step {a}'.format(a = step )) #Voltage Offset = 3mV, Marker Ampl = 50mV \n",
    "#ax.legend(loc=0)\n",
    "#plt.legend(bbox_to_anchor=(2.05, 1), loc='upper left', borderaxespad=0.)\n",
    "plt.show()\n",
    "\n",
    "fig.savefig(r'{loc}\\Cycle A, Probe width 50 nano 93 Hz mod , {a} step.jpeg'.format(loc = PulseScheme_A_50nano['Measurement file Path'], a = step),bbox_inches='tight')"
   ]
  },
  {
   "cell_type": "code",
   "execution_count": 92,
   "metadata": {},
   "outputs": [
    {
     "data": {
      "image/png": "[encoded data removed]",
      "text/plain": [
       "<Figure size 432x288 with 1 Axes>"
      ]
     },
     "metadata": {
      "needs_background": "light"
     },
     "output_type": "display_data"
    }
   ],
   "source": [
    "step = 30\n",
    "pul1 = Sweep_teil(PulseScheme_A_50nano,30,step,interval,sam)\n",
    "\n",
    "\n",
    "#Plot\n",
    "fig,ax= plt.subplots()\n",
    "ax.grid(True)\n",
    "\n",
    "plt.plot(pul1[1],pul1[0]/2,label= '{b} samples'.format(b = sam),color='red')\n",
    "\n",
    "ax.set_ylabel('V  [mV]')\n",
    "ax.set_xlabel(r't [ns]')\n",
    "ax.set_title('Cycle A at step {a}'.format(a = step )) #Voltage Offset = 3mV, Marker Ampl = 50mV \n",
    "#ax.legend(loc=0)\n",
    "#plt.legend(bbox_to_anchor=(2.05, 1), loc='upper left', borderaxespad=0.)\n",
    "plt.show()\n",
    "\n",
    "fig.savefig(r'{loc}\\Cycle A, Probe width 50 nano 93 Hz mod {a} step.jpeg'.format(loc = PulseScheme_A_50nano['Measurement file Path'], a = step),bbox_inches='tight')"
   ]
  },
  {
   "cell_type": "code",
   "execution_count": 81,
   "metadata": {},
   "outputs": [
    {
     "data": {
      "image/png": "[encoded data removed]",
      "text/plain": [
       "<Figure size 432x288 with 1 Axes>"
      ]
     },
     "metadata": {
      "needs_background": "light"
     },
     "output_type": "display_data"
    }
   ],
   "source": [
    "step = 0\n",
    "pul1 = Sweep_teil(PulseScheme_B_50nano,30,step,interval,sam)\n",
    "\n",
    "\n",
    "#Plot\n",
    "fig,ax= plt.subplots()\n",
    "ax.grid(True)\n",
    "\n",
    "plt.plot(pul1[1],pul1[0]/2,label= '{b} samples'.format(b = sam),color='red')\n",
    "\n",
    "ax.set_ylabel('V  [mV]')\n",
    "ax.set_xlabel(r't [ns]')\n",
    "ax.set_title('Cycle B at step {a}'.format(a = step )) #Voltage Offset = 3mV, Marker Ampl = 50mV \n",
    "#ax.legend(loc=0)\n",
    "#plt.legend(bbox_to_anchor=(2.05, 1), loc='upper left', borderaxespad=0.)\n",
    "plt.show()\n",
    "\n",
    "fig.savefig(r'{loc}\\Cycle B, Probe width 50 nano 93 Hz mod {a} step.jpeg'.format(loc = PulseScheme_A_50nano['Measurement file Path'], a = step),bbox_inches='tight')"
   ]
  },
  {
   "cell_type": "code",
   "execution_count": 82,
   "metadata": {},
   "outputs": [
    {
     "data": {
      "image/png": "[encoded data removed]",
      "text/plain": [
       "<Figure size 432x288 with 1 Axes>"
      ]
     },
     "metadata": {
      "needs_background": "light"
     },
     "output_type": "display_data"
    }
   ],
   "source": [
    "step = 70\n",
    "pul1 = Sweep_teil(PulseScheme_B_50nano,70,step,interval,sam)\n",
    "\n",
    "\n",
    "#Plot\n",
    "fig,ax= plt.subplots()\n",
    "ax.grid(True)\n",
    "\n",
    "plt.plot(pul1[1],pul1[0]/2,label= '{b} samples'.format(b = sam),color='red')\n",
    "\n",
    "ax.set_ylabel('V  [mV]')\n",
    "ax.set_xlabel(r't [ns]')\n",
    "ax.set_title('Cycle B at step {a}'.format(a = step )) #Voltage Offset = 3mV, Marker Ampl = 50mV \n",
    "#ax.legend(loc=0)\n",
    "#plt.legend(bbox_to_anchor=(2.05, 1), loc='upper left', borderaxespad=0.)\n",
    "plt.show()\n",
    "\n",
    "#fig.savefig(r'{loc}\\Cycle B, Probe width 50 nano93 Hz mod {a} step.jpeg'.format(loc = PulseScheme_A_50nano['Measurement file Path'], a = step),bbox_inches='tight')"
   ]
  },
  {
   "cell_type": "code",
   "execution_count": 126,
   "metadata": {},
   "outputs": [],
   "source": [
    "sweeping_run_a_50nano = Sweeping_Single_List_File_teil(PulseScheme_A_50nano,30,interval,sam,0,30,AWG_Settings_50nano,'A')[0]\n",
    "sweeping_run_b_50nano = Sweeping_Single_List_File_teil(PulseScheme_B_50nano,30,interval,sam,0,30,AWG_Settings_50nano,'B')[0]"
   ]
  },
  {
   "cell_type": "code",
   "execution_count": 72,
   "metadata": {},
   "outputs": [],
   "source": []
  },
  {
   "cell_type": "code",
   "execution_count": 127,
   "metadata": {},
   "outputs": [],
   "source": [
    "#Exporting pickle\n",
    "\n",
    "with open(r\"{dict}\\cycleA_31steps_93Hz_50nano_.p\".format(dict = PulseScheme_A_50nano['Measurement file Path']), \"wb\") as k:\n",
    "    pickle.dump(sweeping_run_a_50nano, k)\n",
    "\n",
    "\n",
    "with open(r\"{dict}\\cycleB_31steps_93Hz_50nano_.p\".format(dict = PulseScheme_B_50nano['Measurement file Path']), \"wb\") as h:\n",
    "    pickle.dump(sweeping_run_b_50nano, h)"
   ]
  },
  {
   "cell_type": "code",
   "execution_count": 16,
   "metadata": {},
   "outputs": [],
   "source": [
    "#Importing Pickle\n",
    "\n",
    "with open(r\"{dict}\\cycleA_31steps_93Hz_50nano_.p\".format(dict = PulseScheme_A_50nano['Measurement file Path']), \"rb\") as j:\n",
    "    sweeping_runa_50nano = pickle.load(j)\n",
    "\n",
    "with open(r\"{dict}\\cycleB_31steps_93Hz_50nano_.p\".format(dict = PulseScheme_A_50nano['Measurement file Path']), \"rb\") as f:\n",
    "    sweeping_runb_50nano= pickle.load(f)"
   ]
  },
  {
   "cell_type": "code",
   "execution_count": 33,
   "metadata": {},
   "outputs": [
    {
     "data": {
      "text/plain": [
       "'D:\\\\Alejandro\\\\Pulses\\\\diode measurements\\\\Prepared Pulse Schemes CSV\\\\60,30\\\\pos\\\\50nano\\\\SegmentA_1008_30.csv'"
      ]
     },
     "execution_count": 33,
     "metadata": {},
     "output_type": "execute_result"
    }
   ],
   "source": [
    "sweeping_run_a_50nano['Pulse File Location, at step 30']"
   ]
  },
  {
   "cell_type": "code",
   "execution_count": 34,
   "metadata": {},
   "outputs": [
    {
     "data": {
      "text/plain": [
       "'D:\\\\Alejandro\\\\Pulses\\\\diode measurements\\\\Prepared Pulse Schemes CSV\\\\60,30\\\\pos\\\\50nano\\\\SegmentB_1008_30.csv'"
      ]
     },
     "execution_count": 34,
     "metadata": {},
     "output_type": "execute_result"
    }
   ],
   "source": [
    "sweeping_run_b_50nano['Pulse File Location, at step 30']"
   ]
  },
  {
   "cell_type": "code",
   "execution_count": 128,
   "metadata": {},
   "outputs": [
    {
     "data": {
      "text/plain": [
       "15000"
      ]
     },
     "execution_count": 128,
     "metadata": {},
     "output_type": "execute_result"
    }
   ],
   "source": [
    "loop_number"
   ]
  },
  {
   "cell_type": "code",
   "execution_count": 23,
   "metadata": {
    "scrolled": true
   },
   "outputs": [
    {
     "name": "stdout",
     "output_type": "stream",
     "text": [
      "Sequence loaded with the following segment data \"1,16000,0,1,0,1007,2,16000,0,1,0,1007\" and the advancement method is COND\n"
     ]
    },
    {
     "data": {
      "text/plain": [
       "0"
      ]
     },
     "execution_count": 23,
     "metadata": {},
     "output_type": "execute_result"
    }
   ],
   "source": [
    "Sequence_File(M8190A,sweeping_run_a_50nano['Pulse File Location, at step 30'],sweeping_run_b_50nano['Pulse File Location, at step 30'],loop_number)"
   ]
  },
  {
   "cell_type": "markdown",
   "metadata": {},
   "source": [
    "# Loading"
   ]
  },
  {
   "cell_type": "code",
   "execution_count": 129,
   "metadata": {
    "scrolled": true
   },
   "outputs": [
    {
     "data": {
      "text/plain": [
       "12"
      ]
     },
     "execution_count": 129,
     "metadata": {},
     "output_type": "execute_result"
    }
   ],
   "source": [
    "M8190A.write('SEQ:DEL:ALL')"
   ]
  },
  {
   "cell_type": "code",
   "execution_count": null,
   "metadata": {
    "scrolled": false
   },
   "outputs": [
    {
     "name": "stdout",
     "output_type": "stream",
     "text": [
      "Dummy File Loaded and playing\n",
      "Dummy File stopped and erased from AWGs memmory\n"
     ]
    }
   ],
   "source": [
    "Dummy_File(M8190A)"
   ]
  },
  {
   "cell_type": "code",
   "execution_count": 130,
   "metadata": {},
   "outputs": [],
   "source": [
    "Lock_In_Settings = {\n",
    "'Time Constant' : '100ms',\n",
    "'Sensitivity' : '50 microVolts',\n",
    "'Reserve' : 'Normal',\n",
    "'db' : 24,\n",
    "'Modulation': '93Hz'\n",
    "}"
   ]
  },
  {
   "cell_type": "code",
   "execution_count": 131,
   "metadata": {},
   "outputs": [
    {
     "data": {
      "text/plain": [
       "15000"
      ]
     },
     "execution_count": 131,
     "metadata": {},
     "output_type": "execute_result"
    }
   ],
   "source": [
    "loop_number"
   ]
  },
  {
   "cell_type": "code",
   "execution_count": 132,
   "metadata": {},
   "outputs": [
    {
     "name": "stdout",
     "output_type": "stream",
     "text": [
      "Sequence loaded with the following segment data \"1,15000,0,1,0,1103,2,15000,0,1,0,1103\" and the advancement method is COND\n",
      "Average Value for measurement at step 0 is 1.5124648466360542 V\n",
      "Sequence loaded with the following segment data \"1,15000,0,1,0,1103,2,15000,0,1,0,1103\" and the advancement method is COND\n",
      "Average Value for measurement at step 1 is 1.5749575117739045 V\n",
      "Sequence loaded with the following segment data \"1,15000,0,1,0,1103,2,15000,0,1,0,1103\" and the advancement method is COND\n",
      "Average Value for measurement at step 2 is 1.6568097860747242 V\n",
      "Sequence loaded with the following segment data \"1,15000,0,1,0,1103,2,15000,0,1,0,1103\" and the advancement method is COND\n",
      "Average Value for measurement at step 3 is 1.6892563667158886 V\n",
      "Sequence loaded with the following segment data \"1,15000,0,1,0,1103,2,15000,0,1,0,1103\" and the advancement method is COND\n",
      "Average Value for measurement at step 4 is 1.7577616680535866 V\n",
      "Sequence loaded with the following segment data \"1,15000,0,1,0,1103,2,15000,0,1,0,1103\" and the advancement method is COND\n",
      "Average Value for measurement at step 5 is 1.7697745981791388 V\n",
      "Sequence loaded with the following segment data \"1,15000,0,1,0,1103,2,15000,0,1,0,1103\" and the advancement method is COND\n",
      "Average Value for measurement at step 6 is 1.7427096416968817 V\n",
      "Sequence loaded with the following segment data \"1,15000,0,1,0,1103,2,15000,0,1,0,1103\" and the advancement method is COND\n",
      "Average Value for measurement at step 7 is 1.665811572339999 V\n",
      "Sequence loaded with the following segment data \"1,15000,0,1,0,1103,2,15000,0,1,0,1103\" and the advancement method is COND\n",
      "Average Value for measurement at step 8 is 1.6101329195094847 V\n",
      "Sequence loaded with the following segment data \"1,15000,0,1,0,1103,2,15000,0,1,0,1103\" and the advancement method is COND\n",
      "Average Value for measurement at step 9 is 1.4862175596600993 V\n",
      "Sequence loaded with the following segment data \"1,15000,0,1,0,1103,2,15000,0,1,0,1103\" and the advancement method is COND\n",
      "Average Value for measurement at step 10 is 1.3982828466743449 V\n",
      "Sequence loaded with the following segment data \"1,15000,0,1,0,1103,2,15000,0,1,0,1103\" and the advancement method is COND\n",
      "Average Value for measurement at step 11 is 1.3003878199510046 V\n",
      "Sequence loaded with the following segment data \"1,15000,0,1,0,1103,2,15000,0,1,0,1103\" and the advancement method is COND\n",
      "Average Value for measurement at step 12 is 1.2234054230846418 V\n",
      "Sequence loaded with the following segment data \"1,15000,0,1,0,1103,2,15000,0,1,0,1103\" and the advancement method is COND\n",
      "Average Value for measurement at step 13 is 1.120090389630491 V\n",
      "Sequence loaded with the following segment data \"1,15000,0,1,0,1103,2,15000,0,1,0,1103\" and the advancement method is COND\n",
      "Average Value for measurement at step 14 is 1.0547898166426988 V\n",
      "Sequence loaded with the following segment data \"1,15000,0,1,0,1103,2,15000,0,1,0,1103\" and the advancement method is COND\n",
      "Average Value for measurement at step 15 is 0.9929154977888358 V\n",
      "Sequence loaded with the following segment data \"1,15000,0,1,0,1103,2,15000,0,1,0,1103\" and the advancement method is COND\n",
      "Average Value for measurement at step 16 is 1.057950988843675 V\n",
      "Sequence loaded with the following segment data \"1,15000,0,1,0,1103,2,15000,0,1,0,1103\" and the advancement method is COND\n",
      "Average Value for measurement at step 17 is 1.1073605860837743 V\n",
      "Sequence loaded with the following segment data \"1,15000,0,1,0,1103,2,15000,0,1,0,1103\" and the advancement method is COND\n",
      "Average Value for measurement at step 18 is 1.1999561100204272 V\n",
      "Sequence loaded with the following segment data \"1,15000,0,1,0,1103,2,15000,0,1,0,1103\" and the advancement method is COND\n",
      "Average Value for measurement at step 19 is 1.2829269080432932 V\n",
      "Sequence loaded with the following segment data \"1,15000,0,1,0,1103,2,15000,0,1,0,1103\" and the advancement method is COND\n",
      "Average Value for measurement at step 20 is 1.3557342086359905 V\n",
      "Sequence loaded with the following segment data \"1,15000,0,1,0,1103,2,15000,0,1,0,1103\" and the advancement method is COND\n",
      "Average Value for measurement at step 21 is 1.437373731624553 V\n",
      "Sequence loaded with the following segment data \"1,15000,0,1,0,1103,2,15000,0,1,0,1103\" and the advancement method is COND\n",
      "Average Value for measurement at step 22 is 1.5519619696760452 V\n",
      "Sequence loaded with the following segment data \"1,15000,0,1,0,1103,2,15000,0,1,0,1103\" and the advancement method is COND\n",
      "Average Value for measurement at step 23 is 1.6198467915996297 V\n",
      "Sequence loaded with the following segment data \"1,15000,0,1,0,1103,2,15000,0,1,0,1103\" and the advancement method is COND\n",
      "Average Value for measurement at step 24 is 1.6631235864052423 V\n",
      "Sequence loaded with the following segment data \"1,15000,0,1,0,1103,2,15000,0,1,0,1103\" and the advancement method is COND\n",
      "Average Value for measurement at step 25 is 1.6829930160066426 V\n",
      "Sequence loaded with the following segment data \"1,15000,0,1,0,1103,2,15000,0,1,0,1103\" and the advancement method is COND\n",
      "Average Value for measurement at step 26 is 1.6536680143010556 V\n",
      "Sequence loaded with the following segment data \"1,15000,0,1,0,1103,2,15000,0,1,0,1103\" and the advancement method is COND\n",
      "Average Value for measurement at step 27 is 1.6347121432117748 V\n",
      "Sequence loaded with the following segment data \"1,15000,0,1,0,1103,2,15000,0,1,0,1103\" and the advancement method is COND\n",
      "Average Value for measurement at step 28 is 1.61478246509009 V\n",
      "Sequence loaded with the following segment data \"1,15000,0,1,0,1103,2,15000,0,1,0,1103\" and the advancement method is COND\n",
      "Average Value for measurement at step 29 is 1.5974665126105074 V\n",
      "Sequence loaded with the following segment data \"1,15000,0,1,0,1103,2,15000,0,1,0,1103\" and the advancement method is COND\n",
      "Average Value for measurement at step 30 is 1.5965999848819932 V\n"
     ]
    }
   ],
   "source": [
    "playingtime = 7\n",
    "\n",
    "Diode_Signal, averaged_data = Voltage_Autocorrelation_loop_cut(M8190A,DAQ_Settings1,playingtime,sweeping_run_a_50nano,sweeping_run_b_50nano,PulseScheme_A_50nano['Measurement file Path'],Lock_In_Settings,loop_number,2)"
   ]
  },
  {
   "cell_type": "code",
   "execution_count": 133,
   "metadata": {},
   "outputs": [
    {
     "data": {
      "image/png": "[encoded data removed]",
      "text/plain": [
       "<Figure size 432x288 with 1 Axes>"
      ]
     },
     "metadata": {
      "needs_background": "light"
     },
     "output_type": "display_data"
    }
   ],
   "source": [
    "fig,ax= plt.subplots()\n",
    "ax.grid(True)\n",
    "for i in range(0,len(Diode_Signal)):\n",
    "    plt.plot(Diode_Signal[i][1],Diode_Signal[i][0],label= 'Step {st}'.format(st = i ))\n",
    "\n",
    "ax.set_ylabel(r'V  [arb. units]')\n",
    "ax.set_xlabel('t  [s]')\n",
    "ax.set_title(r' STM Signal at Different Steps,  {b} Samples, 50nano s probe duration'.format(b = len(Diode_Signal[0][1]) ))\n",
    "#ax.legend(bbox_to_anchor=(1.05, 1), loc='upper left', borderaxespad=0.)\n",
    "#ax.legend(loc=0)\n",
    "plt.show()\n",
    "\n",
    "fig.savefig(r'{loc}\\Diode Signal time cstant = {a}, sensitivity {b},{c} daqseconds, , probe duration 50nano,71 steps, 93 Hz no legend, .jpeg'.format(loc = PulseScheme_A_50nano['Measurement file Path'],a = Lock_In_Settings['Time Constant'], b = Lock_In_Settings['Sensitivity'], c = playingtime),bbox_inches='tight')"
   ]
  },
  {
   "cell_type": "code",
   "execution_count": 134,
   "metadata": {},
   "outputs": [],
   "source": [
    "time_delay = np.linspace(150,-150,31)"
   ]
  },
  {
   "cell_type": "code",
   "execution_count": null,
   "metadata": {},
   "outputs": [],
   "source": [
    "%matplotlib widget"
   ]
  },
  {
   "cell_type": "code",
   "execution_count": 135,
   "metadata": {},
   "outputs": [
    {
     "data": {
      "image/png": "[encoded data removed]",
      "text/plain": [
       "<Figure size 432x288 with 1 Axes>"
      ]
     },
     "metadata": {
      "needs_background": "light"
     },
     "output_type": "display_data"
    }
   ],
   "source": [
    "#change this to V regime\n",
    "fig,axes = plt.subplots()\n",
    "\n",
    "axes.grid(True)\n",
    "\n",
    "plt.plot(time_delay,averaged_data,'.',label=r'50 ns Probe Width ',color='red')\n",
    "#plt.plot(tm,pul,label = '{a} samples'.format(a = len(pul)))\n",
    "\n",
    "axes.set_xlabel(r'time delay [ns]')\n",
    "axes.set_ylabel(r'STM Signal [arb. units]')\n",
    "axes.set_title('Auto-Correlation 31 steps ')\n",
    "\n",
    "axes.legend(loc = 0)\n",
    "plt.show()\n",
    "\n",
    "fig.savefig(r'{loc}\\Autocorrelation function 31 steps 50nano 93Hz length tc = {a}, sens {b}, {c}s DAQ .jpeg'.format(loc = PulseScheme_A_50nano['Measurement file Path'],a = Lock_In_Settings['Time Constant'], b = Lock_In_Settings['Sensitivity'], c = playingtime ))"
   ]
  },
  {
   "cell_type": "code",
   "execution_count": 137,
   "metadata": {},
   "outputs": [
    {
     "data": {
      "text/plain": [
       "(array([1.09619515, 1.05215522, 0.99965786, 0.97994959, 0.94127052,\n",
       "        0.93439717, 0.94841705, 0.991684  , 1.02544444, 1.1103657 ,\n",
       "        1.17958119, 1.26772281, 1.34679348, 1.4702542 , 1.56046326,\n",
       "        1.65684181, 1.55418075, 1.4840606 , 1.36882787, 1.27963371,\n",
       "        1.21028123, 1.14094392, 1.05615087, 1.01136054, 0.98452833,\n",
       "        0.97239586, 0.9891215 , 1.00006704, 1.01187926, 1.02231129,\n",
       "        1.02232946]),\n",
       " 1.6451039094612805,\n",
       " 8.568475300790011e-05)"
      ]
     },
     "execution_count": 137,
     "metadata": {},
     "output_type": "execute_result"
    }
   ],
   "source": [
    "normalized_data = AutoCorrelation_Normalized(averaged_data,time_delay,6,6)\n",
    "np.savetxt(r'{loc}\\normalized Autocorrelation.csv'.format(loc = PulseScheme_A_50nano['Measurement file Path']),normalized_data[0],delimiter=',')\n",
    "normalized_data"
   ]
  },
  {
   "cell_type": "code",
   "execution_count": 139,
   "metadata": {},
   "outputs": [
    {
     "data": {
      "image/png": "[encoded data removed]",
      "text/plain": [
       "<Figure size 432x288 with 1 Axes>"
      ]
     },
     "metadata": {
      "needs_background": "light"
     },
     "output_type": "display_data"
    }
   ],
   "source": [
    "#change this to V regime\n",
    "fig,axes = plt.subplots()\n",
    "\n",
    "axes.grid(True)\n",
    "\n",
    "plt.plot(time_delay,normalized_data[0],'.-',label=r'50 ns Pulse Width ',color='red')\n",
    "#plt.plot(tm,pul,label = '{a} samples'.format(a = len(pul)))\n",
    "\n",
    "axes.set_xlabel(r'time delay [ns]')\n",
    "axes.set_ylabel(r'STM Signal [arb Units]')\n",
    "axes.set_title('Normalized Auto-Correlation 31 steps ')\n",
    "\n",
    "axes.legend(loc = 0)\n",
    "plt.show()\n",
    "\n",
    "fig.savefig(r'{loc}\\Normalized Autocorrelation  Sigma STM function 31 steps 50nano 93Hz length tc = {a}, sens {b}, {c}s DAQ.jpeg'.format(loc = PulseScheme_A_50nano['Measurement file Path'],a = Lock_In_Settings['Time Constant'], b = Lock_In_Settings['Sensitivity'], c = playingtime ))"
   ]
  },
  {
   "cell_type": "code",
   "execution_count": null,
   "metadata": {},
   "outputs": [],
   "source": [
    "100,\n",
    "50,\n",
    "25\n",
    "10"
   ]
  },
  {
   "cell_type": "code",
   "execution_count": 98,
   "metadata": {},
   "outputs": [],
   "source": [
    "import random"
   ]
  },
  {
   "cell_type": "code",
   "execution_count": 108,
   "metadata": {},
   "outputs": [
    {
     "ename": "TypeError",
     "evalue": "'dict_values' object is not subscriptable",
     "output_type": "error",
     "traceback": [
      "\u001b[1;31m---------------------------------------------------------------------------\u001b[0m",
      "\u001b[1;31mTypeError\u001b[0m                                 Traceback (most recent call last)",
      "\u001b[1;32m<ipython-input-108-9bae44825218>\u001b[0m in \u001b[0;36m<module>\u001b[1;34m\u001b[0m\n\u001b[0;32m      1\u001b[0m \u001b[0mitems\u001b[0m  \u001b[1;33m=\u001b[0m  \u001b[0msweeping_run_a_50nano\u001b[0m\u001b[1;33m.\u001b[0m\u001b[0mvalues\u001b[0m\u001b[1;33m(\u001b[0m\u001b[1;33m)\u001b[0m\u001b[1;33m\u001b[0m\u001b[1;33m\u001b[0m\u001b[0m\n\u001b[1;32m----> 2\u001b[1;33m \u001b[0mrandom\u001b[0m\u001b[1;33m.\u001b[0m\u001b[0mshuffle\u001b[0m\u001b[1;33m(\u001b[0m\u001b[0mitems\u001b[0m\u001b[1;33m)\u001b[0m\u001b[1;33m\u001b[0m\u001b[1;33m\u001b[0m\u001b[0m\n\u001b[0m\u001b[0;32m      3\u001b[0m \u001b[0mOrderedDict\u001b[0m\u001b[1;33m(\u001b[0m\u001b[0mitems\u001b[0m\u001b[1;33m)\u001b[0m\u001b[1;33m\u001b[0m\u001b[1;33m\u001b[0m\u001b[0m\n",
      "\u001b[1;32m~\\Anaconda3\\lib\\random.py\u001b[0m in \u001b[0;36mshuffle\u001b[1;34m(self, x, random)\u001b[0m\n\u001b[0;32m    305\u001b[0m                 \u001b[1;31m# pick an element in x[:i+1] with which to exchange x[i]\u001b[0m\u001b[1;33m\u001b[0m\u001b[1;33m\u001b[0m\u001b[1;33m\u001b[0m\u001b[0m\n\u001b[0;32m    306\u001b[0m                 \u001b[0mj\u001b[0m \u001b[1;33m=\u001b[0m \u001b[0mrandbelow\u001b[0m\u001b[1;33m(\u001b[0m\u001b[0mi\u001b[0m\u001b[1;33m+\u001b[0m\u001b[1;36m1\u001b[0m\u001b[1;33m)\u001b[0m\u001b[1;33m\u001b[0m\u001b[1;33m\u001b[0m\u001b[0m\n\u001b[1;32m--> 307\u001b[1;33m                 \u001b[0mx\u001b[0m\u001b[1;33m[\u001b[0m\u001b[0mi\u001b[0m\u001b[1;33m]\u001b[0m\u001b[1;33m,\u001b[0m \u001b[0mx\u001b[0m\u001b[1;33m[\u001b[0m\u001b[0mj\u001b[0m\u001b[1;33m]\u001b[0m \u001b[1;33m=\u001b[0m \u001b[0mx\u001b[0m\u001b[1;33m[\u001b[0m\u001b[0mj\u001b[0m\u001b[1;33m]\u001b[0m\u001b[1;33m,\u001b[0m \u001b[0mx\u001b[0m\u001b[1;33m[\u001b[0m\u001b[0mi\u001b[0m\u001b[1;33m]\u001b[0m\u001b[1;33m\u001b[0m\u001b[1;33m\u001b[0m\u001b[0m\n\u001b[0m\u001b[0;32m    308\u001b[0m         \u001b[1;32melse\u001b[0m\u001b[1;33m:\u001b[0m\u001b[1;33m\u001b[0m\u001b[1;33m\u001b[0m\u001b[0m\n\u001b[0;32m    309\u001b[0m             \u001b[0m_int\u001b[0m \u001b[1;33m=\u001b[0m \u001b[0mint\u001b[0m\u001b[1;33m\u001b[0m\u001b[1;33m\u001b[0m\u001b[0m\n",
      "\u001b[1;31mTypeError\u001b[0m: 'dict_values' object is not subscriptable"
     ]
    }
   ],
   "source": [
    "items  =  sweeping_run_a_50nano.values()\n",
    "random.shuffle(items)\n",
    "OrderedDict(items)\n"
   ]
  },
  {
   "cell_type": "code",
   "execution_count": 100,
   "metadata": {},
   "outputs": [
    {
     "data": {
      "text/plain": [
       "dict_items([('Pulse File Location, at step 0', 'D:\\\\Alejandro\\\\Pulses\\\\diode measurements\\\\Prepared Pulse Schemes CSV\\\\50,20\\\\50nano\\\\SegmentA_1008_0.csv'), ('Pulse File Location, at step 1', 'D:\\\\Alejandro\\\\Pulses\\\\diode measurements\\\\Prepared Pulse Schemes CSV\\\\50,20\\\\50nano\\\\SegmentA_1008_1.csv'), ('Pulse File Location, at step 2', 'D:\\\\Alejandro\\\\Pulses\\\\diode measurements\\\\Prepared Pulse Schemes CSV\\\\50,20\\\\50nano\\\\SegmentA_1008_2.csv'), ('Pulse File Location, at step 3', 'D:\\\\Alejandro\\\\Pulses\\\\diode measurements\\\\Prepared Pulse Schemes CSV\\\\50,20\\\\50nano\\\\SegmentA_1008_3.csv'), ('Pulse File Location, at step 4', 'D:\\\\Alejandro\\\\Pulses\\\\diode measurements\\\\Prepared Pulse Schemes CSV\\\\50,20\\\\50nano\\\\SegmentA_1008_4.csv'), ('Pulse File Location, at step 5', 'D:\\\\Alejandro\\\\Pulses\\\\diode measurements\\\\Prepared Pulse Schemes CSV\\\\50,20\\\\50nano\\\\SegmentA_1008_5.csv'), ('Pulse File Location, at step 6', 'D:\\\\Alejandro\\\\Pulses\\\\diode measurements\\\\Prepared Pulse Schemes CSV\\\\50,20\\\\50nano\\\\SegmentA_1008_6.csv'), ('Pulse File Location, at step 7', 'D:\\\\Alejandro\\\\Pulses\\\\diode measurements\\\\Prepared Pulse Schemes CSV\\\\50,20\\\\50nano\\\\SegmentA_1008_7.csv'), ('Pulse File Location, at step 8', 'D:\\\\Alejandro\\\\Pulses\\\\diode measurements\\\\Prepared Pulse Schemes CSV\\\\50,20\\\\50nano\\\\SegmentA_1008_8.csv'), ('Pulse File Location, at step 9', 'D:\\\\Alejandro\\\\Pulses\\\\diode measurements\\\\Prepared Pulse Schemes CSV\\\\50,20\\\\50nano\\\\SegmentA_1008_9.csv'), ('Pulse File Location, at step 10', 'D:\\\\Alejandro\\\\Pulses\\\\diode measurements\\\\Prepared Pulse Schemes CSV\\\\50,20\\\\50nano\\\\SegmentA_1008_10.csv'), ('Pulse File Location, at step 11', 'D:\\\\Alejandro\\\\Pulses\\\\diode measurements\\\\Prepared Pulse Schemes CSV\\\\50,20\\\\50nano\\\\SegmentA_1008_11.csv'), ('Pulse File Location, at step 12', 'D:\\\\Alejandro\\\\Pulses\\\\diode measurements\\\\Prepared Pulse Schemes CSV\\\\50,20\\\\50nano\\\\SegmentA_1008_12.csv'), ('Pulse File Location, at step 13', 'D:\\\\Alejandro\\\\Pulses\\\\diode measurements\\\\Prepared Pulse Schemes CSV\\\\50,20\\\\50nano\\\\SegmentA_1008_13.csv'), ('Pulse File Location, at step 14', 'D:\\\\Alejandro\\\\Pulses\\\\diode measurements\\\\Prepared Pulse Schemes CSV\\\\50,20\\\\50nano\\\\SegmentA_1008_14.csv'), ('Pulse File Location, at step 15', 'D:\\\\Alejandro\\\\Pulses\\\\diode measurements\\\\Prepared Pulse Schemes CSV\\\\50,20\\\\50nano\\\\SegmentA_1008_15.csv'), ('Pulse File Location, at step 16', 'D:\\\\Alejandro\\\\Pulses\\\\diode measurements\\\\Prepared Pulse Schemes CSV\\\\50,20\\\\50nano\\\\SegmentA_1008_16.csv'), ('Pulse File Location, at step 17', 'D:\\\\Alejandro\\\\Pulses\\\\diode measurements\\\\Prepared Pulse Schemes CSV\\\\50,20\\\\50nano\\\\SegmentA_1008_17.csv'), ('Pulse File Location, at step 18', 'D:\\\\Alejandro\\\\Pulses\\\\diode measurements\\\\Prepared Pulse Schemes CSV\\\\50,20\\\\50nano\\\\SegmentA_1008_18.csv'), ('Pulse File Location, at step 19', 'D:\\\\Alejandro\\\\Pulses\\\\diode measurements\\\\Prepared Pulse Schemes CSV\\\\50,20\\\\50nano\\\\SegmentA_1008_19.csv'), ('Pulse File Location, at step 20', 'D:\\\\Alejandro\\\\Pulses\\\\diode measurements\\\\Prepared Pulse Schemes CSV\\\\50,20\\\\50nano\\\\SegmentA_1008_20.csv'), ('Pulse File Location, at step 21', 'D:\\\\Alejandro\\\\Pulses\\\\diode measurements\\\\Prepared Pulse Schemes CSV\\\\50,20\\\\50nano\\\\SegmentA_1008_21.csv'), ('Pulse File Location, at step 22', 'D:\\\\Alejandro\\\\Pulses\\\\diode measurements\\\\Prepared Pulse Schemes CSV\\\\50,20\\\\50nano\\\\SegmentA_1008_22.csv'), ('Pulse File Location, at step 23', 'D:\\\\Alejandro\\\\Pulses\\\\diode measurements\\\\Prepared Pulse Schemes CSV\\\\50,20\\\\50nano\\\\SegmentA_1008_23.csv'), ('Pulse File Location, at step 24', 'D:\\\\Alejandro\\\\Pulses\\\\diode measurements\\\\Prepared Pulse Schemes CSV\\\\50,20\\\\50nano\\\\SegmentA_1008_24.csv'), ('Pulse File Location, at step 25', 'D:\\\\Alejandro\\\\Pulses\\\\diode measurements\\\\Prepared Pulse Schemes CSV\\\\50,20\\\\50nano\\\\SegmentA_1008_25.csv'), ('Pulse File Location, at step 26', 'D:\\\\Alejandro\\\\Pulses\\\\diode measurements\\\\Prepared Pulse Schemes CSV\\\\50,20\\\\50nano\\\\SegmentA_1008_26.csv'), ('Pulse File Location, at step 27', 'D:\\\\Alejandro\\\\Pulses\\\\diode measurements\\\\Prepared Pulse Schemes CSV\\\\50,20\\\\50nano\\\\SegmentA_1008_27.csv'), ('Pulse File Location, at step 28', 'D:\\\\Alejandro\\\\Pulses\\\\diode measurements\\\\Prepared Pulse Schemes CSV\\\\50,20\\\\50nano\\\\SegmentA_1008_28.csv'), ('Pulse File Location, at step 29', 'D:\\\\Alejandro\\\\Pulses\\\\diode measurements\\\\Prepared Pulse Schemes CSV\\\\50,20\\\\50nano\\\\SegmentA_1008_29.csv'), ('Pulse File Location, at step 30', 'D:\\\\Alejandro\\\\Pulses\\\\diode measurements\\\\Prepared Pulse Schemes CSV\\\\50,20\\\\50nano\\\\SegmentA_1008_30.csv'), ('Pulse File Location, at step 31', 'D:\\\\Alejandro\\\\Pulses\\\\diode measurements\\\\Prepared Pulse Schemes CSV\\\\50,20\\\\50nano\\\\SegmentA_1008_31.csv'), ('Pulse File Location, at step 32', 'D:\\\\Alejandro\\\\Pulses\\\\diode measurements\\\\Prepared Pulse Schemes CSV\\\\50,20\\\\50nano\\\\SegmentA_1008_32.csv'), ('Pulse File Location, at step 33', 'D:\\\\Alejandro\\\\Pulses\\\\diode measurements\\\\Prepared Pulse Schemes CSV\\\\50,20\\\\50nano\\\\SegmentA_1008_33.csv'), ('Pulse File Location, at step 34', 'D:\\\\Alejandro\\\\Pulses\\\\diode measurements\\\\Prepared Pulse Schemes CSV\\\\50,20\\\\50nano\\\\SegmentA_1008_34.csv'), ('Pulse File Location, at step 35', 'D:\\\\Alejandro\\\\Pulses\\\\diode measurements\\\\Prepared Pulse Schemes CSV\\\\50,20\\\\50nano\\\\SegmentA_1008_35.csv'), ('Pulse File Location, at step 36', 'D:\\\\Alejandro\\\\Pulses\\\\diode measurements\\\\Prepared Pulse Schemes CSV\\\\50,20\\\\50nano\\\\SegmentA_1008_36.csv'), ('Pulse File Location, at step 37', 'D:\\\\Alejandro\\\\Pulses\\\\diode measurements\\\\Prepared Pulse Schemes CSV\\\\50,20\\\\50nano\\\\SegmentA_1008_37.csv'), ('Pulse File Location, at step 38', 'D:\\\\Alejandro\\\\Pulses\\\\diode measurements\\\\Prepared Pulse Schemes CSV\\\\50,20\\\\50nano\\\\SegmentA_1008_38.csv'), ('Pulse File Location, at step 39', 'D:\\\\Alejandro\\\\Pulses\\\\diode measurements\\\\Prepared Pulse Schemes CSV\\\\50,20\\\\50nano\\\\SegmentA_1008_39.csv'), ('Pulse File Location, at step 40', 'D:\\\\Alejandro\\\\Pulses\\\\diode measurements\\\\Prepared Pulse Schemes CSV\\\\50,20\\\\50nano\\\\SegmentA_1008_40.csv'), ('Pulse File Location, at step 41', 'D:\\\\Alejandro\\\\Pulses\\\\diode measurements\\\\Prepared Pulse Schemes CSV\\\\50,20\\\\50nano\\\\SegmentA_1008_41.csv'), ('Pulse File Location, at step 42', 'D:\\\\Alejandro\\\\Pulses\\\\diode measurements\\\\Prepared Pulse Schemes CSV\\\\50,20\\\\50nano\\\\SegmentA_1008_42.csv'), ('Pulse File Location, at step 43', 'D:\\\\Alejandro\\\\Pulses\\\\diode measurements\\\\Prepared Pulse Schemes CSV\\\\50,20\\\\50nano\\\\SegmentA_1008_43.csv'), ('Pulse File Location, at step 44', 'D:\\\\Alejandro\\\\Pulses\\\\diode measurements\\\\Prepared Pulse Schemes CSV\\\\50,20\\\\50nano\\\\SegmentA_1008_44.csv'), ('Pulse File Location, at step 45', 'D:\\\\Alejandro\\\\Pulses\\\\diode measurements\\\\Prepared Pulse Schemes CSV\\\\50,20\\\\50nano\\\\SegmentA_1008_45.csv'), ('Pulse File Location, at step 46', 'D:\\\\Alejandro\\\\Pulses\\\\diode measurements\\\\Prepared Pulse Schemes CSV\\\\50,20\\\\50nano\\\\SegmentA_1008_46.csv'), ('Pulse File Location, at step 47', 'D:\\\\Alejandro\\\\Pulses\\\\diode measurements\\\\Prepared Pulse Schemes CSV\\\\50,20\\\\50nano\\\\SegmentA_1008_47.csv'), ('Pulse File Location, at step 48', 'D:\\\\Alejandro\\\\Pulses\\\\diode measurements\\\\Prepared Pulse Schemes CSV\\\\50,20\\\\50nano\\\\SegmentA_1008_48.csv'), ('Pulse File Location, at step 49', 'D:\\\\Alejandro\\\\Pulses\\\\diode measurements\\\\Prepared Pulse Schemes CSV\\\\50,20\\\\50nano\\\\SegmentA_1008_49.csv'), ('Pulse File Location, at step 50', 'D:\\\\Alejandro\\\\Pulses\\\\diode measurements\\\\Prepared Pulse Schemes CSV\\\\50,20\\\\50nano\\\\SegmentA_1008_50.csv'), ('Pulse File Location, at step 51', 'D:\\\\Alejandro\\\\Pulses\\\\diode measurements\\\\Prepared Pulse Schemes CSV\\\\50,20\\\\50nano\\\\SegmentA_1008_51.csv'), ('Pulse File Location, at step 52', 'D:\\\\Alejandro\\\\Pulses\\\\diode measurements\\\\Prepared Pulse Schemes CSV\\\\50,20\\\\50nano\\\\SegmentA_1008_52.csv'), ('Pulse File Location, at step 53', 'D:\\\\Alejandro\\\\Pulses\\\\diode measurements\\\\Prepared Pulse Schemes CSV\\\\50,20\\\\50nano\\\\SegmentA_1008_53.csv'), ('Pulse File Location, at step 54', 'D:\\\\Alejandro\\\\Pulses\\\\diode measurements\\\\Prepared Pulse Schemes CSV\\\\50,20\\\\50nano\\\\SegmentA_1008_54.csv'), ('Pulse File Location, at step 55', 'D:\\\\Alejandro\\\\Pulses\\\\diode measurements\\\\Prepared Pulse Schemes CSV\\\\50,20\\\\50nano\\\\SegmentA_1008_55.csv'), ('Pulse File Location, at step 56', 'D:\\\\Alejandro\\\\Pulses\\\\diode measurements\\\\Prepared Pulse Schemes CSV\\\\50,20\\\\50nano\\\\SegmentA_1008_56.csv'), ('Pulse File Location, at step 57', 'D:\\\\Alejandro\\\\Pulses\\\\diode measurements\\\\Prepared Pulse Schemes CSV\\\\50,20\\\\50nano\\\\SegmentA_1008_57.csv'), ('Pulse File Location, at step 58', 'D:\\\\Alejandro\\\\Pulses\\\\diode measurements\\\\Prepared Pulse Schemes CSV\\\\50,20\\\\50nano\\\\SegmentA_1008_58.csv'), ('Pulse File Location, at step 59', 'D:\\\\Alejandro\\\\Pulses\\\\diode measurements\\\\Prepared Pulse Schemes CSV\\\\50,20\\\\50nano\\\\SegmentA_1008_59.csv'), ('Pulse File Location, at step 60', 'D:\\\\Alejandro\\\\Pulses\\\\diode measurements\\\\Prepared Pulse Schemes CSV\\\\50,20\\\\50nano\\\\SegmentA_1008_60.csv'), ('Pulse File Location, at step 61', 'D:\\\\Alejandro\\\\Pulses\\\\diode measurements\\\\Prepared Pulse Schemes CSV\\\\50,20\\\\50nano\\\\SegmentA_1008_61.csv'), ('Pulse File Location, at step 62', 'D:\\\\Alejandro\\\\Pulses\\\\diode measurements\\\\Prepared Pulse Schemes CSV\\\\50,20\\\\50nano\\\\SegmentA_1008_62.csv'), ('Pulse File Location, at step 63', 'D:\\\\Alejandro\\\\Pulses\\\\diode measurements\\\\Prepared Pulse Schemes CSV\\\\50,20\\\\50nano\\\\SegmentA_1008_63.csv'), ('Pulse File Location, at step 64', 'D:\\\\Alejandro\\\\Pulses\\\\diode measurements\\\\Prepared Pulse Schemes CSV\\\\50,20\\\\50nano\\\\SegmentA_1008_64.csv'), ('Pulse File Location, at step 65', 'D:\\\\Alejandro\\\\Pulses\\\\diode measurements\\\\Prepared Pulse Schemes CSV\\\\50,20\\\\50nano\\\\SegmentA_1008_65.csv'), ('Pulse File Location, at step 66', 'D:\\\\Alejandro\\\\Pulses\\\\diode measurements\\\\Prepared Pulse Schemes CSV\\\\50,20\\\\50nano\\\\SegmentA_1008_66.csv'), ('Pulse File Location, at step 67', 'D:\\\\Alejandro\\\\Pulses\\\\diode measurements\\\\Prepared Pulse Schemes CSV\\\\50,20\\\\50nano\\\\SegmentA_1008_67.csv'), ('Pulse File Location, at step 68', 'D:\\\\Alejandro\\\\Pulses\\\\diode measurements\\\\Prepared Pulse Schemes CSV\\\\50,20\\\\50nano\\\\SegmentA_1008_68.csv'), ('Pulse File Location, at step 69', 'D:\\\\Alejandro\\\\Pulses\\\\diode measurements\\\\Prepared Pulse Schemes CSV\\\\50,20\\\\50nano\\\\SegmentA_1008_69.csv'), ('Pulse File Location, at step 70', 'D:\\\\Alejandro\\\\Pulses\\\\diode measurements\\\\Prepared Pulse Schemes CSV\\\\50,20\\\\50nano\\\\SegmentA_1008_70.csv')])"
      ]
     },
     "execution_count": 100,
     "metadata": {},
     "output_type": "execute_result"
    }
   ],
   "source": [
    "sweeping_run_a_50nano.items()"
   ]
  },
  {
   "cell_type": "code",
   "execution_count": 130,
   "metadata": {},
   "outputs": [],
   "source": [
    "c = list(zip(list_cycleA_50nano,list_cycleB_50nano))\n",
    "random.shuffle(c)\n",
    "\n",
    "list_cycleA_50nano, list_cycleB_50nano = zip(*c)\n",
    "\n"
   ]
  },
  {
   "cell_type": "code",
   "execution_count": 134,
   "metadata": {},
   "outputs": [
    {
     "data": {
      "text/plain": [
       "('D:\\\\Alejandro\\\\Pulses\\\\diode measurements\\\\Prepared Pulse Schemes CSV\\\\50,20\\\\50nano\\\\SegmentA_1008_15.csv',\n",
       " 'D:\\\\Alejandro\\\\Pulses\\\\diode measurements\\\\Prepared Pulse Schemes CSV\\\\50,20\\\\50nano\\\\SegmentA_1008_59.csv',\n",
       " 'D:\\\\Alejandro\\\\Pulses\\\\diode measurements\\\\Prepared Pulse Schemes CSV\\\\50,20\\\\50nano\\\\SegmentA_1008_32.csv',\n",
       " 'D:\\\\Alejandro\\\\Pulses\\\\diode measurements\\\\Prepared Pulse Schemes CSV\\\\50,20\\\\50nano\\\\SegmentA_1008_36.csv',\n",
       " 'D:\\\\Alejandro\\\\Pulses\\\\diode measurements\\\\Prepared Pulse Schemes CSV\\\\50,20\\\\50nano\\\\SegmentA_1008_10.csv',\n",
       " 'D:\\\\Alejandro\\\\Pulses\\\\diode measurements\\\\Prepared Pulse Schemes CSV\\\\50,20\\\\50nano\\\\SegmentA_1008_29.csv',\n",
       " 'D:\\\\Alejandro\\\\Pulses\\\\diode measurements\\\\Prepared Pulse Schemes CSV\\\\50,20\\\\50nano\\\\SegmentA_1008_18.csv',\n",
       " 'D:\\\\Alejandro\\\\Pulses\\\\diode measurements\\\\Prepared Pulse Schemes CSV\\\\50,20\\\\50nano\\\\SegmentA_1008_44.csv',\n",
       " 'D:\\\\Alejandro\\\\Pulses\\\\diode measurements\\\\Prepared Pulse Schemes CSV\\\\50,20\\\\50nano\\\\SegmentA_1008_50.csv',\n",
       " 'D:\\\\Alejandro\\\\Pulses\\\\diode measurements\\\\Prepared Pulse Schemes CSV\\\\50,20\\\\50nano\\\\SegmentA_1008_12.csv',\n",
       " 'D:\\\\Alejandro\\\\Pulses\\\\diode measurements\\\\Prepared Pulse Schemes CSV\\\\50,20\\\\50nano\\\\SegmentA_1008_24.csv',\n",
       " 'D:\\\\Alejandro\\\\Pulses\\\\diode measurements\\\\Prepared Pulse Schemes CSV\\\\50,20\\\\50nano\\\\SegmentA_1008_30.csv',\n",
       " 'D:\\\\Alejandro\\\\Pulses\\\\diode measurements\\\\Prepared Pulse Schemes CSV\\\\50,20\\\\50nano\\\\SegmentA_1008_53.csv',\n",
       " 'D:\\\\Alejandro\\\\Pulses\\\\diode measurements\\\\Prepared Pulse Schemes CSV\\\\50,20\\\\50nano\\\\SegmentA_1008_54.csv',\n",
       " 'D:\\\\Alejandro\\\\Pulses\\\\diode measurements\\\\Prepared Pulse Schemes CSV\\\\50,20\\\\50nano\\\\SegmentA_1008_11.csv',\n",
       " 'D:\\\\Alejandro\\\\Pulses\\\\diode measurements\\\\Prepared Pulse Schemes CSV\\\\50,20\\\\50nano\\\\SegmentA_1008_27.csv',\n",
       " 'D:\\\\Alejandro\\\\Pulses\\\\diode measurements\\\\Prepared Pulse Schemes CSV\\\\50,20\\\\50nano\\\\SegmentA_1008_17.csv',\n",
       " 'D:\\\\Alejandro\\\\Pulses\\\\diode measurements\\\\Prepared Pulse Schemes CSV\\\\50,20\\\\50nano\\\\SegmentA_1008_9.csv',\n",
       " 'D:\\\\Alejandro\\\\Pulses\\\\diode measurements\\\\Prepared Pulse Schemes CSV\\\\50,20\\\\50nano\\\\SegmentA_1008_6.csv',\n",
       " 'D:\\\\Alejandro\\\\Pulses\\\\diode measurements\\\\Prepared Pulse Schemes CSV\\\\50,20\\\\50nano\\\\SegmentA_1008_66.csv',\n",
       " 'D:\\\\Alejandro\\\\Pulses\\\\diode measurements\\\\Prepared Pulse Schemes CSV\\\\50,20\\\\50nano\\\\SegmentA_1008_20.csv',\n",
       " 'D:\\\\Alejandro\\\\Pulses\\\\diode measurements\\\\Prepared Pulse Schemes CSV\\\\50,20\\\\50nano\\\\SegmentA_1008_4.csv',\n",
       " 'D:\\\\Alejandro\\\\Pulses\\\\diode measurements\\\\Prepared Pulse Schemes CSV\\\\50,20\\\\50nano\\\\SegmentA_1008_16.csv',\n",
       " 'D:\\\\Alejandro\\\\Pulses\\\\diode measurements\\\\Prepared Pulse Schemes CSV\\\\50,20\\\\50nano\\\\SegmentA_1008_13.csv',\n",
       " 'D:\\\\Alejandro\\\\Pulses\\\\diode measurements\\\\Prepared Pulse Schemes CSV\\\\50,20\\\\50nano\\\\SegmentA_1008_39.csv',\n",
       " 'D:\\\\Alejandro\\\\Pulses\\\\diode measurements\\\\Prepared Pulse Schemes CSV\\\\50,20\\\\50nano\\\\SegmentA_1008_67.csv',\n",
       " 'D:\\\\Alejandro\\\\Pulses\\\\diode measurements\\\\Prepared Pulse Schemes CSV\\\\50,20\\\\50nano\\\\SegmentA_1008_41.csv',\n",
       " 'D:\\\\Alejandro\\\\Pulses\\\\diode measurements\\\\Prepared Pulse Schemes CSV\\\\50,20\\\\50nano\\\\SegmentA_1008_2.csv',\n",
       " 'D:\\\\Alejandro\\\\Pulses\\\\diode measurements\\\\Prepared Pulse Schemes CSV\\\\50,20\\\\50nano\\\\SegmentA_1008_40.csv',\n",
       " 'D:\\\\Alejandro\\\\Pulses\\\\diode measurements\\\\Prepared Pulse Schemes CSV\\\\50,20\\\\50nano\\\\SegmentA_1008_64.csv',\n",
       " 'D:\\\\Alejandro\\\\Pulses\\\\diode measurements\\\\Prepared Pulse Schemes CSV\\\\50,20\\\\50nano\\\\SegmentA_1008_26.csv',\n",
       " 'D:\\\\Alejandro\\\\Pulses\\\\diode measurements\\\\Prepared Pulse Schemes CSV\\\\50,20\\\\50nano\\\\SegmentA_1008_35.csv',\n",
       " 'D:\\\\Alejandro\\\\Pulses\\\\diode measurements\\\\Prepared Pulse Schemes CSV\\\\50,20\\\\50nano\\\\SegmentA_1008_19.csv',\n",
       " 'D:\\\\Alejandro\\\\Pulses\\\\diode measurements\\\\Prepared Pulse Schemes CSV\\\\50,20\\\\50nano\\\\SegmentA_1008_56.csv',\n",
       " 'D:\\\\Alejandro\\\\Pulses\\\\diode measurements\\\\Prepared Pulse Schemes CSV\\\\50,20\\\\50nano\\\\SegmentA_1008_22.csv',\n",
       " 'D:\\\\Alejandro\\\\Pulses\\\\diode measurements\\\\Prepared Pulse Schemes CSV\\\\50,20\\\\50nano\\\\SegmentA_1008_58.csv',\n",
       " 'D:\\\\Alejandro\\\\Pulses\\\\diode measurements\\\\Prepared Pulse Schemes CSV\\\\50,20\\\\50nano\\\\SegmentA_1008_14.csv',\n",
       " 'D:\\\\Alejandro\\\\Pulses\\\\diode measurements\\\\Prepared Pulse Schemes CSV\\\\50,20\\\\50nano\\\\SegmentA_1008_45.csv',\n",
       " 'D:\\\\Alejandro\\\\Pulses\\\\diode measurements\\\\Prepared Pulse Schemes CSV\\\\50,20\\\\50nano\\\\SegmentA_1008_70.csv',\n",
       " 'D:\\\\Alejandro\\\\Pulses\\\\diode measurements\\\\Prepared Pulse Schemes CSV\\\\50,20\\\\50nano\\\\SegmentA_1008_23.csv',\n",
       " 'D:\\\\Alejandro\\\\Pulses\\\\diode measurements\\\\Prepared Pulse Schemes CSV\\\\50,20\\\\50nano\\\\SegmentA_1008_51.csv',\n",
       " 'D:\\\\Alejandro\\\\Pulses\\\\diode measurements\\\\Prepared Pulse Schemes CSV\\\\50,20\\\\50nano\\\\SegmentA_1008_21.csv',\n",
       " 'D:\\\\Alejandro\\\\Pulses\\\\diode measurements\\\\Prepared Pulse Schemes CSV\\\\50,20\\\\50nano\\\\SegmentA_1008_42.csv',\n",
       " 'D:\\\\Alejandro\\\\Pulses\\\\diode measurements\\\\Prepared Pulse Schemes CSV\\\\50,20\\\\50nano\\\\SegmentA_1008_3.csv',\n",
       " 'D:\\\\Alejandro\\\\Pulses\\\\diode measurements\\\\Prepared Pulse Schemes CSV\\\\50,20\\\\50nano\\\\SegmentA_1008_60.csv',\n",
       " 'D:\\\\Alejandro\\\\Pulses\\\\diode measurements\\\\Prepared Pulse Schemes CSV\\\\50,20\\\\50nano\\\\SegmentA_1008_57.csv',\n",
       " 'D:\\\\Alejandro\\\\Pulses\\\\diode measurements\\\\Prepared Pulse Schemes CSV\\\\50,20\\\\50nano\\\\SegmentA_1008_47.csv',\n",
       " 'D:\\\\Alejandro\\\\Pulses\\\\diode measurements\\\\Prepared Pulse Schemes CSV\\\\50,20\\\\50nano\\\\SegmentA_1008_7.csv',\n",
       " 'D:\\\\Alejandro\\\\Pulses\\\\diode measurements\\\\Prepared Pulse Schemes CSV\\\\50,20\\\\50nano\\\\SegmentA_1008_28.csv',\n",
       " 'D:\\\\Alejandro\\\\Pulses\\\\diode measurements\\\\Prepared Pulse Schemes CSV\\\\50,20\\\\50nano\\\\SegmentA_1008_63.csv',\n",
       " 'D:\\\\Alejandro\\\\Pulses\\\\diode measurements\\\\Prepared Pulse Schemes CSV\\\\50,20\\\\50nano\\\\SegmentA_1008_62.csv',\n",
       " 'D:\\\\Alejandro\\\\Pulses\\\\diode measurements\\\\Prepared Pulse Schemes CSV\\\\50,20\\\\50nano\\\\SegmentA_1008_0.csv',\n",
       " 'D:\\\\Alejandro\\\\Pulses\\\\diode measurements\\\\Prepared Pulse Schemes CSV\\\\50,20\\\\50nano\\\\SegmentA_1008_37.csv',\n",
       " 'D:\\\\Alejandro\\\\Pulses\\\\diode measurements\\\\Prepared Pulse Schemes CSV\\\\50,20\\\\50nano\\\\SegmentA_1008_31.csv',\n",
       " 'D:\\\\Alejandro\\\\Pulses\\\\diode measurements\\\\Prepared Pulse Schemes CSV\\\\50,20\\\\50nano\\\\SegmentA_1008_69.csv',\n",
       " 'D:\\\\Alejandro\\\\Pulses\\\\diode measurements\\\\Prepared Pulse Schemes CSV\\\\50,20\\\\50nano\\\\SegmentA_1008_49.csv',\n",
       " 'D:\\\\Alejandro\\\\Pulses\\\\diode measurements\\\\Prepared Pulse Schemes CSV\\\\50,20\\\\50nano\\\\SegmentA_1008_8.csv',\n",
       " 'D:\\\\Alejandro\\\\Pulses\\\\diode measurements\\\\Prepared Pulse Schemes CSV\\\\50,20\\\\50nano\\\\SegmentA_1008_43.csv',\n",
       " 'D:\\\\Alejandro\\\\Pulses\\\\diode measurements\\\\Prepared Pulse Schemes CSV\\\\50,20\\\\50nano\\\\SegmentA_1008_1.csv',\n",
       " 'D:\\\\Alejandro\\\\Pulses\\\\diode measurements\\\\Prepared Pulse Schemes CSV\\\\50,20\\\\50nano\\\\SegmentA_1008_52.csv',\n",
       " 'D:\\\\Alejandro\\\\Pulses\\\\diode measurements\\\\Prepared Pulse Schemes CSV\\\\50,20\\\\50nano\\\\SegmentA_1008_34.csv',\n",
       " 'D:\\\\Alejandro\\\\Pulses\\\\diode measurements\\\\Prepared Pulse Schemes CSV\\\\50,20\\\\50nano\\\\SegmentA_1008_68.csv',\n",
       " 'D:\\\\Alejandro\\\\Pulses\\\\diode measurements\\\\Prepared Pulse Schemes CSV\\\\50,20\\\\50nano\\\\SegmentA_1008_33.csv',\n",
       " 'D:\\\\Alejandro\\\\Pulses\\\\diode measurements\\\\Prepared Pulse Schemes CSV\\\\50,20\\\\50nano\\\\SegmentA_1008_5.csv',\n",
       " 'D:\\\\Alejandro\\\\Pulses\\\\diode measurements\\\\Prepared Pulse Schemes CSV\\\\50,20\\\\50nano\\\\SegmentA_1008_61.csv',\n",
       " 'D:\\\\Alejandro\\\\Pulses\\\\diode measurements\\\\Prepared Pulse Schemes CSV\\\\50,20\\\\50nano\\\\SegmentA_1008_65.csv',\n",
       " 'D:\\\\Alejandro\\\\Pulses\\\\diode measurements\\\\Prepared Pulse Schemes CSV\\\\50,20\\\\50nano\\\\SegmentA_1008_55.csv',\n",
       " 'D:\\\\Alejandro\\\\Pulses\\\\diode measurements\\\\Prepared Pulse Schemes CSV\\\\50,20\\\\50nano\\\\SegmentA_1008_38.csv',\n",
       " 'D:\\\\Alejandro\\\\Pulses\\\\diode measurements\\\\Prepared Pulse Schemes CSV\\\\50,20\\\\50nano\\\\SegmentA_1008_46.csv',\n",
       " 'D:\\\\Alejandro\\\\Pulses\\\\diode measurements\\\\Prepared Pulse Schemes CSV\\\\50,20\\\\50nano\\\\SegmentA_1008_25.csv',\n",
       " 'D:\\\\Alejandro\\\\Pulses\\\\diode measurements\\\\Prepared Pulse Schemes CSV\\\\50,20\\\\50nano\\\\SegmentA_1008_48.csv')"
      ]
     },
     "execution_count": 134,
     "metadata": {},
     "output_type": "execute_result"
    }
   ],
   "source": [
    "list_cycleA_50nano"
   ]
  },
  {
   "cell_type": "code",
   "execution_count": 132,
   "metadata": {},
   "outputs": [
    {
     "data": {
      "text/plain": [
       "('D:\\\\Alejandro\\\\Pulses\\\\diode measurements\\\\Prepared Pulse Schemes CSV\\\\50,20\\\\50nano\\\\SegmentB_1008_15.csv',\n",
       " 'D:\\\\Alejandro\\\\Pulses\\\\diode measurements\\\\Prepared Pulse Schemes CSV\\\\50,20\\\\50nano\\\\SegmentB_1008_59.csv',\n",
       " 'D:\\\\Alejandro\\\\Pulses\\\\diode measurements\\\\Prepared Pulse Schemes CSV\\\\50,20\\\\50nano\\\\SegmentB_1008_32.csv',\n",
       " 'D:\\\\Alejandro\\\\Pulses\\\\diode measurements\\\\Prepared Pulse Schemes CSV\\\\50,20\\\\50nano\\\\SegmentB_1008_36.csv',\n",
       " 'D:\\\\Alejandro\\\\Pulses\\\\diode measurements\\\\Prepared Pulse Schemes CSV\\\\50,20\\\\50nano\\\\SegmentB_1008_10.csv',\n",
       " 'D:\\\\Alejandro\\\\Pulses\\\\diode measurements\\\\Prepared Pulse Schemes CSV\\\\50,20\\\\50nano\\\\SegmentB_1008_29.csv',\n",
       " 'D:\\\\Alejandro\\\\Pulses\\\\diode measurements\\\\Prepared Pulse Schemes CSV\\\\50,20\\\\50nano\\\\SegmentB_1008_18.csv',\n",
       " 'D:\\\\Alejandro\\\\Pulses\\\\diode measurements\\\\Prepared Pulse Schemes CSV\\\\50,20\\\\50nano\\\\SegmentB_1008_44.csv',\n",
       " 'D:\\\\Alejandro\\\\Pulses\\\\diode measurements\\\\Prepared Pulse Schemes CSV\\\\50,20\\\\50nano\\\\SegmentB_1008_50.csv',\n",
       " 'D:\\\\Alejandro\\\\Pulses\\\\diode measurements\\\\Prepared Pulse Schemes CSV\\\\50,20\\\\50nano\\\\SegmentB_1008_12.csv',\n",
       " 'D:\\\\Alejandro\\\\Pulses\\\\diode measurements\\\\Prepared Pulse Schemes CSV\\\\50,20\\\\50nano\\\\SegmentB_1008_24.csv',\n",
       " 'D:\\\\Alejandro\\\\Pulses\\\\diode measurements\\\\Prepared Pulse Schemes CSV\\\\50,20\\\\50nano\\\\SegmentB_1008_30.csv',\n",
       " 'D:\\\\Alejandro\\\\Pulses\\\\diode measurements\\\\Prepared Pulse Schemes CSV\\\\50,20\\\\50nano\\\\SegmentB_1008_53.csv',\n",
       " 'D:\\\\Alejandro\\\\Pulses\\\\diode measurements\\\\Prepared Pulse Schemes CSV\\\\50,20\\\\50nano\\\\SegmentB_1008_54.csv',\n",
       " 'D:\\\\Alejandro\\\\Pulses\\\\diode measurements\\\\Prepared Pulse Schemes CSV\\\\50,20\\\\50nano\\\\SegmentB_1008_11.csv',\n",
       " 'D:\\\\Alejandro\\\\Pulses\\\\diode measurements\\\\Prepared Pulse Schemes CSV\\\\50,20\\\\50nano\\\\SegmentB_1008_27.csv',\n",
       " 'D:\\\\Alejandro\\\\Pulses\\\\diode measurements\\\\Prepared Pulse Schemes CSV\\\\50,20\\\\50nano\\\\SegmentB_1008_17.csv',\n",
       " 'D:\\\\Alejandro\\\\Pulses\\\\diode measurements\\\\Prepared Pulse Schemes CSV\\\\50,20\\\\50nano\\\\SegmentB_1008_9.csv',\n",
       " 'D:\\\\Alejandro\\\\Pulses\\\\diode measurements\\\\Prepared Pulse Schemes CSV\\\\50,20\\\\50nano\\\\SegmentB_1008_6.csv',\n",
       " 'D:\\\\Alejandro\\\\Pulses\\\\diode measurements\\\\Prepared Pulse Schemes CSV\\\\50,20\\\\50nano\\\\SegmentB_1008_66.csv',\n",
       " 'D:\\\\Alejandro\\\\Pulses\\\\diode measurements\\\\Prepared Pulse Schemes CSV\\\\50,20\\\\50nano\\\\SegmentB_1008_20.csv',\n",
       " 'D:\\\\Alejandro\\\\Pulses\\\\diode measurements\\\\Prepared Pulse Schemes CSV\\\\50,20\\\\50nano\\\\SegmentB_1008_4.csv',\n",
       " 'D:\\\\Alejandro\\\\Pulses\\\\diode measurements\\\\Prepared Pulse Schemes CSV\\\\50,20\\\\50nano\\\\SegmentB_1008_16.csv',\n",
       " 'D:\\\\Alejandro\\\\Pulses\\\\diode measurements\\\\Prepared Pulse Schemes CSV\\\\50,20\\\\50nano\\\\SegmentB_1008_13.csv',\n",
       " 'D:\\\\Alejandro\\\\Pulses\\\\diode measurements\\\\Prepared Pulse Schemes CSV\\\\50,20\\\\50nano\\\\SegmentB_1008_39.csv',\n",
       " 'D:\\\\Alejandro\\\\Pulses\\\\diode measurements\\\\Prepared Pulse Schemes CSV\\\\50,20\\\\50nano\\\\SegmentB_1008_67.csv',\n",
       " 'D:\\\\Alejandro\\\\Pulses\\\\diode measurements\\\\Prepared Pulse Schemes CSV\\\\50,20\\\\50nano\\\\SegmentB_1008_41.csv',\n",
       " 'D:\\\\Alejandro\\\\Pulses\\\\diode measurements\\\\Prepared Pulse Schemes CSV\\\\50,20\\\\50nano\\\\SegmentB_1008_2.csv',\n",
       " 'D:\\\\Alejandro\\\\Pulses\\\\diode measurements\\\\Prepared Pulse Schemes CSV\\\\50,20\\\\50nano\\\\SegmentB_1008_40.csv',\n",
       " 'D:\\\\Alejandro\\\\Pulses\\\\diode measurements\\\\Prepared Pulse Schemes CSV\\\\50,20\\\\50nano\\\\SegmentB_1008_64.csv',\n",
       " 'D:\\\\Alejandro\\\\Pulses\\\\diode measurements\\\\Prepared Pulse Schemes CSV\\\\50,20\\\\50nano\\\\SegmentB_1008_26.csv',\n",
       " 'D:\\\\Alejandro\\\\Pulses\\\\diode measurements\\\\Prepared Pulse Schemes CSV\\\\50,20\\\\50nano\\\\SegmentB_1008_35.csv',\n",
       " 'D:\\\\Alejandro\\\\Pulses\\\\diode measurements\\\\Prepared Pulse Schemes CSV\\\\50,20\\\\50nano\\\\SegmentB_1008_19.csv',\n",
       " 'D:\\\\Alejandro\\\\Pulses\\\\diode measurements\\\\Prepared Pulse Schemes CSV\\\\50,20\\\\50nano\\\\SegmentB_1008_56.csv',\n",
       " 'D:\\\\Alejandro\\\\Pulses\\\\diode measurements\\\\Prepared Pulse Schemes CSV\\\\50,20\\\\50nano\\\\SegmentB_1008_22.csv',\n",
       " 'D:\\\\Alejandro\\\\Pulses\\\\diode measurements\\\\Prepared Pulse Schemes CSV\\\\50,20\\\\50nano\\\\SegmentB_1008_58.csv',\n",
       " 'D:\\\\Alejandro\\\\Pulses\\\\diode measurements\\\\Prepared Pulse Schemes CSV\\\\50,20\\\\50nano\\\\SegmentB_1008_14.csv',\n",
       " 'D:\\\\Alejandro\\\\Pulses\\\\diode measurements\\\\Prepared Pulse Schemes CSV\\\\50,20\\\\50nano\\\\SegmentB_1008_45.csv',\n",
       " 'D:\\\\Alejandro\\\\Pulses\\\\diode measurements\\\\Prepared Pulse Schemes CSV\\\\50,20\\\\50nano\\\\SegmentB_1008_70.csv',\n",
       " 'D:\\\\Alejandro\\\\Pulses\\\\diode measurements\\\\Prepared Pulse Schemes CSV\\\\50,20\\\\50nano\\\\SegmentB_1008_23.csv',\n",
       " 'D:\\\\Alejandro\\\\Pulses\\\\diode measurements\\\\Prepared Pulse Schemes CSV\\\\50,20\\\\50nano\\\\SegmentB_1008_51.csv',\n",
       " 'D:\\\\Alejandro\\\\Pulses\\\\diode measurements\\\\Prepared Pulse Schemes CSV\\\\50,20\\\\50nano\\\\SegmentB_1008_21.csv',\n",
       " 'D:\\\\Alejandro\\\\Pulses\\\\diode measurements\\\\Prepared Pulse Schemes CSV\\\\50,20\\\\50nano\\\\SegmentB_1008_42.csv',\n",
       " 'D:\\\\Alejandro\\\\Pulses\\\\diode measurements\\\\Prepared Pulse Schemes CSV\\\\50,20\\\\50nano\\\\SegmentB_1008_3.csv',\n",
       " 'D:\\\\Alejandro\\\\Pulses\\\\diode measurements\\\\Prepared Pulse Schemes CSV\\\\50,20\\\\50nano\\\\SegmentB_1008_60.csv',\n",
       " 'D:\\\\Alejandro\\\\Pulses\\\\diode measurements\\\\Prepared Pulse Schemes CSV\\\\50,20\\\\50nano\\\\SegmentB_1008_57.csv',\n",
       " 'D:\\\\Alejandro\\\\Pulses\\\\diode measurements\\\\Prepared Pulse Schemes CSV\\\\50,20\\\\50nano\\\\SegmentB_1008_47.csv',\n",
       " 'D:\\\\Alejandro\\\\Pulses\\\\diode measurements\\\\Prepared Pulse Schemes CSV\\\\50,20\\\\50nano\\\\SegmentB_1008_7.csv',\n",
       " 'D:\\\\Alejandro\\\\Pulses\\\\diode measurements\\\\Prepared Pulse Schemes CSV\\\\50,20\\\\50nano\\\\SegmentB_1008_28.csv',\n",
       " 'D:\\\\Alejandro\\\\Pulses\\\\diode measurements\\\\Prepared Pulse Schemes CSV\\\\50,20\\\\50nano\\\\SegmentB_1008_63.csv',\n",
       " 'D:\\\\Alejandro\\\\Pulses\\\\diode measurements\\\\Prepared Pulse Schemes CSV\\\\50,20\\\\50nano\\\\SegmentB_1008_62.csv',\n",
       " 'D:\\\\Alejandro\\\\Pulses\\\\diode measurements\\\\Prepared Pulse Schemes CSV\\\\50,20\\\\50nano\\\\SegmentB_1008_0.csv',\n",
       " 'D:\\\\Alejandro\\\\Pulses\\\\diode measurements\\\\Prepared Pulse Schemes CSV\\\\50,20\\\\50nano\\\\SegmentB_1008_37.csv',\n",
       " 'D:\\\\Alejandro\\\\Pulses\\\\diode measurements\\\\Prepared Pulse Schemes CSV\\\\50,20\\\\50nano\\\\SegmentB_1008_31.csv',\n",
       " 'D:\\\\Alejandro\\\\Pulses\\\\diode measurements\\\\Prepared Pulse Schemes CSV\\\\50,20\\\\50nano\\\\SegmentB_1008_69.csv',\n",
       " 'D:\\\\Alejandro\\\\Pulses\\\\diode measurements\\\\Prepared Pulse Schemes CSV\\\\50,20\\\\50nano\\\\SegmentB_1008_49.csv',\n",
       " 'D:\\\\Alejandro\\\\Pulses\\\\diode measurements\\\\Prepared Pulse Schemes CSV\\\\50,20\\\\50nano\\\\SegmentB_1008_8.csv',\n",
       " 'D:\\\\Alejandro\\\\Pulses\\\\diode measurements\\\\Prepared Pulse Schemes CSV\\\\50,20\\\\50nano\\\\SegmentB_1008_43.csv',\n",
       " 'D:\\\\Alejandro\\\\Pulses\\\\diode measurements\\\\Prepared Pulse Schemes CSV\\\\50,20\\\\50nano\\\\SegmentB_1008_1.csv',\n",
       " 'D:\\\\Alejandro\\\\Pulses\\\\diode measurements\\\\Prepared Pulse Schemes CSV\\\\50,20\\\\50nano\\\\SegmentB_1008_52.csv',\n",
       " 'D:\\\\Alejandro\\\\Pulses\\\\diode measurements\\\\Prepared Pulse Schemes CSV\\\\50,20\\\\50nano\\\\SegmentB_1008_34.csv',\n",
       " 'D:\\\\Alejandro\\\\Pulses\\\\diode measurements\\\\Prepared Pulse Schemes CSV\\\\50,20\\\\50nano\\\\SegmentB_1008_68.csv',\n",
       " 'D:\\\\Alejandro\\\\Pulses\\\\diode measurements\\\\Prepared Pulse Schemes CSV\\\\50,20\\\\50nano\\\\SegmentB_1008_33.csv',\n",
       " 'D:\\\\Alejandro\\\\Pulses\\\\diode measurements\\\\Prepared Pulse Schemes CSV\\\\50,20\\\\50nano\\\\SegmentB_1008_5.csv',\n",
       " 'D:\\\\Alejandro\\\\Pulses\\\\diode measurements\\\\Prepared Pulse Schemes CSV\\\\50,20\\\\50nano\\\\SegmentB_1008_61.csv',\n",
       " 'D:\\\\Alejandro\\\\Pulses\\\\diode measurements\\\\Prepared Pulse Schemes CSV\\\\50,20\\\\50nano\\\\SegmentB_1008_65.csv',\n",
       " 'D:\\\\Alejandro\\\\Pulses\\\\diode measurements\\\\Prepared Pulse Schemes CSV\\\\50,20\\\\50nano\\\\SegmentB_1008_55.csv',\n",
       " 'D:\\\\Alejandro\\\\Pulses\\\\diode measurements\\\\Prepared Pulse Schemes CSV\\\\50,20\\\\50nano\\\\SegmentB_1008_38.csv',\n",
       " 'D:\\\\Alejandro\\\\Pulses\\\\diode measurements\\\\Prepared Pulse Schemes CSV\\\\50,20\\\\50nano\\\\SegmentB_1008_46.csv',\n",
       " 'D:\\\\Alejandro\\\\Pulses\\\\diode measurements\\\\Prepared Pulse Schemes CSV\\\\50,20\\\\50nano\\\\SegmentB_1008_25.csv',\n",
       " 'D:\\\\Alejandro\\\\Pulses\\\\diode measurements\\\\Prepared Pulse Schemes CSV\\\\50,20\\\\50nano\\\\SegmentB_1008_48.csv')"
      ]
     },
     "execution_count": 132,
     "metadata": {},
     "output_type": "execute_result"
    }
   ],
   "source": [
    "list_cycleB_50nano"
   ]
  },
  {
   "cell_type": "code",
   "execution_count": 123,
   "metadata": {},
   "outputs": [
    {
     "data": {
      "text/plain": [
       "['D:\\\\Alejandro\\\\Pulses\\\\diode measurements\\\\Prepared Pulse Schemes CSV\\\\50,20\\\\50nano\\\\SegmentA_1008_0.csv',\n",
       " 'D:\\\\Alejandro\\\\Pulses\\\\diode measurements\\\\Prepared Pulse Schemes CSV\\\\50,20\\\\50nano\\\\SegmentA_1008_1.csv',\n",
       " 'D:\\\\Alejandro\\\\Pulses\\\\diode measurements\\\\Prepared Pulse Schemes CSV\\\\50,20\\\\50nano\\\\SegmentA_1008_2.csv',\n",
       " 'D:\\\\Alejandro\\\\Pulses\\\\diode measurements\\\\Prepared Pulse Schemes CSV\\\\50,20\\\\50nano\\\\SegmentA_1008_3.csv',\n",
       " 'D:\\\\Alejandro\\\\Pulses\\\\diode measurements\\\\Prepared Pulse Schemes CSV\\\\50,20\\\\50nano\\\\SegmentA_1008_4.csv',\n",
       " 'D:\\\\Alejandro\\\\Pulses\\\\diode measurements\\\\Prepared Pulse Schemes CSV\\\\50,20\\\\50nano\\\\SegmentA_1008_5.csv',\n",
       " 'D:\\\\Alejandro\\\\Pulses\\\\diode measurements\\\\Prepared Pulse Schemes CSV\\\\50,20\\\\50nano\\\\SegmentA_1008_6.csv',\n",
       " 'D:\\\\Alejandro\\\\Pulses\\\\diode measurements\\\\Prepared Pulse Schemes CSV\\\\50,20\\\\50nano\\\\SegmentA_1008_7.csv',\n",
       " 'D:\\\\Alejandro\\\\Pulses\\\\diode measurements\\\\Prepared Pulse Schemes CSV\\\\50,20\\\\50nano\\\\SegmentA_1008_8.csv',\n",
       " 'D:\\\\Alejandro\\\\Pulses\\\\diode measurements\\\\Prepared Pulse Schemes CSV\\\\50,20\\\\50nano\\\\SegmentA_1008_9.csv',\n",
       " 'D:\\\\Alejandro\\\\Pulses\\\\diode measurements\\\\Prepared Pulse Schemes CSV\\\\50,20\\\\50nano\\\\SegmentA_1008_10.csv',\n",
       " 'D:\\\\Alejandro\\\\Pulses\\\\diode measurements\\\\Prepared Pulse Schemes CSV\\\\50,20\\\\50nano\\\\SegmentA_1008_11.csv',\n",
       " 'D:\\\\Alejandro\\\\Pulses\\\\diode measurements\\\\Prepared Pulse Schemes CSV\\\\50,20\\\\50nano\\\\SegmentA_1008_12.csv',\n",
       " 'D:\\\\Alejandro\\\\Pulses\\\\diode measurements\\\\Prepared Pulse Schemes CSV\\\\50,20\\\\50nano\\\\SegmentA_1008_13.csv',\n",
       " 'D:\\\\Alejandro\\\\Pulses\\\\diode measurements\\\\Prepared Pulse Schemes CSV\\\\50,20\\\\50nano\\\\SegmentA_1008_14.csv',\n",
       " 'D:\\\\Alejandro\\\\Pulses\\\\diode measurements\\\\Prepared Pulse Schemes CSV\\\\50,20\\\\50nano\\\\SegmentA_1008_15.csv',\n",
       " 'D:\\\\Alejandro\\\\Pulses\\\\diode measurements\\\\Prepared Pulse Schemes CSV\\\\50,20\\\\50nano\\\\SegmentA_1008_16.csv',\n",
       " 'D:\\\\Alejandro\\\\Pulses\\\\diode measurements\\\\Prepared Pulse Schemes CSV\\\\50,20\\\\50nano\\\\SegmentA_1008_17.csv',\n",
       " 'D:\\\\Alejandro\\\\Pulses\\\\diode measurements\\\\Prepared Pulse Schemes CSV\\\\50,20\\\\50nano\\\\SegmentA_1008_18.csv',\n",
       " 'D:\\\\Alejandro\\\\Pulses\\\\diode measurements\\\\Prepared Pulse Schemes CSV\\\\50,20\\\\50nano\\\\SegmentA_1008_19.csv',\n",
       " 'D:\\\\Alejandro\\\\Pulses\\\\diode measurements\\\\Prepared Pulse Schemes CSV\\\\50,20\\\\50nano\\\\SegmentA_1008_20.csv',\n",
       " 'D:\\\\Alejandro\\\\Pulses\\\\diode measurements\\\\Prepared Pulse Schemes CSV\\\\50,20\\\\50nano\\\\SegmentA_1008_21.csv',\n",
       " 'D:\\\\Alejandro\\\\Pulses\\\\diode measurements\\\\Prepared Pulse Schemes CSV\\\\50,20\\\\50nano\\\\SegmentA_1008_22.csv',\n",
       " 'D:\\\\Alejandro\\\\Pulses\\\\diode measurements\\\\Prepared Pulse Schemes CSV\\\\50,20\\\\50nano\\\\SegmentA_1008_23.csv',\n",
       " 'D:\\\\Alejandro\\\\Pulses\\\\diode measurements\\\\Prepared Pulse Schemes CSV\\\\50,20\\\\50nano\\\\SegmentA_1008_24.csv',\n",
       " 'D:\\\\Alejandro\\\\Pulses\\\\diode measurements\\\\Prepared Pulse Schemes CSV\\\\50,20\\\\50nano\\\\SegmentA_1008_25.csv',\n",
       " 'D:\\\\Alejandro\\\\Pulses\\\\diode measurements\\\\Prepared Pulse Schemes CSV\\\\50,20\\\\50nano\\\\SegmentA_1008_26.csv',\n",
       " 'D:\\\\Alejandro\\\\Pulses\\\\diode measurements\\\\Prepared Pulse Schemes CSV\\\\50,20\\\\50nano\\\\SegmentA_1008_27.csv',\n",
       " 'D:\\\\Alejandro\\\\Pulses\\\\diode measurements\\\\Prepared Pulse Schemes CSV\\\\50,20\\\\50nano\\\\SegmentA_1008_28.csv',\n",
       " 'D:\\\\Alejandro\\\\Pulses\\\\diode measurements\\\\Prepared Pulse Schemes CSV\\\\50,20\\\\50nano\\\\SegmentA_1008_29.csv',\n",
       " 'D:\\\\Alejandro\\\\Pulses\\\\diode measurements\\\\Prepared Pulse Schemes CSV\\\\50,20\\\\50nano\\\\SegmentA_1008_30.csv',\n",
       " 'D:\\\\Alejandro\\\\Pulses\\\\diode measurements\\\\Prepared Pulse Schemes CSV\\\\50,20\\\\50nano\\\\SegmentA_1008_31.csv',\n",
       " 'D:\\\\Alejandro\\\\Pulses\\\\diode measurements\\\\Prepared Pulse Schemes CSV\\\\50,20\\\\50nano\\\\SegmentA_1008_32.csv',\n",
       " 'D:\\\\Alejandro\\\\Pulses\\\\diode measurements\\\\Prepared Pulse Schemes CSV\\\\50,20\\\\50nano\\\\SegmentA_1008_33.csv',\n",
       " 'D:\\\\Alejandro\\\\Pulses\\\\diode measurements\\\\Prepared Pulse Schemes CSV\\\\50,20\\\\50nano\\\\SegmentA_1008_34.csv',\n",
       " 'D:\\\\Alejandro\\\\Pulses\\\\diode measurements\\\\Prepared Pulse Schemes CSV\\\\50,20\\\\50nano\\\\SegmentA_1008_35.csv',\n",
       " 'D:\\\\Alejandro\\\\Pulses\\\\diode measurements\\\\Prepared Pulse Schemes CSV\\\\50,20\\\\50nano\\\\SegmentA_1008_36.csv',\n",
       " 'D:\\\\Alejandro\\\\Pulses\\\\diode measurements\\\\Prepared Pulse Schemes CSV\\\\50,20\\\\50nano\\\\SegmentA_1008_37.csv',\n",
       " 'D:\\\\Alejandro\\\\Pulses\\\\diode measurements\\\\Prepared Pulse Schemes CSV\\\\50,20\\\\50nano\\\\SegmentA_1008_38.csv',\n",
       " 'D:\\\\Alejandro\\\\Pulses\\\\diode measurements\\\\Prepared Pulse Schemes CSV\\\\50,20\\\\50nano\\\\SegmentA_1008_39.csv',\n",
       " 'D:\\\\Alejandro\\\\Pulses\\\\diode measurements\\\\Prepared Pulse Schemes CSV\\\\50,20\\\\50nano\\\\SegmentA_1008_40.csv',\n",
       " 'D:\\\\Alejandro\\\\Pulses\\\\diode measurements\\\\Prepared Pulse Schemes CSV\\\\50,20\\\\50nano\\\\SegmentA_1008_41.csv',\n",
       " 'D:\\\\Alejandro\\\\Pulses\\\\diode measurements\\\\Prepared Pulse Schemes CSV\\\\50,20\\\\50nano\\\\SegmentA_1008_42.csv',\n",
       " 'D:\\\\Alejandro\\\\Pulses\\\\diode measurements\\\\Prepared Pulse Schemes CSV\\\\50,20\\\\50nano\\\\SegmentA_1008_43.csv',\n",
       " 'D:\\\\Alejandro\\\\Pulses\\\\diode measurements\\\\Prepared Pulse Schemes CSV\\\\50,20\\\\50nano\\\\SegmentA_1008_44.csv',\n",
       " 'D:\\\\Alejandro\\\\Pulses\\\\diode measurements\\\\Prepared Pulse Schemes CSV\\\\50,20\\\\50nano\\\\SegmentA_1008_45.csv',\n",
       " 'D:\\\\Alejandro\\\\Pulses\\\\diode measurements\\\\Prepared Pulse Schemes CSV\\\\50,20\\\\50nano\\\\SegmentA_1008_46.csv',\n",
       " 'D:\\\\Alejandro\\\\Pulses\\\\diode measurements\\\\Prepared Pulse Schemes CSV\\\\50,20\\\\50nano\\\\SegmentA_1008_47.csv',\n",
       " 'D:\\\\Alejandro\\\\Pulses\\\\diode measurements\\\\Prepared Pulse Schemes CSV\\\\50,20\\\\50nano\\\\SegmentA_1008_48.csv',\n",
       " 'D:\\\\Alejandro\\\\Pulses\\\\diode measurements\\\\Prepared Pulse Schemes CSV\\\\50,20\\\\50nano\\\\SegmentA_1008_49.csv',\n",
       " 'D:\\\\Alejandro\\\\Pulses\\\\diode measurements\\\\Prepared Pulse Schemes CSV\\\\50,20\\\\50nano\\\\SegmentA_1008_50.csv',\n",
       " 'D:\\\\Alejandro\\\\Pulses\\\\diode measurements\\\\Prepared Pulse Schemes CSV\\\\50,20\\\\50nano\\\\SegmentA_1008_51.csv',\n",
       " 'D:\\\\Alejandro\\\\Pulses\\\\diode measurements\\\\Prepared Pulse Schemes CSV\\\\50,20\\\\50nano\\\\SegmentA_1008_52.csv',\n",
       " 'D:\\\\Alejandro\\\\Pulses\\\\diode measurements\\\\Prepared Pulse Schemes CSV\\\\50,20\\\\50nano\\\\SegmentA_1008_53.csv',\n",
       " 'D:\\\\Alejandro\\\\Pulses\\\\diode measurements\\\\Prepared Pulse Schemes CSV\\\\50,20\\\\50nano\\\\SegmentA_1008_54.csv',\n",
       " 'D:\\\\Alejandro\\\\Pulses\\\\diode measurements\\\\Prepared Pulse Schemes CSV\\\\50,20\\\\50nano\\\\SegmentA_1008_55.csv',\n",
       " 'D:\\\\Alejandro\\\\Pulses\\\\diode measurements\\\\Prepared Pulse Schemes CSV\\\\50,20\\\\50nano\\\\SegmentA_1008_56.csv',\n",
       " 'D:\\\\Alejandro\\\\Pulses\\\\diode measurements\\\\Prepared Pulse Schemes CSV\\\\50,20\\\\50nano\\\\SegmentA_1008_57.csv',\n",
       " 'D:\\\\Alejandro\\\\Pulses\\\\diode measurements\\\\Prepared Pulse Schemes CSV\\\\50,20\\\\50nano\\\\SegmentA_1008_58.csv',\n",
       " 'D:\\\\Alejandro\\\\Pulses\\\\diode measurements\\\\Prepared Pulse Schemes CSV\\\\50,20\\\\50nano\\\\SegmentA_1008_59.csv',\n",
       " 'D:\\\\Alejandro\\\\Pulses\\\\diode measurements\\\\Prepared Pulse Schemes CSV\\\\50,20\\\\50nano\\\\SegmentA_1008_60.csv',\n",
       " 'D:\\\\Alejandro\\\\Pulses\\\\diode measurements\\\\Prepared Pulse Schemes CSV\\\\50,20\\\\50nano\\\\SegmentA_1008_61.csv',\n",
       " 'D:\\\\Alejandro\\\\Pulses\\\\diode measurements\\\\Prepared Pulse Schemes CSV\\\\50,20\\\\50nano\\\\SegmentA_1008_62.csv',\n",
       " 'D:\\\\Alejandro\\\\Pulses\\\\diode measurements\\\\Prepared Pulse Schemes CSV\\\\50,20\\\\50nano\\\\SegmentA_1008_63.csv',\n",
       " 'D:\\\\Alejandro\\\\Pulses\\\\diode measurements\\\\Prepared Pulse Schemes CSV\\\\50,20\\\\50nano\\\\SegmentA_1008_64.csv',\n",
       " 'D:\\\\Alejandro\\\\Pulses\\\\diode measurements\\\\Prepared Pulse Schemes CSV\\\\50,20\\\\50nano\\\\SegmentA_1008_65.csv',\n",
       " 'D:\\\\Alejandro\\\\Pulses\\\\diode measurements\\\\Prepared Pulse Schemes CSV\\\\50,20\\\\50nano\\\\SegmentA_1008_66.csv',\n",
       " 'D:\\\\Alejandro\\\\Pulses\\\\diode measurements\\\\Prepared Pulse Schemes CSV\\\\50,20\\\\50nano\\\\SegmentA_1008_67.csv',\n",
       " 'D:\\\\Alejandro\\\\Pulses\\\\diode measurements\\\\Prepared Pulse Schemes CSV\\\\50,20\\\\50nano\\\\SegmentA_1008_68.csv',\n",
       " 'D:\\\\Alejandro\\\\Pulses\\\\diode measurements\\\\Prepared Pulse Schemes CSV\\\\50,20\\\\50nano\\\\SegmentA_1008_69.csv',\n",
       " 'D:\\\\Alejandro\\\\Pulses\\\\diode measurements\\\\Prepared Pulse Schemes CSV\\\\50,20\\\\50nano\\\\SegmentA_1008_70.csv']"
      ]
     },
     "execution_count": 123,
     "metadata": {},
     "output_type": "execute_result"
    }
   ],
   "source": [
    "list_cycleA_50nano = list(sweeping_run_a_50nano.values())\n",
    "list_cycleA_50nano"
   ]
  },
  {
   "cell_type": "code",
   "execution_count": 122,
   "metadata": {},
   "outputs": [
    {
     "data": {
      "text/plain": [
       "['D:\\\\Alejandro\\\\Pulses\\\\diode measurements\\\\Prepared Pulse Schemes CSV\\\\50,20\\\\50nano\\\\SegmentA_1008_36.csv',\n",
       " 'D:\\\\Alejandro\\\\Pulses\\\\diode measurements\\\\Prepared Pulse Schemes CSV\\\\50,20\\\\50nano\\\\SegmentA_1008_47.csv',\n",
       " 'D:\\\\Alejandro\\\\Pulses\\\\diode measurements\\\\Prepared Pulse Schemes CSV\\\\50,20\\\\50nano\\\\SegmentA_1008_28.csv',\n",
       " 'D:\\\\Alejandro\\\\Pulses\\\\diode measurements\\\\Prepared Pulse Schemes CSV\\\\50,20\\\\50nano\\\\SegmentA_1008_24.csv',\n",
       " 'D:\\\\Alejandro\\\\Pulses\\\\diode measurements\\\\Prepared Pulse Schemes CSV\\\\50,20\\\\50nano\\\\SegmentA_1008_32.csv',\n",
       " 'D:\\\\Alejandro\\\\Pulses\\\\diode measurements\\\\Prepared Pulse Schemes CSV\\\\50,20\\\\50nano\\\\SegmentA_1008_61.csv',\n",
       " 'D:\\\\Alejandro\\\\Pulses\\\\diode measurements\\\\Prepared Pulse Schemes CSV\\\\50,20\\\\50nano\\\\SegmentA_1008_35.csv',\n",
       " 'D:\\\\Alejandro\\\\Pulses\\\\diode measurements\\\\Prepared Pulse Schemes CSV\\\\50,20\\\\50nano\\\\SegmentA_1008_10.csv',\n",
       " 'D:\\\\Alejandro\\\\Pulses\\\\diode measurements\\\\Prepared Pulse Schemes CSV\\\\50,20\\\\50nano\\\\SegmentA_1008_68.csv',\n",
       " 'D:\\\\Alejandro\\\\Pulses\\\\diode measurements\\\\Prepared Pulse Schemes CSV\\\\50,20\\\\50nano\\\\SegmentA_1008_34.csv',\n",
       " 'D:\\\\Alejandro\\\\Pulses\\\\diode measurements\\\\Prepared Pulse Schemes CSV\\\\50,20\\\\50nano\\\\SegmentA_1008_44.csv',\n",
       " 'D:\\\\Alejandro\\\\Pulses\\\\diode measurements\\\\Prepared Pulse Schemes CSV\\\\50,20\\\\50nano\\\\SegmentA_1008_57.csv',\n",
       " 'D:\\\\Alejandro\\\\Pulses\\\\diode measurements\\\\Prepared Pulse Schemes CSV\\\\50,20\\\\50nano\\\\SegmentA_1008_23.csv',\n",
       " 'D:\\\\Alejandro\\\\Pulses\\\\diode measurements\\\\Prepared Pulse Schemes CSV\\\\50,20\\\\50nano\\\\SegmentA_1008_18.csv',\n",
       " 'D:\\\\Alejandro\\\\Pulses\\\\diode measurements\\\\Prepared Pulse Schemes CSV\\\\50,20\\\\50nano\\\\SegmentA_1008_3.csv',\n",
       " 'D:\\\\Alejandro\\\\Pulses\\\\diode measurements\\\\Prepared Pulse Schemes CSV\\\\50,20\\\\50nano\\\\SegmentA_1008_52.csv',\n",
       " 'D:\\\\Alejandro\\\\Pulses\\\\diode measurements\\\\Prepared Pulse Schemes CSV\\\\50,20\\\\50nano\\\\SegmentA_1008_66.csv',\n",
       " 'D:\\\\Alejandro\\\\Pulses\\\\diode measurements\\\\Prepared Pulse Schemes CSV\\\\50,20\\\\50nano\\\\SegmentA_1008_51.csv',\n",
       " 'D:\\\\Alejandro\\\\Pulses\\\\diode measurements\\\\Prepared Pulse Schemes CSV\\\\50,20\\\\50nano\\\\SegmentA_1008_59.csv',\n",
       " 'D:\\\\Alejandro\\\\Pulses\\\\diode measurements\\\\Prepared Pulse Schemes CSV\\\\50,20\\\\50nano\\\\SegmentA_1008_0.csv',\n",
       " 'D:\\\\Alejandro\\\\Pulses\\\\diode measurements\\\\Prepared Pulse Schemes CSV\\\\50,20\\\\50nano\\\\SegmentA_1008_41.csv',\n",
       " 'D:\\\\Alejandro\\\\Pulses\\\\diode measurements\\\\Prepared Pulse Schemes CSV\\\\50,20\\\\50nano\\\\SegmentA_1008_63.csv',\n",
       " 'D:\\\\Alejandro\\\\Pulses\\\\diode measurements\\\\Prepared Pulse Schemes CSV\\\\50,20\\\\50nano\\\\SegmentA_1008_14.csv',\n",
       " 'D:\\\\Alejandro\\\\Pulses\\\\diode measurements\\\\Prepared Pulse Schemes CSV\\\\50,20\\\\50nano\\\\SegmentA_1008_58.csv',\n",
       " 'D:\\\\Alejandro\\\\Pulses\\\\diode measurements\\\\Prepared Pulse Schemes CSV\\\\50,20\\\\50nano\\\\SegmentA_1008_42.csv',\n",
       " 'D:\\\\Alejandro\\\\Pulses\\\\diode measurements\\\\Prepared Pulse Schemes CSV\\\\50,20\\\\50nano\\\\SegmentA_1008_5.csv',\n",
       " 'D:\\\\Alejandro\\\\Pulses\\\\diode measurements\\\\Prepared Pulse Schemes CSV\\\\50,20\\\\50nano\\\\SegmentA_1008_67.csv',\n",
       " 'D:\\\\Alejandro\\\\Pulses\\\\diode measurements\\\\Prepared Pulse Schemes CSV\\\\50,20\\\\50nano\\\\SegmentA_1008_43.csv',\n",
       " 'D:\\\\Alejandro\\\\Pulses\\\\diode measurements\\\\Prepared Pulse Schemes CSV\\\\50,20\\\\50nano\\\\SegmentA_1008_26.csv',\n",
       " 'D:\\\\Alejandro\\\\Pulses\\\\diode measurements\\\\Prepared Pulse Schemes CSV\\\\50,20\\\\50nano\\\\SegmentA_1008_7.csv',\n",
       " 'D:\\\\Alejandro\\\\Pulses\\\\diode measurements\\\\Prepared Pulse Schemes CSV\\\\50,20\\\\50nano\\\\SegmentA_1008_19.csv',\n",
       " 'D:\\\\Alejandro\\\\Pulses\\\\diode measurements\\\\Prepared Pulse Schemes CSV\\\\50,20\\\\50nano\\\\SegmentA_1008_31.csv',\n",
       " 'D:\\\\Alejandro\\\\Pulses\\\\diode measurements\\\\Prepared Pulse Schemes CSV\\\\50,20\\\\50nano\\\\SegmentA_1008_45.csv',\n",
       " 'D:\\\\Alejandro\\\\Pulses\\\\diode measurements\\\\Prepared Pulse Schemes CSV\\\\50,20\\\\50nano\\\\SegmentA_1008_30.csv',\n",
       " 'D:\\\\Alejandro\\\\Pulses\\\\diode measurements\\\\Prepared Pulse Schemes CSV\\\\50,20\\\\50nano\\\\SegmentA_1008_64.csv',\n",
       " 'D:\\\\Alejandro\\\\Pulses\\\\diode measurements\\\\Prepared Pulse Schemes CSV\\\\50,20\\\\50nano\\\\SegmentA_1008_16.csv',\n",
       " 'D:\\\\Alejandro\\\\Pulses\\\\diode measurements\\\\Prepared Pulse Schemes CSV\\\\50,20\\\\50nano\\\\SegmentA_1008_8.csv',\n",
       " 'D:\\\\Alejandro\\\\Pulses\\\\diode measurements\\\\Prepared Pulse Schemes CSV\\\\50,20\\\\50nano\\\\SegmentA_1008_50.csv',\n",
       " 'D:\\\\Alejandro\\\\Pulses\\\\diode measurements\\\\Prepared Pulse Schemes CSV\\\\50,20\\\\50nano\\\\SegmentA_1008_11.csv',\n",
       " 'D:\\\\Alejandro\\\\Pulses\\\\diode measurements\\\\Prepared Pulse Schemes CSV\\\\50,20\\\\50nano\\\\SegmentA_1008_25.csv',\n",
       " 'D:\\\\Alejandro\\\\Pulses\\\\diode measurements\\\\Prepared Pulse Schemes CSV\\\\50,20\\\\50nano\\\\SegmentA_1008_54.csv',\n",
       " 'D:\\\\Alejandro\\\\Pulses\\\\diode measurements\\\\Prepared Pulse Schemes CSV\\\\50,20\\\\50nano\\\\SegmentA_1008_29.csv',\n",
       " 'D:\\\\Alejandro\\\\Pulses\\\\diode measurements\\\\Prepared Pulse Schemes CSV\\\\50,20\\\\50nano\\\\SegmentA_1008_9.csv',\n",
       " 'D:\\\\Alejandro\\\\Pulses\\\\diode measurements\\\\Prepared Pulse Schemes CSV\\\\50,20\\\\50nano\\\\SegmentA_1008_69.csv',\n",
       " 'D:\\\\Alejandro\\\\Pulses\\\\diode measurements\\\\Prepared Pulse Schemes CSV\\\\50,20\\\\50nano\\\\SegmentA_1008_39.csv',\n",
       " 'D:\\\\Alejandro\\\\Pulses\\\\diode measurements\\\\Prepared Pulse Schemes CSV\\\\50,20\\\\50nano\\\\SegmentA_1008_21.csv',\n",
       " 'D:\\\\Alejandro\\\\Pulses\\\\diode measurements\\\\Prepared Pulse Schemes CSV\\\\50,20\\\\50nano\\\\SegmentA_1008_70.csv',\n",
       " 'D:\\\\Alejandro\\\\Pulses\\\\diode measurements\\\\Prepared Pulse Schemes CSV\\\\50,20\\\\50nano\\\\SegmentA_1008_60.csv',\n",
       " 'D:\\\\Alejandro\\\\Pulses\\\\diode measurements\\\\Prepared Pulse Schemes CSV\\\\50,20\\\\50nano\\\\SegmentA_1008_22.csv',\n",
       " 'D:\\\\Alejandro\\\\Pulses\\\\diode measurements\\\\Prepared Pulse Schemes CSV\\\\50,20\\\\50nano\\\\SegmentA_1008_56.csv',\n",
       " 'D:\\\\Alejandro\\\\Pulses\\\\diode measurements\\\\Prepared Pulse Schemes CSV\\\\50,20\\\\50nano\\\\SegmentA_1008_46.csv',\n",
       " 'D:\\\\Alejandro\\\\Pulses\\\\diode measurements\\\\Prepared Pulse Schemes CSV\\\\50,20\\\\50nano\\\\SegmentA_1008_27.csv',\n",
       " 'D:\\\\Alejandro\\\\Pulses\\\\diode measurements\\\\Prepared Pulse Schemes CSV\\\\50,20\\\\50nano\\\\SegmentA_1008_48.csv',\n",
       " 'D:\\\\Alejandro\\\\Pulses\\\\diode measurements\\\\Prepared Pulse Schemes CSV\\\\50,20\\\\50nano\\\\SegmentA_1008_17.csv',\n",
       " 'D:\\\\Alejandro\\\\Pulses\\\\diode measurements\\\\Prepared Pulse Schemes CSV\\\\50,20\\\\50nano\\\\SegmentA_1008_38.csv',\n",
       " 'D:\\\\Alejandro\\\\Pulses\\\\diode measurements\\\\Prepared Pulse Schemes CSV\\\\50,20\\\\50nano\\\\SegmentA_1008_37.csv',\n",
       " 'D:\\\\Alejandro\\\\Pulses\\\\diode measurements\\\\Prepared Pulse Schemes CSV\\\\50,20\\\\50nano\\\\SegmentA_1008_40.csv',\n",
       " 'D:\\\\Alejandro\\\\Pulses\\\\diode measurements\\\\Prepared Pulse Schemes CSV\\\\50,20\\\\50nano\\\\SegmentA_1008_20.csv',\n",
       " 'D:\\\\Alejandro\\\\Pulses\\\\diode measurements\\\\Prepared Pulse Schemes CSV\\\\50,20\\\\50nano\\\\SegmentA_1008_15.csv',\n",
       " 'D:\\\\Alejandro\\\\Pulses\\\\diode measurements\\\\Prepared Pulse Schemes CSV\\\\50,20\\\\50nano\\\\SegmentA_1008_1.csv',\n",
       " 'D:\\\\Alejandro\\\\Pulses\\\\diode measurements\\\\Prepared Pulse Schemes CSV\\\\50,20\\\\50nano\\\\SegmentA_1008_65.csv',\n",
       " 'D:\\\\Alejandro\\\\Pulses\\\\diode measurements\\\\Prepared Pulse Schemes CSV\\\\50,20\\\\50nano\\\\SegmentA_1008_6.csv',\n",
       " 'D:\\\\Alejandro\\\\Pulses\\\\diode measurements\\\\Prepared Pulse Schemes CSV\\\\50,20\\\\50nano\\\\SegmentA_1008_12.csv',\n",
       " 'D:\\\\Alejandro\\\\Pulses\\\\diode measurements\\\\Prepared Pulse Schemes CSV\\\\50,20\\\\50nano\\\\SegmentA_1008_55.csv',\n",
       " 'D:\\\\Alejandro\\\\Pulses\\\\diode measurements\\\\Prepared Pulse Schemes CSV\\\\50,20\\\\50nano\\\\SegmentA_1008_4.csv',\n",
       " 'D:\\\\Alejandro\\\\Pulses\\\\diode measurements\\\\Prepared Pulse Schemes CSV\\\\50,20\\\\50nano\\\\SegmentA_1008_49.csv',\n",
       " 'D:\\\\Alejandro\\\\Pulses\\\\diode measurements\\\\Prepared Pulse Schemes CSV\\\\50,20\\\\50nano\\\\SegmentA_1008_33.csv',\n",
       " 'D:\\\\Alejandro\\\\Pulses\\\\diode measurements\\\\Prepared Pulse Schemes CSV\\\\50,20\\\\50nano\\\\SegmentA_1008_62.csv',\n",
       " 'D:\\\\Alejandro\\\\Pulses\\\\diode measurements\\\\Prepared Pulse Schemes CSV\\\\50,20\\\\50nano\\\\SegmentA_1008_53.csv',\n",
       " 'D:\\\\Alejandro\\\\Pulses\\\\diode measurements\\\\Prepared Pulse Schemes CSV\\\\50,20\\\\50nano\\\\SegmentA_1008_13.csv',\n",
       " 'D:\\\\Alejandro\\\\Pulses\\\\diode measurements\\\\Prepared Pulse Schemes CSV\\\\50,20\\\\50nano\\\\SegmentA_1008_2.csv']"
      ]
     },
     "execution_count": 122,
     "metadata": {},
     "output_type": "execute_result"
    }
   ],
   "source": [
    "random.shuffle(list_cycleA_50nano)\n",
    "list_cycleA_50nano"
   ]
  },
  {
   "cell_type": "code",
   "execution_count": 124,
   "metadata": {},
   "outputs": [
    {
     "data": {
      "text/plain": [
       "['D:\\\\Alejandro\\\\Pulses\\\\diode measurements\\\\Prepared Pulse Schemes CSV\\\\50,20\\\\50nano\\\\SegmentB_1008_0.csv',\n",
       " 'D:\\\\Alejandro\\\\Pulses\\\\diode measurements\\\\Prepared Pulse Schemes CSV\\\\50,20\\\\50nano\\\\SegmentB_1008_1.csv',\n",
       " 'D:\\\\Alejandro\\\\Pulses\\\\diode measurements\\\\Prepared Pulse Schemes CSV\\\\50,20\\\\50nano\\\\SegmentB_1008_2.csv',\n",
       " 'D:\\\\Alejandro\\\\Pulses\\\\diode measurements\\\\Prepared Pulse Schemes CSV\\\\50,20\\\\50nano\\\\SegmentB_1008_3.csv',\n",
       " 'D:\\\\Alejandro\\\\Pulses\\\\diode measurements\\\\Prepared Pulse Schemes CSV\\\\50,20\\\\50nano\\\\SegmentB_1008_4.csv',\n",
       " 'D:\\\\Alejandro\\\\Pulses\\\\diode measurements\\\\Prepared Pulse Schemes CSV\\\\50,20\\\\50nano\\\\SegmentB_1008_5.csv',\n",
       " 'D:\\\\Alejandro\\\\Pulses\\\\diode measurements\\\\Prepared Pulse Schemes CSV\\\\50,20\\\\50nano\\\\SegmentB_1008_6.csv',\n",
       " 'D:\\\\Alejandro\\\\Pulses\\\\diode measurements\\\\Prepared Pulse Schemes CSV\\\\50,20\\\\50nano\\\\SegmentB_1008_7.csv',\n",
       " 'D:\\\\Alejandro\\\\Pulses\\\\diode measurements\\\\Prepared Pulse Schemes CSV\\\\50,20\\\\50nano\\\\SegmentB_1008_8.csv',\n",
       " 'D:\\\\Alejandro\\\\Pulses\\\\diode measurements\\\\Prepared Pulse Schemes CSV\\\\50,20\\\\50nano\\\\SegmentB_1008_9.csv',\n",
       " 'D:\\\\Alejandro\\\\Pulses\\\\diode measurements\\\\Prepared Pulse Schemes CSV\\\\50,20\\\\50nano\\\\SegmentB_1008_10.csv',\n",
       " 'D:\\\\Alejandro\\\\Pulses\\\\diode measurements\\\\Prepared Pulse Schemes CSV\\\\50,20\\\\50nano\\\\SegmentB_1008_11.csv',\n",
       " 'D:\\\\Alejandro\\\\Pulses\\\\diode measurements\\\\Prepared Pulse Schemes CSV\\\\50,20\\\\50nano\\\\SegmentB_1008_12.csv',\n",
       " 'D:\\\\Alejandro\\\\Pulses\\\\diode measurements\\\\Prepared Pulse Schemes CSV\\\\50,20\\\\50nano\\\\SegmentB_1008_13.csv',\n",
       " 'D:\\\\Alejandro\\\\Pulses\\\\diode measurements\\\\Prepared Pulse Schemes CSV\\\\50,20\\\\50nano\\\\SegmentB_1008_14.csv',\n",
       " 'D:\\\\Alejandro\\\\Pulses\\\\diode measurements\\\\Prepared Pulse Schemes CSV\\\\50,20\\\\50nano\\\\SegmentB_1008_15.csv',\n",
       " 'D:\\\\Alejandro\\\\Pulses\\\\diode measurements\\\\Prepared Pulse Schemes CSV\\\\50,20\\\\50nano\\\\SegmentB_1008_16.csv',\n",
       " 'D:\\\\Alejandro\\\\Pulses\\\\diode measurements\\\\Prepared Pulse Schemes CSV\\\\50,20\\\\50nano\\\\SegmentB_1008_17.csv',\n",
       " 'D:\\\\Alejandro\\\\Pulses\\\\diode measurements\\\\Prepared Pulse Schemes CSV\\\\50,20\\\\50nano\\\\SegmentB_1008_18.csv',\n",
       " 'D:\\\\Alejandro\\\\Pulses\\\\diode measurements\\\\Prepared Pulse Schemes CSV\\\\50,20\\\\50nano\\\\SegmentB_1008_19.csv',\n",
       " 'D:\\\\Alejandro\\\\Pulses\\\\diode measurements\\\\Prepared Pulse Schemes CSV\\\\50,20\\\\50nano\\\\SegmentB_1008_20.csv',\n",
       " 'D:\\\\Alejandro\\\\Pulses\\\\diode measurements\\\\Prepared Pulse Schemes CSV\\\\50,20\\\\50nano\\\\SegmentB_1008_21.csv',\n",
       " 'D:\\\\Alejandro\\\\Pulses\\\\diode measurements\\\\Prepared Pulse Schemes CSV\\\\50,20\\\\50nano\\\\SegmentB_1008_22.csv',\n",
       " 'D:\\\\Alejandro\\\\Pulses\\\\diode measurements\\\\Prepared Pulse Schemes CSV\\\\50,20\\\\50nano\\\\SegmentB_1008_23.csv',\n",
       " 'D:\\\\Alejandro\\\\Pulses\\\\diode measurements\\\\Prepared Pulse Schemes CSV\\\\50,20\\\\50nano\\\\SegmentB_1008_24.csv',\n",
       " 'D:\\\\Alejandro\\\\Pulses\\\\diode measurements\\\\Prepared Pulse Schemes CSV\\\\50,20\\\\50nano\\\\SegmentB_1008_25.csv',\n",
       " 'D:\\\\Alejandro\\\\Pulses\\\\diode measurements\\\\Prepared Pulse Schemes CSV\\\\50,20\\\\50nano\\\\SegmentB_1008_26.csv',\n",
       " 'D:\\\\Alejandro\\\\Pulses\\\\diode measurements\\\\Prepared Pulse Schemes CSV\\\\50,20\\\\50nano\\\\SegmentB_1008_27.csv',\n",
       " 'D:\\\\Alejandro\\\\Pulses\\\\diode measurements\\\\Prepared Pulse Schemes CSV\\\\50,20\\\\50nano\\\\SegmentB_1008_28.csv',\n",
       " 'D:\\\\Alejandro\\\\Pulses\\\\diode measurements\\\\Prepared Pulse Schemes CSV\\\\50,20\\\\50nano\\\\SegmentB_1008_29.csv',\n",
       " 'D:\\\\Alejandro\\\\Pulses\\\\diode measurements\\\\Prepared Pulse Schemes CSV\\\\50,20\\\\50nano\\\\SegmentB_1008_30.csv',\n",
       " 'D:\\\\Alejandro\\\\Pulses\\\\diode measurements\\\\Prepared Pulse Schemes CSV\\\\50,20\\\\50nano\\\\SegmentB_1008_31.csv',\n",
       " 'D:\\\\Alejandro\\\\Pulses\\\\diode measurements\\\\Prepared Pulse Schemes CSV\\\\50,20\\\\50nano\\\\SegmentB_1008_32.csv',\n",
       " 'D:\\\\Alejandro\\\\Pulses\\\\diode measurements\\\\Prepared Pulse Schemes CSV\\\\50,20\\\\50nano\\\\SegmentB_1008_33.csv',\n",
       " 'D:\\\\Alejandro\\\\Pulses\\\\diode measurements\\\\Prepared Pulse Schemes CSV\\\\50,20\\\\50nano\\\\SegmentB_1008_34.csv',\n",
       " 'D:\\\\Alejandro\\\\Pulses\\\\diode measurements\\\\Prepared Pulse Schemes CSV\\\\50,20\\\\50nano\\\\SegmentB_1008_35.csv',\n",
       " 'D:\\\\Alejandro\\\\Pulses\\\\diode measurements\\\\Prepared Pulse Schemes CSV\\\\50,20\\\\50nano\\\\SegmentB_1008_36.csv',\n",
       " 'D:\\\\Alejandro\\\\Pulses\\\\diode measurements\\\\Prepared Pulse Schemes CSV\\\\50,20\\\\50nano\\\\SegmentB_1008_37.csv',\n",
       " 'D:\\\\Alejandro\\\\Pulses\\\\diode measurements\\\\Prepared Pulse Schemes CSV\\\\50,20\\\\50nano\\\\SegmentB_1008_38.csv',\n",
       " 'D:\\\\Alejandro\\\\Pulses\\\\diode measurements\\\\Prepared Pulse Schemes CSV\\\\50,20\\\\50nano\\\\SegmentB_1008_39.csv',\n",
       " 'D:\\\\Alejandro\\\\Pulses\\\\diode measurements\\\\Prepared Pulse Schemes CSV\\\\50,20\\\\50nano\\\\SegmentB_1008_40.csv',\n",
       " 'D:\\\\Alejandro\\\\Pulses\\\\diode measurements\\\\Prepared Pulse Schemes CSV\\\\50,20\\\\50nano\\\\SegmentB_1008_41.csv',\n",
       " 'D:\\\\Alejandro\\\\Pulses\\\\diode measurements\\\\Prepared Pulse Schemes CSV\\\\50,20\\\\50nano\\\\SegmentB_1008_42.csv',\n",
       " 'D:\\\\Alejandro\\\\Pulses\\\\diode measurements\\\\Prepared Pulse Schemes CSV\\\\50,20\\\\50nano\\\\SegmentB_1008_43.csv',\n",
       " 'D:\\\\Alejandro\\\\Pulses\\\\diode measurements\\\\Prepared Pulse Schemes CSV\\\\50,20\\\\50nano\\\\SegmentB_1008_44.csv',\n",
       " 'D:\\\\Alejandro\\\\Pulses\\\\diode measurements\\\\Prepared Pulse Schemes CSV\\\\50,20\\\\50nano\\\\SegmentB_1008_45.csv',\n",
       " 'D:\\\\Alejandro\\\\Pulses\\\\diode measurements\\\\Prepared Pulse Schemes CSV\\\\50,20\\\\50nano\\\\SegmentB_1008_46.csv',\n",
       " 'D:\\\\Alejandro\\\\Pulses\\\\diode measurements\\\\Prepared Pulse Schemes CSV\\\\50,20\\\\50nano\\\\SegmentB_1008_47.csv',\n",
       " 'D:\\\\Alejandro\\\\Pulses\\\\diode measurements\\\\Prepared Pulse Schemes CSV\\\\50,20\\\\50nano\\\\SegmentB_1008_48.csv',\n",
       " 'D:\\\\Alejandro\\\\Pulses\\\\diode measurements\\\\Prepared Pulse Schemes CSV\\\\50,20\\\\50nano\\\\SegmentB_1008_49.csv',\n",
       " 'D:\\\\Alejandro\\\\Pulses\\\\diode measurements\\\\Prepared Pulse Schemes CSV\\\\50,20\\\\50nano\\\\SegmentB_1008_50.csv',\n",
       " 'D:\\\\Alejandro\\\\Pulses\\\\diode measurements\\\\Prepared Pulse Schemes CSV\\\\50,20\\\\50nano\\\\SegmentB_1008_51.csv',\n",
       " 'D:\\\\Alejandro\\\\Pulses\\\\diode measurements\\\\Prepared Pulse Schemes CSV\\\\50,20\\\\50nano\\\\SegmentB_1008_52.csv',\n",
       " 'D:\\\\Alejandro\\\\Pulses\\\\diode measurements\\\\Prepared Pulse Schemes CSV\\\\50,20\\\\50nano\\\\SegmentB_1008_53.csv',\n",
       " 'D:\\\\Alejandro\\\\Pulses\\\\diode measurements\\\\Prepared Pulse Schemes CSV\\\\50,20\\\\50nano\\\\SegmentB_1008_54.csv',\n",
       " 'D:\\\\Alejandro\\\\Pulses\\\\diode measurements\\\\Prepared Pulse Schemes CSV\\\\50,20\\\\50nano\\\\SegmentB_1008_55.csv',\n",
       " 'D:\\\\Alejandro\\\\Pulses\\\\diode measurements\\\\Prepared Pulse Schemes CSV\\\\50,20\\\\50nano\\\\SegmentB_1008_56.csv',\n",
       " 'D:\\\\Alejandro\\\\Pulses\\\\diode measurements\\\\Prepared Pulse Schemes CSV\\\\50,20\\\\50nano\\\\SegmentB_1008_57.csv',\n",
       " 'D:\\\\Alejandro\\\\Pulses\\\\diode measurements\\\\Prepared Pulse Schemes CSV\\\\50,20\\\\50nano\\\\SegmentB_1008_58.csv',\n",
       " 'D:\\\\Alejandro\\\\Pulses\\\\diode measurements\\\\Prepared Pulse Schemes CSV\\\\50,20\\\\50nano\\\\SegmentB_1008_59.csv',\n",
       " 'D:\\\\Alejandro\\\\Pulses\\\\diode measurements\\\\Prepared Pulse Schemes CSV\\\\50,20\\\\50nano\\\\SegmentB_1008_60.csv',\n",
       " 'D:\\\\Alejandro\\\\Pulses\\\\diode measurements\\\\Prepared Pulse Schemes CSV\\\\50,20\\\\50nano\\\\SegmentB_1008_61.csv',\n",
       " 'D:\\\\Alejandro\\\\Pulses\\\\diode measurements\\\\Prepared Pulse Schemes CSV\\\\50,20\\\\50nano\\\\SegmentB_1008_62.csv',\n",
       " 'D:\\\\Alejandro\\\\Pulses\\\\diode measurements\\\\Prepared Pulse Schemes CSV\\\\50,20\\\\50nano\\\\SegmentB_1008_63.csv',\n",
       " 'D:\\\\Alejandro\\\\Pulses\\\\diode measurements\\\\Prepared Pulse Schemes CSV\\\\50,20\\\\50nano\\\\SegmentB_1008_64.csv',\n",
       " 'D:\\\\Alejandro\\\\Pulses\\\\diode measurements\\\\Prepared Pulse Schemes CSV\\\\50,20\\\\50nano\\\\SegmentB_1008_65.csv',\n",
       " 'D:\\\\Alejandro\\\\Pulses\\\\diode measurements\\\\Prepared Pulse Schemes CSV\\\\50,20\\\\50nano\\\\SegmentB_1008_66.csv',\n",
       " 'D:\\\\Alejandro\\\\Pulses\\\\diode measurements\\\\Prepared Pulse Schemes CSV\\\\50,20\\\\50nano\\\\SegmentB_1008_67.csv',\n",
       " 'D:\\\\Alejandro\\\\Pulses\\\\diode measurements\\\\Prepared Pulse Schemes CSV\\\\50,20\\\\50nano\\\\SegmentB_1008_68.csv',\n",
       " 'D:\\\\Alejandro\\\\Pulses\\\\diode measurements\\\\Prepared Pulse Schemes CSV\\\\50,20\\\\50nano\\\\SegmentB_1008_69.csv',\n",
       " 'D:\\\\Alejandro\\\\Pulses\\\\diode measurements\\\\Prepared Pulse Schemes CSV\\\\50,20\\\\50nano\\\\SegmentB_1008_70.csv']"
      ]
     },
     "execution_count": 124,
     "metadata": {},
     "output_type": "execute_result"
    }
   ],
   "source": [
    "list_cycleB_50nano = list(sweeping_run_b_50nano.values())\n",
    "list_cycleB_50nano"
   ]
  },
  {
   "cell_type": "code",
   "execution_count": null,
   "metadata": {},
   "outputs": [],
   "source": []
  },
  {
   "cell_type": "code",
   "execution_count": 107,
   "metadata": {},
   "outputs": [
    {
     "data": {
      "text/plain": [
       "dict_values(['D:\\\\Alejandro\\\\Pulses\\\\diode measurements\\\\Prepared Pulse Schemes CSV\\\\50,20\\\\50nano\\\\SegmentA_1008_0.csv', 'D:\\\\Alejandro\\\\Pulses\\\\diode measurements\\\\Prepared Pulse Schemes CSV\\\\50,20\\\\50nano\\\\SegmentA_1008_1.csv', 'D:\\\\Alejandro\\\\Pulses\\\\diode measurements\\\\Prepared Pulse Schemes CSV\\\\50,20\\\\50nano\\\\SegmentA_1008_2.csv', 'D:\\\\Alejandro\\\\Pulses\\\\diode measurements\\\\Prepared Pulse Schemes CSV\\\\50,20\\\\50nano\\\\SegmentA_1008_3.csv', 'D:\\\\Alejandro\\\\Pulses\\\\diode measurements\\\\Prepared Pulse Schemes CSV\\\\50,20\\\\50nano\\\\SegmentA_1008_4.csv', 'D:\\\\Alejandro\\\\Pulses\\\\diode measurements\\\\Prepared Pulse Schemes CSV\\\\50,20\\\\50nano\\\\SegmentA_1008_5.csv', 'D:\\\\Alejandro\\\\Pulses\\\\diode measurements\\\\Prepared Pulse Schemes CSV\\\\50,20\\\\50nano\\\\SegmentA_1008_6.csv', 'D:\\\\Alejandro\\\\Pulses\\\\diode measurements\\\\Prepared Pulse Schemes CSV\\\\50,20\\\\50nano\\\\SegmentA_1008_7.csv', 'D:\\\\Alejandro\\\\Pulses\\\\diode measurements\\\\Prepared Pulse Schemes CSV\\\\50,20\\\\50nano\\\\SegmentA_1008_8.csv', 'D:\\\\Alejandro\\\\Pulses\\\\diode measurements\\\\Prepared Pulse Schemes CSV\\\\50,20\\\\50nano\\\\SegmentA_1008_9.csv', 'D:\\\\Alejandro\\\\Pulses\\\\diode measurements\\\\Prepared Pulse Schemes CSV\\\\50,20\\\\50nano\\\\SegmentA_1008_10.csv', 'D:\\\\Alejandro\\\\Pulses\\\\diode measurements\\\\Prepared Pulse Schemes CSV\\\\50,20\\\\50nano\\\\SegmentA_1008_11.csv', 'D:\\\\Alejandro\\\\Pulses\\\\diode measurements\\\\Prepared Pulse Schemes CSV\\\\50,20\\\\50nano\\\\SegmentA_1008_12.csv', 'D:\\\\Alejandro\\\\Pulses\\\\diode measurements\\\\Prepared Pulse Schemes CSV\\\\50,20\\\\50nano\\\\SegmentA_1008_13.csv', 'D:\\\\Alejandro\\\\Pulses\\\\diode measurements\\\\Prepared Pulse Schemes CSV\\\\50,20\\\\50nano\\\\SegmentA_1008_14.csv', 'D:\\\\Alejandro\\\\Pulses\\\\diode measurements\\\\Prepared Pulse Schemes CSV\\\\50,20\\\\50nano\\\\SegmentA_1008_15.csv', 'D:\\\\Alejandro\\\\Pulses\\\\diode measurements\\\\Prepared Pulse Schemes CSV\\\\50,20\\\\50nano\\\\SegmentA_1008_16.csv', 'D:\\\\Alejandro\\\\Pulses\\\\diode measurements\\\\Prepared Pulse Schemes CSV\\\\50,20\\\\50nano\\\\SegmentA_1008_17.csv', 'D:\\\\Alejandro\\\\Pulses\\\\diode measurements\\\\Prepared Pulse Schemes CSV\\\\50,20\\\\50nano\\\\SegmentA_1008_18.csv', 'D:\\\\Alejandro\\\\Pulses\\\\diode measurements\\\\Prepared Pulse Schemes CSV\\\\50,20\\\\50nano\\\\SegmentA_1008_19.csv', 'D:\\\\Alejandro\\\\Pulses\\\\diode measurements\\\\Prepared Pulse Schemes CSV\\\\50,20\\\\50nano\\\\SegmentA_1008_20.csv', 'D:\\\\Alejandro\\\\Pulses\\\\diode measurements\\\\Prepared Pulse Schemes CSV\\\\50,20\\\\50nano\\\\SegmentA_1008_21.csv', 'D:\\\\Alejandro\\\\Pulses\\\\diode measurements\\\\Prepared Pulse Schemes CSV\\\\50,20\\\\50nano\\\\SegmentA_1008_22.csv', 'D:\\\\Alejandro\\\\Pulses\\\\diode measurements\\\\Prepared Pulse Schemes CSV\\\\50,20\\\\50nano\\\\SegmentA_1008_23.csv', 'D:\\\\Alejandro\\\\Pulses\\\\diode measurements\\\\Prepared Pulse Schemes CSV\\\\50,20\\\\50nano\\\\SegmentA_1008_24.csv', 'D:\\\\Alejandro\\\\Pulses\\\\diode measurements\\\\Prepared Pulse Schemes CSV\\\\50,20\\\\50nano\\\\SegmentA_1008_25.csv', 'D:\\\\Alejandro\\\\Pulses\\\\diode measurements\\\\Prepared Pulse Schemes CSV\\\\50,20\\\\50nano\\\\SegmentA_1008_26.csv', 'D:\\\\Alejandro\\\\Pulses\\\\diode measurements\\\\Prepared Pulse Schemes CSV\\\\50,20\\\\50nano\\\\SegmentA_1008_27.csv', 'D:\\\\Alejandro\\\\Pulses\\\\diode measurements\\\\Prepared Pulse Schemes CSV\\\\50,20\\\\50nano\\\\SegmentA_1008_28.csv', 'D:\\\\Alejandro\\\\Pulses\\\\diode measurements\\\\Prepared Pulse Schemes CSV\\\\50,20\\\\50nano\\\\SegmentA_1008_29.csv', 'D:\\\\Alejandro\\\\Pulses\\\\diode measurements\\\\Prepared Pulse Schemes CSV\\\\50,20\\\\50nano\\\\SegmentA_1008_30.csv', 'D:\\\\Alejandro\\\\Pulses\\\\diode measurements\\\\Prepared Pulse Schemes CSV\\\\50,20\\\\50nano\\\\SegmentA_1008_31.csv', 'D:\\\\Alejandro\\\\Pulses\\\\diode measurements\\\\Prepared Pulse Schemes CSV\\\\50,20\\\\50nano\\\\SegmentA_1008_32.csv', 'D:\\\\Alejandro\\\\Pulses\\\\diode measurements\\\\Prepared Pulse Schemes CSV\\\\50,20\\\\50nano\\\\SegmentA_1008_33.csv', 'D:\\\\Alejandro\\\\Pulses\\\\diode measurements\\\\Prepared Pulse Schemes CSV\\\\50,20\\\\50nano\\\\SegmentA_1008_34.csv', 'D:\\\\Alejandro\\\\Pulses\\\\diode measurements\\\\Prepared Pulse Schemes CSV\\\\50,20\\\\50nano\\\\SegmentA_1008_35.csv', 'D:\\\\Alejandro\\\\Pulses\\\\diode measurements\\\\Prepared Pulse Schemes CSV\\\\50,20\\\\50nano\\\\SegmentA_1008_36.csv', 'D:\\\\Alejandro\\\\Pulses\\\\diode measurements\\\\Prepared Pulse Schemes CSV\\\\50,20\\\\50nano\\\\SegmentA_1008_37.csv', 'D:\\\\Alejandro\\\\Pulses\\\\diode measurements\\\\Prepared Pulse Schemes CSV\\\\50,20\\\\50nano\\\\SegmentA_1008_38.csv', 'D:\\\\Alejandro\\\\Pulses\\\\diode measurements\\\\Prepared Pulse Schemes CSV\\\\50,20\\\\50nano\\\\SegmentA_1008_39.csv', 'D:\\\\Alejandro\\\\Pulses\\\\diode measurements\\\\Prepared Pulse Schemes CSV\\\\50,20\\\\50nano\\\\SegmentA_1008_40.csv', 'D:\\\\Alejandro\\\\Pulses\\\\diode measurements\\\\Prepared Pulse Schemes CSV\\\\50,20\\\\50nano\\\\SegmentA_1008_41.csv', 'D:\\\\Alejandro\\\\Pulses\\\\diode measurements\\\\Prepared Pulse Schemes CSV\\\\50,20\\\\50nano\\\\SegmentA_1008_42.csv', 'D:\\\\Alejandro\\\\Pulses\\\\diode measurements\\\\Prepared Pulse Schemes CSV\\\\50,20\\\\50nano\\\\SegmentA_1008_43.csv', 'D:\\\\Alejandro\\\\Pulses\\\\diode measurements\\\\Prepared Pulse Schemes CSV\\\\50,20\\\\50nano\\\\SegmentA_1008_44.csv', 'D:\\\\Alejandro\\\\Pulses\\\\diode measurements\\\\Prepared Pulse Schemes CSV\\\\50,20\\\\50nano\\\\SegmentA_1008_45.csv', 'D:\\\\Alejandro\\\\Pulses\\\\diode measurements\\\\Prepared Pulse Schemes CSV\\\\50,20\\\\50nano\\\\SegmentA_1008_46.csv', 'D:\\\\Alejandro\\\\Pulses\\\\diode measurements\\\\Prepared Pulse Schemes CSV\\\\50,20\\\\50nano\\\\SegmentA_1008_47.csv', 'D:\\\\Alejandro\\\\Pulses\\\\diode measurements\\\\Prepared Pulse Schemes CSV\\\\50,20\\\\50nano\\\\SegmentA_1008_48.csv', 'D:\\\\Alejandro\\\\Pulses\\\\diode measurements\\\\Prepared Pulse Schemes CSV\\\\50,20\\\\50nano\\\\SegmentA_1008_49.csv', 'D:\\\\Alejandro\\\\Pulses\\\\diode measurements\\\\Prepared Pulse Schemes CSV\\\\50,20\\\\50nano\\\\SegmentA_1008_50.csv', 'D:\\\\Alejandro\\\\Pulses\\\\diode measurements\\\\Prepared Pulse Schemes CSV\\\\50,20\\\\50nano\\\\SegmentA_1008_51.csv', 'D:\\\\Alejandro\\\\Pulses\\\\diode measurements\\\\Prepared Pulse Schemes CSV\\\\50,20\\\\50nano\\\\SegmentA_1008_52.csv', 'D:\\\\Alejandro\\\\Pulses\\\\diode measurements\\\\Prepared Pulse Schemes CSV\\\\50,20\\\\50nano\\\\SegmentA_1008_53.csv', 'D:\\\\Alejandro\\\\Pulses\\\\diode measurements\\\\Prepared Pulse Schemes CSV\\\\50,20\\\\50nano\\\\SegmentA_1008_54.csv', 'D:\\\\Alejandro\\\\Pulses\\\\diode measurements\\\\Prepared Pulse Schemes CSV\\\\50,20\\\\50nano\\\\SegmentA_1008_55.csv', 'D:\\\\Alejandro\\\\Pulses\\\\diode measurements\\\\Prepared Pulse Schemes CSV\\\\50,20\\\\50nano\\\\SegmentA_1008_56.csv', 'D:\\\\Alejandro\\\\Pulses\\\\diode measurements\\\\Prepared Pulse Schemes CSV\\\\50,20\\\\50nano\\\\SegmentA_1008_57.csv', 'D:\\\\Alejandro\\\\Pulses\\\\diode measurements\\\\Prepared Pulse Schemes CSV\\\\50,20\\\\50nano\\\\SegmentA_1008_58.csv', 'D:\\\\Alejandro\\\\Pulses\\\\diode measurements\\\\Prepared Pulse Schemes CSV\\\\50,20\\\\50nano\\\\SegmentA_1008_59.csv', 'D:\\\\Alejandro\\\\Pulses\\\\diode measurements\\\\Prepared Pulse Schemes CSV\\\\50,20\\\\50nano\\\\SegmentA_1008_60.csv', 'D:\\\\Alejandro\\\\Pulses\\\\diode measurements\\\\Prepared Pulse Schemes CSV\\\\50,20\\\\50nano\\\\SegmentA_1008_61.csv', 'D:\\\\Alejandro\\\\Pulses\\\\diode measurements\\\\Prepared Pulse Schemes CSV\\\\50,20\\\\50nano\\\\SegmentA_1008_62.csv', 'D:\\\\Alejandro\\\\Pulses\\\\diode measurements\\\\Prepared Pulse Schemes CSV\\\\50,20\\\\50nano\\\\SegmentA_1008_63.csv', 'D:\\\\Alejandro\\\\Pulses\\\\diode measurements\\\\Prepared Pulse Schemes CSV\\\\50,20\\\\50nano\\\\SegmentA_1008_64.csv', 'D:\\\\Alejandro\\\\Pulses\\\\diode measurements\\\\Prepared Pulse Schemes CSV\\\\50,20\\\\50nano\\\\SegmentA_1008_65.csv', 'D:\\\\Alejandro\\\\Pulses\\\\diode measurements\\\\Prepared Pulse Schemes CSV\\\\50,20\\\\50nano\\\\SegmentA_1008_66.csv', 'D:\\\\Alejandro\\\\Pulses\\\\diode measurements\\\\Prepared Pulse Schemes CSV\\\\50,20\\\\50nano\\\\SegmentA_1008_67.csv', 'D:\\\\Alejandro\\\\Pulses\\\\diode measurements\\\\Prepared Pulse Schemes CSV\\\\50,20\\\\50nano\\\\SegmentA_1008_68.csv', 'D:\\\\Alejandro\\\\Pulses\\\\diode measurements\\\\Prepared Pulse Schemes CSV\\\\50,20\\\\50nano\\\\SegmentA_1008_69.csv', 'D:\\\\Alejandro\\\\Pulses\\\\diode measurements\\\\Prepared Pulse Schemes CSV\\\\50,20\\\\50nano\\\\SegmentA_1008_70.csv'])"
      ]
     },
     "execution_count": 107,
     "metadata": {},
     "output_type": "execute_result"
    }
   ],
   "source": [
    "sweeping_run_a_50nano.values()"
   ]
  },
  {
   "cell_type": "code",
   "execution_count": 121,
   "metadata": {},
   "outputs": [],
   "source": [
    "def Voltage_Autocorrelation_loopl(instrument,DAQ_settings,playingtime,fileA,fileB,location,Lock_In,loop):\n",
    "    \n",
    "    \"\"\" This function loads a sweeping sequence into the AWG, plays it and triggers it with the DAQ, while also storing the DAQ values as csv files.\n",
    "      \n",
    "        Sequences are formed within the AWG by combining the csv files at the same step in fileA and fileB\n",
    "\n",
    "        instrument = object class given by Pyvisa API of the current connected device\n",
    "        DAQ_Settings = Dictionary, with the settings of the DAQ box\n",
    "        playingtime = int, total data collection time of the DAQ, given in seconds, maximum is 180s (given by the timeout time in the DAQ_Measuring function)\n",
    "        fileA = dictionary, with the file paths of the csv files to be loaded into the awg as first part of the sequence\n",
    "        fileB = dictionary, with the file paths of the csv files to be loaded into the awg as second part of the sequence\n",
    "        location = strng, file path were the data is going to be saved\n",
    "        Lock_In = dictionary, the keys are the Lock In Amplifier settings used to address them in the file name\n",
    "        loop = int, number of repetitions that each waveform will repeat itself per cycle\n",
    "    \"\"\"\n",
    "    #empty arrays where the data will be stored\n",
    "    measurement_data = np.zeros((len(fileA),2),  dtype=object)\n",
    "    average = np.zeros((len(fileA)))\n",
    "\n",
    "    for i,j,k in zip(range(0,len(fileA)), range(0,len(fileB)),range(0,len(fileA))):\n",
    "        Sequence_File(instrument,fileA[i],fileB[j],loop)\n",
    "        measurement_data[k][0], measurement_data[k][1] = DAQ_Measuring(DAQ_settings,DAQ_settings['Sampling Frequency'],playingtime,instrument)\n",
    "        np.savetxt(r'{loc}\\diode_signal_step{stp}_{f}sdaqtime_{mod}_{tc}_{sens}.csv'.format(loc = location ,stp = k,f = playingtime, mod = Lock_In['Modulation'] ,tc = Lock_In['Time Constant'], sens = Lock_In['Sensitivity']), measurement_data[k][0], delimiter=',')\n",
    "        average[k] = np.average(measurement_data[k][0][3000:])\n",
    "        print('Average Value for measurement at step {step} is'.format(step = k),average[k],'V')\n",
    "        np.savetxt(r'{loc}\\averaged signal_31steps_{dur}sdaqtime_{mod}_{tc}_{sens}.csv'.format(loc =location,dur = playingtime,  mod = Lock_In['Modulation'] , tc = Lock_In['Time Constant'], sens = Lock_In['Sensitivity']),average,delimiter=',')\n",
    "        \n",
    "    return measurement_data, average"
   ]
  },
  {
   "cell_type": "code",
   "execution_count": 142,
   "metadata": {},
   "outputs": [],
   "source": [
    "rand_time_delay =np.array([15,\n",
    "59,\n",
    "32,\n",
    "36,\n",
    "10,\n",
    "29,\n",
    "18,\n",
    "44,\n",
    "50,\n",
    "12,\n",
    "24,\n",
    "30,\n",
    "53,\n",
    "54,\n",
    "11,\n",
    "27,\n",
    "17,\n",
    "9.,\n",
    "6.,\n",
    "66,\n",
    "20,\n",
    "4.,\n",
    "16,\n",
    "13,\n",
    "39,\n",
    "67,\n",
    "41,\n",
    "2.,\n",
    "40,\n",
    "64,\n",
    "26,\n",
    "35,\n",
    "19,\n",
    "56,\n",
    "22,\n",
    "58,\n",
    "14,\n",
    "45,\n",
    "70,\n",
    "23,\n",
    "51,\n",
    "21,\n",
    "42,\n",
    "3.,\n",
    "60,\n",
    "57,\n",
    "47,\n",
    "7.,\n",
    "28,\n",
    "63,\n",
    "62,\n",
    "0.,\n",
    "37,\n",
    "31,\n",
    "69,\n",
    "49,\n",
    "8.,\n",
    "43,\n",
    "1.,\n",
    "52,\n",
    "34,\n",
    "68,\n",
    "33,\n",
    "5.,\n",
    "61,\n",
    "65,\n",
    "55,\n",
    "38,\n",
    "46,\n",
    "25,\n",
    "48])"
   ]
  },
  {
   "cell_type": "code",
   "execution_count": 143,
   "metadata": {},
   "outputs": [
    {
     "data": {
      "text/plain": [
       "71"
      ]
     },
     "execution_count": 143,
     "metadata": {},
     "output_type": "execute_result"
    }
   ],
   "source": [
    "rand_time_delay.size"
   ]
  },
  {
   "cell_type": "code",
   "execution_count": null,
   "metadata": {},
   "outputs": [],
   "source": [
    "('D:\\\\Alejandro\\\\Pulses\\\\diode measurements\\\\Prepared Pulse Schemes CSV\\\\50,20\\\\50nano\\\\SegmentA_1008_15.csv',\n",
    " 'D:\\\\Alejandro\\\\Pulses\\\\diode measurements\\\\Prepared Pulse Schemes CSV\\\\50,20\\\\50nano\\\\SegmentA_1008_59.csv',\n",
    " 'D:\\\\Alejandro\\\\Pulses\\\\diode measurements\\\\Prepared Pulse Schemes CSV\\\\50,20\\\\50nano\\\\SegmentA_1008_32.csv',\n",
    " 'D:\\\\Alejandro\\\\Pulses\\\\diode measurements\\\\Prepared Pulse Schemes CSV\\\\50,20\\\\50nano\\\\SegmentA_1008_36.csv',\n",
    " 'D:\\\\Alejandro\\\\Pulses\\\\diode measurements\\\\Prepared Pulse Schemes CSV\\\\50,20\\\\50nano\\\\SegmentA_1008_10.csv',\n",
    " 'D:\\\\Alejandro\\\\Pulses\\\\diode measurements\\\\Prepared Pulse Schemes CSV\\\\50,20\\\\50nano\\\\SegmentA_1008_29.csv',\n",
    " 'D:\\\\Alejandro\\\\Pulses\\\\diode measurements\\\\Prepared Pulse Schemes CSV\\\\50,20\\\\50nano\\\\SegmentA_1008_18.csv',\n",
    " 'D:\\\\Alejandro\\\\Pulses\\\\diode measurements\\\\Prepared Pulse Schemes CSV\\\\50,20\\\\50nano\\\\SegmentA_1008_44.csv',\n",
    " 'D:\\\\Alejandro\\\\Pulses\\\\diode measurements\\\\Prepared Pulse Schemes CSV\\\\50,20\\\\50nano\\\\SegmentA_1008_50.csv',\n",
    " 'D:\\\\Alejandro\\\\Pulses\\\\diode measurements\\\\Prepared Pulse Schemes CSV\\\\50,20\\\\50nano\\\\SegmentA_1008_12.csv',\n",
    " 'D:\\\\Alejandro\\\\Pulses\\\\diode measurements\\\\Prepared Pulse Schemes CSV\\\\50,20\\\\50nano\\\\SegmentA_1008_24.csv',\n",
    " 'D:\\\\Alejandro\\\\Pulses\\\\diode measurements\\\\Prepared Pulse Schemes CSV\\\\50,20\\\\50nano\\\\SegmentA_1008_30.csv',\n",
    " 'D:\\\\Alejandro\\\\Pulses\\\\diode measurements\\\\Prepared Pulse Schemes CSV\\\\50,20\\\\50nano\\\\SegmentA_1008_53.csv',\n",
    " 'D:\\\\Alejandro\\\\Pulses\\\\diode measurements\\\\Prepared Pulse Schemes CSV\\\\50,20\\\\50nano\\\\SegmentA_1008_54.csv',\n",
    " 'D:\\\\Alejandro\\\\Pulses\\\\diode measurements\\\\Prepared Pulse Schemes CSV\\\\50,20\\\\50nano\\\\SegmentA_1008_11.csv',\n",
    " 'D:\\\\Alejandro\\\\Pulses\\\\diode measurements\\\\Prepared Pulse Schemes CSV\\\\50,20\\\\50nano\\\\SegmentA_1008_27.csv',\n",
    " 'D:\\\\Alejandro\\\\Pulses\\\\diode measurements\\\\Prepared Pulse Schemes CSV\\\\50,20\\\\50nano\\\\SegmentA_1008_17.csv',\n",
    " 'D:\\\\Alejandro\\\\Pulses\\\\diode measurements\\\\Prepared Pulse Schemes CSV\\\\50,20\\\\50nano\\\\SegmentA_1008_9.csv',\n",
    " 'D:\\\\Alejandro\\\\Pulses\\\\diode measurements\\\\Prepared Pulse Schemes CSV\\\\50,20\\\\50nano\\\\SegmentA_1008_6.csv',\n",
    " 'D:\\\\Alejandro\\\\Pulses\\\\diode measurements\\\\Prepared Pulse Schemes CSV\\\\50,20\\\\50nano\\\\SegmentA_1008_66.csv',\n",
    " 'D:\\\\Alejandro\\\\Pulses\\\\diode measurements\\\\Prepared Pulse Schemes CSV\\\\50,20\\\\50nano\\\\SegmentA_1008_20.csv',\n",
    " 'D:\\\\Alejandro\\\\Pulses\\\\diode measurements\\\\Prepared Pulse Schemes CSV\\\\50,20\\\\50nano\\\\SegmentA_1008_4.csv',\n",
    " 'D:\\\\Alejandro\\\\Pulses\\\\diode measurements\\\\Prepared Pulse Schemes CSV\\\\50,20\\\\50nano\\\\SegmentA_1008_16.csv',\n",
    " 'D:\\\\Alejandro\\\\Pulses\\\\diode measurements\\\\Prepared Pulse Schemes CSV\\\\50,20\\\\50nano\\\\SegmentA_1008_13.csv',\n",
    " 'D:\\\\Alejandro\\\\Pulses\\\\diode measurements\\\\Prepared Pulse Schemes CSV\\\\50,20\\\\50nano\\\\SegmentA_1008_39.csv',\n",
    " 'D:\\\\Alejandro\\\\Pulses\\\\diode measurements\\\\Prepared Pulse Schemes CSV\\\\50,20\\\\50nano\\\\SegmentA_1008_67.csv',\n",
    " 'D:\\\\Alejandro\\\\Pulses\\\\diode measurements\\\\Prepared Pulse Schemes CSV\\\\50,20\\\\50nano\\\\SegmentA_1008_41.csv',\n",
    " 'D:\\\\Alejandro\\\\Pulses\\\\diode measurements\\\\Prepared Pulse Schemes CSV\\\\50,20\\\\50nano\\\\SegmentA_1008_2.csv',\n",
    " 'D:\\\\Alejandro\\\\Pulses\\\\diode measurements\\\\Prepared Pulse Schemes CSV\\\\50,20\\\\50nano\\\\SegmentA_1008_40.csv',\n",
    " 'D:\\\\Alejandro\\\\Pulses\\\\diode measurements\\\\Prepared Pulse Schemes CSV\\\\50,20\\\\50nano\\\\SegmentA_1008_64.csv',\n",
    " 'D:\\\\Alejandro\\\\Pulses\\\\diode measurements\\\\Prepared Pulse Schemes CSV\\\\50,20\\\\50nano\\\\SegmentA_1008_26.csv',\n",
    " 'D:\\\\Alejandro\\\\Pulses\\\\diode measurements\\\\Prepared Pulse Schemes CSV\\\\50,20\\\\50nano\\\\SegmentA_1008_35.csv',\n",
    " 'D:\\\\Alejandro\\\\Pulses\\\\diode measurements\\\\Prepared Pulse Schemes CSV\\\\50,20\\\\50nano\\\\SegmentA_1008_19.csv',\n",
    " 'D:\\\\Alejandro\\\\Pulses\\\\diode measurements\\\\Prepared Pulse Schemes CSV\\\\50,20\\\\50nano\\\\SegmentA_1008_56.csv',\n",
    " 'D:\\\\Alejandro\\\\Pulses\\\\diode measurements\\\\Prepared Pulse Schemes CSV\\\\50,20\\\\50nano\\\\SegmentA_1008_22.csv',\n",
    " 'D:\\\\Alejandro\\\\Pulses\\\\diode measurements\\\\Prepared Pulse Schemes CSV\\\\50,20\\\\50nano\\\\SegmentA_1008_58.csv',\n",
    " 'D:\\\\Alejandro\\\\Pulses\\\\diode measurements\\\\Prepared Pulse Schemes CSV\\\\50,20\\\\50nano\\\\SegmentA_1008_14.csv',\n",
    " 'D:\\\\Alejandro\\\\Pulses\\\\diode measurements\\\\Prepared Pulse Schemes CSV\\\\50,20\\\\50nano\\\\SegmentA_1008_45.csv',\n",
    " 'D:\\\\Alejandro\\\\Pulses\\\\diode measurements\\\\Prepared Pulse Schemes CSV\\\\50,20\\\\50nano\\\\SegmentA_1008_70.csv',\n",
    " 'D:\\\\Alejandro\\\\Pulses\\\\diode measurements\\\\Prepared Pulse Schemes CSV\\\\50,20\\\\50nano\\\\SegmentA_1008_23.csv',\n",
    " 'D:\\\\Alejandro\\\\Pulses\\\\diode measurements\\\\Prepared Pulse Schemes CSV\\\\50,20\\\\50nano\\\\SegmentA_1008_51.csv',\n",
    " 'D:\\\\Alejandro\\\\Pulses\\\\diode measurements\\\\Prepared Pulse Schemes CSV\\\\50,20\\\\50nano\\\\SegmentA_1008_21.csv',\n",
    " 'D:\\\\Alejandro\\\\Pulses\\\\diode measurements\\\\Prepared Pulse Schemes CSV\\\\50,20\\\\50nano\\\\SegmentA_1008_42.csv',\n",
    " 'D:\\\\Alejandro\\\\Pulses\\\\diode measurements\\\\Prepared Pulse Schemes CSV\\\\50,20\\\\50nano\\\\SegmentA_1008_3.csv',\n",
    " 'D:\\\\Alejandro\\\\Pulses\\\\diode measurements\\\\Prepared Pulse Schemes CSV\\\\50,20\\\\50nano\\\\SegmentA_1008_60.csv',\n",
    " 'D:\\\\Alejandro\\\\Pulses\\\\diode measurements\\\\Prepared Pulse Schemes CSV\\\\50,20\\\\50nano\\\\SegmentA_1008_57.csv',\n",
    " 'D:\\\\Alejandro\\\\Pulses\\\\diode measurements\\\\Prepared Pulse Schemes CSV\\\\50,20\\\\50nano\\\\SegmentA_1008_47.csv',\n",
    " 'D:\\\\Alejandro\\\\Pulses\\\\diode measurements\\\\Prepared Pulse Schemes CSV\\\\50,20\\\\50nano\\\\SegmentA_1008_7.csv',\n",
    " 'D:\\\\Alejandro\\\\Pulses\\\\diode measurements\\\\Prepared Pulse Schemes CSV\\\\50,20\\\\50nano\\\\SegmentA_1008_28.csv',\n",
    " 'D:\\\\Alejandro\\\\Pulses\\\\diode measurements\\\\Prepared Pulse Schemes CSV\\\\50,20\\\\50nano\\\\SegmentA_1008_63.csv',\n",
    " 'D:\\\\Alejandro\\\\Pulses\\\\diode measurements\\\\Prepared Pulse Schemes CSV\\\\50,20\\\\50nano\\\\SegmentA_1008_62.csv',\n",
    " 'D:\\\\Alejandro\\\\Pulses\\\\diode measurements\\\\Prepared Pulse Schemes CSV\\\\50,20\\\\50nano\\\\SegmentA_1008_0.csv',\n",
    " 'D:\\\\Alejandro\\\\Pulses\\\\diode measurements\\\\Prepared Pulse Schemes CSV\\\\50,20\\\\50nano\\\\SegmentA_1008_37.csv',\n",
    " 'D:\\\\Alejandro\\\\Pulses\\\\diode measurements\\\\Prepared Pulse Schemes CSV\\\\50,20\\\\50nano\\\\SegmentA_1008_31.csv',\n",
    " 'D:\\\\Alejandro\\\\Pulses\\\\diode measurements\\\\Prepared Pulse Schemes CSV\\\\50,20\\\\50nano\\\\SegmentA_1008_69.csv',\n",
    " 'D:\\\\Alejandro\\\\Pulses\\\\diode measurements\\\\Prepared Pulse Schemes CSV\\\\50,20\\\\50nano\\\\SegmentA_1008_49.csv',\n",
    " 'D:\\\\Alejandro\\\\Pulses\\\\diode measurements\\\\Prepared Pulse Schemes CSV\\\\50,20\\\\50nano\\\\SegmentA_1008_8.csv',\n",
    " 'D:\\\\Alejandro\\\\Pulses\\\\diode measurements\\\\Prepared Pulse Schemes CSV\\\\50,20\\\\50nano\\\\SegmentA_1008_43.csv',\n",
    " 'D:\\\\Alejandro\\\\Pulses\\\\diode measurements\\\\Prepared Pulse Schemes CSV\\\\50,20\\\\50nano\\\\SegmentA_1008_1.csv',\n",
    " 'D:\\\\Alejandro\\\\Pulses\\\\diode measurements\\\\Prepared Pulse Schemes CSV\\\\50,20\\\\50nano\\\\SegmentA_1008_52.csv',\n",
    " 'D:\\\\Alejandro\\\\Pulses\\\\diode measurements\\\\Prepared Pulse Schemes CSV\\\\50,20\\\\50nano\\\\SegmentA_1008_34.csv',\n",
    " 'D:\\\\Alejandro\\\\Pulses\\\\diode measurements\\\\Prepared Pulse Schemes CSV\\\\50,20\\\\50nano\\\\SegmentA_1008_68.csv',\n",
    " 'D:\\\\Alejandro\\\\Pulses\\\\diode measurements\\\\Prepared Pulse Schemes CSV\\\\50,20\\\\50nano\\\\SegmentA_1008_33.csv',\n",
    " 'D:\\\\Alejandro\\\\Pulses\\\\diode measurements\\\\Prepared Pulse Schemes CSV\\\\50,20\\\\50nano\\\\SegmentA_1008_5.csv',\n",
    " 'D:\\\\Alejandro\\\\Pulses\\\\diode measurements\\\\Prepared Pulse Schemes CSV\\\\50,20\\\\50nano\\\\SegmentA_1008_61.csv',\n",
    " 'D:\\\\Alejandro\\\\Pulses\\\\diode measurements\\\\Prepared Pulse Schemes CSV\\\\50,20\\\\50nano\\\\SegmentA_1008_65.csv',\n",
    " 'D:\\\\Alejandro\\\\Pulses\\\\diode measurements\\\\Prepared Pulse Schemes CSV\\\\50,20\\\\50nano\\\\SegmentA_1008_55.csv',\n",
    " 'D:\\\\Alejandro\\\\Pulses\\\\diode measurements\\\\Prepared Pulse Schemes CSV\\\\50,20\\\\50nano\\\\SegmentA_1008_38.csv',\n",
    " 'D:\\\\Alejandro\\\\Pulses\\\\diode measurements\\\\Prepared Pulse Schemes CSV\\\\50,20\\\\50nano\\\\SegmentA_1008_46.csv',\n",
    " 'D:\\\\Alejandro\\\\Pulses\\\\diode measurements\\\\Prepared Pulse Schemes CSV\\\\50,20\\\\50nano\\\\SegmentA_1008_25.csv',\n",
    " 'D:\\\\Alejandro\\\\Pulses\\\\diode measurements\\\\Prepared Pulse Schemes CSV\\\\50,20\\\\50nano\\\\SegmentA_1008_48.csv')"
   ]
  }
 ],
 "metadata": {
  "interpreter": {
   "hash": "9a32f0bf53af15acd232504180dc0ef28b8a6ac1a49da0a6c374e1f45bb445b6"
  },
  "kernelspec": {
   "display_name": "Python 3.8.5 64-bit ('base': conda)",
   "name": "python3"
  },
  "language_info": {
   "codemirror_mode": {
    "name": "ipython",
    "version": 3
   },
   "file_extension": ".py",
   "mimetype": "text/x-python",
   "name": "python",
   "nbconvert_exporter": "python",
   "pygments_lexer": "ipython3",
   "version": "3.8.5"
  },
  "orig_nbformat": 4
 },
 "nbformat": 4,
 "nbformat_minor": 2
}
