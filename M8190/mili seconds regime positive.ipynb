{
 "cells": [
  {
   "cell_type": "code",
   "execution_count": 1,
   "source": [
    "import numpy as np\r\n",
    "from numpy import loadtxt\r\n",
    "import pandas as pd\r\n",
    "import time\r\n",
    "import matplotlib\r\n",
    "import matplotlib.pyplot as plt\r\n",
    "import pyvisa as visa\r\n",
    "from matplotlib import animation\r\n",
    "from time import sleep\r\n",
    "from matplotlib.animation import FuncAnimation\r\n",
    "#Importing the functions from the module and the pulses dictionaries\r\n",
    "from Sweeping import *\r\n",
    "from Dictionaries import *\r\n",
    "from PulseFiles import *\r\n",
    "from Instrument import *\r\n",
    "import pyqtgraph as pg \r\n",
    "import nidaqmx\r\n",
    "import pickle"
   ],
   "outputs": [],
   "metadata": {}
  },
  {
   "cell_type": "markdown",
   "source": [
    "# 1 mili"
   ],
   "metadata": {}
  },
  {
   "cell_type": "code",
   "execution_count": 21,
   "source": [
    "modulation = 93 #Hz\r\n",
    "loop_number = 1    \r\n",
    "res = 1/1000002240\r\n",
    "\r\n",
    "sam, sr , segment_length = Adj9(res,modulation,loop_number)"
   ],
   "outputs": [],
   "metadata": {}
  },
  {
   "cell_type": "code",
   "execution_count": 22,
   "source": [
    "sam"
   ],
   "outputs": [
    {
     "output_type": "execute_result",
     "data": {
      "text/plain": [
       "5376384"
      ]
     },
     "metadata": {},
     "execution_count": 22
    }
   ],
   "metadata": {}
  },
  {
   "cell_type": "code",
   "execution_count": 23,
   "source": [
    "sr"
   ],
   "outputs": [
    {
     "output_type": "execute_result",
     "data": {
      "text/plain": [
       "1000007423"
      ]
     },
     "metadata": {},
     "execution_count": 23
    }
   ],
   "metadata": {}
  },
  {
   "cell_type": "code",
   "execution_count": 24,
   "source": [
    "segment_length"
   ],
   "outputs": [
    {
     "output_type": "execute_result",
     "data": {
      "text/plain": [
       "0.005376344086021506"
      ]
     },
     "metadata": {},
     "execution_count": 24
    }
   ],
   "metadata": {}
  },
  {
   "cell_type": "code",
   "execution_count": 25,
   "source": [
    "interval = segment_length*1e3 #mili"
   ],
   "outputs": [],
   "metadata": {}
  },
  {
   "cell_type": "markdown",
   "source": [
    "# AWG and Pulse files setup"
   ],
   "metadata": {}
  },
  {
   "cell_type": "code",
   "execution_count": 30,
   "source": [
    "AWG_Settings_1mili= {\r\n",
    "    'Visa Resource Name': 'TCPIP0::ibn3-036.ibn-net.kfa-juelich.de::hislip0::INSTR',\r\n",
    "    'Voltage Amplitude':150,\r\n",
    "    'Clock Sample Frecuency':1000007423,\r\n",
    "    'Output_Channel': 1,\r\n",
    "    'Mode': 'STS',\r\n",
    "    'Trigger In Threshold' : 1,\r\n",
    "    'Output Rout': 'DC', #DAC output rout only has the BNC outputs: Direct Out and (Averaged) Direct Out # DC\r\n",
    "    'Data Directory': r'D:\\Alejandro\\Pulses\\diode measurements\\Prepared Pulse Schemes CSV\\60,30\\pos\\1mili',\r\n",
    "}"
   ],
   "outputs": [],
   "metadata": {}
  },
  {
   "cell_type": "code",
   "execution_count": null,
   "source": [
    "M8190A = VisaR(AWG_Settings_1mili,60000)"
   ],
   "outputs": [],
   "metadata": {}
  },
  {
   "cell_type": "code",
   "execution_count": null,
   "source": [
    "M8190A.write('FREQ:RAST 1000002240')"
   ],
   "outputs": [
    {
     "output_type": "display_data",
     "data": {
      "text/plain": [
       "21"
      ]
     },
     "metadata": {}
    }
   ],
   "metadata": {}
  },
  {
   "cell_type": "code",
   "execution_count": null,
   "source": [
    "Initialization(M8190A,AWG_Settings_1mili)"
   ],
   "outputs": [
    {
     "output_type": "stream",
     "name": "stdout",
     "text": [
      "Instruments Sampling Frecuency set to 1.00000224000000E+09Hz\n",
      "Instruments Direct Out DC Output route Voltage set to 6.75000000000000E-01Volts\n",
      "AWG_Settings_Dict set to TRIGGERED Mode\n",
      "Trigger In threshold value set to 1.00000000000000E+00V\n"
     ]
    }
   ],
   "metadata": {}
  },
  {
   "cell_type": "code",
   "execution_count": 7,
   "source": [
    "Pump_1mili = {\r\n",
    "    'Name':'Pump_1mili',\r\n",
    "    'Amplitude':2*60,\r\n",
    "    'Start time':2,\r\n",
    "    'End time':2e-10,\r\n",
    "    'Start Duration':1,\r\n",
    "    'End Duration':60,\r\n",
    "    'Sweep time':0,\r\n",
    "    'Sweep Duration':0\r\n",
    "}"
   ],
   "outputs": [],
   "metadata": {}
  },
  {
   "cell_type": "code",
   "execution_count": 8,
   "source": [
    "ProbeA_1mili = {\r\n",
    "    'Name':'ProbeA_1mili',\r\n",
    "    'Amplitude':2*30,\r\n",
    "    'Start time':0,\r\n",
    "    'End time':4,\r\n",
    "    'Start Duration':1,\r\n",
    "    'End Duration':60,\r\n",
    "    'Sweep time':1,\r\n",
    "    'Sweep Duration':0\r\n",
    "}"
   ],
   "outputs": [],
   "metadata": {}
  },
  {
   "cell_type": "code",
   "execution_count": 9,
   "source": [
    "ProbeB_1mili = {\r\n",
    "    'Name':'ProbeB_1mili',\r\n",
    "    'Amplitude':-2*30,\r\n",
    "    'Start time':0,\r\n",
    "    'End time':4,\r\n",
    "    'Start Duration':1,\r\n",
    "    'End Duration':60,\r\n",
    "    'Sweep time':1,\r\n",
    "    'Sweep Duration':0\r\n",
    "}"
   ],
   "outputs": [],
   "metadata": {}
  },
  {
   "cell_type": "code",
   "execution_count": 10,
   "source": [
    "PulseScheme_A_1mili =  {\r\n",
    "    'Name' : 'PulseScheme_A_1mili',\r\n",
    "    'Pulse Scheme': [Pump_1mili,ProbeA_1mili],\r\n",
    "    'Number of repetitions': 1,\r\n",
    "    'Measurement file Path': r'D:\\Alejandro\\Pulses\\diode measurements\\Autocorrelation measurements\\60,30\\pos\\1mili'\r\n",
    "}"
   ],
   "outputs": [],
   "metadata": {}
  },
  {
   "cell_type": "code",
   "execution_count": 11,
   "source": [
    "PulseScheme_B_1mili =  {\r\n",
    "    'Name' : 'PulseScheme_B_1mili',\r\n",
    "    'Pulse Scheme': [Pump_1mili,ProbeB_1mili],\r\n",
    "    'Number of repetitions': 1,\r\n",
    "    'Measurement file Path': r'D:\\Alejandro\\Pulses\\diode measurements\\Autocorrelation measurements\\60,30\\pos\\1mili'\r\n",
    "}"
   ],
   "outputs": [],
   "metadata": {}
  },
  {
   "cell_type": "code",
   "execution_count": 12,
   "source": [
    "step = 0\r\n",
    "pul1 = Sweep_teil(PulseScheme_A_1mili,30,step,interval,sam)\r\n",
    "\r\n",
    "\r\n",
    "#Plot\r\n",
    "fig,ax= plt.subplots()\r\n",
    "ax.grid(True)\r\n",
    "\r\n",
    "plt.plot(pul1[1],pul1[0]/2,label= '{b} samples'.format(b = sam),color='red')\r\n",
    "\r\n",
    "ax.set_ylabel('V  [mV]')\r\n",
    "ax.set_xlabel(r't [ms]')\r\n",
    "ax.set_title('Cycle A at step {a}'.format(a = step )) #Voltage Offset = 3mV, Marker Ampl = 50mV \r\n",
    "#ax.legend(loc=0)\r\n",
    "#plt.legend(bbox_to_anchor=(2.05, 1), loc='upper left', borderaxespad=0.)\r\n",
    "plt.show()\r\n",
    "\r\n",
    "#fig.savefig(r'{loc}\\Cycle A, Probe recalculated 1mili {a} step.jpeg'.format(a = step,loc = PulseScheme_A_1mili['Measurement file Path']),bbox_inches='tight')"
   ],
   "outputs": [
    {
     "output_type": "display_data",
     "data": {
      "image/png": "[encoded data removed]",
      "text/plain": [
       "<Figure size 432x288 with 1 Axes>"
      ]
     },
     "metadata": {
      "needs_background": "light"
     }
    }
   ],
   "metadata": {}
  },
  {
   "cell_type": "code",
   "execution_count": null,
   "source": [
    "step = 0\r\n",
    "pul1 = Sweep_teil(PulseScheme_A_1mili,30,step,interval,sam)\r\n",
    "\r\n",
    "\r\n",
    "#Plot\r\n",
    "fig,ax= plt.subplots()\r\n",
    "ax.grid(True)\r\n",
    "\r\n",
    "plt.plot(pul1[1],pul1[0]/2,label= '{b} samples'.format(b = sam),color='red')\r\n",
    "\r\n",
    "ax.set_ylabel('V  [mV]')\r\n",
    "ax.set_xlabel(r't [ms]')\r\n",
    "ax.set_title('Cycle A at step {a}'.format(a = step )) #Voltage Offset = 3mV, Marker Ampl = 50mV \r\n",
    "#ax.legend(loc=0)\r\n",
    "#plt.legend(bbox_to_anchor=(2.05, 1), loc='upper left', borderaxespad=0.)\r\n",
    "plt.show()\r\n",
    "\r\n",
    "#fig.savefig(r'{loc}\\Cycle A, Probe recalculated 1mili {a} step.jpeg'.format(a = step,loc = PulseScheme_A_1mili['Measurement file Path']),bbox_inches='tight')"
   ],
   "outputs": [
    {
     "output_type": "display_data",
     "data": {
      "image/png": "[encoded data removed]",
      "text/plain": [
       "<Figure size 432x288 with 1 Axes>"
      ]
     },
     "metadata": {}
    }
   ],
   "metadata": {}
  },
  {
   "cell_type": "code",
   "execution_count": 15,
   "source": [
    "step = 30\r\n",
    "pul1 = Sweep_teil(PulseScheme_A_1mili,30,step,interval,sam)\r\n",
    "\r\n",
    "\r\n",
    "#Plot\r\n",
    "fig,ax= plt.subplots()\r\n",
    "ax.grid(True)\r\n",
    "\r\n",
    "plt.plot(pul1[1],pul1[0]/2,label= '{b} samples'.format(b = sam),color='red')\r\n",
    "\r\n",
    "ax.set_ylabel('V  [mV]')\r\n",
    "ax.set_xlabel(r't [ms]')\r\n",
    "ax.set_title('Cycle A at step {a}'.format(a = step )) #Voltage Offset = 3mV, Marker Ampl = 50mV \r\n",
    "#ax.legend(loc=0)\r\n",
    "#plt.legend(bbox_to_anchor=(2.05, 1), loc='upper left', borderaxespad=0.)\r\n",
    "plt.show()\r\n",
    "\r\n",
    "#fig.savefig(r'{loc}\\Cycle A, Probe recalculated 1mili {a} step.jpeg'.format(a = step,loc = PulseScheme_A_1mili['Measurement file Path']),bbox_inches='tight')"
   ],
   "outputs": [
    {
     "output_type": "display_data",
     "data": {
      "image/png": "[encoded data removed]",
      "text/plain": [
       "<Figure size 432x288 with 1 Axes>"
      ]
     },
     "metadata": {
      "needs_background": "light"
     }
    }
   ],
   "metadata": {}
  },
  {
   "cell_type": "code",
   "execution_count": 13,
   "source": [
    "step = 0\r\n",
    "pul1 = Sweep_teil(PulseScheme_B_1mili,30,step,interval,sam)\r\n",
    "\r\n",
    "\r\n",
    "#Plot\r\n",
    "fig,ax= plt.subplots()\r\n",
    "ax.grid(True)\r\n",
    "\r\n",
    "plt.plot(pul1[1],pul1[0]/2,label= '{b} samples'.format(b = sam),color='red')\r\n",
    "\r\n",
    "ax.set_ylabel('V  [mV]')\r\n",
    "ax.set_xlabel(r't [ms]')\r\n",
    "ax.set_title('Cycle B at step {a}'.format(a = step )) #Voltage Offset = 3mV, Marker Ampl = 50mV \r\n",
    "#ax.legend(loc=0)\r\n",
    "#plt.legend(bbox_to_anchor=(2.05, 1), loc='upper left', borderaxespad=0.)\r\n",
    "plt.show()\r\n",
    "\r\n",
    "#fig.savefig(r'{loc}\\Cycle B, Probe recalculated 1mili {a} step.jpeg'.format(a = step,loc = PulseScheme_A_1mili['Measurement file Path']),bbox_inches='tight')"
   ],
   "outputs": [
    {
     "output_type": "display_data",
     "data": {
      "image/png": "[encoded data removed]",
      "text/plain": [
       "<Figure size 432x288 with 1 Axes>"
      ]
     },
     "metadata": {
      "needs_background": "light"
     }
    }
   ],
   "metadata": {}
  },
  {
   "cell_type": "code",
   "execution_count": 14,
   "source": [
    "step = 30\r\n",
    "pul1 = Sweep_teil(PulseScheme_B_1mili,30,step,interval,sam)\r\n",
    "\r\n",
    "\r\n",
    "#Plot\r\n",
    "fig,ax= plt.subplots()\r\n",
    "ax.grid(True)\r\n",
    "\r\n",
    "plt.plot(pul1[1],pul1[0]/2,label= '{b} samples'.format(b = sam),color='red')\r\n",
    "\r\n",
    "ax.set_ylabel('V  [mV]')\r\n",
    "ax.set_xlabel(r't [ms]')\r\n",
    "ax.set_title('Cycle B at step {a}'.format(a = step )) #Voltage Offset = 3mV, Marker Ampl = 50mV \r\n",
    "#ax.legend(loc=0)\r\n",
    "#plt.legend(bbox_to_anchor=(2.05, 1), loc='upper left', borderaxespad=0.)\r\n",
    "plt.show()\r\n",
    "\r\n",
    "#fig.savefig(r'{loc}\\Cycle A, Probe recalculated 1mili {a} step.jpeg'.format(a = step,loc = PulseScheme_A_1mili['Measurement file Path']),bbox_inches='tight')"
   ],
   "outputs": [
    {
     "output_type": "display_data",
     "data": {
      "image/png": "[encoded data removed]",
      "text/plain": [
       "<Figure size 432x288 with 1 Axes>"
      ]
     },
     "metadata": {
      "needs_background": "light"
     }
    }
   ],
   "metadata": {}
  },
  {
   "cell_type": "code",
   "execution_count": 16,
   "source": [
    "sweeping_run_a_1mili = Sweeping_Single_List_File_teil(PulseScheme_A_1mili,30,interval,sam,0,30,AWG_Settings_1mili,'A')[0]"
   ],
   "outputs": [],
   "metadata": {}
  },
  {
   "cell_type": "code",
   "execution_count": 17,
   "source": [
    "sweeping_run_b_1mili = Sweeping_Single_List_File_teil(PulseScheme_B_1mili,30,interval,sam,0,30,AWG_Settings_1mili,'B')[0]"
   ],
   "outputs": [],
   "metadata": {}
  },
  {
   "cell_type": "code",
   "execution_count": 18,
   "source": [
    "#Exporting pickle\r\n",
    "\r\n",
    "with open(r\"{dict}\\cycleA_31steps_90Hz_1mili_1000002240GHz.p\".format(dict = PulseScheme_A_1mili['Measurement file Path']), \"wb\") as k:\r\n",
    "    pickle.dump(sweeping_run_a_1mili, k)\r\n",
    "\r\n",
    "\r\n",
    "with open(r\"{dict}\\cycleB_31steps_90Hz_1mili_1000002240GHz.p\".format(dict = PulseScheme_B_1mili['Measurement file Path']), \"wb\") as h:\r\n",
    "    pickle.dump(sweeping_run_b_1mili, h)"
   ],
   "outputs": [],
   "metadata": {}
  },
  {
   "cell_type": "code",
   "execution_count": 17,
   "source": [
    "#Importing Pickle\r\n",
    "\r\n",
    "with open(r\"{dict}\\cycleA_31steps_90Hz_1mili_1000002240GHz.p\".format(dict = PulseScheme_A_1mili['Measurement file Path']), \"rb\") as j:\r\n",
    "    sweeping_run_a_1mili = pickle.load(j)\r\n",
    "\r\n",
    "with open(r\"{dict}\\cycleB_31steps_90Hz_1mili_1000002240GHz.p\".format(dict = PulseScheme_A_1mili['Measurement file Path']), \"rb\") as f:\r\n",
    "    sweeping_run_b_1mili = pickle.load(f)"
   ],
   "outputs": [],
   "metadata": {}
  },
  {
   "cell_type": "code",
   "execution_count": 15,
   "source": [
    "1+1"
   ],
   "outputs": [
    {
     "output_type": "execute_result",
     "data": {
      "text/plain": [
       "2"
      ]
     },
     "metadata": {},
     "execution_count": 15
    }
   ],
   "metadata": {}
  },
  {
   "cell_type": "code",
   "execution_count": 18,
   "source": [
    "sweeping_run_a_1mili['Pulse File Location, at step 30']"
   ],
   "outputs": [
    {
     "output_type": "execute_result",
     "data": {
      "text/plain": [
       "'D:\\\\Alejandro\\\\Pulses\\\\diode measurements\\\\Prepared Pulse Schemes CSV\\\\60,30\\\\pos\\\\1mili\\\\SegmentA_5376384_30.csv'"
      ]
     },
     "metadata": {},
     "execution_count": 18
    }
   ],
   "metadata": {}
  },
  {
   "cell_type": "code",
   "execution_count": null,
   "source": [
    "sweeping_run_b_1mili['Pulse File Location, at step 30']"
   ],
   "outputs": [
    {
     "output_type": "display_data",
     "data": {
      "text/plain": [
       "'D:\\\\Alejandro\\\\Pulses\\\\diode measurements\\\\Prepared Pulse Schemes CSV\\\\50,20\\\\1mili\\\\SegmentB_672816_30.csv'"
      ]
     },
     "metadata": {}
    }
   ],
   "metadata": {}
  },
  {
   "cell_type": "code",
   "execution_count": null,
   "source": [
    "Sequence_File(M8190A,sweeping_runa_1mili['Pulse File Location, at step 0'],sweeping_runb_1mili['Pulse File Location, at step 0'],1)"
   ],
   "outputs": [
    {
     "output_type": "stream",
     "name": "stdout",
     "text": [
      "Sequence loaded with the following segment data \"1,1,0,1,0,11000063,2,1,0,1,0,11000063\" and the advancement method is COND\n"
     ]
    },
    {
     "output_type": "display_data",
     "data": {
      "text/plain": [
       "2"
      ]
     },
     "metadata": {}
    }
   ],
   "metadata": {}
  },
  {
   "cell_type": "markdown",
   "source": [
    "# Loading"
   ],
   "metadata": {}
  },
  {
   "cell_type": "code",
   "execution_count": null,
   "source": [
    "M8190A.write('SEQ:DEL:ALL')"
   ],
   "outputs": [
    {
     "output_type": "display_data",
     "data": {
      "text/plain": [
       "12"
      ]
     },
     "metadata": {}
    }
   ],
   "metadata": {
    "scrolled": false
   }
  },
  {
   "cell_type": "code",
   "execution_count": null,
   "source": [
    "Dummy_File(M8190A)"
   ],
   "outputs": [
    {
     "output_type": "stream",
     "name": "stdout",
     "text": [
      "Dummy File Loaded and playing\n",
      "Dummy File stopped and erased from AWGs memmory\n"
     ]
    }
   ],
   "metadata": {}
  },
  {
   "cell_type": "code",
   "execution_count": null,
   "source": [
    "Lock_In_Settings = {\r\n",
    "'Time Constant' : '300ms',\r\n",
    "'Sensitivity' : '500 microVolts',\r\n",
    "'Reserve' : 'Normal',\r\n",
    "'db' : 24,\r\n",
    "'Modulation': '45Hz'\r\n",
    "}"
   ],
   "outputs": [],
   "metadata": {}
  },
  {
   "cell_type": "code",
   "execution_count": null,
   "source": [
    "playingtime = 10\r\n",
    "\r\n",
    "Diode_Signal, averaged_data = Voltage_Autocorrelation_loop(M8190A,DAQ_Settings1,playingtime,sweeping_runa_1mili,sweeping_runb_1mili,PulseScheme_A_1mili['Measurement file Path'],Lock_In_Settings,1)"
   ],
   "outputs": [
    {
     "output_type": "stream",
     "name": "stdout",
     "text": [
      "Sequence loaded with the following segment data \"1,1,0,1,0,11000063,2,1,0,1,0,11000063\" and the advancement method is COND\n",
      "Average Value for measurement at step 0 is 1.5992983535622711 V\n",
      "Sequence loaded with the following segment data \"1,1,0,1,0,11000063,2,1,0,1,0,11000063\" and the advancement method is COND\n",
      "Average Value for measurement at step 1 is 1.6024841946361357 V\n",
      "Sequence loaded with the following segment data \"1,1,0,1,0,11000063,2,1,0,1,0,11000063\" and the advancement method is COND\n",
      "Average Value for measurement at step 2 is 1.6319065600870188 V\n",
      "Sequence loaded with the following segment data \"1,1,0,1,0,11000063,2,1,0,1,0,11000063\" and the advancement method is COND\n",
      "Average Value for measurement at step 3 is 1.672388343622686 V\n",
      "Sequence loaded with the following segment data \"1,1,0,1,0,11000063,2,1,0,1,0,11000063\" and the advancement method is COND\n",
      "Average Value for measurement at step 4 is 1.6723632549269591 V\n",
      "Sequence loaded with the following segment data \"1,1,0,1,0,11000063,2,1,0,1,0,11000063\" and the advancement method is COND\n",
      "Average Value for measurement at step 5 is 1.7109601475236622 V\n",
      "Sequence loaded with the following segment data \"1,1,0,1,0,11000063,2,1,0,1,0,11000063\" and the advancement method is COND\n",
      "Average Value for measurement at step 6 is 1.7419337900610992 V\n",
      "Sequence loaded with the following segment data \"1,1,0,1,0,11000063,2,1,0,1,0,11000063\" and the advancement method is COND\n",
      "Average Value for measurement at step 7 is 1.74194074348334 V\n",
      "Sequence loaded with the following segment data \"1,1,0,1,0,11000063,2,1,0,1,0,11000063\" and the advancement method is COND\n",
      "Average Value for measurement at step 8 is 1.7419613218545498 V\n",
      "Sequence loaded with the following segment data \"1,1,0,1,0,11000063,2,1,0,1,0,11000063\" and the advancement method is COND\n",
      "Average Value for measurement at step 9 is 1.7787341678108584 V\n",
      "Sequence loaded with the following segment data \"1,1,0,1,0,11000063,2,1,0,1,0,11000063\" and the advancement method is COND\n",
      "Average Value for measurement at step 10 is 1.7942599394899656 V\n",
      "Sequence loaded with the following segment data \"1,1,0,1,0,11000063,2,1,0,1,0,11000063\" and the advancement method is COND\n",
      "Average Value for measurement at step 11 is 1.8104059288038887 V\n",
      "Sequence loaded with the following segment data \"1,1,0,1,0,11000063,2,1,0,1,0,11000063\" and the advancement method is COND\n",
      "Average Value for measurement at step 12 is 2.021348778661717 V\n",
      "Sequence loaded with the following segment data \"1,1,0,1,0,11000063,2,1,0,1,0,11000063\" and the advancement method is COND\n",
      "Average Value for measurement at step 13 is 2.3006809615757255 V\n",
      "Sequence loaded with the following segment data \"1,1,0,1,0,11000063,2,1,0,1,0,11000063\" and the advancement method is COND\n",
      "Average Value for measurement at step 14 is 2.580241375392777 V\n",
      "Sequence loaded with the following segment data \"1,1,0,1,0,11000063,2,1,0,1,0,11000063\" and the advancement method is COND\n",
      "Average Value for measurement at step 15 is 2.895710247931103 V\n",
      "Sequence loaded with the following segment data \"1,1,0,1,0,11000063,2,1,0,1,0,11000063\" and the advancement method is COND\n",
      "Average Value for measurement at step 16 is 2.5802107426925 V\n",
      "Sequence loaded with the following segment data \"1,1,0,1,0,11000063,2,1,0,1,0,11000063\" and the advancement method is COND\n",
      "Average Value for measurement at step 17 is 2.3006132126112044 V\n",
      "Sequence loaded with the following segment data \"1,1,0,1,0,11000063,2,1,0,1,0,11000063\" and the advancement method is COND\n",
      "Average Value for measurement at step 18 is 2.021334777844067 V\n",
      "Sequence loaded with the following segment data \"1,1,0,1,0,11000063,2,1,0,1,0,11000063\" and the advancement method is COND\n",
      "Average Value for measurement at step 19 is 1.7941303615312507 V\n",
      "Sequence loaded with the following segment data \"1,1,0,1,0,11000063,2,1,0,1,0,11000063\" and the advancement method is COND\n",
      "Average Value for measurement at step 20 is 1.7752737594111365 V\n",
      "Sequence loaded with the following segment data \"1,1,0,1,0,11000063,2,1,0,1,0,11000063\" and the advancement method is COND\n",
      "Average Value for measurement at step 21 is 1.741991954498458 V\n",
      "Sequence loaded with the following segment data \"1,1,0,1,0,11000063,2,1,0,1,0,11000063\" and the advancement method is COND\n",
      "Average Value for measurement at step 22 is 1.7419849071110451 V\n",
      "Sequence loaded with the following segment data \"1,1,0,1,0,11000063,2,1,0,1,0,11000063\" and the advancement method is COND\n",
      "Average Value for measurement at step 23 is 1.7419776248107364 V\n",
      "Sequence loaded with the following segment data \"1,1,0,1,0,11000063,2,1,0,1,0,11000063\" and the advancement method is COND\n",
      "Average Value for measurement at step 24 is 1.7419895583867298 V\n",
      "Sequence loaded with the following segment data \"1,1,0,1,0,11000063,2,1,0,1,0,11000063\" and the advancement method is COND\n",
      "Average Value for measurement at step 25 is 1.7043497925568891 V\n",
      "Sequence loaded with the following segment data \"1,1,0,1,0,11000063,2,1,0,1,0,11000063\" and the advancement method is COND\n",
      "Average Value for measurement at step 26 is 1.672455011898436 V\n",
      "Sequence loaded with the following segment data \"1,1,0,1,0,11000063,2,1,0,1,0,11000063\" and the advancement method is COND\n",
      "Average Value for measurement at step 27 is 1.6724870540154568 V\n",
      "Sequence loaded with the following segment data \"1,1,0,1,0,11000063,2,1,0,1,0,11000063\" and the advancement method is COND\n",
      "Average Value for measurement at step 28 is 1.664821940729234 V\n",
      "Sequence loaded with the following segment data \"1,1,0,1,0,11000063,2,1,0,1,0,11000063\" and the advancement method is COND\n",
      "Average Value for measurement at step 29 is 1.602617014361466 V\n",
      "Sequence loaded with the following segment data \"1,1,0,1,0,11000063,2,1,0,1,0,11000063\" and the advancement method is COND\n",
      "Average Value for measurement at step 30 is 1.6026114704181975 V\n"
     ]
    }
   ],
   "metadata": {}
  },
  {
   "cell_type": "code",
   "execution_count": null,
   "source": [
    "fig,ax= plt.subplots()\r\n",
    "ax.grid(True)\r\n",
    "for i in range(0,len(Diode_Signal)):\r\n",
    "    plt.plot(Diode_Signal[i][1],Diode_Signal[i][0],label= 'Step {st}'.format(st = i ))\r\n",
    "\r\n",
    "ax.set_ylabel(r'V  [V]')\r\n",
    "ax.set_xlabel('t  [s]')\r\n",
    "ax.set_title(r' Diode Signal at Different Steps,  {b} Samples, 1ms probe duration'.format(b = len(Diode_Signal[0][1]) ))\r\n",
    "#ax.legend(bbox_to_anchor=(1.05, 1), loc='upper left', borderaxespad=0.)\r\n",
    "#ax.legend(loc=0)\r\n",
    "plt.show()\r\n",
    "\r\n",
    "fig.savefig(r'{loc}\\Diode Signal time cstant = {a}, sensitivity {b},{c} daqseconds, 5 35ms scheme, probe duration 1 mili,31 steps, no legend, .jpeg'.format(loc = PulseScheme_A_1mili['Measurement file Path'],a = Lock_In_Settings['Time Constant'], b = Lock_In_Settings['Sensitivity'], c = playingtime),bbox_inches='tight')"
   ],
   "outputs": [
    {
     "output_type": "display_data",
     "data": {
      "image/png": "[encoded data removed]",
      "text/plain": [
       "<Figure size 432x288 with 1 Axes>"
      ]
     },
     "metadata": {}
    }
   ],
   "metadata": {}
  },
  {
   "cell_type": "code",
   "execution_count": null,
   "source": [
    "time_delay = np.linspace(-4,4,31)"
   ],
   "outputs": [],
   "metadata": {}
  },
  {
   "cell_type": "code",
   "execution_count": null,
   "source": [
    "#change this to V regime\r\n",
    "fig,axes = plt.subplots()\r\n",
    "\r\n",
    "axes.grid(True)\r\n",
    "\r\n",
    "plt.plot(time_delay,averaged_data,label=r'1ms Probe Width ',color='blue')\r\n",
    "#plt.plot(tm,pul,label = '{a} samples'.format(a = len(pul)))\r\n",
    "\r\n",
    "axes.set_xlabel(r'time delay [ms]')\r\n",
    "axes.set_ylabel(r'Diode Signal [V]')\r\n",
    "axes.set_title('Auto-Correlation 31 steps ')\r\n",
    "\r\n",
    "axes.legend(loc = 0)\r\n",
    "plt.show()\r\n",
    "\r\n",
    "fig.savefig(r'{loc}\\Autocorrelation function 31 steps probes 45Hz, 3 sep length tc = {a}, sens {b}, {c}s DAQ .jpeg'.format(loc = PulseScheme_A_1mili['Measurement file Path'],a = Lock_In_Settings['Time Constant'], b = Lock_In_Settings['Sensitivity'], c = playingtime ))"
   ],
   "outputs": [
    {
     "output_type": "display_data",
     "data": {
      "image/png": "[encoded data removed]",
      "text/plain": [
       "<Figure size 432x288 with 1 Axes>"
      ]
     },
     "metadata": {}
    }
   ],
   "metadata": {}
  },
  {
   "cell_type": "code",
   "execution_count": 44,
   "source": [
    "modulation = 93 #Hz\r\n",
    "loop_number = 10    \r\n",
    "res = 1/3003004800\r\n",
    "\r\n",
    "sam, sr , cycle_length = Adj9(res,modulation,loop_number)"
   ],
   "outputs": [],
   "metadata": {}
  },
  {
   "cell_type": "code",
   "execution_count": 45,
   "source": [
    "sam"
   ],
   "outputs": [
    {
     "output_type": "execute_result",
     "data": {
      "text/plain": [
       "1614528"
      ]
     },
     "metadata": {},
     "execution_count": 45
    }
   ],
   "metadata": {}
  },
  {
   "cell_type": "code",
   "execution_count": 46,
   "source": [
    "sr"
   ],
   "outputs": [
    {
     "output_type": "execute_result",
     "data": {
      "text/plain": [
       "3003022080"
      ]
     },
     "metadata": {},
     "execution_count": 46
    }
   ],
   "metadata": {}
  },
  {
   "cell_type": "code",
   "execution_count": 47,
   "source": [
    "cycle_length*10"
   ],
   "outputs": [
    {
     "output_type": "execute_result",
     "data": {
      "text/plain": [
       "0.005376344086021506"
      ]
     },
     "metadata": {},
     "execution_count": 47
    }
   ],
   "metadata": {}
  },
  {
   "cell_type": "code",
   "execution_count": 39,
   "source": [
    "modulation = 93 #Hz\r\n",
    "loop_number = 3    \r\n",
    "res = 1/3003004800\r\n",
    "\r\n",
    "sam, sr , segment_length = Adj9(res,modulation,loop_number)"
   ],
   "outputs": [],
   "metadata": {}
  },
  {
   "cell_type": "code",
   "execution_count": 40,
   "source": [
    "sam"
   ],
   "outputs": [
    {
     "output_type": "execute_result",
     "data": {
      "text/plain": [
       "5381760"
      ]
     },
     "metadata": {},
     "execution_count": 40
    }
   ],
   "metadata": {}
  },
  {
   "cell_type": "code",
   "execution_count": 41,
   "source": [
    "sr"
   ],
   "outputs": [
    {
     "output_type": "execute_result",
     "data": {
      "text/plain": [
       "3003022080"
      ]
     },
     "metadata": {},
     "execution_count": 41
    }
   ],
   "metadata": {}
  },
  {
   "cell_type": "code",
   "execution_count": 43,
   "source": [
    "cycle_length*3"
   ],
   "outputs": [
    {
     "output_type": "execute_result",
     "data": {
      "text/plain": [
       "0.005376344086021506"
      ]
     },
     "metadata": {},
     "execution_count": 43
    }
   ],
   "metadata": {}
  },
  {
   "cell_type": "code",
   "execution_count": 48,
   "source": [
    "0.005376344086021506 == 0.005376344086021506"
   ],
   "outputs": [
    {
     "output_type": "execute_result",
     "data": {
      "text/plain": [
       "True"
      ]
     },
     "metadata": {},
     "execution_count": 48
    }
   ],
   "metadata": {}
  },
  {
   "cell_type": "code",
   "execution_count": 19,
   "source": [
    "step30 = pd.read_csv(r'{loc}'.format(loc = sweeping_run_a_1mili['Pulse File Location, at step 30']))"
   ],
   "outputs": [],
   "metadata": {}
  },
  {
   "cell_type": "code",
   "execution_count": 27,
   "source": [
    "step30['Y1']"
   ],
   "outputs": [
    {
     "output_type": "execute_result",
     "data": {
      "text/plain": [
       "0          0.0\n",
       "1          0.0\n",
       "2          0.0\n",
       "3          0.0\n",
       "4          0.0\n",
       "          ... \n",
       "5376379    0.0\n",
       "5376380    0.0\n",
       "5376381    0.0\n",
       "5376382    0.0\n",
       "5376383    0.0\n",
       "Name: Y1, Length: 5376384, dtype: float64"
      ]
     },
     "metadata": {},
     "execution_count": 27
    }
   ],
   "metadata": {}
  },
  {
   "cell_type": "code",
   "execution_count": null,
   "source": [
    "sweeping_run_a_1mili['Pulse File Location, at step 30']"
   ],
   "outputs": [
    {
     "output_type": "display_data",
     "data": {
      "text/plain": [
       "'D:\\\\Alejandro\\\\Pulses\\\\diode measurements\\\\Prepared Pulse Schemes CSV\\\\60,30\\\\pos\\\\1mili\\\\SegmentA_5376384_30.csv'"
      ]
     },
     "metadata": {}
    }
   ],
   "metadata": {}
  },
  {
   "cell_type": "code",
   "execution_count": 26,
   "source": [
    "interval"
   ],
   "outputs": [
    {
     "output_type": "execute_result",
     "data": {
      "text/plain": [
       "5.376344086021506"
      ]
     },
     "metadata": {},
     "execution_count": 26
    }
   ],
   "metadata": {}
  },
  {
   "cell_type": "code",
   "execution_count": 28,
   "source": [
    "timm = np.linspace(0,interval,sam)"
   ],
   "outputs": [],
   "metadata": {}
  },
  {
   "cell_type": "code",
   "execution_count": 31,
   "source": [
    "\r\n",
    "\r\n",
    "\r\n",
    "#Plot\r\n",
    "fig,ax= plt.subplots()\r\n",
    "ax.grid(True)\r\n",
    "\r\n",
    "plt.plot(timm,step30['Y1']*AWG_Settings_1mili['Voltage Amplitude'],label= '{b} samples'.format(b = sam),color='red')\r\n",
    "\r\n",
    "ax.set_ylabel('V  [mV]')\r\n",
    "ax.set_xlabel(r't [ms]')\r\n",
    "ax.set_title('Cycle B at step {a}'.format(a = step )) #Voltage Offset = 3mV, Marker Ampl = 50mV \r\n",
    "#ax.legend(loc=0)\r\n",
    "#plt.legend(bbox_to_anchor=(2.05, 1), loc='upper left', borderaxespad=0.)\r\n",
    "plt.show()\r\n",
    "\r\n",
    "#fig.savefig(r'{loc}\\Cycle B, Probe recalculated 1mili {a} step.jpeg'.format(a = step,loc = PulseScheme_A_1mili['Measurement file Path']),bbox_inches='tight')"
   ],
   "outputs": [
    {
     "output_type": "display_data",
     "data": {
      "image/png": "[encoded data removed]",
      "text/plain": [
       "<Figure size 432x288 with 1 Axes>"
      ]
     },
     "metadata": {
      "needs_background": "light"
     }
    }
   ],
   "metadata": {}
  },
  {
   "cell_type": "code",
   "execution_count": null,
   "source": [],
   "outputs": [],
   "metadata": {}
  }
 ],
 "metadata": {
  "orig_nbformat": 4,
  "language_info": {
   "name": "python",
   "version": "3.8.5",
   "mimetype": "text/x-python",
   "codemirror_mode": {
    "name": "ipython",
    "version": 3
   },
   "pygments_lexer": "ipython3",
   "nbconvert_exporter": "python",
   "file_extension": ".py"
  },
  "kernelspec": {
   "name": "python3",
   "display_name": "Python 3.8.5 64-bit ('base': conda)"
  },
  "interpreter": {
   "hash": "9a32f0bf53af15acd232504180dc0ef28b8a6ac1a49da0a6c374e1f45bb445b6"
  }
 },
 "nbformat": 4,
 "nbformat_minor": 2
}