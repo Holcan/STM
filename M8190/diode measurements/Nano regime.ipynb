{
 "cells": [
  {
   "cell_type": "code",
   "execution_count": 1,
   "source": [
    "import numpy as np\r\n",
    "from numpy import loadtxt\r\n",
    "import pandas as pd\r\n",
    "import time\r\n",
    "import matplotlib\r\n",
    "import matplotlib.pyplot as plt\r\n",
    "import pyvisa as visa\r\n",
    "from matplotlib import animation\r\n",
    "from time import sleep\r\n",
    "from matplotlib.animation import FuncAnimation\r\n",
    "#Importing the functions from the module and the pulses dictionaries\r\n",
    "from Sweeping import *\r\n",
    "from Dictionaries import *\r\n",
    "from PulseFiles import *\r\n",
    "from Instrument import *\r\n",
    "import pyqtgraph as pg \r\n",
    "import nidaqmx\r\n",
    "import pickle"
   ],
   "outputs": [],
   "metadata": {}
  },
  {
   "cell_type": "markdown",
   "source": [
    "# 1 nano"
   ],
   "metadata": {}
  },
  {
   "cell_type": "code",
   "execution_count": 7,
   "source": [
    "Adj9(189,80000)"
   ],
   "outputs": [
    {
     "output_type": "execute_result",
     "data": {
      "text/plain": [
       "(240, 7257600000, 3.306878306878307e-08)"
      ]
     },
     "metadata": {},
     "execution_count": 7
    }
   ],
   "metadata": {}
  },
  {
   "cell_type": "code",
   "execution_count": null,
   "source": [
    "9072000000"
   ],
   "outputs": [],
   "metadata": {}
  },
  {
   "cell_type": "code",
   "execution_count": null,
   "source": [
    "18144000000"
   ],
   "outputs": [],
   "metadata": {}
  },
  {
   "cell_type": "code",
   "execution_count": null,
   "source": [
    "sam_mili = int(126500000*5.35e-3)\r\n",
    "sam_mili"
   ],
   "outputs": [
    {
     "output_type": "display_data",
     "data": {
      "text/plain": [
       "676775"
      ]
     },
     "metadata": {}
    }
   ],
   "metadata": {}
  },
  {
   "cell_type": "code",
   "execution_count": null,
   "source": [
    "modulation = 100 #Hz \r\n",
    "comp_time = 1/modulation\r\n",
    "cycle_time = comp_time/2\r\n",
    "cycle_time"
   ],
   "outputs": [
    {
     "output_type": "display_data",
     "data": {
      "text/plain": [
       "0.005376344086021506"
      ]
     },
     "metadata": {}
    }
   ],
   "metadata": {}
  },
  {
   "cell_type": "code",
   "execution_count": 57,
   "source": [
    "modulation = 189 #Hz \r\n",
    "comp_time = 1/modulation\r\n",
    "cycle_time = comp_time/2\r\n",
    "cycle_time"
   ],
   "outputs": [
    {
     "output_type": "execute_result",
     "data": {
      "text/plain": [
       "0.0026455026455026454"
      ]
     },
     "metadata": {},
     "execution_count": 57
    }
   ],
   "metadata": {}
  },
  {
   "cell_type": "code",
   "execution_count": 50,
   "source": [
    "loop_number = 20000\r\n",
    "tiled_cycle = cycle_time/loop_number\r\n",
    "tiled_cycle"
   ],
   "outputs": [
    {
     "output_type": "execute_result",
     "data": {
      "text/plain": [
       "1.3227513227513228e-07"
      ]
     },
     "metadata": {},
     "execution_count": 50
    }
   ],
   "metadata": {}
  },
  {
   "cell_type": "code",
   "execution_count": 51,
   "source": [
    "interval = tiled_cycle*1e9\r\n",
    "interval"
   ],
   "outputs": [
    {
     "output_type": "execute_result",
     "data": {
      "text/plain": [
       "132.27513227513228"
      ]
     },
     "metadata": {},
     "execution_count": 51
    }
   ],
   "metadata": {}
  },
  {
   "cell_type": "code",
   "execution_count": 52,
   "source": [
    "samples = int(7500000000 *tiled_cycle )\r\n",
    "samples"
   ],
   "outputs": [
    {
     "output_type": "execute_result",
     "data": {
      "text/plain": [
       "992"
      ]
     },
     "metadata": {},
     "execution_count": 52
    }
   ],
   "metadata": {}
  },
  {
   "cell_type": "code",
   "execution_count": 53,
   "source": [
    "samples/48"
   ],
   "outputs": [
    {
     "output_type": "execute_result",
     "data": {
      "text/plain": [
       "20.666666666666668"
      ]
     },
     "metadata": {},
     "execution_count": 53
    }
   ],
   "metadata": {}
  },
  {
   "cell_type": "code",
   "execution_count": 54,
   "source": [
    "sam = Granularity(samples)\r\n",
    "sam"
   ],
   "outputs": [
    {
     "output_type": "execute_result",
     "data": {
      "text/plain": [
       "1008"
      ]
     },
     "metadata": {},
     "execution_count": 54
    }
   ],
   "metadata": {
    "scrolled": true
   }
  },
  {
   "cell_type": "code",
   "execution_count": 55,
   "source": [
    "adjusted_sr = int(sam/tiled_cycle)"
   ],
   "outputs": [],
   "metadata": {}
  },
  {
   "cell_type": "code",
   "execution_count": 56,
   "source": [
    "adjusted_sr"
   ],
   "outputs": [
    {
     "output_type": "execute_result",
     "data": {
      "text/plain": [
       "7620480000"
      ]
     },
     "metadata": {},
     "execution_count": 56
    }
   ],
   "metadata": {}
  },
  {
   "cell_type": "code",
   "execution_count": null,
   "source": [
    "7620480000"
   ],
   "outputs": [],
   "metadata": {}
  },
  {
   "cell_type": "code",
   "execution_count": null,
   "source": [],
   "outputs": [],
   "metadata": {}
  },
  {
   "cell_type": "code",
   "execution_count": 15,
   "source": [
    "samples/48"
   ],
   "outputs": [
    {
     "output_type": "execute_result",
     "data": {
      "text/plain": [
       "1.6666666666666667"
      ]
     },
     "metadata": {},
     "execution_count": 15
    }
   ],
   "metadata": {}
  },
  {
   "cell_type": "code",
   "execution_count": null,
   "source": [
    "modulation = 90 #Hz \r\n",
    "comp_time = 1/modulation\r\n",
    "cycle_time = comp_time/2\r\n",
    "cycle_time #seconds"
   ],
   "outputs": [
    {
     "output_type": "display_data",
     "data": {
      "text/plain": [
       "0.005555555555555556"
      ]
     },
     "metadata": {}
    }
   ],
   "metadata": {}
  },
  {
   "cell_type": "markdown",
   "source": [
    "T list values"
   ],
   "metadata": {}
  },
  {
   "cell_type": "code",
   "execution_count": null,
   "source": [
    "Sr = 6048000000\r\n",
    "sam = 336\r\n",
    "\r\n",
    "tim = sam/Sr"
   ],
   "outputs": [],
   "metadata": {}
  },
  {
   "cell_type": "code",
   "execution_count": null,
   "source": [
    "tim"
   ],
   "outputs": [
    {
     "output_type": "display_data",
     "data": {
      "text/plain": [
       "5.5555555555555555e-08"
      ]
     },
     "metadata": {}
    }
   ],
   "metadata": {}
  },
  {
   "cell_type": "code",
   "execution_count": null,
   "source": [
    "interval = tim*1e9 #nano"
   ],
   "outputs": [],
   "metadata": {}
  },
  {
   "cell_type": "code",
   "execution_count": null,
   "source": [
    "interval"
   ],
   "outputs": [
    {
     "output_type": "display_data",
     "data": {
      "text/plain": [
       "55.55555555555556"
      ]
     },
     "metadata": {}
    }
   ],
   "metadata": {}
  },
  {
   "cell_type": "markdown",
   "source": [
    "3 times appart"
   ],
   "metadata": {}
  },
  {
   "cell_type": "code",
   "execution_count": 10,
   "source": [
    "modulation = 189 #Hz \r\n",
    "comp_time = 1/modulation\r\n",
    "loop_number = 220000\r\n",
    "part_cycle = comp_time / loop_number\r\n",
    "part_cycle"
   ],
   "outputs": [
    {
     "output_type": "execute_result",
     "data": {
      "text/plain": [
       "2.405002405002405e-08"
      ]
     },
     "metadata": {},
     "execution_count": 10
    }
   ],
   "metadata": {}
  },
  {
   "cell_type": "code",
   "execution_count": 9,
   "source": [
    "comp_time"
   ],
   "outputs": [
    {
     "output_type": "execute_result",
     "data": {
      "text/plain": [
       "0.005291005291005291"
      ]
     },
     "metadata": {},
     "execution_count": 9
    }
   ],
   "metadata": {}
  },
  {
   "cell_type": "code",
   "execution_count": 78,
   "source": [
    "full_cycle = 11e-3\r\n",
    "#loop_number = 110000\r\n",
    "#part_cycle = full_cycle / loop_number\r\n",
    "#part_cycle"
   ],
   "outputs": [],
   "metadata": {}
  },
  {
   "cell_type": "code",
   "execution_count": 134,
   "source": [
    "full_cycle = 11e-3\r\n",
    "loop_number = 220000\r\n",
    "part_cycle = full_cycle / loop_number\r\n",
    "part_cycle"
   ],
   "outputs": [
    {
     "output_type": "execute_result",
     "data": {
      "text/plain": [
       "5e-08"
      ]
     },
     "metadata": {},
     "execution_count": 134
    }
   ],
   "metadata": {}
  },
  {
   "cell_type": "code",
   "execution_count": 83,
   "source": [
    "interval = part_cycle *1e9\r\n",
    "interval"
   ],
   "outputs": [
    {
     "output_type": "execute_result",
     "data": {
      "text/plain": [
       "50.0"
      ]
     },
     "metadata": {},
     "execution_count": 83
    }
   ],
   "metadata": {}
  },
  {
   "cell_type": "code",
   "execution_count": 79,
   "source": [
    "interval = 50 #nano\r\n",
    "interval"
   ],
   "outputs": [
    {
     "output_type": "execute_result",
     "data": {
      "text/plain": [
       "50"
      ]
     },
     "metadata": {},
     "execution_count": 79
    }
   ],
   "metadata": {}
  },
  {
   "cell_type": "code",
   "execution_count": 164,
   "source": [
    "loop_number"
   ],
   "outputs": [
    {
     "output_type": "execute_result",
     "data": {
      "text/plain": [
       "110000"
      ]
     },
     "metadata": {},
     "execution_count": 164
    }
   ],
   "metadata": {}
  },
  {
   "cell_type": "code",
   "execution_count": 31,
   "source": [
    "cycle_time = 11e-3\r\n",
    "comp_time = cycle_time * 2\r\n",
    "mod = 1/comp_time\r\n",
    "mod"
   ],
   "outputs": [
    {
     "output_type": "execute_result",
     "data": {
      "text/plain": [
       "45.45454545454546"
      ]
     },
     "metadata": {},
     "execution_count": 31
    }
   ],
   "metadata": {}
  },
  {
   "cell_type": "code",
   "execution_count": 163,
   "source": [
    "50*loop_number"
   ],
   "outputs": [
    {
     "output_type": "execute_result",
     "data": {
      "text/plain": [
       "5500000"
      ]
     },
     "metadata": {},
     "execution_count": 163
    }
   ],
   "metadata": {}
  },
  {
   "cell_type": "code",
   "execution_count": 80,
   "source": [
    "#Natterer data:\r\n",
    "interval = 50 #nano\r\n",
    "\r\n",
    "#mod and loop number\r\n",
    "\r\n",
    "loop_number = round(full_cycle / (interval *1e-9)) \r\n",
    "\r\n",
    "loop_number \r\n",
    "\r\n"
   ],
   "outputs": [
    {
     "output_type": "execute_result",
     "data": {
      "text/plain": [
       "220000"
      ]
     },
     "metadata": {},
     "execution_count": 80
    }
   ],
   "metadata": {}
  },
  {
   "cell_type": "code",
   "execution_count": 81,
   "source": [
    "loop_number"
   ],
   "outputs": [
    {
     "output_type": "execute_result",
     "data": {
      "text/plain": [
       "220000"
      ]
     },
     "metadata": {},
     "execution_count": 81
    }
   ],
   "metadata": {}
  },
  {
   "cell_type": "code",
   "execution_count": 135,
   "source": [
    "samples = int(6720000000 *5e-08)\r\n",
    "samples"
   ],
   "outputs": [
    {
     "output_type": "execute_result",
     "data": {
      "text/plain": [
       "336"
      ]
     },
     "metadata": {},
     "execution_count": 135
    }
   ],
   "metadata": {}
  },
  {
   "cell_type": "code",
   "execution_count": 136,
   "source": [
    "samples/48"
   ],
   "outputs": [
    {
     "output_type": "execute_result",
     "data": {
      "text/plain": [
       "7.0"
      ]
     },
     "metadata": {},
     "execution_count": 136
    }
   ],
   "metadata": {}
  },
  {
   "cell_type": "code",
   "execution_count": 133,
   "source": [
    "sam = Granularity(samples)\r\n",
    "sam"
   ],
   "outputs": [
    {
     "output_type": "execute_result",
     "data": {
      "text/plain": [
       "336"
      ]
     },
     "metadata": {},
     "execution_count": 133
    }
   ],
   "metadata": {
    "scrolled": true
   }
  },
  {
   "cell_type": "code",
   "execution_count": 137,
   "source": [
    "adjusted_sr = int(sam/part_cycle)"
   ],
   "outputs": [],
   "metadata": {}
  },
  {
   "cell_type": "code",
   "execution_count": 138,
   "source": [
    "adjusted_sr"
   ],
   "outputs": [
    {
     "output_type": "execute_result",
     "data": {
      "text/plain": [
       "6720000000"
      ]
     },
     "metadata": {},
     "execution_count": 138
    }
   ],
   "metadata": {}
  },
  {
   "cell_type": "code",
   "execution_count": 139,
   "source": [
    "6720000000"
   ],
   "outputs": [
    {
     "output_type": "execute_result",
     "data": {
      "text/plain": [
       "6720000000"
      ]
     },
     "metadata": {},
     "execution_count": 139
    }
   ],
   "metadata": {}
  },
  {
   "cell_type": "markdown",
   "source": [
    "# AWG and Pulse files setup"
   ],
   "metadata": {}
  },
  {
   "cell_type": "code",
   "execution_count": 11,
   "source": [
    "AWG_Settings_1nano= {\r\n",
    "    'Visa Resource Name': 'TCPIP0::ibn3-036.ibn-net.kfa-juelich.de::hislip0::INSTR',\r\n",
    "    'Voltage Amplitude':700,\r\n",
    "    'Clock Sample Frecuency':6720000000,\r\n",
    "    'Output_Channel': 1,\r\n",
    "    'Mode': 'STS',\r\n",
    "    'Trigger In Threshold' : 1,\r\n",
    "    'Output Rout': 'DC', #DAC output rout only has the BNC outputs: Direct Out and (Averaged) Direct Out # DC\r\n",
    "    'Data Directory': r'D:\\Alejandro\\Pulses\\diode measurements\\Prepared Pulse Schemes CSV\\50,20\\1nano'\r\n",
    "}"
   ],
   "outputs": [],
   "metadata": {}
  },
  {
   "cell_type": "code",
   "execution_count": 12,
   "source": [
    "M8190A = VisaR(AWG_Settings_1nano,60000)"
   ],
   "outputs": [],
   "metadata": {}
  },
  {
   "cell_type": "code",
   "execution_count": 4,
   "source": [
    "Initialization(M8190A,AWG_Settings_1nano)"
   ],
   "outputs": [
    {
     "output_type": "stream",
     "name": "stdout",
     "text": [
      "Instruments Sampling Frecuency set to 6.24000000000000E+09Hz\n",
      "Instruments Direct Out DC Output route Voltage set to 6.75000000000000E-01Volts\n",
      "AWG_Settings_Dict set to TRIGGERED Mode\n",
      "Trigger In threshold value set to 1.00000000000000E+00V\n"
     ]
    }
   ],
   "metadata": {}
  },
  {
   "cell_type": "code",
   "execution_count": 61,
   "source": [
    "M8190A.write('FREQ:RAST 7620480000')"
   ],
   "outputs": [
    {
     "output_type": "execute_result",
     "data": {
      "text/plain": [
       "21"
      ]
     },
     "metadata": {},
     "execution_count": 61
    }
   ],
   "metadata": {}
  },
  {
   "cell_type": "code",
   "execution_count": 3,
   "source": [
    "Pump_1nano = {\r\n",
    "    'Name':'Pump_1nano',\r\n",
    "    'Amplitude': 2*150,\r\n",
    "    'Start time':20,\r\n",
    "    'End time':2e-10,\r\n",
    "    'Start Duration':5,\r\n",
    "    'End Duration':60,\r\n",
    "    'Sweep time':0,\r\n",
    "    'Sweep Duration':0\r\n",
    "}"
   ],
   "outputs": [],
   "metadata": {}
  },
  {
   "cell_type": "code",
   "execution_count": 4,
   "source": [
    "ProbeA_1nano = {\r\n",
    "    'Name':'ProbeA_1nano',\r\n",
    "    'Amplitude':2*50,\r\n",
    "    'Start time':0, #15, 10 #5\r\n",
    "    'End time':40, #35 45 #45\r\n",
    "    'Start Duration':5,\r\n",
    "    'End Duration':60,\r\n",
    "    'Sweep time':1,\r\n",
    "    'Sweep Duration':0\r\n",
    "}"
   ],
   "outputs": [],
   "metadata": {}
  },
  {
   "cell_type": "code",
   "execution_count": 5,
   "source": [
    "ProbeB_1nano= {\r\n",
    "    'Name':'ProbeB_1nano',\r\n",
    "    'Amplitude':-2*50,\r\n",
    "    'Start time':0, #15, 10\r\n",
    "    'End time':40, #35 45\r\n",
    "    'Start Duration':5,\r\n",
    "    'End Duration':6,\r\n",
    "    'Sweep time':1,\r\n",
    "    'Sweep Duration':0\r\n",
    "}"
   ],
   "outputs": [],
   "metadata": {}
  },
  {
   "cell_type": "code",
   "execution_count": 6,
   "source": [
    "PulseScheme_A_1nano =  {\r\n",
    "    'Name' : 'PulseScheme_A_1nano',\r\n",
    "    'Pulse Scheme': [Pump_1nano,ProbeA_1nano],\r\n",
    "    'Number of repetitions': 1,\r\n",
    "    'Measurement file Path': r'D:\\Alejandro\\Pulses\\diode measurements\\Autocorrelation measurements\\50,20\\1nano'\r\n",
    "}"
   ],
   "outputs": [],
   "metadata": {}
  },
  {
   "cell_type": "code",
   "execution_count": 7,
   "source": [
    "PulseScheme_B_1nano =  {\r\n",
    "    'Name' : 'PulseScheme_B_1nano',\r\n",
    "    'Pulse Scheme': [Pump_1nano,ProbeB_1nano],\r\n",
    "    'Number of repetitions': 1,\r\n",
    "    'Measurement file Path': r'D:\\Alejandro\\Pulses\\diode measurements\\Autocorrelation measurements\\50,20\\1nano'\r\n",
    "}"
   ],
   "outputs": [],
   "metadata": {}
  },
  {
   "cell_type": "code",
   "execution_count": 90,
   "source": [
    "%matplotlib inline"
   ],
   "outputs": [],
   "metadata": {}
  },
  {
   "cell_type": "code",
   "execution_count": 91,
   "source": [
    "step = 0\r\n",
    "pul1 = Sweep_teil(PulseScheme_A_1nano,30,step,interval,sam)\r\n",
    "\r\n",
    "\r\n",
    "#Plot\r\n",
    "fig,ax= plt.subplots()\r\n",
    "ax.grid(True)\r\n",
    "\r\n",
    "plt.plot(pul1[1],pul1[0],label= '{b} samples'.format(b = sam),color='red')\r\n",
    "\r\n",
    "ax.set_ylabel('V  [mV]')\r\n",
    "ax.set_xlabel(r't [ns]')\r\n",
    "ax.set_title('Cycle A at step {a}'.format(a = step )) #Voltage Offset = 3mV, Marker Ampl = 50mV \r\n",
    "#ax.legend(loc=0)\r\n",
    "#plt.legend(bbox_to_anchor=(2.05, 1), loc='upper left', borderaxespad=0.)\r\n",
    "plt.show()\r\n",
    "\r\n",
    "#fig.savefig(r'{loc}\\Cycle A, Probe width 1nano {g} step.png'.format(g =  step, loc = PulseScheme_A_1nano['Measurement file Path']),bbox_inches='tight')"
   ],
   "outputs": [
    {
     "output_type": "display_data",
     "data": {
      "image/png": "[encoded data removed]",
      "text/plain": [
       "<Figure size 432x288 with 1 Axes>"
      ]
     },
     "metadata": {
      "needs_background": "light"
     }
    }
   ],
   "metadata": {}
  },
  {
   "cell_type": "code",
   "execution_count": 68,
   "source": [
    "step = 30\r\n",
    "pul1 = Sweep_teil(PulseScheme_A_1nano,30,step,interval,sam)\r\n",
    "\r\n",
    "\r\n",
    "#Plot\r\n",
    "fig,ax= plt.subplots()\r\n",
    "ax.grid(True)\r\n",
    "\r\n",
    "plt.plot(pul1[1],pul1[0],label= '{b} samples'.format(b = sam),color='red')\r\n",
    "\r\n",
    "ax.set_ylabel('V  [mV]')\r\n",
    "ax.set_xlabel(r't [ns]')\r\n",
    "ax.set_title('Cycle A at step {a}'.format(a = step )) #Voltage Offset = 3mV, Marker Ampl = 50mV \r\n",
    "#ax.legend(loc=0)\r\n",
    "#plt.legend(bbox_to_anchor=(2.05, 1), loc='upper left', borderaxespad=0.)\r\n",
    "plt.show()\r\n",
    "\r\n",
    "#fig.savefig(r'{loc}\\Cycle A, Probe width 1nano {g} step.png'.format(g =  step, loc = PulseScheme_A_1nano['Measurement file Path']),bbox_inches='tight')"
   ],
   "outputs": [
    {
     "output_type": "display_data",
     "data": {
      "image/png": "[encoded data removed]",
      "text/plain": [
       "<Figure size 432x288 with 1 Axes>"
      ]
     },
     "metadata": {
      "needs_background": "light"
     }
    }
   ],
   "metadata": {}
  },
  {
   "cell_type": "code",
   "execution_count": 69,
   "source": [
    "step = 0\r\n",
    "pul1 = Sweep_teil(PulseScheme_B_1nano,30,step,interval,samples)\r\n",
    "\r\n",
    "\r\n",
    "#Plot\r\n",
    "fig,ax= plt.subplots()\r\n",
    "ax.grid(True)\r\n",
    "\r\n",
    "plt.plot(pul1[1],pul1[0],label= '{b} samples'.format(b = sam),color='red')\r\n",
    "\r\n",
    "ax.set_ylabel('V  [mV]')\r\n",
    "ax.set_xlabel(r't [ns]')\r\n",
    "ax.set_title('Cycle B at step {a}'.format(a = step )) #Voltage Offset = 3mV, Marker Ampl = 50mV \r\n",
    "#ax.legend(loc=0)\r\n",
    "#plt.legend(bbox_to_anchor=(2.05, 1), loc='upper left', borderaxespad=0.)\r\n",
    "plt.show()\r\n",
    "\r\n",
    "#fig.savefig(r'{loc}\\Cycle B, Probe width 1nano.jpeg {g} step.png'.format(g =  step, loc = PulseScheme_A_1nano['Measurement file Path']),bbox_inches='tight')"
   ],
   "outputs": [
    {
     "output_type": "display_data",
     "data": {
      "image/png": "[encoded data removed]",
      "text/plain": [
       "<Figure size 432x288 with 1 Axes>"
      ]
     },
     "metadata": {
      "needs_background": "light"
     }
    }
   ],
   "metadata": {}
  },
  {
   "cell_type": "code",
   "execution_count": 70,
   "source": [
    "step = 30\r\n",
    "pul1 = Sweep_teil(PulseScheme_B_1nano,30,step,interval,sam)\r\n",
    "\r\n",
    "\r\n",
    "#Plot\r\n",
    "fig,ax= plt.subplots()\r\n",
    "ax.grid(True)\r\n",
    "\r\n",
    "plt.plot(pul1[1],pul1[0],label= '{b} samples'.format(b = sam),color='red')\r\n",
    "\r\n",
    "ax.set_ylabel('V  [mV]')\r\n",
    "ax.set_xlabel(r't [ns]')\r\n",
    "ax.set_title('Cycle A at step {a}'.format(a = step )) #Voltage Offset = 3mV, Marker Ampl = 50mV \r\n",
    "#ax.legend(loc=0)\r\n",
    "#plt.legend(bbox_to_anchor=(2.05, 1), loc='upper left', borderaxespad=0.)\r\n",
    "plt.show()\r\n",
    "\r\n",
    "#fig.savefig(r'{loc}\\Cycle B, Probe width 1nano {g} step.png'.format(g =  step, loc = PulseScheme_A_1nano['Measurement file Path']),bbox_inches='tight')"
   ],
   "outputs": [
    {
     "output_type": "display_data",
     "data": {
      "image/png": "[encoded data removed]",
      "text/plain": [
       "<Figure size 432x288 with 1 Axes>"
      ]
     },
     "metadata": {
      "needs_background": "light"
     }
    }
   ],
   "metadata": {}
  },
  {
   "cell_type": "code",
   "execution_count": 71,
   "source": [
    "interval"
   ],
   "outputs": [
    {
     "output_type": "execute_result",
     "data": {
      "text/plain": [
       "132.27513227513228"
      ]
     },
     "metadata": {},
     "execution_count": 71
    }
   ],
   "metadata": {}
  },
  {
   "cell_type": "code",
   "execution_count": 72,
   "source": [
    "sam"
   ],
   "outputs": [
    {
     "output_type": "execute_result",
     "data": {
      "text/plain": [
       "1008"
      ]
     },
     "metadata": {},
     "execution_count": 72
    }
   ],
   "metadata": {}
  },
  {
   "cell_type": "code",
   "execution_count": 92,
   "source": [
    "sweeping_run_a_1nano = Sweeping_Single_List_File_teil(PulseScheme_A_1nano,70,interval,sam,0,70,AWG_Settings_1nano,'A')[0]\r\n",
    "sweeping_run_b_1nano = Sweeping_Single_List_File_teil(PulseScheme_B_1nano,70,interval,sam,0,70,AWG_Settings_1nano,'B')[0]"
   ],
   "outputs": [],
   "metadata": {}
  },
  {
   "cell_type": "code",
   "execution_count": 213,
   "source": [],
   "outputs": [],
   "metadata": {}
  },
  {
   "cell_type": "code",
   "execution_count": 93,
   "source": [
    "#Exporting pickle\r\n",
    "\r\n",
    "with open(r\"{dict}\\cycleA_100steps_189Hz_1nano_70segment.p\".format(dict = PulseScheme_A_1nano['Measurement file Path']), \"wb\") as k:\r\n",
    "    pickle.dump(sweeping_run_a_1nano, k)\r\n",
    "\r\n",
    "\r\n",
    "with open(r\"{dict}\\cycleB_100steps_189Hz_1nano_70segment.p\".format(dict = PulseScheme_B_1nano['Measurement file Path']), \"wb\") as h:\r\n",
    "    pickle.dump(sweeping_run_b_1nano, h)"
   ],
   "outputs": [],
   "metadata": {}
  },
  {
   "cell_type": "code",
   "execution_count": 8,
   "source": [
    "#Importing Pickle spikes\r\n",
    "\r\n",
    "with open(r\"{dict}\\cycleA_100steps_189Hz_1nano_70segment.p\".format(dict = PulseScheme_A_1nano['Measurement file Path']), \"rb\") as j:\r\n",
    "    sweeping_runa_1nano = pickle.load(j)\r\n",
    "\r\n",
    "with open(r\"{dict}\\cycleB_100steps_189Hz_1nano_70segment.p\".format(dict = PulseScheme_A_1nano['Measurement file Path']), \"rb\") as f:\r\n",
    "    sweeping_runb_1nano= pickle.load(f)"
   ],
   "outputs": [],
   "metadata": {}
  },
  {
   "cell_type": "code",
   "execution_count": 14,
   "source": [
    "Sequence_File(M8190A,sweeping_runa_1nano['Pulse File Location, at step 70'],sweeping_runb_1nano['Pulse File Location, at step 70'],3)"
   ],
   "outputs": [
    {
     "output_type": "stream",
     "name": "stdout",
     "text": [
      "Sequence loaded with the following segment data \"1,3,0,1,0,1007,2,3,0,1,0,1007\" and the advancement method is COND\n"
     ]
    },
    {
     "output_type": "execute_result",
     "data": {
      "text/plain": [
       "4"
      ]
     },
     "metadata": {},
     "execution_count": 14
    }
   ],
   "metadata": {}
  },
  {
   "cell_type": "code",
   "execution_count": 41,
   "source": [
    "Sequence_File(M8190A,sweeping_runa_1nano['Pulse File Location, at step 70'],sweeping_runa_1nano['Pulse File Location, at step 70'],2)"
   ],
   "outputs": [
    {
     "output_type": "stream",
     "name": "stdout",
     "text": [
      "Sequence loaded with the following segment data \"1,2,0,1,0,623,2,2,0,1,0,623\" and the advancement method is COND\n"
     ]
    },
    {
     "output_type": "execute_result",
     "data": {
      "text/plain": [
       "2"
      ]
     },
     "metadata": {},
     "execution_count": 41
    }
   ],
   "metadata": {}
  },
  {
   "cell_type": "markdown",
   "source": [
    "# Loading"
   ],
   "metadata": {}
  },
  {
   "cell_type": "code",
   "execution_count": 94,
   "source": [
    "M8190A.write('SEQ:DEL:ALL')"
   ],
   "outputs": [
    {
     "output_type": "execute_result",
     "data": {
      "text/plain": [
       "12"
      ]
     },
     "metadata": {},
     "execution_count": 94
    }
   ],
   "metadata": {
    "scrolled": true
   }
  },
  {
   "cell_type": "code",
   "execution_count": 25,
   "source": [
    "Dummy_File(M8190A)"
   ],
   "outputs": [
    {
     "output_type": "stream",
     "name": "stdout",
     "text": [
      "Dummy File Loaded and playing\n",
      "Dummy File stopped and erased from AWGs memmory\n"
     ]
    }
   ],
   "metadata": {}
  },
  {
   "cell_type": "code",
   "execution_count": 77,
   "source": [
    "Lock_In_Settings = {\r\n",
    "'Time Constant' : '300ms',\r\n",
    "'Sensitivity' : '100 microVolts',\r\n",
    "'Reserve' : 'Normal',\r\n",
    "'db' : 24,\r\n",
    "'Modulation': '189Hz'\r\n",
    "}"
   ],
   "outputs": [],
   "metadata": {}
  },
  {
   "cell_type": "code",
   "execution_count": null,
   "source": [],
   "outputs": [],
   "metadata": {}
  },
  {
   "cell_type": "code",
   "execution_count": 76,
   "source": [
    "loop_number "
   ],
   "outputs": [
    {
     "output_type": "execute_result",
     "data": {
      "text/plain": [
       "20000"
      ]
     },
     "metadata": {},
     "execution_count": 76
    }
   ],
   "metadata": {}
  },
  {
   "cell_type": "code",
   "execution_count": 78,
   "source": [
    "playingtime = 30\r\n",
    "\r\n",
    "Diode_Signal, averaged_data = Voltage_Autocorrelation_loop5(M8190A,DAQ_Settings1,playingtime,sweeping_run_a_1nano,sweeping_run_b_1nano,PulseScheme_A_1nano['Measurement file Path'],Lock_In_Settings,loop_number)"
   ],
   "outputs": [
    {
     "output_type": "stream",
     "name": "stdout",
     "text": [
      "Sequence loaded with the following segment data \"1,20000,0,1,0,1007,2,20000,0,1,0,1007\" and the advancement method is COND\n",
      "Average Value for measurement at step 0 is 0.9986530050439223 V\n",
      "Sequence loaded with the following segment data \"1,20000,0,1,0,1007,2,20000,0,1,0,1007\" and the advancement method is COND\n",
      "Average Value for measurement at step 1 is 0.9986738427314298 V\n",
      "Sequence loaded with the following segment data \"1,20000,0,1,0,1007,2,20000,0,1,0,1007\" and the advancement method is COND\n",
      "Average Value for measurement at step 2 is 0.998659911474444 V\n",
      "Sequence loaded with the following segment data \"1,20000,0,1,0,1007,2,20000,0,1,0,1007\" and the advancement method is COND\n",
      "Average Value for measurement at step 3 is 0.9966021109074946 V\n",
      "Sequence loaded with the following segment data \"1,20000,0,1,0,1007,2,20000,0,1,0,1007\" and the advancement method is COND\n",
      "Average Value for measurement at step 4 is 0.9943948025677113 V\n",
      "Sequence loaded with the following segment data \"1,20000,0,1,0,1007,2,20000,0,1,0,1007\" and the advancement method is COND\n",
      "Average Value for measurement at step 5 is 0.9937108949348108 V\n",
      "Sequence loaded with the following segment data \"1,20000,0,1,0,1007,2,20000,0,1,0,1007\" and the advancement method is COND\n",
      "Average Value for measurement at step 6 is 0.9932177626445561 V\n",
      "Sequence loaded with the following segment data \"1,20000,0,1,0,1007,2,20000,0,1,0,1007\" and the advancement method is COND\n",
      "Average Value for measurement at step 7 is 0.9931716408441846 V\n",
      "Sequence loaded with the following segment data \"1,20000,0,1,0,1007,2,20000,0,1,0,1007\" and the advancement method is COND\n",
      "Average Value for measurement at step 8 is 0.9931319650455832 V\n",
      "Sequence loaded with the following segment data \"1,20000,0,1,0,1007,2,20000,0,1,0,1007\" and the advancement method is COND\n",
      "Average Value for measurement at step 9 is 0.9931256900601982 V\n",
      "Sequence loaded with the following segment data \"1,20000,0,1,0,1007,2,20000,0,1,0,1007\" and the advancement method is COND\n",
      "Average Value for measurement at step 10 is 0.9930933021901207 V\n",
      "Sequence loaded with the following segment data \"1,20000,0,1,0,1007,2,20000,0,1,0,1007\" and the advancement method is COND\n",
      "Average Value for measurement at step 11 is 0.9930880533029743 V\n",
      "Sequence loaded with the following segment data \"1,20000,0,1,0,1007,2,20000,0,1,0,1007\" and the advancement method is COND\n",
      "Average Value for measurement at step 12 is 0.9930624403123036 V\n",
      "Sequence loaded with the following segment data \"1,20000,0,1,0,1007,2,20000,0,1,0,1007\" and the advancement method is COND\n",
      "Average Value for measurement at step 13 is 0.9930677286647659 V\n",
      "Sequence loaded with the following segment data \"1,20000,0,1,0,1007,2,20000,0,1,0,1007\" and the advancement method is COND\n",
      "Average Value for measurement at step 14 is 0.9931331095397772 V\n",
      "Sequence loaded with the following segment data \"1,20000,0,1,0,1007,2,20000,0,1,0,1007\" and the advancement method is COND\n",
      "Average Value for measurement at step 15 is 0.9931600248859086 V\n",
      "Sequence loaded with the following segment data \"1,20000,0,1,0,1007,2,20000,0,1,0,1007\" and the advancement method is COND\n",
      "Average Value for measurement at step 16 is 0.9931785209644352 V\n",
      "Sequence loaded with the following segment data \"1,20000,0,1,0,1007,2,20000,0,1,0,1007\" and the advancement method is COND\n",
      "Average Value for measurement at step 17 is 1.0226928825443231 V\n",
      "Sequence loaded with the following segment data \"1,20000,0,1,0,1007,2,20000,0,1,0,1007\" and the advancement method is COND\n",
      "Average Value for measurement at step 18 is 0.9931777842785199 V\n",
      "Sequence loaded with the following segment data \"1,20000,0,1,0,1007,2,20000,0,1,0,1007\" and the advancement method is COND\n",
      "Average Value for measurement at step 19 is 0.9931716539992899 V\n",
      "Sequence loaded with the following segment data \"1,20000,0,1,0,1007,2,20000,0,1,0,1007\" and the advancement method is COND\n",
      "Average Value for measurement at step 20 is 0.9931574464852024 V\n",
      "Sequence loaded with the following segment data \"1,20000,0,1,0,1007,2,20000,0,1,0,1007\" and the advancement method is COND\n",
      "Average Value for measurement at step 21 is 0.9931394897660109 V\n",
      "Sequence loaded with the following segment data \"1,20000,0,1,0,1007,2,20000,0,1,0,1007\" and the advancement method is COND\n",
      "Average Value for measurement at step 22 is 0.9931495534218228 V\n",
      "Sequence loaded with the following segment data \"1,20000,0,1,0,1007,2,20000,0,1,0,1007\" and the advancement method is COND\n",
      "Average Value for measurement at step 23 is 0.9931469618660136 V\n",
      "Sequence loaded with the following segment data \"1,20000,0,1,0,1007,2,20000,0,1,0,1007\" and the advancement method is COND\n",
      "Average Value for measurement at step 24 is 0.9894800814230851 V\n",
      "Sequence loaded with the following segment data \"1,20000,0,1,0,1007,2,20000,0,1,0,1007\" and the advancement method is COND\n",
      "Average Value for measurement at step 25 is 0.9871671244557282 V\n",
      "Sequence loaded with the following segment data \"1,20000,0,1,0,1007,2,20000,0,1,0,1007\" and the advancement method is COND\n",
      "Average Value for measurement at step 26 is 0.9871322239608032 V\n",
      "Sequence loaded with the following segment data \"1,20000,0,1,0,1007,2,20000,0,1,0,1007\" and the advancement method is COND\n",
      "Average Value for measurement at step 27 is 0.9211872620487443 V\n",
      "Sequence loaded with the following segment data \"1,20000,0,1,0,1007,2,20000,0,1,0,1007\" and the advancement method is COND\n",
      "Average Value for measurement at step 28 is 0.836138769350356 V\n",
      "Sequence loaded with the following segment data \"1,20000,0,1,0,1007,2,20000,0,1,0,1007\" and the advancement method is COND\n",
      "Average Value for measurement at step 29 is 0.7322802169081776 V\n",
      "Sequence loaded with the following segment data \"1,20000,0,1,0,1007,2,20000,0,1,0,1007\" and the advancement method is COND\n",
      "Average Value for measurement at step 30 is 0.6488235674203823 V\n",
      "Sequence loaded with the following segment data \"1,20000,0,1,0,1007,2,20000,0,1,0,1007\" and the advancement method is COND\n",
      "Average Value for measurement at step 31 is 0.5636491613756187 V\n",
      "Sequence loaded with the following segment data \"1,20000,0,1,0,1007,2,20000,0,1,0,1007\" and the advancement method is COND\n",
      "Average Value for measurement at step 32 is 0.461412448165574 V\n",
      "Sequence loaded with the following segment data \"1,20000,0,1,0,1007,2,20000,0,1,0,1007\" and the advancement method is COND\n",
      "Average Value for measurement at step 33 is 0.38070244184320995 V\n",
      "Sequence loaded with the following segment data \"1,20000,0,1,0,1007,2,20000,0,1,0,1007\" and the advancement method is COND\n",
      "Average Value for measurement at step 34 is 0.29725239573382056 V\n",
      "Sequence loaded with the following segment data \"1,20000,0,1,0,1007,2,20000,0,1,0,1007\" and the advancement method is COND\n",
      "Average Value for measurement at step 35 is 0.20058881857549357 V\n",
      "Sequence loaded with the following segment data \"1,20000,0,1,0,1007,2,20000,0,1,0,1007\" and the advancement method is COND\n",
      "Average Value for measurement at step 36 is 0.27748902640805123 V\n",
      "Sequence loaded with the following segment data \"1,20000,0,1,0,1007,2,20000,0,1,0,1007\" and the advancement method is COND\n",
      "Average Value for measurement at step 37 is 0.3821296774796373 V\n",
      "Sequence loaded with the following segment data \"1,20000,0,1,0,1007,2,20000,0,1,0,1007\" and the advancement method is COND\n",
      "Average Value for measurement at step 38 is 0.4539459579947401 V\n",
      "Sequence loaded with the following segment data \"1,20000,0,1,0,1007,2,20000,0,1,0,1007\" and the advancement method is COND\n",
      "Average Value for measurement at step 39 is 0.533787446191847 V\n",
      "Sequence loaded with the following segment data \"1,20000,0,1,0,1007,2,20000,0,1,0,1007\" and the advancement method is COND\n",
      "Average Value for measurement at step 40 is 0.6357762220665912 V\n",
      "Sequence loaded with the following segment data \"1,20000,0,1,0,1007,2,20000,0,1,0,1007\" and the advancement method is COND\n",
      "Average Value for measurement at step 41 is 0.7175246934078667 V\n",
      "Sequence loaded with the following segment data \"1,20000,0,1,0,1007,2,20000,0,1,0,1007\" and the advancement method is COND\n",
      "Average Value for measurement at step 42 is 0.7983163380155859 V\n",
      "Sequence loaded with the following segment data \"1,20000,0,1,0,1007,2,20000,0,1,0,1007\" and the advancement method is COND\n",
      "Average Value for measurement at step 43 is 0.8964132678027524 V\n",
      "Sequence loaded with the following segment data \"1,20000,0,1,0,1007,2,20000,0,1,0,1007\" and the advancement method is COND\n",
      "Average Value for measurement at step 44 is 0.9626332083366153 V\n",
      "Sequence loaded with the following segment data \"1,20000,0,1,0,1007,2,20000,0,1,0,1007\" and the advancement method is COND\n",
      "Average Value for measurement at step 45 is 0.9664852072672598 V\n",
      "Sequence loaded with the following segment data \"1,20000,0,1,0,1007,2,20000,0,1,0,1007\" and the advancement method is COND\n",
      "Average Value for measurement at step 46 is 0.9699814000878243 V\n",
      "Sequence loaded with the following segment data \"1,20000,0,1,0,1007,2,20000,0,1,0,1007\" and the advancement method is COND\n",
      "Average Value for measurement at step 47 is 0.9739780262878049 V\n",
      "Sequence loaded with the following segment data \"1,20000,0,1,0,1007,2,20000,0,1,0,1007\" and the advancement method is COND\n",
      "Average Value for measurement at step 48 is 0.9757683703378723 V\n",
      "Sequence loaded with the following segment data \"1,20000,0,1,0,1007,2,20000,0,1,0,1007\" and the advancement method is COND\n",
      "Average Value for measurement at step 49 is 0.9800670641034653 V\n",
      "Sequence loaded with the following segment data \"1,20000,0,1,0,1007,2,20000,0,1,0,1007\" and the advancement method is COND\n",
      "Average Value for measurement at step 50 is 0.980977568411869 V\n",
      "Sequence loaded with the following segment data \"1,20000,0,1,0,1007,2,20000,0,1,0,1007\" and the advancement method is COND\n",
      "Average Value for measurement at step 51 is 0.9812025996444872 V\n",
      "Sequence loaded with the following segment data \"1,20000,0,1,0,1007,2,20000,0,1,0,1007\" and the advancement method is COND\n",
      "Average Value for measurement at step 52 is 0.9812031916242319 V\n",
      "Sequence loaded with the following segment data \"1,20000,0,1,0,1007,2,20000,0,1,0,1007\" and the advancement method is COND\n",
      "Average Value for measurement at step 53 is 0.9812022444566422 V\n",
      "Sequence loaded with the following segment data \"1,20000,0,1,0,1007,2,20000,0,1,0,1007\" and the advancement method is COND\n",
      "Average Value for measurement at step 54 is 0.9811451249890493 V\n",
      "Sequence loaded with the following segment data \"1,20000,0,1,0,1007,2,20000,0,1,0,1007\" and the advancement method is COND\n",
      "Average Value for measurement at step 55 is 0.981092583498131 V\n",
      "Sequence loaded with the following segment data \"1,20000,0,1,0,1007,2,20000,0,1,0,1007\" and the advancement method is COND\n",
      "Average Value for measurement at step 56 is 0.9820057846055174 V\n",
      "Sequence loaded with the following segment data \"1,20000,0,1,0,1007,2,20000,0,1,0,1007\" and the advancement method is COND\n",
      "Average Value for measurement at step 57 is 1.0096026442557475 V\n",
      "Sequence loaded with the following segment data \"1,20000,0,1,0,1007,2,20000,0,1,0,1007\" and the advancement method is COND\n",
      "Average Value for measurement at step 58 is 0.9854216919036433 V\n",
      "Sequence loaded with the following segment data \"1,20000,0,1,0,1007,2,20000,0,1,0,1007\" and the advancement method is COND\n",
      "Average Value for measurement at step 59 is 0.9855118964619068 V\n",
      "Sequence loaded with the following segment data \"1,20000,0,1,0,1007,2,20000,0,1,0,1007\" and the advancement method is COND\n",
      "Average Value for measurement at step 60 is 0.9864707852562399 V\n",
      "Sequence loaded with the following segment data \"1,20000,0,1,0,1007,2,20000,0,1,0,1007\" and the advancement method is COND\n",
      "Average Value for measurement at step 61 is 0.9869749941397649 V\n",
      "Sequence loaded with the following segment data \"1,20000,0,1,0,1007,2,20000,0,1,0,1007\" and the advancement method is COND\n",
      "Average Value for measurement at step 62 is 0.9870357970374108 V\n",
      "Sequence loaded with the following segment data \"1,20000,0,1,0,1007,2,20000,0,1,0,1007\" and the advancement method is COND\n",
      "Average Value for measurement at step 63 is 0.987049517812455 V\n",
      "Sequence loaded with the following segment data \"1,20000,0,1,0,1007,2,20000,0,1,0,1007\" and the advancement method is COND\n",
      "Average Value for measurement at step 64 is 0.9869919510707489 V\n",
      "Sequence loaded with the following segment data \"1,20000,0,1,0,1007,2,20000,0,1,0,1007\" and the advancement method is COND\n",
      "Average Value for measurement at step 65 is 0.9870218526255694 V\n",
      "Sequence loaded with the following segment data \"1,20000,0,1,0,1007,2,20000,0,1,0,1007\" and the advancement method is COND\n",
      "Average Value for measurement at step 66 is 0.9870632517426101 V\n",
      "Sequence loaded with the following segment data \"1,20000,0,1,0,1007,2,20000,0,1,0,1007\" and the advancement method is COND\n",
      "Average Value for measurement at step 67 is 0.987066461588353 V\n",
      "Sequence loaded with the following segment data \"1,20000,0,1,0,1007,2,20000,0,1,0,1007\" and the advancement method is COND\n",
      "Average Value for measurement at step 68 is 0.9870730391411071 V\n",
      "Sequence loaded with the following segment data \"1,20000,0,1,0,1007,2,20000,0,1,0,1007\" and the advancement method is COND\n",
      "Average Value for measurement at step 69 is 0.9870669614823634 V\n",
      "Sequence loaded with the following segment data \"1,20000,0,1,0,1007,2,20000,0,1,0,1007\" and the advancement method is COND\n",
      "Average Value for measurement at step 70 is 0.9871191346308186 V\n"
     ]
    }
   ],
   "metadata": {}
  },
  {
   "cell_type": "code",
   "execution_count": 79,
   "source": [
    "fig,ax= plt.subplots()\r\n",
    "ax.grid(True)\r\n",
    "for i in range(0,len(Diode_Signal)):\r\n",
    "    plt.plot(Diode_Signal[i][1],Diode_Signal[i][0],label= 'Step {st}'.format(st = i ))\r\n",
    "\r\n",
    "ax.set_ylabel(r'V  [V]')\r\n",
    "ax.set_xlabel('t  [s]')\r\n",
    "ax.set_title(r' Diode Signal at Different Steps,  {b} Samples, 5ns pulse duration'.format(b = len(Diode_Signal[0][1]) ))\r\n",
    "#ax.legend(bbox_to_anchor=(1.05, 1), loc='upper left', borderaxespad=0.)\r\n",
    "#ax.legend(loc=0)\r\n",
    "plt.show()\r\n",
    "\r\n",
    "fig.savefig(r'{loc}\\Diode Signal time cstant = {a}, sensitivity {b},{c} daqseconds, , probe duration 1 nano,31 steps, no legend, .jpeg'.format(loc = PulseScheme_A_1nano['Measurement file Path'],a = Lock_In_Settings['Time Constant'], b = Lock_In_Settings['Sensitivity'], c = playingtime),bbox_inches='tight')"
   ],
   "outputs": [
    {
     "output_type": "display_data",
     "data": {
      "image/png": "[encoded data removed]",
      "text/plain": [
       "<Figure size 432x288 with 1 Axes>"
      ]
     },
     "metadata": {
      "needs_background": "light"
     }
    }
   ],
   "metadata": {}
  },
  {
   "cell_type": "code",
   "execution_count": 80,
   "source": [
    "time_delay = np.linspace(-20,20,71)"
   ],
   "outputs": [],
   "metadata": {}
  },
  {
   "cell_type": "code",
   "execution_count": 66,
   "source": [
    "%matplotlib widget"
   ],
   "outputs": [],
   "metadata": {}
  },
  {
   "cell_type": "code",
   "execution_count": 84,
   "source": [
    "fig,axes = plt.subplots()\r\n",
    "\r\n",
    "axes.grid(True)\r\n",
    "\r\n",
    "plt.plot(time_delay,averaged_data,'.',label=r'5 ns Probe Width ',color='brown')\r\n",
    "#plt.plot(tm,pul,label = '{a} samples'.format(a = len(pul)))\r\n",
    "\r\n",
    "axes.set_xlabel(r'time delay [ns]')\r\n",
    "axes.set_ylabel(r'Diode Signal [V]')\r\n",
    "axes.set_title('Auto-Correlation 71 steps ')\r\n",
    "\r\n",
    "axes.legend(loc = 0)\r\n",
    "plt.show()\r\n",
    "\r\n",
    "fig.savefig(r'{loc}\\Autocorrelation function 71 steps probes  length tc = {a}, sens {b}, {c}s DAQ points .jpeg'.format(loc = PulseScheme_A_1nano['Measurement file Path'],a = Lock_In_Settings['Time Constant'], b = Lock_In_Settings['Sensitivity'], c = playingtime ))"
   ],
   "outputs": [
    {
     "output_type": "display_data",
     "data": {
      "image/png": "[encoded data removed]",
      "text/plain": [
       "<Figure size 432x288 with 1 Axes>"
      ]
     },
     "metadata": {
      "needs_background": "light"
     }
    }
   ],
   "metadata": {}
  },
  {
   "cell_type": "code",
   "execution_count": 82,
   "source": [
    "1/189"
   ],
   "outputs": [
    {
     "output_type": "execute_result",
     "data": {
      "text/plain": [
       "0.005291005291005291"
      ]
     },
     "metadata": {},
     "execution_count": 82
    }
   ],
   "metadata": {}
  },
  {
   "cell_type": "code",
   "execution_count": 83,
   "source": [
    "_ *1e3"
   ],
   "outputs": [
    {
     "output_type": "execute_result",
     "data": {
      "text/plain": [
       "5.291005291005291"
      ]
     },
     "metadata": {},
     "execution_count": 83
    }
   ],
   "metadata": {}
  },
  {
   "cell_type": "code",
   "execution_count": null,
   "source": [
    "averaged_data = loadtxt(r'{loc}\\averaged signal_31steps_30sdaqtime_45_45Hz_300ms_100 microVolts.csv'.format(loc  = PulseScheme_A_1nano['Measurement file Path'] ), delimiter= ',')"
   ],
   "outputs": [],
   "metadata": {}
  },
  {
   "cell_type": "code",
   "execution_count": 80,
   "source": [
    "mod_n = 887 #Hz\r\n",
    "\r\n",
    "1/mod_n"
   ],
   "outputs": [
    {
     "output_type": "execute_result",
     "data": {
      "text/plain": [
       "0.0011273957158962795"
      ]
     },
     "metadata": {},
     "execution_count": 80
    }
   ],
   "metadata": {}
  },
  {
   "cell_type": "code",
   "execution_count": 73,
   "source": [
    "resolution = 1/6720000000\r\n",
    "\r\n",
    "resolution"
   ],
   "outputs": [
    {
     "output_type": "execute_result",
     "data": {
      "text/plain": [
       "1.488095238095238e-10"
      ]
     },
     "metadata": {},
     "execution_count": 73
    }
   ],
   "metadata": {}
  },
  {
   "cell_type": "code",
   "execution_count": 116,
   "source": [
    "40e-9/resolution\r\n",
    "\r\n",
    "#number of sweeping steps\r\n",
    "#500 mods"
   ],
   "outputs": [
    {
     "output_type": "execute_result",
     "data": {
      "text/plain": [
       "268.8"
      ]
     },
     "metadata": {},
     "execution_count": 116
    }
   ],
   "metadata": {}
  },
  {
   "cell_type": "code",
   "execution_count": 106,
   "source": [
    "def Voltage_Autocorrelation_loop5(instrument,DAQ_settings,playingtime,fileA,fileB,location,Lock_In,loop):\r\n",
    "    \r\n",
    "    \"\"\" This function loads a sweeping sequence into the AWG, plays it and triggers it with the DAQ, while also storing the DAQ values as csv files.\r\n",
    "      \r\n",
    "        Sequences are formed within the AWG by combining the csv files at the same step in fileA and fileB\r\n",
    "\r\n",
    "        instrument = object class given by Pyvisa API of the current connected device\r\n",
    "        DAQ_Settings = Dictionary, with the settings of the DAQ box\r\n",
    "        playingtime = int, total data collection time of the DAQ, given in seconds, maximum is 180s (given by the timeout time in the DAQ_Measuring function)\r\n",
    "        fileA = dictionary, with the file paths of the csv files to be loaded into the awg as first part of the sequence\r\n",
    "        fileB = dictionary, with the file paths of the csv files to be loaded into the awg as second part of the sequence\r\n",
    "        location = strng, file path were the data is going to be saved\r\n",
    "        Lock_In = dictionary, the keys are the Lock In Amplifier settings used to address them in the file name\r\n",
    "        loop = int, number of repetitions that each waveform will repeat itself per cycle\r\n",
    "    \"\"\"\r\n",
    "    #empty arrays where the data will be stored\r\n",
    "    measurement_data = np.zeros((len(fileA),2),  dtype=object)\r\n",
    "    average = np.zeros((len(fileA)))\r\n",
    "\r\n",
    "    for i,j,k in zip(fileA, fileB,range(0,len(fileA))):\r\n",
    "        Sequence_File(instrument,fileA[i],fileB[j],loop)\r\n",
    "        measurement_data[k][0], measurement_data[k][1] = DAQ_Measuring(DAQ_settings,DAQ_settings['Sampling Frequency'],playingtime,instrument)\r\n",
    "        np.savetxt(r'{loc}\\diode_signal_step{stp}_{f}sdaqtime_{mod}_{tc}_{sens}.csv'.format(loc = location ,stp = k,f = playingtime, mod = Lock_In['Modulation'] ,tc = Lock_In['Time Constant'], sens = Lock_In['Sensitivity']), measurement_data[k][0], delimiter=',')\r\n",
    "        average[k] = np.average(measurement_data[k][0][5000:])\r\n",
    "        print('Average Value for measurement at step {step} is'.format(step = k),average[k],'V')\r\n",
    "        np.savetxt(r'{loc}\\averaged signal_31steps_{dur}sdaqtime_{mod}_{tc}_{sens}.csv'.format(loc =location,dur = playingtime,  mod = Lock_In['Modulation'] , tc = Lock_In['Time Constant'], sens = Lock_In['Sensitivity']),average,delimiter=',')\r\n",
    "        \r\n",
    "    return measurement_data, average\r\n"
   ],
   "outputs": [],
   "metadata": {}
  },
  {
   "cell_type": "code",
   "execution_count": null,
   "source": [
    "93 mod,\r\n",
    "71 sweeps\r\n",
    "1 unit sep\r\n",
    "\r\n",
    "measured waveforms"
   ],
   "outputs": [],
   "metadata": {}
  },
  {
   "cell_type": "markdown",
   "source": [
    "# "
   ],
   "metadata": {}
  }
 ],
 "metadata": {
  "orig_nbformat": 4,
  "language_info": {
   "name": "python",
   "version": "3.8.5",
   "mimetype": "text/x-python",
   "codemirror_mode": {
    "name": "ipython",
    "version": 3
   },
   "pygments_lexer": "ipython3",
   "nbconvert_exporter": "python",
   "file_extension": ".py"
  },
  "kernelspec": {
   "name": "python3",
   "display_name": "Python 3.8.5 64-bit ('base': conda)"
  },
  "interpreter": {
   "hash": "9a32f0bf53af15acd232504180dc0ef28b8a6ac1a49da0a6c374e1f45bb445b6"
  }
 },
 "nbformat": 4,
 "nbformat_minor": 2
}