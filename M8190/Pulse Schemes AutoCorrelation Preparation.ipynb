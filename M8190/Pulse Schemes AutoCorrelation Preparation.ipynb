{
    "cells": [
        {
            "cell_type": "code",
            "execution_count": 59,
            "source": [
                "%matplotlib widget "
            ],
            "outputs": [],
            "metadata": {}
        },
        {
            "cell_type": "code",
            "execution_count": 1,
            "source": [
                "import numpy as np\r\n",
                "from numpy import loadtxt\r\n",
                "import pandas as pd\r\n",
                "import time\r\n",
                "import matplotlib\r\n",
                "import matplotlib.pyplot as plt\r\n",
                "import pyvisa as visa\r\n",
                "from matplotlib import animation\r\n",
                "from time import sleep\r\n",
                "from matplotlib.animation import FuncAnimation\r\n",
                "#Importing the functions from the module and the pulses dictionaries\r\n",
                "from Sweeping import *\r\n",
                "from Dictionaries import *\r\n",
                "from PulseFiles import *\r\n",
                "from Instrument import *\r\n",
                "import pyqtgraph as pg \r\n",
                "import nidaqmx\r\n",
                "import pickle"
            ],
            "outputs": [],
            "metadata": {}
        },
        {
            "cell_type": "markdown",
            "source": [
                "# Instrument settings and CSV file path Dictionary"
            ],
            "metadata": {}
        },
        {
            "cell_type": "code",
            "execution_count": 19,
            "source": [
                "AWG_Settings= {\r\n",
                "    'Visa Resource Name': 'TCPIP0::ibn3-036.ibn-net.kfa-juelich.de::hislip0::INSTR',\r\n",
                "    'Voltage Amplitude':700,\r\n",
                "    'Clock Sample Frecuency':6000000000,\r\n",
                "    'Output_Channel': 1,\r\n",
                "    'Mode': 'STS',\r\n",
                "    'Trigger In Threshold' : 1,\r\n",
                "    'Output Rout': 'DAC', #DAC output rout only has the BNC outputs: Direct Out and (Averaged) Direct Out\r\n",
                "    'Data Directory': r'D:\\Alejandro\\Pulses\\diode measurements\\Prepared Pulse Schemes CSV\\1nano'\r\n",
                "}"
            ],
            "outputs": [],
            "metadata": {}
        },
        {
            "cell_type": "code",
            "execution_count": 118,
            "source": [
                "AWG_Settings"
            ],
            "outputs": [
                {
                    "output_type": "execute_result",
                    "data": {
                        "text/plain": [
                            "{'Visa Resource Name': 'TCPIP0::ibn3-036.ibn-net.kfa-juelich.de::hislip0::INSTR',\n",
                            " 'Voltage Amplitude': 700,\n",
                            " 'Clock Sample Frecuency': 6000000000,\n",
                            " 'Output_Channel': 1,\n",
                            " 'Mode': 'STS',\n",
                            " 'Trigger In Threshold': 1,\n",
                            " 'Output Rout': 'DAC',\n",
                            " 'Data Directory': 'D:\\\\Alejandro\\\\Pulses\\\\diode measurements\\\\Prepared Pulse Schemes CSV\\\\10nano'}"
                        ]
                    },
                    "metadata": {},
                    "execution_count": 118
                }
            ],
            "metadata": {}
        },
        {
            "cell_type": "code",
            "execution_count": 3,
            "source": [
                "M8190A = VisaR(AWG_Settings,60000)"
            ],
            "outputs": [],
            "metadata": {}
        },
        {
            "cell_type": "code",
            "execution_count": 16,
            "source": [
                "M8190A.query('SYST:ERR?')"
            ],
            "outputs": [
                {
                    "output_type": "execute_result",
                    "data": {
                        "text/plain": [
                            "'0,\"No error\"'"
                        ]
                    },
                    "metadata": {},
                    "execution_count": 16
                }
            ],
            "metadata": {}
        },
        {
            "cell_type": "code",
            "execution_count": 25,
            "source": [
                "Initialization(M8190A,AWG_Settings)"
            ],
            "outputs": [
                {
                    "output_type": "stream",
                    "name": "stdout",
                    "text": [
                        "Instruments Sampling Frecuency set to 6.00000000000000E+09Hz\n",
                        "Instruments Direct Out DAC Output route Voltage set to 7.00000000000000E-01Volts\n",
                        "AWG_Settings_Dict set to TRIGGERED Mode\n",
                        "Trigger In threshold value set to 1.00000000000000E+00V\n"
                    ]
                }
            ],
            "metadata": {}
        },
        {
            "cell_type": "code",
            "execution_count": 4,
            "source": [
                "M8190A.write('SEQ:DEL:ALL')"
            ],
            "outputs": [
                {
                    "output_type": "execute_result",
                    "data": {
                        "text/plain": [
                            "12"
                        ]
                    },
                    "metadata": {},
                    "execution_count": 4
                }
            ],
            "metadata": {}
        },
        {
            "cell_type": "markdown",
            "source": [
                "# Pulses Dictionaries"
            ],
            "metadata": {}
        },
        {
            "cell_type": "markdown",
            "source": [
                "## 1mili"
            ],
            "metadata": {}
        },
        {
            "cell_type": "code",
            "execution_count": 9,
            "source": [
                "Pump_1mili = {\r\n",
                "    'Name':'Pump_1mili',\r\n",
                "    'Amplitude':35,\r\n",
                "    'Start time':2,\r\n",
                "    'End time':2e-10,\r\n",
                "    'Start Duration':1,\r\n",
                "    'End Duration':60,\r\n",
                "    'Sweep time':0,\r\n",
                "    'Sweep Duration':0\r\n",
                "}"
            ],
            "outputs": [],
            "metadata": {}
        },
        {
            "cell_type": "code",
            "execution_count": 10,
            "source": [
                "ProbeA_1mili = {\r\n",
                "    'Name':'ProbeA_1mili',\r\n",
                "    'Amplitude':20,\r\n",
                "    'Start time':0,\r\n",
                "    'End time':4,\r\n",
                "    'Start Duration':1,\r\n",
                "    'End Duration':60,\r\n",
                "    'Sweep time':1,\r\n",
                "    'Sweep Duration':0\r\n",
                "}"
            ],
            "outputs": [],
            "metadata": {}
        },
        {
            "cell_type": "code",
            "execution_count": 11,
            "source": [
                "ProbeB_1mili= {\r\n",
                "    'Name':'ProbeB_1mili',\r\n",
                "    'Amplitude':0,\r\n",
                "    'Start time':0,\r\n",
                "    'End time':12,\r\n",
                "    'Start Duration':1,\r\n",
                "    'End Duration':6,\r\n",
                "    'Sweep time':0,\r\n",
                "    'Sweep Duration':0\r\n",
                "}"
            ],
            "outputs": [],
            "metadata": {}
        },
        {
            "cell_type": "code",
            "execution_count": 12,
            "source": [
                "PulseScheme_A_1mili =  {\r\n",
                "    'Name' : 'PulseScheme_A_1mili',\r\n",
                "    'Pulse Scheme': [Pump_1mili,ProbeA_1mili],\r\n",
                "    'Number of repetitions': 1,\r\n",
                "    'Measurement file Path': r'D:\\Alejandro\\Pulses\\diode measurements\\Autocorrelation measurements\\1mili'\r\n",
                "}"
            ],
            "outputs": [],
            "metadata": {}
        },
        {
            "cell_type": "code",
            "execution_count": 16,
            "source": [
                "PulseScheme_B_1mili  = {\r\n",
                "    'Name' : 'PulseScheme_B_1mili',\r\n",
                "    'Pulse Scheme': [ProbeB_1mili,ProbeB_1mili],\r\n",
                "    'Number of repetitions' : 1,\r\n",
                "    'Measurement file Path': r'D:\\Alejandro\\Pulses\\diode measurements\\Autocorrelation measurements\\1mili'\r\n",
                "}"
            ],
            "outputs": [],
            "metadata": {}
        },
        {
            "cell_type": "code",
            "execution_count": 19,
            "source": [
                "sweeping_run_a_1mili = Sweeping_Single_List_File_teil(PulseScheme_A_1mili,30,5,sam,0,30,AWG_Settings,'A')[0]"
            ],
            "outputs": [],
            "metadata": {}
        },
        {
            "cell_type": "code",
            "execution_count": 20,
            "source": [
                "sweeping_run_b_1mili = Sweeping_Single_List_File_teil(PulseScheme_B_1mili,30,5,sam,0,30,AWG_Settings,'B')[0]"
            ],
            "outputs": [],
            "metadata": {}
        },
        {
            "cell_type": "code",
            "execution_count": 21,
            "source": [
                "#Exporting pickle\r\n",
                "\r\n",
                "with open(r\"{dict}\\cycleA_31steps_5ms_1mili_6GHz.p\".format(dict = PulseScheme_A_1mili['Measurement file Path']), \"wb\") as k:\r\n",
                "    pickle.dump(sweeping_run_a_1mili, k)\r\n",
                "\r\n",
                "\r\n",
                "with open(r\"{dict}\\cycleB_31steps_5ms_1mili_6GHz.p\".format(dict = PulseScheme_A_1mili['Measurement file Path']), \"wb\") as h:\r\n",
                "    pickle.dump(sweeping_run_b_1mili, h)"
            ],
            "outputs": [],
            "metadata": {}
        },
        {
            "cell_type": "code",
            "execution_count": null,
            "source": [
                "#Importing Pickle\r\n",
                "\r\n",
                "with open(r\"{dict}\\cycleA_31steps_5ms_1mili_6GHz.p\".format(dict = PulseScheme_A_1mili['Measurement file Path']), \"rb\") as j:\r\n",
                "    sweeping_runa_1mili = pickle.load(j)\r\n",
                "\r\n",
                "with open(r\"{dict}\\cycleB_31steps_5ms_1mili_6GHz.p\".format(dict = PulseScheme_A_1mili['Measurement file Path']), \"rb\") as f:\r\n",
                "    sweeping_runb_1mili= pickle.load(f)"
            ],
            "outputs": [],
            "metadata": {}
        },
        {
            "cell_type": "code",
            "execution_count": 28,
            "source": [
                "sweeping_run_b_1mili"
            ],
            "outputs": [
                {
                    "output_type": "execute_result",
                    "data": {
                        "text/plain": [
                            "{'Pulse File Location, at step 0': 'D:\\\\Alejandro\\\\Pulses\\\\diode measurements\\\\Prepared Pulse Schemes CSV\\\\1mili\\\\SegmentB_30000000_0.csv',\n",
                            " 'Pulse File Location, at step 1': 'D:\\\\Alejandro\\\\Pulses\\\\diode measurements\\\\Prepared Pulse Schemes CSV\\\\1mili\\\\SegmentB_30000000_1.csv',\n",
                            " 'Pulse File Location, at step 2': 'D:\\\\Alejandro\\\\Pulses\\\\diode measurements\\\\Prepared Pulse Schemes CSV\\\\1mili\\\\SegmentB_30000000_2.csv',\n",
                            " 'Pulse File Location, at step 3': 'D:\\\\Alejandro\\\\Pulses\\\\diode measurements\\\\Prepared Pulse Schemes CSV\\\\1mili\\\\SegmentB_30000000_3.csv',\n",
                            " 'Pulse File Location, at step 4': 'D:\\\\Alejandro\\\\Pulses\\\\diode measurements\\\\Prepared Pulse Schemes CSV\\\\1mili\\\\SegmentB_30000000_4.csv',\n",
                            " 'Pulse File Location, at step 5': 'D:\\\\Alejandro\\\\Pulses\\\\diode measurements\\\\Prepared Pulse Schemes CSV\\\\1mili\\\\SegmentB_30000000_5.csv',\n",
                            " 'Pulse File Location, at step 6': 'D:\\\\Alejandro\\\\Pulses\\\\diode measurements\\\\Prepared Pulse Schemes CSV\\\\1mili\\\\SegmentB_30000000_6.csv',\n",
                            " 'Pulse File Location, at step 7': 'D:\\\\Alejandro\\\\Pulses\\\\diode measurements\\\\Prepared Pulse Schemes CSV\\\\1mili\\\\SegmentB_30000000_7.csv',\n",
                            " 'Pulse File Location, at step 8': 'D:\\\\Alejandro\\\\Pulses\\\\diode measurements\\\\Prepared Pulse Schemes CSV\\\\1mili\\\\SegmentB_30000000_8.csv',\n",
                            " 'Pulse File Location, at step 9': 'D:\\\\Alejandro\\\\Pulses\\\\diode measurements\\\\Prepared Pulse Schemes CSV\\\\1mili\\\\SegmentB_30000000_9.csv',\n",
                            " 'Pulse File Location, at step 10': 'D:\\\\Alejandro\\\\Pulses\\\\diode measurements\\\\Prepared Pulse Schemes CSV\\\\1mili\\\\SegmentB_30000000_10.csv',\n",
                            " 'Pulse File Location, at step 11': 'D:\\\\Alejandro\\\\Pulses\\\\diode measurements\\\\Prepared Pulse Schemes CSV\\\\1mili\\\\SegmentB_30000000_11.csv',\n",
                            " 'Pulse File Location, at step 12': 'D:\\\\Alejandro\\\\Pulses\\\\diode measurements\\\\Prepared Pulse Schemes CSV\\\\1mili\\\\SegmentB_30000000_12.csv',\n",
                            " 'Pulse File Location, at step 13': 'D:\\\\Alejandro\\\\Pulses\\\\diode measurements\\\\Prepared Pulse Schemes CSV\\\\1mili\\\\SegmentB_30000000_13.csv',\n",
                            " 'Pulse File Location, at step 14': 'D:\\\\Alejandro\\\\Pulses\\\\diode measurements\\\\Prepared Pulse Schemes CSV\\\\1mili\\\\SegmentB_30000000_14.csv',\n",
                            " 'Pulse File Location, at step 15': 'D:\\\\Alejandro\\\\Pulses\\\\diode measurements\\\\Prepared Pulse Schemes CSV\\\\1mili\\\\SegmentB_30000000_15.csv',\n",
                            " 'Pulse File Location, at step 16': 'D:\\\\Alejandro\\\\Pulses\\\\diode measurements\\\\Prepared Pulse Schemes CSV\\\\1mili\\\\SegmentB_30000000_16.csv',\n",
                            " 'Pulse File Location, at step 17': 'D:\\\\Alejandro\\\\Pulses\\\\diode measurements\\\\Prepared Pulse Schemes CSV\\\\1mili\\\\SegmentB_30000000_17.csv',\n",
                            " 'Pulse File Location, at step 18': 'D:\\\\Alejandro\\\\Pulses\\\\diode measurements\\\\Prepared Pulse Schemes CSV\\\\1mili\\\\SegmentB_30000000_18.csv',\n",
                            " 'Pulse File Location, at step 19': 'D:\\\\Alejandro\\\\Pulses\\\\diode measurements\\\\Prepared Pulse Schemes CSV\\\\1mili\\\\SegmentB_30000000_19.csv',\n",
                            " 'Pulse File Location, at step 20': 'D:\\\\Alejandro\\\\Pulses\\\\diode measurements\\\\Prepared Pulse Schemes CSV\\\\1mili\\\\SegmentB_30000000_20.csv',\n",
                            " 'Pulse File Location, at step 21': 'D:\\\\Alejandro\\\\Pulses\\\\diode measurements\\\\Prepared Pulse Schemes CSV\\\\1mili\\\\SegmentB_30000000_21.csv',\n",
                            " 'Pulse File Location, at step 22': 'D:\\\\Alejandro\\\\Pulses\\\\diode measurements\\\\Prepared Pulse Schemes CSV\\\\1mili\\\\SegmentB_30000000_22.csv',\n",
                            " 'Pulse File Location, at step 23': 'D:\\\\Alejandro\\\\Pulses\\\\diode measurements\\\\Prepared Pulse Schemes CSV\\\\1mili\\\\SegmentB_30000000_23.csv',\n",
                            " 'Pulse File Location, at step 24': 'D:\\\\Alejandro\\\\Pulses\\\\diode measurements\\\\Prepared Pulse Schemes CSV\\\\1mili\\\\SegmentB_30000000_24.csv',\n",
                            " 'Pulse File Location, at step 25': 'D:\\\\Alejandro\\\\Pulses\\\\diode measurements\\\\Prepared Pulse Schemes CSV\\\\1mili\\\\SegmentB_30000000_25.csv',\n",
                            " 'Pulse File Location, at step 26': 'D:\\\\Alejandro\\\\Pulses\\\\diode measurements\\\\Prepared Pulse Schemes CSV\\\\1mili\\\\SegmentB_30000000_26.csv',\n",
                            " 'Pulse File Location, at step 27': 'D:\\\\Alejandro\\\\Pulses\\\\diode measurements\\\\Prepared Pulse Schemes CSV\\\\1mili\\\\SegmentB_30000000_27.csv',\n",
                            " 'Pulse File Location, at step 28': 'D:\\\\Alejandro\\\\Pulses\\\\diode measurements\\\\Prepared Pulse Schemes CSV\\\\1mili\\\\SegmentB_30000000_28.csv',\n",
                            " 'Pulse File Location, at step 29': 'D:\\\\Alejandro\\\\Pulses\\\\diode measurements\\\\Prepared Pulse Schemes CSV\\\\1mili\\\\SegmentB_30000000_29.csv',\n",
                            " 'Pulse File Location, at step 30': 'D:\\\\Alejandro\\\\Pulses\\\\diode measurements\\\\Prepared Pulse Schemes CSV\\\\1mili\\\\SegmentB_30000000_30.csv'}"
                        ]
                    },
                    "metadata": {},
                    "execution_count": 28
                }
            ],
            "metadata": {}
        },
        {
            "cell_type": "code",
            "execution_count": 56,
            "source": [
                "M8190A.write('SEQ:DEL:ALL')"
            ],
            "outputs": [
                {
                    "output_type": "execute_result",
                    "data": {
                        "text/plain": [
                            "12"
                        ]
                    },
                    "metadata": {},
                    "execution_count": 56
                }
            ],
            "metadata": {}
        },
        {
            "cell_type": "code",
            "execution_count": 57,
            "source": [
                "Lock_In_Settings = {\r\n",
                "'Time Constant' : '30ms',\r\n",
                "'Sensitivity' : '500 microVolts',\r\n",
                "'Reserve' : 'Normal',\r\n",
                "'db' : 24,\r\n",
                "'Modulation': '100Hz'\r\n",
                "}"
            ],
            "outputs": [],
            "metadata": {}
        },
        {
            "cell_type": "code",
            "execution_count": 58,
            "source": [
                "playing_time = 30 #in seconds\r\n",
                "\r\n",
                "Diode_Signal, averaged_data = Measurement_Autocorrelation_voltage(M8190A,DAQ_Settings1,1000, playing_time ,sweeping_run_a_1mili,sweeping_run_b_1mili,PulseScheme_A_1mili['Measurement file Path'],Lock_In_Settings)"
            ],
            "outputs": [
                {
                    "output_type": "stream",
                    "name": "stdout",
                    "text": [
                        "Sequence loaded with the following segment data \"1,1,0,1,0,29999999,2,1,0,1,0,29999999\" and the advancement method is COND\n",
                        "Triggering Pulse Stoped\n",
                        "Data acquired for Step 0\n",
                        "Sequence loaded with the following segment data \"1,1,0,1,0,29999999,2,1,0,1,0,29999999\" and the advancement method is COND\n",
                        "Triggering Pulse Stoped\n",
                        "Data acquired for Step 1\n",
                        "Sequence loaded with the following segment data \"1,1,0,1,0,29999999,2,1,0,1,0,29999999\" and the advancement method is COND\n",
                        "Triggering Pulse Stoped\n",
                        "Data acquired for Step 2\n",
                        "Sequence loaded with the following segment data \"1,1,0,1,0,29999999,2,1,0,1,0,29999999\" and the advancement method is COND\n",
                        "Triggering Pulse Stoped\n",
                        "Data acquired for Step 3\n",
                        "Sequence loaded with the following segment data \"1,1,0,1,0,29999999,2,1,0,1,0,29999999\" and the advancement method is COND\n",
                        "Triggering Pulse Stoped\n",
                        "Data acquired for Step 4\n",
                        "Sequence loaded with the following segment data \"1,1,0,1,0,29999999,2,1,0,1,0,29999999\" and the advancement method is COND\n",
                        "Triggering Pulse Stoped\n",
                        "Data acquired for Step 5\n",
                        "Sequence loaded with the following segment data \"1,1,0,1,0,29999999,2,1,0,1,0,29999999\" and the advancement method is COND\n",
                        "Triggering Pulse Stoped\n",
                        "Data acquired for Step 6\n",
                        "Sequence loaded with the following segment data \"1,1,0,1,0,29999999,2,1,0,1,0,29999999\" and the advancement method is COND\n",
                        "Triggering Pulse Stoped\n",
                        "Data acquired for Step 7\n",
                        "Sequence loaded with the following segment data \"1,1,0,1,0,29999999,2,1,0,1,0,29999999\" and the advancement method is COND\n",
                        "Triggering Pulse Stoped\n",
                        "Data acquired for Step 8\n",
                        "Sequence loaded with the following segment data \"1,1,0,1,0,29999999,2,1,0,1,0,29999999\" and the advancement method is COND\n",
                        "Triggering Pulse Stoped\n",
                        "Data acquired for Step 9\n",
                        "Sequence loaded with the following segment data \"1,1,0,1,0,29999999,2,1,0,1,0,29999999\" and the advancement method is COND\n",
                        "Triggering Pulse Stoped\n",
                        "Data acquired for Step 10\n",
                        "Sequence loaded with the following segment data \"1,1,0,1,0,29999999,2,1,0,1,0,29999999\" and the advancement method is COND\n",
                        "Triggering Pulse Stoped\n",
                        "Data acquired for Step 11\n",
                        "Sequence loaded with the following segment data \"1,1,0,1,0,29999999,2,1,0,1,0,29999999\" and the advancement method is COND\n",
                        "Triggering Pulse Stoped\n",
                        "Data acquired for Step 12\n",
                        "Sequence loaded with the following segment data \"1,1,0,1,0,29999999,2,1,0,1,0,29999999\" and the advancement method is COND\n",
                        "Triggering Pulse Stoped\n",
                        "Data acquired for Step 13\n",
                        "Sequence loaded with the following segment data \"1,1,0,1,0,29999999,2,1,0,1,0,29999999\" and the advancement method is COND\n",
                        "Triggering Pulse Stoped\n",
                        "Data acquired for Step 14\n",
                        "Sequence loaded with the following segment data \"1,1,0,1,0,29999999,2,1,0,1,0,29999999\" and the advancement method is COND\n",
                        "Triggering Pulse Stoped\n",
                        "Data acquired for Step 15\n",
                        "Sequence loaded with the following segment data \"1,1,0,1,0,29999999,2,1,0,1,0,29999999\" and the advancement method is COND\n",
                        "Triggering Pulse Stoped\n",
                        "Data acquired for Step 16\n",
                        "Sequence loaded with the following segment data \"1,1,0,1,0,29999999,2,1,0,1,0,29999999\" and the advancement method is COND\n",
                        "Triggering Pulse Stoped\n",
                        "Data acquired for Step 17\n",
                        "Sequence loaded with the following segment data \"1,1,0,1,0,29999999,2,1,0,1,0,29999999\" and the advancement method is COND\n",
                        "Triggering Pulse Stoped\n",
                        "Data acquired for Step 18\n",
                        "Sequence loaded with the following segment data \"1,1,0,1,0,29999999,2,1,0,1,0,29999999\" and the advancement method is COND\n",
                        "Triggering Pulse Stoped\n",
                        "Data acquired for Step 19\n",
                        "Sequence loaded with the following segment data \"1,1,0,1,0,29999999,2,1,0,1,0,29999999\" and the advancement method is COND\n",
                        "Triggering Pulse Stoped\n",
                        "Data acquired for Step 20\n",
                        "Sequence loaded with the following segment data \"1,1,0,1,0,29999999,2,1,0,1,0,29999999\" and the advancement method is COND\n",
                        "Triggering Pulse Stoped\n",
                        "Data acquired for Step 21\n",
                        "Sequence loaded with the following segment data \"1,1,0,1,0,29999999,2,1,0,1,0,29999999\" and the advancement method is COND\n",
                        "Triggering Pulse Stoped\n",
                        "Data acquired for Step 22\n",
                        "Sequence loaded with the following segment data \"1,1,0,1,0,29999999,2,1,0,1,0,29999999\" and the advancement method is COND\n",
                        "Triggering Pulse Stoped\n",
                        "Data acquired for Step 23\n",
                        "Sequence loaded with the following segment data \"1,1,0,1,0,29999999,2,1,0,1,0,29999999\" and the advancement method is COND\n",
                        "Triggering Pulse Stoped\n",
                        "Data acquired for Step 24\n",
                        "Sequence loaded with the following segment data \"1,1,0,1,0,29999999,2,1,0,1,0,29999999\" and the advancement method is COND\n",
                        "Triggering Pulse Stoped\n",
                        "Data acquired for Step 25\n",
                        "Sequence loaded with the following segment data \"1,1,0,1,0,29999999,2,1,0,1,0,29999999\" and the advancement method is COND\n",
                        "Triggering Pulse Stoped\n",
                        "Data acquired for Step 26\n",
                        "Sequence loaded with the following segment data \"1,1,0,1,0,29999999,2,1,0,1,0,29999999\" and the advancement method is COND\n",
                        "Triggering Pulse Stoped\n",
                        "Data acquired for Step 27\n",
                        "Sequence loaded with the following segment data \"1,1,0,1,0,29999999,2,1,0,1,0,29999999\" and the advancement method is COND\n",
                        "Triggering Pulse Stoped\n",
                        "Data acquired for Step 28\n",
                        "Sequence loaded with the following segment data \"1,1,0,1,0,29999999,2,1,0,1,0,29999999\" and the advancement method is COND\n",
                        "Triggering Pulse Stoped\n",
                        "Data acquired for Step 29\n",
                        "Sequence loaded with the following segment data \"1,1,0,1,0,29999999,2,1,0,1,0,29999999\" and the advancement method is COND\n",
                        "Triggering Pulse Stoped\n",
                        "Data acquired for Step 30\n"
                    ]
                }
            ],
            "metadata": {}
        },
        {
            "cell_type": "code",
            "execution_count": 59,
            "source": [
                "fig,ax= plt.subplots()\r\n",
                "ax.grid(True)\r\n",
                "for i in range(0,len(Diode_Signal)):\r\n",
                "    plt.plot(Diode_Signal[i][1],Diode_Signal[i][0],label= 'Step {st}'.format(st = i ))\r\n",
                "\r\n",
                "ax.set_ylabel(r'V  [V]')\r\n",
                "ax.set_xlabel('t  [s]')\r\n",
                "ax.set_title(r' Diode Signal at Different Steps,  {b} Samples, 1mili probe duration'.format(b = len(Diode_Signal[0][1]) ))\r\n",
                "#ax.legend(bbox_to_anchor=(1.05, 1), loc='upper left', borderaxespad=0.)\r\n",
                "#ax.legend(loc=0)\r\n",
                "plt.show()\r\n",
                "\r\n",
                "fig.savefig(r'{loc}\\Diode Signal time cstant = {a}, sensitivity {b},{c} daqseconds, 5ms scheme, probe duration 1mili,31 steps, no legend,6Ghz .jpeg'.format(loc = PulseScheme_A_1mili['Measurement file Path'],a = Lock_In_Settings['Time Constant'], b = Lock_In_Settings['Sensitivity'], c = playing_time),bbox_inches='tight')"
            ],
            "outputs": [
                {
                    "output_type": "display_data",
                    "data": {
                        "image/png": "[encoded data removed]",
                        "text/plain": [
                            "<Figure size 432x288 with 1 Axes>"
                        ]
                    },
                    "metadata": {
                        "needs_background": "light"
                    }
                }
            ],
            "metadata": {}
        },
        {
            "cell_type": "code",
            "execution_count": 60,
            "source": [
                "time_delay = np.linspace(-2,2,31)"
            ],
            "outputs": [],
            "metadata": {}
        },
        {
            "cell_type": "code",
            "execution_count": 61,
            "source": [
                "#change this to V regime\r\n",
                "fig,axes = plt.subplots()\r\n",
                "\r\n",
                "axes.grid(True)\r\n",
                "\r\n",
                "plt.plot(time_delay,averaged_data,label=r'1ms Probe Width ',color='blue')\r\n",
                "#plt.plot(tm,pul,label = '{a} samples'.format(a = len(pul)))\r\n",
                "\r\n",
                "axes.set_xlabel(r'time delay [ms]')\r\n",
                "axes.set_ylabel(r'Diode Signal [V]')\r\n",
                "axes.set_title('Auto-Correlation 31 steps ')\r\n",
                "\r\n",
                "axes.legend(loc = 0)\r\n",
                "plt.show()\r\n",
                "\r\n",
                "fig.savefig(r'{loc}\\Autocorrelation function 31 steps probes 5ms length tc = {a}, sens {b}, {c}s DAQ 6Ghz.jpeg'.format(loc = PulseScheme_A_1mili['Measurement file Path'],a = Lock_In_Settings['Time Constant'], b = Lock_In_Settings['Sensitivity'], c = playing_time ))"
            ],
            "outputs": [
                {
                    "output_type": "display_data",
                    "data": {
                        "image/png": "[encoded data removed]",
                        "text/plain": [
                            "<Figure size 432x288 with 1 Axes>"
                        ]
                    },
                    "metadata": {
                        "needs_background": "light"
                    }
                }
            ],
            "metadata": {}
        },
        {
            "cell_type": "markdown",
            "source": [
                "## 100 micro"
            ],
            "metadata": {}
        },
        {
            "cell_type": "code",
            "execution_count": 62,
            "source": [
                "Pump_100micro = {\r\n",
                "    'Name':'Pump_100micro',\r\n",
                "    'Amplitude':35,\r\n",
                "    'Start time':200,\r\n",
                "    'End time':2e-10,\r\n",
                "    'Start Duration':100,\r\n",
                "    'End Duration':60,\r\n",
                "    'Sweep time':0,\r\n",
                "    'Sweep Duration':0\r\n",
                "}"
            ],
            "outputs": [],
            "metadata": {}
        },
        {
            "cell_type": "code",
            "execution_count": 63,
            "source": [
                "ProbeA_100micro = {\r\n",
                "    'Name':'ProbeA_100micro',\r\n",
                "    'Amplitude':20,\r\n",
                "    'Start time':0,\r\n",
                "    'End time':400,\r\n",
                "    'Start Duration':100,\r\n",
                "    'End Duration':60,\r\n",
                "    'Sweep time':1,\r\n",
                "    'Sweep Duration':0\r\n",
                "}"
            ],
            "outputs": [],
            "metadata": {}
        },
        {
            "cell_type": "code",
            "execution_count": 64,
            "source": [
                "ProbeB_100micro = {\r\n",
                "    'Name':'ProbeB_100micro',\r\n",
                "    'Amplitude':0,\r\n",
                "    'Start time':0,\r\n",
                "    'End time':12,\r\n",
                "    'Start Duration':1,\r\n",
                "    'End Duration':6,\r\n",
                "    'Sweep time':0,\r\n",
                "    'Sweep Duration':0\r\n",
                "}"
            ],
            "outputs": [],
            "metadata": {}
        },
        {
            "cell_type": "code",
            "execution_count": 65,
            "source": [
                "PulseScheme_A_100micro =  {\r\n",
                "    'Name' : 'PulseScheme_A_100micro',\r\n",
                "    'Pulse Scheme': [Pump_100micro,ProbeA_100micro],\r\n",
                "    'Number of repetitions': 8,\r\n",
                "    'Measurement file Path': r'D:\\Alejandro\\Pulses\\diode measurements\\Autocorrelation measurements\\100micro'\r\n",
                "}"
            ],
            "outputs": [],
            "metadata": {}
        },
        {
            "cell_type": "code",
            "execution_count": 66,
            "source": [
                "PulseScheme_B_100micro  = {\r\n",
                "    'Name' : 'PulseScheme__100micro',\r\n",
                "    'Pulse Scheme': [ProbeB_100micro,ProbeB_100micro],\r\n",
                "    'Number of repetitions': 1,\r\n",
                "    'Measurement file Path': r'D:\\Alejandro\\Pulses\\diode measurements\\Autocorrelation measurements\\100micro'\r\n",
                "}"
            ],
            "outputs": [],
            "metadata": {}
        },
        {
            "cell_type": "code",
            "execution_count": 67,
            "source": [
                "#Importing Pickle\r\n",
                "\r\n",
                "with open(r\"{dict}\\cycleA_31steps_5ms_100micro_6GHz.p\".format(dict = PulseScheme_A_100micro['Measurement file Path']), \"rb\") as j:\r\n",
                "    sweeping_runa_100micro = pickle.load(j)\r\n",
                "\r\n",
                "with open(r\"{dict}\\cycleB_31steps_5ms_100micro_6GHz.p\".format(dict = PulseScheme_A_100micro['Measurement file Path']), \"rb\") as f:\r\n",
                "    sweeping_runb_100micro= pickle.load(f)"
            ],
            "outputs": [],
            "metadata": {}
        },
        {
            "cell_type": "code",
            "execution_count": 70,
            "source": [
                "sweeping_runa_100micro"
            ],
            "outputs": [
                {
                    "output_type": "execute_result",
                    "data": {
                        "text/plain": [
                            "{'Pulse File Location, at step 0': 'D:\\\\Alejandro\\\\Pulses\\\\diode measurements\\\\Prepared Pulse Schemes CSV\\\\100micro\\\\SegmentA_30000000_0.csv',\n",
                            " 'Pulse File Location, at step 1': 'D:\\\\Alejandro\\\\Pulses\\\\diode measurements\\\\Prepared Pulse Schemes CSV\\\\100micro\\\\SegmentA_30000000_1.csv',\n",
                            " 'Pulse File Location, at step 2': 'D:\\\\Alejandro\\\\Pulses\\\\diode measurements\\\\Prepared Pulse Schemes CSV\\\\100micro\\\\SegmentA_30000000_2.csv',\n",
                            " 'Pulse File Location, at step 3': 'D:\\\\Alejandro\\\\Pulses\\\\diode measurements\\\\Prepared Pulse Schemes CSV\\\\100micro\\\\SegmentA_30000000_3.csv',\n",
                            " 'Pulse File Location, at step 4': 'D:\\\\Alejandro\\\\Pulses\\\\diode measurements\\\\Prepared Pulse Schemes CSV\\\\100micro\\\\SegmentA_30000000_4.csv',\n",
                            " 'Pulse File Location, at step 5': 'D:\\\\Alejandro\\\\Pulses\\\\diode measurements\\\\Prepared Pulse Schemes CSV\\\\100micro\\\\SegmentA_30000000_5.csv',\n",
                            " 'Pulse File Location, at step 6': 'D:\\\\Alejandro\\\\Pulses\\\\diode measurements\\\\Prepared Pulse Schemes CSV\\\\100micro\\\\SegmentA_30000000_6.csv',\n",
                            " 'Pulse File Location, at step 7': 'D:\\\\Alejandro\\\\Pulses\\\\diode measurements\\\\Prepared Pulse Schemes CSV\\\\100micro\\\\SegmentA_30000000_7.csv',\n",
                            " 'Pulse File Location, at step 8': 'D:\\\\Alejandro\\\\Pulses\\\\diode measurements\\\\Prepared Pulse Schemes CSV\\\\100micro\\\\SegmentA_30000000_8.csv',\n",
                            " 'Pulse File Location, at step 9': 'D:\\\\Alejandro\\\\Pulses\\\\diode measurements\\\\Prepared Pulse Schemes CSV\\\\100micro\\\\SegmentA_30000000_9.csv',\n",
                            " 'Pulse File Location, at step 10': 'D:\\\\Alejandro\\\\Pulses\\\\diode measurements\\\\Prepared Pulse Schemes CSV\\\\100micro\\\\SegmentA_30000000_10.csv',\n",
                            " 'Pulse File Location, at step 11': 'D:\\\\Alejandro\\\\Pulses\\\\diode measurements\\\\Prepared Pulse Schemes CSV\\\\100micro\\\\SegmentA_30000000_11.csv',\n",
                            " 'Pulse File Location, at step 12': 'D:\\\\Alejandro\\\\Pulses\\\\diode measurements\\\\Prepared Pulse Schemes CSV\\\\100micro\\\\SegmentA_30000000_12.csv',\n",
                            " 'Pulse File Location, at step 13': 'D:\\\\Alejandro\\\\Pulses\\\\diode measurements\\\\Prepared Pulse Schemes CSV\\\\100micro\\\\SegmentA_30000000_13.csv',\n",
                            " 'Pulse File Location, at step 14': 'D:\\\\Alejandro\\\\Pulses\\\\diode measurements\\\\Prepared Pulse Schemes CSV\\\\100micro\\\\SegmentA_30000000_14.csv',\n",
                            " 'Pulse File Location, at step 15': 'D:\\\\Alejandro\\\\Pulses\\\\diode measurements\\\\Prepared Pulse Schemes CSV\\\\100micro\\\\SegmentA_30000000_15.csv',\n",
                            " 'Pulse File Location, at step 16': 'D:\\\\Alejandro\\\\Pulses\\\\diode measurements\\\\Prepared Pulse Schemes CSV\\\\100micro\\\\SegmentA_30000000_16.csv',\n",
                            " 'Pulse File Location, at step 17': 'D:\\\\Alejandro\\\\Pulses\\\\diode measurements\\\\Prepared Pulse Schemes CSV\\\\100micro\\\\SegmentA_30000000_17.csv',\n",
                            " 'Pulse File Location, at step 18': 'D:\\\\Alejandro\\\\Pulses\\\\diode measurements\\\\Prepared Pulse Schemes CSV\\\\100micro\\\\SegmentA_30000000_18.csv',\n",
                            " 'Pulse File Location, at step 19': 'D:\\\\Alejandro\\\\Pulses\\\\diode measurements\\\\Prepared Pulse Schemes CSV\\\\100micro\\\\SegmentA_30000000_19.csv',\n",
                            " 'Pulse File Location, at step 20': 'D:\\\\Alejandro\\\\Pulses\\\\diode measurements\\\\Prepared Pulse Schemes CSV\\\\100micro\\\\SegmentA_30000000_20.csv',\n",
                            " 'Pulse File Location, at step 21': 'D:\\\\Alejandro\\\\Pulses\\\\diode measurements\\\\Prepared Pulse Schemes CSV\\\\100micro\\\\SegmentA_30000000_21.csv',\n",
                            " 'Pulse File Location, at step 22': 'D:\\\\Alejandro\\\\Pulses\\\\diode measurements\\\\Prepared Pulse Schemes CSV\\\\100micro\\\\SegmentA_30000000_22.csv',\n",
                            " 'Pulse File Location, at step 23': 'D:\\\\Alejandro\\\\Pulses\\\\diode measurements\\\\Prepared Pulse Schemes CSV\\\\100micro\\\\SegmentA_30000000_23.csv',\n",
                            " 'Pulse File Location, at step 24': 'D:\\\\Alejandro\\\\Pulses\\\\diode measurements\\\\Prepared Pulse Schemes CSV\\\\100micro\\\\SegmentA_30000000_24.csv',\n",
                            " 'Pulse File Location, at step 25': 'D:\\\\Alejandro\\\\Pulses\\\\diode measurements\\\\Prepared Pulse Schemes CSV\\\\100micro\\\\SegmentA_30000000_25.csv',\n",
                            " 'Pulse File Location, at step 26': 'D:\\\\Alejandro\\\\Pulses\\\\diode measurements\\\\Prepared Pulse Schemes CSV\\\\100micro\\\\SegmentA_30000000_26.csv',\n",
                            " 'Pulse File Location, at step 27': 'D:\\\\Alejandro\\\\Pulses\\\\diode measurements\\\\Prepared Pulse Schemes CSV\\\\100micro\\\\SegmentA_30000000_27.csv',\n",
                            " 'Pulse File Location, at step 28': 'D:\\\\Alejandro\\\\Pulses\\\\diode measurements\\\\Prepared Pulse Schemes CSV\\\\100micro\\\\SegmentA_30000000_28.csv',\n",
                            " 'Pulse File Location, at step 29': 'D:\\\\Alejandro\\\\Pulses\\\\diode measurements\\\\Prepared Pulse Schemes CSV\\\\100micro\\\\SegmentA_30000000_29.csv',\n",
                            " 'Pulse File Location, at step 30': 'D:\\\\Alejandro\\\\Pulses\\\\diode measurements\\\\Prepared Pulse Schemes CSV\\\\100micro\\\\SegmentA_30000000_30.csv'}"
                        ]
                    },
                    "metadata": {},
                    "execution_count": 70
                }
            ],
            "metadata": {}
        },
        {
            "cell_type": "code",
            "execution_count": 71,
            "source": [
                "M8190A.write('SEQ:DEL:ALL')"
            ],
            "outputs": [
                {
                    "output_type": "execute_result",
                    "data": {
                        "text/plain": [
                            "12"
                        ]
                    },
                    "metadata": {},
                    "execution_count": 71
                }
            ],
            "metadata": {}
        },
        {
            "cell_type": "code",
            "execution_count": 72,
            "source": [
                "Lock_In_Settings = {\r\n",
                "'Time Constant' : '300ms',\r\n",
                "'Sensitivity' : '500 microVolts',\r\n",
                "'Reserve' : 'Normal',\r\n",
                "'db' : 24,\r\n",
                "'Modulation': '100Hz'\r\n",
                "}"
            ],
            "outputs": [],
            "metadata": {}
        },
        {
            "cell_type": "code",
            "execution_count": 73,
            "source": [
                "playing_time = 30 #in seconds\r\n",
                "\r\n",
                "Diode_Signal, averaged_data = Measurement_Autocorrelation_voltage(M8190A,DAQ_Settings1,1000, playing_time ,sweeping_runa_100micro,sweeping_runb_100micro,PulseScheme_A_100micro['Measurement file Path'],Lock_In_Settings)"
            ],
            "outputs": [
                {
                    "output_type": "stream",
                    "name": "stdout",
                    "text": [
                        "Sequence loaded with the following segment data \"1,1,0,1,0,29999999,2,1,0,1,0,29999999\" and the advancement method is COND\n",
                        "Triggering Pulse Stoped\n",
                        "Data acquired for Step 0\n",
                        "Sequence loaded with the following segment data \"1,1,0,1,0,29999999,2,1,0,1,0,29999999\" and the advancement method is COND\n",
                        "Triggering Pulse Stoped\n",
                        "Data acquired for Step 1\n",
                        "Sequence loaded with the following segment data \"1,1,0,1,0,29999999,2,1,0,1,0,29999999\" and the advancement method is COND\n",
                        "Triggering Pulse Stoped\n",
                        "Data acquired for Step 2\n",
                        "Sequence loaded with the following segment data \"1,1,0,1,0,29999999,2,1,0,1,0,29999999\" and the advancement method is COND\n",
                        "Triggering Pulse Stoped\n",
                        "Data acquired for Step 3\n",
                        "Sequence loaded with the following segment data \"1,1,0,1,0,29999999,2,1,0,1,0,29999999\" and the advancement method is COND\n",
                        "Triggering Pulse Stoped\n",
                        "Data acquired for Step 4\n",
                        "Sequence loaded with the following segment data \"1,1,0,1,0,29999999,2,1,0,1,0,29999999\" and the advancement method is COND\n",
                        "Triggering Pulse Stoped\n",
                        "Data acquired for Step 5\n",
                        "Sequence loaded with the following segment data \"1,1,0,1,0,29999999,2,1,0,1,0,29999999\" and the advancement method is COND\n",
                        "Triggering Pulse Stoped\n",
                        "Data acquired for Step 6\n",
                        "Sequence loaded with the following segment data \"1,1,0,1,0,29999999,2,1,0,1,0,29999999\" and the advancement method is COND\n",
                        "Triggering Pulse Stoped\n",
                        "Data acquired for Step 7\n",
                        "Sequence loaded with the following segment data \"1,1,0,1,0,29999999,2,1,0,1,0,29999999\" and the advancement method is COND\n",
                        "Triggering Pulse Stoped\n",
                        "Data acquired for Step 8\n",
                        "Sequence loaded with the following segment data \"1,1,0,1,0,29999999,2,1,0,1,0,29999999\" and the advancement method is COND\n",
                        "Triggering Pulse Stoped\n",
                        "Data acquired for Step 9\n",
                        "Sequence loaded with the following segment data \"1,1,0,1,0,29999999,2,1,0,1,0,29999999\" and the advancement method is COND\n",
                        "Triggering Pulse Stoped\n",
                        "Data acquired for Step 10\n",
                        "Sequence loaded with the following segment data \"1,1,0,1,0,29999999,2,1,0,1,0,29999999\" and the advancement method is COND\n",
                        "Triggering Pulse Stoped\n",
                        "Data acquired for Step 11\n",
                        "Sequence loaded with the following segment data \"1,1,0,1,0,29999999,2,1,0,1,0,29999999\" and the advancement method is COND\n",
                        "Triggering Pulse Stoped\n",
                        "Data acquired for Step 12\n",
                        "Sequence loaded with the following segment data \"1,1,0,1,0,29999999,2,1,0,1,0,29999999\" and the advancement method is COND\n",
                        "Triggering Pulse Stoped\n",
                        "Data acquired for Step 13\n",
                        "Sequence loaded with the following segment data \"1,1,0,1,0,29999999,2,1,0,1,0,29999999\" and the advancement method is COND\n",
                        "Triggering Pulse Stoped\n",
                        "Data acquired for Step 14\n",
                        "Sequence loaded with the following segment data \"1,1,0,1,0,29999999,2,1,0,1,0,29999999\" and the advancement method is COND\n",
                        "Triggering Pulse Stoped\n",
                        "Data acquired for Step 15\n",
                        "Sequence loaded with the following segment data \"1,1,0,1,0,29999999,2,1,0,1,0,29999999\" and the advancement method is COND\n",
                        "Triggering Pulse Stoped\n",
                        "Data acquired for Step 16\n",
                        "Sequence loaded with the following segment data \"1,1,0,1,0,29999999,2,1,0,1,0,29999999\" and the advancement method is COND\n",
                        "Triggering Pulse Stoped\n",
                        "Data acquired for Step 17\n",
                        "Sequence loaded with the following segment data \"1,1,0,1,0,29999999,2,1,0,1,0,29999999\" and the advancement method is COND\n",
                        "Triggering Pulse Stoped\n",
                        "Data acquired for Step 18\n",
                        "Sequence loaded with the following segment data \"1,1,0,1,0,29999999,2,1,0,1,0,29999999\" and the advancement method is COND\n",
                        "Triggering Pulse Stoped\n",
                        "Data acquired for Step 19\n",
                        "Sequence loaded with the following segment data \"1,1,0,1,0,29999999,2,1,0,1,0,29999999\" and the advancement method is COND\n",
                        "Triggering Pulse Stoped\n",
                        "Data acquired for Step 20\n",
                        "Sequence loaded with the following segment data \"1,1,0,1,0,29999999,2,1,0,1,0,29999999\" and the advancement method is COND\n",
                        "Triggering Pulse Stoped\n",
                        "Data acquired for Step 21\n",
                        "Sequence loaded with the following segment data \"1,1,0,1,0,29999999,2,1,0,1,0,29999999\" and the advancement method is COND\n",
                        "Triggering Pulse Stoped\n",
                        "Data acquired for Step 22\n",
                        "Sequence loaded with the following segment data \"1,1,0,1,0,29999999,2,1,0,1,0,29999999\" and the advancement method is COND\n",
                        "Triggering Pulse Stoped\n",
                        "Data acquired for Step 23\n",
                        "Sequence loaded with the following segment data \"1,1,0,1,0,29999999,2,1,0,1,0,29999999\" and the advancement method is COND\n",
                        "Triggering Pulse Stoped\n",
                        "Data acquired for Step 24\n",
                        "Sequence loaded with the following segment data \"1,1,0,1,0,29999999,2,1,0,1,0,29999999\" and the advancement method is COND\n",
                        "Triggering Pulse Stoped\n",
                        "Data acquired for Step 25\n",
                        "Sequence loaded with the following segment data \"1,1,0,1,0,29999999,2,1,0,1,0,29999999\" and the advancement method is COND\n",
                        "Triggering Pulse Stoped\n",
                        "Data acquired for Step 26\n",
                        "Sequence loaded with the following segment data \"1,1,0,1,0,29999999,2,1,0,1,0,29999999\" and the advancement method is COND\n",
                        "Triggering Pulse Stoped\n",
                        "Data acquired for Step 27\n",
                        "Sequence loaded with the following segment data \"1,1,0,1,0,29999999,2,1,0,1,0,29999999\" and the advancement method is COND\n",
                        "Triggering Pulse Stoped\n",
                        "Data acquired for Step 28\n",
                        "Sequence loaded with the following segment data \"1,1,0,1,0,29999999,2,1,0,1,0,29999999\" and the advancement method is COND\n",
                        "Triggering Pulse Stoped\n",
                        "Data acquired for Step 29\n",
                        "Sequence loaded with the following segment data \"1,1,0,1,0,29999999,2,1,0,1,0,29999999\" and the advancement method is COND\n",
                        "Triggering Pulse Stoped\n",
                        "Data acquired for Step 30\n"
                    ]
                }
            ],
            "metadata": {}
        },
        {
            "cell_type": "code",
            "execution_count": 78,
            "source": [
                "fig,ax= plt.subplots()\r\n",
                "ax.grid(True)\r\n",
                "for i in range(0,len(Diode_Signal)):\r\n",
                "    plt.plot(Diode_Signal[i][1],Diode_Signal[i][0],label= 'Step {st}'.format(st = i ))\r\n",
                "\r\n",
                "ax.set_ylabel(r'V  [V]')\r\n",
                "ax.set_xlabel('t  [s]')\r\n",
                "ax.set_title(r' Diode Signal at Different Steps,  {b} Samples, 100$\\mu$s probe duration'.format(b = len(Diode_Signal[0][1]) ))\r\n",
                "#ax.legend(bbox_to_anchor=(1.05, 1), loc='upper left', borderaxespad=0.)\r\n",
                "#ax.legend(loc=0)\r\n",
                "plt.show()\r\n",
                "\r\n",
                "fig.savefig(r'{loc}\\Diode Signal time cstant = {a}, sensitivity {b},{c} daqseconds, 5ms scheme, probe duration 100 micro,31 steps, no legend,6Ghz .jpeg'.format(loc = PulseScheme_A_100micro['Measurement file Path'],a = Lock_In_Settings['Time Constant'], b = Lock_In_Settings['Sensitivity'], c = playing_time),bbox_inches='tight')"
            ],
            "outputs": [
                {
                    "output_type": "display_data",
                    "data": {
                        "image/png": "[encoded data removed]",
                        "text/plain": [
                            "<Figure size 432x288 with 1 Axes>"
                        ]
                    },
                    "metadata": {
                        "needs_background": "light"
                    }
                }
            ],
            "metadata": {}
        },
        {
            "cell_type": "code",
            "execution_count": 75,
            "source": [
                "time_delay = np.linspace(-200,200,31)"
            ],
            "outputs": [],
            "metadata": {}
        },
        {
            "cell_type": "code",
            "execution_count": 77,
            "source": [
                "#change this to V regime\r\n",
                "fig,axes = plt.subplots()\r\n",
                "\r\n",
                "axes.grid(True)\r\n",
                "\r\n",
                "plt.plot(time_delay,averaged_data,label=r'100$\\mu$s Probe Width ',color='green')\r\n",
                "#plt.plot(tm,pul,label = '{a} samples'.format(a = len(pul)))\r\n",
                "\r\n",
                "axes.set_xlabel(r'time delay [$\\mu$s]')\r\n",
                "axes.set_ylabel(r'Diode Signal [V]')\r\n",
                "axes.set_title('Auto-Correlation 31 steps ')\r\n",
                "\r\n",
                "axes.legend(loc = 0)\r\n",
                "plt.show()\r\n",
                "\r\n",
                "fig.savefig(r'{loc}\\Autocorrelation function 31 steps probes 5ms length tc = {a}, sens {b}, {c}s DAQ 6Ghz.jpeg'.format(loc = PulseScheme_A_100micro['Measurement file Path'],a = Lock_In_Settings['Time Constant'], b = Lock_In_Settings['Sensitivity'], c = playing_time ))"
            ],
            "outputs": [
                {
                    "output_type": "display_data",
                    "data": {
                        "image/png": "[encoded data removed]",
                        "text/plain": [
                            "<Figure size 432x288 with 1 Axes>"
                        ]
                    },
                    "metadata": {
                        "needs_background": "light"
                    }
                }
            ],
            "metadata": {}
        },
        {
            "cell_type": "markdown",
            "source": [
                "## 10micro"
            ],
            "metadata": {}
        },
        {
            "cell_type": "code",
            "execution_count": 5,
            "source": [
                "Pump_10micro = {\r\n",
                "    'Name':'Pump_10micro',\r\n",
                "    'Amplitude':35,\r\n",
                "    'Start time':20,\r\n",
                "    'End time':2e-10,\r\n",
                "    'Start Duration':10,\r\n",
                "    'End Duration':60,\r\n",
                "    'Sweep time':0,\r\n",
                "    'Sweep Duration':0\r\n",
                "}"
            ],
            "outputs": [],
            "metadata": {}
        },
        {
            "cell_type": "code",
            "execution_count": 7,
            "source": [
                "ProbeA_10micro = {\r\n",
                "    'Name':'ProbeA_10micro',\r\n",
                "    'Amplitude':20,\r\n",
                "    'Start time':0,\r\n",
                "    'End time':40,\r\n",
                "    'Start Duration':10,\r\n",
                "    'End Duration':60,\r\n",
                "    'Sweep time':1,\r\n",
                "    'Sweep Duration':0\r\n",
                "}"
            ],
            "outputs": [],
            "metadata": {}
        },
        {
            "cell_type": "code",
            "execution_count": 8,
            "source": [
                "ProbeB_10micro = {\r\n",
                "    'Name':'ProbeB_10micro',\r\n",
                "    'Amplitude':0,\r\n",
                "    'Start time':0,\r\n",
                "    'End time':12,\r\n",
                "    'Start Duration':1,\r\n",
                "    'End Duration':6,\r\n",
                "    'Sweep time':0,\r\n",
                "    'Sweep Duration':0\r\n",
                "}"
            ],
            "outputs": [],
            "metadata": {}
        },
        {
            "cell_type": "code",
            "execution_count": 9,
            "source": [
                "PulseScheme_A_10micro =  {\r\n",
                "    'Name' : 'PulseScheme_A_10micro',\r\n",
                "    'Pulse Scheme': [Pump_10micro,ProbeA_10micro],\r\n",
                "    'Number of repetitions': 50,\r\n",
                "    'Measurement file Path': r'D:\\Alejandro\\Pulses\\diode measurements\\Autocorrelation measurements\\10micro'\r\n",
                "}"
            ],
            "outputs": [],
            "metadata": {}
        },
        {
            "cell_type": "code",
            "execution_count": 10,
            "source": [
                "PulseScheme_B_10micro  = {\r\n",
                "    'Name' : 'PulseScheme_B_10micro',\r\n",
                "    'Pulse Scheme': [ProbeB_10micro,ProbeB_10micro],\r\n",
                "    'Number of repetitions': 1,\r\n",
                "    'Measurement file Path': r'D:\\Alejandro\\Pulses\\diode measurements\\Autocorrelation measurements\\10micro'\r\n",
                "}"
            ],
            "outputs": [],
            "metadata": {}
        },
        {
            "cell_type": "code",
            "execution_count": null,
            "source": [
                "#Importing Pickle\r\n",
                "\r\n",
                "with open(r\"{dict}\\cycleA_31steps_5ms_10micro_6GHz.p\".format(dict = PulseScheme_A_10micro['Measurement file Path']), \"rb\") as j:\r\n",
                "    sweeping_runa_10micro = pickle.load(j)\r\n",
                "\r\n",
                "with open(r\"{dict}\\cycleB_31steps_5ms_10micro_6GHz.p\".format(dict = PulseScheme_A_10micro['Measurement file Path']), \"rb\") as f:\r\n",
                "    sweeping_runb_10micro = pickle.load(f)"
            ],
            "outputs": [],
            "metadata": {}
        },
        {
            "cell_type": "code",
            "execution_count": null,
            "source": [
                "Lock_In_Settings = {\r\n",
                "'Time Constant' : '30ms',\r\n",
                "'Sensitivity' : '500 microVolts',\r\n",
                "'Reserve' : 'Normal',\r\n",
                "'db' : 24,\r\n",
                "'Modulation': '100Hz'\r\n",
                "}"
            ],
            "outputs": [],
            "metadata": {}
        },
        {
            "cell_type": "code",
            "execution_count": null,
            "source": [
                "M8190A.write('SEQ:DEL:ALL')"
            ],
            "outputs": [
                {
                    "output_type": "display_data",
                    "data": {
                        "text/plain": [
                            "12"
                        ]
                    },
                    "metadata": {}
                }
            ],
            "metadata": {}
        },
        {
            "cell_type": "code",
            "execution_count": null,
            "source": [
                "playing_time = 10 #in seconds\r\n",
                "\r\n",
                "Diode_Signal, averaged_data = Measurement_Autocorrelation_voltage(M8190A,DAQ_Settings1,1000, playing_time ,sweeping_runa_10micro,sweeping_runb_10micro,PulseScheme_A_10micro['Measurement file Path'],Lock_In_Settings)"
            ],
            "outputs": [
                {
                    "output_type": "stream",
                    "name": "stdout",
                    "text": [
                        "Sequence loaded with the following segment data \"1,1,0,1,0,29999999,2,1,0,1,0,29999999\" and the advancement method is COND\n",
                        "Triggering Pulse Stoped\n",
                        "Data acquired for Step 0\n",
                        "Sequence loaded with the following segment data \"1,1,0,1,0,29999999,2,1,0,1,0,29999999\" and the advancement method is COND\n",
                        "Triggering Pulse Stoped\n",
                        "Data acquired for Step 1\n",
                        "Sequence loaded with the following segment data \"1,1,0,1,0,29999999,2,1,0,1,0,29999999\" and the advancement method is COND\n",
                        "Triggering Pulse Stoped\n",
                        "Data acquired for Step 2\n",
                        "Sequence loaded with the following segment data \"1,1,0,1,0,29999999,2,1,0,1,0,29999999\" and the advancement method is COND\n",
                        "Triggering Pulse Stoped\n",
                        "Data acquired for Step 3\n",
                        "Sequence loaded with the following segment data \"1,1,0,1,0,29999999,2,1,0,1,0,29999999\" and the advancement method is COND\n",
                        "Triggering Pulse Stoped\n",
                        "Data acquired for Step 4\n",
                        "Sequence loaded with the following segment data \"1,1,0,1,0,29999999,2,1,0,1,0,29999999\" and the advancement method is COND\n",
                        "Triggering Pulse Stoped\n",
                        "Data acquired for Step 5\n",
                        "Sequence loaded with the following segment data \"1,1,0,1,0,29999999,2,1,0,1,0,29999999\" and the advancement method is COND\n",
                        "Triggering Pulse Stoped\n",
                        "Data acquired for Step 6\n",
                        "Sequence loaded with the following segment data \"1,1,0,1,0,29999999,2,1,0,1,0,29999999\" and the advancement method is COND\n",
                        "Triggering Pulse Stoped\n",
                        "Data acquired for Step 7\n",
                        "Sequence loaded with the following segment data \"1,1,0,1,0,29999999,2,1,0,1,0,29999999\" and the advancement method is COND\n",
                        "Triggering Pulse Stoped\n",
                        "Data acquired for Step 8\n",
                        "Sequence loaded with the following segment data \"1,1,0,1,0,29999999,2,1,0,1,0,29999999\" and the advancement method is COND\n",
                        "Triggering Pulse Stoped\n",
                        "Data acquired for Step 9\n",
                        "Sequence loaded with the following segment data \"1,1,0,1,0,29999999,2,1,0,1,0,29999999\" and the advancement method is COND\n",
                        "Triggering Pulse Stoped\n",
                        "Data acquired for Step 10\n",
                        "Sequence loaded with the following segment data \"1,1,0,1,0,29999999,2,1,0,1,0,29999999\" and the advancement method is COND\n",
                        "Triggering Pulse Stoped\n",
                        "Data acquired for Step 11\n",
                        "Sequence loaded with the following segment data \"1,1,0,1,0,29999999,2,1,0,1,0,29999999\" and the advancement method is COND\n",
                        "Triggering Pulse Stoped\n",
                        "Data acquired for Step 12\n",
                        "Sequence loaded with the following segment data \"1,1,0,1,0,29999999,2,1,0,1,0,29999999\" and the advancement method is COND\n",
                        "Triggering Pulse Stoped\n",
                        "Data acquired for Step 13\n",
                        "Sequence loaded with the following segment data \"1,1,0,1,0,29999999,2,1,0,1,0,29999999\" and the advancement method is COND\n",
                        "Triggering Pulse Stoped\n",
                        "Data acquired for Step 14\n",
                        "Sequence loaded with the following segment data \"1,1,0,1,0,29999999,2,1,0,1,0,29999999\" and the advancement method is COND\n",
                        "Triggering Pulse Stoped\n",
                        "Data acquired for Step 15\n",
                        "Sequence loaded with the following segment data \"1,1,0,1,0,29999999,2,1,0,1,0,29999999\" and the advancement method is COND\n",
                        "Triggering Pulse Stoped\n",
                        "Data acquired for Step 16\n",
                        "Sequence loaded with the following segment data \"1,1,0,1,0,29999999,2,1,0,1,0,29999999\" and the advancement method is COND\n",
                        "Triggering Pulse Stoped\n",
                        "Data acquired for Step 17\n",
                        "Sequence loaded with the following segment data \"1,1,0,1,0,29999999,2,1,0,1,0,29999999\" and the advancement method is COND\n",
                        "Triggering Pulse Stoped\n",
                        "Data acquired for Step 18\n",
                        "Sequence loaded with the following segment data \"1,1,0,1,0,29999999,2,1,0,1,0,29999999\" and the advancement method is COND\n",
                        "Triggering Pulse Stoped\n",
                        "Data acquired for Step 19\n",
                        "Sequence loaded with the following segment data \"1,1,0,1,0,29999999,2,1,0,1,0,29999999\" and the advancement method is COND\n",
                        "Triggering Pulse Stoped\n",
                        "Data acquired for Step 20\n",
                        "Sequence loaded with the following segment data \"1,1,0,1,0,29999999,2,1,0,1,0,29999999\" and the advancement method is COND\n",
                        "Triggering Pulse Stoped\n",
                        "Data acquired for Step 21\n",
                        "Sequence loaded with the following segment data \"1,1,0,1,0,29999999,2,1,0,1,0,29999999\" and the advancement method is COND\n",
                        "Triggering Pulse Stoped\n",
                        "Data acquired for Step 22\n",
                        "Sequence loaded with the following segment data \"1,1,0,1,0,29999999,2,1,0,1,0,29999999\" and the advancement method is COND\n",
                        "Triggering Pulse Stoped\n",
                        "Data acquired for Step 23\n",
                        "Sequence loaded with the following segment data \"1,1,0,1,0,29999999,2,1,0,1,0,29999999\" and the advancement method is COND\n",
                        "Triggering Pulse Stoped\n",
                        "Data acquired for Step 24\n",
                        "Sequence loaded with the following segment data \"1,1,0,1,0,29999999,2,1,0,1,0,29999999\" and the advancement method is COND\n",
                        "Triggering Pulse Stoped\n",
                        "Data acquired for Step 25\n",
                        "Sequence loaded with the following segment data \"1,1,0,1,0,29999999,2,1,0,1,0,29999999\" and the advancement method is COND\n",
                        "Triggering Pulse Stoped\n",
                        "Data acquired for Step 26\n",
                        "Sequence loaded with the following segment data \"1,1,0,1,0,29999999,2,1,0,1,0,29999999\" and the advancement method is COND\n",
                        "Triggering Pulse Stoped\n",
                        "Data acquired for Step 27\n",
                        "Sequence loaded with the following segment data \"1,1,0,1,0,29999999,2,1,0,1,0,29999999\" and the advancement method is COND\n",
                        "Triggering Pulse Stoped\n",
                        "Data acquired for Step 28\n",
                        "Sequence loaded with the following segment data \"1,1,0,1,0,29999999,2,1,0,1,0,29999999\" and the advancement method is COND\n",
                        "Triggering Pulse Stoped\n",
                        "Data acquired for Step 29\n",
                        "Sequence loaded with the following segment data \"1,1,0,1,0,29999999,2,1,0,1,0,29999999\" and the advancement method is COND\n",
                        "Triggering Pulse Stoped\n",
                        "Data acquired for Step 30\n"
                    ]
                }
            ],
            "metadata": {}
        },
        {
            "cell_type": "code",
            "execution_count": null,
            "source": [
                "fig,ax= plt.subplots()\r\n",
                "ax.grid(True)\r\n",
                "for i in range(0,len(Diode_Signal)):\r\n",
                "    plt.plot(Diode_Signal[i][1],Diode_Signal[i][0],label= 'Step {st}'.format(st = i ))\r\n",
                "\r\n",
                "ax.set_ylabel(r'V  [V]')\r\n",
                "ax.set_xlabel('t  [s]')\r\n",
                "ax.set_title(r' Diode Signal at Different Steps,  {b} Samples, 10micro probe duration'.format(b = len(Diode_Signal[0][1]) ))\r\n",
                "#ax.legend(bbox_to_anchor=(1.05, 1), loc='upper left', borderaxespad=0.)\r\n",
                "#ax.legend(loc=0)\r\n",
                "plt.show()\r\n",
                "#fig.savefig(r'{loc}\\Diode Signal time cstant = {a}, sensitivity {b},{c} daqseconds, 5ms scheme, probe duration 10 micro,31 steps, no legend,6Ghz .jpeg'.format(loc = PulseScheme_A_10micro['Measurement file Path'],a = Lock_In_Settings['Time Constant'], b = Lock_In_Settings['Sensitivity'], c = playing_time),bbox_inches='tight')"
            ],
            "outputs": [
                {
                    "output_type": "display_data",
                    "data": {
                        "image/png": "[encoded data removed]",
                        "text/plain": [
                            "<Figure size 432x288 with 1 Axes>"
                        ]
                    },
                    "metadata": {}
                }
            ],
            "metadata": {}
        },
        {
            "cell_type": "code",
            "execution_count": null,
            "source": [
                "time_delay = np.linspace(-20,20,31)"
            ],
            "outputs": [],
            "metadata": {}
        },
        {
            "cell_type": "code",
            "execution_count": null,
            "source": [
                "#change this to V regime\r\n",
                "fig,axes = plt.subplots()\r\n",
                "\r\n",
                "axes.grid(True)\r\n",
                "\r\n",
                "plt.plot(time_delay,averaged_data,label=r'10$\\mu$s Probe Width ',color='red')\r\n",
                "#plt.plot(tm,pul,label = '{a} samples'.format(a = len(pul)))\r\n",
                "\r\n",
                "axes.set_xlabel(r'time delay [$\\mu$s]')\r\n",
                "axes.set_ylabel(r'Diode Signal [V]')\r\n",
                "axes.set_title('Auto-Correlation 31 steps ')\r\n",
                "\r\n",
                "axes.legend(loc = 0)\r\n",
                "plt.show()\r\n",
                "\r\n",
                "fig.savefig(r'{loc}\\Autocorrelation function 31 steps probes 5ms length tc = {a}, sens {b}, {c}s DAQ 6Ghz.jpeg'.format(loc = PulseScheme_A_10micro['Measurement file Path'],a = Lock_In_Settings['Time Constant'], b = Lock_In_Settings['Sensitivity'], c = playing_time ))"
            ],
            "outputs": [
                {
                    "output_type": "display_data",
                    "data": {
                        "image/png": "[encoded data removed]",
                        "text/plain": [
                            "<Figure size 432x288 with 1 Axes>"
                        ]
                    },
                    "metadata": {}
                }
            ],
            "metadata": {}
        },
        {
            "cell_type": "markdown",
            "source": [
                "## 1micro"
            ],
            "metadata": {}
        },
        {
            "cell_type": "code",
            "execution_count": 24,
            "source": [
                "Pump_1micro = {\r\n",
                "    'Name':'Pump_1micro',\r\n",
                "    'Amplitude':35,\r\n",
                "    'Start time':2,\r\n",
                "    'End time':2e-10,\r\n",
                "    'Start Duration':1,\r\n",
                "    'End Duration':60,\r\n",
                "    'Sweep time':0,\r\n",
                "    'Sweep Duration':0\r\n",
                "}"
            ],
            "outputs": [],
            "metadata": {}
        },
        {
            "cell_type": "code",
            "execution_count": 25,
            "source": [
                "ProbeA_1micro = {\r\n",
                "    'Name':'ProbeA_1micro',\r\n",
                "    'Amplitude':20,\r\n",
                "    'Start time':0,\r\n",
                "    'End time':4,\r\n",
                "    'Start Duration':1,\r\n",
                "    'End Duration':60,\r\n",
                "    'Sweep time':1,\r\n",
                "    'Sweep Duration':0\r\n",
                "}"
            ],
            "outputs": [],
            "metadata": {}
        },
        {
            "cell_type": "code",
            "execution_count": 26,
            "source": [
                "ProbeB_1micro = {\r\n",
                "    'Name':'ProbeB_1micro',\r\n",
                "    'Amplitude':0,\r\n",
                "    'Start time':0,\r\n",
                "    'End time':12,\r\n",
                "    'Start Duration':1,\r\n",
                "    'End Duration':6,\r\n",
                "    'Sweep time':0,\r\n",
                "    'Sweep Duration':0\r\n",
                "}"
            ],
            "outputs": [],
            "metadata": {}
        },
        {
            "cell_type": "code",
            "execution_count": 27,
            "source": [
                "PulseScheme_A_1micro =  {\r\n",
                "    'Name' : 'PulseScheme_A_1micro',\r\n",
                "    'Pulse Scheme': [Pump_1micro,ProbeA_1micro],\r\n",
                "    'Number of repetitions': 200,\r\n",
                "    'Measurement file Path': r'D:\\Alejandro\\Pulses\\diode measurements\\Autocorrelation measurements\\1micro'\r\n",
                "}"
            ],
            "outputs": [],
            "metadata": {}
        },
        {
            "cell_type": "code",
            "execution_count": 28,
            "source": [
                "PulseScheme_B_1micro  = {\r\n",
                "    'Name' : 'PulseScheme_B_1micro',\r\n",
                "    'Pulse Scheme': [ProbeB_1micro,ProbeB_1micro],\r\n",
                "    'Number of repetitions': 1,\r\n",
                "    'Measurement file Path': r'D:\\Alejandro\\Pulses\\diode measurements\\Autocorrelation measurements\\1micro'\r\n",
                "}"
            ],
            "outputs": [],
            "metadata": {}
        },
        {
            "cell_type": "code",
            "execution_count": null,
            "source": [],
            "outputs": [],
            "metadata": {}
        },
        {
            "cell_type": "code",
            "execution_count": null,
            "source": [
                "#Exporting pickle\r\n",
                "\r\n",
                "with open(r\"{dict}\\cycleA_31steps_5ms_1micro_6GHz.p\".format(dict = PulseScheme_A_1micro['Measurement file Path']), \"wb\") as k:\r\n",
                "    pickle.dump(sweeping_run_a_1micro, k)\r\n",
                "\r\n",
                "\r\n",
                "with open(r\"{dict}\\cycleB_31steps_5ms_1micro_6GHz.p\".format(dict = PulseScheme_A_1micro['Measurement file Path']), \"wb\") as h:\r\n",
                "    pickle.dump(sweeping_run_b_1micro, h)"
            ],
            "outputs": [],
            "metadata": {}
        },
        {
            "cell_type": "code",
            "execution_count": 29,
            "source": [
                "#Importing Pickle\r\n",
                "\r\n",
                "with open(r\"{dict}\\cycleA_31steps_5ms_1micro_6GHz.p\".format(dict = PulseScheme_A_1micro['Measurement file Path']), \"rb\") as j:\r\n",
                "    sweeping_runa_1micro = pickle.load(j)\r\n",
                "\r\n",
                "with open(r\"{dict}\\cycleB_31steps_5ms_1micro_6GHz.p\".format(dict = PulseScheme_A_1micro['Measurement file Path']), \"rb\") as f:\r\n",
                "    sweeping_runb_1micro = pickle.load(f)"
            ],
            "outputs": [],
            "metadata": {}
        },
        {
            "cell_type": "code",
            "execution_count": 31,
            "source": [
                "sweeping_runb_1micro"
            ],
            "outputs": [
                {
                    "output_type": "execute_result",
                    "data": {
                        "text/plain": [
                            "{'Pulse File Location, at step 0': 'D:\\\\Alejandro\\\\Pulses\\\\diode measurements\\\\Prepared Pulse Schemes CSV\\\\1micro\\\\SegmentB_30000000_0.csv',\n",
                            " 'Pulse File Location, at step 1': 'D:\\\\Alejandro\\\\Pulses\\\\diode measurements\\\\Prepared Pulse Schemes CSV\\\\1micro\\\\SegmentB_30000000_1.csv',\n",
                            " 'Pulse File Location, at step 2': 'D:\\\\Alejandro\\\\Pulses\\\\diode measurements\\\\Prepared Pulse Schemes CSV\\\\1micro\\\\SegmentB_30000000_2.csv',\n",
                            " 'Pulse File Location, at step 3': 'D:\\\\Alejandro\\\\Pulses\\\\diode measurements\\\\Prepared Pulse Schemes CSV\\\\1micro\\\\SegmentB_30000000_3.csv',\n",
                            " 'Pulse File Location, at step 4': 'D:\\\\Alejandro\\\\Pulses\\\\diode measurements\\\\Prepared Pulse Schemes CSV\\\\1micro\\\\SegmentB_30000000_4.csv',\n",
                            " 'Pulse File Location, at step 5': 'D:\\\\Alejandro\\\\Pulses\\\\diode measurements\\\\Prepared Pulse Schemes CSV\\\\1micro\\\\SegmentB_30000000_5.csv',\n",
                            " 'Pulse File Location, at step 6': 'D:\\\\Alejandro\\\\Pulses\\\\diode measurements\\\\Prepared Pulse Schemes CSV\\\\1micro\\\\SegmentB_30000000_6.csv',\n",
                            " 'Pulse File Location, at step 7': 'D:\\\\Alejandro\\\\Pulses\\\\diode measurements\\\\Prepared Pulse Schemes CSV\\\\1micro\\\\SegmentB_30000000_7.csv',\n",
                            " 'Pulse File Location, at step 8': 'D:\\\\Alejandro\\\\Pulses\\\\diode measurements\\\\Prepared Pulse Schemes CSV\\\\1micro\\\\SegmentB_30000000_8.csv',\n",
                            " 'Pulse File Location, at step 9': 'D:\\\\Alejandro\\\\Pulses\\\\diode measurements\\\\Prepared Pulse Schemes CSV\\\\1micro\\\\SegmentB_30000000_9.csv',\n",
                            " 'Pulse File Location, at step 10': 'D:\\\\Alejandro\\\\Pulses\\\\diode measurements\\\\Prepared Pulse Schemes CSV\\\\1micro\\\\SegmentB_30000000_10.csv',\n",
                            " 'Pulse File Location, at step 11': 'D:\\\\Alejandro\\\\Pulses\\\\diode measurements\\\\Prepared Pulse Schemes CSV\\\\1micro\\\\SegmentB_30000000_11.csv',\n",
                            " 'Pulse File Location, at step 12': 'D:\\\\Alejandro\\\\Pulses\\\\diode measurements\\\\Prepared Pulse Schemes CSV\\\\1micro\\\\SegmentB_30000000_12.csv',\n",
                            " 'Pulse File Location, at step 13': 'D:\\\\Alejandro\\\\Pulses\\\\diode measurements\\\\Prepared Pulse Schemes CSV\\\\1micro\\\\SegmentB_30000000_13.csv',\n",
                            " 'Pulse File Location, at step 14': 'D:\\\\Alejandro\\\\Pulses\\\\diode measurements\\\\Prepared Pulse Schemes CSV\\\\1micro\\\\SegmentB_30000000_14.csv',\n",
                            " 'Pulse File Location, at step 15': 'D:\\\\Alejandro\\\\Pulses\\\\diode measurements\\\\Prepared Pulse Schemes CSV\\\\1micro\\\\SegmentB_30000000_15.csv',\n",
                            " 'Pulse File Location, at step 16': 'D:\\\\Alejandro\\\\Pulses\\\\diode measurements\\\\Prepared Pulse Schemes CSV\\\\1micro\\\\SegmentB_30000000_16.csv',\n",
                            " 'Pulse File Location, at step 17': 'D:\\\\Alejandro\\\\Pulses\\\\diode measurements\\\\Prepared Pulse Schemes CSV\\\\1micro\\\\SegmentB_30000000_17.csv',\n",
                            " 'Pulse File Location, at step 18': 'D:\\\\Alejandro\\\\Pulses\\\\diode measurements\\\\Prepared Pulse Schemes CSV\\\\1micro\\\\SegmentB_30000000_18.csv',\n",
                            " 'Pulse File Location, at step 19': 'D:\\\\Alejandro\\\\Pulses\\\\diode measurements\\\\Prepared Pulse Schemes CSV\\\\1micro\\\\SegmentB_30000000_19.csv',\n",
                            " 'Pulse File Location, at step 20': 'D:\\\\Alejandro\\\\Pulses\\\\diode measurements\\\\Prepared Pulse Schemes CSV\\\\1micro\\\\SegmentB_30000000_20.csv',\n",
                            " 'Pulse File Location, at step 21': 'D:\\\\Alejandro\\\\Pulses\\\\diode measurements\\\\Prepared Pulse Schemes CSV\\\\1micro\\\\SegmentB_30000000_21.csv',\n",
                            " 'Pulse File Location, at step 22': 'D:\\\\Alejandro\\\\Pulses\\\\diode measurements\\\\Prepared Pulse Schemes CSV\\\\1micro\\\\SegmentB_30000000_22.csv',\n",
                            " 'Pulse File Location, at step 23': 'D:\\\\Alejandro\\\\Pulses\\\\diode measurements\\\\Prepared Pulse Schemes CSV\\\\1micro\\\\SegmentB_30000000_23.csv',\n",
                            " 'Pulse File Location, at step 24': 'D:\\\\Alejandro\\\\Pulses\\\\diode measurements\\\\Prepared Pulse Schemes CSV\\\\1micro\\\\SegmentB_30000000_24.csv',\n",
                            " 'Pulse File Location, at step 25': 'D:\\\\Alejandro\\\\Pulses\\\\diode measurements\\\\Prepared Pulse Schemes CSV\\\\1micro\\\\SegmentB_30000000_25.csv',\n",
                            " 'Pulse File Location, at step 26': 'D:\\\\Alejandro\\\\Pulses\\\\diode measurements\\\\Prepared Pulse Schemes CSV\\\\1micro\\\\SegmentB_30000000_26.csv',\n",
                            " 'Pulse File Location, at step 27': 'D:\\\\Alejandro\\\\Pulses\\\\diode measurements\\\\Prepared Pulse Schemes CSV\\\\1micro\\\\SegmentB_30000000_27.csv',\n",
                            " 'Pulse File Location, at step 28': 'D:\\\\Alejandro\\\\Pulses\\\\diode measurements\\\\Prepared Pulse Schemes CSV\\\\1micro\\\\SegmentB_30000000_28.csv',\n",
                            " 'Pulse File Location, at step 29': 'D:\\\\Alejandro\\\\Pulses\\\\diode measurements\\\\Prepared Pulse Schemes CSV\\\\1micro\\\\SegmentB_30000000_29.csv',\n",
                            " 'Pulse File Location, at step 30': 'D:\\\\Alejandro\\\\Pulses\\\\diode measurements\\\\Prepared Pulse Schemes CSV\\\\1micro\\\\SegmentB_30000000_30.csv'}"
                        ]
                    },
                    "metadata": {},
                    "execution_count": 31
                }
            ],
            "metadata": {}
        },
        {
            "cell_type": "code",
            "execution_count": null,
            "source": [
                "M8190A.write('SEQ:DEL:ALL')"
            ],
            "outputs": [
                {
                    "output_type": "display_data",
                    "data": {
                        "text/plain": [
                            "12"
                        ]
                    },
                    "metadata": {}
                }
            ],
            "metadata": {}
        },
        {
            "cell_type": "code",
            "execution_count": null,
            "source": [
                "Lock_In_Settings = {\r\n",
                "'Time Constant' : '300ms',\r\n",
                "'Sensitivity' : '500 microVolts',\r\n",
                "'Reserve' : 'Normal',\r\n",
                "'db' : 24,\r\n",
                "'Modulation': '100Hz'\r\n",
                "}"
            ],
            "outputs": [],
            "metadata": {}
        },
        {
            "cell_type": "code",
            "execution_count": null,
            "source": [
                "playing_time = 10 #in seconds\r\n",
                "\r\n",
                "Diode_Signal, averaged_data = Measurement_Autocorrelation_voltage(M8190A,DAQ_Settings1,1000, playing_time ,sweeping_runa_1micro,sweeping_runb_1micro,PulseScheme_A_1micro['Measurement file Path'],Lock_In_Settings)"
            ],
            "outputs": [
                {
                    "output_type": "stream",
                    "name": "stdout",
                    "text": [
                        "Sequence loaded with the following segment data \"1,1,0,1,0,29999999,2,1,0,1,0,29999999\" and the advancement method is COND\n",
                        "Triggering Pulse Stoped\n",
                        "Data acquired for Step 0\n",
                        "Sequence loaded with the following segment data \"1,1,0,1,0,29999999,2,1,0,1,0,29999999\" and the advancement method is COND\n",
                        "Triggering Pulse Stoped\n",
                        "Data acquired for Step 1\n",
                        "Sequence loaded with the following segment data \"1,1,0,1,0,29999999,2,1,0,1,0,29999999\" and the advancement method is COND\n",
                        "Triggering Pulse Stoped\n",
                        "Data acquired for Step 2\n",
                        "Sequence loaded with the following segment data \"1,1,0,1,0,29999999,2,1,0,1,0,29999999\" and the advancement method is COND\n",
                        "Triggering Pulse Stoped\n",
                        "Data acquired for Step 3\n",
                        "Sequence loaded with the following segment data \"1,1,0,1,0,29999999,2,1,0,1,0,29999999\" and the advancement method is COND\n",
                        "Triggering Pulse Stoped\n",
                        "Data acquired for Step 4\n",
                        "Sequence loaded with the following segment data \"1,1,0,1,0,29999999,2,1,0,1,0,29999999\" and the advancement method is COND\n",
                        "Triggering Pulse Stoped\n",
                        "Data acquired for Step 5\n",
                        "Sequence loaded with the following segment data \"1,1,0,1,0,29999999,2,1,0,1,0,29999999\" and the advancement method is COND\n",
                        "Triggering Pulse Stoped\n",
                        "Data acquired for Step 6\n",
                        "Sequence loaded with the following segment data \"1,1,0,1,0,29999999,2,1,0,1,0,29999999\" and the advancement method is COND\n",
                        "Triggering Pulse Stoped\n",
                        "Data acquired for Step 7\n",
                        "Sequence loaded with the following segment data \"1,1,0,1,0,29999999,2,1,0,1,0,29999999\" and the advancement method is COND\n",
                        "Triggering Pulse Stoped\n",
                        "Data acquired for Step 8\n"
                    ]
                }
            ],
            "metadata": {}
        },
        {
            "cell_type": "code",
            "execution_count": null,
            "source": [
                "fig,ax= plt.subplots()\r\n",
                "ax.grid(True)\r\n",
                "for i in range(0,len(Diode_Signal)):\r\n",
                "    plt.plot(Diode_Signal[i][1],Diode_Signal[i][0],label= 'Step {st}'.format(st = i ))\r\n",
                "\r\n",
                "ax.set_ylabel(r'V  [V]')\r\n",
                "ax.set_xlabel('t  [s]')\r\n",
                "ax.set_title(r' Diode Signal at Different Steps,  {b} Samples, 1$\\mu$ probe duration'.format(b = len(Diode_Signal[0][1]) ))\r\n",
                "#ax.legend(bbox_to_anchor=(1.05, 1), loc='upper left', borderaxespad=0.)\r\n",
                "#ax.legend(loc=0)\r\n",
                "plt.show()\r\n",
                "\r\n",
                "fig.savefig(r'{loc}\\Diode Signal time cstant = {a}, sensitivity {b},{c} daqseconds, 5ms scheme, probe duration 1 micro,31 steps, no legend,6Ghz .jpeg'.format(loc = PulseScheme_A_1micro['Measurement file Path'],a = Lock_In_Settings['Time Constant'], b = Lock_In_Settings['Sensitivity'], c = playing_time),bbox_inches='tight')"
            ],
            "outputs": [
                {
                    "output_type": "display_data",
                    "data": {
                        "image/png": "[encoded data removed]",
                        "text/plain": [
                            "<Figure size 432x288 with 1 Axes>"
                        ]
                    },
                    "metadata": {}
                }
            ],
            "metadata": {}
        },
        {
            "cell_type": "code",
            "execution_count": null,
            "source": [
                "time_delay = np.linspace(-2,2,31)"
            ],
            "outputs": [],
            "metadata": {}
        },
        {
            "cell_type": "code",
            "execution_count": null,
            "source": [
                "#change this to V regime\r\n",
                "fig,axes = plt.subplots()\r\n",
                "\r\n",
                "axes.grid(True)\r\n",
                "\r\n",
                "plt.plot(time_delay,averaged_data,label=r'1$\\mu$s Probe Width ',color='blue')\r\n",
                "#plt.plot(tm,pul,label = '{a} samples'.format(a = len(pul)))\r\n",
                "\r\n",
                "axes.set_xlabel(r'time delay [$\\mu$s]')\r\n",
                "axes.set_ylabel(r'Diode Signal [V]')\r\n",
                "axes.set_title('Auto-Correlation 31 steps ')\r\n",
                "\r\n",
                "axes.legend(loc = 0)\r\n",
                "plt.show()\r\n",
                "\r\n",
                "fig.savefig(r'{loc}\\Autocorrelation function 31 steps probes 5ms length tc = {a}, sens {b}, {c}s DAQ 6Ghz.jpeg'.format(loc = PulseScheme_A_1micro['Measurement file Path'],a = Lock_In_Settings['Time Constant'], b = Lock_In_Settings['Sensitivity'], c = playing_time ))"
            ],
            "outputs": [
                {
                    "output_type": "display_data",
                    "data": {
                        "image/png": "[encoded data removed]",
                        "text/plain": [
                            "<Figure size 432x288 with 1 Axes>"
                        ]
                    },
                    "metadata": {}
                }
            ],
            "metadata": {}
        },
        {
            "cell_type": "markdown",
            "source": [
                "## 100nano"
            ],
            "metadata": {}
        },
        {
            "cell_type": "code",
            "execution_count": 5,
            "source": [
                "Pump_100nano = {\r\n",
                "    'Name':'Pump_100nano',\r\n",
                "    'Amplitude':35,\r\n",
                "    'Start time':200,\r\n",
                "    'End time':2e-10,\r\n",
                "    'Start Duration':100,\r\n",
                "    'End Duration':60,\r\n",
                "    'Sweep time':0,\r\n",
                "    'Sweep Duration':0\r\n",
                "}"
            ],
            "outputs": [],
            "metadata": {}
        },
        {
            "cell_type": "code",
            "execution_count": 6,
            "source": [
                "ProbeA_100nano = {\r\n",
                "    'Name':'ProbeA_100nano',\r\n",
                "    'Amplitude':20,\r\n",
                "    'Start time':0,\r\n",
                "    'End time':400,\r\n",
                "    'Start Duration':100,\r\n",
                "    'End Duration':60,\r\n",
                "    'Sweep time':1,\r\n",
                "    'Sweep Duration':0\r\n",
                "}"
            ],
            "outputs": [],
            "metadata": {}
        },
        {
            "cell_type": "code",
            "execution_count": 7,
            "source": [
                "ProbeB_100nano = {\r\n",
                "    'Name':'ProbeB_100nano',\r\n",
                "    'Amplitude':0,\r\n",
                "    'Start time':0,\r\n",
                "    'End time':12,\r\n",
                "    'Start Duration':1,\r\n",
                "    'End Duration':6,\r\n",
                "    'Sweep time':0,\r\n",
                "    'Sweep Duration':0\r\n",
                "}"
            ],
            "outputs": [],
            "metadata": {}
        },
        {
            "cell_type": "code",
            "execution_count": 8,
            "source": [
                "PulseScheme_A_100nano =  {\r\n",
                "    'Name' : 'PulseScheme_A_100nano',\r\n",
                "    'Pulse Scheme': [Pump_100nano,ProbeA_100nano],\r\n",
                "    'Number of repetitions': 2000,\r\n",
                "    'Measurement file Path': r'D:\\Alejandro\\Pulses\\diode measurements\\Autocorrelation measurements\\100nano'\r\n",
                "}"
            ],
            "outputs": [],
            "metadata": {}
        },
        {
            "cell_type": "code",
            "execution_count": 9,
            "source": [
                "PulseScheme_B_100nano  = {\r\n",
                "    'Name' : 'PulseScheme__100nano',\r\n",
                "    'Pulse Scheme': [ProbeB_100nano,ProbeB_100nano],\r\n",
                "    'Number of repetitions': 2000,\r\n",
                "    'Measurement file Path': r'D:\\Alejandro\\Pulses\\diode measurements\\Autocorrelation measurements\\100nano'\r\n",
                "}"
            ],
            "outputs": [],
            "metadata": {}
        },
        {
            "cell_type": "code",
            "execution_count": 28,
            "source": [
                "sam = int(6e9*5e-3)\r\n",
                "\r\n",
                "#sam /480\r\n",
                "\r\n",
                "#M8190A.write('FREQ:RAST 6000000000')"
            ],
            "outputs": [],
            "metadata": {}
        },
        {
            "cell_type": "code",
            "execution_count": null,
            "source": [
                "sweeping_run_a_100nano = Sweeping_Single_List_File_teil(PulseScheme_A_100nano,30,5000000,sam,0,30,AWG_Settings,'A')[0]"
            ],
            "outputs": [],
            "metadata": {}
        },
        {
            "cell_type": "code",
            "execution_count": null,
            "source": [
                "sweeping_run_b_100nano = Sweeping_Single_List_File_teil(PulseScheme_B_100nano,30,5000000,sam,0,30,AWG_Settings,'B')[0]"
            ],
            "outputs": [],
            "metadata": {}
        },
        {
            "cell_type": "code",
            "execution_count": null,
            "source": [
                "#Exporting pickle\r\n",
                "\r\n",
                "with open(r\"{dict}\\cycleA_31steps_5ms_100nano_6GHz.p\".format(dict = PulseScheme_A_100nano['Measurement file Path']), \"wb\") as k:\r\n",
                "    pickle.dump(sweeping_run_a_100nano, k)\r\n",
                "\r\n",
                "\r\n",
                "with open(r\"{dict}\\cycleB_31steps_5ms_100nano_6GHz.p\".format(dict = PulseScheme_A_100nano['Measurement file Path']), \"wb\") as h:\r\n",
                "    pickle.dump(sweeping_run_b_100nano, h)"
            ],
            "outputs": [],
            "metadata": {}
        },
        {
            "cell_type": "code",
            "execution_count": null,
            "source": [
                "#Importing Pickle\r\n",
                "\r\n",
                "with open(r\"{dict}\\cycleA_31steps_5ms_100nano_6GHz.p\".format(dict = PulseScheme_A_100nano['Measurement file Path']), \"rb\") as j:\r\n",
                "    sweeping_runa_100nano = pickle.load(j)\r\n",
                "\r\n",
                "with open(r\"{dict}\\cycleB_31steps_5ms_100nano_6GHz.p\".format(dict = PulseScheme_A_100nano['Measurement file Path']), \"rb\") as f:\r\n",
                "    sweeping_runb_100nano = pickle.load(f)"
            ],
            "outputs": [],
            "metadata": {}
        },
        {
            "cell_type": "code",
            "execution_count": null,
            "source": [
                "M8190A.write('SEQ:DEL:ALL')"
            ],
            "outputs": [
                {
                    "output_type": "display_data",
                    "data": {
                        "text/plain": [
                            "12"
                        ]
                    },
                    "metadata": {}
                }
            ],
            "metadata": {}
        },
        {
            "cell_type": "code",
            "execution_count": null,
            "source": [
                "Lock_In_Settings = {\r\n",
                "'Time Constant' : '300ms',\r\n",
                "'Sensitivity' : '500 microVolts',\r\n",
                "'Reserve' : 'Normal',\r\n",
                "'db' : 24,\r\n",
                "'Modulation': '100Hz'\r\n",
                "}"
            ],
            "outputs": [],
            "metadata": {}
        },
        {
            "cell_type": "code",
            "execution_count": null,
            "source": [
                "playing_time = 10 #in seconds\r\n",
                "\r\n",
                "Diode_Signal, averaged_data = Measurement_Autocorrelation_voltage(M8190A,DAQ_Settings1,1000, playing_time ,sweeping_runa_100nano,sweeping_runb_100nano,PulseScheme_A_100nano['Measurement file Path'],Lock_In_Settings)"
            ],
            "outputs": [
                {
                    "output_type": "stream",
                    "name": "stdout",
                    "text": [
                        "Sequence loaded with the following segment data \"1,1,0,1,0,29999999,2,1,0,1,0,29999999\" and the advancement method is COND\n",
                        "Triggering Pulse Stoped\n",
                        "Data acquired for Step 0\n",
                        "Sequence loaded with the following segment data \"1,1,0,1,0,29999999,2,1,0,1,0,29999999\" and the advancement method is COND\n",
                        "Triggering Pulse Stoped\n",
                        "Data acquired for Step 1\n",
                        "Sequence loaded with the following segment data \"1,1,0,1,0,29999999,2,1,0,1,0,29999999\" and the advancement method is COND\n",
                        "Triggering Pulse Stoped\n",
                        "Data acquired for Step 2\n",
                        "Sequence loaded with the following segment data \"1,1,0,1,0,29999999,2,1,0,1,0,29999999\" and the advancement method is COND\n",
                        "Triggering Pulse Stoped\n",
                        "Data acquired for Step 3\n",
                        "Sequence loaded with the following segment data \"1,1,0,1,0,29999999,2,1,0,1,0,29999999\" and the advancement method is COND\n",
                        "Triggering Pulse Stoped\n",
                        "Data acquired for Step 4\n",
                        "Sequence loaded with the following segment data \"1,1,0,1,0,29999999,2,1,0,1,0,29999999\" and the advancement method is COND\n",
                        "Triggering Pulse Stoped\n",
                        "Data acquired for Step 5\n",
                        "Sequence loaded with the following segment data \"1,1,0,1,0,29999999,2,1,0,1,0,29999999\" and the advancement method is COND\n",
                        "Triggering Pulse Stoped\n",
                        "Data acquired for Step 6\n",
                        "Sequence loaded with the following segment data \"1,1,0,1,0,29999999,2,1,0,1,0,29999999\" and the advancement method is COND\n",
                        "Triggering Pulse Stoped\n",
                        "Data acquired for Step 7\n",
                        "Sequence loaded with the following segment data \"1,1,0,1,0,29999999,2,1,0,1,0,29999999\" and the advancement method is COND\n",
                        "Triggering Pulse Stoped\n",
                        "Data acquired for Step 8\n"
                    ]
                }
            ],
            "metadata": {}
        },
        {
            "cell_type": "code",
            "execution_count": null,
            "source": [
                "fig,ax= plt.subplots()\r\n",
                "ax.grid(True)\r\n",
                "for i in range(0,len(Diode_Signal)):\r\n",
                "    plt.plot(Diode_Signal[i][1],Diode_Signal[i][0],label= 'Step {st}'.format(st = i ))\r\n",
                "\r\n",
                "ax.set_ylabel(r'V  [V]')\r\n",
                "ax.set_xlabel('t  [s]')\r\n",
                "ax.set_title(r' Diode Signal at Different Steps,  {b} Samples, 100 nano probe duration'.format(b = len(Diode_Signal[0][1]) ))\r\n",
                "#ax.legend(bbox_to_anchor=(1.05, 1), loc='upper left', borderaxespad=0.)\r\n",
                "#ax.legend(loc=0)\r\n",
                "plt.show()\r\n",
                "\r\n",
                "fig.savefig(r'{loc}\\Diode Signal time cstant = {a}, sensitivity {b},{c} daqseconds, 5ms scheme, probe duration 100 nano,31 steps, no legend,6Ghz .jpeg'.format(loc = PulseScheme_A_100nano['Measurement file Path'],a = Lock_In_Settings['Time Constant'], b = Lock_In_Settings['Sensitivity'], c = playing_time),bbox_inches='tight')"
            ],
            "outputs": [
                {
                    "output_type": "display_data",
                    "data": {
                        "image/png": "[encoded data removed]",
                        "text/plain": [
                            "<Figure size 432x288 with 1 Axes>"
                        ]
                    },
                    "metadata": {}
                }
            ],
            "metadata": {}
        },
        {
            "cell_type": "code",
            "execution_count": null,
            "source": [
                "time_delay = np.linspace(-200,200,31)"
            ],
            "outputs": [],
            "metadata": {}
        },
        {
            "cell_type": "code",
            "execution_count": null,
            "source": [
                "#change this to V regime\r\n",
                "fig,axes = plt.subplots()\r\n",
                "\r\n",
                "axes.grid(True)\r\n",
                "\r\n",
                "plt.plot(time_delay,averaged_data,label=r'100 ns Probe Width ',color='blue')\r\n",
                "#plt.plot(tm,pul,label = '{a} samples'.format(a = len(pul)))\r\n",
                "\r\n",
                "axes.set_xlabel(r'time delay [ns]')\r\n",
                "axes.set_ylabel(r'Diode Signal [V]')\r\n",
                "axes.set_title('Auto-Correlation 31 steps ')\r\n",
                "\r\n",
                "axes.legend(loc = 0)\r\n",
                "plt.show()\r\n",
                "\r\n",
                "fig.savefig(r'{loc}\\Autocorrelation function 31 steps probes 5ms length tc = {a}, sens {b}, {c}s DAQ 6Ghz.jpeg'.format(loc = PulseScheme_A_100nano['Measurement file Path'],a = Lock_In_Settings['Time Constant'], b = Lock_In_Settings['Sensitivity'], c = playing_time ))"
            ],
            "outputs": [
                {
                    "output_type": "display_data",
                    "data": {
                        "image/png": "[encoded data removed]",
                        "text/plain": [
                            "<Figure size 432x288 with 1 Axes>"
                        ]
                    },
                    "metadata": {}
                }
            ],
            "metadata": {}
        },
        {
            "cell_type": "code",
            "execution_count": null,
            "source": [
                "#Importing Pickle\r\n",
                "\r\n",
                "with open(r\"{dict}\\cycleA_31steps_5ms_100nano_6GHz.p\".format(dict = PulseScheme_A_100nano['Measurement file Path']), \"rb\") as j:\r\n",
                "    sweeping_runa_100nano = pickle.load(j)\r\n",
                "\r\n",
                "with open(r\"{dict}\\cycleB_31steps_5ms_100nano_6GHz.p\".format(dict = PulseScheme_A_100nano['Measurement file Path']), \"rb\") as f:\r\n",
                "    sweeping_runb_100nano = pickle.load(f)"
            ],
            "outputs": [],
            "metadata": {}
        },
        {
            "cell_type": "markdown",
            "source": [
                "## 10nano"
            ],
            "metadata": {}
        },
        {
            "cell_type": "code",
            "execution_count": 4,
            "source": [
                "Pump_10nano = {\r\n",
                "    'Name':'Pump_10nano',\r\n",
                "    'Amplitude':35,\r\n",
                "    'Start time':20,\r\n",
                "    'End time':2e-10,\r\n",
                "    'Start Duration':10,\r\n",
                "    'End Duration':60,\r\n",
                "    'Sweep time':0,\r\n",
                "    'Sweep Duration':0\r\n",
                "}"
            ],
            "outputs": [],
            "metadata": {}
        },
        {
            "cell_type": "code",
            "execution_count": 5,
            "source": [
                "ProbeA_10nano = {\r\n",
                "    'Name':'ProbeA_10nano',\r\n",
                "    'Amplitude':20,\r\n",
                "    'Start time':0,\r\n",
                "    'End time':40,\r\n",
                "    'Start Duration':10,\r\n",
                "    'End Duration':60,\r\n",
                "    'Sweep time':1,\r\n",
                "    'Sweep Duration':0\r\n",
                "}"
            ],
            "outputs": [],
            "metadata": {}
        },
        {
            "cell_type": "code",
            "execution_count": 6,
            "source": [
                "ProbeB_10nano = {\r\n",
                "    'Name':'ProbeB_10nano',\r\n",
                "    'Amplitude':0,\r\n",
                "    'Start time':0,\r\n",
                "    'End time':12,\r\n",
                "    'Start Duration':1,\r\n",
                "    'End Duration':6,\r\n",
                "    'Sweep time':0,\r\n",
                "    'Sweep Duration':0\r\n",
                "}"
            ],
            "outputs": [],
            "metadata": {}
        },
        {
            "cell_type": "code",
            "execution_count": 12,
            "source": [
                "PulseScheme_A_10nano =  {\r\n",
                "    'Name' : 'PulseScheme_A_10nano',\r\n",
                "    'Pulse Scheme': [Pump_10nano,ProbeA_10nano],\r\n",
                "    'Number of repetitions': 80000,\r\n",
                "    'Measurement file Path': r'D:\\Alejandro\\Pulses\\diode measurements\\Autocorrelation measurements\\10nano'\r\n",
                "}"
            ],
            "outputs": [],
            "metadata": {}
        },
        {
            "cell_type": "code",
            "execution_count": 8,
            "source": [
                "PulseScheme_B_10nano  = {\r\n",
                "    'Name' : 'PulseScheme_B_10nano',\r\n",
                "    'Pulse Scheme': [ProbeB_10nano,ProbeB_10nano],\r\n",
                "    'Number of repetitions': 1,\r\n",
                "    'Measurement file Path': r'D:\\Alejandro\\Pulses\\diode measurements\\Autocorrelation measurements\\10nano'\r\n",
                "}"
            ],
            "outputs": [],
            "metadata": {}
        },
        {
            "cell_type": "code",
            "execution_count": 14,
            "source": [
                "sam = int(AWG_Settings['Clock Sample Frecuency']*5e-3)\r\n",
                "sam"
            ],
            "outputs": [
                {
                    "output_type": "execute_result",
                    "data": {
                        "text/plain": [
                            "30000000"
                        ]
                    },
                    "metadata": {},
                    "execution_count": 14
                }
            ],
            "metadata": {}
        },
        {
            "cell_type": "code",
            "execution_count": 13,
            "source": [
                "sweeping_run_a_10nano = Sweeping_Single_List_File_teil(PulseScheme_A_10nano,30,5000000,sam,0,30,AWG_Settings,'A')[0]"
            ],
            "outputs": [],
            "metadata": {}
        },
        {
            "cell_type": "code",
            "execution_count": null,
            "source": [
                "sweeping_run_b_10nano = Sweeping_Single_List_File_teil(PulseScheme_B_10nano,30,5000000,sam,0,30,AWG_Settings,'B')[0]"
            ],
            "outputs": [],
            "metadata": {}
        },
        {
            "cell_type": "code",
            "execution_count": 44,
            "source": [
                "sweeping_run_a_10nano"
            ],
            "outputs": [
                {
                    "output_type": "execute_result",
                    "data": {
                        "text/plain": [
                            "{'Pulse File Location, at step 0': 'D:\\\\Alejandro\\\\Pulses\\\\diode measurements\\\\Prepared Pulse Schemes CSV\\\\10nano\\\\SegmentA_30000000_0.csv',\n",
                            " 'Pulse File Location, at step 1': 'D:\\\\Alejandro\\\\Pulses\\\\diode measurements\\\\Prepared Pulse Schemes CSV\\\\10nano\\\\SegmentA_30000000_1.csv',\n",
                            " 'Pulse File Location, at step 2': 'D:\\\\Alejandro\\\\Pulses\\\\diode measurements\\\\Prepared Pulse Schemes CSV\\\\10nano\\\\SegmentA_30000000_2.csv',\n",
                            " 'Pulse File Location, at step 3': 'D:\\\\Alejandro\\\\Pulses\\\\diode measurements\\\\Prepared Pulse Schemes CSV\\\\10nano\\\\SegmentA_30000000_3.csv',\n",
                            " 'Pulse File Location, at step 4': 'D:\\\\Alejandro\\\\Pulses\\\\diode measurements\\\\Prepared Pulse Schemes CSV\\\\10nano\\\\SegmentA_30000000_4.csv',\n",
                            " 'Pulse File Location, at step 5': 'D:\\\\Alejandro\\\\Pulses\\\\diode measurements\\\\Prepared Pulse Schemes CSV\\\\10nano\\\\SegmentA_30000000_5.csv',\n",
                            " 'Pulse File Location, at step 6': 'D:\\\\Alejandro\\\\Pulses\\\\diode measurements\\\\Prepared Pulse Schemes CSV\\\\10nano\\\\SegmentA_30000000_6.csv',\n",
                            " 'Pulse File Location, at step 7': 'D:\\\\Alejandro\\\\Pulses\\\\diode measurements\\\\Prepared Pulse Schemes CSV\\\\10nano\\\\SegmentA_30000000_7.csv',\n",
                            " 'Pulse File Location, at step 8': 'D:\\\\Alejandro\\\\Pulses\\\\diode measurements\\\\Prepared Pulse Schemes CSV\\\\10nano\\\\SegmentA_30000000_8.csv',\n",
                            " 'Pulse File Location, at step 9': 'D:\\\\Alejandro\\\\Pulses\\\\diode measurements\\\\Prepared Pulse Schemes CSV\\\\10nano\\\\SegmentA_30000000_9.csv',\n",
                            " 'Pulse File Location, at step 10': 'D:\\\\Alejandro\\\\Pulses\\\\diode measurements\\\\Prepared Pulse Schemes CSV\\\\10nano\\\\SegmentA_30000000_10.csv',\n",
                            " 'Pulse File Location, at step 11': 'D:\\\\Alejandro\\\\Pulses\\\\diode measurements\\\\Prepared Pulse Schemes CSV\\\\10nano\\\\SegmentA_30000000_11.csv',\n",
                            " 'Pulse File Location, at step 12': 'D:\\\\Alejandro\\\\Pulses\\\\diode measurements\\\\Prepared Pulse Schemes CSV\\\\10nano\\\\SegmentA_30000000_12.csv',\n",
                            " 'Pulse File Location, at step 13': 'D:\\\\Alejandro\\\\Pulses\\\\diode measurements\\\\Prepared Pulse Schemes CSV\\\\10nano\\\\SegmentA_30000000_13.csv',\n",
                            " 'Pulse File Location, at step 14': 'D:\\\\Alejandro\\\\Pulses\\\\diode measurements\\\\Prepared Pulse Schemes CSV\\\\10nano\\\\SegmentA_30000000_14.csv',\n",
                            " 'Pulse File Location, at step 15': 'D:\\\\Alejandro\\\\Pulses\\\\diode measurements\\\\Prepared Pulse Schemes CSV\\\\10nano\\\\SegmentA_30000000_15.csv',\n",
                            " 'Pulse File Location, at step 16': 'D:\\\\Alejandro\\\\Pulses\\\\diode measurements\\\\Prepared Pulse Schemes CSV\\\\10nano\\\\SegmentA_30000000_16.csv',\n",
                            " 'Pulse File Location, at step 17': 'D:\\\\Alejandro\\\\Pulses\\\\diode measurements\\\\Prepared Pulse Schemes CSV\\\\10nano\\\\SegmentA_30000000_17.csv',\n",
                            " 'Pulse File Location, at step 18': 'D:\\\\Alejandro\\\\Pulses\\\\diode measurements\\\\Prepared Pulse Schemes CSV\\\\10nano\\\\SegmentA_30000000_18.csv',\n",
                            " 'Pulse File Location, at step 19': 'D:\\\\Alejandro\\\\Pulses\\\\diode measurements\\\\Prepared Pulse Schemes CSV\\\\10nano\\\\SegmentA_30000000_19.csv',\n",
                            " 'Pulse File Location, at step 20': 'D:\\\\Alejandro\\\\Pulses\\\\diode measurements\\\\Prepared Pulse Schemes CSV\\\\10nano\\\\SegmentA_30000000_20.csv',\n",
                            " 'Pulse File Location, at step 21': 'D:\\\\Alejandro\\\\Pulses\\\\diode measurements\\\\Prepared Pulse Schemes CSV\\\\10nano\\\\SegmentA_30000000_21.csv',\n",
                            " 'Pulse File Location, at step 22': 'D:\\\\Alejandro\\\\Pulses\\\\diode measurements\\\\Prepared Pulse Schemes CSV\\\\10nano\\\\SegmentA_30000000_22.csv',\n",
                            " 'Pulse File Location, at step 23': 'D:\\\\Alejandro\\\\Pulses\\\\diode measurements\\\\Prepared Pulse Schemes CSV\\\\10nano\\\\SegmentA_30000000_23.csv',\n",
                            " 'Pulse File Location, at step 24': 'D:\\\\Alejandro\\\\Pulses\\\\diode measurements\\\\Prepared Pulse Schemes CSV\\\\10nano\\\\SegmentA_30000000_24.csv',\n",
                            " 'Pulse File Location, at step 25': 'D:\\\\Alejandro\\\\Pulses\\\\diode measurements\\\\Prepared Pulse Schemes CSV\\\\10nano\\\\SegmentA_30000000_25.csv',\n",
                            " 'Pulse File Location, at step 26': 'D:\\\\Alejandro\\\\Pulses\\\\diode measurements\\\\Prepared Pulse Schemes CSV\\\\10nano\\\\SegmentA_30000000_26.csv',\n",
                            " 'Pulse File Location, at step 27': 'D:\\\\Alejandro\\\\Pulses\\\\diode measurements\\\\Prepared Pulse Schemes CSV\\\\10nano\\\\SegmentA_30000000_27.csv',\n",
                            " 'Pulse File Location, at step 28': 'D:\\\\Alejandro\\\\Pulses\\\\diode measurements\\\\Prepared Pulse Schemes CSV\\\\10nano\\\\SegmentA_30000000_28.csv',\n",
                            " 'Pulse File Location, at step 29': 'D:\\\\Alejandro\\\\Pulses\\\\diode measurements\\\\Prepared Pulse Schemes CSV\\\\10nano\\\\SegmentA_30000000_29.csv',\n",
                            " 'Pulse File Location, at step 30': 'D:\\\\Alejandro\\\\Pulses\\\\diode measurements\\\\Prepared Pulse Schemes CSV\\\\10nano\\\\SegmentA_30000000_30.csv'}"
                        ]
                    },
                    "metadata": {},
                    "execution_count": 44
                }
            ],
            "metadata": {}
        },
        {
            "cell_type": "code",
            "execution_count": 45,
            "source": [
                "#Exporting pickle\r\n",
                "\r\n",
                "with open(r\"{dict}\\cycleA_31steps_5ms_10nano_6GHz.p\".format(dict = PulseScheme_A_10nano['Measurement file Path']), \"wb\") as k:\r\n",
                "    pickle.dump(sweeping_run_a_10nano, k)\r\n",
                "\r\n",
                "\r\n",
                "#with open(r\"{dict}\\cycleB_31steps_5ms_10nano_6GHz.p\".format(dict = PulseScheme_A_10nano['Measurement file Path']), \"wb\") as h:\r\n",
                "#    pickle.dump(sweeping_run_b_10nano, h)"
            ],
            "outputs": [],
            "metadata": {}
        },
        {
            "cell_type": "code",
            "execution_count": 15,
            "source": [
                "#Importing Pickle\r\n",
                "\r\n",
                "#with open(r\"{dict}\\cycleA_31steps_5ms_10nano_6GHz.p\".format(dict = PulseScheme_A_10nano['Measurement file Path']), \"rb\") as j:\r\n",
                "#    sweeping_runa_10nano = pickle.load(j)\r\n",
                "\r\n",
                "with open(r\"{dict}\\cycleB_31steps_5ms_10nano_6GHz.p\".format(dict = PulseScheme_A_10nano['Measurement file Path']), \"rb\") as f:\r\n",
                "    sweeping_runb_10nano = pickle.load(f)"
            ],
            "outputs": [],
            "metadata": {}
        },
        {
            "cell_type": "code",
            "execution_count": 16,
            "source": [
                "M8190A.write('SEQ:DEL:ALL')"
            ],
            "outputs": [
                {
                    "output_type": "execute_result",
                    "data": {
                        "text/plain": [
                            "12"
                        ]
                    },
                    "metadata": {},
                    "execution_count": 16
                }
            ],
            "metadata": {}
        },
        {
            "cell_type": "code",
            "execution_count": 17,
            "source": [
                "Lock_In_Settings = {\r\n",
                "'Time Constant' : '300ms',\r\n",
                "'Sensitivity' : '500 microVolts',\r\n",
                "'Reserve' : 'Normal',\r\n",
                "'db' : 24,\r\n",
                "'Modulation': '100Hz'\r\n",
                "}"
            ],
            "outputs": [],
            "metadata": {}
        },
        {
            "cell_type": "code",
            "execution_count": 18,
            "source": [
                "playing_time = 10 #in seconds\r\n",
                "\r\n",
                "Diode_Signal, averaged_data = Measurement_Autocorrelation_voltage(M8190A,DAQ_Settings1,1000, playing_time ,sweeping_run_a_10nano,sweeping_runb_10nano,PulseScheme_A_10nano['Measurement file Path'],Lock_In_Settings)"
            ],
            "outputs": [
                {
                    "output_type": "stream",
                    "name": "stdout",
                    "text": [
                        "Sequence loaded with the following segment data \"1,1,0,1,0,29999999,2,1,0,1,0,29999999\" and the advancement method is COND\n",
                        "Triggering Pulse Stoped\n",
                        "Data acquired for Step 0\n",
                        "Sequence loaded with the following segment data \"1,1,0,1,0,29999999,2,1,0,1,0,29999999\" and the advancement method is COND\n",
                        "Triggering Pulse Stoped\n",
                        "Data acquired for Step 1\n",
                        "Sequence loaded with the following segment data \"1,1,0,1,0,29999999,2,1,0,1,0,29999999\" and the advancement method is COND\n",
                        "Triggering Pulse Stoped\n",
                        "Data acquired for Step 2\n",
                        "Sequence loaded with the following segment data \"1,1,0,1,0,29999999,2,1,0,1,0,29999999\" and the advancement method is COND\n",
                        "Triggering Pulse Stoped\n",
                        "Data acquired for Step 3\n",
                        "Sequence loaded with the following segment data \"1,1,0,1,0,29999999,2,1,0,1,0,29999999\" and the advancement method is COND\n",
                        "Triggering Pulse Stoped\n",
                        "Data acquired for Step 4\n",
                        "Sequence loaded with the following segment data \"1,1,0,1,0,29999999,2,1,0,1,0,29999999\" and the advancement method is COND\n",
                        "Triggering Pulse Stoped\n",
                        "Data acquired for Step 5\n",
                        "Sequence loaded with the following segment data \"1,1,0,1,0,29999999,2,1,0,1,0,29999999\" and the advancement method is COND\n",
                        "Triggering Pulse Stoped\n",
                        "Data acquired for Step 6\n",
                        "Sequence loaded with the following segment data \"1,1,0,1,0,29999999,2,1,0,1,0,29999999\" and the advancement method is COND\n",
                        "Triggering Pulse Stoped\n",
                        "Data acquired for Step 7\n",
                        "Sequence loaded with the following segment data \"1,1,0,1,0,29999999,2,1,0,1,0,29999999\" and the advancement method is COND\n",
                        "Triggering Pulse Stoped\n",
                        "Data acquired for Step 8\n",
                        "Sequence loaded with the following segment data \"1,1,0,1,0,29999999,2,1,0,1,0,29999999\" and the advancement method is COND\n",
                        "Triggering Pulse Stoped\n",
                        "Data acquired for Step 9\n",
                        "Sequence loaded with the following segment data \"1,1,0,1,0,29999999,2,1,0,1,0,29999999\" and the advancement method is COND\n",
                        "Triggering Pulse Stoped\n",
                        "Data acquired for Step 10\n",
                        "Sequence loaded with the following segment data \"1,1,0,1,0,29999999,2,1,0,1,0,29999999\" and the advancement method is COND\n",
                        "Triggering Pulse Stoped\n",
                        "Data acquired for Step 11\n",
                        "Sequence loaded with the following segment data \"1,1,0,1,0,29999999,2,1,0,1,0,29999999\" and the advancement method is COND\n",
                        "Triggering Pulse Stoped\n",
                        "Data acquired for Step 12\n",
                        "Sequence loaded with the following segment data \"1,1,0,1,0,29999999,2,1,0,1,0,29999999\" and the advancement method is COND\n",
                        "Triggering Pulse Stoped\n",
                        "Data acquired for Step 13\n",
                        "Sequence loaded with the following segment data \"1,1,0,1,0,29999999,2,1,0,1,0,29999999\" and the advancement method is COND\n",
                        "Triggering Pulse Stoped\n",
                        "Data acquired for Step 14\n",
                        "Sequence loaded with the following segment data \"1,1,0,1,0,29999999,2,1,0,1,0,29999999\" and the advancement method is COND\n",
                        "Triggering Pulse Stoped\n",
                        "Data acquired for Step 15\n",
                        "Sequence loaded with the following segment data \"1,1,0,1,0,29999999,2,1,0,1,0,29999999\" and the advancement method is COND\n",
                        "Triggering Pulse Stoped\n",
                        "Data acquired for Step 16\n",
                        "Sequence loaded with the following segment data \"1,1,0,1,0,29999999,2,1,0,1,0,29999999\" and the advancement method is COND\n",
                        "Triggering Pulse Stoped\n",
                        "Data acquired for Step 17\n",
                        "Sequence loaded with the following segment data \"1,1,0,1,0,29999999,2,1,0,1,0,29999999\" and the advancement method is COND\n",
                        "Triggering Pulse Stoped\n",
                        "Data acquired for Step 18\n",
                        "Sequence loaded with the following segment data \"1,1,0,1,0,29999999,2,1,0,1,0,29999999\" and the advancement method is COND\n",
                        "Triggering Pulse Stoped\n",
                        "Data acquired for Step 19\n",
                        "Sequence loaded with the following segment data \"1,1,0,1,0,29999999,2,1,0,1,0,29999999\" and the advancement method is COND\n",
                        "Triggering Pulse Stoped\n",
                        "Data acquired for Step 20\n",
                        "Sequence loaded with the following segment data \"1,1,0,1,0,29999999,2,1,0,1,0,29999999\" and the advancement method is COND\n",
                        "Triggering Pulse Stoped\n",
                        "Data acquired for Step 21\n",
                        "Sequence loaded with the following segment data \"1,1,0,1,0,29999999,2,1,0,1,0,29999999\" and the advancement method is COND\n",
                        "Triggering Pulse Stoped\n",
                        "Data acquired for Step 22\n",
                        "Sequence loaded with the following segment data \"1,1,0,1,0,29999999,2,1,0,1,0,29999999\" and the advancement method is COND\n",
                        "Triggering Pulse Stoped\n",
                        "Data acquired for Step 23\n",
                        "Sequence loaded with the following segment data \"1,1,0,1,0,29999999,2,1,0,1,0,29999999\" and the advancement method is COND\n",
                        "Triggering Pulse Stoped\n",
                        "Data acquired for Step 24\n",
                        "Sequence loaded with the following segment data \"1,1,0,1,0,29999999,2,1,0,1,0,29999999\" and the advancement method is COND\n",
                        "Triggering Pulse Stoped\n",
                        "Data acquired for Step 25\n",
                        "Sequence loaded with the following segment data \"1,1,0,1,0,29999999,2,1,0,1,0,29999999\" and the advancement method is COND\n",
                        "Triggering Pulse Stoped\n",
                        "Data acquired for Step 26\n",
                        "Sequence loaded with the following segment data \"1,1,0,1,0,29999999,2,1,0,1,0,29999999\" and the advancement method is COND\n",
                        "Triggering Pulse Stoped\n",
                        "Data acquired for Step 27\n",
                        "Sequence loaded with the following segment data \"1,1,0,1,0,29999999,2,1,0,1,0,29999999\" and the advancement method is COND\n",
                        "Triggering Pulse Stoped\n",
                        "Data acquired for Step 28\n",
                        "Sequence loaded with the following segment data \"1,1,0,1,0,29999999,2,1,0,1,0,29999999\" and the advancement method is COND\n",
                        "Triggering Pulse Stoped\n",
                        "Data acquired for Step 29\n",
                        "Sequence loaded with the following segment data \"1,1,0,1,0,29999999,2,1,0,1,0,29999999\" and the advancement method is COND\n",
                        "Triggering Pulse Stoped\n",
                        "Data acquired for Step 30\n"
                    ]
                }
            ],
            "metadata": {}
        },
        {
            "cell_type": "code",
            "execution_count": 20,
            "source": [
                "fig,ax= plt.subplots()\r\n",
                "ax.grid(True)\r\n",
                "for i in range(0,len(Diode_Signal)):\r\n",
                "    plt.plot(Diode_Signal[i][1],Diode_Signal[i][0],label= 'Step {st}'.format(st = i ))\r\n",
                "\r\n",
                "ax.set_ylabel(r'V  [V]')\r\n",
                "ax.set_xlabel('t  [s]')\r\n",
                "ax.set_title(r' Diode Signal at Different Steps,  {b} Samples, 10 nano probe duration'.format(b = len(Diode_Signal[0][1]) ))\r\n",
                "#ax.legend(bbox_to_anchor=(1.05, 1), loc='upper left', borderaxespad=0.)\r\n",
                "#ax.legend(loc=0)\r\n",
                "plt.show()\r\n",
                "\r\n",
                "fig.savefig(r'{loc}\\Diode Signal time cstant = {a}, sensitivity {b},{c} daqseconds, 5ms scheme, probe duration 10 nano,31 steps, no legend,6Ghz .jpeg'.format(loc = PulseScheme_A_10nano['Measurement file Path'],a = Lock_In_Settings['Time Constant'], b = Lock_In_Settings['Sensitivity'], c = playing_time),bbox_inches='tight')"
            ],
            "outputs": [
                {
                    "output_type": "display_data",
                    "data": {
                        "image/png": "[encoded data removed]",
                        "text/plain": [
                            "<Figure size 432x288 with 1 Axes>"
                        ]
                    },
                    "metadata": {
                        "needs_background": "light"
                    }
                }
            ],
            "metadata": {}
        },
        {
            "cell_type": "code",
            "execution_count": 21,
            "source": [
                "time_delay = np.linspace(-20,20,31)"
            ],
            "outputs": [],
            "metadata": {}
        },
        {
            "cell_type": "code",
            "execution_count": 47,
            "source": [
                "#change this to V regime\r\n",
                "fig,axes = plt.subplots()\r\n",
                "\r\n",
                "axes.grid(True)\r\n",
                "\r\n",
                "plt.plot(time_delay,averaged_data,label=r'10 ns Probe Width ',color='black')\r\n",
                "#plt.plot(tm,pul,label = '{a} samples'.format(a = len(pul)))\r\n",
                "\r\n",
                "axes.set_xlabel(r'time delay [ns]')\r\n",
                "axes.set_ylabel(r'Diode Signal [V]')\r\n",
                "axes.set_title('Auto-Correlation 31 steps ')\r\n",
                "\r\n",
                "axes.legend(loc = 0)\r\n",
                "plt.show()\r\n",
                "\r\n",
                "fig.savefig(r'{loc}\\Autocorrelation function 31 steps probes 5ms length tc = {a}, sens {b}, {c}s DAQ 6Ghz.jpeg'.format(loc = PulseScheme_A_10nano['Measurement file Path'],a = Lock_In_Settings['Time Constant'], b = Lock_In_Settings['Sensitivity'], c = playing_time ))"
            ],
            "outputs": [
                {
                    "output_type": "display_data",
                    "data": {
                        "image/png": "[encoded data removed]",
                        "text/plain": [
                            "<Figure size 432x288 with 1 Axes>"
                        ]
                    },
                    "metadata": {
                        "needs_background": "light"
                    }
                }
            ],
            "metadata": {}
        },
        {
            "cell_type": "markdown",
            "source": [
                "## 1nano"
            ],
            "metadata": {}
        },
        {
            "cell_type": "code",
            "execution_count": 23,
            "source": [
                "Pump_1nano = {\r\n",
                "    'Name':'Pump_1nano',\r\n",
                "    'Amplitude':35,\r\n",
                "    'Start time':2,\r\n",
                "    'End time':2e-10,\r\n",
                "    'Start Duration':1,\r\n",
                "    'End Duration':60,\r\n",
                "    'Sweep time':0,\r\n",
                "    'Sweep Duration':0\r\n",
                "}"
            ],
            "outputs": [],
            "metadata": {}
        },
        {
            "cell_type": "code",
            "execution_count": 24,
            "source": [
                "ProbeA_1nano = {\r\n",
                "    'Name':'ProbeA_1nano',\r\n",
                "    'Amplitude':20,\r\n",
                "    'Start time':0,\r\n",
                "    'End time':4,\r\n",
                "    'Start Duration':1,\r\n",
                "    'End Duration':60,\r\n",
                "    'Sweep time':1,\r\n",
                "    'Sweep Duration':0\r\n",
                "}"
            ],
            "outputs": [],
            "metadata": {}
        },
        {
            "cell_type": "code",
            "execution_count": 25,
            "source": [
                "ProbeB_1nano = {\r\n",
                "    'Name':'ProbeB_1nano',\r\n",
                "    'Amplitude':0,\r\n",
                "    'Start time':0,\r\n",
                "    'End time':12,\r\n",
                "    'Start Duration':1,\r\n",
                "    'End Duration':6,\r\n",
                "    'Sweep time':0,\r\n",
                "    'Sweep Duration':0\r\n",
                "}"
            ],
            "outputs": [],
            "metadata": {}
        },
        {
            "cell_type": "code",
            "execution_count": 41,
            "source": [
                "PulseScheme_A_1nano =  {\r\n",
                "    'Name' : 'PulseScheme_A_1nano',\r\n",
                "    'Pulse Scheme': [Pump_1nano,ProbeA_1nano],\r\n",
                "    'Number of repetitions': 300000, #1 micro has 200 reps\r\n",
                "    'Measurement file Path': r'D:\\Alejandro\\Pulses\\diode measurements\\Autocorrelation measurements\\1nano'\r\n",
                "}"
            ],
            "outputs": [],
            "metadata": {}
        },
        {
            "cell_type": "code",
            "execution_count": 27,
            "source": [
                "PulseScheme_B_1nano  = {\r\n",
                "    'Name' : 'PulseScheme_B_1nano',\r\n",
                "    'Pulse Scheme': [ProbeB_1nano,ProbeB_1nano],\r\n",
                "    'Number of repetitions': 1,\r\n",
                "    'Measurement file Path': r'D:\\Alejandro\\Pulses\\diode measurements\\Autocorrelation measurements\\1nano'\r\n",
                "}"
            ],
            "outputs": [],
            "metadata": {}
        },
        {
            "cell_type": "code",
            "execution_count": 28,
            "source": [
                "AWG_Settings['Clock Sample Frecuency']"
            ],
            "outputs": [
                {
                    "output_type": "execute_result",
                    "data": {
                        "text/plain": [
                            "6000000000"
                        ]
                    },
                    "metadata": {},
                    "execution_count": 28
                }
            ],
            "metadata": {}
        },
        {
            "cell_type": "code",
            "execution_count": 37,
            "source": [
                "a = int(7.5e9*5e-3)\r\n",
                "a"
            ],
            "outputs": [
                {
                    "output_type": "execute_result",
                    "data": {
                        "text/plain": [
                            "37500000"
                        ]
                    },
                    "metadata": {},
                    "execution_count": 37
                }
            ],
            "metadata": {}
        },
        {
            "cell_type": "code",
            "execution_count": 35,
            "source": [
                "M8190A.write('FREQ:RAST 7500000000')"
            ],
            "outputs": [
                {
                    "output_type": "execute_result",
                    "data": {
                        "text/plain": [
                            "21"
                        ]
                    },
                    "metadata": {},
                    "execution_count": 35
                }
            ],
            "metadata": {}
        },
        {
            "cell_type": "code",
            "execution_count": 38,
            "source": [
                "a"
            ],
            "outputs": [
                {
                    "output_type": "execute_result",
                    "data": {
                        "text/plain": [
                            "37500000"
                        ]
                    },
                    "metadata": {},
                    "execution_count": 38
                }
            ],
            "metadata": {}
        },
        {
            "cell_type": "code",
            "execution_count": 33,
            "source": [
                "a/48"
            ],
            "outputs": [
                {
                    "output_type": "execute_result",
                    "data": {
                        "text/plain": [
                            "781250.0"
                        ]
                    },
                    "metadata": {},
                    "execution_count": 33
                }
            ],
            "metadata": {}
        },
        {
            "cell_type": "code",
            "execution_count": 46,
            "source": [
                "sweeping_run_a_1nano = Sweeping_Single_List_File_teil(PulseScheme_A_1nano,30,5000000,a,0,30,AWG_Settings,'A')[0]"
            ],
            "outputs": [],
            "metadata": {}
        },
        {
            "cell_type": "code",
            "execution_count": 48,
            "source": [
                "sweeping_run_b_1nano = Sweeping_Single_List_File_teil(PulseScheme_B_1nano,30,5000000,a,0,30,AWG_Settings,'B')[0]"
            ],
            "outputs": [],
            "metadata": {}
        },
        {
            "cell_type": "code",
            "execution_count": 49,
            "source": [
                "#Exporting pickle\r\n",
                "\r\n",
                "with open(r\"{dict}\\cycleA_31steps_5ms_1nano_6GHz.p\".format(dict = PulseScheme_A_1nano['Measurement file Path']), \"wb\") as k:\r\n",
                "    pickle.dump(sweeping_run_a_1nano, k)\r\n",
                "\r\n",
                "\r\n",
                "with open(r\"{dict}\\cycleB_31steps_5ms_1nano_6GHz.p\".format(dict = PulseScheme_A_1nano['Measurement file Path']), \"wb\") as h:\r\n",
                "    pickle.dump(sweeping_run_b_1nano, h)"
            ],
            "outputs": [],
            "metadata": {}
        },
        {
            "cell_type": "code",
            "execution_count": 102,
            "source": [
                "#Importing Pickle\r\n",
                "\r\n",
                "with open(r\"{dict}\\cycleA_31steps_5ms_1nano_6GHz.p\".format(dict = PulseScheme_A_1nano['Measurement file Path']), \"rb\") as j:\r\n",
                "    sweeping_runa_1nano = pickle.load(j)\r\n",
                "\r\n",
                "with open(r\"{dict}\\cycleB_31steps_5ms_1nano_6GHz.p\".format(dict = PulseScheme_A_1nano['Measurement file Path']), \"rb\") as f:\r\n",
                "    sweeping_runb_1nano = pickle.load(f)"
            ],
            "outputs": [],
            "metadata": {}
        },
        {
            "cell_type": "code",
            "execution_count": 55,
            "source": [
                "Lock_In_Settings = {\r\n",
                "'Time Constant' : '30ms',\r\n",
                "'Sensitivity' : '500 microVolts',\r\n",
                "'Reserve' : 'Normal',\r\n",
                "'db' : 24,\r\n",
                "'Modulation': '100Hz'\r\n",
                "}"
            ],
            "outputs": [],
            "metadata": {}
        },
        {
            "cell_type": "code",
            "execution_count": 56,
            "source": [
                "playing_time = 10 #in seconds\r\n",
                "\r\n",
                "Diode_Signal, averaged_data = Measurement_Autocorrelation_voltage(M8190A,DAQ_Settings1,1000, playing_time ,sweeping_run_a_1nano,sweeping_run_b_1nano,PulseScheme_A_1nano['Measurement file Path'],Lock_In_Settings)"
            ],
            "outputs": [
                {
                    "output_type": "stream",
                    "name": "stdout",
                    "text": [
                        "Sequence loaded with the following segment data \"1,1,0,1,0,37499999,2,1,0,1,0,37499999\" and the advancement method is COND\n",
                        "Triggering Pulse Stoped\n",
                        "Data acquired for Step 0\n",
                        "Sequence loaded with the following segment data \"1,1,0,1,0,37499999,2,1,0,1,0,37499999\" and the advancement method is COND\n",
                        "Triggering Pulse Stoped\n",
                        "Data acquired for Step 1\n",
                        "Sequence loaded with the following segment data \"1,1,0,1,0,37499999,2,1,0,1,0,37499999\" and the advancement method is COND\n",
                        "Triggering Pulse Stoped\n",
                        "Data acquired for Step 2\n",
                        "Sequence loaded with the following segment data \"1,1,0,1,0,37499999,2,1,0,1,0,37499999\" and the advancement method is COND\n",
                        "Triggering Pulse Stoped\n",
                        "Data acquired for Step 3\n",
                        "Sequence loaded with the following segment data \"1,1,0,1,0,37499999,2,1,0,1,0,37499999\" and the advancement method is COND\n",
                        "Triggering Pulse Stoped\n",
                        "Data acquired for Step 4\n",
                        "Sequence loaded with the following segment data \"1,1,0,1,0,37499999,2,1,0,1,0,37499999\" and the advancement method is COND\n",
                        "Triggering Pulse Stoped\n",
                        "Data acquired for Step 5\n",
                        "Sequence loaded with the following segment data \"1,1,0,1,0,37499999,2,1,0,1,0,37499999\" and the advancement method is COND\n",
                        "Triggering Pulse Stoped\n",
                        "Data acquired for Step 6\n",
                        "Sequence loaded with the following segment data \"1,1,0,1,0,37499999,2,1,0,1,0,37499999\" and the advancement method is COND\n",
                        "Triggering Pulse Stoped\n",
                        "Data acquired for Step 7\n",
                        "Sequence loaded with the following segment data \"1,1,0,1,0,37499999,2,1,0,1,0,37499999\" and the advancement method is COND\n",
                        "Triggering Pulse Stoped\n",
                        "Data acquired for Step 8\n",
                        "Sequence loaded with the following segment data \"1,1,0,1,0,37499999,2,1,0,1,0,37499999\" and the advancement method is COND\n",
                        "Triggering Pulse Stoped\n",
                        "Data acquired for Step 9\n",
                        "Sequence loaded with the following segment data \"1,1,0,1,0,37499999,2,1,0,1,0,37499999\" and the advancement method is COND\n",
                        "Triggering Pulse Stoped\n",
                        "Data acquired for Step 10\n",
                        "Sequence loaded with the following segment data \"1,1,0,1,0,37499999,2,1,0,1,0,37499999\" and the advancement method is COND\n",
                        "Triggering Pulse Stoped\n",
                        "Data acquired for Step 11\n",
                        "Sequence loaded with the following segment data \"1,1,0,1,0,37499999,2,1,0,1,0,37499999\" and the advancement method is COND\n",
                        "Triggering Pulse Stoped\n",
                        "Data acquired for Step 12\n",
                        "Sequence loaded with the following segment data \"1,1,0,1,0,37499999,2,1,0,1,0,37499999\" and the advancement method is COND\n",
                        "Triggering Pulse Stoped\n",
                        "Data acquired for Step 13\n",
                        "Sequence loaded with the following segment data \"1,1,0,1,0,37499999,2,1,0,1,0,37499999\" and the advancement method is COND\n",
                        "Triggering Pulse Stoped\n",
                        "Data acquired for Step 14\n",
                        "Sequence loaded with the following segment data \"1,1,0,1,0,37499999,2,1,0,1,0,37499999\" and the advancement method is COND\n",
                        "Triggering Pulse Stoped\n",
                        "Data acquired for Step 15\n",
                        "Sequence loaded with the following segment data \"1,1,0,1,0,37499999,2,1,0,1,0,37499999\" and the advancement method is COND\n",
                        "Triggering Pulse Stoped\n",
                        "Data acquired for Step 16\n",
                        "Sequence loaded with the following segment data \"1,1,0,1,0,37499999,2,1,0,1,0,37499999\" and the advancement method is COND\n",
                        "Triggering Pulse Stoped\n",
                        "Data acquired for Step 17\n",
                        "Sequence loaded with the following segment data \"1,1,0,1,0,37499999,2,1,0,1,0,37499999\" and the advancement method is COND\n",
                        "Triggering Pulse Stoped\n",
                        "Data acquired for Step 18\n",
                        "Sequence loaded with the following segment data \"1,1,0,1,0,37499999,2,1,0,1,0,37499999\" and the advancement method is COND\n",
                        "Triggering Pulse Stoped\n",
                        "Data acquired for Step 19\n",
                        "Sequence loaded with the following segment data \"1,1,0,1,0,37499999,2,1,0,1,0,37499999\" and the advancement method is COND\n",
                        "Triggering Pulse Stoped\n",
                        "Data acquired for Step 20\n",
                        "Sequence loaded with the following segment data \"1,1,0,1,0,37499999,2,1,0,1,0,37499999\" and the advancement method is COND\n",
                        "Triggering Pulse Stoped\n",
                        "Data acquired for Step 21\n",
                        "Sequence loaded with the following segment data \"1,1,0,1,0,37499999,2,1,0,1,0,37499999\" and the advancement method is COND\n",
                        "Triggering Pulse Stoped\n",
                        "Data acquired for Step 22\n",
                        "Sequence loaded with the following segment data \"1,1,0,1,0,37499999,2,1,0,1,0,37499999\" and the advancement method is COND\n",
                        "Triggering Pulse Stoped\n",
                        "Data acquired for Step 23\n",
                        "Sequence loaded with the following segment data \"1,1,0,1,0,37499999,2,1,0,1,0,37499999\" and the advancement method is COND\n",
                        "Triggering Pulse Stoped\n",
                        "Data acquired for Step 24\n",
                        "Sequence loaded with the following segment data \"1,1,0,1,0,37499999,2,1,0,1,0,37499999\" and the advancement method is COND\n",
                        "Triggering Pulse Stoped\n",
                        "Data acquired for Step 25\n",
                        "Sequence loaded with the following segment data \"1,1,0,1,0,37499999,2,1,0,1,0,37499999\" and the advancement method is COND\n",
                        "Triggering Pulse Stoped\n",
                        "Data acquired for Step 26\n",
                        "Sequence loaded with the following segment data \"1,1,0,1,0,37499999,2,1,0,1,0,37499999\" and the advancement method is COND\n",
                        "Triggering Pulse Stoped\n",
                        "Data acquired for Step 27\n",
                        "Sequence loaded with the following segment data \"1,1,0,1,0,37499999,2,1,0,1,0,37499999\" and the advancement method is COND\n",
                        "Triggering Pulse Stoped\n",
                        "Data acquired for Step 28\n",
                        "Sequence loaded with the following segment data \"1,1,0,1,0,37499999,2,1,0,1,0,37499999\" and the advancement method is COND\n",
                        "Triggering Pulse Stoped\n",
                        "Data acquired for Step 29\n",
                        "Sequence loaded with the following segment data \"1,1,0,1,0,37499999,2,1,0,1,0,37499999\" and the advancement method is COND\n",
                        "Triggering Pulse Stoped\n",
                        "Data acquired for Step 30\n"
                    ]
                }
            ],
            "metadata": {}
        },
        {
            "cell_type": "code",
            "execution_count": 57,
            "source": [
                "fig,ax= plt.subplots()\r\n",
                "ax.grid(True)\r\n",
                "for i in range(0,len(Diode_Signal)):\r\n",
                "    plt.plot(Diode_Signal[i][1],Diode_Signal[i][0],label= 'Step {st}'.format(st = i ))\r\n",
                "\r\n",
                "ax.set_ylabel(r'V  [V]')\r\n",
                "ax.set_xlabel('t  [s]')\r\n",
                "ax.set_title(r' Diode Signal at Different Steps,  {b} Samples, 1 nano s probe duration'.format(b = len(Diode_Signal[0][1]) ))\r\n",
                "#ax.legend(bbox_to_anchor=(1.05, 1), loc='upper left', borderaxespad=0.)\r\n",
                "#ax.legend(loc=0)\r\n",
                "plt.show()\r\n",
                "#fig.savefig(r'{loc}\\Diode Signal time cstant = {a}, sensitivity {b},{c} daqseconds, 5ms scheme, probe duration 1 nano,31 steps, no legend,6Ghz .jpeg'.format(loc = PulseScheme_A_1nano['Measurement file Path'],a = Lock_In_Settings['Time Constant'], b = Lock_In_Settings['Sensitivity'], c = playing_time),bbox_inches='tight')"
            ],
            "outputs": [
                {
                    "output_type": "display_data",
                    "data": {
                        "image/png": "[encoded data removed]",
                        "text/plain": [
                            "<Figure size 432x288 with 1 Axes>"
                        ]
                    },
                    "metadata": {
                        "needs_background": "light"
                    }
                }
            ],
            "metadata": {}
        },
        {
            "cell_type": "code",
            "execution_count": 58,
            "source": [
                "time_delay = np.linspace(-2,2,31)"
            ],
            "outputs": [],
            "metadata": {}
        },
        {
            "cell_type": "code",
            "execution_count": 59,
            "source": [
                "#change this to V regime\r\n",
                "fig,axes = plt.subplots()\r\n",
                "\r\n",
                "axes.grid(True)\r\n",
                "\r\n",
                "plt.plot(time_delay,averaged_data,label=r'1ns Probe Width ',color='orange')\r\n",
                "#plt.plot(tm,pul,label = '{a} samples'.format(a = len(pul)))\r\n",
                "\r\n",
                "axes.set_xlabel(r'time delay [ns]')\r\n",
                "axes.set_ylabel(r'Diode Signal [V]')\r\n",
                "axes.set_title('Auto-Correlation 31 steps ')\r\n",
                "\r\n",
                "axes.legend(loc = 0)\r\n",
                "plt.show()\r\n",
                "\r\n",
                "#fig.savefig(r'{loc}\\Autocorrelation function 31 steps probes 5ms length tc = {a}, sens {b}, {c}s DAQ 6Ghz.jpeg'.format(loc = PulseScheme_A_1nano['Measurement file Path'],a = Lock_In_Settings['Time Constant'], b = Lock_In_Settings['Sensitivity'], c = playing_time ))"
            ],
            "outputs": [
                {
                    "output_type": "display_data",
                    "data": {
                        "image/png": "[encoded data removed]",
                        "text/plain": [
                            "<Figure size 432x288 with 1 Axes>"
                        ]
                    },
                    "metadata": {
                        "needs_background": "light"
                    }
                }
            ],
            "metadata": {}
        },
        {
            "cell_type": "code",
            "execution_count": 11,
            "source": [
                "location = PulseScheme_A_100micro['Measurement file Path']"
            ],
            "outputs": [],
            "metadata": {}
        },
        {
            "cell_type": "markdown",
            "source": [
                "# Number of Samples given the AWG Sampling rate and the Reference Signal Frequency\r\n",
                "## Sr = 3Ghz , t = 10ms "
            ],
            "metadata": {}
        },
        {
            "cell_type": "code",
            "execution_count": 103,
            "source": [
                "sam = int(6e9*5e-3)\r\n",
                "\r\n",
                "#sam /480\r\n",
                "\r\n",
                "#M8190A.write('FREQ:RAST 6000000000')"
            ],
            "outputs": [],
            "metadata": {}
        },
        {
            "cell_type": "code",
            "execution_count": 13,
            "source": [
                "sam"
            ],
            "outputs": [
                {
                    "output_type": "execute_result",
                    "data": {
                        "text/plain": [
                            "30000000"
                        ]
                    },
                    "metadata": {},
                    "execution_count": 13
                }
            ],
            "metadata": {}
        },
        {
            "cell_type": "code",
            "execution_count": 10,
            "source": [
                "pul2 = Sweep(PulseScheme_B['Pulse Scheme'],10,0,10,sam)"
            ],
            "outputs": [],
            "metadata": {}
        },
        {
            "cell_type": "code",
            "execution_count": 17,
            "source": [
                "%matplotlib inline"
            ],
            "outputs": [],
            "metadata": {}
        },
        {
            "cell_type": "code",
            "execution_count": 38,
            "source": [
                "%matplotlib widget "
            ],
            "outputs": [],
            "metadata": {}
        },
        {
            "cell_type": "code",
            "execution_count": 50,
            "source": [
                "step = 30\r\n",
                "pul1 = Sweep_teil(PulseScheme_A_1mili,30,step,5,sam)\r\n",
                "\r\n",
                "\r\n",
                "#Plot\r\n",
                "fig,ax= plt.subplots()\r\n",
                "ax.grid(True)\r\n",
                "\r\n",
                "plt.plot(pul1[1],pul1[0],label= '{b} samples'.format(b = sam),color='orange')\r\n",
                "\r\n",
                "ax.set_ylabel('V  [mV]')\r\n",
                "ax.set_xlabel(r't [ms]')\r\n",
                "ax.set_title('Cycle A at step {a}, {r} Pump-probe repetitions'.format(a = step, r = PulseScheme_A_1mili['Number of repetitions'])) #Voltage Offset = 3mV, Marker Ampl = 50mV \r\n",
                "#ax.legend(loc=0)\r\n",
                "#plt.legend(bbox_to_anchor=(2.05, 1), loc='upper left', borderaxespad=0.)\r\n",
                "plt.show()\r\n",
                "\r\n",
                "fig.savefig(r'{loc}\\Cycle A, Probe width 10nano 100Hz step 30 .jpeg'.format( loc = PulseScheme_A_1mili['Measurement file Path'] ),bbox_inches='tight')"
            ],
            "outputs": [
                {
                    "output_type": "display_data",
                    "data": {
                        "image/png": "[encoded data removed]",
                        "text/plain": [
                            "<Figure size 432x288 with 1 Axes>"
                        ]
                    },
                    "metadata": {
                        "needs_background": "light"
                    }
                }
            ],
            "metadata": {}
        },
        {
            "cell_type": "code",
            "execution_count": 13,
            "source": [
                "step = 30\r\n",
                "\r\n",
                "#pul1 = Sweep_teil(PulseScheme_AutocorrelationA,30,step,5000,sam)\r\n",
                "\r\n",
                "\r\n",
                "fig,ax= plt.subplots(2)\r\n",
                "\r\n",
                "\r\n",
                "ax[0].grid(True)\r\n",
                "ax[1].grid(True)\r\n",
                "fig.suptitle('Cycles loaded into the AWG')\r\n",
                "\r\n",
                "\r\n",
                "ax[0].plot(pul1[1],pul1[0],label= 'Cycle A',color='blue')\r\n",
                "ax[1].plot(pul2[1],pul2[0],label= 'Cycle B',color='red')\r\n",
                "ax[0].set_ylabel('V  [mV]')\r\n",
                "ax[0].set_xlabel(r't  [$\\mu$s]')\r\n",
                "ax[1].set_ylabel('V  [mV]')\r\n",
                "ax[1].set_xlabel(r't  [ms]')\r\n",
                "\r\n",
                "#ax.set_title('Pulses Loaded into the AWG')\r\n",
                "\r\n",
                "fig.legend(bbox_to_anchor=(1.05, 1), loc='upper left', borderaxespad=0.)\r\n",
                "plt.show()\r\n",
                "\r\n",
                "fig.savefig('Pulse_scheme_20ms centered,2')"
            ],
            "outputs": [
                {
                    "output_type": "display_data",
                    "data": {
                        "image/png": "[encoded data removed]",
                        "image/svg+xml": "<?xml version=\"1.0\" encoding=\"utf-8\" standalone=\"no\"?>\r\n<!DOCTYPE svg PUBLIC \"-//W3C//DTD SVG 1.1//EN\"\r\n  \"http://www.w3.org/Graphics/SVG/1.1/DTD/svg11.dtd\">\r\n<!-- Created with matplotlib (https://matplotlib.org/) -->\r\n<svg height=\"296.75625pt\" version=\"1.1\" viewBox=\"0 0 538.69375 296.75625\" width=\"538.69375pt\" xmlns=\"http://www.w3.org/2000/svg\" xmlns:xlink=\"http://www.w3.org/1999/xlink\">\r\n <metadata>\r\n  <rdf:RDF xmlns:cc=\"http://creativecommons.org/ns#\" xmlns:dc=\"http://purl.org/dc/elements/1.1/\" xmlns:rdf=\"http://www.w3.org/1999/02/22-rdf-syntax-ns#\">\r\n   <cc:Work>\r\n    <dc:type rdf:resource=\"http://purl.org/dc/dcmitype/StillImage\"/>\r\n    <dc:date>2021-08-31T18:18:51.442763</dc:date>\r\n    <dc:format>image/svg+xml</dc:format>\r\n    <dc:creator>\r\n     <cc:Agent>\r\n      <dc:title>Matplotlib v3.3.2, https://matplotlib.org/</dc:title>\r\n     </cc:Agent>\r\n    </dc:creator>\r\n   </cc:Work>\r\n  </rdf:RDF>\r\n </metadata>\r\n <defs>\r\n  <style type=\"text/css\">*{stroke-linecap:butt;stroke-linejoin:round;}</style>\r\n </defs>\r\n <g id=\"figure_1\">\r\n  <g id=\"patch_1\">\r\n   <path d=\"M 0 296.75625 \r\nL 538.69375 296.75625 \r\nL 538.69375 0 \r\nL 0 0 \r\nz\r\n\" style=\"fill:none;\"/>\r\n  </g>\r\n  <g id=\"axes_1\">\r\n   <g id=\"patch_2\">\r\n    <path d=\"M 58.523438 140.596364 \r\nL 393.323438 140.596364 \r\nL 393.323438 41.76 \r\nL 58.523438 41.76 \r\nz\r\n\" style=\"fill:#ffffff;\"/>\r\n   </g>\r\n   <g id=\"matplotlib.axis_1\">\r\n    <g id=\"xtick_1\">\r\n     <g id=\"line2d_1\">\r\n      <path clip-path=\"url(#pb706ac901c)\" d=\"M 73.741619 140.596364 \r\nL 73.741619 41.76 \r\n\" style=\"fill:none;stroke:#b0b0b0;stroke-linecap:square;stroke-width:0.8;\"/>\r\n     </g>\r\n     <g id=\"line2d_2\">\r\n      <defs>\r\n       <path d=\"M 0 0 \r\nL 0 3.5 \r\n\" id=\"md270d76bed\" style=\"stroke:#000000;stroke-width:0.8;\"/>\r\n      </defs>\r\n      <g>\r\n       <use style=\"stroke:#000000;stroke-width:0.8;\" x=\"73.741619\" xlink:href=\"#md270d76bed\" y=\"140.596364\"/>\r\n      </g>\r\n     </g>\r\n     <g id=\"text_1\">\r\n      <!-- 0 -->\r\n      <g transform=\"translate(70.560369 155.194801)scale(0.1 -0.1)\">\r\n       <defs>\r\n        <path d=\"M 31.78125 66.40625 \r\nQ 24.171875 66.40625 20.328125 58.90625 \r\nQ 16.5 51.421875 16.5 36.375 \r\nQ 16.5 21.390625 20.328125 13.890625 \r\nQ 24.171875 6.390625 31.78125 6.390625 \r\nQ 39.453125 6.390625 43.28125 13.890625 \r\nQ 47.125 21.390625 47.125 36.375 \r\nQ 47.125 51.421875 43.28125 58.90625 \r\nQ 39.453125 66.40625 31.78125 66.40625 \r\nz\r\nM 31.78125 74.21875 \r\nQ 44.046875 74.21875 50.515625 64.515625 \r\nQ 56.984375 54.828125 56.984375 36.375 \r\nQ 56.984375 17.96875 50.515625 8.265625 \r\nQ 44.046875 -1.421875 31.78125 -1.421875 \r\nQ 19.53125 -1.421875 13.0625 8.265625 \r\nQ 6.59375 17.96875 6.59375 36.375 \r\nQ 6.59375 54.828125 13.0625 64.515625 \r\nQ 19.53125 74.21875 31.78125 74.21875 \r\nz\r\n\" id=\"DejaVuSans-48\"/>\r\n       </defs>\r\n       <use xlink:href=\"#DejaVuSans-48\"/>\r\n      </g>\r\n     </g>\r\n    </g>\r\n    <g id=\"xtick_2\">\r\n     <g id=\"line2d_3\">\r\n      <path clip-path=\"url(#pb706ac901c)\" d=\"M 134.614347 140.596364 \r\nL 134.614347 41.76 \r\n\" style=\"fill:none;stroke:#b0b0b0;stroke-linecap:square;stroke-width:0.8;\"/>\r\n     </g>\r\n     <g id=\"line2d_4\">\r\n      <g>\r\n       <use style=\"stroke:#000000;stroke-width:0.8;\" x=\"134.614347\" xlink:href=\"#md270d76bed\" y=\"140.596364\"/>\r\n      </g>\r\n     </g>\r\n     <g id=\"text_2\">\r\n      <!-- 2 -->\r\n      <g transform=\"translate(131.433097 155.194801)scale(0.1 -0.1)\">\r\n       <defs>\r\n        <path d=\"M 19.1875 8.296875 \r\nL 53.609375 8.296875 \r\nL 53.609375 0 \r\nL 7.328125 0 \r\nL 7.328125 8.296875 \r\nQ 12.9375 14.109375 22.625 23.890625 \r\nQ 32.328125 33.6875 34.8125 36.53125 \r\nQ 39.546875 41.84375 41.421875 45.53125 \r\nQ 43.3125 49.21875 43.3125 52.78125 \r\nQ 43.3125 58.59375 39.234375 62.25 \r\nQ 35.15625 65.921875 28.609375 65.921875 \r\nQ 23.96875 65.921875 18.8125 64.3125 \r\nQ 13.671875 62.703125 7.8125 59.421875 \r\nL 7.8125 69.390625 \r\nQ 13.765625 71.78125 18.9375 73 \r\nQ 24.125 74.21875 28.421875 74.21875 \r\nQ 39.75 74.21875 46.484375 68.546875 \r\nQ 53.21875 62.890625 53.21875 53.421875 \r\nQ 53.21875 48.921875 51.53125 44.890625 \r\nQ 49.859375 40.875 45.40625 35.40625 \r\nQ 44.1875 33.984375 37.640625 27.21875 \r\nQ 31.109375 20.453125 19.1875 8.296875 \r\nz\r\n\" id=\"DejaVuSans-50\"/>\r\n       </defs>\r\n       <use xlink:href=\"#DejaVuSans-50\"/>\r\n      </g>\r\n     </g>\r\n    </g>\r\n    <g id=\"xtick_3\">\r\n     <g id=\"line2d_5\">\r\n      <path clip-path=\"url(#pb706ac901c)\" d=\"M 195.487074 140.596364 \r\nL 195.487074 41.76 \r\n\" style=\"fill:none;stroke:#b0b0b0;stroke-linecap:square;stroke-width:0.8;\"/>\r\n     </g>\r\n     <g id=\"line2d_6\">\r\n      <g>\r\n       <use style=\"stroke:#000000;stroke-width:0.8;\" x=\"195.487074\" xlink:href=\"#md270d76bed\" y=\"140.596364\"/>\r\n      </g>\r\n     </g>\r\n     <g id=\"text_3\">\r\n      <!-- 4 -->\r\n      <g transform=\"translate(192.305824 155.194801)scale(0.1 -0.1)\">\r\n       <defs>\r\n        <path d=\"M 37.796875 64.3125 \r\nL 12.890625 25.390625 \r\nL 37.796875 25.390625 \r\nz\r\nM 35.203125 72.90625 \r\nL 47.609375 72.90625 \r\nL 47.609375 25.390625 \r\nL 58.015625 25.390625 \r\nL 58.015625 17.1875 \r\nL 47.609375 17.1875 \r\nL 47.609375 0 \r\nL 37.796875 0 \r\nL 37.796875 17.1875 \r\nL 4.890625 17.1875 \r\nL 4.890625 26.703125 \r\nz\r\n\" id=\"DejaVuSans-52\"/>\r\n       </defs>\r\n       <use xlink:href=\"#DejaVuSans-52\"/>\r\n      </g>\r\n     </g>\r\n    </g>\r\n    <g id=\"xtick_4\">\r\n     <g id=\"line2d_7\">\r\n      <path clip-path=\"url(#pb706ac901c)\" d=\"M 256.359801 140.596364 \r\nL 256.359801 41.76 \r\n\" style=\"fill:none;stroke:#b0b0b0;stroke-linecap:square;stroke-width:0.8;\"/>\r\n     </g>\r\n     <g id=\"line2d_8\">\r\n      <g>\r\n       <use style=\"stroke:#000000;stroke-width:0.8;\" x=\"256.359801\" xlink:href=\"#md270d76bed\" y=\"140.596364\"/>\r\n      </g>\r\n     </g>\r\n     <g id=\"text_4\">\r\n      <!-- 6 -->\r\n      <g transform=\"translate(253.178551 155.194801)scale(0.1 -0.1)\">\r\n       <defs>\r\n        <path d=\"M 33.015625 40.375 \r\nQ 26.375 40.375 22.484375 35.828125 \r\nQ 18.609375 31.296875 18.609375 23.390625 \r\nQ 18.609375 15.53125 22.484375 10.953125 \r\nQ 26.375 6.390625 33.015625 6.390625 \r\nQ 39.65625 6.390625 43.53125 10.953125 \r\nQ 47.40625 15.53125 47.40625 23.390625 \r\nQ 47.40625 31.296875 43.53125 35.828125 \r\nQ 39.65625 40.375 33.015625 40.375 \r\nz\r\nM 52.59375 71.296875 \r\nL 52.59375 62.3125 \r\nQ 48.875 64.0625 45.09375 64.984375 \r\nQ 41.3125 65.921875 37.59375 65.921875 \r\nQ 27.828125 65.921875 22.671875 59.328125 \r\nQ 17.53125 52.734375 16.796875 39.40625 \r\nQ 19.671875 43.65625 24.015625 45.921875 \r\nQ 28.375 48.1875 33.59375 48.1875 \r\nQ 44.578125 48.1875 50.953125 41.515625 \r\nQ 57.328125 34.859375 57.328125 23.390625 \r\nQ 57.328125 12.15625 50.6875 5.359375 \r\nQ 44.046875 -1.421875 33.015625 -1.421875 \r\nQ 20.359375 -1.421875 13.671875 8.265625 \r\nQ 6.984375 17.96875 6.984375 36.375 \r\nQ 6.984375 53.65625 15.1875 63.9375 \r\nQ 23.390625 74.21875 37.203125 74.21875 \r\nQ 40.921875 74.21875 44.703125 73.484375 \r\nQ 48.484375 72.75 52.59375 71.296875 \r\nz\r\n\" id=\"DejaVuSans-54\"/>\r\n       </defs>\r\n       <use xlink:href=\"#DejaVuSans-54\"/>\r\n      </g>\r\n     </g>\r\n    </g>\r\n    <g id=\"xtick_5\">\r\n     <g id=\"line2d_9\">\r\n      <path clip-path=\"url(#pb706ac901c)\" d=\"M 317.232528 140.596364 \r\nL 317.232528 41.76 \r\n\" style=\"fill:none;stroke:#b0b0b0;stroke-linecap:square;stroke-width:0.8;\"/>\r\n     </g>\r\n     <g id=\"line2d_10\">\r\n      <g>\r\n       <use style=\"stroke:#000000;stroke-width:0.8;\" x=\"317.232528\" xlink:href=\"#md270d76bed\" y=\"140.596364\"/>\r\n      </g>\r\n     </g>\r\n     <g id=\"text_5\">\r\n      <!-- 8 -->\r\n      <g transform=\"translate(314.051278 155.194801)scale(0.1 -0.1)\">\r\n       <defs>\r\n        <path d=\"M 31.78125 34.625 \r\nQ 24.75 34.625 20.71875 30.859375 \r\nQ 16.703125 27.09375 16.703125 20.515625 \r\nQ 16.703125 13.921875 20.71875 10.15625 \r\nQ 24.75 6.390625 31.78125 6.390625 \r\nQ 38.8125 6.390625 42.859375 10.171875 \r\nQ 46.921875 13.96875 46.921875 20.515625 \r\nQ 46.921875 27.09375 42.890625 30.859375 \r\nQ 38.875 34.625 31.78125 34.625 \r\nz\r\nM 21.921875 38.8125 \r\nQ 15.578125 40.375 12.03125 44.71875 \r\nQ 8.5 49.078125 8.5 55.328125 \r\nQ 8.5 64.0625 14.71875 69.140625 \r\nQ 20.953125 74.21875 31.78125 74.21875 \r\nQ 42.671875 74.21875 48.875 69.140625 \r\nQ 55.078125 64.0625 55.078125 55.328125 \r\nQ 55.078125 49.078125 51.53125 44.71875 \r\nQ 48 40.375 41.703125 38.8125 \r\nQ 48.828125 37.15625 52.796875 32.3125 \r\nQ 56.78125 27.484375 56.78125 20.515625 \r\nQ 56.78125 9.90625 50.3125 4.234375 \r\nQ 43.84375 -1.421875 31.78125 -1.421875 \r\nQ 19.734375 -1.421875 13.25 4.234375 \r\nQ 6.78125 9.90625 6.78125 20.515625 \r\nQ 6.78125 27.484375 10.78125 32.3125 \r\nQ 14.796875 37.15625 21.921875 38.8125 \r\nz\r\nM 18.3125 54.390625 \r\nQ 18.3125 48.734375 21.84375 45.5625 \r\nQ 25.390625 42.390625 31.78125 42.390625 \r\nQ 38.140625 42.390625 41.71875 45.5625 \r\nQ 45.3125 48.734375 45.3125 54.390625 \r\nQ 45.3125 60.0625 41.71875 63.234375 \r\nQ 38.140625 66.40625 31.78125 66.40625 \r\nQ 25.390625 66.40625 21.84375 63.234375 \r\nQ 18.3125 60.0625 18.3125 54.390625 \r\nz\r\n\" id=\"DejaVuSans-56\"/>\r\n       </defs>\r\n       <use xlink:href=\"#DejaVuSans-56\"/>\r\n      </g>\r\n     </g>\r\n    </g>\r\n    <g id=\"xtick_6\">\r\n     <g id=\"line2d_11\">\r\n      <path clip-path=\"url(#pb706ac901c)\" d=\"M 378.105256 140.596364 \r\nL 378.105256 41.76 \r\n\" style=\"fill:none;stroke:#b0b0b0;stroke-linecap:square;stroke-width:0.8;\"/>\r\n     </g>\r\n     <g id=\"line2d_12\">\r\n      <g>\r\n       <use style=\"stroke:#000000;stroke-width:0.8;\" x=\"378.105256\" xlink:href=\"#md270d76bed\" y=\"140.596364\"/>\r\n      </g>\r\n     </g>\r\n     <g id=\"text_6\">\r\n      <!-- 10 -->\r\n      <g transform=\"translate(371.742756 155.194801)scale(0.1 -0.1)\">\r\n       <defs>\r\n        <path d=\"M 12.40625 8.296875 \r\nL 28.515625 8.296875 \r\nL 28.515625 63.921875 \r\nL 10.984375 60.40625 \r\nL 10.984375 69.390625 \r\nL 28.421875 72.90625 \r\nL 38.28125 72.90625 \r\nL 38.28125 8.296875 \r\nL 54.390625 8.296875 \r\nL 54.390625 0 \r\nL 12.40625 0 \r\nz\r\n\" id=\"DejaVuSans-49\"/>\r\n       </defs>\r\n       <use xlink:href=\"#DejaVuSans-49\"/>\r\n       <use x=\"63.623047\" xlink:href=\"#DejaVuSans-48\"/>\r\n      </g>\r\n     </g>\r\n    </g>\r\n    <g id=\"text_7\">\r\n     <!-- t  [$\\mu$s] -->\r\n     <g transform=\"translate(211.073438 168.874489)scale(0.1 -0.1)\">\r\n      <defs>\r\n       <path d=\"M 18.3125 70.21875 \r\nL 18.3125 54.6875 \r\nL 36.8125 54.6875 \r\nL 36.8125 47.703125 \r\nL 18.3125 47.703125 \r\nL 18.3125 18.015625 \r\nQ 18.3125 11.328125 20.140625 9.421875 \r\nQ 21.96875 7.515625 27.59375 7.515625 \r\nL 36.8125 7.515625 \r\nL 36.8125 0 \r\nL 27.59375 0 \r\nQ 17.1875 0 13.234375 3.875 \r\nQ 9.28125 7.765625 9.28125 18.015625 \r\nL 9.28125 47.703125 \r\nL 2.6875 47.703125 \r\nL 2.6875 54.6875 \r\nL 9.28125 54.6875 \r\nL 9.28125 70.21875 \r\nz\r\n\" id=\"DejaVuSans-116\"/>\r\n       <path id=\"DejaVuSans-32\"/>\r\n       <path d=\"M 8.59375 75.984375 \r\nL 29.296875 75.984375 \r\nL 29.296875 69 \r\nL 17.578125 69 \r\nL 17.578125 -6.203125 \r\nL 29.296875 -6.203125 \r\nL 29.296875 -13.1875 \r\nL 8.59375 -13.1875 \r\nz\r\n\" id=\"DejaVuSans-91\"/>\r\n       <path d=\"M -1.3125 -20.796875 \r\nL 13.375 54.6875 \r\nL 22.40625 54.6875 \r\nL 15.765625 20.65625 \r\nQ 15.578125 19.625 15.421875 18.359375 \r\nQ 15.28125 17.09375 15.28125 15.828125 \r\nQ 15.28125 11.28125 18.140625 8.828125 \r\nQ 21 6.390625 26.3125 6.390625 \r\nQ 33.546875 6.390625 37.984375 10.484375 \r\nQ 42.4375 14.59375 44 22.796875 \r\nL 50.203125 54.6875 \r\nL 59.1875 54.6875 \r\nL 51.03125 12.640625 \r\nQ 50.828125 11.71875 50.75 11.03125 \r\nQ 50.6875 10.359375 50.6875 9.8125 \r\nQ 50.6875 8.296875 51.296875 7.59375 \r\nQ 51.90625 6.890625 53.21875 6.890625 \r\nQ 53.71875 6.890625 54.5625 7.125 \r\nQ 55.421875 7.375 56.984375 8.015625 \r\nL 55.609375 0.78125 \r\nQ 53.46875 -0.296875 51.515625 -0.859375 \r\nQ 49.5625 -1.421875 47.703125 -1.421875 \r\nQ 44.484375 -1.421875 42.65625 0.625 \r\nQ 40.828125 2.6875 40.828125 6.296875 \r\nQ 38.09375 2.390625 34.296875 0.484375 \r\nQ 30.515625 -1.421875 25.390625 -1.421875 \r\nQ 20.84375 -1.421875 17.453125 0.671875 \r\nQ 14.0625 2.78125 12.984375 6.203125 \r\nL 7.71875 -20.796875 \r\nz\r\n\" id=\"DejaVuSans-Oblique-956\"/>\r\n       <path d=\"M 44.28125 53.078125 \r\nL 44.28125 44.578125 \r\nQ 40.484375 46.53125 36.375 47.5 \r\nQ 32.28125 48.484375 27.875 48.484375 \r\nQ 21.1875 48.484375 17.84375 46.4375 \r\nQ 14.5 44.390625 14.5 40.28125 \r\nQ 14.5 37.15625 16.890625 35.375 \r\nQ 19.28125 33.59375 26.515625 31.984375 \r\nL 29.59375 31.296875 \r\nQ 39.15625 29.25 43.1875 25.515625 \r\nQ 47.21875 21.78125 47.21875 15.09375 \r\nQ 47.21875 7.46875 41.1875 3.015625 \r\nQ 35.15625 -1.421875 24.609375 -1.421875 \r\nQ 20.21875 -1.421875 15.453125 -0.5625 \r\nQ 10.6875 0.296875 5.421875 2 \r\nL 5.421875 11.28125 \r\nQ 10.40625 8.6875 15.234375 7.390625 \r\nQ 20.0625 6.109375 24.8125 6.109375 \r\nQ 31.15625 6.109375 34.5625 8.28125 \r\nQ 37.984375 10.453125 37.984375 14.40625 \r\nQ 37.984375 18.0625 35.515625 20.015625 \r\nQ 33.0625 21.96875 24.703125 23.78125 \r\nL 21.578125 24.515625 \r\nQ 13.234375 26.265625 9.515625 29.90625 \r\nQ 5.8125 33.546875 5.8125 39.890625 \r\nQ 5.8125 47.609375 11.28125 51.796875 \r\nQ 16.75 56 26.8125 56 \r\nQ 31.78125 56 36.171875 55.265625 \r\nQ 40.578125 54.546875 44.28125 53.078125 \r\nz\r\n\" id=\"DejaVuSans-115\"/>\r\n       <path d=\"M 30.421875 75.984375 \r\nL 30.421875 -13.1875 \r\nL 9.71875 -13.1875 \r\nL 9.71875 -6.203125 \r\nL 21.390625 -6.203125 \r\nL 21.390625 69 \r\nL 9.71875 69 \r\nL 9.71875 75.984375 \r\nz\r\n\" id=\"DejaVuSans-93\"/>\r\n      </defs>\r\n      <use transform=\"translate(0 0.015625)\" xlink:href=\"#DejaVuSans-116\"/>\r\n      <use transform=\"translate(39.208984 0.015625)\" xlink:href=\"#DejaVuSans-32\"/>\r\n      <use transform=\"translate(70.996094 0.015625)\" xlink:href=\"#DejaVuSans-32\"/>\r\n      <use transform=\"translate(102.783203 0.015625)\" xlink:href=\"#DejaVuSans-91\"/>\r\n      <use transform=\"translate(141.796875 0.015625)\" xlink:href=\"#DejaVuSans-Oblique-956\"/>\r\n      <use transform=\"translate(205.419922 0.015625)\" xlink:href=\"#DejaVuSans-115\"/>\r\n      <use transform=\"translate(257.519531 0.015625)\" xlink:href=\"#DejaVuSans-93\"/>\r\n     </g>\r\n    </g>\r\n   </g>\r\n   <g id=\"matplotlib.axis_2\">\r\n    <g id=\"ytick_1\">\r\n     <g id=\"line2d_13\">\r\n      <path clip-path=\"url(#pb706ac901c)\" d=\"M 58.523438 136.103802 \r\nL 393.323438 136.103802 \r\n\" style=\"fill:none;stroke:#b0b0b0;stroke-linecap:square;stroke-width:0.8;\"/>\r\n     </g>\r\n     <g id=\"line2d_14\">\r\n      <defs>\r\n       <path d=\"M 0 0 \r\nL -3.5 0 \r\n\" id=\"m54877e8764\" style=\"stroke:#000000;stroke-width:0.8;\"/>\r\n      </defs>\r\n      <g>\r\n       <use style=\"stroke:#000000;stroke-width:0.8;\" x=\"58.523438\" xlink:href=\"#m54877e8764\" y=\"136.103802\"/>\r\n      </g>\r\n     </g>\r\n     <g id=\"text_8\">\r\n      <!-- 0 -->\r\n      <g transform=\"translate(45.160938 139.90302)scale(0.1 -0.1)\">\r\n       <use xlink:href=\"#DejaVuSans-48\"/>\r\n      </g>\r\n     </g>\r\n    </g>\r\n    <g id=\"ytick_2\">\r\n     <g id=\"line2d_15\">\r\n      <path clip-path=\"url(#pb706ac901c)\" d=\"M 58.523438 91.178182 \r\nL 393.323438 91.178182 \r\n\" style=\"fill:none;stroke:#b0b0b0;stroke-linecap:square;stroke-width:0.8;\"/>\r\n     </g>\r\n     <g id=\"line2d_16\">\r\n      <g>\r\n       <use style=\"stroke:#000000;stroke-width:0.8;\" x=\"58.523438\" xlink:href=\"#m54877e8764\" y=\"91.178182\"/>\r\n      </g>\r\n     </g>\r\n     <g id=\"text_9\">\r\n      <!-- 20 -->\r\n      <g transform=\"translate(38.798438 94.977401)scale(0.1 -0.1)\">\r\n       <use xlink:href=\"#DejaVuSans-50\"/>\r\n       <use x=\"63.623047\" xlink:href=\"#DejaVuSans-48\"/>\r\n      </g>\r\n     </g>\r\n    </g>\r\n    <g id=\"ytick_3\">\r\n     <g id=\"line2d_17\">\r\n      <path clip-path=\"url(#pb706ac901c)\" d=\"M 58.523438 46.252562 \r\nL 393.323438 46.252562 \r\n\" style=\"fill:none;stroke:#b0b0b0;stroke-linecap:square;stroke-width:0.8;\"/>\r\n     </g>\r\n     <g id=\"line2d_18\">\r\n      <g>\r\n       <use style=\"stroke:#000000;stroke-width:0.8;\" x=\"58.523438\" xlink:href=\"#m54877e8764\" y=\"46.252562\"/>\r\n      </g>\r\n     </g>\r\n     <g id=\"text_10\">\r\n      <!-- 40 -->\r\n      <g transform=\"translate(38.798438 50.051781)scale(0.1 -0.1)\">\r\n       <use xlink:href=\"#DejaVuSans-52\"/>\r\n       <use x=\"63.623047\" xlink:href=\"#DejaVuSans-48\"/>\r\n      </g>\r\n     </g>\r\n    </g>\r\n    <g id=\"text_11\">\r\n     <!-- V  [mV] -->\r\n     <g transform=\"translate(32.71875 109.968807)rotate(-90)scale(0.1 -0.1)\">\r\n      <defs>\r\n       <path d=\"M 28.609375 0 \r\nL 0.78125 72.90625 \r\nL 11.078125 72.90625 \r\nL 34.1875 11.53125 \r\nL 57.328125 72.90625 \r\nL 67.578125 72.90625 \r\nL 39.796875 0 \r\nz\r\n\" id=\"DejaVuSans-86\"/>\r\n       <path d=\"M 52 44.1875 \r\nQ 55.375 50.25 60.0625 53.125 \r\nQ 64.75 56 71.09375 56 \r\nQ 79.640625 56 84.28125 50.015625 \r\nQ 88.921875 44.046875 88.921875 33.015625 \r\nL 88.921875 0 \r\nL 79.890625 0 \r\nL 79.890625 32.71875 \r\nQ 79.890625 40.578125 77.09375 44.375 \r\nQ 74.3125 48.1875 68.609375 48.1875 \r\nQ 61.625 48.1875 57.5625 43.546875 \r\nQ 53.515625 38.921875 53.515625 30.90625 \r\nL 53.515625 0 \r\nL 44.484375 0 \r\nL 44.484375 32.71875 \r\nQ 44.484375 40.625 41.703125 44.40625 \r\nQ 38.921875 48.1875 33.109375 48.1875 \r\nQ 26.21875 48.1875 22.15625 43.53125 \r\nQ 18.109375 38.875 18.109375 30.90625 \r\nL 18.109375 0 \r\nL 9.078125 0 \r\nL 9.078125 54.6875 \r\nL 18.109375 54.6875 \r\nL 18.109375 46.1875 \r\nQ 21.1875 51.21875 25.484375 53.609375 \r\nQ 29.78125 56 35.6875 56 \r\nQ 41.65625 56 45.828125 52.96875 \r\nQ 50 49.953125 52 44.1875 \r\nz\r\n\" id=\"DejaVuSans-109\"/>\r\n      </defs>\r\n      <use xlink:href=\"#DejaVuSans-86\"/>\r\n      <use x=\"68.408203\" xlink:href=\"#DejaVuSans-32\"/>\r\n      <use x=\"100.195312\" xlink:href=\"#DejaVuSans-32\"/>\r\n      <use x=\"131.982422\" xlink:href=\"#DejaVuSans-91\"/>\r\n      <use x=\"170.996094\" xlink:href=\"#DejaVuSans-109\"/>\r\n      <use x=\"268.408203\" xlink:href=\"#DejaVuSans-86\"/>\r\n      <use x=\"336.816406\" xlink:href=\"#DejaVuSans-93\"/>\r\n     </g>\r\n    </g>\r\n   </g>\r\n   <g id=\"line2d_19\">\r\n    <path clip-path=\"url(#pb706ac901c)\" d=\"M 73.741619 136.103802 \r\nL 225.923432 136.103802 \r\nL 226.034545 46.252562 \r\nL 256.359797 46.252562 \r\nL 256.47091 136.103802 \r\nL 286.796162 136.103802 \r\nL 286.907275 79.946777 \r\nL 317.232526 79.946777 \r\nL 317.343639 136.103802 \r\nL 378.105256 136.103802 \r\nL 378.105256 136.103802 \r\n\" style=\"fill:none;stroke:#0000ff;stroke-linecap:square;stroke-width:1.5;\"/>\r\n   </g>\r\n   <g id=\"patch_3\">\r\n    <path d=\"M 58.523438 140.596364 \r\nL 58.523438 41.76 \r\n\" style=\"fill:none;stroke:#000000;stroke-linecap:square;stroke-linejoin:miter;stroke-width:0.8;\"/>\r\n   </g>\r\n   <g id=\"patch_4\">\r\n    <path d=\"M 393.323438 140.596364 \r\nL 393.323438 41.76 \r\n\" style=\"fill:none;stroke:#000000;stroke-linecap:square;stroke-linejoin:miter;stroke-width:0.8;\"/>\r\n   </g>\r\n   <g id=\"patch_5\">\r\n    <path d=\"M 58.523438 140.596364 \r\nL 393.323438 140.596364 \r\n\" style=\"fill:none;stroke:#000000;stroke-linecap:square;stroke-linejoin:miter;stroke-width:0.8;\"/>\r\n   </g>\r\n   <g id=\"patch_6\">\r\n    <path d=\"M 58.523438 41.76 \r\nL 393.323438 41.76 \r\n\" style=\"fill:none;stroke:#000000;stroke-linecap:square;stroke-linejoin:miter;stroke-width:0.8;\"/>\r\n   </g>\r\n  </g>\r\n  <g id=\"axes_2\">\r\n   <g id=\"patch_7\">\r\n    <path d=\"M 58.523438 259.2 \r\nL 393.323438 259.2 \r\nL 393.323438 160.363636 \r\nL 58.523438 160.363636 \r\nz\r\n\" style=\"fill:#ffffff;\"/>\r\n   </g>\r\n   <g id=\"matplotlib.axis_3\">\r\n    <g id=\"xtick_7\">\r\n     <g id=\"line2d_20\">\r\n      <path clip-path=\"url(#pac3f751158)\" d=\"M 73.741619 259.2 \r\nL 73.741619 160.363636 \r\n\" style=\"fill:none;stroke:#b0b0b0;stroke-linecap:square;stroke-width:0.8;\"/>\r\n     </g>\r\n     <g id=\"line2d_21\">\r\n      <g>\r\n       <use style=\"stroke:#000000;stroke-width:0.8;\" x=\"73.741619\" xlink:href=\"#md270d76bed\" y=\"259.2\"/>\r\n      </g>\r\n     </g>\r\n     <g id=\"text_12\">\r\n      <!-- 0 -->\r\n      <g transform=\"translate(70.560369 273.798437)scale(0.1 -0.1)\">\r\n       <use xlink:href=\"#DejaVuSans-48\"/>\r\n      </g>\r\n     </g>\r\n    </g>\r\n    <g id=\"xtick_8\">\r\n     <g id=\"line2d_22\">\r\n      <path clip-path=\"url(#pac3f751158)\" d=\"M 134.614347 259.2 \r\nL 134.614347 160.363636 \r\n\" style=\"fill:none;stroke:#b0b0b0;stroke-linecap:square;stroke-width:0.8;\"/>\r\n     </g>\r\n     <g id=\"line2d_23\">\r\n      <g>\r\n       <use style=\"stroke:#000000;stroke-width:0.8;\" x=\"134.614347\" xlink:href=\"#md270d76bed\" y=\"259.2\"/>\r\n      </g>\r\n     </g>\r\n     <g id=\"text_13\">\r\n      <!-- 2 -->\r\n      <g transform=\"translate(131.433097 273.798437)scale(0.1 -0.1)\">\r\n       <use xlink:href=\"#DejaVuSans-50\"/>\r\n      </g>\r\n     </g>\r\n    </g>\r\n    <g id=\"xtick_9\">\r\n     <g id=\"line2d_24\">\r\n      <path clip-path=\"url(#pac3f751158)\" d=\"M 195.487074 259.2 \r\nL 195.487074 160.363636 \r\n\" style=\"fill:none;stroke:#b0b0b0;stroke-linecap:square;stroke-width:0.8;\"/>\r\n     </g>\r\n     <g id=\"line2d_25\">\r\n      <g>\r\n       <use style=\"stroke:#000000;stroke-width:0.8;\" x=\"195.487074\" xlink:href=\"#md270d76bed\" y=\"259.2\"/>\r\n      </g>\r\n     </g>\r\n     <g id=\"text_14\">\r\n      <!-- 4 -->\r\n      <g transform=\"translate(192.305824 273.798437)scale(0.1 -0.1)\">\r\n       <use xlink:href=\"#DejaVuSans-52\"/>\r\n      </g>\r\n     </g>\r\n    </g>\r\n    <g id=\"xtick_10\">\r\n     <g id=\"line2d_26\">\r\n      <path clip-path=\"url(#pac3f751158)\" d=\"M 256.359801 259.2 \r\nL 256.359801 160.363636 \r\n\" style=\"fill:none;stroke:#b0b0b0;stroke-linecap:square;stroke-width:0.8;\"/>\r\n     </g>\r\n     <g id=\"line2d_27\">\r\n      <g>\r\n       <use style=\"stroke:#000000;stroke-width:0.8;\" x=\"256.359801\" xlink:href=\"#md270d76bed\" y=\"259.2\"/>\r\n      </g>\r\n     </g>\r\n     <g id=\"text_15\">\r\n      <!-- 6 -->\r\n      <g transform=\"translate(253.178551 273.798437)scale(0.1 -0.1)\">\r\n       <use xlink:href=\"#DejaVuSans-54\"/>\r\n      </g>\r\n     </g>\r\n    </g>\r\n    <g id=\"xtick_11\">\r\n     <g id=\"line2d_28\">\r\n      <path clip-path=\"url(#pac3f751158)\" d=\"M 317.232528 259.2 \r\nL 317.232528 160.363636 \r\n\" style=\"fill:none;stroke:#b0b0b0;stroke-linecap:square;stroke-width:0.8;\"/>\r\n     </g>\r\n     <g id=\"line2d_29\">\r\n      <g>\r\n       <use style=\"stroke:#000000;stroke-width:0.8;\" x=\"317.232528\" xlink:href=\"#md270d76bed\" y=\"259.2\"/>\r\n      </g>\r\n     </g>\r\n     <g id=\"text_16\">\r\n      <!-- 8 -->\r\n      <g transform=\"translate(314.051278 273.798437)scale(0.1 -0.1)\">\r\n       <use xlink:href=\"#DejaVuSans-56\"/>\r\n      </g>\r\n     </g>\r\n    </g>\r\n    <g id=\"xtick_12\">\r\n     <g id=\"line2d_30\">\r\n      <path clip-path=\"url(#pac3f751158)\" d=\"M 378.105256 259.2 \r\nL 378.105256 160.363636 \r\n\" style=\"fill:none;stroke:#b0b0b0;stroke-linecap:square;stroke-width:0.8;\"/>\r\n     </g>\r\n     <g id=\"line2d_31\">\r\n      <g>\r\n       <use style=\"stroke:#000000;stroke-width:0.8;\" x=\"378.105256\" xlink:href=\"#md270d76bed\" y=\"259.2\"/>\r\n      </g>\r\n     </g>\r\n     <g id=\"text_17\">\r\n      <!-- 10 -->\r\n      <g transform=\"translate(371.742756 273.798437)scale(0.1 -0.1)\">\r\n       <use xlink:href=\"#DejaVuSans-49\"/>\r\n       <use x=\"63.623047\" xlink:href=\"#DejaVuSans-48\"/>\r\n      </g>\r\n     </g>\r\n    </g>\r\n    <g id=\"text_18\">\r\n     <!-- t  [ms] -->\r\n     <g transform=\"translate(209.408594 287.476562)scale(0.1 -0.1)\">\r\n      <use xlink:href=\"#DejaVuSans-116\"/>\r\n      <use x=\"39.208984\" xlink:href=\"#DejaVuSans-32\"/>\r\n      <use x=\"70.996094\" xlink:href=\"#DejaVuSans-32\"/>\r\n      <use x=\"102.783203\" xlink:href=\"#DejaVuSans-91\"/>\r\n      <use x=\"141.796875\" xlink:href=\"#DejaVuSans-109\"/>\r\n      <use x=\"239.208984\" xlink:href=\"#DejaVuSans-115\"/>\r\n      <use x=\"291.308594\" xlink:href=\"#DejaVuSans-93\"/>\r\n     </g>\r\n    </g>\r\n   </g>\r\n   <g id=\"matplotlib.axis_4\">\r\n    <g id=\"ytick_4\">\r\n     <g id=\"line2d_32\">\r\n      <path clip-path=\"url(#pac3f751158)\" d=\"M 58.523438 254.707438 \r\nL 393.323438 254.707438 \r\n\" style=\"fill:none;stroke:#b0b0b0;stroke-linecap:square;stroke-width:0.8;\"/>\r\n     </g>\r\n     <g id=\"line2d_33\">\r\n      <g>\r\n       <use style=\"stroke:#000000;stroke-width:0.8;\" x=\"58.523438\" xlink:href=\"#m54877e8764\" y=\"254.707438\"/>\r\n      </g>\r\n     </g>\r\n     <g id=\"text_19\">\r\n      <!-- −0.05 -->\r\n      <g transform=\"translate(20.878125 258.506657)scale(0.1 -0.1)\">\r\n       <defs>\r\n        <path d=\"M 10.59375 35.5 \r\nL 73.1875 35.5 \r\nL 73.1875 27.203125 \r\nL 10.59375 27.203125 \r\nz\r\n\" id=\"DejaVuSans-8722\"/>\r\n        <path d=\"M 10.6875 12.40625 \r\nL 21 12.40625 \r\nL 21 0 \r\nL 10.6875 0 \r\nz\r\n\" id=\"DejaVuSans-46\"/>\r\n        <path d=\"M 10.796875 72.90625 \r\nL 49.515625 72.90625 \r\nL 49.515625 64.59375 \r\nL 19.828125 64.59375 \r\nL 19.828125 46.734375 \r\nQ 21.96875 47.46875 24.109375 47.828125 \r\nQ 26.265625 48.1875 28.421875 48.1875 \r\nQ 40.625 48.1875 47.75 41.5 \r\nQ 54.890625 34.8125 54.890625 23.390625 \r\nQ 54.890625 11.625 47.5625 5.09375 \r\nQ 40.234375 -1.421875 26.90625 -1.421875 \r\nQ 22.3125 -1.421875 17.546875 -0.640625 \r\nQ 12.796875 0.140625 7.71875 1.703125 \r\nL 7.71875 11.625 \r\nQ 12.109375 9.234375 16.796875 8.0625 \r\nQ 21.484375 6.890625 26.703125 6.890625 \r\nQ 35.15625 6.890625 40.078125 11.328125 \r\nQ 45.015625 15.765625 45.015625 23.390625 \r\nQ 45.015625 31 40.078125 35.4375 \r\nQ 35.15625 39.890625 26.703125 39.890625 \r\nQ 22.75 39.890625 18.8125 39.015625 \r\nQ 14.890625 38.140625 10.796875 36.28125 \r\nz\r\n\" id=\"DejaVuSans-53\"/>\r\n       </defs>\r\n       <use xlink:href=\"#DejaVuSans-8722\"/>\r\n       <use x=\"83.789062\" xlink:href=\"#DejaVuSans-48\"/>\r\n       <use x=\"147.412109\" xlink:href=\"#DejaVuSans-46\"/>\r\n       <use x=\"179.199219\" xlink:href=\"#DejaVuSans-48\"/>\r\n       <use x=\"242.822266\" xlink:href=\"#DejaVuSans-53\"/>\r\n      </g>\r\n     </g>\r\n    </g>\r\n    <g id=\"ytick_5\">\r\n     <g id=\"line2d_34\">\r\n      <path clip-path=\"url(#pac3f751158)\" d=\"M 58.523438 209.781818 \r\nL 393.323438 209.781818 \r\n\" style=\"fill:none;stroke:#b0b0b0;stroke-linecap:square;stroke-width:0.8;\"/>\r\n     </g>\r\n     <g id=\"line2d_35\">\r\n      <g>\r\n       <use style=\"stroke:#000000;stroke-width:0.8;\" x=\"58.523438\" xlink:href=\"#m54877e8764\" y=\"209.781818\"/>\r\n      </g>\r\n     </g>\r\n     <g id=\"text_20\">\r\n      <!-- 0.00 -->\r\n      <g transform=\"translate(29.257813 213.581037)scale(0.1 -0.1)\">\r\n       <use xlink:href=\"#DejaVuSans-48\"/>\r\n       <use x=\"63.623047\" xlink:href=\"#DejaVuSans-46\"/>\r\n       <use x=\"95.410156\" xlink:href=\"#DejaVuSans-48\"/>\r\n       <use x=\"159.033203\" xlink:href=\"#DejaVuSans-48\"/>\r\n      </g>\r\n     </g>\r\n    </g>\r\n    <g id=\"ytick_6\">\r\n     <g id=\"line2d_36\">\r\n      <path clip-path=\"url(#pac3f751158)\" d=\"M 58.523438 164.856198 \r\nL 393.323438 164.856198 \r\n\" style=\"fill:none;stroke:#b0b0b0;stroke-linecap:square;stroke-width:0.8;\"/>\r\n     </g>\r\n     <g id=\"line2d_37\">\r\n      <g>\r\n       <use style=\"stroke:#000000;stroke-width:0.8;\" x=\"58.523438\" xlink:href=\"#m54877e8764\" y=\"164.856198\"/>\r\n      </g>\r\n     </g>\r\n     <g id=\"text_21\">\r\n      <!-- 0.05 -->\r\n      <g transform=\"translate(29.257813 168.655417)scale(0.1 -0.1)\">\r\n       <use xlink:href=\"#DejaVuSans-48\"/>\r\n       <use x=\"63.623047\" xlink:href=\"#DejaVuSans-46\"/>\r\n       <use x=\"95.410156\" xlink:href=\"#DejaVuSans-48\"/>\r\n       <use x=\"159.033203\" xlink:href=\"#DejaVuSans-53\"/>\r\n      </g>\r\n     </g>\r\n    </g>\r\n    <g id=\"text_22\">\r\n     <!-- V  [mV] -->\r\n     <g transform=\"translate(14.798438 228.572443)rotate(-90)scale(0.1 -0.1)\">\r\n      <use xlink:href=\"#DejaVuSans-86\"/>\r\n      <use x=\"68.408203\" xlink:href=\"#DejaVuSans-32\"/>\r\n      <use x=\"100.195312\" xlink:href=\"#DejaVuSans-32\"/>\r\n      <use x=\"131.982422\" xlink:href=\"#DejaVuSans-91\"/>\r\n      <use x=\"170.996094\" xlink:href=\"#DejaVuSans-109\"/>\r\n      <use x=\"268.408203\" xlink:href=\"#DejaVuSans-86\"/>\r\n      <use x=\"336.816406\" xlink:href=\"#DejaVuSans-93\"/>\r\n     </g>\r\n    </g>\r\n   </g>\r\n   <g id=\"line2d_38\">\r\n    <path clip-path=\"url(#pac3f751158)\" d=\"M 73.741619 209.781818 \r\nL 378.105256 209.781818 \r\nL 378.105256 209.781818 \r\n\" style=\"fill:none;stroke:#ff0000;stroke-linecap:square;stroke-width:1.5;\"/>\r\n   </g>\r\n   <g id=\"patch_8\">\r\n    <path d=\"M 58.523438 259.2 \r\nL 58.523438 160.363636 \r\n\" style=\"fill:none;stroke:#000000;stroke-linecap:square;stroke-linejoin:miter;stroke-width:0.8;\"/>\r\n   </g>\r\n   <g id=\"patch_9\">\r\n    <path d=\"M 393.323438 259.2 \r\nL 393.323438 160.363636 \r\n\" style=\"fill:none;stroke:#000000;stroke-linecap:square;stroke-linejoin:miter;stroke-width:0.8;\"/>\r\n   </g>\r\n   <g id=\"patch_10\">\r\n    <path d=\"M 58.523438 259.2 \r\nL 393.323438 259.2 \r\n\" style=\"fill:none;stroke:#000000;stroke-linecap:square;stroke-linejoin:miter;stroke-width:0.8;\"/>\r\n   </g>\r\n   <g id=\"patch_11\">\r\n    <path d=\"M 58.523438 160.363636 \r\nL 393.323438 160.363636 \r\n\" style=\"fill:none;stroke:#000000;stroke-linecap:square;stroke-linejoin:miter;stroke-width:0.8;\"/>\r\n   </g>\r\n  </g>\r\n  <g id=\"text_23\">\r\n   <!-- Cycles loaded into the AWG -->\r\n   <g transform=\"translate(137.35125 22.078125)scale(0.12 -0.12)\">\r\n    <defs>\r\n     <path d=\"M 64.40625 67.28125 \r\nL 64.40625 56.890625 \r\nQ 59.421875 61.53125 53.78125 63.8125 \r\nQ 48.140625 66.109375 41.796875 66.109375 \r\nQ 29.296875 66.109375 22.65625 58.46875 \r\nQ 16.015625 50.828125 16.015625 36.375 \r\nQ 16.015625 21.96875 22.65625 14.328125 \r\nQ 29.296875 6.6875 41.796875 6.6875 \r\nQ 48.140625 6.6875 53.78125 8.984375 \r\nQ 59.421875 11.28125 64.40625 15.921875 \r\nL 64.40625 5.609375 \r\nQ 59.234375 2.09375 53.4375 0.328125 \r\nQ 47.65625 -1.421875 41.21875 -1.421875 \r\nQ 24.65625 -1.421875 15.125 8.703125 \r\nQ 5.609375 18.84375 5.609375 36.375 \r\nQ 5.609375 53.953125 15.125 64.078125 \r\nQ 24.65625 74.21875 41.21875 74.21875 \r\nQ 47.75 74.21875 53.53125 72.484375 \r\nQ 59.328125 70.75 64.40625 67.28125 \r\nz\r\n\" id=\"DejaVuSans-67\"/>\r\n     <path d=\"M 32.171875 -5.078125 \r\nQ 28.375 -14.84375 24.75 -17.8125 \r\nQ 21.140625 -20.796875 15.09375 -20.796875 \r\nL 7.90625 -20.796875 \r\nL 7.90625 -13.28125 \r\nL 13.1875 -13.28125 \r\nQ 16.890625 -13.28125 18.9375 -11.515625 \r\nQ 21 -9.765625 23.484375 -3.21875 \r\nL 25.09375 0.875 \r\nL 2.984375 54.6875 \r\nL 12.5 54.6875 \r\nL 29.59375 11.921875 \r\nL 46.6875 54.6875 \r\nL 56.203125 54.6875 \r\nz\r\n\" id=\"DejaVuSans-121\"/>\r\n     <path d=\"M 48.78125 52.59375 \r\nL 48.78125 44.1875 \r\nQ 44.96875 46.296875 41.140625 47.34375 \r\nQ 37.3125 48.390625 33.40625 48.390625 \r\nQ 24.65625 48.390625 19.8125 42.84375 \r\nQ 14.984375 37.3125 14.984375 27.296875 \r\nQ 14.984375 17.28125 19.8125 11.734375 \r\nQ 24.65625 6.203125 33.40625 6.203125 \r\nQ 37.3125 6.203125 41.140625 7.25 \r\nQ 44.96875 8.296875 48.78125 10.40625 \r\nL 48.78125 2.09375 \r\nQ 45.015625 0.34375 40.984375 -0.53125 \r\nQ 36.96875 -1.421875 32.421875 -1.421875 \r\nQ 20.0625 -1.421875 12.78125 6.34375 \r\nQ 5.515625 14.109375 5.515625 27.296875 \r\nQ 5.515625 40.671875 12.859375 48.328125 \r\nQ 20.21875 56 33.015625 56 \r\nQ 37.15625 56 41.109375 55.140625 \r\nQ 45.0625 54.296875 48.78125 52.59375 \r\nz\r\n\" id=\"DejaVuSans-99\"/>\r\n     <path d=\"M 9.421875 75.984375 \r\nL 18.40625 75.984375 \r\nL 18.40625 0 \r\nL 9.421875 0 \r\nz\r\n\" id=\"DejaVuSans-108\"/>\r\n     <path d=\"M 56.203125 29.59375 \r\nL 56.203125 25.203125 \r\nL 14.890625 25.203125 \r\nQ 15.484375 15.921875 20.484375 11.0625 \r\nQ 25.484375 6.203125 34.421875 6.203125 \r\nQ 39.59375 6.203125 44.453125 7.46875 \r\nQ 49.3125 8.734375 54.109375 11.28125 \r\nL 54.109375 2.78125 \r\nQ 49.265625 0.734375 44.1875 -0.34375 \r\nQ 39.109375 -1.421875 33.890625 -1.421875 \r\nQ 20.796875 -1.421875 13.15625 6.1875 \r\nQ 5.515625 13.8125 5.515625 26.8125 \r\nQ 5.515625 40.234375 12.765625 48.109375 \r\nQ 20.015625 56 32.328125 56 \r\nQ 43.359375 56 49.78125 48.890625 \r\nQ 56.203125 41.796875 56.203125 29.59375 \r\nz\r\nM 47.21875 32.234375 \r\nQ 47.125 39.59375 43.09375 43.984375 \r\nQ 39.0625 48.390625 32.421875 48.390625 \r\nQ 24.90625 48.390625 20.390625 44.140625 \r\nQ 15.875 39.890625 15.1875 32.171875 \r\nz\r\n\" id=\"DejaVuSans-101\"/>\r\n     <path d=\"M 30.609375 48.390625 \r\nQ 23.390625 48.390625 19.1875 42.75 \r\nQ 14.984375 37.109375 14.984375 27.296875 \r\nQ 14.984375 17.484375 19.15625 11.84375 \r\nQ 23.34375 6.203125 30.609375 6.203125 \r\nQ 37.796875 6.203125 41.984375 11.859375 \r\nQ 46.1875 17.53125 46.1875 27.296875 \r\nQ 46.1875 37.015625 41.984375 42.703125 \r\nQ 37.796875 48.390625 30.609375 48.390625 \r\nz\r\nM 30.609375 56 \r\nQ 42.328125 56 49.015625 48.375 \r\nQ 55.71875 40.765625 55.71875 27.296875 \r\nQ 55.71875 13.875 49.015625 6.21875 \r\nQ 42.328125 -1.421875 30.609375 -1.421875 \r\nQ 18.84375 -1.421875 12.171875 6.21875 \r\nQ 5.515625 13.875 5.515625 27.296875 \r\nQ 5.515625 40.765625 12.171875 48.375 \r\nQ 18.84375 56 30.609375 56 \r\nz\r\n\" id=\"DejaVuSans-111\"/>\r\n     <path d=\"M 34.28125 27.484375 \r\nQ 23.390625 27.484375 19.1875 25 \r\nQ 14.984375 22.515625 14.984375 16.5 \r\nQ 14.984375 11.71875 18.140625 8.90625 \r\nQ 21.296875 6.109375 26.703125 6.109375 \r\nQ 34.1875 6.109375 38.703125 11.40625 \r\nQ 43.21875 16.703125 43.21875 25.484375 \r\nL 43.21875 27.484375 \r\nz\r\nM 52.203125 31.203125 \r\nL 52.203125 0 \r\nL 43.21875 0 \r\nL 43.21875 8.296875 \r\nQ 40.140625 3.328125 35.546875 0.953125 \r\nQ 30.953125 -1.421875 24.3125 -1.421875 \r\nQ 15.921875 -1.421875 10.953125 3.296875 \r\nQ 6 8.015625 6 15.921875 \r\nQ 6 25.140625 12.171875 29.828125 \r\nQ 18.359375 34.515625 30.609375 34.515625 \r\nL 43.21875 34.515625 \r\nL 43.21875 35.40625 \r\nQ 43.21875 41.609375 39.140625 45 \r\nQ 35.0625 48.390625 27.6875 48.390625 \r\nQ 23 48.390625 18.546875 47.265625 \r\nQ 14.109375 46.140625 10.015625 43.890625 \r\nL 10.015625 52.203125 \r\nQ 14.9375 54.109375 19.578125 55.046875 \r\nQ 24.21875 56 28.609375 56 \r\nQ 40.484375 56 46.34375 49.84375 \r\nQ 52.203125 43.703125 52.203125 31.203125 \r\nz\r\n\" id=\"DejaVuSans-97\"/>\r\n     <path d=\"M 45.40625 46.390625 \r\nL 45.40625 75.984375 \r\nL 54.390625 75.984375 \r\nL 54.390625 0 \r\nL 45.40625 0 \r\nL 45.40625 8.203125 \r\nQ 42.578125 3.328125 38.25 0.953125 \r\nQ 33.9375 -1.421875 27.875 -1.421875 \r\nQ 17.96875 -1.421875 11.734375 6.484375 \r\nQ 5.515625 14.40625 5.515625 27.296875 \r\nQ 5.515625 40.1875 11.734375 48.09375 \r\nQ 17.96875 56 27.875 56 \r\nQ 33.9375 56 38.25 53.625 \r\nQ 42.578125 51.265625 45.40625 46.390625 \r\nz\r\nM 14.796875 27.296875 \r\nQ 14.796875 17.390625 18.875 11.75 \r\nQ 22.953125 6.109375 30.078125 6.109375 \r\nQ 37.203125 6.109375 41.296875 11.75 \r\nQ 45.40625 17.390625 45.40625 27.296875 \r\nQ 45.40625 37.203125 41.296875 42.84375 \r\nQ 37.203125 48.484375 30.078125 48.484375 \r\nQ 22.953125 48.484375 18.875 42.84375 \r\nQ 14.796875 37.203125 14.796875 27.296875 \r\nz\r\n\" id=\"DejaVuSans-100\"/>\r\n     <path d=\"M 9.421875 54.6875 \r\nL 18.40625 54.6875 \r\nL 18.40625 0 \r\nL 9.421875 0 \r\nz\r\nM 9.421875 75.984375 \r\nL 18.40625 75.984375 \r\nL 18.40625 64.59375 \r\nL 9.421875 64.59375 \r\nz\r\n\" id=\"DejaVuSans-105\"/>\r\n     <path d=\"M 54.890625 33.015625 \r\nL 54.890625 0 \r\nL 45.90625 0 \r\nL 45.90625 32.71875 \r\nQ 45.90625 40.484375 42.875 44.328125 \r\nQ 39.84375 48.1875 33.796875 48.1875 \r\nQ 26.515625 48.1875 22.3125 43.546875 \r\nQ 18.109375 38.921875 18.109375 30.90625 \r\nL 18.109375 0 \r\nL 9.078125 0 \r\nL 9.078125 54.6875 \r\nL 18.109375 54.6875 \r\nL 18.109375 46.1875 \r\nQ 21.34375 51.125 25.703125 53.5625 \r\nQ 30.078125 56 35.796875 56 \r\nQ 45.21875 56 50.046875 50.171875 \r\nQ 54.890625 44.34375 54.890625 33.015625 \r\nz\r\n\" id=\"DejaVuSans-110\"/>\r\n     <path d=\"M 54.890625 33.015625 \r\nL 54.890625 0 \r\nL 45.90625 0 \r\nL 45.90625 32.71875 \r\nQ 45.90625 40.484375 42.875 44.328125 \r\nQ 39.84375 48.1875 33.796875 48.1875 \r\nQ 26.515625 48.1875 22.3125 43.546875 \r\nQ 18.109375 38.921875 18.109375 30.90625 \r\nL 18.109375 0 \r\nL 9.078125 0 \r\nL 9.078125 75.984375 \r\nL 18.109375 75.984375 \r\nL 18.109375 46.1875 \r\nQ 21.34375 51.125 25.703125 53.5625 \r\nQ 30.078125 56 35.796875 56 \r\nQ 45.21875 56 50.046875 50.171875 \r\nQ 54.890625 44.34375 54.890625 33.015625 \r\nz\r\n\" id=\"DejaVuSans-104\"/>\r\n     <path d=\"M 34.1875 63.1875 \r\nL 20.796875 26.90625 \r\nL 47.609375 26.90625 \r\nz\r\nM 28.609375 72.90625 \r\nL 39.796875 72.90625 \r\nL 67.578125 0 \r\nL 57.328125 0 \r\nL 50.6875 18.703125 \r\nL 17.828125 18.703125 \r\nL 11.1875 0 \r\nL 0.78125 0 \r\nz\r\n\" id=\"DejaVuSans-65\"/>\r\n     <path d=\"M 3.328125 72.90625 \r\nL 13.28125 72.90625 \r\nL 28.609375 11.28125 \r\nL 43.890625 72.90625 \r\nL 54.984375 72.90625 \r\nL 70.3125 11.28125 \r\nL 85.59375 72.90625 \r\nL 95.609375 72.90625 \r\nL 77.296875 0 \r\nL 64.890625 0 \r\nL 49.515625 63.28125 \r\nL 33.984375 0 \r\nL 21.578125 0 \r\nz\r\n\" id=\"DejaVuSans-87\"/>\r\n     <path d=\"M 59.515625 10.40625 \r\nL 59.515625 29.984375 \r\nL 43.40625 29.984375 \r\nL 43.40625 38.09375 \r\nL 69.28125 38.09375 \r\nL 69.28125 6.78125 \r\nQ 63.578125 2.734375 56.6875 0.65625 \r\nQ 49.8125 -1.421875 42 -1.421875 \r\nQ 24.90625 -1.421875 15.25 8.5625 \r\nQ 5.609375 18.5625 5.609375 36.375 \r\nQ 5.609375 54.25 15.25 64.234375 \r\nQ 24.90625 74.21875 42 74.21875 \r\nQ 49.125 74.21875 55.546875 72.453125 \r\nQ 61.96875 70.703125 67.390625 67.28125 \r\nL 67.390625 56.78125 \r\nQ 61.921875 61.421875 55.765625 63.765625 \r\nQ 49.609375 66.109375 42.828125 66.109375 \r\nQ 29.4375 66.109375 22.71875 58.640625 \r\nQ 16.015625 51.171875 16.015625 36.375 \r\nQ 16.015625 21.625 22.71875 14.15625 \r\nQ 29.4375 6.6875 42.828125 6.6875 \r\nQ 48.046875 6.6875 52.140625 7.59375 \r\nQ 56.25 8.5 59.515625 10.40625 \r\nz\r\n\" id=\"DejaVuSans-71\"/>\r\n    </defs>\r\n    <use xlink:href=\"#DejaVuSans-67\"/>\r\n    <use x=\"69.824219\" xlink:href=\"#DejaVuSans-121\"/>\r\n    <use x=\"129.003906\" xlink:href=\"#DejaVuSans-99\"/>\r\n    <use x=\"183.984375\" xlink:href=\"#DejaVuSans-108\"/>\r\n    <use x=\"211.767578\" xlink:href=\"#DejaVuSans-101\"/>\r\n    <use x=\"273.291016\" xlink:href=\"#DejaVuSans-115\"/>\r\n    <use x=\"325.390625\" xlink:href=\"#DejaVuSans-32\"/>\r\n    <use x=\"357.177734\" xlink:href=\"#DejaVuSans-108\"/>\r\n    <use x=\"384.960938\" xlink:href=\"#DejaVuSans-111\"/>\r\n    <use x=\"446.142578\" xlink:href=\"#DejaVuSans-97\"/>\r\n    <use x=\"507.421875\" xlink:href=\"#DejaVuSans-100\"/>\r\n    <use x=\"570.898438\" xlink:href=\"#DejaVuSans-101\"/>\r\n    <use x=\"632.421875\" xlink:href=\"#DejaVuSans-100\"/>\r\n    <use x=\"695.898438\" xlink:href=\"#DejaVuSans-32\"/>\r\n    <use x=\"727.685547\" xlink:href=\"#DejaVuSans-105\"/>\r\n    <use x=\"755.46875\" xlink:href=\"#DejaVuSans-110\"/>\r\n    <use x=\"818.847656\" xlink:href=\"#DejaVuSans-116\"/>\r\n    <use x=\"858.056641\" xlink:href=\"#DejaVuSans-111\"/>\r\n    <use x=\"919.238281\" xlink:href=\"#DejaVuSans-32\"/>\r\n    <use x=\"951.025391\" xlink:href=\"#DejaVuSans-116\"/>\r\n    <use x=\"990.234375\" xlink:href=\"#DejaVuSans-104\"/>\r\n    <use x=\"1053.613281\" xlink:href=\"#DejaVuSans-101\"/>\r\n    <use x=\"1115.136719\" xlink:href=\"#DejaVuSans-32\"/>\r\n    <use x=\"1146.923828\" xlink:href=\"#DejaVuSans-65\"/>\r\n    <use x=\"1209.832031\" xlink:href=\"#DejaVuSans-87\"/>\r\n    <use x=\"1308.708984\" xlink:href=\"#DejaVuSans-71\"/>\r\n   </g>\r\n  </g>\r\n  <g id=\"legend_1\">\r\n   <g id=\"patch_12\">\r\n    <path d=\"M 460.123438 39.55625 \r\nL 529.49375 39.55625 \r\nQ 531.49375 39.55625 531.49375 37.55625 \r\nL 531.49375 9.2 \r\nQ 531.49375 7.2 529.49375 7.2 \r\nL 460.123438 7.2 \r\nQ 458.123438 7.2 458.123438 9.2 \r\nL 458.123438 37.55625 \r\nQ 458.123438 39.55625 460.123438 39.55625 \r\nz\r\n\" style=\"fill:#ffffff;opacity:0.8;stroke:#cccccc;stroke-linejoin:miter;\"/>\r\n   </g>\r\n   <g id=\"line2d_39\">\r\n    <path d=\"M 462.123438 15.298437 \r\nL 482.123438 15.298437 \r\n\" style=\"fill:none;stroke:#0000ff;stroke-linecap:square;stroke-width:1.5;\"/>\r\n   </g>\r\n   <g id=\"line2d_40\"/>\r\n   <g id=\"text_24\">\r\n    <!-- Cycle A -->\r\n    <g transform=\"translate(490.123438 18.798437)scale(0.1 -0.1)\">\r\n     <use xlink:href=\"#DejaVuSans-67\"/>\r\n     <use x=\"69.824219\" xlink:href=\"#DejaVuSans-121\"/>\r\n     <use x=\"129.003906\" xlink:href=\"#DejaVuSans-99\"/>\r\n     <use x=\"183.984375\" xlink:href=\"#DejaVuSans-108\"/>\r\n     <use x=\"211.767578\" xlink:href=\"#DejaVuSans-101\"/>\r\n     <use x=\"273.291016\" xlink:href=\"#DejaVuSans-32\"/>\r\n     <use x=\"305.078125\" xlink:href=\"#DejaVuSans-65\"/>\r\n    </g>\r\n   </g>\r\n   <g id=\"line2d_41\">\r\n    <path d=\"M 462.123438 29.976562 \r\nL 482.123438 29.976562 \r\n\" style=\"fill:none;stroke:#ff0000;stroke-linecap:square;stroke-width:1.5;\"/>\r\n   </g>\r\n   <g id=\"line2d_42\"/>\r\n   <g id=\"text_25\">\r\n    <!-- Cycle B -->\r\n    <g transform=\"translate(490.123438 33.476562)scale(0.1 -0.1)\">\r\n     <defs>\r\n      <path d=\"M 19.671875 34.8125 \r\nL 19.671875 8.109375 \r\nL 35.5 8.109375 \r\nQ 43.453125 8.109375 47.28125 11.40625 \r\nQ 51.125 14.703125 51.125 21.484375 \r\nQ 51.125 28.328125 47.28125 31.5625 \r\nQ 43.453125 34.8125 35.5 34.8125 \r\nz\r\nM 19.671875 64.796875 \r\nL 19.671875 42.828125 \r\nL 34.28125 42.828125 \r\nQ 41.5 42.828125 45.03125 45.53125 \r\nQ 48.578125 48.25 48.578125 53.8125 \r\nQ 48.578125 59.328125 45.03125 62.0625 \r\nQ 41.5 64.796875 34.28125 64.796875 \r\nz\r\nM 9.8125 72.90625 \r\nL 35.015625 72.90625 \r\nQ 46.296875 72.90625 52.390625 68.21875 \r\nQ 58.5 63.53125 58.5 54.890625 \r\nQ 58.5 48.1875 55.375 44.234375 \r\nQ 52.25 40.28125 46.1875 39.3125 \r\nQ 53.46875 37.75 57.5 32.78125 \r\nQ 61.53125 27.828125 61.53125 20.40625 \r\nQ 61.53125 10.640625 54.890625 5.3125 \r\nQ 48.25 0 35.984375 0 \r\nL 9.8125 0 \r\nz\r\n\" id=\"DejaVuSans-66\"/>\r\n     </defs>\r\n     <use xlink:href=\"#DejaVuSans-67\"/>\r\n     <use x=\"69.824219\" xlink:href=\"#DejaVuSans-121\"/>\r\n     <use x=\"129.003906\" xlink:href=\"#DejaVuSans-99\"/>\r\n     <use x=\"183.984375\" xlink:href=\"#DejaVuSans-108\"/>\r\n     <use x=\"211.767578\" xlink:href=\"#DejaVuSans-101\"/>\r\n     <use x=\"273.291016\" xlink:href=\"#DejaVuSans-32\"/>\r\n     <use x=\"305.078125\" xlink:href=\"#DejaVuSans-66\"/>\r\n    </g>\r\n   </g>\r\n  </g>\r\n </g>\r\n <defs>\r\n  <clipPath id=\"pb706ac901c\">\r\n   <rect height=\"98.836364\" width=\"334.8\" x=\"58.523438\" y=\"41.76\"/>\r\n  </clipPath>\r\n  <clipPath id=\"pac3f751158\">\r\n   <rect height=\"98.836364\" width=\"334.8\" x=\"58.523438\" y=\"160.363636\"/>\r\n  </clipPath>\r\n </defs>\r\n</svg>\r\n",
                        "text/plain": [
                            "<Figure size 432x288 with 2 Axes>"
                        ]
                    },
                    "metadata": {
                        "needs_background": "light"
                    }
                }
            ],
            "metadata": {}
        },
        {
            "cell_type": "markdown",
            "source": [
                "# Dummy File Loading"
            ],
            "metadata": {}
        },
        {
            "cell_type": "code",
            "execution_count": 15,
            "source": [
                "sam"
            ],
            "outputs": [
                {
                    "output_type": "execute_result",
                    "data": {
                        "text/plain": [
                            "30000000"
                        ]
                    },
                    "metadata": {},
                    "execution_count": 15
                }
            ],
            "metadata": {}
        },
        {
            "cell_type": "code",
            "execution_count": 50,
            "source": [
                "M8190A.write('FREQ:RAST 7500000000')"
            ],
            "outputs": [
                {
                    "output_type": "execute_result",
                    "data": {
                        "text/plain": [
                            "21"
                        ]
                    },
                    "metadata": {},
                    "execution_count": 50
                }
            ],
            "metadata": {}
        },
        {
            "cell_type": "code",
            "execution_count": 52,
            "source": [
                "Dummy_File(M8190A)"
            ],
            "outputs": [
                {
                    "output_type": "stream",
                    "name": "stdout",
                    "text": [
                        "Dummy File Loaded and playing\n",
                        "Dummy File stopped and erased from AWGs memmory\n"
                    ]
                }
            ],
            "metadata": {}
        },
        {
            "cell_type": "code",
            "execution_count": 53,
            "source": [
                "M8190A.write('TRAC:DEL:ALL')\r\n",
                "M8190A.write('SEQ:DEL:ALL')"
            ],
            "outputs": [
                {
                    "output_type": "execute_result",
                    "data": {
                        "text/plain": [
                            "12"
                        ]
                    },
                    "metadata": {},
                    "execution_count": 53
                }
            ],
            "metadata": {}
        },
        {
            "cell_type": "code",
            "execution_count": 104,
            "source": [
                "M8190A.write('SEQ:DEL:ALL')"
            ],
            "outputs": [
                {
                    "output_type": "execute_result",
                    "data": {
                        "text/plain": [
                            "12"
                        ]
                    },
                    "metadata": {},
                    "execution_count": 104
                }
            ],
            "metadata": {}
        },
        {
            "cell_type": "markdown",
            "source": [
                "## Exporting Pickle"
            ],
            "metadata": {}
        },
        {
            "cell_type": "code",
            "execution_count": null,
            "source": [
                "#Exporting pickle\r\n",
                "\r\n",
                "with open(r\"{dict}\\cycleA_31steps_5ms_1nano_6GHz.p\".format(dict = PulseScheme_A_1nano['Measurement file Path']), \"wb\") as k:\r\n",
                "    pickle.dump(sweeping_run_a_1nano, k)\r\n",
                "\r\n",
                "\r\n",
                "with open(r\"{dict}\\cycleB_31steps_5ms_1nano_6GHz.p\".format(dict = PulseScheme_A_1nano['Measurement file Path']), \"wb\") as h:\r\n",
                "    pickle.dump(sweeping_run_b_1nano, h)"
            ],
            "outputs": [],
            "metadata": {}
        },
        {
            "cell_type": "markdown",
            "source": [
                "\r\n",
                "## Importing Pickle"
            ],
            "metadata": {}
        },
        {
            "cell_type": "code",
            "execution_count": 12,
            "source": [
                "#Importing Pickle\r\n",
                "\r\n",
                "with open(r\"{dict}\\cycleA_31steps_5ms_100nano_6GHz.p\".format(dict = PulseScheme_A_100nano['Measurement file Path']), \"rb\") as j:\r\n",
                "    sweeping_runa_100nano = pickle.load(j)\r\n",
                "\r\n",
                "with open(r\"{dict}\\cycleB_31steps_5ms_100nano_6GHz.p\".format(dict = PulseScheme_A_100nano['Measurement file Path']), \"rb\") as f:\r\n",
                "    sweeping_runb_100nano = pickle.load(f)"
            ],
            "outputs": [],
            "metadata": {}
        },
        {
            "cell_type": "code",
            "execution_count": 11,
            "source": [
                "sweeping_runa_10nano"
            ],
            "outputs": [
                {
                    "output_type": "execute_result",
                    "data": {
                        "text/plain": [
                            "{'Pulse File Location, at step 0': 'D:\\\\Alejandro\\\\Pulses\\\\diode measurements\\\\Prepared Pulse Schemes CSV\\\\10nano\\\\SegmentA_30000000_0.csv',\n",
                            " 'Pulse File Location, at step 1': 'D:\\\\Alejandro\\\\Pulses\\\\diode measurements\\\\Prepared Pulse Schemes CSV\\\\10nano\\\\SegmentA_30000000_1.csv',\n",
                            " 'Pulse File Location, at step 2': 'D:\\\\Alejandro\\\\Pulses\\\\diode measurements\\\\Prepared Pulse Schemes CSV\\\\10nano\\\\SegmentA_30000000_2.csv',\n",
                            " 'Pulse File Location, at step 3': 'D:\\\\Alejandro\\\\Pulses\\\\diode measurements\\\\Prepared Pulse Schemes CSV\\\\10nano\\\\SegmentA_30000000_3.csv',\n",
                            " 'Pulse File Location, at step 4': 'D:\\\\Alejandro\\\\Pulses\\\\diode measurements\\\\Prepared Pulse Schemes CSV\\\\10nano\\\\SegmentA_30000000_4.csv',\n",
                            " 'Pulse File Location, at step 5': 'D:\\\\Alejandro\\\\Pulses\\\\diode measurements\\\\Prepared Pulse Schemes CSV\\\\10nano\\\\SegmentA_30000000_5.csv',\n",
                            " 'Pulse File Location, at step 6': 'D:\\\\Alejandro\\\\Pulses\\\\diode measurements\\\\Prepared Pulse Schemes CSV\\\\10nano\\\\SegmentA_30000000_6.csv',\n",
                            " 'Pulse File Location, at step 7': 'D:\\\\Alejandro\\\\Pulses\\\\diode measurements\\\\Prepared Pulse Schemes CSV\\\\10nano\\\\SegmentA_30000000_7.csv',\n",
                            " 'Pulse File Location, at step 8': 'D:\\\\Alejandro\\\\Pulses\\\\diode measurements\\\\Prepared Pulse Schemes CSV\\\\10nano\\\\SegmentA_30000000_8.csv',\n",
                            " 'Pulse File Location, at step 9': 'D:\\\\Alejandro\\\\Pulses\\\\diode measurements\\\\Prepared Pulse Schemes CSV\\\\10nano\\\\SegmentA_30000000_9.csv',\n",
                            " 'Pulse File Location, at step 10': 'D:\\\\Alejandro\\\\Pulses\\\\diode measurements\\\\Prepared Pulse Schemes CSV\\\\10nano\\\\SegmentA_30000000_10.csv',\n",
                            " 'Pulse File Location, at step 11': 'D:\\\\Alejandro\\\\Pulses\\\\diode measurements\\\\Prepared Pulse Schemes CSV\\\\10nano\\\\SegmentA_30000000_11.csv',\n",
                            " 'Pulse File Location, at step 12': 'D:\\\\Alejandro\\\\Pulses\\\\diode measurements\\\\Prepared Pulse Schemes CSV\\\\10nano\\\\SegmentA_30000000_12.csv',\n",
                            " 'Pulse File Location, at step 13': 'D:\\\\Alejandro\\\\Pulses\\\\diode measurements\\\\Prepared Pulse Schemes CSV\\\\10nano\\\\SegmentA_30000000_13.csv',\n",
                            " 'Pulse File Location, at step 14': 'D:\\\\Alejandro\\\\Pulses\\\\diode measurements\\\\Prepared Pulse Schemes CSV\\\\10nano\\\\SegmentA_30000000_14.csv',\n",
                            " 'Pulse File Location, at step 15': 'D:\\\\Alejandro\\\\Pulses\\\\diode measurements\\\\Prepared Pulse Schemes CSV\\\\10nano\\\\SegmentA_30000000_15.csv',\n",
                            " 'Pulse File Location, at step 16': 'D:\\\\Alejandro\\\\Pulses\\\\diode measurements\\\\Prepared Pulse Schemes CSV\\\\10nano\\\\SegmentA_30000000_16.csv',\n",
                            " 'Pulse File Location, at step 17': 'D:\\\\Alejandro\\\\Pulses\\\\diode measurements\\\\Prepared Pulse Schemes CSV\\\\10nano\\\\SegmentA_30000000_17.csv',\n",
                            " 'Pulse File Location, at step 18': 'D:\\\\Alejandro\\\\Pulses\\\\diode measurements\\\\Prepared Pulse Schemes CSV\\\\10nano\\\\SegmentA_30000000_18.csv',\n",
                            " 'Pulse File Location, at step 19': 'D:\\\\Alejandro\\\\Pulses\\\\diode measurements\\\\Prepared Pulse Schemes CSV\\\\10nano\\\\SegmentA_30000000_19.csv',\n",
                            " 'Pulse File Location, at step 20': 'D:\\\\Alejandro\\\\Pulses\\\\diode measurements\\\\Prepared Pulse Schemes CSV\\\\10nano\\\\SegmentA_30000000_20.csv',\n",
                            " 'Pulse File Location, at step 21': 'D:\\\\Alejandro\\\\Pulses\\\\diode measurements\\\\Prepared Pulse Schemes CSV\\\\10nano\\\\SegmentA_30000000_21.csv',\n",
                            " 'Pulse File Location, at step 22': 'D:\\\\Alejandro\\\\Pulses\\\\diode measurements\\\\Prepared Pulse Schemes CSV\\\\10nano\\\\SegmentA_30000000_22.csv',\n",
                            " 'Pulse File Location, at step 23': 'D:\\\\Alejandro\\\\Pulses\\\\diode measurements\\\\Prepared Pulse Schemes CSV\\\\10nano\\\\SegmentA_30000000_23.csv',\n",
                            " 'Pulse File Location, at step 24': 'D:\\\\Alejandro\\\\Pulses\\\\diode measurements\\\\Prepared Pulse Schemes CSV\\\\10nano\\\\SegmentA_30000000_24.csv',\n",
                            " 'Pulse File Location, at step 25': 'D:\\\\Alejandro\\\\Pulses\\\\diode measurements\\\\Prepared Pulse Schemes CSV\\\\10nano\\\\SegmentA_30000000_25.csv',\n",
                            " 'Pulse File Location, at step 26': 'D:\\\\Alejandro\\\\Pulses\\\\diode measurements\\\\Prepared Pulse Schemes CSV\\\\10nano\\\\SegmentA_30000000_26.csv',\n",
                            " 'Pulse File Location, at step 27': 'D:\\\\Alejandro\\\\Pulses\\\\diode measurements\\\\Prepared Pulse Schemes CSV\\\\10nano\\\\SegmentA_30000000_27.csv',\n",
                            " 'Pulse File Location, at step 28': 'D:\\\\Alejandro\\\\Pulses\\\\diode measurements\\\\Prepared Pulse Schemes CSV\\\\10nano\\\\SegmentA_30000000_28.csv',\n",
                            " 'Pulse File Location, at step 29': 'D:\\\\Alejandro\\\\Pulses\\\\diode measurements\\\\Prepared Pulse Schemes CSV\\\\10nano\\\\SegmentA_30000000_29.csv',\n",
                            " 'Pulse File Location, at step 30': 'D:\\\\Alejandro\\\\Pulses\\\\diode measurements\\\\Prepared Pulse Schemes CSV\\\\10nano\\\\SegmentA_30000000_30.csv'}"
                        ]
                    },
                    "metadata": {},
                    "execution_count": 11
                }
            ],
            "metadata": {}
        },
        {
            "cell_type": "code",
            "execution_count": 10,
            "source": [
                "sweeping_runb_10nano"
            ],
            "outputs": [
                {
                    "output_type": "execute_result",
                    "data": {
                        "text/plain": [
                            "{'Pulse File Location, at step 0': 'D:\\\\Alejandro\\\\Pulses\\\\diode measurements\\\\Prepared Pulse Schemes CSV\\\\10nano\\\\SegmentB_30000000_0.csv',\n",
                            " 'Pulse File Location, at step 1': 'D:\\\\Alejandro\\\\Pulses\\\\diode measurements\\\\Prepared Pulse Schemes CSV\\\\10nano\\\\SegmentB_30000000_1.csv',\n",
                            " 'Pulse File Location, at step 2': 'D:\\\\Alejandro\\\\Pulses\\\\diode measurements\\\\Prepared Pulse Schemes CSV\\\\10nano\\\\SegmentB_30000000_2.csv',\n",
                            " 'Pulse File Location, at step 3': 'D:\\\\Alejandro\\\\Pulses\\\\diode measurements\\\\Prepared Pulse Schemes CSV\\\\10nano\\\\SegmentB_30000000_3.csv',\n",
                            " 'Pulse File Location, at step 4': 'D:\\\\Alejandro\\\\Pulses\\\\diode measurements\\\\Prepared Pulse Schemes CSV\\\\10nano\\\\SegmentB_30000000_4.csv',\n",
                            " 'Pulse File Location, at step 5': 'D:\\\\Alejandro\\\\Pulses\\\\diode measurements\\\\Prepared Pulse Schemes CSV\\\\10nano\\\\SegmentB_30000000_5.csv',\n",
                            " 'Pulse File Location, at step 6': 'D:\\\\Alejandro\\\\Pulses\\\\diode measurements\\\\Prepared Pulse Schemes CSV\\\\10nano\\\\SegmentB_30000000_6.csv',\n",
                            " 'Pulse File Location, at step 7': 'D:\\\\Alejandro\\\\Pulses\\\\diode measurements\\\\Prepared Pulse Schemes CSV\\\\10nano\\\\SegmentB_30000000_7.csv',\n",
                            " 'Pulse File Location, at step 8': 'D:\\\\Alejandro\\\\Pulses\\\\diode measurements\\\\Prepared Pulse Schemes CSV\\\\10nano\\\\SegmentB_30000000_8.csv',\n",
                            " 'Pulse File Location, at step 9': 'D:\\\\Alejandro\\\\Pulses\\\\diode measurements\\\\Prepared Pulse Schemes CSV\\\\10nano\\\\SegmentB_30000000_9.csv',\n",
                            " 'Pulse File Location, at step 10': 'D:\\\\Alejandro\\\\Pulses\\\\diode measurements\\\\Prepared Pulse Schemes CSV\\\\10nano\\\\SegmentB_30000000_10.csv',\n",
                            " 'Pulse File Location, at step 11': 'D:\\\\Alejandro\\\\Pulses\\\\diode measurements\\\\Prepared Pulse Schemes CSV\\\\10nano\\\\SegmentB_30000000_11.csv',\n",
                            " 'Pulse File Location, at step 12': 'D:\\\\Alejandro\\\\Pulses\\\\diode measurements\\\\Prepared Pulse Schemes CSV\\\\10nano\\\\SegmentB_30000000_12.csv',\n",
                            " 'Pulse File Location, at step 13': 'D:\\\\Alejandro\\\\Pulses\\\\diode measurements\\\\Prepared Pulse Schemes CSV\\\\10nano\\\\SegmentB_30000000_13.csv',\n",
                            " 'Pulse File Location, at step 14': 'D:\\\\Alejandro\\\\Pulses\\\\diode measurements\\\\Prepared Pulse Schemes CSV\\\\10nano\\\\SegmentB_30000000_14.csv',\n",
                            " 'Pulse File Location, at step 15': 'D:\\\\Alejandro\\\\Pulses\\\\diode measurements\\\\Prepared Pulse Schemes CSV\\\\10nano\\\\SegmentB_30000000_15.csv',\n",
                            " 'Pulse File Location, at step 16': 'D:\\\\Alejandro\\\\Pulses\\\\diode measurements\\\\Prepared Pulse Schemes CSV\\\\10nano\\\\SegmentB_30000000_16.csv',\n",
                            " 'Pulse File Location, at step 17': 'D:\\\\Alejandro\\\\Pulses\\\\diode measurements\\\\Prepared Pulse Schemes CSV\\\\10nano\\\\SegmentB_30000000_17.csv',\n",
                            " 'Pulse File Location, at step 18': 'D:\\\\Alejandro\\\\Pulses\\\\diode measurements\\\\Prepared Pulse Schemes CSV\\\\10nano\\\\SegmentB_30000000_18.csv',\n",
                            " 'Pulse File Location, at step 19': 'D:\\\\Alejandro\\\\Pulses\\\\diode measurements\\\\Prepared Pulse Schemes CSV\\\\10nano\\\\SegmentB_30000000_19.csv',\n",
                            " 'Pulse File Location, at step 20': 'D:\\\\Alejandro\\\\Pulses\\\\diode measurements\\\\Prepared Pulse Schemes CSV\\\\10nano\\\\SegmentB_30000000_20.csv',\n",
                            " 'Pulse File Location, at step 21': 'D:\\\\Alejandro\\\\Pulses\\\\diode measurements\\\\Prepared Pulse Schemes CSV\\\\10nano\\\\SegmentB_30000000_21.csv',\n",
                            " 'Pulse File Location, at step 22': 'D:\\\\Alejandro\\\\Pulses\\\\diode measurements\\\\Prepared Pulse Schemes CSV\\\\10nano\\\\SegmentB_30000000_22.csv',\n",
                            " 'Pulse File Location, at step 23': 'D:\\\\Alejandro\\\\Pulses\\\\diode measurements\\\\Prepared Pulse Schemes CSV\\\\10nano\\\\SegmentB_30000000_23.csv',\n",
                            " 'Pulse File Location, at step 24': 'D:\\\\Alejandro\\\\Pulses\\\\diode measurements\\\\Prepared Pulse Schemes CSV\\\\10nano\\\\SegmentB_30000000_24.csv',\n",
                            " 'Pulse File Location, at step 25': 'D:\\\\Alejandro\\\\Pulses\\\\diode measurements\\\\Prepared Pulse Schemes CSV\\\\10nano\\\\SegmentB_30000000_25.csv',\n",
                            " 'Pulse File Location, at step 26': 'D:\\\\Alejandro\\\\Pulses\\\\diode measurements\\\\Prepared Pulse Schemes CSV\\\\10nano\\\\SegmentB_30000000_26.csv',\n",
                            " 'Pulse File Location, at step 27': 'D:\\\\Alejandro\\\\Pulses\\\\diode measurements\\\\Prepared Pulse Schemes CSV\\\\10nano\\\\SegmentB_30000000_27.csv',\n",
                            " 'Pulse File Location, at step 28': 'D:\\\\Alejandro\\\\Pulses\\\\diode measurements\\\\Prepared Pulse Schemes CSV\\\\10nano\\\\SegmentB_30000000_28.csv',\n",
                            " 'Pulse File Location, at step 29': 'D:\\\\Alejandro\\\\Pulses\\\\diode measurements\\\\Prepared Pulse Schemes CSV\\\\10nano\\\\SegmentB_30000000_29.csv',\n",
                            " 'Pulse File Location, at step 30': 'D:\\\\Alejandro\\\\Pulses\\\\diode measurements\\\\Prepared Pulse Schemes CSV\\\\10nano\\\\SegmentB_30000000_30.csv'}"
                        ]
                    },
                    "metadata": {},
                    "execution_count": 10
                }
            ],
            "metadata": {}
        },
        {
            "cell_type": "code",
            "execution_count": 105,
            "source": [
                "PulseScheme_A_1nano"
            ],
            "outputs": [
                {
                    "output_type": "execute_result",
                    "data": {
                        "text/plain": [
                            "{'Name': 'PulseScheme_A_1nano',\n",
                            " 'Pulse Scheme': [{'Name': 'Pump_1nano',\n",
                            "   'Amplitude': 35,\n",
                            "   'Start time': 2,\n",
                            "   'End time': 2e-10,\n",
                            "   'Start Duration': 1,\n",
                            "   'End Duration': 60,\n",
                            "   'Sweep time': 0,\n",
                            "   'Sweep Duration': 0},\n",
                            "  {'Name': 'ProbeA_1nano',\n",
                            "   'Amplitude': 20,\n",
                            "   'Start time': 0,\n",
                            "   'End time': 4,\n",
                            "   'Start Duration': 1,\n",
                            "   'End Duration': 60,\n",
                            "   'Sweep time': 1,\n",
                            "   'Sweep Duration': 0}],\n",
                            " 'Number of repetitions': 80000,\n",
                            " 'Measurement file Path': 'D:\\\\Alejandro\\\\Pulses\\\\diode measurements\\\\Autocorrelation measurements\\\\1nano'}"
                        ]
                    },
                    "metadata": {},
                    "execution_count": 105
                }
            ],
            "metadata": {}
        },
        {
            "cell_type": "code",
            "execution_count": 106,
            "source": [
                "M8190A.write('SEQ:DEL:ALL')"
            ],
            "outputs": [
                {
                    "output_type": "execute_result",
                    "data": {
                        "text/plain": [
                            "12"
                        ]
                    },
                    "metadata": {},
                    "execution_count": 106
                }
            ],
            "metadata": {}
        },
        {
            "cell_type": "code",
            "execution_count": 107,
            "source": [
                "Lock_In_Settings = {\r\n",
                "'Time Constant' : '100ms',\r\n",
                "'Sensitivity' : '500 microVolts',\r\n",
                "'Reserve' : 'Normal',\r\n",
                "'db' : 24,\r\n",
                "'Modulation': '100Hz'\r\n",
                "}"
            ],
            "outputs": [],
            "metadata": {}
        },
        {
            "cell_type": "code",
            "execution_count": 54,
            "source": [
                "playing_time = 10 #in seconds\r\n",
                "\r\n",
                "Diode_Signal, averaged_data = Measurement_Autocorrelation_voltage(M8190A,DAQ_Settings1,1000, playing_time ,sweeping_runa_1nano,sweeping_runb_1nano,PulseScheme_A_1nano['Measurement file Path'],Lock_In_Settings)"
            ],
            "outputs": [
                {
                    "output_type": "error",
                    "ename": "NameError",
                    "evalue": "name 'sweeping_runa_1nano' is not defined",
                    "traceback": [
                        "\u001b[1;31m---------------------------------------------------------------------------\u001b[0m",
                        "\u001b[1;31mNameError\u001b[0m                                 Traceback (most recent call last)",
                        "\u001b[1;32m<ipython-input-54-ff87c410f162>\u001b[0m in \u001b[0;36m<module>\u001b[1;34m\u001b[0m\n\u001b[0;32m      1\u001b[0m \u001b[0mplaying_time\u001b[0m \u001b[1;33m=\u001b[0m \u001b[1;36m10\u001b[0m \u001b[1;31m#in seconds\u001b[0m\u001b[1;33m\u001b[0m\u001b[1;33m\u001b[0m\u001b[0m\n\u001b[0;32m      2\u001b[0m \u001b[1;33m\u001b[0m\u001b[0m\n\u001b[1;32m----> 3\u001b[1;33m \u001b[0mDiode_Signal\u001b[0m\u001b[1;33m,\u001b[0m \u001b[0maveraged_data\u001b[0m \u001b[1;33m=\u001b[0m \u001b[0mMeasurement_Autocorrelation_voltage\u001b[0m\u001b[1;33m(\u001b[0m\u001b[0mM8190A\u001b[0m\u001b[1;33m,\u001b[0m\u001b[0mDAQ_Settings1\u001b[0m\u001b[1;33m,\u001b[0m\u001b[1;36m1000\u001b[0m\u001b[1;33m,\u001b[0m \u001b[0mplaying_time\u001b[0m \u001b[1;33m,\u001b[0m\u001b[0msweeping_runa_1nano\u001b[0m\u001b[1;33m,\u001b[0m\u001b[0msweeping_runb_1nano\u001b[0m\u001b[1;33m,\u001b[0m\u001b[0mPulseScheme_A_1nano\u001b[0m\u001b[1;33m[\u001b[0m\u001b[1;34m'Measurement file Path'\u001b[0m\u001b[1;33m]\u001b[0m\u001b[1;33m,\u001b[0m\u001b[0mLock_In_Settings\u001b[0m\u001b[1;33m)\u001b[0m\u001b[1;33m\u001b[0m\u001b[1;33m\u001b[0m\u001b[0m\n\u001b[0m",
                        "\u001b[1;31mNameError\u001b[0m: name 'sweeping_runa_1nano' is not defined"
                    ]
                }
            ],
            "metadata": {}
        },
        {
            "cell_type": "code",
            "execution_count": 109,
            "source": [
                "fig,ax= plt.subplots()\r\n",
                "ax.grid(True)\r\n",
                "for i in range(0,len(Diode_Signal)):\r\n",
                "    plt.plot(Diode_Signal[i][1],Diode_Signal[i][0],label= 'Step {st}'.format(st = i ))\r\n",
                "\r\n",
                "ax.set_ylabel(r'V  [V]')\r\n",
                "ax.set_xlabel('t  [s]')\r\n",
                "ax.set_title(r' Diode Signal at Different Steps,  {b} Samples, 1 nano s probe duration'.format(b = len(Diode_Signal[0][1]) ))\r\n",
                "#ax.legend(bbox_to_anchor=(1.05, 1), loc='upper left', borderaxespad=0.)\r\n",
                "#ax.legend(loc=0)\r\n",
                "plt.show()\r\n",
                "fig.savefig(r'{loc}\\Diode Signal time cstant = {a}, sensitivity {b},{c} daqseconds, 5ms scheme, probe duration 1 nano,31 steps, no legend,6Ghz .jpeg'.format(loc = PulseScheme_A_1nano['Measurement file Path'],a = Lock_In_Settings['Time Constant'], b = Lock_In_Settings['Sensitivity'], c = playing_time),bbox_inches='tight')"
            ],
            "outputs": [
                {
                    "output_type": "display_data",
                    "data": {
                        "image/png": "[encoded data removed]",
                        "text/plain": [
                            "<Figure size 432x288 with 1 Axes>"
                        ]
                    },
                    "metadata": {
                        "needs_background": "light"
                    }
                }
            ],
            "metadata": {}
        },
        {
            "cell_type": "code",
            "execution_count": 110,
            "source": [
                "time_delay = np.linspace(-2,2,31)"
            ],
            "outputs": [],
            "metadata": {}
        },
        {
            "cell_type": "code",
            "execution_count": 111,
            "source": [
                "#change this to V regime\r\n",
                "fig,axes = plt.subplots()\r\n",
                "\r\n",
                "axes.grid(True)\r\n",
                "\r\n",
                "plt.plot(time_delay,averaged_data,label=r'1ns Probe Width ',color='orange')\r\n",
                "#plt.plot(tm,pul,label = '{a} samples'.format(a = len(pul)))\r\n",
                "\r\n",
                "axes.set_xlabel(r'time delay [ns]')\r\n",
                "axes.set_ylabel(r'Diode Signal [V]')\r\n",
                "axes.set_title('Auto-Correlation 31 steps ')\r\n",
                "\r\n",
                "axes.legend(loc = 0)\r\n",
                "plt.show()\r\n",
                "\r\n",
                "fig.savefig(r'{loc}\\Autocorrelation function 31 steps probes 5ms length tc = {a}, sens {b}, {c}s DAQ 6Ghz.jpeg'.format(loc = PulseScheme_A_1nano['Measurement file Path'],a = Lock_In_Settings['Time Constant'], b = Lock_In_Settings['Sensitivity'], c = playing_time ))"
            ],
            "outputs": [
                {
                    "output_type": "display_data",
                    "data": {
                        "image/png": "[encoded data removed]",
                        "text/plain": [
                            "<Figure size 432x288 with 1 Axes>"
                        ]
                    },
                    "metadata": {
                        "needs_background": "light"
                    }
                }
            ],
            "metadata": {}
        },
        {
            "cell_type": "markdown",
            "source": [
                "# Aux Settings Amp = 170 mv and offset = 10mV\r\n",
                "# main settings Amp = 700mv and Offset =  30mv ?\r\n",
                "trigged:  mrk ampl = 3.56V, off = -1.56V with;\r\n",
                "off: mrkr ampl = 0, offset = -1.52V\r\n",
                "\r\n"
            ],
            "metadata": {}
        },
        {
            "cell_type": "markdown",
            "source": [
                "# Aux Settings Amp = 40 mv and offset = 0 V\r\n",
                "\r\n",
                "# main settings Amp = 700mv and Offset =  0 V\r\n",
                "trigged:  mrk ampl = 1V, off = -500mV ;\r\n",
                "\r\n",
                "off: mrkr ampl = 0, offset = -500mV\r\n",
                "\r\n"
            ],
            "metadata": {}
        },
        {
            "cell_type": "markdown",
            "source": [],
            "metadata": {}
        }
    ],
    "metadata": {
        "orig_nbformat": 4,
        "language_info": {
            "name": "python",
            "version": "3.8.5",
            "mimetype": "text/x-python",
            "codemirror_mode": {
                "name": "ipython",
                "version": 3
            },
            "pygments_lexer": "ipython3",
            "nbconvert_exporter": "python",
            "file_extension": ".py"
        },
        "kernelspec": {
            "name": "python3",
            "display_name": "Python 3.8.5 64-bit"
        },
        "interpreter": {
            "hash": "9a32f0bf53af15acd232504180dc0ef28b8a6ac1a49da0a6c374e1f45bb445b6"
        }
    },
    "nbformat": 4,
    "nbformat_minor": 2
}