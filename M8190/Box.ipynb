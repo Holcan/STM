{
 "cells": [
  {
   "cell_type": "markdown",
   "source": [
    "# All settings will be given to the channel 1 output, in the Direct out DAC configuration"
   ],
   "metadata": {}
  },
  {
   "cell_type": "code",
   "execution_count": 1,
   "source": [
    "%matplotlib widget "
   ],
   "outputs": [],
   "metadata": {}
  },
  {
   "cell_type": "code",
   "execution_count": 2,
   "source": [
    "import numpy as np\r\n",
    "import pandas as pd\r\n",
    "import time\r\n",
    "import matplotlib\r\n",
    "import matplotlib.pyplot as plt\r\n",
    "import pyvisa as visa\r\n",
    "from matplotlib import animation\r\n",
    "from time import sleep\r\n",
    "from matplotlib.animation import FuncAnimation\r\n",
    "#Importing the functions from the module and the pulses dictionaries\r\n",
    "from Sweeping import *\r\n",
    "from Dictionaries import *\r\n",
    "from PulseFiles import *\r\n",
    "from Instrument import *\r\n",
    "import pyqtgraph as pg \r\n",
    "import nidaqmx"
   ],
   "outputs": [],
   "metadata": {}
  },
  {
   "cell_type": "code",
   "execution_count": 11,
   "source": [],
   "outputs": [],
   "metadata": {}
  },
  {
   "cell_type": "markdown",
   "source": [
    "# Visa interface for the M8190A instrument:"
   ],
   "metadata": {}
  },
  {
   "cell_type": "code",
   "execution_count": 3,
   "source": [
    "M8190A = VisaR(AWG_Settings4,60000)"
   ],
   "outputs": [],
   "metadata": {}
  },
  {
   "cell_type": "code",
   "execution_count": 4,
   "source": [
    "Initialization(M8190A,AWG_Settings4)"
   ],
   "outputs": [
    {
     "output_type": "stream",
     "name": "stdout",
     "text": [
      "Instruments Sampling Frecuency set to 5.00000000000000E+08Hz\n",
      "Instruments Direct Out DAC Output route Voltage set to 7.00000000000000E-01deciVolts\n",
      "AWG set to TRIGGERED Mode\n",
      "Trigger In threshold value set to 1.00000000000000E+00V\n"
     ]
    }
   ],
   "metadata": {}
  },
  {
   "cell_type": "code",
   "execution_count": 5,
   "source": [
    "M8190A.query('*IDN?')"
   ],
   "outputs": [
    {
     "output_type": "execute_result",
     "data": {
      "text/plain": [
       "'Agilent Technologies,M8190A,MY57701776,5.6.0.0-2'"
      ]
     },
     "metadata": {},
     "execution_count": 5
    }
   ],
   "metadata": {}
  },
  {
   "cell_type": "code",
   "execution_count": 26,
   "source": [
    "M8190A.write('*RST')"
   ],
   "outputs": [
    {
     "output_type": "execute_result",
     "data": {
      "text/plain": [
       "5"
      ]
     },
     "metadata": {},
     "execution_count": 26
    }
   ],
   "metadata": {}
  },
  {
   "cell_type": "code",
   "execution_count": 5,
   "source": [
    "M8190A.query('FREQ:RAST?')"
   ],
   "outputs": [
    {
     "output_type": "execute_result",
     "data": {
      "text/plain": [
       "'5.00000000000000E+08'"
      ]
     },
     "metadata": {},
     "execution_count": 5
    }
   ],
   "metadata": {}
  },
  {
   "cell_type": "code",
   "execution_count": 18,
   "source": [
    "M8190A.query(':DAC:VOLT:AMPL?')"
   ],
   "outputs": [
    {
     "output_type": "execute_result",
     "data": {
      "text/plain": [
       "'7.00000000000000E-01'"
      ]
     },
     "metadata": {},
     "execution_count": 18
    }
   ],
   "metadata": {}
  },
  {
   "cell_type": "code",
   "execution_count": 5,
   "source": [
    "M8190A.query('SYST:ERR?')"
   ],
   "outputs": [
    {
     "output_type": "execute_result",
     "data": {
      "text/plain": [
       "'0,\"No error\"'"
      ]
     },
     "metadata": {},
     "execution_count": 5
    }
   ],
   "metadata": {}
  },
  {
   "cell_type": "code",
   "execution_count": 4,
   "source": [
    "print(M8190A)"
   ],
   "outputs": [
    {
     "output_type": "stream",
     "name": "stdout",
     "text": [
      "TCPIPInstrument at TCPIP0::ibn3-036.ibn-net.kfa-juelich.de::hislip0::INSTR\n"
     ]
    }
   ],
   "metadata": {}
  },
  {
   "cell_type": "markdown",
   "source": [
    "# Loading and triggering a single waveform:"
   ],
   "metadata": {}
  },
  {
   "cell_type": "code",
   "execution_count": 6,
   "source": [
    "M8190A.query('ARM:TRIG:LEV?')"
   ],
   "outputs": [
    {
     "output_type": "execute_result",
     "data": {
      "text/plain": [
       "'1.00000000000000E+00'"
      ]
     },
     "metadata": {},
     "execution_count": 6
    }
   ],
   "metadata": {}
  },
  {
   "cell_type": "code",
   "execution_count": 6,
   "source": [
    "M8190A.write('ABOR')"
   ],
   "outputs": [
    {
     "output_type": "execute_result",
     "data": {
      "text/plain": [
       "5"
      ]
     },
     "metadata": {},
     "execution_count": 6
    }
   ],
   "metadata": {}
  },
  {
   "cell_type": "code",
   "execution_count": 8,
   "source": [
    "test_run0 = Sequence_Pulse_List(PList_secondsA,PList_secondsB,10,0,15,7500000,M8190A,AWG_Settings4,1)"
   ],
   "outputs": [
    {
     "output_type": "stream",
     "name": "stdout",
     "text": [
      "Current Segment Catalogue is 1,7500000  [(segment id, Segment size)]\n",
      "Current Segment Catalogue is 1,7500000,2,7500000  [(segment id, Segment size)]\n",
      "Sequence advancement method is COND\n",
      "Sequence loaded with the following segment data \"1,1,0,1,0,7499999,2,1,0,1,0,7499999\"\n"
     ]
    }
   ],
   "metadata": {}
  },
  {
   "cell_type": "code",
   "execution_count": 4,
   "source": [
    "test_run = Triggered_Sequence_Setup(PList_secondsA,PList_secondsB,10,0,15,7500000,M8190A,AWG_Settings4,1)"
   ],
   "outputs": [
    {
     "output_type": "stream",
     "name": "stdout",
     "text": [
      "Current Segment Catalogue is 1,7500000  [(segment id, Segment size)]\n",
      "Current Segment Catalogue is 1,7500000,2,7500000  [(segment id, Segment size)]\n",
      "Sequence advancement method is COND\n",
      "Sequence loaded with the following segment data \"1,1,0,1,0,7499999,2,1,0,1,0,7499999\"\n"
     ]
    }
   ],
   "metadata": {}
  },
  {
   "cell_type": "code",
   "execution_count": 10,
   "source": [
    "test_run[0]['Y1']*AWG_Settings4['Voltage Amplitude']"
   ],
   "outputs": [
    {
     "output_type": "execute_result",
     "data": {
      "text/plain": [
       "0            0.0\n",
       "1          500.0\n",
       "2          500.0\n",
       "3          500.0\n",
       "4          500.0\n",
       "           ...  \n",
       "7499995      0.0\n",
       "7499996      0.0\n",
       "7499997      0.0\n",
       "7499998      0.0\n",
       "7499999      0.0\n",
       "Name: Y1, Length: 7500000, dtype: float64"
      ]
     },
     "metadata": {},
     "execution_count": 10
    }
   ],
   "metadata": {}
  },
  {
   "cell_type": "code",
   "execution_count": 11,
   "source": [
    "test_run[1]['Y1']*AWG_Settings4['Voltage Amplitude']"
   ],
   "outputs": [
    {
     "output_type": "execute_result",
     "data": {
      "text/plain": [
       "0            0.0\n",
       "1          500.0\n",
       "2          500.0\n",
       "3          500.0\n",
       "4          500.0\n",
       "           ...  \n",
       "7499995      0.0\n",
       "7499996      0.0\n",
       "7499997      0.0\n",
       "7499998      0.0\n",
       "7499999      0.0\n",
       "Name: Y1, Length: 7500000, dtype: float64"
      ]
     },
     "metadata": {},
     "execution_count": 11
    }
   ],
   "metadata": {}
  },
  {
   "cell_type": "code",
   "execution_count": 5,
   "source": [
    "fig,ax= plt.subplots(2)\r\n",
    "\r\n",
    "ax[0].grid(True)\r\n",
    "ax[1].grid(True)\r\n",
    "fig.suptitle('Pulses Loaded into the AWG')\r\n",
    "\r\n",
    "\r\n",
    "ax[0].plot(test_run[2],test_run[0]['Y1']*AWG_Settings4['Voltage Amplitude'],label= 'Pulse A',color='blue')\r\n",
    "ax[1].plot(test_run[2],test_run[1]['Y1']*AWG_Settings4['Voltage Amplitude'],label= 'Pulse B',color='red')\r\n",
    "ax[0].set_ylabel('V  [mV]')\r\n",
    "ax[0].set_xlabel('t  [ms]')\r\n",
    "ax[1].set_ylabel('V  [mV]')\r\n",
    "ax[1].set_xlabel('t  [ms]')\r\n",
    "\r\n",
    "#ax.set_title('Pulses Loaded into the AWG')\r\n",
    "\r\n",
    "fig.legend(bbox_to_anchor=(1.05, 1), loc='upper left', borderaxespad=0.)\r\n",
    "plt.show()\r\n",
    "\r\n",
    "#fig.savefig('Pulse_scheme_15ms_7500000',optimize=True,bbox_inches='tight')"
   ],
   "outputs": [
    {
     "output_type": "display_data",
     "data": {
      "text/plain": [
       "Canvas(toolbar=Toolbar(toolitems=[('Home', 'Reset original view', 'home', 'home'), ('Back', 'Back to previous …"
      ],
      "application/vnd.jupyter.widget-view+json": {
       "version_major": 2,
       "version_minor": 0,
       "model_id": "5be8c02b26c94436ac07bbe609c72eac"
      }
     },
     "metadata": {}
    }
   ],
   "metadata": {}
  },
  {
   "cell_type": "code",
   "execution_count": 8,
   "source": [
    "Trigger_Pulse('DAQBNC1','ao1',1.5,4)"
   ],
   "outputs": [
    {
     "output_type": "stream",
     "name": "stdout",
     "text": [
      "Triggering Pulse Stoped\n"
     ]
    }
   ],
   "metadata": {}
  },
  {
   "cell_type": "code",
   "execution_count": 12,
   "source": [
    "25*1e-3"
   ],
   "outputs": [
    {
     "output_type": "execute_result",
     "data": {
      "text/plain": [
       "0.025"
      ]
     },
     "metadata": {},
     "execution_count": 12
    }
   ],
   "metadata": {}
  },
  {
   "cell_type": "code",
   "execution_count": 22,
   "source": [
    "DAQ_Settings1['Sampling Frequency'] * 25 *1e-3"
   ],
   "outputs": [
    {
     "output_type": "execute_result",
     "data": {
      "text/plain": [
       "10000.0"
      ]
     },
     "metadata": {},
     "execution_count": 22
    }
   ],
   "metadata": {}
  },
  {
   "cell_type": "code",
   "execution_count": 6,
   "source": [
    "Trigger_Pulse('DAQBNC1','ao1',1.5,4)"
   ],
   "outputs": [
    {
     "output_type": "stream",
     "name": "stdout",
     "text": [
      "Triggering Pulse Stoped\n"
     ]
    }
   ],
   "metadata": {}
  },
  {
   "cell_type": "code",
   "execution_count": 20,
   "source": [
    "dataM, timeM = DAQ_Measuring0(DAQ_Settings1,1000,10,M8190A)\r\n",
    "\r\n",
    "fig,ax= plt.subplots()\r\n",
    "ax.grid(True)\r\n",
    "\r\n",
    "plt.plot(timeM,dataM*1000,label= '{b} samples'.format(b=len(dataM)),color='orange')\r\n",
    "\r\n",
    "ax.set_ylabel('V  [mV]')\r\n",
    "ax.set_xlabel('t  [s]')\r\n",
    "ax.set_title('Voltage measured with DAQ, Direct out Channel')\r\n",
    "#ax.legend(loc=0)\r\n",
    "\r\n",
    "plt.legend(bbox_to_anchor=(1.05, 1), loc='upper left', borderaxespad=0.)\r\n",
    "plt.show()\r\n",
    "#fig.savefig('DAQ measurement noise0',bbox_inches='tight')"
   ],
   "outputs": [
    {
     "output_type": "stream",
     "name": "stdout",
     "text": [
      "Triggering Pulse Stoped\n"
     ]
    },
    {
     "output_type": "display_data",
     "data": {
      "text/plain": [
       "Canvas(toolbar=Toolbar(toolitems=[('Home', 'Reset original view', 'home', 'home'), ('Back', 'Back to previous …"
      ],
      "application/vnd.jupyter.widget-view+json": {
       "version_major": 2,
       "version_minor": 0,
       "model_id": "f7136b1447d14f5bac37549c23057c95"
      }
     },
     "metadata": {}
    },
    {
     "output_type": "stream",
     "name": "stderr",
     "text": [
      "C:\\Users\\a.hernandez.de.la.ve\\Anaconda3\\lib\\site-packages\\nidaqmx\\task.py:102: ResourceWarning: Task of name \"_unnamedTask<6>\" was not explicitly closed before it was destructed. Resources on the task device may still be reserved.\n",
      "  warnings.warn(\n",
      "C:\\Users\\a.hernandez.de.la.ve\\Anaconda3\\lib\\site-packages\\nidaqmx\\task.py:102: ResourceWarning: Task of name \"_unnamedTask<7>\" was not explicitly closed before it was destructed. Resources on the task device may still be reserved.\n",
      "  warnings.warn(\n"
     ]
    }
   ],
   "metadata": {}
  },
  {
   "cell_type": "markdown",
   "source": [
    "# Different behaviour when initializing the AWG outside of the DAQ_measurement function (or inside, but with a time.sleep() right after it) and when initializing the AWG inside the function. Initializing with a delay gives \"proper\" measurement scheme (I still have to check whether it is getting the correct time scale). This independant of the delay time present when loading a waveform to the awg for the first time after reseting."
   ],
   "metadata": {}
  },
  {
   "cell_type": "code",
   "execution_count": 16,
   "source": [
    "dataM.size"
   ],
   "outputs": [
    {
     "output_type": "execute_result",
     "data": {
      "text/plain": [
       "10000"
      ]
     },
     "metadata": {},
     "execution_count": 16
    }
   ],
   "metadata": {}
  },
  {
   "cell_type": "code",
   "execution_count": 22,
   "source": [
    "a = 0# * e-1"
   ],
   "outputs": [],
   "metadata": {}
  },
  {
   "cell_type": "code",
   "execution_count": 18,
   "source": [
    "M8190A.write(':DAC1:VOLT:OFFS 0.00{value}'.format(value = a ))"
   ],
   "outputs": [
    {
     "output_type": "execute_result",
     "data": {
      "text/plain": [
       "23"
      ]
     },
     "metadata": {},
     "execution_count": 18
    }
   ],
   "metadata": {}
  },
  {
   "cell_type": "markdown",
   "source": [
    "Pump = 40mV\r\n",
    "\r\n",
    "ProbeA = 20mV\r\n",
    "\r\n",
    "ProbeB = - 20mV"
   ],
   "metadata": {}
  },
  {
   "cell_type": "code",
   "execution_count": 23,
   "source": [
    "dataMs, timeMs = DAQ_Measuring0ms(DAQ_Settings1,400000,32,M8190A)\r\n",
    "\r\n",
    "\r\n",
    "fig,ax= plt.subplots()\r\n",
    "\r\n",
    "ax.grid(True)\r\n",
    "#plt.plot(tom,data_off,label= 'AWG off')\r\n",
    "plt.plot(timeMs,dataMs*1000,label= '{b} samples'.format(b=len(dataMs)),color='orange')\r\n",
    "\r\n",
    "ax.set_ylabel('V  [mV]')\r\n",
    "ax.set_xlabel('t  [ms]')\r\n",
    "ax.set_title('Voltage measured with DAQ, Direct out Channel DAC, Voltage Offset = {value}mV '.format(value = a*0.1))\r\n",
    "ax.legend(loc=0)\r\n",
    "#plt.legend(bbox_to_anchor=(2.05, 1), loc='upper left', borderaxespad=0.)\r\n",
    "plt.show()\r\n",
    "#fig.savefig('DAQ measurement offset {value}mV '.format(value = a ),bbox_inches='tight')"
   ],
   "outputs": [
    {
     "output_type": "stream",
     "name": "stdout",
     "text": [
      "Triggering Pulse Stoped\n"
     ]
    },
    {
     "output_type": "display_data",
     "data": {
      "text/plain": [
       "Canvas(toolbar=Toolbar(toolitems=[('Home', 'Reset original view', 'home', 'home'), ('Back', 'Back to previous …"
      ],
      "application/vnd.jupyter.widget-view+json": {
       "version_major": 2,
       "version_minor": 0,
       "model_id": "3ae669a39ba9403b8c346afa58c5dc8f"
      }
     },
     "metadata": {}
    }
   ],
   "metadata": {}
  },
  {
   "cell_type": "markdown",
   "source": [
    "# Mergin Sweeping loading function with DAQ measuring"
   ],
   "metadata": {}
  },
  {
   "cell_type": "code",
   "execution_count": 6,
   "source": [
    "def Sequence_Loader_List_Files0(PulseList1,PulseList2,P,t,N,start,stop,AWG):\r\n",
    "\r\n",
    "    \"\"\" Given two pulse schemes lists, this functions iterates over them from start to stop.\r\n",
    "\r\n",
    "        This function firts creates the corresponding pulse sequence data given the PulseLists using the Sweep_iteration_csv function\r\n",
    "        \r\n",
    "    \"\"\"\r\n",
    "\r\n",
    "    #SegmentA of the sequence\r\n",
    "    Loc1,DF1,timm = Sweep_Iteration_CSV_List(PulseList1,P,t,N,start,stop,AWG,1)\r\n",
    "\r\n",
    "    #SegmentB of the Sequence\r\n",
    "    Loc2,DF2,timm = Sweep_Iteration_CSV_List(PulseList2,P,t,N,start,stop,AWG,0)\r\n",
    "\r\n",
    "    return Loc1, Loc2, DF1,DF2,timm"
   ],
   "outputs": [],
   "metadata": {}
  },
  {
   "cell_type": "code",
   "execution_count": 25,
   "source": [
    "def Sequence_Loader_File_DAQ(instrument,DAQ_settings,sampling_rate,playingtime,fileA,fileB):\r\n",
    "    \r\n",
    "    \"\"\" This function loads the csv data files from the Location dictionaries into the instrument as a sequence. FOR SWEEPING\r\n",
    "\r\n",
    "    LocationA is a dictionary, whose elements are the file paths to the csv files that are going to be loaded as SegmentA into the sequence.\r\n",
    "    LocationB is a dictionary, whose elemnts re the filepaths to the csv files that are going to be loaded as SegmentB into the sequence\r\n",
    "    It uses the Sequence_File function to load the csv files to the instrument.\r\n",
    " \r\n",
    "    \"\"\"\r\n",
    "    measurement_data = {}\r\n",
    "\r\n",
    "    for i,j in zip(fileA, fileB):\r\n",
    "        Sequence_File(instrument,fileA[i],fileB[j],1)\r\n",
    "        instrument.query('*OPC?')\r\n",
    "        measurement_data['data result for step {a}and{b}'.format(a =i, b = j)]= DAQ_Measuring(DAQ_settings,sampling_rate,playingtime,instrument)\r\n",
    "\r\n",
    "    return measurement_data\r\n",
    "    instrument.write('ABOR')"
   ],
   "outputs": [],
   "metadata": {}
  },
  {
   "cell_type": "code",
   "execution_count": 7,
   "source": [
    "sweeping_run = Sequence_Loader_List_Files0(PList_secondsA,PList_secondsB,10,15,7500000,0,4,AWG_Settings4)"
   ],
   "outputs": [],
   "metadata": {}
  },
  {
   "cell_type": "markdown",
   "source": [
    "desmenuzar"
   ],
   "metadata": {}
  },
  {
   "cell_type": "code",
   "execution_count": 26,
   "source": [
    "Sequence_Loader_File_DAQ(M8190A,DAQ_Settings1,400000,32,sweeping_run[0],sweeping_run[1])"
   ],
   "outputs": [
    {
     "output_type": "stream",
     "name": "stdout",
     "text": [
      "Sequence advancement method is COND\n",
      "Sequence loaded with the following segment data \"1,1,0,1,0,7499999,2,1,0,1,0,7499999\"\n"
     ]
    },
    {
     "output_type": "error",
     "ename": "DaqError",
     "evalue": "Some or all of the samples requested have not yet been acquired.\nTo wait for the samples to become available use a longer read timeout or read later in your program. To make the samples available sooner, increase the sample rate. If your task uses a start trigger,  make sure that your start trigger is configured correctly. It is also possible that you configured the task for external timing, and no clock was supplied. If this is the case, supply an external clock.\nProperty: DAQmx_Read_RelativeTo\nCorresponding Value: DAQmx_Val_CurrReadPos\nProperty: DAQmx_Read_Offset\nCorresponding Value: 0\n\nTask Name: _unnamedTask<2>\n\nStatus Code: -200284",
     "traceback": [
      "\u001b[1;31m---------------------------------------------------------------------------\u001b[0m",
      "\u001b[1;31mDaqError\u001b[0m                                  Traceback (most recent call last)",
      "\u001b[1;32m<ipython-input-26-d2db9ac442c7>\u001b[0m in \u001b[0;36m<module>\u001b[1;34m\u001b[0m\n\u001b[1;32m----> 1\u001b[1;33m \u001b[0mSequence_Loader_File_DAQ\u001b[0m\u001b[1;33m(\u001b[0m\u001b[0mM8190A\u001b[0m\u001b[1;33m,\u001b[0m\u001b[0mDAQ_Settings1\u001b[0m\u001b[1;33m,\u001b[0m\u001b[1;36m400000\u001b[0m\u001b[1;33m,\u001b[0m\u001b[1;36m32\u001b[0m\u001b[1;33m,\u001b[0m\u001b[0msweeping_run\u001b[0m\u001b[1;33m[\u001b[0m\u001b[1;36m0\u001b[0m\u001b[1;33m]\u001b[0m\u001b[1;33m,\u001b[0m\u001b[0msweeping_run\u001b[0m\u001b[1;33m[\u001b[0m\u001b[1;36m1\u001b[0m\u001b[1;33m]\u001b[0m\u001b[1;33m)\u001b[0m\u001b[1;33m\u001b[0m\u001b[1;33m\u001b[0m\u001b[0m\n\u001b[0m",
      "\u001b[1;32m<ipython-input-25-606ba2981965>\u001b[0m in \u001b[0;36mSequence_Loader_File_DAQ\u001b[1;34m(instrument, DAQ_settings, sampling_rate, playingtime, fileA, fileB)\u001b[0m\n\u001b[0;32m     13\u001b[0m         \u001b[0mSequence_File\u001b[0m\u001b[1;33m(\u001b[0m\u001b[0minstrument\u001b[0m\u001b[1;33m,\u001b[0m\u001b[0mfileA\u001b[0m\u001b[1;33m[\u001b[0m\u001b[0mi\u001b[0m\u001b[1;33m]\u001b[0m\u001b[1;33m,\u001b[0m\u001b[0mfileB\u001b[0m\u001b[1;33m[\u001b[0m\u001b[0mj\u001b[0m\u001b[1;33m]\u001b[0m\u001b[1;33m,\u001b[0m\u001b[1;36m1\u001b[0m\u001b[1;33m)\u001b[0m\u001b[1;33m\u001b[0m\u001b[1;33m\u001b[0m\u001b[0m\n\u001b[0;32m     14\u001b[0m         \u001b[0minstrument\u001b[0m\u001b[1;33m.\u001b[0m\u001b[0mquery\u001b[0m\u001b[1;33m(\u001b[0m\u001b[1;34m'*OPC?'\u001b[0m\u001b[1;33m)\u001b[0m\u001b[1;33m\u001b[0m\u001b[1;33m\u001b[0m\u001b[0m\n\u001b[1;32m---> 15\u001b[1;33m         \u001b[0mmeasurement_data\u001b[0m\u001b[1;33m[\u001b[0m\u001b[1;34m'data result for step {a}and{b}'\u001b[0m\u001b[1;33m.\u001b[0m\u001b[0mformat\u001b[0m\u001b[1;33m(\u001b[0m\u001b[0ma\u001b[0m \u001b[1;33m=\u001b[0m\u001b[0mi\u001b[0m\u001b[1;33m,\u001b[0m \u001b[0mb\u001b[0m \u001b[1;33m=\u001b[0m \u001b[0mj\u001b[0m\u001b[1;33m)\u001b[0m\u001b[1;33m]\u001b[0m\u001b[1;33m=\u001b[0m \u001b[0mDAQ_Measuring\u001b[0m\u001b[1;33m(\u001b[0m\u001b[0mDAQ_settings\u001b[0m\u001b[1;33m,\u001b[0m\u001b[0msampling_rate\u001b[0m\u001b[1;33m,\u001b[0m\u001b[0mplayingtime\u001b[0m\u001b[1;33m,\u001b[0m\u001b[0minstrument\u001b[0m\u001b[1;33m)\u001b[0m\u001b[1;33m\u001b[0m\u001b[1;33m\u001b[0m\u001b[0m\n\u001b[0m\u001b[0;32m     16\u001b[0m \u001b[1;33m\u001b[0m\u001b[0m\n\u001b[0;32m     17\u001b[0m     \u001b[1;32mreturn\u001b[0m \u001b[0mmeasurement_data\u001b[0m\u001b[1;33m\u001b[0m\u001b[1;33m\u001b[0m\u001b[0m\n",
      "\u001b[1;32m<ipython-input-19-669237051fe1>\u001b[0m in \u001b[0;36mDAQ_Measuring\u001b[1;34m(DAQ_settings, sr, playingtime, instrument)\u001b[0m\n\u001b[0;32m     36\u001b[0m     \u001b[0mtrig_task\u001b[0m\u001b[1;33m.\u001b[0m\u001b[0mwrite\u001b[0m\u001b[1;33m(\u001b[0m\u001b[1;36m1.5\u001b[0m\u001b[1;33m)\u001b[0m\u001b[1;33m\u001b[0m\u001b[1;33m\u001b[0m\u001b[0m\n\u001b[0;32m     37\u001b[0m     \u001b[1;31m#time.sleep(3)\u001b[0m\u001b[1;33m\u001b[0m\u001b[1;33m\u001b[0m\u001b[1;33m\u001b[0m\u001b[0m\n\u001b[1;32m---> 38\u001b[1;33m     \u001b[0mdata\u001b[0m \u001b[1;33m=\u001b[0m \u001b[0mnp\u001b[0m\u001b[1;33m.\u001b[0m\u001b[0marray\u001b[0m\u001b[1;33m(\u001b[0m\u001b[0mmeasuring_task\u001b[0m\u001b[1;33m.\u001b[0m\u001b[0mread\u001b[0m\u001b[1;33m(\u001b[0m\u001b[0msamples\u001b[0m\u001b[1;33m)\u001b[0m\u001b[1;33m)\u001b[0m\u001b[1;33m\u001b[0m\u001b[1;33m\u001b[0m\u001b[0m\n\u001b[0m\u001b[0;32m     39\u001b[0m \u001b[1;33m\u001b[0m\u001b[0m\n\u001b[0;32m     40\u001b[0m \u001b[1;33m\u001b[0m\u001b[0m\n",
      "\u001b[1;32m~\\Anaconda3\\lib\\site-packages\\nidaqmx\\task.py\u001b[0m in \u001b[0;36mread\u001b[1;34m(self, number_of_samples_per_channel, timeout)\u001b[0m\n\u001b[0;32m    626\u001b[0m         \u001b[1;32mif\u001b[0m \u001b[0mread_chan_type\u001b[0m \u001b[1;33m==\u001b[0m \u001b[0mChannelType\u001b[0m\u001b[1;33m.\u001b[0m\u001b[0mANALOG_INPUT\u001b[0m\u001b[1;33m:\u001b[0m\u001b[1;33m\u001b[0m\u001b[1;33m\u001b[0m\u001b[0m\n\u001b[0;32m    627\u001b[0m             \u001b[0mdata\u001b[0m \u001b[1;33m=\u001b[0m \u001b[0mnumpy\u001b[0m\u001b[1;33m.\u001b[0m\u001b[0mzeros\u001b[0m\u001b[1;33m(\u001b[0m\u001b[0marray_shape\u001b[0m\u001b[1;33m,\u001b[0m \u001b[0mdtype\u001b[0m\u001b[1;33m=\u001b[0m\u001b[0mnumpy\u001b[0m\u001b[1;33m.\u001b[0m\u001b[0mfloat64\u001b[0m\u001b[1;33m)\u001b[0m\u001b[1;33m\u001b[0m\u001b[1;33m\u001b[0m\u001b[0m\n\u001b[1;32m--> 628\u001b[1;33m             samples_read = _read_analog_f_64(\n\u001b[0m\u001b[0;32m    629\u001b[0m                 self._handle, data, number_of_samples_per_channel, timeout)\n\u001b[0;32m    630\u001b[0m \u001b[1;33m\u001b[0m\u001b[0m\n",
      "\u001b[1;32m~\\Anaconda3\\lib\\site-packages\\nidaqmx\\_task_modules\\read_functions.py\u001b[0m in \u001b[0;36m_read_analog_f_64\u001b[1;34m(task_handle, read_array, num_samps_per_chan, timeout, fill_mode)\u001b[0m\n\u001b[0;32m     33\u001b[0m         \u001b[0mread_array\u001b[0m\u001b[1;33m,\u001b[0m \u001b[0mnumpy\u001b[0m\u001b[1;33m.\u001b[0m\u001b[0mprod\u001b[0m\u001b[1;33m(\u001b[0m\u001b[0mread_array\u001b[0m\u001b[1;33m.\u001b[0m\u001b[0mshape\u001b[0m\u001b[1;33m)\u001b[0m\u001b[1;33m,\u001b[0m\u001b[1;33m\u001b[0m\u001b[1;33m\u001b[0m\u001b[0m\n\u001b[0;32m     34\u001b[0m         ctypes.byref(samps_per_chan_read), None)\n\u001b[1;32m---> 35\u001b[1;33m     \u001b[0mcheck_for_error\u001b[0m\u001b[1;33m(\u001b[0m\u001b[0merror_code\u001b[0m\u001b[1;33m)\u001b[0m\u001b[1;33m\u001b[0m\u001b[1;33m\u001b[0m\u001b[0m\n\u001b[0m\u001b[0;32m     36\u001b[0m \u001b[1;33m\u001b[0m\u001b[0m\n\u001b[0;32m     37\u001b[0m     \u001b[1;32mreturn\u001b[0m \u001b[0msamps_per_chan_read\u001b[0m\u001b[1;33m.\u001b[0m\u001b[0mvalue\u001b[0m\u001b[1;33m\u001b[0m\u001b[1;33m\u001b[0m\u001b[0m\n",
      "\u001b[1;32m~\\Anaconda3\\lib\\site-packages\\nidaqmx\\errors.py\u001b[0m in \u001b[0;36mcheck_for_error\u001b[1;34m(error_code)\u001b[0m\n\u001b[0;32m    125\u001b[0m         \u001b[0mcfunc\u001b[0m\u001b[1;33m(\u001b[0m\u001b[0merror_buffer\u001b[0m\u001b[1;33m,\u001b[0m \u001b[1;36m2048\u001b[0m\u001b[1;33m)\u001b[0m\u001b[1;33m\u001b[0m\u001b[1;33m\u001b[0m\u001b[0m\n\u001b[0;32m    126\u001b[0m \u001b[1;33m\u001b[0m\u001b[0m\n\u001b[1;32m--> 127\u001b[1;33m         \u001b[1;32mraise\u001b[0m \u001b[0mDaqError\u001b[0m\u001b[1;33m(\u001b[0m\u001b[0merror_buffer\u001b[0m\u001b[1;33m.\u001b[0m\u001b[0mvalue\u001b[0m\u001b[1;33m.\u001b[0m\u001b[0mdecode\u001b[0m\u001b[1;33m(\u001b[0m\u001b[1;34m\"utf-8\"\u001b[0m\u001b[1;33m)\u001b[0m\u001b[1;33m,\u001b[0m \u001b[0merror_code\u001b[0m\u001b[1;33m)\u001b[0m\u001b[1;33m\u001b[0m\u001b[1;33m\u001b[0m\u001b[0m\n\u001b[0m\u001b[0;32m    128\u001b[0m \u001b[1;33m\u001b[0m\u001b[0m\n\u001b[0;32m    129\u001b[0m     \u001b[1;32melif\u001b[0m \u001b[0merror_code\u001b[0m \u001b[1;33m>\u001b[0m \u001b[1;36m0\u001b[0m\u001b[1;33m:\u001b[0m\u001b[1;33m\u001b[0m\u001b[1;33m\u001b[0m\u001b[0m\n",
      "\u001b[1;31mDaqError\u001b[0m: Some or all of the samples requested have not yet been acquired.\nTo wait for the samples to become available use a longer read timeout or read later in your program. To make the samples available sooner, increase the sample rate. If your task uses a start trigger,  make sure that your start trigger is configured correctly. It is also possible that you configured the task for external timing, and no clock was supplied. If this is the case, supply an external clock.\nProperty: DAQmx_Read_RelativeTo\nCorresponding Value: DAQmx_Val_CurrReadPos\nProperty: DAQmx_Read_Offset\nCorresponding Value: 0\n\nTask Name: _unnamedTask<2>\n\nStatus Code: -200284"
     ]
    }
   ],
   "metadata": {}
  },
  {
   "cell_type": "code",
   "execution_count": 21,
   "source": [
    "sweeping_run[0]"
   ],
   "outputs": [
    {
     "output_type": "execute_result",
     "data": {
      "text/plain": [
       "{'Pulse File Location, at step 0': 'D:\\\\Alejandro\\\\Pulses\\\\Dict\\\\S4\\\\SegmentA_7500000_0.csv',\n",
       " 'Pulse File Location, at step 1': 'D:\\\\Alejandro\\\\Pulses\\\\Dict\\\\S4\\\\SegmentA_7500000_1.csv',\n",
       " 'Pulse File Location, at step 2': 'D:\\\\Alejandro\\\\Pulses\\\\Dict\\\\S4\\\\SegmentA_7500000_2.csv',\n",
       " 'Pulse File Location, at step 3': 'D:\\\\Alejandro\\\\Pulses\\\\Dict\\\\S4\\\\SegmentA_7500000_3.csv',\n",
       " 'Pulse File Location, at step 4': 'D:\\\\Alejandro\\\\Pulses\\\\Dict\\\\S4\\\\SegmentA_7500000_4.csv'}"
      ]
     },
     "metadata": {},
     "execution_count": 21
    }
   ],
   "metadata": {}
  },
  {
   "cell_type": "code",
   "execution_count": 12,
   "source": [
    "sweeping_run[1]"
   ],
   "outputs": [
    {
     "output_type": "execute_result",
     "data": {
      "text/plain": [
       "{'Pulse File Location, at step 0': 'D:\\\\Alejandro\\\\Pulses\\\\Dict\\\\S4\\\\SegmentB_7500000_0.csv',\n",
       " 'Pulse File Location, at step 1': 'D:\\\\Alejandro\\\\Pulses\\\\Dict\\\\S4\\\\SegmentB_7500000_1.csv',\n",
       " 'Pulse File Location, at step 2': 'D:\\\\Alejandro\\\\Pulses\\\\Dict\\\\S4\\\\SegmentB_7500000_2.csv',\n",
       " 'Pulse File Location, at step 3': 'D:\\\\Alejandro\\\\Pulses\\\\Dict\\\\S4\\\\SegmentB_7500000_3.csv',\n",
       " 'Pulse File Location, at step 4': 'D:\\\\Alejandro\\\\Pulses\\\\Dict\\\\S4\\\\SegmentB_7500000_4.csv'}"
      ]
     },
     "metadata": {},
     "execution_count": 12
    }
   ],
   "metadata": {}
  },
  {
   "cell_type": "code",
   "execution_count": 15,
   "source": [
    "sweeping_run[2]"
   ],
   "outputs": [
    {
     "output_type": "execute_result",
     "data": {
      "text/plain": [
       "{'SegmentA_7500000_0':                Y1  SyncMarker1  SampleMarker1\n",
       " 0        0.000000            1              1\n",
       " 1        0.057143            1              1\n",
       " 2        0.057143            1              1\n",
       " 3        0.057143            1              1\n",
       " 4        0.057143            1              1\n",
       " ...           ...          ...            ...\n",
       " 7499995  0.000000            1              1\n",
       " 7499996  0.000000            1              1\n",
       " 7499997  0.000000            1              1\n",
       " 7499998  0.000000            1              1\n",
       " 7499999  0.000000            1              1\n",
       " \n",
       " [7500000 rows x 3 columns],\n",
       " 'SegmentA_7500000_1':                Y1  SyncMarker1  SampleMarker1\n",
       " 0        0.000000            1              1\n",
       " 1        0.057143            1              1\n",
       " 2        0.057143            1              1\n",
       " 3        0.057143            1              1\n",
       " 4        0.057143            1              1\n",
       " ...           ...          ...            ...\n",
       " 7499995  0.000000            1              1\n",
       " 7499996  0.000000            1              1\n",
       " 7499997  0.000000            1              1\n",
       " 7499998  0.000000            1              1\n",
       " 7499999  0.000000            1              1\n",
       " \n",
       " [7500000 rows x 3 columns],\n",
       " 'SegmentA_7500000_2':                Y1  SyncMarker1  SampleMarker1\n",
       " 0        0.000000            1              1\n",
       " 1        0.057143            1              1\n",
       " 2        0.057143            1              1\n",
       " 3        0.057143            1              1\n",
       " 4        0.057143            1              1\n",
       " ...           ...          ...            ...\n",
       " 7499995  0.000000            1              1\n",
       " 7499996  0.000000            1              1\n",
       " 7499997  0.000000            1              1\n",
       " 7499998  0.000000            1              1\n",
       " 7499999  0.000000            1              1\n",
       " \n",
       " [7500000 rows x 3 columns],\n",
       " 'SegmentA_7500000_3':                Y1  SyncMarker1  SampleMarker1\n",
       " 0        0.000000            1              1\n",
       " 1        0.057143            1              1\n",
       " 2        0.057143            1              1\n",
       " 3        0.057143            1              1\n",
       " 4        0.057143            1              1\n",
       " ...           ...          ...            ...\n",
       " 7499995  0.000000            1              1\n",
       " 7499996  0.000000            1              1\n",
       " 7499997  0.000000            1              1\n",
       " 7499998  0.000000            1              1\n",
       " 7499999  0.000000            1              1\n",
       " \n",
       " [7500000 rows x 3 columns],\n",
       " 'SegmentA_7500000_4':                Y1  SyncMarker1  SampleMarker1\n",
       " 0        0.000000            1              1\n",
       " 1        0.057143            1              1\n",
       " 2        0.057143            1              1\n",
       " 3        0.057143            1              1\n",
       " 4        0.057143            1              1\n",
       " ...           ...          ...            ...\n",
       " 7499995  0.000000            1              1\n",
       " 7499996  0.000000            1              1\n",
       " 7499997  0.000000            1              1\n",
       " 7499998  0.000000            1              1\n",
       " 7499999  0.000000            1              1\n",
       " \n",
       " [7500000 rows x 3 columns]}"
      ]
     },
     "metadata": {},
     "execution_count": 15
    }
   ],
   "metadata": {}
  },
  {
   "cell_type": "code",
   "execution_count": 16,
   "source": [
    "sweeping_run[3]"
   ],
   "outputs": [
    {
     "output_type": "execute_result",
     "data": {
      "text/plain": [
       "{'SegmentB_7500000_0':                Y1  SyncMarker1  SampleMarker1\n",
       " 0        0.000000            0              0\n",
       " 1        0.057143            0              0\n",
       " 2        0.057143            0              0\n",
       " 3        0.057143            0              0\n",
       " 4        0.057143            0              0\n",
       " ...           ...          ...            ...\n",
       " 7499995  0.000000            0              0\n",
       " 7499996  0.000000            0              0\n",
       " 7499997  0.000000            0              0\n",
       " 7499998  0.000000            0              0\n",
       " 7499999  0.000000            0              0\n",
       " \n",
       " [7500000 rows x 3 columns],\n",
       " 'SegmentB_7500000_1':                Y1  SyncMarker1  SampleMarker1\n",
       " 0        0.000000            0              0\n",
       " 1        0.057143            0              0\n",
       " 2        0.057143            0              0\n",
       " 3        0.057143            0              0\n",
       " 4        0.057143            0              0\n",
       " ...           ...          ...            ...\n",
       " 7499995  0.000000            0              0\n",
       " 7499996  0.000000            0              0\n",
       " 7499997  0.000000            0              0\n",
       " 7499998  0.000000            0              0\n",
       " 7499999  0.000000            0              0\n",
       " \n",
       " [7500000 rows x 3 columns],\n",
       " 'SegmentB_7500000_2':                Y1  SyncMarker1  SampleMarker1\n",
       " 0        0.000000            0              0\n",
       " 1        0.057143            0              0\n",
       " 2        0.057143            0              0\n",
       " 3        0.057143            0              0\n",
       " 4        0.057143            0              0\n",
       " ...           ...          ...            ...\n",
       " 7499995  0.000000            0              0\n",
       " 7499996  0.000000            0              0\n",
       " 7499997  0.000000            0              0\n",
       " 7499998  0.000000            0              0\n",
       " 7499999  0.000000            0              0\n",
       " \n",
       " [7500000 rows x 3 columns],\n",
       " 'SegmentB_7500000_3':                Y1  SyncMarker1  SampleMarker1\n",
       " 0        0.000000            0              0\n",
       " 1        0.057143            0              0\n",
       " 2        0.057143            0              0\n",
       " 3        0.057143            0              0\n",
       " 4        0.057143            0              0\n",
       " ...           ...          ...            ...\n",
       " 7499995  0.000000            0              0\n",
       " 7499996  0.000000            0              0\n",
       " 7499997  0.000000            0              0\n",
       " 7499998  0.000000            0              0\n",
       " 7499999  0.000000            0              0\n",
       " \n",
       " [7500000 rows x 3 columns],\n",
       " 'SegmentB_7500000_4':                Y1  SyncMarker1  SampleMarker1\n",
       " 0        0.000000            0              0\n",
       " 1        0.057143            0              0\n",
       " 2        0.057143            0              0\n",
       " 3        0.057143            0              0\n",
       " 4        0.057143            0              0\n",
       " ...           ...          ...            ...\n",
       " 7499995  0.000000            0              0\n",
       " 7499996  0.000000            0              0\n",
       " 7499997  0.000000            0              0\n",
       " 7499998  0.000000            0              0\n",
       " 7499999  0.000000            0              0\n",
       " \n",
       " [7500000 rows x 3 columns]}"
      ]
     },
     "metadata": {},
     "execution_count": 16
    }
   ],
   "metadata": {}
  },
  {
   "cell_type": "code",
   "execution_count": 18,
   "source": [
    "sweeping_run[4].size"
   ],
   "outputs": [
    {
     "output_type": "execute_result",
     "data": {
      "text/plain": [
       "7500000"
      ]
     },
     "metadata": {},
     "execution_count": 18
    }
   ],
   "metadata": {}
  },
  {
   "cell_type": "code",
   "execution_count": null,
   "source": [
    "fig,ax= plt.subplots()\r\n",
    "\r\n",
    "ax.grid(True)\r\n",
    "plt.plot(tom,obo[0],label= 'Starting Step 0')\r\n",
    "plt.plot(tom,obo[1],label= '1')\r\n",
    "plt.plot(tom,obo[2],label= '2')\r\n",
    "plt.plot(tom,obo[3],label= '3')\r\n",
    "plt.plot(tom,obo[4],label= '4')\r\n",
    "plt.plot(tom,obo[5],label= '5')\r\n",
    "plt.plot(tom,obo[6],label= '6')\r\n",
    "plt.plot(tom,obo[7],label= '7')\r\n",
    "plt.plot(tom,obo[8],label= '8')\r\n",
    "plt.plot(tom,obo[9],label= '9')\r\n",
    "plt.plot(tom,obo[10],label= 'Stopping Step 10')\r\n",
    "ax.set_ylabel('V  [mV]')\r\n",
    "ax.set_xlabel('t  [ms]')\r\n",
    "ax.set_title(' Complete Sweeping Steps ')\r\n",
    "ax.legend(loc=0)\r\n",
    "plt.show()\r\n",
    "#fig.savefig('Pulse_sweep_t=20',optimize=True,bbox_inches='tight')"
   ],
   "outputs": [],
   "metadata": {}
  },
  {
   "cell_type": "code",
   "execution_count": null,
   "source": [],
   "outputs": [],
   "metadata": {}
  },
  {
   "cell_type": "code",
   "execution_count": null,
   "source": [],
   "outputs": [],
   "metadata": {}
  },
  {
   "cell_type": "code",
   "execution_count": 19,
   "source": [
    "def DAQ_Measuring(DAQ_settings,sr,playingtime,instrument):\r\n",
    "    \"\"\"This function starts sets up the DAQ box in order to collect data for a time duration given by \"playing time\"\r\n",
    "      It then uses the DAQ box to trigger the AWG into playing a waveform.\r\n",
    "\r\n",
    "      playingtime should be in seconds.\r\n",
    "      triggerinvoltage should be in volts.\r\n",
    "    \"\"\"\r\n",
    "    instrument.write('INIT:IMM')\r\n",
    "    time.sleep(2)\r\n",
    "\r\n",
    "\r\n",
    "    #Calculating the number of samples given the samplig frecuency and playing time\r\n",
    "    samples = int(sr * playingtime) \r\n",
    "    measuring_time = np.linspace(0,playingtime,samples)\r\n",
    "\r\n",
    "    #setting the tasks\r\n",
    "    measuring_task = nidaqmx.Task()\r\n",
    "    trig_task =  nidaqmx.Task()\r\n",
    "   \r\n",
    "\r\n",
    "\r\n",
    "    #Channels Configuration\r\n",
    "    measuring_task.ai_channels.add_ai_voltage_chan(\"{a}/{b}\".format(a = DAQ_settings['DAQ Name'], b = DAQ_settings['Analog Channel Input']),min_val=DAQ_settings['Minimum Voltage'],max_val= DAQ_settings['Maximum Voltage'])\r\n",
    "    trig_task.ao_channels.add_ao_voltage_chan('{a}/{b}'.format(a = DAQ_settings['DAQ Name'], b = DAQ_settings['Analog Channel Output']),'triggering',-4,4)\r\n",
    "\r\n",
    "    #Sampling configuration measuring channel\r\n",
    "    measuring_task.timing.cfg_samp_clk_timing(sr, active_edge=Edge.RISING, sample_mode=AcquisitionType.FINITE, samps_per_chan=samples)\r\n",
    "    #trig_task.timing.cfg_samp_clk_timing(DAQ_settings['Sampling Frequency'], samps_per_chan=samples)\r\n",
    "    #source = \"measuring_task/SampleClock\"\r\n",
    "\r\n",
    "    trig_task.start()\r\n",
    "    measuring_task.start()\r\n",
    "    \r\n",
    "\r\n",
    "    \r\n",
    "    trig_task.write(1.5)\r\n",
    "    #time.sleep(3)\r\n",
    "    data = np.array(measuring_task.read(samples))\r\n",
    "\r\n",
    "\r\n",
    "    \r\n",
    "    #time.sleep(3)\r\n",
    "    print('Triggering Pulse Stoped')\r\n",
    "    trig_task.write(0)\r\n",
    "\r\n",
    "    \r\n",
    "    \r\n",
    "    \r\n",
    "\r\n",
    "    trig_task.stop()\r\n",
    "    measuring_task.stop()\r\n",
    "\r\n",
    "    measuring_task.close()\r\n",
    "    trig_task.close()\r\n",
    "\r\n",
    "\r\n",
    "    instrument.write('ABOR')\r\n",
    "\r\n",
    "    return data, measuring_time"
   ],
   "outputs": [],
   "metadata": {}
  },
  {
   "cell_type": "code",
   "execution_count": null,
   "source": [],
   "outputs": [],
   "metadata": {}
  },
  {
   "cell_type": "code",
   "execution_count": null,
   "source": [],
   "outputs": [],
   "metadata": {}
  },
  {
   "cell_type": "code",
   "execution_count": null,
   "source": [],
   "outputs": [],
   "metadata": {}
  },
  {
   "cell_type": "code",
   "execution_count": 12,
   "source": [
    "M8190A.query('OUTP:ROUT:SEL?')"
   ],
   "outputs": [
    {
     "output_type": "execute_result",
     "data": {
      "text/plain": [
       "'DAC'"
      ]
     },
     "metadata": {},
     "execution_count": 12
    }
   ],
   "metadata": {}
  },
  {
   "cell_type": "code",
   "execution_count": 11,
   "source": [
    "M8190A.write('OUTP:ROUT:SEL DAC')"
   ],
   "outputs": [
    {
     "output_type": "execute_result",
     "data": {
      "text/plain": [
       "18"
      ]
     },
     "metadata": {},
     "execution_count": 11
    }
   ],
   "metadata": {}
  },
  {
   "cell_type": "code",
   "execution_count": 17,
   "source": [
    "M8190A.write('INIT:IMM')"
   ],
   "outputs": [
    {
     "output_type": "execute_result",
     "data": {
      "text/plain": [
       "9"
      ]
     },
     "metadata": {},
     "execution_count": 17
    }
   ],
   "metadata": {}
  },
  {
   "cell_type": "markdown",
   "source": [
    "voltask =  nidaqmx.Task()\r\n",
    "\r\n",
    "voltask.ao_channels.add_ao_voltage_chan(\"DAQBNC1/ao1\",min_val=-3,max_val=3)\r\n",
    "\r\n",
    "\r\n",
    "\r\n",
    "\r\n",
    "\r\n",
    "print('Task started')\r\n",
    "voltask.start()\r\n",
    "\r\n",
    "time.sleep(10)\r\n",
    "\r\n",
    "print('Writting!')\r\n",
    "\r\n",
    "time.sleep(4)\r\n",
    "voltask.write(3)\r\n",
    "time.sleep(7) \r\n",
    "\r\n",
    "print('Lowering Voltage!')\r\n",
    "time.sleep(4)\r\n",
    "\r\n",
    "voltask.write(0)\r\n",
    "#\r\n",
    "voltask.stop()\r\n",
    "#\r\n",
    "voltask.close()"
   ],
   "metadata": {}
  }
 ],
 "metadata": {
  "@webio": {
   "lastCommId": null,
   "lastKernelId": null
  },
  "interpreter": {
   "hash": "9a32f0bf53af15acd232504180dc0ef28b8a6ac1a49da0a6c374e1f45bb445b6"
  },
  "kernelspec": {
   "name": "python3",
   "display_name": "Python 3.8.5 64-bit ('base': conda)"
  },
  "language_info": {
   "name": "python",
   "version": "3.8.5",
   "mimetype": "text/x-python",
   "codemirror_mode": {
    "name": "ipython",
    "version": 3
   },
   "pygments_lexer": "ipython3",
   "nbconvert_exporter": "python",
   "file_extension": ".py"
  }
 },
 "nbformat": 4,
 "nbformat_minor": 4
}