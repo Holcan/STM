{
 "cells": [
  {
   "cell_type": "code",
   "execution_count": 1,
   "metadata": {},
   "outputs": [],
   "source": [
    "import numpy as np\n",
    "from numpy import loadtxt\n",
    "import pandas as pd\n",
    "import time\n",
    "import matplotlib\n",
    "import matplotlib.pyplot as plt\n",
    "import pyvisa as visa\n",
    "from matplotlib import animation\n",
    "from time import sleep\n",
    "from matplotlib.animation import FuncAnimation\n",
    "#Importing the functions from the module and the pulses dictionaries\n",
    "from Sweeping import *\n",
    "from Dictionaries import *\n",
    "from PulseFiles import *\n",
    "from Instrument import *\n",
    "import pyqtgraph as pg \n",
    "import nidaqmx\n",
    "import pickle"
   ]
  },
  {
   "cell_type": "markdown",
   "metadata": {},
   "source": [
    "#  10nano"
   ]
  },
  {
   "cell_type": "code",
   "execution_count": 25,
   "metadata": {},
   "outputs": [],
   "source": [
    "modulation = 93 #Hz\n",
    "loop_number = 60000    \n",
    "res = 1/2972160000\n",
    "\n",
    "sam, sr , segment_length = Adj9(res,modulation,loop_number)"
   ]
  },
  {
   "cell_type": "code",
   "execution_count": 26,
   "metadata": {},
   "outputs": [
    {
     "data": {
      "text/plain": [
       "288"
      ]
     },
     "execution_count": 26,
     "metadata": {},
     "output_type": "execute_result"
    }
   ],
   "source": [
    "sam"
   ]
  },
  {
   "cell_type": "code",
   "execution_count": 27,
   "metadata": {},
   "outputs": [
    {
     "data": {
      "text/plain": [
       "3214080000"
      ]
     },
     "execution_count": 27,
     "metadata": {},
     "output_type": "execute_result"
    }
   ],
   "source": [
    "sr"
   ]
  },
  {
   "cell_type": "code",
   "execution_count": 28,
   "metadata": {},
   "outputs": [
    {
     "data": {
      "text/plain": [
       "89.60573476702508"
      ]
     },
     "execution_count": 28,
     "metadata": {},
     "output_type": "execute_result"
    }
   ],
   "source": [
    "interval = segment_length*1e9 #nano\n",
    "interval"
   ]
  },
  {
   "cell_type": "markdown",
   "metadata": {},
   "source": [
    "# AWG and Pulse files setup"
   ]
  },
  {
   "cell_type": "code",
   "execution_count": 29,
   "metadata": {},
   "outputs": [],
   "source": [
    "AWG_Settings_10nano= {\n",
    "    'Visa Resource Name': 'TCPIP0::ibn3-036.ibn-net.kfa-juelich.de::hislip0::INSTR',\n",
    "    'Voltage Amplitude':150,\n",
    "    'Clock Sample Frecuency':3124800000,\n",
    "    'Output_Channel': 1,\n",
    "    'Mode': 'STS',\n",
    "    'Trigger In Threshold' : 1,\n",
    "    'Output Rout': 'DC', #DAC output rout only has the BNC outputs: Direct Out and (Averaged) Direct Out # DC\n",
    "    'Data Directory': r'D:\\Alejandro\\Pulses\\diode measurements\\Prepared Pulse Schemes CSV\\60,30\\pos\\10nano'\n",
    "}"
   ]
  },
  {
   "cell_type": "code",
   "execution_count": 30,
   "metadata": {},
   "outputs": [],
   "source": [
    "M8190A = VisaR(AWG_Settings_10nano,60000)"
   ]
  },
  {
   "cell_type": "code",
   "execution_count": 31,
   "metadata": {},
   "outputs": [
    {
     "data": {
      "text/plain": [
       "21"
      ]
     },
     "execution_count": 31,
     "metadata": {},
     "output_type": "execute_result"
    }
   ],
   "source": [
    "M8190A.write('FREQ:RAST {a}'.format(a = sr))"
   ]
  },
  {
   "cell_type": "code",
   "execution_count": null,
   "metadata": {},
   "outputs": [
    {
     "name": "stdout",
     "output_type": "stream",
     "text": [
      "Instruments Sampling Frecuency set to 1.25760000000000E+08Hz\n",
      "Instruments Direct Out DAC Output route Voltage set to 7.00000000000000E-01Volts\n",
      "AWG_Settings_Dict set to TRIGGERED Mode\n",
      "Trigger In threshold value set to 1.00000000000000E+00V\n"
     ]
    }
   ],
   "source": [
    "Initialization(M8190A,AWG_Settings_10nano)"
   ]
  },
  {
   "cell_type": "code",
   "execution_count": 32,
   "metadata": {},
   "outputs": [],
   "source": [
    "Pump_10nano = {\n",
    "    'Name':'Pump_10nano',\n",
    "    'Amplitude': 2*60,\n",
    "    'Start time':40,\n",
    "    'End time':2e-10,\n",
    "    'Start Duration':10,\n",
    "    'End Duration':60,\n",
    "    'Sweep time':0,\n",
    "    'Sweep Duration':0\n",
    "}"
   ]
  },
  {
   "cell_type": "code",
   "execution_count": 33,
   "metadata": {},
   "outputs": [],
   "source": [
    "ProbeA_10nano = {\n",
    "    'Name':'ProbeA_10nano',\n",
    "    'Amplitude':2*30,\n",
    "    'Start time':20,\n",
    "    'End time':60,\n",
    "    'Start Duration':10,\n",
    "    'End Duration':60,\n",
    "    'Sweep time':1,\n",
    "    'Sweep Duration':0\n",
    "}"
   ]
  },
  {
   "cell_type": "code",
   "execution_count": 34,
   "metadata": {},
   "outputs": [],
   "source": [
    "ProbeB_10nano= {\n",
    "    'Name':'ProbeB_10nano',\n",
    "    'Amplitude':-2*30,\n",
    "    'Start time':20,\n",
    "    'End time':60,\n",
    "    'Start Duration':10,\n",
    "    'End Duration':60,\n",
    "    'Sweep time':1,\n",
    "    'Sweep Duration':0\n",
    "}"
   ]
  },
  {
   "cell_type": "code",
   "execution_count": 35,
   "metadata": {},
   "outputs": [],
   "source": [
    "PulseScheme_A_10nano =  {\n",
    "    'Name' : 'PulseScheme_A_10nano',\n",
    "    'Pulse Scheme': [Pump_10nano,ProbeA_10nano],\n",
    "    'Number of repetitions': 1,\n",
    "    'Measurement file Path': r'D:\\Alejandro\\Pulses\\diode measurements\\Autocorrelation measurements\\60,30\\pos\\10nano'\n",
    "}"
   ]
  },
  {
   "cell_type": "code",
   "execution_count": 36,
   "metadata": {},
   "outputs": [],
   "source": [
    "PulseScheme_B_10nano =  {\n",
    "    'Name' : 'PulseScheme_B_10nano',\n",
    "    'Pulse Scheme': [Pump_10nano,ProbeB_10nano],\n",
    "    'Number of repetitions': 1,\n",
    "    'Measurement file Path': r'D:\\Alejandro\\Pulses\\diode measurements\\Autocorrelation measurements\\60,30\\pos\\10nano'\n",
    "}"
   ]
  },
  {
   "cell_type": "code",
   "execution_count": 38,
   "metadata": {},
   "outputs": [
    {
     "data": {
      "image/png": "[encoded data removed]",
      "text/plain": [
       "<Figure size 432x288 with 1 Axes>"
      ]
     },
     "metadata": {
      "needs_background": "light"
     },
     "output_type": "display_data"
    }
   ],
   "source": [
    "step =0\n",
    "pul1 = Sweep_dir_noteil(PulseScheme_A_10nano,30,step,interval,sam)\n",
    "\n",
    "\n",
    "#Plot\n",
    "fig,ax= plt.subplots()\n",
    "ax.grid(True)\n",
    "\n",
    "plt.plot(pul1[1],pul1[0]/2,label= '{b} samples'.format(b = sam),color='red')\n",
    "\n",
    "ax.set_ylabel('V  [mV]')\n",
    "ax.set_xlabel(r't [ns]')\n",
    "ax.set_title('Cycle A at step {a}'.format(a = step )) #Voltage Offset = 3mV, Marker Ampl = 50mV \n",
    "#ax.legend(loc=0)\n",
    "#plt.legend(bbox_to_anchor=(2.05, 1), loc='upper left', borderaxespad=0.)\n",
    "plt.show()\n",
    "\n",
    "fig.savefig(r'{loc}\\Cycle A, Probe width 10nano 93 Hz mod ,{a} step.jpeg'.format(loc = PulseScheme_A_10nano['Measurement file Path'], a = step),bbox_inches='tight')"
   ]
  },
  {
   "cell_type": "code",
   "execution_count": 44,
   "metadata": {},
   "outputs": [
    {
     "data": {
      "image/png": "[encoded data removed]",
      "text/plain": [
       "<Figure size 432x288 with 1 Axes>"
      ]
     },
     "metadata": {
      "needs_background": "light"
     },
     "output_type": "display_data"
    }
   ],
   "source": [
    "step = 34\n",
    "pul1 = Sweep_dir_noteil(PulseScheme_A_10nano,70,step,interval,sam)\n",
    "\n",
    "\n",
    "#Plot\n",
    "fig,ax= plt.subplots()\n",
    "ax.grid(True)\n",
    "\n",
    "plt.plot(pul1[1],pul1[0]/2,label= '{b} samples'.format(b = sam),color='red')\n",
    "\n",
    "ax.set_ylabel('V  [mV]')\n",
    "ax.set_xlabel(r't [ns]')\n",
    "ax.set_title('Cycle A at step {a}'.format(a = step )) #Voltage Offset = 3mV, Marker Ampl = 50mV \n",
    "#ax.legend(loc=0)\n",
    "#plt.legend(bbox_to_anchor=(2.05, 1), loc='upper left', borderaxespad=0.)\n",
    "plt.show()\n",
    "\n",
    "fig.savefig(r'{loc}\\Cycle A, Probe width 10nano 93 Hz mod , {a} step.jpeg'.format(loc = PulseScheme_A_10nano['Measurement file Path'], a = step),bbox_inches='tight')"
   ]
  },
  {
   "cell_type": "code",
   "execution_count": 45,
   "metadata": {},
   "outputs": [
    {
     "data": {
      "image/png": "[encoded data removed]",
      "text/plain": [
       "<Figure size 432x288 with 1 Axes>"
      ]
     },
     "metadata": {
      "needs_background": "light"
     },
     "output_type": "display_data"
    }
   ],
   "source": [
    "step = 36\n",
    "pul1 = Sweep_dir_noteil(PulseScheme_A_10nano,70,step,interval,sam)\n",
    "\n",
    "\n",
    "#Plot\n",
    "fig,ax= plt.subplots()\n",
    "ax.grid(True)\n",
    "\n",
    "plt.plot(pul1[1],pul1[0]/2,label= '{b} samples'.format(b = sam),color='red')\n",
    "\n",
    "ax.set_ylabel('V  [mV]')\n",
    "ax.set_xlabel(r't [ns]')\n",
    "ax.set_title('Cycle A at step {a}'.format(a = step )) #Voltage Offset = 3mV, Marker Ampl = 50mV \n",
    "#ax.legend(loc=0)\n",
    "#plt.legend(bbox_to_anchor=(2.05, 1), loc='upper left', borderaxespad=0.)\n",
    "plt.show()\n",
    "\n",
    "fig.savefig(r'{loc}\\Cycle A, Probe width 10nano 93 Hz mod , {a} step.jpeg'.format(loc = PulseScheme_A_10nano['Measurement file Path'], a = step),bbox_inches='tight')"
   ]
  },
  {
   "cell_type": "code",
   "execution_count": 53,
   "metadata": {},
   "outputs": [
    {
     "data": {
      "image/png": "[encoded data removed]",
      "text/plain": [
       "<Figure size 432x288 with 1 Axes>"
      ]
     },
     "metadata": {
      "needs_background": "light"
     },
     "output_type": "display_data"
    }
   ],
   "source": [
    "step = 40\n",
    "pul1 = Sweep_dir_noteil(PulseScheme_A_10nano,70,step,interval,sam)\n",
    "\n",
    "\n",
    "#Plot\n",
    "fig,ax= plt.subplots()\n",
    "ax.grid(True)\n",
    "\n",
    "plt.plot(pul1[1],pul1[0]/2,label= '{b} samples'.format(b = sam),color='red')\n",
    "\n",
    "ax.set_ylabel('V  [mV]')\n",
    "ax.set_xlabel(r't [ns]')\n",
    "ax.set_title('Cycle A at step {a}'.format(a = step )) #Voltage Offset = 3mV, Marker Ampl = 50mV \n",
    "#ax.legend(loc=0)\n",
    "#plt.legend(bbox_to_anchor=(2.05, 1), loc='upper left', borderaxespad=0.)\n",
    "plt.show()\n",
    "\n",
    "fig.savefig(r'{loc}\\Cycle A, Probe width 10nano 93 Hz mod , {a} step.jpeg'.format(loc = PulseScheme_A_10nano['Measurement file Path'], a = step),bbox_inches='tight')"
   ]
  },
  {
   "cell_type": "code",
   "execution_count": 30,
   "metadata": {},
   "outputs": [
    {
     "data": {
      "image/png": "[encoded data removed]",
      "text/plain": [
       "<Figure size 432x288 with 1 Axes>"
      ]
     },
     "metadata": {
      "needs_background": "light"
     },
     "output_type": "display_data"
    }
   ],
   "source": [
    "step = 70\n",
    "pul1 = Sweep_dir_noteil(PulseScheme_A_10nano,70,step,interval,sam)\n",
    "\n",
    "\n",
    "#Plot\n",
    "fig,ax= plt.subplots()\n",
    "ax.grid(True)\n",
    "\n",
    "plt.plot(pul1[1],pul1[0]/2,label= '{b} samples'.format(b = sam),color='red')\n",
    "\n",
    "ax.set_ylabel('V  [mV]')\n",
    "ax.set_xlabel(r't [ns]')\n",
    "ax.set_title('Cycle A at step {a}'.format(a = step )) #Voltage Offset = 3mV, Marker Ampl = 50mV \n",
    "#ax.legend(loc=0)\n",
    "#plt.legend(bbox_to_anchor=(2.05, 1), loc='upper left', borderaxespad=0.)\n",
    "plt.show()\n",
    "\n",
    "fig.savefig(r'{loc}\\Cycle A, Probe width 10nano 93 Hz mod {a} step.jpeg'.format(loc = PulseScheme_A_10nano['Measurement file Path'], a = step),bbox_inches='tight')"
   ]
  },
  {
   "cell_type": "code",
   "execution_count": 31,
   "metadata": {},
   "outputs": [
    {
     "data": {
      "image/png": "[encoded data removed]",
      "text/plain": [
       "<Figure size 432x288 with 1 Axes>"
      ]
     },
     "metadata": {
      "needs_background": "light"
     },
     "output_type": "display_data"
    }
   ],
   "source": [
    "step = 0\n",
    "pul1 = Sweep_dir_noteil(PulseScheme_B_10nano,70,step,interval,sam)\n",
    "\n",
    "\n",
    "#Plot\n",
    "fig,ax= plt.subplots()\n",
    "ax.grid(True)\n",
    "\n",
    "plt.plot(pul1[1],pul1[0]/2,label= '{b} samples'.format(b = sam),color='red')\n",
    "\n",
    "ax.set_ylabel('V  [mV]')\n",
    "ax.set_xlabel(r't [ns]')\n",
    "ax.set_title('Cycle B at step {a}'.format(a = step )) #Voltage Offset = 3mV, Marker Ampl = 50mV \n",
    "#ax.legend(loc=0)\n",
    "#plt.legend(bbox_to_anchor=(2.05, 1), loc='upper left', borderaxespad=0.)\n",
    "plt.show()\n",
    "\n",
    "fig.savefig(r'{loc}\\Cycle B, Probe width 10nano 93 Hz mod {a} step.jpeg'.format(loc = PulseScheme_A_10nano['Measurement file Path'], a = step),bbox_inches='tight')"
   ]
  },
  {
   "cell_type": "code",
   "execution_count": 21,
   "metadata": {},
   "outputs": [
    {
     "data": {
      "image/png": "[encoded data removed]",
      "text/plain": [
       "<Figure size 432x288 with 1 Axes>"
      ]
     },
     "metadata": {
      "needs_background": "light"
     },
     "output_type": "display_data"
    }
   ],
   "source": [
    "step = 70\n",
    "pul1 = Sweep_dir_noteil(PulseScheme_B_10nano,70,step,interval,sam)\n",
    "\n",
    "\n",
    "#Plot\n",
    "fig,ax= plt.subplots()\n",
    "ax.grid(True)\n",
    "\n",
    "plt.plot(pul1[1],pul1[0]/2,label= '{b} samples'.format(b = sam),color='red')\n",
    "\n",
    "ax.set_ylabel('V  [mV]')\n",
    "ax.set_xlabel(r't [ns]')\n",
    "ax.set_title('Cycle B at step {a}'.format(a = step )) #Voltage Offset = 3mV, Marker Ampl = 50mV \n",
    "#ax.legend(loc=0)\n",
    "#plt.legend(bbox_to_anchor=(2.05, 1), loc='upper left', borderaxespad=0.)\n",
    "plt.show()\n",
    "\n",
    "#fig.savefig(r'{loc}\\Cycle B, Probe width 10nano 93 Hz mod {a} step.jpeg'.format(loc = PulseScheme_A_10nano['Measurement file Path'], a = step),bbox_inches='tight')"
   ]
  },
  {
   "cell_type": "code",
   "execution_count": 33,
   "metadata": {},
   "outputs": [
    {
     "data": {
      "image/png": "[encoded data removed]",
      "text/plain": [
       "<Figure size 432x288 with 1 Axes>"
      ]
     },
     "metadata": {
      "needs_background": "light"
     },
     "output_type": "display_data"
    }
   ],
   "source": [
    "step = 0\n",
    "pul1 = Sweep_dir_noteil(PulseScheme_B_10nano_empty,70,step,interval,sam)\n",
    "\n",
    "\n",
    "#Plot\n",
    "fig,ax= plt.subplots()\n",
    "ax.grid(True)\n",
    "\n",
    "plt.plot(pul1[1],pul1[0]/2,label= '{b} samples'.format(b = sam),color='red')\n",
    "\n",
    "ax.set_ylabel('V  [mV]')\n",
    "ax.set_xlabel(r't [ns]')\n",
    "ax.set_title('Cycle B at step {a}'.format(a = step )) #Voltage Offset = 3mV, Marker Ampl = 50mV \n",
    "#ax.legend(loc=0)\n",
    "#plt.legend(bbox_to_anchor=(2.05, 1), loc='upper left', borderaxespad=0.)\n",
    "plt.show()\n",
    "\n",
    "fig.savefig(r'{loc}\\Cycle B, Probe width 50 nano 93 Hz mod {a} step empty .jpeg'.format(loc = PulseScheme_A_10nano['Measurement file Path'], a = step),bbox_inches='tight')"
   ]
  },
  {
   "cell_type": "code",
   "execution_count": 39,
   "metadata": {},
   "outputs": [],
   "source": [
    "sweeping_run_a_10nano = Sweeping_Single_List_File_teil(PulseScheme_A_10nano,30,interval,sam,0,30,AWG_Settings_10nano,'A')[0]"
   ]
  },
  {
   "cell_type": "code",
   "execution_count": 40,
   "metadata": {},
   "outputs": [],
   "source": [
    "sweeping_run_b_10nano = Sweeping_Single_List_File_teil(PulseScheme_B_10nano,30,interval,sam,0,30,AWG_Settings_10nano,'B')[0]"
   ]
  },
  {
   "cell_type": "code",
   "execution_count": 41,
   "metadata": {},
   "outputs": [],
   "source": [
    "#Exporting pickle\n",
    "\n",
    "with open(r\"{dict}\\cycleA_71steps_93Hz_10nano_.p\".format(dict = PulseScheme_A_10nano['Measurement file Path']), \"wb\") as k:\n",
    "    pickle.dump(sweeping_run_a_10nano, k)\n",
    "\n",
    "\n",
    "with open(r\"{dict}\\cycleB_71steps_93Hz_10nano_.p\".format(dict = PulseScheme_B_10nano['Measurement file Path']), \"wb\") as h:\n",
    "    pickle.dump(sweeping_run_b_10nano, h)"
   ]
  },
  {
   "cell_type": "code",
   "execution_count": 53,
   "metadata": {},
   "outputs": [],
   "source": [
    "AWG_Settings_10nano_empty= {\n",
    "    'Visa Resource Name': 'TCPIP0::ibn3-036.ibn-net.kfa-juelich.de::hislip0::INSTR',\n",
    "    'Voltage Amplitude':700,\n",
    "    'Clock Sample Frecuency':2999808000,\n",
    "    'Output_Channel': 1,\n",
    "    'Mode': 'STS',\n",
    "    'Trigger In Threshold' : 1,\n",
    "    'Output Rout': 'DC', #DAC output rout only has the SMA outputs: Direct Out and (Averaged) Direct Out # DC\n",
    "    'Data Directory': r'D:\\Alejandro\\Pulses\\diode measurements\\Prepared Pulse Schemes CSV\\50,20\\10nano\\empty B cycle'\n",
    "}"
   ]
  },
  {
   "cell_type": "code",
   "execution_count": 54,
   "metadata": {},
   "outputs": [],
   "source": [
    "sweeping_run_b_10nano_empty = Sweeping_Single_List_File_teil(PulseScheme_B_10nano_empty,70,interval,sam,0,70,AWG_Settings_10nano_empty,'B')[0]"
   ]
  },
  {
   "cell_type": "code",
   "execution_count": 55,
   "metadata": {},
   "outputs": [],
   "source": [
    "#Exporting pickle\n",
    "\n",
    "with open(r\"{dict}\\cycleB_71steps_93Hz_10nano_empty.p\".format(dict = PulseScheme_B_10nano['Measurement file Path']), \"wb\") as h:\n",
    "    pickle.dump(sweeping_run_b_10nano_empty, h)"
   ]
  },
  {
   "cell_type": "code",
   "execution_count": 16,
   "metadata": {},
   "outputs": [],
   "source": [
    "#Importing Pickle\n",
    "\n",
    "with open(r\"{dict}\\cycleA_71steps_93Hz_10nano_.p\".format(dict = PulseScheme_A_10nano['Measurement file Path']), \"rb\") as j:\n",
    "    sweeping_runa_10nano = pickle.load(j)\n",
    "\n",
    "with open(r\"{dict}\\cycleB_71steps_93Hz_10nano_.p\".format(dict = PulseScheme_A_10nano['Measurement file Path']), \"rb\") as f:\n",
    "    sweeping_runb_10nano= pickle.load(f)"
   ]
  },
  {
   "cell_type": "code",
   "execution_count": 20,
   "metadata": {},
   "outputs": [
    {
     "data": {
      "text/plain": [
       "{'Pulse File Location, at step 0': 'D:\\\\Alejandro\\\\Pulses\\\\diode measurements\\\\Prepared Pulse Schemes CSV\\\\50,20\\\\10nano\\\\SegmentA_336_0.csv',\n",
       " 'Pulse File Location, at step 1': 'D:\\\\Alejandro\\\\Pulses\\\\diode measurements\\\\Prepared Pulse Schemes CSV\\\\50,20\\\\10nano\\\\SegmentA_336_1.csv',\n",
       " 'Pulse File Location, at step 2': 'D:\\\\Alejandro\\\\Pulses\\\\diode measurements\\\\Prepared Pulse Schemes CSV\\\\50,20\\\\10nano\\\\SegmentA_336_2.csv',\n",
       " 'Pulse File Location, at step 3': 'D:\\\\Alejandro\\\\Pulses\\\\diode measurements\\\\Prepared Pulse Schemes CSV\\\\50,20\\\\10nano\\\\SegmentA_336_3.csv',\n",
       " 'Pulse File Location, at step 4': 'D:\\\\Alejandro\\\\Pulses\\\\diode measurements\\\\Prepared Pulse Schemes CSV\\\\50,20\\\\10nano\\\\SegmentA_336_4.csv',\n",
       " 'Pulse File Location, at step 5': 'D:\\\\Alejandro\\\\Pulses\\\\diode measurements\\\\Prepared Pulse Schemes CSV\\\\50,20\\\\10nano\\\\SegmentA_336_5.csv',\n",
       " 'Pulse File Location, at step 6': 'D:\\\\Alejandro\\\\Pulses\\\\diode measurements\\\\Prepared Pulse Schemes CSV\\\\50,20\\\\10nano\\\\SegmentA_336_6.csv',\n",
       " 'Pulse File Location, at step 7': 'D:\\\\Alejandro\\\\Pulses\\\\diode measurements\\\\Prepared Pulse Schemes CSV\\\\50,20\\\\10nano\\\\SegmentA_336_7.csv',\n",
       " 'Pulse File Location, at step 8': 'D:\\\\Alejandro\\\\Pulses\\\\diode measurements\\\\Prepared Pulse Schemes CSV\\\\50,20\\\\10nano\\\\SegmentA_336_8.csv',\n",
       " 'Pulse File Location, at step 9': 'D:\\\\Alejandro\\\\Pulses\\\\diode measurements\\\\Prepared Pulse Schemes CSV\\\\50,20\\\\10nano\\\\SegmentA_336_9.csv',\n",
       " 'Pulse File Location, at step 10': 'D:\\\\Alejandro\\\\Pulses\\\\diode measurements\\\\Prepared Pulse Schemes CSV\\\\50,20\\\\10nano\\\\SegmentA_336_10.csv',\n",
       " 'Pulse File Location, at step 11': 'D:\\\\Alejandro\\\\Pulses\\\\diode measurements\\\\Prepared Pulse Schemes CSV\\\\50,20\\\\10nano\\\\SegmentA_336_11.csv',\n",
       " 'Pulse File Location, at step 12': 'D:\\\\Alejandro\\\\Pulses\\\\diode measurements\\\\Prepared Pulse Schemes CSV\\\\50,20\\\\10nano\\\\SegmentA_336_12.csv',\n",
       " 'Pulse File Location, at step 13': 'D:\\\\Alejandro\\\\Pulses\\\\diode measurements\\\\Prepared Pulse Schemes CSV\\\\50,20\\\\10nano\\\\SegmentA_336_13.csv',\n",
       " 'Pulse File Location, at step 14': 'D:\\\\Alejandro\\\\Pulses\\\\diode measurements\\\\Prepared Pulse Schemes CSV\\\\50,20\\\\10nano\\\\SegmentA_336_14.csv',\n",
       " 'Pulse File Location, at step 15': 'D:\\\\Alejandro\\\\Pulses\\\\diode measurements\\\\Prepared Pulse Schemes CSV\\\\50,20\\\\10nano\\\\SegmentA_336_15.csv',\n",
       " 'Pulse File Location, at step 16': 'D:\\\\Alejandro\\\\Pulses\\\\diode measurements\\\\Prepared Pulse Schemes CSV\\\\50,20\\\\10nano\\\\SegmentA_336_16.csv',\n",
       " 'Pulse File Location, at step 17': 'D:\\\\Alejandro\\\\Pulses\\\\diode measurements\\\\Prepared Pulse Schemes CSV\\\\50,20\\\\10nano\\\\SegmentA_336_17.csv',\n",
       " 'Pulse File Location, at step 18': 'D:\\\\Alejandro\\\\Pulses\\\\diode measurements\\\\Prepared Pulse Schemes CSV\\\\50,20\\\\10nano\\\\SegmentA_336_18.csv',\n",
       " 'Pulse File Location, at step 19': 'D:\\\\Alejandro\\\\Pulses\\\\diode measurements\\\\Prepared Pulse Schemes CSV\\\\50,20\\\\10nano\\\\SegmentA_336_19.csv',\n",
       " 'Pulse File Location, at step 20': 'D:\\\\Alejandro\\\\Pulses\\\\diode measurements\\\\Prepared Pulse Schemes CSV\\\\50,20\\\\10nano\\\\SegmentA_336_20.csv',\n",
       " 'Pulse File Location, at step 21': 'D:\\\\Alejandro\\\\Pulses\\\\diode measurements\\\\Prepared Pulse Schemes CSV\\\\50,20\\\\10nano\\\\SegmentA_336_21.csv',\n",
       " 'Pulse File Location, at step 22': 'D:\\\\Alejandro\\\\Pulses\\\\diode measurements\\\\Prepared Pulse Schemes CSV\\\\50,20\\\\10nano\\\\SegmentA_336_22.csv',\n",
       " 'Pulse File Location, at step 23': 'D:\\\\Alejandro\\\\Pulses\\\\diode measurements\\\\Prepared Pulse Schemes CSV\\\\50,20\\\\10nano\\\\SegmentA_336_23.csv',\n",
       " 'Pulse File Location, at step 24': 'D:\\\\Alejandro\\\\Pulses\\\\diode measurements\\\\Prepared Pulse Schemes CSV\\\\50,20\\\\10nano\\\\SegmentA_336_24.csv',\n",
       " 'Pulse File Location, at step 25': 'D:\\\\Alejandro\\\\Pulses\\\\diode measurements\\\\Prepared Pulse Schemes CSV\\\\50,20\\\\10nano\\\\SegmentA_336_25.csv',\n",
       " 'Pulse File Location, at step 26': 'D:\\\\Alejandro\\\\Pulses\\\\diode measurements\\\\Prepared Pulse Schemes CSV\\\\50,20\\\\10nano\\\\SegmentA_336_26.csv',\n",
       " 'Pulse File Location, at step 27': 'D:\\\\Alejandro\\\\Pulses\\\\diode measurements\\\\Prepared Pulse Schemes CSV\\\\50,20\\\\10nano\\\\SegmentA_336_27.csv',\n",
       " 'Pulse File Location, at step 28': 'D:\\\\Alejandro\\\\Pulses\\\\diode measurements\\\\Prepared Pulse Schemes CSV\\\\50,20\\\\10nano\\\\SegmentA_336_28.csv',\n",
       " 'Pulse File Location, at step 29': 'D:\\\\Alejandro\\\\Pulses\\\\diode measurements\\\\Prepared Pulse Schemes CSV\\\\50,20\\\\10nano\\\\SegmentA_336_29.csv',\n",
       " 'Pulse File Location, at step 30': 'D:\\\\Alejandro\\\\Pulses\\\\diode measurements\\\\Prepared Pulse Schemes CSV\\\\50,20\\\\10nano\\\\SegmentA_336_30.csv',\n",
       " 'Pulse File Location, at step 31': 'D:\\\\Alejandro\\\\Pulses\\\\diode measurements\\\\Prepared Pulse Schemes CSV\\\\50,20\\\\10nano\\\\SegmentA_336_31.csv',\n",
       " 'Pulse File Location, at step 32': 'D:\\\\Alejandro\\\\Pulses\\\\diode measurements\\\\Prepared Pulse Schemes CSV\\\\50,20\\\\10nano\\\\SegmentA_336_32.csv',\n",
       " 'Pulse File Location, at step 33': 'D:\\\\Alejandro\\\\Pulses\\\\diode measurements\\\\Prepared Pulse Schemes CSV\\\\50,20\\\\10nano\\\\SegmentA_336_33.csv',\n",
       " 'Pulse File Location, at step 34': 'D:\\\\Alejandro\\\\Pulses\\\\diode measurements\\\\Prepared Pulse Schemes CSV\\\\50,20\\\\10nano\\\\SegmentA_336_34.csv',\n",
       " 'Pulse File Location, at step 35': 'D:\\\\Alejandro\\\\Pulses\\\\diode measurements\\\\Prepared Pulse Schemes CSV\\\\50,20\\\\10nano\\\\SegmentA_336_35.csv',\n",
       " 'Pulse File Location, at step 36': 'D:\\\\Alejandro\\\\Pulses\\\\diode measurements\\\\Prepared Pulse Schemes CSV\\\\50,20\\\\10nano\\\\SegmentA_336_36.csv',\n",
       " 'Pulse File Location, at step 37': 'D:\\\\Alejandro\\\\Pulses\\\\diode measurements\\\\Prepared Pulse Schemes CSV\\\\50,20\\\\10nano\\\\SegmentA_336_37.csv',\n",
       " 'Pulse File Location, at step 38': 'D:\\\\Alejandro\\\\Pulses\\\\diode measurements\\\\Prepared Pulse Schemes CSV\\\\50,20\\\\10nano\\\\SegmentA_336_38.csv',\n",
       " 'Pulse File Location, at step 39': 'D:\\\\Alejandro\\\\Pulses\\\\diode measurements\\\\Prepared Pulse Schemes CSV\\\\50,20\\\\10nano\\\\SegmentA_336_39.csv',\n",
       " 'Pulse File Location, at step 40': 'D:\\\\Alejandro\\\\Pulses\\\\diode measurements\\\\Prepared Pulse Schemes CSV\\\\50,20\\\\10nano\\\\SegmentA_336_40.csv'}"
      ]
     },
     "execution_count": 20,
     "metadata": {},
     "output_type": "execute_result"
    }
   ],
   "source": [
    "sweeping_runa_10nano"
   ]
  },
  {
   "cell_type": "code",
   "execution_count": null,
   "metadata": {},
   "outputs": [
    {
     "data": {
      "text/plain": [
       "'D:\\\\Alejandro\\\\Pulses\\\\diode measurements\\\\Prepared Pulse Schemes CSV\\\\50,20\\\\1mili\\\\SegmentB_672816_30.csv'"
      ]
     },
     "metadata": {},
     "output_type": "display_data"
    }
   ],
   "source": [
    "sweeping_run_b_10nano['Pulse File Location, at step 30']"
   ]
  },
  {
   "cell_type": "code",
   "execution_count": null,
   "metadata": {},
   "outputs": [
    {
     "data": {
      "text/plain": [
       "8000"
      ]
     },
     "metadata": {},
     "output_type": "display_data"
    }
   ],
   "source": [
    "loop_10nano"
   ]
  },
  {
   "cell_type": "code",
   "execution_count": 24,
   "metadata": {
    "scrolled": true
   },
   "outputs": [
    {
     "name": "stdout",
     "output_type": "stream",
     "text": [
      "Sequence loaded with the following segment data \"1,50000,0,1,0,335,2,50000,0,1,0,335\" and the advancement method is COND\n"
     ]
    },
    {
     "data": {
      "text/plain": [
       "0"
      ]
     },
     "execution_count": 24,
     "metadata": {},
     "output_type": "execute_result"
    }
   ],
   "source": [
    "Sequence_File(M8190A,sweeping_run_a_10nano['Pulse File Location, at step 70'],sweeping_run_b_10nano['Pulse File Location, at step 70'],loop_number)"
   ]
  },
  {
   "cell_type": "code",
   "execution_count": null,
   "metadata": {},
   "outputs": [],
   "source": []
  },
  {
   "cell_type": "markdown",
   "metadata": {},
   "source": [
    "# Loading"
   ]
  },
  {
   "cell_type": "code",
   "execution_count": 51,
   "metadata": {
    "scrolled": true
   },
   "outputs": [
    {
     "data": {
      "text/plain": [
       "12"
      ]
     },
     "execution_count": 51,
     "metadata": {},
     "output_type": "execute_result"
    }
   ],
   "source": [
    "M8190A.write('SEQ:DEL:ALL')"
   ]
  },
  {
   "cell_type": "code",
   "execution_count": null,
   "metadata": {
    "scrolled": false
   },
   "outputs": [
    {
     "name": "stdout",
     "output_type": "stream",
     "text": [
      "Dummy File Loaded and playing\n",
      "Dummy File stopped and erased from AWGs memmory\n"
     ]
    }
   ],
   "source": [
    "Dummy_File(M8190A)"
   ]
  },
  {
   "cell_type": "code",
   "execution_count": 52,
   "metadata": {},
   "outputs": [],
   "source": [
    "Lock_In_Settings = {\n",
    "'Time Constant' : '100ms',\n",
    "'Sensitivity' : '50 miliVolts',\n",
    "'Reserve' : 'Normal',\n",
    "'db' : 24,\n",
    "'Modulation': '93Hz'\n",
    "}"
   ]
  },
  {
   "cell_type": "code",
   "execution_count": 44,
   "metadata": {},
   "outputs": [
    {
     "data": {
      "text/plain": [
       "60000"
      ]
     },
     "execution_count": 44,
     "metadata": {},
     "output_type": "execute_result"
    }
   ],
   "source": [
    "loop_number"
   ]
  },
  {
   "cell_type": "code",
   "execution_count": 53,
   "metadata": {},
   "outputs": [
    {
     "name": "stdout",
     "output_type": "stream",
     "text": [
      "Sequence loaded with the following segment data \"1,60000,0,1,0,287,2,60000,0,1,0,287\" and the advancement method is COND\n",
      "Average Value for measurement at step 0 is 1.1507559346110734 V\n",
      "Sequence loaded with the following segment data \"1,60000,0,1,0,287,2,60000,0,1,0,287\" and the advancement method is COND\n",
      "Average Value for measurement at step 1 is 1.1426362066839832 V\n",
      "Sequence loaded with the following segment data \"1,60000,0,1,0,287,2,60000,0,1,0,287\" and the advancement method is COND\n",
      "Average Value for measurement at step 2 is 1.133346923990051 V\n",
      "Sequence loaded with the following segment data \"1,60000,0,1,0,287,2,60000,0,1,0,287\" and the advancement method is COND\n",
      "Average Value for measurement at step 3 is 1.1221522555392236 V\n",
      "Sequence loaded with the following segment data \"1,60000,0,1,0,287,2,60000,0,1,0,287\" and the advancement method is COND\n",
      "Average Value for measurement at step 4 is 1.1420410038047946 V\n",
      "Sequence loaded with the following segment data \"1,60000,0,1,0,287,2,60000,0,1,0,287\" and the advancement method is COND\n",
      "Average Value for measurement at step 5 is 1.1857018906599424 V\n",
      "Sequence loaded with the following segment data \"1,60000,0,1,0,287,2,60000,0,1,0,287\" and the advancement method is COND\n",
      "Average Value for measurement at step 6 is 1.2298811578722226 V\n",
      "Sequence loaded with the following segment data \"1,60000,0,1,0,287,2,60000,0,1,0,287\" and the advancement method is COND\n",
      "Average Value for measurement at step 7 is 1.2617991408703533 V\n",
      "Sequence loaded with the following segment data \"1,60000,0,1,0,287,2,60000,0,1,0,287\" and the advancement method is COND\n",
      "Average Value for measurement at step 8 is 1.2893623888374819 V\n",
      "Sequence loaded with the following segment data \"1,60000,0,1,0,287,2,60000,0,1,0,287\" and the advancement method is COND\n",
      "Average Value for measurement at step 9 is 1.2795484779607882 V\n",
      "Sequence loaded with the following segment data \"1,60000,0,1,0,287,2,60000,0,1,0,287\" and the advancement method is COND\n",
      "Average Value for measurement at step 10 is 1.2628561540730427 V\n",
      "Sequence loaded with the following segment data \"1,60000,0,1,0,287,2,60000,0,1,0,287\" and the advancement method is COND\n",
      "Average Value for measurement at step 11 is 1.231802264472665 V\n",
      "Sequence loaded with the following segment data \"1,60000,0,1,0,287,2,60000,0,1,0,287\" and the advancement method is COND\n",
      "Average Value for measurement at step 12 is 1.2055796565068089 V\n",
      "Sequence loaded with the following segment data \"1,60000,0,1,0,287,2,60000,0,1,0,287\" and the advancement method is COND\n",
      "Average Value for measurement at step 13 is 1.1743065400270298 V\n",
      "Sequence loaded with the following segment data \"1,60000,0,1,0,287,2,60000,0,1,0,287\" and the advancement method is COND\n",
      "Average Value for measurement at step 14 is 1.1301280662503337 V\n",
      "Sequence loaded with the following segment data \"1,60000,0,1,0,287,2,60000,0,1,0,287\" and the advancement method is COND\n",
      "Average Value for measurement at step 15 is 1.10315838415583 V\n",
      "Sequence loaded with the following segment data \"1,60000,0,1,0,287,2,60000,0,1,0,287\" and the advancement method is COND\n",
      "Average Value for measurement at step 16 is 1.1300828126820435 V\n",
      "Sequence loaded with the following segment data \"1,60000,0,1,0,287,2,60000,0,1,0,287\" and the advancement method is COND\n",
      "Average Value for measurement at step 17 is 1.1728785529144548 V\n",
      "Sequence loaded with the following segment data \"1,60000,0,1,0,287,2,60000,0,1,0,287\" and the advancement method is COND\n",
      "Average Value for measurement at step 18 is 1.2335230187716966 V\n",
      "Sequence loaded with the following segment data \"1,60000,0,1,0,287,2,60000,0,1,0,287\" and the advancement method is COND\n",
      "Average Value for measurement at step 19 is 1.2620225804463974 V\n",
      "Sequence loaded with the following segment data \"1,60000,0,1,0,287,2,60000,0,1,0,287\" and the advancement method is COND\n",
      "Average Value for measurement at step 20 is 1.2685959265657143 V\n",
      "Sequence loaded with the following segment data \"1,60000,0,1,0,287,2,60000,0,1,0,287\" and the advancement method is COND\n",
      "Average Value for measurement at step 21 is 1.280929238502563 V\n",
      "Sequence loaded with the following segment data \"1,60000,0,1,0,287,2,60000,0,1,0,287\" and the advancement method is COND\n",
      "Average Value for measurement at step 22 is 1.2654700089524575 V\n",
      "Sequence loaded with the following segment data \"1,60000,0,1,0,287,2,60000,0,1,0,287\" and the advancement method is COND\n",
      "Average Value for measurement at step 23 is 1.2724426127749837 V\n",
      "Sequence loaded with the following segment data \"1,60000,0,1,0,287,2,60000,0,1,0,287\" and the advancement method is COND\n",
      "Average Value for measurement at step 24 is 1.2202965415769005 V\n",
      "Sequence loaded with the following segment data \"1,60000,0,1,0,287,2,60000,0,1,0,287\" and the advancement method is COND\n",
      "Average Value for measurement at step 25 is 1.1917371261948126 V\n",
      "Sequence loaded with the following segment data \"1,60000,0,1,0,287,2,60000,0,1,0,287\" and the advancement method is COND\n",
      "Average Value for measurement at step 26 is 1.1555634691779513 V\n",
      "Sequence loaded with the following segment data \"1,60000,0,1,0,287,2,60000,0,1,0,287\" and the advancement method is COND\n",
      "Average Value for measurement at step 27 is 1.1494841643990714 V\n",
      "Sequence loaded with the following segment data \"1,60000,0,1,0,287,2,60000,0,1,0,287\" and the advancement method is COND\n",
      "Average Value for measurement at step 28 is 1.1641826967122728 V\n",
      "Sequence loaded with the following segment data \"1,60000,0,1,0,287,2,60000,0,1,0,287\" and the advancement method is COND\n",
      "Average Value for measurement at step 29 is 1.198024413674754 V\n",
      "Sequence loaded with the following segment data \"1,60000,0,1,0,287,2,60000,0,1,0,287\" and the advancement method is COND\n",
      "Average Value for measurement at step 30 is 1.2377043049701466 V\n"
     ]
    }
   ],
   "source": [
    "playingtime = 7\n",
    "\n",
    "Diode_Signal, averaged_data = Voltage_Autocorrelation_loop_cut(M8190A,DAQ_Settings1,playingtime,sweeping_run_a_10nano,sweeping_run_b_10nano,PulseScheme_A_10nano['Measurement file Path'],Lock_In_Settings,loop_number,2)"
   ]
  },
  {
   "cell_type": "code",
   "execution_count": 54,
   "metadata": {},
   "outputs": [
    {
     "data": {
      "image/png": "[encoded data removed]",
      "text/plain": [
       "<Figure size 432x288 with 1 Axes>"
      ]
     },
     "metadata": {
      "needs_background": "light"
     },
     "output_type": "display_data"
    }
   ],
   "source": [
    "fig,ax= plt.subplots()\n",
    "ax.grid(True)\n",
    "for i in range(0,len(Diode_Signal)):\n",
    "    plt.plot(Diode_Signal[i][1],Diode_Signal[i][0],label= 'Step {st}'.format(st = i ))\n",
    "\n",
    "ax.set_ylabel(r'V  [V]')\n",
    "ax.set_xlabel('t  [s]')\n",
    "ax.set_title(r' Diode Signal at Different Steps,  {b} Samples, 10nano seconds probe duration'.format(b = len(Diode_Signal[0][1]) ))\n",
    "#ax.legend(bbox_to_anchor=(1.05, 1), loc='upper left', borderaxespad=0.)\n",
    "#ax.legend(loc=0)\n",
    "plt.show()\n",
    "\n",
    "fig.savefig(r'{loc}\\Diode Signal time cstant = {a}, sensitivity {b},{c} daqseconds, , probe duration 100nano ,71 steps, 93 Hz no legend, .jpeg'.format(loc = PulseScheme_A_10nano['Measurement file Path'],a = Lock_In_Settings['Time Constant'], b = Lock_In_Settings['Sensitivity'], c = playingtime),bbox_inches='tight')"
   ]
  },
  {
   "cell_type": "code",
   "execution_count": 55,
   "metadata": {},
   "outputs": [],
   "source": [
    "time_delay = np.linspace(-20,20,31)"
   ]
  },
  {
   "cell_type": "code",
   "execution_count": null,
   "metadata": {},
   "outputs": [],
   "source": [
    "%matplotlib widget"
   ]
  },
  {
   "cell_type": "code",
   "execution_count": 41,
   "metadata": {},
   "outputs": [
    {
     "data": {
      "text/plain": [
       "1.25e-10"
      ]
     },
     "execution_count": 41,
     "metadata": {},
     "output_type": "execute_result"
    }
   ],
   "source": [
    "1/8e9"
   ]
  },
  {
   "cell_type": "code",
   "execution_count": 57,
   "metadata": {},
   "outputs": [
    {
     "data": {
      "image/png": "[encoded data removed]",
      "text/plain": [
       "<Figure size 432x288 with 1 Axes>"
      ]
     },
     "metadata": {
      "needs_background": "light"
     },
     "output_type": "display_data"
    }
   ],
   "source": [
    "#change this to V regime\n",
    "fig,axes = plt.subplots()\n",
    "\n",
    "axes.grid(True)\n",
    "\n",
    "plt.plot(time_delay,averaged_data,'.-',label=r'10 ns Probe Width ',color='brown')\n",
    "#plt.plot(tm,pul,label = '{a} samples'.format(a = len(pul)))\n",
    "\n",
    "axes.set_xlabel(r'time delay [ns]')\n",
    "axes.set_ylabel(r'Diode Signal [V]')\n",
    "axes.set_title('Auto-Correlation 31 steps ')\n",
    "\n",
    "axes.legend(loc = 0)\n",
    "plt.show()\n",
    "\n",
    "fig.savefig(r'{loc}\\Autocorrelation function 31 steps 10nano 93Hz length tc = {a}, sens {b}, {c}s DAQ .jpeg'.format(loc = PulseScheme_A_10nano['Measurement file Path'],a = Lock_In_Settings['Time Constant'], b = Lock_In_Settings['Sensitivity'], c = playingtime ))"
   ]
  },
  {
   "cell_type": "code",
   "execution_count": null,
   "metadata": {},
   "outputs": [],
   "source": [
    "100,\n",
    "50,\n",
    "25\n",
    "10"
   ]
  }
 ],
 "metadata": {
  "interpreter": {
   "hash": "9a32f0bf53af15acd232504180dc0ef28b8a6ac1a49da0a6c374e1f45bb445b6"
  },
  "kernelspec": {
   "display_name": "Python 3.8.5 64-bit ('base': conda)",
   "name": "python3"
  },
  "language_info": {
   "codemirror_mode": {
    "name": "ipython",
    "version": 3
   },
   "file_extension": ".py",
   "mimetype": "text/x-python",
   "name": "python",
   "nbconvert_exporter": "python",
   "pygments_lexer": "ipython3",
   "version": "3.8.5"
  },
  "orig_nbformat": 4
 },
 "nbformat": 4,
 "nbformat_minor": 2
}
