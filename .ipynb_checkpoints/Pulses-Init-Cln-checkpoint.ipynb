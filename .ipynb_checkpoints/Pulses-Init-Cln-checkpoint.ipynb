{
 "cells": [
  {
   "cell_type": "code",
   "execution_count": 1,
   "metadata": {},
   "outputs": [],
   "source": [
    "%matplotlib inline "
   ]
  },
  {
   "cell_type": "code",
   "execution_count": 2,
   "metadata": {},
   "outputs": [],
   "source": [
    "#I imported stuff that at the end didn't use...\n",
    "import numpy as np\n",
    "import matplotlib\n",
    "import matplotlib.pyplot as plt\n",
    "import scipy as sp\n",
    "from matplotlib import animation\n",
    "from matplotlib.animation import FuncAnimation"
   ]
  },
  {
   "cell_type": "markdown",
   "metadata": {},
   "source": [
    "#### Here we define the corresponding dictionaries containing the information of the pulses"
   ]
  },
  {
   "cell_type": "code",
   "execution_count": 33,
   "metadata": {},
   "outputs": [],
   "source": [
    "Rabi={\n",
    "    'Amplitude' : 4 ,\n",
    "    'Start Duration' : 5,\n",
    "    'End Duration': 5,\n",
    "    'Start time' : 0,\n",
    "    'End time': 0,\n",
    "}\n",
    "# Maybe I should just rename this Pump, since from its form right now it doesn't the dynamics of the states are far from clear\n",
    "#I dont really use End time for the this pulse since I am not sweeping it"
   ]
  },
  {
   "cell_type": "code",
   "execution_count": 34,
   "metadata": {},
   "outputs": [],
   "source": [
    "Probe1={\n",
    "    'Amplitude' : 2 ,\n",
    "    'Start Duration' : 7,\n",
    "    'End Duration': 5 ,\n",
    "    'Start time' : 0,\n",
    "    'End time': 20,\n",
    "}"
   ]
  },
  {
   "cell_type": "code",
   "execution_count": 5,
   "metadata": {},
   "outputs": [],
   "source": [
    "Probe2={\n",
    "    'Amplitude' : 3 ,\n",
    "    'Start Duration' : 9,\n",
    "    'End Duration': 20 ,\n",
    "    'Start time' : 0,\n",
    "    'End time': 5,\n",
    "}\n",
    "\n",
    "#I mainly used this one to check on other initial conditions without having to rename everything so often, maybe I should implement\n",
    "#the classes as you suggested me"
   ]
  },
  {
   "cell_type": "markdown",
   "metadata": {},
   "source": [
    "### Pulse function and Sweeping:"
   ]
  },
  {
   "cell_type": "code",
   "execution_count": 6,
   "metadata": {},
   "outputs": [],
   "source": [
    "def Pl(Pulse,t):\n",
    "    \"\"\"Primitive rectangular pulse, A corresponds to the amplitude of the pulse, t should be evaluated over the array of time\"\"\"\n",
    "    \"\"\"given by the points starting at Start time, through the duration given by Start Duration \"\"\"\n",
    "    \n",
    "    pul= Pulse['Amplitude']* (  Pulse['Start time'] <=  t <= Pulse['Start Duration'] + Pulse['Start time'] )\n",
    "   \n",
    "    return pul"
   ]
  },
  {
   "cell_type": "code",
   "execution_count": 7,
   "metadata": {},
   "outputs": [],
   "source": [
    "def genSweep(Pulse1,Pulse2,time,dt):\n",
    "    \"Generates the two pulses: Pulse 1 and Pulse 2, Pulse2 will be swept\"\n",
    "    \"in the interval [0, Endtime] with a time step given by dt, \"\n",
    "    plu1=np.array([Pl(Pulse1,t) for t in time])\n",
    "    for i in range(Pulse2['Start time'], Pulse2['End time']+dt,dt): #it is kind of ambiguos to define the sweeping interval in this way I think...\n",
    "        plu2=np.array([ Pl(Pulse2,(t-i)) for t in time])\n",
    "        pulss= np.add(plu1,plu2)\n",
    "    return pulss\n",
    "        \n",
    "    \n",
    "    "
   ]
  },
  {
   "cell_type": "code",
   "execution_count": 18,
   "metadata": {},
   "outputs": [],
   "source": [
    "#the time interval to evaluate the pulses and make the corresponding plot\n",
    "trog=np.linspace(-1,50,1000)"
   ]
  },
  {
   "cell_type": "code",
   "execution_count": 35,
   "metadata": {},
   "outputs": [],
   "source": [
    "#Evaluating the corresponding function over the time interval trog with Rabi and Probe 1 pulses, with a sweeping step dt=1\n",
    "ar=genSweep(Rabi,Probe1,trog,1)"
   ]
  },
  {
   "cell_type": "code",
   "execution_count": 36,
   "metadata": {
    "scrolled": false
   },
   "outputs": [
    {
     "data": {
      "image/png": "[encoded data removed]",
      "text/plain": [
       "<Figure size 432x288 with 1 Axes>"
      ]
     },
     "metadata": {
      "needs_background": "light"
     },
     "output_type": "display_data"
    }
   ],
   "source": [
    "%matplotlib inline\n",
    "\n",
    "fig,ax= plt.subplots()\n",
    "\n",
    "\n",
    "\n",
    "ax.grid(True)\n",
    "#plt.plot(t, P_raa, '-g')\n",
    "#plt.plot(t,P_proo,'-r')\n",
    "#plt.step(trtr,reer,'-r')\n",
    "#plt.plot(time,huhh,'-b')\n",
    "plt.step(trog,ar,color='Black')\n",
    "ax.set_ylabel('V')\n",
    "ax.set_xlabel('t')\n",
    "ax.set_title('Pulso Primitivo,t=1 ')\n",
    "\n",
    "fig.savefig('Pulse_sweep_t=20',optimize=True,bbox_inches='tight')"
   ]
  },
  {
   "cell_type": "markdown",
   "metadata": {},
   "source": [
    "This Plot corresponds to the last iteration of the sweep function, where the Probe1 pulse \"went\" from t=0 to t=20, given by the information within it's dictionary"
   ]
  },
  {
   "cell_type": "markdown",
   "metadata": {},
   "source": [
    "Function works fine, but there is a caviet when during the sweeping while using short sweeping intervals, most probably has to do with the definiition of the sweeping range with the range() function.\n",
    "Maybe it would be a good idea to separate the initial position from the sweeping range, since now both of them are given by Pulse['Start time'] , or add an if at the beginin for those cases where there is no sweeping..."
   ]
  },
  {
   "cell_type": "code",
   "execution_count": null,
   "metadata": {},
   "outputs": [],
   "source": []
  }
 ],
 "metadata": {
  "@webio": {
   "lastCommId": null,
   "lastKernelId": null
  },
  "kernelspec": {
   "display_name": "Python 3",
   "language": "python",
   "name": "python3"
  },
  "language_info": {
   "codemirror_mode": {
    "name": "ipython",
    "version": 3
   },
   "file_extension": ".py",
   "mimetype": "text/x-python",
   "name": "python",
   "nbconvert_exporter": "python",
   "pygments_lexer": "ipython3",
   "version": "3.7.7"
  }
 },
 "nbformat": 4,
 "nbformat_minor": 4
}
