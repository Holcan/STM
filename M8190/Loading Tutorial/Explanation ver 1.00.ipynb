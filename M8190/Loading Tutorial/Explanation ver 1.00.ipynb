{
 "cells": [
  {
   "cell_type": "markdown",
   "source": [
    "# Sequence Loading into a Keysight M8190A Arbitray Waveform Generator.\r\n",
    "\r\n",
    "In this notebook we will explain how to load rectangular pulse schemes sequences into the Arbitrary Waveform Generator (AWG) using the following python modules:\r\n",
    "\r\n",
    "1. Sweeping.py\r\n",
    "2. PulseFiles.py\r\n",
    "3. Dictionaries.py\r\n",
    "4. Instrument.py\r\n",
    "\r\n",
    "As well as standard python modules used for Scientific Analysis (numpy, pandas, time and matplotib),PyVisa ,and the National Instruments API for controlling a  Data Acquisition (DAQ) Box.\r\n",
    "\r\n",
    "This Notebook is divided in 3 sections:\r\n",
    "\r\n",
    "1. __Initialization__ where we se how to connect to the AWG through Python and use the proper settings to prepare the AWG into playing Waveform data.\r\n",
    "\r\n",
    "2. __Pulse File Information__ where we explain the details about the waveform data and how it can be loaded into the AWG.\r\n",
    "\r\n",
    "3. __DAQ Measurement__ how we can set up the AWG into playing a sequence as well as capturing data with the DAQ box.\r\n",
    "\r\n",
    "\r\n",
    "All of the instrument settings metioned here will refer to the 14 bit mode and the Output Channel 1.\r\n",
    "\r\n",
    "The version of this notebook is 1.00"
   ],
   "metadata": {}
  },
  {
   "cell_type": "markdown",
   "source": [
    "# Initialization"
   ],
   "metadata": {}
  },
  {
   "cell_type": "markdown",
   "source": [
    "## First, as usual, we import the required Python Modules:"
   ],
   "metadata": {}
  },
  {
   "cell_type": "code",
   "execution_count": null,
   "source": [
    "import numpy as np\r\n",
    "from numpy import loadtxt\r\n",
    "import pandas as pd\r\n",
    "import time\r\n",
    "import matplotlib\r\n",
    "import matplotlib.pyplot as plt\r\n",
    "import pyvisa as visa\r\n",
    "from matplotlib import animation\r\n",
    "from time import sleep\r\n",
    "import pyqtgraph as pg \r\n",
    "import nidaqmx\r\n",
    "import pickle\r\n",
    "\r\n",
    "\r\n",
    "#Importing the functions from the module and the pulses dictionaries\r\n",
    "from Sweeping import *\r\n",
    "from Dictionaries import *\r\n",
    "from PulseFiles import *\r\n",
    "from Instrument import *\r\n"
   ],
   "outputs": [],
   "metadata": {}
  },
  {
   "cell_type": "markdown",
   "source": [
    "We also need to stablish the connection between the AWG and the computer. In order to do this turn the AWG on and wait until the \"Access\" LED turns green, afterwards run the \"Keysight M8190Firmware\" Software (a quick access is given in the the Desktop). Please do not confuse this with the \"Keysight M8190 Soft Front Panel\", this Soft Front Panel software is a graphical interphase to controll the AWG.\r\n",
    "\r\n",
    "When the connection is stablished a window of this form will appear:\r\n",
    "\r\n",
    "![Firmware Visa Adress](Firmware.png)\r\n",
    "\r\n",
    "\r\n",
    "This provides us the VISA Adress needed to use the instrument through Python."
   ],
   "metadata": {}
  },
  {
   "cell_type": "markdown",
   "source": [
    "This Visa Adress, as well as other AWG parameters are stored in a dictionary, whose Keys will be used by most of the functions. \r\n",
    "An example of a AWG parameter Dictionary is:"
   ],
   "metadata": {}
  },
  {
   "cell_type": "code",
   "execution_count": null,
   "source": [
    "AWG_Settings= {\r\n",
    "    'Visa Resource Name': 'TCPIP0::ibn3-036.ibn-net.kfa-juelich.de::hislip0::INSTR',\r\n",
    "    'Voltage Amplitude':700, #miliVolts\r\n",
    "    'Clock Sample Frecuency':6000000000, #Hz\r\n",
    "    'Output_Channel': 1,\r\n",
    "    'Mode': 'STS',\r\n",
    "    'Trigger In Threshold' : 1, #Volts\r\n",
    "    'Output Rout': 'DAC', #DAC output rout only has the SMA Physical outputs: Direct Out and (Averaged) Direct Out\r\n",
    "    'Data Directory': r'D:\\Alejandro\\Pulses\\diode measurements\\Pulse Scheme CSV\\Measurements\\1000nano' #File path where we will save the Pulse Scheme CSV files\r\n",
    "}"
   ],
   "outputs": [],
   "metadata": {}
  },
  {
   "cell_type": "markdown",
   "source": [
    "We also define a Dictionary for the DAQ settings:"
   ],
   "metadata": {}
  },
  {
   "cell_type": "code",
   "execution_count": null,
   "source": [
    "DAQ_Settings1 = {\r\n",
    "    'DAQ Name' : 'DAQBNC1',\r\n",
    "    'Analog Channel Input Marker' : 'ai2',\r\n",
    "    'Analog Channel Input Waveform' : 'ai0 ',\r\n",
    "    'Analog Channel Output' : 'ao1',\r\n",
    "    'Minimum Voltage' : -10,\r\n",
    "    'Maximum Voltage' : 10,\r\n",
    "    'Minimum Voltage Marker' : -9,\r\n",
    "    'Maximum Voltage Marker' : 9,\r\n",
    "    'Maximum Current': 0.01,\r\n",
    "    'Minimum Current' : -0.01,\r\n",
    "    'Sampling Frequency' : 1000,\r\n",
    "    'Data Directory': r'D:\\Documentos\\STM\\Python Pulses\\S1' #path of home computer file!\r\n",
    "}"
   ],
   "outputs": [],
   "metadata": {}
  },
  {
   "cell_type": "markdown",
   "source": [
    "After this we can run the __VisaR__ function to generate the object Python class to control the AWG thorugh Python, with Pyvisa. We will name this object class as **M8190A** and choose a timeout time for the AWG of 60000 ms"
   ],
   "metadata": {}
  },
  {
   "cell_type": "code",
   "execution_count": null,
   "source": [
    "M8190A = VisaR(AWG_Settings,60000)"
   ],
   "outputs": [],
   "metadata": {}
  },
  {
   "cell_type": "markdown",
   "source": [
    "Once the object class is created we can run the __Initialization__ function, this function sets the AWG to the proper parameters and configurations in order to play pulse sequences."
   ],
   "metadata": {}
  },
  {
   "cell_type": "code",
   "execution_count": null,
   "source": [
    "Initialization(M8190A,AWG_Settings)"
   ],
   "outputs": [],
   "metadata": {}
  },
  {
   "cell_type": "markdown",
   "source": [
    "It is important to know that this function configures the instrument into the Sequencer mode given by the AWG_Settings['Mode'] key (in the previous example it is set to STS). The AWG has 3 different sequencing modes: Arbitrary, STSequence, and STScenario.\r\n",
    "\r\n",
    "In the Arbitrary mode, the AWG is able to play a single waveform data, named within the AWG intrphase as __Segment__. This Segments are identified within the AWG by an integer number called __Segment Id__ and will have a given __length__ , thes length defines the total number of waveform data samples to be played by the AWG. \r\n",
    "The minimum Segment length is 320 samples in 12 bit mode and 240 samples in 14 bit mode. And the Maximum legth is 2048 MSa\r\n",
    "\r\n",
    "The __granularity__ of the AWG is 64 samples in 12 bit mode and 48 samples in 14 bit mode.\r\n",
    "\r\n",
    "\r\n",
    "\r\n",
    "\r\n",
    "\r\n",
    "Segments can be combined together to from a __Sequence__ and be played through the STSequence Mode. In this regard a Sequence consistes of multiple Segments played in a given order. It is good to think of a Sequence as a Table, where each Segment is an entry. In this way, we first deifine the indiviual Segments, next we define the Sequence table and then load intoto it the Segment entries in the order that we want them to be played. \r\n",
    "\r\n",
    "\r\n",
    "The Advancemnt method in between Segments used here is __CONDITIONAL__ which means that the waveform of all segments in the sequence will be played indefinitely until the AWG is stoped. Other advancement methods are posible and can be view in the users Manual.\r\n",
    "\r\n",
    "Finally, the STScneario plays , as it names suggests it a Scenario, which is a combination of multiple sequences."
   ],
   "metadata": {}
  },
  {
   "cell_type": "markdown",
   "source": [
    "# Pulse File Information"
   ],
   "metadata": {}
  },
  {
   "cell_type": "markdown",
   "source": [
    "## Formating"
   ],
   "metadata": {}
  },
  {
   "cell_type": "markdown",
   "source": [
    "The way that we load waveform data into the AWG Segments is through CSV files (other formats and options are mentioned in the AWG users Manual). \r\n",
    "\r\n",
    "This CSV files must be delimited by a comma and the sample values must be normalized ( in the [-1,1] interval, in our case, we normalize our waveform data with the AWG_Settings['Voltage Amplitude'] value). The AWG has two __Marker channels__ per Output channel and the way we enanable Marker channels to a specific waveform data is appending a value of 1 in the column to the right of the beforementioned waveform data. If we do not want to enable the marker channel to waveform data, the value to be appended is 0, instead of 1. The Marker columns can only be given the 0 or 1 values. The way we distinguish between the two marker channels is by the header of such column.\r\n",
    "\r\n",
    "In concrete, the file itself (as the way we are implementing it) will have a total of 3 Columns labeles as:\r\n",
    "\r\n",
    "1. Y1  (here we have the normalized waveform data values)\r\n",
    "2. SyncMarker1   (Column of either 1 or 0, dependinding )\r\n",
    "3. SampleMarker1 (Column of either 1 or 0, dependinding ).\r\n",
    "\r\n",
    "The overall difference between the two Marker channels is the Sampling Frequency at which they run."
   ],
   "metadata": {}
  },
  {
   "cell_type": "markdown",
   "source": [
    "![CSV Example](csvA.png)\r\n",
    "\r\n",
    "Image above: ehader of an example of the format of a csv file with 7500000 waveform data with the marker channels enabled."
   ],
   "metadata": {}
  },
  {
   "cell_type": "markdown",
   "source": [
    "# Number of Samples details"
   ],
   "metadata": {}
  },
  {
   "cell_type": "markdown",
   "source": [
    "The total number of data samples in our sequences is not free, as it should follow the relation:\r\n",
    "\r\n",
    "$$ N = S_r * t $$\r\n",
    "\r\n",
    "where $N$ is the number of sample points, $S_r$ the Sampling Frequency (Sampling Clock) of the AWG in Herzs and $t$ the time regime (time length) of the desired Pulse Scheme in seconds. $N$ should also follow the next granularity Caveat."
   ],
   "metadata": {}
  },
  {
   "cell_type": "markdown",
   "source": [
    "## Granularity Caveat\r\n",
    "\r\n",
    "As mentioned earlier, each Segment in the AWG has a given Granularity, this means that the  total number of samples in our waveform data __must__ be a multiple of this granularity (for our current settings this is __48__) In cases where the waveform data is not a multiple of the granularity, the Segment will have a length equal to: $l = k N$ where $l$ is the length of the segment, $N$ the number of samples and $k$ the lowest posible positive integer such that $l$ is a multiple of the granularity (48).\r\n",
    "\r\n"
   ],
   "metadata": {}
  },
  {
   "cell_type": "markdown",
   "source": [
    "# Pulse Sequence Sweeping"
   ],
   "metadata": {}
  },
  {
   "cell_type": "markdown",
   "source": [
    "Now that we know which formtat the csv files containing our waveform data should have, we will explaing how we create Pulse Sequences based on this.\r\n",
    "\r\n",
    "The __Pulse Sequence__ that we will be loaded into the AWG will consist of two __Pulse Cycles__ (we named them A, and B correspondelty). Each Cycle has a __Pulse Scheme__ made from two pulses: Pump and Probe. Usually we will change (sweep) the realtive time position of one Pulse with respect to the other,namely we will leave the Pump pulse still while  we sweep the Probe pulse with respect to the Pump. \r\n",
    "\r\n",
    "![Sweeping Cycle A](CompleteSweepingSteps.jpg)\r\n",
    "\r\n",
    "\r\n",
    "Here we show Several Sweeping Steps, for Cycle A. "
   ],
   "metadata": {}
  },
  {
   "cell_type": "markdown",
   "source": [
    "The csv files loaded into the AWG will have the proper waveform data (following the restrictions metioned earlier) of a complete Cycle (either A or B) at a given sweeping step, in other words, our waveform Segments will be pulse cycles, and our __pulse sequences__ will be the Sequence generated by the Segment of CycleA followed by the Segment of CycleB at a given sweeping step. This means advancing from a sweepin step to the next one is translated to changing AWG Sequences.\r\n",
    "\r\n",
    " The parameters of each individual pulse are contained in dictionaries, for example:"
   ],
   "metadata": {}
  },
  {
   "cell_type": "code",
   "execution_count": null,
   "source": [
    "Pump = {\r\n",
    "    'Name':'Pump',\r\n",
    "    'Amplitude':40, #mV, this value will be normalized in the csv file by the Voltage Amplitude key of the AWG_Settings key\r\n",
    "    'Start time':5, #the units mainly depend on the desired time regime for the pulse sequence given by the Sweeping_Single_List_File_teil function, this refers to the time of the first sweeping step\r\n",
    "    'End time':2e-10, #the units mainly depend on the desired time regime for the pulse sequence given by the Sweeping_Single_List_File_teil function, this refers to the time of the last sweeping step\r\n",
    "    'Start Duration':1, #the units mainly depend on the desired time regime for the pulse sequence given by the Sweeping_Single_List_File_teil function, this refers to the duration of the first sweeping step\r\n",
    "    'End Duration':1, #the units mainly depend on the desired time regime for the pulse sequence given by the Sweeping_Single_List_File_teil function, this refers to the duration of the last sweeping step\r\n",
    "    'Sweep time':0, #the sweeping functions use this parameter, if it is equal to 1, the pulse will be swept in time, if it is 0 it will not. \r\n",
    "    'Sweep Duration':0 #the sweeping functions use this parameter, if it is equal to 1, the pulse will be swept in duration, if it is 0 it will not.\r\n",
    "}"
   ],
   "outputs": [],
   "metadata": {}
  },
  {
   "cell_type": "code",
   "execution_count": null,
   "source": [
    "ProbeA = {\r\n",
    "    'Name':'ProbeA',\r\n",
    "    'Amplitude':25, #mV, this value will be normalized in the csv file by the Voltage Amplitude key of the AWG_Settings key\r\n",
    "    'Start time':3, #the units mainly depend on the desired time regime for the pulse sequence given by the Sweeping_Single_List_File_teil function, this refers to the time of the first sweeping step\r\n",
    "    'End time':7, #the units mainly depend on the desired time regime for the pulse sequence given by the Sweeping_Single_List_File_teil function, this refers to the time of the last sweeping step\r\n",
    "    'Start Duration':1, #the units mainly depend on the desired time regime for the pulse sequence given by the Sweeping_Single_List_File_teil function, this refers to the duration of the first sweeping step\r\n",
    "    'End Duration':60, #the units mainly depend on the desired time regime for the pulse sequence given by the Sweeping_Single_List_File_teil function, this refers to the duration of the last sweeping step\r\n",
    "    'Sweep time':1, #the sweeping functions use this parameter, if it is equal to 1, the pulse will be swept in time, if it is 0 it will not.\r\n",
    "    'Sweep Duration':0 #the sweeping functions use this parameter, if it is equal to 1, the pulse will be swept in duration, if it is 0 it will not.\r\n",
    "}"
   ],
   "outputs": [],
   "metadata": {}
  },
  {
   "cell_type": "code",
   "execution_count": null,
   "source": [
    "ProbeB = {\r\n",
    "    'Name':'ProbeB',\r\n",
    "    'Amplitude':0,\r\n",
    "    'Start time':0,\r\n",
    "    'End time':12,\r\n",
    "    'Start Duration':1,\r\n",
    "    'End Duration':6,\r\n",
    "    'Sweep time':0,\r\n",
    "    'Sweep Duration':0\r\n",
    "}"
   ],
   "outputs": [],
   "metadata": {}
  },
  {
   "cell_type": "markdown",
   "source": [
    "# NOTE\r\n",
    "The time parameters for the pulses given here are scaled to the total pulse scheme time $t$ used in the Sweeping function, more details below. (in this example they correspond to ms)"
   ],
   "metadata": {}
  },
  {
   "cell_type": "markdown",
   "source": [
    "The information of a given Pulse Scheme (Cycle) is given also in a dictionary:"
   ],
   "metadata": {}
  },
  {
   "cell_type": "code",
   "execution_count": null,
   "source": [
    "PulseScheme_A =  {\r\n",
    "    'Name' : 'PulseScheme_A',\r\n",
    "    'Pulse Scheme': [Pump,ProbeA], #the pulse scheme corresponds to a List that contains the Pulse dictionaries\r\n",
    "    'Number of repetitions': 80000,\r\n",
    "    'Measurement file Path': r'D:\\Alejandro\\Pulses\\diode measurements\\TList\\10nano'\r\n",
    "}"
   ],
   "outputs": [],
   "metadata": {}
  },
  {
   "cell_type": "code",
   "execution_count": null,
   "source": [
    "PulseScheme_B  = {\r\n",
    "    'Name' : 'PulseScheme_B',\r\n",
    "    'Pulse Scheme': [ProbeB,ProbeB],\r\n",
    "    'Number of repetitions': 1,\r\n",
    "    'Measurement file Path': r'D:\\Alejandro\\Pulses\\diode measurements\\TList\\1ms,50Hz'\r\n",
    "}"
   ],
   "outputs": [],
   "metadata": {}
  },
  {
   "cell_type": "markdown",
   "source": [
    "The cycle waveform data at different sweeping steps is generated first as a numpy array and then exported to a CSV file with the proper formating by the function:"
   ],
   "metadata": {}
  },
  {
   "cell_type": "code",
   "execution_count": null,
   "source": [
    "#the parametes of this function are quickly showed as follow, for mor details please check the documentation\r\n",
    "#Sweeping_Single_List_File_teil(PulseScheme_Dictionary,total_number_sweeping_steps,time_length_scheme,Number_Samples,Starting_sweepingstep,ending_sweepingstep,AWG_Settings,cycle)\r\n",
    "\r\n",
    "#For a time length of:\r\n",
    "time_length = 10#ms, 0.01s\r\n",
    "\r\n",
    "\r\n",
    "\r\n",
    "#we know the number of samples,sam, should follow:\r\n",
    "sam = AWG_Settings['Clock Sample Frecuency']*(time_length*0.001)\r\n",
    "#it should aslo follow the granularity constraint\r\n",
    "\r\n",
    "\r\n",
    "\r\n",
    "#for CycleA and 30 sweeping steps\r\n",
    "Sweeping_runa = Sweeping_Single_List_File_teil(PulseScheme_A,30,time_length,sam,0,30,AWG_Settings,'A')[0]\r\n",
    "\r\n",
    "#for CycleB sweeping steps\r\n",
    "Sweeping_runa = Sweeping_Single_List_File_teil(PulseScheme_B,30,time_length,sam,0,30,AWG_Settings,'B')[0]"
   ],
   "outputs": [],
   "metadata": {}
  },
  {
   "cell_type": "markdown",
   "source": [
    "The above parameters of the function will give us 31 csv files,that is 31 CycleA files in which the ProbeA pulse will be swept with respect to the Pulse.\r\n",
    "\r\n",
    "The main difference in our code between CycleA and CycleB is that CycleA have assigned markers to the waveform data on it's csv files (marker columns have a value of 1), while Cycle B does not (marker columns have a value of 0). This is mainly to modulated CycleA with the rising part of the Reference Sinusoidal Wave of a Lock-In Amplifier, while modulating Cycle B with the lowering part.\r\n",
    "\r\n",
    "As we mentioned earilier, Our Pulse Sequence will consist of CycleA followed by CycleB.\r\n",
    "\r\n",
    "Cycle B (for autocorrelation function measurements with an RF Diode) consists of an empy pulse scheme, with no pulses whatsoever, that also lasts the same duration of Cycle A. With the example parameters given above, this means that the total time duration of CycleA + Cycle B will be 2*time_length = 20ms , which corresponds to a 50Hz Modulation. "
   ],
   "metadata": {}
  },
  {
   "cell_type": "markdown",
   "source": [
    "One of the parameters returned by the Sweeping function is a Dictionary, whose elements are the file paths to the CSV files that it created. This way we can orderly load them into the AWG as individual sequences, having the sweeping being changing from one of them to the next, this is the one that we named in the previous example as Sweeping_runa(b) and is the one that our Sequence loading function uses.\r\n",
    "\r\n",
    "We also export and import this dictionaries with Python's Pickle, so we can re do the measurement in the future without to explicitly write this dictionaries every time."
   ],
   "metadata": {}
  },
  {
   "cell_type": "code",
   "execution_count": null,
   "source": [
    "#exporting pickle \r\n",
    "\r\n",
    "#pickle.dump(sweeping_run_a, open(r\"{dict}\\cycleA_31steps_10ms_1ms_probe_3GHz.p\".format(dict = PulseScheme_A['Measurement file Path']), \"wb\"))  # save it into a file named sweepingA.p\r\n",
    "#pickle.dump(sweeping_runb, open(r\"{dict}\\cycleB_31steps_10ms_1msprobe_3Ghz.p\".format(dict = PulseScheme_A['Measurement file Path']), \"wb\"))  # save it into a file named sweepingB.p"
   ],
   "outputs": [],
   "metadata": {}
  },
  {
   "cell_type": "code",
   "execution_count": null,
   "source": [
    "#importing pickle\r\n",
    "\r\n",
    "#sweeping_run_a = pickle.load(open(r\"{dict}\\cycleA_31steps_10ms_1ms_probe_3GHz.p\".format(dict = PulseScheme_A['Measurement file Path'])),\"rb\"))\r\n",
    "#sweeping_runb =  pickle.load(open(r\"{dict}\\cycleB_31steps_10ms_1msprobe_3Ghz.p\".format(dict = PulseScheme_A['Measurement file Path']),\"rb\"))"
   ],
   "outputs": [],
   "metadata": {}
  },
  {
   "cell_type": "markdown",
   "source": [
    "# Sweeping Run loading (for Auto Correlation measurements RF Diode)"
   ],
   "metadata": {}
  },
  {
   "cell_type": "markdown",
   "source": [
    "We have a function that loads the csv files into the AWG while also controlling a DAQ box to trigger it into playing and storing the voltage output. "
   ],
   "metadata": {}
  },
  {
   "cell_type": "markdown",
   "source": [
    "Before loading sweeping runs into the AWG it is important to note that everytime that the AWG is reset or that the Sampling Frequency is changed, the AWG will take around 5 seconds to play it's first waveform after having received the play command (waveforms played afterwards will be played instantly). Therefore everytime that we first turn on the AWG or change the sampling clock we run the Dummy_File function, which loads a dummy empty Segment to the AWG, plays it for a couple of seconds and then it is stoped and deleted."
   ],
   "metadata": {}
  },
  {
   "cell_type": "code",
   "execution_count": null,
   "source": [
    "Dummy_File(M8190A)"
   ],
   "outputs": [],
   "metadata": {}
  },
  {
   "cell_type": "markdown",
   "source": [
    "## Lock-In Dictionary\r\n",
    "\r\n",
    "Before running the Sequence Loading function we define a Lock-In dictionary to store te values that we physically set up in the lock in, for future reference. The keys of this dictionary will be appended to the name of the measurements obtained."
   ],
   "metadata": {}
  },
  {
   "cell_type": "code",
   "execution_count": null,
   "source": [
    "Lock_In_Settings = {\r\n",
    "'Time Constant' : '300ms',\r\n",
    "'Sensitivity' : '500 microVolts',\r\n",
    "'Reserve' : 'Normal',\r\n",
    "'db' : 24,\r\n",
    "'Modulation': '50Hz'\r\n",
    "}"
   ],
   "outputs": [],
   "metadata": {}
  },
  {
   "cell_type": "markdown",
   "source": [
    "Finally we come to our measurement function (Measurement_Autocorrelation_voltage), where we define a playing time which is the total time duration in which the DAQ box will be recolecting data:"
   ],
   "metadata": {}
  },
  {
   "cell_type": "code",
   "execution_count": null,
   "source": [
    "playing_time = 10 #in seconds\r\n",
    "\r\n",
    "Diode_Signal, averaged_data = Measurement_Autocorrelation_voltage(M8190A,DAQ_Settings1,1000, playing_time ,sweeping_run_a,sweeping_runb,PulseScheme_A['Measurement file Path'],Lock_In_Settings)"
   ],
   "outputs": [],
   "metadata": {}
  },
  {
   "cell_type": "markdown",
   "source": [],
   "metadata": {}
  }
 ],
 "metadata": {
  "orig_nbformat": 4,
  "language_info": {
   "name": "python",
   "version": "3.8.5"
  },
  "kernelspec": {
   "name": "python3",
   "display_name": "Python 3.8.5 64-bit ('base': conda)"
  },
  "interpreter": {
   "hash": "9a32f0bf53af15acd232504180dc0ef28b8a6ac1a49da0a6c374e1f45bb445b6"
  }
 },
 "nbformat": 4,
 "nbformat_minor": 2
}