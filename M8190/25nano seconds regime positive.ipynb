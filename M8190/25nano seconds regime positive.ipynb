{
 "cells": [
  {
   "cell_type": "code",
   "execution_count": 1,
   "metadata": {},
   "outputs": [],
   "source": [
    "import numpy as np\n",
    "from numpy import loadtxt\n",
    "import pandas as pd\n",
    "import time\n",
    "import matplotlib\n",
    "import matplotlib.pyplot as plt\n",
    "import pyvisa as visa\n",
    "from matplotlib import animation\n",
    "from time import sleep\n",
    "from matplotlib.animation import FuncAnimation\n",
    "#Importing the functions from the module and the pulses dictionaries\n",
    "from Sweeping import *\n",
    "from Dictionaries import *\n",
    "from PulseFiles import *\n",
    "from Instrument import *\n",
    "import pyqtgraph as pg \n",
    "import nidaqmx\n",
    "import pickle"
   ]
  },
  {
   "cell_type": "code",
   "execution_count": 3,
   "metadata": {},
   "outputs": [],
   "source": [
    "modulation = 93 #Hz\n",
    "loop_number = 32000    \n",
    "res = 1/2972160000\n",
    "\n",
    "sam, sr , segment_length = Adj9(res,modulation,loop_number)"
   ]
  },
  {
   "cell_type": "code",
   "execution_count": 4,
   "metadata": {},
   "outputs": [
    {
     "data": {
      "text/plain": [
       "528"
      ]
     },
     "execution_count": 4,
     "metadata": {},
     "output_type": "execute_result"
    }
   ],
   "source": [
    "sam"
   ]
  },
  {
   "cell_type": "code",
   "execution_count": 5,
   "metadata": {},
   "outputs": [
    {
     "data": {
      "text/plain": [
       "3142656000"
      ]
     },
     "execution_count": 5,
     "metadata": {},
     "output_type": "execute_result"
    }
   ],
   "source": [
    "sr"
   ]
  },
  {
   "cell_type": "code",
   "execution_count": 6,
   "metadata": {},
   "outputs": [
    {
     "data": {
      "text/plain": [
       "168.01075268817203"
      ]
     },
     "execution_count": 6,
     "metadata": {},
     "output_type": "execute_result"
    }
   ],
   "source": [
    "interval = segment_length*1e9 #nano\n",
    "interval"
   ]
  },
  {
   "cell_type": "markdown",
   "metadata": {},
   "source": [
    "# AWG and Pulse files setup"
   ]
  },
  {
   "cell_type": "code",
   "execution_count": 7,
   "metadata": {},
   "outputs": [],
   "source": [
    "AWG_Settings_25nano= {\n",
    "    'Visa Resource Name': 'TCPIP0::ibn3-036.ibn-net.kfa-juelich.de::hislip0::INSTR',\n",
    "    'Voltage Amplitude':150,\n",
    "    'Clock Sample Frecuency':3142656000,\n",
    "    'Output_Channel': 1,\n",
    "    'Mode': 'STS',\n",
    "    'Trigger In Threshold' : 1,\n",
    "    'Output Rout': 'DC', #DAC output rout only has the BNC outputs: Direct Out and (Averaged) Direct Out # DC\n",
    "    'Data Directory': r'D:\\Alejandro\\Pulses\\diode measurements\\Prepared Pulse Schemes CSV\\60,30\\pos\\25nano'\n",
    "}"
   ]
  },
  {
   "cell_type": "code",
   "execution_count": 8,
   "metadata": {},
   "outputs": [],
   "source": [
    "M8190A = VisaR(AWG_Settings_25nano,60000)"
   ]
  },
  {
   "cell_type": "code",
   "execution_count": 9,
   "metadata": {},
   "outputs": [
    {
     "data": {
      "text/plain": [
       "21"
      ]
     },
     "execution_count": 9,
     "metadata": {},
     "output_type": "execute_result"
    }
   ],
   "source": [
    "M8190A.write('FREQ:RAST {a}'.format(a = sr))"
   ]
  },
  {
   "cell_type": "code",
   "execution_count": 5,
   "metadata": {},
   "outputs": [
    {
     "name": "stdout",
     "output_type": "stream",
     "text": [
      "Instruments Sampling Frecuency set to 3.14265600000000E+09Hz\n",
      "Instruments Direct Out DC Output route Voltage set to 6.75000000000000E-01Volts\n",
      "AWG_Settings_Dict set to TRIGGERED Mode\n",
      "Trigger In threshold value set to 1.00000000000000E+00V\n"
     ]
    }
   ],
   "source": [
    "Initialization(M8190A,AWG_Settings_25nano)"
   ]
  },
  {
   "cell_type": "code",
   "execution_count": 10,
   "metadata": {},
   "outputs": [],
   "source": [
    "Pump_25nano = {\n",
    "    'Name':'Pump_25nano',\n",
    "    'Amplitude': 2*60,\n",
    "    'Start time':70,\n",
    "    'End time':2e-10,\n",
    "    'Start Duration':25,\n",
    "    'End Duration':60,\n",
    "    'Sweep time':0,\n",
    "    'Sweep Duration':0\n",
    "}"
   ]
  },
  {
   "cell_type": "code",
   "execution_count": 11,
   "metadata": {},
   "outputs": [],
   "source": [
    "ProbeA_25nano = {\n",
    "    'Name':'ProbeA_25nano',\n",
    "    'Amplitude':2*30,\n",
    "    'Start time':20,\n",
    "    'End time':120,\n",
    "    'Start Duration':25,\n",
    "    'End Duration':60,\n",
    "    'Sweep time':1,\n",
    "    'Sweep Duration':0\n",
    "}"
   ]
  },
  {
   "cell_type": "code",
   "execution_count": 12,
   "metadata": {},
   "outputs": [],
   "source": [
    "ProbeB_25nano= {\n",
    "    'Name':'ProbeB_25nano',\n",
    "    'Amplitude':-2*30,\n",
    "    'Start time':20,\n",
    "    'End time':120,\n",
    "    'Start Duration':25,\n",
    "    'End Duration':60,\n",
    "    'Sweep time':1,\n",
    "    'Sweep Duration':0\n",
    "}"
   ]
  },
  {
   "cell_type": "code",
   "execution_count": 13,
   "metadata": {},
   "outputs": [],
   "source": [
    "ProbeB_25nano_empty= {\n",
    "    'Name':'ProbeB_25nano_empty',\n",
    "    'Amplitude':0*50,\n",
    "    'Start time':20,\n",
    "    'End time':120,\n",
    "    'Start Duration':25,\n",
    "    'End Duration':60,\n",
    "    'Sweep time':1,\n",
    "    'Sweep Duration':0\n",
    "}"
   ]
  },
  {
   "cell_type": "code",
   "execution_count": 14,
   "metadata": {},
   "outputs": [],
   "source": [
    "PulseScheme_A_25nano =  {\n",
    "    'Name' : 'PulseScheme_A_25nano',\n",
    "    'Pulse Scheme': [Pump_25nano,ProbeA_25nano],\n",
    "    'Number of repetitions': 1,\n",
    "    'Measurement file Path': r'D:\\Alejandro\\Pulses\\diode measurements\\Autocorrelation measurements\\60,30\\pos\\25nano'\n",
    "}"
   ]
  },
  {
   "cell_type": "code",
   "execution_count": 15,
   "metadata": {},
   "outputs": [],
   "source": [
    "PulseScheme_B_25nano =  {\n",
    "    'Name' : 'PulseScheme_B_25nano',\n",
    "    'Pulse Scheme': [Pump_25nano,ProbeB_25nano],\n",
    "    'Number of repetitions': 1,\n",
    "    'Measurement file Path': r'D:\\Alejandro\\Pulses\\diode measurements\\Autocorrelation measurements\\60,30\\pos\\25nano'\n",
    "}"
   ]
  },
  {
   "cell_type": "code",
   "execution_count": 15,
   "metadata": {},
   "outputs": [],
   "source": [
    "PulseScheme_B_25nano_empty =  {\n",
    "    'Name' : 'PulseScheme_B_25nano',\n",
    "    'Pulse Scheme': [ProbeB_25nano_empty,ProbeB_25nano_empty],\n",
    "    'Number of repetitions': 1,\n",
    "    'Measurement file Path': r'D:\\Alejandro\\Pulses\\diode measurements\\Autocorrelation measurements\\60,30\\pos\\25nano'\n",
    "}"
   ]
  },
  {
   "cell_type": "code",
   "execution_count": 15,
   "metadata": {},
   "outputs": [
    {
     "data": {
      "image/png": "[encoded data removed]",
      "text/plain": [
       "<Figure size 432x288 with 1 Axes>"
      ]
     },
     "metadata": {
      "needs_background": "light"
     },
     "output_type": "display_data"
    }
   ],
   "source": [
    "step = 50\n",
    "pul1 = Sweep_teil(PulseScheme_A_25nano,50,step,interval,sam)\n",
    "\n",
    "\n",
    "#Plot\n",
    "fig,ax= plt.subplots()\n",
    "ax.grid(True)\n",
    "\n",
    "plt.plot(pul1[1],pul1[0]/2,label= '{b} samples'.format(b = sam),color='red')\n",
    "\n",
    "ax.set_ylabel('V  [mV]')\n",
    "ax.set_xlabel(r't [ns]')\n",
    "ax.set_title('Cycle A at step {a}'.format(a = step )) #Voltage Offset = 3mV, Marker Ampl = 50mV \n",
    "#ax.legend(loc=0)\n",
    "#plt.legend(bbox_to_anchor=(2.05, 1), loc='upper left', borderaxespad=0.)\n",
    "plt.show()\n",
    "\n",
    "#fig.savefig(r'{loc}\\Cycle A, Probe width 25 nano 93 Hz mod , {a} step.jpeg'.format(loc = PulseScheme_A_25nano['Measurement file Path'], a = step),bbox_inches='tight')"
   ]
  },
  {
   "cell_type": "code",
   "execution_count": 17,
   "metadata": {},
   "outputs": [
    {
     "data": {
      "image/png": "[encoded data removed]",
      "text/plain": [
       "<Figure size 432x288 with 1 Axes>"
      ]
     },
     "metadata": {
      "needs_background": "light"
     },
     "output_type": "display_data"
    }
   ],
   "source": [
    "step = 30\n",
    "pul1 = Sweep_teil(PulseScheme_A_25nano,30,step,interval,sam)\n",
    "\n",
    "\n",
    "#Plot\n",
    "fig,ax= plt.subplots()\n",
    "ax.grid(True)\n",
    "\n",
    "plt.plot(pul1[1],pul1[0]/2,label= '{b} samples'.format(b = sam),color='red')\n",
    "\n",
    "ax.set_ylabel('V  [mV]')\n",
    "ax.set_xlabel(r't [ns]')\n",
    "ax.set_title('Cycle A at step {a}'.format(a = step )) #Voltage Offset = 3mV, Marker Ampl = 50mV \n",
    "#ax.legend(loc=0)\n",
    "#plt.legend(bbox_to_anchor=(2.05, 1), loc='upper left', borderaxespad=0.)\n",
    "plt.show()\n",
    "\n",
    "fig.savefig(r'{loc}\\Cycle A, Probe width 25 nano 93 Hz mod , {a} step.jpeg'.format(loc = PulseScheme_A_25nano['Measurement file Path'], a = step),bbox_inches='tight')"
   ]
  },
  {
   "cell_type": "code",
   "execution_count": 71,
   "metadata": {},
   "outputs": [
    {
     "data": {
      "image/png": "[encoded data removed]",
      "text/plain": [
       "<Figure size 432x288 with 1 Axes>"
      ]
     },
     "metadata": {
      "needs_background": "light"
     },
     "output_type": "display_data"
    }
   ],
   "source": [
    "step = 35\n",
    "pul1 = Sweep_teil(PulseScheme_B_25nano,70,step,interval,sam)\n",
    "\n",
    "\n",
    "#Plot\n",
    "fig,ax= plt.subplots()\n",
    "ax.grid(True)\n",
    "\n",
    "plt.plot(pul1[1],pul1[0]/2,label= '{b} samples'.format(b = sam),color='red')\n",
    "\n",
    "ax.set_ylabel('V  [mV]')\n",
    "ax.set_xlabel(r't [ns]')\n",
    "ax.set_title('Cycle A at step {a}'.format(a = step )) #Voltage Offset = 3mV, Marker Ampl = 50mV \n",
    "#ax.legend(loc=0)\n",
    "#plt.legend(bbox_to_anchor=(2.05, 1), loc='upper left', borderaxespad=0.)\n",
    "plt.show()\n",
    "\n",
    "#fig.savefig(r'{loc}\\Cycle A, Probe width 25 nano 93 Hz mod , {a} step.jpeg'.format(loc = PulseScheme_A_25nano['Measurement file Path'], a = step),bbox_inches='tight')"
   ]
  },
  {
   "cell_type": "code",
   "execution_count": 41,
   "metadata": {},
   "outputs": [
    {
     "data": {
      "image/png": "[encoded data removed]",
      "text/plain": [
       "<Figure size 432x288 with 1 Axes>"
      ]
     },
     "metadata": {
      "needs_background": "light"
     },
     "output_type": "display_data"
    }
   ],
   "source": [
    "step = 53\n",
    "pul1 = Sweep_teil(PulseScheme_A_25nano,70,step,interval,sam)\n",
    "\n",
    "\n",
    "#Plot\n",
    "fig,ax= plt.subplots()\n",
    "ax.grid(True)\n",
    "\n",
    "plt.plot(pul1[1],pul1[0]/2,label= '{b} samples'.format(b = sam),color='red')\n",
    "\n",
    "ax.set_ylabel('V  [mV]')\n",
    "ax.set_xlabel(r't [ns]')\n",
    "ax.set_title('Cycle A at step {a}'.format(a = step )) #Voltage Offset = 3mV, Marker Ampl = 50mV \n",
    "#ax.legend(loc=0)\n",
    "#plt.legend(bbox_to_anchor=(2.05, 1), loc='upper left', borderaxespad=0.)\n",
    "plt.show()\n",
    "\n",
    "fig.savefig(r'{loc}\\Cycle A, Probe width 25 nano 93 Hz mod , {a} step.jpeg'.format(loc = PulseScheme_A_25nano['Measurement file Path'], a = step),bbox_inches='tight')"
   ]
  },
  {
   "cell_type": "code",
   "execution_count": 42,
   "metadata": {},
   "outputs": [
    {
     "data": {
      "image/png": "[encoded data removed]",
      "text/plain": [
       "<Figure size 432x288 with 1 Axes>"
      ]
     },
     "metadata": {
      "needs_background": "light"
     },
     "output_type": "display_data"
    }
   ],
   "source": [
    "step = 70\n",
    "pul1 = Sweep_teil(PulseScheme_A_25nano,70,step,interval,sam)\n",
    "\n",
    "\n",
    "#Plot\n",
    "fig,ax= plt.subplots()\n",
    "ax.grid(True)\n",
    "\n",
    "plt.plot(pul1[1],pul1[0]/2,label= '{b} samples'.format(b = sam),color='red')\n",
    "\n",
    "ax.set_ylabel('V  [mV]')\n",
    "ax.set_xlabel(r't [ns]')\n",
    "ax.set_title('Cycle A at step {a}'.format(a = step )) #Voltage Offset = 3mV, Marker Ampl = 50mV \n",
    "#ax.legend(loc=0)\n",
    "#plt.legend(bbox_to_anchor=(2.05, 1), loc='upper left', borderaxespad=0.)\n",
    "plt.show()\n",
    "\n",
    "fig.savefig(r'{loc}\\Cycle A, Probe width 25 nano 93 Hz mod {a} step.jpeg'.format(loc = PulseScheme_A_25nano['Measurement file Path'], a = step),bbox_inches='tight')"
   ]
  },
  {
   "cell_type": "code",
   "execution_count": 43,
   "metadata": {},
   "outputs": [
    {
     "data": {
      "image/png": "[encoded data removed]",
      "text/plain": [
       "<Figure size 432x288 with 1 Axes>"
      ]
     },
     "metadata": {
      "needs_background": "light"
     },
     "output_type": "display_data"
    }
   ],
   "source": [
    "step = 0\n",
    "pul1 = Sweep_teil(PulseScheme_B_25nano,70,step,interval,sam)\n",
    "\n",
    "\n",
    "#Plot\n",
    "fig,ax= plt.subplots()\n",
    "ax.grid(True)\n",
    "\n",
    "plt.plot(pul1[1],pul1[0]/2,label= '{b} samples'.format(b = sam),color='red')\n",
    "\n",
    "ax.set_ylabel('V  [mV]')\n",
    "ax.set_xlabel(r't [ns]')\n",
    "ax.set_title('Cycle B at step {a}'.format(a = step )) #Voltage Offset = 3mV, Marker Ampl = 50mV \n",
    "#ax.legend(loc=0)\n",
    "#plt.legend(bbox_to_anchor=(2.05, 1), loc='upper left', borderaxespad=0.)\n",
    "plt.show()\n",
    "\n",
    "fig.savefig(r'{loc}\\Cycle B, Probe width 25 nano 93 Hz mod {a} step.jpeg'.format(loc = PulseScheme_A_25nano['Measurement file Path'], a = step),bbox_inches='tight')"
   ]
  },
  {
   "cell_type": "code",
   "execution_count": 44,
   "metadata": {},
   "outputs": [
    {
     "data": {
      "image/png": "[encoded data removed]",
      "text/plain": [
       "<Figure size 432x288 with 1 Axes>"
      ]
     },
     "metadata": {
      "needs_background": "light"
     },
     "output_type": "display_data"
    }
   ],
   "source": [
    "step = 70\n",
    "pul1 = Sweep_teil(PulseScheme_B_25nano,70,step,interval,sam)\n",
    "\n",
    "\n",
    "#Plot\n",
    "fig,ax= plt.subplots()\n",
    "ax.grid(True)\n",
    "\n",
    "plt.plot(pul1[1],pul1[0]/2,label= '{b} samples'.format(b = sam),color='red')\n",
    "\n",
    "ax.set_ylabel('V  [mV]')\n",
    "ax.set_xlabel(r't [ns]')\n",
    "ax.set_title('Cycle B at step {a}'.format(a = step )) #Voltage Offset = 3mV, Marker Ampl = 50mV \n",
    "#ax.legend(loc=0)\n",
    "#plt.legend(bbox_to_anchor=(2.05, 1), loc='upper left', borderaxespad=0.)\n",
    "plt.show()\n",
    "\n",
    "fig.savefig(r'{loc}\\Cycle B, Probe width 50 nano93 Hz mod {a} step.jpeg'.format(loc = PulseScheme_A_25nano['Measurement file Path'], a = step),bbox_inches='tight')"
   ]
  },
  {
   "cell_type": "code",
   "execution_count": 45,
   "metadata": {},
   "outputs": [
    {
     "data": {
      "image/png": "[encoded data removed]",
      "text/plain": [
       "<Figure size 432x288 with 1 Axes>"
      ]
     },
     "metadata": {
      "needs_background": "light"
     },
     "output_type": "display_data"
    }
   ],
   "source": [
    "step = 0\n",
    "pul1 = Sweep_teil(PulseScheme_B_25nano_empty,70,step,interval,sam)\n",
    "\n",
    "\n",
    "#Plot\n",
    "fig,ax= plt.subplots()\n",
    "ax.grid(True)\n",
    "\n",
    "plt.plot(pul1[1],pul1[0]/2,label= '{b} samples'.format(b = sam),color='red')\n",
    "\n",
    "ax.set_ylabel('V  [mV]')\n",
    "ax.set_xlabel(r't [ns]')\n",
    "ax.set_title('Cycle B at step {a}'.format(a = step )) #Voltage Offset = 3mV, Marker Ampl = 50mV \n",
    "#ax.legend(loc=0)\n",
    "#plt.legend(bbox_to_anchor=(2.05, 1), loc='upper left', borderaxespad=0.)\n",
    "plt.show()\n",
    "\n",
    "fig.savefig(r'{loc}\\Cycle B, Probe width 50 nano 93 Hz mod {a} step empty .jpeg'.format(loc = PulseScheme_A_25nano['Measurement file Path'], a = step),bbox_inches='tight')"
   ]
  },
  {
   "cell_type": "code",
   "execution_count": 16,
   "metadata": {},
   "outputs": [],
   "source": [
    "sweeping_run_a_25nano = Sweeping_Single_List_File_teil(PulseScheme_A_25nano,30,interval,sam,0,30,AWG_Settings_25nano,'A')[0]"
   ]
  },
  {
   "cell_type": "code",
   "execution_count": 17,
   "metadata": {},
   "outputs": [],
   "source": [
    "sweeping_run_b_25nano = Sweeping_Single_List_File_teil(PulseScheme_B_25nano,30,interval,sam,0,30,AWG_Settings_25nano,'B')[0]"
   ]
  },
  {
   "cell_type": "code",
   "execution_count": 20,
   "metadata": {},
   "outputs": [],
   "source": [
    "#Exporting pickle\n",
    "\n",
    "with open(r\"{dict}\\cycleA_31steps_93Hz_25nano_.p\".format(dict = PulseScheme_A_25nano['Measurement file Path']), \"wb\") as k:\n",
    "    pickle.dump(sweeping_run_a_25nano, k)\n",
    "\n",
    "\n",
    "with open(r\"{dict}\\cycleB_31steps_93Hz_25nano_.p\".format(dict = PulseScheme_B_25nano['Measurement file Path']), \"wb\") as h:\n",
    "    pickle.dump(sweeping_run_b_25nano, h)"
   ]
  },
  {
   "cell_type": "code",
   "execution_count": 16,
   "metadata": {},
   "outputs": [],
   "source": [
    "#Importing Pickle\n",
    "\n",
    "with open(r\"{dict}\\cycleA_71steps_93Hz_25nano_.p\".format(dict = PulseScheme_A_25nano['Measurement file Path']), \"rb\") as j:\n",
    "    sweeping_runa_25nano = pickle.load(j)\n",
    "\n",
    "with open(r\"{dict}\\cycleA_71steps_93Hz_25nano_.p\".format(dict = PulseScheme_A_25nano['Measurement file Path']), \"rb\") as f:\n",
    "    sweeping_runb_25nano= pickle.load(f)"
   ]
  },
  {
   "cell_type": "code",
   "execution_count": null,
   "metadata": {},
   "outputs": [
    {
     "data": {
      "text/plain": [
       "8000"
      ]
     },
     "metadata": {},
     "output_type": "display_data"
    }
   ],
   "source": [
    "loop_100nano"
   ]
  },
  {
   "cell_type": "code",
   "execution_count": 18,
   "metadata": {
    "scrolled": true
   },
   "outputs": [
    {
     "name": "stdout",
     "output_type": "stream",
     "text": [
      "Sequence loaded with the following segment data \"1,32000,0,1,0,527,2,32000,0,1,0,527\" and the advancement method is COND\n"
     ]
    },
    {
     "data": {
      "text/plain": [
       "2"
      ]
     },
     "execution_count": 18,
     "metadata": {},
     "output_type": "execute_result"
    }
   ],
   "source": [
    "Sequence_File(M8190A,sweeping_runa_25nano['Pulse File Location, at step 70'],sweeping_runb_25nano['Pulse File Location, at step 70'],loop_number)"
   ]
  },
  {
   "cell_type": "code",
   "execution_count": null,
   "metadata": {},
   "outputs": [],
   "source": []
  },
  {
   "cell_type": "markdown",
   "metadata": {},
   "source": [
    "# Loading"
   ]
  },
  {
   "cell_type": "code",
   "execution_count": 18,
   "metadata": {
    "scrolled": true
   },
   "outputs": [
    {
     "data": {
      "text/plain": [
       "12"
      ]
     },
     "execution_count": 18,
     "metadata": {},
     "output_type": "execute_result"
    }
   ],
   "source": [
    "M8190A.write('SEQ:DEL:ALL')"
   ]
  },
  {
   "cell_type": "code",
   "execution_count": null,
   "metadata": {
    "scrolled": false
   },
   "outputs": [
    {
     "name": "stdout",
     "output_type": "stream",
     "text": [
      "Dummy File Loaded and playing\n",
      "Dummy File stopped and erased from AWGs memmory\n"
     ]
    }
   ],
   "source": [
    "Dummy_File(M8190A)"
   ]
  },
  {
   "cell_type": "code",
   "execution_count": 19,
   "metadata": {},
   "outputs": [],
   "source": [
    "Lock_In_Settings = {\n",
    "'Time Constant' : '100ms',\n",
    "'Sensitivity' : '50 miliVolts',\n",
    "'Reserve' : 'Normal',\n",
    "'db' : 24,\n",
    "'Modulation': '93Hz'\n",
    "}"
   ]
  },
  {
   "cell_type": "code",
   "execution_count": 20,
   "metadata": {},
   "outputs": [
    {
     "data": {
      "text/plain": [
       "32000"
      ]
     },
     "execution_count": 20,
     "metadata": {},
     "output_type": "execute_result"
    }
   ],
   "source": [
    "loop_number"
   ]
  },
  {
   "cell_type": "code",
   "execution_count": 21,
   "metadata": {},
   "outputs": [
    {
     "name": "stdout",
     "output_type": "stream",
     "text": [
      "Sequence loaded with the following segment data \"1,32000,0,1,0,527,2,32000,0,1,0,527\" and the advancement method is COND\n",
      "Average Value for measurement at step 0 is 1.4287875850909908 V\n",
      "Sequence loaded with the following segment data \"1,32000,0,1,0,527,2,32000,0,1,0,527\" and the advancement method is COND\n",
      "Average Value for measurement at step 1 is 1.4297529074484436 V\n",
      "Sequence loaded with the following segment data \"1,32000,0,1,0,527,2,32000,0,1,0,527\" and the advancement method is COND\n",
      "Average Value for measurement at step 2 is 1.478595485075236 V\n",
      "Sequence loaded with the following segment data \"1,32000,0,1,0,527,2,32000,0,1,0,527\" and the advancement method is COND\n",
      "Average Value for measurement at step 3 is 1.4933640768846441 V\n",
      "Sequence loaded with the following segment data \"1,32000,0,1,0,527,2,32000,0,1,0,527\" and the advancement method is COND\n",
      "Average Value for measurement at step 4 is 1.5113982296226183 V\n",
      "Sequence loaded with the following segment data \"1,32000,0,1,0,527,2,32000,0,1,0,527\" and the advancement method is COND\n",
      "Average Value for measurement at step 5 is 1.522063806889092 V\n",
      "Sequence loaded with the following segment data \"1,32000,0,1,0,527,2,32000,0,1,0,527\" and the advancement method is COND\n",
      "Average Value for measurement at step 6 is 1.494522384909039 V\n",
      "Sequence loaded with the following segment data \"1,32000,0,1,0,527,2,32000,0,1,0,527\" and the advancement method is COND\n",
      "Average Value for measurement at step 7 is 1.4714217369739995 V\n",
      "Sequence loaded with the following segment data \"1,32000,0,1,0,527,2,32000,0,1,0,527\" and the advancement method is COND\n",
      "Average Value for measurement at step 8 is 1.4355591807356762 V\n",
      "Sequence loaded with the following segment data \"1,32000,0,1,0,527,2,32000,0,1,0,527\" and the advancement method is COND\n",
      "Average Value for measurement at step 9 is 1.3867711348805392 V\n",
      "Sequence loaded with the following segment data \"1,32000,0,1,0,527,2,32000,0,1,0,527\" and the advancement method is COND\n",
      "Average Value for measurement at step 10 is 1.3372208202198934 V\n",
      "Sequence loaded with the following segment data \"1,32000,0,1,0,527,2,32000,0,1,0,527\" and the advancement method is COND\n",
      "Average Value for measurement at step 11 is 1.3219190558552885 V\n",
      "Sequence loaded with the following segment data \"1,32000,0,1,0,527,2,32000,0,1,0,527\" and the advancement method is COND\n",
      "Average Value for measurement at step 12 is 1.2897634881971867 V\n",
      "Sequence loaded with the following segment data \"1,32000,0,1,0,527,2,32000,0,1,0,527\" and the advancement method is COND\n",
      "Average Value for measurement at step 13 is 1.256978844941973 V\n",
      "Sequence loaded with the following segment data \"1,32000,0,1,0,527,2,32000,0,1,0,527\" and the advancement method is COND\n",
      "Average Value for measurement at step 14 is 1.1822901129548975 V\n",
      "Sequence loaded with the following segment data \"1,32000,0,1,0,527,2,32000,0,1,0,527\" and the advancement method is COND\n",
      "Average Value for measurement at step 15 is 1.1256917690086161 V\n",
      "Sequence loaded with the following segment data \"1,32000,0,1,0,527,2,32000,0,1,0,527\" and the advancement method is COND\n",
      "Average Value for measurement at step 16 is 1.1499770863416485 V\n",
      "Sequence loaded with the following segment data \"1,32000,0,1,0,527,2,32000,0,1,0,527\" and the advancement method is COND\n",
      "Average Value for measurement at step 17 is 1.2071637291052466 V\n",
      "Sequence loaded with the following segment data \"1,32000,0,1,0,527,2,32000,0,1,0,527\" and the advancement method is COND\n",
      "Average Value for measurement at step 18 is 1.248987377946798 V\n",
      "Sequence loaded with the following segment data \"1,32000,0,1,0,527,2,32000,0,1,0,527\" and the advancement method is COND\n",
      "Average Value for measurement at step 19 is 1.265290047025706 V\n",
      "Sequence loaded with the following segment data \"1,32000,0,1,0,527,2,32000,0,1,0,527\" and the advancement method is COND\n",
      "Average Value for measurement at step 20 is 1.328619678388816 V\n",
      "Sequence loaded with the following segment data \"1,32000,0,1,0,527,2,32000,0,1,0,527\" and the advancement method is COND\n",
      "Average Value for measurement at step 21 is 1.359964103892727 V\n",
      "Sequence loaded with the following segment data \"1,32000,0,1,0,527,2,32000,0,1,0,527\" and the advancement method is COND\n",
      "Average Value for measurement at step 22 is 1.4235308668045308 V\n",
      "Sequence loaded with the following segment data \"1,32000,0,1,0,527,2,32000,0,1,0,527\" and the advancement method is COND\n",
      "Average Value for measurement at step 23 is 1.428164032604461 V\n",
      "Sequence loaded with the following segment data \"1,32000,0,1,0,527,2,32000,0,1,0,527\" and the advancement method is COND\n",
      "Average Value for measurement at step 24 is 1.4695997533419574 V\n",
      "Sequence loaded with the following segment data \"1,32000,0,1,0,527,2,32000,0,1,0,527\" and the advancement method is COND\n",
      "Average Value for measurement at step 25 is 1.473270162374409 V\n",
      "Sequence loaded with the following segment data \"1,32000,0,1,0,527,2,32000,0,1,0,527\" and the advancement method is COND\n",
      "Average Value for measurement at step 26 is 1.495152383453524 V\n",
      "Sequence loaded with the following segment data \"1,32000,0,1,0,527,2,32000,0,1,0,527\" and the advancement method is COND\n",
      "Average Value for measurement at step 27 is 1.4937126216752454 V\n",
      "Sequence loaded with the following segment data \"1,32000,0,1,0,527,2,32000,0,1,0,527\" and the advancement method is COND\n",
      "Average Value for measurement at step 28 is 1.467412386376759 V\n",
      "Sequence loaded with the following segment data \"1,32000,0,1,0,527,2,32000,0,1,0,527\" and the advancement method is COND\n",
      "Average Value for measurement at step 29 is 1.4701486505764396 V\n",
      "Sequence loaded with the following segment data \"1,32000,0,1,0,527,2,32000,0,1,0,527\" and the advancement method is COND\n",
      "Average Value for measurement at step 30 is 1.443117912835635 V\n"
     ]
    }
   ],
   "source": [
    "playingtime = 7\n",
    "\n",
    "Diode_Signal, averaged_data = Voltage_Autocorrelation_loop_cut(M8190A,DAQ_Settings1,playingtime,sweeping_run_a_25nano,sweeping_run_b_25nano,PulseScheme_A_25nano['Measurement file Path'],Lock_In_Settings,loop_number,2)"
   ]
  },
  {
   "cell_type": "code",
   "execution_count": 22,
   "metadata": {},
   "outputs": [
    {
     "data": {
      "image/png": "[encoded data removed]",
      "text/plain": [
       "<Figure size 432x288 with 1 Axes>"
      ]
     },
     "metadata": {
      "needs_background": "light"
     },
     "output_type": "display_data"
    }
   ],
   "source": [
    "fig,ax= plt.subplots()\n",
    "ax.grid(True)\n",
    "for i in range(0,len(Diode_Signal)):\n",
    "    plt.plot(Diode_Signal[i][1],Diode_Signal[i][0],label= 'Step {st}'.format(st = i ))\n",
    "\n",
    "ax.set_ylabel(r'V  [V]')\n",
    "ax.set_xlabel('t  [s]')\n",
    "ax.set_title(r' Diode Signal at Different Steps,  {b} Samples, 100ns probe duration'.format(b = len(Diode_Signal[0][1]) ))\n",
    "#ax.legend(bbox_to_anchor=(1.05, 1), loc='upper left', borderaxespad=0.)\n",
    "#ax.legend(loc=0)\n",
    "plt.show()\n",
    "\n",
    "fig.savefig(r'{loc}\\Diode Signal time cstant = {a}, sensitivity {b},{c} daqseconds, , probe duration 100 nano,71 steps, 93 Hz no legend, .jpeg'.format(loc = PulseScheme_A_25nano['Measurement file Path'],a = Lock_In_Settings['Time Constant'], b = Lock_In_Settings['Sensitivity'], c = playingtime),bbox_inches='tight')"
   ]
  },
  {
   "cell_type": "code",
   "execution_count": 23,
   "metadata": {},
   "outputs": [],
   "source": [
    "time_delay = np.linspace(-50,50,31)"
   ]
  },
  {
   "cell_type": "code",
   "execution_count": null,
   "metadata": {},
   "outputs": [],
   "source": [
    "%matplotlib widget"
   ]
  },
  {
   "cell_type": "code",
   "execution_count": 41,
   "metadata": {},
   "outputs": [
    {
     "data": {
      "text/plain": [
       "1.25e-10"
      ]
     },
     "execution_count": 41,
     "metadata": {},
     "output_type": "execute_result"
    }
   ],
   "source": [
    "1/8e9"
   ]
  },
  {
   "cell_type": "code",
   "execution_count": 26,
   "metadata": {},
   "outputs": [],
   "source": [
    "%matplotlib inline"
   ]
  },
  {
   "cell_type": "code",
   "execution_count": 30,
   "metadata": {},
   "outputs": [
    {
     "data": {
      "image/png": "[encoded data removed]",
      "text/plain": [
       "<Figure size 432x288 with 1 Axes>"
      ]
     },
     "metadata": {
      "needs_background": "light"
     },
     "output_type": "display_data"
    }
   ],
   "source": [
    "#change this to V regime\n",
    "fig,axes = plt.subplots()\n",
    "\n",
    "axes.grid(True)\n",
    "\n",
    "plt.plot(time_delay,averaged_data,'.-',label=r'25 ns Probe Width ',color='black')\n",
    "#plt.plot(tm,pul,label = '{a} samples'.format(a = len(pul)))\n",
    "\n",
    "axes.set_xlabel(r'time delay [ns]')\n",
    "axes.set_ylabel(r'Diode Signal [V]')\n",
    "axes.set_title('Auto-Correlation 71 steps ')\n",
    "\n",
    "axes.legend(loc = 9)\n",
    "plt.show()\n",
    "\n",
    "fig.savefig(r'{loc}\\Autocorrelation function 31 steps 100nano 93Hz length tc = {a}, sens {b}, {c}s DAQ .jpeg'.format(loc = PulseScheme_A_25nano['Measurement file Path'],a = Lock_In_Settings['Time Constant'], b = Lock_In_Settings['Sensitivity'], c = playingtime ))"
   ]
  },
  {
   "cell_type": "code",
   "execution_count": null,
   "metadata": {},
   "outputs": [],
   "source": [
    "100,\n",
    "50,\n",
    "25\n",
    "10"
   ]
  },
  {
   "cell_type": "code",
   "execution_count": 110,
   "metadata": {},
   "outputs": [],
   "source": [
    "pasted = loadtxt('{loc}\\\\first half.csv'.format(loc = PulseScheme_A_25nano['Measurement file Path']),delimiter= \",\")"
   ]
  },
  {
   "cell_type": "code",
   "execution_count": 111,
   "metadata": {},
   "outputs": [],
   "source": [
    "time_delay = np.linspace(-50,50,72)"
   ]
  },
  {
   "cell_type": "code",
   "execution_count": 113,
   "metadata": {},
   "outputs": [
    {
     "data": {
      "image/png": "[encoded data removed]",
      "text/plain": [
       "<Figure size 432x288 with 1 Axes>"
      ]
     },
     "metadata": {
      "needs_background": "light"
     },
     "output_type": "display_data"
    }
   ],
   "source": [
    "#change this to V regime\n",
    "fig,axes = plt.subplots()\n",
    "\n",
    "axes.grid(True)\n",
    "\n",
    "plt.plot(time_delay,pasted,label=r'25 ns Probe Width ',color='black')\n",
    "#plt.plot(tm,pul,label = '{a} samples'.format(a = len(pul)))\n",
    "\n",
    "axes.set_xlabel(r'time delay [ns]')\n",
    "axes.set_ylabel(r'Diode Signal [V]')\n",
    "axes.set_title('Auto-Correlation 71 steps ')\n",
    "\n",
    "axes.legend(loc = 0)\n",
    "plt.show()\n",
    "\n",
    "fig.savefig(r'{loc}\\Autocorrelation function 31 steps 100nano 93Hz length tc = {a}, sens {b}, {c}s DAQ pasted.jpeg'.format(loc = PulseScheme_A_25nano['Measurement file Path'],a = Lock_In_Settings['Time Constant'], b = Lock_In_Settings['Sensitivity'], c = playingtime ))"
   ]
  },
  {
   "cell_type": "code",
   "execution_count": null,
   "metadata": {},
   "outputs": [],
   "source": []
  }
 ],
 "metadata": {
  "interpreter": {
   "hash": "9a32f0bf53af15acd232504180dc0ef28b8a6ac1a49da0a6c374e1f45bb445b6"
  },
  "kernelspec": {
   "display_name": "Python 3.8.5 64-bit ('base': conda)",
   "name": "python3"
  },
  "language_info": {
   "codemirror_mode": {
    "name": "ipython",
    "version": 3
   },
   "file_extension": ".py",
   "mimetype": "text/x-python",
   "name": "python",
   "nbconvert_exporter": "python",
   "pygments_lexer": "ipython3",
   "version": "3.8.5"
  },
  "orig_nbformat": 4
 },
 "nbformat": 4,
 "nbformat_minor": 2
}
