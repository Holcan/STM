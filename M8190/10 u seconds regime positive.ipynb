{
 "cells": [
  {
   "cell_type": "code",
   "execution_count": 1,
   "metadata": {},
   "outputs": [],
   "source": [
    "import numpy as np\n",
    "from numpy import loadtxt\n",
    "import pandas as pd\n",
    "import time\n",
    "import matplotlib\n",
    "import matplotlib.pyplot as plt\n",
    "import pyvisa as visa\n",
    "from matplotlib import animation\n",
    "from time import sleep\n",
    "from matplotlib.animation import FuncAnimation\n",
    "#Importing the functions from the module and the pulses dictionaries\n",
    "from Sweeping import *\n",
    "from Dictionaries import *\n",
    "from PulseFiles import *\n",
    "from Instrument import *\n",
    "import pyqtgraph as pg \n",
    "import nidaqmx\n",
    "import pickle"
   ]
  },
  {
   "cell_type": "markdown",
   "metadata": {},
   "source": [
    "# 10 micro"
   ]
  },
  {
   "cell_type": "code",
   "execution_count": null,
   "metadata": {},
   "outputs": [],
   "source": []
  },
  {
   "cell_type": "code",
   "execution_count": 2,
   "metadata": {},
   "outputs": [],
   "source": [
    "modulation = 93 #Hz\n",
    "loop_number = 75    \n",
    "res = 1/3002832000\n",
    "\n",
    "sam, sr , cycle_length = Adj9(res,modulation,loop_number)"
   ]
  },
  {
   "cell_type": "code",
   "execution_count": 3,
   "metadata": {},
   "outputs": [
    {
     "data": {
      "text/plain": [
       "215280"
      ]
     },
     "execution_count": 3,
     "metadata": {},
     "output_type": "execute_result"
    }
   ],
   "source": [
    "sam"
   ]
  },
  {
   "cell_type": "code",
   "execution_count": 4,
   "metadata": {},
   "outputs": [
    {
     "data": {
      "text/plain": [
       "3003156000"
      ]
     },
     "execution_count": 4,
     "metadata": {},
     "output_type": "execute_result"
    }
   ],
   "source": [
    "sr"
   ]
  },
  {
   "cell_type": "code",
   "execution_count": 5,
   "metadata": {},
   "outputs": [
    {
     "data": {
      "text/plain": [
       "71.68458781362007"
      ]
     },
     "execution_count": 5,
     "metadata": {},
     "output_type": "execute_result"
    }
   ],
   "source": [
    "interval = cycle_length*1e6 #micro\n",
    "interval"
   ]
  },
  {
   "cell_type": "markdown",
   "metadata": {},
   "source": [
    "# AWG and Pulse files setup"
   ]
  },
  {
   "cell_type": "code",
   "execution_count": 6,
   "metadata": {},
   "outputs": [],
   "source": [
    "AWG_Settings_10micro= {\n",
    "    'Visa Resource Name': 'TCPIP0::ibn3-036.ibn-net.kfa-juelich.de::hislip0::INSTR',\n",
    "    'Voltage Amplitude':150,\n",
    "    'Clock Sample Frecuency':3003156000,\n",
    "    'Output_Channel': 1,\n",
    "    'Mode': 'STS',\n",
    "    'Trigger In Threshold' : 1,\n",
    "    'Output Rout': 'DC', #DAC output rout only has the BNC outputs: Direct Out and (Averaged) Direct Out # DC\n",
    "    'Data Directory': r'D:\\Alejandro\\Pulses\\diode measurements\\Prepared Pulse Schemes CSV\\60,30\\pos\\10micro'\n",
    "}"
   ]
  },
  {
   "cell_type": "code",
   "execution_count": 7,
   "metadata": {},
   "outputs": [],
   "source": [
    "M8190A = VisaR(AWG_Settings_10micro,60000)"
   ]
  },
  {
   "cell_type": "code",
   "execution_count": 8,
   "metadata": {},
   "outputs": [
    {
     "data": {
      "text/plain": [
       "21"
      ]
     },
     "execution_count": 8,
     "metadata": {},
     "output_type": "execute_result"
    }
   ],
   "source": [
    "M8190A.write('FREQ:RAST {fr}'.format(fr =sr))"
   ]
  },
  {
   "cell_type": "code",
   "execution_count": null,
   "metadata": {},
   "outputs": [
    {
     "name": "stdout",
     "output_type": "stream",
     "text": [
      "Instruments Sampling Frecuency set to 1.25760000000000E+08Hz\n",
      "Instruments Direct Out DAC Output route Voltage set to 7.00000000000000E-01Volts\n",
      "AWG_Settings_Dict set to TRIGGERED Mode\n",
      "Trigger In threshold value set to 1.00000000000000E+00V\n"
     ]
    }
   ],
   "source": [
    "Initialization(M8190A,AWG_Settings_10micro)"
   ]
  },
  {
   "cell_type": "code",
   "execution_count": 9,
   "metadata": {},
   "outputs": [],
   "source": [
    "Pump_10micro = {\n",
    "    'Name':'Pump_10micro',\n",
    "    'Amplitude': 2*60,\n",
    "    'Start time':30,\n",
    "    'End time':2e-10,\n",
    "    'Start Duration':10,\n",
    "    'End Duration':60,\n",
    "    'Sweep time':0,\n",
    "    'Sweep Duration':0\n",
    "}"
   ]
  },
  {
   "cell_type": "code",
   "execution_count": 10,
   "metadata": {},
   "outputs": [],
   "source": [
    "ProbeA_10micro = {\n",
    "    'Name':'ProbeA_10micro',\n",
    "    'Amplitude':2*30,\n",
    "    'Start time':10,\n",
    "    'End time':50,\n",
    "    'Start Duration':10,\n",
    "    'End Duration':60,\n",
    "    'Sweep time':1,\n",
    "    'Sweep Duration':0\n",
    "}"
   ]
  },
  {
   "cell_type": "code",
   "execution_count": 11,
   "metadata": {},
   "outputs": [],
   "source": [
    "ProbeB_10micro= {\n",
    "    'Name':'ProbeB_10micro',\n",
    "    'Amplitude':-2*30,\n",
    "    'Start time':10,\n",
    "    'End time':50,\n",
    "    'Start Duration':10,\n",
    "    'End Duration':60,\n",
    "    'Sweep time':1,\n",
    "    'Sweep Duration':0\n",
    "}"
   ]
  },
  {
   "cell_type": "code",
   "execution_count": 12,
   "metadata": {},
   "outputs": [],
   "source": [
    "PulseScheme_A_10micro =  {\n",
    "    'Name' : 'PulseScheme_A_10micro',\n",
    "    'Pulse Scheme': [Pump_10micro,ProbeA_10micro],\n",
    "    'Number of repetitions': 1,\n",
    "    'Measurement file Path': r'D:\\Alejandro\\Pulses\\diode measurements\\Autocorrelation measurements\\60,30\\pos\\10micro'\n",
    "}"
   ]
  },
  {
   "cell_type": "code",
   "execution_count": 13,
   "metadata": {},
   "outputs": [],
   "source": [
    "PulseScheme_B_10micro =  {\n",
    "    'Name' : 'PulseScheme_B_10micro',\n",
    "    'Pulse Scheme': [Pump_10micro,ProbeB_10micro],\n",
    "    'Number of repetitions': 1,\n",
    "    'Measurement file Path': r'D:\\Alejandro\\Pulses\\diode measurements\\Autocorrelation measurements\\60,30\\pos\\10micro'\n",
    "}"
   ]
  },
  {
   "cell_type": "code",
   "execution_count": 15,
   "metadata": {},
   "outputs": [
    {
     "data": {
      "text/plain": [
       "'D:\\\\Alejandro\\\\Pulses\\\\diode measurements\\\\Autocorrelation measurements\\\\60,30\\\\pos\\\\10micro'"
      ]
     },
     "execution_count": 15,
     "metadata": {},
     "output_type": "execute_result"
    }
   ],
   "source": [
    "PulseScheme_A_10micro['Measurement file Path']"
   ]
  },
  {
   "cell_type": "code",
   "execution_count": 15,
   "metadata": {
    "scrolled": true
   },
   "outputs": [
    {
     "data": {
      "image/png": "[encoded data removed]",
      "text/plain": [
       "<Figure size 432x288 with 1 Axes>"
      ]
     },
     "metadata": {
      "needs_background": "light"
     },
     "output_type": "display_data"
    }
   ],
   "source": [
    "step = 30\n",
    "pul1 = Sweep_teil(PulseScheme_A_10micro,30,step,interval,sam)\n",
    "\n",
    "\n",
    "#Plot\n",
    "fig,ax= plt.subplots()\n",
    "ax.grid(True)\n",
    "\n",
    "plt.plot(pul1[1],pul1[0]/2,label= '{b} samples'.format(b = sam),color='orange')\n",
    "\n",
    "ax.set_ylabel('V  [mV]')\n",
    "ax.set_xlabel(r't [$\\mu$s]')\n",
    "ax.set_title('Cycle A at step {a}'.format(a = step )) #Voltage Offset = 3mV, Marker Ampl = 50mV \n",
    "#ax.legend(loc=0)\n",
    "#plt.legend(bbox_to_anchor=(2.05, 1), loc='upper left', borderaxespad=0.)\n",
    "plt.show()\n",
    "\n",
    "fig.savefig(r'{loc}\\Cycle A, Probe width 1micro 90 hz mod 75 loop.jpeg'.format(loc = PulseScheme_A_10micro['Measurement file Path']),bbox_inches='tight')"
   ]
  },
  {
   "cell_type": "code",
   "execution_count": 30,
   "metadata": {
    "scrolled": true
   },
   "outputs": [
    {
     "data": {
      "image/png": "[encoded data removed]",
      "text/plain": [
       "<Figure size 432x288 with 1 Axes>"
      ]
     },
     "metadata": {
      "needs_background": "light"
     },
     "output_type": "display_data"
    }
   ],
   "source": [
    "step = 0\n",
    "pul1 = Sweep_teil(PulseScheme_A_10micro,30,step,interval,sam)\n",
    "\n",
    "\n",
    "#Plot\n",
    "fig,ax= plt.subplots()\n",
    "ax.grid(True)\n",
    "\n",
    "plt.plot(pul1[1],pul1[0]/2,label= '{b} samples'.format(b = sam),color='orange')\n",
    "\n",
    "ax.set_ylabel('V  [mV]')\n",
    "ax.set_xlabel(r't [$\\mu$s]')\n",
    "ax.set_title('Cycle A at step {a}'.format(a = step )) #Voltage Offset = 3mV, Marker Ampl = 50mV \n",
    "#ax.legend(loc=0)\n",
    "#plt.legend(bbox_to_anchor=(2.05, 1), loc='upper left', borderaxespad=0.)\n",
    "plt.show()\n",
    "\n",
    "fig.savefig(r'{loc}\\Cycle A, Probe width 1micro 90 hz mod 75 loop.jpeg'.format(loc = PulseScheme_A_10micro['Measurement file Path']),bbox_inches='tight')"
   ]
  },
  {
   "cell_type": "code",
   "execution_count": 31,
   "metadata": {
    "scrolled": true
   },
   "outputs": [
    {
     "data": {
      "image/png": "[encoded data removed]",
      "text/plain": [
       "<Figure size 432x288 with 1 Axes>"
      ]
     },
     "metadata": {
      "needs_background": "light"
     },
     "output_type": "display_data"
    }
   ],
   "source": [
    "step = 0\n",
    "pul1 = Sweep_teil(PulseScheme_B_10micro,30,step,interval,sam)\n",
    "\n",
    "\n",
    "#Plot\n",
    "fig,ax= plt.subplots()\n",
    "ax.grid(True)\n",
    "\n",
    "plt.plot(pul1[1],pul1[0]/2,label= '{b} samples'.format(b = sam),color='orange')\n",
    "\n",
    "ax.set_ylabel('V  [mV]')\n",
    "ax.set_xlabel(r't [$\\mu$s]')\n",
    "ax.set_title('Cycle B at step {a}'.format(a = step )) #Voltage Offset = 3mV, Marker Ampl = 50mV \n",
    "#ax.legend(loc=0)\n",
    "#plt.legend(bbox_to_anchor=(2.05, 1), loc='upper left', borderaxespad=0.)\n",
    "plt.show()\n",
    "\n",
    "fig.savefig(r'{loc}\\Cycle B, Probe width 1micro 90 hz mod 75 loop.jpeg'.format(loc = PulseScheme_A_10micro['Measurement file Path']),bbox_inches='tight')"
   ]
  },
  {
   "cell_type": "code",
   "execution_count": 32,
   "metadata": {
    "scrolled": true
   },
   "outputs": [
    {
     "data": {
      "image/png": "[encoded data removed]",
      "text/plain": [
       "<Figure size 432x288 with 1 Axes>"
      ]
     },
     "metadata": {
      "needs_background": "light"
     },
     "output_type": "display_data"
    }
   ],
   "source": [
    "step = 30\n",
    "pul1 = Sweep_teil(PulseScheme_B_10micro,30,step,interval,sam)\n",
    "\n",
    "\n",
    "#Plot\n",
    "fig,ax= plt.subplots()\n",
    "ax.grid(True)\n",
    "\n",
    "plt.plot(pul1[1],pul1[0]/2,label= '{b} samples'.format(b = sam),color='orange')\n",
    "\n",
    "ax.set_ylabel('V  [mV]')\n",
    "ax.set_xlabel(r't [$\\mu$s]')\n",
    "ax.set_title('Cycle B at step {a}'.format(a = step )) #Voltage Offset = 3mV, Marker Ampl = 50mV \n",
    "#ax.legend(loc=0)\n",
    "#plt.legend(bbox_to_anchor=(2.05, 1), loc='upper left', borderaxespad=0.)\n",
    "plt.show()\n",
    "\n",
    "fig.savefig(r'{loc}\\Cycle B, Probe width 1micro 90 hz mod 75 loop.jpeg'.format(loc = PulseScheme_A_10micro['Measurement file Path']),bbox_inches='tight')"
   ]
  },
  {
   "cell_type": "code",
   "execution_count": 36,
   "metadata": {},
   "outputs": [
    {
     "data": {
      "text/plain": [
       "4"
      ]
     },
     "execution_count": 36,
     "metadata": {},
     "output_type": "execute_result"
    }
   ],
   "source": [
    "2+2"
   ]
  },
  {
   "cell_type": "code",
   "execution_count": 33,
   "metadata": {},
   "outputs": [],
   "source": [
    "sweeping_run_a_10micro = Sweeping_Single_List_File_teil(PulseScheme_A_10micro,30,interval,sam,0,30,AWG_Settings_10micro,'A')[0]"
   ]
  },
  {
   "cell_type": "code",
   "execution_count": 34,
   "metadata": {},
   "outputs": [],
   "source": [
    "sweeping_run_b_10micro = Sweeping_Single_List_File_teil(PulseScheme_B_10micro,30,interval,sam,0,30,AWG_Settings_10micro,'B')[0]"
   ]
  },
  {
   "cell_type": "code",
   "execution_count": 35,
   "metadata": {},
   "outputs": [],
   "source": [
    "#Exporting pickle\n",
    "\n",
    "with open(r\"{dict}\\cycleA_31steps_93Hz_10micro_3002832000GHz.p\".format(dict = PulseScheme_A_10micro['Measurement file Path']), \"wb\") as k:\n",
    "    pickle.dump(sweeping_run_a_10micro, k)\n",
    "\n",
    "\n",
    "with open(r\"{dict}\\cycleB_31steps_93Hz_10micro_3002832000GHz.p\".format(dict = PulseScheme_B_10micro['Measurement file Path']), \"wb\") as h:\n",
    "    pickle.dump(sweeping_run_b_10micro, h)"
   ]
  },
  {
   "cell_type": "code",
   "execution_count": 14,
   "metadata": {},
   "outputs": [],
   "source": [
    "#Importing Pickle\n",
    "\n",
    "with open(r\"{dict}\\cycleA_31steps_93Hz_10micro_3002832000GHz.p\".format(dict = PulseScheme_A_10micro['Measurement file Path']), \"rb\") as j:\n",
    "    sweeping_run_a_10micro = pickle.load(j)\n",
    "\n",
    "with open(r\"{dict}\\cycleB_31steps_93Hz_10micro_3002832000GHz.p\".format(dict = PulseScheme_A_10micro['Measurement file Path']), \"rb\") as f:\n",
    "    sweeping_run_b_10micro= pickle.load(f)"
   ]
  },
  {
   "cell_type": "code",
   "execution_count": 17,
   "metadata": {},
   "outputs": [
    {
     "data": {
      "text/plain": [
       "'D:\\\\Alejandro\\\\Pulses\\\\diode measurements\\\\Prepared Pulse Schemes CSV\\\\60,30\\\\pos\\\\10micro\\\\SegmentA_215280_30.csv'"
      ]
     },
     "execution_count": 17,
     "metadata": {},
     "output_type": "execute_result"
    }
   ],
   "source": [
    "sweeping_run_a_10micro['Pulse File Location, at step 30']"
   ]
  },
  {
   "cell_type": "code",
   "execution_count": 18,
   "metadata": {},
   "outputs": [
    {
     "data": {
      "text/plain": [
       "'D:\\\\Alejandro\\\\Pulses\\\\diode measurements\\\\Prepared Pulse Schemes CSV\\\\60,30\\\\pos\\\\10micro\\\\SegmentB_215280_30.csv'"
      ]
     },
     "execution_count": 18,
     "metadata": {},
     "output_type": "execute_result"
    }
   ],
   "source": [
    "sweeping_run_b_10micro['Pulse File Location, at step 30']"
   ]
  },
  {
   "cell_type": "code",
   "execution_count": null,
   "metadata": {},
   "outputs": [
    {
     "data": {
      "text/plain": [
       "75"
      ]
     },
     "metadata": {},
     "output_type": "display_data"
    }
   ],
   "source": [
    "loop_micro"
   ]
  },
  {
   "cell_type": "code",
   "execution_count": null,
   "metadata": {},
   "outputs": [
    {
     "name": "stdout",
     "output_type": "stream",
     "text": [
      "Sequence loaded with the following segment data \"1,8,0,1,0,1919999,2,8,0,1,0,1919999\" and the advancement method is COND\n"
     ]
    },
    {
     "data": {
      "text/plain": [
       "0"
      ]
     },
     "metadata": {},
     "output_type": "display_data"
    }
   ],
   "source": [
    "Sequence_File(M8190A,sweeping_runa_10micro['Pulse File Location, at step 30'],sweeping_runb_10micro['Pulse File Location, at step 30'],75)"
   ]
  },
  {
   "cell_type": "markdown",
   "metadata": {},
   "source": [
    "# Loading"
   ]
  },
  {
   "cell_type": "code",
   "execution_count": 15,
   "metadata": {
    "scrolled": true
   },
   "outputs": [
    {
     "data": {
      "text/plain": [
       "12"
      ]
     },
     "execution_count": 15,
     "metadata": {},
     "output_type": "execute_result"
    }
   ],
   "source": [
    "M8190A.write('SEQ:DEL:ALL')"
   ]
  },
  {
   "cell_type": "code",
   "execution_count": null,
   "metadata": {},
   "outputs": [
    {
     "name": "stdout",
     "output_type": "stream",
     "text": [
      "Dummy File Loaded and playing\n",
      "Dummy File stopped and erased from AWGs memmory\n"
     ]
    }
   ],
   "source": [
    "Dummy_File(M8190A)"
   ]
  },
  {
   "cell_type": "code",
   "execution_count": 16,
   "metadata": {},
   "outputs": [],
   "source": [
    "Lock_In_Settings = {\n",
    "'Time Constant' : '100ms',\n",
    "'Sensitivity' : '50 miliVolts',\n",
    "'Reserve' : 'Normal',\n",
    "'db' : 24,\n",
    "'Modulation': '93Hz'\n",
    "}"
   ]
  },
  {
   "cell_type": "code",
   "execution_count": 17,
   "metadata": {},
   "outputs": [
    {
     "data": {
      "text/plain": [
       "75"
      ]
     },
     "execution_count": 17,
     "metadata": {},
     "output_type": "execute_result"
    }
   ],
   "source": [
    "loop_number"
   ]
  },
  {
   "cell_type": "code",
   "execution_count": 18,
   "metadata": {},
   "outputs": [
    {
     "name": "stdout",
     "output_type": "stream",
     "text": [
      "Sequence loaded with the following segment data \"1,75,0,1,0,215279,2,75,0,1,0,215279\" and the advancement method is COND\n",
      "Average Value for measurement at step 0 is 1.4065862893030587 V\n",
      "Sequence loaded with the following segment data \"1,75,0,1,0,215279,2,75,0,1,0,215279\" and the advancement method is COND\n",
      "Average Value for measurement at step 1 is 1.3977444078256336 V\n",
      "Sequence loaded with the following segment data \"1,75,0,1,0,215279,2,75,0,1,0,215279\" and the advancement method is COND\n",
      "Average Value for measurement at step 2 is 1.3816730676443922 V\n",
      "Sequence loaded with the following segment data \"1,75,0,1,0,215279,2,75,0,1,0,215279\" and the advancement method is COND\n",
      "Average Value for measurement at step 3 is 1.392179136618012 V\n",
      "Sequence loaded with the following segment data \"1,75,0,1,0,215279,2,75,0,1,0,215279\" and the advancement method is COND\n",
      "Average Value for measurement at step 4 is 1.3908534957590148 V\n",
      "Sequence loaded with the following segment data \"1,75,0,1,0,215279,2,75,0,1,0,215279\" and the advancement method is COND\n",
      "Average Value for measurement at step 5 is 1.3838310983521853 V\n",
      "Sequence loaded with the following segment data \"1,75,0,1,0,215279,2,75,0,1,0,215279\" and the advancement method is COND\n",
      "Average Value for measurement at step 6 is 1.3606031793190927 V\n",
      "Sequence loaded with the following segment data \"1,75,0,1,0,215279,2,75,0,1,0,215279\" and the advancement method is COND\n",
      "Average Value for measurement at step 7 is 1.3485977568558163 V\n",
      "Sequence loaded with the following segment data \"1,75,0,1,0,215279,2,75,0,1,0,215279\" and the advancement method is COND\n",
      "Average Value for measurement at step 8 is 1.317964826249042 V\n",
      "Sequence loaded with the following segment data \"1,75,0,1,0,215279,2,75,0,1,0,215279\" and the advancement method is COND\n",
      "Average Value for measurement at step 9 is 1.268585007825734 V\n",
      "Sequence loaded with the following segment data \"1,75,0,1,0,215279,2,75,0,1,0,215279\" and the advancement method is COND\n",
      "Average Value for measurement at step 10 is 1.2010519964602282 V\n",
      "Sequence loaded with the following segment data \"1,75,0,1,0,215279,2,75,0,1,0,215279\" and the advancement method is COND\n",
      "Average Value for measurement at step 11 is 1.1286273314612454 V\n",
      "Sequence loaded with the following segment data \"1,75,0,1,0,215279,2,75,0,1,0,215279\" and the advancement method is COND\n",
      "Average Value for measurement at step 12 is 1.0573462485772662 V\n",
      "Sequence loaded with the following segment data \"1,75,0,1,0,215279,2,75,0,1,0,215279\" and the advancement method is COND\n",
      "Average Value for measurement at step 13 is 0.981558234768577 V\n",
      "Sequence loaded with the following segment data \"1,75,0,1,0,215279,2,75,0,1,0,215279\" and the advancement method is COND\n",
      "Average Value for measurement at step 14 is 0.9073824537567918 V\n",
      "Sequence loaded with the following segment data \"1,75,0,1,0,215279,2,75,0,1,0,215279\" and the advancement method is COND\n",
      "Average Value for measurement at step 15 is 0.8407402795089092 V\n",
      "Sequence loaded with the following segment data \"1,75,0,1,0,215279,2,75,0,1,0,215279\" and the advancement method is COND\n",
      "Average Value for measurement at step 16 is 0.9042234528959922 V\n",
      "Sequence loaded with the following segment data \"1,75,0,1,0,215279,2,75,0,1,0,215279\" and the advancement method is COND\n",
      "Average Value for measurement at step 17 is 0.980411504241042 V\n",
      "Sequence loaded with the following segment data \"1,75,0,1,0,215279,2,75,0,1,0,215279\" and the advancement method is COND\n",
      "Average Value for measurement at step 18 is 1.0479690910653439 V\n",
      "Sequence loaded with the following segment data \"1,75,0,1,0,215279,2,75,0,1,0,215279\" and the advancement method is COND\n",
      "Average Value for measurement at step 19 is 1.119636143745611 V\n",
      "Sequence loaded with the following segment data \"1,75,0,1,0,215279,2,75,0,1,0,215279\" and the advancement method is COND\n",
      "Average Value for measurement at step 20 is 1.1967834263498018 V\n",
      "Sequence loaded with the following segment data \"1,75,0,1,0,215279,2,75,0,1,0,215279\" and the advancement method is COND\n",
      "Average Value for measurement at step 21 is 1.2774398450822106 V\n",
      "Sequence loaded with the following segment data \"1,75,0,1,0,215279,2,75,0,1,0,215279\" and the advancement method is COND\n",
      "Average Value for measurement at step 22 is 1.3584781680241993 V\n",
      "Sequence loaded with the following segment data \"1,75,0,1,0,215279,2,75,0,1,0,215279\" and the advancement method is COND\n",
      "Average Value for measurement at step 23 is 1.4110654743782451 V\n",
      "Sequence loaded with the following segment data \"1,75,0,1,0,215279,2,75,0,1,0,215279\" and the advancement method is COND\n",
      "Average Value for measurement at step 24 is 1.3939641541121157 V\n",
      "Sequence loaded with the following segment data \"1,75,0,1,0,215279,2,75,0,1,0,215279\" and the advancement method is COND\n",
      "Average Value for measurement at step 25 is 1.379517733723098 V\n",
      "Sequence loaded with the following segment data \"1,75,0,1,0,215279,2,75,0,1,0,215279\" and the advancement method is COND\n",
      "Average Value for measurement at step 26 is 1.3853103909616669 V\n",
      "Sequence loaded with the following segment data \"1,75,0,1,0,215279,2,75,0,1,0,215279\" and the advancement method is COND\n",
      "Average Value for measurement at step 27 is 1.414579139808875 V\n",
      "Sequence loaded with the following segment data \"1,75,0,1,0,215279,2,75,0,1,0,215279\" and the advancement method is COND\n",
      "Average Value for measurement at step 28 is 1.4196239948849187 V\n",
      "Sequence loaded with the following segment data \"1,75,0,1,0,215279,2,75,0,1,0,215279\" and the advancement method is COND\n",
      "Average Value for measurement at step 29 is 1.4022779234502805 V\n",
      "Sequence loaded with the following segment data \"1,75,0,1,0,215279,2,75,0,1,0,215279\" and the advancement method is COND\n",
      "Average Value for measurement at step 30 is 1.4059264945474885 V\n"
     ]
    }
   ],
   "source": [
    "playingtime = 7\n",
    "\n",
    "data, averaged_data = Voltage_Autocorrelation_loop_cut(M8190A,DAQ_Settings1,playingtime,sweeping_run_a_10micro,sweeping_run_b_10micro,PulseScheme_A_10micro['Measurement file Path'],Lock_In_Settings,loop_number,2)"
   ]
  },
  {
   "cell_type": "code",
   "execution_count": 19,
   "metadata": {},
   "outputs": [
    {
     "data": {
      "image/png": "[encoded data removed]",
      "text/plain": [
       "<Figure size 432x288 with 1 Axes>"
      ]
     },
     "metadata": {
      "needs_background": "light"
     },
     "output_type": "display_data"
    }
   ],
   "source": [
    "fig,ax= plt.subplots()\n",
    "ax.grid(True)\n",
    "for i in range(0,len(data)):\n",
    "    plt.plot(data[i][1],data[i][0],label= 'Step {st}'.format(st = i ))\n",
    "\n",
    "ax.set_ylabel(r'V  [arb. Units]')\n",
    "ax.set_xlabel('t  [s]')\n",
    "ax.set_title(r' STM Signal at Different Steps,  {b} Samples, 10$\\mu$s probe duration'.format(b = len(data[0][1]) ))\n",
    "#ax.legend(bbox_to_anchor=(1.05, 1), loc='upper left', borderaxespad=0.)\n",
    "#ax.legend(loc=0)\n",
    "plt.show()\n",
    "\n",
    "fig.savefig(r'{loc}\\STM Signal time cstant = {a}, sensitivity {b},{c} daqseconds, 5ms scheme, probe duration 10 micro,31 steps, no legend,6Ghz .jpeg'.format(loc = PulseScheme_A_10micro['Measurement file Path'],a = Lock_In_Settings['Time Constant'], b = Lock_In_Settings['Sensitivity'], c = playingtime),bbox_inches='tight')"
   ]
  },
  {
   "cell_type": "code",
   "execution_count": 20,
   "metadata": {},
   "outputs": [],
   "source": [
    "time_delay = np.linspace(-20,20,31)"
   ]
  },
  {
   "cell_type": "code",
   "execution_count": null,
   "metadata": {},
   "outputs": [],
   "source": [
    "%matplotlib widget"
   ]
  },
  {
   "cell_type": "code",
   "execution_count": 21,
   "metadata": {
    "scrolled": true
   },
   "outputs": [
    {
     "data": {
      "image/png": "[encoded data removed]",
      "text/plain": [
       "<Figure size 432x288 with 1 Axes>"
      ]
     },
     "metadata": {
      "needs_background": "light"
     },
     "output_type": "display_data"
    }
   ],
   "source": [
    "#change this to V regime\n",
    "fig,axes = plt.subplots()\n",
    "\n",
    "axes.grid(True)\n",
    "\n",
    "plt.plot(time_delay,averaged_data,'.',label=r'10$\\mu$s Probe Width ',color='red')\n",
    "#plt.plot(tm,pul,label = '{a} samples'.format(a = len(pul)))\n",
    "\n",
    "axes.set_xlabel(r'time delay [$\\mu$s]')\n",
    "axes.set_ylabel(r'STM Signal [arb. Units]')\n",
    "axes.set_title('Auto-Correlation 31 steps ')\n",
    "\n",
    "axes.legend(loc = 0)\n",
    "plt.show()\n",
    "\n",
    "fig.savefig(r'{loc}\\Autocorrelation function 31 steps probes 5ms length tc = {a}, sens {b}, {c}s DAQ .jpeg'.format(loc = PulseScheme_A_10micro['Measurement file Path'],a = Lock_In_Settings['Time Constant'], b = Lock_In_Settings['Sensitivity'], c = playingtime ))"
   ]
  },
  {
   "cell_type": "code",
   "execution_count": 22,
   "metadata": {},
   "outputs": [
    {
     "data": {
      "text/plain": [
       "(array([0.98577648, 0.99236172, 1.00425812, 0.99703028, 0.99833168,\n",
       "        1.00375072, 1.02124546, 1.03069887, 1.05502553, 1.09647748,\n",
       "        1.15853706, 1.23331375, 1.31691957, 1.41909901, 1.53564428,\n",
       "        1.65794963, 1.54208939, 1.42275131, 1.3314993 , 1.24670722,\n",
       "        1.1667498 , 1.09346454, 1.02859477, 0.99060739, 1.00311062,\n",
       "        1.01396928, 1.01008191, 0.98952775, 0.98635532, 0.99890472,\n",
       "        0.99665978]),\n",
       " 1.393905036164988,\n",
       " 0.00036626762689581784)"
      ]
     },
     "execution_count": 22,
     "metadata": {},
     "output_type": "execute_result"
    }
   ],
   "source": [
    "normalized_data = AutoCorrelation_Normalized(averaged_data,time_delay,7,7)\n",
    "np.savetxt(r'{loc}\\normalized Autocorrelation.csv'.format(loc = PulseScheme_A_10micro['Measurement file Path']),normalized_data[0],delimiter=',')\n",
    "normalized_data"
   ]
  },
  {
   "cell_type": "code",
   "execution_count": 23,
   "metadata": {},
   "outputs": [
    {
     "data": {
      "image/png": "[encoded data removed]",
      "text/plain": [
       "<Figure size 432x288 with 1 Axes>"
      ]
     },
     "metadata": {
      "needs_background": "light"
     },
     "output_type": "display_data"
    }
   ],
   "source": [
    "#change this to V regime\n",
    "fig,axes = plt.subplots()\n",
    "\n",
    "axes.grid(True)\n",
    "\n",
    "plt.plot(time_delay,normalized_data[0]-1,'.-',label=r'10 $\\mu$s Pulse Width ',color='red')\n",
    "#plt.plot(tm,pul,label = '{a} samples'.format(a = len(pul)))\n",
    "\n",
    "axes.set_xlabel(r'time delay [$\\mu$s]')\n",
    "axes.set_ylabel(r'STM Signal [arb Units]')\n",
    "axes.set_title('Normalized Auto-Correlation 31 steps ')\n",
    "\n",
    "axes.legend(loc = 0)\n",
    "plt.show()\n",
    "\n",
    "fig.savefig(r'{loc}\\Normalized Autocorrelation  Sigma STM function 31 steps 10u 93Hz length tc = {a}, sens {b}, {c}s DAQ.jpeg'.format(loc = PulseScheme_A_10micro['Measurement file Path'],a = Lock_In_Settings['Time Constant'], b = Lock_In_Settings['Sensitivity'], c = playingtime ))"
   ]
  },
  {
   "cell_type": "code",
   "execution_count": 16,
   "metadata": {},
   "outputs": [],
   "source": [
    "average10micro = loadtxt(r'{loc}\\averaged signal_31steps_20sdaqtime_90Hz_100ms_200 miliVolts.csv'.format(loc =PulseScheme_A_10micro['Measurement file Path']),delimiter = ',')\n",
    "average100micro =  loadtxt(r'{loc}\\100 averaged signal_31steps_20sdaqtime_90Hz_100ms_200 miliVolts.csv'.format(loc =PulseScheme_A_10micro['Measurement file Path']),delimiter = ',')"
   ]
  },
  {
   "cell_type": "code",
   "execution_count": 22,
   "metadata": {},
   "outputs": [],
   "source": [
    "time_delay = np.linspace(-20,20,30)"
   ]
  },
  {
   "cell_type": "code",
   "execution_count": 23,
   "metadata": {
    "scrolled": true
   },
   "outputs": [
    {
     "data": {
      "image/png": "[encoded data removed]",
      "text/plain": [
       "<Figure size 432x288 with 1 Axes>"
      ]
     },
     "metadata": {
      "needs_background": "light"
     },
     "output_type": "display_data"
    }
   ],
   "source": [
    "#change this to V regime\n",
    "fig,axes = plt.subplots()\n",
    "\n",
    "axes.grid(True)\n",
    "\n",
    "plt.plot(time_delay,average10micro,label=r'10$\\mu$s Probe Width ',color='red')\n",
    "#plt.plot(tm,pul,label = '{a} samples'.format(a = len(pul)))\n",
    "\n",
    "axes.set_xlabel(r'time delay [$\\mu$s]')\n",
    "axes.set_ylabel(r'STM Signal [V]')\n",
    "axes.set_title('Auto-Correlation 31 steps ')\n",
    "\n",
    "axes.legend(loc = 0)\n",
    "plt.show()\n",
    "\n",
    "fig.savefig(r'{loc}\\Autocorrelation function 31 steps probes 90 Hz mod 10.jpeg'.format(loc = PulseScheme_A_10micro['Measurement file Path'] ))"
   ]
  },
  {
   "cell_type": "code",
   "execution_count": 24,
   "metadata": {},
   "outputs": [],
   "source": [
    "time_delay = np.linspace(-200,200,31)"
   ]
  },
  {
   "cell_type": "code",
   "execution_count": 25,
   "metadata": {
    "scrolled": true
   },
   "outputs": [
    {
     "data": {
      "image/png": "[encoded data removed]",
      "text/plain": [
       "<Figure size 432x288 with 1 Axes>"
      ]
     },
     "metadata": {
      "needs_background": "light"
     },
     "output_type": "display_data"
    }
   ],
   "source": [
    "#change this to V regime\n",
    "fig,axes = plt.subplots()\n",
    "\n",
    "axes.grid(True)\n",
    "\n",
    "plt.plot(time_delay,average100micro,label=r'100$\\mu$s Probe Width ',color='green')\n",
    "#plt.plot(tm,pul,label = '{a} samples'.format(a = len(pul)))\n",
    "\n",
    "axes.set_xlabel(r'time delay [$\\mu$s]')\n",
    "axes.set_ylabel(r'STM Signal [V]')\n",
    "axes.set_title('Auto-Correlation 31 steps ')\n",
    "\n",
    "axes.legend(loc = 0)\n",
    "plt.show() \n",
    "\n",
    "fig.savefig(r'{loc}\\Autocorrelation function 31 steps probes 90 Hz mod 100.jpeg'.format(loc = PulseScheme_A_10micro['Measurement file Path'] ))"
   ]
  },
  {
   "cell_type": "code",
   "execution_count": null,
   "metadata": {},
   "outputs": [],
   "source": []
  }
 ],
 "metadata": {
  "interpreter": {
   "hash": "9a32f0bf53af15acd232504180dc0ef28b8a6ac1a49da0a6c374e1f45bb445b6"
  },
  "kernelspec": {
   "display_name": "Python 3.8.5 64-bit ('base': conda)",
   "name": "python3"
  },
  "language_info": {
   "codemirror_mode": {
    "name": "ipython",
    "version": 3
   },
   "file_extension": ".py",
   "mimetype": "text/x-python",
   "name": "python",
   "nbconvert_exporter": "python",
   "pygments_lexer": "ipython3",
   "version": "3.8.5"
  },
  "orig_nbformat": 4
 },
 "nbformat": 4,
 "nbformat_minor": 2
}
